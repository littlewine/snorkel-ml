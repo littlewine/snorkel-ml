{
 "cells": [
  {
   "cell_type": "code",
   "execution_count": 1,
   "metadata": {},
   "outputs": [],
   "source": [
    "%load_ext autoreload\n",
    "%autoreload 2\n",
    "%matplotlib inline\n",
    "experiment_name = 'CDR'"
   ]
  },
  {
   "cell_type": "code",
   "execution_count": 2,
   "metadata": {},
   "outputs": [
    {
     "name": "stdout",
     "output_type": "stream",
     "text": [
      "Setting up variables & DB connection for experiment:\n",
      "\n",
      "*******************\n",
      "CDR\n",
      "*******************\n"
     ]
    },
    {
     "name": "stderr",
     "output_type": "stream",
     "text": [
      "/home/antonis/anaconda2/envs/snorkel27clone/lib/python2.7/site-packages/psycopg2/__init__.py:144: UserWarning: The psycopg2 wheel package will be renamed from release 2.8; in order to keep installing from binary please use \"pip install psycopg2-binary\" instead. For details see: <http://initd.org/psycopg/docs/install.html#binary-install-from-pypi>.\n",
      "  \"\"\")\n"
     ]
    },
    {
     "name": "stdout",
     "output_type": "stream",
     "text": [
      "\n",
      "Snorkel session connected to:  postgres:///snorkelCDR\n"
     ]
    }
   ],
   "source": [
    "# %run init.py\n",
    "\n",
    "print \"Setting up variables & DB connection for experiment:\\n\"\n",
    "print \"*******************\\n%s\\n*******************\"%experiment_name\n",
    "\n",
    "# point to appropriate DBs, pickle files etc.\n",
    "pkl_paths = 'pickles/%s/'%experiment_name\n",
    "path_candidate_dict_pkl = pkl_paths+ 'candidate_dict.pickle' # TODO rename that\n",
    "path_pubmed_ids_pkl = pkl_paths + 'pubmed_ids.pickle'\n",
    "path_base_learners = pkl_paths + 'base_learner_predictions' # TODO create dirs\n",
    "\n",
    "\n",
    "# Shortcuts to connect to database, initialize candidate subclass and return snorkel session\n",
    "import os\n",
    "#TODO: set experiment_name and restructure dir\n",
    "os.environ['SNORKELDB'] = 'postgres:///snorkel'+experiment_name\n",
    "\n",
    "from snorkel import SnorkelSession\n",
    "session = SnorkelSession()\n",
    "from snorkel.models import  Document, Sentence\n",
    "import matplotlib.pyplot as plt\n",
    "from snorkel.annotations import save_marginals\n",
    "from snorkel.models import Candidate, candidate_subclass\n",
    "ChemicalDisease = candidate_subclass('ChemicalDisease', ['chemical', 'disease'])\n",
    "\n",
    "print \"\\nSnorkel session connected to: \",os.environ['SNORKELDB']"
   ]
  },
  {
   "cell_type": "code",
   "execution_count": 3,
   "metadata": {},
   "outputs": [],
   "source": [
    "# Rebuild text\n",
    "from sklearn_bridge import recreate_text_representation, candidate_dict_to_df\n",
    "import numpy as np"
   ]
  },
  {
   "cell_type": "code",
   "execution_count": 4,
   "metadata": {},
   "outputs": [],
   "source": [
    "from MLutils import report_to_df, train_evaluate"
   ]
  },
  {
   "cell_type": "code",
   "execution_count": 5,
   "metadata": {},
   "outputs": [],
   "source": [
    "import pickle, time, seaborn, codecs\n",
    "import pandas as pd\n",
    "from sklearn.metrics import f1_score, classification_report"
   ]
  },
  {
   "cell_type": "code",
   "execution_count": 6,
   "metadata": {},
   "outputs": [
    {
     "name": "stdout",
     "output_type": "stream",
     "text": [
      "Split = 0 : imported 2860 candidates\n",
      "Split = 1 : imported 920 candidates\n",
      "Split = 2 : imported 4680 candidates\n",
      "Split = 3 : imported 5576 candidates\n"
     ]
    }
   ],
   "source": [
    "with open(path_candidate_dict_pkl, 'rb') as f:\n",
    "    candidate_dict = pickle.load(f)\n",
    "\n",
    "for splt in candidate_dict.keys():\n",
    "    print \"Split = %i : imported %i candidates\" %(splt, len(candidate_dict[splt].keys()))"
   ]
  },
  {
   "cell_type": "markdown",
   "metadata": {},
   "source": [
    "# Load train, dev, test datasets"
   ]
  },
  {
   "cell_type": "code",
   "execution_count": 7,
   "metadata": {
    "scrolled": true
   },
   "outputs": [],
   "source": [
    "trim_text = False\n",
    "trim_window = 0\n",
    "use_lemmas = True\n",
    "\n",
    "df_train = candidate_dict_to_df(candidate_dict[0],trim_text=trim_text, window=trim_window, lemmas = use_lemmas ).sort_index()\n",
    "df_val = candidate_dict_to_df(candidate_dict[1],trim_text=trim_text, window=trim_window, lemmas = use_lemmas ).sort_index()\n",
    "df_test = candidate_dict_to_df(candidate_dict[2],trim_text=trim_text, window=trim_window, lemmas = use_lemmas ).sort_index()\n",
    "\n",
    "df_unlab = candidate_dict_to_df(candidate_dict[3],trim_text=trim_text, window=trim_window, lemmas = use_lemmas ).sort_index()\n",
    "df_unlab['label']=np.NaN"
   ]
  },
  {
   "cell_type": "code",
   "execution_count": 8,
   "metadata": {},
   "outputs": [],
   "source": [
    "def remove_line_breaks(df):\n",
    "    df['text'] = map(lambda x: x.replace('\\n', ' ' ),df.text)\n",
    "    return df"
   ]
  },
  {
   "cell_type": "code",
   "execution_count": null,
   "metadata": {},
   "outputs": [],
   "source": []
  },
  {
   "cell_type": "code",
   "execution_count": 9,
   "metadata": {},
   "outputs": [],
   "source": [
    "def save_dataset_and_get_ids(df, path):\n",
    "    \"\"\"Splits data into positive and negative examples and returns a list of all the ids seperated\"\"\"\n",
    "    df = remove_line_breaks(df)\n",
    "    \n",
    "    if not np.isnan(df.label).any(): #means we have labels\n",
    "        df_pos = df[df.label==1]\n",
    "        df_neg = df[df.label==-1]\n",
    "\n",
    "        df_pos.to_csv(path+'.pos',header=False,index= False,encoding='utf-8', columns=[ 'text'],\n",
    "                   sep= ' ')\n",
    "        df_neg.to_csv(path+'.neg',header=False,index= False,encoding='utf-8', columns=[ 'text'],\n",
    "                   sep= ' ')\n",
    "        \n",
    "        #keep the order of indices after reshuffling\n",
    "        ids = list(df_pos.index)\n",
    "        ids = ids + list(df_neg.index)\n",
    "        return ids\n",
    "    else:\n",
    "        \n",
    "        df.to_csv(path+'.nolabels',header=False,index= False,encoding='utf-8', columns=[ 'text'],\n",
    "                   sep= ' ')\n",
    "        return list(df.index)\n",
    "    return"
   ]
  },
  {
   "cell_type": "code",
   "execution_count": 10,
   "metadata": {},
   "outputs": [],
   "source": [
    "train_ids = save_dataset_and_get_ids(df_train, path_base_learners+'/cnn/df_train')\n",
    "\n",
    "val_ids = save_dataset_and_get_ids(df_val, path_base_learners+'/cnn/df_val')\n",
    "\n",
    "test_ids = save_dataset_and_get_ids(df_test, path_base_learners+'/cnn/df_test')\n",
    "\n",
    "unlab_ids = save_dataset_and_get_ids(df_unlab, path_base_learners+'/cnn/df_unlab')"
   ]
  },
  {
   "cell_type": "markdown",
   "metadata": {},
   "source": [
    "# CNN-text-classification"
   ]
  },
  {
   "cell_type": "markdown",
   "metadata": {},
   "source": [
    "** data_helpers.py **"
   ]
  },
  {
   "cell_type": "code",
   "execution_count": 11,
   "metadata": {},
   "outputs": [],
   "source": [
    "import numpy as np\n",
    "import re\n",
    "import itertools\n",
    "from collections import Counter"
   ]
  },
  {
   "cell_type": "code",
   "execution_count": 12,
   "metadata": {},
   "outputs": [],
   "source": [
    "def clean_str(string):\n",
    "    \"\"\"\n",
    "    Tokenization/string cleaning for datasets.\n",
    "    Original taken from https://github.com/yoonkim/CNN_sentence/blob/master/process_data.py\n",
    "    \"\"\"\n",
    "    string = re.sub(r\"[^A-Za-z0-9(),!?\\'\\`]\", \" \", string)\n",
    "    string = re.sub(r\"\\'s\", \" \\'s\", string)\n",
    "    string = re.sub(r\"\\'ve\", \" \\'ve\", string)\n",
    "    string = re.sub(r\"n\\'t\", \" n\\'t\", string)\n",
    "    string = re.sub(r\"\\'re\", \" \\'re\", string)\n",
    "    string = re.sub(r\"\\'d\", \" \\'d\", string)\n",
    "    string = re.sub(r\"\\'ll\", \" \\'ll\", string)\n",
    "    string = re.sub(r\",\", \" , \", string)\n",
    "    string = re.sub(r\"!\", \" ! \", string)\n",
    "    string = re.sub(r\"\\(\", \" \\( \", string)\n",
    "    string = re.sub(r\"\\)\", \" \\) \", string)\n",
    "    string = re.sub(r\"\\?\", \" \\? \", string)\n",
    "    string = re.sub(r\"\\s{2,}\", \" \", string)\n",
    "    return string.strip().lower()\n",
    "\n"
   ]
  },
  {
   "cell_type": "code",
   "execution_count": null,
   "metadata": {},
   "outputs": [],
   "source": []
  },
  {
   "cell_type": "code",
   "execution_count": 45,
   "metadata": {},
   "outputs": [],
   "source": [
    "# Probably not needed, can be loaded directly as df / matrix later\n",
    "\n",
    "\n",
    "def load_data_and_labels(pos_file, neg_file=None):\n",
    "    \"\"\"\n",
    "    Loads polarity data from files, splits the data into words and generates labels.\n",
    "    Returns split sentences and labels.\n",
    "    \"\"\"\n",
    "    # Load data from files\n",
    "    positive_examples = list(codecs.open(pos_file, \"r\", encoding='utf-8' ).readlines())\n",
    "    positive_examples = [s.strip() for s in positive_examples]\n",
    "    if neg_file:\n",
    "        negative_examples = list(codecs.open(neg_file, \"r\", encoding='utf-8').readlines())\n",
    "        negative_examples = [s.strip() for s in negative_examples]\n",
    "        x_text = positive_examples + negative_examples\n",
    "    else:\n",
    "        negative_examples = None\n",
    "        x_text = positive_examples\n",
    "        \n",
    "    # Split by words\n",
    "    x_text = [clean_str(sent) for sent in x_text]\n",
    "    x_text = [s.split(\" \") for s in x_text]\n",
    "    # Generate labels\n",
    "    if neg_file is not None:\n",
    "        positive_labels = [[0, 1] for _ in positive_examples]\n",
    "        negative_labels = [[1, 0] for _ in negative_examples]\n",
    "        y = np.concatenate([positive_labels, negative_labels], 0)\n",
    "        return [x_text, y]\n",
    "    else:\n",
    "        return x_text"
   ]
  },
  {
   "cell_type": "code",
   "execution_count": 46,
   "metadata": {},
   "outputs": [],
   "source": [
    "def pad_sentences(sentences, padding_word=\"<PAD/>\", sequence_length = 64):\n",
    "    \"\"\"\n",
    "    Pads all sentences to the same length. The length is defined by the longest sentence.\n",
    "    Returns padded sentences.\n",
    "    \"\"\"\n",
    "    \n",
    "#     sequence_length = max(len(x) for x in sentences)    #commented this out to avoid problems with building in new training data\n",
    "    padded_sentences = []\n",
    "    for i in range(len(sentences)):\n",
    "        sentence = sentences[i]\n",
    "        num_padding = max(0,sequence_length - len(sentence))\n",
    "        if num_padding>0:\n",
    "            new_sentence = sentence + [padding_word] * num_padding\n",
    "        else: #crop sentence\n",
    "            new_sentence = sentence[:sequence_length]\n",
    "        padded_sentences.append(new_sentence)\n",
    "    return padded_sentences"
   ]
  },
  {
   "cell_type": "code",
   "execution_count": 47,
   "metadata": {},
   "outputs": [],
   "source": [
    "def build_vocab(sentences):\n",
    "    \"\"\"\n",
    "    Builds a vocabulary mapping from word to index based on the sentences.\n",
    "    Returns vocabulary mapping and inverse vocabulary mapping.\n",
    "    \"\"\"\n",
    "    # Build vocabulary\n",
    "    word_counts = Counter(itertools.chain(*sentences))\n",
    "    # Mapping from index to word\n",
    "    vocabulary_inv = [x[0] for x in word_counts.most_common()]\n",
    "    vocabulary_inv = list(sorted(vocabulary_inv))\n",
    "    # Mapping from word to index\n",
    "    vocabulary = {x: i for i, x in enumerate(vocabulary_inv)}\n",
    "    return [vocabulary, vocabulary_inv]"
   ]
  },
  {
   "cell_type": "code",
   "execution_count": null,
   "metadata": {},
   "outputs": [],
   "source": []
  },
  {
   "cell_type": "code",
   "execution_count": 48,
   "metadata": {},
   "outputs": [],
   "source": [
    "def build_input_data(sentences, labels=None, vocabulary=None):\n",
    "    \"\"\"\n",
    "    Maps sentences and labels to vectors based on a vocabulary.\n",
    "    \"\"\"\n",
    "    x = np.array([[vocabulary[word] for word in sentence] for sentence in sentences])\n",
    "    y = np.array(labels)\n",
    "    return [x, y]"
   ]
  },
  {
   "cell_type": "code",
   "execution_count": null,
   "metadata": {},
   "outputs": [],
   "source": []
  },
  {
   "cell_type": "code",
   "execution_count": 49,
   "metadata": {},
   "outputs": [],
   "source": [
    "def load_data():\n",
    "    \"\"\"\n",
    "    Loads and preprocessed data for the dataset.\n",
    "    Returns input vectors, labels, vocabulary, and inverse vocabulary.\n",
    "    \"\"\"\n",
    "    # Load and preprocess data\n",
    "    train_sentences, train_labels = load_data_and_labels(pos_file=path_base_learners+'/cnn/df_train.pos', neg_file=path_base_learners+'/cnn/df_train.neg')\n",
    "    val_sentences, val_labels = load_data_and_labels(pos_file=path_base_learners+'/cnn/df_val.pos', neg_file=path_base_learners+'/cnn/df_val.neg')\n",
    "    test_sentences, test_labels = load_data_and_labels(pos_file=path_base_learners+'/cnn/df_test.pos', neg_file=path_base_learners+'/cnn/df_test.neg')\n",
    "    unlab_sentences = load_data_and_labels(pos_file=path_base_learners+'/cnn/df_unlab.nolabels')\n",
    "    \n",
    "    # sentences to build vocab\n",
    "    all_sentences = train_sentences+val_sentences+test_sentences+unlab_sentences\n",
    "    \n",
    "    \n",
    "    train_sentences_padded = pad_sentences(train_sentences)\n",
    "    val_sentences_padded = pad_sentences(val_sentences)\n",
    "    test_sentences_padded = pad_sentences(test_sentences)\n",
    "    unlab_sentences_padded = pad_sentences(unlab_sentences)\n",
    "    \n",
    "    \n",
    "    #probably need to create all vocab and then split to val, test etc\n",
    "    vocabulary, vocabulary_inv = build_vocab(pad_sentences(all_sentences))\n",
    "    \n",
    "    x_train, y_train = build_input_data(train_sentences_padded, train_labels, vocabulary)    \n",
    "    x_val, y_val = build_input_data(val_sentences_padded, val_labels, vocabulary)\n",
    "    x_test, y_test = build_input_data(test_sentences_padded, test_labels, vocabulary)\n",
    "    x_unlab, _ = build_input_data(unlab_sentences_padded, val_labels, vocabulary) #passing dummy labels here, not using them afterwards\n",
    "    \n",
    "    \n",
    "    return [x_train, y_train, x_val, y_val, x_test, y_test, x_unlab, vocabulary, vocabulary_inv ]\n"
   ]
  },
  {
   "cell_type": "code",
   "execution_count": null,
   "metadata": {},
   "outputs": [],
   "source": []
  },
  {
   "cell_type": "code",
   "execution_count": null,
   "metadata": {},
   "outputs": [],
   "source": []
  },
  {
   "cell_type": "markdown",
   "metadata": {},
   "source": [
    "** model.py **"
   ]
  },
  {
   "cell_type": "code",
   "execution_count": 50,
   "metadata": {},
   "outputs": [],
   "source": [
    "from keras.layers import Input, Dense, Embedding, Conv2D, MaxPool2D"
   ]
  },
  {
   "cell_type": "code",
   "execution_count": 51,
   "metadata": {},
   "outputs": [],
   "source": [
    "\n",
    "from keras.layers import Reshape, Flatten, Dropout, Concatenate\n",
    "from keras.callbacks import ModelCheckpoint\n",
    "from keras.optimizers import Adam\n",
    "from keras.models import Model"
   ]
  },
  {
   "cell_type": "code",
   "execution_count": 52,
   "metadata": {},
   "outputs": [
    {
     "name": "stdout",
     "output_type": "stream",
     "text": [
      "Loading data\n"
     ]
    }
   ],
   "source": [
    "print('Loading data')\n",
    "# x, y, vocabulary, vocabulary_inv = load_data()\n",
    "\n",
    "# Define max sequence length / or infer from training set (creates problem in new vocab though)\n",
    "sequence_length = 64 # 56\n",
    "\n",
    "X_train, y_train, X_val, y_val, X_test, y_test, X_unlab, vocabulary, vocabulary_inv = load_data()\n",
    "# sequence_length = X_train.shape[1] # 56\n",
    "\n",
    "vocabulary_size = len(vocabulary_inv) # 18765\n"
   ]
  },
  {
   "cell_type": "code",
   "execution_count": null,
   "metadata": {},
   "outputs": [],
   "source": []
  },
  {
   "cell_type": "markdown",
   "metadata": {},
   "source": [
    "** Balance training set (either with class weights or undersampling) **"
   ]
  },
  {
   "cell_type": "code",
   "execution_count": 53,
   "metadata": {
    "scrolled": true
   },
   "outputs": [],
   "source": [
    "# sample_weights = dict(pd.Series(map(lambda x: x[0],y_train)).value_counts()) # inverse class_count\n",
    "# sample_weights"
   ]
  },
  {
   "cell_type": "code",
   "execution_count": 54,
   "metadata": {},
   "outputs": [],
   "source": [
    "# sample_weights = {0: 3302., 1: 9685.}"
   ]
  },
  {
   "cell_type": "code",
   "execution_count": null,
   "metadata": {},
   "outputs": [],
   "source": []
  },
  {
   "cell_type": "code",
   "execution_count": 55,
   "metadata": {},
   "outputs": [],
   "source": [
    "# from MLutils import balance_candidates\n",
    "\n",
    "# X_train_us, y_train_us = balance_candidates(X_train, list(map(lambda x: x[0],y_train)))\n",
    "# y_train_us = np.array(map(lambda x: np.array([1,0] if x==0 else np.array([0,1])),y_train_us))"
   ]
  },
  {
   "cell_type": "markdown",
   "metadata": {},
   "source": [
    "** train params **"
   ]
  },
  {
   "cell_type": "code",
   "execution_count": 56,
   "metadata": {},
   "outputs": [],
   "source": [
    "embedding_dim = 100 # original: 256\n",
    "filter_sizes = [3,4,5]\n",
    "num_filters = 512\n",
    "drop = 0.5\n",
    "\n",
    "epochs = 20\n",
    "batch_size = 32\n",
    "sequence_length = X_train.shape[-1]"
   ]
  },
  {
   "cell_type": "markdown",
   "metadata": {},
   "source": [
    "# Fix F1 metric"
   ]
  },
  {
   "cell_type": "code",
   "execution_count": 57,
   "metadata": {},
   "outputs": [],
   "source": [
    "# from https://medium.com/@thongonary/how-to-compute-f1-score-for-each-epoch-in-keras-a1acd17715a2\n",
    "import numpy as np\n",
    "from keras.callbacks import Callback\n",
    "from sklearn.metrics import confusion_matrix, f1_score, precision_score, recall_score, precision_recall_fscore_support\n",
    "\n",
    "class Metrics(Callback):\n",
    "\n",
    "    def __init__(self, val_data, logs={}):\n",
    "        self.val_f1s = []\n",
    "        self.val_recalls = []\n",
    "        self.val_precisions = []\n",
    "        self.val_data = val_data\n",
    "        \n",
    "    def on_epoch_end(self, epoch, logs={}):\n",
    "        \n",
    "        val_predict = (np.asarray(self.model.predict(self.val_data[0]))).round()\n",
    "        val_predict = map(lambda x: int(x[1]),val_predict)\n",
    "        val_targ = self.val_data[1]\n",
    "        val_targ = map(lambda x: x[1],val_targ)\n",
    "        \n",
    "#         _val_f1 = f1_score(val_targ, val_predict,)\n",
    "#         _val_recall = recall_score(val_targ, val_predict)\n",
    "#         _val_precision = precision_score(val_targ, val_predict)\n",
    "        \n",
    "        _val_precision,_val_recall,_val_f1, support = precision_recall_fscore_support(val_targ, val_predict)\n",
    "        \n",
    "        #due to the fact that the positive class is [0,1], we discard the first elemts (correspond to neg class)\n",
    "        _val_f1 = _val_f1[1]\n",
    "        _val_precision = _val_precision[1]\n",
    "        _val_recall = _val_recall[1]\n",
    "        \n",
    "        self.val_f1s.append(_val_f1)\n",
    "        self.val_recalls.append(_val_recall)\n",
    "        self.val_precisions.append(_val_precision)\n",
    "        \n",
    "#         print 'val_targ[:10]',val_targ[:10],'\\n', 'val_predict[:10]',val_predict[:10],'\\n'\n",
    "        \n",
    "#         print '_val_f1',_val_f1\n",
    "#         print 'support',support\n",
    "        \n",
    "        \n",
    "        print '\\n— val_f1: %.2f — val_precision: %.2f — val_recall %.2f\\n' %(_val_f1, _val_precision, _val_recall)\n",
    "#         print _val_f1\n",
    "#         print _val_precision\n",
    "#         print _val_recall\n",
    "        print ''\n",
    "        return\n"
   ]
  },
  {
   "cell_type": "code",
   "execution_count": null,
   "metadata": {},
   "outputs": [],
   "source": []
  },
  {
   "cell_type": "markdown",
   "metadata": {},
   "source": [
    "** model building **"
   ]
  },
  {
   "cell_type": "code",
   "execution_count": 58,
   "metadata": {},
   "outputs": [],
   "source": [
    "def create_model(): # required for KerasClassifier\n",
    "    # this returns a tensor\n",
    "    print(\"Creating Model...\")\n",
    "    inputs = Input(shape=(sequence_length,), dtype='int32')\n",
    "    embedding = Embedding(input_dim=vocabulary_size, output_dim=embedding_dim, input_length=sequence_length)(inputs)\n",
    "    reshape = Reshape((sequence_length,embedding_dim,1))(embedding)\n",
    "\n",
    "    conv_0 = Conv2D(num_filters, kernel_size=(filter_sizes[0], embedding_dim), padding='valid', kernel_initializer='normal', activation='relu')(reshape)\n",
    "    conv_1 = Conv2D(num_filters, kernel_size=(filter_sizes[1], embedding_dim), padding='valid', kernel_initializer='normal', activation='relu')(reshape)\n",
    "    conv_2 = Conv2D(num_filters, kernel_size=(filter_sizes[2], embedding_dim), padding='valid', kernel_initializer='normal', activation='relu')(reshape)\n",
    "\n",
    "    maxpool_0 = MaxPool2D(pool_size=(sequence_length - filter_sizes[0] + 1, 1), strides=(1,1), padding='valid')(conv_0)\n",
    "    maxpool_1 = MaxPool2D(pool_size=(sequence_length - filter_sizes[1] + 1, 1), strides=(1,1), padding='valid')(conv_1)\n",
    "    maxpool_2 = MaxPool2D(pool_size=(sequence_length - filter_sizes[2] + 1, 1), strides=(1,1), padding='valid')(conv_2)\n",
    "\n",
    "    concatenated_tensor = Concatenate(axis=1)([maxpool_0, maxpool_1, maxpool_2])\n",
    "    concatenated_tensor = Concatenate(axis=1)([maxpool_0, maxpool_1])\n",
    "\n",
    "    flatten = Flatten()(concatenated_tensor)\n",
    "    dropout = Dropout(drop)(flatten)\n",
    "    output = Dense(units=2, activation='softmax')(dropout)\n",
    "\n",
    "    # this creates a model that includes\n",
    "    model = Model(inputs=inputs, outputs=output)\n",
    "\n",
    "    checkpoint = ModelCheckpoint('cnn/weights.{epoch:03d}-{val_acc:.4f}.hdf5', monitor='val_acc', verbose=1, save_best_only=True, mode='auto')\n",
    "    adam = Adam(lr=1e-4, beta_1=0.9, beta_2=0.999, epsilon=1e-08, decay=0.0)\n",
    "    \n",
    "    \n",
    "    model.compile(optimizer=adam, loss='binary_crossentropy', metrics=['accuracy'])\n",
    "    \n",
    "    return model\n",
    "\n",
    "\n",
    "metrics = Metrics((X_val,y_val))"
   ]
  },
  {
   "cell_type": "code",
   "execution_count": 59,
   "metadata": {},
   "outputs": [],
   "source": [
    "from keras.callbacks import EarlyStopping"
   ]
  },
  {
   "cell_type": "code",
   "execution_count": 60,
   "metadata": {},
   "outputs": [],
   "source": [
    "# Wrap as sklearn classifier for learning curves\n",
    "from keras.wrappers.scikit_learn import KerasClassifier\n",
    "\n",
    "epochs = 10\n",
    "\n",
    "model = KerasClassifier(build_fn=create_model , batch_size=batch_size, epochs=epochs, verbose=1, ) #callbacks = [EarlyStopping(patience=0)] ) #callbacks=[metrics])#, epochs=150, batch_size=10, verbose=0)\n",
    "\n",
    "model = KerasClassifier(create_model ,callbacks=[EarlyStopping(patience=0)],  batch_size=batch_size, epochs=epochs, verbose=1,)   #callbacks = [EarlyStopping(patience=0)] ) #callbacks=[metrics])#, epochs=150, batch_size=10, verbose=0)\n"
   ]
  },
  {
   "cell_type": "code",
   "execution_count": 61,
   "metadata": {},
   "outputs": [],
   "source": [
    "# epochs=20"
   ]
  },
  {
   "cell_type": "code",
   "execution_count": 62,
   "metadata": {},
   "outputs": [],
   "source": [
    "# Skip for now - try class weights"
   ]
  },
  {
   "cell_type": "code",
   "execution_count": 63,
   "metadata": {},
   "outputs": [
    {
     "data": {
      "text/plain": [
       "2156"
      ]
     },
     "execution_count": 63,
     "metadata": {},
     "output_type": "execute_result"
    }
   ],
   "source": [
    "from imblearn.under_sampling import RandomUnderSampler\n",
    "\n",
    "rus = RandomUnderSampler()\n",
    "\n",
    "y_train_bin = list(map(lambda x: x[1],y_train))\n",
    "X_train_us, y_train_us = rus.fit_sample(X_train,y_train_bin)\n",
    "\n",
    "\n",
    "y_train_us = np.array(map(lambda x: [0,1] if x==1 else [1,0],y_train_us)) #convert back to logits\n",
    "\n",
    "len(X_train_us)"
   ]
  },
  {
   "cell_type": "code",
   "execution_count": 64,
   "metadata": {
    "scrolled": true
   },
   "outputs": [
    {
     "data": {
      "text/plain": [
       "(2156, 64)"
      ]
     },
     "execution_count": 64,
     "metadata": {},
     "output_type": "execute_result"
    }
   ],
   "source": [
    "X_train_us.shape"
   ]
  },
  {
   "cell_type": "code",
   "execution_count": 65,
   "metadata": {},
   "outputs": [
    {
     "data": {
      "text/plain": [
       "array([[0, 1],\n",
       "       [0, 1],\n",
       "       [0, 1],\n",
       "       ...,\n",
       "       [1, 0],\n",
       "       [1, 0],\n",
       "       [1, 0]])"
      ]
     },
     "execution_count": 65,
     "metadata": {},
     "output_type": "execute_result"
    }
   ],
   "source": [
    "y_train"
   ]
  },
  {
   "cell_type": "code",
   "execution_count": null,
   "metadata": {},
   "outputs": [],
   "source": []
  },
  {
   "cell_type": "code",
   "execution_count": null,
   "metadata": {},
   "outputs": [],
   "source": []
  },
  {
   "cell_type": "code",
   "execution_count": 66,
   "metadata": {},
   "outputs": [],
   "source": [
    "# # with undersampling \n",
    "\n",
    "# model.compile(optimizer=adam, loss='binary_crossentropy', metrics=['accuracy', f1])\n",
    "# print(\"Traning Model...\")\n",
    "# model.fit(X_train_us, y_train_us, batch_size=batch_size, epochs=epochs, verbose=1, callbacks=[checkpoint], \n",
    "#          validation_data=(X_val, y_val),\n",
    "#          )  # starts training\n"
   ]
  },
  {
   "cell_type": "code",
   "execution_count": 67,
   "metadata": {},
   "outputs": [],
   "source": [
    "# use val_labels for y_val"
   ]
  },
  {
   "cell_type": "code",
   "execution_count": 68,
   "metadata": {},
   "outputs": [],
   "source": [
    "from MLutils import balance_candidates"
   ]
  },
  {
   "cell_type": "code",
   "execution_count": 69,
   "metadata": {},
   "outputs": [
    {
     "data": {
      "text/plain": [
       "array([2174, 3018, 4520, 2175,  390,  390,  390,  390,  390,  390,  390,\n",
       "        390,  390,  390,  390,  390,  390,  390,  390,  390,  390,  390,\n",
       "        390,  390,  390,  390,  390,  390,  390,  390,  390,  390,  390,\n",
       "        390,  390,  390,  390,  390,  390,  390,  390,  390,  390,  390,\n",
       "        390,  390,  390,  390,  390,  390,  390,  390,  390,  390,  390,\n",
       "        390,  390,  390,  390,  390,  390,  390,  390,  390])"
      ]
     },
     "execution_count": 69,
     "metadata": {},
     "output_type": "execute_result"
    }
   ],
   "source": [
    "X_train[0]"
   ]
  },
  {
   "cell_type": "code",
   "execution_count": 70,
   "metadata": {},
   "outputs": [
    {
     "data": {
      "text/plain": [
       "array([[2174, 3018, 4520, ...,  390,  390,  390],\n",
       "       [5909, 2175, 2464, ...,  390,  390,  390],\n",
       "       [2175,  866, 6289, ...,  390,  390,  390],\n",
       "       ...,\n",
       "       [2174,  676, 1275, ...,  390,  390,  390],\n",
       "       [1275, 1275,  676, ...,  390,  390,  390],\n",
       "       [1275, 1275,  676, ...,  390,  390,  390]])"
      ]
     },
     "execution_count": 70,
     "metadata": {},
     "output_type": "execute_result"
    }
   ],
   "source": [
    "X_train"
   ]
  },
  {
   "cell_type": "code",
   "execution_count": 71,
   "metadata": {},
   "outputs": [],
   "source": [
    "X_train_us, y_train_us = balance_candidates(X_train,y_train[:,1])"
   ]
  },
  {
   "cell_type": "code",
   "execution_count": 72,
   "metadata": {},
   "outputs": [
    {
     "data": {
      "text/plain": [
       "array([0, 1, 0, ..., 1, 1, 0])"
      ]
     },
     "execution_count": 72,
     "metadata": {},
     "output_type": "execute_result"
    }
   ],
   "source": [
    "y_train_us"
   ]
  },
  {
   "cell_type": "code",
   "execution_count": null,
   "metadata": {},
   "outputs": [],
   "source": []
  },
  {
   "cell_type": "code",
   "execution_count": 73,
   "metadata": {},
   "outputs": [
    {
     "data": {
      "text/plain": [
       "(array([[5777, 1641, 1701, ...,  390,  390,  390],\n",
       "        [5777, 1641, 1701, ...,  390,  390,  390],\n",
       "        [5777, 1641, 1701, ...,  390,  390,  390],\n",
       "        ...,\n",
       "        [4089, 5851, 2258, ...,  390,  390,  390],\n",
       "        [4089, 5851, 2258, ...,  390,  390,  390],\n",
       "        [4089, 5851, 2258, ...,  390,  390,  390]]), array([[0, 1],\n",
       "        [0, 1],\n",
       "        [0, 1],\n",
       "        ...,\n",
       "        [1, 0],\n",
       "        [1, 0],\n",
       "        [1, 0]]))"
      ]
     },
     "execution_count": 73,
     "metadata": {},
     "output_type": "execute_result"
    }
   ],
   "source": [
    "X_val, y_val"
   ]
  },
  {
   "cell_type": "code",
   "execution_count": 75,
   "metadata": {},
   "outputs": [],
   "source": [
    "# print(\"Traning Model...\")\n",
    "# model.fit(X_train_us, y_train_us, batch_size=batch_size, epochs=2*epochs, verbose=1, callbacks=[], \n",
    "#          validation_data=(X_val, y_val),\n",
    "#          )  # starts training\n"
   ]
  },
  {
   "cell_type": "markdown",
   "metadata": {},
   "source": [
    "# Normal training - without learning curves"
   ]
  },
  {
   "cell_type": "code",
   "execution_count": 81,
   "metadata": {},
   "outputs": [
    {
     "data": {
      "text/plain": [
       "920"
      ]
     },
     "execution_count": 81,
     "metadata": {},
     "output_type": "execute_result"
    }
   ],
   "source": [
    "len(y_val)"
   ]
  },
  {
   "cell_type": "code",
   "execution_count": null,
   "metadata": {},
   "outputs": [],
   "source": []
  },
  {
   "cell_type": "code",
   "execution_count": 82,
   "metadata": {
    "scrolled": false
   },
   "outputs": [
    {
     "name": "stdout",
     "output_type": "stream",
     "text": [
      "Traning Model...\n",
      "Creating Model...\n"
     ]
    },
    {
     "ename": "ValueError",
     "evalue": "Error when checking model input: the list of Numpy arrays that you are passing to your model is not the size the model expected. Expected to see 1 array(s), but instead got the following list of 2156 arrays: [array([[4742],\n       [ 984],\n       [6277],\n       [1005],\n       [5776],\n       [1275],\n       [ 391],\n       [2174],\n       [ 392],\n       [3569],\n       [1275],\n       [ 391],\n       [1275],\n    ...",
     "output_type": "error",
     "traceback": [
      "\u001b[0;31m---------------------------------------------------------------------------\u001b[0m",
      "\u001b[0;31mValueError\u001b[0m                                Traceback (most recent call last)",
      "\u001b[0;32m<ipython-input-82-f64390082ed4>\u001b[0m in \u001b[0;36m<module>\u001b[0;34m()\u001b[0m\n\u001b[1;32m      1\u001b[0m \u001b[0;32mprint\u001b[0m\u001b[0;34m(\u001b[0m\u001b[0;34m\"Traning Model...\"\u001b[0m\u001b[0;34m)\u001b[0m\u001b[0;34m\u001b[0m\u001b[0m\n\u001b[0;32m----> 2\u001b[0;31m model.fit(X_train_us, y_train_us, batch_size=batch_size, epochs=2*epochs, verbose=1, #callbacks=[metrics], \n\u001b[0m\u001b[1;32m      3\u001b[0m          \u001b[0;31m#validation_data=(X_val, y_val),\u001b[0m\u001b[0;34m\u001b[0m\u001b[0;34m\u001b[0m\u001b[0m\n\u001b[1;32m      4\u001b[0m          )  # starts training\n",
      "\u001b[0;32m/home/antonis/anaconda2/envs/snorkel27clone/lib/python2.7/site-packages/keras/wrappers/scikit_learn.pyc\u001b[0m in \u001b[0;36mfit\u001b[0;34m(self, x, y, sample_weight, **kwargs)\u001b[0m\n\u001b[1;32m    207\u001b[0m         \u001b[0;32mif\u001b[0m \u001b[0msample_weight\u001b[0m \u001b[0;32mis\u001b[0m \u001b[0;32mnot\u001b[0m \u001b[0mNone\u001b[0m\u001b[0;34m:\u001b[0m\u001b[0;34m\u001b[0m\u001b[0m\n\u001b[1;32m    208\u001b[0m             \u001b[0mkwargs\u001b[0m\u001b[0;34m[\u001b[0m\u001b[0;34m'sample_weight'\u001b[0m\u001b[0;34m]\u001b[0m \u001b[0;34m=\u001b[0m \u001b[0msample_weight\u001b[0m\u001b[0;34m\u001b[0m\u001b[0m\n\u001b[0;32m--> 209\u001b[0;31m         \u001b[0;32mreturn\u001b[0m \u001b[0msuper\u001b[0m\u001b[0;34m(\u001b[0m\u001b[0mKerasClassifier\u001b[0m\u001b[0;34m,\u001b[0m \u001b[0mself\u001b[0m\u001b[0;34m)\u001b[0m\u001b[0;34m.\u001b[0m\u001b[0mfit\u001b[0m\u001b[0;34m(\u001b[0m\u001b[0mx\u001b[0m\u001b[0;34m,\u001b[0m \u001b[0my\u001b[0m\u001b[0;34m,\u001b[0m \u001b[0;34m**\u001b[0m\u001b[0mkwargs\u001b[0m\u001b[0;34m)\u001b[0m\u001b[0;34m\u001b[0m\u001b[0m\n\u001b[0m\u001b[1;32m    210\u001b[0m \u001b[0;34m\u001b[0m\u001b[0m\n\u001b[1;32m    211\u001b[0m     \u001b[0;32mdef\u001b[0m \u001b[0mpredict\u001b[0m\u001b[0;34m(\u001b[0m\u001b[0mself\u001b[0m\u001b[0;34m,\u001b[0m \u001b[0mx\u001b[0m\u001b[0;34m,\u001b[0m \u001b[0;34m**\u001b[0m\u001b[0mkwargs\u001b[0m\u001b[0;34m)\u001b[0m\u001b[0;34m:\u001b[0m\u001b[0;34m\u001b[0m\u001b[0m\n",
      "\u001b[0;32m/home/antonis/anaconda2/envs/snorkel27clone/lib/python2.7/site-packages/keras/wrappers/scikit_learn.pyc\u001b[0m in \u001b[0;36mfit\u001b[0;34m(self, x, y, **kwargs)\u001b[0m\n\u001b[1;32m    149\u001b[0m         \u001b[0mfit_args\u001b[0m\u001b[0;34m.\u001b[0m\u001b[0mupdate\u001b[0m\u001b[0;34m(\u001b[0m\u001b[0mkwargs\u001b[0m\u001b[0;34m)\u001b[0m\u001b[0;34m\u001b[0m\u001b[0m\n\u001b[1;32m    150\u001b[0m \u001b[0;34m\u001b[0m\u001b[0m\n\u001b[0;32m--> 151\u001b[0;31m         \u001b[0mhistory\u001b[0m \u001b[0;34m=\u001b[0m \u001b[0mself\u001b[0m\u001b[0;34m.\u001b[0m\u001b[0mmodel\u001b[0m\u001b[0;34m.\u001b[0m\u001b[0mfit\u001b[0m\u001b[0;34m(\u001b[0m\u001b[0mx\u001b[0m\u001b[0;34m,\u001b[0m \u001b[0my\u001b[0m\u001b[0;34m,\u001b[0m \u001b[0;34m**\u001b[0m\u001b[0mfit_args\u001b[0m\u001b[0;34m)\u001b[0m\u001b[0;34m\u001b[0m\u001b[0m\n\u001b[0m\u001b[1;32m    152\u001b[0m \u001b[0;34m\u001b[0m\u001b[0m\n\u001b[1;32m    153\u001b[0m         \u001b[0;32mreturn\u001b[0m \u001b[0mhistory\u001b[0m\u001b[0;34m\u001b[0m\u001b[0m\n",
      "\u001b[0;32m/home/antonis/anaconda2/envs/snorkel27clone/lib/python2.7/site-packages/keras/engine/training.pyc\u001b[0m in \u001b[0;36mfit\u001b[0;34m(self, x, y, batch_size, epochs, verbose, callbacks, validation_split, validation_data, shuffle, class_weight, sample_weight, initial_epoch, steps_per_epoch, validation_steps, **kwargs)\u001b[0m\n\u001b[1;32m   1628\u001b[0m             \u001b[0msample_weight\u001b[0m\u001b[0;34m=\u001b[0m\u001b[0msample_weight\u001b[0m\u001b[0;34m,\u001b[0m\u001b[0;34m\u001b[0m\u001b[0m\n\u001b[1;32m   1629\u001b[0m             \u001b[0mclass_weight\u001b[0m\u001b[0;34m=\u001b[0m\u001b[0mclass_weight\u001b[0m\u001b[0;34m,\u001b[0m\u001b[0;34m\u001b[0m\u001b[0m\n\u001b[0;32m-> 1630\u001b[0;31m             batch_size=batch_size)\n\u001b[0m\u001b[1;32m   1631\u001b[0m         \u001b[0;31m# Prepare validation data.\u001b[0m\u001b[0;34m\u001b[0m\u001b[0;34m\u001b[0m\u001b[0m\n\u001b[1;32m   1632\u001b[0m         \u001b[0mdo_validation\u001b[0m \u001b[0;34m=\u001b[0m \u001b[0mFalse\u001b[0m\u001b[0;34m\u001b[0m\u001b[0m\n",
      "\u001b[0;32m/home/antonis/anaconda2/envs/snorkel27clone/lib/python2.7/site-packages/keras/engine/training.pyc\u001b[0m in \u001b[0;36m_standardize_user_data\u001b[0;34m(self, x, y, sample_weight, class_weight, check_array_lengths, batch_size)\u001b[0m\n\u001b[1;32m   1474\u001b[0m                                     \u001b[0mself\u001b[0m\u001b[0;34m.\u001b[0m\u001b[0m_feed_input_shapes\u001b[0m\u001b[0;34m,\u001b[0m\u001b[0;34m\u001b[0m\u001b[0m\n\u001b[1;32m   1475\u001b[0m                                     \u001b[0mcheck_batch_axis\u001b[0m\u001b[0;34m=\u001b[0m\u001b[0mFalse\u001b[0m\u001b[0;34m,\u001b[0m\u001b[0;34m\u001b[0m\u001b[0m\n\u001b[0;32m-> 1476\u001b[0;31m                                     exception_prefix='input')\n\u001b[0m\u001b[1;32m   1477\u001b[0m         y = _standardize_input_data(y, self._feed_output_names,\n\u001b[1;32m   1478\u001b[0m                                     \u001b[0moutput_shapes\u001b[0m\u001b[0;34m,\u001b[0m\u001b[0;34m\u001b[0m\u001b[0m\n",
      "\u001b[0;32m/home/antonis/anaconda2/envs/snorkel27clone/lib/python2.7/site-packages/keras/engine/training.pyc\u001b[0m in \u001b[0;36m_standardize_input_data\u001b[0;34m(data, names, shapes, check_batch_axis, exception_prefix)\u001b[0m\n\u001b[1;32m     84\u001b[0m                 \u001b[0;34m'Expected to see '\u001b[0m \u001b[0;34m+\u001b[0m \u001b[0mstr\u001b[0m\u001b[0;34m(\u001b[0m\u001b[0mlen\u001b[0m\u001b[0;34m(\u001b[0m\u001b[0mnames\u001b[0m\u001b[0;34m)\u001b[0m\u001b[0;34m)\u001b[0m \u001b[0;34m+\u001b[0m \u001b[0;34m' array(s), '\u001b[0m\u001b[0;34m\u001b[0m\u001b[0m\n\u001b[1;32m     85\u001b[0m                 \u001b[0;34m'but instead got the following list of '\u001b[0m \u001b[0;34m+\u001b[0m\u001b[0;34m\u001b[0m\u001b[0m\n\u001b[0;32m---> 86\u001b[0;31m                 str(len(data)) + ' arrays: ' + str(data)[:200] + '...')\n\u001b[0m\u001b[1;32m     87\u001b[0m         \u001b[0;32melif\u001b[0m \u001b[0mlen\u001b[0m\u001b[0;34m(\u001b[0m\u001b[0mnames\u001b[0m\u001b[0;34m)\u001b[0m \u001b[0;34m>\u001b[0m \u001b[0;36m1\u001b[0m\u001b[0;34m:\u001b[0m\u001b[0;34m\u001b[0m\u001b[0m\n\u001b[1;32m     88\u001b[0m             raise ValueError(\n",
      "\u001b[0;31mValueError\u001b[0m: Error when checking model input: the list of Numpy arrays that you are passing to your model is not the size the model expected. Expected to see 1 array(s), but instead got the following list of 2156 arrays: [array([[4742],\n       [ 984],\n       [6277],\n       [1005],\n       [5776],\n       [1275],\n       [ 391],\n       [2174],\n       [ 392],\n       [3569],\n       [1275],\n       [ 391],\n       [1275],\n    ..."
     ]
    }
   ],
   "source": [
    "print(\"Traning Model...\")\n",
    "model.fit(X_train_us, y_train_us, batch_size=batch_size, epochs=2*epochs, verbose=1, #callbacks=[metrics], \n",
    "         #validation_data=(X_val, y_val),\n",
    "         )  # starts training\n"
   ]
  },
  {
   "cell_type": "code",
   "execution_count": null,
   "metadata": {},
   "outputs": [],
   "source": []
  },
  {
   "cell_type": "code",
   "execution_count": null,
   "metadata": {},
   "outputs": [],
   "source": []
  },
  {
   "cell_type": "code",
   "execution_count": 119,
   "metadata": {},
   "outputs": [],
   "source": [
    "from MLutils import get_positive_logit"
   ]
  },
  {
   "cell_type": "markdown",
   "metadata": {},
   "source": [
    "** quick check if keras metric is ok **"
   ]
  },
  {
   "cell_type": "code",
   "execution_count": 120,
   "metadata": {},
   "outputs": [
    {
     "name": "stdout",
     "output_type": "stream",
     "text": [
      "3242/3242 [==============================] - 1s 364us/step\n",
      "           precision  recall  f1-score  support\n",
      "Classes                                        \n",
      "0               0.89    0.81      0.85     2532\n",
      "1               0.49    0.65      0.56      710\n",
      "avg/total       0.80    0.77      0.78     3242\n"
     ]
    }
   ],
   "source": [
    "#evaluation with 0s\n",
    "\n",
    "pos_class_position = model.classes_.argmax()\n",
    "\n",
    "y_val_gold = get_positive_logit(y_val,pos_class_position)\n",
    "y_val_pred_bin = model.predict(X_val)\n",
    "class_report = report_to_df(classification_report(y_val_gold, y_val_pred_bin))\n",
    "\n",
    "print class_report"
   ]
  },
  {
   "cell_type": "markdown",
   "metadata": {},
   "source": [
    "# Export CNN results"
   ]
  },
  {
   "cell_type": "code",
   "execution_count": 121,
   "metadata": {},
   "outputs": [],
   "source": [
    "from sklearn.metrics import classification_report\n",
    "from MLutils import report_to_df\n",
    "\n",
    "from MLutils import get_positive_logit, logits_to_bin_labels,logits_to_neg_labels, classif_report_from_dicts,logits_to_bin_labels"
   ]
  },
  {
   "cell_type": "code",
   "execution_count": null,
   "metadata": {},
   "outputs": [],
   "source": []
  },
  {
   "cell_type": "code",
   "execution_count": 122,
   "metadata": {},
   "outputs": [
    {
     "name": "stdout",
     "output_type": "stream",
     "text": [
      "3242/3242 [==============================] - 1s 358us/step\n",
      "           precision  recall  f1-score  support\n",
      "Classes                                        \n",
      "-1              0.89    0.81      0.85     2532\n",
      "1               0.49    0.65      0.56      710\n",
      "avg/total       0.80    0.77      0.78     3242\n",
      "           precision  recall  f1-score  support\n",
      "Classes                                        \n",
      "-1              0.89    0.81      0.85     2532\n",
      "1               0.49    0.65      0.56      710\n",
      "avg/total       0.80    0.77      0.78     3242\n",
      "8221/8221 [==============================] - 3s 355us/step\n",
      "14727/14727 [==============================] - 5s 353us/step\n"
     ]
    }
   ],
   "source": [
    "results_dict = {}\n",
    "\n",
    "# label_*_binary -> list of -1, 1\n",
    "# label_*_prob_dict -> {40197: 0.96, 40198: 0.03, ... } (close to 1 -> True/Relevant class )\n",
    "# NOTE: positive_labels = [[0, 1] for _ in positive_examples]\n",
    "\n",
    "pos_class_position = model.classes_.argmax()\n",
    "\n",
    "\n",
    "# pass predictions as dict & binary list\n",
    "logits = model.predict_proba(X_val)\n",
    "# y_val_pred = dict(zip(val_ids, list(map(lambda x: x[1], logits)))) #set the probability for the -1 class\n",
    "\n",
    "y_val_pred_pos_logit = dict(zip(val_ids, get_positive_logit(logits, pos_class_position)))\n",
    "y_val_pred_bin = dict(zip(val_ids, logits_to_bin_labels(logits))) #only used for evaluation\n",
    "y_val_pred_neg = dict(zip(val_ids, logits_to_neg_labels(logits))) #only used for evaluation\n",
    "\n",
    "\n",
    "# evaluation on validation set\n",
    "y_val_gold = dict(df_val.label)\n",
    "y_test_gold = dict(df_test.label)\n",
    "\n",
    "\n",
    "# create classification report based on validation set values\n",
    "class_report = report_to_df(\n",
    "    classif_report_from_dicts(y_val_gold, y_val_pred_neg)\n",
    "                         )\n",
    "print class_report\n",
    "\n",
    "#print another class_report\n",
    "\n",
    "# this is correct - because the logits are ordered by + and -\n",
    "print report_to_df(\n",
    "    classification_report(\n",
    "        logits_to_neg_labels(y_val),\n",
    "        logits_to_neg_labels(logits)\n",
    "    )\n",
    "    )\n",
    "\n",
    "\n",
    "\n",
    "logits = model.predict_proba(X_test)\n",
    "y_test_pred_pos_logit = dict(zip(test_ids, get_positive_logit(logits, pos_class_position)))\n",
    "y_test_pred_bin = dict(zip(val_ids, logits_to_bin_labels(logits))) #only used for evaluation\n",
    "y_test_pred_neg = dict(zip(val_ids, logits_to_neg_labels(logits))) #only used for evaluation\n",
    "\n",
    "logits = model.predict_proba(X_unlab)\n",
    "y_unlab_pred_pos_logit = dict(zip(unlab_ids, get_positive_logit(logits, pos_class_position)))\n",
    "\n",
    "\n",
    "# To delete\n",
    "# logits = model.predict(X_test)\n",
    "# y_test_pred = dict(zip(test_ids, list(map(lambda x: x[1], logits)))) #set the probability for the -1 class\n",
    "# y_test_pred_bin = dict(zip(test_ids, list(map(lambda x: int(x[1]>=0.5), logits)))) #only used for evaluation\n",
    "\n",
    "\n",
    "# logits = model.predict(X_unlab)\n",
    "# y_unlab_pred = dict(zip(unlab_ids, list(map(lambda x: x[1], logits)))) #set the probability for the -1 class\n",
    "# y_unlab_pred_bin = dict(zip(unlab_ids, list(map(lambda x: int(x[1]>=0.5), logits)))) #only used for evaluation\n",
    "\n",
    "\n",
    "\n",
    "results_dict['CNN'] = {\"label_val_prob+\" : y_val_pred_pos_logit,\n",
    "                       \"label_test_prob+\" : y_test_pred_pos_logit,\n",
    "                       \"label_unlab_prob+\" : y_unlab_pred_pos_logit,\n",
    "                        \"classification_report\": class_report,\n",
    "                        \"f1+\": class_report.loc['1','f1-score']\n",
    "                           }\n"
   ]
  },
  {
   "cell_type": "code",
   "execution_count": null,
   "metadata": {},
   "outputs": [],
   "source": []
  },
  {
   "cell_type": "code",
   "execution_count": 87,
   "metadata": {},
   "outputs": [],
   "source": [
    "import pickle"
   ]
  },
  {
   "cell_type": "code",
   "execution_count": 123,
   "metadata": {},
   "outputs": [],
   "source": [
    "with open(path_base_learners+'/CNN_no_trim,RuS.pkl', 'wb') as f:\n",
    "    pickle.dump(results_dict, f)"
   ]
  },
  {
   "cell_type": "code",
   "execution_count": null,
   "metadata": {},
   "outputs": [],
   "source": []
  },
  {
   "cell_type": "code",
   "execution_count": null,
   "metadata": {},
   "outputs": [],
   "source": []
  },
  {
   "cell_type": "markdown",
   "metadata": {},
   "source": [
    "# Learning curves"
   ]
  },
  {
   "cell_type": "code",
   "execution_count": 38,
   "metadata": {},
   "outputs": [],
   "source": [
    "# from sklearn.model_selection import learning_curve\n",
    "# from sklearn.metrics import make_scorer,f1_score,mean_squared_error\n",
    "# from scipy.sparse import vstack"
   ]
  },
  {
   "cell_type": "code",
   "execution_count": 39,
   "metadata": {},
   "outputs": [],
   "source": [
    "# mse_scorer = make_scorer(mean_squared_error, greater_is_better=False)\n",
    "# f1_scorer = make_scorer(f1_score, greater_is_better=True)\n"
   ]
  },
  {
   "cell_type": "code",
   "execution_count": null,
   "metadata": {},
   "outputs": [],
   "source": []
  },
  {
   "cell_type": "code",
   "execution_count": 158,
   "metadata": {},
   "outputs": [],
   "source": [
    "\n",
    "# X_train_val = vstack((X_train_us,X_val) )\n",
    "# y_all = (y_train.append(y_val)).values\n",
    "# X_all_split = np.array([0 for i in enumerate(X_train)] + [1 for i in enumerate(X_val)])"
   ]
  },
  {
   "cell_type": "code",
   "execution_count": 159,
   "metadata": {},
   "outputs": [],
   "source": [
    "#############"
   ]
  },
  {
   "cell_type": "code",
   "execution_count": 81,
   "metadata": {
    "scrolled": true
   },
   "outputs": [],
   "source": [
    "# train_sizes, train_scores, valid_scores = learning_curve(\n",
    "#     model,\n",
    "#     np.concatenate((X_train_us,X_val)), \n",
    "#     np.concatenate((y_train_us,y_val)), \n",
    "#     shuffle = True,\n",
    "# #     random_state = 2,\n",
    "# #     verb\n",
    "#     #train_sizes=range(1000, X_train.shape[0], 1000), \n",
    "#     #     groups = X_all_split,\n",
    "#     #     scoring = mse_scorer\n",
    "    \n",
    "# )"
   ]
  },
  {
   "cell_type": "code",
   "execution_count": null,
   "metadata": {},
   "outputs": [],
   "source": []
  },
  {
   "cell_type": "code",
   "execution_count": 89,
   "metadata": {},
   "outputs": [],
   "source": [
    "# from MLutils import plot_learning_curve"
   ]
  },
  {
   "cell_type": "code",
   "execution_count": 111,
   "metadata": {},
   "outputs": [
    {
     "data": {
      "text/plain": [
       "array([[ 0.        ,  0.00458295,  0.73166259],\n",
       "       [ 0.3776352 ,  0.00458295,  0.76894866],\n",
       "       [ 0.53040024,  0.06385579,  0.81173594],\n",
       "       [ 0.53895509,  0.13229453,  0.81845966],\n",
       "       [ 0.54017721,  0.16468072,  0.81356968]])"
      ]
     },
     "execution_count": 111,
     "metadata": {},
     "output_type": "execute_result"
    }
   ],
   "source": [
    "# valid_scores"
   ]
  },
  {
   "cell_type": "code",
   "execution_count": 164,
   "metadata": {},
   "outputs": [
    {
     "data": {
      "image/png": "[encoded data removed]",
      "text/plain": [
       "<Figure size 432x288 with 1 Axes>"
      ]
     },
     "metadata": {},
     "output_type": "display_data"
    }
   ],
   "source": [
    "# # For 5 epochs\n",
    "# plot_learning_curve(train_scores, \n",
    "#                         valid_scores,\n",
    "#                         train_sizes=train_sizes,\n",
    "#                    title = 'CNN learning curve (val_score=%.2f%%)'%valid_scores.mean(axis=1).max())\n",
    "\n",
    "# plt.show()"
   ]
  },
  {
   "cell_type": "code",
   "execution_count": 112,
   "metadata": {
    "scrolled": true
   },
   "outputs": [
    {
     "data": {
      "image/png": "[encoded data removed]",
      "text/plain": [
       "<Figure size 432x288 with 1 Axes>"
      ]
     },
     "metadata": {},
     "output_type": "display_data"
    }
   ],
   "source": [
    "# # For 10 epochs\n",
    "# plot_learning_curve(train_scores, \n",
    "#                         valid_scores,\n",
    "#                         train_sizes=train_sizes,\n",
    "#                    title = 'CNN learning curve (val_score=%.2f%%)'%valid_scores.mean(axis=1).max())\n",
    "\n",
    "# plt.show()"
   ]
  }
 ],
 "metadata": {
  "kernelspec": {
   "display_name": "Python [conda env:snorkel27clone]",
   "language": "python",
   "name": "conda-env-snorkel27clone-py"
  },
  "language_info": {
   "codemirror_mode": {
    "name": "ipython",
    "version": 2
   },
   "file_extension": ".py",
   "mimetype": "text/x-python",
   "name": "python",
   "nbconvert_exporter": "python",
   "pygments_lexer": "ipython2",
   "version": "2.7.15"
  }
 },
 "nbformat": 4,
 "nbformat_minor": 2
}
