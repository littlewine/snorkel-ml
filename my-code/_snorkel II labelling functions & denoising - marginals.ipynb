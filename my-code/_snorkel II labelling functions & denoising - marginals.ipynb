{
 "cells": [
  {
   "cell_type": "code",
   "execution_count": 1,
   "metadata": {},
   "outputs": [
    {
     "name": "stderr",
     "output_type": "stream",
     "text": [
      "/home/antonis/anaconda2/envs/snorkel27clone/lib/python2.7/site-packages/psycopg2/__init__.py:144: UserWarning: The psycopg2 wheel package will be renamed from release 2.8; in order to keep installing from binary please use \"pip install psycopg2-binary\" instead. For details see: <http://initd.org/psycopg/docs/install.html#binary-install-from-pypi>.\n",
      "  \"\"\")\n"
     ]
    },
    {
     "name": "stdout",
     "output_type": "stream",
     "text": [
      "Created snorkel session from  postgres:///snorkel25similar\n"
     ]
    }
   ],
   "source": [
    "%load_ext autoreload\n",
    "%autoreload 2\n",
    "%matplotlib inline\n",
    "%run init.py"
   ]
  },
  {
   "cell_type": "code",
   "execution_count": 2,
   "metadata": {},
   "outputs": [],
   "source": [
    "# %load_ext autoreload\n",
    "# %autoreload 2\n",
    "# %matplotlib inline\n",
    "# import os\n",
    "# os.environ['SNORKELDB'] = 'postgres:///snorkel'\n",
    "\n",
    "# from snorkel import SnorkelSession\n",
    "# session = SnorkelSession()\n",
    "# from snorkel.models import  Document, Sentence"
   ]
  },
  {
   "cell_type": "code",
   "execution_count": 3,
   "metadata": {},
   "outputs": [],
   "source": [
    "import seaborn as sns\n",
    "from snorkel.annotations import save_marginals"
   ]
  },
  {
   "cell_type": "code",
   "execution_count": 4,
   "metadata": {},
   "outputs": [
    {
     "ename": "RuntimeError",
     "evalue": "module compiled against API version 0xc but this version of numpy is 0xb",
     "output_type": "error",
     "traceback": [
      "\u001b[0;31m---------------------------------------------------------------------------\u001b[0m",
      "\u001b[0;31mRuntimeError\u001b[0m                              Traceback (most recent call last)",
      "\u001b[0;31mRuntimeError\u001b[0m: module compiled against API version 0xc but this version of numpy is 0xb"
     ]
    },
    {
     "ename": "RuntimeError",
     "evalue": "module compiled against API version 0xc but this version of numpy is 0xb",
     "output_type": "error",
     "traceback": [
      "\u001b[0;31m---------------------------------------------------------------------------\u001b[0m",
      "\u001b[0;31mRuntimeError\u001b[0m                              Traceback (most recent call last)",
      "\u001b[0;31mRuntimeError\u001b[0m: module compiled against API version 0xc but this version of numpy is 0xb"
     ]
    },
    {
     "name": "stdout",
     "output_type": "stream",
     "text": [
      "WARNING:tensorflow:From /home/antonis/anaconda2/envs/snorkel27clone/lib/python2.7/site-packages/tensorflow/contrib/learn/python/learn/datasets/base.py:198: retry (from tensorflow.contrib.learn.python.learn.datasets.base) is deprecated and will be removed in a future version.\n",
      "Instructions for updating:\n",
      "Use the retry module or similar alternatives.\n"
     ]
    }
   ],
   "source": [
    "from snorkel.lf_helpers import *\n",
    "import pickle,glob"
   ]
  },
  {
   "cell_type": "code",
   "execution_count": 5,
   "metadata": {},
   "outputs": [],
   "source": [
    "import pandas as pd\n",
    "from MLutils import cohen_kappa_score, plot_marginals_histogram, neg_to_bin_labels"
   ]
  },
  {
   "cell_type": "code",
   "execution_count": 6,
   "metadata": {},
   "outputs": [],
   "source": [
    "from MLutils import diversity_heatmap, merge_pickles_pred_dicts"
   ]
  },
  {
   "cell_type": "code",
   "execution_count": 7,
   "metadata": {},
   "outputs": [],
   "source": [
    "# TODO move in LSTM training section\n",
    "\n",
    "# needed to train the LSTM here\n",
    "train = session.query(REGULATOR).filter(REGULATOR.split == 0).all()\n",
    "dev = session.query(REGULATOR).filter(REGULATOR.split == 1).all()\n",
    "test = session.query(REGULATOR).filter(REGULATOR.split == 2).all()\n",
    "unlab = session.query(REGULATOR).filter(REGULATOR.split == 3).all()"
   ]
  },
  {
   "cell_type": "code",
   "execution_count": null,
   "metadata": {},
   "outputs": [],
   "source": []
  },
  {
   "cell_type": "code",
   "execution_count": 8,
   "metadata": {},
   "outputs": [],
   "source": [
    "# Determine mean sentence size per set"
   ]
  },
  {
   "cell_type": "code",
   "execution_count": 9,
   "metadata": {},
   "outputs": [],
   "source": [
    "# TODO: drop v big sentences"
   ]
  },
  {
   "cell_type": "code",
   "execution_count": 10,
   "metadata": {},
   "outputs": [],
   "source": [
    "# train_sentence_size =list(map(lambda x: len(x.get_parent().lemmas) ,train))\n",
    "# dev_sentence_size =list(map(lambda x: len(x.get_parent().lemmas) ,dev))\n",
    "# test_sentence_size =list(map(lambda x: len(x.get_parent().lemmas) ,test))\n",
    "# unlab_sentence_size =list(map(lambda x: len(x.get_parent().lemmas) ,unlab))"
   ]
  },
  {
   "cell_type": "code",
   "execution_count": 11,
   "metadata": {},
   "outputs": [],
   "source": [
    "# print np.mean(train_sentence_size)\n",
    "# print np.mean(dev_sentence_size)\n",
    "# print np.mean(test_sentence_size)\n",
    "# print np.mean(unlab_sentence_size)"
   ]
  },
  {
   "cell_type": "code",
   "execution_count": 12,
   "metadata": {},
   "outputs": [
    {
     "data": {
      "text/plain": [
       "13007L"
      ]
     },
     "execution_count": 12,
     "metadata": {},
     "output_type": "execute_result"
    }
   ],
   "source": [
    "session.query(REGULATOR).filter(REGULATOR.split == 0).count()"
   ]
  },
  {
   "cell_type": "code",
   "execution_count": 13,
   "metadata": {
    "scrolled": true
   },
   "outputs": [],
   "source": [
    "# c = train[0]\n",
    "# s = c.get_parent()\n",
    "# s.lemmas\n",
    "# # REGULATOR.get_parent().lemmas"
   ]
  },
  {
   "cell_type": "code",
   "execution_count": null,
   "metadata": {},
   "outputs": [],
   "source": []
  },
  {
   "cell_type": "code",
   "execution_count": 14,
   "metadata": {},
   "outputs": [],
   "source": [
    "# make sure unmapped cands are gone"
   ]
  },
  {
   "cell_type": "code",
   "execution_count": 15,
   "metadata": {},
   "outputs": [],
   "source": [
    "from sqlalchemy import  any_,or_,and_"
   ]
  },
  {
   "cell_type": "code",
   "execution_count": 16,
   "metadata": {},
   "outputs": [
    {
     "name": "stdout",
     "output_type": "stream",
     "text": [
      "Adding 0 candidates from split=0 in to_drop list\n",
      "Adding 0 candidates from split=1 in to_drop list\n",
      "Adding 0 candidates from split=2 in to_drop list\n"
     ]
    }
   ],
   "source": [
    "#create list of unmapped cands to drop\n",
    "to_drop = []\n",
    "for k in range(3):\n",
    "    query = session.query(REGULATOR).filter(and_(REGULATOR.split==k,~REGULATOR.gold_labels.any()))\n",
    "    print 'Adding %i candidates from split=%i in to_drop list'%(query.count(), k)\n",
    "    to_drop.extend(map(lambda x: x.id,query.all()))"
   ]
  },
  {
   "cell_type": "code",
   "execution_count": 17,
   "metadata": {},
   "outputs": [],
   "source": [
    "# #drop unmapped cands\n",
    "# query = session.query(Candidate).filter(Candidate.id.in_(to_drop))\n",
    "# print query.count()\n",
    "# query.delete(synchronize_session=False)\n",
    "# session.commit()"
   ]
  },
  {
   "cell_type": "markdown",
   "metadata": {},
   "source": [
    "# Retrieve results and pick models"
   ]
  },
  {
   "cell_type": "code",
   "execution_count": 18,
   "metadata": {},
   "outputs": [],
   "source": [
    "# results_dict = merge_pickles_pred_dicts(glob.glob('ml_predictions/*.pkl'), \n",
    "#                                         f1_threshold=0.49,\n",
    "#                                         list_substr=['results_dict,','minFreq=3','_'],\n",
    "#                                         best_model=True,\n",
    "#                                        )"
   ]
  },
  {
   "cell_type": "code",
   "execution_count": null,
   "metadata": {},
   "outputs": [],
   "source": []
  },
  {
   "cell_type": "code",
   "execution_count": 19,
   "metadata": {},
   "outputs": [
    {
     "name": "stdout",
     "output_type": "stream",
     "text": [
      "Loaded:\n"
     ]
    },
    {
     "data": {
      "text/plain": [
       "['results_dict,trim=5,RuS,TfIdf_,minFreq=5,_stopw=english,_ngrams=(1, 1),LSA200_RandomForestClassifier',\n",
       " 'results_dict,trim=5,lemmas,RuS,CV_,bin_,minFreq=5,_ngrams=(0, 3)_RandomForestClassifier',\n",
       " 'results_dict,ShortDepPath,lemmas,RuS,TfIdf_,minFreq=5,_stopw=english,_ngrams=(1, 1),LSA200_RandomForestClassifier',\n",
       " 'results_dict,ShortDepPath,lemmas,RuS,CV_,bin_,minFreq=5,_stopw=english,_ngrams=(1, 1)_RandomForestClassifier',\n",
       " 'biLSTM,RuS,lr=0.001,dropout=0.25,10epochs,max_sent_length=64_biLSTM',\n",
       " 'results_dict,ShortDepPath,lemmas,RuS,TfIdf_,minFreq=5,_stopw=english,_ngrams=(1, 1)_RandomForestClassifier',\n",
       " 'results_dict,lemmas,RuS,TfIdf_,minFreq=5,_stopw=english,_ngrams=(1, 1)_RandomForestClassifier',\n",
       " 'results_dict,trim=5,RuS,TfIdf_,minFreq=5,_stopw=english,_ngrams=(1, 1)_SVC_rbf_C=75',\n",
       " 'results_dict,ShortDepPath,lemmas,RuS,TfIdf_,minFreq=5,_stopw=english,_ngrams=(1, 1)_SVC_rbf_C=150',\n",
       " 'results_dict,ShortDepPath,lemmas,RuS,CV_,bin_,minFreq=5,_ngrams=(0, 3)_SVC_linear',\n",
       " 'results_dict,lemmas,RuS,CV_,bin_,minFreq=5,_ngrams=(0, 3),LSA200_SVC_linear',\n",
       " 'results_dict,lemmas,RuS,TfIdf_,minFreq=5,_ngrams=(0, 3)_RandomForestClassifier',\n",
       " 'results_dict,trim=5,RuS,TfIdf_,minFreq=5,_ngrams=(0, 3),LSA200_SVC_rbf_C=250',\n",
       " 'results_dict,trim=5,lemmas,RuS,CV_,bin_,minFreq=5,_stopw=english,_ngrams=(1, 1),LSA200_RandomForestClassifier',\n",
       " 'results_dict,trim=5,RuS,CV_,bin_,minFreq=5,_stopw=english,_ngrams=(1, 1),LSA200_SVC_linear',\n",
       " 'results_dict,ShortDepPath,lemmas,RuS,CV_,bin_,minFreq=5,_ngrams=(0, 3)_RandomForestClassifier',\n",
       " 'results_dict,trim=5,RuS,CV_,bin_,minFreq=5,_ngrams=(0, 3),LSA200_SVC_linear',\n",
       " 'results_dict,lemmas,RuS,CV_,bin_,minFreq=5,_ngrams=(0, 3)_SVC_linear',\n",
       " 'results_dict,RuS,TfIdf_,minFreq=5,_ngrams=(0, 3),LSA200_RandomForestClassifier',\n",
       " 'results_dict,trim=5,RuS,TfIdf_,minFreq=5,_ngrams=(0, 3),LSA200_RandomForestClassifier',\n",
       " 'results_dict,lemmas,RuS,CV_,bin_,minFreq=5,_ngrams=(0, 3)_RandomForestClassifier',\n",
       " 'results_dict,ShortDepPath,lemmas,RuS,TfIdf_,minFreq=5,_ngrams=(0, 3),LSA200_LogisticRegression',\n",
       " 'results_dict,RuS,CV_,bin_,minFreq=5,_ngrams=(0, 3),LSA200_SVC_linear',\n",
       " 'results_dict,trim=5,lemmas,RuS,CV_,bin_,minFreq=5,_ngrams=(0, 3),LSA200_RandomForestClassifier',\n",
       " 'results_dict,trim=5,RuS,TfIdf_,minFreq=5,_ngrams=(0, 3)_RandomForestClassifier',\n",
       " 'results_dict,ShortDepPath,lemmas,RuS,TfIdf_,minFreq=5,_ngrams=(0, 3),LSA200_RandomForestClassifier',\n",
       " 'results_dict,RuS,CV_,bin_,minFreq=5,_ngrams=(0, 3)_SVC_linear',\n",
       " 'results_dict,ShortDepPath,lemmas,RuS,CV_,bin_,minFreq=5,_ngrams=(0, 3),LSA200_SVC_linear',\n",
       " 'results_dict,trim=5,lemmas,RuS,CV_,bin_,minFreq=5,_ngrams=(0, 3)_LogisticRegression',\n",
       " 'results_dict,trim=5,RuS,TfIdf_,minFreq=5,_stopw=english,_ngrams=(1, 1)_RandomForestClassifier',\n",
       " 'results_dict,RuS,TfIdf_,minFreq=5,_stopw=english,_ngrams=(1, 1),LSA200_RandomForestClassifier',\n",
       " 'results_dict,trim=5,lemmas,RuS,TfIdf_,minFreq=5,_ngrams=(0, 3),LSA200_RandomForestClassifier',\n",
       " 'results_dict,lemmas,RuS,CV_,bin_,minFreq=5,_stopw=english,_ngrams=(1, 1),LSA200_SVC_rbf_C=75',\n",
       " 'results_dict,ShortDepPath,lemmas,RuS,TfIdf_,minFreq=5,_ngrams=(0, 3)_RandomForestClassifier']"
      ]
     },
     "execution_count": 19,
     "metadata": {},
     "output_type": "execute_result"
    }
   ],
   "source": [
    "with open(\"ml_predictions/33models.pickle\", 'rb') as f:\n",
    "    results_dict = pickle.load(f)\n",
    "print 'Loaded:\\n',\n",
    "results_dict.keys()"
   ]
  },
  {
   "cell_type": "code",
   "execution_count": 20,
   "metadata": {},
   "outputs": [],
   "source": [
    "selected_models = results_dict.keys()"
   ]
  },
  {
   "cell_type": "code",
   "execution_count": 21,
   "metadata": {},
   "outputs": [],
   "source": [
    "# set(results_dict[results_dict.keys()[0]])"
   ]
  },
  {
   "cell_type": "code",
   "execution_count": null,
   "metadata": {},
   "outputs": [],
   "source": []
  },
  {
   "cell_type": "code",
   "execution_count": 22,
   "metadata": {
    "scrolled": false
   },
   "outputs": [],
   "source": [
    "# unlab_keys0 = set(results_dict[results_dict.keys()[0]]['label_unlab_prob_dict'].keys())\n",
    "# #check model performance\n",
    "# for model_name in results_dict.keys():\n",
    "#     print '\\n',results_dict[model_name]['f1+'], model_name\n",
    "#     print 'Keys matching: ',unlab_keys0 == set(results_dict[model_name]['label_unlab_prob_dict'].keys())\n",
    "#     result_prob = [results_dict[model_name]['label_unlab_prob_dict'][cid] for cid in sorted(results_dict[model_name]['label_unlab_prob_dict'].keys(), reverse=True)]\n",
    "#     result_bin = [0 if prob<=0.5 else 1 for prob in result_prob]\n",
    "#     print result[:10]\n",
    "#     print result_bin[-1110:-1000]\n",
    "    \n",
    "    \n",
    "#     print result_unlab_binary01[-1110:-1000]\n",
    "    \n",
    "# #     print result_bin == result_unlab_binary01\n",
    "    \n",
    "    \n",
    "#     # deal with this shit later.... nice confidence there man!\n",
    "# #     pd.Series(result).hist()\n",
    "# #     plt.plot()"
   ]
  },
  {
   "cell_type": "code",
   "execution_count": 23,
   "metadata": {},
   "outputs": [],
   "source": [
    "# result = [results_dict[key] for model_name in sorted(results_dict.keys(), reverse=True)]"
   ]
  },
  {
   "cell_type": "code",
   "execution_count": null,
   "metadata": {},
   "outputs": [],
   "source": []
  },
  {
   "cell_type": "code",
   "execution_count": 24,
   "metadata": {},
   "outputs": [],
   "source": [
    "from MLutils import diversity_matrix, reduce_results_dict"
   ]
  },
  {
   "cell_type": "code",
   "execution_count": 25,
   "metadata": {},
   "outputs": [],
   "source": [
    "from sklearn.metrics import accuracy_score, cohen_kappa_score"
   ]
  },
  {
   "cell_type": "code",
   "execution_count": null,
   "metadata": {},
   "outputs": [],
   "source": []
  },
  {
   "cell_type": "code",
   "execution_count": 26,
   "metadata": {
    "scrolled": false
   },
   "outputs": [],
   "source": [
    "# metric = cohen_kappa_score\n",
    "\n",
    "# mean = diversity_matrix(\n",
    "#     results_dict,\n",
    "#     metric=accuracy_score,\n",
    "#     diagonal_key=None\n",
    "# ).mean().mean()\n",
    "\n",
    "# diversity_heatmap(results_dict, \n",
    "#                   metric=metric, diagonal_key='f1+', \n",
    "#                   evaluate_on = \"label_unlab_prob+\",\n",
    "#                   plot_model_names = True,\n",
    "#                   title='Diversity heatmap for %i models (mean(%s)=%.2f)'%(\n",
    "#                       len(results_dict),metric.__name__, mean) )"
   ]
  },
  {
   "cell_type": "code",
   "execution_count": 27,
   "metadata": {},
   "outputs": [],
   "source": [
    "# lowest_model_name = cohens_df.mean().idxmin()\n",
    "# print cohens_df.mean().idxmin() , cohens_df.mean().min()"
   ]
  },
  {
   "cell_type": "markdown",
   "metadata": {},
   "source": [
    "# Load predicted labels from classifiers"
   ]
  },
  {
   "cell_type": "code",
   "execution_count": 28,
   "metadata": {},
   "outputs": [],
   "source": [
    "from snorkel.annotations import LabelAnnotator"
   ]
  },
  {
   "cell_type": "code",
   "execution_count": 29,
   "metadata": {},
   "outputs": [],
   "source": [
    "# Transform results dict from probabilities to labels"
   ]
  },
  {
   "cell_type": "code",
   "execution_count": 30,
   "metadata": {},
   "outputs": [],
   "source": [
    "for model in results_dict.keys():\n",
    "    results_dict[model]['label_unlab'] = dict(zip(results_dict[model]['label_unlab_prob+'].keys(),(np.array(results_dict[model]['label_unlab_prob+'].values())>=0.5)*2-1))\n",
    "    results_dict[model]['label_val'] = dict(zip(results_dict[model]['label_val_prob+'].keys(),(np.array(results_dict[model]['label_val_prob+'].values())>=0.5)*2-1))\n"
   ]
  },
  {
   "cell_type": "markdown",
   "metadata": {},
   "source": [
    "** with label generator **"
   ]
  },
  {
   "cell_type": "code",
   "execution_count": null,
   "metadata": {},
   "outputs": [],
   "source": []
  },
  {
   "cell_type": "code",
   "execution_count": 28,
   "metadata": {},
   "outputs": [],
   "source": [
    "# model = results_dict.keys()[0]\n",
    "# %%timeit (results_dict[model]['label_unlab_prob+'][c.id] >= 0.5)*2-1"
   ]
  },
  {
   "cell_type": "code",
   "execution_count": null,
   "metadata": {},
   "outputs": [],
   "source": []
  },
  {
   "cell_type": "code",
   "execution_count": 31,
   "metadata": {},
   "outputs": [],
   "source": [
    "# Include the results for validation data\n",
    "def signal_annotator_unlab_val(c):\n",
    "    \"\"\"A generator over the different (worker_id, label_id) pairs for a Tweet.\"\"\"\n",
    "    for model in results_dict.keys():\n",
    "\n",
    "        #hack to convert labels to -1,1....\n",
    "        try:\n",
    "#             yield model, (results_dict[model]['label_unlab_prob+'][c.id] >= 0.5)*2-1\n",
    "            yield model, results_dict[model]['label_unlab'][c.id]\n",
    "            \n",
    "        except:\n",
    "#             yield model, (results_dict[model]['label_val_prob+'][c.id] >= 0.5)*2-1\n",
    "            yield model, results_dict[model]['label_val'][c.id]\n",
    "\n",
    "\n",
    "labeler = LabelAnnotator(label_generator=signal_annotator_unlab_val)"
   ]
  },
  {
   "cell_type": "markdown",
   "metadata": {},
   "source": [
    "### Apply labeler / load label matrix from pickle"
   ]
  },
  {
   "cell_type": "code",
   "execution_count": 32,
   "metadata": {
    "scrolled": true
   },
   "outputs": [],
   "source": [
    "# #regenerate L_train - Takes about 1h for 12 voters (100% coverage)\n",
    "\n",
    "# %time L_unlab = labeler.apply(split=3, parallelism=6)\n",
    "# L_unlab"
   ]
  },
  {
   "cell_type": "code",
   "execution_count": 33,
   "metadata": {},
   "outputs": [],
   "source": [
    "# # dump vote matrix to disk\n",
    "# with open(\"L_unlab_4models\", 'wb') as f:\n",
    "#     pickle.dump(L_unlab, f)"
   ]
  },
  {
   "cell_type": "code",
   "execution_count": 34,
   "metadata": {},
   "outputs": [],
   "source": [
    "#open from disk\n",
    "with open(\"L_unlab_33models\", 'rb') as f:\n",
    "    L_unlab = pickle.load(f)"
   ]
  },
  {
   "cell_type": "code",
   "execution_count": null,
   "metadata": {},
   "outputs": [],
   "source": []
  },
  {
   "cell_type": "code",
   "execution_count": 35,
   "metadata": {},
   "outputs": [
    {
     "name": "stdout",
     "output_type": "stream",
     "text": [
      "\n",
      "Clearing existing...\n",
      "Running UDF...\n"
     ]
    },
    {
     "data": {
      "text/plain": [
       "<3242x4 sparse matrix of type '<type 'numpy.int64'>'\n",
       "\twith 12968 stored elements in Compressed Sparse Row format>"
      ]
     },
     "execution_count": 35,
     "metadata": {},
     "output_type": "execute_result"
    }
   ],
   "source": [
    "# load from developer set & labels\n",
    "L_gold_dev = load_gold_labels(session, annotator_name='gold', split=1)\n",
    "L_gold_dev\n",
    "print ''\n",
    "L_dev = labeler.apply_existing(split=1, parallelism=6)\n",
    "L_dev"
   ]
  },
  {
   "cell_type": "markdown",
   "metadata": {},
   "source": [
    "### Check L_train (predicted) label statistics"
   ]
  },
  {
   "cell_type": "code",
   "execution_count": 36,
   "metadata": {},
   "outputs": [
    {
     "data": {
      "text/plain": [
       "False    109159\n",
       "True      21265\n",
       "dtype: int64"
      ]
     },
     "execution_count": 36,
     "metadata": {},
     "output_type": "execute_result"
    }
   ],
   "source": [
    "(pd.Series(list(map(lambda x:x[0].item(),L_unlab.mean(axis=1))))>=0.5).value_counts()"
   ]
  },
  {
   "cell_type": "code",
   "execution_count": 37,
   "metadata": {},
   "outputs": [
    {
     "data": {
      "text/plain": [
       "5.1332706324947095"
      ]
     },
     "execution_count": 37,
     "metadata": {},
     "output_type": "execute_result"
    }
   ],
   "source": [
    "109159/21265."
   ]
  },
  {
   "cell_type": "code",
   "execution_count": 38,
   "metadata": {},
   "outputs": [
    {
     "data": {
      "text/plain": [
       "Text(0.5,1,'Unweighted voting for 34 classifiers')"
      ]
     },
     "execution_count": 38,
     "metadata": {},
     "output_type": "execute_result"
    },
    {
     "data": {
      "image/png": "[encoded data removed]",
      "text/plain": [
       "<Figure size 432x288 with 1 Axes>"
      ]
     },
     "metadata": {},
     "output_type": "display_data"
    }
   ],
   "source": [
    "#this would be with unweighted voting\n",
    "\n",
    "pd.Series(list(map(lambda x:x[0].item(),L_unlab.mean(axis=1)))).hist(bins=41)\n",
    "plt.title('Unweighted voting for %i classifiers'%L_unlab.shape[1])"
   ]
  },
  {
   "cell_type": "markdown",
   "metadata": {},
   "source": [
    "## Error analysis - Get some of the sentences which are predicted false by all classifiers"
   ]
  },
  {
   "cell_type": "code",
   "execution_count": 163,
   "metadata": {},
   "outputs": [],
   "source": [
    "# linear_preds = pd.Series(list(map(lambda x:x[0].item(),L_unlab.mean(axis=1))))"
   ]
  },
  {
   "cell_type": "code",
   "execution_count": 162,
   "metadata": {},
   "outputs": [
    {
     "data": {
      "text/plain": [
       "False"
      ]
     },
     "execution_count": 162,
     "metadata": {},
     "output_type": "execute_result"
    }
   ],
   "source": [
    "# all_false_indices = [i for i in range(len(linear_preds))]"
   ]
  },
  {
   "cell_type": "code",
   "execution_count": 211,
   "metadata": {},
   "outputs": [],
   "source": [
    "# all_false_indices = linear_preds[linear_preds==-1].index\n",
    "# false_025_075 = linear_preds[(linear_preds<-0.25) & (linear_preds>-0.75)].index"
   ]
  },
  {
   "cell_type": "code",
   "execution_count": 198,
   "metadata": {},
   "outputs": [],
   "source": [
    "# from random import sample"
   ]
  },
  {
   "cell_type": "code",
   "execution_count": 201,
   "metadata": {},
   "outputs": [],
   "source": [
    "# import codecs"
   ]
  },
  {
   "cell_type": "code",
   "execution_count": 225,
   "metadata": {},
   "outputs": [],
   "source": [
    "# with codecs.open('all_negative.txt','wb','utf-8') as f:\n",
    "#     for i in sample(all_false_indices,50):\n",
    "        \n",
    "#         c = L_unlab.get_candidate(session, i)\n",
    "#         chem = c.Chemical.get_span()\n",
    "#         gene = c.Gene.get_span()\n",
    "#         sentence = c.get_parent().text\n",
    "        \n",
    "#         doc = doc = c.get_parent().get_parent()\n",
    "#         doc_name = doc.get_children()[0].text\n",
    "        \n",
    "#         string = '\\t'.join((chem,'->',gene,' | ',sentence,' | Title: ',doc_name,'\\n\\n\\n'))\n",
    "#         f.write(string)\n",
    "# #         print string"
   ]
  },
  {
   "cell_type": "code",
   "execution_count": 226,
   "metadata": {},
   "outputs": [],
   "source": [
    "# # get titles\n",
    "# with codecs.open('10-12_negative.txt','wb','utf-8') as f:\n",
    "#     for i in sample(false_025_075,50):\n",
    "        \n",
    "#         c = L_unlab.get_candidate(session, i)\n",
    "#         chem = c.Chemical.get_span()\n",
    "#         gene = c.Gene.get_span()\n",
    "#         sentence = c.get_parent().text\n",
    "        \n",
    "#         doc = doc = c.get_parent().get_parent()\n",
    "#         doc_name = doc.get_children()[0].text\n",
    "        \n",
    "#         string = '\\t'.join((chem,'->',gene,' | ',sentence,' | Title: ',doc_name,'\\n\\n\\n'))\n",
    "#         f.write(string)\n",
    "# #         print string"
   ]
  },
  {
   "cell_type": "markdown",
   "metadata": {},
   "source": [
    "## Randomly delete some negative values (about 50% of them). \n",
    "-> \n",
    "denoising doesn't work leaving code here for future reference though"
   ]
  },
  {
   "cell_type": "code",
   "execution_count": 26,
   "metadata": {},
   "outputs": [],
   "source": [
    "# Randomly delete some negative values (about 50% of them). \n",
    "# However, this creates a bias towards positive class \n",
    "#  + denoising doesn't work"
   ]
  },
  {
   "cell_type": "code",
   "execution_count": 27,
   "metadata": {},
   "outputs": [],
   "source": [
    "# neg_L_train = L_train==-1\n",
    "# pos_L_train = L_train==1"
   ]
  },
  {
   "cell_type": "code",
   "execution_count": 28,
   "metadata": {},
   "outputs": [],
   "source": [
    "# create a (random) mask"
   ]
  },
  {
   "cell_type": "code",
   "execution_count": 29,
   "metadata": {},
   "outputs": [],
   "source": [
    "# from scipy.sparse import rand\n",
    "\n",
    "# rand_csr = rand(L_train.shape[0], L_train.shape[1], density=0.5, format='csr')\n",
    "# rand_csr.data[:] = 1"
   ]
  },
  {
   "cell_type": "code",
   "execution_count": 30,
   "metadata": {},
   "outputs": [],
   "source": [
    "# L_train_subsampled = L_train.multiply(neg_L_train.multiply(rand_csr) + pos_L_train)"
   ]
  },
  {
   "cell_type": "code",
   "execution_count": null,
   "metadata": {},
   "outputs": [],
   "source": []
  },
  {
   "cell_type": "markdown",
   "metadata": {},
   "source": [
    "## Undersample examples having mean(votes) <0.5"
   ]
  },
  {
   "cell_type": "markdown",
   "metadata": {},
   "source": [
    " ** Code 1 and code 2 are same more or less run accordingly & delete **"
   ]
  },
  {
   "cell_type": "code",
   "execution_count": null,
   "metadata": {},
   "outputs": [],
   "source": [
    "# code 1"
   ]
  },
  {
   "cell_type": "code",
   "execution_count": 32,
   "metadata": {},
   "outputs": [],
   "source": [
    "# from MLutils import balance_candidates\n",
    "# from utils import delete_from_csr"
   ]
  },
  {
   "cell_type": "code",
   "execution_count": 35,
   "metadata": {},
   "outputs": [],
   "source": [
    "# #get a simple average of the classifiers prediction\n",
    "# L_train_pred_lbls = list(map(lambda x: int(x[0].item()), L_train.mean(axis=1)>=0.5)) "
   ]
  },
  {
   "cell_type": "code",
   "execution_count": 36,
   "metadata": {},
   "outputs": [],
   "source": [
    "# indices = [i for i in range(L_train.shape[0])]\n",
    "\n",
    "# ind_us, lbls_us = balance_candidates(indices, lbls)\n",
    "# ind_to_del = list(set(indices).difference(set(ind_us)))"
   ]
  },
  {
   "cell_type": "code",
   "execution_count": 155,
   "metadata": {},
   "outputs": [],
   "source": [
    "# L_train_us = delete_from_csr(L_train,row_indices=ind_to_del)\n"
   ]
  },
  {
   "cell_type": "code",
   "execution_count": null,
   "metadata": {},
   "outputs": [],
   "source": []
  },
  {
   "cell_type": "markdown",
   "metadata": {},
   "source": [
    "### Undersample dataset using the generative model"
   ]
  },
  {
   "cell_type": "code",
   "execution_count": 37,
   "metadata": {},
   "outputs": [],
   "source": [
    "# from MLutils import balance_candidates\n",
    "# from utils import delete_from_csr"
   ]
  },
  {
   "cell_type": "code",
   "execution_count": 38,
   "metadata": {},
   "outputs": [],
   "source": [
    "# arr = np.fromiter(map(lambda x:x[0].item()>=0.5,L_unlab.mean(axis=1)), dtype=bool)\n",
    "# lbls = arr*2-1\n",
    "# indices = [i for i in range(L_unlab.shape[0])] # pass a list of indices into the undersampler\n",
    "# ind_us, lbls_us = balance_candidates(indices, lbls)\n",
    "# unlab_us = [unlab[i] for i in ind_us]\n",
    "# pd.Series(lbls).hist()"
   ]
  },
  {
   "cell_type": "code",
   "execution_count": 42,
   "metadata": {},
   "outputs": [
    {
     "name": "stdout",
     "output_type": "stream",
     "text": [
      "Going to delete 69192 training examples from the unlabeled set\n",
      "10208 examples remaining\n"
     ]
    }
   ],
   "source": [
    "# ind_to_del = list(set(indices).difference(set(ind_us)))\n",
    "# print \"Going to delete %i training examples from the unlabeled set\\n%i examples remaining\"%(\n",
    "#     len(ind_to_del),L_unlab.shape[0]-len(ind_to_del))"
   ]
  },
  {
   "cell_type": "code",
   "execution_count": 45,
   "metadata": {},
   "outputs": [
    {
     "name": "stdout",
     "output_type": "stream",
     "text": [
      "Initial size: (79400, 12)\n",
      "New size: (10208, 12)\n"
     ]
    }
   ],
   "source": [
    "# L_unlab_us = delete_from_csr(L_unlab,row_indices=ind_to_del)\n",
    "# print \"Initial size: %s\\nNew size: %s\"%(L_unlab.shape,L_unlab_us.shape)"
   ]
  },
  {
   "cell_type": "markdown",
   "metadata": {},
   "source": [
    "# Denoising part"
   ]
  },
  {
   "cell_type": "code",
   "execution_count": null,
   "metadata": {},
   "outputs": [],
   "source": []
  },
  {
   "cell_type": "code",
   "execution_count": 38,
   "metadata": {},
   "outputs": [],
   "source": [
    "\n",
    "# # see how many LF vote on how many examples & with how many other LFs there are votes on common examples\n",
    "# L_unlab.lf_stats(session)\n"
   ]
  },
  {
   "cell_type": "code",
   "execution_count": null,
   "metadata": {},
   "outputs": [],
   "source": []
  },
  {
   "cell_type": "code",
   "execution_count": 39,
   "metadata": {},
   "outputs": [
    {
     "data": {
      "text/plain": [
       "(130424, 34)"
      ]
     },
     "execution_count": 39,
     "metadata": {},
     "output_type": "execute_result"
    }
   ],
   "source": [
    "L_unlab.shape"
   ]
  },
  {
   "cell_type": "code",
   "execution_count": null,
   "metadata": {},
   "outputs": [],
   "source": []
  },
  {
   "cell_type": "code",
   "execution_count": null,
   "metadata": {},
   "outputs": [],
   "source": []
  },
  {
   "cell_type": "code",
   "execution_count": null,
   "metadata": {},
   "outputs": [],
   "source": []
  },
  {
   "cell_type": "markdown",
   "metadata": {},
   "source": [
    "## Find dependencies between LFs\n"
   ]
  },
  {
   "cell_type": "code",
   "execution_count": 39,
   "metadata": {},
   "outputs": [],
   "source": [
    "from snorkel.learning.structure import DependencySelector\n",
    "ds = DependencySelector()"
   ]
  },
  {
   "cell_type": "code",
   "execution_count": 48,
   "metadata": {},
   "outputs": [],
   "source": [
    "\n",
    "deps1 = ds.select(L_unlab, threshold=0.1)\n",
    "# deps2 = ds.select(L_unlab, threshold=0.2)\n",
    "# deps3 = ds.select(L_unlab, threshold=0.3)\n",
    "# deps05 = ds.select(L_unlab, threshold=0.05)\n",
    "# deps01 = ds.select(L_unlab, threshold=0.01)\n",
    "\n",
    "# print len(deps01),len(deps05),len(deps1),len(deps2),len(deps3)"
   ]
  },
  {
   "cell_type": "code",
   "execution_count": 41,
   "metadata": {},
   "outputs": [
    {
     "name": "stdout",
     "output_type": "stream",
     "text": [
      "[206, 179, 156, 142, 124, 118, 113, 106, 92, 86]\n",
      "[86, 92, 106, 113, 118, 124, 142, 156, 179, 206]\n"
     ]
    }
   ],
   "source": [
    "# Generate all possible dependencies with threshold from 0 to 0.15\n",
    "all_deps = [ds.select(L_unlab, threshold=thresh) for thresh in np.array(range(5,15))/100.]\n",
    "print list(map(lambda x: len(x) ,all_deps))\n",
    "all_deps = list(np.unique(all_deps)) # delete duplicates for gridsearch\n",
    "print list(map(lambda x: len(x) ,all_deps))\n"
   ]
  },
  {
   "cell_type": "code",
   "execution_count": null,
   "metadata": {},
   "outputs": [],
   "source": []
  },
  {
   "cell_type": "markdown",
   "metadata": {},
   "source": [
    "# GM training (with fixed params)"
   ]
  },
  {
   "cell_type": "code",
   "execution_count": 42,
   "metadata": {},
   "outputs": [],
   "source": [
    "from snorkel.learning import RandomSearch, GenerativeModel, GridSearch"
   ]
  },
  {
   "cell_type": "code",
   "execution_count": 51,
   "metadata": {},
   "outputs": [
    {
     "name": "stdout",
     "output_type": "stream",
     "text": [
      "Inferred cardinality: 2\n",
      "CPU times: user 22min 23s, sys: 2.38 s, total: 22min 25s\n",
      "Wall time: 9min 36s\n"
     ]
    }
   ],
   "source": [
    "%%time\n",
    "\n",
    "# pick some params for training here\n",
    "\n",
    "### Normal training\n",
    "\n",
    "# actual training of the gen. model\n",
    "from snorkel.learning import GenerativeModel\n",
    "\n",
    "gen_model = GenerativeModel(lf_propensity=True, class_prior=False )\n",
    "# gen_model.train(\n",
    "#     L_train_us, decay=0.95, step_size=0.1/L_train.shape[0], reg_param=1e-6,  threads = 6,\n",
    "#     deps=deps,\n",
    "# )\n",
    "\n",
    "gen_model.train(\n",
    "    L_unlab, decay=0.99, threads = 6, deps=deps1,\n",
    ")\n",
    "\n",
    "\n",
    "# Model                                                        8\n",
    "# epochs                                                     300\n",
    "# step_size                                               0.0001\n",
    "# reg_param                                               1e-100\n",
    "# deps         {(4, 7, 0), (6, 9, 0), (1, 10, 0), (3, 9, 0), ...\n",
    "# decay                                                     0.95\n",
    "# Prec.                                                 0.542312\n",
    "# Rec.                                                 -0.733211\n",
    "# F-1                                                   0.739641\n",
    "# #deps                                                       35\n",
    "# Name: 7, dtype: object"
   ]
  },
  {
   "cell_type": "code",
   "execution_count": 44,
   "metadata": {},
   "outputs": [],
   "source": [
    "# # or pick a previously pretrained model\n",
    "# gen_model = GenerativeModel(lf_propensity=True, class_prior=False )\n",
    "\n",
    "# gen_model.load('GenerativeModel_8', save_dir='checkpoints/grid_search/')\n",
    "# unlab_marginals_us = gen_model.marginals(L_train_us)\n",
    "# bb\n",
    "# plt.hist(unlab_marginals_us, bins=20,range=[0,1])\n",
    "# plt.title('Histogram of marginals with candidates undersampled before GM ')\n",
    "# plt.show()"
   ]
  },
  {
   "cell_type": "code",
   "execution_count": null,
   "metadata": {},
   "outputs": [],
   "source": []
  },
  {
   "cell_type": "markdown",
   "metadata": {},
   "source": [
    "# Error analysis on marginals (on dev set)\n",
    "Visualize true vs false labels on each histogram bin"
   ]
  },
  {
   "cell_type": "code",
   "execution_count": 137,
   "metadata": {},
   "outputs": [
    {
     "name": "stdout",
     "output_type": "stream",
     "text": [
      "[GenerativeModel] Model <GenerativeModel_8> loaded.\n"
     ]
    }
   ],
   "source": [
    "# # Possibly load previously run model\n",
    "# gen_model.load('GenerativeModel_8', save_dir='checkpoints/grid_search/')\n"
   ]
  },
  {
   "cell_type": "code",
   "execution_count": 52,
   "metadata": {},
   "outputs": [
    {
     "data": {
      "image/png": "[encoded data removed]",
      "text/plain": [
       "<Figure size 432x288 with 1 Axes>"
      ]
     },
     "metadata": {},
     "output_type": "display_data"
    }
   ],
   "source": [
    "# Load developer set\n",
    "dev_marginals = gen_model.marginals(L_dev)\n",
    "\n",
    "dev_gold_lbls = neg_to_bin_labels(list(map(lambda x: int(x[0].item()),L_gold_dev.todense())))\n"
   ]
  },
  {
   "cell_type": "code",
   "execution_count": null,
   "metadata": {},
   "outputs": [],
   "source": []
  },
  {
   "cell_type": "code",
   "execution_count": 54,
   "metadata": {},
   "outputs": [
    {
     "data": {
      "image/png": "[encoded data removed]",
      "text/plain": [
       "<Figure size 432x288 with 1 Axes>"
      ]
     },
     "metadata": {},
     "output_type": "display_data"
    }
   ],
   "source": [
    "plot_marginals_histogram(dev_marginals, dev_gold_lbls)"
   ]
  },
  {
   "cell_type": "markdown",
   "metadata": {},
   "source": [
    "### Try with another model / marginal distribution"
   ]
  },
  {
   "cell_type": "code",
   "execution_count": 143,
   "metadata": {},
   "outputs": [
    {
     "name": "stdout",
     "output_type": "stream",
     "text": [
      "[GenerativeModel] Model <GenerativeModel_8> loaded.\n"
     ]
    }
   ],
   "source": [
    "# gen_model.load('GenerativeModel_8', save_dir='checkpoints/grid_search/')\n"
   ]
  },
  {
   "cell_type": "code",
   "execution_count": null,
   "metadata": {},
   "outputs": [],
   "source": [
    "# dev_marginals = gen_model.marginals(L_dev)\n",
    "# plot_marginals_histogram(dev_marginals, \n",
    "#                          title = 'Histogram of marginals in val set' ,\n",
    "#                         bins = 20)"
   ]
  },
  {
   "cell_type": "code",
   "execution_count": null,
   "metadata": {},
   "outputs": [],
   "source": [
    "# plot_marginals_histogram(dev_marginals,dev_gold_lbls ,\n",
    "#                          title = 'Histogram of marginals in val set' ,\n",
    "#                         bins = 11)"
   ]
  },
  {
   "cell_type": "markdown",
   "metadata": {},
   "source": [
    "# Hyperparameter search"
   ]
  },
  {
   "cell_type": "code",
   "execution_count": 45,
   "metadata": {},
   "outputs": [],
   "source": [
    "# param_ranges = { # parameters for the train function of the GenerativeModel\n",
    "# #     'step_size' : [5e-3,1e-4],\n",
    "# #     'decay' : [0.99],\n",
    "# #     'epochs' : [100],\n",
    "# #     'reg_param': [1e-150, 1e-200, 1e-250 ],\n",
    "#     'deps': all_deps\n",
    "# }\n",
    "\n",
    "# model_class_params = {  # parameters for the GenerativeModel\n",
    "#     'lf_propensity': [True]\n",
    "# }\n",
    "\n",
    "# searcher = RandomSearch(GenerativeModel, param_ranges,  L_unlab, model_class_params = model_class_params , n=7 )\n"
   ]
  },
  {
   "cell_type": "code",
   "execution_count": 55,
   "metadata": {
    "scrolled": true
   },
   "outputs": [],
   "source": [
    "# %%time\n",
    "# gen_model, run_stats = searcher.fit(L_dev, L_gold_dev, n_threads=7 )\n",
    "# run_stats['#deps'] = list(map(lambda x: len(run_stats.deps[x]), run_stats.index)) # save # deps to identify 'deps'\n"
   ]
  },
  {
   "cell_type": "code",
   "execution_count": null,
   "metadata": {},
   "outputs": [],
   "source": [
    "# run_stats"
   ]
  },
  {
   "cell_type": "code",
   "execution_count": null,
   "metadata": {},
   "outputs": [],
   "source": []
  },
  {
   "cell_type": "code",
   "execution_count": null,
   "metadata": {},
   "outputs": [],
   "source": []
  },
  {
   "cell_type": "code",
   "execution_count": 48,
   "metadata": {
    "scrolled": true
   },
   "outputs": [],
   "source": [
    "# for idx in run_stats.index:\n",
    "#     print run_stats.loc[idx]\n",
    "#     gen_model.load('GenerativeModel_%i'%run_stats.loc[idx,'Model'], save_dir='checkpoints/grid_search/')\n",
    "#     train_marginals_us = gen_model.marginals(L_unlab)\n",
    "#     plt.hist(train_marginals_us, bins=20)\n",
    "#     plt.title('Histogram of marginals with candidates undersampled before GM ')\n",
    "#     plt.show()\n",
    "#     print '\\n\\n'"
   ]
  },
  {
   "cell_type": "code",
   "execution_count": null,
   "metadata": {},
   "outputs": [],
   "source": []
  },
  {
   "cell_type": "code",
   "execution_count": null,
   "metadata": {},
   "outputs": [],
   "source": [
    "# pick model 8"
   ]
  },
  {
   "cell_type": "code",
   "execution_count": null,
   "metadata": {},
   "outputs": [],
   "source": [
    "\n",
    "# gen_model.load('GenerativeModel_8', save_dir='checkpoints/grid_search/')\n",
    "# unlab_marginals_us = gen_model.marginals(L_train_us)\n"
   ]
  },
  {
   "cell_type": "code",
   "execution_count": 56,
   "metadata": {},
   "outputs": [
    {
     "name": "stdout",
     "output_type": "stream",
     "text": [
      "========================================\n",
      "Scores (Un-adjusted)\n",
      "========================================\n",
      "Pos. class accuracy: 0.72\n",
      "Neg. class accuracy: 0.785\n",
      "Precision            0.484\n",
      "Recall               0.72\n",
      "F1                   0.579\n",
      "----------------------------------------\n",
      "TP: 511 | FP: 545 | TN: 1987 | FN: 199\n",
      "========================================\n",
      "\n"
     ]
    }
   ],
   "source": [
    "_ = gen_model.error_analysis(session, L_dev, L_gold_dev)"
   ]
  },
  {
   "cell_type": "code",
   "execution_count": null,
   "metadata": {},
   "outputs": [],
   "source": [
    "unlab_marginals = gen_model.marginals(L_unlab)"
   ]
  },
  {
   "cell_type": "code",
   "execution_count": null,
   "metadata": {},
   "outputs": [],
   "source": [
    "plot_marginals_histogram(unlab_marginals, \n",
    "                         title = 'Histogram of marginals' ,\n",
    "                        bins = 20)"
   ]
  },
  {
   "cell_type": "code",
   "execution_count": null,
   "metadata": {},
   "outputs": [],
   "source": []
  },
  {
   "cell_type": "code",
   "execution_count": null,
   "metadata": {},
   "outputs": [],
   "source": []
  },
  {
   "cell_type": "code",
   "execution_count": null,
   "metadata": {},
   "outputs": [],
   "source": []
  },
  {
   "cell_type": "code",
   "execution_count": null,
   "metadata": {},
   "outputs": [],
   "source": []
  },
  {
   "cell_type": "code",
   "execution_count": 53,
   "metadata": {},
   "outputs": [],
   "source": [
    "# save_marginals(session, L_unlab, unlab_marginals)"
   ]
  },
  {
   "cell_type": "markdown",
   "metadata": {},
   "source": [
    "### Check errors on dev set"
   ]
  },
  {
   "cell_type": "code",
   "execution_count": 63,
   "metadata": {},
   "outputs": [
    {
     "name": "stdout",
     "output_type": "stream",
     "text": [
      "[GenerativeModel] Model <GenerativeModel_1> loaded.\n"
     ]
    }
   ],
   "source": [
    "# gen_model.load('GenerativeModel_1', save_dir='checkpoints/grid_search/')\n"
   ]
  },
  {
   "cell_type": "code",
   "execution_count": null,
   "metadata": {},
   "outputs": [],
   "source": [
    "# # Load developer set\n",
    "# dev_marginals = gen_model.marginals(L_dev)\n",
    "\n",
    "# dev_gold_lbls = neg_to_bin_labels(list(map(lambda x: int(x[0].item()),L_gold_dev.todense())))\n",
    "\n",
    "# plot_marginals_histogram(dev_marginals,dev_gold_lbls ,\n",
    "#                          title = 'Histogram of marginals in val set' ,\n",
    "#                         bins = 11)\n"
   ]
  },
  {
   "cell_type": "markdown",
   "metadata": {},
   "source": [
    "# Discriminative model learning"
   ]
  },
  {
   "cell_type": "code",
   "execution_count": null,
   "metadata": {},
   "outputs": [],
   "source": [
    "from snorkel.learning import reRNN"
   ]
  },
  {
   "cell_type": "code",
   "execution_count": null,
   "metadata": {},
   "outputs": [],
   "source": [
    "L_gold_test = load_gold_labels(session, annotator_name='gold', split=2)\n",
    "L_gold_test"
   ]
  },
  {
   "cell_type": "markdown",
   "metadata": {},
   "source": [
    "** Without GS **"
   ]
  },
  {
   "cell_type": "code",
   "execution_count": null,
   "metadata": {},
   "outputs": [],
   "source": [
    "# plt.hist(unlab_marginals, bins=20)\n",
    "# plt.title('Histogram of marginals with candidates undersampled before GM ')\n",
    "# plt.show()"
   ]
  },
  {
   "cell_type": "code",
   "execution_count": null,
   "metadata": {},
   "outputs": [],
   "source": [
    "train_kwargs = {\n",
    "    'lr':         0.01,\n",
    "    'dim':        100,\n",
    "    'n_epochs':   20,\n",
    "    'dropout':    0.25,\n",
    "    'rebalance':  True,\n",
    "    'print_freq': 1,\n",
    "    'batch_size': 64\n",
    "}\n",
    "\n",
    "lstm = reRNN(seed=1701, n_threads=6,)\n",
    "lstm.train(L_unlab, unlab_marginals , X_dev=dev, Y_dev=L_gold_dev, **train_kwargs)"
   ]
  },
  {
   "cell_type": "code",
   "execution_count": null,
   "metadata": {},
   "outputs": [],
   "source": [
    "tp, fp, tn, fn = lstm.error_analysis(session, dev, L_gold_dev)"
   ]
  },
  {
   "cell_type": "code",
   "execution_count": null,
   "metadata": {},
   "outputs": [],
   "source": [
    "tp, fp, tn, fn = lstm.error_analysis(session, test, L_gold_test)"
   ]
  },
  {
   "cell_type": "code",
   "execution_count": null,
   "metadata": {},
   "outputs": [],
   "source": []
  },
  {
   "cell_type": "markdown",
   "metadata": {},
   "source": [
    "# ~~~"
   ]
  },
  {
   "cell_type": "markdown",
   "metadata": {},
   "source": [
    "** With GS ** "
   ]
  },
  {
   "cell_type": "code",
   "execution_count": 397,
   "metadata": {},
   "outputs": [],
   "source": [
    "from snorkel.annotations import load_marginals\n",
    "train_labels = np.array([0 if train[x].gold_labels[0].value ==-1 else 1 for x in range(len(train))]) # load train labels to mix in LSTM\n",
    "unlab_marginals = load_marginals(session, split=3)\n"
   ]
  },
  {
   "cell_type": "code",
   "execution_count": 398,
   "metadata": {},
   "outputs": [],
   "source": [
    "train_us, train_labels_us = balance_candidates(train,train_labels)"
   ]
  },
  {
   "cell_type": "code",
   "execution_count": 399,
   "metadata": {},
   "outputs": [],
   "source": [
    "train_unlab_marginals = np.append(train_labels_us, unlab_marginals_us)"
   ]
  },
  {
   "cell_type": "code",
   "execution_count": 400,
   "metadata": {},
   "outputs": [
    {
     "data": {
      "image/png": "[encoded data removed]",
      "text/plain": [
       "<Figure size 432x288 with 1 Axes>"
      ]
     },
     "metadata": {},
     "output_type": "display_data"
    }
   ],
   "source": [
    "plt.hist(train_unlab_marginals, bins=20)\n",
    "plt.title('Histogram of marginals (candidates undersampled before GM) + GS ')\n",
    "plt.show()"
   ]
  },
  {
   "cell_type": "code",
   "execution_count": 401,
   "metadata": {},
   "outputs": [
    {
     "name": "stderr",
     "output_type": "stream",
     "text": [
      "/home/antonis/anaconda2/envs/snorkel27clone/lib/python2.7/site-packages/tensorflow/python/ops/gradients_impl.py:100: UserWarning: Converting sparse IndexedSlices to a dense Tensor of unknown shape. This may consume a large amount of memory.\n",
      "  \"Converting sparse IndexedSlices to a dense Tensor of unknown shape. \"\n"
     ]
    },
    {
     "name": "stdout",
     "output_type": "stream",
     "text": [
      "[reRNN] Training model\n",
      "[reRNN] n_train=16812  #epochs=25  batch size=64\n",
      "[reRNN] Epoch 0 (88.69s)\tAverage loss=0.670389\tDev F1=39.58\n",
      "[reRNN] Epoch 1 (184.20s)\tAverage loss=0.574475\tDev F1=38.89\n",
      "[reRNN] Epoch 2 (275.40s)\tAverage loss=0.505027\tDev F1=39.16\n",
      "[reRNN] Epoch 3 (366.70s)\tAverage loss=0.466436\tDev F1=37.59\n",
      "[reRNN] Epoch 4 (454.71s)\tAverage loss=0.441739\tDev F1=38.47\n",
      "[reRNN] Epoch 5 (542.95s)\tAverage loss=0.426697\tDev F1=38.74\n",
      "[reRNN] Epoch 6 (634.96s)\tAverage loss=0.411845\tDev F1=39.47\n",
      "[reRNN] Epoch 7 (728.01s)\tAverage loss=0.409247\tDev F1=38.63\n",
      "[reRNN] Epoch 8 (819.16s)\tAverage loss=0.399574\tDev F1=37.49\n",
      "[reRNN] Epoch 9 (908.25s)\tAverage loss=0.390756\tDev F1=37.85\n",
      "[reRNN] Epoch 10 (997.79s)\tAverage loss=0.384978\tDev F1=38.67\n",
      "[reRNN] Epoch 11 (1092.79s)\tAverage loss=0.378557\tDev F1=39.58\n",
      "[reRNN] Epoch 12 (1187.15s)\tAverage loss=0.373485\tDev F1=39.83\n",
      "[reRNN] Epoch 13 (1281.62s)\tAverage loss=0.368622\tDev F1=39.33\n",
      "[reRNN] Epoch 14 (1375.18s)\tAverage loss=0.367330\tDev F1=38.88\n",
      "[reRNN] Epoch 15 (1467.51s)\tAverage loss=0.367530\tDev F1=39.51\n",
      "[reRNN] Epoch 16 (1560.21s)\tAverage loss=0.368580\tDev F1=38.59\n",
      "[reRNN] Epoch 17 (1652.80s)\tAverage loss=0.369854\tDev F1=36.91\n",
      "[reRNN] Epoch 18 (1742.40s)\tAverage loss=0.362258\tDev F1=37.33\n",
      "[reRNN] Epoch 19 (1833.73s)\tAverage loss=0.363436\tDev F1=37.80\n",
      "[reRNN] Model saved as <reRNN>\n",
      "[reRNN] Epoch 20 (1928.64s)\tAverage loss=0.362737\tDev F1=36.07\n",
      "[reRNN] Epoch 21 (2023.49s)\tAverage loss=0.357714\tDev F1=39.24\n",
      "[reRNN] Model saved as <reRNN>\n",
      "[reRNN] Epoch 22 (2114.23s)\tAverage loss=0.357332\tDev F1=37.42\n",
      "[reRNN] Epoch 23 (2209.35s)\tAverage loss=0.355261\tDev F1=37.91\n",
      "[reRNN] Epoch 24 (2304.09s)\tAverage loss=0.351221\tDev F1=39.07\n",
      "[reRNN] Training done (2309.33s)\n",
      "INFO:tensorflow:Restoring parameters from checkpoints/reRNN/reRNN-21\n",
      "[reRNN] Loaded model <reRNN>\n"
     ]
    }
   ],
   "source": [
    "train_kwargs = {\n",
    "    'lr':         0.01,\n",
    "    'dim':        100,\n",
    "    'n_epochs':   25,\n",
    "    'dropout':    0.5,\n",
    "    'rebalance':  False,\n",
    "    'print_freq': 1,\n",
    "    'batch_size': 64\n",
    "}\n",
    "\n",
    "lstm = reRNN(seed=1701, n_threads=6)\n",
    "lstm.train(train_us+unlab_us, train_unlab_marginals, X_dev=dev, Y_dev=L_gold_dev, **train_kwargs)\n"
   ]
  },
  {
   "cell_type": "code",
   "execution_count": 402,
   "metadata": {},
   "outputs": [
    {
     "name": "stdout",
     "output_type": "stream",
     "text": [
      "========================================\n",
      "Scores (Un-adjusted)\n",
      "========================================\n",
      "Pos. class accuracy: 0.618\n",
      "Neg. class accuracy: 0.578\n",
      "Precision            0.29\n",
      "Recall               0.618\n",
      "F1                   0.395\n",
      "----------------------------------------\n",
      "TP: 436 | FP: 1066 | TN: 1459 | FN: 269\n",
      "========================================\n",
      "\n"
     ]
    }
   ],
   "source": [
    "tp, fp, tn, fn = lstm.error_analysis(session, dev, L_gold_dev)"
   ]
  },
  {
   "cell_type": "code",
   "execution_count": 403,
   "metadata": {},
   "outputs": [
    {
     "name": "stdout",
     "output_type": "stream",
     "text": [
      "========================================\n",
      "Scores (Un-adjusted)\n",
      "========================================\n",
      "Pos. class accuracy: 0.639\n",
      "Neg. class accuracy: 0.542\n",
      "Precision            0.304\n",
      "Recall               0.639\n",
      "F1                   0.412\n",
      "----------------------------------------\n",
      "TP: 1269 | FP: 2909 | TN: 3439 | FN: 718\n",
      "========================================\n",
      "\n"
     ]
    }
   ],
   "source": [
    "tp, fp, tn, fn = lstm.error_analysis(session, test, L_gold_test)"
   ]
  },
  {
   "cell_type": "code",
   "execution_count": null,
   "metadata": {},
   "outputs": [],
   "source": []
  },
  {
   "cell_type": "code",
   "execution_count": null,
   "metadata": {},
   "outputs": [],
   "source": []
  },
  {
   "cell_type": "markdown",
   "metadata": {},
   "source": [
    "# Train the generative model with altered coverage $\\beta \\simeq 0.38 $ "
   ]
  },
  {
   "cell_type": "code",
   "execution_count": 161,
   "metadata": {},
   "outputs": [
    {
     "name": "stdout",
     "output_type": "stream",
     "text": [
      "Inferred cardinality: 2\n",
      "CPU times: user 37.8 s, sys: 71.6 ms, total: 37.9 s\n",
      "Wall time: 16 s\n"
     ]
    }
   ],
   "source": [
    "%%time\n",
    "### Normal training\n",
    "\n",
    "# actual training of the gen. model\n",
    "from snorkel.learning import GenerativeModel\n",
    "\n",
    "gen_model = GenerativeModel(lf_propensity=True, class_prior=False )\n",
    "gen_model.train(\n",
    "    L_train_us, decay=0.95, step_size=0.1/L_train.shape[0], reg_param=1e-6,  threads = 6,\n",
    "    deps=deps,\n",
    ")\n"
   ]
  },
  {
   "cell_type": "code",
   "execution_count": 162,
   "metadata": {},
   "outputs": [
    {
     "data": {
      "text/html": [
       "<div>\n",
       "<style scoped>\n",
       "    .dataframe tbody tr th:only-of-type {\n",
       "        vertical-align: middle;\n",
       "    }\n",
       "\n",
       "    .dataframe tbody tr th {\n",
       "        vertical-align: top;\n",
       "    }\n",
       "\n",
       "    .dataframe thead th {\n",
       "        text-align: right;\n",
       "    }\n",
       "</style>\n",
       "<table border=\"1\" class=\"dataframe\">\n",
       "  <thead>\n",
       "    <tr style=\"text-align: right;\">\n",
       "      <th></th>\n",
       "      <th>Accuracy</th>\n",
       "      <th>Coverage</th>\n",
       "      <th>Precision</th>\n",
       "      <th>Recall</th>\n",
       "    </tr>\n",
       "  </thead>\n",
       "  <tbody>\n",
       "    <tr>\n",
       "      <th>0</th>\n",
       "      <td>0.920615</td>\n",
       "      <td>0.8125</td>\n",
       "      <td>0.950539</td>\n",
       "      <td>0.742202</td>\n",
       "    </tr>\n",
       "    <tr>\n",
       "      <th>1</th>\n",
       "      <td>0.912340</td>\n",
       "      <td>0.7974</td>\n",
       "      <td>0.938179</td>\n",
       "      <td>0.726357</td>\n",
       "    </tr>\n",
       "    <tr>\n",
       "      <th>2</th>\n",
       "      <td>0.914920</td>\n",
       "      <td>0.8110</td>\n",
       "      <td>0.938644</td>\n",
       "      <td>0.744842</td>\n",
       "    </tr>\n",
       "    <tr>\n",
       "      <th>3</th>\n",
       "      <td>0.915871</td>\n",
       "      <td>0.8166</td>\n",
       "      <td>0.944155</td>\n",
       "      <td>0.747813</td>\n",
       "    </tr>\n",
       "    <tr>\n",
       "      <th>4</th>\n",
       "      <td>0.929098</td>\n",
       "      <td>0.8279</td>\n",
       "      <td>0.952712</td>\n",
       "      <td>0.768114</td>\n",
       "    </tr>\n",
       "    <tr>\n",
       "      <th>5</th>\n",
       "      <td>0.929640</td>\n",
       "      <td>0.8286</td>\n",
       "      <td>0.950627</td>\n",
       "      <td>0.775375</td>\n",
       "    </tr>\n",
       "    <tr>\n",
       "      <th>6</th>\n",
       "      <td>0.934440</td>\n",
       "      <td>0.8374</td>\n",
       "      <td>0.954281</td>\n",
       "      <td>0.785443</td>\n",
       "    </tr>\n",
       "    <tr>\n",
       "      <th>7</th>\n",
       "      <td>0.926912</td>\n",
       "      <td>0.8223</td>\n",
       "      <td>0.952234</td>\n",
       "      <td>0.763327</td>\n",
       "    </tr>\n",
       "    <tr>\n",
       "      <th>8</th>\n",
       "      <td>0.921424</td>\n",
       "      <td>0.8145</td>\n",
       "      <td>0.949029</td>\n",
       "      <td>0.749794</td>\n",
       "    </tr>\n",
       "    <tr>\n",
       "      <th>9</th>\n",
       "      <td>0.931904</td>\n",
       "      <td>0.8209</td>\n",
       "      <td>0.953322</td>\n",
       "      <td>0.771910</td>\n",
       "    </tr>\n",
       "    <tr>\n",
       "      <th>10</th>\n",
       "      <td>0.918053</td>\n",
       "      <td>0.8054</td>\n",
       "      <td>0.945616</td>\n",
       "      <td>0.740386</td>\n",
       "    </tr>\n",
       "    <tr>\n",
       "      <th>11</th>\n",
       "      <td>0.918337</td>\n",
       "      <td>0.8180</td>\n",
       "      <td>0.944410</td>\n",
       "      <td>0.745833</td>\n",
       "    </tr>\n",
       "  </tbody>\n",
       "</table>\n",
       "</div>"
      ],
      "text/plain": [
       "    Accuracy  Coverage  Precision    Recall\n",
       "0   0.920615    0.8125   0.950539  0.742202\n",
       "1   0.912340    0.7974   0.938179  0.726357\n",
       "2   0.914920    0.8110   0.938644  0.744842\n",
       "3   0.915871    0.8166   0.944155  0.747813\n",
       "4   0.929098    0.8279   0.952712  0.768114\n",
       "5   0.929640    0.8286   0.950627  0.775375\n",
       "6   0.934440    0.8374   0.954281  0.785443\n",
       "7   0.926912    0.8223   0.952234  0.763327\n",
       "8   0.921424    0.8145   0.949029  0.749794\n",
       "9   0.931904    0.8209   0.953322  0.771910\n",
       "10  0.918053    0.8054   0.945616  0.740386\n",
       "11  0.918337    0.8180   0.944410  0.745833"
      ]
     },
     "execution_count": 162,
     "metadata": {},
     "output_type": "execute_result"
    }
   ],
   "source": [
    "gen_model.learned_lf_stats()"
   ]
  },
  {
   "cell_type": "code",
   "execution_count": 164,
   "metadata": {},
   "outputs": [],
   "source": [
    "train_marginals_us = gen_model.marginals(L_train_us)"
   ]
  },
  {
   "cell_type": "code",
   "execution_count": null,
   "metadata": {},
   "outputs": [],
   "source": []
  },
  {
   "cell_type": "code",
   "execution_count": 166,
   "metadata": {},
   "outputs": [
    {
     "data": {
      "image/png": "[encoded data removed]",
      "text/plain": [
       "<Figure size 432x288 with 1 Axes>"
      ]
     },
     "metadata": {},
     "output_type": "display_data"
    }
   ],
   "source": [
    "plt.hist(train_marginals_us, bins=20)\n",
    "plt.title('Histogram of marginals with candidates undersampled before GM ')\n",
    "plt.show()"
   ]
  },
  {
   "cell_type": "code",
   "execution_count": null,
   "metadata": {},
   "outputs": [],
   "source": []
  },
  {
   "cell_type": "markdown",
   "metadata": {},
   "source": [
    "# ~~~~"
   ]
  },
  {
   "cell_type": "code",
   "execution_count": 60,
   "metadata": {},
   "outputs": [
    {
     "name": "stdout",
     "output_type": "stream",
     "text": [
      "Inferred performance metrics by snorkel:\n"
     ]
    },
    {
     "data": {
      "text/html": [
       "<div>\n",
       "<style scoped>\n",
       "    .dataframe tbody tr th:only-of-type {\n",
       "        vertical-align: middle;\n",
       "    }\n",
       "\n",
       "    .dataframe tbody tr th {\n",
       "        vertical-align: top;\n",
       "    }\n",
       "\n",
       "    .dataframe thead th {\n",
       "        text-align: right;\n",
       "    }\n",
       "</style>\n",
       "<table border=\"1\" class=\"dataframe\">\n",
       "  <thead>\n",
       "    <tr style=\"text-align: right;\">\n",
       "      <th></th>\n",
       "      <th>Accuracy</th>\n",
       "      <th>Coverage</th>\n",
       "      <th>Precision</th>\n",
       "      <th>Recall</th>\n",
       "    </tr>\n",
       "  </thead>\n",
       "  <tbody>\n",
       "    <tr>\n",
       "      <th>0</th>\n",
       "      <td>0.971729</td>\n",
       "      <td>0.8737</td>\n",
       "      <td>0.797044</td>\n",
       "      <td>0.820487</td>\n",
       "    </tr>\n",
       "    <tr>\n",
       "      <th>1</th>\n",
       "      <td>0.937507</td>\n",
       "      <td>0.8369</td>\n",
       "      <td>0.629160</td>\n",
       "      <td>0.805274</td>\n",
       "    </tr>\n",
       "    <tr>\n",
       "      <th>2</th>\n",
       "      <td>0.925276</td>\n",
       "      <td>0.8324</td>\n",
       "      <td>0.575373</td>\n",
       "      <td>0.781947</td>\n",
       "    </tr>\n",
       "    <tr>\n",
       "      <th>3</th>\n",
       "      <td>0.895110</td>\n",
       "      <td>0.8037</td>\n",
       "      <td>0.492881</td>\n",
       "      <td>0.737323</td>\n",
       "    </tr>\n",
       "  </tbody>\n",
       "</table>\n",
       "</div>"
      ],
      "text/plain": [
       "   Accuracy  Coverage  Precision    Recall\n",
       "0  0.971729    0.8737   0.797044  0.820487\n",
       "1  0.937507    0.8369   0.629160  0.805274\n",
       "2  0.925276    0.8324   0.575373  0.781947\n",
       "3  0.895110    0.8037   0.492881  0.737323"
      ]
     },
     "execution_count": 60,
     "metadata": {},
     "output_type": "execute_result"
    }
   ],
   "source": [
    "print 'Inferred performance metrics by snorkel:'\n",
    "gen_model.learned_lf_stats()"
   ]
  },
  {
   "cell_type": "code",
   "execution_count": null,
   "metadata": {},
   "outputs": [],
   "source": []
  },
  {
   "cell_type": "markdown",
   "metadata": {},
   "source": [
    "## Check performance on developer set"
   ]
  },
  {
   "cell_type": "code",
   "execution_count": 63,
   "metadata": {},
   "outputs": [
    {
     "data": {
      "text/html": [
       "<div>\n",
       "<style scoped>\n",
       "    .dataframe tbody tr th:only-of-type {\n",
       "        vertical-align: middle;\n",
       "    }\n",
       "\n",
       "    .dataframe tbody tr th {\n",
       "        vertical-align: top;\n",
       "    }\n",
       "\n",
       "    .dataframe thead th {\n",
       "        text-align: right;\n",
       "    }\n",
       "</style>\n",
       "<table border=\"1\" class=\"dataframe\">\n",
       "  <thead>\n",
       "    <tr style=\"text-align: right;\">\n",
       "      <th></th>\n",
       "      <th>Accuracy</th>\n",
       "      <th>Coverage</th>\n",
       "      <th>Precision</th>\n",
       "      <th>Recall</th>\n",
       "    </tr>\n",
       "  </thead>\n",
       "  <tbody>\n",
       "    <tr>\n",
       "      <th>0</th>\n",
       "      <td>0.968743</td>\n",
       "      <td>0.8734</td>\n",
       "      <td>0.800826</td>\n",
       "      <td>0.850746</td>\n",
       "    </tr>\n",
       "    <tr>\n",
       "      <th>1</th>\n",
       "      <td>0.941741</td>\n",
       "      <td>0.8342</td>\n",
       "      <td>0.671815</td>\n",
       "      <td>0.763828</td>\n",
       "    </tr>\n",
       "    <tr>\n",
       "      <th>2</th>\n",
       "      <td>0.926562</td>\n",
       "      <td>0.8211</td>\n",
       "      <td>0.618130</td>\n",
       "      <td>0.760316</td>\n",
       "    </tr>\n",
       "    <tr>\n",
       "      <th>3</th>\n",
       "      <td>0.897070</td>\n",
       "      <td>0.8054</td>\n",
       "      <td>0.529931</td>\n",
       "      <td>0.738367</td>\n",
       "    </tr>\n",
       "  </tbody>\n",
       "</table>\n",
       "</div>"
      ],
      "text/plain": [
       "   Accuracy  Coverage  Precision    Recall\n",
       "0  0.968743    0.8734   0.800826  0.850746\n",
       "1  0.941741    0.8342   0.671815  0.763828\n",
       "2  0.926562    0.8211   0.618130  0.760316\n",
       "3  0.897070    0.8054   0.529931  0.738367"
      ]
     },
     "execution_count": 63,
     "metadata": {},
     "output_type": "execute_result"
    }
   ],
   "source": [
    "gen_model.learned_lf_stats()"
   ]
  },
  {
   "cell_type": "code",
   "execution_count": 68,
   "metadata": {},
   "outputs": [
    {
     "data": {
      "text/plain": [
       "array([ 1.32927991,  0.96930229,  0.89196357,  0.71774052])"
      ]
     },
     "execution_count": 68,
     "metadata": {},
     "output_type": "execute_result"
    }
   ],
   "source": [
    "gen_model.weights.lf_accuracy"
   ]
  },
  {
   "cell_type": "code",
   "execution_count": 71,
   "metadata": {},
   "outputs": [
    {
     "data": {
      "text/plain": [
       "(0.67838312829525482, 0.54751773049645391, 0.60596546310832033)"
      ]
     },
     "execution_count": 71,
     "metadata": {},
     "output_type": "execute_result"
    }
   ],
   "source": [
    "gen_model.score(L_dev,L_gold_dev)"
   ]
  },
  {
   "cell_type": "code",
   "execution_count": 55,
   "metadata": {},
   "outputs": [
    {
     "data": {
      "text/plain": [
       "0.0087107272118617431"
      ]
     },
     "execution_count": 55,
     "metadata": {},
     "output_type": "execute_result"
    }
   ],
   "source": [
    "np.exp(-8*((.81+.79+.75+.73)/4)**2)"
   ]
  },
  {
   "cell_type": "code",
   "execution_count": 82,
   "metadata": {},
   "outputs": [
    {
     "data": {
      "text/html": [
       "<div>\n",
       "<style scoped>\n",
       "    .dataframe tbody tr th:only-of-type {\n",
       "        vertical-align: middle;\n",
       "    }\n",
       "\n",
       "    .dataframe tbody tr th {\n",
       "        vertical-align: top;\n",
       "    }\n",
       "\n",
       "    .dataframe thead th {\n",
       "        text-align: right;\n",
       "    }\n",
       "</style>\n",
       "<table border=\"1\" class=\"dataframe\">\n",
       "  <thead>\n",
       "    <tr style=\"text-align: right;\">\n",
       "      <th></th>\n",
       "      <th>j</th>\n",
       "      <th>Coverage</th>\n",
       "      <th>Overlaps</th>\n",
       "      <th>Conflicts</th>\n",
       "      <th>TP</th>\n",
       "      <th>FP</th>\n",
       "      <th>FN</th>\n",
       "      <th>TN</th>\n",
       "      <th>Empirical Acc.</th>\n",
       "    </tr>\n",
       "  </thead>\n",
       "  <tbody>\n",
       "    <tr>\n",
       "      <th>fasttext_fasttext</th>\n",
       "      <td>0</td>\n",
       "      <td>1.0</td>\n",
       "      <td>1.0</td>\n",
       "      <td>0.486687</td>\n",
       "      <td>324</td>\n",
       "      <td>225</td>\n",
       "      <td>381</td>\n",
       "      <td>2300</td>\n",
       "      <td>0.812384</td>\n",
       "    </tr>\n",
       "    <tr>\n",
       "      <th>results_dict,ShortDepPath,RuS,CV_,bin_,minFreq=1,_ngrams=(0, 3),LSA100_SVC_linear</th>\n",
       "      <td>1</td>\n",
       "      <td>1.0</td>\n",
       "      <td>1.0</td>\n",
       "      <td>0.486687</td>\n",
       "      <td>508</td>\n",
       "      <td>459</td>\n",
       "      <td>197</td>\n",
       "      <td>2066</td>\n",
       "      <td>0.796904</td>\n",
       "    </tr>\n",
       "    <tr>\n",
       "      <th>RuS,lr=0.001,dropout=0.25,8epochs,rebalance=0,max_sent_length=64_biLSTM</th>\n",
       "      <td>2</td>\n",
       "      <td>1.0</td>\n",
       "      <td>1.0</td>\n",
       "      <td>0.486687</td>\n",
       "      <td>446</td>\n",
       "      <td>519</td>\n",
       "      <td>259</td>\n",
       "      <td>2006</td>\n",
       "      <td>0.759133</td>\n",
       "    </tr>\n",
       "    <tr>\n",
       "      <th>results_dict,lemmas,RuS,TfIdf_,minFreq=1,_ngrams=(1, 1),LSA100_RandomForestClassifier</th>\n",
       "      <td>3</td>\n",
       "      <td>1.0</td>\n",
       "      <td>1.0</td>\n",
       "      <td>0.486687</td>\n",
       "      <td>520</td>\n",
       "      <td>658</td>\n",
       "      <td>185</td>\n",
       "      <td>1867</td>\n",
       "      <td>0.739009</td>\n",
       "    </tr>\n",
       "  </tbody>\n",
       "</table>\n",
       "</div>"
      ],
      "text/plain": [
       "                                                    j  Coverage  Overlaps  \\\n",
       "fasttext_fasttext                                   0       1.0       1.0   \n",
       "results_dict,ShortDepPath,RuS,CV_,bin_,minFreq=...  1       1.0       1.0   \n",
       "RuS,lr=0.001,dropout=0.25,8epochs,rebalance=0,m...  2       1.0       1.0   \n",
       "results_dict,lemmas,RuS,TfIdf_,minFreq=1,_ngram...  3       1.0       1.0   \n",
       "\n",
       "                                                    Conflicts   TP   FP   FN  \\\n",
       "fasttext_fasttext                                    0.486687  324  225  381   \n",
       "results_dict,ShortDepPath,RuS,CV_,bin_,minFreq=...   0.486687  508  459  197   \n",
       "RuS,lr=0.001,dropout=0.25,8epochs,rebalance=0,m...   0.486687  446  519  259   \n",
       "results_dict,lemmas,RuS,TfIdf_,minFreq=1,_ngram...   0.486687  520  658  185   \n",
       "\n",
       "                                                      TN  Empirical Acc.  \n",
       "fasttext_fasttext                                   2300        0.812384  \n",
       "results_dict,ShortDepPath,RuS,CV_,bin_,minFreq=...  2066        0.796904  \n",
       "RuS,lr=0.001,dropout=0.25,8epochs,rebalance=0,m...  2006        0.759133  \n",
       "results_dict,lemmas,RuS,TfIdf_,minFreq=1,_ngram...  1867        0.739009  "
      ]
     },
     "execution_count": 82,
     "metadata": {},
     "output_type": "execute_result"
    }
   ],
   "source": [
    "L_dev.lf_stats(session, L_gold_dev,)"
   ]
  },
  {
   "cell_type": "code",
   "execution_count": 72,
   "metadata": {},
   "outputs": [
    {
     "data": {
      "text/html": [
       "<div>\n",
       "<style scoped>\n",
       "    .dataframe tbody tr th:only-of-type {\n",
       "        vertical-align: middle;\n",
       "    }\n",
       "\n",
       "    .dataframe tbody tr th {\n",
       "        vertical-align: top;\n",
       "    }\n",
       "\n",
       "    .dataframe thead th {\n",
       "        text-align: right;\n",
       "    }\n",
       "</style>\n",
       "<table border=\"1\" class=\"dataframe\">\n",
       "  <thead>\n",
       "    <tr style=\"text-align: right;\">\n",
       "      <th></th>\n",
       "      <th>j</th>\n",
       "      <th>Coverage</th>\n",
       "      <th>Overlaps</th>\n",
       "      <th>Conflicts</th>\n",
       "      <th>TP</th>\n",
       "      <th>FP</th>\n",
       "      <th>FN</th>\n",
       "      <th>TN</th>\n",
       "      <th>Empirical Acc.</th>\n",
       "      <th>Learned Acc.</th>\n",
       "    </tr>\n",
       "  </thead>\n",
       "  <tbody>\n",
       "    <tr>\n",
       "      <th>fasttext_fasttext</th>\n",
       "      <td>0</td>\n",
       "      <td>1.0</td>\n",
       "      <td>1.0</td>\n",
       "      <td>0.486687</td>\n",
       "      <td>324</td>\n",
       "      <td>225</td>\n",
       "      <td>381</td>\n",
       "      <td>2300</td>\n",
       "      <td>0.812384</td>\n",
       "      <td>0.968112</td>\n",
       "    </tr>\n",
       "    <tr>\n",
       "      <th>results_dict,ShortDepPath,RuS,CV_,bin_,minFreq=1,_ngrams=(0, 3),LSA100_SVC_linear</th>\n",
       "      <td>1</td>\n",
       "      <td>1.0</td>\n",
       "      <td>1.0</td>\n",
       "      <td>0.486687</td>\n",
       "      <td>508</td>\n",
       "      <td>459</td>\n",
       "      <td>197</td>\n",
       "      <td>2066</td>\n",
       "      <td>0.796904</td>\n",
       "      <td>0.935136</td>\n",
       "    </tr>\n",
       "    <tr>\n",
       "      <th>RuS,lr=0.001,dropout=0.25,8epochs,rebalance=0,max_sent_length=64_biLSTM</th>\n",
       "      <td>2</td>\n",
       "      <td>1.0</td>\n",
       "      <td>1.0</td>\n",
       "      <td>0.486687</td>\n",
       "      <td>446</td>\n",
       "      <td>519</td>\n",
       "      <td>259</td>\n",
       "      <td>2006</td>\n",
       "      <td>0.759133</td>\n",
       "      <td>0.924378</td>\n",
       "    </tr>\n",
       "    <tr>\n",
       "      <th>results_dict,lemmas,RuS,TfIdf_,minFreq=1,_ngrams=(1, 1),LSA100_RandomForestClassifier</th>\n",
       "      <td>3</td>\n",
       "      <td>1.0</td>\n",
       "      <td>1.0</td>\n",
       "      <td>0.486687</td>\n",
       "      <td>520</td>\n",
       "      <td>658</td>\n",
       "      <td>185</td>\n",
       "      <td>1867</td>\n",
       "      <td>0.739009</td>\n",
       "      <td>0.896389</td>\n",
       "    </tr>\n",
       "  </tbody>\n",
       "</table>\n",
       "</div>"
      ],
      "text/plain": [
       "                                                    j  Coverage  Overlaps  \\\n",
       "fasttext_fasttext                                   0       1.0       1.0   \n",
       "results_dict,ShortDepPath,RuS,CV_,bin_,minFreq=...  1       1.0       1.0   \n",
       "RuS,lr=0.001,dropout=0.25,8epochs,rebalance=0,m...  2       1.0       1.0   \n",
       "results_dict,lemmas,RuS,TfIdf_,minFreq=1,_ngram...  3       1.0       1.0   \n",
       "\n",
       "                                                    Conflicts   TP   FP   FN  \\\n",
       "fasttext_fasttext                                    0.486687  324  225  381   \n",
       "results_dict,ShortDepPath,RuS,CV_,bin_,minFreq=...   0.486687  508  459  197   \n",
       "RuS,lr=0.001,dropout=0.25,8epochs,rebalance=0,m...   0.486687  446  519  259   \n",
       "results_dict,lemmas,RuS,TfIdf_,minFreq=1,_ngram...   0.486687  520  658  185   \n",
       "\n",
       "                                                      TN  Empirical Acc.  \\\n",
       "fasttext_fasttext                                   2300        0.812384   \n",
       "results_dict,ShortDepPath,RuS,CV_,bin_,minFreq=...  2066        0.796904   \n",
       "RuS,lr=0.001,dropout=0.25,8epochs,rebalance=0,m...  2006        0.759133   \n",
       "results_dict,lemmas,RuS,TfIdf_,minFreq=1,_ngram...  1867        0.739009   \n",
       "\n",
       "                                                    Learned Acc.  \n",
       "fasttext_fasttext                                       0.968112  \n",
       "results_dict,ShortDepPath,RuS,CV_,bin_,minFreq=...      0.935136  \n",
       "RuS,lr=0.001,dropout=0.25,8epochs,rebalance=0,m...      0.924378  \n",
       "results_dict,lemmas,RuS,TfIdf_,minFreq=1,_ngram...      0.896389  "
      ]
     },
     "execution_count": 72,
     "metadata": {},
     "output_type": "execute_result"
    }
   ],
   "source": [
    "learned_stats = L_dev.lf_stats(session, L_gold_dev, gen_model.learned_lf_stats()['Accuracy'])\n",
    "learned_stats"
   ]
  },
  {
   "cell_type": "code",
   "execution_count": null,
   "metadata": {},
   "outputs": [],
   "source": []
  },
  {
   "cell_type": "markdown",
   "metadata": {},
   "source": [
    "### Try with priors = F1 score"
   ]
  },
  {
   "cell_type": "code",
   "execution_count": 87,
   "metadata": {},
   "outputs": [],
   "source": [
    "gen_model_prior = GenerativeModel()"
   ]
  },
  {
   "cell_type": "code",
   "execution_count": 88,
   "metadata": {},
   "outputs": [
    {
     "name": "stdout",
     "output_type": "stream",
     "text": [
      "Inferred cardinality: 2\n"
     ]
    }
   ],
   "source": [
    "gen_model_prior.train(L_train, LF_acc_prior_weights=[0.5167, 0.60765, 0.5341, 0.5523 ])"
   ]
  },
  {
   "cell_type": "code",
   "execution_count": null,
   "metadata": {},
   "outputs": [],
   "source": []
  },
  {
   "cell_type": "code",
   "execution_count": 83,
   "metadata": {},
   "outputs": [
    {
     "name": "stdout",
     "output_type": "stream",
     "text": [
      "fasttext_fasttext\n",
      "0.516746411483\n",
      "results_dict,ShortDepPath,RuS,CV_,bin_,minFreq=1,_ngrams=(0, 3),LSA100_SVC_linear\n",
      "0.607655502392\n",
      "RuS,lr=0.001,dropout=0.25,8epochs,rebalance=0,max_sent_length=64_biLSTM\n",
      "0.534131736527\n",
      "results_dict,lemmas,RuS,TfIdf_,minFreq=1,_ngrams=(1, 1),LSA100_RandomForestClassifier\n",
      "0.552310143388\n"
     ]
    }
   ],
   "source": [
    "# to pass priors as F1 score\n",
    "from sklearn.metrics import f1_score\n",
    "\n",
    "for row in learned_stats.iterrows():\n",
    "    print row[0]\n",
    "    tp = row[1]['TP']\n",
    "    tn = row[1]['TN']\n",
    "    fp = row[1]['FP']\n",
    "    fn = row[1]['FN']\n",
    "    pr = float(tp)/(tp+fp)\n",
    "    rec = float(tp)/(tp+fn)\n",
    "    f1 = (2*pr*rec)/(pr+rec)\n",
    "    print f1"
   ]
  },
  {
   "cell_type": "code",
   "execution_count": 260,
   "metadata": {},
   "outputs": [],
   "source": [
    "# # export to latex\n",
    "# print learned_stats.drop(labels=['j','Coverage', 'Overlaps', 'Conflicts'], axis=1).reset_index(drop=True).to_latex()"
   ]
  },
  {
   "cell_type": "markdown",
   "metadata": {},
   "source": [
    "### Put it in a log"
   ]
  },
  {
   "cell_type": "code",
   "execution_count": 157,
   "metadata": {},
   "outputs": [],
   "source": [
    "gen_model_prior_log = GenerativeModel()"
   ]
  },
  {
   "cell_type": "code",
   "execution_count": 158,
   "metadata": {},
   "outputs": [],
   "source": [
    "# TODO: try this from  snorkel/test/learning/test_supervised.py\n",
    "\n",
    "\n",
    "LF_acc_priors = [0.5167, 0.60765, 0.5341, 0.5523 ]\n",
    "cardinality = 2\n",
    "LF_acc_prior_weights = [0.5 * np.log((cardinality - 1.0) * x / (1 - x)) for x in LF_acc_priors]\n"
   ]
  },
  {
   "cell_type": "code",
   "execution_count": 159,
   "metadata": {},
   "outputs": [
    {
     "data": {
      "text/plain": [
       "[0.033412428221050325,\n",
       " 0.2187223798716636,\n",
       " 0.068306034261486848,\n",
       " 0.10498400583011107]"
      ]
     },
     "execution_count": 159,
     "metadata": {},
     "output_type": "execute_result"
    }
   ],
   "source": [
    "LF_acc_prior_weights"
   ]
  },
  {
   "cell_type": "code",
   "execution_count": 160,
   "metadata": {},
   "outputs": [
    {
     "name": "stdout",
     "output_type": "stream",
     "text": [
      "Inferred cardinality: 2\n"
     ]
    }
   ],
   "source": [
    "gen_model_prior_log.train(L_train, LF_acc_prior_weights=LF_acc_prior_weights)"
   ]
  },
  {
   "cell_type": "code",
   "execution_count": null,
   "metadata": {},
   "outputs": [],
   "source": []
  },
  {
   "cell_type": "markdown",
   "metadata": {},
   "source": [
    "# ~"
   ]
  },
  {
   "cell_type": "code",
   "execution_count": 163,
   "metadata": {},
   "outputs": [
    {
     "data": {
      "text/plain": [
       "array([ 0.5167 ,  0.60765,  0.5341 ,  0.5523 ])"
      ]
     },
     "execution_count": 163,
     "metadata": {},
     "output_type": "execute_result"
    }
   ],
   "source": [
    "gen_model.weights.lf_accuracy"
   ]
  },
  {
   "cell_type": "code",
   "execution_count": 99,
   "metadata": {},
   "outputs": [
    {
     "data": {
      "text/plain": [
       "array([ 0.5167 ,  0.60765,  0.5341 ,  0.5523 ])"
      ]
     },
     "execution_count": 99,
     "metadata": {},
     "output_type": "execute_result"
    }
   ],
   "source": [
    "np.array([0.5167, 0.60765, 0.5341, 0.5523 ])"
   ]
  },
  {
   "cell_type": "code",
   "execution_count": 100,
   "metadata": {},
   "outputs": [],
   "source": [
    "gen_model.weights.lf_accuracy = np.array([0.5167, 0.60765, 0.5341, 0.5523 ])"
   ]
  },
  {
   "cell_type": "code",
   "execution_count": null,
   "metadata": {},
   "outputs": [],
   "source": []
  },
  {
   "cell_type": "code",
   "execution_count": 101,
   "metadata": {},
   "outputs": [],
   "source": [
    "train_marginals_F1 = gen_model.marginals(L_train)"
   ]
  },
  {
   "cell_type": "code",
   "execution_count": 134,
   "metadata": {},
   "outputs": [
    {
     "data": {
      "image/png": "[encoded data removed]",
      "text/plain": [
       "<Figure size 432x288 with 1 Axes>"
      ]
     },
     "metadata": {},
     "output_type": "display_data"
    }
   ],
   "source": [
    "plt.hist(train_marginals_F1, bins=20)\n",
    "plt.title('Histogram of probabilistic labels (created with %i models & overwritten F1 scores)'%n_models)\n",
    "plt.show()"
   ]
  },
  {
   "cell_type": "code",
   "execution_count": null,
   "metadata": {},
   "outputs": [],
   "source": []
  },
  {
   "cell_type": "code",
   "execution_count": 254,
   "metadata": {},
   "outputs": [
    {
     "data": {
      "text/html": [
       "<div>\n",
       "<style scoped>\n",
       "    .dataframe tbody tr th:only-of-type {\n",
       "        vertical-align: middle;\n",
       "    }\n",
       "\n",
       "    .dataframe tbody tr th {\n",
       "        vertical-align: top;\n",
       "    }\n",
       "\n",
       "    .dataframe thead th {\n",
       "        text-align: right;\n",
       "    }\n",
       "</style>\n",
       "<table border=\"1\" class=\"dataframe\">\n",
       "  <thead>\n",
       "    <tr style=\"text-align: right;\">\n",
       "      <th></th>\n",
       "      <th>j</th>\n",
       "      <th>Coverage</th>\n",
       "      <th>Overlaps</th>\n",
       "      <th>Conflicts</th>\n",
       "      <th>TP</th>\n",
       "      <th>FP</th>\n",
       "      <th>FN</th>\n",
       "      <th>TN</th>\n",
       "      <th>Empirical Acc.</th>\n",
       "      <th>Learned Acc.</th>\n",
       "    </tr>\n",
       "  </thead>\n",
       "  <tbody>\n",
       "    <tr>\n",
       "      <th>fasttext_fasttext</th>\n",
       "      <td>0</td>\n",
       "      <td>1.0</td>\n",
       "      <td>1.0</td>\n",
       "      <td>0.486687</td>\n",
       "      <td>324</td>\n",
       "      <td>225</td>\n",
       "      <td>381</td>\n",
       "      <td>2300</td>\n",
       "      <td>0.812384</td>\n",
       "      <td>0.940637</td>\n",
       "    </tr>\n",
       "    <tr>\n",
       "      <th>results_dict,ShortDepPath,RuS,CV_,bin_,minFreq=1,_ngrams=(0, 3),LSA100_SVC_linear</th>\n",
       "      <td>1</td>\n",
       "      <td>1.0</td>\n",
       "      <td>1.0</td>\n",
       "      <td>0.486687</td>\n",
       "      <td>508</td>\n",
       "      <td>459</td>\n",
       "      <td>197</td>\n",
       "      <td>2066</td>\n",
       "      <td>0.796904</td>\n",
       "      <td>0.910915</td>\n",
       "    </tr>\n",
       "    <tr>\n",
       "      <th>RuS,lr=0.001,dropout=0.25,8epochs,rebalance=0,max_sent_length=64_biLSTM</th>\n",
       "      <td>2</td>\n",
       "      <td>1.0</td>\n",
       "      <td>1.0</td>\n",
       "      <td>0.486687</td>\n",
       "      <td>446</td>\n",
       "      <td>519</td>\n",
       "      <td>259</td>\n",
       "      <td>2006</td>\n",
       "      <td>0.759133</td>\n",
       "      <td>0.922221</td>\n",
       "    </tr>\n",
       "    <tr>\n",
       "      <th>results_dict,lemmas,RuS,TfIdf_,minFreq=1,_ngrams=(1, 1),LSA100_RandomForestClassifier</th>\n",
       "      <td>3</td>\n",
       "      <td>1.0</td>\n",
       "      <td>1.0</td>\n",
       "      <td>0.486687</td>\n",
       "      <td>520</td>\n",
       "      <td>658</td>\n",
       "      <td>185</td>\n",
       "      <td>1867</td>\n",
       "      <td>0.739009</td>\n",
       "      <td>0.918230</td>\n",
       "    </tr>\n",
       "  </tbody>\n",
       "</table>\n",
       "</div>"
      ],
      "text/plain": [
       "                                                    j  Coverage  Overlaps  \\\n",
       "fasttext_fasttext                                   0       1.0       1.0   \n",
       "results_dict,ShortDepPath,RuS,CV_,bin_,minFreq=...  1       1.0       1.0   \n",
       "RuS,lr=0.001,dropout=0.25,8epochs,rebalance=0,m...  2       1.0       1.0   \n",
       "results_dict,lemmas,RuS,TfIdf_,minFreq=1,_ngram...  3       1.0       1.0   \n",
       "\n",
       "                                                    Conflicts   TP   FP   FN  \\\n",
       "fasttext_fasttext                                    0.486687  324  225  381   \n",
       "results_dict,ShortDepPath,RuS,CV_,bin_,minFreq=...   0.486687  508  459  197   \n",
       "RuS,lr=0.001,dropout=0.25,8epochs,rebalance=0,m...   0.486687  446  519  259   \n",
       "results_dict,lemmas,RuS,TfIdf_,minFreq=1,_ngram...   0.486687  520  658  185   \n",
       "\n",
       "                                                      TN  Empirical Acc.  \\\n",
       "fasttext_fasttext                                   2300        0.812384   \n",
       "results_dict,ShortDepPath,RuS,CV_,bin_,minFreq=...  2066        0.796904   \n",
       "RuS,lr=0.001,dropout=0.25,8epochs,rebalance=0,m...  2006        0.759133   \n",
       "results_dict,lemmas,RuS,TfIdf_,minFreq=1,_ngram...  1867        0.739009   \n",
       "\n",
       "                                                    Learned Acc.  \n",
       "fasttext_fasttext                                       0.940637  \n",
       "results_dict,ShortDepPath,RuS,CV_,bin_,minFreq=...      0.910915  \n",
       "RuS,lr=0.001,dropout=0.25,8epochs,rebalance=0,m...      0.922221  \n",
       "results_dict,lemmas,RuS,TfIdf_,minFreq=1,_ngram...      0.918230  "
      ]
     },
     "execution_count": 254,
     "metadata": {},
     "output_type": "execute_result"
    }
   ],
   "source": [
    "L_dev.lf_stats(session, L_gold_dev, gen_model.learned_lf_stats()['Accuracy'])"
   ]
  },
  {
   "cell_type": "code",
   "execution_count": null,
   "metadata": {},
   "outputs": [],
   "source": []
  },
  {
   "cell_type": "code",
   "execution_count": 91,
   "metadata": {
    "scrolled": true
   },
   "outputs": [
    {
     "data": {
      "text/plain": [
       "Text(0.5,1,'Unweighted voting for 12 classifiers')"
      ]
     },
     "execution_count": 91,
     "metadata": {},
     "output_type": "execute_result"
    },
    {
     "data": {
      "image/png": "[encoded data removed]",
      "text/plain": [
       "<Figure size 432x288 with 1 Axes>"
      ]
     },
     "metadata": {},
     "output_type": "display_data"
    }
   ],
   "source": [
    "#this would be with unweighted voting\n",
    "\n",
    "pd.Series(list(map(lambda x:x[0].item(),L_train.mean(axis=1)))).hist(bins=20)\n",
    "plt.title('Unweighted voting for 12 classifiers')"
   ]
  },
  {
   "cell_type": "code",
   "execution_count": 136,
   "metadata": {},
   "outputs": [],
   "source": [
    "import math\n",
    "import numpy as np\n",
    "import scipy.sparse as sparse\n",
    "from multiprocessing import Process, Queue\n",
    "from sklearn.metrics import f1_score, precision_score, recall_score, accuracy_score\n",
    "from snorkel.models import FeatureKey, GoldLabel, Sentence, Span, Candidate\n",
    "from snorkel.learning.utils import print_scores\n",
    "\n",
    "def majority_vote(L):\n",
    "    '''Majority vote'''\n",
    "    pred = L.sum(axis=1)\n",
    "    pred[(pred > 0).nonzero()[0]] = 1\n",
    "    pred[(pred < 0).nonzero()[0]] = 0\n",
    "    return pred\n",
    "\n",
    "def majority_vote_score(L, gold_labels):\n",
    "    \n",
    "    y_pred = np.ravel(majority_vote(L))\n",
    "    y_true = gold_labels.todense()\n",
    "    y_true = [1 if y_true[i] == 1 else 0 for i in range(y_true.shape[0])]\n",
    "    \n",
    "    pos,neg = y_true.count(1),float(y_true.count(0))\n",
    "    print \"pos/neg    {:d}:{:d} {:.1f}%/{:.1f}%\".format(int(pos), int(neg), pos/(pos+neg)*100, neg/(pos+neg)*100)\n",
    "    print \"precision  {:.2f}\".format( 100 * precision_score(y_true, y_pred) )\n",
    "    print \"recall     {:.2f}\".format( 100 * recall_score(y_true, y_pred) )\n",
    "    print \"f1         {:.2f}\".format( 100 * f1_score(y_true, y_pred) )\n",
    "    #print \"accuracy  {:.2f}\".format( 100 * accuracy_score(y_true, y_pred) \n"
   ]
  },
  {
   "cell_type": "code",
   "execution_count": null,
   "metadata": {},
   "outputs": [],
   "source": []
  },
  {
   "cell_type": "code",
   "execution_count": 137,
   "metadata": {},
   "outputs": [
    {
     "name": "stdout",
     "output_type": "stream",
     "text": [
      "pos/neg    705:2525 21.8%/78.2%\n",
      "precision  67.84\n",
      "recall     54.75\n",
      "f1         60.60\n"
     ]
    }
   ],
   "source": [
    "majority_vote_score(L_dev, L_gold_dev)"
   ]
  },
  {
   "cell_type": "code",
   "execution_count": null,
   "metadata": {},
   "outputs": [],
   "source": []
  },
  {
   "cell_type": "code",
   "execution_count": null,
   "metadata": {},
   "outputs": [],
   "source": [
    "logp_false = e^10\n",
    "logp_true = e"
   ]
  },
  {
   "cell_type": "code",
   "execution_count": null,
   "metadata": {},
   "outputs": [],
   "source": [
    "1 / (1 + np.exp(logp_false - logp_true))"
   ]
  },
  {
   "cell_type": "code",
   "execution_count": 154,
   "metadata": {},
   "outputs": [
    {
     "data": {
      "text/plain": [
       "<4x4 sparse matrix of type '<type 'numpy.float64'>'\n",
       "\twith 6 stored elements in Compressed Sparse Row format>"
      ]
     },
     "execution_count": 154,
     "metadata": {},
     "output_type": "execute_result"
    }
   ],
   "source": [
    "gen_model.weights.dep_similar"
   ]
  },
  {
   "cell_type": "code",
   "execution_count": null,
   "metadata": {},
   "outputs": [],
   "source": []
  },
  {
   "cell_type": "markdown",
   "metadata": {},
   "source": [
    "## save probabilistic labels for the LSTM  -  this is the # of train. examples our LSTM will train on"
   ]
  },
  {
   "cell_type": "code",
   "execution_count": 68,
   "metadata": {},
   "outputs": [
    {
     "name": "stdout",
     "output_type": "stream",
     "text": [
      "Saved 79400 marginals\n"
     ]
    }
   ],
   "source": [
    "from snorkel.annotations import save_marginals\n",
    "save_marginals(session, L_train, train_marginals)"
   ]
  },
  {
   "cell_type": "code",
   "execution_count": 93,
   "metadata": {},
   "outputs": [
    {
     "data": {
      "image/png": "[encoded data removed]",
      "text/plain": [
       "<Figure size 432x288 with 1 Axes>"
      ]
     },
     "metadata": {},
     "output_type": "display_data"
    }
   ],
   "source": [
    "plt.hist(train_marginals, bins=20)\n",
    "plt.title('Histogram of probabilistic labels (created with %i models & LF_prior=True, LF_propensity=False)'%n_models)\n",
    "plt.show()"
   ]
  },
  {
   "cell_type": "code",
   "execution_count": 92,
   "metadata": {},
   "outputs": [
    {
     "data": {
      "image/png": "[encoded data removed]",
      "text/plain": [
       "<Figure size 432x288 with 1 Axes>"
      ]
     },
     "metadata": {},
     "output_type": "display_data"
    }
   ],
   "source": [
    "plt.hist(train_marginals_w_prior, bins=20)\n",
    "plt.title('Histogram of probabilistic labels (created with %i models & LF_prior=True, LF_propensity=False)'%n_models)\n",
    "plt.show()"
   ]
  },
  {
   "cell_type": "code",
   "execution_count": null,
   "metadata": {},
   "outputs": [],
   "source": []
  },
  {
   "cell_type": "code",
   "execution_count": null,
   "metadata": {},
   "outputs": [],
   "source": []
  },
  {
   "cell_type": "code",
   "execution_count": null,
   "metadata": {},
   "outputs": [],
   "source": []
  },
  {
   "cell_type": "markdown",
   "metadata": {},
   "source": [
    "# ~~ "
   ]
  },
  {
   "cell_type": "code",
   "execution_count": 47,
   "metadata": {},
   "outputs": [
    {
     "name": "stdout",
     "output_type": "stream",
     "text": [
      "Clearing existing...\n",
      "Running UDF...\n",
      "[========================================] 100%\n",
      "\n"
     ]
    }
   ],
   "source": [
    "L_test = labeler.apply_existing(split=2)"
   ]
  },
  {
   "cell_type": "code",
   "execution_count": 49,
   "metadata": {},
   "outputs": [
    {
     "data": {
      "text/plain": [
       "<13350x1 sparse matrix of type '<type 'numpy.int64'>'\n",
       "\twith 5781 stored elements in Compressed Sparse Row format>"
      ]
     },
     "execution_count": 49,
     "metadata": {},
     "output_type": "execute_result"
    }
   ],
   "source": [
    "# load from db gold labels\n",
    "L_gold_test = load_gold_labels(session, annotator_name='gold', split=2)\n",
    "L_gold_test"
   ]
  },
  {
   "cell_type": "code",
   "execution_count": 50,
   "metadata": {},
   "outputs": [
    {
     "name": "stdout",
     "output_type": "stream",
     "text": [
      "========================================\n",
      "Scores (Un-adjusted)\n",
      "========================================\n",
      "Pos. class accuracy: 0.259\n",
      "Neg. class accuracy: 0.975\n",
      "Precision            0.57\n",
      "Recall               0.259\n",
      "F1                   0.356\n",
      "----------------------------------------\n",
      "TP: 388 | FP: 293 | TN: 11557 | FN: 1112\n",
      "========================================\n",
      "\n"
     ]
    }
   ],
   "source": [
    "_ = gen_model.error_analysis(session, L_test, L_gold_test)"
   ]
  },
  {
   "cell_type": "code",
   "execution_count": 51,
   "metadata": {},
   "outputs": [
    {
     "data": {
      "text/html": [
       "<div>\n",
       "<style scoped>\n",
       "    .dataframe tbody tr th:only-of-type {\n",
       "        vertical-align: middle;\n",
       "    }\n",
       "\n",
       "    .dataframe tbody tr th {\n",
       "        vertical-align: top;\n",
       "    }\n",
       "\n",
       "    .dataframe thead th {\n",
       "        text-align: right;\n",
       "    }\n",
       "</style>\n",
       "<table border=\"1\" class=\"dataframe\">\n",
       "  <thead>\n",
       "    <tr style=\"text-align: right;\">\n",
       "      <th></th>\n",
       "      <th>j</th>\n",
       "      <th>Coverage</th>\n",
       "      <th>Overlaps</th>\n",
       "      <th>Conflicts</th>\n",
       "      <th>TP</th>\n",
       "      <th>FP</th>\n",
       "      <th>FN</th>\n",
       "      <th>TN</th>\n",
       "      <th>Empirical Acc.</th>\n",
       "      <th>Learned Acc.</th>\n",
       "    </tr>\n",
       "  </thead>\n",
       "  <tbody>\n",
       "    <tr>\n",
       "      <th>dummy</th>\n",
       "      <td>0</td>\n",
       "      <td>1.000000</td>\n",
       "      <td>0.433034</td>\n",
       "      <td>0.128764</td>\n",
       "      <td>0</td>\n",
       "      <td>0</td>\n",
       "      <td>1500</td>\n",
       "      <td>4281</td>\n",
       "      <td>0.740529</td>\n",
       "      <td>0.936173</td>\n",
       "    </tr>\n",
       "    <tr>\n",
       "      <th>LogisticRegression</th>\n",
       "      <td>1</td>\n",
       "      <td>0.433034</td>\n",
       "      <td>0.433034</td>\n",
       "      <td>0.128764</td>\n",
       "      <td>683</td>\n",
       "      <td>563</td>\n",
       "      <td>817</td>\n",
       "      <td>3718</td>\n",
       "      <td>0.761287</td>\n",
       "      <td>0.893057</td>\n",
       "    </tr>\n",
       "    <tr>\n",
       "      <th>SVC_linear</th>\n",
       "      <td>2</td>\n",
       "      <td>0.433034</td>\n",
       "      <td>0.433034</td>\n",
       "      <td>0.128764</td>\n",
       "      <td>594</td>\n",
       "      <td>592</td>\n",
       "      <td>906</td>\n",
       "      <td>3689</td>\n",
       "      <td>0.740875</td>\n",
       "      <td>0.888321</td>\n",
       "    </tr>\n",
       "    <tr>\n",
       "      <th>SVC_rbf_C100</th>\n",
       "      <td>3</td>\n",
       "      <td>0.433034</td>\n",
       "      <td>0.433034</td>\n",
       "      <td>0.128764</td>\n",
       "      <td>606</td>\n",
       "      <td>500</td>\n",
       "      <td>894</td>\n",
       "      <td>3781</td>\n",
       "      <td>0.758865</td>\n",
       "      <td>0.893826</td>\n",
       "    </tr>\n",
       "    <tr>\n",
       "      <th>SVC_rbf_C500</th>\n",
       "      <td>4</td>\n",
       "      <td>0.433034</td>\n",
       "      <td>0.433034</td>\n",
       "      <td>0.128764</td>\n",
       "      <td>625</td>\n",
       "      <td>484</td>\n",
       "      <td>875</td>\n",
       "      <td>3797</td>\n",
       "      <td>0.764920</td>\n",
       "      <td>0.897841</td>\n",
       "    </tr>\n",
       "    <tr>\n",
       "      <th>SVC_rbf_C1000</th>\n",
       "      <td>5</td>\n",
       "      <td>0.433034</td>\n",
       "      <td>0.433034</td>\n",
       "      <td>0.128764</td>\n",
       "      <td>577</td>\n",
       "      <td>480</td>\n",
       "      <td>923</td>\n",
       "      <td>3801</td>\n",
       "      <td>0.757308</td>\n",
       "      <td>0.899282</td>\n",
       "    </tr>\n",
       "  </tbody>\n",
       "</table>\n",
       "</div>"
      ],
      "text/plain": [
       "                    j  Coverage  Overlaps  Conflicts   TP   FP    FN    TN  \\\n",
       "dummy               0  1.000000  0.433034   0.128764    0    0  1500  4281   \n",
       "LogisticRegression  1  0.433034  0.433034   0.128764  683  563   817  3718   \n",
       "SVC_linear          2  0.433034  0.433034   0.128764  594  592   906  3689   \n",
       "SVC_rbf_C100        3  0.433034  0.433034   0.128764  606  500   894  3781   \n",
       "SVC_rbf_C500        4  0.433034  0.433034   0.128764  625  484   875  3797   \n",
       "SVC_rbf_C1000       5  0.433034  0.433034   0.128764  577  480   923  3801   \n",
       "\n",
       "                    Empirical Acc.  Learned Acc.  \n",
       "dummy                     0.740529      0.936173  \n",
       "LogisticRegression        0.761287      0.893057  \n",
       "SVC_linear                0.740875      0.888321  \n",
       "SVC_rbf_C100              0.758865      0.893826  \n",
       "SVC_rbf_C500              0.764920      0.897841  \n",
       "SVC_rbf_C1000             0.757308      0.899282  "
      ]
     },
     "execution_count": 51,
     "metadata": {},
     "output_type": "execute_result"
    }
   ],
   "source": [
    "L_test.lf_stats(session, L_gold_test, gen_model.learned_lf_stats()['Accuracy'])"
   ]
  },
  {
   "cell_type": "code",
   "execution_count": null,
   "metadata": {},
   "outputs": [],
   "source": []
  },
  {
   "cell_type": "code",
   "execution_count": null,
   "metadata": {},
   "outputs": [],
   "source": []
  },
  {
   "cell_type": "code",
   "execution_count": null,
   "metadata": {},
   "outputs": [],
   "source": []
  }
 ],
 "metadata": {
  "kernelspec": {
   "display_name": "Python [conda env:snorkel27clone]",
   "language": "python",
   "name": "conda-env-snorkel27clone-py"
  },
  "language_info": {
   "codemirror_mode": {
    "name": "ipython",
    "version": 2
   },
   "file_extension": ".py",
   "mimetype": "text/x-python",
   "name": "python",
   "nbconvert_exporter": "python",
   "pygments_lexer": "ipython2",
   "version": "2.7.15"
  }
 },
 "nbformat": 4,
 "nbformat_minor": 2
}
