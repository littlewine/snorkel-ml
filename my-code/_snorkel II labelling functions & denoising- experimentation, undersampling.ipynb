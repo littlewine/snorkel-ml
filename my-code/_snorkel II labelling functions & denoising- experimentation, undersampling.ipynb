{
 "cells": [
  {
   "cell_type": "code",
   "execution_count": 1,
   "metadata": {},
   "outputs": [
    {
     "name": "stderr",
     "output_type": "stream",
     "text": [
      "/home/antonis/anaconda2/envs/snorkel27clone/lib/python2.7/site-packages/psycopg2/__init__.py:144: UserWarning: The psycopg2 wheel package will be renamed from release 2.8; in order to keep installing from binary please use \"pip install psycopg2-binary\" instead. For details see: <http://initd.org/psycopg/docs/install.html#binary-install-from-pypi>.\n",
      "  \"\"\")\n"
     ]
    }
   ],
   "source": [
    "%load_ext autoreload\n",
    "%autoreload 2\n",
    "%matplotlib inline\n",
    "%run init.py"
   ]
  },
  {
   "cell_type": "code",
   "execution_count": 2,
   "metadata": {},
   "outputs": [],
   "source": [
    "import seaborn as sns\n",
    "import matplotlib.pyplot as plt"
   ]
  },
  {
   "cell_type": "code",
   "execution_count": 6,
   "metadata": {},
   "outputs": [],
   "source": [
    "from snorkel.lf_helpers import *\n",
    "import pickle,glob"
   ]
  },
  {
   "cell_type": "code",
   "execution_count": 7,
   "metadata": {},
   "outputs": [],
   "source": [
    "import pandas as pd\n",
    "from MLutils import cohen_kappa_score"
   ]
  },
  {
   "cell_type": "code",
   "execution_count": 8,
   "metadata": {},
   "outputs": [],
   "source": [
    "from MLutils import diversity_heatmap, merge_pickles_pred_dicts"
   ]
  },
  {
   "cell_type": "code",
   "execution_count": 10,
   "metadata": {},
   "outputs": [],
   "source": [
    "# make sure unmapped cands are gone"
   ]
  },
  {
   "cell_type": "code",
   "execution_count": 11,
   "metadata": {},
   "outputs": [],
   "source": [
    "from sqlalchemy import  any_,or_,and_"
   ]
  },
  {
   "cell_type": "code",
   "execution_count": 12,
   "metadata": {},
   "outputs": [
    {
     "name": "stdout",
     "output_type": "stream",
     "text": [
      "Adding 0 candidates from split=0 in to_drop list\n",
      "Adding 0 candidates from split=1 in to_drop list\n",
      "Adding 0 candidates from split=2 in to_drop list\n"
     ]
    }
   ],
   "source": [
    "#create list of unmapped cands to drop\n",
    "to_drop = []\n",
    "for k in range(3):\n",
    "    query = session.query(REGULATOR).filter(and_(REGULATOR.split==k,~REGULATOR.gold_labels.any()))\n",
    "    print 'Adding %i candidates from split=%i in to_drop list'%(query.count(), k)\n",
    "    to_drop.extend(map(lambda x: x.id,query.all()))"
   ]
  },
  {
   "cell_type": "code",
   "execution_count": 13,
   "metadata": {},
   "outputs": [],
   "source": [
    "# #drop unmapped cands\n",
    "# query = session.query(Candidate).filter(Candidate.id.in_(to_drop))\n",
    "# print query.count()\n",
    "# query.delete(synchronize_session=False)\n",
    "# session.commit()"
   ]
  },
  {
   "cell_type": "markdown",
   "metadata": {},
   "source": [
    "# Retrieve results and pick models"
   ]
  },
  {
   "cell_type": "code",
   "execution_count": 14,
   "metadata": {},
   "outputs": [],
   "source": [
    "# results_dict = merge_pickles_pred_dicts(glob.glob('ml_predictions/*.pkl'), \n",
    "#                                         f1_threshold=0.49,\n",
    "#                                         list_substr=['results_dict,','minFreq=3','_'],\n",
    "#                                         best_model=True,\n",
    "#                                        )"
   ]
  },
  {
   "cell_type": "code",
   "execution_count": null,
   "metadata": {},
   "outputs": [],
   "source": []
  },
  {
   "cell_type": "code",
   "execution_count": 15,
   "metadata": {},
   "outputs": [
    {
     "name": "stdout",
     "output_type": "stream",
     "text": [
      "Loaded:\n"
     ]
    },
    {
     "data": {
      "text/plain": [
       "['fasttext_fasttext',\n",
       " 'results_dict,ShortDepPath,RuS,CV_,bin_,minFreq=1,_ngrams=(0, 3),LSA100_SVC_linear',\n",
       " 'RuS,lr=0.001,dropout=0.25,8epochs,rebalance=0,max_sent_length=64_biLSTM',\n",
       " 'results_dict,lemmas,RuS,TfIdf_,minFreq=1,_ngrams=(1, 1),LSA100_RandomForestClassifier']"
      ]
     },
     "execution_count": 15,
     "metadata": {},
     "output_type": "execute_result"
    }
   ],
   "source": [
    "with open(\"ml_predictions/4models_selection_metric4.pickle\", 'rb') as f:\n",
    "    results_dict = pickle.load(f)\n",
    "print 'Loaded:\\n',\n",
    "results_dict.keys()"
   ]
  },
  {
   "cell_type": "code",
   "execution_count": 16,
   "metadata": {},
   "outputs": [],
   "source": [
    "selected_models = results_dict.keys()"
   ]
  },
  {
   "cell_type": "code",
   "execution_count": 17,
   "metadata": {},
   "outputs": [],
   "source": [
    "# set(results_dict[results_dict.keys()[0]])"
   ]
  },
  {
   "cell_type": "code",
   "execution_count": null,
   "metadata": {},
   "outputs": [],
   "source": []
  },
  {
   "cell_type": "code",
   "execution_count": 18,
   "metadata": {
    "scrolled": false
   },
   "outputs": [],
   "source": [
    "# unlab_keys0 = set(results_dict[results_dict.keys()[0]]['label_unlab_prob_dict'].keys())\n",
    "# #check model performance\n",
    "# for model_name in results_dict.keys():\n",
    "#     print '\\n',results_dict[model_name]['f1+'], model_name\n",
    "#     print 'Keys matching: ',unlab_keys0 == set(results_dict[model_name]['label_unlab_prob_dict'].keys())\n",
    "#     result_prob = [results_dict[model_name]['label_unlab_prob_dict'][cid] for cid in sorted(results_dict[model_name]['label_unlab_prob_dict'].keys(), reverse=True)]\n",
    "#     result_bin = [0 if prob<=0.5 else 1 for prob in result_prob]\n",
    "#     print result[:10]\n",
    "#     print result_bin[-1110:-1000]\n",
    "    \n",
    "    \n",
    "#     print result_unlab_binary01[-1110:-1000]\n",
    "    \n",
    "# #     print result_bin == result_unlab_binary01\n",
    "    \n",
    "    \n",
    "#     # deal with this shit later.... nice confidence there man!\n",
    "# #     pd.Series(result).hist()\n",
    "# #     plt.plot()"
   ]
  },
  {
   "cell_type": "code",
   "execution_count": 19,
   "metadata": {},
   "outputs": [],
   "source": [
    "# result = [results_dict[key] for model_name in sorted(results_dict.keys(), reverse=True)]"
   ]
  },
  {
   "cell_type": "code",
   "execution_count": null,
   "metadata": {},
   "outputs": [],
   "source": []
  },
  {
   "cell_type": "code",
   "execution_count": null,
   "metadata": {},
   "outputs": [],
   "source": []
  },
  {
   "cell_type": "markdown",
   "metadata": {},
   "source": [
    "** heuristic developed for model selection **\n",
    "\n",
    "(replaced by classifier selection.ipynb )\n"
   ]
  },
  {
   "cell_type": "code",
   "execution_count": 20,
   "metadata": {},
   "outputs": [],
   "source": [
    "# model_names = sorted(results_dict.keys())\n",
    "# cohens_df = pd.DataFrame(index=model_names, columns=model_names)"
   ]
  },
  {
   "cell_type": "code",
   "execution_count": 21,
   "metadata": {},
   "outputs": [],
   "source": [
    "# evaluate_on= 'label_val_binary'\n",
    "# for i,model1 in enumerate(cohens_df.index):\n",
    "#     for j,model2 in enumerate(cohens_df.columns):\n",
    "#         if i==j:\n",
    "#             cohens_df.iloc[i,j] = 0\n",
    "#         else:\n",
    "#             cohens_df.iloc[i,j] = cohen_kappa_score(results_dict[model1][evaluate_on],results_dict[model2][evaluate_on])"
   ]
  },
  {
   "cell_type": "code",
   "execution_count": 22,
   "metadata": {},
   "outputs": [],
   "source": [
    "# cohens_df.mean().sort_values().index[0]"
   ]
  },
  {
   "cell_type": "code",
   "execution_count": null,
   "metadata": {},
   "outputs": [],
   "source": []
  },
  {
   "cell_type": "code",
   "execution_count": 23,
   "metadata": {},
   "outputs": [],
   "source": [
    "# selected_models = ['trim=5,RuS,CV,bin,,stopw=english,LSA100_SVC_rbf_C=500',\n",
    "#                   'lemmas,RuS,TfIdf,,stopw=english_SVC_rbf_C=500'\n",
    "                  \n",
    "#                   ]\n",
    "# candidate_model = ['trim=5,lemmas,RuS,TfIdf,,stopw=english_LogisticRegression',]\n",
    "\n",
    "\n",
    "# max([cohens_df.ix[candidate_model, selected_model].values[0] for selected_model in selected_models])"
   ]
  },
  {
   "cell_type": "code",
   "execution_count": 24,
   "metadata": {},
   "outputs": [],
   "source": [
    "\n",
    "# def select_models(cohens_df, diversity_threshold , f1_threshold=0):\n",
    "#     selected_models = [cohens_df.mean().sort_values().index[0]]\n",
    "#     for candidate_model in cohens_df.mean().sort_values().index[1:]:\n",
    "#         #check whether all cohens kappas are < threshold\n",
    "#         if max([cohens_df.ix[candidate_model, selected_model] for selected_model in selected_models])<diversity_threshold:\n",
    "#             selected_models.append(candidate_model)\n",
    "#     return selected_models\n"
   ]
  },
  {
   "cell_type": "code",
   "execution_count": 25,
   "metadata": {},
   "outputs": [],
   "source": [
    "# selected_models = select_models(cohens_df, diversity_threshold = 0.2, )\n",
    "\n",
    "# selected_models\n",
    "# # results_dict1 = {}\n",
    "# # for key in selected_models:\n",
    "# #     results_dict1[key]=results_dict[key]"
   ]
  },
  {
   "cell_type": "code",
   "execution_count": 26,
   "metadata": {},
   "outputs": [],
   "source": [
    "from MLutils import diversity_matrix, reduce_results_dict"
   ]
  },
  {
   "cell_type": "code",
   "execution_count": 27,
   "metadata": {},
   "outputs": [],
   "source": [
    "from sklearn.metrics import accuracy_score, cohen_kappa_score"
   ]
  },
  {
   "cell_type": "code",
   "execution_count": 28,
   "metadata": {
    "scrolled": false
   },
   "outputs": [
    {
     "data": {
      "text/plain": [
       "<matplotlib.axes._subplots.AxesSubplot at 0x7f1c18d8b8d0>"
      ]
     },
     "execution_count": 28,
     "metadata": {},
     "output_type": "execute_result"
    },
    {
     "data": {
      "image/png": "[encoded data removed]",
      "text/plain": [
       "<Figure size 720x720 with 2 Axes>"
      ]
     },
     "metadata": {},
     "output_type": "display_data"
    }
   ],
   "source": [
    "metric = accuracy_score\n",
    "\n",
    "mean = diversity_matrix(\n",
    "    results_dict,\n",
    "    metric=accuracy_score,\n",
    "    diagonal_key=None\n",
    ").mean().mean()\n",
    "\n",
    "diversity_heatmap(results_dict, \n",
    "                  metric=metric, diagonal_key='f1+', \n",
    "                  evaluate_on = \"label_unlab_prob+\",\n",
    "                  title='Diversity heatmap for %i models picked by clustering (mean(%s)=%.2f)'%(\n",
    "                      len(results_dict),metric.__name__, mean) )"
   ]
  },
  {
   "cell_type": "code",
   "execution_count": 29,
   "metadata": {},
   "outputs": [],
   "source": [
    "# lowest_model_name = cohens_df.mean().idxmin()\n",
    "# print cohens_df.mean().idxmin() , cohens_df.mean().min()"
   ]
  },
  {
   "cell_type": "markdown",
   "metadata": {},
   "source": [
    "# Train the generative model (denoise)"
   ]
  },
  {
   "cell_type": "code",
   "execution_count": 30,
   "metadata": {},
   "outputs": [],
   "source": [
    "from snorkel.annotations import LabelAnnotator"
   ]
  },
  {
   "cell_type": "markdown",
   "metadata": {},
   "source": [
    "** with label generator **"
   ]
  },
  {
   "cell_type": "code",
   "execution_count": null,
   "metadata": {},
   "outputs": [],
   "source": []
  },
  {
   "cell_type": "code",
   "execution_count": 31,
   "metadata": {},
   "outputs": [],
   "source": [
    "def signal_annotator(c):\n",
    "    \"\"\"A generator over the different (worker_id, label_id) pairs for a Tweet.\"\"\"\n",
    "    for model in results_dict.keys():\n",
    "\n",
    "        #hack to convert labels to -1,1....\n",
    "        #TODO: switch back to unlab again\n",
    "        yield model, (results_dict[model]['label_unlab_prob+'][c.id] >= 0.5)*2-1\n",
    "#         yield model, (results_dict[model]['label_unlab_prob_dict'][c.id] > threshold)*2-1\n",
    "\n",
    "#         try:\n",
    "#             yield model, results_dict[model]['label_unlab_prob_dict'][c.id]\n",
    "#         except:\n",
    "#             yield model, 0\n",
    "\n",
    "labeler = LabelAnnotator(label_generator=signal_annotator)"
   ]
  },
  {
   "cell_type": "code",
   "execution_count": 32,
   "metadata": {},
   "outputs": [],
   "source": [
    "# Include the results for validation data\n",
    "def signal_annotator_unlab_val(c):\n",
    "    \"\"\"A generator over the different (worker_id, label_id) pairs for a Tweet.\"\"\"\n",
    "    for model in results_dict.keys():\n",
    "\n",
    "        #hack to convert labels to -1,1....\n",
    "        try:\n",
    "            yield model, (results_dict[model]['label_unlab_prob+'][c.id] >= 0.5)*2-1\n",
    "        except:\n",
    "            yield model, (results_dict[model]['label_val_prob+'][c.id] >= 0.5)*2-1\n",
    "\n",
    "\n",
    "labeler = LabelAnnotator(label_generator=signal_annotator_unlab_val)"
   ]
  },
  {
   "cell_type": "markdown",
   "metadata": {},
   "source": [
    "** with LFs **"
   ]
  },
  {
   "cell_type": "code",
   "execution_count": 32,
   "metadata": {},
   "outputs": [],
   "source": [
    "# def predictions_exist_for(c):\n",
    "#     \"\"\"For now, skip unmapped candidates in the test set - as no predictions where generated for them.\"\"\"\n",
    "#     if c.id in results_dict[results_dict.keys()[0]]['label_unlab_prob_dict'].keys():\n",
    "#         return True\n",
    "#     else:\n",
    "#         return False"
   ]
  },
  {
   "cell_type": "code",
   "execution_count": 33,
   "metadata": {},
   "outputs": [],
   "source": [
    "# random_cand = session.query(REGULATOR).filter(REGULATOR.split==3).all()[0]"
   ]
  },
  {
   "cell_type": "code",
   "execution_count": 34,
   "metadata": {},
   "outputs": [],
   "source": [
    "# predictions_exist_for(random_cand)"
   ]
  },
  {
   "cell_type": "code",
   "execution_count": 35,
   "metadata": {},
   "outputs": [],
   "source": [
    "# results_dict['lemmas,RuS,TfIdf,,stopw=english,LSA100_SVC_rbf_C=500'].keys()"
   ]
  },
  {
   "cell_type": "code",
   "execution_count": 36,
   "metadata": {},
   "outputs": [],
   "source": [
    "# results_dict.keys()"
   ]
  },
  {
   "cell_type": "code",
   "execution_count": 37,
   "metadata": {},
   "outputs": [],
   "source": [
    "# diversity_heatmap(results_dict, figsize=(20,20), metric=accuracy_score )"
   ]
  },
  {
   "cell_type": "code",
   "execution_count": 38,
   "metadata": {},
   "outputs": [],
   "source": [
    "# cohens_df.columns"
   ]
  },
  {
   "cell_type": "code",
   "execution_count": 39,
   "metadata": {},
   "outputs": [],
   "source": [
    "# ['RuS,lr=0.001,dropout=0.25,15epochs,rebalance=0.25,maxsentlength=64_biLSTM',\n",
    "#  'trim=0,RuS,CV,bin,,stopw=english,LSA100_RandomForestClassifier',\n",
    "# 'RuS,CV,bin,,stopw=english_RandomForestClassifier',\n",
    "# ]\n",
    "\n",
    "# def biLSTM(c):\n",
    "#     if predictions_exist_for(c):\n",
    "#         return -1 if results_dict['RuS,lr=0.001,dropout=0.25,15epochs,rebalance=0.25,max_sent_length=64_biLSTM']['label_unlab_prob_dict'][c.id]>=0.5 else 1\n",
    "#     else:\n",
    "#         return 0\n",
    "        \n",
    "# def BOW_TFidf_upto_3grams(c):\n",
    "#     if predictions_exist_for(c):\n",
    "#         return -1 if results_dict['results_dict,RuS,TfIdf_,minFreq=1,_stopw=english,_ngrams=(0, 3)_LogisticRegression']['label_unlab_prob_dict'][c.id]>=0.5 else 1\n",
    "#     else:\n",
    "#         return 0\n",
    "    \n",
    "# def BOW_CV_trimwindow0_LSA100_RF(c):\n",
    "#     if predictions_exist_for(c):\n",
    "#         return -1 if results_dict['results_dict,trim=0,RuS,CV_,bin_,minFreq=3,_stopw=english,LSA100_RandomForestClassifier']['label_unlab_prob_dict'][c.id]>=0.5 else 1\n",
    "#     else:\n",
    "#         return 0\n",
    "    \n",
    "# def BOW_CV_trimwindow5_LSA100_SVCgaussian(c):\n",
    "#     if predictions_exist_for(c):\n",
    "#         return -1 if results_dict['results_dict,trim=5,RuS,CV_,bin_,minFreq=3,_stopw=english,LSA100_SVC_rbf_C=500']['label_unlab_prob_dict'][c.id]>=0.5 else 1\n",
    "#     else:\n",
    "#         return 0\n",
    "    \n",
    "# def BOW_CV_RF(c):\n",
    "#     if predictions_exist_for(c):\n",
    "#         return -1 if results_dict['results_dict,RuS,CV_,bin_,minFreq=3,_stopw=english_RandomForestClassifier']['label_unlab_prob_dict'][c.id]>=0.5 else 1\n",
    "#     else:\n",
    "#         return 0"
   ]
  },
  {
   "cell_type": "code",
   "execution_count": null,
   "metadata": {},
   "outputs": [],
   "source": []
  },
  {
   "cell_type": "code",
   "execution_count": 40,
   "metadata": {},
   "outputs": [],
   "source": [
    "# # Pass classifier output as signals\n",
    "\n",
    "\n",
    "# def mod1(c):\n",
    "#     if predictions_exist_for(c):\n",
    "#         return -1 if results_dict['trim=0,lemmas,RuS,CV,bin,,stopw=english,LSA100_SVC_rbf_C=500']['label_unlab_prob_dict'][c.id]>0.5 else 1\n",
    "#     else:\n",
    "#         return 0\n",
    "        \n",
    "# def mod2(c):\n",
    "#     if predictions_exist_for(c):\n",
    "#         return -1 if results_dict['trim=5,RuS,CV,bin,,stopw=english_SVC_rbf_C=500']['label_unlab_prob_dict'][c.id]>0.5 else 1\n",
    "#     else:\n",
    "#         return 0\n",
    "        \n",
    "# def mod3(c):\n",
    "#     if predictions_exist_for(c):\n",
    "#         return -1 if results_dict['trim=5,RuS,CV,bin,,stopw=english,LSA100_SVC_rbf_C=500']['label_unlab_prob_dict'][c.id]>0.5 else 1\n",
    "#     else:\n",
    "#         return 0\n",
    "        \n",
    "# def mod4(c):\n",
    "#     if predictions_exist_for(c):\n",
    "#         return -1 if results_dict['RuS,TfIdf,,stopw=english_SVC_rbf_C=500']['label_unlab_prob_dict'][c.id]>0.5 else 1\n",
    "#     else:\n",
    "#         return 0\n",
    "        "
   ]
  },
  {
   "cell_type": "code",
   "execution_count": 41,
   "metadata": {},
   "outputs": [],
   "source": [
    "# # unlab\n",
    "\n",
    "# # Pass classifier output as signals\n",
    "\n",
    "\n",
    "# def mod1(c):\n",
    "#     if predictions_exist_for(c):\n",
    "#         return -1 if results_dict1['trim=0,lemmas,RuS,CV,bin,,stopw=english,LSA100_SVC_rbf_C=500']['label_unlab_prob_dict'][c.id]>0.5 else 1\n",
    "#     else:\n",
    "#         return 0\n",
    "        \n",
    "# def mod2(c):\n",
    "#     if predictions_exist_for(c):\n",
    "#         return -1 if results_dict1['trim=5,RuS,CV,bin,,stopw=english_SVC_rbf_C=500']['label_unlab_prob_dict'][c.id]>0.5 else 1\n",
    "#     else:\n",
    "#         return 0\n",
    "        \n",
    "# def mod3(c):\n",
    "#     if predictions_exist_for(c):\n",
    "#         return -1 if results_dict1['trim=5,RuS,CV,bin,,stopw=english,LSA100_SVC_rbf_C=500']['label_unlab_prob_dict'][c.id]>0.5 else 1\n",
    "#     else:\n",
    "#         return 0\n",
    "        \n",
    "# def mod4(c):\n",
    "#     if predictions_exist_for(c):\n",
    "#         return -1 if results_dict1['RuS,TfIdf,,stopw=english_SVC_rbf_C=500']['label_unlab_prob_dict'][c.id]>0.5 else 1\n",
    "#     else:\n",
    "#         return 0\n",
    "        "
   ]
  },
  {
   "cell_type": "code",
   "execution_count": 42,
   "metadata": {},
   "outputs": [],
   "source": [
    "# # LFs = [mod1,mod2,mod3,mod4]\n",
    "# LFs = [biLSTM,BOW_TFidf_upto_3grams,BOW_CV_trimwindow0_LSA100_RF,BOW_CV_trimwindow5_LSA100_SVCgaussian,BOW_CV_RF]\n",
    "# labeler = LabelAnnotator(lfs=LFs)"
   ]
  },
  {
   "cell_type": "code",
   "execution_count": null,
   "metadata": {},
   "outputs": [],
   "source": []
  },
  {
   "cell_type": "markdown",
   "metadata": {},
   "source": [
    "# Start denoising"
   ]
  },
  {
   "cell_type": "code",
   "execution_count": 33,
   "metadata": {
    "scrolled": true
   },
   "outputs": [
    {
     "name": "stdout",
     "output_type": "stream",
     "text": [
      "Clearing existing...\n",
      "Running UDF...\n",
      "CPU times: user 5min 27s, sys: 12.1 s, total: 5min 39s\n",
      "Wall time: 19min 55s\n"
     ]
    },
    {
     "data": {
      "text/plain": [
       "<79400x4 sparse matrix of type '<type 'numpy.int64'>'\n",
       "\twith 317600 stored elements in Compressed Sparse Row format>"
      ]
     },
     "execution_count": 33,
     "metadata": {},
     "output_type": "execute_result"
    }
   ],
   "source": [
    "%time L_train = labeler.apply(split=3, parallelism=6)\n",
    "L_train"
   ]
  },
  {
   "cell_type": "code",
   "execution_count": 34,
   "metadata": {},
   "outputs": [],
   "source": [
    "# Determine parallelism\n",
    "# on validation:\n",
    "\n",
    "# parallelism=4\n",
    "# CPU times: user 9.86 s, sys: 434 ms, total: 10.3 s\n",
    "# Wall time: 38.7 s\n",
    "\n",
    "# parallelism=6\n",
    "# CPU times: user 9.05 s, sys: 389 ms, total: 9.44 s\n",
    "# Wall time: 37.2 s\n",
    "#          on unlab set:\n",
    "# CPU times: user 3min 34s, sys: 8.25 s, total: 3min 42s\n",
    "# Wall time: 14min 4s\n",
    "\n",
    "# for n=12 classifiers takes \n",
    "# Wall time: 1h 2min 21s\n",
    "    \n",
    "# parallelism=7\n",
    "# CPU times: user 11.4 s, sys: 428 ms, total: 11.8 s\n",
    "# Wall time: 41.1 s\n",
    "    \n",
    "# parallelism=12\n",
    "# CPU times: user 9.18 s, sys: 459 ms, total: 9.64 s\n",
    "# Wall time: 38.5 s"
   ]
  },
  {
   "cell_type": "code",
   "execution_count": null,
   "metadata": {},
   "outputs": [],
   "source": []
  },
  {
   "cell_type": "code",
   "execution_count": null,
   "metadata": {},
   "outputs": [],
   "source": []
  },
  {
   "cell_type": "code",
   "execution_count": 35,
   "metadata": {},
   "outputs": [
    {
     "data": {
      "text/html": [
       "<div>\n",
       "<style scoped>\n",
       "    .dataframe tbody tr th:only-of-type {\n",
       "        vertical-align: middle;\n",
       "    }\n",
       "\n",
       "    .dataframe tbody tr th {\n",
       "        vertical-align: top;\n",
       "    }\n",
       "\n",
       "    .dataframe thead th {\n",
       "        text-align: right;\n",
       "    }\n",
       "</style>\n",
       "<table border=\"1\" class=\"dataframe\">\n",
       "  <thead>\n",
       "    <tr style=\"text-align: right;\">\n",
       "      <th></th>\n",
       "      <th>j</th>\n",
       "      <th>Coverage</th>\n",
       "      <th>Overlaps</th>\n",
       "      <th>Conflicts</th>\n",
       "    </tr>\n",
       "  </thead>\n",
       "  <tbody>\n",
       "    <tr>\n",
       "      <th>fasttext_fasttext</th>\n",
       "      <td>0</td>\n",
       "      <td>1.0</td>\n",
       "      <td>1.0</td>\n",
       "      <td>0.473942</td>\n",
       "    </tr>\n",
       "    <tr>\n",
       "      <th>results_dict,ShortDepPath,RuS,CV_,bin_,minFreq=1,_ngrams=(0, 3),LSA100_SVC_linear</th>\n",
       "      <td>1</td>\n",
       "      <td>1.0</td>\n",
       "      <td>1.0</td>\n",
       "      <td>0.473942</td>\n",
       "    </tr>\n",
       "    <tr>\n",
       "      <th>RuS,lr=0.001,dropout=0.25,8epochs,rebalance=0,max_sent_length=64_biLSTM</th>\n",
       "      <td>2</td>\n",
       "      <td>1.0</td>\n",
       "      <td>1.0</td>\n",
       "      <td>0.473942</td>\n",
       "    </tr>\n",
       "    <tr>\n",
       "      <th>results_dict,lemmas,RuS,TfIdf_,minFreq=1,_ngrams=(1, 1),LSA100_RandomForestClassifier</th>\n",
       "      <td>3</td>\n",
       "      <td>1.0</td>\n",
       "      <td>1.0</td>\n",
       "      <td>0.473942</td>\n",
       "    </tr>\n",
       "  </tbody>\n",
       "</table>\n",
       "</div>"
      ],
      "text/plain": [
       "                                                    j  Coverage  Overlaps  \\\n",
       "fasttext_fasttext                                   0       1.0       1.0   \n",
       "results_dict,ShortDepPath,RuS,CV_,bin_,minFreq=...  1       1.0       1.0   \n",
       "RuS,lr=0.001,dropout=0.25,8epochs,rebalance=0,m...  2       1.0       1.0   \n",
       "results_dict,lemmas,RuS,TfIdf_,minFreq=1,_ngram...  3       1.0       1.0   \n",
       "\n",
       "                                                    Conflicts  \n",
       "fasttext_fasttext                                    0.473942  \n",
       "results_dict,ShortDepPath,RuS,CV_,bin_,minFreq=...   0.473942  \n",
       "RuS,lr=0.001,dropout=0.25,8epochs,rebalance=0,m...   0.473942  \n",
       "results_dict,lemmas,RuS,TfIdf_,minFreq=1,_ngram...   0.473942  "
      ]
     },
     "execution_count": 35,
     "metadata": {},
     "output_type": "execute_result"
    }
   ],
   "source": [
    "# see how many LF vote on how many examples & with how many other LFs there are votes on common examples\n",
    "L_train.lf_stats(session)"
   ]
  },
  {
   "cell_type": "code",
   "execution_count": null,
   "metadata": {},
   "outputs": [],
   "source": []
  },
  {
   "cell_type": "code",
   "execution_count": 36,
   "metadata": {},
   "outputs": [
    {
     "data": {
      "text/plain": [
       "6"
      ]
     },
     "execution_count": 36,
     "metadata": {},
     "output_type": "execute_result"
    }
   ],
   "source": [
    "# Find dependencies between LFs\n",
    "\n",
    "from snorkel.learning.structure import DependencySelector\n",
    "ds = DependencySelector()\n",
    "deps = ds.select(L_train, threshold=0.07)\n",
    "len(deps)"
   ]
  },
  {
   "cell_type": "markdown",
   "metadata": {},
   "source": [
    "### Hyperparameter search"
   ]
  },
  {
   "cell_type": "code",
   "execution_count": 46,
   "metadata": {},
   "outputs": [],
   "source": [
    "from snorkel.learning import RandomSearch"
   ]
  },
  {
   "cell_type": "code",
   "execution_count": 140,
   "metadata": {},
   "outputs": [],
   "source": [
    "# param_ranges = { # parameters for the fit function of the GenerativeModel\n",
    "#     'step_size' : [1e-5, 1e-6, 1e-7],\n",
    "#     'decay' : [1.0, 0.95, 0.9],\n",
    "#     'epochs' : [20, 50, 100],\n",
    "#     'reg_param': [5e-2,1e-1,2e-1,],\n",
    "#     'reg_type': [1,2],    \n",
    "# }\n",
    "\n",
    "# model_class_params = {  # parameters for the GenerativeModel\n",
    "#     'lf_propensity': [False]\n",
    "# } \n",
    "\n",
    "# searcher = RandomSearch(GenerativeModel, param_ranges,  L_train, model_class_params = model_class_params , n=6 )"
   ]
  },
  {
   "cell_type": "code",
   "execution_count": 141,
   "metadata": {},
   "outputs": [],
   "source": [
    "# L_train.shape"
   ]
  },
  {
   "cell_type": "code",
   "execution_count": 142,
   "metadata": {},
   "outputs": [],
   "source": [
    "# %%time\n",
    "# gen_model, run_stats = searcher.fit(L_dev, L_gold_dev, n_threads=6 )\n",
    "# run_stats"
   ]
  },
  {
   "cell_type": "code",
   "execution_count": 104,
   "metadata": {},
   "outputs": [
    {
     "data": {
      "text/html": [
       "<div>\n",
       "<style scoped>\n",
       "    .dataframe tbody tr th:only-of-type {\n",
       "        vertical-align: middle;\n",
       "    }\n",
       "\n",
       "    .dataframe tbody tr th {\n",
       "        vertical-align: top;\n",
       "    }\n",
       "\n",
       "    .dataframe thead th {\n",
       "        text-align: right;\n",
       "    }\n",
       "</style>\n",
       "<table border=\"1\" class=\"dataframe\">\n",
       "  <thead>\n",
       "    <tr style=\"text-align: right;\">\n",
       "      <th></th>\n",
       "      <th>Model</th>\n",
       "      <th>epochs</th>\n",
       "      <th>step_size</th>\n",
       "      <th>reg_type</th>\n",
       "      <th>reg_param</th>\n",
       "      <th>decay</th>\n",
       "      <th>Prec.</th>\n",
       "      <th>Rec.</th>\n",
       "      <th>F-1</th>\n",
       "    </tr>\n",
       "  </thead>\n",
       "  <tbody>\n",
       "    <tr>\n",
       "      <th>4</th>\n",
       "      <td>2</td>\n",
       "      <td>100</td>\n",
       "      <td>1.000000e-07</td>\n",
       "      <td>1</td>\n",
       "      <td>0.10</td>\n",
       "      <td>1.00</td>\n",
       "      <td>0.605398</td>\n",
       "      <td>0.668085</td>\n",
       "      <td>0.635199</td>\n",
       "    </tr>\n",
       "    <tr>\n",
       "      <th>1</th>\n",
       "      <td>4</td>\n",
       "      <td>20</td>\n",
       "      <td>1.000000e-07</td>\n",
       "      <td>2</td>\n",
       "      <td>0.10</td>\n",
       "      <td>0.90</td>\n",
       "      <td>0.604621</td>\n",
       "      <td>0.668085</td>\n",
       "      <td>0.634771</td>\n",
       "    </tr>\n",
       "    <tr>\n",
       "      <th>3</th>\n",
       "      <td>3</td>\n",
       "      <td>100</td>\n",
       "      <td>1.000000e-06</td>\n",
       "      <td>2</td>\n",
       "      <td>0.20</td>\n",
       "      <td>0.95</td>\n",
       "      <td>0.604621</td>\n",
       "      <td>0.668085</td>\n",
       "      <td>0.634771</td>\n",
       "    </tr>\n",
       "    <tr>\n",
       "      <th>2</th>\n",
       "      <td>5</td>\n",
       "      <td>100</td>\n",
       "      <td>1.000000e-06</td>\n",
       "      <td>1</td>\n",
       "      <td>0.05</td>\n",
       "      <td>1.00</td>\n",
       "      <td>0.606218</td>\n",
       "      <td>0.663830</td>\n",
       "      <td>0.633717</td>\n",
       "    </tr>\n",
       "    <tr>\n",
       "      <th>5</th>\n",
       "      <td>0</td>\n",
       "      <td>100</td>\n",
       "      <td>1.000000e-07</td>\n",
       "      <td>1</td>\n",
       "      <td>0.20</td>\n",
       "      <td>1.00</td>\n",
       "      <td>0.605707</td>\n",
       "      <td>0.662411</td>\n",
       "      <td>0.632791</td>\n",
       "    </tr>\n",
       "    <tr>\n",
       "      <th>0</th>\n",
       "      <td>1</td>\n",
       "      <td>50</td>\n",
       "      <td>1.000000e-06</td>\n",
       "      <td>2</td>\n",
       "      <td>0.05</td>\n",
       "      <td>1.00</td>\n",
       "      <td>0.603871</td>\n",
       "      <td>0.663830</td>\n",
       "      <td>0.632432</td>\n",
       "    </tr>\n",
       "  </tbody>\n",
       "</table>\n",
       "</div>"
      ],
      "text/plain": [
       "   Model  epochs     step_size  reg_type  reg_param  decay     Prec.  \\\n",
       "4      2     100  1.000000e-07         1       0.10   1.00  0.605398   \n",
       "1      4      20  1.000000e-07         2       0.10   0.90  0.604621   \n",
       "3      3     100  1.000000e-06         2       0.20   0.95  0.604621   \n",
       "2      5     100  1.000000e-06         1       0.05   1.00  0.606218   \n",
       "5      0     100  1.000000e-07         1       0.20   1.00  0.605707   \n",
       "0      1      50  1.000000e-06         2       0.05   1.00  0.603871   \n",
       "\n",
       "       Rec.       F-1  \n",
       "4  0.668085  0.635199  \n",
       "1  0.668085  0.634771  \n",
       "3  0.668085  0.634771  \n",
       "2  0.663830  0.633717  \n",
       "5  0.662411  0.632791  \n",
       "0  0.663830  0.632432  "
      ]
     },
     "execution_count": 104,
     "metadata": {},
     "output_type": "execute_result"
    }
   ],
   "source": [
    "# run_stats"
   ]
  },
  {
   "cell_type": "code",
   "execution_count": 110,
   "metadata": {},
   "outputs": [
    {
     "name": "stdout",
     "output_type": "stream",
     "text": [
      "[GenerativeModel] Model <GenerativeModel_4> loaded.\n"
     ]
    }
   ],
   "source": [
    "# gen_model.load('GenerativeModel_4',save_dir='checkpoints/grid_search/')"
   ]
  },
  {
   "cell_type": "code",
   "execution_count": 47,
   "metadata": {},
   "outputs": [],
   "source": [
    "# train_marginals = gen_model.marginals(L_train)"
   ]
  },
  {
   "cell_type": "markdown",
   "metadata": {},
   "source": [
    "### Normal training"
   ]
  },
  {
   "cell_type": "code",
   "execution_count": 53,
   "metadata": {},
   "outputs": [
    {
     "name": "stdout",
     "output_type": "stream",
     "text": [
      "Inferred cardinality: 2\n",
      "CPU times: user 2min 17s, sys: 141 ms, total: 2min 18s\n",
      "Wall time: 1min 30s\n"
     ]
    }
   ],
   "source": [
    "%%time\n",
    "### Normal training\n",
    "\n",
    "# actual training of the gen. model\n",
    "from snorkel.learning import GenerativeModel\n",
    "\n",
    "gen_model = GenerativeModel(lf_propensity=False, class_prior=True )\n",
    "gen_model.train(\n",
    "    L_train, decay=0.95, step_size=0.1/L_train.shape[0], reg_param=1e-6,  threads = 6,\n",
    "    deps=deps,\n",
    ")\n",
    "\n",
    "train_marginals = gen_model.marginals(L_train)"
   ]
  },
  {
   "cell_type": "code",
   "execution_count": 47,
   "metadata": {},
   "outputs": [],
   "source": [
    "# # plt.hist(train_marginals, bins=20)\n",
    "# sns.distplot(train_marginals,bins=20)\n",
    "# plt.title('Histogram of probabilistic labels (good_batch.pickle)')\n",
    "# plt.show()"
   ]
  },
  {
   "cell_type": "code",
   "execution_count": null,
   "metadata": {},
   "outputs": [],
   "source": []
  },
  {
   "cell_type": "code",
   "execution_count": 54,
   "metadata": {},
   "outputs": [],
   "source": [
    "n_models = len(results_dict.keys())"
   ]
  },
  {
   "cell_type": "code",
   "execution_count": 55,
   "metadata": {},
   "outputs": [],
   "source": [
    "from MLutils import diversity_matrix"
   ]
  },
  {
   "cell_type": "code",
   "execution_count": 56,
   "metadata": {},
   "outputs": [
    {
     "data": {
      "text/plain": [
       "0.80003869969040242"
      ]
     },
     "execution_count": 56,
     "metadata": {},
     "output_type": "execute_result"
    }
   ],
   "source": [
    "diversity_matrix(results_dict,metric=accuracy_score).mean().mean()"
   ]
  },
  {
   "cell_type": "code",
   "execution_count": 57,
   "metadata": {},
   "outputs": [
    {
     "data": {
      "text/plain": [
       "0.5113189606834152"
      ]
     },
     "execution_count": 57,
     "metadata": {},
     "output_type": "execute_result"
    }
   ],
   "source": [
    "diversity_matrix(results_dict,metric=cohen_kappa_score).mean().mean()"
   ]
  },
  {
   "cell_type": "code",
   "execution_count": null,
   "metadata": {},
   "outputs": [],
   "source": []
  },
  {
   "cell_type": "code",
   "execution_count": 58,
   "metadata": {},
   "outputs": [
    {
     "data": {
      "image/png": "[encoded data removed]",
      "text/plain": [
       "<Figure size 432x288 with 1 Axes>"
      ]
     },
     "metadata": {},
     "output_type": "display_data"
    }
   ],
   "source": [
    "plt.hist(train_marginals, bins=20)\n",
    "plt.title('Histogram of probabilistic labels (created with %i models & LF_prior=True, LF_propensity=False)'%n_models)\n",
    "plt.show()"
   ]
  },
  {
   "cell_type": "code",
   "execution_count": null,
   "metadata": {},
   "outputs": [],
   "source": []
  },
  {
   "cell_type": "code",
   "execution_count": 59,
   "metadata": {},
   "outputs": [
    {
     "data": {
      "text/plain": [
       "79400"
      ]
     },
     "execution_count": 59,
     "metadata": {},
     "output_type": "execute_result"
    }
   ],
   "source": [
    "len(train_marginalsinals)"
   ]
  },
  {
   "cell_type": "code",
   "execution_count": null,
   "metadata": {},
   "outputs": [],
   "source": []
  },
  {
   "cell_type": "code",
   "execution_count": 60,
   "metadata": {},
   "outputs": [
    {
     "name": "stdout",
     "output_type": "stream",
     "text": [
      "Inferred performance metrics by snorkel:\n"
     ]
    },
    {
     "data": {
      "text/html": [
       "<div>\n",
       "<style scoped>\n",
       "    .dataframe tbody tr th:only-of-type {\n",
       "        vertical-align: middle;\n",
       "    }\n",
       "\n",
       "    .dataframe tbody tr th {\n",
       "        vertical-align: top;\n",
       "    }\n",
       "\n",
       "    .dataframe thead th {\n",
       "        text-align: right;\n",
       "    }\n",
       "</style>\n",
       "<table border=\"1\" class=\"dataframe\">\n",
       "  <thead>\n",
       "    <tr style=\"text-align: right;\">\n",
       "      <th></th>\n",
       "      <th>Accuracy</th>\n",
       "      <th>Coverage</th>\n",
       "      <th>Precision</th>\n",
       "      <th>Recall</th>\n",
       "    </tr>\n",
       "  </thead>\n",
       "  <tbody>\n",
       "    <tr>\n",
       "      <th>0</th>\n",
       "      <td>0.971729</td>\n",
       "      <td>0.8737</td>\n",
       "      <td>0.797044</td>\n",
       "      <td>0.820487</td>\n",
       "    </tr>\n",
       "    <tr>\n",
       "      <th>1</th>\n",
       "      <td>0.937507</td>\n",
       "      <td>0.8369</td>\n",
       "      <td>0.629160</td>\n",
       "      <td>0.805274</td>\n",
       "    </tr>\n",
       "    <tr>\n",
       "      <th>2</th>\n",
       "      <td>0.925276</td>\n",
       "      <td>0.8324</td>\n",
       "      <td>0.575373</td>\n",
       "      <td>0.781947</td>\n",
       "    </tr>\n",
       "    <tr>\n",
       "      <th>3</th>\n",
       "      <td>0.895110</td>\n",
       "      <td>0.8037</td>\n",
       "      <td>0.492881</td>\n",
       "      <td>0.737323</td>\n",
       "    </tr>\n",
       "  </tbody>\n",
       "</table>\n",
       "</div>"
      ],
      "text/plain": [
       "   Accuracy  Coverage  Precision    Recall\n",
       "0  0.971729    0.8737   0.797044  0.820487\n",
       "1  0.937507    0.8369   0.629160  0.805274\n",
       "2  0.925276    0.8324   0.575373  0.781947\n",
       "3  0.895110    0.8037   0.492881  0.737323"
      ]
     },
     "execution_count": 60,
     "metadata": {},
     "output_type": "execute_result"
    }
   ],
   "source": [
    "print 'Inferred performance metrics by snorkel:'\n",
    "gen_model.learned_lf_stats()"
   ]
  },
  {
   "cell_type": "code",
   "execution_count": null,
   "metadata": {},
   "outputs": [],
   "source": []
  },
  {
   "cell_type": "markdown",
   "metadata": {},
   "source": [
    "## Check performance on developer set"
   ]
  },
  {
   "cell_type": "code",
   "execution_count": 62,
   "metadata": {},
   "outputs": [],
   "source": [
    "# TODO: to do that, we need to also take labels from a different dictionary"
   ]
  },
  {
   "cell_type": "code",
   "execution_count": 69,
   "metadata": {},
   "outputs": [
    {
     "data": {
      "text/plain": [
       "<3230x1 sparse matrix of type '<type 'numpy.int64'>'\n",
       "\twith 3230 stored elements in Compressed Sparse Row format>"
      ]
     },
     "execution_count": 69,
     "metadata": {},
     "output_type": "execute_result"
    }
   ],
   "source": [
    "# load from db gold labels\n",
    "L_gold_dev = load_gold_labels(session, annotator_name='gold', split=1)\n",
    "L_gold_dev"
   ]
  },
  {
   "cell_type": "code",
   "execution_count": 70,
   "metadata": {},
   "outputs": [
    {
     "name": "stdout",
     "output_type": "stream",
     "text": [
      "Clearing existing...\n",
      "Running UDF...\n"
     ]
    }
   ],
   "source": [
    "L_dev = labeler.apply_existing(split=1, parallelism=6)"
   ]
  },
  {
   "cell_type": "code",
   "execution_count": 65,
   "metadata": {},
   "outputs": [
    {
     "data": {
      "text/plain": [
       "<3230x3 sparse matrix of type '<type 'numpy.int64'>'\n",
       "\twith 9690 stored elements in Compressed Sparse Row format>"
      ]
     },
     "execution_count": 65,
     "metadata": {},
     "output_type": "execute_result"
    }
   ],
   "source": [
    "L_dev"
   ]
  },
  {
   "cell_type": "code",
   "execution_count": 63,
   "metadata": {},
   "outputs": [
    {
     "data": {
      "text/html": [
       "<div>\n",
       "<style scoped>\n",
       "    .dataframe tbody tr th:only-of-type {\n",
       "        vertical-align: middle;\n",
       "    }\n",
       "\n",
       "    .dataframe tbody tr th {\n",
       "        vertical-align: top;\n",
       "    }\n",
       "\n",
       "    .dataframe thead th {\n",
       "        text-align: right;\n",
       "    }\n",
       "</style>\n",
       "<table border=\"1\" class=\"dataframe\">\n",
       "  <thead>\n",
       "    <tr style=\"text-align: right;\">\n",
       "      <th></th>\n",
       "      <th>Accuracy</th>\n",
       "      <th>Coverage</th>\n",
       "      <th>Precision</th>\n",
       "      <th>Recall</th>\n",
       "    </tr>\n",
       "  </thead>\n",
       "  <tbody>\n",
       "    <tr>\n",
       "      <th>0</th>\n",
       "      <td>0.968743</td>\n",
       "      <td>0.8734</td>\n",
       "      <td>0.800826</td>\n",
       "      <td>0.850746</td>\n",
       "    </tr>\n",
       "    <tr>\n",
       "      <th>1</th>\n",
       "      <td>0.941741</td>\n",
       "      <td>0.8342</td>\n",
       "      <td>0.671815</td>\n",
       "      <td>0.763828</td>\n",
       "    </tr>\n",
       "    <tr>\n",
       "      <th>2</th>\n",
       "      <td>0.926562</td>\n",
       "      <td>0.8211</td>\n",
       "      <td>0.618130</td>\n",
       "      <td>0.760316</td>\n",
       "    </tr>\n",
       "    <tr>\n",
       "      <th>3</th>\n",
       "      <td>0.897070</td>\n",
       "      <td>0.8054</td>\n",
       "      <td>0.529931</td>\n",
       "      <td>0.738367</td>\n",
       "    </tr>\n",
       "  </tbody>\n",
       "</table>\n",
       "</div>"
      ],
      "text/plain": [
       "   Accuracy  Coverage  Precision    Recall\n",
       "0  0.968743    0.8734   0.800826  0.850746\n",
       "1  0.941741    0.8342   0.671815  0.763828\n",
       "2  0.926562    0.8211   0.618130  0.760316\n",
       "3  0.897070    0.8054   0.529931  0.738367"
      ]
     },
     "execution_count": 63,
     "metadata": {},
     "output_type": "execute_result"
    }
   ],
   "source": [
    "gen_model.learned_lf_stats()"
   ]
  },
  {
   "cell_type": "code",
   "execution_count": 68,
   "metadata": {},
   "outputs": [
    {
     "data": {
      "text/plain": [
       "array([ 1.32927991,  0.96930229,  0.89196357,  0.71774052])"
      ]
     },
     "execution_count": 68,
     "metadata": {},
     "output_type": "execute_result"
    }
   ],
   "source": [
    "gen_model.weights.lf_accuracy"
   ]
  },
  {
   "cell_type": "code",
   "execution_count": 71,
   "metadata": {},
   "outputs": [
    {
     "data": {
      "text/plain": [
       "(0.67838312829525482, 0.54751773049645391, 0.60596546310832033)"
      ]
     },
     "execution_count": 71,
     "metadata": {},
     "output_type": "execute_result"
    }
   ],
   "source": [
    "gen_model.score(L_dev,L_gold_dev)"
   ]
  },
  {
   "cell_type": "code",
   "execution_count": null,
   "metadata": {},
   "outputs": [],
   "source": []
  },
  {
   "cell_type": "code",
   "execution_count": 62,
   "metadata": {},
   "outputs": [
    {
     "data": {
      "text/plain": [
       "0    0.966705\n",
       "1    0.940499\n",
       "2    0.924643\n",
       "3    0.901990\n",
       "Name: Accuracy, dtype: float64"
      ]
     },
     "execution_count": 62,
     "metadata": {},
     "output_type": "execute_result"
    }
   ],
   "source": [
    "gen_model.learned_lf_stats()['Accuracy']"
   ]
  },
  {
   "cell_type": "code",
   "execution_count": 82,
   "metadata": {},
   "outputs": [
    {
     "data": {
      "text/html": [
       "<div>\n",
       "<style scoped>\n",
       "    .dataframe tbody tr th:only-of-type {\n",
       "        vertical-align: middle;\n",
       "    }\n",
       "\n",
       "    .dataframe tbody tr th {\n",
       "        vertical-align: top;\n",
       "    }\n",
       "\n",
       "    .dataframe thead th {\n",
       "        text-align: right;\n",
       "    }\n",
       "</style>\n",
       "<table border=\"1\" class=\"dataframe\">\n",
       "  <thead>\n",
       "    <tr style=\"text-align: right;\">\n",
       "      <th></th>\n",
       "      <th>j</th>\n",
       "      <th>Coverage</th>\n",
       "      <th>Overlaps</th>\n",
       "      <th>Conflicts</th>\n",
       "      <th>TP</th>\n",
       "      <th>FP</th>\n",
       "      <th>FN</th>\n",
       "      <th>TN</th>\n",
       "      <th>Empirical Acc.</th>\n",
       "    </tr>\n",
       "  </thead>\n",
       "  <tbody>\n",
       "    <tr>\n",
       "      <th>fasttext_fasttext</th>\n",
       "      <td>0</td>\n",
       "      <td>1.0</td>\n",
       "      <td>1.0</td>\n",
       "      <td>0.486687</td>\n",
       "      <td>324</td>\n",
       "      <td>225</td>\n",
       "      <td>381</td>\n",
       "      <td>2300</td>\n",
       "      <td>0.812384</td>\n",
       "    </tr>\n",
       "    <tr>\n",
       "      <th>results_dict,ShortDepPath,RuS,CV_,bin_,minFreq=1,_ngrams=(0, 3),LSA100_SVC_linear</th>\n",
       "      <td>1</td>\n",
       "      <td>1.0</td>\n",
       "      <td>1.0</td>\n",
       "      <td>0.486687</td>\n",
       "      <td>508</td>\n",
       "      <td>459</td>\n",
       "      <td>197</td>\n",
       "      <td>2066</td>\n",
       "      <td>0.796904</td>\n",
       "    </tr>\n",
       "    <tr>\n",
       "      <th>RuS,lr=0.001,dropout=0.25,8epochs,rebalance=0,max_sent_length=64_biLSTM</th>\n",
       "      <td>2</td>\n",
       "      <td>1.0</td>\n",
       "      <td>1.0</td>\n",
       "      <td>0.486687</td>\n",
       "      <td>446</td>\n",
       "      <td>519</td>\n",
       "      <td>259</td>\n",
       "      <td>2006</td>\n",
       "      <td>0.759133</td>\n",
       "    </tr>\n",
       "    <tr>\n",
       "      <th>results_dict,lemmas,RuS,TfIdf_,minFreq=1,_ngrams=(1, 1),LSA100_RandomForestClassifier</th>\n",
       "      <td>3</td>\n",
       "      <td>1.0</td>\n",
       "      <td>1.0</td>\n",
       "      <td>0.486687</td>\n",
       "      <td>520</td>\n",
       "      <td>658</td>\n",
       "      <td>185</td>\n",
       "      <td>1867</td>\n",
       "      <td>0.739009</td>\n",
       "    </tr>\n",
       "  </tbody>\n",
       "</table>\n",
       "</div>"
      ],
      "text/plain": [
       "                                                    j  Coverage  Overlaps  \\\n",
       "fasttext_fasttext                                   0       1.0       1.0   \n",
       "results_dict,ShortDepPath,RuS,CV_,bin_,minFreq=...  1       1.0       1.0   \n",
       "RuS,lr=0.001,dropout=0.25,8epochs,rebalance=0,m...  2       1.0       1.0   \n",
       "results_dict,lemmas,RuS,TfIdf_,minFreq=1,_ngram...  3       1.0       1.0   \n",
       "\n",
       "                                                    Conflicts   TP   FP   FN  \\\n",
       "fasttext_fasttext                                    0.486687  324  225  381   \n",
       "results_dict,ShortDepPath,RuS,CV_,bin_,minFreq=...   0.486687  508  459  197   \n",
       "RuS,lr=0.001,dropout=0.25,8epochs,rebalance=0,m...   0.486687  446  519  259   \n",
       "results_dict,lemmas,RuS,TfIdf_,minFreq=1,_ngram...   0.486687  520  658  185   \n",
       "\n",
       "                                                      TN  Empirical Acc.  \n",
       "fasttext_fasttext                                   2300        0.812384  \n",
       "results_dict,ShortDepPath,RuS,CV_,bin_,minFreq=...  2066        0.796904  \n",
       "RuS,lr=0.001,dropout=0.25,8epochs,rebalance=0,m...  2006        0.759133  \n",
       "results_dict,lemmas,RuS,TfIdf_,minFreq=1,_ngram...  1867        0.739009  "
      ]
     },
     "execution_count": 82,
     "metadata": {},
     "output_type": "execute_result"
    }
   ],
   "source": [
    "L_dev.lf_stats(session, L_gold_dev,)"
   ]
  },
  {
   "cell_type": "code",
   "execution_count": 72,
   "metadata": {},
   "outputs": [
    {
     "data": {
      "text/html": [
       "<div>\n",
       "<style scoped>\n",
       "    .dataframe tbody tr th:only-of-type {\n",
       "        vertical-align: middle;\n",
       "    }\n",
       "\n",
       "    .dataframe tbody tr th {\n",
       "        vertical-align: top;\n",
       "    }\n",
       "\n",
       "    .dataframe thead th {\n",
       "        text-align: right;\n",
       "    }\n",
       "</style>\n",
       "<table border=\"1\" class=\"dataframe\">\n",
       "  <thead>\n",
       "    <tr style=\"text-align: right;\">\n",
       "      <th></th>\n",
       "      <th>j</th>\n",
       "      <th>Coverage</th>\n",
       "      <th>Overlaps</th>\n",
       "      <th>Conflicts</th>\n",
       "      <th>TP</th>\n",
       "      <th>FP</th>\n",
       "      <th>FN</th>\n",
       "      <th>TN</th>\n",
       "      <th>Empirical Acc.</th>\n",
       "      <th>Learned Acc.</th>\n",
       "    </tr>\n",
       "  </thead>\n",
       "  <tbody>\n",
       "    <tr>\n",
       "      <th>fasttext_fasttext</th>\n",
       "      <td>0</td>\n",
       "      <td>1.0</td>\n",
       "      <td>1.0</td>\n",
       "      <td>0.486687</td>\n",
       "      <td>324</td>\n",
       "      <td>225</td>\n",
       "      <td>381</td>\n",
       "      <td>2300</td>\n",
       "      <td>0.812384</td>\n",
       "      <td>0.968112</td>\n",
       "    </tr>\n",
       "    <tr>\n",
       "      <th>results_dict,ShortDepPath,RuS,CV_,bin_,minFreq=1,_ngrams=(0, 3),LSA100_SVC_linear</th>\n",
       "      <td>1</td>\n",
       "      <td>1.0</td>\n",
       "      <td>1.0</td>\n",
       "      <td>0.486687</td>\n",
       "      <td>508</td>\n",
       "      <td>459</td>\n",
       "      <td>197</td>\n",
       "      <td>2066</td>\n",
       "      <td>0.796904</td>\n",
       "      <td>0.935136</td>\n",
       "    </tr>\n",
       "    <tr>\n",
       "      <th>RuS,lr=0.001,dropout=0.25,8epochs,rebalance=0,max_sent_length=64_biLSTM</th>\n",
       "      <td>2</td>\n",
       "      <td>1.0</td>\n",
       "      <td>1.0</td>\n",
       "      <td>0.486687</td>\n",
       "      <td>446</td>\n",
       "      <td>519</td>\n",
       "      <td>259</td>\n",
       "      <td>2006</td>\n",
       "      <td>0.759133</td>\n",
       "      <td>0.924378</td>\n",
       "    </tr>\n",
       "    <tr>\n",
       "      <th>results_dict,lemmas,RuS,TfIdf_,minFreq=1,_ngrams=(1, 1),LSA100_RandomForestClassifier</th>\n",
       "      <td>3</td>\n",
       "      <td>1.0</td>\n",
       "      <td>1.0</td>\n",
       "      <td>0.486687</td>\n",
       "      <td>520</td>\n",
       "      <td>658</td>\n",
       "      <td>185</td>\n",
       "      <td>1867</td>\n",
       "      <td>0.739009</td>\n",
       "      <td>0.896389</td>\n",
       "    </tr>\n",
       "  </tbody>\n",
       "</table>\n",
       "</div>"
      ],
      "text/plain": [
       "                                                    j  Coverage  Overlaps  \\\n",
       "fasttext_fasttext                                   0       1.0       1.0   \n",
       "results_dict,ShortDepPath,RuS,CV_,bin_,minFreq=...  1       1.0       1.0   \n",
       "RuS,lr=0.001,dropout=0.25,8epochs,rebalance=0,m...  2       1.0       1.0   \n",
       "results_dict,lemmas,RuS,TfIdf_,minFreq=1,_ngram...  3       1.0       1.0   \n",
       "\n",
       "                                                    Conflicts   TP   FP   FN  \\\n",
       "fasttext_fasttext                                    0.486687  324  225  381   \n",
       "results_dict,ShortDepPath,RuS,CV_,bin_,minFreq=...   0.486687  508  459  197   \n",
       "RuS,lr=0.001,dropout=0.25,8epochs,rebalance=0,m...   0.486687  446  519  259   \n",
       "results_dict,lemmas,RuS,TfIdf_,minFreq=1,_ngram...   0.486687  520  658  185   \n",
       "\n",
       "                                                      TN  Empirical Acc.  \\\n",
       "fasttext_fasttext                                   2300        0.812384   \n",
       "results_dict,ShortDepPath,RuS,CV_,bin_,minFreq=...  2066        0.796904   \n",
       "RuS,lr=0.001,dropout=0.25,8epochs,rebalance=0,m...  2006        0.759133   \n",
       "results_dict,lemmas,RuS,TfIdf_,minFreq=1,_ngram...  1867        0.739009   \n",
       "\n",
       "                                                    Learned Acc.  \n",
       "fasttext_fasttext                                       0.968112  \n",
       "results_dict,ShortDepPath,RuS,CV_,bin_,minFreq=...      0.935136  \n",
       "RuS,lr=0.001,dropout=0.25,8epochs,rebalance=0,m...      0.924378  \n",
       "results_dict,lemmas,RuS,TfIdf_,minFreq=1,_ngram...      0.896389  "
      ]
     },
     "execution_count": 72,
     "metadata": {},
     "output_type": "execute_result"
    }
   ],
   "source": [
    "learned_stats = L_dev.lf_stats(session, L_gold_dev, gen_model.learned_lf_stats()['Accuracy'])\n",
    "learned_stats"
   ]
  },
  {
   "cell_type": "code",
   "execution_count": 81,
   "metadata": {},
   "outputs": [],
   "source": [
    "from sklearn.metrics import f1_score"
   ]
  },
  {
   "cell_type": "code",
   "execution_count": 83,
   "metadata": {},
   "outputs": [
    {
     "name": "stdout",
     "output_type": "stream",
     "text": [
      "fasttext_fasttext\n",
      "0.516746411483\n",
      "results_dict,ShortDepPath,RuS,CV_,bin_,minFreq=1,_ngrams=(0, 3),LSA100_SVC_linear\n",
      "0.607655502392\n",
      "RuS,lr=0.001,dropout=0.25,8epochs,rebalance=0,max_sent_length=64_biLSTM\n",
      "0.534131736527\n",
      "results_dict,lemmas,RuS,TfIdf_,minFreq=1,_ngrams=(1, 1),LSA100_RandomForestClassifier\n",
      "0.552310143388\n"
     ]
    }
   ],
   "source": [
    "for row in learned_stats.iterrows():\n",
    "    print row[0]\n",
    "    tp = row[1]['TP']\n",
    "    tn = row[1]['TN']\n",
    "    fp = row[1]['FP']\n",
    "    fn = row[1]['FN']\n",
    "    pr = float(tp)/(tp+fp)\n",
    "    rec = float(tp)/(tp+fn)\n",
    "    f1 = (2*pr*rec)/(pr+rec)\n",
    "    print f1"
   ]
  },
  {
   "cell_type": "code",
   "execution_count": 67,
   "metadata": {},
   "outputs": [
    {
     "name": "stdout",
     "output_type": "stream",
     "text": [
      "\\begin{tabular}{lrrrrrr}\n",
      "\\toprule\n",
      "{} &   TP &   FP &   FN &    TN &  Empirical Acc. &  Learned Acc. \\\\\n",
      "\\midrule\n",
      "0 &  511 &  613 &  194 &  1912 &        0.750155 &      0.941921 \\\\\n",
      "1 &  475 &  548 &  230 &  1977 &        0.759133 &      0.941634 \\\\\n",
      "2 &  446 &  519 &  259 &  2006 &        0.759133 &      0.900665 \\\\\n",
      "\\bottomrule\n",
      "\\end{tabular}\n",
      "\n"
     ]
    }
   ],
   "source": [
    "# export to latex\n",
    "print learned_stats.drop(labels=['j','Coverage', 'Overlaps', 'Conflicts'], axis=1).reset_index(drop=True).to_latex()"
   ]
  },
  {
   "cell_type": "code",
   "execution_count": null,
   "metadata": {},
   "outputs": [],
   "source": []
  },
  {
   "cell_type": "markdown",
   "metadata": {},
   "source": [
    "### Try with priors = F1 score"
   ]
  },
  {
   "cell_type": "code",
   "execution_count": 87,
   "metadata": {},
   "outputs": [],
   "source": [
    "gen_model_prior = GenerativeModel()"
   ]
  },
  {
   "cell_type": "code",
   "execution_count": 88,
   "metadata": {},
   "outputs": [
    {
     "name": "stdout",
     "output_type": "stream",
     "text": [
      "Inferred cardinality: 2\n"
     ]
    }
   ],
   "source": [
    "gen_model_prior.train(L_train, LF_acc_prior_weights=[0.5167, 0.60765, 0.5341, 0.5523 ])"
   ]
  },
  {
   "cell_type": "code",
   "execution_count": null,
   "metadata": {},
   "outputs": [],
   "source": []
  },
  {
   "cell_type": "markdown",
   "metadata": {},
   "source": [
    "### Put it in a log"
   ]
  },
  {
   "cell_type": "code",
   "execution_count": 157,
   "metadata": {},
   "outputs": [],
   "source": [
    "gen_model_prior_log = GenerativeModel()"
   ]
  },
  {
   "cell_type": "code",
   "execution_count": 158,
   "metadata": {},
   "outputs": [],
   "source": [
    "# TODO: try this from  snorkel/test/learning/test_supervised.py\n",
    "\n",
    "\n",
    "LF_acc_priors = [0.5167, 0.60765, 0.5341, 0.5523 ]\n",
    "cardinality = 2\n",
    "LF_acc_prior_weights = [0.5 * np.log((cardinality - 1.0) * x / (1 - x)) for x in LF_acc_priors]\n"
   ]
  },
  {
   "cell_type": "code",
   "execution_count": 159,
   "metadata": {},
   "outputs": [
    {
     "data": {
      "text/plain": [
       "[0.033412428221050325,\n",
       " 0.2187223798716636,\n",
       " 0.068306034261486848,\n",
       " 0.10498400583011107]"
      ]
     },
     "execution_count": 159,
     "metadata": {},
     "output_type": "execute_result"
    }
   ],
   "source": [
    "LF_acc_prior_weights"
   ]
  },
  {
   "cell_type": "code",
   "execution_count": 160,
   "metadata": {},
   "outputs": [
    {
     "name": "stdout",
     "output_type": "stream",
     "text": [
      "Inferred cardinality: 2\n"
     ]
    }
   ],
   "source": [
    "gen_model_prior_log.train(L_train, LF_acc_prior_weights=LF_acc_prior_weights)"
   ]
  },
  {
   "cell_type": "code",
   "execution_count": null,
   "metadata": {},
   "outputs": [],
   "source": []
  },
  {
   "cell_type": "code",
   "execution_count": null,
   "metadata": {},
   "outputs": [],
   "source": []
  },
  {
   "cell_type": "markdown",
   "metadata": {},
   "source": [
    "### Compare results"
   ]
  },
  {
   "cell_type": "code",
   "execution_count": 161,
   "metadata": {},
   "outputs": [
    {
     "data": {
      "text/html": [
       "<div>\n",
       "<style scoped>\n",
       "    .dataframe tbody tr th:only-of-type {\n",
       "        vertical-align: middle;\n",
       "    }\n",
       "\n",
       "    .dataframe tbody tr th {\n",
       "        vertical-align: top;\n",
       "    }\n",
       "\n",
       "    .dataframe thead th {\n",
       "        text-align: right;\n",
       "    }\n",
       "</style>\n",
       "<table border=\"1\" class=\"dataframe\">\n",
       "  <thead>\n",
       "    <tr style=\"text-align: right;\">\n",
       "      <th></th>\n",
       "      <th>Accuracy</th>\n",
       "      <th>Coverage</th>\n",
       "      <th>Precision</th>\n",
       "      <th>Recall</th>\n",
       "    </tr>\n",
       "  </thead>\n",
       "  <tbody>\n",
       "    <tr>\n",
       "      <th>0</th>\n",
       "      <td>0.936173</td>\n",
       "      <td>0.8006</td>\n",
       "      <td>0.938447</td>\n",
       "      <td>0.750098</td>\n",
       "    </tr>\n",
       "    <tr>\n",
       "      <th>1</th>\n",
       "      <td>0.901056</td>\n",
       "      <td>0.7671</td>\n",
       "      <td>0.906266</td>\n",
       "      <td>0.700312</td>\n",
       "    </tr>\n",
       "    <tr>\n",
       "      <th>2</th>\n",
       "      <td>0.871032</td>\n",
       "      <td>0.7498</td>\n",
       "      <td>0.874868</td>\n",
       "      <td>0.648380</td>\n",
       "    </tr>\n",
       "    <tr>\n",
       "      <th>3</th>\n",
       "      <td>0.837408</td>\n",
       "      <td>0.7362</td>\n",
       "      <td>0.844474</td>\n",
       "      <td>0.619094</td>\n",
       "    </tr>\n",
       "  </tbody>\n",
       "</table>\n",
       "</div>"
      ],
      "text/plain": [
       "   Accuracy  Coverage  Precision    Recall\n",
       "0  0.936173    0.8006   0.938447  0.750098\n",
       "1  0.901056    0.7671   0.906266  0.700312\n",
       "2  0.871032    0.7498   0.874868  0.648380\n",
       "3  0.837408    0.7362   0.844474  0.619094"
      ]
     },
     "execution_count": 161,
     "metadata": {},
     "output_type": "execute_result"
    }
   ],
   "source": [
    "gen_model_prior_log.learned_lf_stats()"
   ]
  },
  {
   "cell_type": "code",
   "execution_count": 90,
   "metadata": {},
   "outputs": [
    {
     "data": {
      "text/html": [
       "<div>\n",
       "<style scoped>\n",
       "    .dataframe tbody tr th:only-of-type {\n",
       "        vertical-align: middle;\n",
       "    }\n",
       "\n",
       "    .dataframe tbody tr th {\n",
       "        vertical-align: top;\n",
       "    }\n",
       "\n",
       "    .dataframe thead th {\n",
       "        text-align: right;\n",
       "    }\n",
       "</style>\n",
       "<table border=\"1\" class=\"dataframe\">\n",
       "  <thead>\n",
       "    <tr style=\"text-align: right;\">\n",
       "      <th></th>\n",
       "      <th>Accuracy</th>\n",
       "      <th>Coverage</th>\n",
       "      <th>Precision</th>\n",
       "      <th>Recall</th>\n",
       "    </tr>\n",
       "  </thead>\n",
       "  <tbody>\n",
       "    <tr>\n",
       "      <th>0</th>\n",
       "      <td>0.953406</td>\n",
       "      <td>0.8220</td>\n",
       "      <td>0.956984</td>\n",
       "      <td>0.789125</td>\n",
       "    </tr>\n",
       "    <tr>\n",
       "      <th>1</th>\n",
       "      <td>0.909594</td>\n",
       "      <td>0.7776</td>\n",
       "      <td>0.912752</td>\n",
       "      <td>0.715650</td>\n",
       "    </tr>\n",
       "    <tr>\n",
       "      <th>2</th>\n",
       "      <td>0.895702</td>\n",
       "      <td>0.7632</td>\n",
       "      <td>0.899871</td>\n",
       "      <td>0.681349</td>\n",
       "    </tr>\n",
       "    <tr>\n",
       "      <th>3</th>\n",
       "      <td>0.853391</td>\n",
       "      <td>0.7462</td>\n",
       "      <td>0.861635</td>\n",
       "      <td>0.640811</td>\n",
       "    </tr>\n",
       "  </tbody>\n",
       "</table>\n",
       "</div>"
      ],
      "text/plain": [
       "   Accuracy  Coverage  Precision    Recall\n",
       "0  0.953406    0.8220   0.956984  0.789125\n",
       "1  0.909594    0.7776   0.912752  0.715650\n",
       "2  0.895702    0.7632   0.899871  0.681349\n",
       "3  0.853391    0.7462   0.861635  0.640811"
      ]
     },
     "execution_count": 90,
     "metadata": {},
     "output_type": "execute_result"
    }
   ],
   "source": [
    "gen_model_prior.learned_lf_stats()"
   ]
  },
  {
   "cell_type": "code",
   "execution_count": 89,
   "metadata": {},
   "outputs": [
    {
     "data": {
      "text/html": [
       "<div>\n",
       "<style scoped>\n",
       "    .dataframe tbody tr th:only-of-type {\n",
       "        vertical-align: middle;\n",
       "    }\n",
       "\n",
       "    .dataframe tbody tr th {\n",
       "        vertical-align: top;\n",
       "    }\n",
       "\n",
       "    .dataframe thead th {\n",
       "        text-align: right;\n",
       "    }\n",
       "</style>\n",
       "<table border=\"1\" class=\"dataframe\">\n",
       "  <thead>\n",
       "    <tr style=\"text-align: right;\">\n",
       "      <th></th>\n",
       "      <th>Accuracy</th>\n",
       "      <th>Coverage</th>\n",
       "      <th>Precision</th>\n",
       "      <th>Recall</th>\n",
       "    </tr>\n",
       "  </thead>\n",
       "  <tbody>\n",
       "    <tr>\n",
       "      <th>0</th>\n",
       "      <td>0.971318</td>\n",
       "      <td>0.8751</td>\n",
       "      <td>0.760460</td>\n",
       "      <td>0.838524</td>\n",
       "    </tr>\n",
       "    <tr>\n",
       "      <th>1</th>\n",
       "      <td>0.940309</td>\n",
       "      <td>0.8410</td>\n",
       "      <td>0.599103</td>\n",
       "      <td>0.770473</td>\n",
       "    </tr>\n",
       "    <tr>\n",
       "      <th>2</th>\n",
       "      <td>0.929846</td>\n",
       "      <td>0.8239</td>\n",
       "      <td>0.554054</td>\n",
       "      <td>0.756632</td>\n",
       "    </tr>\n",
       "    <tr>\n",
       "      <th>3</th>\n",
       "      <td>0.896266</td>\n",
       "      <td>0.8088</td>\n",
       "      <td>0.449892</td>\n",
       "      <td>0.719723</td>\n",
       "    </tr>\n",
       "  </tbody>\n",
       "</table>\n",
       "</div>"
      ],
      "text/plain": [
       "   Accuracy  Coverage  Precision    Recall\n",
       "0  0.971318    0.8751   0.760460  0.838524\n",
       "1  0.940309    0.8410   0.599103  0.770473\n",
       "2  0.929846    0.8239   0.554054  0.756632\n",
       "3  0.896266    0.8088   0.449892  0.719723"
      ]
     },
     "execution_count": 89,
     "metadata": {},
     "output_type": "execute_result"
    }
   ],
   "source": [
    "gen_model.learned_lf_stats() # before passing LF_acc_prior_weights"
   ]
  },
  {
   "cell_type": "code",
   "execution_count": 179,
   "metadata": {},
   "outputs": [
    {
     "data": {
      "text/plain": [
       "(79400, 4)"
      ]
     },
     "execution_count": 179,
     "metadata": {},
     "output_type": "execute_result"
    }
   ],
   "source": [
    "L_train"
   ]
  },
  {
   "cell_type": "code",
   "execution_count": 177,
   "metadata": {},
   "outputs": [
    {
     "data": {
      "text/plain": [
       "{0: 40197,\n",
       " 1: 40198,\n",
       " 2: 40199,\n",
       " 3: 40200,\n",
       " 4: 40201,\n",
       " 5: 40202,\n",
       " 6: 40203,\n",
       " 7: 40204,\n",
       " 8: 40205,\n",
       " 9: 40206,\n",
       " 10: 40207,\n",
       " 11: 40208,\n",
       " 12: 40209,\n",
       " 13: 40210,\n",
       " 14: 40211,\n",
       " 15: 40212,\n",
       " 16: 40213,\n",
       " 17: 40214,\n",
       " 18: 40215,\n",
       " 19: 40216,\n",
       " 20: 40217,\n",
       " 21: 40218,\n",
       " 22: 40219,\n",
       " 23: 40220,\n",
       " 24: 40221,\n",
       " 25: 40222,\n",
       " 26: 40223,\n",
       " 27: 40224,\n",
       " 28: 40225,\n",
       " 29: 40226,\n",
       " 30: 40227,\n",
       " 31: 40228,\n",
       " 32: 40229,\n",
       " 33: 40230,\n",
       " 34: 40231,\n",
       " 35: 40232,\n",
       " 36: 40233,\n",
       " 37: 40234,\n",
       " 38: 40235,\n",
       " 39: 40236,\n",
       " 40: 40237,\n",
       " 41: 40238,\n",
       " 42: 40239,\n",
       " 43: 40240,\n",
       " 44: 40241,\n",
       " 45: 40242,\n",
       " 46: 40243,\n",
       " 47: 40244,\n",
       " 48: 40245,\n",
       " 49: 40246,\n",
       " 50: 40247,\n",
       " 51: 40248,\n",
       " 52: 40249,\n",
       " 53: 40250,\n",
       " 54: 40251,\n",
       " 55: 40252,\n",
       " 56: 40253,\n",
       " 57: 40254,\n",
       " 58: 40255,\n",
       " 59: 40256,\n",
       " 60: 40257,\n",
       " 61: 40258,\n",
       " 62: 40259,\n",
       " 63: 40260,\n",
       " 64: 40261,\n",
       " 65: 40262,\n",
       " 66: 40263,\n",
       " 67: 40264,\n",
       " 68: 40265,\n",
       " 69: 40266,\n",
       " 70: 40267,\n",
       " 71: 40268,\n",
       " 72: 40269,\n",
       " 73: 40270,\n",
       " 74: 40271,\n",
       " 75: 40272,\n",
       " 76: 40273,\n",
       " 77: 40274,\n",
       " 78: 40275,\n",
       " 79: 40276,\n",
       " 80: 40277,\n",
       " 81: 40278,\n",
       " 82: 40279,\n",
       " 83: 40280,\n",
       " 84: 40281,\n",
       " 85: 40282,\n",
       " 86: 40283,\n",
       " 87: 40284,\n",
       " 88: 40285,\n",
       " 89: 40286,\n",
       " 90: 40287,\n",
       " 91: 40288,\n",
       " 92: 40289,\n",
       " 93: 40290,\n",
       " 94: 40291,\n",
       " 95: 40292,\n",
       " 96: 40293,\n",
       " 97: 40294,\n",
       " 98: 40295,\n",
       " 99: 40296,\n",
       " 100: 40297,\n",
       " 101: 40298,\n",
       " 102: 40299,\n",
       " 103: 40300,\n",
       " 104: 40301,\n",
       " 105: 40302,\n",
       " 106: 40303,\n",
       " 107: 40304,\n",
       " 108: 40305,\n",
       " 109: 40306,\n",
       " 110: 40307,\n",
       " 111: 40308,\n",
       " 112: 40309,\n",
       " 113: 40310,\n",
       " 114: 40311,\n",
       " 115: 40312,\n",
       " 116: 40313,\n",
       " 117: 40314,\n",
       " 118: 40315,\n",
       " 119: 40316,\n",
       " 120: 40317,\n",
       " 121: 40318,\n",
       " 122: 40319,\n",
       " 123: 40320,\n",
       " 124: 40321,\n",
       " 125: 40322,\n",
       " 126: 40323,\n",
       " 127: 40324,\n",
       " 128: 40325,\n",
       " 129: 40326,\n",
       " 130: 40327,\n",
       " 131: 40328,\n",
       " 132: 40329,\n",
       " 133: 40330,\n",
       " 134: 40331,\n",
       " 135: 40332,\n",
       " 136: 40333,\n",
       " 137: 40334,\n",
       " 138: 40335,\n",
       " 139: 40336,\n",
       " 140: 40337,\n",
       " 141: 40338,\n",
       " 142: 40339,\n",
       " 143: 40340,\n",
       " 144: 40341,\n",
       " 145: 40342,\n",
       " 146: 40343,\n",
       " 147: 40344,\n",
       " 148: 40345,\n",
       " 149: 40346,\n",
       " 150: 40347,\n",
       " 151: 40348,\n",
       " 152: 40349,\n",
       " 153: 40350,\n",
       " 154: 40351,\n",
       " 155: 40352,\n",
       " 156: 40353,\n",
       " 157: 40354,\n",
       " 158: 40355,\n",
       " 159: 40356,\n",
       " 160: 40357,\n",
       " 161: 40358,\n",
       " 162: 40359,\n",
       " 163: 40360,\n",
       " 164: 40361,\n",
       " 165: 40362,\n",
       " 166: 40363,\n",
       " 167: 40364,\n",
       " 168: 40365,\n",
       " 169: 40366,\n",
       " 170: 40367,\n",
       " 171: 40368,\n",
       " 172: 40369,\n",
       " 173: 40370,\n",
       " 174: 40371,\n",
       " 175: 40372,\n",
       " 176: 40373,\n",
       " 177: 40374,\n",
       " 178: 40375,\n",
       " 179: 40376,\n",
       " 180: 40377,\n",
       " 181: 40378,\n",
       " 182: 40379,\n",
       " 183: 40380,\n",
       " 184: 40381,\n",
       " 185: 40382,\n",
       " 186: 40383,\n",
       " 187: 40384,\n",
       " 188: 40385,\n",
       " 189: 40386,\n",
       " 190: 40387,\n",
       " 191: 40388,\n",
       " 192: 40389,\n",
       " 193: 40390,\n",
       " 194: 40391,\n",
       " 195: 40392,\n",
       " 196: 40393,\n",
       " 197: 40394,\n",
       " 198: 40395,\n",
       " 199: 40396,\n",
       " 200: 40397,\n",
       " 201: 40398,\n",
       " 202: 40399,\n",
       " 203: 40400,\n",
       " 204: 40401,\n",
       " 205: 40402,\n",
       " 206: 40403,\n",
       " 207: 40404,\n",
       " 208: 40405,\n",
       " 209: 40406,\n",
       " 210: 40407,\n",
       " 211: 40408,\n",
       " 212: 40409,\n",
       " 213: 40410,\n",
       " 214: 40411,\n",
       " 215: 40412,\n",
       " 216: 40413,\n",
       " 217: 40414,\n",
       " 218: 40415,\n",
       " 219: 40416,\n",
       " 220: 40417,\n",
       " 221: 40418,\n",
       " 222: 40419,\n",
       " 223: 40420,\n",
       " 224: 40421,\n",
       " 225: 40422,\n",
       " 226: 40423,\n",
       " 227: 40424,\n",
       " 228: 40425,\n",
       " 229: 40426,\n",
       " 230: 40427,\n",
       " 231: 40428,\n",
       " 232: 40429,\n",
       " 233: 40430,\n",
       " 234: 40431,\n",
       " 235: 40432,\n",
       " 236: 40433,\n",
       " 237: 40434,\n",
       " 238: 40435,\n",
       " 239: 40436,\n",
       " 240: 40437,\n",
       " 241: 40438,\n",
       " 242: 40439,\n",
       " 243: 40440,\n",
       " 244: 40441,\n",
       " 245: 40442,\n",
       " 246: 40443,\n",
       " 247: 40444,\n",
       " 248: 40445,\n",
       " 249: 40446,\n",
       " 250: 40447,\n",
       " 251: 40448,\n",
       " 252: 40449,\n",
       " 253: 40450,\n",
       " 254: 40451,\n",
       " 255: 40452,\n",
       " 256: 40453,\n",
       " 257: 40454,\n",
       " 258: 40455,\n",
       " 259: 40456,\n",
       " 260: 40457,\n",
       " 261: 40458,\n",
       " 262: 40459,\n",
       " 263: 40460,\n",
       " 264: 40461,\n",
       " 265: 40462,\n",
       " 266: 40463,\n",
       " 267: 40464,\n",
       " 268: 40465,\n",
       " 269: 40466,\n",
       " 270: 40467,\n",
       " 271: 40468,\n",
       " 272: 40469,\n",
       " 273: 40470,\n",
       " 274: 40471,\n",
       " 275: 40472,\n",
       " 276: 40473,\n",
       " 277: 40474,\n",
       " 278: 40475,\n",
       " 279: 40476,\n",
       " 280: 40477,\n",
       " 281: 40478,\n",
       " 282: 40479,\n",
       " 283: 40480,\n",
       " 284: 40481,\n",
       " 285: 40482,\n",
       " 286: 40483,\n",
       " 287: 40484,\n",
       " 288: 40485,\n",
       " 289: 40486,\n",
       " 290: 40487,\n",
       " 291: 40488,\n",
       " 292: 40489,\n",
       " 293: 40490,\n",
       " 294: 40491,\n",
       " 295: 40492,\n",
       " 296: 40493,\n",
       " 297: 40494,\n",
       " 298: 40495,\n",
       " 299: 40496,\n",
       " 300: 40497,\n",
       " 301: 40498,\n",
       " 302: 40499,\n",
       " 303: 40500,\n",
       " 304: 40501,\n",
       " 305: 40502,\n",
       " 306: 40503,\n",
       " 307: 40504,\n",
       " 308: 40505,\n",
       " 309: 40506,\n",
       " 310: 40507,\n",
       " 311: 40508,\n",
       " 312: 40509,\n",
       " 313: 40510,\n",
       " 314: 40511,\n",
       " 315: 40512,\n",
       " 316: 40513,\n",
       " 317: 40514,\n",
       " 318: 40515,\n",
       " 319: 40516,\n",
       " 320: 40517,\n",
       " 321: 40518,\n",
       " 322: 40519,\n",
       " 323: 40520,\n",
       " 324: 40521,\n",
       " 325: 40522,\n",
       " 326: 40523,\n",
       " 327: 40524,\n",
       " 328: 40525,\n",
       " 329: 40526,\n",
       " 330: 40527,\n",
       " 331: 40528,\n",
       " 332: 40529,\n",
       " 333: 40530,\n",
       " 334: 40531,\n",
       " 335: 40532,\n",
       " 336: 40533,\n",
       " 337: 40534,\n",
       " 338: 40535,\n",
       " 339: 40536,\n",
       " 340: 40537,\n",
       " 341: 40538,\n",
       " 342: 40539,\n",
       " 343: 40540,\n",
       " 344: 40541,\n",
       " 345: 40542,\n",
       " 346: 40543,\n",
       " 347: 40544,\n",
       " 348: 40545,\n",
       " 349: 40546,\n",
       " 350: 40547,\n",
       " 351: 40548,\n",
       " 352: 40549,\n",
       " 353: 40550,\n",
       " 354: 40551,\n",
       " 355: 40552,\n",
       " 356: 40553,\n",
       " 357: 40554,\n",
       " 358: 40555,\n",
       " 359: 40556,\n",
       " 360: 40557,\n",
       " 361: 40558,\n",
       " 362: 40559,\n",
       " 363: 40560,\n",
       " 364: 40561,\n",
       " 365: 40562,\n",
       " 366: 40563,\n",
       " 367: 40564,\n",
       " 368: 40565,\n",
       " 369: 40566,\n",
       " 370: 40567,\n",
       " 371: 40568,\n",
       " 372: 40569,\n",
       " 373: 40570,\n",
       " 374: 40571,\n",
       " 375: 40572,\n",
       " 376: 40573,\n",
       " 377: 40574,\n",
       " 378: 40575,\n",
       " 379: 40576,\n",
       " 380: 40577,\n",
       " 381: 40578,\n",
       " 382: 40579,\n",
       " 383: 40580,\n",
       " 384: 40581,\n",
       " 385: 40582,\n",
       " 386: 40583,\n",
       " 387: 40584,\n",
       " 388: 40585,\n",
       " 389: 40586,\n",
       " 390: 40587,\n",
       " 391: 40588,\n",
       " 392: 40589,\n",
       " 393: 40590,\n",
       " 394: 40591,\n",
       " 395: 40592,\n",
       " 396: 40593,\n",
       " 397: 40594,\n",
       " 398: 40595,\n",
       " 399: 40596,\n",
       " 400: 40597,\n",
       " 401: 40598,\n",
       " 402: 40599,\n",
       " 403: 40600,\n",
       " 404: 40601,\n",
       " 405: 40602,\n",
       " 406: 40603,\n",
       " 407: 40604,\n",
       " 408: 40605,\n",
       " 409: 40606,\n",
       " 410: 40607,\n",
       " 411: 40608,\n",
       " 412: 40609,\n",
       " 413: 40610,\n",
       " 414: 40611,\n",
       " 415: 40612,\n",
       " 416: 40613,\n",
       " 417: 40614,\n",
       " 418: 40615,\n",
       " 419: 40616,\n",
       " 420: 40617,\n",
       " 421: 40618,\n",
       " 422: 40619,\n",
       " 423: 40620,\n",
       " 424: 40621,\n",
       " 425: 40622,\n",
       " 426: 40623,\n",
       " 427: 40624,\n",
       " 428: 40625,\n",
       " 429: 40626,\n",
       " 430: 40627,\n",
       " 431: 40628,\n",
       " 432: 40629,\n",
       " 433: 40630,\n",
       " 434: 40631,\n",
       " 435: 40632,\n",
       " 436: 40633,\n",
       " 437: 40634,\n",
       " 438: 40635,\n",
       " 439: 40636,\n",
       " 440: 40637,\n",
       " 441: 40638,\n",
       " 442: 40639,\n",
       " 443: 40640,\n",
       " 444: 40641,\n",
       " 445: 40642,\n",
       " 446: 40643,\n",
       " 447: 40644,\n",
       " 448: 40645,\n",
       " 449: 40646,\n",
       " 450: 40647,\n",
       " 451: 40648,\n",
       " 452: 40649,\n",
       " 453: 40650,\n",
       " 454: 40651,\n",
       " 455: 40652,\n",
       " 456: 40653,\n",
       " 457: 40654,\n",
       " 458: 40655,\n",
       " 459: 40656,\n",
       " 460: 40657,\n",
       " 461: 40658,\n",
       " 462: 40659,\n",
       " 463: 40660,\n",
       " 464: 40661,\n",
       " 465: 40662,\n",
       " 466: 40663,\n",
       " 467: 40664,\n",
       " 468: 40665,\n",
       " 469: 40666,\n",
       " 470: 40667,\n",
       " 471: 40668,\n",
       " 472: 40669,\n",
       " 473: 40670,\n",
       " 474: 40671,\n",
       " 475: 40672,\n",
       " 476: 40673,\n",
       " 477: 40674,\n",
       " 478: 40675,\n",
       " 479: 40676,\n",
       " 480: 40677,\n",
       " 481: 40678,\n",
       " 482: 40679,\n",
       " 483: 40680,\n",
       " 484: 40681,\n",
       " 485: 40682,\n",
       " 486: 40683,\n",
       " 487: 40684,\n",
       " 488: 40685,\n",
       " 489: 40686,\n",
       " 490: 40687,\n",
       " 491: 40688,\n",
       " 492: 40689,\n",
       " 493: 40690,\n",
       " 494: 40691,\n",
       " 495: 40692,\n",
       " 496: 40693,\n",
       " 497: 40694,\n",
       " 498: 40695,\n",
       " 499: 40696,\n",
       " 500: 40697,\n",
       " 501: 40698,\n",
       " 502: 40699,\n",
       " 503: 40700,\n",
       " 504: 40701,\n",
       " 505: 40702,\n",
       " 506: 40703,\n",
       " 507: 40704,\n",
       " 508: 40705,\n",
       " 509: 40706,\n",
       " 510: 40707,\n",
       " 511: 40708,\n",
       " 512: 40709,\n",
       " 513: 40710,\n",
       " 514: 40711,\n",
       " 515: 40712,\n",
       " 516: 40713,\n",
       " 517: 40714,\n",
       " 518: 40715,\n",
       " 519: 40716,\n",
       " 520: 40717,\n",
       " 521: 40718,\n",
       " 522: 40719,\n",
       " 523: 40720,\n",
       " 524: 40721,\n",
       " 525: 40722,\n",
       " 526: 40723,\n",
       " 527: 40724,\n",
       " 528: 40725,\n",
       " 529: 40726,\n",
       " 530: 40727,\n",
       " 531: 40728,\n",
       " 532: 40729,\n",
       " 533: 40730,\n",
       " 534: 40731,\n",
       " 535: 40732,\n",
       " 536: 40733,\n",
       " 537: 40734,\n",
       " 538: 40735,\n",
       " 539: 40736,\n",
       " 540: 40737,\n",
       " 541: 40738,\n",
       " 542: 40739,\n",
       " 543: 40740,\n",
       " 544: 40741,\n",
       " 545: 40742,\n",
       " 546: 40743,\n",
       " 547: 40744,\n",
       " 548: 40745,\n",
       " 549: 40746,\n",
       " 550: 40747,\n",
       " 551: 40748,\n",
       " 552: 40749,\n",
       " 553: 40750,\n",
       " 554: 40751,\n",
       " 555: 40752,\n",
       " 556: 40753,\n",
       " 557: 40754,\n",
       " 558: 40755,\n",
       " 559: 40756,\n",
       " 560: 40757,\n",
       " 561: 40758,\n",
       " 562: 40759,\n",
       " 563: 40760,\n",
       " 564: 40761,\n",
       " 565: 40762,\n",
       " 566: 40763,\n",
       " 567: 40764,\n",
       " 568: 40765,\n",
       " 569: 40766,\n",
       " 570: 40767,\n",
       " 571: 40768,\n",
       " 572: 40769,\n",
       " 573: 40770,\n",
       " 574: 40771,\n",
       " 575: 40772,\n",
       " 576: 40773,\n",
       " 577: 40774,\n",
       " 578: 40775,\n",
       " 579: 40776,\n",
       " 580: 40777,\n",
       " 581: 40778,\n",
       " 582: 40779,\n",
       " 583: 40780,\n",
       " 584: 40781,\n",
       " 585: 40782,\n",
       " 586: 40783,\n",
       " 587: 40784,\n",
       " 588: 40785,\n",
       " 589: 40786,\n",
       " 590: 40787,\n",
       " 591: 40788,\n",
       " 592: 40789,\n",
       " 593: 40790,\n",
       " 594: 40791,\n",
       " 595: 40792,\n",
       " 596: 40793,\n",
       " 597: 40794,\n",
       " 598: 40795,\n",
       " 599: 40796,\n",
       " 600: 40797,\n",
       " 601: 40798,\n",
       " 602: 40799,\n",
       " 603: 40800,\n",
       " 604: 40801,\n",
       " 605: 40802,\n",
       " 606: 40803,\n",
       " 607: 40804,\n",
       " 608: 40805,\n",
       " 609: 40806,\n",
       " 610: 40807,\n",
       " 611: 40808,\n",
       " 612: 40809,\n",
       " 613: 40810,\n",
       " 614: 40811,\n",
       " 615: 40812,\n",
       " 616: 40813,\n",
       " 617: 40814,\n",
       " 618: 40815,\n",
       " 619: 40816,\n",
       " 620: 40817,\n",
       " 621: 40818,\n",
       " 622: 40819,\n",
       " 623: 40820,\n",
       " 624: 40821,\n",
       " 625: 40822,\n",
       " 626: 40823,\n",
       " 627: 40824,\n",
       " 628: 40825,\n",
       " 629: 40826,\n",
       " 630: 40827,\n",
       " 631: 40828,\n",
       " 632: 40829,\n",
       " 633: 40830,\n",
       " 634: 40831,\n",
       " 635: 40832,\n",
       " 636: 40833,\n",
       " 637: 40834,\n",
       " 638: 40835,\n",
       " 639: 40836,\n",
       " 640: 40837,\n",
       " 641: 40838,\n",
       " 642: 40839,\n",
       " 643: 40840,\n",
       " 644: 40841,\n",
       " 645: 40842,\n",
       " 646: 40843,\n",
       " 647: 40844,\n",
       " 648: 40845,\n",
       " 649: 40846,\n",
       " 650: 40847,\n",
       " 651: 40848,\n",
       " 652: 40849,\n",
       " 653: 40850,\n",
       " 654: 40851,\n",
       " 655: 40852,\n",
       " 656: 40853,\n",
       " 657: 40854,\n",
       " 658: 40855,\n",
       " 659: 40856,\n",
       " 660: 40857,\n",
       " 661: 40858,\n",
       " 662: 40859,\n",
       " 663: 40860,\n",
       " 664: 40861,\n",
       " 665: 40862,\n",
       " 666: 40863,\n",
       " 667: 40864,\n",
       " 668: 40865,\n",
       " 669: 40866,\n",
       " 670: 40867,\n",
       " 671: 40868,\n",
       " 672: 40869,\n",
       " 673: 40870,\n",
       " 674: 40871,\n",
       " 675: 40872,\n",
       " 676: 40873,\n",
       " 677: 40874,\n",
       " 678: 40875,\n",
       " 679: 40876,\n",
       " 680: 40877,\n",
       " 681: 40878,\n",
       " 682: 40879,\n",
       " 683: 40880,\n",
       " 684: 40881,\n",
       " 685: 40882,\n",
       " 686: 40883,\n",
       " 687: 40884,\n",
       " 688: 40885,\n",
       " 689: 40886,\n",
       " 690: 40887,\n",
       " 691: 40888,\n",
       " 692: 40889,\n",
       " 693: 40890,\n",
       " 694: 40891,\n",
       " 695: 40892,\n",
       " 696: 40893,\n",
       " 697: 40894,\n",
       " 698: 40895,\n",
       " 699: 40896,\n",
       " 700: 40897,\n",
       " 701: 40898,\n",
       " 702: 40899,\n",
       " 703: 40900,\n",
       " 704: 40901,\n",
       " 705: 40902,\n",
       " 706: 40903,\n",
       " 707: 40904,\n",
       " 708: 40905,\n",
       " 709: 40906,\n",
       " 710: 40907,\n",
       " 711: 40908,\n",
       " 712: 40909,\n",
       " 713: 40910,\n",
       " 714: 40911,\n",
       " 715: 40912,\n",
       " 716: 40913,\n",
       " 717: 40914,\n",
       " 718: 40915,\n",
       " 719: 40916,\n",
       " 720: 40917,\n",
       " 721: 40918,\n",
       " 722: 40919,\n",
       " 723: 40920,\n",
       " 724: 40921,\n",
       " 725: 40922,\n",
       " 726: 40923,\n",
       " 727: 40924,\n",
       " 728: 40925,\n",
       " 729: 40926,\n",
       " 730: 40927,\n",
       " 731: 40928,\n",
       " 732: 40929,\n",
       " 733: 40930,\n",
       " 734: 40931,\n",
       " 735: 40932,\n",
       " 736: 40933,\n",
       " 737: 40934,\n",
       " 738: 40935,\n",
       " 739: 40936,\n",
       " 740: 40937,\n",
       " 741: 40938,\n",
       " 742: 40939,\n",
       " 743: 40940,\n",
       " 744: 40941,\n",
       " 745: 40942,\n",
       " 746: 40943,\n",
       " 747: 40944,\n",
       " 748: 40945,\n",
       " 749: 40946,\n",
       " 750: 40947,\n",
       " 751: 40948,\n",
       " 752: 40949,\n",
       " 753: 40950,\n",
       " 754: 40951,\n",
       " 755: 40952,\n",
       " 756: 40953,\n",
       " 757: 40954,\n",
       " 758: 40955,\n",
       " 759: 40956,\n",
       " 760: 40957,\n",
       " 761: 40958,\n",
       " 762: 40959,\n",
       " 763: 40960,\n",
       " 764: 40961,\n",
       " 765: 40962,\n",
       " 766: 40963,\n",
       " 767: 40964,\n",
       " 768: 40965,\n",
       " 769: 40966,\n",
       " 770: 40967,\n",
       " 771: 40968,\n",
       " 772: 40969,\n",
       " 773: 40970,\n",
       " 774: 40971,\n",
       " 775: 40972,\n",
       " 776: 40973,\n",
       " 777: 40974,\n",
       " 778: 40975,\n",
       " 779: 40976,\n",
       " 780: 40977,\n",
       " 781: 40978,\n",
       " 782: 40979,\n",
       " 783: 40980,\n",
       " 784: 40981,\n",
       " 785: 40982,\n",
       " 786: 40983,\n",
       " 787: 40984,\n",
       " 788: 40985,\n",
       " 789: 40986,\n",
       " 790: 40987,\n",
       " 791: 40988,\n",
       " 792: 40989,\n",
       " 793: 40990,\n",
       " 794: 40991,\n",
       " 795: 40992,\n",
       " 796: 40993,\n",
       " 797: 40994,\n",
       " 798: 40995,\n",
       " 799: 40996,\n",
       " 800: 40997,\n",
       " 801: 40998,\n",
       " 802: 40999,\n",
       " 803: 41000,\n",
       " 804: 41001,\n",
       " 805: 41002,\n",
       " 806: 41003,\n",
       " 807: 41004,\n",
       " 808: 41005,\n",
       " 809: 41006,\n",
       " 810: 41007,\n",
       " 811: 41008,\n",
       " 812: 41009,\n",
       " 813: 41010,\n",
       " 814: 41011,\n",
       " 815: 41012,\n",
       " 816: 41013,\n",
       " 817: 41014,\n",
       " 818: 41015,\n",
       " 819: 41016,\n",
       " 820: 41017,\n",
       " 821: 41018,\n",
       " 822: 41019,\n",
       " 823: 41020,\n",
       " 824: 41021,\n",
       " 825: 41022,\n",
       " 826: 41023,\n",
       " 827: 41024,\n",
       " 828: 41025,\n",
       " 829: 41026,\n",
       " 830: 41027,\n",
       " 831: 41028,\n",
       " 832: 41029,\n",
       " 833: 41030,\n",
       " 834: 41031,\n",
       " 835: 41032,\n",
       " 836: 41033,\n",
       " 837: 41034,\n",
       " 838: 41035,\n",
       " 839: 41036,\n",
       " 840: 41037,\n",
       " 841: 41038,\n",
       " 842: 41039,\n",
       " 843: 41040,\n",
       " 844: 41041,\n",
       " 845: 41042,\n",
       " 846: 41043,\n",
       " 847: 41044,\n",
       " 848: 41045,\n",
       " 849: 41046,\n",
       " 850: 41047,\n",
       " 851: 41048,\n",
       " 852: 41049,\n",
       " 853: 41050,\n",
       " 854: 41051,\n",
       " 855: 41052,\n",
       " 856: 41053,\n",
       " 857: 41054,\n",
       " 858: 41055,\n",
       " 859: 41056,\n",
       " 860: 41057,\n",
       " 861: 41058,\n",
       " 862: 41059,\n",
       " 863: 41060,\n",
       " 864: 41061,\n",
       " 865: 41062,\n",
       " 866: 41063,\n",
       " 867: 41064,\n",
       " 868: 41065,\n",
       " 869: 41066,\n",
       " 870: 41067,\n",
       " 871: 41068,\n",
       " 872: 41069,\n",
       " 873: 41070,\n",
       " 874: 41071,\n",
       " 875: 41072,\n",
       " 876: 41073,\n",
       " 877: 41074,\n",
       " 878: 41075,\n",
       " 879: 41076,\n",
       " 880: 41077,\n",
       " 881: 41078,\n",
       " 882: 41079,\n",
       " 883: 41080,\n",
       " 884: 41081,\n",
       " 885: 41082,\n",
       " 886: 41083,\n",
       " 887: 41084,\n",
       " 888: 41085,\n",
       " 889: 41086,\n",
       " 890: 41087,\n",
       " 891: 41088,\n",
       " 892: 41089,\n",
       " 893: 41090,\n",
       " 894: 41091,\n",
       " 895: 41092,\n",
       " 896: 41093,\n",
       " 897: 41094,\n",
       " 898: 41095,\n",
       " 899: 41096,\n",
       " 900: 41097,\n",
       " 901: 41098,\n",
       " 902: 41099,\n",
       " 903: 41100,\n",
       " 904: 41101,\n",
       " 905: 41102,\n",
       " 906: 41103,\n",
       " 907: 41104,\n",
       " 908: 41105,\n",
       " 909: 41106,\n",
       " 910: 41107,\n",
       " 911: 41108,\n",
       " 912: 41109,\n",
       " 913: 41110,\n",
       " 914: 41111,\n",
       " 915: 41112,\n",
       " 916: 41113,\n",
       " 917: 41114,\n",
       " 918: 41115,\n",
       " 919: 41116,\n",
       " 920: 41117,\n",
       " 921: 41118,\n",
       " 922: 41119,\n",
       " 923: 41120,\n",
       " 924: 41121,\n",
       " 925: 41122,\n",
       " 926: 41123,\n",
       " 927: 41124,\n",
       " 928: 41125,\n",
       " 929: 41126,\n",
       " 930: 41127,\n",
       " 931: 41128,\n",
       " 932: 41129,\n",
       " 933: 41130,\n",
       " 934: 41131,\n",
       " 935: 41132,\n",
       " 936: 41133,\n",
       " 937: 41134,\n",
       " 938: 41135,\n",
       " 939: 41136,\n",
       " 940: 41137,\n",
       " 941: 41138,\n",
       " 942: 41139,\n",
       " 943: 41140,\n",
       " 944: 41141,\n",
       " 945: 41142,\n",
       " 946: 41143,\n",
       " 947: 41144,\n",
       " 948: 41145,\n",
       " 949: 41146,\n",
       " 950: 41147,\n",
       " 951: 41148,\n",
       " 952: 41149,\n",
       " 953: 41150,\n",
       " 954: 41151,\n",
       " 955: 41152,\n",
       " 956: 41153,\n",
       " 957: 41154,\n",
       " 958: 41155,\n",
       " 959: 41156,\n",
       " 960: 41157,\n",
       " 961: 41158,\n",
       " 962: 41159,\n",
       " 963: 41160,\n",
       " 964: 41161,\n",
       " 965: 41162,\n",
       " 966: 41163,\n",
       " 967: 41164,\n",
       " 968: 41165,\n",
       " 969: 41166,\n",
       " 970: 41167,\n",
       " 971: 41168,\n",
       " 972: 41169,\n",
       " 973: 41170,\n",
       " 974: 41171,\n",
       " 975: 41172,\n",
       " 976: 41173,\n",
       " 977: 41174,\n",
       " 978: 41175,\n",
       " 979: 41176,\n",
       " 980: 41177,\n",
       " 981: 41178,\n",
       " 982: 41179,\n",
       " 983: 41180,\n",
       " 984: 41181,\n",
       " 985: 41182,\n",
       " 986: 41183,\n",
       " 987: 41184,\n",
       " 988: 41185,\n",
       " 989: 41186,\n",
       " 990: 41187,\n",
       " 991: 41188,\n",
       " 992: 41189,\n",
       " 993: 41190,\n",
       " 994: 41191,\n",
       " 995: 41192,\n",
       " 996: 41193,\n",
       " 997: 41194,\n",
       " 998: 41195,\n",
       " 999: 41196,\n",
       " ...}"
      ]
     },
     "execution_count": 177,
     "metadata": {},
     "output_type": "execute_result"
    }
   ],
   "source": [
    "L_train.row_index"
   ]
  },
  {
   "cell_type": "code",
   "execution_count": null,
   "metadata": {},
   "outputs": [],
   "source": []
  },
  {
   "cell_type": "markdown",
   "metadata": {},
   "source": [
    "### Get and plot marginals"
   ]
  },
  {
   "cell_type": "code",
   "execution_count": 91,
   "metadata": {},
   "outputs": [],
   "source": [
    "train_marginals_w_prior = gen_model_prior.marginals(L_train)"
   ]
  },
  {
   "cell_type": "code",
   "execution_count": 162,
   "metadata": {},
   "outputs": [],
   "source": [
    "train_marginals_w_prior_log = gen_model_prior_log.marginals(L_train)"
   ]
  },
  {
   "cell_type": "code",
   "execution_count": null,
   "metadata": {},
   "outputs": [],
   "source": [
    "# Plug in directly the F1 score as Lf_accuracy"
   ]
  },
  {
   "cell_type": "code",
   "execution_count": 167,
   "metadata": {},
   "outputs": [
    {
     "data": {
      "image/png": "[encoded data removed]",
      "text/plain": [
       "<Figure size 432x288 with 1 Axes>"
      ]
     },
     "metadata": {},
     "output_type": "display_data"
    }
   ],
   "source": [
    "plt.hist(train_marginals_w_prior, bins=20)\n",
    "plt.title('With priors-no logs')\n",
    "plt.show()"
   ]
  },
  {
   "cell_type": "code",
   "execution_count": 168,
   "metadata": {},
   "outputs": [
    {
     "data": {
      "image/png": "[encoded data removed]",
      "text/plain": [
       "<Figure size 432x288 with 1 Axes>"
      ]
     },
     "metadata": {},
     "output_type": "display_data"
    }
   ],
   "source": [
    "plt.hist(train_marginals_w_prior_log, bins=20)\n",
    "plt.title('With priors-with logs')\n",
    "plt.show()"
   ]
  },
  {
   "cell_type": "code",
   "execution_count": 180,
   "metadata": {},
   "outputs": [
    {
     "data": {
      "text/plain": [
       "<79400x4 sparse matrix of type '<type 'numpy.int64'>'\n",
       "\twith 317600 stored elements in Compressed Sparse Row format>"
      ]
     },
     "execution_count": 180,
     "metadata": {},
     "output_type": "execute_result"
    }
   ],
   "source": [
    "L_train"
   ]
  },
  {
   "cell_type": "markdown",
   "metadata": {},
   "source": [
    "### Rebalance dataset on the generative model"
   ]
  },
  {
   "cell_type": "code",
   "execution_count": 182,
   "metadata": {},
   "outputs": [],
   "source": [
    "from MLutils import balance_candidates"
   ]
  },
  {
   "cell_type": "code",
   "execution_count": 181,
   "metadata": {},
   "outputs": [],
   "source": [
    "# from https://stackoverflow.com/questions/13077527/is-there-a-numpy-delete-equivalent-for-sparse-matrices\n",
    "import numpy as np\n",
    "from scipy.sparse import csr_matrix\n",
    "\n",
    "def delete_from_csr(mat, row_indices=[], col_indices=[]):\n",
    "    \"\"\"\n",
    "    Remove the rows (denoted by ``row_indices``) and columns (denoted by ``col_indices``) from the CSR sparse matrix ``mat``.\n",
    "    WARNING: Indices of altered axes are reset in the returned matrix\n",
    "    \"\"\"\n",
    "    if not isinstance(mat, csr_matrix):\n",
    "        raise ValueError(\"works only for CSR format -- use .tocsr() first\")\n",
    "\n",
    "    rows = []\n",
    "    cols = []\n",
    "    if row_indices:\n",
    "        rows = list(row_indices)\n",
    "    if col_indices:\n",
    "        cols = list(col_indices)\n",
    "\n",
    "    if len(rows) > 0 and len(cols) > 0:\n",
    "        row_mask = np.ones(mat.shape[0], dtype=bool)\n",
    "        row_mask[rows] = False\n",
    "        col_mask = np.ones(mat.shape[1], dtype=bool)\n",
    "        col_mask[cols] = False\n",
    "        return mat[row_mask][:,col_mask]\n",
    "    elif len(rows) > 0:\n",
    "        mask = np.ones(mat.shape[0], dtype=bool)\n",
    "        mask[rows] = False\n",
    "        return mat[mask]\n",
    "    elif len(cols) > 0:\n",
    "        mask = np.ones(mat.shape[1], dtype=bool)\n",
    "        mask[cols] = False\n",
    "        return mat[:,mask]\n",
    "    else:\n",
    "        return mat"
   ]
  },
  {
   "cell_type": "code",
   "execution_count": 190,
   "metadata": {},
   "outputs": [
    {
     "ename": "AttributeError",
     "evalue": "'bool' object has no attribute 'asint'",
     "output_type": "error",
     "traceback": [
      "\u001b[0;31m---------------------------------------------------------------------------\u001b[0m",
      "\u001b[0;31mAttributeError\u001b[0m                            Traceback (most recent call last)",
      "\u001b[0;32m<ipython-input-190-12e283ace474>\u001b[0m in \u001b[0;36m<module>\u001b[0;34m()\u001b[0m\n\u001b[0;32m----> 1\u001b[0;31m \u001b[0;34m(\u001b[0m\u001b[0;36m5\u001b[0m\u001b[0;34m>\u001b[0m\u001b[0;36m3\u001b[0m\u001b[0;34m)\u001b[0m\u001b[0;34m.\u001b[0m\u001b[0masint\u001b[0m\u001b[0;34m\u001b[0m\u001b[0m\n\u001b[0m",
      "\u001b[0;31mAttributeError\u001b[0m: 'bool' object has no attribute 'asint'"
     ]
    }
   ],
   "source": [
    "(5>3).asint"
   ]
  },
  {
   "cell_type": "code",
   "execution_count": 191,
   "metadata": {},
   "outputs": [
    {
     "data": {
      "text/plain": [
       "array(<itertools.imap object at 0x7f1c085ecb10>, dtype=object)"
      ]
     },
     "execution_count": 191,
     "metadata": {},
     "output_type": "execute_result"
    }
   ],
   "source": [
    "list(map(lambda x:x[0].item()>=0.5,L_train.mean(axis=1)))"
   ]
  },
  {
   "cell_type": "code",
   "execution_count": 201,
   "metadata": {},
   "outputs": [],
   "source": [
    "arr = np.fromiter(map(lambda x:x[0].item()>=0.5,L_train.mean(axis=1)), dtype=bool)\n",
    "lbls = arr*2-1"
   ]
  },
  {
   "cell_type": "code",
   "execution_count": 202,
   "metadata": {},
   "outputs": [
    {
     "data": {
      "text/plain": [
       "array([-1, -1, -1, ..., -1, -1,  1])"
      ]
     },
     "execution_count": 202,
     "metadata": {},
     "output_type": "execute_result"
    }
   ],
   "source": [
    "lbls"
   ]
  },
  {
   "cell_type": "code",
   "execution_count": 204,
   "metadata": {},
   "outputs": [],
   "source": [
    "indices = [i for i in range(L_train.shape[0])]"
   ]
  },
  {
   "cell_type": "code",
   "execution_count": null,
   "metadata": {},
   "outputs": [],
   "source": []
  },
  {
   "cell_type": "code",
   "execution_count": 208,
   "metadata": {},
   "outputs": [],
   "source": [
    "ind_us, lbls_us = balance_candidates(indices, lbls)"
   ]
  },
  {
   "cell_type": "code",
   "execution_count": null,
   "metadata": {},
   "outputs": [],
   "source": [
    "#keep only those which are in the ind_us"
   ]
  },
  {
   "cell_type": "code",
   "execution_count": 209,
   "metadata": {},
   "outputs": [],
   "source": [
    "ind_to_del = list(set(indices).difference(set(ind_us)))"
   ]
  },
  {
   "cell_type": "code",
   "execution_count": null,
   "metadata": {},
   "outputs": [],
   "source": []
  },
  {
   "cell_type": "code",
   "execution_count": null,
   "metadata": {},
   "outputs": [],
   "source": []
  },
  {
   "cell_type": "code",
   "execution_count": 250,
   "metadata": {},
   "outputs": [
    {
     "data": {
      "text/plain": [
       "{(0, 1, 0), (0, 2, 0), (0, 3, 0), (1, 2, 0), (1, 3, 0), (2, 3, 0)}"
      ]
     },
     "execution_count": 250,
     "metadata": {},
     "output_type": "execute_result"
    }
   ],
   "source": [
    "deps"
   ]
  },
  {
   "cell_type": "code",
   "execution_count": null,
   "metadata": {},
   "outputs": [],
   "source": []
  },
  {
   "cell_type": "code",
   "execution_count": 251,
   "metadata": {
    "scrolled": false
   },
   "outputs": [
    {
     "name": "stdout",
     "output_type": "stream",
     "text": [
      "Inferred cardinality: 2\n"
     ]
    },
    {
     "data": {
      "image/png": "[encoded data removed]",
      "text/plain": [
       "<Figure size 432x288 with 1 Axes>"
      ]
     },
     "metadata": {},
     "output_type": "display_data"
    },
    {
     "name": "stdout",
     "output_type": "stream",
     "text": [
      "Inferred cardinality: 2\n"
     ]
    },
    {
     "data": {
      "image/png": "[encoded data removed]",
      "text/plain": [
       "<Figure size 432x288 with 1 Axes>"
      ]
     },
     "metadata": {},
     "output_type": "display_data"
    },
    {
     "name": "stdout",
     "output_type": "stream",
     "text": [
      "Inferred cardinality: 2\n"
     ]
    },
    {
     "data": {
      "image/png": "[encoded data removed]",
      "text/plain": [
       "<Figure size 432x288 with 1 Axes>"
      ]
     },
     "metadata": {},
     "output_type": "display_data"
    },
    {
     "name": "stdout",
     "output_type": "stream",
     "text": [
      "Inferred cardinality: 2\n"
     ]
    },
    {
     "data": {
      "image/png": "[encoded data removed]",
      "text/plain": [
       "<Figure size 432x288 with 1 Axes>"
      ]
     },
     "metadata": {},
     "output_type": "display_data"
    },
    {
     "name": "stdout",
     "output_type": "stream",
     "text": [
      "Inferred cardinality: 2\n"
     ]
    },
    {
     "data": {
      "image/png": "[encoded data removed]",
      "text/plain": [
       "<Figure size 432x288 with 1 Axes>"
      ]
     },
     "metadata": {},
     "output_type": "display_data"
    },
    {
     "name": "stdout",
     "output_type": "stream",
     "text": [
      "Inferred cardinality: 2\n"
     ]
    },
    {
     "data": {
      "image/png": "[encoded data removed]",
      "text/plain": [
       "<Figure size 432x288 with 1 Axes>"
      ]
     },
     "metadata": {},
     "output_type": "display_data"
    }
   ],
   "source": [
    "for reg_param in [1e-5,1e-10,1e-15]:\n",
    "    gen_model.train(L_train_us,threads=6, reg_param=reg_param, deps=deps)\n",
    "    train_marginals_us = gen_model.marginals(L_train_us)\n",
    "    \n",
    "    plt.hist(train_marginals_us, bins=20)\n",
    "    plt.title('Undersampled, with deps reg=%s'%reg_param)\n",
    "    plt.show()\n",
    "    \n",
    "    gen_model.train(L_train_us,threads=6, reg_param=reg_param)\n",
    "    train_marginals_us = gen_model.marginals(L_train_us)\n",
    "    \n",
    "    plt.hist(train_marginals_us, bins=20)\n",
    "    plt.title('Undersampled, no deps reg=%s'%reg_param)\n",
    "    plt.show()\n",
    "    "
   ]
  },
  {
   "cell_type": "code",
   "execution_count": null,
   "metadata": {},
   "outputs": [],
   "source": []
  },
  {
   "cell_type": "code",
   "execution_count": 252,
   "metadata": {
    "scrolled": false
   },
   "outputs": [
    {
     "name": "stdout",
     "output_type": "stream",
     "text": [
      "Inferred cardinality: 2\n"
     ]
    },
    {
     "data": {
      "image/png": "[encoded data removed]",
      "text/plain": [
       "<Figure size 432x288 with 1 Axes>"
      ]
     },
     "metadata": {},
     "output_type": "display_data"
    },
    {
     "name": "stdout",
     "output_type": "stream",
     "text": [
      "Inferred cardinality: 2\n"
     ]
    },
    {
     "data": {
      "image/png": "[encoded data removed]",
      "text/plain": [
       "<Figure size 432x288 with 1 Axes>"
      ]
     },
     "metadata": {},
     "output_type": "display_data"
    },
    {
     "name": "stdout",
     "output_type": "stream",
     "text": [
      "Inferred cardinality: 2\n"
     ]
    },
    {
     "data": {
      "image/png": "[encoded data removed]",
      "text/plain": [
       "<Figure size 432x288 with 1 Axes>"
      ]
     },
     "metadata": {},
     "output_type": "display_data"
    },
    {
     "name": "stdout",
     "output_type": "stream",
     "text": [
      "Inferred cardinality: 2\n"
     ]
    },
    {
     "data": {
      "image/png": "[encoded data removed]",
      "text/plain": [
       "<Figure size 432x288 with 1 Axes>"
      ]
     },
     "metadata": {},
     "output_type": "display_data"
    },
    {
     "name": "stdout",
     "output_type": "stream",
     "text": [
      "Inferred cardinality: 2\n"
     ]
    },
    {
     "data": {
      "image/png": "[encoded data removed]",
      "text/plain": [
       "<Figure size 432x288 with 1 Axes>"
      ]
     },
     "metadata": {},
     "output_type": "display_data"
    },
    {
     "name": "stdout",
     "output_type": "stream",
     "text": [
      "Inferred cardinality: 2\n"
     ]
    },
    {
     "data": {
      "image/png": "[encoded data removed]",
      "text/plain": [
       "<Figure size 432x288 with 1 Axes>"
      ]
     },
     "metadata": {},
     "output_type": "display_data"
    }
   ],
   "source": [
    "for reg_param in [1e-20,1e-25,1e-30]:\n",
    "    gen_model.train(L_train_us,threads=6, reg_param=reg_param, deps=deps)\n",
    "    train_marginals_us = gen_model.marginals(L_train_us)\n",
    "    \n",
    "    plt.hist(train_marginals_us, bins=20)\n",
    "    plt.title('Undersampled, with deps reg=%s'%reg_param)\n",
    "    plt.show()\n",
    "    \n",
    "    gen_model.train(L_train_us,threads=6, reg_param=reg_param)\n",
    "    train_marginals_us = gen_model.marginals(L_train_us)\n",
    "    \n",
    "    plt.hist(train_marginals_us, bins=20)\n",
    "    plt.title('Undersampled, no deps reg=%s'%reg_param)\n",
    "    plt.show()\n",
    "    "
   ]
  },
  {
   "cell_type": "code",
   "execution_count": null,
   "metadata": {},
   "outputs": [],
   "source": []
  },
  {
   "cell_type": "code",
   "execution_count": 253,
   "metadata": {},
   "outputs": [
    {
     "name": "stdout",
     "output_type": "stream",
     "text": [
      "Inferred cardinality: 2\n"
     ]
    },
    {
     "data": {
      "image/png": "[encoded data removed]",
      "text/plain": [
       "<Figure size 432x288 with 1 Axes>"
      ]
     },
     "metadata": {},
     "output_type": "display_data"
    },
    {
     "name": "stdout",
     "output_type": "stream",
     "text": [
      "Inferred cardinality: 2\n"
     ]
    },
    {
     "data": {
      "image/png": "[encoded data removed]",
      "text/plain": [
       "<Figure size 432x288 with 1 Axes>"
      ]
     },
     "metadata": {},
     "output_type": "display_data"
    },
    {
     "name": "stdout",
     "output_type": "stream",
     "text": [
      "Inferred cardinality: 2\n"
     ]
    },
    {
     "data": {
      "image/png": "[encoded data removed]",
      "text/plain": [
       "<Figure size 432x288 with 1 Axes>"
      ]
     },
     "metadata": {},
     "output_type": "display_data"
    },
    {
     "name": "stdout",
     "output_type": "stream",
     "text": [
      "Inferred cardinality: 2\n"
     ]
    },
    {
     "data": {
      "image/png": "[encoded data removed]",
      "text/plain": [
       "<Figure size 432x288 with 1 Axes>"
      ]
     },
     "metadata": {},
     "output_type": "display_data"
    },
    {
     "name": "stdout",
     "output_type": "stream",
     "text": [
      "Inferred cardinality: 2\n"
     ]
    },
    {
     "data": {
      "image/png": "[encoded data removed]",
      "text/plain": [
       "<Figure size 432x288 with 1 Axes>"
      ]
     },
     "metadata": {},
     "output_type": "display_data"
    },
    {
     "name": "stdout",
     "output_type": "stream",
     "text": [
      "Inferred cardinality: 2\n"
     ]
    },
    {
     "data": {
      "image/png": "[encoded data removed]",
      "text/plain": [
       "<Figure size 432x288 with 1 Axes>"
      ]
     },
     "metadata": {},
     "output_type": "display_data"
    }
   ],
   "source": [
    "for reg_param in [1e-40,1e-50,1e-75]:\n",
    "    gen_model.train(L_train_us,threads=6, reg_param=reg_param, deps=deps)\n",
    "    train_marginals_us = gen_model.marginals(L_train_us)\n",
    "    \n",
    "    plt.hist(train_marginals_us, bins=20)\n",
    "    plt.title('Undersampled, with deps reg=%s'%reg_param)\n",
    "    plt.show()\n",
    "    \n",
    "    gen_model.train(L_train_us,threads=6, reg_param=reg_param)\n",
    "    train_marginals_us = gen_model.marginals(L_train_us)\n",
    "    \n",
    "    plt.hist(train_marginals_us, bins=20)\n",
    "    plt.title('Undersampled, no deps reg=%s'%reg_param)\n",
    "    plt.show()\n",
    "    "
   ]
  },
  {
   "cell_type": "code",
   "execution_count": null,
   "metadata": {},
   "outputs": [],
   "source": []
  },
  {
   "cell_type": "code",
   "execution_count": null,
   "metadata": {},
   "outputs": [],
   "source": []
  },
  {
   "cell_type": "code",
   "execution_count": null,
   "metadata": {},
   "outputs": [],
   "source": []
  },
  {
   "cell_type": "code",
   "execution_count": 219,
   "metadata": {},
   "outputs": [
    {
     "data": {
      "text/plain": [
       "array([ 1.14998382,  1.21349223,  1.23895636,  1.26662926])"
      ]
     },
     "execution_count": 219,
     "metadata": {},
     "output_type": "execute_result"
    }
   ],
   "source": [
    "gen_model.weights.lf_accuracy"
   ]
  },
  {
   "cell_type": "code",
   "execution_count": 220,
   "metadata": {},
   "outputs": [
    {
     "data": {
      "text/plain": [
       "array([ 1.49332416,  1.15567761,  1.06542223,  0.91683275])"
      ]
     },
     "execution_count": 220,
     "metadata": {},
     "output_type": "execute_result"
    }
   ],
   "source": [
    "gen_model_prior.weights.lf_accuracy"
   ]
  },
  {
   "cell_type": "code",
   "execution_count": 221,
   "metadata": {},
   "outputs": [
    {
     "data": {
      "text/plain": [
       "array([ 1.3412863 ,  1.08157638,  0.96753462,  0.84560977])"
      ]
     },
     "execution_count": 221,
     "metadata": {},
     "output_type": "execute_result"
    }
   ],
   "source": [
    "gen_model_prior_log.weights.lf_accuracy"
   ]
  },
  {
   "cell_type": "code",
   "execution_count": null,
   "metadata": {},
   "outputs": [],
   "source": []
  },
  {
   "cell_type": "markdown",
   "metadata": {},
   "source": [
    "# ~"
   ]
  },
  {
   "cell_type": "code",
   "execution_count": 163,
   "metadata": {},
   "outputs": [
    {
     "data": {
      "text/plain": [
       "array([ 0.5167 ,  0.60765,  0.5341 ,  0.5523 ])"
      ]
     },
     "execution_count": 163,
     "metadata": {},
     "output_type": "execute_result"
    }
   ],
   "source": [
    "gen_model.weights.lf_accuracy"
   ]
  },
  {
   "cell_type": "code",
   "execution_count": 99,
   "metadata": {},
   "outputs": [
    {
     "data": {
      "text/plain": [
       "array([ 0.5167 ,  0.60765,  0.5341 ,  0.5523 ])"
      ]
     },
     "execution_count": 99,
     "metadata": {},
     "output_type": "execute_result"
    }
   ],
   "source": [
    "np.array([0.5167, 0.60765, 0.5341, 0.5523 ])"
   ]
  },
  {
   "cell_type": "code",
   "execution_count": 100,
   "metadata": {},
   "outputs": [],
   "source": [
    "gen_model.weights.lf_accuracy = np.array([0.5167, 0.60765, 0.5341, 0.5523 ])"
   ]
  },
  {
   "cell_type": "code",
   "execution_count": null,
   "metadata": {},
   "outputs": [],
   "source": []
  },
  {
   "cell_type": "code",
   "execution_count": 101,
   "metadata": {},
   "outputs": [],
   "source": [
    "train_marginals_F1 = gen_model.marginals(L_train)"
   ]
  },
  {
   "cell_type": "code",
   "execution_count": 134,
   "metadata": {},
   "outputs": [
    {
     "data": {
      "image/png": "[encoded data removed]",
      "text/plain": [
       "<Figure size 432x288 with 1 Axes>"
      ]
     },
     "metadata": {},
     "output_type": "display_data"
    }
   ],
   "source": [
    "plt.hist(train_marginals_F1, bins=20)\n",
    "plt.title('Histogram of probabilistic labels (created with %i models & overwritten F1 scores)'%n_models)\n",
    "plt.show()"
   ]
  },
  {
   "cell_type": "code",
   "execution_count": null,
   "metadata": {},
   "outputs": [],
   "source": []
  },
  {
   "cell_type": "code",
   "execution_count": 222,
   "metadata": {},
   "outputs": [
    {
     "data": {
      "text/html": [
       "<div>\n",
       "<style scoped>\n",
       "    .dataframe tbody tr th:only-of-type {\n",
       "        vertical-align: middle;\n",
       "    }\n",
       "\n",
       "    .dataframe tbody tr th {\n",
       "        vertical-align: top;\n",
       "    }\n",
       "\n",
       "    .dataframe thead th {\n",
       "        text-align: right;\n",
       "    }\n",
       "</style>\n",
       "<table border=\"1\" class=\"dataframe\">\n",
       "  <thead>\n",
       "    <tr style=\"text-align: right;\">\n",
       "      <th></th>\n",
       "      <th>j</th>\n",
       "      <th>Coverage</th>\n",
       "      <th>Overlaps</th>\n",
       "      <th>Conflicts</th>\n",
       "      <th>TP</th>\n",
       "      <th>FP</th>\n",
       "      <th>FN</th>\n",
       "      <th>TN</th>\n",
       "      <th>Empirical Acc.</th>\n",
       "      <th>Learned Acc.</th>\n",
       "    </tr>\n",
       "  </thead>\n",
       "  <tbody>\n",
       "    <tr>\n",
       "      <th>fasttext_fasttext</th>\n",
       "      <td>0</td>\n",
       "      <td>1.0</td>\n",
       "      <td>1.0</td>\n",
       "      <td>0.486687</td>\n",
       "      <td>324</td>\n",
       "      <td>225</td>\n",
       "      <td>381</td>\n",
       "      <td>2300</td>\n",
       "      <td>0.812384</td>\n",
       "      <td>0.909559</td>\n",
       "    </tr>\n",
       "    <tr>\n",
       "      <th>results_dict,ShortDepPath,RuS,CV_,bin_,minFreq=1,_ngrams=(0, 3),LSA100_SVC_linear</th>\n",
       "      <td>1</td>\n",
       "      <td>1.0</td>\n",
       "      <td>1.0</td>\n",
       "      <td>0.486687</td>\n",
       "      <td>508</td>\n",
       "      <td>459</td>\n",
       "      <td>197</td>\n",
       "      <td>2066</td>\n",
       "      <td>0.796904</td>\n",
       "      <td>0.914668</td>\n",
       "    </tr>\n",
       "    <tr>\n",
       "      <th>RuS,lr=0.001,dropout=0.25,8epochs,rebalance=0,max_sent_length=64_biLSTM</th>\n",
       "      <td>2</td>\n",
       "      <td>1.0</td>\n",
       "      <td>1.0</td>\n",
       "      <td>0.486687</td>\n",
       "      <td>446</td>\n",
       "      <td>519</td>\n",
       "      <td>259</td>\n",
       "      <td>2006</td>\n",
       "      <td>0.759133</td>\n",
       "      <td>0.925470</td>\n",
       "    </tr>\n",
       "    <tr>\n",
       "      <th>results_dict,lemmas,RuS,TfIdf_,minFreq=1,_ngrams=(1, 1),LSA100_RandomForestClassifier</th>\n",
       "      <td>3</td>\n",
       "      <td>1.0</td>\n",
       "      <td>1.0</td>\n",
       "      <td>0.486687</td>\n",
       "      <td>520</td>\n",
       "      <td>658</td>\n",
       "      <td>185</td>\n",
       "      <td>1867</td>\n",
       "      <td>0.739009</td>\n",
       "      <td>0.925073</td>\n",
       "    </tr>\n",
       "  </tbody>\n",
       "</table>\n",
       "</div>"
      ],
      "text/plain": [
       "                                                    j  Coverage  Overlaps  \\\n",
       "fasttext_fasttext                                   0       1.0       1.0   \n",
       "results_dict,ShortDepPath,RuS,CV_,bin_,minFreq=...  1       1.0       1.0   \n",
       "RuS,lr=0.001,dropout=0.25,8epochs,rebalance=0,m...  2       1.0       1.0   \n",
       "results_dict,lemmas,RuS,TfIdf_,minFreq=1,_ngram...  3       1.0       1.0   \n",
       "\n",
       "                                                    Conflicts   TP   FP   FN  \\\n",
       "fasttext_fasttext                                    0.486687  324  225  381   \n",
       "results_dict,ShortDepPath,RuS,CV_,bin_,minFreq=...   0.486687  508  459  197   \n",
       "RuS,lr=0.001,dropout=0.25,8epochs,rebalance=0,m...   0.486687  446  519  259   \n",
       "results_dict,lemmas,RuS,TfIdf_,minFreq=1,_ngram...   0.486687  520  658  185   \n",
       "\n",
       "                                                      TN  Empirical Acc.  \\\n",
       "fasttext_fasttext                                   2300        0.812384   \n",
       "results_dict,ShortDepPath,RuS,CV_,bin_,minFreq=...  2066        0.796904   \n",
       "RuS,lr=0.001,dropout=0.25,8epochs,rebalance=0,m...  2006        0.759133   \n",
       "results_dict,lemmas,RuS,TfIdf_,minFreq=1,_ngram...  1867        0.739009   \n",
       "\n",
       "                                                    Learned Acc.  \n",
       "fasttext_fasttext                                       0.909559  \n",
       "results_dict,ShortDepPath,RuS,CV_,bin_,minFreq=...      0.914668  \n",
       "RuS,lr=0.001,dropout=0.25,8epochs,rebalance=0,m...      0.925470  \n",
       "results_dict,lemmas,RuS,TfIdf_,minFreq=1,_ngram...      0.925073  "
      ]
     },
     "execution_count": 222,
     "metadata": {},
     "output_type": "execute_result"
    }
   ],
   "source": [
    "L_dev.lf_stats(session, L_gold_dev, gen_model.learned_lf_stats()['Accuracy'])"
   ]
  },
  {
   "cell_type": "code",
   "execution_count": null,
   "metadata": {},
   "outputs": [],
   "source": []
  },
  {
   "cell_type": "code",
   "execution_count": 225,
   "metadata": {},
   "outputs": [
    {
     "data": {
      "text/plain": [
       "array([ 1.14998382,  1.21349223,  1.23895636,  1.26662926])"
      ]
     },
     "execution_count": 225,
     "metadata": {},
     "output_type": "execute_result"
    }
   ],
   "source": [
    "gen_model.weights.lf_accuracy"
   ]
  },
  {
   "cell_type": "code",
   "execution_count": null,
   "metadata": {},
   "outputs": [],
   "source": []
  },
  {
   "cell_type": "code",
   "execution_count": 184,
   "metadata": {},
   "outputs": [
    {
     "data": {
      "text/plain": [
       "-1.0"
      ]
     },
     "execution_count": 184,
     "metadata": {},
     "output_type": "execute_result"
    }
   ],
   "source": [
    "L_train.mean(axis=1)[0].item()"
   ]
  },
  {
   "cell_type": "code",
   "execution_count": null,
   "metadata": {},
   "outputs": [],
   "source": []
  },
  {
   "cell_type": "code",
   "execution_count": 169,
   "metadata": {
    "scrolled": true
   },
   "outputs": [
    {
     "data": {
      "text/plain": [
       "<matplotlib.axes._subplots.AxesSubplot at 0x7f1c083abed0>"
      ]
     },
     "execution_count": 169,
     "metadata": {},
     "output_type": "execute_result"
    },
    {
     "data": {
      "image/png": "[encoded data removed]",
      "text/plain": [
       "<Figure size 432x288 with 1 Axes>"
      ]
     },
     "metadata": {},
     "output_type": "display_data"
    }
   ],
   "source": [
    "#this would be with unweighted voting\n",
    "\n",
    "pd.Series(list(map(lambda x:x[0].item(),L_train.mean(axis=1)))).hist(bins=20)"
   ]
  },
  {
   "cell_type": "code",
   "execution_count": 136,
   "metadata": {},
   "outputs": [],
   "source": [
    "import math\n",
    "import numpy as np\n",
    "import scipy.sparse as sparse\n",
    "from multiprocessing import Process, Queue\n",
    "from sklearn.metrics import f1_score, precision_score, recall_score, accuracy_score\n",
    "from snorkel.models import FeatureKey, GoldLabel, Sentence, Span, Candidate\n",
    "from snorkel.learning.utils import print_scores\n",
    "\n",
    "def majority_vote(L):\n",
    "    '''Majority vote'''\n",
    "    pred = L.sum(axis=1)\n",
    "    pred[(pred > 0).nonzero()[0]] = 1\n",
    "    pred[(pred < 0).nonzero()[0]] = 0\n",
    "    return pred\n",
    "\n",
    "def majority_vote_score(L, gold_labels):\n",
    "    \n",
    "    y_pred = np.ravel(majority_vote(L))\n",
    "    y_true = gold_labels.todense()\n",
    "    y_true = [1 if y_true[i] == 1 else 0 for i in range(y_true.shape[0])]\n",
    "    \n",
    "    pos,neg = y_true.count(1),float(y_true.count(0))\n",
    "    print \"pos/neg    {:d}:{:d} {:.1f}%/{:.1f}%\".format(int(pos), int(neg), pos/(pos+neg)*100, neg/(pos+neg)*100)\n",
    "    print \"precision  {:.2f}\".format( 100 * precision_score(y_true, y_pred) )\n",
    "    print \"recall     {:.2f}\".format( 100 * recall_score(y_true, y_pred) )\n",
    "    print \"f1         {:.2f}\".format( 100 * f1_score(y_true, y_pred) )\n",
    "    #print \"accuracy  {:.2f}\".format( 100 * accuracy_score(y_true, y_pred) \n"
   ]
  },
  {
   "cell_type": "code",
   "execution_count": null,
   "metadata": {},
   "outputs": [],
   "source": []
  },
  {
   "cell_type": "code",
   "execution_count": 137,
   "metadata": {},
   "outputs": [
    {
     "name": "stdout",
     "output_type": "stream",
     "text": [
      "pos/neg    705:2525 21.8%/78.2%\n",
      "precision  67.84\n",
      "recall     54.75\n",
      "f1         60.60\n"
     ]
    }
   ],
   "source": [
    "majority_vote_score(L_dev, L_gold_dev)"
   ]
  },
  {
   "cell_type": "code",
   "execution_count": null,
   "metadata": {},
   "outputs": [],
   "source": []
  },
  {
   "cell_type": "code",
   "execution_count": null,
   "metadata": {},
   "outputs": [],
   "source": [
    "# "
   ]
  },
  {
   "cell_type": "code",
   "execution_count": 138,
   "metadata": {},
   "outputs": [
    {
     "data": {
      "text/plain": [
       "<1x4 sparse matrix of type '<type 'numpy.int64'>'\n",
       "\twith 4 stored elements in Compressed Sparse Row format>"
      ]
     },
     "execution_count": 138,
     "metadata": {},
     "output_type": "execute_result"
    }
   ],
   "source": [
    "L_dev."
   ]
  },
  {
   "cell_type": "code",
   "execution_count": 142,
   "metadata": {},
   "outputs": [],
   "source": [
    "l_i = L_dev[0].tocoo()"
   ]
  },
  {
   "cell_type": "code",
   "execution_count": 143,
   "metadata": {},
   "outputs": [
    {
     "data": {
      "text/plain": [
       "-1"
      ]
     },
     "execution_count": 143,
     "metadata": {},
     "output_type": "execute_result"
    }
   ],
   "source": [
    "l_i.data[0]"
   ]
  },
  {
   "cell_type": "code",
   "execution_count": 146,
   "metadata": {},
   "outputs": [
    {
     "data": {
      "text/plain": [
       "3"
      ]
     },
     "execution_count": 146,
     "metadata": {},
     "output_type": "execute_result"
    }
   ],
   "source": [
    "l_i.col[3]"
   ]
  },
  {
   "cell_type": "code",
   "execution_count": null,
   "metadata": {},
   "outputs": [],
   "source": [
    "logp_false = e^10\n",
    "logp_true = e"
   ]
  },
  {
   "cell_type": "code",
   "execution_count": null,
   "metadata": {},
   "outputs": [],
   "source": [
    "1 / (1 + np.exp(logp_false - logp_true))"
   ]
  },
  {
   "cell_type": "code",
   "execution_count": 154,
   "metadata": {},
   "outputs": [
    {
     "data": {
      "text/plain": [
       "<4x4 sparse matrix of type '<type 'numpy.float64'>'\n",
       "\twith 6 stored elements in Compressed Sparse Row format>"
      ]
     },
     "execution_count": 154,
     "metadata": {},
     "output_type": "execute_result"
    }
   ],
   "source": [
    "gen_model.weights.dep_similar"
   ]
  },
  {
   "cell_type": "code",
   "execution_count": null,
   "metadata": {},
   "outputs": [],
   "source": []
  },
  {
   "cell_type": "markdown",
   "metadata": {},
   "source": [
    "## save probabilistic labels for the LSTM  -  this is the # of train. examples our LSTM will train on"
   ]
  },
  {
   "cell_type": "code",
   "execution_count": 68,
   "metadata": {},
   "outputs": [
    {
     "name": "stdout",
     "output_type": "stream",
     "text": [
      "Saved 79400 marginals\n"
     ]
    }
   ],
   "source": [
    "from snorkel.annotations import save_marginals\n",
    "save_marginals(session, L_train, train_marginals)"
   ]
  },
  {
   "cell_type": "code",
   "execution_count": 93,
   "metadata": {},
   "outputs": [
    {
     "data": {
      "image/png": "[encoded data removed]",
      "text/plain": [
       "<Figure size 432x288 with 1 Axes>"
      ]
     },
     "metadata": {},
     "output_type": "display_data"
    }
   ],
   "source": [
    "plt.hist(train_marginals, bins=20)\n",
    "plt.title('Histogram of probabilistic labels (created with %i models & LF_prior=True, LF_propensity=False)'%n_models)\n",
    "plt.show()"
   ]
  },
  {
   "cell_type": "code",
   "execution_count": 92,
   "metadata": {},
   "outputs": [
    {
     "data": {
      "image/png": "[encoded data removed]",
      "text/plain": [
       "<Figure size 432x288 with 1 Axes>"
      ]
     },
     "metadata": {},
     "output_type": "display_data"
    }
   ],
   "source": [
    "plt.hist(train_marginals_w_prior, bins=20)\n",
    "plt.title('Histogram of probabilistic labels (created with %i models & LF_prior=True, LF_propensity=False)'%n_models)\n",
    "plt.show()"
   ]
  },
  {
   "cell_type": "code",
   "execution_count": null,
   "metadata": {},
   "outputs": [],
   "source": []
  },
  {
   "cell_type": "code",
   "execution_count": null,
   "metadata": {},
   "outputs": [],
   "source": []
  },
  {
   "cell_type": "code",
   "execution_count": null,
   "metadata": {},
   "outputs": [],
   "source": []
  },
  {
   "cell_type": "markdown",
   "metadata": {},
   "source": [
    "# ~~ "
   ]
  },
  {
   "cell_type": "code",
   "execution_count": 47,
   "metadata": {},
   "outputs": [
    {
     "name": "stdout",
     "output_type": "stream",
     "text": [
      "Clearing existing...\n",
      "Running UDF...\n",
      "[========================================] 100%\n",
      "\n"
     ]
    }
   ],
   "source": [
    "L_test = labeler.apply_existing(split=2)"
   ]
  },
  {
   "cell_type": "code",
   "execution_count": 49,
   "metadata": {},
   "outputs": [
    {
     "data": {
      "text/plain": [
       "<13350x1 sparse matrix of type '<type 'numpy.int64'>'\n",
       "\twith 5781 stored elements in Compressed Sparse Row format>"
      ]
     },
     "execution_count": 49,
     "metadata": {},
     "output_type": "execute_result"
    }
   ],
   "source": [
    "# load from db gold labels\n",
    "L_gold_test = load_gold_labels(session, annotator_name='gold', split=2)\n",
    "L_gold_test"
   ]
  },
  {
   "cell_type": "code",
   "execution_count": 50,
   "metadata": {},
   "outputs": [
    {
     "name": "stdout",
     "output_type": "stream",
     "text": [
      "========================================\n",
      "Scores (Un-adjusted)\n",
      "========================================\n",
      "Pos. class accuracy: 0.259\n",
      "Neg. class accuracy: 0.975\n",
      "Precision            0.57\n",
      "Recall               0.259\n",
      "F1                   0.356\n",
      "----------------------------------------\n",
      "TP: 388 | FP: 293 | TN: 11557 | FN: 1112\n",
      "========================================\n",
      "\n"
     ]
    }
   ],
   "source": [
    "_ = gen_model.error_analysis(session, L_test, L_gold_test)"
   ]
  },
  {
   "cell_type": "code",
   "execution_count": 51,
   "metadata": {},
   "outputs": [
    {
     "data": {
      "text/html": [
       "<div>\n",
       "<style scoped>\n",
       "    .dataframe tbody tr th:only-of-type {\n",
       "        vertical-align: middle;\n",
       "    }\n",
       "\n",
       "    .dataframe tbody tr th {\n",
       "        vertical-align: top;\n",
       "    }\n",
       "\n",
       "    .dataframe thead th {\n",
       "        text-align: right;\n",
       "    }\n",
       "</style>\n",
       "<table border=\"1\" class=\"dataframe\">\n",
       "  <thead>\n",
       "    <tr style=\"text-align: right;\">\n",
       "      <th></th>\n",
       "      <th>j</th>\n",
       "      <th>Coverage</th>\n",
       "      <th>Overlaps</th>\n",
       "      <th>Conflicts</th>\n",
       "      <th>TP</th>\n",
       "      <th>FP</th>\n",
       "      <th>FN</th>\n",
       "      <th>TN</th>\n",
       "      <th>Empirical Acc.</th>\n",
       "      <th>Learned Acc.</th>\n",
       "    </tr>\n",
       "  </thead>\n",
       "  <tbody>\n",
       "    <tr>\n",
       "      <th>dummy</th>\n",
       "      <td>0</td>\n",
       "      <td>1.000000</td>\n",
       "      <td>0.433034</td>\n",
       "      <td>0.128764</td>\n",
       "      <td>0</td>\n",
       "      <td>0</td>\n",
       "      <td>1500</td>\n",
       "      <td>4281</td>\n",
       "      <td>0.740529</td>\n",
       "      <td>0.936173</td>\n",
       "    </tr>\n",
       "    <tr>\n",
       "      <th>LogisticRegression</th>\n",
       "      <td>1</td>\n",
       "      <td>0.433034</td>\n",
       "      <td>0.433034</td>\n",
       "      <td>0.128764</td>\n",
       "      <td>683</td>\n",
       "      <td>563</td>\n",
       "      <td>817</td>\n",
       "      <td>3718</td>\n",
       "      <td>0.761287</td>\n",
       "      <td>0.893057</td>\n",
       "    </tr>\n",
       "    <tr>\n",
       "      <th>SVC_linear</th>\n",
       "      <td>2</td>\n",
       "      <td>0.433034</td>\n",
       "      <td>0.433034</td>\n",
       "      <td>0.128764</td>\n",
       "      <td>594</td>\n",
       "      <td>592</td>\n",
       "      <td>906</td>\n",
       "      <td>3689</td>\n",
       "      <td>0.740875</td>\n",
       "      <td>0.888321</td>\n",
       "    </tr>\n",
       "    <tr>\n",
       "      <th>SVC_rbf_C100</th>\n",
       "      <td>3</td>\n",
       "      <td>0.433034</td>\n",
       "      <td>0.433034</td>\n",
       "      <td>0.128764</td>\n",
       "      <td>606</td>\n",
       "      <td>500</td>\n",
       "      <td>894</td>\n",
       "      <td>3781</td>\n",
       "      <td>0.758865</td>\n",
       "      <td>0.893826</td>\n",
       "    </tr>\n",
       "    <tr>\n",
       "      <th>SVC_rbf_C500</th>\n",
       "      <td>4</td>\n",
       "      <td>0.433034</td>\n",
       "      <td>0.433034</td>\n",
       "      <td>0.128764</td>\n",
       "      <td>625</td>\n",
       "      <td>484</td>\n",
       "      <td>875</td>\n",
       "      <td>3797</td>\n",
       "      <td>0.764920</td>\n",
       "      <td>0.897841</td>\n",
       "    </tr>\n",
       "    <tr>\n",
       "      <th>SVC_rbf_C1000</th>\n",
       "      <td>5</td>\n",
       "      <td>0.433034</td>\n",
       "      <td>0.433034</td>\n",
       "      <td>0.128764</td>\n",
       "      <td>577</td>\n",
       "      <td>480</td>\n",
       "      <td>923</td>\n",
       "      <td>3801</td>\n",
       "      <td>0.757308</td>\n",
       "      <td>0.899282</td>\n",
       "    </tr>\n",
       "  </tbody>\n",
       "</table>\n",
       "</div>"
      ],
      "text/plain": [
       "                    j  Coverage  Overlaps  Conflicts   TP   FP    FN    TN  \\\n",
       "dummy               0  1.000000  0.433034   0.128764    0    0  1500  4281   \n",
       "LogisticRegression  1  0.433034  0.433034   0.128764  683  563   817  3718   \n",
       "SVC_linear          2  0.433034  0.433034   0.128764  594  592   906  3689   \n",
       "SVC_rbf_C100        3  0.433034  0.433034   0.128764  606  500   894  3781   \n",
       "SVC_rbf_C500        4  0.433034  0.433034   0.128764  625  484   875  3797   \n",
       "SVC_rbf_C1000       5  0.433034  0.433034   0.128764  577  480   923  3801   \n",
       "\n",
       "                    Empirical Acc.  Learned Acc.  \n",
       "dummy                     0.740529      0.936173  \n",
       "LogisticRegression        0.761287      0.893057  \n",
       "SVC_linear                0.740875      0.888321  \n",
       "SVC_rbf_C100              0.758865      0.893826  \n",
       "SVC_rbf_C500              0.764920      0.897841  \n",
       "SVC_rbf_C1000             0.757308      0.899282  "
      ]
     },
     "execution_count": 51,
     "metadata": {},
     "output_type": "execute_result"
    }
   ],
   "source": [
    "L_test.lf_stats(session, L_gold_test, gen_model.learned_lf_stats()['Accuracy'])"
   ]
  },
  {
   "cell_type": "code",
   "execution_count": null,
   "metadata": {},
   "outputs": [],
   "source": []
  },
  {
   "cell_type": "code",
   "execution_count": null,
   "metadata": {},
   "outputs": [],
   "source": []
  },
  {
   "cell_type": "code",
   "execution_count": null,
   "metadata": {},
   "outputs": [],
   "source": []
  }
 ],
 "metadata": {
  "kernelspec": {
   "display_name": "Python [conda env:snorkel27clone]",
   "language": "python",
   "name": "conda-env-snorkel27clone-py"
  },
  "language_info": {
   "codemirror_mode": {
    "name": "ipython",
    "version": 2
   },
   "file_extension": ".py",
   "mimetype": "text/x-python",
   "name": "python",
   "nbconvert_exporter": "python",
   "pygments_lexer": "ipython2",
   "version": "2.7.15"
  }
 },
 "nbformat": 4,
 "nbformat_minor": 2
}
