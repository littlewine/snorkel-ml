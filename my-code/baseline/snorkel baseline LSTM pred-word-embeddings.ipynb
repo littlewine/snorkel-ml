{
 "cells": [
  {
   "cell_type": "code",
   "execution_count": 1,
   "metadata": {},
   "outputs": [],
   "source": [
    "%load_ext autoreload\n",
    "%autoreload 2\n",
    "%matplotlib inline"
   ]
  },
  {
   "cell_type": "code",
   "execution_count": 2,
   "metadata": {},
   "outputs": [],
   "source": [
    "from snorkel import SnorkelSession\n",
    "session = SnorkelSession()\n",
    "from snorkel.models import  Document, Sentence\n",
    "from sqlalchemy import or_"
   ]
  },
  {
   "cell_type": "code",
   "execution_count": 3,
   "metadata": {},
   "outputs": [
    {
     "name": "stdout",
     "output_type": "stream",
     "text": [
      "WARNING:tensorflow:From /home/antonis/anaconda2/envs/python27/lib/python2.7/site-packages/tensorflow/contrib/learn/python/learn/datasets/base.py:198: retry (from tensorflow.contrib.learn.python.learn.datasets.base) is deprecated and will be removed in a future version.\n",
      "Instructions for updating:\n",
      "Use the retry module or similar alternatives.\n"
     ]
    }
   ],
   "source": [
    "from snorkel.lf_helpers import *\n",
    "import pickle"
   ]
  },
  {
   "cell_type": "code",
   "execution_count": 4,
   "metadata": {},
   "outputs": [],
   "source": [
    "from sqlalchemy import  or_, and_,any_"
   ]
  },
  {
   "cell_type": "code",
   "execution_count": 5,
   "metadata": {},
   "outputs": [],
   "source": [
    "with open('../candidates_TrainValTestOutgoing.pickle', 'rb') as f:\n",
    "    cands = pickle.load(f)"
   ]
  },
  {
   "cell_type": "code",
   "execution_count": 6,
   "metadata": {},
   "outputs": [],
   "source": [
    "# LF to load gold labels\n",
    "def return_gold_labels(c):\n",
    "#     splt=None\n",
    "#     if c.id in cands[0].keys():\n",
    "#         splt=0\n",
    "        \n",
    "#     if c.id in cands[1].keys():\n",
    "#         splt=1\n",
    "        \n",
    "#     if c.id in cands[2].keys():\n",
    "#         splt=2\n",
    "        \n",
    "#     if splt:\n",
    "#         return cands[splt][c.id]['label']\n",
    "#     else:\n",
    "#         print 'Error: not found (cand id = %i)'%c.id\n",
    "#         return 0\n",
    "    \n",
    "    try:\n",
    "        return cands[0][c.id]['label']\n",
    "    except KeyError:\n",
    "        try:\n",
    "            return cands[1][c.id]['label']\n",
    "        except KeyError:\n",
    "            try:\n",
    "                return cands[2][c.id]['label']\n",
    "            except KeyError:\n",
    "                return 0"
   ]
  },
  {
   "cell_type": "code",
   "execution_count": 7,
   "metadata": {},
   "outputs": [],
   "source": [
    "# LF to load gold labels\n",
    "def return_gold_labels2(c):\n",
    "    \n",
    "    try:\n",
    "        return cands[0][c.id]['label']\n",
    "    except KeyError:\n",
    "        try:\n",
    "            return cands[1][c.id]['label']\n",
    "        except KeyError:\n",
    "            try:\n",
    "                return cands[2][c.id]['label']\n",
    "            except KeyError:\n",
    "                return 0"
   ]
  },
  {
   "cell_type": "code",
   "execution_count": 8,
   "metadata": {},
   "outputs": [],
   "source": [
    "from snorkel.models import Candidate, candidate_subclass\n",
    "REGULATOR = candidate_subclass('REGULATOR', ['Chemical', 'Gene'])"
   ]
  },
  {
   "cell_type": "code",
   "execution_count": 9,
   "metadata": {},
   "outputs": [],
   "source": [
    "LFs = [\n",
    "    return_gold_labels,\n",
    "    return_gold_labels2\n",
    "]"
   ]
  },
  {
   "cell_type": "markdown",
   "metadata": {},
   "source": [
    "# Drop the unmapped labels"
   ]
  },
  {
   "cell_type": "code",
   "execution_count": 10,
   "metadata": {},
   "outputs": [
    {
     "name": "stdout",
     "output_type": "stream",
     "text": [
      "12968\n",
      "0\n",
      "3237\n",
      "0\n",
      "8278\n",
      "0\n"
     ]
    }
   ],
   "source": [
    "for k in range (3):\n",
    "    print session.query(REGULATOR).filter(and_(REGULATOR.split == k, REGULATOR.gold_labels.any())).count()\n",
    "    print session.query(REGULATOR).filter(and_(REGULATOR.split == k, ~REGULATOR.gold_labels.any())).count()"
   ]
  },
  {
   "cell_type": "code",
   "execution_count": null,
   "metadata": {},
   "outputs": [],
   "source": []
  },
  {
   "cell_type": "code",
   "execution_count": 11,
   "metadata": {},
   "outputs": [],
   "source": [
    "# #get all ids to drop (in train-dev & without labels)\n",
    "# todrop = list(map(lambda x: x.id ,session.query(REGULATOR).filter(and_(REGULATOR.split.in_([0,1]), ~REGULATOR.labels.any())).all()))\n",
    "# print 'Will drop %i candidates'%len(todrop)"
   ]
  },
  {
   "cell_type": "code",
   "execution_count": 12,
   "metadata": {},
   "outputs": [],
   "source": [
    "# session.query(REGULATOR).filter(REGULATOR.id.in_(todrop)).delete(synchronize_session=False)\n",
    "# session.commit()"
   ]
  },
  {
   "cell_type": "code",
   "execution_count": 13,
   "metadata": {},
   "outputs": [],
   "source": [
    "# #check if deleted\n",
    "# session.query(REGULATOR).filter(~(REGULATOR.labels.any())).count()"
   ]
  },
  {
   "cell_type": "markdown",
   "metadata": {},
   "source": [
    "** Handle Candidate labels? **"
   ]
  },
  {
   "cell_type": "code",
   "execution_count": 14,
   "metadata": {},
   "outputs": [],
   "source": [
    "# #check if deleted\n",
    "# session.query(Candidate).filter(~(Candidate.labels.any())).count()"
   ]
  },
  {
   "cell_type": "code",
   "execution_count": 15,
   "metadata": {},
   "outputs": [],
   "source": [
    "# session.query(Candidate).filter(Candidate.id.in_(todrop)).delete(synchronize_session=False)\n",
    "# session.commit()"
   ]
  },
  {
   "cell_type": "code",
   "execution_count": 16,
   "metadata": {},
   "outputs": [],
   "source": [
    "# #check if deleted\n",
    "# session.query(Candidate).filter(~(Candidate.labels.any())).count()"
   ]
  },
  {
   "cell_type": "markdown",
   "metadata": {},
   "source": [
    "# Train the generative model (denoise)"
   ]
  },
  {
   "cell_type": "code",
   "execution_count": 17,
   "metadata": {},
   "outputs": [],
   "source": [
    "from snorkel.annotations import LabelAnnotator\n",
    "labeler = LabelAnnotator(lfs=LFs)"
   ]
  },
  {
   "cell_type": "code",
   "execution_count": 18,
   "metadata": {},
   "outputs": [],
   "source": [
    "# combined train+dev marginals from previous step (saved in the same split number dureing preprocessing)"
   ]
  },
  {
   "cell_type": "code",
   "execution_count": 19,
   "metadata": {},
   "outputs": [
    {
     "name": "stdout",
     "output_type": "stream",
     "text": [
      "Clearing existing...\n",
      "Running UDF...\n",
      "[========================================] 100%\n",
      "\n",
      "CPU times: user 14.6 s, sys: 44 ms, total: 14.7 s\n",
      "Wall time: 14.7 s\n"
     ]
    },
    {
     "data": {
      "text/plain": [
       "<12968x2 sparse matrix of type '<type 'numpy.int64'>'\n",
       "\twith 25936 stored elements in Compressed Sparse Row format>"
      ]
     },
     "execution_count": 19,
     "metadata": {},
     "output_type": "execute_result"
    }
   ],
   "source": [
    "# save train. set marginals\n",
    "%time L_train = labeler.apply(split=0)\n",
    "L_train"
   ]
  },
  {
   "cell_type": "code",
   "execution_count": 20,
   "metadata": {},
   "outputs": [
    {
     "data": {
      "text/html": [
       "<div>\n",
       "<style scoped>\n",
       "    .dataframe tbody tr th:only-of-type {\n",
       "        vertical-align: middle;\n",
       "    }\n",
       "\n",
       "    .dataframe tbody tr th {\n",
       "        vertical-align: top;\n",
       "    }\n",
       "\n",
       "    .dataframe thead th {\n",
       "        text-align: right;\n",
       "    }\n",
       "</style>\n",
       "<table border=\"1\" class=\"dataframe\">\n",
       "  <thead>\n",
       "    <tr style=\"text-align: right;\">\n",
       "      <th></th>\n",
       "      <th>j</th>\n",
       "      <th>Coverage</th>\n",
       "      <th>Overlaps</th>\n",
       "      <th>Conflicts</th>\n",
       "    </tr>\n",
       "  </thead>\n",
       "  <tbody>\n",
       "    <tr>\n",
       "      <th>return_gold_labels</th>\n",
       "      <td>0</td>\n",
       "      <td>1.0</td>\n",
       "      <td>1.0</td>\n",
       "      <td>0.0</td>\n",
       "    </tr>\n",
       "    <tr>\n",
       "      <th>return_gold_labels2</th>\n",
       "      <td>1</td>\n",
       "      <td>1.0</td>\n",
       "      <td>1.0</td>\n",
       "      <td>0.0</td>\n",
       "    </tr>\n",
       "  </tbody>\n",
       "</table>\n",
       "</div>"
      ],
      "text/plain": [
       "                     j  Coverage  Overlaps  Conflicts\n",
       "return_gold_labels   0       1.0       1.0        0.0\n",
       "return_gold_labels2  1       1.0       1.0        0.0"
      ]
     },
     "execution_count": 20,
     "metadata": {},
     "output_type": "execute_result"
    }
   ],
   "source": [
    "# see how many LF vote on how many examples & with how many other LFs there are votes on common examples\n",
    "L_train.lf_stats(session)"
   ]
  },
  {
   "cell_type": "code",
   "execution_count": 21,
   "metadata": {},
   "outputs": [
    {
     "name": "stdout",
     "output_type": "stream",
     "text": [
      "Inferred cardinality: 2\n"
     ]
    }
   ],
   "source": [
    "# actual training of the gen. model\n",
    "from snorkel.learning import GenerativeModel\n",
    "\n",
    "gen_model = GenerativeModel(lf_propensity=True)\n",
    "gen_model.train(\n",
    "    L_train, decay=0.95, step_size=0.1/L_train.shape[0], reg_param=0.0 , #deps=deps,\n",
    ")"
   ]
  },
  {
   "cell_type": "code",
   "execution_count": 22,
   "metadata": {},
   "outputs": [],
   "source": [
    "train_marginals = gen_model.marginals(L_train)"
   ]
  },
  {
   "cell_type": "code",
   "execution_count": 23,
   "metadata": {},
   "outputs": [
    {
     "data": {
      "image/png": "[encoded data removed]",
      "text/plain": [
       "<Figure size 432x288 with 1 Axes>"
      ]
     },
     "metadata": {},
     "output_type": "display_data"
    }
   ],
   "source": [
    "import matplotlib.pyplot as plt\n",
    "plt.hist(train_marginals, bins=20)\n",
    "plt.title('Training candidates to be applied')\n",
    "plt.show()"
   ]
  },
  {
   "cell_type": "code",
   "execution_count": 24,
   "metadata": {},
   "outputs": [
    {
     "name": "stdout",
     "output_type": "stream",
     "text": [
      "Saved 12968 marginals\n"
     ]
    }
   ],
   "source": [
    "# save probabilistic labels for the LSTM  -  this is the # of train. examples our LSTM will train on\n",
    "from snorkel.annotations import save_marginals\n",
    "save_marginals(session, L_train, train_marginals)"
   ]
  },
  {
   "cell_type": "code",
   "execution_count": null,
   "metadata": {},
   "outputs": [],
   "source": []
  },
  {
   "cell_type": "code",
   "execution_count": 26,
   "metadata": {},
   "outputs": [],
   "source": [
    "# ~~ Not needed below"
   ]
  },
  {
   "cell_type": "code",
   "execution_count": 27,
   "metadata": {},
   "outputs": [],
   "source": [
    "# L_test = labeler.apply_existing(split=2)"
   ]
  },
  {
   "cell_type": "code",
   "execution_count": 28,
   "metadata": {},
   "outputs": [],
   "source": [
    "# # load from db gold labels\n",
    "# L_gold_test = load_gold_labels(session, annotator_name='gold', split=2)\n",
    "# L_gold_test"
   ]
  },
  {
   "cell_type": "code",
   "execution_count": 29,
   "metadata": {},
   "outputs": [],
   "source": [
    "# _ = gen_model.error_analysis(session, L_test, L_gold_test)"
   ]
  },
  {
   "cell_type": "code",
   "execution_count": 30,
   "metadata": {},
   "outputs": [],
   "source": [
    "# L_test.lf_stats(session, L_gold_test, gen_model.learned_lf_stats()['Accuracy'])"
   ]
  },
  {
   "cell_type": "markdown",
   "metadata": {},
   "source": [
    "# LSTM training"
   ]
  },
  {
   "cell_type": "code",
   "execution_count": 25,
   "metadata": {},
   "outputs": [],
   "source": [
    "from snorkel.annotations import load_gold_labels,load_marginals"
   ]
  },
  {
   "cell_type": "code",
   "execution_count": 28,
   "metadata": {},
   "outputs": [],
   "source": [
    "from snorkel.annotations import load_marginals\n",
    "\n",
    "train_cands  = session.query(REGULATOR).filter(REGULATOR.split == 0).all()\n",
    "val_cands  = session.query(REGULATOR).filter(REGULATOR.split == 1).all()\n",
    "test_cands  = session.query(REGULATOR).filter(REGULATOR.split == 2).all()\n",
    "\n",
    "\n",
    "train_marginals = load_marginals(session, split=0)\n",
    "L_gold_dev  = load_gold_labels(session, annotator_name='gold', split=1, load_as_array=True, zero_one=True)\n",
    "L_gold_test = load_gold_labels(session, annotator_name='gold', split=2, zero_one=True)"
   ]
  },
  {
   "cell_type": "code",
   "execution_count": null,
   "metadata": {},
   "outputs": [],
   "source": []
  },
  {
   "cell_type": "code",
   "execution_count": 37,
   "metadata": {
    "scrolled": true
   },
   "outputs": [
    {
     "name": "stdout",
     "output_type": "stream",
     "text": [
      "[reRNN] Training model\n",
      "[reRNN] n_train=12876  #epochs=5  batch size=32\n",
      "[reRNN] Epoch 0 (62.67s)\tAverage loss=0.446107\tDev F1=28.29\n",
      "[reRNN] Epoch 1 (128.78s)\tAverage loss=0.272050\tDev F1=30.15\n",
      "[reRNN] Epoch 2 (194.45s)\tAverage loss=0.202075\tDev F1=52.41\n",
      "[reRNN] Epoch 3 (259.97s)\tAverage loss=0.164214\tDev F1=52.98\n",
      "[reRNN] Epoch 4 (325.50s)\tAverage loss=0.147661\tDev F1=51.44\n",
      "[reRNN] Model saved as <reRNN>\n",
      "[reRNN] Training done (330.06s)\n",
      "INFO:tensorflow:Restoring parameters from checkpoints/reRNN/reRNN-4\n",
      "[reRNN] Loaded model <reRNN>\n"
     ]
    }
   ],
   "source": [
    "from snorkel.learning import reRNN\n",
    "\n",
    "train_kwargs = {\n",
    "    'lr':         0.01,\n",
    "    'dim':        100,\n",
    "    'n_epochs':   5,\n",
    "    'dropout':    0.5,\n",
    "    'rebalance':  0.25,\n",
    "    'print_freq': 1,\n",
    "    'batch_size': 32\n",
    "}\n",
    "\n",
    "lstm = reRNN(seed=1701, n_threads=None,)\n",
    "lstm.train(train_cands, train_marginals, X_dev = val_cands , Y_dev = L_gold_dev, **train_kwargs)"
   ]
  },
  {
   "cell_type": "code",
   "execution_count": null,
   "metadata": {},
   "outputs": [],
   "source": []
  },
  {
   "cell_type": "markdown",
   "metadata": {},
   "source": [
    "# Evaluate on test"
   ]
  },
  {
   "cell_type": "code",
   "execution_count": 41,
   "metadata": {},
   "outputs": [
    {
     "name": "stdout",
     "output_type": "stream",
     "text": [
      "========================================\n",
      "Scores (Un-adjusted)\n",
      "========================================\n",
      "Pos. class accuracy: 0.479\n",
      "Neg. class accuracy: 0.908\n",
      "Precision            0.623\n",
      "Recall               0.479\n",
      "F1                   0.542\n",
      "----------------------------------------\n",
      "TP: 952 | FP: 576 | TN: 5716 | FN: 1034\n",
      "========================================\n",
      "\n"
     ]
    }
   ],
   "source": [
    "tp, fp, tn, fn = lstm.error_analysis(session, test_cands, L_gold_test)\n",
    "print_pos_prf(len(tp), len(fp), len(tn), len(fn))"
   ]
  },
  {
   "cell_type": "code",
   "execution_count": 53,
   "metadata": {},
   "outputs": [
    {
     "name": "stdout",
     "output_type": "stream",
     "text": [
      "Precision (+):\t 0.62 \n",
      "Recall (+):\t 0.59 \n",
      "F1 score (+):\t 0.61 \n",
      "\n"
     ]
    }
   ],
   "source": [
    "print_pos_prf(tp,fp,tn,fn)"
   ]
  },
  {
   "cell_type": "code",
   "execution_count": null,
   "metadata": {},
   "outputs": [],
   "source": []
  },
  {
   "cell_type": "code",
   "execution_count": 51,
   "metadata": {},
   "outputs": [],
   "source": [
    "def print_pos_prf(tp,fp,tn,fn):\n",
    "    prec = (1.0*tp/(tp+fp))\n",
    "    rec = (1.0*tp/ (fp+fn))\n",
    "    f1 = 2*prec*rec/(prec+rec)\n",
    "    print \"Precision (+):\\t %.2f \\nRecall (+):\\t %.2f \\nF1 score (+):\\t %.2f \\n\"%(prec,rec, f1)"
   ]
  },
  {
   "cell_type": "code",
   "execution_count": null,
   "metadata": {},
   "outputs": [],
   "source": []
  },
  {
   "cell_type": "code",
   "execution_count": null,
   "metadata": {},
   "outputs": [],
   "source": []
  },
  {
   "cell_type": "code",
   "execution_count": null,
   "metadata": {},
   "outputs": [],
   "source": []
  },
  {
   "cell_type": "code",
   "execution_count": null,
   "metadata": {},
   "outputs": [],
   "source": []
  }
 ],
 "metadata": {
  "kernelspec": {
   "display_name": "Python [conda env:python27]",
   "language": "python",
   "name": "conda-env-python27-py"
  },
  "language_info": {
   "codemirror_mode": {
    "name": "ipython",
    "version": 2
   },
   "file_extension": ".py",
   "mimetype": "text/x-python",
   "name": "python",
   "nbconvert_exporter": "python",
   "pygments_lexer": "ipython2",
   "version": "2.7.14"
  }
 },
 "nbformat": 4,
 "nbformat_minor": 2
}
