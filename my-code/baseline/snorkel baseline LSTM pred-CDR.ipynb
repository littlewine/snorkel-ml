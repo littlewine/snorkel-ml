{
 "cells": [
  {
   "cell_type": "code",
   "execution_count": 1,
   "metadata": {},
   "outputs": [],
   "source": [
    "%load_ext autoreload\n",
    "%autoreload 2\n",
    "%matplotlib inline\n",
    "experiment_name = 'CDR'"
   ]
  },
  {
   "cell_type": "code",
   "execution_count": 2,
   "metadata": {},
   "outputs": [
    {
     "name": "stdout",
     "output_type": "stream",
     "text": [
      "Setting up variables & DB connection for experiment:\n",
      "\n",
      "*******************\n",
      "CDR\n",
      "*******************\n",
      "\n",
      "Snorkel session connected to:  postgres:///snorkelCDR\n"
     ]
    },
    {
     "name": "stderr",
     "output_type": "stream",
     "text": [
      "/home/antonis/anaconda2/envs/snorkel27clone/lib/python2.7/site-packages/psycopg2/__init__.py:144: UserWarning: The psycopg2 wheel package will be renamed from release 2.8; in order to keep installing from binary please use \"pip install psycopg2-binary\" instead. For details see: <http://initd.org/psycopg/docs/install.html#binary-install-from-pypi>.\n",
      "  \"\"\")\n"
     ]
    }
   ],
   "source": [
    "# %run init.py\n",
    "\n",
    "print \"Setting up variables & DB connection for experiment:\\n\"\n",
    "print \"*******************\\n%s\\n*******************\"%experiment_name\n",
    "\n",
    "# point to appropriate DBs, pickle files etc.\n",
    "pkl_paths = '../pickles/%s/'%experiment_name\n",
    "path_candidate_dict_pkl = pkl_paths+ 'candidate_dict.pickle' # TODO rename that\n",
    "path_pubmed_ids_pkl = pkl_paths + 'pubmed_ids.pickle'\n",
    "path_base_learners = pkl_paths + 'base_learner_predictions' # TODO create dirs\n",
    "\n",
    "\n",
    "# Shortcuts to connect to database, initialize candidate subclass and return snorkel session\n",
    "import os\n",
    "#TODO: set experiment_name and restructure dir\n",
    "os.environ['SNORKELDB'] = 'postgres:///snorkel'+experiment_name\n",
    "\n",
    "from snorkel import SnorkelSession\n",
    "session = SnorkelSession()\n",
    "from snorkel.models import  Document, Sentence\n",
    "import matplotlib.pyplot as plt\n",
    "from snorkel.annotations import save_marginals\n",
    "from snorkel.models import Candidate, candidate_subclass\n",
    "ChemicalDisease = candidate_subclass('ChemicalDisease', ['chemical', 'disease'])\n",
    "\n",
    "print \"\\nSnorkel session connected to: \",os.environ['SNORKELDB']"
   ]
  },
  {
   "cell_type": "code",
   "execution_count": 3,
   "metadata": {},
   "outputs": [],
   "source": [
    "import pickle\n",
    "from sqlalchemy import  or_, and_,any_\n",
    "import numpy as np"
   ]
  },
  {
   "cell_type": "code",
   "execution_count": 4,
   "metadata": {},
   "outputs": [],
   "source": [
    "import re\n",
    "from io import StringIO\n",
    "\n",
    "def report_to_df(report):\n",
    "    report = re.sub(r\" +\", \" \", report).replace(\"avg / total\", \"avg/total\").replace(\"\\n \", \"\\n\")\n",
    "    report_df = pd.read_csv(StringIO(\"Classes\" + report), sep=' ', index_col=0)        \n",
    "    return(report_df)\n"
   ]
  },
  {
   "cell_type": "code",
   "execution_count": 5,
   "metadata": {},
   "outputs": [],
   "source": [
    "REGULATOR = ChemicalDisease"
   ]
  },
  {
   "cell_type": "markdown",
   "metadata": {},
   "source": [
    "## Load & balance dataset"
   ]
  },
  {
   "cell_type": "code",
   "execution_count": 6,
   "metadata": {},
   "outputs": [],
   "source": [
    "from snorkel.annotations import load_gold_labels,load_marginals"
   ]
  },
  {
   "cell_type": "code",
   "execution_count": 7,
   "metadata": {},
   "outputs": [],
   "source": [
    "\n",
    "train_cands  = session.query(REGULATOR).filter(REGULATOR.split == 0).order_by(REGULATOR.id).all()\n",
    "val_cands  = session.query(REGULATOR).filter(REGULATOR.split == 1).order_by(REGULATOR.id).all()\n",
    "test_cands  = session.query(REGULATOR).filter(REGULATOR.split == 2).order_by(REGULATOR.id).all()\n",
    "unlab_cands = session.query(REGULATOR).filter(REGULATOR.split == 3).order_by(REGULATOR.id).all()\n",
    "\n",
    "train_labels  = np.array(map(lambda x: 1 if x.gold_labels[0].value==1 else 0, train_cands))\n",
    "val_labels  = np.array(map(lambda x: 1 if x.gold_labels[0].value==1 else 0, val_cands))\n",
    "test_labels = np.array(map(lambda x: 1 if x.gold_labels[0].value==1 else 0, test_cands))\n",
    "unlab_labels = np.array(map(lambda x: 1 if x.gold_labels[0].value==1 else 0, unlab_cands))"
   ]
  },
  {
   "cell_type": "code",
   "execution_count": null,
   "metadata": {},
   "outputs": [],
   "source": []
  },
  {
   "cell_type": "code",
   "execution_count": 24,
   "metadata": {},
   "outputs": [],
   "source": [
    "# also copied in ../MLutils.py\n",
    "\n",
    "from sklearn.utils import shuffle\n",
    "from imblearn.under_sampling import RandomUnderSampler\n",
    "import pandas as pd\n",
    "import numpy as np\n",
    "\n",
    "def balance_candidates(cands, marginals, rs = 42):\n",
    "    \"\"\"Balance and shuffle candidates along with their (prob) labels.\n",
    "    \n",
    "    cands: list of candidate objects\n",
    "    marginals: list of marginal (or not) labels\n",
    "    rs: int: random_state (used in RandomUnderSampler and sklearn.utils.shuffle) \n",
    "    \"\"\"\n",
    "    rus = RandomUnderSampler(random_state=rs,return_indices=True)\n",
    "    marginals_01 = np.round(marginals)\n",
    "\n",
    "    _,_, indices = rus.fit_sample(pd.DataFrame(marginals), np.round(marginals))\n",
    "\n",
    "    # shuffle indices\n",
    "    indices = shuffle(indices, random_state = rs)\n",
    "\n",
    "    # keep only selected items\n",
    "    cands_us = [cands[i] for i in indices]\n",
    "    marginals_us = [marginals[i] for i in indices]\n",
    "    \n",
    "    return cands_us, np.array(marginals_us)"
   ]
  },
  {
   "cell_type": "code",
   "execution_count": null,
   "metadata": {},
   "outputs": [],
   "source": []
  },
  {
   "cell_type": "code",
   "execution_count": 9,
   "metadata": {},
   "outputs": [],
   "source": [
    "train_cands_us, train_labels_us = balance_candidates(train_cands,train_labels)"
   ]
  },
  {
   "cell_type": "code",
   "execution_count": null,
   "metadata": {},
   "outputs": [],
   "source": []
  },
  {
   "cell_type": "code",
   "execution_count": null,
   "metadata": {},
   "outputs": [],
   "source": []
  },
  {
   "cell_type": "markdown",
   "metadata": {},
   "source": [
    "# LSTM training"
   ]
  },
  {
   "cell_type": "code",
   "execution_count": 13,
   "metadata": {},
   "outputs": [
    {
     "name": "stderr",
     "output_type": "stream",
     "text": [
      "/home/antonis/anaconda2/envs/snorkel27clone/lib/python2.7/site-packages/h5py/__init__.py:36: FutureWarning: Conversion of the second argument of issubdtype from `float` to `np.floating` is deprecated. In future, it will be treated as `np.float64 == np.dtype(float).type`.\n",
      "  from ._conv import register_converters as _register_converters\n"
     ]
    },
    {
     "name": "stdout",
     "output_type": "stream",
     "text": [
      "WARNING:tensorflow:From /home/antonis/anaconda2/envs/snorkel27clone/lib/python2.7/site-packages/tensorflow/contrib/learn/python/learn/datasets/base.py:198: retry (from tensorflow.contrib.learn.python.learn.datasets.base) is deprecated and will be removed in a future version.\n",
      "Instructions for updating:\n",
      "Use the retry module or similar alternatives.\n"
     ]
    }
   ],
   "source": [
    "from snorkel.learning import GridSearch, RandomSearch, reRNN"
   ]
  },
  {
   "cell_type": "code",
   "execution_count": 11,
   "metadata": {},
   "outputs": [],
   "source": [
    "# import matplotlib.pyplot as plt\n",
    "# plt.hist(train_labels, bins=20)\n",
    "# plt.title('Training candidates to be applied')\n",
    "# plt.show()"
   ]
  },
  {
   "cell_type": "code",
   "execution_count": 12,
   "metadata": {},
   "outputs": [],
   "source": [
    "\n",
    "#    dropout  batch_size  n_epochs     lr  max_sentence_length  rebalance  \\\n",
    "# 2     0.25          32        20  0.001                  128       0.25   \n",
    "# 8     0.25          32         5  0.001                   64       0.25"
   ]
  },
  {
   "cell_type": "code",
   "execution_count": null,
   "metadata": {},
   "outputs": [],
   "source": []
  },
  {
   "cell_type": "code",
   "execution_count": 32,
   "metadata": {
    "scrolled": true
   },
   "outputs": [
    {
     "name": "stdout",
     "output_type": "stream",
     "text": [
      "[reRNN] Training model\n",
      "[reRNN] n_train=2156  #epochs=20  batch size=64\n",
      "[reRNN] Epoch 0 (3.71s)\tAverage loss=0.677157\tDev F1=39.16\n",
      "[reRNN] Epoch 1 (7.69s)\tAverage loss=0.548011\tDev F1=48.60\n",
      "[reRNN] Model saved as <reRNN>\n",
      "[reRNN] Epoch 2 (12.16s)\tAverage loss=0.436186\tDev F1=45.49\n",
      "[reRNN] Epoch 3 (16.56s)\tAverage loss=0.388340\tDev F1=45.51\n",
      "[reRNN] Epoch 4 (20.87s)\tAverage loss=0.342281\tDev F1=44.73\n",
      "[reRNN] Epoch 5 (24.84s)\tAverage loss=0.329485\tDev F1=38.25\n",
      "[reRNN] Epoch 6 (28.92s)\tAverage loss=0.302020\tDev F1=45.09\n",
      "[reRNN] Epoch 7 (33.13s)\tAverage loss=0.292246\tDev F1=43.02\n",
      "[reRNN] Epoch 8 (37.10s)\tAverage loss=0.276042\tDev F1=44.27\n",
      "[reRNN] Epoch 9 (41.06s)\tAverage loss=0.257948\tDev F1=46.94\n",
      "[reRNN] Epoch 10 (45.00s)\tAverage loss=0.253856\tDev F1=41.09\n",
      "[reRNN] Epoch 11 (48.96s)\tAverage loss=0.215391\tDev F1=45.09\n",
      "[reRNN] Epoch 12 (52.95s)\tAverage loss=0.186918\tDev F1=42.88\n",
      "[reRNN] Epoch 13 (56.90s)\tAverage loss=0.164261\tDev F1=47.63\n",
      "[reRNN] Epoch 14 (60.87s)\tAverage loss=0.151647\tDev F1=39.01\n",
      "[reRNN] Epoch 15 (64.96s)\tAverage loss=0.124992\tDev F1=47.88\n",
      "[reRNN] Epoch 16 (68.97s)\tAverage loss=0.126718\tDev F1=49.26\n",
      "[reRNN] Model saved as <reRNN>\n",
      "[reRNN] Epoch 17 (73.93s)\tAverage loss=0.125478\tDev F1=41.37\n",
      "[reRNN] Epoch 18 (78.67s)\tAverage loss=0.087750\tDev F1=45.15\n",
      "[reRNN] Epoch 19 (82.85s)\tAverage loss=0.095007\tDev F1=39.81\n",
      "[reRNN] Training done (83.36s)\n",
      "INFO:tensorflow:Restoring parameters from checkpoints/reRNN/reRNN-16\n",
      "[reRNN] Loaded model <reRNN>\n"
     ]
    }
   ],
   "source": [
    "# Run in train (D_B)\n",
    "train_kwargs = {\n",
    "    'lr':         0.001,\n",
    "    'dim':        100,\n",
    "    'n_epochs':   20,\n",
    "    'dropout':    0.25,\n",
    "    'rebalance':  True,\n",
    "    'print_freq': 1,\n",
    "    'batch_size': 64,\n",
    "    'max_sentence_length': 64,\n",
    "    'dev_ckpt_delay': 0,\n",
    "}\n",
    "\n",
    "lstm = reRNN(seed=1701, n_threads=6,)\n",
    "\n",
    "# lstm.train(train_cands, train_labels, X_dev = val_cands , Y_dev = val_labels, **train_kwargs)\n",
    "lstm.train(train_cands, train_labels, X_dev = val_cands , Y_dev = val_labels, **train_kwargs)\n"
   ]
  },
  {
   "cell_type": "code",
   "execution_count": null,
   "metadata": {},
   "outputs": [],
   "source": []
  },
  {
   "cell_type": "code",
   "execution_count": 33,
   "metadata": {},
   "outputs": [
    {
     "name": "stdout",
     "output_type": "stream",
     "text": [
      "========================================\n",
      "Scores (Un-adjusted)\n",
      "========================================\n",
      "Pos. class accuracy: 0.598\n",
      "Neg. class accuracy: 0.586\n",
      "Precision            0.419\n",
      "Recall               0.598\n",
      "F1                   0.493\n",
      "----------------------------------------\n",
      "TP: 183 | FP: 254 | TN: 360 | FN: 123\n",
      "========================================\n",
      "\n"
     ]
    }
   ],
   "source": [
    "tp, fp, tn, fn = lstm.error_analysis(session, val_cands, val_labels)"
   ]
  },
  {
   "cell_type": "code",
   "execution_count": 34,
   "metadata": {},
   "outputs": [
    {
     "name": "stdout",
     "output_type": "stream",
     "text": [
      "========================================\n",
      "Scores (Un-adjusted)\n",
      "========================================\n",
      "Pos. class accuracy: 0.626\n",
      "Neg. class accuracy: 0.568\n",
      "Precision            0.41\n",
      "Recall               0.626\n",
      "F1                   0.495\n",
      "----------------------------------------\n",
      "TP: 949 | FP: 1367 | TN: 1798 | FN: 566\n",
      "========================================\n",
      "\n"
     ]
    }
   ],
   "source": [
    "tp, fp, tn, fn = lstm.error_analysis(session, test_cands, test_labels)"
   ]
  },
  {
   "cell_type": "code",
   "execution_count": 35,
   "metadata": {},
   "outputs": [
    {
     "data": {
      "text/plain": [
       "(0.40975820379965455, 0.6264026402640264, 0.4954320020882276)"
      ]
     },
     "execution_count": 35,
     "metadata": {},
     "output_type": "execute_result"
    }
   ],
   "source": [
    "lstm.score(test_cands, test_labels)"
   ]
  },
  {
   "cell_type": "markdown",
   "metadata": {},
   "source": [
    "#### Train only on unlab (just to put on paper)"
   ]
  },
  {
   "cell_type": "code",
   "execution_count": 36,
   "metadata": {},
   "outputs": [
    {
     "name": "stdout",
     "output_type": "stream",
     "text": [
      "[reRNN] Training model\n",
      "[reRNN] n_train=4166  #epochs=20  batch size=64\n",
      "[reRNN] Epoch 0 (7.05s)\tAverage loss=0.671861\tDev F1=41.60\n",
      "[reRNN] Epoch 1 (14.37s)\tAverage loss=0.549744\tDev F1=47.32\n",
      "[reRNN] Model saved as <reRNN>\n",
      "[reRNN] Epoch 2 (22.76s)\tAverage loss=0.463660\tDev F1=43.77\n",
      "[reRNN] Epoch 3 (31.27s)\tAverage loss=0.394159\tDev F1=47.54\n",
      "[reRNN] Model saved as <reRNN>\n",
      "[reRNN] Epoch 4 (40.21s)\tAverage loss=0.362295\tDev F1=41.09\n",
      "[reRNN] Epoch 5 (47.85s)\tAverage loss=0.316866\tDev F1=46.90\n",
      "[reRNN] Epoch 6 (55.09s)\tAverage loss=0.272477\tDev F1=48.91\n",
      "[reRNN] Model saved as <reRNN>\n",
      "[reRNN] Epoch 7 (63.48s)\tAverage loss=0.227113\tDev F1=51.22\n",
      "[reRNN] Model saved as <reRNN>\n",
      "[reRNN] Epoch 8 (72.11s)\tAverage loss=0.185717\tDev F1=50.40\n",
      "[reRNN] Epoch 9 (79.88s)\tAverage loss=0.134763\tDev F1=45.70\n",
      "[reRNN] Epoch 10 (87.37s)\tAverage loss=0.108493\tDev F1=53.58\n",
      "[reRNN] Model saved as <reRNN>\n",
      "[reRNN] Epoch 11 (95.93s)\tAverage loss=0.088094\tDev F1=52.74\n",
      "[reRNN] Epoch 12 (103.92s)\tAverage loss=0.071568\tDev F1=51.96\n",
      "[reRNN] Epoch 13 (111.20s)\tAverage loss=0.055646\tDev F1=51.91\n",
      "[reRNN] Epoch 14 (118.52s)\tAverage loss=0.041930\tDev F1=51.43\n",
      "[reRNN] Epoch 15 (125.86s)\tAverage loss=0.037735\tDev F1=54.10\n",
      "[reRNN] Model saved as <reRNN>\n",
      "[reRNN] Epoch 16 (134.17s)\tAverage loss=0.040764\tDev F1=53.11\n",
      "[reRNN] Epoch 17 (141.48s)\tAverage loss=0.026745\tDev F1=52.71\n",
      "[reRNN] Epoch 18 (148.84s)\tAverage loss=0.023543\tDev F1=51.89\n",
      "[reRNN] Epoch 19 (156.17s)\tAverage loss=0.017586\tDev F1=54.79\n",
      "[reRNN] Model saved as <reRNN>\n",
      "[reRNN] Training done (156.82s)\n",
      "INFO:tensorflow:Restoring parameters from checkpoints/reRNN/reRNN-19\n",
      "[reRNN] Loaded model <reRNN>\n"
     ]
    }
   ],
   "source": [
    "# Run in train (D_U)\n",
    "train_kwargs = {\n",
    "    'lr':         0.001,\n",
    "    'dim':        100,\n",
    "    'n_epochs':   20,\n",
    "    'dropout':    0.25,\n",
    "    'rebalance':  True,\n",
    "    'print_freq': 1,\n",
    "    'batch_size': 64,\n",
    "    'max_sentence_length': 64,\n",
    "    'dev_ckpt_delay': 0,\n",
    "}\n",
    "\n",
    "lstm = reRNN(seed=1701, n_threads=6,)\n",
    "\n",
    "# lstm.train(train_cands, train_labels, X_dev = val_cands , Y_dev = val_labels, **train_kwargs)\n",
    "lstm.train(unlab_cands, unlab_labels, X_dev = val_cands , Y_dev = val_labels, **train_kwargs)\n"
   ]
  },
  {
   "cell_type": "code",
   "execution_count": 37,
   "metadata": {
    "scrolled": true
   },
   "outputs": [
    {
     "name": "stdout",
     "output_type": "stream",
     "text": [
      "========================================\n",
      "Scores (Un-adjusted)\n",
      "========================================\n",
      "Pos. class accuracy: 0.663\n",
      "Neg. class accuracy: 0.622\n",
      "Precision            0.467\n",
      "Recall               0.663\n",
      "F1                   0.548\n",
      "----------------------------------------\n",
      "TP: 203 | FP: 232 | TN: 382 | FN: 103\n",
      "========================================\n",
      "\n"
     ]
    }
   ],
   "source": [
    "tp, fp, tn, fn = lstm.error_analysis(session, val_cands, val_labels)"
   ]
  },
  {
   "cell_type": "code",
   "execution_count": 38,
   "metadata": {},
   "outputs": [
    {
     "name": "stdout",
     "output_type": "stream",
     "text": [
      "========================================\n",
      "Scores (Un-adjusted)\n",
      "========================================\n",
      "Pos. class accuracy: 0.716\n",
      "Neg. class accuracy: 0.577\n",
      "Precision            0.448\n",
      "Recall               0.716\n",
      "F1                   0.551\n",
      "----------------------------------------\n",
      "TP: 1085 | FP: 1339 | TN: 1826 | FN: 430\n",
      "========================================\n",
      "\n"
     ]
    }
   ],
   "source": [
    "tp, fp, tn, fn = lstm.error_analysis(session, test_cands, test_labels)"
   ]
  },
  {
   "cell_type": "code",
   "execution_count": 39,
   "metadata": {},
   "outputs": [
    {
     "data": {
      "text/plain": [
       "(0.4476072607260726, 0.7161716171617162, 0.5509012439705508)"
      ]
     },
     "execution_count": 39,
     "metadata": {},
     "output_type": "execute_result"
    }
   ],
   "source": [
    "lstm.score(test_cands, test_labels)"
   ]
  },
  {
   "cell_type": "markdown",
   "metadata": {},
   "source": [
    "## Run in train+unlab (best case scenario)"
   ]
  },
  {
   "cell_type": "code",
   "execution_count": 40,
   "metadata": {},
   "outputs": [],
   "source": [
    "full_cands = train_cands+unlab_cands\n",
    "full_labels = np.append(train_labels,unlab_labels)"
   ]
  },
  {
   "cell_type": "code",
   "execution_count": 41,
   "metadata": {
    "scrolled": true
   },
   "outputs": [
    {
     "name": "stdout",
     "output_type": "stream",
     "text": [
      "[reRNN] Training model\n",
      "[reRNN] n_train=6322  #epochs=30  batch size=64\n",
      "[reRNN] Epoch 0 (10.79s)\tAverage loss=0.653658\tDev F1=42.61\n",
      "[reRNN] Epoch 1 (21.86s)\tAverage loss=0.513376\tDev F1=48.46\n",
      "[reRNN] Model saved as <reRNN>\n",
      "[reRNN] Epoch 2 (34.33s)\tAverage loss=0.433796\tDev F1=46.32\n",
      "[reRNN] Epoch 3 (45.22s)\tAverage loss=0.377039\tDev F1=48.72\n",
      "[reRNN] Model saved as <reRNN>\n",
      "[reRNN] Epoch 4 (57.79s)\tAverage loss=0.315843\tDev F1=52.74\n",
      "[reRNN] Model saved as <reRNN>\n",
      "[reRNN] Epoch 5 (70.30s)\tAverage loss=0.254922\tDev F1=53.61\n",
      "[reRNN] Model saved as <reRNN>\n",
      "[reRNN] Epoch 6 (82.92s)\tAverage loss=0.193258\tDev F1=52.50\n",
      "[reRNN] Epoch 7 (94.26s)\tAverage loss=0.154356\tDev F1=52.79\n",
      "[reRNN] Epoch 8 (105.47s)\tAverage loss=0.110654\tDev F1=54.43\n",
      "[reRNN] Model saved as <reRNN>\n",
      "[reRNN] Epoch 9 (118.11s)\tAverage loss=0.086968\tDev F1=54.82\n",
      "[reRNN] Model saved as <reRNN>\n",
      "[reRNN] Epoch 10 (130.57s)\tAverage loss=0.068642\tDev F1=57.22\n",
      "[reRNN] Model saved as <reRNN>\n",
      "[reRNN] Epoch 11 (142.56s)\tAverage loss=0.081272\tDev F1=57.35\n",
      "[reRNN] Model saved as <reRNN>\n",
      "[reRNN] Epoch 12 (155.02s)\tAverage loss=0.060170\tDev F1=59.15\n",
      "[reRNN] Model saved as <reRNN>\n",
      "[reRNN] Epoch 13 (167.35s)\tAverage loss=0.039498\tDev F1=55.91\n",
      "[reRNN] Epoch 14 (178.36s)\tAverage loss=0.028574\tDev F1=58.25\n",
      "[reRNN] Epoch 15 (189.58s)\tAverage loss=0.022655\tDev F1=57.02\n",
      "[reRNN] Epoch 16 (200.68s)\tAverage loss=0.018283\tDev F1=54.60\n",
      "[reRNN] Epoch 17 (211.93s)\tAverage loss=0.024227\tDev F1=56.37\n",
      "[reRNN] Epoch 18 (223.16s)\tAverage loss=0.034298\tDev F1=57.14\n",
      "[reRNN] Epoch 19 (234.49s)\tAverage loss=0.027786\tDev F1=55.62\n",
      "[reRNN] Epoch 20 (246.39s)\tAverage loss=0.017248\tDev F1=58.34\n",
      "[reRNN] Epoch 21 (257.53s)\tAverage loss=0.020537\tDev F1=54.79\n",
      "[reRNN] Epoch 22 (268.96s)\tAverage loss=0.013651\tDev F1=57.93\n",
      "[reRNN] Epoch 23 (279.91s)\tAverage loss=0.010003\tDev F1=55.56\n",
      "[reRNN] Epoch 24 (290.87s)\tAverage loss=0.011073\tDev F1=57.26\n",
      "[reRNN] Epoch 25 (301.89s)\tAverage loss=0.015463\tDev F1=57.49\n",
      "[reRNN] Epoch 26 (312.81s)\tAverage loss=0.020570\tDev F1=58.72\n",
      "[reRNN] Epoch 27 (323.79s)\tAverage loss=0.028206\tDev F1=55.64\n",
      "[reRNN] Epoch 28 (334.88s)\tAverage loss=0.015662\tDev F1=57.35\n",
      "[reRNN] Epoch 29 (345.94s)\tAverage loss=0.017828\tDev F1=59.68\n",
      "[reRNN] Model saved as <reRNN>\n",
      "[reRNN] Training done (346.73s)\n",
      "INFO:tensorflow:Restoring parameters from checkpoints/reRNN/reRNN-29\n",
      "[reRNN] Loaded model <reRNN>\n"
     ]
    }
   ],
   "source": [
    "# D_B + D_U\n",
    "train_kwargs = {\n",
    "    'lr':         0.001,\n",
    "    'dim':        100,\n",
    "    'n_epochs':   30,\n",
    "    'dropout':    0.25,\n",
    "    'rebalance':  True,\n",
    "    'print_freq': 1,\n",
    "    'batch_size': 64,\n",
    "    'max_sentence_length': 64,\n",
    "    'dev_ckpt_delay': 0,\n",
    "}\n",
    "\n",
    "lstm = reRNN(seed=1701, n_threads=6,)\n",
    "\n",
    "# lstm.train(train_cands, train_labels, X_dev = val_cands , Y_dev = val_labels, **train_kwargs)\n",
    "lstm.train(full_cands,full_labels, X_dev = val_cands , Y_dev = val_labels, **train_kwargs)\n"
   ]
  },
  {
   "cell_type": "code",
   "execution_count": null,
   "metadata": {},
   "outputs": [],
   "source": []
  },
  {
   "cell_type": "code",
   "execution_count": 42,
   "metadata": {},
   "outputs": [
    {
     "name": "stdout",
     "output_type": "stream",
     "text": [
      "========================================\n",
      "Scores (Un-adjusted)\n",
      "========================================\n",
      "Pos. class accuracy: 0.781\n",
      "Neg. class accuracy: 0.583\n",
      "Precision            0.483\n",
      "Recall               0.781\n",
      "F1                   0.597\n",
      "----------------------------------------\n",
      "TP: 239 | FP: 256 | TN: 358 | FN: 67\n",
      "========================================\n",
      "\n"
     ]
    }
   ],
   "source": [
    "tp, fp, tn, fn = lstm.error_analysis(session, val_cands, val_labels)"
   ]
  },
  {
   "cell_type": "code",
   "execution_count": 43,
   "metadata": {},
   "outputs": [
    {
     "name": "stdout",
     "output_type": "stream",
     "text": [
      "========================================\n",
      "Scores (Un-adjusted)\n",
      "========================================\n",
      "Pos. class accuracy: 0.776\n",
      "Neg. class accuracy: 0.555\n",
      "Precision            0.455\n",
      "Recall               0.776\n",
      "F1                   0.574\n",
      "----------------------------------------\n",
      "TP: 1176 | FP: 1408 | TN: 1757 | FN: 339\n",
      "========================================\n",
      "\n"
     ]
    }
   ],
   "source": [
    "tp, fp, tn, fn = lstm.error_analysis(session, test_cands, test_labels)"
   ]
  },
  {
   "cell_type": "code",
   "execution_count": 44,
   "metadata": {},
   "outputs": [
    {
     "data": {
      "text/plain": [
       "(0.4551083591331269, 0.7762376237623763, 0.57379848743596)"
      ]
     },
     "execution_count": 44,
     "metadata": {},
     "output_type": "execute_result"
    }
   ],
   "source": [
    "lstm.score(test_cands, test_labels)"
   ]
  },
  {
   "cell_type": "code",
   "execution_count": null,
   "metadata": {},
   "outputs": [],
   "source": []
  },
  {
   "cell_type": "code",
   "execution_count": null,
   "metadata": {},
   "outputs": [],
   "source": []
  },
  {
   "cell_type": "markdown",
   "metadata": {},
   "source": [
    "## Determine sentence length statistics (for LSTM hidden units)"
   ]
  },
  {
   "cell_type": "code",
   "execution_count": 16,
   "metadata": {},
   "outputs": [],
   "source": [
    "def get_sentence_length(candidate):\n",
    "    \"\"\"Get sentence length of a certain candidate\"\"\"\n",
    "    return len(candidate.get_parent().entity_types)"
   ]
  },
  {
   "cell_type": "code",
   "execution_count": 17,
   "metadata": {},
   "outputs": [
    {
     "data": {
      "text/plain": [
       "Text(0.5,1,'Sentence length histogram (words)')"
      ]
     },
     "execution_count": 17,
     "metadata": {},
     "output_type": "execute_result"
    },
    {
     "data": {
      "image/png": "[encoded data removed]",
      "text/plain": [
       "<Figure size 432x288 with 1 Axes>"
      ]
     },
     "metadata": {},
     "output_type": "display_data"
    }
   ],
   "source": [
    "lengths = pd.Series(list(map(lambda x: get_sentence_length(x),train_cands)))\n",
    "lengths.hist()\n",
    "plt.title(\"Sentence length histogram (words)\")"
   ]
  },
  {
   "cell_type": "code",
   "execution_count": null,
   "metadata": {},
   "outputs": [],
   "source": []
  },
  {
   "cell_type": "markdown",
   "metadata": {},
   "source": [
    "# Grid Search"
   ]
  },
  {
   "cell_type": "code",
   "execution_count": 18,
   "metadata": {},
   "outputs": [],
   "source": [
    "train_kwargs = {\n",
    "    'lr':         0.01,\n",
    "    'dim':        100,\n",
    "    'n_epochs':   5,\n",
    "    'dropout':    0.5,\n",
    "    'rebalance':  0.25,\n",
    "    'print_freq': 1,\n",
    "    'batch_size': 32,\n",
    "    'max_sentence_length': 64,\n",
    "}"
   ]
  },
  {
   "cell_type": "code",
   "execution_count": null,
   "metadata": {},
   "outputs": [],
   "source": []
  },
  {
   "cell_type": "code",
   "execution_count": 20,
   "metadata": {},
   "outputs": [],
   "source": [
    "from snorkel.learning import RandomSearch, GridSearch\n",
    "from snorkel.learning import SparseLogisticRegression\n",
    "\n",
    "seed = 1234\n",
    "num_model_search = 10\n",
    "\n",
    "# search over this parameter grid\n",
    "param_grid = {}\n",
    "# param_grid['batch_size'] = [32, 64]\n",
    "# param_grid['lr']         = [1e-3, 1e-2]\n",
    "# param_grid['dropout'] = [0.25,0.5]\n",
    "# param_grid['rebalance']  = [0.0, 0.25]\n",
    "\n",
    "param_grid['max_sentence_length']  = [32, 64, 128]\n",
    "\n",
    "param_grid['batch_size'] = [32]\n",
    "param_grid['lr']         = [1e-3]\n",
    "param_grid['dropout'] = [0.25]\n",
    "param_grid['rebalance']  = [0.0, 0.25]\n",
    "param_grid['n_epochs'] = [5,10,20]\n",
    "\n",
    "\n",
    "model_hyperparams = {\n",
    "#     'n_epochs': 20,\n",
    "    'print_freq': 5,\n",
    "    'dev_ckpt_delay': 0.5,\n",
    "    'X_dev': val_cands,\n",
    "    'Y_dev': val_labels\n",
    "}\n",
    "\n",
    "model_class_params = {\n",
    "    'seed': seed,\n",
    "    'n_threads':1\n",
    "}\n",
    "\n",
    "# Undersampling\n",
    "searcher = RandomSearch(reRNN, param_grid, train_cands_us, train_marginals_us,\n",
    "                        n=num_model_search, seed=seed,\n",
    "                        model_class_params=model_class_params,\n",
    "                        model_hyperparams=model_hyperparams)"
   ]
  },
  {
   "cell_type": "code",
   "execution_count": null,
   "metadata": {
    "scrolled": true
   },
   "outputs": [],
   "source": [
    "print \"Discriminitive Model Parameter Space (seed={}):\".format(seed)\n",
    "for i, params in enumerate(searcher.search_space()):\n",
    "    print i, params\n",
    "\n",
    "disc_model, run_stats = searcher.fit(X_valid=val_cands, Y_valid=val_labels, n_threads=1)\n",
    "print run_stats"
   ]
  },
  {
   "cell_type": "markdown",
   "metadata": {},
   "source": [
    "# export results_dict"
   ]
  },
  {
   "cell_type": "markdown",
   "metadata": {},
   "source": [
    "### Predict on val & unlab "
   ]
  },
  {
   "cell_type": "code",
   "execution_count": 24,
   "metadata": {},
   "outputs": [],
   "source": [
    "import pickle"
   ]
  },
  {
   "cell_type": "code",
   "execution_count": 25,
   "metadata": {},
   "outputs": [],
   "source": [
    "with open(path_candidate_dict_pkl, 'rb') as f:\n",
    "    cands = pickle.load(f)"
   ]
  },
  {
   "cell_type": "code",
   "execution_count": 26,
   "metadata": {},
   "outputs": [],
   "source": [
    "# from snorkel.learning import reRNN\n",
    "\n",
    "# lstm = reRNN(seed=1701, n_threads=None,)"
   ]
  },
  {
   "cell_type": "code",
   "execution_count": 27,
   "metadata": {},
   "outputs": [],
   "source": [
    "# # lstm.load(model_name='reRNN_14',save_dir=\"checkpoints/grid_search/\")\n",
    "# disc_model=lstm"
   ]
  },
  {
   "cell_type": "code",
   "execution_count": 28,
   "metadata": {},
   "outputs": [],
   "source": [
    "from sklearn.metrics import classification_report, f1_score"
   ]
  },
  {
   "cell_type": "code",
   "execution_count": 29,
   "metadata": {},
   "outputs": [],
   "source": [
    "results_dict = {}"
   ]
  },
  {
   "cell_type": "code",
   "execution_count": null,
   "metadata": {},
   "outputs": [],
   "source": []
  },
  {
   "cell_type": "code",
   "execution_count": 30,
   "metadata": {
    "scrolled": true
   },
   "outputs": [],
   "source": [
    "\n",
    "# Validation\n",
    "val_pred = lstm.predictions(val_cands) # needed for class_report\n",
    "val_pred_prob = lstm.marginals(val_cands)\n",
    "val_ids = list(map(lambda x: x.id ,val_cands))\n",
    "# Test\n",
    "# test_pred = lstm.predictions(test_cands)\n",
    "test_pred_prob = lstm.marginals(test_cands)\n",
    "test_ids = list(map(lambda x: x.id ,test_cands))\n",
    "# Unlabelled\n",
    "# unlab_pred = lstm.predictions(unlab_cands)\n",
    "unlab_pred_prob = lstm.marginals(unlab_cands)\n",
    "unlab_ids = list(map(lambda x: x.id ,unlab_cands))\n",
    "\n",
    "# do it with \n",
    "val_ground_truth = list(map(lambda x: cands[1][x]['label'], val_ids))\n",
    "test_ground_truth = list(map(lambda x: cands[2][x]['label'], test_ids))\n",
    "\n",
    "class_report = report_to_df(classification_report(val_ground_truth, val_pred))\n",
    "\n",
    "results_dict['biLSTM'] = {'label_val_prob+' :dict(zip(val_ids,val_pred_prob)),\n",
    "                          'label_test_prob+' :dict(zip(test_ids,test_pred_prob)),\n",
    "                          'label_unlab_prob+' :dict(zip(unlab_ids,unlab_pred_prob)),\n",
    "                          \"classification_report\": class_report,\n",
    "                          'f1+': f1_score(val_ground_truth, val_pred)\n",
    "                         }"
   ]
  },
  {
   "cell_type": "code",
   "execution_count": null,
   "metadata": {},
   "outputs": [],
   "source": []
  },
  {
   "cell_type": "code",
   "execution_count": 34,
   "metadata": {},
   "outputs": [
    {
     "data": {
      "text/plain": [
       "['biLSTM']"
      ]
     },
     "execution_count": 34,
     "metadata": {},
     "output_type": "execute_result"
    }
   ],
   "source": [
    "results_dict.keys()"
   ]
  },
  {
   "cell_type": "code",
   "execution_count": 33,
   "metadata": {},
   "outputs": [
    {
     "data": {
      "text/html": [
       "<div>\n",
       "<style scoped>\n",
       "    .dataframe tbody tr th:only-of-type {\n",
       "        vertical-align: middle;\n",
       "    }\n",
       "\n",
       "    .dataframe tbody tr th {\n",
       "        vertical-align: top;\n",
       "    }\n",
       "\n",
       "    .dataframe thead th {\n",
       "        text-align: right;\n",
       "    }\n",
       "</style>\n",
       "<table border=\"1\" class=\"dataframe\">\n",
       "  <thead>\n",
       "    <tr style=\"text-align: right;\">\n",
       "      <th></th>\n",
       "      <th>precision</th>\n",
       "      <th>recall</th>\n",
       "      <th>f1-score</th>\n",
       "      <th>support</th>\n",
       "    </tr>\n",
       "    <tr>\n",
       "      <th>Classes</th>\n",
       "      <th></th>\n",
       "      <th></th>\n",
       "      <th></th>\n",
       "      <th></th>\n",
       "    </tr>\n",
       "  </thead>\n",
       "  <tbody>\n",
       "    <tr>\n",
       "      <th>-1</th>\n",
       "      <td>0.78</td>\n",
       "      <td>0.65</td>\n",
       "      <td>0.71</td>\n",
       "      <td>614</td>\n",
       "    </tr>\n",
       "    <tr>\n",
       "      <th>1</th>\n",
       "      <td>0.48</td>\n",
       "      <td>0.63</td>\n",
       "      <td>0.54</td>\n",
       "      <td>306</td>\n",
       "    </tr>\n",
       "    <tr>\n",
       "      <th>avg/total</th>\n",
       "      <td>0.68</td>\n",
       "      <td>0.65</td>\n",
       "      <td>0.66</td>\n",
       "      <td>920</td>\n",
       "    </tr>\n",
       "  </tbody>\n",
       "</table>\n",
       "</div>"
      ],
      "text/plain": [
       "           precision  recall  f1-score  support\n",
       "Classes                                        \n",
       "-1              0.78    0.65      0.71      614\n",
       "1               0.48    0.63      0.54      306\n",
       "avg/total       0.68    0.65      0.66      920"
      ]
     },
     "execution_count": 33,
     "metadata": {},
     "output_type": "execute_result"
    }
   ],
   "source": [
    "results_dict['biLSTM']['classification_report']"
   ]
  },
  {
   "cell_type": "code",
   "execution_count": null,
   "metadata": {},
   "outputs": [],
   "source": []
  },
  {
   "cell_type": "code",
   "execution_count": 35,
   "metadata": {},
   "outputs": [],
   "source": [
    "with open(path_base_learners+'biLSTM,RuS,lr=0.001,dropout=0.25,34epochs,max_sent_length=64.pkl', 'wb') as f:\n",
    "    pickle.dump(results_dict, f)"
   ]
  },
  {
   "cell_type": "code",
   "execution_count": null,
   "metadata": {},
   "outputs": [],
   "source": []
  },
  {
   "cell_type": "markdown",
   "metadata": {},
   "source": [
    "# Below were not run"
   ]
  },
  {
   "cell_type": "code",
   "execution_count": null,
   "metadata": {},
   "outputs": [],
   "source": []
  },
  {
   "cell_type": "markdown",
   "metadata": {},
   "source": [
    "# Learning curves"
   ]
  },
  {
   "cell_type": "markdown",
   "metadata": {},
   "source": [
    "** sklearn learning curves **"
   ]
  },
  {
   "cell_type": "code",
   "execution_count": 15,
   "metadata": {},
   "outputs": [],
   "source": [
    "from sklearn.model_selection import learning_curve\n",
    "from sklearn.metrics import make_scorer,f1_score,mean_squared_error\n",
    "from scipy.sparse import vstack"
   ]
  },
  {
   "cell_type": "code",
   "execution_count": null,
   "metadata": {},
   "outputs": [],
   "source": [
    "lstm._build_model"
   ]
  },
  {
   "cell_type": "code",
   "execution_count": 17,
   "metadata": {},
   "outputs": [],
   "source": [
    "batch_size = 32\n",
    "epochs=5"
   ]
  },
  {
   "cell_type": "code",
   "execution_count": 13,
   "metadata": {},
   "outputs": [],
   "source": [
    "# # Wrap as sklearn classifier for learning curves\n",
    "# from keras.wrappers.scikit_learn import KerasClassifier\n",
    "\n",
    "# model = KerasClassifier(build_fn=lstm._build_model , batch_size=batch_size, epochs=epochs, verbose=1 ) #callbacks=[metrics])#, epochs=150, batch_size=10, verbose=0)\n"
   ]
  },
  {
   "cell_type": "code",
   "execution_count": 11,
   "metadata": {},
   "outputs": [],
   "source": [
    "# train_cands_us, train_labels_us, X_dev = val_cands , Y_dev = val_labels"
   ]
  },
  {
   "cell_type": "code",
   "execution_count": 12,
   "metadata": {},
   "outputs": [],
   "source": [
    "# train_sizes, train_scores, valid_scores = learning_curve(\n",
    "#     model,\n",
    "#     train_cands_us + val_cands , \n",
    "#     np.concatenate((train_labels_us, val_labels)), \n",
    "# #     shuffle = True,\n",
    "# #     random_state = 2,\n",
    "# #     verb\n",
    "#     #train_sizes=range(1000, X_train.shape[0], 1000), \n",
    "#     #     groups = X_all_split,\n",
    "#     #     scoring = mse_scorer\n",
    "    \n",
    "# )"
   ]
  },
  {
   "cell_type": "markdown",
   "metadata": {},
   "source": [
    "# Gold set LSTM learning curve"
   ]
  },
  {
   "cell_type": "markdown",
   "metadata": {},
   "source": [
    "** my custom function **"
   ]
  },
  {
   "cell_type": "code",
   "execution_count": 16,
   "metadata": {},
   "outputs": [],
   "source": [
    "from MLutils import custom_learning_curve, plot_learning_curve"
   ]
  },
  {
   "cell_type": "markdown",
   "metadata": {},
   "source": [
    "** learning curve (varying number of epochs) **"
   ]
  },
  {
   "cell_type": "code",
   "execution_count": null,
   "metadata": {},
   "outputs": [],
   "source": [
    "train_kwargs = {\n",
    "    'lr':         0.01,\n",
    "    'dim':        100,\n",
    "    'n_epochs':   30,\n",
    "    'dropout':    0.25,\n",
    "    'rebalance':  True,\n",
    "    'print_freq': 1,\n",
    "    'batch_size': 64,\n",
    "    'dev_ckpt_delay': 0,\n",
    "    'X_dev': val_cands, \n",
    "    'Y_dev': val_labels,\n",
    "    'verbose': False,\n",
    "}\n"
   ]
  },
  {
   "cell_type": "code",
   "execution_count": 33,
   "metadata": {},
   "outputs": [
    {
     "name": "stdout",
     "output_type": "stream",
     "text": [
      "[0. 1.]\n",
      "<type 'numpy.ndarray'> <type 'list'>\n"
     ]
    },
    {
     "name": "stderr",
     "output_type": "stream",
     "text": [
      "/home/antonis/anaconda2/envs/snorkel27clone/lib/python2.7/site-packages/tensorflow/python/ops/gradients_impl.py:100: UserWarning: Converting sparse IndexedSlices to a dense Tensor of unknown shape. This may consume a large amount of memory.\n",
      "  \"Converting sparse IndexedSlices to a dense Tensor of unknown shape. \"\n"
     ]
    },
    {
     "name": "stdout",
     "output_type": "stream",
     "text": [
      "[reRNN] Training model\n",
      "[reRNN] n_train=2060  #epochs=20  batch size=64\n",
      "[reRNN] Epoch 0 (5.55s)\tAverage loss=0.579369\tDev F1=42.55\n",
      "[reRNN] Epoch 1 (13.38s)\tAverage loss=0.338362\tDev F1=40.52\n",
      "[reRNN] Model saved as <reRNN>\n",
      "[reRNN] Epoch 2 (21.45s)\tAverage loss=0.268916\tDev F1=38.23\n",
      "[reRNN] Epoch 3 (29.45s)\tAverage loss=0.227673\tDev F1=38.35\n",
      "[reRNN] Epoch 4 (37.25s)\tAverage loss=0.195701\tDev F1=41.87\n",
      "[reRNN] Model saved as <reRNN>\n",
      "[reRNN] Epoch 5 (45.20s)\tAverage loss=0.192741\tDev F1=33.88\n",
      "[reRNN] Epoch 6 (52.98s)\tAverage loss=0.193863\tDev F1=37.15\n",
      "[reRNN] Epoch 7 (60.79s)\tAverage loss=0.166407\tDev F1=36.37\n",
      "[reRNN] Epoch 8 (68.62s)\tAverage loss=0.144665\tDev F1=39.80\n",
      "[reRNN] Epoch 9 (76.33s)\tAverage loss=0.134851\tDev F1=37.15\n",
      "[reRNN] Epoch 10 (84.19s)\tAverage loss=0.105190\tDev F1=37.96\n",
      "[reRNN] Epoch 11 (91.97s)\tAverage loss=0.117071\tDev F1=39.82\n",
      "[reRNN] Epoch 12 (99.76s)\tAverage loss=0.127256\tDev F1=36.20\n",
      "[reRNN] Epoch 13 (107.58s)\tAverage loss=0.095454\tDev F1=39.29\n",
      "[reRNN] Epoch 14 (115.38s)\tAverage loss=0.103840\tDev F1=36.96\n",
      "[reRNN] Epoch 15 (123.15s)\tAverage loss=0.091313\tDev F1=33.65\n",
      "[reRNN] Epoch 16 (130.97s)\tAverage loss=0.083827\tDev F1=39.80\n",
      "[reRNN] Epoch 17 (138.76s)\tAverage loss=0.093616\tDev F1=33.36\n",
      "[reRNN] Epoch 18 (146.50s)\tAverage loss=0.087319\tDev F1=39.15\n",
      "[reRNN] Epoch 19 (154.25s)\tAverage loss=0.076241\tDev F1=36.50\n",
      "[reRNN] Training done (156.96s)\n",
      "INFO:tensorflow:Restoring parameters from checkpoints/reRNN/reRNN-4\n",
      "[reRNN] Loaded model <reRNN>\n"
     ]
    },
    {
     "name": "stderr",
     "output_type": "stream",
     "text": [
      "/home/antonis/ipythonNotebooks/snorkel-ml/snorkel/learning/disc_models/rnn/rnn_base.py:40: UserWarning: Candidate 950 has argument past max length for model:\t[arg ends at index 117; max len 117]\n",
      "  warnings.warn('\\t'.join([w.format(i), info]))\n",
      "/home/antonis/ipythonNotebooks/snorkel-ml/snorkel/learning/disc_models/rnn/rnn_base.py:40: UserWarning: Candidate 749 has argument past max length for model:\t[arg ends at index 164; max len 117]\n",
      "  warnings.warn('\\t'.join([w.format(i), info]))\n",
      "/home/antonis/ipythonNotebooks/snorkel-ml/snorkel/learning/disc_models/rnn/rnn_base.py:40: UserWarning: Candidate 751 has argument past max length for model:\t[arg ends at index 137; max len 117]\n",
      "  warnings.warn('\\t'.join([w.format(i), info]))\n",
      "/home/antonis/ipythonNotebooks/snorkel-ml/snorkel/learning/disc_models/rnn/rnn_base.py:40: UserWarning: Candidate 753 has argument past max length for model:\t[arg ends at index 164; max len 117]\n",
      "  warnings.warn('\\t'.join([w.format(i), info]))\n",
      "/home/antonis/ipythonNotebooks/snorkel-ml/snorkel/learning/disc_models/rnn/rnn_base.py:40: UserWarning: Candidate 755 has argument past max length for model:\t[arg ends at index 131; max len 117]\n",
      "  warnings.warn('\\t'.join([w.format(i), info]))\n",
      "/home/antonis/ipythonNotebooks/snorkel-ml/snorkel/learning/disc_models/rnn/rnn_base.py:40: UserWarning: Candidate 762 has argument past max length for model:\t[arg ends at index 164; max len 117]\n",
      "  warnings.warn('\\t'.join([w.format(i), info]))\n",
      "/home/antonis/ipythonNotebooks/snorkel-ml/snorkel/learning/disc_models/rnn/rnn_base.py:40: UserWarning: Candidate 772 has argument past max length for model:\t[arg ends at index 160; max len 117]\n",
      "  warnings.warn('\\t'.join([w.format(i), info]))\n",
      "/home/antonis/ipythonNotebooks/snorkel-ml/snorkel/learning/disc_models/rnn/rnn_base.py:40: UserWarning: Candidate 777 has argument past max length for model:\t[arg ends at index 137; max len 117]\n",
      "  warnings.warn('\\t'.join([w.format(i), info]))\n",
      "/home/antonis/ipythonNotebooks/snorkel-ml/snorkel/learning/disc_models/rnn/rnn_base.py:40: UserWarning: Candidate 793 has argument past max length for model:\t[arg ends at index 164; max len 117]\n",
      "  warnings.warn('\\t'.join([w.format(i), info]))\n",
      "/home/antonis/ipythonNotebooks/snorkel-ml/snorkel/learning/disc_models/rnn/rnn_base.py:40: UserWarning: Candidate 795 has argument past max length for model:\t[arg ends at index 137; max len 117]\n",
      "  warnings.warn('\\t'.join([w.format(i), info]))\n",
      "/home/antonis/ipythonNotebooks/snorkel-ml/snorkel/learning/disc_models/rnn/rnn_base.py:40: UserWarning: Candidate 802 has argument past max length for model:\t[arg ends at index 164; max len 117]\n",
      "  warnings.warn('\\t'.join([w.format(i), info]))\n",
      "/home/antonis/ipythonNotebooks/snorkel-ml/snorkel/learning/disc_models/rnn/rnn_base.py:40: UserWarning: Candidate 950 has argument past max length for model:\t[arg ends at index 117; max len 117]\n",
      "  warnings.warn('\\t'.join([w.format(i), info]))\n",
      "/home/antonis/ipythonNotebooks/snorkel-ml/snorkel/learning/disc_models/rnn/rnn_base.py:40: UserWarning: Candidate 749 has argument past max length for model:\t[arg ends at index 164; max len 117]\n",
      "  warnings.warn('\\t'.join([w.format(i), info]))\n",
      "/home/antonis/ipythonNotebooks/snorkel-ml/snorkel/learning/disc_models/rnn/rnn_base.py:40: UserWarning: Candidate 751 has argument past max length for model:\t[arg ends at index 137; max len 117]\n",
      "  warnings.warn('\\t'.join([w.format(i), info]))\n",
      "/home/antonis/ipythonNotebooks/snorkel-ml/snorkel/learning/disc_models/rnn/rnn_base.py:40: UserWarning: Candidate 753 has argument past max length for model:\t[arg ends at index 164; max len 117]\n",
      "  warnings.warn('\\t'.join([w.format(i), info]))\n",
      "/home/antonis/ipythonNotebooks/snorkel-ml/snorkel/learning/disc_models/rnn/rnn_base.py:40: UserWarning: Candidate 755 has argument past max length for model:\t[arg ends at index 131; max len 117]\n",
      "  warnings.warn('\\t'.join([w.format(i), info]))\n",
      "/home/antonis/ipythonNotebooks/snorkel-ml/snorkel/learning/disc_models/rnn/rnn_base.py:40: UserWarning: Candidate 762 has argument past max length for model:\t[arg ends at index 164; max len 117]\n",
      "  warnings.warn('\\t'.join([w.format(i), info]))\n",
      "/home/antonis/ipythonNotebooks/snorkel-ml/snorkel/learning/disc_models/rnn/rnn_base.py:40: UserWarning: Candidate 772 has argument past max length for model:\t[arg ends at index 160; max len 117]\n",
      "  warnings.warn('\\t'.join([w.format(i), info]))\n",
      "/home/antonis/ipythonNotebooks/snorkel-ml/snorkel/learning/disc_models/rnn/rnn_base.py:40: UserWarning: Candidate 777 has argument past max length for model:\t[arg ends at index 137; max len 117]\n",
      "  warnings.warn('\\t'.join([w.format(i), info]))\n",
      "/home/antonis/ipythonNotebooks/snorkel-ml/snorkel/learning/disc_models/rnn/rnn_base.py:40: UserWarning: Candidate 793 has argument past max length for model:\t[arg ends at index 164; max len 117]\n",
      "  warnings.warn('\\t'.join([w.format(i), info]))\n",
      "/home/antonis/ipythonNotebooks/snorkel-ml/snorkel/learning/disc_models/rnn/rnn_base.py:40: UserWarning: Candidate 795 has argument past max length for model:\t[arg ends at index 137; max len 117]\n",
      "  warnings.warn('\\t'.join([w.format(i), info]))\n",
      "/home/antonis/ipythonNotebooks/snorkel-ml/snorkel/learning/disc_models/rnn/rnn_base.py:40: UserWarning: Candidate 802 has argument past max length for model:\t[arg ends at index 164; max len 117]\n",
      "  warnings.warn('\\t'.join([w.format(i), info]))\n"
     ]
    },
    {
     "name": "stdout",
     "output_type": "stream",
     "text": [
      "MSE: [-0.23626664211422435]\n",
      "F1: [0.45513196480938417]\n"
     ]
    },
    {
     "name": "stderr",
     "output_type": "stream",
     "text": [
      "/home/antonis/ipythonNotebooks/snorkel-ml/snorkel/learning/disc_models/rnn/rnn_base.py:40: UserWarning: Candidate 935 has argument past max length for model:\t[arg ends at index 117; max len 117]\n",
      "  warnings.warn('\\t'.join([w.format(i), info]))\n",
      "/home/antonis/ipythonNotebooks/snorkel-ml/snorkel/learning/disc_models/rnn/rnn_base.py:40: UserWarning: Candidate 700 has argument past max length for model:\t[arg ends at index 137; max len 117]\n",
      "  warnings.warn('\\t'.join([w.format(i), info]))\n",
      "/home/antonis/ipythonNotebooks/snorkel-ml/snorkel/learning/disc_models/rnn/rnn_base.py:40: UserWarning: Candidate 721 has argument past max length for model:\t[arg ends at index 137; max len 117]\n",
      "  warnings.warn('\\t'.join([w.format(i), info]))\n",
      "/home/antonis/ipythonNotebooks/snorkel-ml/snorkel/learning/disc_models/rnn/rnn_base.py:40: UserWarning: Candidate 730 has argument past max length for model:\t[arg ends at index 160; max len 117]\n",
      "  warnings.warn('\\t'.join([w.format(i), info]))\n",
      "/home/antonis/ipythonNotebooks/snorkel-ml/snorkel/learning/disc_models/rnn/rnn_base.py:40: UserWarning: Candidate 737 has argument past max length for model:\t[arg ends at index 160; max len 117]\n",
      "  warnings.warn('\\t'.join([w.format(i), info]))\n",
      "/home/antonis/ipythonNotebooks/snorkel-ml/snorkel/learning/disc_models/rnn/rnn_base.py:40: UserWarning: Candidate 742 has argument past max length for model:\t[arg ends at index 164; max len 117]\n",
      "  warnings.warn('\\t'.join([w.format(i), info]))\n",
      "/home/antonis/ipythonNotebooks/snorkel-ml/snorkel/learning/disc_models/rnn/rnn_base.py:40: UserWarning: Candidate 754 has argument past max length for model:\t[arg ends at index 164; max len 117]\n",
      "  warnings.warn('\\t'.join([w.format(i), info]))\n",
      "/home/antonis/ipythonNotebooks/snorkel-ml/snorkel/learning/disc_models/rnn/rnn_base.py:40: UserWarning: Candidate 935 has argument past max length for model:\t[arg ends at index 117; max len 117]\n",
      "  warnings.warn('\\t'.join([w.format(i), info]))\n",
      "/home/antonis/ipythonNotebooks/snorkel-ml/snorkel/learning/disc_models/rnn/rnn_base.py:40: UserWarning: Candidate 700 has argument past max length for model:\t[arg ends at index 137; max len 117]\n",
      "  warnings.warn('\\t'.join([w.format(i), info]))\n",
      "/home/antonis/ipythonNotebooks/snorkel-ml/snorkel/learning/disc_models/rnn/rnn_base.py:40: UserWarning: Candidate 721 has argument past max length for model:\t[arg ends at index 137; max len 117]\n",
      "  warnings.warn('\\t'.join([w.format(i), info]))\n",
      "/home/antonis/ipythonNotebooks/snorkel-ml/snorkel/learning/disc_models/rnn/rnn_base.py:40: UserWarning: Candidate 730 has argument past max length for model:\t[arg ends at index 160; max len 117]\n",
      "  warnings.warn('\\t'.join([w.format(i), info]))\n",
      "/home/antonis/ipythonNotebooks/snorkel-ml/snorkel/learning/disc_models/rnn/rnn_base.py:40: UserWarning: Candidate 737 has argument past max length for model:\t[arg ends at index 160; max len 117]\n",
      "  warnings.warn('\\t'.join([w.format(i), info]))\n",
      "/home/antonis/ipythonNotebooks/snorkel-ml/snorkel/learning/disc_models/rnn/rnn_base.py:40: UserWarning: Candidate 742 has argument past max length for model:\t[arg ends at index 164; max len 117]\n",
      "  warnings.warn('\\t'.join([w.format(i), info]))\n",
      "/home/antonis/ipythonNotebooks/snorkel-ml/snorkel/learning/disc_models/rnn/rnn_base.py:40: UserWarning: Candidate 754 has argument past max length for model:\t[arg ends at index 164; max len 117]\n",
      "  warnings.warn('\\t'.join([w.format(i), info]))\n"
     ]
    },
    {
     "name": "stdout",
     "output_type": "stream",
     "text": [
      "MSE: [-0.23626664211422435, -0.2407921641832225]\n",
      "F1: [0.45513196480938417, 0.455026455026455]\n"
     ]
    },
    {
     "name": "stderr",
     "output_type": "stream",
     "text": [
      "/home/antonis/ipythonNotebooks/snorkel-ml/snorkel/learning/disc_models/rnn/rnn_base.py:40: UserWarning: Candidate 942 has argument past max length for model:\t[arg ends at index 117; max len 117]\n",
      "  warnings.warn('\\t'.join([w.format(i), info]))\n",
      "/home/antonis/ipythonNotebooks/snorkel-ml/snorkel/learning/disc_models/rnn/rnn_base.py:40: UserWarning: Candidate 744 has argument past max length for model:\t[arg ends at index 131; max len 117]\n",
      "  warnings.warn('\\t'.join([w.format(i), info]))\n",
      "/home/antonis/ipythonNotebooks/snorkel-ml/snorkel/learning/disc_models/rnn/rnn_base.py:40: UserWarning: Candidate 754 has argument past max length for model:\t[arg ends at index 131; max len 117]\n",
      "  warnings.warn('\\t'.join([w.format(i), info]))\n",
      "/home/antonis/ipythonNotebooks/snorkel-ml/snorkel/learning/disc_models/rnn/rnn_base.py:40: UserWarning: Candidate 774 has argument past max length for model:\t[arg ends at index 160; max len 117]\n",
      "  warnings.warn('\\t'.join([w.format(i), info]))\n",
      "/home/antonis/ipythonNotebooks/snorkel-ml/snorkel/learning/disc_models/rnn/rnn_base.py:40: UserWarning: Candidate 775 has argument past max length for model:\t[arg ends at index 160; max len 117]\n",
      "  warnings.warn('\\t'.join([w.format(i), info]))\n",
      "/home/antonis/ipythonNotebooks/snorkel-ml/snorkel/learning/disc_models/rnn/rnn_base.py:40: UserWarning: Candidate 779 has argument past max length for model:\t[arg ends at index 160; max len 117]\n",
      "  warnings.warn('\\t'.join([w.format(i), info]))\n",
      "/home/antonis/ipythonNotebooks/snorkel-ml/snorkel/learning/disc_models/rnn/rnn_base.py:40: UserWarning: Candidate 781 has argument past max length for model:\t[arg ends at index 160; max len 117]\n",
      "  warnings.warn('\\t'.join([w.format(i), info]))\n",
      "/home/antonis/ipythonNotebooks/snorkel-ml/snorkel/learning/disc_models/rnn/rnn_base.py:40: UserWarning: Candidate 785 has argument past max length for model:\t[arg ends at index 131; max len 117]\n",
      "  warnings.warn('\\t'.join([w.format(i), info]))\n",
      "/home/antonis/ipythonNotebooks/snorkel-ml/snorkel/learning/disc_models/rnn/rnn_base.py:40: UserWarning: Candidate 794 has argument past max length for model:\t[arg ends at index 131; max len 117]\n",
      "  warnings.warn('\\t'.join([w.format(i), info]))\n",
      "/home/antonis/ipythonNotebooks/snorkel-ml/snorkel/learning/disc_models/rnn/rnn_base.py:40: UserWarning: Candidate 795 has argument past max length for model:\t[arg ends at index 137; max len 117]\n",
      "  warnings.warn('\\t'.join([w.format(i), info]))\n",
      "/home/antonis/ipythonNotebooks/snorkel-ml/snorkel/learning/disc_models/rnn/rnn_base.py:40: UserWarning: Candidate 805 has argument past max length for model:\t[arg ends at index 131; max len 117]\n",
      "  warnings.warn('\\t'.join([w.format(i), info]))\n",
      "/home/antonis/ipythonNotebooks/snorkel-ml/snorkel/learning/disc_models/rnn/rnn_base.py:40: UserWarning: Candidate 942 has argument past max length for model:\t[arg ends at index 117; max len 117]\n",
      "  warnings.warn('\\t'.join([w.format(i), info]))\n",
      "/home/antonis/ipythonNotebooks/snorkel-ml/snorkel/learning/disc_models/rnn/rnn_base.py:40: UserWarning: Candidate 744 has argument past max length for model:\t[arg ends at index 131; max len 117]\n",
      "  warnings.warn('\\t'.join([w.format(i), info]))\n",
      "/home/antonis/ipythonNotebooks/snorkel-ml/snorkel/learning/disc_models/rnn/rnn_base.py:40: UserWarning: Candidate 754 has argument past max length for model:\t[arg ends at index 131; max len 117]\n",
      "  warnings.warn('\\t'.join([w.format(i), info]))\n",
      "/home/antonis/ipythonNotebooks/snorkel-ml/snorkel/learning/disc_models/rnn/rnn_base.py:40: UserWarning: Candidate 774 has argument past max length for model:\t[arg ends at index 160; max len 117]\n",
      "  warnings.warn('\\t'.join([w.format(i), info]))\n",
      "/home/antonis/ipythonNotebooks/snorkel-ml/snorkel/learning/disc_models/rnn/rnn_base.py:40: UserWarning: Candidate 775 has argument past max length for model:\t[arg ends at index 160; max len 117]\n",
      "  warnings.warn('\\t'.join([w.format(i), info]))\n",
      "/home/antonis/ipythonNotebooks/snorkel-ml/snorkel/learning/disc_models/rnn/rnn_base.py:40: UserWarning: Candidate 779 has argument past max length for model:\t[arg ends at index 160; max len 117]\n",
      "  warnings.warn('\\t'.join([w.format(i), info]))\n",
      "/home/antonis/ipythonNotebooks/snorkel-ml/snorkel/learning/disc_models/rnn/rnn_base.py:40: UserWarning: Candidate 781 has argument past max length for model:\t[arg ends at index 160; max len 117]\n",
      "  warnings.warn('\\t'.join([w.format(i), info]))\n",
      "/home/antonis/ipythonNotebooks/snorkel-ml/snorkel/learning/disc_models/rnn/rnn_base.py:40: UserWarning: Candidate 785 has argument past max length for model:\t[arg ends at index 131; max len 117]\n",
      "  warnings.warn('\\t'.join([w.format(i), info]))\n",
      "/home/antonis/ipythonNotebooks/snorkel-ml/snorkel/learning/disc_models/rnn/rnn_base.py:40: UserWarning: Candidate 794 has argument past max length for model:\t[arg ends at index 131; max len 117]\n",
      "  warnings.warn('\\t'.join([w.format(i), info]))\n",
      "/home/antonis/ipythonNotebooks/snorkel-ml/snorkel/learning/disc_models/rnn/rnn_base.py:40: UserWarning: Candidate 795 has argument past max length for model:\t[arg ends at index 137; max len 117]\n",
      "  warnings.warn('\\t'.join([w.format(i), info]))\n",
      "/home/antonis/ipythonNotebooks/snorkel-ml/snorkel/learning/disc_models/rnn/rnn_base.py:40: UserWarning: Candidate 805 has argument past max length for model:\t[arg ends at index 131; max len 117]\n",
      "  warnings.warn('\\t'.join([w.format(i), info]))\n"
     ]
    },
    {
     "name": "stdout",
     "output_type": "stream",
     "text": [
      "MSE: [-0.23626664211422435, -0.2407921641832225, -0.23098416390394477]\n",
      "F1: [0.45513196480938417, 0.455026455026455, 0.4579326923076923]\n"
     ]
    },
    {
     "name": "stderr",
     "output_type": "stream",
     "text": [
      "/home/antonis/ipythonNotebooks/snorkel-ml/snorkel/learning/disc_models/rnn/rnn_base.py:40: UserWarning: Candidate 777 has argument past max length for model:\t[arg ends at index 117; max len 117]\n",
      "  warnings.warn('\\t'.join([w.format(i), info]))\n",
      "/home/antonis/ipythonNotebooks/snorkel-ml/snorkel/learning/disc_models/rnn/rnn_base.py:40: UserWarning: Candidate 782 has argument past max length for model:\t[arg ends at index 117; max len 117]\n",
      "  warnings.warn('\\t'.join([w.format(i), info]))\n",
      "/home/antonis/ipythonNotebooks/snorkel-ml/snorkel/learning/disc_models/rnn/rnn_base.py:40: UserWarning: Candidate 786 has argument past max length for model:\t[arg ends at index 117; max len 117]\n",
      "  warnings.warn('\\t'.join([w.format(i), info]))\n",
      "/home/antonis/ipythonNotebooks/snorkel-ml/snorkel/learning/disc_models/rnn/rnn_base.py:40: UserWarning: Candidate 136 has argument past max length for model:\t[arg ends at index 131; max len 117]\n",
      "  warnings.warn('\\t'.join([w.format(i), info]))\n",
      "/home/antonis/ipythonNotebooks/snorkel-ml/snorkel/learning/disc_models/rnn/rnn_base.py:40: UserWarning: Candidate 141 has argument past max length for model:\t[arg ends at index 137; max len 117]\n",
      "  warnings.warn('\\t'.join([w.format(i), info]))\n",
      "/home/antonis/ipythonNotebooks/snorkel-ml/snorkel/learning/disc_models/rnn/rnn_base.py:40: UserWarning: Candidate 166 has argument past max length for model:\t[arg ends at index 164; max len 117]\n",
      "  warnings.warn('\\t'.join([w.format(i), info]))\n",
      "/home/antonis/ipythonNotebooks/snorkel-ml/snorkel/learning/disc_models/rnn/rnn_base.py:40: UserWarning: Candidate 169 has argument past max length for model:\t[arg ends at index 131; max len 117]\n",
      "  warnings.warn('\\t'.join([w.format(i), info]))\n",
      "/home/antonis/ipythonNotebooks/snorkel-ml/snorkel/learning/disc_models/rnn/rnn_base.py:40: UserWarning: Candidate 172 has argument past max length for model:\t[arg ends at index 137; max len 117]\n",
      "  warnings.warn('\\t'.join([w.format(i), info]))\n",
      "/home/antonis/ipythonNotebooks/snorkel-ml/snorkel/learning/disc_models/rnn/rnn_base.py:40: UserWarning: Candidate 190 has argument past max length for model:\t[arg ends at index 164; max len 117]\n",
      "  warnings.warn('\\t'.join([w.format(i), info]))\n",
      "/home/antonis/ipythonNotebooks/snorkel-ml/snorkel/learning/disc_models/rnn/rnn_base.py:40: UserWarning: Candidate 194 has argument past max length for model:\t[arg ends at index 131; max len 117]\n",
      "  warnings.warn('\\t'.join([w.format(i), info]))\n",
      "/home/antonis/ipythonNotebooks/snorkel-ml/snorkel/learning/disc_models/rnn/rnn_base.py:40: UserWarning: Candidate 196 has argument past max length for model:\t[arg ends at index 137; max len 117]\n",
      "  warnings.warn('\\t'.join([w.format(i), info]))\n",
      "/home/antonis/ipythonNotebooks/snorkel-ml/snorkel/learning/disc_models/rnn/rnn_base.py:40: UserWarning: Candidate 217 has argument past max length for model:\t[arg ends at index 164; max len 117]\n",
      "  warnings.warn('\\t'.join([w.format(i), info]))\n",
      "/home/antonis/ipythonNotebooks/snorkel-ml/snorkel/learning/disc_models/rnn/rnn_base.py:40: UserWarning: Candidate 220 has argument past max length for model:\t[arg ends at index 160; max len 117]\n",
      "  warnings.warn('\\t'.join([w.format(i), info]))\n",
      "/home/antonis/ipythonNotebooks/snorkel-ml/snorkel/learning/disc_models/rnn/rnn_base.py:40: UserWarning: Candidate 223 has argument past max length for model:\t[arg ends at index 160; max len 117]\n",
      "  warnings.warn('\\t'.join([w.format(i), info]))\n",
      "/home/antonis/ipythonNotebooks/snorkel-ml/snorkel/learning/disc_models/rnn/rnn_base.py:40: UserWarning: Candidate 226 has argument past max length for model:\t[arg ends at index 160; max len 117]\n",
      "  warnings.warn('\\t'.join([w.format(i), info]))\n",
      "/home/antonis/ipythonNotebooks/snorkel-ml/snorkel/learning/disc_models/rnn/rnn_base.py:40: UserWarning: Candidate 233 has argument past max length for model:\t[arg ends at index 160; max len 117]\n",
      "  warnings.warn('\\t'.join([w.format(i), info]))\n",
      "/home/antonis/ipythonNotebooks/snorkel-ml/snorkel/learning/disc_models/rnn/rnn_base.py:40: UserWarning: Candidate 238 has argument past max length for model:\t[arg ends at index 160; max len 117]\n",
      "  warnings.warn('\\t'.join([w.format(i), info]))\n",
      "/home/antonis/ipythonNotebooks/snorkel-ml/snorkel/learning/disc_models/rnn/rnn_base.py:40: UserWarning: Candidate 242 has argument past max length for model:\t[arg ends at index 160; max len 117]\n",
      "  warnings.warn('\\t'.join([w.format(i), info]))\n",
      "/home/antonis/ipythonNotebooks/snorkel-ml/snorkel/learning/disc_models/rnn/rnn_base.py:40: UserWarning: Candidate 248 has argument past max length for model:\t[arg ends at index 160; max len 117]\n",
      "  warnings.warn('\\t'.join([w.format(i), info]))\n",
      "/home/antonis/ipythonNotebooks/snorkel-ml/snorkel/learning/disc_models/rnn/rnn_base.py:40: UserWarning: Candidate 252 has argument past max length for model:\t[arg ends at index 164; max len 117]\n",
      "  warnings.warn('\\t'.join([w.format(i), info]))\n",
      "/home/antonis/ipythonNotebooks/snorkel-ml/snorkel/learning/disc_models/rnn/rnn_base.py:40: UserWarning: Candidate 256 has argument past max length for model:\t[arg ends at index 131; max len 117]\n",
      "  warnings.warn('\\t'.join([w.format(i), info]))\n",
      "/home/antonis/ipythonNotebooks/snorkel-ml/snorkel/learning/disc_models/rnn/rnn_base.py:40: UserWarning: Candidate 261 has argument past max length for model:\t[arg ends at index 137; max len 117]\n",
      "  warnings.warn('\\t'.join([w.format(i), info]))\n",
      "/home/antonis/ipythonNotebooks/snorkel-ml/snorkel/learning/disc_models/rnn/rnn_base.py:40: UserWarning: Candidate 284 has argument past max length for model:\t[arg ends at index 164; max len 117]\n",
      "  warnings.warn('\\t'.join([w.format(i), info]))\n",
      "/home/antonis/ipythonNotebooks/snorkel-ml/snorkel/learning/disc_models/rnn/rnn_base.py:40: UserWarning: Candidate 288 has argument past max length for model:\t[arg ends at index 131; max len 117]\n",
      "  warnings.warn('\\t'.join([w.format(i), info]))\n",
      "/home/antonis/ipythonNotebooks/snorkel-ml/snorkel/learning/disc_models/rnn/rnn_base.py:40: UserWarning: Candidate 293 has argument past max length for model:\t[arg ends at index 137; max len 117]\n",
      "  warnings.warn('\\t'.join([w.format(i), info]))\n",
      "/home/antonis/ipythonNotebooks/snorkel-ml/snorkel/learning/disc_models/rnn/rnn_base.py:40: UserWarning: Candidate 314 has argument past max length for model:\t[arg ends at index 164; max len 117]\n",
      "  warnings.warn('\\t'.join([w.format(i), info]))\n",
      "/home/antonis/ipythonNotebooks/snorkel-ml/snorkel/learning/disc_models/rnn/rnn_base.py:40: UserWarning: Candidate 319 has argument past max length for model:\t[arg ends at index 131; max len 117]\n",
      "  warnings.warn('\\t'.join([w.format(i), info]))\n",
      "/home/antonis/ipythonNotebooks/snorkel-ml/snorkel/learning/disc_models/rnn/rnn_base.py:40: UserWarning: Candidate 321 has argument past max length for model:\t[arg ends at index 137; max len 117]\n",
      "  warnings.warn('\\t'.join([w.format(i), info]))\n",
      "/home/antonis/ipythonNotebooks/snorkel-ml/snorkel/learning/disc_models/rnn/rnn_base.py:40: UserWarning: Candidate 340 has argument past max length for model:\t[arg ends at index 164; max len 117]\n",
      "  warnings.warn('\\t'.join([w.format(i), info]))\n",
      "/home/antonis/ipythonNotebooks/snorkel-ml/snorkel/learning/disc_models/rnn/rnn_base.py:40: UserWarning: Candidate 777 has argument past max length for model:\t[arg ends at index 117; max len 117]\n",
      "  warnings.warn('\\t'.join([w.format(i), info]))\n",
      "/home/antonis/ipythonNotebooks/snorkel-ml/snorkel/learning/disc_models/rnn/rnn_base.py:40: UserWarning: Candidate 782 has argument past max length for model:\t[arg ends at index 117; max len 117]\n",
      "  warnings.warn('\\t'.join([w.format(i), info]))\n",
      "/home/antonis/ipythonNotebooks/snorkel-ml/snorkel/learning/disc_models/rnn/rnn_base.py:40: UserWarning: Candidate 786 has argument past max length for model:\t[arg ends at index 117; max len 117]\n",
      "  warnings.warn('\\t'.join([w.format(i), info]))\n",
      "/home/antonis/ipythonNotebooks/snorkel-ml/snorkel/learning/disc_models/rnn/rnn_base.py:40: UserWarning: Candidate 136 has argument past max length for model:\t[arg ends at index 131; max len 117]\n",
      "  warnings.warn('\\t'.join([w.format(i), info]))\n",
      "/home/antonis/ipythonNotebooks/snorkel-ml/snorkel/learning/disc_models/rnn/rnn_base.py:40: UserWarning: Candidate 141 has argument past max length for model:\t[arg ends at index 137; max len 117]\n",
      "  warnings.warn('\\t'.join([w.format(i), info]))\n",
      "/home/antonis/ipythonNotebooks/snorkel-ml/snorkel/learning/disc_models/rnn/rnn_base.py:40: UserWarning: Candidate 166 has argument past max length for model:\t[arg ends at index 164; max len 117]\n",
      "  warnings.warn('\\t'.join([w.format(i), info]))\n",
      "/home/antonis/ipythonNotebooks/snorkel-ml/snorkel/learning/disc_models/rnn/rnn_base.py:40: UserWarning: Candidate 169 has argument past max length for model:\t[arg ends at index 131; max len 117]\n",
      "  warnings.warn('\\t'.join([w.format(i), info]))\n",
      "/home/antonis/ipythonNotebooks/snorkel-ml/snorkel/learning/disc_models/rnn/rnn_base.py:40: UserWarning: Candidate 172 has argument past max length for model:\t[arg ends at index 137; max len 117]\n",
      "  warnings.warn('\\t'.join([w.format(i), info]))\n",
      "/home/antonis/ipythonNotebooks/snorkel-ml/snorkel/learning/disc_models/rnn/rnn_base.py:40: UserWarning: Candidate 190 has argument past max length for model:\t[arg ends at index 164; max len 117]\n",
      "  warnings.warn('\\t'.join([w.format(i), info]))\n",
      "/home/antonis/ipythonNotebooks/snorkel-ml/snorkel/learning/disc_models/rnn/rnn_base.py:40: UserWarning: Candidate 194 has argument past max length for model:\t[arg ends at index 131; max len 117]\n",
      "  warnings.warn('\\t'.join([w.format(i), info]))\n",
      "/home/antonis/ipythonNotebooks/snorkel-ml/snorkel/learning/disc_models/rnn/rnn_base.py:40: UserWarning: Candidate 196 has argument past max length for model:\t[arg ends at index 137; max len 117]\n",
      "  warnings.warn('\\t'.join([w.format(i), info]))\n",
      "/home/antonis/ipythonNotebooks/snorkel-ml/snorkel/learning/disc_models/rnn/rnn_base.py:40: UserWarning: Candidate 217 has argument past max length for model:\t[arg ends at index 164; max len 117]\n",
      "  warnings.warn('\\t'.join([w.format(i), info]))\n",
      "/home/antonis/ipythonNotebooks/snorkel-ml/snorkel/learning/disc_models/rnn/rnn_base.py:40: UserWarning: Candidate 220 has argument past max length for model:\t[arg ends at index 160; max len 117]\n",
      "  warnings.warn('\\t'.join([w.format(i), info]))\n",
      "/home/antonis/ipythonNotebooks/snorkel-ml/snorkel/learning/disc_models/rnn/rnn_base.py:40: UserWarning: Candidate 223 has argument past max length for model:\t[arg ends at index 160; max len 117]\n",
      "  warnings.warn('\\t'.join([w.format(i), info]))\n",
      "/home/antonis/ipythonNotebooks/snorkel-ml/snorkel/learning/disc_models/rnn/rnn_base.py:40: UserWarning: Candidate 226 has argument past max length for model:\t[arg ends at index 160; max len 117]\n",
      "  warnings.warn('\\t'.join([w.format(i), info]))\n",
      "/home/antonis/ipythonNotebooks/snorkel-ml/snorkel/learning/disc_models/rnn/rnn_base.py:40: UserWarning: Candidate 233 has argument past max length for model:\t[arg ends at index 160; max len 117]\n",
      "  warnings.warn('\\t'.join([w.format(i), info]))\n",
      "/home/antonis/ipythonNotebooks/snorkel-ml/snorkel/learning/disc_models/rnn/rnn_base.py:40: UserWarning: Candidate 238 has argument past max length for model:\t[arg ends at index 160; max len 117]\n",
      "  warnings.warn('\\t'.join([w.format(i), info]))\n",
      "/home/antonis/ipythonNotebooks/snorkel-ml/snorkel/learning/disc_models/rnn/rnn_base.py:40: UserWarning: Candidate 242 has argument past max length for model:\t[arg ends at index 160; max len 117]\n",
      "  warnings.warn('\\t'.join([w.format(i), info]))\n",
      "/home/antonis/ipythonNotebooks/snorkel-ml/snorkel/learning/disc_models/rnn/rnn_base.py:40: UserWarning: Candidate 248 has argument past max length for model:\t[arg ends at index 160; max len 117]\n",
      "  warnings.warn('\\t'.join([w.format(i), info]))\n",
      "/home/antonis/ipythonNotebooks/snorkel-ml/snorkel/learning/disc_models/rnn/rnn_base.py:40: UserWarning: Candidate 252 has argument past max length for model:\t[arg ends at index 164; max len 117]\n",
      "  warnings.warn('\\t'.join([w.format(i), info]))\n",
      "/home/antonis/ipythonNotebooks/snorkel-ml/snorkel/learning/disc_models/rnn/rnn_base.py:40: UserWarning: Candidate 256 has argument past max length for model:\t[arg ends at index 131; max len 117]\n",
      "  warnings.warn('\\t'.join([w.format(i), info]))\n",
      "/home/antonis/ipythonNotebooks/snorkel-ml/snorkel/learning/disc_models/rnn/rnn_base.py:40: UserWarning: Candidate 261 has argument past max length for model:\t[arg ends at index 137; max len 117]\n",
      "  warnings.warn('\\t'.join([w.format(i), info]))\n",
      "/home/antonis/ipythonNotebooks/snorkel-ml/snorkel/learning/disc_models/rnn/rnn_base.py:40: UserWarning: Candidate 284 has argument past max length for model:\t[arg ends at index 164; max len 117]\n",
      "  warnings.warn('\\t'.join([w.format(i), info]))\n",
      "/home/antonis/ipythonNotebooks/snorkel-ml/snorkel/learning/disc_models/rnn/rnn_base.py:40: UserWarning: Candidate 288 has argument past max length for model:\t[arg ends at index 131; max len 117]\n",
      "  warnings.warn('\\t'.join([w.format(i), info]))\n",
      "/home/antonis/ipythonNotebooks/snorkel-ml/snorkel/learning/disc_models/rnn/rnn_base.py:40: UserWarning: Candidate 293 has argument past max length for model:\t[arg ends at index 137; max len 117]\n",
      "  warnings.warn('\\t'.join([w.format(i), info]))\n",
      "/home/antonis/ipythonNotebooks/snorkel-ml/snorkel/learning/disc_models/rnn/rnn_base.py:40: UserWarning: Candidate 314 has argument past max length for model:\t[arg ends at index 164; max len 117]\n",
      "  warnings.warn('\\t'.join([w.format(i), info]))\n",
      "/home/antonis/ipythonNotebooks/snorkel-ml/snorkel/learning/disc_models/rnn/rnn_base.py:40: UserWarning: Candidate 319 has argument past max length for model:\t[arg ends at index 131; max len 117]\n",
      "  warnings.warn('\\t'.join([w.format(i), info]))\n",
      "/home/antonis/ipythonNotebooks/snorkel-ml/snorkel/learning/disc_models/rnn/rnn_base.py:40: UserWarning: Candidate 321 has argument past max length for model:\t[arg ends at index 137; max len 117]\n",
      "  warnings.warn('\\t'.join([w.format(i), info]))\n",
      "/home/antonis/ipythonNotebooks/snorkel-ml/snorkel/learning/disc_models/rnn/rnn_base.py:40: UserWarning: Candidate 340 has argument past max length for model:\t[arg ends at index 164; max len 117]\n",
      "  warnings.warn('\\t'.join([w.format(i), info]))\n"
     ]
    },
    {
     "name": "stdout",
     "output_type": "stream",
     "text": [
      "<type 'numpy.ndarray'> <type 'list'>\n"
     ]
    },
    {
     "name": "stderr",
     "output_type": "stream",
     "text": [
      "/home/antonis/anaconda2/envs/snorkel27clone/lib/python2.7/site-packages/tensorflow/python/ops/gradients_impl.py:100: UserWarning: Converting sparse IndexedSlices to a dense Tensor of unknown shape. This may consume a large amount of memory.\n",
      "  \"Converting sparse IndexedSlices to a dense Tensor of unknown shape. \"\n"
     ]
    },
    {
     "name": "stdout",
     "output_type": "stream",
     "text": [
      "[reRNN] Training model\n",
      "[reRNN] n_train=3540  #epochs=20  batch size=64\n",
      "[reRNN] Epoch 0 (12.17s)\tAverage loss=0.618063\tDev F1=35.87\n",
      "[reRNN] Epoch 1 (27.86s)\tAverage loss=0.377806\tDev F1=45.89\n",
      "[reRNN] Model saved as <reRNN>\n",
      "[reRNN] Epoch 2 (43.74s)\tAverage loss=0.272082\tDev F1=46.49\n",
      "[reRNN] Model saved as <reRNN>\n",
      "[reRNN] Epoch 3 (59.59s)\tAverage loss=0.213872\tDev F1=41.67\n",
      "[reRNN] Epoch 4 (75.32s)\tAverage loss=0.182453\tDev F1=42.30\n",
      "[reRNN] Epoch 5 (90.92s)\tAverage loss=0.168172\tDev F1=44.60\n",
      "[reRNN] Epoch 6 (106.58s)\tAverage loss=0.144912\tDev F1=45.74\n",
      "[reRNN] Epoch 7 (122.18s)\tAverage loss=0.125285\tDev F1=45.21\n",
      "[reRNN] Epoch 8 (138.28s)\tAverage loss=0.103384\tDev F1=42.01\n",
      "[reRNN] Epoch 9 (154.18s)\tAverage loss=0.091427\tDev F1=49.33\n",
      "[reRNN] Model saved as <reRNN>\n",
      "[reRNN] Epoch 10 (169.94s)\tAverage loss=0.094109\tDev F1=50.69\n",
      "[reRNN] Model saved as <reRNN>\n",
      "[reRNN] Epoch 11 (185.58s)\tAverage loss=0.080249\tDev F1=45.22\n",
      "[reRNN] Epoch 12 (201.35s)\tAverage loss=0.081420\tDev F1=47.92\n",
      "[reRNN] Epoch 13 (217.21s)\tAverage loss=0.083804\tDev F1=46.03\n",
      "[reRNN] Epoch 14 (232.88s)\tAverage loss=0.075961\tDev F1=45.17\n",
      "[reRNN] Epoch 15 (248.47s)\tAverage loss=0.046718\tDev F1=46.68\n",
      "[reRNN] Epoch 16 (264.81s)\tAverage loss=0.047511\tDev F1=46.24\n",
      "[reRNN] Epoch 17 (281.37s)\tAverage loss=0.039753\tDev F1=45.75\n",
      "[reRNN] Epoch 18 (297.09s)\tAverage loss=0.032218\tDev F1=42.94\n",
      "[reRNN] Epoch 19 (312.70s)\tAverage loss=0.037908\tDev F1=43.41\n",
      "[reRNN] Training done (316.49s)\n",
      "INFO:tensorflow:Restoring parameters from checkpoints/reRNN/reRNN-10\n",
      "[reRNN] Loaded model <reRNN>\n",
      "MSE: [-0.2387878903801733]\n",
      "F1: [0.44261168384879723]\n",
      "MSE: [-0.2387878903801733, -0.23891709725818489]\n",
      "F1: [0.44261168384879723, 0.45883940620782726]\n",
      "MSE: [-0.2387878903801733, -0.23891709725818489, -0.2300590577147404]\n",
      "F1: [0.44261168384879723, 0.45883940620782726, 0.4658469945355191]\n",
      "<type 'numpy.ndarray'> <type 'list'>\n"
     ]
    },
    {
     "name": "stderr",
     "output_type": "stream",
     "text": [
      "/home/antonis/anaconda2/envs/snorkel27clone/lib/python2.7/site-packages/tensorflow/python/ops/gradients_impl.py:100: UserWarning: Converting sparse IndexedSlices to a dense Tensor of unknown shape. This may consume a large amount of memory.\n",
      "  \"Converting sparse IndexedSlices to a dense Tensor of unknown shape. \"\n"
     ]
    },
    {
     "name": "stdout",
     "output_type": "stream",
     "text": [
      "[reRNN] Training model\n",
      "[reRNN] n_train=4530  #epochs=20  batch size=64\n",
      "[reRNN] Epoch 0 (18.68s)\tAverage loss=0.697400\tDev F1=22.37\n",
      "[reRNN] Epoch 1 (40.99s)\tAverage loss=0.527333\tDev F1=42.32\n",
      "[reRNN] Model saved as <reRNN>\n",
      "[reRNN] Epoch 2 (63.15s)\tAverage loss=0.456738\tDev F1=41.51\n",
      "[reRNN] Epoch 3 (84.63s)\tAverage loss=0.373242\tDev F1=43.16\n",
      "[reRNN] Model saved as <reRNN>\n",
      "[reRNN] Epoch 4 (106.82s)\tAverage loss=0.302768\tDev F1=44.19\n",
      "[reRNN] Model saved as <reRNN>\n",
      "[reRNN] Epoch 5 (129.91s)\tAverage loss=0.261948\tDev F1=42.71\n",
      "[reRNN] Epoch 6 (152.47s)\tAverage loss=0.247460\tDev F1=39.39\n",
      "[reRNN] Epoch 7 (174.47s)\tAverage loss=0.223327\tDev F1=40.37\n",
      "[reRNN] Epoch 8 (196.16s)\tAverage loss=0.214107\tDev F1=40.44\n",
      "[reRNN] Epoch 9 (217.57s)\tAverage loss=0.201597\tDev F1=41.35\n",
      "[reRNN] Epoch 10 (239.27s)\tAverage loss=0.195401\tDev F1=39.33\n",
      "[reRNN] Epoch 11 (260.77s)\tAverage loss=0.193476\tDev F1=39.89\n",
      "[reRNN] Epoch 12 (281.85s)\tAverage loss=0.181761\tDev F1=40.65\n",
      "[reRNN] Epoch 13 (303.23s)\tAverage loss=0.177679\tDev F1=40.79\n",
      "[reRNN] Epoch 14 (324.73s)\tAverage loss=0.170672\tDev F1=39.56\n",
      "[reRNN] Epoch 15 (346.27s)\tAverage loss=0.163241\tDev F1=42.89\n",
      "[reRNN] Epoch 16 (367.87s)\tAverage loss=0.158058\tDev F1=41.45\n",
      "[reRNN] Epoch 17 (389.45s)\tAverage loss=0.159857\tDev F1=41.44\n",
      "[reRNN] Epoch 18 (411.29s)\tAverage loss=0.149029\tDev F1=42.20\n",
      "[reRNN] Epoch 19 (433.19s)\tAverage loss=0.140251\tDev F1=42.46\n",
      "[reRNN] Training done (437.24s)\n",
      "INFO:tensorflow:Restoring parameters from checkpoints/reRNN/reRNN-4\n",
      "[reRNN] Loaded model <reRNN>\n",
      "MSE: [-0.26121575622713955]\n",
      "F1: [0.4296875]\n",
      "MSE: [-0.26121575622713955, -0.2507497572857285]\n",
      "F1: [0.4296875, 0.4413869014859659]\n",
      "MSE: [-0.26121575622713955, -0.2507497572857285, -0.25283411429966196]\n",
      "F1: [0.4296875, 0.4413869014859659, 0.4255079006772009]\n",
      "<type 'numpy.ndarray'> <type 'list'>\n"
     ]
    },
    {
     "name": "stderr",
     "output_type": "stream",
     "text": [
      "/home/antonis/anaconda2/envs/snorkel27clone/lib/python2.7/site-packages/tensorflow/python/ops/gradients_impl.py:100: UserWarning: Converting sparse IndexedSlices to a dense Tensor of unknown shape. This may consume a large amount of memory.\n",
      "  \"Converting sparse IndexedSlices to a dense Tensor of unknown shape. \"\n"
     ]
    },
    {
     "name": "stdout",
     "output_type": "stream",
     "text": [
      "[reRNN] Training model\n",
      "[reRNN] n_train=5594  #epochs=20  batch size=64\n",
      "[reRNN] Epoch 0 (21.76s)\tAverage loss=0.576185\tDev F1=47.74\n",
      "[reRNN] Epoch 1 (46.94s)\tAverage loss=0.370909\tDev F1=49.33\n",
      "[reRNN] Model saved as <reRNN>\n",
      "[reRNN] Epoch 2 (72.23s)\tAverage loss=0.264001\tDev F1=50.30\n",
      "[reRNN] Model saved as <reRNN>\n",
      "[reRNN] Epoch 3 (98.28s)\tAverage loss=0.203046\tDev F1=52.55\n",
      "[reRNN] Model saved as <reRNN>\n",
      "[reRNN] Epoch 4 (124.05s)\tAverage loss=0.146503\tDev F1=51.57\n",
      "[reRNN] Epoch 5 (149.22s)\tAverage loss=0.110435\tDev F1=50.94\n",
      "[reRNN] Epoch 6 (174.68s)\tAverage loss=0.110290\tDev F1=49.78\n",
      "[reRNN] Epoch 7 (200.32s)\tAverage loss=0.080167\tDev F1=49.58\n",
      "[reRNN] Epoch 8 (225.56s)\tAverage loss=0.055595\tDev F1=53.70\n",
      "[reRNN] Model saved as <reRNN>\n",
      "[reRNN] Epoch 9 (252.74s)\tAverage loss=0.043690\tDev F1=51.27\n",
      "[reRNN] Epoch 10 (278.02s)\tAverage loss=0.048648\tDev F1=48.33\n",
      "[reRNN] Epoch 11 (303.48s)\tAverage loss=0.065270\tDev F1=50.50\n",
      "[reRNN] Epoch 12 (328.45s)\tAverage loss=0.037749\tDev F1=51.29\n",
      "[reRNN] Epoch 13 (353.48s)\tAverage loss=0.028655\tDev F1=46.70\n",
      "[reRNN] Epoch 14 (378.71s)\tAverage loss=0.025404\tDev F1=49.37\n",
      "[reRNN] Epoch 15 (403.65s)\tAverage loss=0.023538\tDev F1=49.97\n",
      "[reRNN] Epoch 16 (428.71s)\tAverage loss=0.025749\tDev F1=50.69\n",
      "[reRNN] Epoch 17 (453.65s)\tAverage loss=0.021100\tDev F1=51.62\n",
      "[reRNN] Epoch 18 (478.85s)\tAverage loss=0.018696\tDev F1=51.39\n",
      "[reRNN] Epoch 19 (504.18s)\tAverage loss=0.013642\tDev F1=52.03\n",
      "[reRNN] Training done (508.25s)\n",
      "INFO:tensorflow:Restoring parameters from checkpoints/reRNN/reRNN-8\n",
      "[reRNN] Loaded model <reRNN>\n",
      "MSE: [-0.20168339328585677]\n",
      "F1: [0.517368810051737]\n",
      "MSE: [-0.20168339328585677, -0.2063211513629611]\n",
      "F1: [0.517368810051737, 0.5135332845647403]\n",
      "MSE: [-0.20168339328585677, -0.2063211513629611, -0.20364578324873836]\n",
      "F1: [0.517368810051737, 0.5135332845647403, 0.5200909780136468]\n",
      "<type 'numpy.ndarray'> <type 'list'>\n"
     ]
    },
    {
     "name": "stderr",
     "output_type": "stream",
     "text": [
      "/home/antonis/anaconda2/envs/snorkel27clone/lib/python2.7/site-packages/tensorflow/python/ops/gradients_impl.py:100: UserWarning: Converting sparse IndexedSlices to a dense Tensor of unknown shape. This may consume a large amount of memory.\n",
      "  \"Converting sparse IndexedSlices to a dense Tensor of unknown shape. \"\n"
     ]
    },
    {
     "name": "stdout",
     "output_type": "stream",
     "text": [
      "[reRNN] Training model\n",
      "[reRNN] n_train=6576  #epochs=20  batch size=64\n",
      "[reRNN] Epoch 0 (25.77s)\tAverage loss=0.584259\tDev F1=49.74\n",
      "[reRNN] Epoch 1 (56.79s)\tAverage loss=0.368082\tDev F1=51.27\n",
      "[reRNN] Model saved as <reRNN>\n",
      "[reRNN] Epoch 2 (87.02s)\tAverage loss=0.264407\tDev F1=47.21\n",
      "[reRNN] Epoch 3 (116.79s)\tAverage loss=0.219686\tDev F1=47.55\n",
      "[reRNN] Epoch 4 (146.98s)\tAverage loss=0.154301\tDev F1=51.93\n",
      "[reRNN] Model saved as <reRNN>\n",
      "[reRNN] Epoch 5 (177.35s)\tAverage loss=0.111974\tDev F1=49.78\n",
      "[reRNN] Epoch 6 (207.91s)\tAverage loss=0.094414\tDev F1=50.70\n",
      "[reRNN] Epoch 7 (237.52s)\tAverage loss=0.067909\tDev F1=50.29\n",
      "[reRNN] Epoch 8 (267.96s)\tAverage loss=0.073658\tDev F1=49.66\n",
      "[reRNN] Epoch 9 (298.28s)\tAverage loss=0.047691\tDev F1=48.29\n",
      "[reRNN] Epoch 10 (328.55s)\tAverage loss=0.073711\tDev F1=50.07\n",
      "[reRNN] Epoch 11 (358.88s)\tAverage loss=0.040214\tDev F1=46.45\n",
      "[reRNN] Epoch 12 (389.52s)\tAverage loss=0.039878\tDev F1=49.85\n",
      "[reRNN] Epoch 13 (419.31s)\tAverage loss=0.039076\tDev F1=49.93\n",
      "[reRNN] Epoch 14 (449.52s)\tAverage loss=0.029328\tDev F1=50.06\n",
      "[reRNN] Epoch 15 (478.59s)\tAverage loss=0.022884\tDev F1=49.06\n",
      "[reRNN] Epoch 16 (507.60s)\tAverage loss=0.026051\tDev F1=48.36\n",
      "[reRNN] Epoch 17 (535.86s)\tAverage loss=0.041684\tDev F1=48.77\n",
      "[reRNN] Epoch 18 (564.85s)\tAverage loss=0.046134\tDev F1=51.29\n",
      "[reRNN] Epoch 19 (593.20s)\tAverage loss=0.037611\tDev F1=47.21\n",
      "[reRNN] Training done (597.11s)\n",
      "INFO:tensorflow:Restoring parameters from checkpoints/reRNN/reRNN-4\n",
      "[reRNN] Loaded model <reRNN>\n",
      "MSE: [-0.2081995556990748]\n",
      "F1: [0.5327510917030568]\n",
      "MSE: [-0.2081995556990748, -0.2130561223990628]\n",
      "F1: [0.5327510917030568, 0.5460012026458209]\n",
      "MSE: [-0.2081995556990748, -0.2130561223990628, -0.22197326931686057]\n",
      "F1: [0.5327510917030568, 0.5460012026458209, 0.5205143906919779]\n"
     ]
    }
   ],
   "source": [
    "\n",
    "train_sizes, train_mse, train_f1, valid_mse , valid_f1 , test_prf1 = custom_learning_curve(\n",
    "    reRNN(seed = 1701), \n",
    "    X_increm = unlab_cands, y_increm = unlab_labels, \n",
    "    X_val = test_cands, y_val = test_labels, \n",
    "    X_init= train_cands, y_init= train_labels,\n",
    "    X_test = test_cands, y_test = test_labels, \n",
    "    fit_params = train_kwargs,\n",
    "#                       splt_sizes=np.array([0.1, 0.5, 1.  ])\n",
    "                     )\n"
   ]
  },
  {
   "cell_type": "code",
   "execution_count": 34,
   "metadata": {},
   "outputs": [
    {
     "data": {
      "text/plain": [
       "<module 'matplotlib.pyplot' from '/home/antonis/anaconda2/envs/snorkel27clone/lib/python2.7/site-packages/matplotlib/pyplot.pyc'>"
      ]
     },
     "execution_count": 34,
     "metadata": {},
     "output_type": "execute_result"
    },
    {
     "data": {
      "image/png": "[encoded data removed]",
      "text/plain": [
       "<Figure size 432x288 with 1 Axes>"
      ]
     },
     "metadata": {},
     "output_type": "display_data"
    },
    {
     "data": {
      "image/png": "[encoded data removed]",
      "text/plain": [
       "<Figure size 432x288 with 1 Axes>"
      ]
     },
     "metadata": {},
     "output_type": "display_data"
    }
   ],
   "source": [
    "\n",
    "plot_learning_curve(train_mse,valid_mse,train_sizes, 'Gold-labeled LSTM MSE (P=%.2f,R=%.2f,F1=%.2f)'%(test_prf1))\n",
    "\n",
    "plot_learning_curve(train_f1,valid_f1,train_sizes, title='Gold-labeled LSTM (P=%.2f,R=%.2f,F1=%.2f)'%(test_prf1))\n"
   ]
  },
  {
   "cell_type": "code",
   "execution_count": 36,
   "metadata": {},
   "outputs": [],
   "source": [
    "with open('../'+pkl_paths+\"learning_curves/lstm_GoldLabels_var_epochs.pickle\",'wb') as f:\n",
    "    pickle.dump((train_sizes, train_mse, train_f1, valid_mse , valid_f1 , test_prf1), f)"
   ]
  },
  {
   "cell_type": "markdown",
   "metadata": {},
   "source": [
    "** with fixed # of epochs **"
   ]
  },
  {
   "cell_type": "code",
   "execution_count": 39,
   "metadata": {},
   "outputs": [],
   "source": [
    "train_kwargs = {\n",
    "    'lr':         0.01,\n",
    "    'dim':        100,\n",
    "    'n_epochs':   30,\n",
    "    'dropout':    0.25,\n",
    "    'rebalance':  True,\n",
    "    'print_freq': 1,\n",
    "    'batch_size': 64,\n",
    "    'dev_ckpt_delay': 0,\n",
    "#     'X_dev': val_cands, \n",
    "#     'Y_dev': val_labels,\n",
    "    'verbose': False,\n",
    "}\n"
   ]
  },
  {
   "cell_type": "code",
   "execution_count": 40,
   "metadata": {},
   "outputs": [
    {
     "name": "stdout",
     "output_type": "stream",
     "text": [
      "[0. 1.]\n",
      "<type 'numpy.ndarray'> <type 'list'>\n"
     ]
    },
    {
     "name": "stderr",
     "output_type": "stream",
     "text": [
      "/home/antonis/anaconda2/envs/snorkel27clone/lib/python2.7/site-packages/tensorflow/python/ops/gradients_impl.py:100: UserWarning: Converting sparse IndexedSlices to a dense Tensor of unknown shape. This may consume a large amount of memory.\n",
      "  \"Converting sparse IndexedSlices to a dense Tensor of unknown shape. \"\n"
     ]
    },
    {
     "name": "stdout",
     "output_type": "stream",
     "text": [
      "[reRNN] Training model\n",
      "[reRNN] n_train=2062  #epochs=30  batch size=64\n",
      "[reRNN] Epoch 0 (5.51s)\tAverage loss=0.608293\n",
      "[reRNN] Epoch 1 (10.80s)\tAverage loss=0.346956\n",
      "[reRNN] Epoch 2 (16.12s)\tAverage loss=0.269931\n",
      "[reRNN] Epoch 3 (21.43s)\tAverage loss=0.217912\n",
      "[reRNN] Epoch 4 (26.98s)\tAverage loss=0.209345\n",
      "[reRNN] Epoch 5 (32.32s)\tAverage loss=0.173663\n",
      "[reRNN] Epoch 6 (37.56s)\tAverage loss=0.148834\n",
      "[reRNN] Epoch 7 (42.90s)\tAverage loss=0.140637\n",
      "[reRNN] Epoch 8 (48.18s)\tAverage loss=0.117252\n",
      "[reRNN] Epoch 9 (53.52s)\tAverage loss=0.117656\n",
      "[reRNN] Epoch 10 (58.86s)\tAverage loss=0.100174\n",
      "[reRNN] Epoch 11 (64.16s)\tAverage loss=0.078376\n",
      "[reRNN] Epoch 12 (69.59s)\tAverage loss=0.076498\n",
      "[reRNN] Epoch 13 (74.91s)\tAverage loss=0.082401\n",
      "[reRNN] Epoch 14 (80.25s)\tAverage loss=0.071376\n",
      "[reRNN] Epoch 15 (85.70s)\tAverage loss=0.065369\n",
      "[reRNN] Epoch 16 (91.05s)\tAverage loss=0.058923\n",
      "[reRNN] Epoch 17 (96.40s)\tAverage loss=0.049626\n",
      "[reRNN] Epoch 18 (101.86s)\tAverage loss=0.066339\n",
      "[reRNN] Epoch 19 (107.28s)\tAverage loss=0.053396\n",
      "[reRNN] Epoch 20 (112.75s)\tAverage loss=0.038470\n",
      "[reRNN] Epoch 21 (118.11s)\tAverage loss=0.032088\n",
      "[reRNN] Epoch 22 (123.32s)\tAverage loss=0.041439\n",
      "[reRNN] Epoch 23 (128.68s)\tAverage loss=0.031882\n",
      "[reRNN] Epoch 24 (133.89s)\tAverage loss=0.024607\n",
      "[reRNN] Epoch 25 (139.64s)\tAverage loss=0.015781\n",
      "[reRNN] Epoch 26 (145.36s)\tAverage loss=0.014688\n",
      "[reRNN] Epoch 27 (151.07s)\tAverage loss=0.020362\n",
      "[reRNN] Epoch 28 (156.56s)\tAverage loss=0.021784\n",
      "[reRNN] Epoch 29 (161.90s)\tAverage loss=0.027129\n",
      "[reRNN] Training done (161.90s)\n"
     ]
    },
    {
     "name": "stderr",
     "output_type": "stream",
     "text": [
      "/home/antonis/ipythonNotebooks/snorkel-ml/snorkel/learning/disc_models/rnn/rnn_base.py:40: UserWarning: Candidate 950 has argument past max length for model:\t[arg ends at index 117; max len 117]\n",
      "  warnings.warn('\\t'.join([w.format(i), info]))\n",
      "/home/antonis/ipythonNotebooks/snorkel-ml/snorkel/learning/disc_models/rnn/rnn_base.py:40: UserWarning: Candidate 749 has argument past max length for model:\t[arg ends at index 164; max len 117]\n",
      "  warnings.warn('\\t'.join([w.format(i), info]))\n",
      "/home/antonis/ipythonNotebooks/snorkel-ml/snorkel/learning/disc_models/rnn/rnn_base.py:40: UserWarning: Candidate 751 has argument past max length for model:\t[arg ends at index 137; max len 117]\n",
      "  warnings.warn('\\t'.join([w.format(i), info]))\n",
      "/home/antonis/ipythonNotebooks/snorkel-ml/snorkel/learning/disc_models/rnn/rnn_base.py:40: UserWarning: Candidate 753 has argument past max length for model:\t[arg ends at index 164; max len 117]\n",
      "  warnings.warn('\\t'.join([w.format(i), info]))\n",
      "/home/antonis/ipythonNotebooks/snorkel-ml/snorkel/learning/disc_models/rnn/rnn_base.py:40: UserWarning: Candidate 755 has argument past max length for model:\t[arg ends at index 131; max len 117]\n",
      "  warnings.warn('\\t'.join([w.format(i), info]))\n",
      "/home/antonis/ipythonNotebooks/snorkel-ml/snorkel/learning/disc_models/rnn/rnn_base.py:40: UserWarning: Candidate 762 has argument past max length for model:\t[arg ends at index 164; max len 117]\n",
      "  warnings.warn('\\t'.join([w.format(i), info]))\n",
      "/home/antonis/ipythonNotebooks/snorkel-ml/snorkel/learning/disc_models/rnn/rnn_base.py:40: UserWarning: Candidate 772 has argument past max length for model:\t[arg ends at index 160; max len 117]\n",
      "  warnings.warn('\\t'.join([w.format(i), info]))\n",
      "/home/antonis/ipythonNotebooks/snorkel-ml/snorkel/learning/disc_models/rnn/rnn_base.py:40: UserWarning: Candidate 777 has argument past max length for model:\t[arg ends at index 137; max len 117]\n",
      "  warnings.warn('\\t'.join([w.format(i), info]))\n",
      "/home/antonis/ipythonNotebooks/snorkel-ml/snorkel/learning/disc_models/rnn/rnn_base.py:40: UserWarning: Candidate 793 has argument past max length for model:\t[arg ends at index 164; max len 117]\n",
      "  warnings.warn('\\t'.join([w.format(i), info]))\n",
      "/home/antonis/ipythonNotebooks/snorkel-ml/snorkel/learning/disc_models/rnn/rnn_base.py:40: UserWarning: Candidate 795 has argument past max length for model:\t[arg ends at index 137; max len 117]\n",
      "  warnings.warn('\\t'.join([w.format(i), info]))\n",
      "/home/antonis/ipythonNotebooks/snorkel-ml/snorkel/learning/disc_models/rnn/rnn_base.py:40: UserWarning: Candidate 802 has argument past max length for model:\t[arg ends at index 164; max len 117]\n",
      "  warnings.warn('\\t'.join([w.format(i), info]))\n",
      "/home/antonis/ipythonNotebooks/snorkel-ml/snorkel/learning/disc_models/rnn/rnn_base.py:40: UserWarning: Candidate 950 has argument past max length for model:\t[arg ends at index 117; max len 117]\n",
      "  warnings.warn('\\t'.join([w.format(i), info]))\n",
      "/home/antonis/ipythonNotebooks/snorkel-ml/snorkel/learning/disc_models/rnn/rnn_base.py:40: UserWarning: Candidate 749 has argument past max length for model:\t[arg ends at index 164; max len 117]\n",
      "  warnings.warn('\\t'.join([w.format(i), info]))\n",
      "/home/antonis/ipythonNotebooks/snorkel-ml/snorkel/learning/disc_models/rnn/rnn_base.py:40: UserWarning: Candidate 751 has argument past max length for model:\t[arg ends at index 137; max len 117]\n",
      "  warnings.warn('\\t'.join([w.format(i), info]))\n",
      "/home/antonis/ipythonNotebooks/snorkel-ml/snorkel/learning/disc_models/rnn/rnn_base.py:40: UserWarning: Candidate 753 has argument past max length for model:\t[arg ends at index 164; max len 117]\n",
      "  warnings.warn('\\t'.join([w.format(i), info]))\n",
      "/home/antonis/ipythonNotebooks/snorkel-ml/snorkel/learning/disc_models/rnn/rnn_base.py:40: UserWarning: Candidate 755 has argument past max length for model:\t[arg ends at index 131; max len 117]\n",
      "  warnings.warn('\\t'.join([w.format(i), info]))\n",
      "/home/antonis/ipythonNotebooks/snorkel-ml/snorkel/learning/disc_models/rnn/rnn_base.py:40: UserWarning: Candidate 762 has argument past max length for model:\t[arg ends at index 164; max len 117]\n",
      "  warnings.warn('\\t'.join([w.format(i), info]))\n",
      "/home/antonis/ipythonNotebooks/snorkel-ml/snorkel/learning/disc_models/rnn/rnn_base.py:40: UserWarning: Candidate 772 has argument past max length for model:\t[arg ends at index 160; max len 117]\n",
      "  warnings.warn('\\t'.join([w.format(i), info]))\n",
      "/home/antonis/ipythonNotebooks/snorkel-ml/snorkel/learning/disc_models/rnn/rnn_base.py:40: UserWarning: Candidate 777 has argument past max length for model:\t[arg ends at index 137; max len 117]\n",
      "  warnings.warn('\\t'.join([w.format(i), info]))\n",
      "/home/antonis/ipythonNotebooks/snorkel-ml/snorkel/learning/disc_models/rnn/rnn_base.py:40: UserWarning: Candidate 793 has argument past max length for model:\t[arg ends at index 164; max len 117]\n",
      "  warnings.warn('\\t'.join([w.format(i), info]))\n",
      "/home/antonis/ipythonNotebooks/snorkel-ml/snorkel/learning/disc_models/rnn/rnn_base.py:40: UserWarning: Candidate 795 has argument past max length for model:\t[arg ends at index 137; max len 117]\n",
      "  warnings.warn('\\t'.join([w.format(i), info]))\n",
      "/home/antonis/ipythonNotebooks/snorkel-ml/snorkel/learning/disc_models/rnn/rnn_base.py:40: UserWarning: Candidate 802 has argument past max length for model:\t[arg ends at index 164; max len 117]\n",
      "  warnings.warn('\\t'.join([w.format(i), info]))\n"
     ]
    },
    {
     "name": "stdout",
     "output_type": "stream",
     "text": [
      "MSE: [-0.32891687716462226]\n",
      "F1: [0.43103448275862066]\n"
     ]
    },
    {
     "name": "stderr",
     "output_type": "stream",
     "text": [
      "/home/antonis/ipythonNotebooks/snorkel-ml/snorkel/learning/disc_models/rnn/rnn_base.py:40: UserWarning: Candidate 935 has argument past max length for model:\t[arg ends at index 117; max len 117]\n",
      "  warnings.warn('\\t'.join([w.format(i), info]))\n",
      "/home/antonis/ipythonNotebooks/snorkel-ml/snorkel/learning/disc_models/rnn/rnn_base.py:40: UserWarning: Candidate 700 has argument past max length for model:\t[arg ends at index 137; max len 117]\n",
      "  warnings.warn('\\t'.join([w.format(i), info]))\n",
      "/home/antonis/ipythonNotebooks/snorkel-ml/snorkel/learning/disc_models/rnn/rnn_base.py:40: UserWarning: Candidate 721 has argument past max length for model:\t[arg ends at index 137; max len 117]\n",
      "  warnings.warn('\\t'.join([w.format(i), info]))\n",
      "/home/antonis/ipythonNotebooks/snorkel-ml/snorkel/learning/disc_models/rnn/rnn_base.py:40: UserWarning: Candidate 730 has argument past max length for model:\t[arg ends at index 160; max len 117]\n",
      "  warnings.warn('\\t'.join([w.format(i), info]))\n",
      "/home/antonis/ipythonNotebooks/snorkel-ml/snorkel/learning/disc_models/rnn/rnn_base.py:40: UserWarning: Candidate 737 has argument past max length for model:\t[arg ends at index 160; max len 117]\n",
      "  warnings.warn('\\t'.join([w.format(i), info]))\n",
      "/home/antonis/ipythonNotebooks/snorkel-ml/snorkel/learning/disc_models/rnn/rnn_base.py:40: UserWarning: Candidate 742 has argument past max length for model:\t[arg ends at index 164; max len 117]\n",
      "  warnings.warn('\\t'.join([w.format(i), info]))\n",
      "/home/antonis/ipythonNotebooks/snorkel-ml/snorkel/learning/disc_models/rnn/rnn_base.py:40: UserWarning: Candidate 754 has argument past max length for model:\t[arg ends at index 164; max len 117]\n",
      "  warnings.warn('\\t'.join([w.format(i), info]))\n",
      "/home/antonis/ipythonNotebooks/snorkel-ml/snorkel/learning/disc_models/rnn/rnn_base.py:40: UserWarning: Candidate 935 has argument past max length for model:\t[arg ends at index 117; max len 117]\n",
      "  warnings.warn('\\t'.join([w.format(i), info]))\n",
      "/home/antonis/ipythonNotebooks/snorkel-ml/snorkel/learning/disc_models/rnn/rnn_base.py:40: UserWarning: Candidate 700 has argument past max length for model:\t[arg ends at index 137; max len 117]\n",
      "  warnings.warn('\\t'.join([w.format(i), info]))\n",
      "/home/antonis/ipythonNotebooks/snorkel-ml/snorkel/learning/disc_models/rnn/rnn_base.py:40: UserWarning: Candidate 721 has argument past max length for model:\t[arg ends at index 137; max len 117]\n",
      "  warnings.warn('\\t'.join([w.format(i), info]))\n",
      "/home/antonis/ipythonNotebooks/snorkel-ml/snorkel/learning/disc_models/rnn/rnn_base.py:40: UserWarning: Candidate 730 has argument past max length for model:\t[arg ends at index 160; max len 117]\n",
      "  warnings.warn('\\t'.join([w.format(i), info]))\n",
      "/home/antonis/ipythonNotebooks/snorkel-ml/snorkel/learning/disc_models/rnn/rnn_base.py:40: UserWarning: Candidate 737 has argument past max length for model:\t[arg ends at index 160; max len 117]\n",
      "  warnings.warn('\\t'.join([w.format(i), info]))\n",
      "/home/antonis/ipythonNotebooks/snorkel-ml/snorkel/learning/disc_models/rnn/rnn_base.py:40: UserWarning: Candidate 742 has argument past max length for model:\t[arg ends at index 164; max len 117]\n",
      "  warnings.warn('\\t'.join([w.format(i), info]))\n",
      "/home/antonis/ipythonNotebooks/snorkel-ml/snorkel/learning/disc_models/rnn/rnn_base.py:40: UserWarning: Candidate 754 has argument past max length for model:\t[arg ends at index 164; max len 117]\n",
      "  warnings.warn('\\t'.join([w.format(i), info]))\n"
     ]
    },
    {
     "name": "stdout",
     "output_type": "stream",
     "text": [
      "MSE: [-0.32891687716462226, -0.3314536251813434]\n",
      "F1: [0.43103448275862066, 0.4317280453257791]\n"
     ]
    },
    {
     "name": "stderr",
     "output_type": "stream",
     "text": [
      "/home/antonis/ipythonNotebooks/snorkel-ml/snorkel/learning/disc_models/rnn/rnn_base.py:40: UserWarning: Candidate 942 has argument past max length for model:\t[arg ends at index 117; max len 117]\n",
      "  warnings.warn('\\t'.join([w.format(i), info]))\n",
      "/home/antonis/ipythonNotebooks/snorkel-ml/snorkel/learning/disc_models/rnn/rnn_base.py:40: UserWarning: Candidate 744 has argument past max length for model:\t[arg ends at index 131; max len 117]\n",
      "  warnings.warn('\\t'.join([w.format(i), info]))\n",
      "/home/antonis/ipythonNotebooks/snorkel-ml/snorkel/learning/disc_models/rnn/rnn_base.py:40: UserWarning: Candidate 754 has argument past max length for model:\t[arg ends at index 131; max len 117]\n",
      "  warnings.warn('\\t'.join([w.format(i), info]))\n",
      "/home/antonis/ipythonNotebooks/snorkel-ml/snorkel/learning/disc_models/rnn/rnn_base.py:40: UserWarning: Candidate 774 has argument past max length for model:\t[arg ends at index 160; max len 117]\n",
      "  warnings.warn('\\t'.join([w.format(i), info]))\n",
      "/home/antonis/ipythonNotebooks/snorkel-ml/snorkel/learning/disc_models/rnn/rnn_base.py:40: UserWarning: Candidate 775 has argument past max length for model:\t[arg ends at index 160; max len 117]\n",
      "  warnings.warn('\\t'.join([w.format(i), info]))\n",
      "/home/antonis/ipythonNotebooks/snorkel-ml/snorkel/learning/disc_models/rnn/rnn_base.py:40: UserWarning: Candidate 779 has argument past max length for model:\t[arg ends at index 160; max len 117]\n",
      "  warnings.warn('\\t'.join([w.format(i), info]))\n",
      "/home/antonis/ipythonNotebooks/snorkel-ml/snorkel/learning/disc_models/rnn/rnn_base.py:40: UserWarning: Candidate 781 has argument past max length for model:\t[arg ends at index 160; max len 117]\n",
      "  warnings.warn('\\t'.join([w.format(i), info]))\n",
      "/home/antonis/ipythonNotebooks/snorkel-ml/snorkel/learning/disc_models/rnn/rnn_base.py:40: UserWarning: Candidate 785 has argument past max length for model:\t[arg ends at index 131; max len 117]\n",
      "  warnings.warn('\\t'.join([w.format(i), info]))\n",
      "/home/antonis/ipythonNotebooks/snorkel-ml/snorkel/learning/disc_models/rnn/rnn_base.py:40: UserWarning: Candidate 794 has argument past max length for model:\t[arg ends at index 131; max len 117]\n",
      "  warnings.warn('\\t'.join([w.format(i), info]))\n",
      "/home/antonis/ipythonNotebooks/snorkel-ml/snorkel/learning/disc_models/rnn/rnn_base.py:40: UserWarning: Candidate 795 has argument past max length for model:\t[arg ends at index 137; max len 117]\n",
      "  warnings.warn('\\t'.join([w.format(i), info]))\n",
      "/home/antonis/ipythonNotebooks/snorkel-ml/snorkel/learning/disc_models/rnn/rnn_base.py:40: UserWarning: Candidate 805 has argument past max length for model:\t[arg ends at index 131; max len 117]\n",
      "  warnings.warn('\\t'.join([w.format(i), info]))\n",
      "/home/antonis/ipythonNotebooks/snorkel-ml/snorkel/learning/disc_models/rnn/rnn_base.py:40: UserWarning: Candidate 942 has argument past max length for model:\t[arg ends at index 117; max len 117]\n",
      "  warnings.warn('\\t'.join([w.format(i), info]))\n",
      "/home/antonis/ipythonNotebooks/snorkel-ml/snorkel/learning/disc_models/rnn/rnn_base.py:40: UserWarning: Candidate 744 has argument past max length for model:\t[arg ends at index 131; max len 117]\n",
      "  warnings.warn('\\t'.join([w.format(i), info]))\n",
      "/home/antonis/ipythonNotebooks/snorkel-ml/snorkel/learning/disc_models/rnn/rnn_base.py:40: UserWarning: Candidate 754 has argument past max length for model:\t[arg ends at index 131; max len 117]\n",
      "  warnings.warn('\\t'.join([w.format(i), info]))\n",
      "/home/antonis/ipythonNotebooks/snorkel-ml/snorkel/learning/disc_models/rnn/rnn_base.py:40: UserWarning: Candidate 774 has argument past max length for model:\t[arg ends at index 160; max len 117]\n",
      "  warnings.warn('\\t'.join([w.format(i), info]))\n",
      "/home/antonis/ipythonNotebooks/snorkel-ml/snorkel/learning/disc_models/rnn/rnn_base.py:40: UserWarning: Candidate 775 has argument past max length for model:\t[arg ends at index 160; max len 117]\n",
      "  warnings.warn('\\t'.join([w.format(i), info]))\n",
      "/home/antonis/ipythonNotebooks/snorkel-ml/snorkel/learning/disc_models/rnn/rnn_base.py:40: UserWarning: Candidate 779 has argument past max length for model:\t[arg ends at index 160; max len 117]\n",
      "  warnings.warn('\\t'.join([w.format(i), info]))\n",
      "/home/antonis/ipythonNotebooks/snorkel-ml/snorkel/learning/disc_models/rnn/rnn_base.py:40: UserWarning: Candidate 781 has argument past max length for model:\t[arg ends at index 160; max len 117]\n",
      "  warnings.warn('\\t'.join([w.format(i), info]))\n",
      "/home/antonis/ipythonNotebooks/snorkel-ml/snorkel/learning/disc_models/rnn/rnn_base.py:40: UserWarning: Candidate 785 has argument past max length for model:\t[arg ends at index 131; max len 117]\n",
      "  warnings.warn('\\t'.join([w.format(i), info]))\n",
      "/home/antonis/ipythonNotebooks/snorkel-ml/snorkel/learning/disc_models/rnn/rnn_base.py:40: UserWarning: Candidate 794 has argument past max length for model:\t[arg ends at index 131; max len 117]\n",
      "  warnings.warn('\\t'.join([w.format(i), info]))\n",
      "/home/antonis/ipythonNotebooks/snorkel-ml/snorkel/learning/disc_models/rnn/rnn_base.py:40: UserWarning: Candidate 795 has argument past max length for model:\t[arg ends at index 137; max len 117]\n",
      "  warnings.warn('\\t'.join([w.format(i), info]))\n",
      "/home/antonis/ipythonNotebooks/snorkel-ml/snorkel/learning/disc_models/rnn/rnn_base.py:40: UserWarning: Candidate 805 has argument past max length for model:\t[arg ends at index 131; max len 117]\n",
      "  warnings.warn('\\t'.join([w.format(i), info]))\n"
     ]
    },
    {
     "name": "stdout",
     "output_type": "stream",
     "text": [
      "MSE: [-0.32891687716462226, -0.3314536251813434, -0.3198813195826145]\n",
      "F1: [0.43103448275862066, 0.4317280453257791, 0.4278137890394814]\n"
     ]
    },
    {
     "name": "stderr",
     "output_type": "stream",
     "text": [
      "/home/antonis/ipythonNotebooks/snorkel-ml/snorkel/learning/disc_models/rnn/rnn_base.py:40: UserWarning: Candidate 777 has argument past max length for model:\t[arg ends at index 117; max len 117]\n",
      "  warnings.warn('\\t'.join([w.format(i), info]))\n",
      "/home/antonis/ipythonNotebooks/snorkel-ml/snorkel/learning/disc_models/rnn/rnn_base.py:40: UserWarning: Candidate 782 has argument past max length for model:\t[arg ends at index 117; max len 117]\n",
      "  warnings.warn('\\t'.join([w.format(i), info]))\n",
      "/home/antonis/ipythonNotebooks/snorkel-ml/snorkel/learning/disc_models/rnn/rnn_base.py:40: UserWarning: Candidate 786 has argument past max length for model:\t[arg ends at index 117; max len 117]\n",
      "  warnings.warn('\\t'.join([w.format(i), info]))\n",
      "/home/antonis/ipythonNotebooks/snorkel-ml/snorkel/learning/disc_models/rnn/rnn_base.py:40: UserWarning: Candidate 136 has argument past max length for model:\t[arg ends at index 131; max len 117]\n",
      "  warnings.warn('\\t'.join([w.format(i), info]))\n",
      "/home/antonis/ipythonNotebooks/snorkel-ml/snorkel/learning/disc_models/rnn/rnn_base.py:40: UserWarning: Candidate 141 has argument past max length for model:\t[arg ends at index 137; max len 117]\n",
      "  warnings.warn('\\t'.join([w.format(i), info]))\n",
      "/home/antonis/ipythonNotebooks/snorkel-ml/snorkel/learning/disc_models/rnn/rnn_base.py:40: UserWarning: Candidate 166 has argument past max length for model:\t[arg ends at index 164; max len 117]\n",
      "  warnings.warn('\\t'.join([w.format(i), info]))\n",
      "/home/antonis/ipythonNotebooks/snorkel-ml/snorkel/learning/disc_models/rnn/rnn_base.py:40: UserWarning: Candidate 169 has argument past max length for model:\t[arg ends at index 131; max len 117]\n",
      "  warnings.warn('\\t'.join([w.format(i), info]))\n",
      "/home/antonis/ipythonNotebooks/snorkel-ml/snorkel/learning/disc_models/rnn/rnn_base.py:40: UserWarning: Candidate 172 has argument past max length for model:\t[arg ends at index 137; max len 117]\n",
      "  warnings.warn('\\t'.join([w.format(i), info]))\n",
      "/home/antonis/ipythonNotebooks/snorkel-ml/snorkel/learning/disc_models/rnn/rnn_base.py:40: UserWarning: Candidate 190 has argument past max length for model:\t[arg ends at index 164; max len 117]\n",
      "  warnings.warn('\\t'.join([w.format(i), info]))\n",
      "/home/antonis/ipythonNotebooks/snorkel-ml/snorkel/learning/disc_models/rnn/rnn_base.py:40: UserWarning: Candidate 194 has argument past max length for model:\t[arg ends at index 131; max len 117]\n",
      "  warnings.warn('\\t'.join([w.format(i), info]))\n",
      "/home/antonis/ipythonNotebooks/snorkel-ml/snorkel/learning/disc_models/rnn/rnn_base.py:40: UserWarning: Candidate 196 has argument past max length for model:\t[arg ends at index 137; max len 117]\n",
      "  warnings.warn('\\t'.join([w.format(i), info]))\n",
      "/home/antonis/ipythonNotebooks/snorkel-ml/snorkel/learning/disc_models/rnn/rnn_base.py:40: UserWarning: Candidate 217 has argument past max length for model:\t[arg ends at index 164; max len 117]\n",
      "  warnings.warn('\\t'.join([w.format(i), info]))\n",
      "/home/antonis/ipythonNotebooks/snorkel-ml/snorkel/learning/disc_models/rnn/rnn_base.py:40: UserWarning: Candidate 220 has argument past max length for model:\t[arg ends at index 160; max len 117]\n",
      "  warnings.warn('\\t'.join([w.format(i), info]))\n",
      "/home/antonis/ipythonNotebooks/snorkel-ml/snorkel/learning/disc_models/rnn/rnn_base.py:40: UserWarning: Candidate 223 has argument past max length for model:\t[arg ends at index 160; max len 117]\n",
      "  warnings.warn('\\t'.join([w.format(i), info]))\n",
      "/home/antonis/ipythonNotebooks/snorkel-ml/snorkel/learning/disc_models/rnn/rnn_base.py:40: UserWarning: Candidate 226 has argument past max length for model:\t[arg ends at index 160; max len 117]\n",
      "  warnings.warn('\\t'.join([w.format(i), info]))\n",
      "/home/antonis/ipythonNotebooks/snorkel-ml/snorkel/learning/disc_models/rnn/rnn_base.py:40: UserWarning: Candidate 233 has argument past max length for model:\t[arg ends at index 160; max len 117]\n",
      "  warnings.warn('\\t'.join([w.format(i), info]))\n",
      "/home/antonis/ipythonNotebooks/snorkel-ml/snorkel/learning/disc_models/rnn/rnn_base.py:40: UserWarning: Candidate 238 has argument past max length for model:\t[arg ends at index 160; max len 117]\n",
      "  warnings.warn('\\t'.join([w.format(i), info]))\n",
      "/home/antonis/ipythonNotebooks/snorkel-ml/snorkel/learning/disc_models/rnn/rnn_base.py:40: UserWarning: Candidate 242 has argument past max length for model:\t[arg ends at index 160; max len 117]\n",
      "  warnings.warn('\\t'.join([w.format(i), info]))\n",
      "/home/antonis/ipythonNotebooks/snorkel-ml/snorkel/learning/disc_models/rnn/rnn_base.py:40: UserWarning: Candidate 248 has argument past max length for model:\t[arg ends at index 160; max len 117]\n",
      "  warnings.warn('\\t'.join([w.format(i), info]))\n",
      "/home/antonis/ipythonNotebooks/snorkel-ml/snorkel/learning/disc_models/rnn/rnn_base.py:40: UserWarning: Candidate 252 has argument past max length for model:\t[arg ends at index 164; max len 117]\n",
      "  warnings.warn('\\t'.join([w.format(i), info]))\n",
      "/home/antonis/ipythonNotebooks/snorkel-ml/snorkel/learning/disc_models/rnn/rnn_base.py:40: UserWarning: Candidate 256 has argument past max length for model:\t[arg ends at index 131; max len 117]\n",
      "  warnings.warn('\\t'.join([w.format(i), info]))\n",
      "/home/antonis/ipythonNotebooks/snorkel-ml/snorkel/learning/disc_models/rnn/rnn_base.py:40: UserWarning: Candidate 261 has argument past max length for model:\t[arg ends at index 137; max len 117]\n",
      "  warnings.warn('\\t'.join([w.format(i), info]))\n",
      "/home/antonis/ipythonNotebooks/snorkel-ml/snorkel/learning/disc_models/rnn/rnn_base.py:40: UserWarning: Candidate 284 has argument past max length for model:\t[arg ends at index 164; max len 117]\n",
      "  warnings.warn('\\t'.join([w.format(i), info]))\n",
      "/home/antonis/ipythonNotebooks/snorkel-ml/snorkel/learning/disc_models/rnn/rnn_base.py:40: UserWarning: Candidate 288 has argument past max length for model:\t[arg ends at index 131; max len 117]\n",
      "  warnings.warn('\\t'.join([w.format(i), info]))\n",
      "/home/antonis/ipythonNotebooks/snorkel-ml/snorkel/learning/disc_models/rnn/rnn_base.py:40: UserWarning: Candidate 293 has argument past max length for model:\t[arg ends at index 137; max len 117]\n",
      "  warnings.warn('\\t'.join([w.format(i), info]))\n",
      "/home/antonis/ipythonNotebooks/snorkel-ml/snorkel/learning/disc_models/rnn/rnn_base.py:40: UserWarning: Candidate 314 has argument past max length for model:\t[arg ends at index 164; max len 117]\n",
      "  warnings.warn('\\t'.join([w.format(i), info]))\n",
      "/home/antonis/ipythonNotebooks/snorkel-ml/snorkel/learning/disc_models/rnn/rnn_base.py:40: UserWarning: Candidate 319 has argument past max length for model:\t[arg ends at index 131; max len 117]\n",
      "  warnings.warn('\\t'.join([w.format(i), info]))\n",
      "/home/antonis/ipythonNotebooks/snorkel-ml/snorkel/learning/disc_models/rnn/rnn_base.py:40: UserWarning: Candidate 321 has argument past max length for model:\t[arg ends at index 137; max len 117]\n",
      "  warnings.warn('\\t'.join([w.format(i), info]))\n",
      "/home/antonis/ipythonNotebooks/snorkel-ml/snorkel/learning/disc_models/rnn/rnn_base.py:40: UserWarning: Candidate 340 has argument past max length for model:\t[arg ends at index 164; max len 117]\n",
      "  warnings.warn('\\t'.join([w.format(i), info]))\n",
      "/home/antonis/ipythonNotebooks/snorkel-ml/snorkel/learning/disc_models/rnn/rnn_base.py:40: UserWarning: Candidate 777 has argument past max length for model:\t[arg ends at index 117; max len 117]\n",
      "  warnings.warn('\\t'.join([w.format(i), info]))\n",
      "/home/antonis/ipythonNotebooks/snorkel-ml/snorkel/learning/disc_models/rnn/rnn_base.py:40: UserWarning: Candidate 782 has argument past max length for model:\t[arg ends at index 117; max len 117]\n",
      "  warnings.warn('\\t'.join([w.format(i), info]))\n",
      "/home/antonis/ipythonNotebooks/snorkel-ml/snorkel/learning/disc_models/rnn/rnn_base.py:40: UserWarning: Candidate 786 has argument past max length for model:\t[arg ends at index 117; max len 117]\n",
      "  warnings.warn('\\t'.join([w.format(i), info]))\n",
      "/home/antonis/ipythonNotebooks/snorkel-ml/snorkel/learning/disc_models/rnn/rnn_base.py:40: UserWarning: Candidate 136 has argument past max length for model:\t[arg ends at index 131; max len 117]\n",
      "  warnings.warn('\\t'.join([w.format(i), info]))\n",
      "/home/antonis/ipythonNotebooks/snorkel-ml/snorkel/learning/disc_models/rnn/rnn_base.py:40: UserWarning: Candidate 141 has argument past max length for model:\t[arg ends at index 137; max len 117]\n",
      "  warnings.warn('\\t'.join([w.format(i), info]))\n",
      "/home/antonis/ipythonNotebooks/snorkel-ml/snorkel/learning/disc_models/rnn/rnn_base.py:40: UserWarning: Candidate 166 has argument past max length for model:\t[arg ends at index 164; max len 117]\n",
      "  warnings.warn('\\t'.join([w.format(i), info]))\n",
      "/home/antonis/ipythonNotebooks/snorkel-ml/snorkel/learning/disc_models/rnn/rnn_base.py:40: UserWarning: Candidate 169 has argument past max length for model:\t[arg ends at index 131; max len 117]\n",
      "  warnings.warn('\\t'.join([w.format(i), info]))\n",
      "/home/antonis/ipythonNotebooks/snorkel-ml/snorkel/learning/disc_models/rnn/rnn_base.py:40: UserWarning: Candidate 172 has argument past max length for model:\t[arg ends at index 137; max len 117]\n",
      "  warnings.warn('\\t'.join([w.format(i), info]))\n",
      "/home/antonis/ipythonNotebooks/snorkel-ml/snorkel/learning/disc_models/rnn/rnn_base.py:40: UserWarning: Candidate 190 has argument past max length for model:\t[arg ends at index 164; max len 117]\n",
      "  warnings.warn('\\t'.join([w.format(i), info]))\n",
      "/home/antonis/ipythonNotebooks/snorkel-ml/snorkel/learning/disc_models/rnn/rnn_base.py:40: UserWarning: Candidate 194 has argument past max length for model:\t[arg ends at index 131; max len 117]\n",
      "  warnings.warn('\\t'.join([w.format(i), info]))\n",
      "/home/antonis/ipythonNotebooks/snorkel-ml/snorkel/learning/disc_models/rnn/rnn_base.py:40: UserWarning: Candidate 196 has argument past max length for model:\t[arg ends at index 137; max len 117]\n",
      "  warnings.warn('\\t'.join([w.format(i), info]))\n",
      "/home/antonis/ipythonNotebooks/snorkel-ml/snorkel/learning/disc_models/rnn/rnn_base.py:40: UserWarning: Candidate 217 has argument past max length for model:\t[arg ends at index 164; max len 117]\n",
      "  warnings.warn('\\t'.join([w.format(i), info]))\n",
      "/home/antonis/ipythonNotebooks/snorkel-ml/snorkel/learning/disc_models/rnn/rnn_base.py:40: UserWarning: Candidate 220 has argument past max length for model:\t[arg ends at index 160; max len 117]\n",
      "  warnings.warn('\\t'.join([w.format(i), info]))\n",
      "/home/antonis/ipythonNotebooks/snorkel-ml/snorkel/learning/disc_models/rnn/rnn_base.py:40: UserWarning: Candidate 223 has argument past max length for model:\t[arg ends at index 160; max len 117]\n",
      "  warnings.warn('\\t'.join([w.format(i), info]))\n",
      "/home/antonis/ipythonNotebooks/snorkel-ml/snorkel/learning/disc_models/rnn/rnn_base.py:40: UserWarning: Candidate 226 has argument past max length for model:\t[arg ends at index 160; max len 117]\n",
      "  warnings.warn('\\t'.join([w.format(i), info]))\n",
      "/home/antonis/ipythonNotebooks/snorkel-ml/snorkel/learning/disc_models/rnn/rnn_base.py:40: UserWarning: Candidate 233 has argument past max length for model:\t[arg ends at index 160; max len 117]\n",
      "  warnings.warn('\\t'.join([w.format(i), info]))\n",
      "/home/antonis/ipythonNotebooks/snorkel-ml/snorkel/learning/disc_models/rnn/rnn_base.py:40: UserWarning: Candidate 238 has argument past max length for model:\t[arg ends at index 160; max len 117]\n",
      "  warnings.warn('\\t'.join([w.format(i), info]))\n",
      "/home/antonis/ipythonNotebooks/snorkel-ml/snorkel/learning/disc_models/rnn/rnn_base.py:40: UserWarning: Candidate 242 has argument past max length for model:\t[arg ends at index 160; max len 117]\n",
      "  warnings.warn('\\t'.join([w.format(i), info]))\n",
      "/home/antonis/ipythonNotebooks/snorkel-ml/snorkel/learning/disc_models/rnn/rnn_base.py:40: UserWarning: Candidate 248 has argument past max length for model:\t[arg ends at index 160; max len 117]\n",
      "  warnings.warn('\\t'.join([w.format(i), info]))\n",
      "/home/antonis/ipythonNotebooks/snorkel-ml/snorkel/learning/disc_models/rnn/rnn_base.py:40: UserWarning: Candidate 252 has argument past max length for model:\t[arg ends at index 164; max len 117]\n",
      "  warnings.warn('\\t'.join([w.format(i), info]))\n",
      "/home/antonis/ipythonNotebooks/snorkel-ml/snorkel/learning/disc_models/rnn/rnn_base.py:40: UserWarning: Candidate 256 has argument past max length for model:\t[arg ends at index 131; max len 117]\n",
      "  warnings.warn('\\t'.join([w.format(i), info]))\n",
      "/home/antonis/ipythonNotebooks/snorkel-ml/snorkel/learning/disc_models/rnn/rnn_base.py:40: UserWarning: Candidate 261 has argument past max length for model:\t[arg ends at index 137; max len 117]\n",
      "  warnings.warn('\\t'.join([w.format(i), info]))\n",
      "/home/antonis/ipythonNotebooks/snorkel-ml/snorkel/learning/disc_models/rnn/rnn_base.py:40: UserWarning: Candidate 284 has argument past max length for model:\t[arg ends at index 164; max len 117]\n",
      "  warnings.warn('\\t'.join([w.format(i), info]))\n",
      "/home/antonis/ipythonNotebooks/snorkel-ml/snorkel/learning/disc_models/rnn/rnn_base.py:40: UserWarning: Candidate 288 has argument past max length for model:\t[arg ends at index 131; max len 117]\n",
      "  warnings.warn('\\t'.join([w.format(i), info]))\n",
      "/home/antonis/ipythonNotebooks/snorkel-ml/snorkel/learning/disc_models/rnn/rnn_base.py:40: UserWarning: Candidate 293 has argument past max length for model:\t[arg ends at index 137; max len 117]\n",
      "  warnings.warn('\\t'.join([w.format(i), info]))\n",
      "/home/antonis/ipythonNotebooks/snorkel-ml/snorkel/learning/disc_models/rnn/rnn_base.py:40: UserWarning: Candidate 314 has argument past max length for model:\t[arg ends at index 164; max len 117]\n",
      "  warnings.warn('\\t'.join([w.format(i), info]))\n",
      "/home/antonis/ipythonNotebooks/snorkel-ml/snorkel/learning/disc_models/rnn/rnn_base.py:40: UserWarning: Candidate 319 has argument past max length for model:\t[arg ends at index 131; max len 117]\n",
      "  warnings.warn('\\t'.join([w.format(i), info]))\n",
      "/home/antonis/ipythonNotebooks/snorkel-ml/snorkel/learning/disc_models/rnn/rnn_base.py:40: UserWarning: Candidate 321 has argument past max length for model:\t[arg ends at index 137; max len 117]\n",
      "  warnings.warn('\\t'.join([w.format(i), info]))\n",
      "/home/antonis/ipythonNotebooks/snorkel-ml/snorkel/learning/disc_models/rnn/rnn_base.py:40: UserWarning: Candidate 340 has argument past max length for model:\t[arg ends at index 164; max len 117]\n",
      "  warnings.warn('\\t'.join([w.format(i), info]))\n"
     ]
    },
    {
     "name": "stdout",
     "output_type": "stream",
     "text": [
      "<type 'numpy.ndarray'> <type 'list'>\n"
     ]
    },
    {
     "name": "stderr",
     "output_type": "stream",
     "text": [
      "/home/antonis/anaconda2/envs/snorkel27clone/lib/python2.7/site-packages/tensorflow/python/ops/gradients_impl.py:100: UserWarning: Converting sparse IndexedSlices to a dense Tensor of unknown shape. This may consume a large amount of memory.\n",
      "  \"Converting sparse IndexedSlices to a dense Tensor of unknown shape. \"\n"
     ]
    },
    {
     "name": "stdout",
     "output_type": "stream",
     "text": [
      "[reRNN] Training model\n",
      "[reRNN] n_train=3590  #epochs=30  batch size=64\n",
      "[reRNN] Epoch 0 (12.74s)\tAverage loss=0.601955\n",
      "[reRNN] Epoch 1 (25.43s)\tAverage loss=0.387992\n",
      "[reRNN] Epoch 2 (37.68s)\tAverage loss=0.280332\n",
      "[reRNN] Epoch 3 (50.01s)\tAverage loss=0.217201\n",
      "[reRNN] Epoch 4 (62.39s)\tAverage loss=0.180220\n",
      "[reRNN] Epoch 5 (74.81s)\tAverage loss=0.150553\n",
      "[reRNN] Epoch 6 (87.03s)\tAverage loss=0.131595\n",
      "[reRNN] Epoch 7 (99.58s)\tAverage loss=0.120446\n",
      "[reRNN] Epoch 8 (112.31s)\tAverage loss=0.087783\n",
      "[reRNN] Epoch 9 (124.63s)\tAverage loss=0.085367\n",
      "[reRNN] Epoch 10 (137.25s)\tAverage loss=0.067251\n",
      "[reRNN] Epoch 11 (149.99s)\tAverage loss=0.062226\n",
      "[reRNN] Epoch 12 (162.68s)\tAverage loss=0.062162\n",
      "[reRNN] Epoch 13 (175.30s)\tAverage loss=0.053463\n",
      "[reRNN] Epoch 14 (188.13s)\tAverage loss=0.032632\n",
      "[reRNN] Epoch 15 (200.68s)\tAverage loss=0.027650\n",
      "[reRNN] Epoch 16 (213.19s)\tAverage loss=0.038018\n",
      "[reRNN] Epoch 17 (225.67s)\tAverage loss=0.037927\n",
      "[reRNN] Epoch 18 (238.51s)\tAverage loss=0.035303\n",
      "[reRNN] Epoch 19 (251.15s)\tAverage loss=0.038388\n",
      "[reRNN] Epoch 20 (263.93s)\tAverage loss=0.045202\n",
      "[reRNN] Epoch 21 (276.39s)\tAverage loss=0.031605\n",
      "[reRNN] Epoch 22 (288.96s)\tAverage loss=0.030147\n",
      "[reRNN] Epoch 23 (301.37s)\tAverage loss=0.019525\n",
      "[reRNN] Epoch 24 (314.35s)\tAverage loss=0.020991\n",
      "[reRNN] Epoch 25 (327.12s)\tAverage loss=0.021494\n",
      "[reRNN] Epoch 26 (341.04s)\tAverage loss=0.028524\n",
      "[reRNN] Epoch 27 (361.86s)\tAverage loss=0.034765\n",
      "[reRNN] Epoch 28 (383.13s)\tAverage loss=0.043361\n",
      "[reRNN] Epoch 29 (404.91s)\tAverage loss=0.032467\n",
      "[reRNN] Training done (404.91s)\n",
      "MSE: [-0.24744570575715338]\n",
      "F1: [0.4943968358602505]\n",
      "MSE: [-0.24744570575715338, -0.2488729433078483]\n",
      "F1: [0.4943968358602505, 0.4996746909564086]\n",
      "MSE: [-0.24744570575715338, -0.2488729433078483, -0.24582384850803027]\n",
      "F1: [0.4943968358602505, 0.4996746909564086, 0.4792939579090292]\n",
      "<type 'numpy.ndarray'> <type 'list'>\n"
     ]
    },
    {
     "name": "stderr",
     "output_type": "stream",
     "text": [
      "/home/antonis/anaconda2/envs/snorkel27clone/lib/python2.7/site-packages/tensorflow/python/ops/gradients_impl.py:100: UserWarning: Converting sparse IndexedSlices to a dense Tensor of unknown shape. This may consume a large amount of memory.\n",
      "  \"Converting sparse IndexedSlices to a dense Tensor of unknown shape. \"\n"
     ]
    },
    {
     "name": "stdout",
     "output_type": "stream",
     "text": [
      "[reRNN] Training model\n",
      "[reRNN] n_train=4546  #epochs=30  batch size=64\n",
      "[reRNN] Epoch 0 (27.48s)\tAverage loss=0.606187\n",
      "[reRNN] Epoch 1 (55.10s)\tAverage loss=0.377758\n",
      "[reRNN] Epoch 2 (82.45s)\tAverage loss=0.289099\n",
      "[reRNN] Epoch 3 (110.19s)\tAverage loss=0.237183\n",
      "[reRNN] Epoch 4 (141.93s)\tAverage loss=0.193000\n",
      "[reRNN] Epoch 5 (170.10s)\tAverage loss=0.148842\n",
      "[reRNN] Epoch 6 (197.50s)\tAverage loss=0.126910\n",
      "[reRNN] Epoch 7 (224.61s)\tAverage loss=0.104139\n",
      "[reRNN] Epoch 8 (251.52s)\tAverage loss=0.101550\n",
      "[reRNN] Epoch 9 (278.34s)\tAverage loss=0.096568\n",
      "[reRNN] Epoch 10 (305.50s)\tAverage loss=0.072535\n",
      "[reRNN] Epoch 11 (335.25s)\tAverage loss=0.062422\n",
      "[reRNN] Epoch 12 (365.05s)\tAverage loss=0.042195\n",
      "[reRNN] Epoch 13 (390.56s)\tAverage loss=0.030116\n",
      "[reRNN] Epoch 14 (417.96s)\tAverage loss=0.027809\n",
      "[reRNN] Epoch 15 (447.57s)\tAverage loss=0.031367\n",
      "[reRNN] Epoch 16 (476.69s)\tAverage loss=0.049322\n",
      "[reRNN] Epoch 17 (505.08s)\tAverage loss=0.039475\n",
      "[reRNN] Epoch 18 (532.87s)\tAverage loss=0.060422\n",
      "[reRNN] Epoch 19 (560.87s)\tAverage loss=0.058585\n",
      "[reRNN] Epoch 20 (588.46s)\tAverage loss=0.059651\n",
      "[reRNN] Epoch 21 (616.34s)\tAverage loss=0.049520\n",
      "[reRNN] Epoch 22 (644.47s)\tAverage loss=0.055379\n",
      "[reRNN] Epoch 23 (672.37s)\tAverage loss=0.040388\n",
      "[reRNN] Epoch 24 (700.04s)\tAverage loss=0.038468\n",
      "[reRNN] Epoch 25 (727.47s)\tAverage loss=0.030095\n",
      "[reRNN] Epoch 26 (755.32s)\tAverage loss=0.031483\n",
      "[reRNN] Epoch 27 (783.33s)\tAverage loss=0.021183\n",
      "[reRNN] Epoch 28 (811.35s)\tAverage loss=0.025206\n",
      "[reRNN] Epoch 29 (838.94s)\tAverage loss=0.044515\n",
      "[reRNN] Training done (838.94s)\n",
      "MSE: [-0.27870475083737745]\n",
      "F1: [0.4784172661870503]\n",
      "MSE: [-0.27870475083737745, -0.2620668137100332]\n",
      "F1: [0.4784172661870503, 0.5051235684147077]\n",
      "MSE: [-0.27870475083737745, -0.2620668137100332, -0.26344927043368027]\n",
      "F1: [0.4784172661870503, 0.5051235684147077, 0.49331713244228437]\n",
      "<type 'numpy.ndarray'> <type 'list'>\n"
     ]
    },
    {
     "name": "stderr",
     "output_type": "stream",
     "text": [
      "/home/antonis/anaconda2/envs/snorkel27clone/lib/python2.7/site-packages/tensorflow/python/ops/gradients_impl.py:100: UserWarning: Converting sparse IndexedSlices to a dense Tensor of unknown shape. This may consume a large amount of memory.\n",
      "  \"Converting sparse IndexedSlices to a dense Tensor of unknown shape. \"\n"
     ]
    },
    {
     "name": "stdout",
     "output_type": "stream",
     "text": [
      "[reRNN] Training model\n",
      "[reRNN] n_train=5546  #epochs=30  batch size=64\n",
      "[reRNN] Epoch 0 (35.20s)\tAverage loss=0.602684\n",
      "[reRNN] Epoch 1 (69.71s)\tAverage loss=0.379638\n",
      "[reRNN] Epoch 2 (104.06s)\tAverage loss=0.293787\n",
      "[reRNN] Epoch 3 (138.29s)\tAverage loss=0.227558\n",
      "[reRNN] Epoch 4 (172.71s)\tAverage loss=0.173088\n",
      "[reRNN] Epoch 5 (207.15s)\tAverage loss=0.135504\n",
      "[reRNN] Epoch 6 (241.72s)\tAverage loss=0.118027\n",
      "[reRNN] Epoch 7 (276.19s)\tAverage loss=0.082613\n",
      "[reRNN] Epoch 8 (311.14s)\tAverage loss=0.064406\n",
      "[reRNN] Epoch 9 (345.28s)\tAverage loss=0.059423\n",
      "[reRNN] Epoch 10 (379.71s)\tAverage loss=0.067577\n",
      "[reRNN] Epoch 11 (414.02s)\tAverage loss=0.042721\n",
      "[reRNN] Epoch 12 (453.08s)\tAverage loss=0.026311\n",
      "[reRNN] Epoch 13 (492.24s)\tAverage loss=0.030640\n",
      "[reRNN] Epoch 14 (526.46s)\tAverage loss=0.027157\n",
      "[reRNN] Epoch 15 (560.72s)\tAverage loss=0.020598\n",
      "[reRNN] Epoch 16 (594.98s)\tAverage loss=0.028824\n",
      "[reRNN] Epoch 17 (629.28s)\tAverage loss=0.044524\n",
      "[reRNN] Epoch 18 (663.13s)\tAverage loss=0.036952\n",
      "[reRNN] Epoch 19 (697.38s)\tAverage loss=0.034001\n",
      "[reRNN] Epoch 20 (731.74s)\tAverage loss=0.021459\n",
      "[reRNN] Epoch 21 (766.13s)\tAverage loss=0.032261\n",
      "[reRNN] Epoch 22 (800.42s)\tAverage loss=0.034452\n",
      "[reRNN] Epoch 23 (835.07s)\tAverage loss=0.054537\n",
      "[reRNN] Epoch 24 (868.78s)\tAverage loss=0.052184\n",
      "[reRNN] Epoch 25 (903.70s)\tAverage loss=0.051557\n",
      "[reRNN] Epoch 26 (937.62s)\tAverage loss=0.029778\n",
      "[reRNN] Epoch 27 (971.69s)\tAverage loss=0.017505\n",
      "[reRNN] Epoch 28 (1006.20s)\tAverage loss=0.024293\n",
      "[reRNN] Epoch 29 (1040.13s)\tAverage loss=0.034653\n",
      "[reRNN] Training done (1040.13s)\n",
      "MSE: [-0.23609476603035864]\n",
      "F1: [0.5051334702258727]\n",
      "MSE: [-0.23609476603035864, -0.23666804163679175]\n",
      "F1: [0.5051334702258727, 0.5110073382254837]\n",
      "MSE: [-0.23609476603035864, -0.23666804163679175, -0.2436238399520504]\n",
      "F1: [0.5051334702258727, 0.5110073382254837, 0.4643874643874644]\n",
      "<type 'numpy.ndarray'> <type 'list'>\n"
     ]
    },
    {
     "name": "stderr",
     "output_type": "stream",
     "text": [
      "/home/antonis/anaconda2/envs/snorkel27clone/lib/python2.7/site-packages/tensorflow/python/ops/gradients_impl.py:100: UserWarning: Converting sparse IndexedSlices to a dense Tensor of unknown shape. This may consume a large amount of memory.\n",
      "  \"Converting sparse IndexedSlices to a dense Tensor of unknown shape. \"\n"
     ]
    },
    {
     "name": "stdout",
     "output_type": "stream",
     "text": [
      "[reRNN] Training model\n",
      "[reRNN] n_train=6572  #epochs=30  batch size=64\n",
      "[reRNN] Epoch 0 (44.13s)\tAverage loss=0.574959\n",
      "[reRNN] Epoch 1 (88.12s)\tAverage loss=0.371685\n",
      "[reRNN] Epoch 2 (132.05s)\tAverage loss=0.281987\n",
      "[reRNN] Epoch 3 (175.58s)\tAverage loss=0.213470\n",
      "[reRNN] Epoch 4 (219.17s)\tAverage loss=0.171370\n",
      "[reRNN] Epoch 5 (263.06s)\tAverage loss=0.132805\n",
      "[reRNN] Epoch 6 (306.97s)\tAverage loss=0.110676\n",
      "[reRNN] Epoch 7 (350.45s)\tAverage loss=0.089528\n",
      "[reRNN] Epoch 8 (394.17s)\tAverage loss=0.073980\n",
      "[reRNN] Epoch 9 (437.21s)\tAverage loss=0.077141\n",
      "[reRNN] Epoch 10 (480.50s)\tAverage loss=0.071756\n",
      "[reRNN] Epoch 11 (523.10s)\tAverage loss=0.058080\n",
      "[reRNN] Epoch 12 (567.06s)\tAverage loss=0.050128\n",
      "[reRNN] Epoch 13 (610.01s)\tAverage loss=0.046591\n",
      "[reRNN] Epoch 14 (662.10s)\tAverage loss=0.044810\n",
      "[reRNN] Epoch 15 (711.43s)\tAverage loss=0.056207\n",
      "[reRNN] Epoch 16 (753.97s)\tAverage loss=0.052023\n",
      "[reRNN] Epoch 17 (797.15s)\tAverage loss=0.052287\n",
      "[reRNN] Epoch 18 (840.22s)\tAverage loss=0.054826\n",
      "[reRNN] Epoch 19 (882.86s)\tAverage loss=0.052813\n",
      "[reRNN] Epoch 20 (926.55s)\tAverage loss=0.044739\n",
      "[reRNN] Epoch 21 (969.70s)\tAverage loss=0.035035\n",
      "[reRNN] Epoch 22 (1013.38s)\tAverage loss=0.026479\n",
      "[reRNN] Epoch 23 (1056.71s)\tAverage loss=0.024425\n",
      "[reRNN] Epoch 24 (1100.12s)\tAverage loss=0.026030\n",
      "[reRNN] Epoch 25 (1143.04s)\tAverage loss=0.031622\n",
      "[reRNN] Epoch 26 (1186.45s)\tAverage loss=0.037561\n",
      "[reRNN] Epoch 27 (1228.99s)\tAverage loss=0.033122\n",
      "[reRNN] Epoch 28 (1272.79s)\tAverage loss=0.028540\n",
      "[reRNN] Epoch 29 (1316.76s)\tAverage loss=0.035042\n",
      "[reRNN] Training done (1316.77s)\n",
      "MSE: [-0.22013934731956833]\n",
      "F1: [0.5455773126266036]\n",
      "MSE: [-0.22013934731956833, -0.2283622944124996]\n",
      "F1: [0.5455773126266036, 0.5449770190413656]\n",
      "MSE: [-0.22013934731956833, -0.2283622944124996, -0.23355383841164862]\n",
      "F1: [0.5455773126266036, 0.5449770190413656, 0.49372384937238495]\n"
     ]
    }
   ],
   "source": [
    "\n",
    "train_sizes, train_mse, train_f1, valid_mse , valid_f1 , test_prf1 = custom_learning_curve(\n",
    "    reRNN(seed = 1701), \n",
    "    X_increm = unlab_cands, y_increm = unlab_labels, \n",
    "    X_val = test_cands, y_val = test_labels, \n",
    "    X_init= train_cands, y_init= train_labels,\n",
    "    X_test = test_cands, y_test = test_labels, \n",
    "    fit_params = train_kwargs,\n",
    "#                       splt_sizes=np.array([0.1, 0.5, 1.  ])\n",
    "                     )\n"
   ]
  },
  {
   "cell_type": "markdown",
   "metadata": {},
   "source": [
    "# ^^^ TODO:: save the log above ^^"
   ]
  },
  {
   "cell_type": "code",
   "execution_count": 41,
   "metadata": {},
   "outputs": [],
   "source": [
    "# with open('../'+pkl_paths+\"learning_curves/lstm_GoldLabels_30_epochs.pickle\",'wb') as f:\n",
    "#     pickle.dump((train_sizes, train_mse, train_f1, valid_mse , valid_f1 , test_prf1), f)"
   ]
  },
  {
   "cell_type": "code",
   "execution_count": null,
   "metadata": {},
   "outputs": [],
   "source": []
  }
 ],
 "metadata": {
  "kernelspec": {
   "display_name": "Python [conda env:snorkel27clone]",
   "language": "python",
   "name": "conda-env-snorkel27clone-py"
  },
  "language_info": {
   "codemirror_mode": {
    "name": "ipython",
    "version": 2
   },
   "file_extension": ".py",
   "mimetype": "text/x-python",
   "name": "python",
   "nbconvert_exporter": "python",
   "pygments_lexer": "ipython2",
   "version": "2.7.15"
  }
 },
 "nbformat": 4,
 "nbformat_minor": 2
}
