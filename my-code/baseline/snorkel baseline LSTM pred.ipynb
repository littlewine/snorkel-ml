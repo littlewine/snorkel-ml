{
 "cells": [
  {
   "cell_type": "code",
   "execution_count": 1,
   "metadata": {},
   "outputs": [
    {
     "name": "stderr",
     "output_type": "stream",
     "text": [
      "/home/antonis/anaconda2/envs/snorkel27clone/lib/python2.7/site-packages/psycopg2/__init__.py:144: UserWarning: The psycopg2 wheel package will be renamed from release 2.8; in order to keep installing from binary please use \"pip install psycopg2-binary\" instead. For details see: <http://initd.org/psycopg/docs/install.html#binary-install-from-pypi>.\n",
      "  \"\"\")\n"
     ]
    }
   ],
   "source": [
    "%load_ext autoreload\n",
    "%autoreload 2\n",
    "%matplotlib inline\n",
    "%run ../init.py"
   ]
  },
  {
   "cell_type": "code",
   "execution_count": 4,
   "metadata": {},
   "outputs": [],
   "source": [
    "import pickle\n",
    "from sqlalchemy import  or_, and_,any_"
   ]
  },
  {
   "cell_type": "code",
   "execution_count": null,
   "metadata": {},
   "outputs": [],
   "source": [
    "import re\n",
    "from io import StringIO\n",
    "\n",
    "def report_to_df(report):\n",
    "    report = re.sub(r\" +\", \" \", report).replace(\"avg / total\", \"avg/total\").replace(\"\\n \", \"\\n\")\n",
    "    report_df = pd.read_csv(StringIO(\"Classes\" + report), sep=' ', index_col=0)        \n",
    "    return(report_df)\n"
   ]
  },
  {
   "cell_type": "code",
   "execution_count": null,
   "metadata": {},
   "outputs": [],
   "source": []
  },
  {
   "cell_type": "code",
   "execution_count": 5,
   "metadata": {},
   "outputs": [],
   "source": [
    "with open('../candidates_TrainValTestOutgoing.pickle', 'rb') as f:\n",
    "    cands = pickle.load(f)"
   ]
  },
  {
   "cell_type": "code",
   "execution_count": null,
   "metadata": {},
   "outputs": [],
   "source": []
  },
  {
   "cell_type": "markdown",
   "metadata": {},
   "source": [
    "# Drop the unmapped labels"
   ]
  },
  {
   "cell_type": "code",
   "execution_count": 7,
   "metadata": {},
   "outputs": [
    {
     "name": "stdout",
     "output_type": "stream",
     "text": [
      "12987\n",
      "0\n",
      "3230\n",
      "0\n",
      "8335\n",
      "0\n"
     ]
    }
   ],
   "source": [
    "for k in range (3):\n",
    "    print session.query(REGULATOR).filter(and_(REGULATOR.split == k, REGULATOR.gold_labels.any())).count()\n",
    "    print session.query(REGULATOR).filter(and_(REGULATOR.split == k, ~REGULATOR.gold_labels.any())).count()"
   ]
  },
  {
   "cell_type": "code",
   "execution_count": null,
   "metadata": {},
   "outputs": [],
   "source": []
  },
  {
   "cell_type": "markdown",
   "metadata": {},
   "source": [
    "## Load & balance dataset"
   ]
  },
  {
   "cell_type": "code",
   "execution_count": 8,
   "metadata": {},
   "outputs": [],
   "source": [
    "from snorkel.annotations import load_gold_labels,load_marginals"
   ]
  },
  {
   "cell_type": "code",
   "execution_count": 9,
   "metadata": {},
   "outputs": [],
   "source": [
    "from snorkel.annotations import load_marginals\n",
    "\n",
    "train_cands  = session.query(REGULATOR).filter(REGULATOR.split == 0).all()\n",
    "val_cands  = session.query(REGULATOR).filter(REGULATOR.split == 1).all()\n",
    "test_cands  = session.query(REGULATOR).filter(REGULATOR.split == 2).all()\n",
    "unlab_cands = session.query(REGULATOR).filter(REGULATOR.split == 3).all()\n",
    "\n",
    "# train_marginals = load_marginals(session, split=0)\n",
    "# # val_marginals = load_marginals(session, split=1)\n",
    "# # test_marginals = load_marginals(session, split=2)\n",
    "# # unlab_marginals = load_marginals(session, split=3)\n",
    "\n",
    "# # L_gold_train = load_gold_labels(session, annotator_name='gold', split=0, load_as_array=True, zero_one=True)\n",
    "L_gold_train  = load_gold_labels(session, annotator_name='gold', split=0, load_as_array=True, zero_one=True)\n",
    "L_gold_val  = load_gold_labels(session, annotator_name='gold', split=1, load_as_array=True, zero_one=True)\n",
    "# L_gold_test = load_gold_labels(session, annotator_name='gold', split=2, load_as_array=True, zero_one=True)"
   ]
  },
  {
   "cell_type": "code",
   "execution_count": 10,
   "metadata": {},
   "outputs": [],
   "source": [
    "# also copied in ../MLutils.py\n",
    "\n",
    "from sklearn.utils import shuffle\n",
    "from imblearn.under_sampling import RandomUnderSampler\n",
    "import pandas as pd\n",
    "import numpy as np\n",
    "\n",
    "def balance_candidates(cands, marginals, rs = 42):\n",
    "    \"\"\"Balance and shuffle candidates along with their (prob) labels.\n",
    "    \n",
    "    cands: list of candidate objects\n",
    "    marginals: list of marginal (or not) labels\n",
    "    rs: int: random_state (used in RandomUnderSampler and sklearn.utils.shuffle) \n",
    "    \"\"\"\n",
    "    rus = RandomUnderSampler(random_state=rs,return_indices=True)\n",
    "    marginals_01 = np.round(marginals)\n",
    "\n",
    "    _,_, indices = rus.fit_sample(pd.DataFrame(marginals), np.round(marginals))\n",
    "\n",
    "    # shuffle indices\n",
    "    indices = shuffle(indices, random_state = rs)\n",
    "\n",
    "    # keep only selected items\n",
    "    cands_us = [cands[i] for i in indices]\n",
    "    marginals_us = [marginals[i] for i in indices]\n",
    "    \n",
    "    return cands_us, np.array(marginals_us)"
   ]
  },
  {
   "cell_type": "code",
   "execution_count": null,
   "metadata": {},
   "outputs": [],
   "source": []
  },
  {
   "cell_type": "code",
   "execution_count": 11,
   "metadata": {},
   "outputs": [],
   "source": [
    "train_cands_us, train_labels_us = balance_candidates(train_cands,L_gold_train)"
   ]
  },
  {
   "cell_type": "code",
   "execution_count": null,
   "metadata": {},
   "outputs": [],
   "source": []
  },
  {
   "cell_type": "markdown",
   "metadata": {},
   "source": [
    "# LSTM training"
   ]
  },
  {
   "cell_type": "code",
   "execution_count": 13,
   "metadata": {},
   "outputs": [],
   "source": [
    "from snorkel.learning import GridSearch\n",
    "from snorkel.learning import reRNN"
   ]
  },
  {
   "cell_type": "code",
   "execution_count": 14,
   "metadata": {},
   "outputs": [
    {
     "data": {
      "image/png": "[encoded data removed]",
      "text/plain": [
       "<Figure size 432x288 with 1 Axes>"
      ]
     },
     "metadata": {},
     "output_type": "display_data"
    }
   ],
   "source": [
    "import matplotlib.pyplot as plt\n",
    "plt.hist(train_labels_us, bins=20)\n",
    "plt.title('Training candidates to be applied')\n",
    "plt.show()"
   ]
  },
  {
   "cell_type": "code",
   "execution_count": 15,
   "metadata": {},
   "outputs": [],
   "source": [
    "\n",
    "#    dropout  batch_size  n_epochs     lr  max_sentence_length  rebalance  \\\n",
    "# 2     0.25          32        20  0.001                  128       0.25   \n",
    "# 8     0.25          32         5  0.001                   64       0.25"
   ]
  },
  {
   "cell_type": "code",
   "execution_count": null,
   "metadata": {},
   "outputs": [],
   "source": []
  },
  {
   "cell_type": "code",
   "execution_count": 16,
   "metadata": {
    "scrolled": true
   },
   "outputs": [
    {
     "name": "stderr",
     "output_type": "stream",
     "text": [
      "/home/antonis/ipythonNotebooks/snorkel-ml/snorkel/learning/disc_models/rnn/rnn_base.py:40: UserWarning: Candidate 40 has argument past max length for model:\t[arg ends at index 66; max len 64]\n",
      "  warnings.warn('\\t'.join([w.format(i), info]))\n",
      "/home/antonis/ipythonNotebooks/snorkel-ml/snorkel/learning/disc_models/rnn/rnn_base.py:40: UserWarning: Candidate 148 has argument past max length for model:\t[arg ends at index 67; max len 64]\n",
      "  warnings.warn('\\t'.join([w.format(i), info]))\n",
      "/home/antonis/ipythonNotebooks/snorkel-ml/snorkel/learning/disc_models/rnn/rnn_base.py:40: UserWarning: Candidate 202 has argument past max length for model:\t[arg ends at index 66; max len 64]\n",
      "  warnings.warn('\\t'.join([w.format(i), info]))\n",
      "/home/antonis/ipythonNotebooks/snorkel-ml/snorkel/learning/disc_models/rnn/rnn_base.py:40: UserWarning: Candidate 219 has argument past max length for model:\t[arg ends at index 94; max len 64]\n",
      "  warnings.warn('\\t'.join([w.format(i), info]))\n",
      "/home/antonis/ipythonNotebooks/snorkel-ml/snorkel/learning/disc_models/rnn/rnn_base.py:40: UserWarning: Candidate 221 has argument past max length for model:\t[arg ends at index 82; max len 64]\n",
      "  warnings.warn('\\t'.join([w.format(i), info]))\n",
      "/home/antonis/ipythonNotebooks/snorkel-ml/snorkel/learning/disc_models/rnn/rnn_base.py:40: UserWarning: Candidate 250 has argument past max length for model:\t[arg ends at index 84; max len 64]\n",
      "  warnings.warn('\\t'.join([w.format(i), info]))\n",
      "/home/antonis/ipythonNotebooks/snorkel-ml/snorkel/learning/disc_models/rnn/rnn_base.py:40: UserWarning: Candidate 258 has argument past max length for model:\t[arg ends at index 75; max len 64]\n",
      "  warnings.warn('\\t'.join([w.format(i), info]))\n",
      "/home/antonis/ipythonNotebooks/snorkel-ml/snorkel/learning/disc_models/rnn/rnn_base.py:40: UserWarning: Candidate 260 has argument past max length for model:\t[arg ends at index 66; max len 64]\n",
      "  warnings.warn('\\t'.join([w.format(i), info]))\n",
      "/home/antonis/ipythonNotebooks/snorkel-ml/snorkel/learning/disc_models/rnn/rnn_base.py:40: UserWarning: Candidate 345 has argument past max length for model:\t[arg ends at index 75; max len 64]\n",
      "  warnings.warn('\\t'.join([w.format(i), info]))\n",
      "/home/antonis/ipythonNotebooks/snorkel-ml/snorkel/learning/disc_models/rnn/rnn_base.py:40: UserWarning: Candidate 400 has argument past max length for model:\t[arg ends at index 78; max len 64]\n",
      "  warnings.warn('\\t'.join([w.format(i), info]))\n",
      "/home/antonis/ipythonNotebooks/snorkel-ml/snorkel/learning/disc_models/rnn/rnn_base.py:40: UserWarning: Candidate 431 has argument past max length for model:\t[arg ends at index 68; max len 64]\n",
      "  warnings.warn('\\t'.join([w.format(i), info]))\n",
      "/home/antonis/ipythonNotebooks/snorkel-ml/snorkel/learning/disc_models/rnn/rnn_base.py:40: UserWarning: Candidate 470 has argument past max length for model:\t[arg ends at index 113; max len 64]\n",
      "  warnings.warn('\\t'.join([w.format(i), info]))\n",
      "/home/antonis/ipythonNotebooks/snorkel-ml/snorkel/learning/disc_models/rnn/rnn_base.py:40: UserWarning: Candidate 479 has argument past max length for model:\t[arg ends at index 104; max len 64]\n",
      "  warnings.warn('\\t'.join([w.format(i), info]))\n",
      "/home/antonis/ipythonNotebooks/snorkel-ml/snorkel/learning/disc_models/rnn/rnn_base.py:40: UserWarning: Candidate 537 has argument past max length for model:\t[arg ends at index 80; max len 64]\n",
      "  warnings.warn('\\t'.join([w.format(i), info]))\n",
      "/home/antonis/ipythonNotebooks/snorkel-ml/snorkel/learning/disc_models/rnn/rnn_base.py:40: UserWarning: Candidate 547 has argument past max length for model:\t[arg ends at index 77; max len 64]\n",
      "  warnings.warn('\\t'.join([w.format(i), info]))\n",
      "/home/antonis/ipythonNotebooks/snorkel-ml/snorkel/learning/disc_models/rnn/rnn_base.py:40: UserWarning: Candidate 548 has argument past max length for model:\t[arg ends at index 73; max len 64]\n",
      "  warnings.warn('\\t'.join([w.format(i), info]))\n",
      "/home/antonis/ipythonNotebooks/snorkel-ml/snorkel/learning/disc_models/rnn/rnn_base.py:40: UserWarning: Candidate 601 has argument past max length for model:\t[arg ends at index 64; max len 64]\n",
      "  warnings.warn('\\t'.join([w.format(i), info]))\n",
      "/home/antonis/ipythonNotebooks/snorkel-ml/snorkel/learning/disc_models/rnn/rnn_base.py:40: UserWarning: Candidate 616 has argument past max length for model:\t[arg ends at index 73; max len 64]\n",
      "  warnings.warn('\\t'.join([w.format(i), info]))\n",
      "/home/antonis/ipythonNotebooks/snorkel-ml/snorkel/learning/disc_models/rnn/rnn_base.py:40: UserWarning: Candidate 631 has argument past max length for model:\t[arg ends at index 95; max len 64]\n",
      "  warnings.warn('\\t'.join([w.format(i), info]))\n",
      "/home/antonis/ipythonNotebooks/snorkel-ml/snorkel/learning/disc_models/rnn/rnn_base.py:40: UserWarning: Candidate 639 has argument past max length for model:\t[arg ends at index 83; max len 64]\n",
      "  warnings.warn('\\t'.join([w.format(i), info]))\n",
      "/home/antonis/ipythonNotebooks/snorkel-ml/snorkel/learning/disc_models/rnn/rnn_base.py:40: UserWarning: Candidate 700 has argument past max length for model:\t[arg ends at index 72; max len 64]\n",
      "  warnings.warn('\\t'.join([w.format(i), info]))\n",
      "/home/antonis/ipythonNotebooks/snorkel-ml/snorkel/learning/disc_models/rnn/rnn_base.py:40: UserWarning: Candidate 762 has argument past max length for model:\t[arg ends at index 69; max len 64]\n",
      "  warnings.warn('\\t'.join([w.format(i), info]))\n",
      "/home/antonis/ipythonNotebooks/snorkel-ml/snorkel/learning/disc_models/rnn/rnn_base.py:40: UserWarning: Candidate 809 has argument past max length for model:\t[arg ends at index 75; max len 64]\n",
      "  warnings.warn('\\t'.join([w.format(i), info]))\n",
      "/home/antonis/ipythonNotebooks/snorkel-ml/snorkel/learning/disc_models/rnn/rnn_base.py:40: UserWarning: Candidate 821 has argument past max length for model:\t[arg ends at index 87; max len 64]\n",
      "  warnings.warn('\\t'.join([w.format(i), info]))\n",
      "/home/antonis/ipythonNotebooks/snorkel-ml/snorkel/learning/disc_models/rnn/rnn_base.py:40: UserWarning: Candidate 846 has argument past max length for model:\t[arg ends at index 100; max len 64]\n",
      "  warnings.warn('\\t'.join([w.format(i), info]))\n",
      "/home/antonis/ipythonNotebooks/snorkel-ml/snorkel/learning/disc_models/rnn/rnn_base.py:40: UserWarning: Candidate 911 has argument past max length for model:\t[arg ends at index 71; max len 64]\n",
      "  warnings.warn('\\t'.join([w.format(i), info]))\n",
      "/home/antonis/ipythonNotebooks/snorkel-ml/snorkel/learning/disc_models/rnn/rnn_base.py:40: UserWarning: Candidate 1093 has argument past max length for model:\t[arg ends at index 64; max len 64]\n",
      "  warnings.warn('\\t'.join([w.format(i), info]))\n",
      "/home/antonis/ipythonNotebooks/snorkel-ml/snorkel/learning/disc_models/rnn/rnn_base.py:40: UserWarning: Candidate 1095 has argument past max length for model:\t[arg ends at index 72; max len 64]\n",
      "  warnings.warn('\\t'.join([w.format(i), info]))\n",
      "/home/antonis/ipythonNotebooks/snorkel-ml/snorkel/learning/disc_models/rnn/rnn_base.py:40: UserWarning: Candidate 1130 has argument past max length for model:\t[arg ends at index 79; max len 64]\n",
      "  warnings.warn('\\t'.join([w.format(i), info]))\n",
      "/home/antonis/ipythonNotebooks/snorkel-ml/snorkel/learning/disc_models/rnn/rnn_base.py:40: UserWarning: Candidate 1181 has argument past max length for model:\t[arg ends at index 95; max len 64]\n",
      "  warnings.warn('\\t'.join([w.format(i), info]))\n",
      "/home/antonis/ipythonNotebooks/snorkel-ml/snorkel/learning/disc_models/rnn/rnn_base.py:40: UserWarning: Candidate 1191 has argument past max length for model:\t[arg ends at index 76; max len 64]\n",
      "  warnings.warn('\\t'.join([w.format(i), info]))\n",
      "/home/antonis/ipythonNotebooks/snorkel-ml/snorkel/learning/disc_models/rnn/rnn_base.py:40: UserWarning: Candidate 1215 has argument past max length for model:\t[arg ends at index 79; max len 64]\n",
      "  warnings.warn('\\t'.join([w.format(i), info]))\n",
      "/home/antonis/ipythonNotebooks/snorkel-ml/snorkel/learning/disc_models/rnn/rnn_base.py:40: UserWarning: Candidate 1234 has argument past max length for model:\t[arg ends at index 119; max len 64]\n",
      "  warnings.warn('\\t'.join([w.format(i), info]))\n",
      "/home/antonis/ipythonNotebooks/snorkel-ml/snorkel/learning/disc_models/rnn/rnn_base.py:40: UserWarning: Candidate 1236 has argument past max length for model:\t[arg ends at index 67; max len 64]\n",
      "  warnings.warn('\\t'.join([w.format(i), info]))\n",
      "/home/antonis/ipythonNotebooks/snorkel-ml/snorkel/learning/disc_models/rnn/rnn_base.py:40: UserWarning: Candidate 1238 has argument past max length for model:\t[arg ends at index 75; max len 64]\n",
      "  warnings.warn('\\t'.join([w.format(i), info]))\n",
      "/home/antonis/ipythonNotebooks/snorkel-ml/snorkel/learning/disc_models/rnn/rnn_base.py:40: UserWarning: Candidate 1307 has argument past max length for model:\t[arg ends at index 166; max len 64]\n",
      "  warnings.warn('\\t'.join([w.format(i), info]))\n",
      "/home/antonis/ipythonNotebooks/snorkel-ml/snorkel/learning/disc_models/rnn/rnn_base.py:40: UserWarning: Candidate 1308 has argument past max length for model:\t[arg ends at index 64; max len 64]\n",
      "  warnings.warn('\\t'.join([w.format(i), info]))\n",
      "/home/antonis/ipythonNotebooks/snorkel-ml/snorkel/learning/disc_models/rnn/rnn_base.py:40: UserWarning: Candidate 1341 has argument past max length for model:\t[arg ends at index 64; max len 64]\n",
      "  warnings.warn('\\t'.join([w.format(i), info]))\n",
      "/home/antonis/ipythonNotebooks/snorkel-ml/snorkel/learning/disc_models/rnn/rnn_base.py:40: UserWarning: Candidate 1364 has argument past max length for model:\t[arg ends at index 66; max len 64]\n",
      "  warnings.warn('\\t'.join([w.format(i), info]))\n",
      "/home/antonis/ipythonNotebooks/snorkel-ml/snorkel/learning/disc_models/rnn/rnn_base.py:40: UserWarning: Candidate 1371 has argument past max length for model:\t[arg ends at index 72; max len 64]\n",
      "  warnings.warn('\\t'.join([w.format(i), info]))\n",
      "/home/antonis/ipythonNotebooks/snorkel-ml/snorkel/learning/disc_models/rnn/rnn_base.py:40: UserWarning: Candidate 1421 has argument past max length for model:\t[arg ends at index 65; max len 64]\n",
      "  warnings.warn('\\t'.join([w.format(i), info]))\n",
      "/home/antonis/ipythonNotebooks/snorkel-ml/snorkel/learning/disc_models/rnn/rnn_base.py:40: UserWarning: Candidate 1437 has argument past max length for model:\t[arg ends at index 64; max len 64]\n",
      "  warnings.warn('\\t'.join([w.format(i), info]))\n",
      "/home/antonis/ipythonNotebooks/snorkel-ml/snorkel/learning/disc_models/rnn/rnn_base.py:40: UserWarning: Candidate 1484 has argument past max length for model:\t[arg ends at index 99; max len 64]\n",
      "  warnings.warn('\\t'.join([w.format(i), info]))\n",
      "/home/antonis/ipythonNotebooks/snorkel-ml/snorkel/learning/disc_models/rnn/rnn_base.py:40: UserWarning: Candidate 1485 has argument past max length for model:\t[arg ends at index 126; max len 64]\n",
      "  warnings.warn('\\t'.join([w.format(i), info]))\n",
      "/home/antonis/ipythonNotebooks/snorkel-ml/snorkel/learning/disc_models/rnn/rnn_base.py:40: UserWarning: Candidate 1521 has argument past max length for model:\t[arg ends at index 69; max len 64]\n",
      "  warnings.warn('\\t'.join([w.format(i), info]))\n",
      "/home/antonis/ipythonNotebooks/snorkel-ml/snorkel/learning/disc_models/rnn/rnn_base.py:40: UserWarning: Candidate 1567 has argument past max length for model:\t[arg ends at index 68; max len 64]\n",
      "  warnings.warn('\\t'.join([w.format(i), info]))\n",
      "/home/antonis/ipythonNotebooks/snorkel-ml/snorkel/learning/disc_models/rnn/rnn_base.py:40: UserWarning: Candidate 1605 has argument past max length for model:\t[arg ends at index 71; max len 64]\n",
      "  warnings.warn('\\t'.join([w.format(i), info]))\n",
      "/home/antonis/ipythonNotebooks/snorkel-ml/snorkel/learning/disc_models/rnn/rnn_base.py:40: UserWarning: Candidate 1652 has argument past max length for model:\t[arg ends at index 64; max len 64]\n",
      "  warnings.warn('\\t'.join([w.format(i), info]))\n",
      "/home/antonis/ipythonNotebooks/snorkel-ml/snorkel/learning/disc_models/rnn/rnn_base.py:40: UserWarning: Candidate 1690 has argument past max length for model:\t[arg ends at index 71; max len 64]\n",
      "  warnings.warn('\\t'.join([w.format(i), info]))\n",
      "/home/antonis/ipythonNotebooks/snorkel-ml/snorkel/learning/disc_models/rnn/rnn_base.py:40: UserWarning: Candidate 1694 has argument past max length for model:\t[arg ends at index 81; max len 64]\n",
      "  warnings.warn('\\t'.join([w.format(i), info]))\n",
      "/home/antonis/ipythonNotebooks/snorkel-ml/snorkel/learning/disc_models/rnn/rnn_base.py:40: UserWarning: Candidate 1699 has argument past max length for model:\t[arg ends at index 79; max len 64]\n",
      "  warnings.warn('\\t'.join([w.format(i), info]))\n",
      "/home/antonis/ipythonNotebooks/snorkel-ml/snorkel/learning/disc_models/rnn/rnn_base.py:40: UserWarning: Candidate 1734 has argument past max length for model:\t[arg ends at index 71; max len 64]\n",
      "  warnings.warn('\\t'.join([w.format(i), info]))\n",
      "/home/antonis/ipythonNotebooks/snorkel-ml/snorkel/learning/disc_models/rnn/rnn_base.py:40: UserWarning: Candidate 1774 has argument past max length for model:\t[arg ends at index 95; max len 64]\n",
      "  warnings.warn('\\t'.join([w.format(i), info]))\n",
      "/home/antonis/ipythonNotebooks/snorkel-ml/snorkel/learning/disc_models/rnn/rnn_base.py:40: UserWarning: Candidate 1839 has argument past max length for model:\t[arg ends at index 82; max len 64]\n",
      "  warnings.warn('\\t'.join([w.format(i), info]))\n",
      "/home/antonis/ipythonNotebooks/snorkel-ml/snorkel/learning/disc_models/rnn/rnn_base.py:40: UserWarning: Candidate 1854 has argument past max length for model:\t[arg ends at index 74; max len 64]\n",
      "  warnings.warn('\\t'.join([w.format(i), info]))\n",
      "/home/antonis/ipythonNotebooks/snorkel-ml/snorkel/learning/disc_models/rnn/rnn_base.py:40: UserWarning: Candidate 1942 has argument past max length for model:\t[arg ends at index 74; max len 64]\n",
      "  warnings.warn('\\t'.join([w.format(i), info]))\n",
      "/home/antonis/ipythonNotebooks/snorkel-ml/snorkel/learning/disc_models/rnn/rnn_base.py:40: UserWarning: Candidate 1966 has argument past max length for model:\t[arg ends at index 64; max len 64]\n",
      "  warnings.warn('\\t'.join([w.format(i), info]))\n",
      "/home/antonis/ipythonNotebooks/snorkel-ml/snorkel/learning/disc_models/rnn/rnn_base.py:40: UserWarning: Candidate 1980 has argument past max length for model:\t[arg ends at index 68; max len 64]\n",
      "  warnings.warn('\\t'.join([w.format(i), info]))\n",
      "/home/antonis/ipythonNotebooks/snorkel-ml/snorkel/learning/disc_models/rnn/rnn_base.py:40: UserWarning: Candidate 1999 has argument past max length for model:\t[arg ends at index 91; max len 64]\n",
      "  warnings.warn('\\t'.join([w.format(i), info]))\n",
      "/home/antonis/ipythonNotebooks/snorkel-ml/snorkel/learning/disc_models/rnn/rnn_base.py:40: UserWarning: Candidate 2059 has argument past max length for model:\t[arg ends at index 83; max len 64]\n",
      "  warnings.warn('\\t'.join([w.format(i), info]))\n",
      "/home/antonis/ipythonNotebooks/snorkel-ml/snorkel/learning/disc_models/rnn/rnn_base.py:40: UserWarning: Candidate 2172 has argument past max length for model:\t[arg ends at index 99; max len 64]\n",
      "  warnings.warn('\\t'.join([w.format(i), info]))\n",
      "/home/antonis/ipythonNotebooks/snorkel-ml/snorkel/learning/disc_models/rnn/rnn_base.py:40: UserWarning: Candidate 2183 has argument past max length for model:\t[arg ends at index 119; max len 64]\n",
      "  warnings.warn('\\t'.join([w.format(i), info]))\n",
      "/home/antonis/ipythonNotebooks/snorkel-ml/snorkel/learning/disc_models/rnn/rnn_base.py:40: UserWarning: Candidate 2197 has argument past max length for model:\t[arg ends at index 108; max len 64]\n",
      "  warnings.warn('\\t'.join([w.format(i), info]))\n",
      "/home/antonis/ipythonNotebooks/snorkel-ml/snorkel/learning/disc_models/rnn/rnn_base.py:40: UserWarning: Candidate 2203 has argument past max length for model:\t[arg ends at index 74; max len 64]\n",
      "  warnings.warn('\\t'.join([w.format(i), info]))\n",
      "/home/antonis/ipythonNotebooks/snorkel-ml/snorkel/learning/disc_models/rnn/rnn_base.py:40: UserWarning: Candidate 2218 has argument past max length for model:\t[arg ends at index 166; max len 64]\n",
      "  warnings.warn('\\t'.join([w.format(i), info]))\n",
      "/home/antonis/ipythonNotebooks/snorkel-ml/snorkel/learning/disc_models/rnn/rnn_base.py:40: UserWarning: Candidate 2247 has argument past max length for model:\t[arg ends at index 78; max len 64]\n",
      "  warnings.warn('\\t'.join([w.format(i), info]))\n",
      "/home/antonis/ipythonNotebooks/snorkel-ml/snorkel/learning/disc_models/rnn/rnn_base.py:40: UserWarning: Candidate 2259 has argument past max length for model:\t[arg ends at index 79; max len 64]\n",
      "  warnings.warn('\\t'.join([w.format(i), info]))\n",
      "/home/antonis/ipythonNotebooks/snorkel-ml/snorkel/learning/disc_models/rnn/rnn_base.py:40: UserWarning: Candidate 2270 has argument past max length for model:\t[arg ends at index 64; max len 64]\n",
      "  warnings.warn('\\t'.join([w.format(i), info]))\n",
      "/home/antonis/ipythonNotebooks/snorkel-ml/snorkel/learning/disc_models/rnn/rnn_base.py:40: UserWarning: Candidate 2271 has argument past max length for model:\t[arg ends at index 70; max len 64]\n",
      "  warnings.warn('\\t'.join([w.format(i), info]))\n",
      "/home/antonis/ipythonNotebooks/snorkel-ml/snorkel/learning/disc_models/rnn/rnn_base.py:40: UserWarning: Candidate 2273 has argument past max length for model:\t[arg ends at index 64; max len 64]\n",
      "  warnings.warn('\\t'.join([w.format(i), info]))\n",
      "/home/antonis/ipythonNotebooks/snorkel-ml/snorkel/learning/disc_models/rnn/rnn_base.py:40: UserWarning: Candidate 2282 has argument past max length for model:\t[arg ends at index 84; max len 64]\n",
      "  warnings.warn('\\t'.join([w.format(i), info]))\n",
      "/home/antonis/ipythonNotebooks/snorkel-ml/snorkel/learning/disc_models/rnn/rnn_base.py:40: UserWarning: Candidate 2338 has argument past max length for model:\t[arg ends at index 65; max len 64]\n",
      "  warnings.warn('\\t'.join([w.format(i), info]))\n",
      "/home/antonis/ipythonNotebooks/snorkel-ml/snorkel/learning/disc_models/rnn/rnn_base.py:40: UserWarning: Candidate 2340 has argument past max length for model:\t[arg ends at index 97; max len 64]\n",
      "  warnings.warn('\\t'.join([w.format(i), info]))\n",
      "/home/antonis/ipythonNotebooks/snorkel-ml/snorkel/learning/disc_models/rnn/rnn_base.py:40: UserWarning: Candidate 2345 has argument past max length for model:\t[arg ends at index 69; max len 64]\n",
      "  warnings.warn('\\t'.join([w.format(i), info]))\n",
      "/home/antonis/ipythonNotebooks/snorkel-ml/snorkel/learning/disc_models/rnn/rnn_base.py:40: UserWarning: Candidate 2347 has argument past max length for model:\t[arg ends at index 82; max len 64]\n",
      "  warnings.warn('\\t'.join([w.format(i), info]))\n",
      "/home/antonis/ipythonNotebooks/snorkel-ml/snorkel/learning/disc_models/rnn/rnn_base.py:40: UserWarning: Candidate 2452 has argument past max length for model:\t[arg ends at index 81; max len 64]\n",
      "  warnings.warn('\\t'.join([w.format(i), info]))\n",
      "/home/antonis/ipythonNotebooks/snorkel-ml/snorkel/learning/disc_models/rnn/rnn_base.py:40: UserWarning: Candidate 2497 has argument past max length for model:\t[arg ends at index 69; max len 64]\n",
      "  warnings.warn('\\t'.join([w.format(i), info]))\n",
      "/home/antonis/ipythonNotebooks/snorkel-ml/snorkel/learning/disc_models/rnn/rnn_base.py:40: UserWarning: Candidate 2590 has argument past max length for model:\t[arg ends at index 80; max len 64]\n",
      "  warnings.warn('\\t'.join([w.format(i), info]))\n",
      "/home/antonis/ipythonNotebooks/snorkel-ml/snorkel/learning/disc_models/rnn/rnn_base.py:40: UserWarning: Candidate 2617 has argument past max length for model:\t[arg ends at index 94; max len 64]\n",
      "  warnings.warn('\\t'.join([w.format(i), info]))\n",
      "/home/antonis/ipythonNotebooks/snorkel-ml/snorkel/learning/disc_models/rnn/rnn_base.py:40: UserWarning: Candidate 2667 has argument past max length for model:\t[arg ends at index 140; max len 64]\n",
      "  warnings.warn('\\t'.join([w.format(i), info]))\n",
      "/home/antonis/ipythonNotebooks/snorkel-ml/snorkel/learning/disc_models/rnn/rnn_base.py:40: UserWarning: Candidate 2683 has argument past max length for model:\t[arg ends at index 69; max len 64]\n",
      "  warnings.warn('\\t'.join([w.format(i), info]))\n",
      "/home/antonis/ipythonNotebooks/snorkel-ml/snorkel/learning/disc_models/rnn/rnn_base.py:40: UserWarning: Candidate 2711 has argument past max length for model:\t[arg ends at index 64; max len 64]\n",
      "  warnings.warn('\\t'.join([w.format(i), info]))\n",
      "/home/antonis/ipythonNotebooks/snorkel-ml/snorkel/learning/disc_models/rnn/rnn_base.py:40: UserWarning: Candidate 2730 has argument past max length for model:\t[arg ends at index 79; max len 64]\n",
      "  warnings.warn('\\t'.join([w.format(i), info]))\n",
      "/home/antonis/ipythonNotebooks/snorkel-ml/snorkel/learning/disc_models/rnn/rnn_base.py:40: UserWarning: Candidate 2756 has argument past max length for model:\t[arg ends at index 64; max len 64]\n",
      "  warnings.warn('\\t'.join([w.format(i), info]))\n",
      "/home/antonis/ipythonNotebooks/snorkel-ml/snorkel/learning/disc_models/rnn/rnn_base.py:40: UserWarning: Candidate 2868 has argument past max length for model:\t[arg ends at index 66; max len 64]\n",
      "  warnings.warn('\\t'.join([w.format(i), info]))\n",
      "/home/antonis/ipythonNotebooks/snorkel-ml/snorkel/learning/disc_models/rnn/rnn_base.py:40: UserWarning: Candidate 2874 has argument past max length for model:\t[arg ends at index 83; max len 64]\n",
      "  warnings.warn('\\t'.join([w.format(i), info]))\n",
      "/home/antonis/ipythonNotebooks/snorkel-ml/snorkel/learning/disc_models/rnn/rnn_base.py:40: UserWarning: Candidate 2882 has argument past max length for model:\t[arg ends at index 66; max len 64]\n",
      "  warnings.warn('\\t'.join([w.format(i), info]))\n",
      "/home/antonis/ipythonNotebooks/snorkel-ml/snorkel/learning/disc_models/rnn/rnn_base.py:40: UserWarning: Candidate 2922 has argument past max length for model:\t[arg ends at index 94; max len 64]\n",
      "  warnings.warn('\\t'.join([w.format(i), info]))\n",
      "/home/antonis/ipythonNotebooks/snorkel-ml/snorkel/learning/disc_models/rnn/rnn_base.py:40: UserWarning: Candidate 2954 has argument past max length for model:\t[arg ends at index 67; max len 64]\n",
      "  warnings.warn('\\t'.join([w.format(i), info]))\n",
      "/home/antonis/ipythonNotebooks/snorkel-ml/snorkel/learning/disc_models/rnn/rnn_base.py:40: UserWarning: Candidate 2977 has argument past max length for model:\t[arg ends at index 78; max len 64]\n",
      "  warnings.warn('\\t'.join([w.format(i), info]))\n",
      "/home/antonis/ipythonNotebooks/snorkel-ml/snorkel/learning/disc_models/rnn/rnn_base.py:40: UserWarning: Candidate 2997 has argument past max length for model:\t[arg ends at index 79; max len 64]\n",
      "  warnings.warn('\\t'.join([w.format(i), info]))\n",
      "/home/antonis/ipythonNotebooks/snorkel-ml/snorkel/learning/disc_models/rnn/rnn_base.py:40: UserWarning: Candidate 3013 has argument past max length for model:\t[arg ends at index 104; max len 64]\n",
      "  warnings.warn('\\t'.join([w.format(i), info]))\n",
      "/home/antonis/ipythonNotebooks/snorkel-ml/snorkel/learning/disc_models/rnn/rnn_base.py:40: UserWarning: Candidate 3033 has argument past max length for model:\t[arg ends at index 64; max len 64]\n",
      "  warnings.warn('\\t'.join([w.format(i), info]))\n",
      "/home/antonis/ipythonNotebooks/snorkel-ml/snorkel/learning/disc_models/rnn/rnn_base.py:40: UserWarning: Candidate 3070 has argument past max length for model:\t[arg ends at index 64; max len 64]\n",
      "  warnings.warn('\\t'.join([w.format(i), info]))\n",
      "/home/antonis/ipythonNotebooks/snorkel-ml/snorkel/learning/disc_models/rnn/rnn_base.py:40: UserWarning: Candidate 3131 has argument past max length for model:\t[arg ends at index 79; max len 64]\n",
      "  warnings.warn('\\t'.join([w.format(i), info]))\n",
      "/home/antonis/ipythonNotebooks/snorkel-ml/snorkel/learning/disc_models/rnn/rnn_base.py:40: UserWarning: Candidate 3200 has argument past max length for model:\t[arg ends at index 69; max len 64]\n",
      "  warnings.warn('\\t'.join([w.format(i), info]))\n",
      "/home/antonis/ipythonNotebooks/snorkel-ml/snorkel/learning/disc_models/rnn/rnn_base.py:40: UserWarning: Candidate 3201 has argument past max length for model:\t[arg ends at index 71; max len 64]\n",
      "  warnings.warn('\\t'.join([w.format(i), info]))\n",
      "/home/antonis/ipythonNotebooks/snorkel-ml/snorkel/learning/disc_models/rnn/rnn_base.py:40: UserWarning: Candidate 3303 has argument past max length for model:\t[arg ends at index 67; max len 64]\n",
      "  warnings.warn('\\t'.join([w.format(i), info]))\n",
      "/home/antonis/ipythonNotebooks/snorkel-ml/snorkel/learning/disc_models/rnn/rnn_base.py:40: UserWarning: Candidate 3315 has argument past max length for model:\t[arg ends at index 75; max len 64]\n",
      "  warnings.warn('\\t'.join([w.format(i), info]))\n",
      "/home/antonis/ipythonNotebooks/snorkel-ml/snorkel/learning/disc_models/rnn/rnn_base.py:40: UserWarning: Candidate 3407 has argument past max length for model:\t[arg ends at index 77; max len 64]\n",
      "  warnings.warn('\\t'.join([w.format(i), info]))\n",
      "/home/antonis/ipythonNotebooks/snorkel-ml/snorkel/learning/disc_models/rnn/rnn_base.py:40: UserWarning: Candidate 3448 has argument past max length for model:\t[arg ends at index 126; max len 64]\n",
      "  warnings.warn('\\t'.join([w.format(i), info]))\n",
      "/home/antonis/ipythonNotebooks/snorkel-ml/snorkel/learning/disc_models/rnn/rnn_base.py:40: UserWarning: Candidate 3512 has argument past max length for model:\t[arg ends at index 67; max len 64]\n",
      "  warnings.warn('\\t'.join([w.format(i), info]))\n",
      "/home/antonis/ipythonNotebooks/snorkel-ml/snorkel/learning/disc_models/rnn/rnn_base.py:40: UserWarning: Candidate 3573 has argument past max length for model:\t[arg ends at index 70; max len 64]\n",
      "  warnings.warn('\\t'.join([w.format(i), info]))\n",
      "/home/antonis/ipythonNotebooks/snorkel-ml/snorkel/learning/disc_models/rnn/rnn_base.py:40: UserWarning: Candidate 3605 has argument past max length for model:\t[arg ends at index 75; max len 64]\n",
      "  warnings.warn('\\t'.join([w.format(i), info]))\n",
      "/home/antonis/ipythonNotebooks/snorkel-ml/snorkel/learning/disc_models/rnn/rnn_base.py:40: UserWarning: Candidate 3672 has argument past max length for model:\t[arg ends at index 71; max len 64]\n",
      "  warnings.warn('\\t'.join([w.format(i), info]))\n",
      "/home/antonis/ipythonNotebooks/snorkel-ml/snorkel/learning/disc_models/rnn/rnn_base.py:40: UserWarning: Candidate 3702 has argument past max length for model:\t[arg ends at index 91; max len 64]\n",
      "  warnings.warn('\\t'.join([w.format(i), info]))\n",
      "/home/antonis/ipythonNotebooks/snorkel-ml/snorkel/learning/disc_models/rnn/rnn_base.py:40: UserWarning: Candidate 3738 has argument past max length for model:\t[arg ends at index 67; max len 64]\n",
      "  warnings.warn('\\t'.join([w.format(i), info]))\n",
      "/home/antonis/ipythonNotebooks/snorkel-ml/snorkel/learning/disc_models/rnn/rnn_base.py:40: UserWarning: Candidate 3748 has argument past max length for model:\t[arg ends at index 80; max len 64]\n",
      "  warnings.warn('\\t'.join([w.format(i), info]))\n",
      "/home/antonis/ipythonNotebooks/snorkel-ml/snorkel/learning/disc_models/rnn/rnn_base.py:40: UserWarning: Candidate 3758 has argument past max length for model:\t[arg ends at index 72; max len 64]\n",
      "  warnings.warn('\\t'.join([w.format(i), info]))\n",
      "/home/antonis/ipythonNotebooks/snorkel-ml/snorkel/learning/disc_models/rnn/rnn_base.py:40: UserWarning: Candidate 3793 has argument past max length for model:\t[arg ends at index 79; max len 64]\n",
      "  warnings.warn('\\t'.join([w.format(i), info]))\n",
      "/home/antonis/ipythonNotebooks/snorkel-ml/snorkel/learning/disc_models/rnn/rnn_base.py:40: UserWarning: Candidate 3826 has argument past max length for model:\t[arg ends at index 100; max len 64]\n",
      "  warnings.warn('\\t'.join([w.format(i), info]))\n",
      "/home/antonis/ipythonNotebooks/snorkel-ml/snorkel/learning/disc_models/rnn/rnn_base.py:40: UserWarning: Candidate 3897 has argument past max length for model:\t[arg ends at index 77; max len 64]\n",
      "  warnings.warn('\\t'.join([w.format(i), info]))\n",
      "/home/antonis/ipythonNotebooks/snorkel-ml/snorkel/learning/disc_models/rnn/rnn_base.py:40: UserWarning: Candidate 3931 has argument past max length for model:\t[arg ends at index 64; max len 64]\n",
      "  warnings.warn('\\t'.join([w.format(i), info]))\n",
      "/home/antonis/ipythonNotebooks/snorkel-ml/snorkel/learning/disc_models/rnn/rnn_base.py:40: UserWarning: Candidate 3959 has argument past max length for model:\t[arg ends at index 77; max len 64]\n",
      "  warnings.warn('\\t'.join([w.format(i), info]))\n",
      "/home/antonis/ipythonNotebooks/snorkel-ml/snorkel/learning/disc_models/rnn/rnn_base.py:40: UserWarning: Candidate 3994 has argument past max length for model:\t[arg ends at index 126; max len 64]\n",
      "  warnings.warn('\\t'.join([w.format(i), info]))\n",
      "/home/antonis/ipythonNotebooks/snorkel-ml/snorkel/learning/disc_models/rnn/rnn_base.py:40: UserWarning: Candidate 4001 has argument past max length for model:\t[arg ends at index 78; max len 64]\n",
      "  warnings.warn('\\t'.join([w.format(i), info]))\n",
      "/home/antonis/ipythonNotebooks/snorkel-ml/snorkel/learning/disc_models/rnn/rnn_base.py:40: UserWarning: Candidate 4042 has argument past max length for model:\t[arg ends at index 94; max len 64]\n",
      "  warnings.warn('\\t'.join([w.format(i), info]))\n",
      "/home/antonis/ipythonNotebooks/snorkel-ml/snorkel/learning/disc_models/rnn/rnn_base.py:40: UserWarning: Candidate 4063 has argument past max length for model:\t[arg ends at index 95; max len 64]\n",
      "  warnings.warn('\\t'.join([w.format(i), info]))\n",
      "/home/antonis/ipythonNotebooks/snorkel-ml/snorkel/learning/disc_models/rnn/rnn_base.py:40: UserWarning: Candidate 4114 has argument past max length for model:\t[arg ends at index 69; max len 64]\n",
      "  warnings.warn('\\t'.join([w.format(i), info]))\n",
      "/home/antonis/ipythonNotebooks/snorkel-ml/snorkel/learning/disc_models/rnn/rnn_base.py:40: UserWarning: Candidate 4127 has argument past max length for model:\t[arg ends at index 65; max len 64]\n",
      "  warnings.warn('\\t'.join([w.format(i), info]))\n",
      "/home/antonis/ipythonNotebooks/snorkel-ml/snorkel/learning/disc_models/rnn/rnn_base.py:40: UserWarning: Candidate 4128 has argument past max length for model:\t[arg ends at index 72; max len 64]\n",
      "  warnings.warn('\\t'.join([w.format(i), info]))\n",
      "/home/antonis/ipythonNotebooks/snorkel-ml/snorkel/learning/disc_models/rnn/rnn_base.py:40: UserWarning: Candidate 4143 has argument past max length for model:\t[arg ends at index 79; max len 64]\n",
      "  warnings.warn('\\t'.join([w.format(i), info]))\n",
      "/home/antonis/ipythonNotebooks/snorkel-ml/snorkel/learning/disc_models/rnn/rnn_base.py:40: UserWarning: Candidate 4150 has argument past max length for model:\t[arg ends at index 92; max len 64]\n",
      "  warnings.warn('\\t'.join([w.format(i), info]))\n",
      "/home/antonis/ipythonNotebooks/snorkel-ml/snorkel/learning/disc_models/rnn/rnn_base.py:40: UserWarning: Candidate 4180 has argument past max length for model:\t[arg ends at index 71; max len 64]\n",
      "  warnings.warn('\\t'.join([w.format(i), info]))\n",
      "/home/antonis/ipythonNotebooks/snorkel-ml/snorkel/learning/disc_models/rnn/rnn_base.py:40: UserWarning: Candidate 4283 has argument past max length for model:\t[arg ends at index 65; max len 64]\n",
      "  warnings.warn('\\t'.join([w.format(i), info]))\n",
      "/home/antonis/ipythonNotebooks/snorkel-ml/snorkel/learning/disc_models/rnn/rnn_base.py:40: UserWarning: Candidate 4295 has argument past max length for model:\t[arg ends at index 99; max len 64]\n",
      "  warnings.warn('\\t'.join([w.format(i), info]))\n",
      "/home/antonis/ipythonNotebooks/snorkel-ml/snorkel/learning/disc_models/rnn/rnn_base.py:40: UserWarning: Candidate 4297 has argument past max length for model:\t[arg ends at index 76; max len 64]\n",
      "  warnings.warn('\\t'.join([w.format(i), info]))\n",
      "/home/antonis/ipythonNotebooks/snorkel-ml/snorkel/learning/disc_models/rnn/rnn_base.py:40: UserWarning: Candidate 4320 has argument past max length for model:\t[arg ends at index 78; max len 64]\n",
      "  warnings.warn('\\t'.join([w.format(i), info]))\n",
      "/home/antonis/ipythonNotebooks/snorkel-ml/snorkel/learning/disc_models/rnn/rnn_base.py:40: UserWarning: Candidate 4323 has argument past max length for model:\t[arg ends at index 64; max len 64]\n",
      "  warnings.warn('\\t'.join([w.format(i), info]))\n",
      "/home/antonis/ipythonNotebooks/snorkel-ml/snorkel/learning/disc_models/rnn/rnn_base.py:40: UserWarning: Candidate 4377 has argument past max length for model:\t[arg ends at index 68; max len 64]\n",
      "  warnings.warn('\\t'.join([w.format(i), info]))\n",
      "/home/antonis/ipythonNotebooks/snorkel-ml/snorkel/learning/disc_models/rnn/rnn_base.py:40: UserWarning: Candidate 4423 has argument past max length for model:\t[arg ends at index 65; max len 64]\n",
      "  warnings.warn('\\t'.join([w.format(i), info]))\n",
      "/home/antonis/ipythonNotebooks/snorkel-ml/snorkel/learning/disc_models/rnn/rnn_base.py:40: UserWarning: Candidate 4467 has argument past max length for model:\t[arg ends at index 72; max len 64]\n",
      "  warnings.warn('\\t'.join([w.format(i), info]))\n",
      "/home/antonis/ipythonNotebooks/snorkel-ml/snorkel/learning/disc_models/rnn/rnn_base.py:40: UserWarning: Candidate 4481 has argument past max length for model:\t[arg ends at index 74; max len 64]\n",
      "  warnings.warn('\\t'.join([w.format(i), info]))\n",
      "/home/antonis/ipythonNotebooks/snorkel-ml/snorkel/learning/disc_models/rnn/rnn_base.py:40: UserWarning: Candidate 4512 has argument past max length for model:\t[arg ends at index 79; max len 64]\n",
      "  warnings.warn('\\t'.join([w.format(i), info]))\n",
      "/home/antonis/ipythonNotebooks/snorkel-ml/snorkel/learning/disc_models/rnn/rnn_base.py:40: UserWarning: Candidate 4521 has argument past max length for model:\t[arg ends at index 64; max len 64]\n",
      "  warnings.warn('\\t'.join([w.format(i), info]))\n",
      "/home/antonis/ipythonNotebooks/snorkel-ml/snorkel/learning/disc_models/rnn/rnn_base.py:40: UserWarning: Candidate 4537 has argument past max length for model:\t[arg ends at index 74; max len 64]\n",
      "  warnings.warn('\\t'.join([w.format(i), info]))\n",
      "/home/antonis/ipythonNotebooks/snorkel-ml/snorkel/learning/disc_models/rnn/rnn_base.py:40: UserWarning: Candidate 4539 has argument past max length for model:\t[arg ends at index 66; max len 64]\n",
      "  warnings.warn('\\t'.join([w.format(i), info]))\n",
      "/home/antonis/ipythonNotebooks/snorkel-ml/snorkel/learning/disc_models/rnn/rnn_base.py:40: UserWarning: Candidate 4599 has argument past max length for model:\t[arg ends at index 77; max len 64]\n",
      "  warnings.warn('\\t'.join([w.format(i), info]))\n",
      "/home/antonis/ipythonNotebooks/snorkel-ml/snorkel/learning/disc_models/rnn/rnn_base.py:40: UserWarning: Candidate 4617 has argument past max length for model:\t[arg ends at index 95; max len 64]\n",
      "  warnings.warn('\\t'.join([w.format(i), info]))\n",
      "/home/antonis/ipythonNotebooks/snorkel-ml/snorkel/learning/disc_models/rnn/rnn_base.py:40: UserWarning: Candidate 4619 has argument past max length for model:\t[arg ends at index 124; max len 64]\n",
      "  warnings.warn('\\t'.join([w.format(i), info]))\n",
      "/home/antonis/ipythonNotebooks/snorkel-ml/snorkel/learning/disc_models/rnn/rnn_base.py:40: UserWarning: Candidate 4625 has argument past max length for model:\t[arg ends at index 65; max len 64]\n",
      "  warnings.warn('\\t'.join([w.format(i), info]))\n",
      "/home/antonis/ipythonNotebooks/snorkel-ml/snorkel/learning/disc_models/rnn/rnn_base.py:40: UserWarning: Candidate 4635 has argument past max length for model:\t[arg ends at index 65; max len 64]\n",
      "  warnings.warn('\\t'.join([w.format(i), info]))\n",
      "/home/antonis/ipythonNotebooks/snorkel-ml/snorkel/learning/disc_models/rnn/rnn_base.py:40: UserWarning: Candidate 4698 has argument past max length for model:\t[arg ends at index 78; max len 64]\n",
      "  warnings.warn('\\t'.join([w.format(i), info]))\n",
      "/home/antonis/ipythonNotebooks/snorkel-ml/snorkel/learning/disc_models/rnn/rnn_base.py:40: UserWarning: Candidate 4707 has argument past max length for model:\t[arg ends at index 65; max len 64]\n",
      "  warnings.warn('\\t'.join([w.format(i), info]))\n",
      "/home/antonis/ipythonNotebooks/snorkel-ml/snorkel/learning/disc_models/rnn/rnn_base.py:40: UserWarning: Candidate 4776 has argument past max length for model:\t[arg ends at index 79; max len 64]\n",
      "  warnings.warn('\\t'.join([w.format(i), info]))\n",
      "/home/antonis/ipythonNotebooks/snorkel-ml/snorkel/learning/disc_models/rnn/rnn_base.py:40: UserWarning: Candidate 4802 has argument past max length for model:\t[arg ends at index 94; max len 64]\n",
      "  warnings.warn('\\t'.join([w.format(i), info]))\n",
      "/home/antonis/ipythonNotebooks/snorkel-ml/snorkel/learning/disc_models/rnn/rnn_base.py:40: UserWarning: Candidate 4805 has argument past max length for model:\t[arg ends at index 72; max len 64]\n",
      "  warnings.warn('\\t'.join([w.format(i), info]))\n",
      "/home/antonis/ipythonNotebooks/snorkel-ml/snorkel/learning/disc_models/rnn/rnn_base.py:40: UserWarning: Candidate 4815 has argument past max length for model:\t[arg ends at index 75; max len 64]\n",
      "  warnings.warn('\\t'.join([w.format(i), info]))\n",
      "/home/antonis/ipythonNotebooks/snorkel-ml/snorkel/learning/disc_models/rnn/rnn_base.py:40: UserWarning: Candidate 4817 has argument past max length for model:\t[arg ends at index 68; max len 64]\n",
      "  warnings.warn('\\t'.join([w.format(i), info]))\n",
      "/home/antonis/ipythonNotebooks/snorkel-ml/snorkel/learning/disc_models/rnn/rnn_base.py:40: UserWarning: Candidate 4890 has argument past max length for model:\t[arg ends at index 65; max len 64]\n",
      "  warnings.warn('\\t'.join([w.format(i), info]))\n",
      "/home/antonis/ipythonNotebooks/snorkel-ml/snorkel/learning/disc_models/rnn/rnn_base.py:40: UserWarning: Candidate 4899 has argument past max length for model:\t[arg ends at index 65; max len 64]\n",
      "  warnings.warn('\\t'.join([w.format(i), info]))\n",
      "/home/antonis/ipythonNotebooks/snorkel-ml/snorkel/learning/disc_models/rnn/rnn_base.py:40: UserWarning: Candidate 4924 has argument past max length for model:\t[arg ends at index 68; max len 64]\n",
      "  warnings.warn('\\t'.join([w.format(i), info]))\n",
      "/home/antonis/ipythonNotebooks/snorkel-ml/snorkel/learning/disc_models/rnn/rnn_base.py:40: UserWarning: Candidate 5027 has argument past max length for model:\t[arg ends at index 71; max len 64]\n",
      "  warnings.warn('\\t'.join([w.format(i), info]))\n",
      "/home/antonis/ipythonNotebooks/snorkel-ml/snorkel/learning/disc_models/rnn/rnn_base.py:40: UserWarning: Candidate 5046 has argument past max length for model:\t[arg ends at index 94; max len 64]\n",
      "  warnings.warn('\\t'.join([w.format(i), info]))\n",
      "/home/antonis/ipythonNotebooks/snorkel-ml/snorkel/learning/disc_models/rnn/rnn_base.py:40: UserWarning: Candidate 5089 has argument past max length for model:\t[arg ends at index 65; max len 64]\n",
      "  warnings.warn('\\t'.join([w.format(i), info]))\n",
      "/home/antonis/ipythonNotebooks/snorkel-ml/snorkel/learning/disc_models/rnn/rnn_base.py:40: UserWarning: Candidate 5167 has argument past max length for model:\t[arg ends at index 67; max len 64]\n",
      "  warnings.warn('\\t'.join([w.format(i), info]))\n",
      "/home/antonis/ipythonNotebooks/snorkel-ml/snorkel/learning/disc_models/rnn/rnn_base.py:40: UserWarning: Candidate 5197 has argument past max length for model:\t[arg ends at index 68; max len 64]\n",
      "  warnings.warn('\\t'.join([w.format(i), info]))\n",
      "/home/antonis/ipythonNotebooks/snorkel-ml/snorkel/learning/disc_models/rnn/rnn_base.py:40: UserWarning: Candidate 5198 has argument past max length for model:\t[arg ends at index 95; max len 64]\n",
      "  warnings.warn('\\t'.join([w.format(i), info]))\n",
      "/home/antonis/ipythonNotebooks/snorkel-ml/snorkel/learning/disc_models/rnn/rnn_base.py:40: UserWarning: Candidate 5199 has argument past max length for model:\t[arg ends at index 73; max len 64]\n",
      "  warnings.warn('\\t'.join([w.format(i), info]))\n",
      "/home/antonis/ipythonNotebooks/snorkel-ml/snorkel/learning/disc_models/rnn/rnn_base.py:40: UserWarning: Candidate 5238 has argument past max length for model:\t[arg ends at index 83; max len 64]\n",
      "  warnings.warn('\\t'.join([w.format(i), info]))\n",
      "/home/antonis/ipythonNotebooks/snorkel-ml/snorkel/learning/disc_models/rnn/rnn_base.py:40: UserWarning: Candidate 5404 has argument past max length for model:\t[arg ends at index 95; max len 64]\n",
      "  warnings.warn('\\t'.join([w.format(i), info]))\n",
      "/home/antonis/ipythonNotebooks/snorkel-ml/snorkel/learning/disc_models/rnn/rnn_base.py:40: UserWarning: Candidate 5410 has argument past max length for model:\t[arg ends at index 113; max len 64]\n",
      "  warnings.warn('\\t'.join([w.format(i), info]))\n",
      "/home/antonis/ipythonNotebooks/snorkel-ml/snorkel/learning/disc_models/rnn/rnn_base.py:40: UserWarning: Candidate 5435 has argument past max length for model:\t[arg ends at index 199; max len 64]\n",
      "  warnings.warn('\\t'.join([w.format(i), info]))\n",
      "/home/antonis/ipythonNotebooks/snorkel-ml/snorkel/learning/disc_models/rnn/rnn_base.py:40: UserWarning: Candidate 5483 has argument past max length for model:\t[arg ends at index 67; max len 64]\n",
      "  warnings.warn('\\t'.join([w.format(i), info]))\n",
      "/home/antonis/ipythonNotebooks/snorkel-ml/snorkel/learning/disc_models/rnn/rnn_base.py:40: UserWarning: Candidate 5544 has argument past max length for model:\t[arg ends at index 71; max len 64]\n",
      "  warnings.warn('\\t'.join([w.format(i), info]))\n",
      "/home/antonis/ipythonNotebooks/snorkel-ml/snorkel/learning/disc_models/rnn/rnn_base.py:40: UserWarning: Candidate 5548 has argument past max length for model:\t[arg ends at index 78; max len 64]\n",
      "  warnings.warn('\\t'.join([w.format(i), info]))\n",
      "/home/antonis/ipythonNotebooks/snorkel-ml/snorkel/learning/disc_models/rnn/rnn_base.py:40: UserWarning: Candidate 5557 has argument past max length for model:\t[arg ends at index 76; max len 64]\n",
      "  warnings.warn('\\t'.join([w.format(i), info]))\n",
      "/home/antonis/ipythonNotebooks/snorkel-ml/snorkel/learning/disc_models/rnn/rnn_base.py:40: UserWarning: Candidate 5637 has argument past max length for model:\t[arg ends at index 73; max len 64]\n",
      "  warnings.warn('\\t'.join([w.format(i), info]))\n",
      "/home/antonis/ipythonNotebooks/snorkel-ml/snorkel/learning/disc_models/rnn/rnn_base.py:40: UserWarning: Candidate 5674 has argument past max length for model:\t[arg ends at index 72; max len 64]\n",
      "  warnings.warn('\\t'.join([w.format(i), info]))\n",
      "/home/antonis/ipythonNotebooks/snorkel-ml/snorkel/learning/disc_models/rnn/rnn_base.py:40: UserWarning: Candidate 5679 has argument past max length for model:\t[arg ends at index 66; max len 64]\n",
      "  warnings.warn('\\t'.join([w.format(i), info]))\n",
      "/home/antonis/ipythonNotebooks/snorkel-ml/snorkel/learning/disc_models/rnn/rnn_base.py:40: UserWarning: Candidate 5680 has argument past max length for model:\t[arg ends at index 72; max len 64]\n",
      "  warnings.warn('\\t'.join([w.format(i), info]))\n",
      "/home/antonis/ipythonNotebooks/snorkel-ml/snorkel/learning/disc_models/rnn/rnn_base.py:40: UserWarning: Candidate 5700 has argument past max length for model:\t[arg ends at index 71; max len 64]\n",
      "  warnings.warn('\\t'.join([w.format(i), info]))\n",
      "/home/antonis/ipythonNotebooks/snorkel-ml/snorkel/learning/disc_models/rnn/rnn_base.py:40: UserWarning: Candidate 5704 has argument past max length for model:\t[arg ends at index 83; max len 64]\n",
      "  warnings.warn('\\t'.join([w.format(i), info]))\n",
      "/home/antonis/ipythonNotebooks/snorkel-ml/snorkel/learning/disc_models/rnn/rnn_base.py:40: UserWarning: Candidate 5722 has argument past max length for model:\t[arg ends at index 132; max len 64]\n",
      "  warnings.warn('\\t'.join([w.format(i), info]))\n",
      "/home/antonis/ipythonNotebooks/snorkel-ml/snorkel/learning/disc_models/rnn/rnn_base.py:40: UserWarning: Candidate 5748 has argument past max length for model:\t[arg ends at index 65; max len 64]\n",
      "  warnings.warn('\\t'.join([w.format(i), info]))\n",
      "/home/antonis/ipythonNotebooks/snorkel-ml/snorkel/learning/disc_models/rnn/rnn_base.py:40: UserWarning: Candidate 5784 has argument past max length for model:\t[arg ends at index 89; max len 64]\n",
      "  warnings.warn('\\t'.join([w.format(i), info]))\n",
      "/home/antonis/ipythonNotebooks/snorkel-ml/snorkel/learning/disc_models/rnn/rnn_base.py:40: UserWarning: Candidate 5787 has argument past max length for model:\t[arg ends at index 73; max len 64]\n",
      "  warnings.warn('\\t'.join([w.format(i), info]))\n",
      "/home/antonis/ipythonNotebooks/snorkel-ml/snorkel/learning/disc_models/rnn/rnn_base.py:40: UserWarning: Candidate 5793 has argument past max length for model:\t[arg ends at index 148; max len 64]\n",
      "  warnings.warn('\\t'.join([w.format(i), info]))\n",
      "/home/antonis/ipythonNotebooks/snorkel-ml/snorkel/learning/disc_models/rnn/rnn_base.py:40: UserWarning: Candidate 5859 has argument past max length for model:\t[arg ends at index 77; max len 64]\n",
      "  warnings.warn('\\t'.join([w.format(i), info]))\n",
      "/home/antonis/ipythonNotebooks/snorkel-ml/snorkel/learning/disc_models/rnn/rnn_base.py:40: UserWarning: Candidate 5862 has argument past max length for model:\t[arg ends at index 70; max len 64]\n",
      "  warnings.warn('\\t'.join([w.format(i), info]))\n",
      "/home/antonis/ipythonNotebooks/snorkel-ml/snorkel/learning/disc_models/rnn/rnn_base.py:40: UserWarning: Candidate 5878 has argument past max length for model:\t[arg ends at index 70; max len 64]\n",
      "  warnings.warn('\\t'.join([w.format(i), info]))\n",
      "/home/antonis/ipythonNotebooks/snorkel-ml/snorkel/learning/disc_models/rnn/rnn_base.py:40: UserWarning: Candidate 5881 has argument past max length for model:\t[arg ends at index 66; max len 64]\n",
      "  warnings.warn('\\t'.join([w.format(i), info]))\n",
      "/home/antonis/ipythonNotebooks/snorkel-ml/snorkel/learning/disc_models/rnn/rnn_base.py:40: UserWarning: Candidate 5894 has argument past max length for model:\t[arg ends at index 68; max len 64]\n",
      "  warnings.warn('\\t'.join([w.format(i), info]))\n",
      "/home/antonis/ipythonNotebooks/snorkel-ml/snorkel/learning/disc_models/rnn/rnn_base.py:40: UserWarning: Candidate 5896 has argument past max length for model:\t[arg ends at index 78; max len 64]\n",
      "  warnings.warn('\\t'.join([w.format(i), info]))\n",
      "/home/antonis/ipythonNotebooks/snorkel-ml/snorkel/learning/disc_models/rnn/rnn_base.py:40: UserWarning: Candidate 5932 has argument past max length for model:\t[arg ends at index 156; max len 64]\n",
      "  warnings.warn('\\t'.join([w.format(i), info]))\n",
      "/home/antonis/ipythonNotebooks/snorkel-ml/snorkel/learning/disc_models/rnn/rnn_base.py:40: UserWarning: Candidate 5974 has argument past max length for model:\t[arg ends at index 70; max len 64]\n",
      "  warnings.warn('\\t'.join([w.format(i), info]))\n",
      "/home/antonis/ipythonNotebooks/snorkel-ml/snorkel/learning/disc_models/rnn/rnn_base.py:40: UserWarning: Candidate 5977 has argument past max length for model:\t[arg ends at index 66; max len 64]\n",
      "  warnings.warn('\\t'.join([w.format(i), info]))\n",
      "/home/antonis/ipythonNotebooks/snorkel-ml/snorkel/learning/disc_models/rnn/rnn_base.py:40: UserWarning: Candidate 6021 has argument past max length for model:\t[arg ends at index 67; max len 64]\n",
      "  warnings.warn('\\t'.join([w.format(i), info]))\n",
      "/home/antonis/ipythonNotebooks/snorkel-ml/snorkel/learning/disc_models/rnn/rnn_base.py:40: UserWarning: Candidate 6033 has argument past max length for model:\t[arg ends at index 72; max len 64]\n",
      "  warnings.warn('\\t'.join([w.format(i), info]))\n",
      "/home/antonis/ipythonNotebooks/snorkel-ml/snorkel/learning/disc_models/rnn/rnn_base.py:40: UserWarning: Candidate 6057 has argument past max length for model:\t[arg ends at index 66; max len 64]\n",
      "  warnings.warn('\\t'.join([w.format(i), info]))\n",
      "/home/antonis/ipythonNotebooks/snorkel-ml/snorkel/learning/disc_models/rnn/rnn_base.py:40: UserWarning: Candidate 6071 has argument past max length for model:\t[arg ends at index 71; max len 64]\n",
      "  warnings.warn('\\t'.join([w.format(i), info]))\n",
      "/home/antonis/ipythonNotebooks/snorkel-ml/snorkel/learning/disc_models/rnn/rnn_base.py:40: UserWarning: Candidate 6084 has argument past max length for model:\t[arg ends at index 65; max len 64]\n",
      "  warnings.warn('\\t'.join([w.format(i), info]))\n",
      "/home/antonis/ipythonNotebooks/snorkel-ml/snorkel/learning/disc_models/rnn/rnn_base.py:40: UserWarning: Candidate 6118 has argument past max length for model:\t[arg ends at index 67; max len 64]\n",
      "  warnings.warn('\\t'.join([w.format(i), info]))\n",
      "/home/antonis/ipythonNotebooks/snorkel-ml/snorkel/learning/disc_models/rnn/rnn_base.py:40: UserWarning: Candidate 6130 has argument past max length for model:\t[arg ends at index 74; max len 64]\n",
      "  warnings.warn('\\t'.join([w.format(i), info]))\n",
      "/home/antonis/ipythonNotebooks/snorkel-ml/snorkel/learning/disc_models/rnn/rnn_base.py:40: UserWarning: Candidate 6152 has argument past max length for model:\t[arg ends at index 74; max len 64]\n",
      "  warnings.warn('\\t'.join([w.format(i), info]))\n",
      "/home/antonis/ipythonNotebooks/snorkel-ml/snorkel/learning/disc_models/rnn/rnn_base.py:40: UserWarning: Candidate 6155 has argument past max length for model:\t[arg ends at index 71; max len 64]\n",
      "  warnings.warn('\\t'.join([w.format(i), info]))\n",
      "/home/antonis/ipythonNotebooks/snorkel-ml/snorkel/learning/disc_models/rnn/rnn_base.py:40: UserWarning: Candidate 6187 has argument past max length for model:\t[arg ends at index 84; max len 64]\n",
      "  warnings.warn('\\t'.join([w.format(i), info]))\n",
      "/home/antonis/ipythonNotebooks/snorkel-ml/snorkel/learning/disc_models/rnn/rnn_base.py:40: UserWarning: Candidate 6207 has argument past max length for model:\t[arg ends at index 95; max len 64]\n",
      "  warnings.warn('\\t'.join([w.format(i), info]))\n",
      "/home/antonis/ipythonNotebooks/snorkel-ml/snorkel/learning/disc_models/rnn/rnn_base.py:40: UserWarning: Candidate 6212 has argument past max length for model:\t[arg ends at index 64; max len 64]\n",
      "  warnings.warn('\\t'.join([w.format(i), info]))\n",
      "/home/antonis/ipythonNotebooks/snorkel-ml/snorkel/learning/disc_models/rnn/rnn_base.py:40: UserWarning: Candidate 6287 has argument past max length for model:\t[arg ends at index 72; max len 64]\n",
      "  warnings.warn('\\t'.join([w.format(i), info]))\n",
      "/home/antonis/ipythonNotebooks/snorkel-ml/snorkel/learning/disc_models/rnn/rnn_base.py:40: UserWarning: Candidate 6293 has argument past max length for model:\t[arg ends at index 76; max len 64]\n",
      "  warnings.warn('\\t'.join([w.format(i), info]))\n",
      "/home/antonis/ipythonNotebooks/snorkel-ml/snorkel/learning/disc_models/rnn/rnn_base.py:40: UserWarning: Candidate 6329 has argument past max length for model:\t[arg ends at index 76; max len 64]\n",
      "  warnings.warn('\\t'.join([w.format(i), info]))\n",
      "/home/antonis/ipythonNotebooks/snorkel-ml/snorkel/learning/disc_models/rnn/rnn_base.py:40: UserWarning: Candidate 6345 has argument past max length for model:\t[arg ends at index 71; max len 64]\n",
      "  warnings.warn('\\t'.join([w.format(i), info]))\n",
      "/home/antonis/ipythonNotebooks/snorkel-ml/snorkel/learning/disc_models/rnn/rnn_base.py:40: UserWarning: Candidate 6352 has argument past max length for model:\t[arg ends at index 82; max len 64]\n",
      "  warnings.warn('\\t'.join([w.format(i), info]))\n",
      "/home/antonis/ipythonNotebooks/snorkel-ml/snorkel/learning/disc_models/rnn/rnn_base.py:40: UserWarning: Candidate 6451 has argument past max length for model:\t[arg ends at index 99; max len 64]\n",
      "  warnings.warn('\\t'.join([w.format(i), info]))\n",
      "/home/antonis/ipythonNotebooks/snorkel-ml/snorkel/learning/disc_models/rnn/rnn_base.py:40: UserWarning: Candidate 6454 has argument past max length for model:\t[arg ends at index 70; max len 64]\n",
      "  warnings.warn('\\t'.join([w.format(i), info]))\n",
      "/home/antonis/ipythonNotebooks/snorkel-ml/snorkel/learning/disc_models/rnn/rnn_base.py:40: UserWarning: Candidate 6545 has argument past max length for model:\t[arg ends at index 92; max len 64]\n",
      "  warnings.warn('\\t'.join([w.format(i), info]))\n",
      "/home/antonis/ipythonNotebooks/snorkel-ml/snorkel/learning/disc_models/rnn/rnn_base.py:40: UserWarning: Candidate 6563 has argument past max length for model:\t[arg ends at index 72; max len 64]\n",
      "  warnings.warn('\\t'.join([w.format(i), info]))\n",
      "/home/antonis/ipythonNotebooks/snorkel-ml/snorkel/learning/disc_models/rnn/rnn_base.py:40: UserWarning: Candidate 6582 has argument past max length for model:\t[arg ends at index 73; max len 64]\n",
      "  warnings.warn('\\t'.join([w.format(i), info]))\n"
     ]
    },
    {
     "name": "stderr",
     "output_type": "stream",
     "text": [
      "/home/antonis/anaconda2/envs/snorkel27clone/lib/python2.7/site-packages/tensorflow/python/ops/gradients_impl.py:100: UserWarning: Converting sparse IndexedSlices to a dense Tensor of unknown shape. This may consume a large amount of memory.\n",
      "  \"Converting sparse IndexedSlices to a dense Tensor of unknown shape. \"\n"
     ]
    },
    {
     "name": "stdout",
     "output_type": "stream",
     "text": [
      "[reRNN] Training model\n",
      "[reRNN] n_train=6604  #epochs=8  batch size=32\n",
      "[reRNN] Epoch 0 (13.22s)\tAverage loss=0.571305\tDev F1=50.76\n",
      "[reRNN] Epoch 1 (27.76s)\tAverage loss=0.396966\tDev F1=50.00\n",
      "[reRNN] Epoch 2 (42.17s)\tAverage loss=0.315530\tDev F1=51.39\n",
      "[reRNN] Epoch 3 (57.90s)\tAverage loss=0.254488\tDev F1=53.48\n",
      "[reRNN] Epoch 4 (73.45s)\tAverage loss=0.202535\tDev F1=53.95\n",
      "[reRNN] Epoch 5 (91.34s)\tAverage loss=0.158589\tDev F1=53.15\n",
      "[reRNN] Epoch 6 (105.88s)\tAverage loss=0.124446\tDev F1=53.05\n",
      "[reRNN] Epoch 7 (120.37s)\tAverage loss=0.098341\tDev F1=52.10\n",
      "[reRNN] Model saved as <reRNN>\n",
      "[reRNN] Training done (122.43s)\n",
      "INFO:tensorflow:Restoring parameters from checkpoints/reRNN/reRNN-7\n",
      "[reRNN] Loaded model <reRNN>\n"
     ]
    }
   ],
   "source": [
    "train_kwargs = {\n",
    "    'lr':         0.001,\n",
    "    'dim':        100,\n",
    "    'n_epochs':   8,\n",
    "    'dropout':    0.25,\n",
    "    'rebalance':  0,\n",
    "    'print_freq': 1,\n",
    "    'batch_size': 32,\n",
    "    'max_sentence_length': 64,\n",
    "}\n",
    "\n",
    "lstm = reRNN(seed=1701, n_threads=None,)\n",
    "lstm.train(train_cands_us, train_labels_us, X_dev = val_cands , Y_dev = L_gold_val, **train_kwargs)"
   ]
  },
  {
   "cell_type": "markdown",
   "metadata": {},
   "source": [
    "# Evaluate on val/test"
   ]
  },
  {
   "cell_type": "code",
   "execution_count": null,
   "metadata": {},
   "outputs": [],
   "source": [
    "# def print_pos_prf(tp,fp,tn,fn):\n",
    "#     prec = (1.0*tp/(tp+fp))\n",
    "#     rec = (1.0*tp/ (tp+fn))\n",
    "#     f1 = (2*prec*rec)/float(prec+rec)\n",
    "#     print \"Precision (+):\\t %.2f \\nRecall (+):\\t %.2f \\nF1 score (+):\\t %.2f \\n\"%(prec,rec, f1)"
   ]
  },
  {
   "cell_type": "code",
   "execution_count": null,
   "metadata": {},
   "outputs": [],
   "source": [
    "tp, fp, tn, fn = lstm.error_analysis(session, val_cands, L_gold_val)"
   ]
  },
  {
   "cell_type": "code",
   "execution_count": null,
   "metadata": {},
   "outputs": [],
   "source": []
  },
  {
   "cell_type": "code",
   "execution_count": null,
   "metadata": {},
   "outputs": [],
   "source": []
  },
  {
   "cell_type": "markdown",
   "metadata": {},
   "source": [
    "## Determine sentence length statistics (for LSTM hidden units)"
   ]
  },
  {
   "cell_type": "code",
   "execution_count": null,
   "metadata": {},
   "outputs": [],
   "source": [
    "def get_sentence_length(candidate):\n",
    "    \"\"\"Get sentence length of a certain candidate\"\"\"\n",
    "    return len(candidate.get_parent().entity_types)"
   ]
  },
  {
   "cell_type": "code",
   "execution_count": null,
   "metadata": {},
   "outputs": [],
   "source": [
    "lengths = pd.Series(list(map(lambda x: get_sentence_length(x),train_cands)))\n",
    "plt.title(\"Sentence length histogram (words)\")"
   ]
  },
  {
   "cell_type": "code",
   "execution_count": null,
   "metadata": {},
   "outputs": [],
   "source": []
  },
  {
   "cell_type": "markdown",
   "metadata": {},
   "source": [
    "# Grid Search"
   ]
  },
  {
   "cell_type": "code",
   "execution_count": null,
   "metadata": {},
   "outputs": [],
   "source": [
    "train_kwargs = {\n",
    "    'lr':         0.01,\n",
    "    'dim':        100,\n",
    "    'n_epochs':   5,\n",
    "    'dropout':    0.5,\n",
    "    'rebalance':  0.25,\n",
    "    'print_freq': 1,\n",
    "    'batch_size': 32,\n",
    "    'max_sentence_length': 64,\n",
    "}"
   ]
  },
  {
   "cell_type": "code",
   "execution_count": null,
   "metadata": {},
   "outputs": [],
   "source": []
  },
  {
   "cell_type": "code",
   "execution_count": null,
   "metadata": {},
   "outputs": [],
   "source": [
    "from snorkel.learning import RandomSearch, GridSearch\n",
    "from snorkel.learning import SparseLogisticRegression\n",
    "\n",
    "seed = 1234\n",
    "num_model_search = 10\n",
    "\n",
    "# search over this parameter grid\n",
    "param_grid = {}\n",
    "# param_grid['batch_size'] = [32, 64]\n",
    "# param_grid['lr']         = [1e-3, 1e-2]\n",
    "# param_grid['dropout'] = [0.25,0.5]\n",
    "# param_grid['rebalance']  = [0.0, 0.25]\n",
    "\n",
    "param_grid['max_sentence_length']  = [32, 64, 128]\n",
    "\n",
    "param_grid['batch_size'] = [32]\n",
    "param_grid['lr']         = [1e-3]\n",
    "param_grid['dropout'] = [0.25]\n",
    "param_grid['rebalance']  = [0.0, 0.25]\n",
    "param_grid['n_epochs'] = [5,10,20]\n",
    "\n",
    "\n",
    "model_hyperparams = {\n",
    "#     'n_epochs': 20,\n",
    "    'print_freq': 5,\n",
    "    'dev_ckpt_delay': 0.5,\n",
    "    'X_dev': val_cands,\n",
    "    'Y_dev': L_gold_val\n",
    "}\n",
    "\n",
    "model_class_params = {\n",
    "    'seed': seed,\n",
    "    'n_threads':1\n",
    "}\n",
    "\n",
    "# Undersampling\n",
    "searcher = RandomSearch(reRNN, param_grid, train_cands_us, train_marginals_us,\n",
    "                        n=num_model_search, seed=seed,\n",
    "                        model_class_params=model_class_params,\n",
    "                        model_hyperparams=model_hyperparams)"
   ]
  },
  {
   "cell_type": "code",
   "execution_count": null,
   "metadata": {
    "scrolled": true
   },
   "outputs": [],
   "source": [
    "print \"Discriminitive Model Parameter Space (seed={}):\".format(seed)\n",
    "for i, params in enumerate(searcher.search_space()):\n",
    "    print i, params\n",
    "\n",
    "disc_model, run_stats = searcher.fit(X_valid=val_cands, Y_valid=L_gold_val, n_threads=1)\n",
    "print run_stats"
   ]
  },
  {
   "cell_type": "markdown",
   "metadata": {},
   "source": [
    "# Predict on val & unlab "
   ]
  },
  {
   "cell_type": "code",
   "execution_count": null,
   "metadata": {},
   "outputs": [],
   "source": [
    "import pickle"
   ]
  },
  {
   "cell_type": "code",
   "execution_count": null,
   "metadata": {},
   "outputs": [],
   "source": [
    "with open('../candidates_TrainValTestOutgoing.pickle', 'rb') as f:\n",
    "    cand_dict = pickle.load(f)"
   ]
  },
  {
   "cell_type": "code",
   "execution_count": null,
   "metadata": {},
   "outputs": [],
   "source": [
    "# from snorkel.learning import reRNN\n",
    "\n",
    "# lstm = reRNN(seed=1701, n_threads=None,)"
   ]
  },
  {
   "cell_type": "code",
   "execution_count": null,
   "metadata": {},
   "outputs": [],
   "source": [
    "# # lstm.load(model_name='reRNN_14',save_dir=\"checkpoints/grid_search/\")\n",
    "# disc_model=lstm"
   ]
  },
  {
   "cell_type": "code",
   "execution_count": null,
   "metadata": {},
   "outputs": [],
   "source": []
  },
  {
   "cell_type": "code",
   "execution_count": 17,
   "metadata": {},
   "outputs": [
    {
     "ename": "NameError",
     "evalue": "name 'cand_dict' is not defined",
     "output_type": "error",
     "traceback": [
      "\u001b[0;31m---------------------------------------------------------------------------\u001b[0m",
      "\u001b[0;31mNameError\u001b[0m                                 Traceback (most recent call last)",
      "\u001b[0;32m<ipython-input-17-d169a60ec09a>\u001b[0m in \u001b[0;36m<module>\u001b[0;34m()\u001b[0m\n\u001b[0;32m----> 1\u001b[0;31m \u001b[0mcand_dict\u001b[0m\u001b[0;34m.\u001b[0m\u001b[0mkeys\u001b[0m\u001b[0;34m(\u001b[0m\u001b[0;34m)\u001b[0m\u001b[0;34m\u001b[0m\u001b[0m\n\u001b[0m",
      "\u001b[0;31mNameError\u001b[0m: name 'cand_dict' is not defined"
     ]
    }
   ],
   "source": [
    "cand_dict.keys()"
   ]
  },
  {
   "cell_type": "markdown",
   "metadata": {},
   "source": [
    "# export results_dict"
   ]
  },
  {
   "cell_type": "code",
   "execution_count": 22,
   "metadata": {},
   "outputs": [],
   "source": [
    "from sklearn.metrics import classification_report, f1_score"
   ]
  },
  {
   "cell_type": "code",
   "execution_count": 23,
   "metadata": {},
   "outputs": [],
   "source": [
    "results_dict = {}"
   ]
  },
  {
   "cell_type": "code",
   "execution_count": null,
   "metadata": {},
   "outputs": [],
   "source": []
  },
  {
   "cell_type": "code",
   "execution_count": 24,
   "metadata": {},
   "outputs": [],
   "source": [
    "# # val_ground_truth = dict(map(lambda x: (x, cand_dict[1][x]['label']), cand_dict[1].keys()))\n",
    "# val_ground_truth = list(map(lambda x: cand_dict[1][x]['label'], cand_dict[1].keys()))\n",
    "# test_ground_truth = list(map(lambda x: cand_dict[2][x]['label'], cand_dict[2].keys()))"
   ]
  },
  {
   "cell_type": "code",
   "execution_count": 25,
   "metadata": {},
   "outputs": [],
   "source": [
    "# Note: I also have L_gold_val, L_gold_test"
   ]
  },
  {
   "cell_type": "code",
   "execution_count": 26,
   "metadata": {},
   "outputs": [
    {
     "data": {
      "text/plain": [
       "[0, 1, 2, 3]"
      ]
     },
     "execution_count": 26,
     "metadata": {},
     "output_type": "execute_result"
    }
   ],
   "source": [
    "cands.keys()"
   ]
  },
  {
   "cell_type": "code",
   "execution_count": 41,
   "metadata": {
    "scrolled": true
   },
   "outputs": [],
   "source": [
    "## !!!!!!!!!!!! with lstm\n",
    "\n",
    "\n",
    "# Validation\n",
    "# val_pred = lstm.predictions(val_cands)\n",
    "val_pred_prob = lstm.marginals(val_cands)\n",
    "val_ids = list(map(lambda x: x.id ,val_cands))\n",
    "# Test\n",
    "# test_pred = lstm.predictions(test_cands)\n",
    "test_pred_prob = lstm.marginals(test_cands)\n",
    "test_ids = list(map(lambda x: x.id ,test_cands))\n",
    "# Unlabelled\n",
    "# unlab_pred = lstm.predictions(unlab_cands)\n",
    "unlab_pred_prob = lstm.marginals(unlab_cands)\n",
    "unlab_ids = list(map(lambda x: x.id ,unlab_cands))\n",
    "\n",
    "# do it with \n",
    "val_ground_truth = list(map(lambda x: cands[1][x]['label'], val_ids))\n",
    "test_ground_truth = list(map(lambda x: cands[2][x]['label'], test_ids))\n",
    "\n",
    "class_report = report_to_df(classification_report(val_ground_truth, val_pred))\n",
    "\n",
    "results_dict['biLSTM'] = {'label_val_prob+' :dict(zip(val_ids,val_pred_prob)),\n",
    "                          'label_test_prob+' :dict(zip(test_ids,test_pred_prob)),\n",
    "                          'label_unlab_prob+' :dict(zip(unlab_ids,unlab_pred_prob)),\n",
    "                          \"classification_report\": class_report,\n",
    "                          'f1+': f1_score(val_ground_truth, val_pred)\n",
    "                         }"
   ]
  },
  {
   "cell_type": "code",
   "execution_count": null,
   "metadata": {},
   "outputs": [],
   "source": []
  },
  {
   "cell_type": "code",
   "execution_count": 42,
   "metadata": {},
   "outputs": [
    {
     "data": {
      "text/plain": [
       "['biLSTM']"
      ]
     },
     "execution_count": 42,
     "metadata": {},
     "output_type": "execute_result"
    }
   ],
   "source": [
    "results_dict.keys()"
   ]
  },
  {
   "cell_type": "code",
   "execution_count": 43,
   "metadata": {},
   "outputs": [],
   "source": [
    "with open('../ml_predictions/RuS,lr=0.001,dropout=0.25,8epochs,rebalance=0,max_sent_length=64.pkl', 'wb') as f:\n",
    "    pickle.dump(results_dict, f)"
   ]
  },
  {
   "cell_type": "code",
   "execution_count": null,
   "metadata": {},
   "outputs": [],
   "source": []
  },
  {
   "cell_type": "code",
   "execution_count": null,
   "metadata": {},
   "outputs": [],
   "source": []
  },
  {
   "cell_type": "code",
   "execution_count": null,
   "metadata": {},
   "outputs": [],
   "source": []
  }
 ],
 "metadata": {
  "kernelspec": {
   "display_name": "Python [conda env:snorkel27clone]",
   "language": "python",
   "name": "conda-env-snorkel27clone-py"
  },
  "language_info": {
   "codemirror_mode": {
    "name": "ipython",
    "version": 2
   },
   "file_extension": ".py",
   "mimetype": "text/x-python",
   "name": "python",
   "nbconvert_exporter": "python",
   "pygments_lexer": "ipython2",
   "version": "2.7.15"
  }
 },
 "nbformat": 4,
 "nbformat_minor": 2
}
