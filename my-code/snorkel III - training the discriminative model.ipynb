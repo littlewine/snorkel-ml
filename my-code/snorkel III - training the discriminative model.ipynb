{
 "cells": [
  {
   "cell_type": "code",
   "execution_count": 1,
   "metadata": {},
   "outputs": [
    {
     "name": "stdout",
     "output_type": "stream",
     "text": [
      "Setting up variables & DB connection for experiment:\n",
      "\n",
      "*******************\n",
      "25similar\n",
      "*******************\n",
      "\n",
      "Snorkel session connected to:  postgres:///snorkel25similar\n"
     ]
    },
    {
     "name": "stderr",
     "output_type": "stream",
     "text": [
      "/home/antonis/anaconda2/envs/snorkel27clone/lib/python2.7/site-packages/psycopg2/__init__.py:144: UserWarning: The psycopg2 wheel package will be renamed from release 2.8; in order to keep installing from binary please use \"pip install psycopg2-binary\" instead. For details see: <http://initd.org/psycopg/docs/install.html#binary-install-from-pypi>.\n",
      "  \"\"\")\n"
     ]
    }
   ],
   "source": [
    "experiment_name = '25similar'\n",
    "%load_ext autoreload\n",
    "%autoreload 2\n",
    "%matplotlib inline\n",
    "%run init.py"
   ]
  },
  {
   "cell_type": "code",
   "execution_count": null,
   "metadata": {},
   "outputs": [],
   "source": []
  },
  {
   "cell_type": "code",
   "execution_count": 2,
   "metadata": {},
   "outputs": [
    {
     "name": "stdout",
     "output_type": "stream",
     "text": [
      "Training set:\t13007 candidates\n",
      "Dev set:\t3242 candidates\n",
      "Test set:\t8221 candidates\n",
      "Unlab set:\t23509 candidates\n"
     ]
    }
   ],
   "source": [
    "train = session.query(REGULATOR).filter(REGULATOR.split == 0).order_by(REGULATOR.id).all()\n",
    "dev = session.query(REGULATOR).filter(REGULATOR.split == 1).order_by(REGULATOR.id).all()\n",
    "test = session.query(REGULATOR).filter(REGULATOR.split == 2).order_by(REGULATOR.id).all()\n",
    "unlab = session.query(REGULATOR).filter(REGULATOR.split == 3).order_by(REGULATOR.id).all()\n",
    "\n",
    "print('Training set:\\t{0} candidates'.format(len(train)))\n",
    "print('Dev set:\\t{0} candidates'.format(len(dev)))\n",
    "print('Test set:\\t{0} candidates'.format(len(test)))\n",
    "print('Unlab set:\\t{0} candidates'.format(len(unlab)))"
   ]
  },
  {
   "cell_type": "code",
   "execution_count": 3,
   "metadata": {},
   "outputs": [],
   "source": [
    "from snorkel.annotations import load_gold_labels\n",
    "\n",
    "L_gold_train  = load_gold_labels(session, annotator_name='gold', split=0)\n",
    "L_gold_dev  = load_gold_labels(session, annotator_name='gold', split=1)\n",
    "L_gold_test = load_gold_labels(session, annotator_name='gold', split=2)"
   ]
  },
  {
   "cell_type": "code",
   "execution_count": 4,
   "metadata": {},
   "outputs": [],
   "source": [
    "import numpy as np\n",
    "from snorkel.annotations import load_marginals"
   ]
  },
  {
   "cell_type": "code",
   "execution_count": 5,
   "metadata": {},
   "outputs": [],
   "source": [
    "unlab_marginals = load_marginals(session, split=3) # safe - loads them after ordering by candidate id"
   ]
  },
  {
   "cell_type": "code",
   "execution_count": 6,
   "metadata": {},
   "outputs": [],
   "source": [
    "# just to make sure that it keeps consistency\n",
    "train_labels = np.array([0 if train[x].gold_labels[0].value ==-1 else 1 for x in range(len(train))]) # load train labels to mix in LSTM\n",
    "dev_labels = np.array([0 if dev[x].gold_labels[0].value ==-1 else 1 for x in range(len(dev))]) # load train labels to mix in LSTM\n",
    "test_labels = np.array([0 if test[x].gold_labels[0].value ==-1 else 1 for x in range(len(test))]) # load train labels to mix in LSTM"
   ]
  },
  {
   "cell_type": "code",
   "execution_count": 7,
   "metadata": {},
   "outputs": [
    {
     "data": {
      "text/plain": [
       "'1.14.5'"
      ]
     },
     "execution_count": 7,
     "metadata": {},
     "output_type": "execute_result"
    }
   ],
   "source": [
    "np.__version__"
   ]
  },
  {
   "cell_type": "code",
   "execution_count": 8,
   "metadata": {},
   "outputs": [
    {
     "name": "stderr",
     "output_type": "stream",
     "text": [
      "/home/antonis/anaconda2/envs/snorkel27clone/lib/python2.7/site-packages/h5py/__init__.py:36: FutureWarning: Conversion of the second argument of issubdtype from `float` to `np.floating` is deprecated. In future, it will be treated as `np.float64 == np.dtype(float).type`.\n",
      "  from ._conv import register_converters as _register_converters\n"
     ]
    },
    {
     "name": "stdout",
     "output_type": "stream",
     "text": [
      "WARNING:tensorflow:From /home/antonis/anaconda2/envs/snorkel27clone/lib/python2.7/site-packages/tensorflow/contrib/learn/python/learn/datasets/base.py:198: retry (from tensorflow.contrib.learn.python.learn.datasets.base) is deprecated and will be removed in a future version.\n",
      "Instructions for updating:\n",
      "Use the retry module or similar alternatives.\n"
     ]
    }
   ],
   "source": [
    "from snorkel.learning import reRNN"
   ]
  },
  {
   "cell_type": "code",
   "execution_count": 9,
   "metadata": {},
   "outputs": [],
   "source": [
    "from MLutils import balance_candidates"
   ]
  },
  {
   "cell_type": "code",
   "execution_count": 10,
   "metadata": {},
   "outputs": [],
   "source": [
    "# unlab_us,unlab_marginals_us = balance_candidates(unlab,unlab_marginals)\n",
    "\n",
    "# # TODO: balance candidates also in training set (change train_unlab_marginals below + train -> train_us in lstm.train)\n",
    "train_us, train_labels_us = balance_candidates(train,train_labels)\n",
    "\n",
    "train_unlab_marginals = np.append(train_labels_us, unlab_marginals)"
   ]
  },
  {
   "cell_type": "code",
   "execution_count": 11,
   "metadata": {
    "scrolled": true
   },
   "outputs": [
    {
     "data": {
      "image/png": "[encoded data removed]",
      "text/plain": [
       "<Figure size 432x288 with 1 Axes>"
      ]
     },
     "metadata": {},
     "output_type": "display_data"
    },
    {
     "data": {
      "image/png": "[encoded data removed]",
      "text/plain": [
       "<Figure size 432x288 with 1 Axes>"
      ]
     },
     "metadata": {},
     "output_type": "display_data"
    },
    {
     "data": {
      "image/png": "[encoded data removed]",
      "text/plain": [
       "<Figure size 432x288 with 1 Axes>"
      ]
     },
     "metadata": {},
     "output_type": "display_data"
    }
   ],
   "source": [
    "import matplotlib.pyplot as plt\n",
    "plt.hist(unlab_marginals, bins=20, range=[0,1])\n",
    "plt.title('Histogram of probabilistic labels (unlab set)')\n",
    "plt.show()\n",
    "\n",
    "import matplotlib.pyplot as plt\n",
    "plt.hist(train_labels_us, bins=20, range=[0,1])\n",
    "plt.title('Histogram of GS labels')\n",
    "plt.show()\n",
    "\n",
    "# plt.hist(unlab_marginals_us, bins=20, range=[0,1])\n",
    "# plt.title('Histogram of probabilistic labels (unlab set, undersampled)')\n",
    "# plt.show()\n",
    "\n",
    "# plt.hist(train_labels_us, bins=20)\n",
    "# plt.title('Histogram of labels (train set)')\n",
    "# plt.show()\n",
    "\n",
    "plt.hist(train_unlab_marginals, bins=20)\n",
    "plt.title('Histogram of probabilistic labels (train+unlab set)')\n",
    "plt.show()\n"
   ]
  },
  {
   "cell_type": "markdown",
   "metadata": {},
   "source": [
    "** train on train_set (to see if all ok or theres a mess-up in labels) **"
   ]
  },
  {
   "cell_type": "code",
   "execution_count": 12,
   "metadata": {},
   "outputs": [
    {
     "data": {
      "text/plain": [
       "13007"
      ]
     },
     "execution_count": 12,
     "metadata": {},
     "output_type": "execute_result"
    }
   ],
   "source": [
    "len(train)"
   ]
  },
  {
   "cell_type": "code",
   "execution_count": 13,
   "metadata": {},
   "outputs": [
    {
     "data": {
      "text/plain": [
       "(13007,)"
      ]
     },
     "execution_count": 13,
     "metadata": {},
     "output_type": "execute_result"
    }
   ],
   "source": [
    "train_labels.shape"
   ]
  },
  {
   "cell_type": "code",
   "execution_count": 16,
   "metadata": {},
   "outputs": [
    {
     "data": {
      "text/plain": [
       "matrix([[-1],\n",
       "        [-1],\n",
       "        [-1],\n",
       "        ...,\n",
       "        [ 1],\n",
       "        [-1],\n",
       "        [-1]])"
      ]
     },
     "execution_count": 16,
     "metadata": {},
     "output_type": "execute_result"
    }
   ],
   "source": [
    "L_gold_dev.todense()"
   ]
  },
  {
   "cell_type": "code",
   "execution_count": 17,
   "metadata": {},
   "outputs": [
    {
     "data": {
      "text/plain": [
       "array([0, 0, 0, ..., 1, 0, 0])"
      ]
     },
     "execution_count": 17,
     "metadata": {},
     "output_type": "execute_result"
    }
   ],
   "source": [
    "dev_labels"
   ]
  },
  {
   "cell_type": "markdown",
   "metadata": {},
   "source": [
    "** train on training **"
   ]
  },
  {
   "cell_type": "code",
   "execution_count": 23,
   "metadata": {},
   "outputs": [
    {
     "name": "stderr",
     "output_type": "stream",
     "text": [
      "/home/antonis/anaconda2/envs/snorkel27clone/lib/python2.7/site-packages/tensorflow/python/ops/gradients_impl.py:100: UserWarning: Converting sparse IndexedSlices to a dense Tensor of unknown shape. This may consume a large amount of memory.\n",
      "  \"Converting sparse IndexedSlices to a dense Tensor of unknown shape. \"\n"
     ]
    },
    {
     "name": "stdout",
     "output_type": "stream",
     "text": [
      "[reRNN] Training model\n",
      "[reRNN] n_train=6576  #epochs=10  batch size=64\n",
      "[reRNN] Epoch 0 (25.59s)\tAverage loss=0.572058\tDev F1=48.56\n",
      "[reRNN] Epoch 1 (55.05s)\tAverage loss=0.357547\tDev F1=51.71\n",
      "[reRNN] Model saved as <reRNN>\n",
      "[reRNN] Epoch 2 (83.44s)\tAverage loss=0.262779\tDev F1=47.70\n",
      "[reRNN] Epoch 3 (111.20s)\tAverage loss=0.202796\tDev F1=49.22\n",
      "[reRNN] Epoch 4 (139.57s)\tAverage loss=0.151993\tDev F1=51.00\n",
      "[reRNN] Epoch 5 (167.06s)\tAverage loss=0.123686\tDev F1=52.72\n",
      "[reRNN] Model saved as <reRNN>\n",
      "[reRNN] Epoch 6 (195.02s)\tAverage loss=0.091535\tDev F1=53.15\n",
      "[reRNN] Model saved as <reRNN>\n",
      "[reRNN] Epoch 7 (222.96s)\tAverage loss=0.069518\tDev F1=50.65\n",
      "[reRNN] Epoch 8 (250.77s)\tAverage loss=0.056904\tDev F1=51.18\n",
      "[reRNN] Epoch 9 (278.54s)\tAverage loss=0.049904\tDev F1=50.00\n",
      "[reRNN] Training done (282.33s)\n",
      "INFO:tensorflow:Restoring parameters from checkpoints/reRNN/reRNN-6\n",
      "[reRNN] Loaded model <reRNN>\n"
     ]
    }
   ],
   "source": [
    "train_kwargs = {\n",
    "    'lr':         0.01,\n",
    "    'dim':        100,\n",
    "    'n_epochs':   10,\n",
    "    'dropout':    0.25,\n",
    "    'rebalance':  True,\n",
    "    'print_freq': 1,\n",
    "    'batch_size': 64,\n",
    "    'dev_ckpt_delay': 0\n",
    "}\n",
    "\n",
    "lstm = reRNN(seed=1701, deterministic=True)\n",
    "lstm.train(train, train_labels, X_dev=dev, Y_dev=L_gold_dev, **train_kwargs)\n"
   ]
  },
  {
   "cell_type": "code",
   "execution_count": 24,
   "metadata": {},
   "outputs": [
    {
     "data": {
      "text/plain": [
       "(0.4569402228976697, 0.6352112676056338, 0.5315262227460225)"
      ]
     },
     "execution_count": 24,
     "metadata": {},
     "output_type": "execute_result"
    }
   ],
   "source": [
    "lstm.score(dev,L_gold_dev)"
   ]
  },
  {
   "cell_type": "code",
   "execution_count": 25,
   "metadata": {},
   "outputs": [
    {
     "data": {
      "text/plain": [
       "(0.4569402228976697, 0.6352112676056338, 0.5315262227460225)"
      ]
     },
     "execution_count": 25,
     "metadata": {},
     "output_type": "execute_result"
    }
   ],
   "source": [
    "lstm.score(dev,dev_labels)"
   ]
  },
  {
   "cell_type": "code",
   "execution_count": 26,
   "metadata": {},
   "outputs": [
    {
     "data": {
      "text/plain": [
       "(0.5132743362831859, 0.6139112903225806, 0.5591002983704384)"
      ]
     },
     "execution_count": 26,
     "metadata": {},
     "output_type": "execute_result"
    }
   ],
   "source": [
    "lstm.score(test,L_gold_test,batch_size=32)"
   ]
  },
  {
   "cell_type": "code",
   "execution_count": 27,
   "metadata": {},
   "outputs": [
    {
     "data": {
      "text/plain": [
       "(0.5132743362831859, 0.6139112903225806, 0.5591002983704384)"
      ]
     },
     "execution_count": 27,
     "metadata": {},
     "output_type": "execute_result"
    }
   ],
   "source": [
    "lstm.score(test,test_labels,batch_size=64)"
   ]
  },
  {
   "cell_type": "markdown",
   "metadata": {},
   "source": [
    "** train on unlab **"
   ]
  },
  {
   "cell_type": "code",
   "execution_count": 38,
   "metadata": {
    "scrolled": false
   },
   "outputs": [
    {
     "name": "stderr",
     "output_type": "stream",
     "text": [
      "/home/antonis/anaconda2/envs/snorkel27/lib/python2.7/site-packages/tensorflow/python/ops/gradients_impl.py:100: UserWarning: Converting sparse IndexedSlices to a dense Tensor of unknown shape. This may consume a large amount of memory.\n",
      "  \"Converting sparse IndexedSlices to a dense Tensor of unknown shape. \"\n"
     ]
    },
    {
     "name": "stdout",
     "output_type": "stream",
     "text": [
      "[reRNN] Training model\n",
      "[reRNN] n_train=10786  #epochs=35  batch size=64\n",
      "[reRNN] Epoch 0 (29.66s)\tAverage loss=0.605242\tDev F1=39.39\n",
      "[reRNN] Epoch 1 (62.07s)\tAverage loss=0.441300\tDev F1=36.97\n",
      "[reRNN] Epoch 2 (94.42s)\tAverage loss=0.358777\tDev F1=37.20\n",
      "[reRNN] Epoch 3 (126.68s)\tAverage loss=0.326538\tDev F1=38.69\n",
      "[reRNN] Epoch 4 (158.80s)\tAverage loss=0.309259\tDev F1=40.40\n",
      "[reRNN] Epoch 5 (191.24s)\tAverage loss=0.295640\tDev F1=39.77\n",
      "[reRNN] Epoch 6 (223.55s)\tAverage loss=0.286219\tDev F1=38.31\n",
      "[reRNN] Epoch 7 (255.60s)\tAverage loss=0.280151\tDev F1=39.34\n",
      "[reRNN] Epoch 8 (287.53s)\tAverage loss=0.272821\tDev F1=41.00\n",
      "[reRNN] Epoch 9 (319.84s)\tAverage loss=0.268550\tDev F1=39.86\n",
      "[reRNN] Epoch 10 (351.62s)\tAverage loss=0.266627\tDev F1=40.16\n",
      "[reRNN] Epoch 11 (383.94s)\tAverage loss=0.263585\tDev F1=41.28\n",
      "[reRNN] Epoch 12 (416.03s)\tAverage loss=0.258636\tDev F1=41.27\n",
      "[reRNN] Epoch 13 (448.12s)\tAverage loss=0.255536\tDev F1=40.86\n",
      "[reRNN] Epoch 14 (480.49s)\tAverage loss=0.253268\tDev F1=41.30\n",
      "[reRNN] Epoch 15 (512.48s)\tAverage loss=0.251587\tDev F1=39.58\n",
      "[reRNN] Epoch 16 (544.78s)\tAverage loss=0.249557\tDev F1=39.96\n",
      "[reRNN] Epoch 17 (577.25s)\tAverage loss=0.247870\tDev F1=39.42\n",
      "[reRNN] Epoch 18 (609.25s)\tAverage loss=0.246578\tDev F1=39.66\n",
      "[reRNN] Epoch 19 (642.20s)\tAverage loss=0.245560\tDev F1=40.07\n",
      "[reRNN] Epoch 20 (674.60s)\tAverage loss=0.244986\tDev F1=38.73\n",
      "[reRNN] Epoch 21 (707.18s)\tAverage loss=0.246083\tDev F1=39.42\n",
      "[reRNN] Epoch 22 (740.34s)\tAverage loss=0.246953\tDev F1=39.90\n",
      "[reRNN] Epoch 23 (772.72s)\tAverage loss=0.247032\tDev F1=40.57\n",
      "[reRNN] Epoch 24 (804.82s)\tAverage loss=0.248718\tDev F1=38.58\n",
      "[reRNN] Epoch 25 (838.00s)\tAverage loss=0.250812\tDev F1=40.17\n",
      "[reRNN] Epoch 26 (870.36s)\tAverage loss=0.251876\tDev F1=38.38\n",
      "[reRNN] Epoch 27 (902.61s)\tAverage loss=0.254061\tDev F1=39.94\n",
      "[reRNN] Model saved as <reRNN>\n",
      "[reRNN] Epoch 28 (935.10s)\tAverage loss=0.253901\tDev F1=38.28\n",
      "[reRNN] Epoch 29 (967.52s)\tAverage loss=0.253047\tDev F1=38.75\n",
      "[reRNN] Epoch 30 (1000.04s)\tAverage loss=0.247259\tDev F1=39.62\n",
      "[reRNN] Epoch 31 (1032.36s)\tAverage loss=0.244276\tDev F1=38.75\n",
      "[reRNN] Epoch 32 (1064.80s)\tAverage loss=0.243595\tDev F1=37.79\n",
      "[reRNN] Epoch 33 (1096.99s)\tAverage loss=0.244079\tDev F1=38.25\n",
      "[reRNN] Epoch 34 (1129.23s)\tAverage loss=0.245237\tDev F1=37.49\n",
      "[reRNN] Training done (1132.12s)\n",
      "INFO:tensorflow:Restoring parameters from checkpoints/reRNN/reRNN-27\n",
      "[reRNN] Loaded model <reRNN>\n"
     ]
    }
   ],
   "source": [
    "train_kwargs = {\n",
    "    'lr':         0.01,\n",
    "    'dim':        100,\n",
    "    'n_epochs':   35,\n",
    "    'dropout':    0.25,\n",
    "    'rebalance':  True,\n",
    "    'print_freq': 1,\n",
    "    'batch_size': 64,\n",
    "    'dev_ckpt_delay': 0\n",
    "}\n",
    "\n",
    "lstm = reRNN(seed=1701, deterministic=True)\n",
    "lstm.train(unlab, unlab_marginals, X_dev=dev, Y_dev=L_gold_dev, **train_kwargs)"
   ]
  },
  {
   "cell_type": "code",
   "execution_count": null,
   "metadata": {},
   "outputs": [],
   "source": []
  },
  {
   "cell_type": "code",
   "execution_count": 18,
   "metadata": {},
   "outputs": [
    {
     "data": {
      "text/plain": [
       "(0.3263888888888889, 0.5957746478873239, 0.4217347956131605)"
      ]
     },
     "execution_count": 18,
     "metadata": {},
     "output_type": "execute_result"
    }
   ],
   "source": [
    "lstm.score(dev,L_gold_dev)"
   ]
  },
  {
   "cell_type": "code",
   "execution_count": 19,
   "metadata": {},
   "outputs": [
    {
     "data": {
      "text/plain": [
       "(0.3263888888888889, 0.5957746478873239, 0.4217347956131605)"
      ]
     },
     "execution_count": 19,
     "metadata": {},
     "output_type": "execute_result"
    }
   ],
   "source": [
    "lstm.score(dev,dev_labels)"
   ]
  },
  {
   "cell_type": "code",
   "execution_count": 22,
   "metadata": {},
   "outputs": [
    {
     "data": {
      "text/plain": [
       "(0.34204733076499727, 0.6265120967741935, 0.4425062299750801)"
      ]
     },
     "execution_count": 22,
     "metadata": {},
     "output_type": "execute_result"
    }
   ],
   "source": [
    "lstm.score(test,L_gold_test,batch_size=1024)"
   ]
  },
  {
   "cell_type": "code",
   "execution_count": 23,
   "metadata": {},
   "outputs": [
    {
     "data": {
      "text/plain": [
       "(0.34204733076499727, 0.6265120967741935, 0.4425062299750801)"
      ]
     },
     "execution_count": 23,
     "metadata": {},
     "output_type": "execute_result"
    }
   ],
   "source": [
    "lstm.score(test,test_labels,batch_size=1024)"
   ]
  },
  {
   "cell_type": "code",
   "execution_count": null,
   "metadata": {},
   "outputs": [],
   "source": []
  },
  {
   "cell_type": "code",
   "execution_count": 41,
   "metadata": {},
   "outputs": [
    {
     "name": "stderr",
     "output_type": "stream",
     "text": [
      "/home/antonis/anaconda2/envs/snorkel27clone/lib/python2.7/site-packages/tensorflow/python/ops/gradients_impl.py:100: UserWarning: Converting sparse IndexedSlices to a dense Tensor of unknown shape. This may consume a large amount of memory.\n",
      "  \"Converting sparse IndexedSlices to a dense Tensor of unknown shape. \"\n"
     ]
    },
    {
     "name": "stdout",
     "output_type": "stream",
     "text": [
      "[reRNN] Training model\n",
      "[reRNN] n_train=10786  #epochs=30  batch size=64\n",
      "[reRNN] Epoch 0 (42.24s)\tAverage loss=0.586706\tDev F1=45.27\n",
      "[reRNN] Epoch 1 (87.74s)\tAverage loss=0.459238\tDev F1=47.06\n",
      "[reRNN] Model saved as <reRNN>\n",
      "[reRNN] Epoch 2 (133.41s)\tAverage loss=0.398579\tDev F1=44.79\n",
      "[reRNN] Epoch 3 (179.03s)\tAverage loss=0.361436\tDev F1=43.49\n",
      "[reRNN] Epoch 4 (224.62s)\tAverage loss=0.337766\tDev F1=43.32\n",
      "[reRNN] Epoch 5 (270.23s)\tAverage loss=0.321387\tDev F1=42.31\n",
      "[reRNN] Epoch 6 (315.95s)\tAverage loss=0.311192\tDev F1=41.73\n",
      "[reRNN] Epoch 7 (363.12s)\tAverage loss=0.304481\tDev F1=40.17\n",
      "[reRNN] Epoch 8 (409.29s)\tAverage loss=0.295657\tDev F1=44.38\n",
      "[reRNN] Epoch 9 (458.38s)\tAverage loss=0.290723\tDev F1=42.48\n",
      "[reRNN] Epoch 10 (504.90s)\tAverage loss=0.286491\tDev F1=41.82\n",
      "[reRNN] Epoch 11 (551.70s)\tAverage loss=0.283690\tDev F1=42.00\n",
      "[reRNN] Epoch 12 (600.30s)\tAverage loss=0.282432\tDev F1=43.33\n",
      "[reRNN] Epoch 13 (647.07s)\tAverage loss=0.278338\tDev F1=41.58\n",
      "[reRNN] Epoch 14 (693.12s)\tAverage loss=0.275135\tDev F1=42.62\n",
      "[reRNN] Epoch 15 (738.71s)\tAverage loss=0.269910\tDev F1=42.91\n",
      "[reRNN] Epoch 16 (784.56s)\tAverage loss=0.268344\tDev F1=42.62\n",
      "[reRNN] Epoch 17 (830.43s)\tAverage loss=0.270309\tDev F1=42.08\n",
      "[reRNN] Epoch 18 (875.65s)\tAverage loss=0.271177\tDev F1=42.34\n",
      "[reRNN] Epoch 19 (921.09s)\tAverage loss=0.263273\tDev F1=41.59\n",
      "[reRNN] Epoch 20 (967.93s)\tAverage loss=0.260743\tDev F1=42.87\n",
      "[reRNN] Epoch 21 (1015.64s)\tAverage loss=0.258279\tDev F1=41.29\n",
      "[reRNN] Epoch 22 (1063.71s)\tAverage loss=0.259660\tDev F1=40.90\n",
      "[reRNN] Epoch 23 (1110.31s)\tAverage loss=0.256750\tDev F1=41.34\n",
      "[reRNN] Epoch 24 (1156.25s)\tAverage loss=0.254355\tDev F1=41.63\n",
      "[reRNN] Epoch 25 (1202.11s)\tAverage loss=0.255535\tDev F1=40.37\n",
      "[reRNN] Epoch 26 (1247.33s)\tAverage loss=0.253374\tDev F1=41.15\n",
      "[reRNN] Epoch 27 (1292.61s)\tAverage loss=0.250567\tDev F1=40.15\n",
      "[reRNN] Epoch 28 (1339.21s)\tAverage loss=0.249119\tDev F1=41.18\n",
      "[reRNN] Epoch 29 (1387.29s)\tAverage loss=0.248291\tDev F1=40.68\n",
      "[reRNN] Training done (1391.27s)\n",
      "INFO:tensorflow:Restoring parameters from checkpoints/reRNN/reRNN-1\n",
      "[reRNN] Loaded model <reRNN>\n"
     ]
    }
   ],
   "source": [
    "# reduce LR\n",
    "# what happens with training loss????\n",
    "train_kwargs = {\n",
    "    'lr':         0.001,\n",
    "    'dim':        100,\n",
    "    'n_epochs':   30,\n",
    "    'dropout':    0.25,\n",
    "    'rebalance':  True,\n",
    "    'print_freq': 1,\n",
    "    'batch_size': 64,\n",
    "    'dev_ckpt_delay': 0\n",
    "}\n",
    "\n",
    "lstm = reRNN(seed=1701, deterministic=True)\n",
    "lstm.train(unlab, unlab_marginals, X_dev=dev, Y_dev=L_gold_dev, **train_kwargs)"
   ]
  },
  {
   "cell_type": "code",
   "execution_count": null,
   "metadata": {},
   "outputs": [],
   "source": []
  },
  {
   "cell_type": "code",
   "execution_count": 42,
   "metadata": {},
   "outputs": [
    {
     "data": {
      "text/plain": [
       "(0.3984375, 0.5746478873239437, 0.4705882352941177)"
      ]
     },
     "execution_count": 42,
     "metadata": {},
     "output_type": "execute_result"
    }
   ],
   "source": [
    "lstm.score(dev,L_gold_dev)"
   ]
  },
  {
   "cell_type": "code",
   "execution_count": 43,
   "metadata": {},
   "outputs": [
    {
     "data": {
      "text/plain": [
       "(0.3984375, 0.5746478873239437, 0.4705882352941177)"
      ]
     },
     "execution_count": 43,
     "metadata": {},
     "output_type": "execute_result"
    }
   ],
   "source": [
    "lstm.score(dev,dev_labels)"
   ]
  },
  {
   "cell_type": "code",
   "execution_count": 44,
   "metadata": {},
   "outputs": [
    {
     "data": {
      "text/plain": [
       "(0.36807028173280826, 0.6123991935483871, 0.45979186376537373)"
      ]
     },
     "execution_count": 44,
     "metadata": {},
     "output_type": "execute_result"
    }
   ],
   "source": [
    "lstm.score(test,L_gold_test,batch_size=32)"
   ]
  },
  {
   "cell_type": "code",
   "execution_count": 45,
   "metadata": {},
   "outputs": [
    {
     "data": {
      "text/plain": [
       "(0.36807028173280826, 0.6123991935483871, 0.45979186376537373)"
      ]
     },
     "execution_count": 45,
     "metadata": {},
     "output_type": "execute_result"
    }
   ],
   "source": [
    "lstm.score(test,test_labels,batch_size=1024)"
   ]
  },
  {
   "cell_type": "code",
   "execution_count": null,
   "metadata": {},
   "outputs": [],
   "source": []
  },
  {
   "cell_type": "code",
   "execution_count": 46,
   "metadata": {},
   "outputs": [
    {
     "name": "stdout",
     "output_type": "stream",
     "text": [
      "========================================\n",
      "Scores (Un-adjusted)\n",
      "========================================\n",
      "Pos. class accuracy: 0.575\n",
      "Neg. class accuracy: 0.757\n",
      "Precision            0.398\n",
      "Recall               0.575\n",
      "F1                   0.471\n",
      "----------------------------------------\n",
      "TP: 408 | FP: 616 | TN: 1916 | FN: 302\n",
      "========================================\n",
      "\n"
     ]
    }
   ],
   "source": [
    "tp, fp, tn, fn = lstm.error_analysis(session, dev, L_gold_dev)"
   ]
  },
  {
   "cell_type": "code",
   "execution_count": 47,
   "metadata": {},
   "outputs": [
    {
     "name": "stdout",
     "output_type": "stream",
     "text": [
      "========================================\n",
      "Scores (Un-adjusted)\n",
      "========================================\n",
      "Pos. class accuracy: 0.612\n",
      "Neg. class accuracy: 0.666\n",
      "Precision            0.368\n",
      "Recall               0.612\n",
      "F1                   0.46\n",
      "----------------------------------------\n",
      "TP: 1215 | FP: 2086 | TN: 4151 | FN: 769\n",
      "========================================\n",
      "\n"
     ]
    }
   ],
   "source": [
    "tp, fp, tn, fn = lstm.error_analysis(session, test, L_gold_test,batch_size=1024)"
   ]
  },
  {
   "cell_type": "markdown",
   "metadata": {},
   "source": [
    "** train on GS + unlab **"
   ]
  },
  {
   "cell_type": "code",
   "execution_count": 48,
   "metadata": {},
   "outputs": [
    {
     "name": "stderr",
     "output_type": "stream",
     "text": [
      "/home/antonis/anaconda2/envs/snorkel27clone/lib/python2.7/site-packages/tensorflow/python/ops/gradients_impl.py:100: UserWarning: Converting sparse IndexedSlices to a dense Tensor of unknown shape. This may consume a large amount of memory.\n",
      "  \"Converting sparse IndexedSlices to a dense Tensor of unknown shape. \"\n"
     ]
    },
    {
     "name": "stdout",
     "output_type": "stream",
     "text": [
      "[reRNN] Training model\n",
      "[reRNN] n_train=17362  #epochs=30  batch size=64\n",
      "[reRNN] Epoch 0 (69.73s)\tAverage loss=0.578129\tDev F1=46.19\n",
      "[reRNN] Epoch 1 (142.83s)\tAverage loss=0.408952\tDev F1=46.51\n",
      "[reRNN] Model saved as <reRNN>\n",
      "[reRNN] Epoch 2 (216.47s)\tAverage loss=0.336897\tDev F1=47.01\n",
      "[reRNN] Model saved as <reRNN>\n",
      "[reRNN] Epoch 3 (290.66s)\tAverage loss=0.300556\tDev F1=44.67\n",
      "[reRNN] Epoch 4 (364.92s)\tAverage loss=0.270693\tDev F1=46.98\n",
      "[reRNN] Epoch 5 (437.66s)\tAverage loss=0.255940\tDev F1=41.30\n",
      "[reRNN] Epoch 6 (511.74s)\tAverage loss=0.244919\tDev F1=46.54\n",
      "[reRNN] Epoch 7 (586.26s)\tAverage loss=0.234462\tDev F1=43.72\n",
      "[reRNN] Epoch 8 (661.69s)\tAverage loss=0.224339\tDev F1=43.22\n",
      "[reRNN] Epoch 9 (735.39s)\tAverage loss=0.221312\tDev F1=45.94\n",
      "[reRNN] Epoch 10 (811.10s)\tAverage loss=0.216153\tDev F1=45.51\n",
      "[reRNN] Epoch 11 (884.63s)\tAverage loss=0.215942\tDev F1=42.90\n",
      "[reRNN] Epoch 12 (956.75s)\tAverage loss=0.213279\tDev F1=44.98\n",
      "[reRNN] Epoch 13 (1032.44s)\tAverage loss=0.203226\tDev F1=46.29\n",
      "[reRNN] Epoch 14 (1106.22s)\tAverage loss=0.195190\tDev F1=45.38\n",
      "[reRNN] Epoch 15 (1180.74s)\tAverage loss=0.195718\tDev F1=47.95\n",
      "[reRNN] Model saved as <reRNN>\n",
      "[reRNN] Epoch 16 (1253.90s)\tAverage loss=0.202456\tDev F1=46.39\n",
      "[reRNN] Epoch 17 (1326.43s)\tAverage loss=0.207862\tDev F1=44.09\n",
      "[reRNN] Epoch 18 (1399.78s)\tAverage loss=0.212410\tDev F1=46.37\n",
      "[reRNN] Epoch 19 (1472.54s)\tAverage loss=0.216829\tDev F1=46.15\n",
      "[reRNN] Epoch 20 (1545.19s)\tAverage loss=0.206713\tDev F1=44.19\n",
      "[reRNN] Epoch 21 (1618.81s)\tAverage loss=0.203482\tDev F1=45.32\n",
      "[reRNN] Epoch 22 (1692.10s)\tAverage loss=0.206926\tDev F1=45.52\n",
      "[reRNN] Epoch 23 (1764.75s)\tAverage loss=0.211603\tDev F1=43.80\n",
      "[reRNN] Epoch 24 (1837.98s)\tAverage loss=0.202936\tDev F1=42.13\n",
      "[reRNN] Epoch 25 (1912.23s)\tAverage loss=0.203144\tDev F1=42.77\n",
      "[reRNN] Epoch 26 (1985.74s)\tAverage loss=0.203460\tDev F1=43.53\n",
      "[reRNN] Epoch 27 (2059.77s)\tAverage loss=0.208199\tDev F1=42.30\n",
      "[reRNN] Epoch 28 (2132.73s)\tAverage loss=0.214287\tDev F1=43.47\n",
      "[reRNN] Epoch 29 (2204.82s)\tAverage loss=0.221112\tDev F1=44.05\n",
      "[reRNN] Training done (2208.68s)\n",
      "INFO:tensorflow:Restoring parameters from checkpoints/reRNN/reRNN-15\n",
      "[reRNN] Loaded model <reRNN>\n"
     ]
    }
   ],
   "source": [
    "train_kwargs = {\n",
    "    'lr':         0.01,\n",
    "    'dim':        100,\n",
    "    'n_epochs':   30,\n",
    "    'dropout':    0.25,\n",
    "    'rebalance':  True,\n",
    "    'print_freq': 1,\n",
    "    'batch_size': 64,\n",
    "    'dev_ckpt_delay': 0\n",
    "}\n",
    "\n",
    "lstm = reRNN(seed=1701, deterministic=True)\n",
    "lstm.train(train+unlab, \n",
    "           np.concatenate([train_labels ,unlab_marginals]),\n",
    "           X_dev=dev, Y_dev=L_gold_dev, **train_kwargs)\n"
   ]
  },
  {
   "cell_type": "code",
   "execution_count": 49,
   "metadata": {},
   "outputs": [
    {
     "name": "stdout",
     "output_type": "stream",
     "text": [
      "========================================\n",
      "Scores (Un-adjusted)\n",
      "========================================\n",
      "Pos. class accuracy: 0.634\n",
      "Neg. class accuracy: 0.717\n",
      "Precision            0.386\n",
      "Recall               0.634\n",
      "F1                   0.479\n",
      "----------------------------------------\n",
      "TP: 450 | FP: 717 | TN: 1815 | FN: 260\n",
      "========================================\n",
      "\n"
     ]
    }
   ],
   "source": [
    "tp, fp, tn, fn = lstm.error_analysis(session, dev, L_gold_dev)"
   ]
  },
  {
   "cell_type": "code",
   "execution_count": 50,
   "metadata": {},
   "outputs": [
    {
     "name": "stdout",
     "output_type": "stream",
     "text": [
      "========================================\n",
      "Scores (Un-adjusted)\n",
      "========================================\n",
      "Pos. class accuracy: 0.681\n",
      "Neg. class accuracy: 0.676\n",
      "Precision            0.401\n",
      "Recall               0.681\n",
      "F1                   0.505\n",
      "----------------------------------------\n",
      "TP: 1351 | FP: 2019 | TN: 4218 | FN: 633\n",
      "========================================\n",
      "\n"
     ]
    }
   ],
   "source": [
    "tp, fp, tn, fn = lstm.error_analysis(session, test, L_gold_test, batch_size = 1024)"
   ]
  },
  {
   "cell_type": "code",
   "execution_count": null,
   "metadata": {},
   "outputs": [],
   "source": []
  },
  {
   "cell_type": "code",
   "execution_count": null,
   "metadata": {},
   "outputs": [],
   "source": []
  }
 ],
 "metadata": {
  "kernelspec": {
   "display_name": "Python [conda env:snorkel27clone]",
   "language": "python",
   "name": "conda-env-snorkel27clone-py"
  },
  "language_info": {
   "codemirror_mode": {
    "name": "ipython",
    "version": 2
   },
   "file_extension": ".py",
   "mimetype": "text/x-python",
   "name": "python",
   "nbconvert_exporter": "python",
   "pygments_lexer": "ipython2",
   "version": "2.7.15"
  }
 },
 "nbformat": 4,
 "nbformat_minor": 2
}
