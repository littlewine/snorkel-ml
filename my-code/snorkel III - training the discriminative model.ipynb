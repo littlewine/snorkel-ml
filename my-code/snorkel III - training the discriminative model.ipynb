{
 "cells": [
  {
   "cell_type": "code",
   "execution_count": 1,
   "metadata": {},
   "outputs": [],
   "source": [
    "%load_ext autoreload\n",
    "%autoreload 2\n",
    "%matplotlib inline\n",
    "\n",
    "import numpy as np\n",
    "from snorkel import SnorkelSession\n",
    "\n",
    "session = SnorkelSession()"
   ]
  },
  {
   "cell_type": "code",
   "execution_count": 4,
   "metadata": {},
   "outputs": [
    {
     "name": "stdout",
     "output_type": "stream",
     "text": [
      "Training set:\t12968 candidates\n",
      "Dev set:\t3237 candidates\n",
      "Test set:\t8278 candidates\n",
      "Test set:\t79460 candidates\n"
     ]
    }
   ],
   "source": [
    "from snorkel.models import Candidate, candidate_subclass\n",
    "REGULATOR = candidate_subclass('REGULATOR', ['Chemical', 'Gene'])\n",
    "\n",
    "train = session.query(REGULATOR).filter(REGULATOR.split == 0).all()\n",
    "dev = session.query(REGULATOR).filter(REGULATOR.split == 1).all()\n",
    "test = session.query(REGULATOR).filter(REGULATOR.split == 2).all()\n",
    "unlab = session.query(REGULATOR).filter(REGULATOR.split == 3).all()\n",
    "\n",
    "print('Training set:\\t{0} candidates'.format(len(train)))\n",
    "print('Dev set:\\t{0} candidates'.format(len(dev)))\n",
    "print('Test set:\\t{0} candidates'.format(len(test)))\n",
    "print('Test set:\\t{0} candidates'.format(len(unlab)))"
   ]
  },
  {
   "cell_type": "code",
   "execution_count": 10,
   "metadata": {},
   "outputs": [],
   "source": [
    "from snorkel.annotations import load_marginals\n",
    "# train_marginals = load_marginals(session, split=0)\n",
    "unlab_marginals = load_marginals(session, split=3)"
   ]
  },
  {
   "cell_type": "code",
   "execution_count": 11,
   "metadata": {},
   "outputs": [
    {
     "data": {
      "image/png": "[encoded data removed]",
      "text/plain": [
       "<Figure size 432x288 with 1 Axes>"
      ]
     },
     "metadata": {},
     "output_type": "display_data"
    }
   ],
   "source": [
    "import matplotlib.pyplot as plt\n",
    "plt.hist(unlab_marginals, bins=20)\n",
    "plt.title('Histogram of probabilistic labels')\n",
    "plt.show()"
   ]
  },
  {
   "cell_type": "code",
   "execution_count": 7,
   "metadata": {},
   "outputs": [],
   "source": [
    "from snorkel.annotations import load_gold_labels\n",
    "L_gold_dev = load_gold_labels(session, annotator_name='gold', split=1)"
   ]
  },
  {
   "cell_type": "code",
   "execution_count": 12,
   "metadata": {},
   "outputs": [
    {
     "name": "stderr",
     "output_type": "stream",
     "text": [
      "/home/antonis/anaconda2/envs/python27/lib/python2.7/site-packages/tensorflow/python/ops/gradients_impl.py:100: UserWarning: Converting sparse IndexedSlices to a dense Tensor of unknown shape. This may consume a large amount of memory.\n",
      "  \"Converting sparse IndexedSlices to a dense Tensor of unknown shape. \"\n"
     ]
    },
    {
     "name": "stdout",
     "output_type": "stream",
     "text": [
      "[reRNN] Training model\n",
      "[reRNN] n_train=77579  #epochs=5  batch size=256\n",
      "[reRNN] Epoch 0 (351.03s)\tAverage loss=0.307127\tDev F1=56.84\n",
      "[reRNN] Epoch 1 (710.37s)\tAverage loss=0.202439\tDev F1=58.19\n",
      "[reRNN] Epoch 2 (1070.91s)\tAverage loss=0.168338\tDev F1=58.58\n",
      "[reRNN] Epoch 3 (1432.59s)\tAverage loss=0.149154\tDev F1=59.22\n",
      "[reRNN] Epoch 4 (1789.55s)\tAverage loss=0.140679\tDev F1=59.98\n",
      "[reRNN] Model saved as <reRNN>\n",
      "[reRNN] Training done (1793.63s)\n",
      "INFO:tensorflow:Restoring parameters from checkpoints/reRNN/reRNN-4\n",
      "[reRNN] Loaded model <reRNN>\n"
     ]
    }
   ],
   "source": [
    "from snorkel.learning import reRNN\n",
    "\n",
    "train_kwargs = {\n",
    "    'lr':         0.01,\n",
    "    'dim':        100,\n",
    "    'n_epochs':   5,\n",
    "    'dropout':    0.5,\n",
    "    'rebalance':  0.25,\n",
    "    'print_freq': 1\n",
    "}\n",
    "\n",
    "lstm = reRNN(seed=1701, n_threads=None,)\n",
    "lstm.train(unlab, unlab_marginals, X_dev=dev, Y_dev=L_gold_dev, **train_kwargs)"
   ]
  },
  {
   "cell_type": "code",
   "execution_count": null,
   "metadata": {},
   "outputs": [],
   "source": []
  },
  {
   "cell_type": "markdown",
   "metadata": {},
   "source": [
    "# Check actual end-model score"
   ]
  },
  {
   "cell_type": "code",
   "execution_count": 13,
   "metadata": {},
   "outputs": [
    {
     "data": {
      "text/plain": [
       "<8278x1 sparse matrix of type '<type 'numpy.int64'>'\n",
       "\twith 8278 stored elements in Compressed Sparse Row format>"
      ]
     },
     "execution_count": 13,
     "metadata": {},
     "output_type": "execute_result"
    }
   ],
   "source": [
    "L_gold_test = load_gold_labels(session, annotator_name='gold', split=2)\n",
    "L_gold_test"
   ]
  },
  {
   "cell_type": "code",
   "execution_count": 16,
   "metadata": {},
   "outputs": [
    {
     "name": "stdout",
     "output_type": "stream",
     "text": [
      "========================================\n",
      "Scores (Un-adjusted)\n",
      "========================================\n",
      "Pos. class accuracy: 0.695\n",
      "Neg. class accuracy: 0.769\n",
      "Precision            0.487\n",
      "Recall               0.695\n",
      "F1                   0.572\n",
      "----------------------------------------\n",
      "TP: 1380 | FP: 1456 | TN: 4836 | FN: 606\n",
      "========================================\n",
      "\n"
     ]
    }
   ],
   "source": [
    "tp, fp, tn, fn = lstm.error_analysis(session, test, L_gold_test)"
   ]
  },
  {
   "cell_type": "code",
   "execution_count": 27,
   "metadata": {},
   "outputs": [],
   "source": [
    "from MLutils import F1_positive_class"
   ]
  },
  {
   "cell_type": "code",
   "execution_count": null,
   "metadata": {},
   "outputs": [],
   "source": []
  },
  {
   "cell_type": "code",
   "execution_count": null,
   "metadata": {},
   "outputs": [],
   "source": []
  }
 ],
 "metadata": {
  "kernelspec": {
   "display_name": "Python [conda env:python27]",
   "language": "python",
   "name": "conda-env-python27-py"
  },
  "language_info": {
   "codemirror_mode": {
    "name": "ipython",
    "version": 2
   },
   "file_extension": ".py",
   "mimetype": "text/x-python",
   "name": "python",
   "nbconvert_exporter": "python",
   "pygments_lexer": "ipython2",
   "version": "2.7.14"
  }
 },
 "nbformat": 4,
 "nbformat_minor": 2
}
