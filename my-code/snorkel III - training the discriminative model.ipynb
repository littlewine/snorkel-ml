{
 "cells": [
  {
   "cell_type": "code",
   "execution_count": 1,
   "metadata": {},
   "outputs": [
    {
     "name": "stderr",
     "output_type": "stream",
     "text": [
      "/home/antonis/anaconda2/envs/snorkel27clone/lib/python2.7/site-packages/psycopg2/__init__.py:144: UserWarning: The psycopg2 wheel package will be renamed from release 2.8; in order to keep installing from binary please use \"pip install psycopg2-binary\" instead. For details see: <http://initd.org/psycopg/docs/install.html#binary-install-from-pypi>.\n",
      "  \"\"\")\n"
     ]
    }
   ],
   "source": [
    "%load_ext autoreload\n",
    "%autoreload 2\n",
    "%matplotlib inline\n",
    "%run init.py"
   ]
  },
  {
   "cell_type": "code",
   "execution_count": 2,
   "metadata": {},
   "outputs": [
    {
     "name": "stdout",
     "output_type": "stream",
     "text": [
      "Training set:\t12987 candidates\n",
      "Dev set:\t3230 candidates\n",
      "Test set:\t8335 candidates\n",
      "Unlab set:\t79400 candidates\n"
     ]
    }
   ],
   "source": [
    "train = session.query(REGULATOR).filter(REGULATOR.split == 0).all()\n",
    "dev = session.query(REGULATOR).filter(REGULATOR.split == 1).all()\n",
    "test = session.query(REGULATOR).filter(REGULATOR.split == 2).all()\n",
    "unlab = session.query(REGULATOR).filter(REGULATOR.split == 3).all()\n",
    "\n",
    "print('Training set:\\t{0} candidates'.format(len(train)))\n",
    "print('Dev set:\\t{0} candidates'.format(len(dev)))\n",
    "print('Test set:\\t{0} candidates'.format(len(test)))\n",
    "print('Unlab set:\\t{0} candidates'.format(len(unlab)))"
   ]
  },
  {
   "cell_type": "code",
   "execution_count": 3,
   "metadata": {},
   "outputs": [],
   "source": [
    "import numpy as np"
   ]
  },
  {
   "cell_type": "code",
   "execution_count": 4,
   "metadata": {},
   "outputs": [],
   "source": [
    "from snorkel.annotations import load_marginals\n",
    "train_labels = np.array([0 if train[x].gold_labels[0].value ==-1 else 1 for x in range(len(train))]) # load train labels to mix in LSTM\n",
    "unlab_marginals = load_marginals(session, split=3)\n"
   ]
  },
  {
   "cell_type": "code",
   "execution_count": 7,
   "metadata": {},
   "outputs": [],
   "source": [
    "with open(\"L_train_us_mod8\", 'rb') as f:\n",
    "    unlab, unlab_marginals = pickle.load(f)"
   ]
  },
  {
   "cell_type": "code",
   "execution_count": 36,
   "metadata": {},
   "outputs": [
    {
     "data": {
      "text/plain": [
       "<10208x12 sparse matrix of type '<type 'numpy.int64'>'\n",
       "\twith 122496 stored elements in Compressed Sparse Row format>"
      ]
     },
     "execution_count": 36,
     "metadata": {},
     "output_type": "execute_result"
    }
   ],
   "source": [
    "unlab"
   ]
  },
  {
   "cell_type": "code",
   "execution_count": 24,
   "metadata": {},
   "outputs": [
    {
     "data": {
      "text/plain": [
       "10208"
      ]
     },
     "execution_count": 24,
     "metadata": {},
     "output_type": "execute_result"
    }
   ],
   "source": [
    "len(unlab_marginals)"
   ]
  },
  {
   "cell_type": "code",
   "execution_count": null,
   "metadata": {},
   "outputs": [],
   "source": []
  },
  {
   "cell_type": "code",
   "execution_count": null,
   "metadata": {},
   "outputs": [],
   "source": []
  },
  {
   "cell_type": "code",
   "execution_count": 8,
   "metadata": {},
   "outputs": [],
   "source": [
    "from snorkel.annotations import load_gold_labels\n",
    "L_gold_dev = load_gold_labels(session, annotator_name='gold', split=1)"
   ]
  },
  {
   "cell_type": "code",
   "execution_count": 10,
   "metadata": {},
   "outputs": [],
   "source": [
    "from snorkel.learning import reRNN"
   ]
  },
  {
   "cell_type": "code",
   "execution_count": 29,
   "metadata": {},
   "outputs": [],
   "source": [
    "from MLutils import balance_candidates"
   ]
  },
  {
   "cell_type": "code",
   "execution_count": 30,
   "metadata": {},
   "outputs": [],
   "source": [
    "# unlab_us,unlab_marginals_us = balance_candidates(unlab,unlab_marginals)\n",
    "\n",
    "# # TODO: balance candidates also in training set (change train_unlab_marginals below + train -> train_us in lstm.train)\n",
    "train_us, train_labels_us = balance_candidates(train,train_labels)\n",
    "\n",
    "train_unlab_marginals = np.append(train_labels_us, unlab_marginals)"
   ]
  },
  {
   "cell_type": "code",
   "execution_count": 31,
   "metadata": {},
   "outputs": [
    {
     "data": {
      "image/png": "[encoded data removed]",
      "text/plain": [
       "<Figure size 432x288 with 1 Axes>"
      ]
     },
     "metadata": {},
     "output_type": "display_data"
    },
    {
     "data": {
      "image/png": "[encoded data removed]",
      "text/plain": [
       "<Figure size 432x288 with 1 Axes>"
      ]
     },
     "metadata": {},
     "output_type": "display_data"
    },
    {
     "data": {
      "image/png": "[encoded data removed]",
      "text/plain": [
       "<Figure size 432x288 with 1 Axes>"
      ]
     },
     "metadata": {},
     "output_type": "display_data"
    }
   ],
   "source": [
    "import matplotlib.pyplot as plt\n",
    "plt.hist(unlab_marginals, bins=20, range=[0,1])\n",
    "plt.title('Histogram of probabilistic labels (unlab set)')\n",
    "plt.show()\n",
    "\n",
    "import matplotlib.pyplot as plt\n",
    "plt.hist(train_labels_us, bins=20, range=[0,1])\n",
    "plt.title('Histogram of GS labels')\n",
    "plt.show()\n",
    "\n",
    "# plt.hist(unlab_marginals_us, bins=20, range=[0,1])\n",
    "# plt.title('Histogram of probabilistic labels (unlab set, undersampled)')\n",
    "# plt.show()\n",
    "\n",
    "# plt.hist(train_labels_us, bins=20)\n",
    "# plt.title('Histogram of labels (train set)')\n",
    "# plt.show()\n",
    "\n",
    "plt.hist(train_unlab_marginals, bins=20)\n",
    "plt.title('Histogram of probabilistic labels (train+unlab set)')\n",
    "plt.show()\n"
   ]
  },
  {
   "cell_type": "markdown",
   "metadata": {},
   "source": [
    "** train on unlab **"
   ]
  },
  {
   "cell_type": "code",
   "execution_count": 33,
   "metadata": {},
   "outputs": [
    {
     "data": {
      "text/plain": [
       "list"
      ]
     },
     "execution_count": 33,
     "metadata": {},
     "output_type": "execute_result"
    }
   ],
   "source": [
    "type(train_us)"
   ]
  },
  {
   "cell_type": "code",
   "execution_count": 37,
   "metadata": {},
   "outputs": [],
   "source": [
    "train_kwargs = {\n",
    "    'lr':         0.01,\n",
    "    'dim':        100,\n",
    "    'n_epochs':   35,\n",
    "    'dropout':    0.5,\n",
    "    'rebalance':  True,\n",
    "    'print_freq': 1,\n",
    "    'batch_size': 64\n",
    "}\n",
    "\n",
    "lstm = reRNN(seed=1701, n_threads=6,)\n",
    "lstm.train(unlab, unlab_marginals, X_dev=dev, Y_dev=L_gold_dev, **train_kwargs)"
   ]
  },
  {
   "cell_type": "code",
   "execution_count": 22,
   "metadata": {},
   "outputs": [
    {
     "name": "stdout",
     "output_type": "stream",
     "text": [
      "========================================\n",
      "Scores (Un-adjusted)\n",
      "========================================\n",
      "Pos. class accuracy: 0.401\n",
      "Neg. class accuracy: 0.633\n",
      "Precision            0.234\n",
      "Recall               0.401\n",
      "F1                   0.296\n",
      "----------------------------------------\n",
      "TP: 283 | FP: 926 | TN: 1599 | FN: 422\n",
      "========================================\n",
      "\n"
     ]
    }
   ],
   "source": [
    "tp, fp, tn, fn = lstm.error_analysis(session, dev, L_gold_dev)"
   ]
  },
  {
   "cell_type": "code",
   "execution_count": 23,
   "metadata": {},
   "outputs": [
    {
     "name": "stdout",
     "output_type": "stream",
     "text": [
      "========================================\n",
      "Scores (Un-adjusted)\n",
      "========================================\n",
      "Pos. class accuracy: 0.43\n",
      "Neg. class accuracy: 0.599\n",
      "Precision            0.251\n",
      "Recall               0.43\n",
      "F1                   0.317\n",
      "----------------------------------------\n",
      "TP: 854 | FP: 2547 | TN: 3801 | FN: 1133\n",
      "========================================\n",
      "\n"
     ]
    }
   ],
   "source": [
    "tp, fp, tn, fn = lstm.error_analysis(session, test, L_gold_test)"
   ]
  },
  {
   "cell_type": "markdown",
   "metadata": {},
   "source": [
    "** train on GS + unlab **"
   ]
  },
  {
   "cell_type": "code",
   "execution_count": 24,
   "metadata": {},
   "outputs": [
    {
     "name": "stderr",
     "output_type": "stream",
     "text": [
      "/home/antonis/anaconda2/envs/snorkel27clone/lib/python2.7/site-packages/tensorflow/python/ops/gradients_impl.py:100: UserWarning: Converting sparse IndexedSlices to a dense Tensor of unknown shape. This may consume a large amount of memory.\n",
      "  \"Converting sparse IndexedSlices to a dense Tensor of unknown shape. \"\n"
     ]
    },
    {
     "name": "stdout",
     "output_type": "stream",
     "text": [
      "[reRNN] Training model\n",
      "[reRNN] n_train=32234  #epochs=35  batch size=64\n",
      "[reRNN] Epoch 0 (174.60s)\tAverage loss=0.684336\tDev F1=31.44\n",
      "[reRNN] Epoch 1 (353.59s)\tAverage loss=0.649195\tDev F1=38.84\n",
      "[reRNN] Epoch 2 (533.47s)\tAverage loss=0.622957\tDev F1=32.80\n",
      "[reRNN] Epoch 3 (713.76s)\tAverage loss=0.606986\tDev F1=34.70\n",
      "[reRNN] Epoch 4 (893.71s)\tAverage loss=0.596704\tDev F1=38.08\n",
      "[reRNN] Epoch 5 (1073.09s)\tAverage loss=0.590982\tDev F1=34.26\n",
      "[reRNN] Epoch 6 (1252.19s)\tAverage loss=0.584493\tDev F1=33.46\n",
      "[reRNN] Epoch 7 (1429.63s)\tAverage loss=0.580822\tDev F1=32.67\n",
      "[reRNN] Epoch 8 (1608.54s)\tAverage loss=0.578330\tDev F1=34.23\n",
      "[reRNN] Epoch 9 (1786.85s)\tAverage loss=0.579898\tDev F1=33.53\n",
      "[reRNN] Epoch 10 (1965.11s)\tAverage loss=0.575107\tDev F1=36.36\n",
      "[reRNN] Epoch 11 (2144.29s)\tAverage loss=0.571064\tDev F1=33.46\n",
      "[reRNN] Epoch 12 (2324.36s)\tAverage loss=0.566449\tDev F1=31.69\n",
      "[reRNN] Epoch 13 (2503.89s)\tAverage loss=0.567328\tDev F1=34.15\n",
      "[reRNN] Epoch 14 (2682.48s)\tAverage loss=0.565605\tDev F1=32.77\n",
      "[reRNN] Epoch 15 (2862.73s)\tAverage loss=0.565585\tDev F1=32.92\n",
      "[reRNN] Epoch 16 (3041.82s)\tAverage loss=0.566426\tDev F1=34.78\n",
      "[reRNN] Epoch 17 (3222.13s)\tAverage loss=0.566576\tDev F1=33.85\n",
      "[reRNN] Epoch 18 (3402.72s)\tAverage loss=0.568724\tDev F1=31.98\n",
      "[reRNN] Epoch 19 (3581.58s)\tAverage loss=0.564051\tDev F1=35.39\n",
      "[reRNN] Epoch 20 (3760.84s)\tAverage loss=0.560268\tDev F1=32.02\n",
      "[reRNN] Epoch 21 (3940.26s)\tAverage loss=0.561005\tDev F1=30.94\n",
      "[reRNN] Epoch 22 (4119.82s)\tAverage loss=0.561265\tDev F1=33.59\n",
      "[reRNN] Epoch 23 (4299.76s)\tAverage loss=0.560684\tDev F1=33.23\n",
      "[reRNN] Epoch 24 (4479.41s)\tAverage loss=0.564324\tDev F1=31.39\n",
      "[reRNN] Epoch 25 (4657.32s)\tAverage loss=0.562187\tDev F1=32.60\n",
      "[reRNN] Epoch 26 (4835.19s)\tAverage loss=0.559718\tDev F1=30.41\n",
      "[reRNN] Epoch 27 (5014.74s)\tAverage loss=0.560484\tDev F1=30.15\n",
      "[reRNN] Model saved as <reRNN>\n",
      "[reRNN] Epoch 28 (5195.77s)\tAverage loss=0.559365\tDev F1=31.96\n",
      "[reRNN] Model saved as <reRNN>\n",
      "[reRNN] Epoch 29 (5374.95s)\tAverage loss=0.559249\tDev F1=30.80\n",
      "[reRNN] Epoch 30 (5555.76s)\tAverage loss=0.560523\tDev F1=31.99\n",
      "[reRNN] Model saved as <reRNN>\n",
      "[reRNN] Epoch 31 (5735.49s)\tAverage loss=0.559515\tDev F1=31.98\n",
      "[reRNN] Epoch 32 (5915.22s)\tAverage loss=0.559487\tDev F1=32.32\n",
      "[reRNN] Model saved as <reRNN>\n",
      "[reRNN] Epoch 33 (6094.44s)\tAverage loss=0.559472\tDev F1=30.33\n",
      "[reRNN] Epoch 34 (6273.41s)\tAverage loss=0.558731\tDev F1=32.78\n",
      "[reRNN] Model saved as <reRNN>\n",
      "[reRNN] Training done (6278.86s)\n",
      "INFO:tensorflow:Restoring parameters from checkpoints/reRNN/reRNN-34\n",
      "[reRNN] Loaded model <reRNN>\n"
     ]
    }
   ],
   "source": [
    "train_kwargs = {\n",
    "    'lr':         0.01,\n",
    "    'dim':        100,\n",
    "    'n_epochs':   35,\n",
    "    'dropout':    0.5,\n",
    "    'rebalance':  False,\n",
    "    'print_freq': 1,\n",
    "    'batch_size': 64\n",
    "}\n",
    "\n",
    "lstm = reRNN(seed=1701, n_threads=6,)\n",
    "lstm.train(train_us+unlab, train_unlab_marginals, X_dev=dev, Y_dev=L_gold_dev, **train_kwargs)\n"
   ]
  },
  {
   "cell_type": "code",
   "execution_count": 25,
   "metadata": {},
   "outputs": [
    {
     "name": "stdout",
     "output_type": "stream",
     "text": [
      "========================================\n",
      "Scores (Un-adjusted)\n",
      "========================================\n",
      "Pos. class accuracy: 0.416\n",
      "Neg. class accuracy: 0.707\n",
      "Precision            0.283\n",
      "Recall               0.416\n",
      "F1                   0.337\n",
      "----------------------------------------\n",
      "TP: 293 | FP: 741 | TN: 1784 | FN: 412\n",
      "========================================\n",
      "\n"
     ]
    }
   ],
   "source": [
    "tp, fp, tn, fn = lstm.error_analysis(session, dev, L_gold_dev)"
   ]
  },
  {
   "cell_type": "code",
   "execution_count": 26,
   "metadata": {},
   "outputs": [
    {
     "name": "stdout",
     "output_type": "stream",
     "text": [
      "========================================\n",
      "Scores (Un-adjusted)\n",
      "========================================\n",
      "Pos. class accuracy: 0.445\n",
      "Neg. class accuracy: 0.703\n",
      "Precision            0.319\n",
      "Recall               0.445\n",
      "F1                   0.372\n",
      "----------------------------------------\n",
      "TP: 885 | FP: 1885 | TN: 4463 | FN: 1102\n",
      "========================================\n",
      "\n"
     ]
    }
   ],
   "source": [
    "tp, fp, tn, fn = lstm.error_analysis(session, test, L_gold_test)"
   ]
  },
  {
   "cell_type": "code",
   "execution_count": null,
   "metadata": {},
   "outputs": [],
   "source": []
  },
  {
   "cell_type": "markdown",
   "metadata": {},
   "source": [
    "# Check actual end-model score"
   ]
  },
  {
   "cell_type": "code",
   "execution_count": 13,
   "metadata": {},
   "outputs": [
    {
     "data": {
      "text/plain": [
       "<8335x1 sparse matrix of type '<type 'numpy.int64'>'\n",
       "\twith 8335 stored elements in Compressed Sparse Row format>"
      ]
     },
     "execution_count": 13,
     "metadata": {},
     "output_type": "execute_result"
    }
   ],
   "source": [
    "L_gold_test = load_gold_labels(session, annotator_name='gold', split=2)\n",
    "L_gold_test"
   ]
  },
  {
   "cell_type": "code",
   "execution_count": 28,
   "metadata": {},
   "outputs": [
    {
     "name": "stdout",
     "output_type": "stream",
     "text": [
      "========================================\n",
      "Scores (Un-adjusted)\n",
      "========================================\n",
      "Pos. class accuracy: 0.608\n",
      "Neg. class accuracy: 0.54\n",
      "Precision            0.293\n",
      "Recall               0.608\n",
      "F1                   0.395\n",
      "----------------------------------------\n",
      "TP: 1208 | FP: 2918 | TN: 3430 | FN: 779\n",
      "========================================\n",
      "\n"
     ]
    }
   ],
   "source": [
    "tp, fp, tn, fn = lstm.error_analysis(session, test, L_gold_test)"
   ]
  },
  {
   "cell_type": "code",
   "execution_count": null,
   "metadata": {},
   "outputs": [],
   "source": []
  },
  {
   "cell_type": "code",
   "execution_count": null,
   "metadata": {},
   "outputs": [],
   "source": []
  }
 ],
 "metadata": {
  "kernelspec": {
   "display_name": "Python [conda env:snorkel27clone]",
   "language": "python",
   "name": "conda-env-snorkel27clone-py"
  },
  "language_info": {
   "codemirror_mode": {
    "name": "ipython",
    "version": 2
   },
   "file_extension": ".py",
   "mimetype": "text/x-python",
   "name": "python",
   "nbconvert_exporter": "python",
   "pygments_lexer": "ipython2",
   "version": "2.7.15"
  }
 },
 "nbformat": 4,
 "nbformat_minor": 2
}
