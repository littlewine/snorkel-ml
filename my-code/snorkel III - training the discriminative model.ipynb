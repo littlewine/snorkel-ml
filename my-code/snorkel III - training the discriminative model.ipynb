{
 "cells": [
  {
   "cell_type": "code",
   "execution_count": 1,
   "metadata": {},
   "outputs": [
    {
     "name": "stdout",
     "output_type": "stream",
     "text": [
      "Created snorkel session from  postgres:///snorkel25similar\n"
     ]
    },
    {
     "name": "stderr",
     "output_type": "stream",
     "text": [
      "/home/antonis/anaconda2/envs/snorkel27/lib/python2.7/site-packages/psycopg2/__init__.py:144: UserWarning: The psycopg2 wheel package will be renamed from release 2.8; in order to keep installing from binary please use \"pip install psycopg2-binary\" instead. For details see: <http://initd.org/psycopg/docs/install.html#binary-install-from-pypi>.\n",
      "  \"\"\")\n"
     ]
    }
   ],
   "source": [
    "%load_ext autoreload\n",
    "%autoreload 2\n",
    "%matplotlib inline\n",
    "%run init.py"
   ]
  },
  {
   "cell_type": "code",
   "execution_count": null,
   "metadata": {},
   "outputs": [],
   "source": []
  },
  {
   "cell_type": "code",
   "execution_count": 2,
   "metadata": {},
   "outputs": [
    {
     "name": "stdout",
     "output_type": "stream",
     "text": [
      "Training set:\t13007 candidates\n",
      "Dev set:\t3242 candidates\n",
      "Test set:\t8221 candidates\n",
      "Unlab set:\t23509 candidates\n"
     ]
    }
   ],
   "source": [
    "train = session.query(REGULATOR).filter(REGULATOR.split == 0).order_by(REGULATOR.id).all()\n",
    "dev = session.query(REGULATOR).filter(REGULATOR.split == 1).order_by(REGULATOR.id).all()\n",
    "test = session.query(REGULATOR).filter(REGULATOR.split == 2).order_by(REGULATOR.id).all()\n",
    "unlab = session.query(REGULATOR).filter(REGULATOR.split == 3).order_by(REGULATOR.id).all()\n",
    "\n",
    "print('Training set:\\t{0} candidates'.format(len(train)))\n",
    "print('Dev set:\\t{0} candidates'.format(len(dev)))\n",
    "print('Test set:\\t{0} candidates'.format(len(test)))\n",
    "print('Unlab set:\\t{0} candidates'.format(len(unlab)))"
   ]
  },
  {
   "cell_type": "code",
   "execution_count": 3,
   "metadata": {},
   "outputs": [],
   "source": [
    "from snorkel.annotations import load_gold_labels\n",
    "\n",
    "L_gold_train  = load_gold_labels(session, annotator_name='gold', split=0)\n",
    "L_gold_dev  = load_gold_labels(session, annotator_name='gold', split=1)\n",
    "L_gold_test = load_gold_labels(session, annotator_name='gold', split=2)"
   ]
  },
  {
   "cell_type": "code",
   "execution_count": 4,
   "metadata": {},
   "outputs": [],
   "source": [
    "import numpy as np"
   ]
  },
  {
   "cell_type": "code",
   "execution_count": 34,
   "metadata": {},
   "outputs": [],
   "source": [
    "unlab_marginals = load_marginals(session, split=3) # safe - loads them after ordering by candidate id"
   ]
  },
  {
   "cell_type": "code",
   "execution_count": 23,
   "metadata": {},
   "outputs": [],
   "source": [
    "from snorkel.annotations import load_marginals\n",
    "train_labels = np.array([0 if train[x].gold_labels[0].value ==-1 else 1 for x in range(len(train))]) # load train labels to mix in LSTM\n",
    "dev_labels = np.array([0 if dev[x].gold_labels[0].value ==-1 else 1 for x in range(len(dev))]) # load train labels to mix in LSTM\n",
    "test_labels = np.array([0 if test[x].gold_labels[0].value ==-1 else 1 for x in range(len(test))]) # load train labels to mix in LSTM\n",
    "\n",
    "unlab_marginals = load_marginals(session, split=3) # safe - snorkel orders them by Candidate id\n"
   ]
  },
  {
   "cell_type": "code",
   "execution_count": 13,
   "metadata": {},
   "outputs": [],
   "source": [
    "# with open(\"L_train_us_mod8\", 'rb') as f:\n",
    "#     unlab, unlab_marginals = pickle.load(f)"
   ]
  },
  {
   "cell_type": "code",
   "execution_count": 6,
   "metadata": {},
   "outputs": [],
   "source": [
    "# unlab"
   ]
  },
  {
   "cell_type": "code",
   "execution_count": 8,
   "metadata": {},
   "outputs": [],
   "source": [
    "# len(unlab_marginals)"
   ]
  },
  {
   "cell_type": "code",
   "execution_count": 8,
   "metadata": {},
   "outputs": [
    {
     "data": {
      "text/plain": [
       "'1.14.5'"
      ]
     },
     "execution_count": 8,
     "metadata": {},
     "output_type": "execute_result"
    }
   ],
   "source": [
    "np.__version__"
   ]
  },
  {
   "cell_type": "code",
   "execution_count": 9,
   "metadata": {},
   "outputs": [
    {
     "name": "stderr",
     "output_type": "stream",
     "text": [
      "/home/antonis/anaconda2/envs/snorkel27/lib/python2.7/site-packages/h5py/__init__.py:36: FutureWarning: Conversion of the second argument of issubdtype from `float` to `np.floating` is deprecated. In future, it will be treated as `np.float64 == np.dtype(float).type`.\n",
      "  from ._conv import register_converters as _register_converters\n"
     ]
    }
   ],
   "source": [
    "from snorkel.learning import reRNN"
   ]
  },
  {
   "cell_type": "code",
   "execution_count": 10,
   "metadata": {},
   "outputs": [],
   "source": [
    "from MLutils import balance_candidates"
   ]
  },
  {
   "cell_type": "code",
   "execution_count": 49,
   "metadata": {},
   "outputs": [],
   "source": [
    "# unlab_us,unlab_marginals_us = balance_candidates(unlab,unlab_marginals)\n",
    "\n",
    "# # TODO: balance candidates also in training set (change train_unlab_marginals below + train -> train_us in lstm.train)\n",
    "train_us, train_labels_us = balance_candidates(train,train_labels)\n",
    "\n",
    "train_unlab_marginals = np.append(train_labels_us, unlab_marginals)"
   ]
  },
  {
   "cell_type": "code",
   "execution_count": 13,
   "metadata": {},
   "outputs": [],
   "source": [
    "# import matplotlib.pyplot as plt\n",
    "# plt.hist(unlab_marginals, bins=20, range=[0,1])\n",
    "# plt.title('Histogram of probabilistic labels (unlab set)')\n",
    "# plt.show()\n",
    "\n",
    "# import matplotlib.pyplot as plt\n",
    "# plt.hist(train_labels_us, bins=20, range=[0,1])\n",
    "# plt.title('Histogram of GS labels')\n",
    "# plt.show()\n",
    "\n",
    "# # plt.hist(unlab_marginals_us, bins=20, range=[0,1])\n",
    "# # plt.title('Histogram of probabilistic labels (unlab set, undersampled)')\n",
    "# # plt.show()\n",
    "\n",
    "# # plt.hist(train_labels_us, bins=20)\n",
    "# # plt.title('Histogram of labels (train set)')\n",
    "# # plt.show()\n",
    "\n",
    "# plt.hist(train_unlab_marginals, bins=20)\n",
    "# plt.title('Histogram of probabilistic labels (train+unlab set)')\n",
    "# plt.show()\n"
   ]
  },
  {
   "cell_type": "markdown",
   "metadata": {},
   "source": [
    "** train on train_set (to see if all ok or theres a mess-up in labels) **"
   ]
  },
  {
   "cell_type": "code",
   "execution_count": 14,
   "metadata": {},
   "outputs": [
    {
     "data": {
      "text/plain": [
       "13007"
      ]
     },
     "execution_count": 14,
     "metadata": {},
     "output_type": "execute_result"
    }
   ],
   "source": [
    "len(train)"
   ]
  },
  {
   "cell_type": "code",
   "execution_count": 15,
   "metadata": {},
   "outputs": [
    {
     "data": {
      "text/plain": [
       "(13007,)"
      ]
     },
     "execution_count": 15,
     "metadata": {},
     "output_type": "execute_result"
    }
   ],
   "source": [
    "train_labels.shape"
   ]
  },
  {
   "cell_type": "code",
   "execution_count": 16,
   "metadata": {},
   "outputs": [
    {
     "data": {
      "text/plain": [
       "<3242x1 sparse matrix of type '<type 'numpy.int64'>'\n",
       "\twith 3242 stored elements in Compressed Sparse Row format>"
      ]
     },
     "execution_count": 16,
     "metadata": {},
     "output_type": "execute_result"
    }
   ],
   "source": [
    "L_gold_dev"
   ]
  },
  {
   "cell_type": "code",
   "execution_count": null,
   "metadata": {},
   "outputs": [],
   "source": []
  },
  {
   "cell_type": "code",
   "execution_count": 18,
   "metadata": {},
   "outputs": [
    {
     "data": {
      "text/plain": [
       "array([1, 0, 0, ..., 0, 0, 1])"
      ]
     },
     "execution_count": 18,
     "metadata": {},
     "output_type": "execute_result"
    }
   ],
   "source": [
    "train_labels"
   ]
  },
  {
   "cell_type": "code",
   "execution_count": 22,
   "metadata": {},
   "outputs": [
    {
     "name": "stderr",
     "output_type": "stream",
     "text": [
      "/home/antonis/anaconda2/envs/snorkel27/lib/python2.7/site-packages/tensorflow/python/ops/gradients_impl.py:100: UserWarning: Converting sparse IndexedSlices to a dense Tensor of unknown shape. This may consume a large amount of memory.\n",
      "  \"Converting sparse IndexedSlices to a dense Tensor of unknown shape. \"\n"
     ]
    },
    {
     "name": "stdout",
     "output_type": "stream",
     "text": [
      "[reRNN] Training model\n",
      "[reRNN] n_train=6576  #epochs=10  batch size=64\n",
      "[reRNN] Epoch 0 (17.63s)\tAverage loss=0.595465\tDev F1=47.78\n",
      "[reRNN] Epoch 1 (37.58s)\tAverage loss=0.384189\tDev F1=48.76\n",
      "[reRNN] Epoch 2 (57.80s)\tAverage loss=0.285590\tDev F1=52.87\n",
      "[reRNN] Epoch 3 (77.82s)\tAverage loss=0.218953\tDev F1=50.23\n",
      "[reRNN] Epoch 4 (97.97s)\tAverage loss=0.171683\tDev F1=48.47\n",
      "[reRNN] Epoch 5 (117.89s)\tAverage loss=0.143844\tDev F1=49.37\n",
      "[reRNN] Epoch 6 (138.26s)\tAverage loss=0.110207\tDev F1=54.70\n",
      "[reRNN] Epoch 7 (158.44s)\tAverage loss=0.087948\tDev F1=55.31\n",
      "[reRNN] Epoch 8 (178.71s)\tAverage loss=0.075223\tDev F1=54.76\n",
      "[reRNN] Model saved as <reRNN>\n",
      "[reRNN] Epoch 9 (199.01s)\tAverage loss=0.069361\tDev F1=53.31\n",
      "[reRNN] Training done (201.97s)\n",
      "INFO:tensorflow:Restoring parameters from checkpoints/reRNN/reRNN-8\n",
      "[reRNN] Loaded model <reRNN>\n"
     ]
    }
   ],
   "source": [
    "train_kwargs = {\n",
    "    'lr':         0.01,\n",
    "    'dim':        100,\n",
    "    'n_epochs':   10,\n",
    "    'dropout':    0.25,\n",
    "    'rebalance':  True,\n",
    "    'print_freq': 1,\n",
    "    'batch_size': 64\n",
    "}\n",
    "\n",
    "lstm = reRNN(seed=1701, deterministic=True)\n",
    "lstm.train(train, train_labels, X_dev=dev, Y_dev=L_gold_dev, **train_kwargs)\n"
   ]
  },
  {
   "cell_type": "code",
   "execution_count": 24,
   "metadata": {},
   "outputs": [
    {
     "data": {
      "text/plain": [
       "(0.516209476309227, 0.5830985915492958, 0.5476190476190477)"
      ]
     },
     "execution_count": 24,
     "metadata": {},
     "output_type": "execute_result"
    }
   ],
   "source": [
    "lstm.score(dev,L_gold_dev)"
   ]
  },
  {
   "cell_type": "code",
   "execution_count": 25,
   "metadata": {},
   "outputs": [
    {
     "data": {
      "text/plain": [
       "(0.516209476309227, 0.5830985915492958, 0.5476190476190477)"
      ]
     },
     "execution_count": 25,
     "metadata": {},
     "output_type": "execute_result"
    }
   ],
   "source": [
    "lstm.score(dev,dev_labels)"
   ]
  },
  {
   "cell_type": "code",
   "execution_count": 28,
   "metadata": {},
   "outputs": [
    {
     "data": {
      "text/plain": [
       "(0.5305052430886559, 0.5609879032258065, 0.5453209211170995)"
      ]
     },
     "execution_count": 28,
     "metadata": {},
     "output_type": "execute_result"
    }
   ],
   "source": [
    "lstm.score(test,L_gold_test,batch_size=32)"
   ]
  },
  {
   "cell_type": "code",
   "execution_count": 29,
   "metadata": {},
   "outputs": [
    {
     "data": {
      "text/plain": [
       "(0.5305052430886559, 0.5609879032258065, 0.5453209211170995)"
      ]
     },
     "execution_count": 29,
     "metadata": {},
     "output_type": "execute_result"
    }
   ],
   "source": [
    "lstm.score(test,test_labels,batch_size=64)"
   ]
  },
  {
   "cell_type": "code",
   "execution_count": null,
   "metadata": {},
   "outputs": [],
   "source": []
  },
  {
   "cell_type": "code",
   "execution_count": null,
   "metadata": {},
   "outputs": [],
   "source": []
  },
  {
   "cell_type": "markdown",
   "metadata": {},
   "source": [
    "** train on unlab **"
   ]
  },
  {
   "cell_type": "code",
   "execution_count": 38,
   "metadata": {
    "scrolled": false
   },
   "outputs": [
    {
     "name": "stderr",
     "output_type": "stream",
     "text": [
      "/home/antonis/anaconda2/envs/snorkel27/lib/python2.7/site-packages/tensorflow/python/ops/gradients_impl.py:100: UserWarning: Converting sparse IndexedSlices to a dense Tensor of unknown shape. This may consume a large amount of memory.\n",
      "  \"Converting sparse IndexedSlices to a dense Tensor of unknown shape. \"\n"
     ]
    },
    {
     "name": "stdout",
     "output_type": "stream",
     "text": [
      "[reRNN] Training model\n",
      "[reRNN] n_train=10786  #epochs=35  batch size=64\n",
      "[reRNN] Epoch 0 (29.66s)\tAverage loss=0.605242\tDev F1=39.39\n",
      "[reRNN] Epoch 1 (62.07s)\tAverage loss=0.441300\tDev F1=36.97\n",
      "[reRNN] Epoch 2 (94.42s)\tAverage loss=0.358777\tDev F1=37.20\n",
      "[reRNN] Epoch 3 (126.68s)\tAverage loss=0.326538\tDev F1=38.69\n",
      "[reRNN] Epoch 4 (158.80s)\tAverage loss=0.309259\tDev F1=40.40\n",
      "[reRNN] Epoch 5 (191.24s)\tAverage loss=0.295640\tDev F1=39.77\n",
      "[reRNN] Epoch 6 (223.55s)\tAverage loss=0.286219\tDev F1=38.31\n",
      "[reRNN] Epoch 7 (255.60s)\tAverage loss=0.280151\tDev F1=39.34\n",
      "[reRNN] Epoch 8 (287.53s)\tAverage loss=0.272821\tDev F1=41.00\n",
      "[reRNN] Epoch 9 (319.84s)\tAverage loss=0.268550\tDev F1=39.86\n",
      "[reRNN] Epoch 10 (351.62s)\tAverage loss=0.266627\tDev F1=40.16\n",
      "[reRNN] Epoch 11 (383.94s)\tAverage loss=0.263585\tDev F1=41.28\n",
      "[reRNN] Epoch 12 (416.03s)\tAverage loss=0.258636\tDev F1=41.27\n",
      "[reRNN] Epoch 13 (448.12s)\tAverage loss=0.255536\tDev F1=40.86\n",
      "[reRNN] Epoch 14 (480.49s)\tAverage loss=0.253268\tDev F1=41.30\n",
      "[reRNN] Epoch 15 (512.48s)\tAverage loss=0.251587\tDev F1=39.58\n",
      "[reRNN] Epoch 16 (544.78s)\tAverage loss=0.249557\tDev F1=39.96\n",
      "[reRNN] Epoch 17 (577.25s)\tAverage loss=0.247870\tDev F1=39.42\n",
      "[reRNN] Epoch 18 (609.25s)\tAverage loss=0.246578\tDev F1=39.66\n",
      "[reRNN] Epoch 19 (642.20s)\tAverage loss=0.245560\tDev F1=40.07\n",
      "[reRNN] Epoch 20 (674.60s)\tAverage loss=0.244986\tDev F1=38.73\n",
      "[reRNN] Epoch 21 (707.18s)\tAverage loss=0.246083\tDev F1=39.42\n",
      "[reRNN] Epoch 22 (740.34s)\tAverage loss=0.246953\tDev F1=39.90\n",
      "[reRNN] Epoch 23 (772.72s)\tAverage loss=0.247032\tDev F1=40.57\n",
      "[reRNN] Epoch 24 (804.82s)\tAverage loss=0.248718\tDev F1=38.58\n",
      "[reRNN] Epoch 25 (838.00s)\tAverage loss=0.250812\tDev F1=40.17\n",
      "[reRNN] Epoch 26 (870.36s)\tAverage loss=0.251876\tDev F1=38.38\n",
      "[reRNN] Epoch 27 (902.61s)\tAverage loss=0.254061\tDev F1=39.94\n",
      "[reRNN] Model saved as <reRNN>\n",
      "[reRNN] Epoch 28 (935.10s)\tAverage loss=0.253901\tDev F1=38.28\n",
      "[reRNN] Epoch 29 (967.52s)\tAverage loss=0.253047\tDev F1=38.75\n",
      "[reRNN] Epoch 30 (1000.04s)\tAverage loss=0.247259\tDev F1=39.62\n",
      "[reRNN] Epoch 31 (1032.36s)\tAverage loss=0.244276\tDev F1=38.75\n",
      "[reRNN] Epoch 32 (1064.80s)\tAverage loss=0.243595\tDev F1=37.79\n",
      "[reRNN] Epoch 33 (1096.99s)\tAverage loss=0.244079\tDev F1=38.25\n",
      "[reRNN] Epoch 34 (1129.23s)\tAverage loss=0.245237\tDev F1=37.49\n",
      "[reRNN] Training done (1132.12s)\n",
      "INFO:tensorflow:Restoring parameters from checkpoints/reRNN/reRNN-27\n",
      "[reRNN] Loaded model <reRNN>\n"
     ]
    }
   ],
   "source": [
    "train_kwargs = {\n",
    "    'lr':         0.01,\n",
    "    'dim':        100,\n",
    "    'n_epochs':   35,\n",
    "    'dropout':    0.25,\n",
    "    'rebalance':  True,\n",
    "    'print_freq': 1,\n",
    "    'batch_size': 64\n",
    "}\n",
    "\n",
    "lstm = reRNN(seed=1701, deterministic=True)\n",
    "lstm.train(unlab, unlab_marginals, X_dev=dev, Y_dev=L_gold_dev, **train_kwargs)"
   ]
  },
  {
   "cell_type": "code",
   "execution_count": null,
   "metadata": {},
   "outputs": [],
   "source": []
  },
  {
   "cell_type": "code",
   "execution_count": null,
   "metadata": {},
   "outputs": [],
   "source": []
  },
  {
   "cell_type": "code",
   "execution_count": 39,
   "metadata": {},
   "outputs": [
    {
     "data": {
      "text/plain": [
       "(0.3205456095481671, 0.5295774647887324, 0.3993627190653213)"
      ]
     },
     "execution_count": 39,
     "metadata": {},
     "output_type": "execute_result"
    }
   ],
   "source": [
    "lstm.score(dev,L_gold_dev)"
   ]
  },
  {
   "cell_type": "code",
   "execution_count": 40,
   "metadata": {},
   "outputs": [
    {
     "data": {
      "text/plain": [
       "(0.3205456095481671, 0.5295774647887324, 0.3993627190653213)"
      ]
     },
     "execution_count": 40,
     "metadata": {},
     "output_type": "execute_result"
    }
   ],
   "source": [
    "lstm.score(dev,dev_labels)"
   ]
  },
  {
   "cell_type": "code",
   "execution_count": 41,
   "metadata": {},
   "outputs": [
    {
     "data": {
      "text/plain": [
       "(0.3261455525606469, 0.5488911290322581, 0.40916776253992115)"
      ]
     },
     "execution_count": 41,
     "metadata": {},
     "output_type": "execute_result"
    }
   ],
   "source": [
    "lstm.score(test,L_gold_test,batch_size=32)"
   ]
  },
  {
   "cell_type": "code",
   "execution_count": 42,
   "metadata": {},
   "outputs": [
    {
     "data": {
      "text/plain": [
       "(0.3261455525606469, 0.5488911290322581, 0.40916776253992115)"
      ]
     },
     "execution_count": 42,
     "metadata": {},
     "output_type": "execute_result"
    }
   ],
   "source": [
    "lstm.score(test,test_labels,batch_size=1024)"
   ]
  },
  {
   "cell_type": "code",
   "execution_count": null,
   "metadata": {},
   "outputs": [],
   "source": []
  },
  {
   "cell_type": "code",
   "execution_count": 43,
   "metadata": {},
   "outputs": [
    {
     "name": "stdout",
     "output_type": "stream",
     "text": [
      "========================================\n",
      "Scores (Un-adjusted)\n",
      "========================================\n",
      "Pos. class accuracy: 0.53\n",
      "Neg. class accuracy: 0.685\n",
      "Precision            0.321\n",
      "Recall               0.53\n",
      "F1                   0.399\n",
      "----------------------------------------\n",
      "TP: 376 | FP: 797 | TN: 1735 | FN: 334\n",
      "========================================\n",
      "\n"
     ]
    }
   ],
   "source": [
    "tp, fp, tn, fn = lstm.error_analysis(session, dev, L_gold_dev)"
   ]
  },
  {
   "cell_type": "code",
   "execution_count": 45,
   "metadata": {},
   "outputs": [
    {
     "name": "stdout",
     "output_type": "stream",
     "text": [
      "========================================\n",
      "Scores (Un-adjusted)\n",
      "========================================\n",
      "Pos. class accuracy: 0.549\n",
      "Neg. class accuracy: 0.639\n",
      "Precision            0.326\n",
      "Recall               0.549\n",
      "F1                   0.409\n",
      "----------------------------------------\n",
      "TP: 1089 | FP: 2250 | TN: 3987 | FN: 895\n",
      "========================================\n",
      "\n"
     ]
    }
   ],
   "source": [
    "tp, fp, tn, fn = lstm.error_analysis(session, test, L_gold_test,batch_size=1024)"
   ]
  },
  {
   "cell_type": "markdown",
   "metadata": {},
   "source": [
    "** train on GS + unlab **"
   ]
  },
  {
   "cell_type": "code",
   "execution_count": null,
   "metadata": {},
   "outputs": [
    {
     "name": "stderr",
     "output_type": "stream",
     "text": [
      "/home/antonis/anaconda2/envs/snorkel27/lib/python2.7/site-packages/tensorflow/python/ops/gradients_impl.py:100: UserWarning: Converting sparse IndexedSlices to a dense Tensor of unknown shape. This may consume a large amount of memory.\n",
      "  \"Converting sparse IndexedSlices to a dense Tensor of unknown shape. \"\n"
     ]
    },
    {
     "name": "stdout",
     "output_type": "stream",
     "text": [
      "[reRNN] Training model\n",
      "[reRNN] n_train=17362  #epochs=25  batch size=64\n",
      "[reRNN] Epoch 0 (48.29s)\tAverage loss=0.571786\tDev F1=46.35\n",
      "[reRNN] Epoch 1 (99.32s)\tAverage loss=0.402291\tDev F1=48.62\n"
     ]
    }
   ],
   "source": [
    "train_kwargs = {\n",
    "    'lr':         0.01,\n",
    "    'dim':        100,\n",
    "    'n_epochs':   25,\n",
    "    'dropout':    0.25,\n",
    "    'rebalance':  True,\n",
    "    'print_freq': 1,\n",
    "    'batch_size': 64\n",
    "}\n",
    "\n",
    "lstm = reRNN(seed=1701, deterministic=True)\n",
    "lstm.train(train+unlab, \n",
    "           np.concatenate([train_labels ,unlab_marginals]),\n",
    "           X_dev=dev, Y_dev=L_gold_dev, **train_kwargs)\n"
   ]
  },
  {
   "cell_type": "code",
   "execution_count": null,
   "metadata": {},
   "outputs": [],
   "source": [
    "tp, fp, tn, fn = lstm.error_analysis(session, dev, L_gold_dev)"
   ]
  },
  {
   "cell_type": "code",
   "execution_count": null,
   "metadata": {},
   "outputs": [],
   "source": [
    "tp, fp, tn, fn = lstm.error_analysis(session, test, L_gold_test, batch_size = 1024)"
   ]
  },
  {
   "cell_type": "code",
   "execution_count": null,
   "metadata": {},
   "outputs": [],
   "source": []
  },
  {
   "cell_type": "markdown",
   "metadata": {},
   "source": [
    "# Check actual end-model score"
   ]
  },
  {
   "cell_type": "code",
   "execution_count": 13,
   "metadata": {},
   "outputs": [
    {
     "data": {
      "text/plain": [
       "<8335x1 sparse matrix of type '<type 'numpy.int64'>'\n",
       "\twith 8335 stored elements in Compressed Sparse Row format>"
      ]
     },
     "execution_count": 13,
     "metadata": {},
     "output_type": "execute_result"
    }
   ],
   "source": [
    "L_gold_test = load_gold_labels(session, annotator_name='gold', split=2)\n",
    "L_gold_test"
   ]
  },
  {
   "cell_type": "code",
   "execution_count": 28,
   "metadata": {},
   "outputs": [
    {
     "name": "stdout",
     "output_type": "stream",
     "text": [
      "========================================\n",
      "Scores (Un-adjusted)\n",
      "========================================\n",
      "Pos. class accuracy: 0.608\n",
      "Neg. class accuracy: 0.54\n",
      "Precision            0.293\n",
      "Recall               0.608\n",
      "F1                   0.395\n",
      "----------------------------------------\n",
      "TP: 1208 | FP: 2918 | TN: 3430 | FN: 779\n",
      "========================================\n",
      "\n"
     ]
    }
   ],
   "source": [
    "tp, fp, tn, fn = lstm.error_analysis(session, test, L_gold_test)"
   ]
  },
  {
   "cell_type": "code",
   "execution_count": null,
   "metadata": {},
   "outputs": [],
   "source": []
  },
  {
   "cell_type": "code",
   "execution_count": null,
   "metadata": {},
   "outputs": [],
   "source": []
  }
 ],
 "metadata": {
  "kernelspec": {
   "display_name": "Python [conda env:snorkel27]",
   "language": "python",
   "name": "conda-env-snorkel27-py"
  },
  "language_info": {
   "codemirror_mode": {
    "name": "ipython",
    "version": 2
   },
   "file_extension": ".py",
   "mimetype": "text/x-python",
   "name": "python",
   "nbconvert_exporter": "python",
   "pygments_lexer": "ipython2",
   "version": "2.7.15"
  }
 },
 "nbformat": 4,
 "nbformat_minor": 2
}
