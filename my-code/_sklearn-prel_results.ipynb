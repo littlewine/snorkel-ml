{
 "cells": [
  {
   "cell_type": "code",
   "execution_count": 3,
   "metadata": {},
   "outputs": [],
   "source": [
    "import sklearn, pickle\n",
    "import pandas as pd"
   ]
  },
  {
   "cell_type": "code",
   "execution_count": 2,
   "metadata": {},
   "outputs": [
    {
     "name": "stdout",
     "output_type": "stream",
     "text": [
      "Split = 0 : imported 9917 candidates\n",
      "Split = 1 : imported 6227 candidates\n",
      "Split = 2 : imported 8285 candidates\n"
     ]
    }
   ],
   "source": [
    "with open('candidates_TrainDevTest.pickle', 'rb') as f:\n",
    "    candidate_dict = pickle.load(f)\n",
    "    \n",
    "for splt in candidate_dict.keys():\n",
    "    print \"Split = %i : imported %i candidates\" %(splt, len(candidate_dict[splt].keys()))"
   ]
  },
  {
   "cell_type": "code",
   "execution_count": 4,
   "metadata": {},
   "outputs": [],
   "source": [
    "splt = 0"
   ]
  },
  {
   "cell_type": "code",
   "execution_count": 5,
   "metadata": {},
   "outputs": [],
   "source": [
    "# Rebuild text"
   ]
  },
  {
   "cell_type": "code",
   "execution_count": 151,
   "metadata": {
    "scrolled": true
   },
   "outputs": [],
   "source": [
    "from copy import deepcopy\n",
    "from itertools import groupby\n",
    "from operator import itemgetter\n",
    "\n",
    "def recreate_text_representation(value, entity_replacement = True, span_replacement = True, as_tokens=False , replace_conseq_entities = False):\n",
    "    \"\"\"Re-generate text from snorkel dict format\n",
    "    \n",
    "    value: dict of a certain candidate (containing keys: words, entity_types, lemmas)\n",
    "    span_replacement: Boolean: Whether to replace the whole spans of entity candidates with ENTITY1 and ENTITY2\n",
    "    T_type_replacement: Boolean: Whether to replace all of the found entity types with their names (eg. CH2-> CHEMICAL)\n",
    "    \"\"\"\n",
    "    tokens = deepcopy(value['words'])\n",
    "#     print tokens\n",
    "    if entity_replacement:\n",
    "        for i, t_type in enumerate(value['entity_types']):\n",
    "            if t_type !=u'O':\n",
    "                tokens[i] = str(t_type).upper()\n",
    "                \n",
    "    #TODO: potentially replace with lemmas here maybe\n",
    "    \n",
    "    #replace span with ENTITY1, ENTITY2 --- destruction of list consistency after this point\n",
    "    if span_replacement:\n",
    "        for idx in value['chem_idx']:\n",
    "            tokens[idx] = \"ENTITY1\"\n",
    "        for idx in value['gene_idx']:\n",
    "            tokens[idx] = \"ENTITY2\"\n",
    "        #convert whole span to 1 token\n",
    "        idx_to_del = value['gene_idx'][1:]+value['chem_idx'][1:]\n",
    "        for index in sorted(idx_to_del, reverse=True):\n",
    "            del tokens[index]\n",
    "        \n",
    "    if replace_conseq_entities:\n",
    "        tokens = map(itemgetter(0), groupby(tokens))\n",
    "#     print tokens\n",
    "    if as_tokens:\n",
    "        return tokens\n",
    "    else:\n",
    "        return ' '.join(tokens) #TODO : slow - optimize"
   ]
  },
  {
   "cell_type": "markdown",
   "metadata": {},
   "source": [
    "# Load train, dev, test datasets"
   ]
  },
  {
   "cell_type": "code",
   "execution_count": 152,
   "metadata": {},
   "outputs": [
    {
     "data": {
      "text/plain": [
       "['gene_idx',\n",
       " 'lemmas',\n",
       " 'chem_idx',\n",
       " 'sent_id',\n",
       " 'pos_tags',\n",
       " 'label',\n",
       " 'words',\n",
       " 'cand_id',\n",
       " 'entity_types',\n",
       " 'doc_id']"
      ]
     },
     "execution_count": 152,
     "metadata": {},
     "output_type": "execute_result"
    }
   ],
   "source": [
    "candidate_dict[0][1].keys()"
   ]
  },
  {
   "cell_type": "code",
   "execution_count": 156,
   "metadata": {},
   "outputs": [],
   "source": [
    "# take text + labels from train ds\n",
    "splt = 0\n",
    "split\n",
    "def candidate_dict_to_df(candidate_dict, entity_replacement = True, span_replacement = True, as_tokens=False , replace_conseq_entities = False ):\n",
    "    \"\"\"Function to convert the snorkel candidate dict into a dataframe, \n",
    "    containing the text representation (with options to modify entity replacement etc)\n",
    "    \n",
    "    cand_dict: dictionary containing all required candidate elements from snorkel.\n",
    "                ** requires inner split dictionary (eg cand_dict = candidate_dictionary[split_number])\n",
    "    \n",
    "    entity_replacement,\n",
    "    span_replacement,\n",
    "    as_tokens,\n",
    "    replace_conseq_entities: arguments regarding recreating the string (check recreate_text_representation doc function)\n",
    "    \n",
    "    \"\"\"\n",
    "    df = pd.DataFrame(map(lambda x: recreate_text_representation(x,  entity_replacement = entity_replacement, span_replacement = span_replacement, as_tokens=as_tokens , replace_conseq_entities = replace_conseq_entities), \n",
    "                          candidate_dict.values()), \n",
    "                      columns = ['text'],\n",
    "                      index = map(lambda x: x['cand_id'], candidate_dict.values())\n",
    "                     )\n",
    "    df['label'] = map(lambda x: x['label'], candidate_dict.values())\n",
    "    df['doc_id'] = map(lambda x: x['doc_id'], candidate_dict.values())\n",
    "    df['sent_id'] = map(lambda x: x['sent_id'], candidate_dict.values())\n",
    "    return df"
   ]
  },
  {
   "cell_type": "code",
   "execution_count": null,
   "metadata": {},
   "outputs": [],
   "source": []
  },
  {
   "cell_type": "code",
   "execution_count": 162,
   "metadata": {},
   "outputs": [],
   "source": [
    "df_train = candidate_dict_to_df(candidate_dict[0])\n",
    "df_dev = candidate_dict_to_df(candidate_dict[1])\n",
    "df_test = candidate_dict_to_df(candidate_dict[2])"
   ]
  },
  {
   "cell_type": "code",
   "execution_count": 163,
   "metadata": {},
   "outputs": [
    {
     "data": {
      "text/html": [
       "<div>\n",
       "<style scoped>\n",
       "    .dataframe tbody tr th:only-of-type {\n",
       "        vertical-align: middle;\n",
       "    }\n",
       "\n",
       "    .dataframe tbody tr th {\n",
       "        vertical-align: top;\n",
       "    }\n",
       "\n",
       "    .dataframe thead th {\n",
       "        text-align: right;\n",
       "    }\n",
       "</style>\n",
       "<table border=\"1\" class=\"dataframe\">\n",
       "  <thead>\n",
       "    <tr style=\"text-align: right;\">\n",
       "      <th></th>\n",
       "      <th>text</th>\n",
       "      <th>label</th>\n",
       "      <th>doc_id</th>\n",
       "      <th>sent_id</th>\n",
       "    </tr>\n",
       "  </thead>\n",
       "  <tbody>\n",
       "    <tr>\n",
       "      <th>1</th>\n",
       "      <td>CONCLUSION : Our results indicate that ENTITY1...</td>\n",
       "      <td>1</td>\n",
       "      <td>15650315</td>\n",
       "      <td>24197</td>\n",
       "    </tr>\n",
       "    <tr>\n",
       "      <th>2</th>\n",
       "      <td>CONCLUSION : Our results indicate that ENTITY1...</td>\n",
       "      <td>-1</td>\n",
       "      <td>15650315</td>\n",
       "      <td>24197</td>\n",
       "    </tr>\n",
       "    <tr>\n",
       "      <th>3</th>\n",
       "      <td>To identify important covariates associated wi...</td>\n",
       "      <td>-1</td>\n",
       "      <td>23238783</td>\n",
       "      <td>26907</td>\n",
       "    </tr>\n",
       "    <tr>\n",
       "      <th>4</th>\n",
       "      <td>To identify important covariates associated wi...</td>\n",
       "      <td>-1</td>\n",
       "      <td>23238783</td>\n",
       "      <td>26907</td>\n",
       "    </tr>\n",
       "    <tr>\n",
       "      <th>5</th>\n",
       "      <td>To identify important covariates associated wi...</td>\n",
       "      <td>-1</td>\n",
       "      <td>23238783</td>\n",
       "      <td>26907</td>\n",
       "    </tr>\n",
       "  </tbody>\n",
       "</table>\n",
       "</div>"
      ],
      "text/plain": [
       "                                                text  label    doc_id  sent_id\n",
       "1  CONCLUSION : Our results indicate that ENTITY1...      1  15650315    24197\n",
       "2  CONCLUSION : Our results indicate that ENTITY1...     -1  15650315    24197\n",
       "3  To identify important covariates associated wi...     -1  23238783    26907\n",
       "4  To identify important covariates associated wi...     -1  23238783    26907\n",
       "5  To identify important covariates associated wi...     -1  23238783    26907"
      ]
     },
     "execution_count": 163,
     "metadata": {},
     "output_type": "execute_result"
    }
   ],
   "source": [
    "df_train.head()"
   ]
  },
  {
   "cell_type": "code",
   "execution_count": 164,
   "metadata": {},
   "outputs": [
    {
     "data": {
      "text/html": [
       "<div>\n",
       "<style scoped>\n",
       "    .dataframe tbody tr th:only-of-type {\n",
       "        vertical-align: middle;\n",
       "    }\n",
       "\n",
       "    .dataframe tbody tr th {\n",
       "        vertical-align: top;\n",
       "    }\n",
       "\n",
       "    .dataframe thead th {\n",
       "        text-align: right;\n",
       "    }\n",
       "</style>\n",
       "<table border=\"1\" class=\"dataframe\">\n",
       "  <thead>\n",
       "    <tr style=\"text-align: right;\">\n",
       "      <th></th>\n",
       "      <th>text</th>\n",
       "      <th>label</th>\n",
       "      <th>doc_id</th>\n",
       "      <th>sent_id</th>\n",
       "    </tr>\n",
       "  </thead>\n",
       "  <tbody>\n",
       "    <tr>\n",
       "      <th>16028</th>\n",
       "      <td>BACKGROUND : CHEMICAL , the first dual inhibit...</td>\n",
       "      <td>-1</td>\n",
       "      <td>18803986</td>\n",
       "      <td>6601</td>\n",
       "    </tr>\n",
       "    <tr>\n",
       "      <th>16029</th>\n",
       "      <td>BACKGROUND : CHEMICAL , the first dual inhibit...</td>\n",
       "      <td>-1</td>\n",
       "      <td>18803986</td>\n",
       "      <td>6601</td>\n",
       "    </tr>\n",
       "    <tr>\n",
       "      <th>16030</th>\n",
       "      <td>BACKGROUND : CHEMICAL , the first dual inhibit...</td>\n",
       "      <td>-1</td>\n",
       "      <td>18803986</td>\n",
       "      <td>6601</td>\n",
       "    </tr>\n",
       "    <tr>\n",
       "      <th>16031</th>\n",
       "      <td>BACKGROUND : CHEMICAL , the first dual inhibit...</td>\n",
       "      <td>-1</td>\n",
       "      <td>18803986</td>\n",
       "      <td>6601</td>\n",
       "    </tr>\n",
       "    <tr>\n",
       "      <th>16033</th>\n",
       "      <td>BACKGROUND : ENTITY1 , the first dual inhibito...</td>\n",
       "      <td>1</td>\n",
       "      <td>18803986</td>\n",
       "      <td>6601</td>\n",
       "    </tr>\n",
       "  </tbody>\n",
       "</table>\n",
       "</div>"
      ],
      "text/plain": [
       "                                                    text  label    doc_id  \\\n",
       "16028  BACKGROUND : CHEMICAL , the first dual inhibit...     -1  18803986   \n",
       "16029  BACKGROUND : CHEMICAL , the first dual inhibit...     -1  18803986   \n",
       "16030  BACKGROUND : CHEMICAL , the first dual inhibit...     -1  18803986   \n",
       "16031  BACKGROUND : CHEMICAL , the first dual inhibit...     -1  18803986   \n",
       "16033  BACKGROUND : ENTITY1 , the first dual inhibito...      1  18803986   \n",
       "\n",
       "       sent_id  \n",
       "16028     6601  \n",
       "16029     6601  \n",
       "16030     6601  \n",
       "16031     6601  \n",
       "16033     6601  "
      ]
     },
     "execution_count": 164,
     "metadata": {},
     "output_type": "execute_result"
    }
   ],
   "source": [
    "df_dev.head()"
   ]
  },
  {
   "cell_type": "markdown",
   "metadata": {},
   "source": [
    "** combine train + dev datasets **"
   ]
  },
  {
   "cell_type": "code",
   "execution_count": null,
   "metadata": {},
   "outputs": [],
   "source": [
    "df_train_dev = df_train.append(df_dev)"
   ]
  },
  {
   "cell_type": "code",
   "execution_count": null,
   "metadata": {},
   "outputs": [],
   "source": []
  },
  {
   "cell_type": "markdown",
   "metadata": {},
   "source": [
    "# Label distribution investigate"
   ]
  },
  {
   "cell_type": "code",
   "execution_count": 169,
   "metadata": {},
   "outputs": [
    {
     "data": {
      "text/plain": [
       "-1    12120\n",
       " 1     4024\n",
       "Name: label, dtype: int64"
      ]
     },
     "execution_count": 169,
     "metadata": {},
     "output_type": "execute_result"
    }
   ],
   "source": [
    "df_train_dev.label.value_counts()"
   ]
  },
  {
   "cell_type": "code",
   "execution_count": 170,
   "metadata": {},
   "outputs": [
    {
     "data": {
      "text/plain": [
       "-1    6305\n",
       " 1    1980\n",
       "Name: label, dtype: int64"
      ]
     },
     "execution_count": 170,
     "metadata": {},
     "output_type": "execute_result"
    }
   ],
   "source": [
    "df_test.label.value_counts()"
   ]
  },
  {
   "cell_type": "markdown",
   "metadata": {},
   "source": [
    "### Check if I drop duplicates\n",
    "(if label col is ignored, basically drops cands inside the same sentences)"
   ]
  },
  {
   "cell_type": "code",
   "execution_count": 171,
   "metadata": {},
   "outputs": [
    {
     "name": "stdout",
     "output_type": "stream",
     "text": [
      "Train+dev:\n",
      "-1    2771\n",
      " 1    1180\n",
      "Name: label, dtype: int64\n",
      "Test:\n",
      "-1    1410\n",
      " 1     614\n",
      "Name: label, dtype: int64\n"
     ]
    }
   ],
   "source": [
    "print \"Train+dev:\\n\",df_train_dev.drop_duplicates(subset=['sent_id']).label.value_counts()\n",
    "print \"Test:\\n\",df_test.drop_duplicates(subset=['sent_id']).label.value_counts()"
   ]
  },
  {
   "cell_type": "markdown",
   "metadata": {},
   "source": [
    "# Build a BOW classifier"
   ]
  },
  {
   "cell_type": "code",
   "execution_count": 32,
   "metadata": {},
   "outputs": [],
   "source": [
    "from sklearn.feature_extraction.text import CountVectorizer"
   ]
  },
  {
   "cell_type": "code",
   "execution_count": 42,
   "metadata": {},
   "outputs": [],
   "source": [
    "from sklearn.linear_model import LogisticRegression\n",
    "from sklearn.metrics import accuracy_score"
   ]
  },
  {
   "cell_type": "code",
   "execution_count": null,
   "metadata": {},
   "outputs": [],
   "source": []
  },
  {
   "cell_type": "code",
   "execution_count": 33,
   "metadata": {},
   "outputs": [],
   "source": [
    "vectorizer = CountVectorizer()"
   ]
  },
  {
   "cell_type": "code",
   "execution_count": 167,
   "metadata": {},
   "outputs": [],
   "source": [
    "# X_train = vectorizer.fit_transform(df_train.text)\n",
    "# y_train = df_train.label\n",
    "\n",
    "# X_dev = vectorizer.transform(df_dev.text)\n",
    "# y_dev = df_dev.label\n",
    "\n",
    "X_train_dev = vectorizer.fit_transform(df_train_dev.text)\n",
    "y_train_dev = df_train_dev.label\n",
    "\n",
    "X_test = vectorizer.transform(df_test.text)\n",
    "y_test = df_test.label"
   ]
  },
  {
   "cell_type": "code",
   "execution_count": 172,
   "metadata": {},
   "outputs": [
    {
     "data": {
      "text/plain": [
       "16144"
      ]
     },
     "execution_count": 172,
     "metadata": {},
     "output_type": "execute_result"
    }
   ],
   "source": [
    "len(df_train_dev)"
   ]
  },
  {
   "cell_type": "code",
   "execution_count": 284,
   "metadata": {},
   "outputs": [],
   "source": [
    "from sklearn.metrics import confusion_matrix"
   ]
  },
  {
   "cell_type": "code",
   "execution_count": 216,
   "metadata": {},
   "outputs": [],
   "source": [
    "from sklearn.metrics import classification_report\n",
    "from io import StringIO\n",
    "import re\n",
    "\n",
    "def report_to_df(report):\n",
    "    report = re.sub(r\" +\", \" \", report).replace(\"avg / total\", \"avg/total\").replace(\"\\n \", \"\\n\")\n",
    "    report_df = pd.read_csv(StringIO(\"Classes\" + report), sep=' ', index_col=0)        \n",
    "    return(report_df)\n",
    "\n",
    "def train_evaluate(model, to_latex=False):\n",
    "    model.fit(X_train_dev,y_train_dev)\n",
    "#     print \"Dev score:\", accuracy_score(model.predict(X_dev), y_dev)\n",
    "#     print \"Test score:\", accuracy_score(model.predict(X_test), y_test)\n",
    "#     print classification_report(list(lr.predict(X_dev))+list(lr.predict(X_test)), list(y_dev)+list(y_test))\n",
    "    y_pred = model.predict(X_test)\n",
    "    report = report_to_df(classification_report(y_test, y_pred))\n",
    "    print \"confusion_matrix:\\n\",confusion_matrix(y_test, y_pred)\n",
    "    \n",
    "    if to_latex:\n",
    "#         print report\n",
    "        print \"Latex table:\\n\"\n",
    "        print \"\"\"\\\\begin{table}[H]\\centering\"\"\"+report.to_latex()+\"\"\"\\\\caption{Table label}\n",
    "\\end{table}\"\"\"\n",
    "    \n",
    "    return report\n"
   ]
  },
  {
   "cell_type": "markdown",
   "metadata": {},
   "source": [
    "## Logistic Regression"
   ]
  },
  {
   "cell_type": "code",
   "execution_count": null,
   "metadata": {},
   "outputs": [],
   "source": [
    "SVC(kernel='poly',)"
   ]
  },
  {
   "cell_type": "code",
   "execution_count": 316,
   "metadata": {},
   "outputs": [],
   "source": [
    "from sklearn.ensemble import RandomForestClassifier\n",
    "from sklearn.neighbors import KNeighborsClassifier"
   ]
  },
  {
   "cell_type": "code",
   "execution_count": 317,
   "metadata": {},
   "outputs": [],
   "source": [
    "models = {\n",
    "#     'LogisticRegression': LogisticRegression(),\n",
    "#     'SVC_linear': SVC(kernel = 'linear'),\n",
    "# #     'SVC_rbf': SVC(kernel = 'rbf'),\n",
    "# #     'SVC_rbf_C=100': SVC(kernel = 'rbf', C=100),\n",
    "# #     'SVC_rbf_C=500': SVC(kernel = 'rbf', C=500),\n",
    "# #     'SVC_rbf_C=1000': SVC(kernel = 'rbf', C=1000),\n",
    "# #     'SVC_poly3_C=100': SVC(kernel = 'poly', C=100,),\n",
    "# #     'SVC_poly3_C=500': SVC(kernel = 'poly', C=500, ),\n",
    "# #     'SVC_poly3_C=1000': SVC(kernel = 'poly', C=1000, ),\n",
    "# #     'SVC_rbf': SVC(kernel = 'rbf'),\n",
    "# #     'SVC_rbf': SVC(kernel = 'rbf'),\n",
    "#     'RandomForestClassifier': RandomForestClassifier(),\n",
    "    'kNN_5': KNeighborsClassifier()\n",
    "#     'RandomForestClassifier': RandomForestClassifier(n_estimators=100, max_depth=5),\n",
    "    \n",
    "    \n",
    "    \n",
    "}"
   ]
  },
  {
   "cell_type": "code",
   "execution_count": 302,
   "metadata": {},
   "outputs": [],
   "source": [
    "from collections import defaultdict\n",
    "import time"
   ]
  },
  {
   "cell_type": "code",
   "execution_count": null,
   "metadata": {},
   "outputs": [],
   "source": []
  },
  {
   "cell_type": "code",
   "execution_count": 217,
   "metadata": {},
   "outputs": [
    {
     "name": "stdout",
     "output_type": "stream",
     "text": [
      "confusion_matrix:\n",
      "[[5538  767]\n",
      " [1181  799]]\n",
      "Latex table:\n",
      "\n",
      "\\begin{table}[H]\\centering\\begin{tabular}{lrrrr}\n",
      "\\toprule\n",
      "{} &  precision &  recall &  f1-score &  support \\\\\n",
      "Classes   &            &         &           &          \\\\\n",
      "\\midrule\n",
      "-1        &       0.82 &    0.88 &      0.85 &     6305 \\\\\n",
      "1         &       0.51 &    0.40 &      0.45 &     1980 \\\\\n",
      "avg/total &       0.75 &    0.76 &      0.75 &     8285 \\\\\n",
      "\\bottomrule\n",
      "\\end{tabular}\n",
      "\\caption{Table label}\n",
      "\\end{table}\n"
     ]
    },
    {
     "data": {
      "text/html": [
       "<div>\n",
       "<style scoped>\n",
       "    .dataframe tbody tr th:only-of-type {\n",
       "        vertical-align: middle;\n",
       "    }\n",
       "\n",
       "    .dataframe tbody tr th {\n",
       "        vertical-align: top;\n",
       "    }\n",
       "\n",
       "    .dataframe thead th {\n",
       "        text-align: right;\n",
       "    }\n",
       "</style>\n",
       "<table border=\"1\" class=\"dataframe\">\n",
       "  <thead>\n",
       "    <tr style=\"text-align: right;\">\n",
       "      <th></th>\n",
       "      <th>precision</th>\n",
       "      <th>recall</th>\n",
       "      <th>f1-score</th>\n",
       "      <th>support</th>\n",
       "    </tr>\n",
       "    <tr>\n",
       "      <th>Classes</th>\n",
       "      <th></th>\n",
       "      <th></th>\n",
       "      <th></th>\n",
       "      <th></th>\n",
       "    </tr>\n",
       "  </thead>\n",
       "  <tbody>\n",
       "    <tr>\n",
       "      <th>-1</th>\n",
       "      <td>0.82</td>\n",
       "      <td>0.88</td>\n",
       "      <td>0.85</td>\n",
       "      <td>6305</td>\n",
       "    </tr>\n",
       "    <tr>\n",
       "      <th>1</th>\n",
       "      <td>0.51</td>\n",
       "      <td>0.40</td>\n",
       "      <td>0.45</td>\n",
       "      <td>1980</td>\n",
       "    </tr>\n",
       "    <tr>\n",
       "      <th>avg/total</th>\n",
       "      <td>0.75</td>\n",
       "      <td>0.76</td>\n",
       "      <td>0.75</td>\n",
       "      <td>8285</td>\n",
       "    </tr>\n",
       "  </tbody>\n",
       "</table>\n",
       "</div>"
      ],
      "text/plain": [
       "           precision  recall  f1-score  support\n",
       "Classes                                        \n",
       "-1              0.82    0.88      0.85     6305\n",
       "1               0.51    0.40      0.45     1980\n",
       "avg/total       0.75    0.76      0.75     8285"
      ]
     },
     "execution_count": 217,
     "metadata": {},
     "output_type": "execute_result"
    }
   ],
   "source": [
    "train_evaluate(LogisticRegression(), to_latex=True)"
   ]
  },
  {
   "cell_type": "markdown",
   "metadata": {},
   "source": [
    "## SVM"
   ]
  },
  {
   "cell_type": "code",
   "execution_count": null,
   "metadata": {},
   "outputs": [],
   "source": []
  },
  {
   "cell_type": "code",
   "execution_count": 95,
   "metadata": {},
   "outputs": [],
   "source": [
    "from sklearn.svm import SVC"
   ]
  },
  {
   "cell_type": "markdown",
   "metadata": {},
   "source": [
    "** linear **"
   ]
  },
  {
   "cell_type": "code",
   "execution_count": 218,
   "metadata": {},
   "outputs": [
    {
     "name": "stdout",
     "output_type": "stream",
     "text": [
      "confusion_matrix:\n",
      "[[5034 1271]\n",
      " [1072  908]]\n",
      "Latex table:\n",
      "\n",
      "\\begin{table}[H]\\centering\\begin{tabular}{lrrrr}\n",
      "\\toprule\n",
      "{} &  precision &  recall &  f1-score &  support \\\\\n",
      "Classes   &            &         &           &          \\\\\n",
      "\\midrule\n",
      "-1        &       0.82 &    0.80 &      0.81 &     6305 \\\\\n",
      "1         &       0.42 &    0.46 &      0.44 &     1980 \\\\\n",
      "avg/total &       0.73 &    0.72 &      0.72 &     8285 \\\\\n",
      "\\bottomrule\n",
      "\\end{tabular}\n",
      "\\caption{Table label}\n",
      "\\end{table}\n"
     ]
    },
    {
     "data": {
      "text/html": [
       "<div>\n",
       "<style scoped>\n",
       "    .dataframe tbody tr th:only-of-type {\n",
       "        vertical-align: middle;\n",
       "    }\n",
       "\n",
       "    .dataframe tbody tr th {\n",
       "        vertical-align: top;\n",
       "    }\n",
       "\n",
       "    .dataframe thead th {\n",
       "        text-align: right;\n",
       "    }\n",
       "</style>\n",
       "<table border=\"1\" class=\"dataframe\">\n",
       "  <thead>\n",
       "    <tr style=\"text-align: right;\">\n",
       "      <th></th>\n",
       "      <th>precision</th>\n",
       "      <th>recall</th>\n",
       "      <th>f1-score</th>\n",
       "      <th>support</th>\n",
       "    </tr>\n",
       "    <tr>\n",
       "      <th>Classes</th>\n",
       "      <th></th>\n",
       "      <th></th>\n",
       "      <th></th>\n",
       "      <th></th>\n",
       "    </tr>\n",
       "  </thead>\n",
       "  <tbody>\n",
       "    <tr>\n",
       "      <th>-1</th>\n",
       "      <td>0.82</td>\n",
       "      <td>0.80</td>\n",
       "      <td>0.81</td>\n",
       "      <td>6305</td>\n",
       "    </tr>\n",
       "    <tr>\n",
       "      <th>1</th>\n",
       "      <td>0.42</td>\n",
       "      <td>0.46</td>\n",
       "      <td>0.44</td>\n",
       "      <td>1980</td>\n",
       "    </tr>\n",
       "    <tr>\n",
       "      <th>avg/total</th>\n",
       "      <td>0.73</td>\n",
       "      <td>0.72</td>\n",
       "      <td>0.72</td>\n",
       "      <td>8285</td>\n",
       "    </tr>\n",
       "  </tbody>\n",
       "</table>\n",
       "</div>"
      ],
      "text/plain": [
       "           precision  recall  f1-score  support\n",
       "Classes                                        \n",
       "-1              0.82    0.80      0.81     6305\n",
       "1               0.42    0.46      0.44     1980\n",
       "avg/total       0.73    0.72      0.72     8285"
      ]
     },
     "execution_count": 218,
     "metadata": {},
     "output_type": "execute_result"
    }
   ],
   "source": [
    "train_evaluate(SVC(kernel = 'linear'), to_latex=True)"
   ]
  },
  {
   "cell_type": "code",
   "execution_count": 229,
   "metadata": {},
   "outputs": [
    {
     "name": "stdout",
     "output_type": "stream",
     "text": [
      "confusion_matrix:\n",
      "[[4471 1834]\n",
      " [ 750 1230]]\n",
      "Latex table:\n",
      "\n",
      "\\begin{table}[H]\\centering\\begin{tabular}{lrrrr}\n",
      "\\toprule\n",
      "{} &  precision &  recall &  f1-score &  support \\\\\n",
      "Classes   &            &         &           &          \\\\\n",
      "\\midrule\n",
      "-1        &       0.86 &    0.71 &      0.78 &     6305 \\\\\n",
      "1         &       0.40 &    0.62 &      0.49 &     1980 \\\\\n",
      "avg/total &       0.75 &    0.69 &      0.71 &     8285 \\\\\n",
      "\\bottomrule\n",
      "\\end{tabular}\n",
      "\\caption{Table label}\n",
      "\\end{table}\n"
     ]
    },
    {
     "data": {
      "text/html": [
       "<div>\n",
       "<style scoped>\n",
       "    .dataframe tbody tr th:only-of-type {\n",
       "        vertical-align: middle;\n",
       "    }\n",
       "\n",
       "    .dataframe tbody tr th {\n",
       "        vertical-align: top;\n",
       "    }\n",
       "\n",
       "    .dataframe thead th {\n",
       "        text-align: right;\n",
       "    }\n",
       "</style>\n",
       "<table border=\"1\" class=\"dataframe\">\n",
       "  <thead>\n",
       "    <tr style=\"text-align: right;\">\n",
       "      <th></th>\n",
       "      <th>precision</th>\n",
       "      <th>recall</th>\n",
       "      <th>f1-score</th>\n",
       "      <th>support</th>\n",
       "    </tr>\n",
       "    <tr>\n",
       "      <th>Classes</th>\n",
       "      <th></th>\n",
       "      <th></th>\n",
       "      <th></th>\n",
       "      <th></th>\n",
       "    </tr>\n",
       "  </thead>\n",
       "  <tbody>\n",
       "    <tr>\n",
       "      <th>-1</th>\n",
       "      <td>0.86</td>\n",
       "      <td>0.71</td>\n",
       "      <td>0.78</td>\n",
       "      <td>6305</td>\n",
       "    </tr>\n",
       "    <tr>\n",
       "      <th>1</th>\n",
       "      <td>0.40</td>\n",
       "      <td>0.62</td>\n",
       "      <td>0.49</td>\n",
       "      <td>1980</td>\n",
       "    </tr>\n",
       "    <tr>\n",
       "      <th>avg/total</th>\n",
       "      <td>0.75</td>\n",
       "      <td>0.69</td>\n",
       "      <td>0.71</td>\n",
       "      <td>8285</td>\n",
       "    </tr>\n",
       "  </tbody>\n",
       "</table>\n",
       "</div>"
      ],
      "text/plain": [
       "           precision  recall  f1-score  support\n",
       "Classes                                        \n",
       "-1              0.86    0.71      0.78     6305\n",
       "1               0.40    0.62      0.49     1980\n",
       "avg/total       0.75    0.69      0.71     8285"
      ]
     },
     "execution_count": 229,
     "metadata": {},
     "output_type": "execute_result"
    }
   ],
   "source": [
    "train_evaluate(SVC(kernel = 'linear', class_weight='balanced'), to_latex=True)"
   ]
  },
  {
   "cell_type": "markdown",
   "metadata": {},
   "source": [
    "** poly = 2 **"
   ]
  },
  {
   "cell_type": "code",
   "execution_count": 219,
   "metadata": {},
   "outputs": [
    {
     "name": "stdout",
     "output_type": "stream",
     "text": [
      "confusion_matrix:\n",
      "[[6305    0]\n",
      " [1980    0]]\n",
      "Latex table:\n",
      "\n",
      "\\begin{table}[H]\\centering\\begin{tabular}{lrrrr}\n",
      "\\toprule\n",
      "{} &  precision &  recall &  f1-score &  support \\\\\n",
      "Classes   &            &         &           &          \\\\\n",
      "\\midrule\n",
      "-1        &       0.76 &    1.00 &      0.86 &     6305 \\\\\n",
      "1         &       0.00 &    0.00 &      0.00 &     1980 \\\\\n",
      "avg/total &       0.58 &    0.76 &      0.66 &     8285 \\\\\n",
      "\\bottomrule\n",
      "\\end{tabular}\n",
      "\\caption{Table label}\n",
      "\\end{table}\n"
     ]
    },
    {
     "data": {
      "text/html": [
       "<div>\n",
       "<style scoped>\n",
       "    .dataframe tbody tr th:only-of-type {\n",
       "        vertical-align: middle;\n",
       "    }\n",
       "\n",
       "    .dataframe tbody tr th {\n",
       "        vertical-align: top;\n",
       "    }\n",
       "\n",
       "    .dataframe thead th {\n",
       "        text-align: right;\n",
       "    }\n",
       "</style>\n",
       "<table border=\"1\" class=\"dataframe\">\n",
       "  <thead>\n",
       "    <tr style=\"text-align: right;\">\n",
       "      <th></th>\n",
       "      <th>precision</th>\n",
       "      <th>recall</th>\n",
       "      <th>f1-score</th>\n",
       "      <th>support</th>\n",
       "    </tr>\n",
       "    <tr>\n",
       "      <th>Classes</th>\n",
       "      <th></th>\n",
       "      <th></th>\n",
       "      <th></th>\n",
       "      <th></th>\n",
       "    </tr>\n",
       "  </thead>\n",
       "  <tbody>\n",
       "    <tr>\n",
       "      <th>-1</th>\n",
       "      <td>0.76</td>\n",
       "      <td>1.00</td>\n",
       "      <td>0.86</td>\n",
       "      <td>6305</td>\n",
       "    </tr>\n",
       "    <tr>\n",
       "      <th>1</th>\n",
       "      <td>0.00</td>\n",
       "      <td>0.00</td>\n",
       "      <td>0.00</td>\n",
       "      <td>1980</td>\n",
       "    </tr>\n",
       "    <tr>\n",
       "      <th>avg/total</th>\n",
       "      <td>0.58</td>\n",
       "      <td>0.76</td>\n",
       "      <td>0.66</td>\n",
       "      <td>8285</td>\n",
       "    </tr>\n",
       "  </tbody>\n",
       "</table>\n",
       "</div>"
      ],
      "text/plain": [
       "           precision  recall  f1-score  support\n",
       "Classes                                        \n",
       "-1              0.76    1.00      0.86     6305\n",
       "1               0.00    0.00      0.00     1980\n",
       "avg/total       0.58    0.76      0.66     8285"
      ]
     },
     "execution_count": 219,
     "metadata": {},
     "output_type": "execute_result"
    }
   ],
   "source": [
    "train_evaluate(SVC(kernel = 'poly', degree=2), to_latex=True)"
   ]
  },
  {
   "cell_type": "code",
   "execution_count": 230,
   "metadata": {},
   "outputs": [
    {
     "name": "stdout",
     "output_type": "stream",
     "text": [
      "confusion_matrix:\n",
      "[[ 480 5825]\n",
      " [  47 1933]]\n",
      "Latex table:\n",
      "\n",
      "\\begin{table}[H]\\centering\\begin{tabular}{lrrrr}\n",
      "\\toprule\n",
      "{} &  precision &  recall &  f1-score &  support \\\\\n",
      "Classes   &            &         &           &          \\\\\n",
      "\\midrule\n",
      "-1        &       0.91 &    0.08 &      0.14 &     6305 \\\\\n",
      "1         &       0.25 &    0.98 &      0.40 &     1980 \\\\\n",
      "avg/total &       0.75 &    0.29 &      0.20 &     8285 \\\\\n",
      "\\bottomrule\n",
      "\\end{tabular}\n",
      "\\caption{Table label}\n",
      "\\end{table}\n"
     ]
    },
    {
     "data": {
      "text/html": [
       "<div>\n",
       "<style scoped>\n",
       "    .dataframe tbody tr th:only-of-type {\n",
       "        vertical-align: middle;\n",
       "    }\n",
       "\n",
       "    .dataframe tbody tr th {\n",
       "        vertical-align: top;\n",
       "    }\n",
       "\n",
       "    .dataframe thead th {\n",
       "        text-align: right;\n",
       "    }\n",
       "</style>\n",
       "<table border=\"1\" class=\"dataframe\">\n",
       "  <thead>\n",
       "    <tr style=\"text-align: right;\">\n",
       "      <th></th>\n",
       "      <th>precision</th>\n",
       "      <th>recall</th>\n",
       "      <th>f1-score</th>\n",
       "      <th>support</th>\n",
       "    </tr>\n",
       "    <tr>\n",
       "      <th>Classes</th>\n",
       "      <th></th>\n",
       "      <th></th>\n",
       "      <th></th>\n",
       "      <th></th>\n",
       "    </tr>\n",
       "  </thead>\n",
       "  <tbody>\n",
       "    <tr>\n",
       "      <th>-1</th>\n",
       "      <td>0.91</td>\n",
       "      <td>0.08</td>\n",
       "      <td>0.14</td>\n",
       "      <td>6305</td>\n",
       "    </tr>\n",
       "    <tr>\n",
       "      <th>1</th>\n",
       "      <td>0.25</td>\n",
       "      <td>0.98</td>\n",
       "      <td>0.40</td>\n",
       "      <td>1980</td>\n",
       "    </tr>\n",
       "    <tr>\n",
       "      <th>avg/total</th>\n",
       "      <td>0.75</td>\n",
       "      <td>0.29</td>\n",
       "      <td>0.20</td>\n",
       "      <td>8285</td>\n",
       "    </tr>\n",
       "  </tbody>\n",
       "</table>\n",
       "</div>"
      ],
      "text/plain": [
       "           precision  recall  f1-score  support\n",
       "Classes                                        \n",
       "-1              0.91    0.08      0.14     6305\n",
       "1               0.25    0.98      0.40     1980\n",
       "avg/total       0.75    0.29      0.20     8285"
      ]
     },
     "execution_count": 230,
     "metadata": {},
     "output_type": "execute_result"
    }
   ],
   "source": [
    "train_evaluate(SVC(kernel = 'poly', degree=2, class_weight='balanced'), to_latex=True)"
   ]
  },
  {
   "cell_type": "markdown",
   "metadata": {},
   "source": [
    "** poly = 3 **"
   ]
  },
  {
   "cell_type": "code",
   "execution_count": 220,
   "metadata": {},
   "outputs": [
    {
     "name": "stdout",
     "output_type": "stream",
     "text": [
      "confusion_matrix:\n",
      "[[6305    0]\n",
      " [1980    0]]\n",
      "Latex table:\n",
      "\n",
      "\\begin{table}[H]\\centering\\begin{tabular}{lrrrr}\n",
      "\\toprule\n",
      "{} &  precision &  recall &  f1-score &  support \\\\\n",
      "Classes   &            &         &           &          \\\\\n",
      "\\midrule\n",
      "-1        &       0.76 &    1.00 &      0.86 &     6305 \\\\\n",
      "1         &       0.00 &    0.00 &      0.00 &     1980 \\\\\n",
      "avg/total &       0.58 &    0.76 &      0.66 &     8285 \\\\\n",
      "\\bottomrule\n",
      "\\end{tabular}\n",
      "\\caption{Table label}\n",
      "\\end{table}\n"
     ]
    },
    {
     "data": {
      "text/html": [
       "<div>\n",
       "<style scoped>\n",
       "    .dataframe tbody tr th:only-of-type {\n",
       "        vertical-align: middle;\n",
       "    }\n",
       "\n",
       "    .dataframe tbody tr th {\n",
       "        vertical-align: top;\n",
       "    }\n",
       "\n",
       "    .dataframe thead th {\n",
       "        text-align: right;\n",
       "    }\n",
       "</style>\n",
       "<table border=\"1\" class=\"dataframe\">\n",
       "  <thead>\n",
       "    <tr style=\"text-align: right;\">\n",
       "      <th></th>\n",
       "      <th>precision</th>\n",
       "      <th>recall</th>\n",
       "      <th>f1-score</th>\n",
       "      <th>support</th>\n",
       "    </tr>\n",
       "    <tr>\n",
       "      <th>Classes</th>\n",
       "      <th></th>\n",
       "      <th></th>\n",
       "      <th></th>\n",
       "      <th></th>\n",
       "    </tr>\n",
       "  </thead>\n",
       "  <tbody>\n",
       "    <tr>\n",
       "      <th>-1</th>\n",
       "      <td>0.76</td>\n",
       "      <td>1.00</td>\n",
       "      <td>0.86</td>\n",
       "      <td>6305</td>\n",
       "    </tr>\n",
       "    <tr>\n",
       "      <th>1</th>\n",
       "      <td>0.00</td>\n",
       "      <td>0.00</td>\n",
       "      <td>0.00</td>\n",
       "      <td>1980</td>\n",
       "    </tr>\n",
       "    <tr>\n",
       "      <th>avg/total</th>\n",
       "      <td>0.58</td>\n",
       "      <td>0.76</td>\n",
       "      <td>0.66</td>\n",
       "      <td>8285</td>\n",
       "    </tr>\n",
       "  </tbody>\n",
       "</table>\n",
       "</div>"
      ],
      "text/plain": [
       "           precision  recall  f1-score  support\n",
       "Classes                                        \n",
       "-1              0.76    1.00      0.86     6305\n",
       "1               0.00    0.00      0.00     1980\n",
       "avg/total       0.58    0.76      0.66     8285"
      ]
     },
     "execution_count": 220,
     "metadata": {},
     "output_type": "execute_result"
    }
   ],
   "source": [
    "train_evaluate(SVC(kernel = 'poly', degree=3), to_latex=True)"
   ]
  },
  {
   "cell_type": "code",
   "execution_count": 232,
   "metadata": {},
   "outputs": [
    {
     "name": "stdout",
     "output_type": "stream",
     "text": [
      "confusion_matrix:\n",
      "[[   0 6305]\n",
      " [   0 1980]]\n",
      "Latex table:\n",
      "\n",
      "\\begin{table}[H]\\centering\\begin{tabular}{lrrrr}\n",
      "\\toprule\n",
      "{} &  precision &  recall &  f1-score &  support \\\\\n",
      "Classes   &            &         &           &          \\\\\n",
      "\\midrule\n",
      "-1        &       0.00 &    0.00 &      0.00 &     6305 \\\\\n",
      "1         &       0.24 &    1.00 &      0.39 &     1980 \\\\\n",
      "avg/total &       0.06 &    0.24 &      0.09 &     8285 \\\\\n",
      "\\bottomrule\n",
      "\\end{tabular}\n",
      "\\caption{Table label}\n",
      "\\end{table}\n"
     ]
    },
    {
     "data": {
      "text/html": [
       "<div>\n",
       "<style scoped>\n",
       "    .dataframe tbody tr th:only-of-type {\n",
       "        vertical-align: middle;\n",
       "    }\n",
       "\n",
       "    .dataframe tbody tr th {\n",
       "        vertical-align: top;\n",
       "    }\n",
       "\n",
       "    .dataframe thead th {\n",
       "        text-align: right;\n",
       "    }\n",
       "</style>\n",
       "<table border=\"1\" class=\"dataframe\">\n",
       "  <thead>\n",
       "    <tr style=\"text-align: right;\">\n",
       "      <th></th>\n",
       "      <th>precision</th>\n",
       "      <th>recall</th>\n",
       "      <th>f1-score</th>\n",
       "      <th>support</th>\n",
       "    </tr>\n",
       "    <tr>\n",
       "      <th>Classes</th>\n",
       "      <th></th>\n",
       "      <th></th>\n",
       "      <th></th>\n",
       "      <th></th>\n",
       "    </tr>\n",
       "  </thead>\n",
       "  <tbody>\n",
       "    <tr>\n",
       "      <th>-1</th>\n",
       "      <td>0.00</td>\n",
       "      <td>0.00</td>\n",
       "      <td>0.00</td>\n",
       "      <td>6305</td>\n",
       "    </tr>\n",
       "    <tr>\n",
       "      <th>1</th>\n",
       "      <td>0.24</td>\n",
       "      <td>1.00</td>\n",
       "      <td>0.39</td>\n",
       "      <td>1980</td>\n",
       "    </tr>\n",
       "    <tr>\n",
       "      <th>avg/total</th>\n",
       "      <td>0.06</td>\n",
       "      <td>0.24</td>\n",
       "      <td>0.09</td>\n",
       "      <td>8285</td>\n",
       "    </tr>\n",
       "  </tbody>\n",
       "</table>\n",
       "</div>"
      ],
      "text/plain": [
       "           precision  recall  f1-score  support\n",
       "Classes                                        \n",
       "-1              0.00    0.00      0.00     6305\n",
       "1               0.24    1.00      0.39     1980\n",
       "avg/total       0.06    0.24      0.09     8285"
      ]
     },
     "execution_count": 232,
     "metadata": {},
     "output_type": "execute_result"
    }
   ],
   "source": [
    "train_evaluate(SVC(kernel = 'poly', degree=3,class_weight='balanced'), to_latex=True)"
   ]
  },
  {
   "cell_type": "code",
   "execution_count": null,
   "metadata": {},
   "outputs": [],
   "source": []
  },
  {
   "cell_type": "markdown",
   "metadata": {},
   "source": [
    "** Gaussian **"
   ]
  },
  {
   "cell_type": "code",
   "execution_count": 221,
   "metadata": {},
   "outputs": [
    {
     "name": "stdout",
     "output_type": "stream",
     "text": [
      "confusion_matrix:\n",
      "[[6305    0]\n",
      " [1980    0]]\n",
      "Latex table:\n",
      "\n",
      "\\begin{table}[H]\\centering\\begin{tabular}{lrrrr}\n",
      "\\toprule\n",
      "{} &  precision &  recall &  f1-score &  support \\\\\n",
      "Classes   &            &         &           &          \\\\\n",
      "\\midrule\n",
      "-1        &       0.76 &    1.00 &      0.86 &     6305 \\\\\n",
      "1         &       0.00 &    0.00 &      0.00 &     1980 \\\\\n",
      "avg/total &       0.58 &    0.76 &      0.66 &     8285 \\\\\n",
      "\\bottomrule\n",
      "\\end{tabular}\n",
      "\\caption{Table label}\n",
      "\\end{table}\n"
     ]
    },
    {
     "data": {
      "text/html": [
       "<div>\n",
       "<style scoped>\n",
       "    .dataframe tbody tr th:only-of-type {\n",
       "        vertical-align: middle;\n",
       "    }\n",
       "\n",
       "    .dataframe tbody tr th {\n",
       "        vertical-align: top;\n",
       "    }\n",
       "\n",
       "    .dataframe thead th {\n",
       "        text-align: right;\n",
       "    }\n",
       "</style>\n",
       "<table border=\"1\" class=\"dataframe\">\n",
       "  <thead>\n",
       "    <tr style=\"text-align: right;\">\n",
       "      <th></th>\n",
       "      <th>precision</th>\n",
       "      <th>recall</th>\n",
       "      <th>f1-score</th>\n",
       "      <th>support</th>\n",
       "    </tr>\n",
       "    <tr>\n",
       "      <th>Classes</th>\n",
       "      <th></th>\n",
       "      <th></th>\n",
       "      <th></th>\n",
       "      <th></th>\n",
       "    </tr>\n",
       "  </thead>\n",
       "  <tbody>\n",
       "    <tr>\n",
       "      <th>-1</th>\n",
       "      <td>0.76</td>\n",
       "      <td>1.00</td>\n",
       "      <td>0.86</td>\n",
       "      <td>6305</td>\n",
       "    </tr>\n",
       "    <tr>\n",
       "      <th>1</th>\n",
       "      <td>0.00</td>\n",
       "      <td>0.00</td>\n",
       "      <td>0.00</td>\n",
       "      <td>1980</td>\n",
       "    </tr>\n",
       "    <tr>\n",
       "      <th>avg/total</th>\n",
       "      <td>0.58</td>\n",
       "      <td>0.76</td>\n",
       "      <td>0.66</td>\n",
       "      <td>8285</td>\n",
       "    </tr>\n",
       "  </tbody>\n",
       "</table>\n",
       "</div>"
      ],
      "text/plain": [
       "           precision  recall  f1-score  support\n",
       "Classes                                        \n",
       "-1              0.76    1.00      0.86     6305\n",
       "1               0.00    0.00      0.00     1980\n",
       "avg/total       0.58    0.76      0.66     8285"
      ]
     },
     "execution_count": 221,
     "metadata": {},
     "output_type": "execute_result"
    }
   ],
   "source": [
    "train_evaluate(SVC(kernel = 'rbf'), to_latex=True)"
   ]
  },
  {
   "cell_type": "code",
   "execution_count": 233,
   "metadata": {},
   "outputs": [
    {
     "name": "stdout",
     "output_type": "stream",
     "text": [
      "confusion_matrix:\n",
      "[[2622 3683]\n",
      " [ 350 1630]]\n",
      "Latex table:\n",
      "\n",
      "\\begin{table}[H]\\centering\\begin{tabular}{lrrrr}\n",
      "\\toprule\n",
      "{} &  precision &  recall &  f1-score &  support \\\\\n",
      "Classes   &            &         &           &          \\\\\n",
      "\\midrule\n",
      "-1        &       0.88 &    0.42 &      0.57 &     6305 \\\\\n",
      "1         &       0.31 &    0.82 &      0.45 &     1980 \\\\\n",
      "avg/total &       0.74 &    0.51 &      0.54 &     8285 \\\\\n",
      "\\bottomrule\n",
      "\\end{tabular}\n",
      "\\caption{Table label}\n",
      "\\end{table}\n"
     ]
    },
    {
     "data": {
      "text/html": [
       "<div>\n",
       "<style scoped>\n",
       "    .dataframe tbody tr th:only-of-type {\n",
       "        vertical-align: middle;\n",
       "    }\n",
       "\n",
       "    .dataframe tbody tr th {\n",
       "        vertical-align: top;\n",
       "    }\n",
       "\n",
       "    .dataframe thead th {\n",
       "        text-align: right;\n",
       "    }\n",
       "</style>\n",
       "<table border=\"1\" class=\"dataframe\">\n",
       "  <thead>\n",
       "    <tr style=\"text-align: right;\">\n",
       "      <th></th>\n",
       "      <th>precision</th>\n",
       "      <th>recall</th>\n",
       "      <th>f1-score</th>\n",
       "      <th>support</th>\n",
       "    </tr>\n",
       "    <tr>\n",
       "      <th>Classes</th>\n",
       "      <th></th>\n",
       "      <th></th>\n",
       "      <th></th>\n",
       "      <th></th>\n",
       "    </tr>\n",
       "  </thead>\n",
       "  <tbody>\n",
       "    <tr>\n",
       "      <th>-1</th>\n",
       "      <td>0.88</td>\n",
       "      <td>0.42</td>\n",
       "      <td>0.57</td>\n",
       "      <td>6305</td>\n",
       "    </tr>\n",
       "    <tr>\n",
       "      <th>1</th>\n",
       "      <td>0.31</td>\n",
       "      <td>0.82</td>\n",
       "      <td>0.45</td>\n",
       "      <td>1980</td>\n",
       "    </tr>\n",
       "    <tr>\n",
       "      <th>avg/total</th>\n",
       "      <td>0.74</td>\n",
       "      <td>0.51</td>\n",
       "      <td>0.54</td>\n",
       "      <td>8285</td>\n",
       "    </tr>\n",
       "  </tbody>\n",
       "</table>\n",
       "</div>"
      ],
      "text/plain": [
       "           precision  recall  f1-score  support\n",
       "Classes                                        \n",
       "-1              0.88    0.42      0.57     6305\n",
       "1               0.31    0.82      0.45     1980\n",
       "avg/total       0.74    0.51      0.54     8285"
      ]
     },
     "execution_count": 233,
     "metadata": {},
     "output_type": "execute_result"
    }
   ],
   "source": [
    "train_evaluate(SVC(kernel = 'rbf', class_weight = 'balanced'), to_latex=True)"
   ]
  },
  {
   "cell_type": "code",
   "execution_count": 181,
   "metadata": {},
   "outputs": [],
   "source": [
    "#### Penalize RBF"
   ]
  },
  {
   "cell_type": "code",
   "execution_count": 222,
   "metadata": {},
   "outputs": [
    {
     "name": "stdout",
     "output_type": "stream",
     "text": [
      "confusion_matrix:\n",
      "[[5882  423]\n",
      " [1465  515]]\n",
      "Latex table:\n",
      "\n",
      "\\begin{table}[H]\\centering\\begin{tabular}{lrrrr}\n",
      "\\toprule\n",
      "{} &  precision &  recall &  f1-score &  support \\\\\n",
      "Classes   &            &         &           &          \\\\\n",
      "\\midrule\n",
      "-1        &       0.80 &    0.93 &      0.86 &     6305 \\\\\n",
      "1         &       0.55 &    0.26 &      0.35 &     1980 \\\\\n",
      "avg/total &       0.74 &    0.77 &      0.74 &     8285 \\\\\n",
      "\\bottomrule\n",
      "\\end{tabular}\n",
      "\\caption{Table label}\n",
      "\\end{table}\n"
     ]
    },
    {
     "data": {
      "text/html": [
       "<div>\n",
       "<style scoped>\n",
       "    .dataframe tbody tr th:only-of-type {\n",
       "        vertical-align: middle;\n",
       "    }\n",
       "\n",
       "    .dataframe tbody tr th {\n",
       "        vertical-align: top;\n",
       "    }\n",
       "\n",
       "    .dataframe thead th {\n",
       "        text-align: right;\n",
       "    }\n",
       "</style>\n",
       "<table border=\"1\" class=\"dataframe\">\n",
       "  <thead>\n",
       "    <tr style=\"text-align: right;\">\n",
       "      <th></th>\n",
       "      <th>precision</th>\n",
       "      <th>recall</th>\n",
       "      <th>f1-score</th>\n",
       "      <th>support</th>\n",
       "    </tr>\n",
       "    <tr>\n",
       "      <th>Classes</th>\n",
       "      <th></th>\n",
       "      <th></th>\n",
       "      <th></th>\n",
       "      <th></th>\n",
       "    </tr>\n",
       "  </thead>\n",
       "  <tbody>\n",
       "    <tr>\n",
       "      <th>-1</th>\n",
       "      <td>0.80</td>\n",
       "      <td>0.93</td>\n",
       "      <td>0.86</td>\n",
       "      <td>6305</td>\n",
       "    </tr>\n",
       "    <tr>\n",
       "      <th>1</th>\n",
       "      <td>0.55</td>\n",
       "      <td>0.26</td>\n",
       "      <td>0.35</td>\n",
       "      <td>1980</td>\n",
       "    </tr>\n",
       "    <tr>\n",
       "      <th>avg/total</th>\n",
       "      <td>0.74</td>\n",
       "      <td>0.77</td>\n",
       "      <td>0.74</td>\n",
       "      <td>8285</td>\n",
       "    </tr>\n",
       "  </tbody>\n",
       "</table>\n",
       "</div>"
      ],
      "text/plain": [
       "           precision  recall  f1-score  support\n",
       "Classes                                        \n",
       "-1              0.80    0.93      0.86     6305\n",
       "1               0.55    0.26      0.35     1980\n",
       "avg/total       0.74    0.77      0.74     8285"
      ]
     },
     "execution_count": 222,
     "metadata": {},
     "output_type": "execute_result"
    }
   ],
   "source": [
    "train_evaluate(SVC(kernel = 'rbf', C=100), to_latex=True)"
   ]
  },
  {
   "cell_type": "code",
   "execution_count": 234,
   "metadata": {},
   "outputs": [
    {
     "name": "stdout",
     "output_type": "stream",
     "text": [
      "confusion_matrix:\n",
      "[[4600 1705]\n",
      " [ 548 1432]]\n",
      "Latex table:\n",
      "\n",
      "\\begin{table}[H]\\centering\\begin{tabular}{lrrrr}\n",
      "\\toprule\n",
      "{} &  precision &  recall &  f1-score &  support \\\\\n",
      "Classes   &            &         &           &          \\\\\n",
      "\\midrule\n",
      "-1        &       0.89 &    0.73 &      0.80 &     6305 \\\\\n",
      "1         &       0.46 &    0.72 &      0.56 &     1980 \\\\\n",
      "avg/total &       0.79 &    0.73 &      0.75 &     8285 \\\\\n",
      "\\bottomrule\n",
      "\\end{tabular}\n",
      "\\caption{Table label}\n",
      "\\end{table}\n"
     ]
    },
    {
     "data": {
      "text/html": [
       "<div>\n",
       "<style scoped>\n",
       "    .dataframe tbody tr th:only-of-type {\n",
       "        vertical-align: middle;\n",
       "    }\n",
       "\n",
       "    .dataframe tbody tr th {\n",
       "        vertical-align: top;\n",
       "    }\n",
       "\n",
       "    .dataframe thead th {\n",
       "        text-align: right;\n",
       "    }\n",
       "</style>\n",
       "<table border=\"1\" class=\"dataframe\">\n",
       "  <thead>\n",
       "    <tr style=\"text-align: right;\">\n",
       "      <th></th>\n",
       "      <th>precision</th>\n",
       "      <th>recall</th>\n",
       "      <th>f1-score</th>\n",
       "      <th>support</th>\n",
       "    </tr>\n",
       "    <tr>\n",
       "      <th>Classes</th>\n",
       "      <th></th>\n",
       "      <th></th>\n",
       "      <th></th>\n",
       "      <th></th>\n",
       "    </tr>\n",
       "  </thead>\n",
       "  <tbody>\n",
       "    <tr>\n",
       "      <th>-1</th>\n",
       "      <td>0.89</td>\n",
       "      <td>0.73</td>\n",
       "      <td>0.80</td>\n",
       "      <td>6305</td>\n",
       "    </tr>\n",
       "    <tr>\n",
       "      <th>1</th>\n",
       "      <td>0.46</td>\n",
       "      <td>0.72</td>\n",
       "      <td>0.56</td>\n",
       "      <td>1980</td>\n",
       "    </tr>\n",
       "    <tr>\n",
       "      <th>avg/total</th>\n",
       "      <td>0.79</td>\n",
       "      <td>0.73</td>\n",
       "      <td>0.75</td>\n",
       "      <td>8285</td>\n",
       "    </tr>\n",
       "  </tbody>\n",
       "</table>\n",
       "</div>"
      ],
      "text/plain": [
       "           precision  recall  f1-score  support\n",
       "Classes                                        \n",
       "-1              0.89    0.73      0.80     6305\n",
       "1               0.46    0.72      0.56     1980\n",
       "avg/total       0.79    0.73      0.75     8285"
      ]
     },
     "execution_count": 234,
     "metadata": {},
     "output_type": "execute_result"
    }
   ],
   "source": [
    "train_evaluate(SVC(kernel = 'rbf', C=100, class_weight = 'balanced'), to_latex=True)"
   ]
  },
  {
   "cell_type": "code",
   "execution_count": null,
   "metadata": {},
   "outputs": [],
   "source": []
  },
  {
   "cell_type": "code",
   "execution_count": 224,
   "metadata": {},
   "outputs": [
    {
     "name": "stdout",
     "output_type": "stream",
     "text": [
      "confusion_matrix:\n",
      "[[5549  756]\n",
      " [1206  774]]\n",
      "Latex table:\n",
      "\n",
      "\\begin{table}[H]\\centering\\begin{tabular}{lrrrr}\n",
      "\\toprule\n",
      "{} &  precision &  recall &  f1-score &  support \\\\\n",
      "Classes   &            &         &           &          \\\\\n",
      "\\midrule\n",
      "-1        &       0.82 &    0.88 &      0.85 &     6305 \\\\\n",
      "1         &       0.51 &    0.39 &      0.44 &     1980 \\\\\n",
      "avg/total &       0.75 &    0.76 &      0.75 &     8285 \\\\\n",
      "\\bottomrule\n",
      "\\end{tabular}\n",
      "\\caption{Table label}\n",
      "\\end{table}\n"
     ]
    },
    {
     "data": {
      "text/html": [
       "<div>\n",
       "<style scoped>\n",
       "    .dataframe tbody tr th:only-of-type {\n",
       "        vertical-align: middle;\n",
       "    }\n",
       "\n",
       "    .dataframe tbody tr th {\n",
       "        vertical-align: top;\n",
       "    }\n",
       "\n",
       "    .dataframe thead th {\n",
       "        text-align: right;\n",
       "    }\n",
       "</style>\n",
       "<table border=\"1\" class=\"dataframe\">\n",
       "  <thead>\n",
       "    <tr style=\"text-align: right;\">\n",
       "      <th></th>\n",
       "      <th>precision</th>\n",
       "      <th>recall</th>\n",
       "      <th>f1-score</th>\n",
       "      <th>support</th>\n",
       "    </tr>\n",
       "    <tr>\n",
       "      <th>Classes</th>\n",
       "      <th></th>\n",
       "      <th></th>\n",
       "      <th></th>\n",
       "      <th></th>\n",
       "    </tr>\n",
       "  </thead>\n",
       "  <tbody>\n",
       "    <tr>\n",
       "      <th>-1</th>\n",
       "      <td>0.82</td>\n",
       "      <td>0.88</td>\n",
       "      <td>0.85</td>\n",
       "      <td>6305</td>\n",
       "    </tr>\n",
       "    <tr>\n",
       "      <th>1</th>\n",
       "      <td>0.51</td>\n",
       "      <td>0.39</td>\n",
       "      <td>0.44</td>\n",
       "      <td>1980</td>\n",
       "    </tr>\n",
       "    <tr>\n",
       "      <th>avg/total</th>\n",
       "      <td>0.75</td>\n",
       "      <td>0.76</td>\n",
       "      <td>0.75</td>\n",
       "      <td>8285</td>\n",
       "    </tr>\n",
       "  </tbody>\n",
       "</table>\n",
       "</div>"
      ],
      "text/plain": [
       "           precision  recall  f1-score  support\n",
       "Classes                                        \n",
       "-1              0.82    0.88      0.85     6305\n",
       "1               0.51    0.39      0.44     1980\n",
       "avg/total       0.75    0.76      0.75     8285"
      ]
     },
     "execution_count": 224,
     "metadata": {},
     "output_type": "execute_result"
    }
   ],
   "source": [
    "train_evaluate(SVC(kernel = 'rbf', C=500), to_latex=True)"
   ]
  },
  {
   "cell_type": "code",
   "execution_count": 235,
   "metadata": {},
   "outputs": [
    {
     "name": "stdout",
     "output_type": "stream",
     "text": [
      "confusion_matrix:\n",
      "[[4611 1694]\n",
      " [ 610 1370]]\n",
      "Latex table:\n",
      "\n",
      "\\begin{table}[H]\\centering\\begin{tabular}{lrrrr}\n",
      "\\toprule\n",
      "{} &  precision &  recall &  f1-score &  support \\\\\n",
      "Classes   &            &         &           &          \\\\\n",
      "\\midrule\n",
      "-1        &       0.88 &    0.73 &      0.80 &     6305 \\\\\n",
      "1         &       0.45 &    0.69 &      0.54 &     1980 \\\\\n",
      "avg/total &       0.78 &    0.72 &      0.74 &     8285 \\\\\n",
      "\\bottomrule\n",
      "\\end{tabular}\n",
      "\\caption{Table label}\n",
      "\\end{table}\n"
     ]
    },
    {
     "data": {
      "text/html": [
       "<div>\n",
       "<style scoped>\n",
       "    .dataframe tbody tr th:only-of-type {\n",
       "        vertical-align: middle;\n",
       "    }\n",
       "\n",
       "    .dataframe tbody tr th {\n",
       "        vertical-align: top;\n",
       "    }\n",
       "\n",
       "    .dataframe thead th {\n",
       "        text-align: right;\n",
       "    }\n",
       "</style>\n",
       "<table border=\"1\" class=\"dataframe\">\n",
       "  <thead>\n",
       "    <tr style=\"text-align: right;\">\n",
       "      <th></th>\n",
       "      <th>precision</th>\n",
       "      <th>recall</th>\n",
       "      <th>f1-score</th>\n",
       "      <th>support</th>\n",
       "    </tr>\n",
       "    <tr>\n",
       "      <th>Classes</th>\n",
       "      <th></th>\n",
       "      <th></th>\n",
       "      <th></th>\n",
       "      <th></th>\n",
       "    </tr>\n",
       "  </thead>\n",
       "  <tbody>\n",
       "    <tr>\n",
       "      <th>-1</th>\n",
       "      <td>0.88</td>\n",
       "      <td>0.73</td>\n",
       "      <td>0.80</td>\n",
       "      <td>6305</td>\n",
       "    </tr>\n",
       "    <tr>\n",
       "      <th>1</th>\n",
       "      <td>0.45</td>\n",
       "      <td>0.69</td>\n",
       "      <td>0.54</td>\n",
       "      <td>1980</td>\n",
       "    </tr>\n",
       "    <tr>\n",
       "      <th>avg/total</th>\n",
       "      <td>0.78</td>\n",
       "      <td>0.72</td>\n",
       "      <td>0.74</td>\n",
       "      <td>8285</td>\n",
       "    </tr>\n",
       "  </tbody>\n",
       "</table>\n",
       "</div>"
      ],
      "text/plain": [
       "           precision  recall  f1-score  support\n",
       "Classes                                        \n",
       "-1              0.88    0.73      0.80     6305\n",
       "1               0.45    0.69      0.54     1980\n",
       "avg/total       0.78    0.72      0.74     8285"
      ]
     },
     "execution_count": 235,
     "metadata": {},
     "output_type": "execute_result"
    }
   ],
   "source": [
    "train_evaluate(SVC(kernel = 'rbf', C=500, class_weight = 'balanced'), to_latex=True)"
   ]
  },
  {
   "cell_type": "code",
   "execution_count": null,
   "metadata": {},
   "outputs": [],
   "source": []
  },
  {
   "cell_type": "code",
   "execution_count": 223,
   "metadata": {},
   "outputs": [
    {
     "name": "stdout",
     "output_type": "stream",
     "text": [
      "confusion_matrix:\n",
      "[[5476  829]\n",
      " [1159  821]]\n",
      "Latex table:\n",
      "\n",
      "\\begin{table}[H]\\centering\\begin{tabular}{lrrrr}\n",
      "\\toprule\n",
      "{} &  precision &  recall &  f1-score &  support \\\\\n",
      "Classes   &            &         &           &          \\\\\n",
      "\\midrule\n",
      "-1        &       0.83 &    0.87 &      0.85 &     6305 \\\\\n",
      "1         &       0.50 &    0.41 &      0.45 &     1980 \\\\\n",
      "avg/total &       0.75 &    0.76 &      0.75 &     8285 \\\\\n",
      "\\bottomrule\n",
      "\\end{tabular}\n",
      "\\caption{Table label}\n",
      "\\end{table}\n"
     ]
    },
    {
     "data": {
      "text/html": [
       "<div>\n",
       "<style scoped>\n",
       "    .dataframe tbody tr th:only-of-type {\n",
       "        vertical-align: middle;\n",
       "    }\n",
       "\n",
       "    .dataframe tbody tr th {\n",
       "        vertical-align: top;\n",
       "    }\n",
       "\n",
       "    .dataframe thead th {\n",
       "        text-align: right;\n",
       "    }\n",
       "</style>\n",
       "<table border=\"1\" class=\"dataframe\">\n",
       "  <thead>\n",
       "    <tr style=\"text-align: right;\">\n",
       "      <th></th>\n",
       "      <th>precision</th>\n",
       "      <th>recall</th>\n",
       "      <th>f1-score</th>\n",
       "      <th>support</th>\n",
       "    </tr>\n",
       "    <tr>\n",
       "      <th>Classes</th>\n",
       "      <th></th>\n",
       "      <th></th>\n",
       "      <th></th>\n",
       "      <th></th>\n",
       "    </tr>\n",
       "  </thead>\n",
       "  <tbody>\n",
       "    <tr>\n",
       "      <th>-1</th>\n",
       "      <td>0.83</td>\n",
       "      <td>0.87</td>\n",
       "      <td>0.85</td>\n",
       "      <td>6305</td>\n",
       "    </tr>\n",
       "    <tr>\n",
       "      <th>1</th>\n",
       "      <td>0.50</td>\n",
       "      <td>0.41</td>\n",
       "      <td>0.45</td>\n",
       "      <td>1980</td>\n",
       "    </tr>\n",
       "    <tr>\n",
       "      <th>avg/total</th>\n",
       "      <td>0.75</td>\n",
       "      <td>0.76</td>\n",
       "      <td>0.75</td>\n",
       "      <td>8285</td>\n",
       "    </tr>\n",
       "  </tbody>\n",
       "</table>\n",
       "</div>"
      ],
      "text/plain": [
       "           precision  recall  f1-score  support\n",
       "Classes                                        \n",
       "-1              0.83    0.87      0.85     6305\n",
       "1               0.50    0.41      0.45     1980\n",
       "avg/total       0.75    0.76      0.75     8285"
      ]
     },
     "execution_count": 223,
     "metadata": {},
     "output_type": "execute_result"
    }
   ],
   "source": [
    "train_evaluate(SVC(kernel = 'rbf', C=1000), to_latex=True)"
   ]
  },
  {
   "cell_type": "code",
   "execution_count": 236,
   "metadata": {},
   "outputs": [
    {
     "name": "stdout",
     "output_type": "stream",
     "text": [
      "confusion_matrix:\n",
      "[[4588 1717]\n",
      " [ 671 1309]]\n",
      "Latex table:\n",
      "\n",
      "\\begin{table}[H]\\centering\\begin{tabular}{lrrrr}\n",
      "\\toprule\n",
      "{} &  precision &  recall &  f1-score &  support \\\\\n",
      "Classes   &            &         &           &          \\\\\n",
      "\\midrule\n",
      "-1        &       0.87 &    0.73 &      0.79 &     6305 \\\\\n",
      "1         &       0.43 &    0.66 &      0.52 &     1980 \\\\\n",
      "avg/total &       0.77 &    0.71 &      0.73 &     8285 \\\\\n",
      "\\bottomrule\n",
      "\\end{tabular}\n",
      "\\caption{Table label}\n",
      "\\end{table}\n"
     ]
    },
    {
     "data": {
      "text/html": [
       "<div>\n",
       "<style scoped>\n",
       "    .dataframe tbody tr th:only-of-type {\n",
       "        vertical-align: middle;\n",
       "    }\n",
       "\n",
       "    .dataframe tbody tr th {\n",
       "        vertical-align: top;\n",
       "    }\n",
       "\n",
       "    .dataframe thead th {\n",
       "        text-align: right;\n",
       "    }\n",
       "</style>\n",
       "<table border=\"1\" class=\"dataframe\">\n",
       "  <thead>\n",
       "    <tr style=\"text-align: right;\">\n",
       "      <th></th>\n",
       "      <th>precision</th>\n",
       "      <th>recall</th>\n",
       "      <th>f1-score</th>\n",
       "      <th>support</th>\n",
       "    </tr>\n",
       "    <tr>\n",
       "      <th>Classes</th>\n",
       "      <th></th>\n",
       "      <th></th>\n",
       "      <th></th>\n",
       "      <th></th>\n",
       "    </tr>\n",
       "  </thead>\n",
       "  <tbody>\n",
       "    <tr>\n",
       "      <th>-1</th>\n",
       "      <td>0.87</td>\n",
       "      <td>0.73</td>\n",
       "      <td>0.79</td>\n",
       "      <td>6305</td>\n",
       "    </tr>\n",
       "    <tr>\n",
       "      <th>1</th>\n",
       "      <td>0.43</td>\n",
       "      <td>0.66</td>\n",
       "      <td>0.52</td>\n",
       "      <td>1980</td>\n",
       "    </tr>\n",
       "    <tr>\n",
       "      <th>avg/total</th>\n",
       "      <td>0.77</td>\n",
       "      <td>0.71</td>\n",
       "      <td>0.73</td>\n",
       "      <td>8285</td>\n",
       "    </tr>\n",
       "  </tbody>\n",
       "</table>\n",
       "</div>"
      ],
      "text/plain": [
       "           precision  recall  f1-score  support\n",
       "Classes                                        \n",
       "-1              0.87    0.73      0.79     6305\n",
       "1               0.43    0.66      0.52     1980\n",
       "avg/total       0.77    0.71      0.73     8285"
      ]
     },
     "execution_count": 236,
     "metadata": {},
     "output_type": "execute_result"
    }
   ],
   "source": [
    "train_evaluate(SVC(kernel = 'rbf', C=1000, class_weight = 'balanced'), to_latex=True)"
   ]
  },
  {
   "cell_type": "code",
   "execution_count": null,
   "metadata": {},
   "outputs": [],
   "source": []
  },
  {
   "cell_type": "markdown",
   "metadata": {},
   "source": [
    "# Explore diversity between classifiers"
   ]
  },
  {
   "cell_type": "code",
   "execution_count": 116,
   "metadata": {},
   "outputs": [],
   "source": [
    "results_a = SVC(kernel = 'rbf', C=1000).fit(X_train_dev,y_train_dev).predict(X_test)\n",
    "results_b = SVC(kernel = 'linear').fit(X_train_dev,y_train_dev).predict(X_test)\n"
   ]
  },
  {
   "cell_type": "code",
   "execution_count": 117,
   "metadata": {},
   "outputs": [],
   "source": []
  },
  {
   "cell_type": "code",
   "execution_count": 118,
   "metadata": {},
   "outputs": [
    {
     "data": {
      "text/plain": [
       "0.7092279180754234"
      ]
     },
     "execution_count": 118,
     "metadata": {},
     "output_type": "execute_result"
    }
   ],
   "source": [
    "cohen_kappa_score(results_a, results_b)"
   ]
  },
  {
   "cell_type": "code",
   "execution_count": 237,
   "metadata": {},
   "outputs": [],
   "source": [
    "from sklearn.metrics import cohen_kappa_score\n",
    "\n",
    "def cohens_kappa(model1,model2):\n",
    "    \"\"\"\n",
    "    Returns Cohens kappa interannotator agreement between on two models\n",
    "    (after training on dev+train and predicting in X_test)\n",
    "    \"\"\"\n",
    "    results_a = model1.fit(X_train_dev,y_train_dev).predict(X_test)\n",
    "    results_b = model2.fit(X_train_dev,y_train_dev).predict(X_test)\n",
    "    return cohen_kappa_score(results_a, results_b)"
   ]
  },
  {
   "cell_type": "code",
   "execution_count": 238,
   "metadata": {},
   "outputs": [
    {
     "data": {
      "text/plain": [
       "0.7092279180754234"
      ]
     },
     "execution_count": 238,
     "metadata": {},
     "output_type": "execute_result"
    }
   ],
   "source": [
    "cohens_kappa(SVC(kernel = 'rbf', C=1000),\n",
    "             SVC(kernel = 'linear')\n",
    "            )"
   ]
  },
  {
   "cell_type": "code",
   "execution_count": 239,
   "metadata": {},
   "outputs": [
    {
     "data": {
      "text/plain": [
       "0.8443934207622563"
      ]
     },
     "execution_count": 239,
     "metadata": {},
     "output_type": "execute_result"
    }
   ],
   "source": [
    "cohens_kappa(SVC(kernel = 'rbf', C=1000),\n",
    "             SVC(kernel = 'rbf', C=500),\n",
    "            )"
   ]
  },
  {
   "cell_type": "code",
   "execution_count": null,
   "metadata": {},
   "outputs": [],
   "source": []
  }
 ],
 "metadata": {
  "kernelspec": {
   "display_name": "Python [conda env:python27]",
   "language": "python",
   "name": "conda-env-python27-py"
  },
  "language_info": {
   "codemirror_mode": {
    "name": "ipython",
    "version": 2
   },
   "file_extension": ".py",
   "mimetype": "text/x-python",
   "name": "python",
   "nbconvert_exporter": "python",
   "pygments_lexer": "ipython2",
   "version": "2.7.14"
  }
 },
 "nbformat": 4,
 "nbformat_minor": 2
}
