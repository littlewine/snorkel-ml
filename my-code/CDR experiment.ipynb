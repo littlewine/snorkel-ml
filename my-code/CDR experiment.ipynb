{
 "cells": [
  {
   "cell_type": "markdown",
   "metadata": {},
   "source": [
    "# Part 0: DB connections, filepaths etc."
   ]
  },
  {
   "cell_type": "code",
   "execution_count": 1,
   "metadata": {},
   "outputs": [],
   "source": [
    "experiment_name = 'CDR'\n",
    "%load_ext autoreload\n",
    "%autoreload 2\n",
    "%matplotlib inline"
   ]
  },
  {
   "cell_type": "code",
   "execution_count": 2,
   "metadata": {},
   "outputs": [
    {
     "name": "stdout",
     "output_type": "stream",
     "text": [
      "Setting up variables & DB connection for experiment:\n",
      "\n",
      "*******************\n",
      "CDR\n",
      "*******************\n"
     ]
    },
    {
     "name": "stderr",
     "output_type": "stream",
     "text": [
      "/home/antonis/anaconda2/envs/snorkel27clone/lib/python2.7/site-packages/psycopg2/__init__.py:144: UserWarning: The psycopg2 wheel package will be renamed from release 2.8; in order to keep installing from binary please use \"pip install psycopg2-binary\" instead. For details see: <http://initd.org/psycopg/docs/install.html#binary-install-from-pypi>.\n",
      "  \"\"\")\n"
     ]
    },
    {
     "name": "stdout",
     "output_type": "stream",
     "text": [
      "\n",
      "Snorkel session connected to:  postgres:///snorkelCDR\n"
     ]
    }
   ],
   "source": [
    "# %run init.py\n",
    "\n",
    "print \"Setting up variables & DB connection for experiment:\\n\"\n",
    "print \"*******************\\n%s\\n*******************\"%experiment_name\n",
    "\n",
    "# point to appropriate DBs, pickle files etc.\n",
    "pkl_paths = 'pickles/%s/'%experiment_name\n",
    "path_candidate_dict_pkl = pkl_paths+ 'candidate_dict.pickle' # TODO rename that\n",
    "path_pubmed_ids_pkl = pkl_paths + 'pubmed_ids.pickle'\n",
    "path_base_learners = pkl_paths + 'base_learner_predictions' # TODO create dirs\n",
    "\n",
    "\n",
    "# Shortcuts to connect to database, initialize candidate subclass and return snorkel session\n",
    "import os\n",
    "#TODO: set experiment_name and restructure dir\n",
    "os.environ['SNORKELDB'] = 'postgres:///snorkel'+experiment_name\n",
    "\n",
    "from snorkel import SnorkelSession\n",
    "session = SnorkelSession()\n",
    "from snorkel.models import  Document, Sentence\n",
    "import matplotlib.pyplot as plt\n",
    "from snorkel.annotations import save_marginals\n",
    "from snorkel.models import Candidate, candidate_subclass\n",
    "ChemicalDisease = candidate_subclass('ChemicalDisease', ['chemical', 'disease'])\n",
    "\n",
    "print \"\\nSnorkel session connected to: \",os.environ['SNORKELDB']"
   ]
  },
  {
   "cell_type": "markdown",
   "metadata": {},
   "source": [
    "# Part I: Corpus Preprocessing\n"
   ]
  },
  {
   "cell_type": "code",
   "execution_count": 3,
   "metadata": {},
   "outputs": [],
   "source": [
    "import os\n",
    "from snorkel.parser import XMLMultiDocPreprocessor\n",
    "\n",
    "# The following line is for testing only. Feel free to ignore it.\n",
    "file_path = 'data/CDR.BioC.small.xml' if 'CI' in os.environ else 'data/CDR.BioC.xml'\n",
    "\n",
    "doc_preprocessor = XMLMultiDocPreprocessor(\n",
    "    path=file_path,\n",
    "    doc='.//document',\n",
    "    text='.//passage/text/text()',\n",
    "    id='.//id/text()'\n",
    ")"
   ]
  },
  {
   "cell_type": "code",
   "execution_count": 4,
   "metadata": {},
   "outputs": [
    {
     "name": "stdout",
     "output_type": "stream",
     "text": [
      "Clearing existing...\n",
      "Running UDF...\n",
      "[========================================] 100%\n",
      "\n"
     ]
    }
   ],
   "source": [
    "from snorkel.parser import CorpusParser\n",
    "# from utils import TaggerOneTagger\n",
    "from snorkel.utils_cdr import TaggerOneTagger, CDRTagger\n",
    "from snorkel.parser.spacy_parser import Spacy\n",
    "\n",
    "\n",
    "tagger_one = TaggerOneTagger()\n",
    "corpus_parser = CorpusParser(fn=tagger_one.tag, parser=Spacy())\n",
    "corpus_parser.apply(list(doc_preprocessor))"
   ]
  },
  {
   "cell_type": "code",
   "execution_count": 5,
   "metadata": {},
   "outputs": [
    {
     "name": "stdout",
     "output_type": "stream",
     "text": [
      "('Documents:', 1500L)\n",
      "('Sentences:', 14593L)\n"
     ]
    }
   ],
   "source": [
    "from snorkel.models import Document, Sentence\n",
    "\n",
    "print(\"Documents:\", session.query(Document).count())\n",
    "print(\"Sentences:\", session.query(Sentence).count())"
   ]
  },
  {
   "cell_type": "markdown",
   "metadata": {},
   "source": [
    "# Part II: Candidate Extraction"
   ]
  },
  {
   "cell_type": "code",
   "execution_count": 6,
   "metadata": {},
   "outputs": [
    {
     "name": "stdout",
     "output_type": "stream",
     "text": [
      "(300, 100, 500, 600)\n",
      "(2940, 920, 5056, 5677)\n"
     ]
    }
   ],
   "source": [
    "# modified to implement random splitting of (official training set) to D_B & D_U\n",
    "from six.moves.cPickle import load\n",
    "import random\n",
    "seed = 448\n",
    "random.seed(seed)\n",
    "\n",
    "\n",
    "with open('data/doc_ids.pkl', 'rb') as f:\n",
    "    train_off_ids, dev_ids, test_ids = load(f)\n",
    "dev_ids, test_ids = set(dev_ids), set(test_ids)\n",
    "\n",
    "#split train_ids into D_B & D_U \n",
    "random.shuffle(train_off_ids)\n",
    "train_ids = set(train_off_ids[:300]) # This will be D_B\n",
    "unlab_ids = set(train_off_ids[300:]) # This will be D_U\n",
    "print( len(train_ids), len(dev_ids), len(test_ids), len(unlab_ids))\n",
    "\n",
    "train_sents, dev_sents, test_sents, unlab_sents = set(), set(), set(), set()\n",
    "docs = session.query(Document).order_by(Document.name).all()\n",
    "for i, doc in enumerate(docs):\n",
    "    for s in doc.sentences:\n",
    "        if doc.name in train_ids:\n",
    "            train_sents.add(s)\n",
    "        elif doc.name in dev_ids:\n",
    "            dev_sents.add(s)\n",
    "        elif doc.name in test_ids:\n",
    "            test_sents.add(s)\n",
    "        elif doc.name in unlab_ids:\n",
    "            unlab_sents.add(s)\n",
    "        else:\n",
    "            raise Exception('ID <{0}> not found in any id set'.format(doc.name))\n",
    "\n",
    "print(len(train_sents), len(dev_sents), len(test_sents),len(unlab_sents))"
   ]
  },
  {
   "cell_type": "markdown",
   "metadata": {},
   "source": [
    "# Candidate extraction"
   ]
  },
  {
   "cell_type": "code",
   "execution_count": 7,
   "metadata": {},
   "outputs": [],
   "source": [
    "from snorkel.candidates import PretaggedCandidateExtractor\n",
    "\n",
    "candidate_extractor = PretaggedCandidateExtractor(ChemicalDisease, ['Chemical', 'Disease'])"
   ]
  },
  {
   "cell_type": "code",
   "execution_count": 8,
   "metadata": {},
   "outputs": [
    {
     "name": "stdout",
     "output_type": "stream",
     "text": [
      "Clearing existing...\n",
      "Running UDF...\n",
      "[========================================] 100%\n",
      "\n",
      "('Number of candidates:', 2860L)\n",
      "Clearing existing...\n",
      "Running UDF...\n",
      "[========================================] 100%\n",
      "\n",
      "('Number of candidates:', 920L)\n",
      "Clearing existing...\n",
      "Running UDF...\n",
      "[========================================] 100%\n",
      "\n",
      "('Number of candidates:', 4680L)\n",
      "Clearing existing...\n",
      "Running UDF...\n",
      "[========================================] 100%\n",
      "\n",
      "('Number of candidates:', 5576L)\n"
     ]
    }
   ],
   "source": [
    "for k, sents in enumerate([train_sents, dev_sents, test_sents, unlab_sents]):\n",
    "    candidate_extractor.apply(sents, split=k)\n",
    "    print(\"Number of candidates:\", session.query(ChemicalDisease).filter(ChemicalDisease.split == k).count())"
   ]
  },
  {
   "cell_type": "markdown",
   "metadata": {},
   "source": [
    "# Load gold labels"
   ]
  },
  {
   "cell_type": "code",
   "execution_count": 20,
   "metadata": {},
   "outputs": [
    {
     "name": "stdout",
     "output_type": "stream",
     "text": [
      "AnnotatorLabels created: 2860\n",
      "AnnotatorLabels created: 920\n",
      "AnnotatorLabels created: 0\n",
      "AnnotatorLabels created: 5576\n"
     ]
    }
   ],
   "source": [
    "from load_external_annotations import load_external_labels\n",
    "from snorkel.annotations import load_gold_labels\n",
    "\n",
    "for splt in range(4):\n",
    "    load_external_labels(session, ChemicalDisease, split=splt, annotator='gold')"
   ]
  },
  {
   "cell_type": "code",
   "execution_count": 19,
   "metadata": {},
   "outputs": [
    {
     "data": {
      "text/plain": [
       "<4680x1 sparse matrix of type '<type 'numpy.int64'>'\n",
       "\twith 4680 stored elements in Compressed Sparse Row format>"
      ]
     },
     "execution_count": 19,
     "metadata": {},
     "output_type": "execute_result"
    }
   ],
   "source": [
    "L_gold_test = load_gold_labels(session, annotator_name='gold', split=2)\n",
    "L_gold_test"
   ]
  },
  {
   "cell_type": "code",
   "execution_count": 21,
   "metadata": {},
   "outputs": [
    {
     "data": {
      "text/plain": [
       "4680"
      ]
     },
     "execution_count": 21,
     "metadata": {},
     "output_type": "execute_result"
    }
   ],
   "source": [
    "L_gold_test.nnz"
   ]
  },
  {
   "cell_type": "code",
   "execution_count": 77,
   "metadata": {},
   "outputs": [],
   "source": [
    "from utils import check_class_imbalance"
   ]
  },
  {
   "cell_type": "code",
   "execution_count": 87,
   "metadata": {},
   "outputs": [
    {
     "data": {
      "text/plain": [
       "-1    0.676282\n",
       " 1    0.323718\n",
       "dtype: float64"
      ]
     },
     "execution_count": 87,
     "metadata": {},
     "output_type": "execute_result"
    }
   ],
   "source": [
    "check_class_imbalance(L_gold_test.data)"
   ]
  },
  {
   "cell_type": "code",
   "execution_count": null,
   "metadata": {},
   "outputs": [],
   "source": []
  },
  {
   "cell_type": "code",
   "execution_count": 22,
   "metadata": {},
   "outputs": [],
   "source": [
    "from snorkel.models import StableLabel\n",
    "from sqlalchemy import and_"
   ]
  },
  {
   "cell_type": "code",
   "execution_count": 24,
   "metadata": {},
   "outputs": [
    {
     "name": "stdout",
     "output_type": "stream",
     "text": [
      " split =  0\n",
      "Total cands: 2860\n",
      "Mapped cands: 2860\n",
      "Un-mapped cands: 0\n",
      "True\n",
      "\n",
      "split =  1\n",
      "Total cands: 920\n",
      "Mapped cands: 920\n",
      "Un-mapped cands: 0\n",
      "True\n",
      "\n",
      "split =  2\n",
      "Total cands: 4680\n",
      "Mapped cands: 4680\n",
      "Un-mapped cands: 0\n",
      "True\n",
      "\n",
      "split =  3\n",
      "Total cands: 5576\n",
      "Mapped cands: 5576\n",
      "Un-mapped cands: 0\n",
      "True\n",
      "\n"
     ]
    }
   ],
   "source": [
    "for k in range(4):\n",
    "    print 'split = ',k\n",
    "    print 'Total cands:', session.query(ChemicalDisease).filter(ChemicalDisease.split == k).count()\n",
    "    print 'Mapped cands:', session.query(ChemicalDisease).filter(ChemicalDisease.split == k).filter(ChemicalDisease.gold_labels).count()\n",
    "    print 'Un-mapped cands:', session.query(ChemicalDisease).filter(ChemicalDisease.split == k).filter(~ChemicalDisease.gold_labels.any()).count()\n",
    "    print session.query(ChemicalDisease).filter(ChemicalDisease.split == k).count() == (session.query(ChemicalDisease).filter(ChemicalDisease.split == k).filter(ChemicalDisease.gold_labels).count() +\n",
    "                                                                           session.query(ChemicalDisease).filter(ChemicalDisease.split == k).filter(~ChemicalDisease.gold_labels.any()).count())\n",
    "    print ''\n"
   ]
  },
  {
   "cell_type": "markdown",
   "metadata": {},
   "source": [
    "#### Exporting candidates from snorkel to sklearn for ML model training"
   ]
  },
  {
   "cell_type": "code",
   "execution_count": 62,
   "metadata": {},
   "outputs": [],
   "source": [
    "from sklearn_bridge import export_snorkel_candidates"
   ]
  },
  {
   "cell_type": "code",
   "execution_count": 63,
   "metadata": {},
   "outputs": [
    {
     "name": "stdout",
     "output_type": "stream",
     "text": [
      "Extracted 2860 candidates from split = 0 \n",
      "Extracted 920 candidates from split = 1 \n",
      "Extracted 4680 candidates from split = 2 \n",
      "Extracted 5576 candidates from split = 3 \n",
      "Extracted 14036 candidates in total\n"
     ]
    }
   ],
   "source": [
    "# export candidates for train, dev, test dataset\n",
    "candidates = dict()\n",
    "nr_cands_extracted=0\n",
    "for i in range(4): #for train,dev,test export only labelled candidates \n",
    "    candidates[i] = export_snorkel_candidates(session,ChemicalDisease, i, True)\n",
    "    print 'Extracted %i candidates from split = %i '%(len(candidates[i].keys()), i)\n",
    "    nr_cands_extracted += len(candidates[i].keys())\n",
    "\n",
    "print 'Extracted %i candidates in total'%nr_cands_extracted"
   ]
  },
  {
   "cell_type": "code",
   "execution_count": 64,
   "metadata": {},
   "outputs": [
    {
     "name": "stdout",
     "output_type": "stream",
     "text": [
      "Saving to: pickles/CDR/candidate_dict.pickle\n"
     ]
    }
   ],
   "source": [
    "print \"Saving to: %s\"%path_candidate_dict_pkl"
   ]
  },
  {
   "cell_type": "code",
   "execution_count": 65,
   "metadata": {},
   "outputs": [],
   "source": [
    "with open(path_candidate_dict_pkl, 'wb') as f:\n",
    "    pickle.dump(dict(candidates),f)"
   ]
  },
  {
   "cell_type": "markdown",
   "metadata": {},
   "source": [
    "# #########################################\n",
    "# Once this is done, results are persisted into snorkel.db and this step is no longer required, unless more documents are added.\n",
    "# #########################################"
   ]
  },
  {
   "cell_type": "markdown",
   "metadata": {},
   "source": [
    "# -------------------------------\n",
    "# Part 1A (training the Base Learners)\n",
    "# -------------------------------"
   ]
  },
  {
   "cell_type": "code",
   "execution_count": 31,
   "metadata": {},
   "outputs": [],
   "source": [
    "from sklearn.ensemble import RandomForestClassifier\n",
    "from sklearn.neighbors import KNeighborsClassifier\n",
    "from sklearn.svm import SVC\n",
    "from sklearn.linear_model import LogisticRegression\n",
    "from sklearn.metrics import classification_report, confusion_matrix\n",
    "from sklearn.feature_extraction.text import CountVectorizer, TfidfVectorizer\n",
    "from sklearn.decomposition import TruncatedSVD\n",
    "from sklearn.neural_network import MLPClassifier\n",
    "from sklearn.naive_bayes import GaussianNB, MultinomialNB, BernoulliNB"
   ]
  },
  {
   "cell_type": "code",
   "execution_count": 32,
   "metadata": {},
   "outputs": [],
   "source": [
    "# Rebuild text representation\n",
    "from sklearn_bridge import recreate_text_representation, candidate_dict_to_df"
   ]
  },
  {
   "cell_type": "code",
   "execution_count": 33,
   "metadata": {},
   "outputs": [],
   "source": [
    "from MLutils import report_to_df, train_evaluate, diversity_heatmap"
   ]
  },
  {
   "cell_type": "code",
   "execution_count": 34,
   "metadata": {},
   "outputs": [],
   "source": [
    "import sklearn, pickle, time, seaborn\n",
    "import pandas as pd\n",
    "from itertools import product"
   ]
  },
  {
   "cell_type": "code",
   "execution_count": 66,
   "metadata": {},
   "outputs": [
    {
     "name": "stdout",
     "output_type": "stream",
     "text": [
      "Split = 0 : imported 2860 candidates\n",
      "Split = 1 : imported 920 candidates\n",
      "Split = 2 : imported 4680 candidates\n",
      "Split = 3 : imported 5576 candidates\n"
     ]
    }
   ],
   "source": [
    "with open(path_candidate_dict_pkl, 'rb') as f:\n",
    "    candidate_dict = pickle.load(f)\n",
    "\n",
    "for splt in candidate_dict.keys():\n",
    "    print \"Split = %i : imported %i candidates\" %(splt, len(candidate_dict[splt].keys()))"
   ]
  },
  {
   "cell_type": "code",
   "execution_count": null,
   "metadata": {},
   "outputs": [],
   "source": []
  },
  {
   "cell_type": "code",
   "execution_count": null,
   "metadata": {},
   "outputs": [],
   "source": []
  },
  {
   "cell_type": "code",
   "execution_count": 67,
   "metadata": {},
   "outputs": [],
   "source": [
    "# Set pipeline options\n",
    "shortest_dep_paths = [True, False] #  TODO also add shortest_dep_path\n",
    "trimmings = [(False,0),\n",
    "             (True,0), \n",
    "             (True, 5)\n",
    "            ]\n",
    "use_lemmas_ = [True, \n",
    "               #False\n",
    "              ]\n",
    "random_undersample_ = [True]\n",
    "text_vectorizer_ = [CountVectorizer(binary=True, min_df=5, stop_words='english'),\n",
    "                    #CountVectorizer(binary=True, min_df=1 , stop_words=None),\n",
    "                    CountVectorizer(binary=True, min_df=5 , ngram_range=(0,3)),\n",
    "                    \n",
    "# #                    CountVectorizer(binary=True, min_df=5 , stop_words='english'),\n",
    "                    TfidfVectorizer(binary=False, min_df=5 , stop_words='english'),\n",
    "                    #TfidfVectorizer(binary=False, min_df=1 , stop_words=None ),\n",
    "                    TfidfVectorizer(binary=False, min_df=5, ngram_range=(0,3) ),\n",
    "# #                     TfidfVectorizer(binary=True, min_df=5 , stop_words='english'),\n",
    "                   ]\n",
    "\n",
    "lsa_dims = [200, None]"
   ]
  },
  {
   "cell_type": "code",
   "execution_count": 69,
   "metadata": {},
   "outputs": [],
   "source": [
    "# select models to train\n",
    "models = {\n",
    "    'LogisticRegression': LogisticRegression(),\n",
    "    'SVC_linear': SVC(kernel = 'linear'),\n",
    "# # # #     'SVC_rbf': SVC(kernel = 'rbf'),\n",
    "    'SVC_rbf_C=75': SVC(kernel = 'rbf', C=75),\n",
    "    'SVC_rbf_C=150': SVC(kernel = 'rbf', C=150),\n",
    "    'SVC_rbf_C=250': SVC(kernel = 'rbf', C=250),\n",
    "# #     'kNN_5': KNeighborsClassifier(),\n",
    "# #     'kNN_25': KNeighborsClassifier(n_neighbors=25),\n",
    "# #     'kNN_2': KNeighborsClassifier(n_neighbors=2),\n",
    "    'RandomForestClassifier': RandomForestClassifier(n_estimators=100, max_depth=5),\n",
    "# #     'NeuralNet(10,10)' : MLPClassifier(hidden_layer_sizes=(10,10)),\n",
    "# #     'BernoulliNB': BernoulliNB(),\n",
    "}\n"
   ]
  },
  {
   "cell_type": "code",
   "execution_count": 70,
   "metadata": {},
   "outputs": [
    {
     "name": "stdout",
     "output_type": "stream",
     "text": [
      "288\n"
     ]
    }
   ],
   "source": [
    "combs = product(trimmings,use_lemmas_, random_undersample_, text_vectorizer_, lsa_dims, shortest_dep_paths )\n",
    "combs = list(combs)\n",
    "print len(combs)*len(models)\n"
   ]
  },
  {
   "cell_type": "markdown",
   "metadata": {},
   "source": [
    "#### Deep Neural Nets as base learners\n",
    "Additionally, we need to train the LSTM and the CNN.\n",
    "\n",
    "\n",
    "For this, we need to run the following files:\n",
    "\n",
    "* CNN-text-classification-keras.ipynb \n",
    "* baseline/snorkel baseline LSTM pred.ipynb"
   ]
  },
  {
   "cell_type": "markdown",
   "metadata": {},
   "source": [
    "# Perform training "
   ]
  },
  {
   "cell_type": "code",
   "execution_count": 71,
   "metadata": {},
   "outputs": [],
   "source": [
    "import imblearn\n",
    "from collections import Counter\n",
    "from imblearn.under_sampling import RandomUnderSampler\n",
    "# import numpy as np\n",
    "from scipy.sparse import hstack\n",
    "from MLutils import get_positive_logit, logits_to_bin_labels, logits_to_neg_labels, classif_report_from_dicts"
   ]
  },
  {
   "cell_type": "code",
   "execution_count": null,
   "metadata": {},
   "outputs": [],
   "source": []
  },
  {
   "cell_type": "code",
   "execution_count": 88,
   "metadata": {},
   "outputs": [
    {
     "name": "stdout",
     "output_type": "stream",
     "text": [
      "Saving as: \n",
      "results_dict,ShortDepPath,lemmas,RuS,CV_,bin_,minFreq=5,_stopw=english,_ngrams=(1, 1),LSA200.pkl\n",
      "0.00162291526794\n",
      "\n",
      "Training LogisticRegression\n",
      "           precision  recall  f1-score  support\n",
      "Classes                                        \n",
      "-1              0.75    0.66      0.70      614\n",
      "1               0.45    0.55      0.49      306\n",
      "avg/total       0.65    0.62      0.63      920\n",
      "Training SVC_rbf_C=250\n",
      "           precision  recall  f1-score  support\n",
      "Classes                                        \n",
      "-1              0.75    0.67      0.71      614\n",
      "1               0.45    0.56      0.50      306\n",
      "avg/total       0.65    0.63      0.64      920\n",
      "Training RandomForestClassifier\n",
      "           precision  recall  f1-score  support\n",
      "Classes                                        \n",
      "-1              0.72    0.79      0.75      614\n",
      "1               0.47    0.37      0.41      306\n",
      "avg/total       0.63    0.65      0.64      920\n",
      "Training SVC_linear\n",
      "           precision  recall  f1-score  support\n",
      "Classes                                        \n",
      "-1              0.75    0.67      0.71      614\n",
      "1               0.45    0.55      0.50      306\n",
      "avg/total       0.65    0.63      0.64      920\n",
      "Training SVC_rbf_C=75\n",
      "           precision  recall  f1-score  support\n",
      "Classes                                        \n",
      "-1              0.75    0.68      0.71      614\n",
      "1               0.46    0.54      0.50      306\n",
      "avg/total       0.65    0.63      0.64      920\n",
      "Training SVC_rbf_C=150\n",
      "           precision  recall  f1-score  support\n",
      "Classes                                        \n",
      "-1              0.75    0.67      0.71      614\n",
      "1               0.45    0.55      0.49      306\n",
      "avg/total       0.65    0.63      0.64      920\n",
      "Saving as: \n",
      "results_dict,lemmas,RuS,CV_,bin_,minFreq=5,_stopw=english,_ngrams=(1, 1),LSA200.pkl\n",
      "92.8827748299\n",
      "\n",
      "Training LogisticRegression\n",
      "           precision  recall  f1-score  support\n",
      "Classes                                        \n",
      "-1              0.73    0.52      0.60      614\n",
      "1               0.39    0.61      0.47      306\n",
      "avg/total       0.61    0.55      0.56      920\n",
      "Training SVC_rbf_C=250\n",
      "           precision  recall  f1-score  support\n",
      "Classes                                        \n",
      "-1              0.73    0.52      0.61      614\n",
      "1               0.39    0.61      0.47      306\n",
      "avg/total       0.61    0.55      0.56      920\n",
      "Training RandomForestClassifier\n",
      "           precision  recall  f1-score  support\n",
      "Classes                                        \n",
      "-1              0.76    0.37       0.5      614\n",
      "1               0.38    0.76       0.5      306\n",
      "avg/total       0.63    0.50       0.5      920\n",
      "Training SVC_linear\n",
      "           precision  recall  f1-score  support\n",
      "Classes                                        \n",
      "-1              0.72    0.53      0.61      614\n",
      "1               0.39    0.59      0.47      306\n",
      "avg/total       0.61    0.55      0.57      920\n",
      "Training SVC_rbf_C=75\n",
      "           precision  recall  f1-score  support\n",
      "Classes                                        \n",
      "-1              0.70    0.48      0.57      614\n",
      "1               0.36    0.59      0.45      306\n",
      "avg/total       0.59    0.51      0.53      920\n",
      "Training SVC_rbf_C=150\n",
      "           precision  recall  f1-score  support\n",
      "Classes                                        \n",
      "-1              0.70    0.51      0.59      614\n",
      "1               0.36    0.56      0.44      306\n",
      "avg/total       0.59    0.53      0.54      920\n",
      "Saving as: \n",
      "results_dict,ShortDepPath,lemmas,RuS,CV_,bin_,minFreq=5,_stopw=english,_ngrams=(1, 1).pkl\n",
      "126.229282856\n",
      "\n",
      "Training LogisticRegression\n",
      "           precision  recall  f1-score  support\n",
      "Classes                                        \n",
      "-1              0.75    0.67      0.71      614\n",
      "1               0.45    0.55      0.50      306\n",
      "avg/total       0.65    0.63      0.64      920\n",
      "Training SVC_rbf_C=250\n",
      "           precision  recall  f1-score  support\n",
      "Classes                                        \n",
      "-1              0.75    0.67      0.71      614\n",
      "1               0.46    0.56      0.50      306\n",
      "avg/total       0.66    0.63      0.64      920\n",
      "Training RandomForestClassifier\n",
      "           precision  recall  f1-score  support\n",
      "Classes                                        \n",
      "-1              0.75    0.49      0.59      614\n",
      "1               0.40    0.67      0.50      306\n",
      "avg/total       0.63    0.55      0.56      920\n",
      "Training SVC_linear\n",
      "           precision  recall  f1-score  support\n",
      "Classes                                        \n",
      "-1              0.75    0.68      0.72      614\n",
      "1               0.46    0.54      0.50      306\n",
      "avg/total       0.65    0.64      0.64      920\n",
      "Training SVC_rbf_C=75\n",
      "           precision  recall  f1-score  support\n",
      "Classes                                        \n",
      "-1              0.75    0.68      0.71      614\n",
      "1               0.46    0.55      0.50      306\n",
      "avg/total       0.66    0.64      0.64      920\n",
      "Training SVC_rbf_C=150\n",
      "           precision  recall  f1-score  support\n",
      "Classes                                        \n",
      "-1              0.75    0.68      0.71      614\n",
      "1               0.46    0.56      0.50      306\n",
      "avg/total       0.66    0.64      0.64      920\n",
      "Saving as: \n",
      "results_dict,lemmas,RuS,CV_,bin_,minFreq=5,_stopw=english,_ngrams=(1, 1).pkl\n",
      "135.518296003\n",
      "\n",
      "Training LogisticRegression\n",
      "           precision  recall  f1-score  support\n",
      "Classes                                        \n",
      "-1              0.73    0.51      0.60      614\n",
      "1               0.39    0.61      0.47      306\n",
      "avg/total       0.61    0.55      0.56      920\n",
      "Training SVC_rbf_C=250\n",
      "           precision  recall  f1-score  support\n",
      "Classes                                        \n",
      "-1              0.71    0.51      0.60      614\n",
      "1               0.38    0.59      0.46      306\n",
      "avg/total       0.60    0.54      0.55      920\n",
      "Training RandomForestClassifier\n",
      "           precision  recall  f1-score  support\n",
      "Classes                                        \n",
      "-1              0.73    0.37      0.49      614\n",
      "1               0.36    0.73      0.48      306\n",
      "avg/total       0.61    0.49      0.49      920\n",
      "Training SVC_linear\n",
      "           precision  recall  f1-score  support\n",
      "Classes                                        \n",
      "-1              0.72    0.52      0.60      614\n",
      "1               0.38    0.59      0.47      306\n",
      "avg/total       0.61    0.55      0.56      920\n",
      "Training SVC_rbf_C=75\n",
      "           precision  recall  f1-score  support\n",
      "Classes                                        \n",
      "-1              0.69    0.52      0.59      614\n",
      "1               0.35    0.53      0.43      306\n",
      "avg/total       0.58    0.52      0.54      920\n",
      "Training SVC_rbf_C=150\n",
      "           precision  recall  f1-score  support\n",
      "Classes                                        \n",
      "-1              0.70    0.52      0.60      614\n",
      "1               0.37    0.56      0.44      306\n",
      "avg/total       0.59    0.53      0.55      920\n",
      "Saving as: \n",
      "results_dict,ShortDepPath,lemmas,RuS,CV_,bin_,minFreq=5,_ngrams=(0, 3),LSA200.pkl\n",
      "148.301595926\n",
      "\n",
      "Training LogisticRegression\n",
      "           precision  recall  f1-score  support\n",
      "Classes                                        \n",
      "-1              0.80    0.64      0.71      614\n",
      "1               0.48    0.67      0.56      306\n",
      "avg/total       0.69    0.65      0.66      920\n",
      "Training SVC_rbf_C=250\n",
      "           precision  recall  f1-score  support\n",
      "Classes                                        \n",
      "-1              0.79    0.64      0.71      614\n",
      "1               0.48    0.66      0.55      306\n",
      "avg/total       0.69    0.64      0.65      920\n",
      "Training RandomForestClassifier\n",
      "           precision  recall  f1-score  support\n",
      "Classes                                        \n",
      "-1              0.76    0.74      0.75      614\n",
      "1               0.50    0.52      0.51      306\n",
      "avg/total       0.67    0.67      0.67      920\n",
      "Training SVC_linear\n",
      "           precision  recall  f1-score  support\n",
      "Classes                                        \n",
      "-1              0.81    0.63      0.70      614\n",
      "1               0.48    0.70      0.57      306\n",
      "avg/total       0.70    0.65      0.66      920\n",
      "Training SVC_rbf_C=75\n",
      "           precision  recall  f1-score  support\n",
      "Classes                                        \n",
      "-1              0.79    0.65      0.71      614\n",
      "1               0.48    0.64      0.55      306\n",
      "avg/total       0.68    0.65      0.66      920\n"
     ]
    },
    {
     "name": "stdout",
     "output_type": "stream",
     "text": [
      "Training SVC_rbf_C=150\n",
      "           precision  recall  f1-score  support\n",
      "Classes                                        \n",
      "-1              0.78    0.64      0.70      614\n",
      "1               0.47    0.65      0.55      306\n",
      "avg/total       0.68    0.64      0.65      920\n",
      "Saving as: \n",
      "results_dict,lemmas,RuS,CV_,bin_,minFreq=5,_ngrams=(0, 3),LSA200.pkl\n",
      "195.900989771\n",
      "\n",
      "Training LogisticRegression\n",
      "           precision  recall  f1-score  support\n",
      "Classes                                        \n",
      "-1              0.74    0.64      0.69      614\n",
      "1               0.43    0.55      0.48      306\n",
      "avg/total       0.64    0.61      0.62      920\n",
      "Training SVC_rbf_C=250\n",
      "           precision  recall  f1-score  support\n",
      "Classes                                        \n",
      "-1              0.74    0.65      0.69      614\n",
      "1               0.44    0.55      0.49      306\n",
      "avg/total       0.64    0.62      0.63      920\n",
      "Training RandomForestClassifier\n",
      "           precision  recall  f1-score  support\n",
      "Classes                                        \n",
      "-1              0.76    0.58      0.66      614\n",
      "1               0.43    0.63      0.51      306\n",
      "avg/total       0.65    0.60      0.61      920\n",
      "Training SVC_linear\n",
      "           precision  recall  f1-score  support\n",
      "Classes                                        \n",
      "-1              0.72    0.61      0.66      614\n",
      "1               0.40    0.52      0.45      306\n",
      "avg/total       0.61    0.58      0.59      920\n",
      "Training SVC_rbf_C=75\n",
      "           precision  recall  f1-score  support\n",
      "Classes                                        \n",
      "-1              0.76    0.64      0.69      614\n",
      "1               0.45    0.60      0.51      306\n",
      "avg/total       0.66    0.62      0.63      920\n",
      "Training SVC_rbf_C=150\n",
      "           precision  recall  f1-score  support\n",
      "Classes                                        \n",
      "-1              0.75    0.64      0.69      614\n",
      "1               0.44    0.58      0.50      306\n",
      "avg/total       0.65    0.62      0.63      920\n",
      "Saving as: \n",
      "results_dict,ShortDepPath,lemmas,RuS,CV_,bin_,minFreq=5,_ngrams=(0, 3).pkl\n",
      "260.585556984\n",
      "\n",
      "Training LogisticRegression\n",
      "           precision  recall  f1-score  support\n",
      "Classes                                        \n",
      "-1              0.80    0.65      0.71      614\n",
      "1               0.48    0.67      0.56      306\n",
      "avg/total       0.69    0.65      0.66      920\n",
      "Training SVC_rbf_C=250\n",
      "           precision  recall  f1-score  support\n",
      "Classes                                        \n",
      "-1              0.78    0.65      0.71      614\n",
      "1               0.48    0.64      0.55      306\n",
      "avg/total       0.68    0.65      0.66      920\n",
      "Training RandomForestClassifier\n",
      "           precision  recall  f1-score  support\n",
      "Classes                                        \n",
      "-1              0.74    0.78      0.76      614\n",
      "1               0.50    0.44      0.47      306\n",
      "avg/total       0.66    0.67      0.66      920\n",
      "Training SVC_linear\n",
      "           precision  recall  f1-score  support\n",
      "Classes                                        \n",
      "-1              0.81    0.62      0.70      614\n",
      "1               0.48    0.70      0.57      306\n",
      "avg/total       0.70    0.65      0.66      920\n",
      "Training SVC_rbf_C=75\n",
      "           precision  recall  f1-score  support\n",
      "Classes                                        \n",
      "-1              0.79    0.66      0.72      614\n",
      "1               0.48    0.64      0.55      306\n",
      "avg/total       0.68    0.65      0.66      920\n",
      "Training SVC_rbf_C=150\n",
      "           precision  recall  f1-score  support\n",
      "Classes                                        \n",
      "-1              0.78    0.65      0.71      614\n",
      "1               0.48    0.63      0.54      306\n",
      "avg/total       0.68    0.65      0.65      920\n",
      "Saving as: \n",
      "results_dict,lemmas,RuS,CV_,bin_,minFreq=5,_ngrams=(0, 3).pkl\n",
      "274.145362854\n",
      "\n",
      "Training LogisticRegression\n",
      "           precision  recall  f1-score  support\n",
      "Classes                                        \n",
      "-1              0.74    0.65      0.69      614\n",
      "1               0.44    0.55      0.48      306\n",
      "avg/total       0.64    0.61      0.62      920\n",
      "Training SVC_rbf_C=250\n",
      "           precision  recall  f1-score  support\n",
      "Classes                                        \n",
      "-1              0.74    0.66      0.70      614\n",
      "1               0.44    0.55      0.49      306\n",
      "avg/total       0.64    0.62      0.63      920\n",
      "Training RandomForestClassifier\n",
      "           precision  recall  f1-score  support\n",
      "Classes                                        \n",
      "-1              0.76    0.47      0.58      614\n",
      "1               0.40    0.71      0.51      306\n",
      "avg/total       0.64    0.55      0.55      920\n",
      "Training SVC_linear\n",
      "           precision  recall  f1-score  support\n",
      "Classes                                        \n",
      "-1              0.72    0.62      0.67      614\n",
      "1               0.40    0.51      0.45      306\n",
      "avg/total       0.61    0.59      0.60      920\n",
      "Training SVC_rbf_C=75\n",
      "           precision  recall  f1-score  support\n",
      "Classes                                        \n",
      "-1              0.76    0.66      0.70      614\n",
      "1               0.46    0.57      0.51      306\n",
      "avg/total       0.66    0.63      0.64      920\n",
      "Training SVC_rbf_C=150\n",
      "           precision  recall  f1-score  support\n",
      "Classes                                        \n",
      "-1              0.76    0.66      0.71      614\n",
      "1               0.46    0.58      0.51      306\n",
      "avg/total       0.66    0.63      0.64      920\n",
      "Saving as: \n",
      "results_dict,ShortDepPath,lemmas,RuS,TfIdf_,minFreq=5,_stopw=english,_ngrams=(1, 1),LSA200.pkl\n",
      "308.720351934\n",
      "\n",
      "Training LogisticRegression\n",
      "           precision  recall  f1-score  support\n",
      "Classes                                        \n",
      "-1              0.77    0.57      0.66      614\n",
      "1               0.44    0.66      0.52      306\n",
      "avg/total       0.66    0.60      0.61      920\n",
      "Training SVC_rbf_C=250\n",
      "           precision  recall  f1-score  support\n",
      "Classes                                        \n",
      "-1              0.75    0.62      0.68      614\n",
      "1               0.44    0.59      0.50      306\n",
      "avg/total       0.65    0.61      0.62      920\n",
      "Training RandomForestClassifier\n",
      "           precision  recall  f1-score  support\n",
      "Classes                                        \n",
      "-1              0.73    0.63      0.68      614\n",
      "1               0.42    0.53      0.47      306\n",
      "avg/total       0.62    0.60      0.61      920\n",
      "Training SVC_linear\n",
      "           precision  recall  f1-score  support\n",
      "Classes                                        \n",
      "-1              0.75    0.62      0.68      614\n",
      "1               0.43    0.59      0.50      306\n",
      "avg/total       0.65    0.61      0.62      920\n",
      "Training SVC_rbf_C=75\n",
      "           precision  recall  f1-score  support\n",
      "Classes                                        \n",
      "-1              0.75    0.59      0.66      614\n",
      "1               0.43    0.61      0.50      306\n",
      "avg/total       0.65    0.60      0.61      920\n",
      "Training SVC_rbf_C=150\n",
      "           precision  recall  f1-score  support\n",
      "Classes                                        \n",
      "-1              0.76    0.59      0.66      614\n",
      "1               0.43    0.62      0.51      306\n",
      "avg/total       0.65    0.60      0.61      920\n",
      "Saving as: \n",
      "results_dict,lemmas,RuS,TfIdf_,minFreq=5,_stopw=english,_ngrams=(1, 1),LSA200.pkl\n",
      "356.294406891\n",
      "\n",
      "Training LogisticRegression\n",
      "           precision  recall  f1-score  support\n",
      "Classes                                        \n",
      "-1              0.72    0.57      0.63      614\n",
      "1               0.39    0.55      0.45      306\n",
      "avg/total       0.61    0.56      0.57      920\n",
      "Training SVC_rbf_C=250\n",
      "           precision  recall  f1-score  support\n",
      "Classes                                        \n",
      "-1              0.69    0.55      0.61      614\n",
      "1               0.36    0.51      0.42      306\n",
      "avg/total       0.58    0.54      0.55      920\n",
      "Training RandomForestClassifier\n",
      "           precision  recall  f1-score  support\n",
      "Classes                                        \n",
      "-1              0.70    0.42      0.52      614\n",
      "1               0.35    0.64      0.46      306\n",
      "avg/total       0.59    0.49      0.50      920\n",
      "Training SVC_linear\n",
      "           precision  recall  f1-score  support\n",
      "Classes                                        \n",
      "-1              0.69    0.54      0.60      614\n",
      "1               0.36    0.52      0.42      306\n",
      "avg/total       0.58    0.53      0.54      920\n",
      "Training SVC_rbf_C=75\n"
     ]
    },
    {
     "name": "stdout",
     "output_type": "stream",
     "text": [
      "           precision  recall  f1-score  support\n",
      "Classes                                        \n",
      "-1              0.69    0.58      0.63      614\n",
      "1               0.37    0.49      0.42      306\n",
      "avg/total       0.58    0.55      0.56      920\n",
      "Training SVC_rbf_C=150\n",
      "           precision  recall  f1-score  support\n",
      "Classes                                        \n",
      "-1              0.69    0.54      0.60      614\n",
      "1               0.35    0.51      0.42      306\n",
      "avg/total       0.58    0.53      0.54      920\n",
      "Saving as: \n",
      "results_dict,ShortDepPath,lemmas,RuS,TfIdf_,minFreq=5,_stopw=english,_ngrams=(1, 1).pkl\n",
      "396.669467926\n",
      "\n",
      "Training LogisticRegression\n",
      "           precision  recall  f1-score  support\n",
      "Classes                                        \n",
      "-1              0.77    0.58      0.66      614\n",
      "1               0.43    0.64      0.52      306\n",
      "avg/total       0.65    0.60      0.61      920\n",
      "Training SVC_rbf_C=250\n",
      "           precision  recall  f1-score  support\n",
      "Classes                                        \n",
      "-1              0.75    0.63      0.68      614\n",
      "1               0.44    0.58      0.50      306\n",
      "avg/total       0.65    0.61      0.62      920\n",
      "Training RandomForestClassifier\n",
      "           precision  recall  f1-score  support\n",
      "Classes                                        \n",
      "-1              0.74    0.63      0.68      614\n",
      "1               0.43    0.55      0.48      306\n",
      "avg/total       0.64    0.61      0.62      920\n",
      "Training SVC_linear\n",
      "           precision  recall  f1-score  support\n",
      "Classes                                        \n",
      "-1              0.75    0.63      0.68      614\n",
      "1               0.44    0.58      0.50      306\n",
      "avg/total       0.65    0.61      0.62      920\n",
      "Training SVC_rbf_C=75\n",
      "           precision  recall  f1-score  support\n",
      "Classes                                        \n",
      "-1              0.75     0.6      0.66      614\n",
      "1               0.43     0.6      0.50      306\n",
      "avg/total       0.64     0.6      0.61      920\n",
      "Training SVC_rbf_C=150\n",
      "           precision  recall  f1-score  support\n",
      "Classes                                        \n",
      "-1              0.75    0.63      0.68      614\n",
      "1               0.44    0.58      0.50      306\n",
      "avg/total       0.64    0.61      0.62      920\n",
      "Saving as: \n",
      "results_dict,lemmas,RuS,TfIdf_,minFreq=5,_stopw=english,_ngrams=(1, 1).pkl\n",
      "405.48660779\n",
      "\n",
      "Training LogisticRegression\n",
      "           precision  recall  f1-score  support\n",
      "Classes                                        \n",
      "-1              0.72    0.57      0.63      614\n",
      "1               0.39    0.56      0.46      306\n",
      "avg/total       0.61    0.56      0.58      920\n",
      "Training SVC_rbf_C=250\n",
      "           precision  recall  f1-score  support\n",
      "Classes                                        \n",
      "-1              0.68    0.55      0.61      614\n",
      "1               0.35    0.49      0.41      306\n",
      "avg/total       0.57    0.53      0.54      920\n",
      "Training RandomForestClassifier\n",
      "           precision  recall  f1-score  support\n",
      "Classes                                        \n",
      "-1              0.70    0.42      0.52      614\n",
      "1               0.35    0.64      0.45      306\n",
      "avg/total       0.58    0.49      0.50      920\n",
      "Training SVC_linear\n",
      "           precision  recall  f1-score  support\n",
      "Classes                                        \n",
      "-1              0.68    0.55      0.61      614\n",
      "1               0.35    0.49      0.41      306\n",
      "avg/total       0.57    0.53      0.54      920\n",
      "Training SVC_rbf_C=75\n",
      "           precision  recall  f1-score  support\n",
      "Classes                                        \n",
      "-1              0.71    0.58      0.64      614\n",
      "1               0.39    0.53      0.44      306\n",
      "avg/total       0.60    0.56      0.57      920\n",
      "Training SVC_rbf_C=150\n",
      "           precision  recall  f1-score  support\n",
      "Classes                                        \n",
      "-1              0.69    0.56      0.62      614\n",
      "1               0.36    0.49      0.41      306\n",
      "avg/total       0.58    0.54      0.55      920\n",
      "Saving as: \n",
      "results_dict,ShortDepPath,lemmas,RuS,TfIdf_,minFreq=5,_ngrams=(0, 3),LSA200.pkl\n",
      "419.829344988\n",
      "\n",
      "Training LogisticRegression\n",
      "           precision  recall  f1-score  support\n",
      "Classes                                        \n",
      "-1              0.80    0.64      0.71      614\n",
      "1               0.48    0.67      0.56      306\n",
      "avg/total       0.69    0.65      0.66      920\n",
      "Training SVC_rbf_C=250\n",
      "           precision  recall  f1-score  support\n",
      "Classes                                        \n",
      "-1              0.81    0.64      0.72      614\n",
      "1               0.49    0.69      0.57      306\n",
      "avg/total       0.70    0.66      0.67      920\n",
      "Training RandomForestClassifier\n",
      "           precision  recall  f1-score  support\n",
      "Classes                                        \n",
      "-1              0.75    0.76      0.76      614\n",
      "1               0.51    0.49      0.50      306\n",
      "avg/total       0.67    0.67      0.67      920\n",
      "Training SVC_linear\n",
      "           precision  recall  f1-score  support\n",
      "Classes                                        \n",
      "-1              0.80    0.64      0.71      614\n",
      "1               0.48    0.67      0.56      306\n",
      "avg/total       0.69    0.65      0.66      920\n",
      "Training SVC_rbf_C=75\n",
      "           precision  recall  f1-score  support\n",
      "Classes                                        \n",
      "-1              0.78    0.65      0.71      614\n",
      "1               0.48    0.63      0.54      306\n",
      "avg/total       0.68    0.65      0.66      920\n",
      "Training SVC_rbf_C=150\n",
      "           precision  recall  f1-score  support\n",
      "Classes                                        \n",
      "-1              0.78    0.65      0.71      614\n",
      "1               0.48    0.63      0.54      306\n",
      "avg/total       0.68    0.65      0.65      920\n",
      "Saving as: \n",
      "results_dict,lemmas,RuS,TfIdf_,minFreq=5,_ngrams=(0, 3),LSA200.pkl\n",
      "476.301965952\n",
      "\n",
      "Training LogisticRegression\n",
      "           precision  recall  f1-score  support\n",
      "Classes                                        \n",
      "-1              0.75    0.71      0.73      614\n",
      "1               0.47    0.52      0.49      306\n",
      "avg/total       0.66    0.64      0.65      920\n",
      "Training SVC_rbf_C=250\n",
      "           precision  recall  f1-score  support\n",
      "Classes                                        \n",
      "-1              0.74    0.71      0.73      614\n",
      "1               0.46    0.49      0.47      306\n",
      "avg/total       0.64    0.64      0.64      920\n",
      "Training RandomForestClassifier\n",
      "           precision  recall  f1-score  support\n",
      "Classes                                        \n",
      "-1              0.74    0.65      0.69      614\n",
      "1               0.44    0.55      0.49      306\n",
      "avg/total       0.64    0.62      0.62      920\n",
      "Training SVC_linear\n",
      "           precision  recall  f1-score  support\n",
      "Classes                                        \n",
      "-1              0.74    0.68      0.71      614\n",
      "1               0.44    0.51      0.48      306\n",
      "avg/total       0.64    0.62      0.63      920\n",
      "Training SVC_rbf_C=75\n"
     ]
    },
    {
     "name": "stderr",
     "output_type": "stream",
     "text": [
      "/home/antonis/anaconda2/envs/snorkel27/lib/python2.7/site-packages/sklearn/metrics/classification.py:1135: UndefinedMetricWarning: Precision and F-score are ill-defined and being set to 0.0 in labels with no predicted samples.\n",
      "  'precision', 'predicted', average, warn_for)\n"
     ]
    },
    {
     "name": "stdout",
     "output_type": "stream",
     "text": [
      "           precision  recall  f1-score  support\n",
      "Classes                                        \n",
      "-1              0.00    0.00      0.00      614\n",
      "1               0.33    1.00      0.50      306\n",
      "avg/total       0.11    0.33      0.17      920\n",
      "Training SVC_rbf_C=150\n",
      "           precision  recall  f1-score  support\n",
      "Classes                                        \n",
      "-1              0.73    0.78      0.75      614\n",
      "1               0.49    0.42      0.45      306\n",
      "avg/total       0.65    0.66      0.65      920\n",
      "Saving as: \n",
      "results_dict,ShortDepPath,lemmas,RuS,TfIdf_,minFreq=5,_ngrams=(0, 3).pkl\n",
      "548.173787832\n",
      "\n",
      "Training LogisticRegression\n",
      "           precision  recall  f1-score  support\n",
      "Classes                                        \n",
      "-1              0.79    0.65      0.72      614\n",
      "1               0.49    0.66      0.56      306\n",
      "avg/total       0.69    0.66      0.66      920\n",
      "Training SVC_rbf_C=250\n",
      "           precision  recall  f1-score  support\n",
      "Classes                                        \n",
      "-1              0.80    0.65      0.72      614\n",
      "1               0.49    0.67      0.57      306\n",
      "avg/total       0.70    0.66      0.67      920\n",
      "Training RandomForestClassifier\n",
      "           precision  recall  f1-score  support\n",
      "Classes                                        \n",
      "-1              0.75    0.72      0.74      614\n",
      "1               0.48    0.52      0.50      306\n",
      "avg/total       0.66    0.65      0.66      920\n",
      "Training SVC_linear\n",
      "           precision  recall  f1-score  support\n",
      "Classes                                        \n",
      "-1              0.80    0.66      0.72      614\n",
      "1               0.49    0.66      0.57      306\n",
      "avg/total       0.70    0.66      0.67      920\n",
      "Training SVC_rbf_C=75\n",
      "           precision  recall  f1-score  support\n",
      "Classes                                        \n",
      "-1              0.77    0.67      0.72      614\n",
      "1               0.48    0.60      0.53      306\n",
      "avg/total       0.67    0.65      0.66      920\n",
      "Training SVC_rbf_C=150\n",
      "           precision  recall  f1-score  support\n",
      "Classes                                        \n",
      "-1              0.78    0.65      0.71      614\n",
      "1               0.48    0.63      0.54      306\n",
      "avg/total       0.68    0.65      0.66      920\n",
      "Saving as: \n",
      "results_dict,lemmas,RuS,TfIdf_,minFreq=5,_ngrams=(0, 3).pkl\n",
      "563.104042768\n",
      "\n",
      "Training LogisticRegression\n",
      "           precision  recall  f1-score  support\n",
      "Classes                                        \n",
      "-1              0.74    0.71      0.73      614\n",
      "1               0.47    0.50      0.48      306\n",
      "avg/total       0.65    0.64      0.65      920\n",
      "Training SVC_rbf_C=250\n",
      "           precision  recall  f1-score  support\n",
      "Classes                                        \n",
      "-1              0.69    0.95      0.80      614\n",
      "1               0.59    0.14      0.22      306\n",
      "avg/total       0.66    0.68      0.61      920\n",
      "Training RandomForestClassifier\n",
      "           precision  recall  f1-score  support\n",
      "Classes                                        \n",
      "-1              0.76    0.48      0.59      614\n",
      "1               0.40    0.69      0.50      306\n",
      "avg/total       0.64    0.55      0.56      920\n",
      "Training SVC_linear\n",
      "           precision  recall  f1-score  support\n",
      "Classes                                        \n",
      "-1              0.73    0.69      0.71      614\n",
      "1               0.45    0.50      0.47      306\n",
      "avg/total       0.64    0.63      0.63      920\n",
      "Training SVC_rbf_C=75\n",
      "           precision  recall  f1-score  support\n",
      "Classes                                        \n",
      "-1              0.67    0.00      0.01      614\n",
      "1               0.33    1.00      0.50      306\n",
      "avg/total       0.56    0.33      0.17      920\n",
      "Training SVC_rbf_C=150\n",
      "           precision  recall  f1-score  support\n",
      "Classes                                        \n",
      "-1              0.71    0.87      0.78      614\n",
      "1               0.52    0.28      0.36      306\n",
      "avg/total       0.64    0.67      0.64      920\n",
      "Saving as: \n",
      "results_dict,ShortDepPath,lemmas,RuS,CV_,bin_,minFreq=5,_stopw=english,_ngrams=(1, 1),LSA200.pkl\n",
      "600.04954195\n",
      "\n",
      "results_dict,ShortDepPath,lemmas,RuS,CV_,bin_,minFreq=5,_stopw=english,_ngrams=(1, 1),LSA200, exists, skipping . . .\n",
      "Saving as: \n",
      "results_dict,trim=0,lemmas,RuS,CV_,bin_,minFreq=5,_stopw=english,_ngrams=(1, 1),LSA200.pkl\n",
      "600.050060987\n",
      "\n",
      "Training LogisticRegression\n",
      "           precision  recall  f1-score  support\n",
      "Classes                                        \n",
      "-1              0.76    0.53      0.62      614\n",
      "1               0.41    0.66      0.51      306\n",
      "avg/total       0.64    0.57      0.58      920\n",
      "Training SVC_rbf_C=250\n",
      "           precision  recall  f1-score  support\n",
      "Classes                                        \n",
      "-1              0.77    0.61      0.68      614\n",
      "1               0.45    0.62      0.52      306\n",
      "avg/total       0.66    0.62      0.63      920\n",
      "Training RandomForestClassifier\n",
      "           precision  recall  f1-score  support\n",
      "Classes                                        \n",
      "-1              0.72    0.76      0.74      614\n",
      "1               0.46    0.41      0.43      306\n",
      "avg/total       0.63    0.64      0.64      920\n",
      "Training SVC_linear\n",
      "           precision  recall  f1-score  support\n",
      "Classes                                        \n",
      "-1              0.76    0.61      0.68      614\n",
      "1               0.44    0.61      0.51      306\n",
      "avg/total       0.65    0.61      0.62      920\n",
      "Training SVC_rbf_C=75\n",
      "           precision  recall  f1-score  support\n",
      "Classes                                        \n",
      "-1              0.75    0.67      0.71      614\n",
      "1               0.46    0.56      0.50      306\n",
      "avg/total       0.65    0.63      0.64      920\n",
      "Training SVC_rbf_C=150\n",
      "           precision  recall  f1-score  support\n",
      "Classes                                        \n",
      "-1              0.77    0.62      0.69      614\n",
      "1               0.45    0.63      0.53      306\n",
      "avg/total       0.66    0.62      0.63      920\n",
      "Saving as: \n",
      "results_dict,ShortDepPath,lemmas,RuS,CV_,bin_,minFreq=5,_stopw=english,_ngrams=(1, 1).pkl\n",
      "651.379615784\n",
      "\n",
      "results_dict,ShortDepPath,lemmas,RuS,CV_,bin_,minFreq=5,_stopw=english,_ngrams=(1, 1), exists, skipping . . .\n",
      "Saving as: \n",
      "results_dict,trim=0,lemmas,RuS,CV_,bin_,minFreq=5,_stopw=english,_ngrams=(1, 1).pkl\n",
      "651.380085945\n",
      "\n",
      "Training LogisticRegression\n",
      "           precision  recall  f1-score  support\n",
      "Classes                                        \n",
      "-1              0.76    0.52      0.62      614\n",
      "1               0.41    0.66      0.51      306\n",
      "avg/total       0.64    0.57      0.58      920\n",
      "Training SVC_rbf_C=250\n",
      "           precision  recall  f1-score  support\n",
      "Classes                                        \n",
      "-1              0.77    0.61      0.68      614\n",
      "1               0.45    0.64      0.53      306\n",
      "avg/total       0.66    0.62      0.63      920\n",
      "Training RandomForestClassifier\n",
      "           precision  recall  f1-score  support\n",
      "Classes                                        \n",
      "-1              0.74    0.45      0.56      614\n",
      "1               0.39    0.69      0.49      306\n",
      "avg/total       0.62    0.53      0.54      920\n",
      "Training SVC_linear\n",
      "           precision  recall  f1-score  support\n",
      "Classes                                        \n",
      "-1              0.77    0.49      0.60      614\n",
      "1               0.41    0.70      0.51      306\n",
      "avg/total       0.65    0.56      0.57      920\n",
      "Training SVC_rbf_C=75\n",
      "           precision  recall  f1-score  support\n",
      "Classes                                        \n",
      "-1              0.75    0.66      0.70      614\n",
      "1               0.45    0.57      0.51      306\n",
      "avg/total       0.65    0.63      0.64      920\n",
      "Training SVC_rbf_C=150\n",
      "           precision  recall  f1-score  support\n",
      "Classes                                        \n",
      "-1              0.77    0.64      0.70      614\n",
      "1               0.46    0.63      0.53      306\n",
      "avg/total       0.67    0.63      0.64      920\n",
      "Saving as: \n",
      "results_dict,ShortDepPath,lemmas,RuS,CV_,bin_,minFreq=5,_ngrams=(0, 3),LSA200.pkl\n",
      "665.085179806\n",
      "\n",
      "results_dict,ShortDepPath,lemmas,RuS,CV_,bin_,minFreq=5,_ngrams=(0, 3),LSA200, exists, skipping . . .\n",
      "Saving as: \n",
      "results_dict,trim=0,lemmas,RuS,CV_,bin_,minFreq=5,_ngrams=(0, 3),LSA200.pkl\n",
      "665.085483789\n",
      "\n",
      "Training LogisticRegression\n",
      "           precision  recall  f1-score  support\n",
      "Classes                                        \n",
      "-1              0.78    0.60      0.68      614\n",
      "1               0.45    0.65      0.53      306\n",
      "avg/total       0.67    0.62      0.63      920\n",
      "Training SVC_rbf_C=250\n"
     ]
    },
    {
     "name": "stdout",
     "output_type": "stream",
     "text": [
      "           precision  recall  f1-score  support\n",
      "Classes                                        \n",
      "-1              0.77    0.58      0.66      614\n",
      "1               0.44    0.65      0.52      306\n",
      "avg/total       0.66    0.60      0.61      920\n",
      "Training RandomForestClassifier\n",
      "           precision  recall  f1-score  support\n",
      "Classes                                        \n",
      "-1              0.74    0.66      0.70      614\n",
      "1               0.44    0.53      0.48      306\n",
      "avg/total       0.64    0.62      0.63      920\n",
      "Training SVC_linear\n",
      "           precision  recall  f1-score  support\n",
      "Classes                                        \n",
      "-1              0.78    0.60      0.67      614\n",
      "1               0.45    0.66      0.53      306\n",
      "avg/total       0.67    0.62      0.63      920\n",
      "Training SVC_rbf_C=75\n",
      "           precision  recall  f1-score  support\n",
      "Classes                                        \n",
      "-1              0.77    0.57      0.66      614\n",
      "1               0.43    0.66      0.52      306\n",
      "avg/total       0.66    0.60      0.61      920\n",
      "Training SVC_rbf_C=150\n",
      "           precision  recall  f1-score  support\n",
      "Classes                                        \n",
      "-1              0.77    0.58      0.66      614\n",
      "1               0.44    0.65      0.52      306\n",
      "avg/total       0.66    0.60      0.61      920\n",
      "Saving as: \n",
      "results_dict,ShortDepPath,lemmas,RuS,CV_,bin_,minFreq=5,_ngrams=(0, 3).pkl\n",
      "720.628375769\n",
      "\n",
      "results_dict,ShortDepPath,lemmas,RuS,CV_,bin_,minFreq=5,_ngrams=(0, 3), exists, skipping . . .\n",
      "Saving as: \n",
      "results_dict,trim=0,lemmas,RuS,CV_,bin_,minFreq=5,_ngrams=(0, 3).pkl\n",
      "720.628929853\n",
      "\n",
      "Training LogisticRegression\n",
      "           precision  recall  f1-score  support\n",
      "Classes                                        \n",
      "-1              0.77    0.60      0.68      614\n",
      "1               0.45    0.65      0.53      306\n",
      "avg/total       0.67    0.62      0.63      920\n",
      "Training SVC_rbf_C=250\n",
      "           precision  recall  f1-score  support\n",
      "Classes                                        \n",
      "-1              0.78    0.59      0.67      614\n",
      "1               0.45    0.66      0.53      306\n",
      "avg/total       0.67    0.61      0.63      920\n",
      "Training RandomForestClassifier\n",
      "           precision  recall  f1-score  support\n",
      "Classes                                        \n",
      "-1              0.76    0.58      0.66      614\n",
      "1               0.43    0.64      0.52      306\n",
      "avg/total       0.65    0.60      0.61      920\n",
      "Training SVC_linear\n",
      "           precision  recall  f1-score  support\n",
      "Classes                                        \n",
      "-1              0.77    0.61      0.68      614\n",
      "1               0.45    0.64      0.53      306\n",
      "avg/total       0.67    0.62      0.63      920\n",
      "Training SVC_rbf_C=75\n",
      "           precision  recall  f1-score  support\n",
      "Classes                                        \n",
      "-1              0.77    0.58      0.66      614\n",
      "1               0.44    0.66      0.53      306\n",
      "avg/total       0.66    0.61      0.62      920\n",
      "Training SVC_rbf_C=150\n",
      "           precision  recall  f1-score  support\n",
      "Classes                                        \n",
      "-1              0.77    0.59      0.67      614\n",
      "1               0.44    0.64      0.52      306\n",
      "avg/total       0.66    0.61      0.62      920\n",
      "Saving as: \n",
      "results_dict,ShortDepPath,lemmas,RuS,TfIdf_,minFreq=5,_stopw=english,_ngrams=(1, 1),LSA200.pkl\n",
      "740.507873774\n",
      "\n",
      "results_dict,ShortDepPath,lemmas,RuS,TfIdf_,minFreq=5,_stopw=english,_ngrams=(1, 1),LSA200, exists, skipping . . .\n",
      "Saving as: \n",
      "results_dict,trim=0,lemmas,RuS,TfIdf_,minFreq=5,_stopw=english,_ngrams=(1, 1),LSA200.pkl\n",
      "740.508119822\n",
      "\n",
      "Training LogisticRegression\n",
      "           precision  recall  f1-score  support\n",
      "Classes                                        \n",
      "-1              0.76    0.58      0.66      614\n",
      "1               0.43    0.62      0.51      306\n",
      "avg/total       0.65    0.60      0.61      920\n",
      "Training SVC_rbf_C=250\n",
      "           precision  recall  f1-score  support\n",
      "Classes                                        \n",
      "-1              0.74    0.57      0.64      614\n",
      "1               0.41    0.60      0.49      306\n",
      "avg/total       0.63    0.58      0.59      920\n",
      "Training RandomForestClassifier\n",
      "           precision  recall  f1-score  support\n",
      "Classes                                        \n",
      "-1              0.72    0.71      0.72      614\n",
      "1               0.44    0.46      0.45      306\n",
      "avg/total       0.63    0.62      0.63      920\n",
      "Training SVC_linear\n",
      "           precision  recall  f1-score  support\n",
      "Classes                                        \n",
      "-1              0.74    0.55      0.63      614\n",
      "1               0.41    0.61      0.49      306\n",
      "avg/total       0.63    0.57      0.59      920\n",
      "Training SVC_rbf_C=75\n",
      "           precision  recall  f1-score  support\n",
      "Classes                                        \n",
      "-1              0.74    0.60      0.66      614\n",
      "1               0.41    0.57      0.48      306\n",
      "avg/total       0.63    0.59      0.60      920\n",
      "Training SVC_rbf_C=150\n",
      "           precision  recall  f1-score  support\n",
      "Classes                                        \n",
      "-1              0.74    0.56      0.64      614\n",
      "1               0.40    0.60      0.48      306\n",
      "avg/total       0.63    0.57      0.59      920\n",
      "Saving as: \n",
      "results_dict,ShortDepPath,lemmas,RuS,TfIdf_,minFreq=5,_stopw=english,_ngrams=(1, 1).pkl\n",
      "772.611430883\n",
      "\n",
      "results_dict,ShortDepPath,lemmas,RuS,TfIdf_,minFreq=5,_stopw=english,_ngrams=(1, 1), exists, skipping . . .\n",
      "Saving as: \n",
      "results_dict,trim=0,lemmas,RuS,TfIdf_,minFreq=5,_stopw=english,_ngrams=(1, 1).pkl\n",
      "772.611824989\n",
      "\n",
      "Training LogisticRegression\n",
      "           precision  recall  f1-score  support\n",
      "Classes                                        \n",
      "-1              0.75    0.60      0.67      614\n",
      "1               0.43    0.61      0.50      306\n",
      "avg/total       0.65    0.60      0.61      920\n",
      "Training SVC_rbf_C=250\n",
      "           precision  recall  f1-score  support\n",
      "Classes                                        \n",
      "-1              0.74    0.57      0.64      614\n",
      "1               0.41    0.61      0.49      306\n",
      "avg/total       0.63    0.58      0.59      920\n",
      "Training RandomForestClassifier\n",
      "           precision  recall  f1-score  support\n",
      "Classes                                        \n",
      "-1              0.72    0.75      0.74      614\n",
      "1               0.46    0.42      0.44      306\n",
      "avg/total       0.64    0.64      0.64      920\n",
      "Training SVC_linear\n",
      "           precision  recall  f1-score  support\n",
      "Classes                                        \n",
      "-1              0.75    0.54      0.63      614\n",
      "1               0.41    0.64      0.50      306\n",
      "avg/total       0.64    0.57      0.59      920\n",
      "Training SVC_rbf_C=75\n",
      "           precision  recall  f1-score  support\n",
      "Classes                                        \n",
      "-1              0.74    0.63      0.68      614\n",
      "1               0.42    0.55      0.48      306\n",
      "avg/total       0.63    0.60      0.61      920\n",
      "Training SVC_rbf_C=150\n",
      "           precision  recall  f1-score  support\n",
      "Classes                                        \n",
      "-1              0.75    0.59      0.66      614\n",
      "1               0.42    0.60      0.49      306\n",
      "avg/total       0.64    0.59      0.60      920\n",
      "Saving as: \n",
      "results_dict,ShortDepPath,lemmas,RuS,TfIdf_,minFreq=5,_ngrams=(0, 3),LSA200.pkl\n",
      "782.508161783\n",
      "\n",
      "results_dict,ShortDepPath,lemmas,RuS,TfIdf_,minFreq=5,_ngrams=(0, 3),LSA200, exists, skipping . . .\n",
      "Saving as: \n",
      "results_dict,trim=0,lemmas,RuS,TfIdf_,minFreq=5,_ngrams=(0, 3),LSA200.pkl\n",
      "782.508770943\n",
      "\n",
      "Training LogisticRegression\n",
      "           precision  recall  f1-score  support\n",
      "Classes                                        \n",
      "-1              0.78    0.66      0.72      614\n",
      "1               0.48    0.63      0.55      306\n",
      "avg/total       0.68    0.65      0.66      920\n",
      "Training SVC_rbf_C=250\n",
      "           precision  recall  f1-score  support\n",
      "Classes                                        \n",
      "-1              0.77    0.68      0.72      614\n",
      "1               0.48    0.59      0.53      306\n",
      "avg/total       0.67    0.65      0.66      920\n",
      "Training RandomForestClassifier\n",
      "           precision  recall  f1-score  support\n",
      "Classes                                        \n",
      "-1              0.75    0.79      0.77      614\n",
      "1               0.53    0.48      0.50      306\n",
      "avg/total       0.68    0.68      0.68      920\n",
      "Training SVC_linear\n",
      "           precision  recall  f1-score  support\n",
      "Classes                                        \n",
      "-1              0.77    0.64      0.70      614\n",
      "1               0.46    0.62      0.53      306\n",
      "avg/total       0.67    0.63      0.64      920\n"
     ]
    },
    {
     "name": "stdout",
     "output_type": "stream",
     "text": [
      "Training SVC_rbf_C=75\n",
      "           precision  recall  f1-score  support\n",
      "Classes                                        \n",
      "-1              0.76    0.72      0.74      614\n",
      "1               0.50    0.55      0.52      306\n",
      "avg/total       0.68    0.67      0.67      920\n",
      "Training SVC_rbf_C=150\n",
      "           precision  recall  f1-score  support\n",
      "Classes                                        \n",
      "-1              0.77    0.68      0.72      614\n",
      "1               0.47    0.58      0.52      306\n",
      "avg/total       0.67    0.65      0.65      920\n",
      "Saving as: \n",
      "results_dict,ShortDepPath,lemmas,RuS,TfIdf_,minFreq=5,_ngrams=(0, 3).pkl\n",
      "849.429516792\n",
      "\n",
      "results_dict,ShortDepPath,lemmas,RuS,TfIdf_,minFreq=5,_ngrams=(0, 3), exists, skipping . . .\n",
      "Saving as: \n",
      "results_dict,trim=0,lemmas,RuS,TfIdf_,minFreq=5,_ngrams=(0, 3).pkl\n",
      "849.429691792\n",
      "\n",
      "Training LogisticRegression\n",
      "           precision  recall  f1-score  support\n",
      "Classes                                        \n",
      "-1              0.78    0.69      0.73      614\n",
      "1               0.50    0.62      0.55      306\n",
      "avg/total       0.69    0.67      0.67      920\n",
      "Training SVC_rbf_C=250\n",
      "           precision  recall  f1-score  support\n",
      "Classes                                        \n",
      "-1              0.77    0.68      0.72      614\n",
      "1               0.48    0.59      0.53      306\n",
      "avg/total       0.67    0.65      0.66      920\n",
      "Training RandomForestClassifier\n",
      "           precision  recall  f1-score  support\n",
      "Classes                                        \n",
      "-1              0.76    0.74      0.75      614\n",
      "1               0.50    0.54      0.52      306\n",
      "avg/total       0.68    0.67      0.67      920\n",
      "Training SVC_linear\n",
      "           precision  recall  f1-score  support\n",
      "Classes                                        \n",
      "-1              0.77    0.65      0.71      614\n",
      "1               0.47    0.61      0.53      306\n",
      "avg/total       0.67    0.64      0.65      920\n",
      "Training SVC_rbf_C=75\n",
      "           precision  recall  f1-score  support\n",
      "Classes                                        \n",
      "-1              0.76    0.75      0.75      614\n",
      "1               0.51    0.51      0.51      306\n",
      "avg/total       0.67    0.67      0.67      920\n",
      "Training SVC_rbf_C=150\n",
      "           precision  recall  f1-score  support\n",
      "Classes                                        \n",
      "-1              0.77    0.72      0.74      614\n",
      "1               0.50    0.56      0.53      306\n",
      "avg/total       0.68    0.67      0.67      920\n",
      "Saving as: \n",
      "results_dict,ShortDepPath,lemmas,RuS,CV_,bin_,minFreq=5,_stopw=english,_ngrams=(1, 1),LSA200.pkl\n",
      "873.007876873\n",
      "\n",
      "results_dict,ShortDepPath,lemmas,RuS,CV_,bin_,minFreq=5,_stopw=english,_ngrams=(1, 1),LSA200, exists, skipping . . .\n",
      "Saving as: \n",
      "results_dict,trim=5,lemmas,RuS,CV_,bin_,minFreq=5,_stopw=english,_ngrams=(1, 1),LSA200.pkl\n",
      "873.008474827\n",
      "\n",
      "Training LogisticRegression\n",
      "           precision  recall  f1-score  support\n",
      "Classes                                        \n",
      "-1              0.70    0.46      0.55      614\n",
      "1               0.36    0.61      0.45      306\n",
      "avg/total       0.59    0.51      0.52      920\n",
      "Training SVC_rbf_C=250\n",
      "           precision  recall  f1-score  support\n",
      "Classes                                        \n",
      "-1              0.71    0.45      0.55      614\n",
      "1               0.36    0.62      0.46      306\n",
      "avg/total       0.59    0.51      0.52      920\n",
      "Training RandomForestClassifier\n",
      "           precision  recall  f1-score  support\n",
      "Classes                                        \n",
      "-1              0.70    0.47      0.57      614\n",
      "1               0.36    0.60      0.45      306\n",
      "avg/total       0.59    0.52      0.53      920\n",
      "Training SVC_linear\n",
      "           precision  recall  f1-score  support\n",
      "Classes                                        \n",
      "-1              0.70    0.44      0.54      614\n",
      "1               0.35    0.62      0.45      306\n",
      "avg/total       0.58    0.50      0.51      920\n",
      "Training SVC_rbf_C=75\n",
      "           precision  recall  f1-score  support\n",
      "Classes                                        \n",
      "-1              0.72    0.48      0.58      614\n",
      "1               0.38    0.63      0.47      306\n",
      "avg/total       0.61    0.53      0.54      920\n",
      "Training SVC_rbf_C=150\n",
      "           precision  recall  f1-score  support\n",
      "Classes                                        \n",
      "-1              0.72    0.47      0.57      614\n",
      "1               0.37    0.63      0.47      306\n",
      "avg/total       0.61    0.53      0.54      920\n",
      "Saving as: \n",
      "results_dict,ShortDepPath,lemmas,RuS,CV_,bin_,minFreq=5,_stopw=english,_ngrams=(1, 1).pkl\n",
      "905.667325974\n",
      "\n",
      "results_dict,ShortDepPath,lemmas,RuS,CV_,bin_,minFreq=5,_stopw=english,_ngrams=(1, 1), exists, skipping . . .\n",
      "Saving as: \n",
      "results_dict,trim=5,lemmas,RuS,CV_,bin_,minFreq=5,_stopw=english,_ngrams=(1, 1).pkl\n",
      "905.667546988\n",
      "\n",
      "Training LogisticRegression\n",
      "           precision  recall  f1-score  support\n",
      "Classes                                        \n",
      "-1              0.70    0.45      0.55      614\n",
      "1               0.36    0.61      0.45      306\n",
      "avg/total       0.59    0.51      0.52      920\n",
      "Training SVC_rbf_C=250\n",
      "           precision  recall  f1-score  support\n",
      "Classes                                        \n",
      "-1              0.71    0.46      0.56      614\n",
      "1               0.36    0.62      0.46      306\n",
      "avg/total       0.59    0.51      0.53      920\n",
      "Training RandomForestClassifier\n",
      "           precision  recall  f1-score  support\n",
      "Classes                                        \n",
      "-1              0.73    0.44      0.55      614\n",
      "1               0.37    0.67      0.48      306\n",
      "avg/total       0.61    0.52      0.53      920\n",
      "Training SVC_linear\n",
      "           precision  recall  f1-score  support\n",
      "Classes                                        \n",
      "-1              0.71    0.45      0.55      614\n",
      "1               0.36    0.62      0.46      306\n",
      "avg/total       0.59    0.51      0.52      920\n",
      "Training SVC_rbf_C=75\n",
      "           precision  recall  f1-score  support\n",
      "Classes                                        \n",
      "-1              0.71    0.46      0.56      614\n",
      "1               0.37    0.62      0.46      306\n",
      "avg/total       0.60    0.52      0.53      920\n",
      "Training SVC_rbf_C=150\n",
      "           precision  recall  f1-score  support\n",
      "Classes                                        \n",
      "-1              0.71    0.47      0.57      614\n",
      "1               0.37    0.62      0.46      306\n",
      "avg/total       0.60    0.52      0.53      920\n",
      "Saving as: \n",
      "results_dict,ShortDepPath,lemmas,RuS,CV_,bin_,minFreq=5,_ngrams=(0, 3),LSA200.pkl\n",
      "915.932778835\n",
      "\n",
      "results_dict,ShortDepPath,lemmas,RuS,CV_,bin_,minFreq=5,_ngrams=(0, 3),LSA200, exists, skipping . . .\n",
      "Saving as: \n",
      "results_dict,trim=5,lemmas,RuS,CV_,bin_,minFreq=5,_ngrams=(0, 3),LSA200.pkl\n",
      "915.93290782\n",
      "\n",
      "Training LogisticRegression\n",
      "           precision  recall  f1-score  support\n",
      "Classes                                        \n",
      "-1              0.77    0.65      0.70      614\n",
      "1               0.46    0.61      0.53      306\n",
      "avg/total       0.67    0.63      0.64      920\n",
      "Training SVC_rbf_C=250\n",
      "           precision  recall  f1-score  support\n",
      "Classes                                        \n",
      "-1              0.77    0.61      0.68      614\n",
      "1               0.45    0.63      0.53      306\n",
      "avg/total       0.66    0.62      0.63      920\n",
      "Training RandomForestClassifier\n",
      "           precision  recall  f1-score  support\n",
      "Classes                                        \n",
      "-1              0.79    0.41      0.54      614\n",
      "1               0.40    0.78      0.53      306\n",
      "avg/total       0.66    0.54      0.54      920\n",
      "Training SVC_linear\n",
      "           precision  recall  f1-score  support\n",
      "Classes                                        \n",
      "-1              0.75    0.58      0.66      614\n",
      "1               0.43    0.62      0.50      306\n",
      "avg/total       0.65    0.59      0.61      920\n",
      "Training SVC_rbf_C=75\n",
      "           precision  recall  f1-score  support\n",
      "Classes                                        \n",
      "-1              0.76    0.63      0.69      614\n",
      "1               0.45    0.61      0.52      306\n",
      "avg/total       0.66    0.62      0.63      920\n",
      "Training SVC_rbf_C=150\n",
      "           precision  recall  f1-score  support\n",
      "Classes                                        \n",
      "-1              0.77    0.63      0.69      614\n",
      "1               0.45    0.61      0.52      306\n",
      "avg/total       0.66    0.62      0.63      920\n",
      "Saving as: \n",
      "results_dict,ShortDepPath,lemmas,RuS,CV_,bin_,minFreq=5,_ngrams=(0, 3).pkl\n",
      "980.786072969\n",
      "\n",
      "results_dict,ShortDepPath,lemmas,RuS,CV_,bin_,minFreq=5,_ngrams=(0, 3), exists, skipping . . .\n",
      "Saving as: \n",
      "results_dict,trim=5,lemmas,RuS,CV_,bin_,minFreq=5,_ngrams=(0, 3).pkl\n",
      "980.786606789\n",
      "\n"
     ]
    },
    {
     "name": "stdout",
     "output_type": "stream",
     "text": [
      "Training LogisticRegression\n",
      "           precision  recall  f1-score  support\n",
      "Classes                                        \n",
      "-1              0.77    0.65      0.70      614\n",
      "1               0.46    0.61      0.53      306\n",
      "avg/total       0.67    0.64      0.65      920\n",
      "Training SVC_rbf_C=250\n",
      "           precision  recall  f1-score  support\n",
      "Classes                                        \n",
      "-1              0.77    0.63      0.69      614\n",
      "1               0.45    0.61      0.52      306\n",
      "avg/total       0.66    0.62      0.64      920\n",
      "Training RandomForestClassifier\n",
      "           precision  recall  f1-score  support\n",
      "Classes                                        \n",
      "-1              0.75    0.67      0.71      614\n",
      "1               0.45    0.55      0.50      306\n",
      "avg/total       0.65    0.63      0.64      920\n",
      "Training SVC_linear\n",
      "           precision  recall  f1-score  support\n",
      "Classes                                        \n",
      "-1              0.76    0.59      0.66      614\n",
      "1               0.43    0.63      0.51      306\n",
      "avg/total       0.65    0.60      0.61      920\n",
      "Training SVC_rbf_C=75\n",
      "           precision  recall  f1-score  support\n",
      "Classes                                        \n",
      "-1              0.76    0.64      0.69      614\n",
      "1               0.45    0.59      0.51      306\n",
      "avg/total       0.66    0.62      0.63      920\n",
      "Training SVC_rbf_C=150\n",
      "           precision  recall  f1-score  support\n",
      "Classes                                        \n",
      "-1              0.77    0.64      0.70      614\n",
      "1               0.46    0.61      0.52      306\n",
      "avg/total       0.66    0.63      0.64      920\n",
      "Saving as: \n",
      "results_dict,ShortDepPath,lemmas,RuS,TfIdf_,minFreq=5,_stopw=english,_ngrams=(1, 1),LSA200.pkl\n",
      "1010.86020279\n",
      "\n",
      "results_dict,ShortDepPath,lemmas,RuS,TfIdf_,minFreq=5,_stopw=english,_ngrams=(1, 1),LSA200, exists, skipping . . .\n",
      "Saving as: \n",
      "results_dict,trim=5,lemmas,RuS,TfIdf_,minFreq=5,_stopw=english,_ngrams=(1, 1),LSA200.pkl\n",
      "1010.860569\n",
      "\n",
      "Training LogisticRegression\n",
      "           precision  recall  f1-score  support\n",
      "Classes                                        \n",
      "-1              0.71    0.56      0.62      614\n",
      "1               0.38    0.54      0.44      306\n",
      "avg/total       0.60    0.55      0.56      920\n",
      "Training SVC_rbf_C=250\n",
      "           precision  recall  f1-score  support\n",
      "Classes                                        \n",
      "-1              0.71    0.54      0.61      614\n",
      "1               0.38    0.56      0.45      306\n",
      "avg/total       0.60    0.55      0.56      920\n",
      "Training RandomForestClassifier\n",
      "           precision  recall  f1-score  support\n",
      "Classes                                        \n",
      "-1              0.74    0.51      0.60      614\n",
      "1               0.39    0.63      0.48      306\n",
      "avg/total       0.62    0.55      0.56      920\n",
      "Training SVC_linear\n",
      "           precision  recall  f1-score  support\n",
      "Classes                                        \n",
      "-1              0.71    0.53      0.61      614\n",
      "1               0.37    0.56      0.45      306\n",
      "avg/total       0.60    0.54      0.55      920\n",
      "Training SVC_rbf_C=75\n",
      "           precision  recall  f1-score  support\n",
      "Classes                                        \n",
      "-1              0.70    0.54      0.61      614\n",
      "1               0.37    0.55      0.44      306\n",
      "avg/total       0.59    0.54      0.55      920\n",
      "Training SVC_rbf_C=150\n",
      "           precision  recall  f1-score  support\n",
      "Classes                                        \n",
      "-1              0.70    0.53      0.60      614\n",
      "1               0.36    0.54      0.43      306\n",
      "avg/total       0.59    0.53      0.55      920\n",
      "Saving as: \n",
      "results_dict,ShortDepPath,lemmas,RuS,TfIdf_,minFreq=5,_stopw=english,_ngrams=(1, 1).pkl\n",
      "1045.44477797\n",
      "\n",
      "results_dict,ShortDepPath,lemmas,RuS,TfIdf_,minFreq=5,_stopw=english,_ngrams=(1, 1), exists, skipping . . .\n",
      "Saving as: \n",
      "results_dict,trim=5,lemmas,RuS,TfIdf_,minFreq=5,_stopw=english,_ngrams=(1, 1).pkl\n",
      "1045.44524288\n",
      "\n",
      "Training LogisticRegression\n",
      "           precision  recall  f1-score  support\n",
      "Classes                                        \n",
      "-1              0.71    0.57      0.63      614\n",
      "1               0.38    0.54      0.45      306\n",
      "avg/total       0.60    0.56      0.57      920\n",
      "Training SVC_rbf_C=250\n",
      "           precision  recall  f1-score  support\n",
      "Classes                                        \n",
      "-1              0.69    0.50      0.58      614\n",
      "1               0.36    0.55      0.43      306\n",
      "avg/total       0.58    0.52      0.53      920\n",
      "Training RandomForestClassifier\n",
      "           precision  recall  f1-score  support\n",
      "Classes                                        \n",
      "-1              0.74    0.54      0.62      614\n",
      "1               0.40    0.62      0.49      306\n",
      "avg/total       0.63    0.57      0.58      920\n",
      "Training SVC_linear\n",
      "           precision  recall  f1-score  support\n",
      "Classes                                        \n",
      "-1              0.71    0.51      0.59      614\n",
      "1               0.37    0.58      0.45      306\n",
      "avg/total       0.60    0.53      0.55      920\n",
      "Training SVC_rbf_C=75\n",
      "           precision  recall  f1-score  support\n",
      "Classes                                        \n",
      "-1              0.71    0.56      0.62      614\n",
      "1               0.38    0.55      0.45      306\n",
      "avg/total       0.60    0.55      0.57      920\n",
      "Training SVC_rbf_C=150\n",
      "           precision  recall  f1-score  support\n",
      "Classes                                        \n",
      "-1              0.70    0.52      0.60      614\n",
      "1               0.36    0.55      0.44      306\n",
      "avg/total       0.59    0.53      0.55      920\n",
      "Saving as: \n",
      "results_dict,ShortDepPath,lemmas,RuS,TfIdf_,minFreq=5,_ngrams=(0, 3),LSA200.pkl\n",
      "1055.97685599\n",
      "\n",
      "results_dict,ShortDepPath,lemmas,RuS,TfIdf_,minFreq=5,_ngrams=(0, 3),LSA200, exists, skipping . . .\n",
      "Saving as: \n",
      "results_dict,trim=5,lemmas,RuS,TfIdf_,minFreq=5,_ngrams=(0, 3),LSA200.pkl\n",
      "1055.97704482\n",
      "\n",
      "Training LogisticRegression\n",
      "           precision  recall  f1-score  support\n",
      "Classes                                        \n",
      "-1              0.76    0.73      0.74      614\n",
      "1               0.50    0.53      0.51      306\n",
      "avg/total       0.67    0.66      0.67      920\n",
      "Training SVC_rbf_C=250\n",
      "           precision  recall  f1-score  support\n",
      "Classes                                        \n",
      "-1              0.75    0.71      0.73      614\n",
      "1               0.48    0.53      0.50      306\n",
      "avg/total       0.66    0.65      0.65      920\n",
      "Training RandomForestClassifier\n",
      "           precision  recall  f1-score  support\n",
      "Classes                                        \n",
      "-1              0.74    0.73      0.73      614\n",
      "1               0.47    0.50      0.49      306\n",
      "avg/total       0.65    0.65      0.65      920\n",
      "Training SVC_linear\n",
      "           precision  recall  f1-score  support\n",
      "Classes                                        \n",
      "-1              0.76    0.69      0.73      614\n",
      "1               0.48    0.57      0.52      306\n",
      "avg/total       0.67    0.65      0.66      920\n",
      "Training SVC_rbf_C=75\n",
      "           precision  recall  f1-score  support\n",
      "Classes                                        \n",
      "-1              0.72    0.91      0.81      614\n",
      "1               0.62    0.30      0.41      306\n",
      "avg/total       0.69    0.71      0.67      920\n",
      "Training SVC_rbf_C=150\n",
      "           precision  recall  f1-score  support\n",
      "Classes                                        \n",
      "-1              0.75    0.75      0.75      614\n",
      "1               0.50    0.50      0.50      306\n",
      "avg/total       0.67    0.67      0.67      920\n",
      "Saving as: \n",
      "results_dict,ShortDepPath,lemmas,RuS,TfIdf_,minFreq=5,_ngrams=(0, 3).pkl\n",
      "1136.41882992\n",
      "\n",
      "results_dict,ShortDepPath,lemmas,RuS,TfIdf_,minFreq=5,_ngrams=(0, 3), exists, skipping . . .\n",
      "Saving as: \n",
      "results_dict,trim=5,lemmas,RuS,TfIdf_,minFreq=5,_ngrams=(0, 3).pkl\n",
      "1136.41932797\n",
      "\n",
      "Training LogisticRegression\n",
      "           precision  recall  f1-score  support\n",
      "Classes                                        \n",
      "-1              0.76    0.74      0.75      614\n",
      "1               0.50    0.53      0.52      306\n",
      "avg/total       0.67    0.67      0.67      920\n",
      "Training SVC_rbf_C=250\n",
      "           precision  recall  f1-score  support\n",
      "Classes                                        \n",
      "-1              0.74    0.76      0.75      614\n",
      "1               0.50    0.48      0.49      306\n",
      "avg/total       0.66    0.67      0.66      920\n",
      "Training RandomForestClassifier\n"
     ]
    },
    {
     "name": "stdout",
     "output_type": "stream",
     "text": [
      "           precision  recall  f1-score  support\n",
      "Classes                                        \n",
      "-1              0.75    0.57      0.65      614\n",
      "1               0.42    0.61      0.49      306\n",
      "avg/total       0.64    0.59      0.60      920\n",
      "Training SVC_linear\n",
      "           precision  recall  f1-score  support\n",
      "Classes                                        \n",
      "-1              0.77    0.69      0.72      614\n",
      "1               0.48    0.58      0.52      306\n",
      "avg/total       0.67    0.65      0.66      920\n",
      "Training SVC_rbf_C=75\n",
      "           precision  recall  f1-score  support\n",
      "Classes                                        \n",
      "-1              0.76    0.63      0.69      614\n",
      "1               0.45    0.61      0.52      306\n",
      "avg/total       0.66    0.62      0.63      920\n",
      "Training SVC_rbf_C=150\n",
      "           precision  recall  f1-score  support\n",
      "Classes                                        \n",
      "-1              0.74    0.85      0.79      614\n",
      "1               0.57    0.39      0.46      306\n",
      "avg/total       0.68    0.70      0.68      920\n"
     ]
    }
   ],
   "source": [
    "debug=False\n",
    "start_time = time.time()\n",
    "for comb in combs: \n",
    "    \n",
    "    #pass pipeline selections\n",
    "    (trim_text,trim_window) = comb[0]\n",
    "    use_lemmas = comb[1]\n",
    "    random_undersample = comb[2]\n",
    "    text_vectorizer = comb[3]\n",
    "    lsa_dims = comb[4]\n",
    "    shortest_dep_path = comb[5]\n",
    "    \n",
    "    # determine name\n",
    "    pkl_name = 'results_dict,'\n",
    "    if shortest_dep_path:\n",
    "        pkl_name += 'ShortDepPath,'\n",
    "    elif trim_text:\n",
    "        pkl_name += 'trim='+str(trim_window)+','\n",
    "    if use_lemmas:\n",
    "        pkl_name += 'lemmas'+','\n",
    "    if random_undersample:\n",
    "        pkl_name += ',RuS'+','\n",
    "    #CV, TFIDF\n",
    "    if isinstance(text_vectorizer, TfidfVectorizer):\n",
    "        pkl_name += ',TfIdf_'+','\n",
    "    elif isinstance(text_vectorizer, CountVectorizer):\n",
    "        pkl_name += ',CV_'+','      \n",
    "    if text_vectorizer.binary:\n",
    "        pkl_name += 'bin_'+','\n",
    "    if text_vectorizer.min_df:\n",
    "        pkl_name += 'minFreq='+str(text_vectorizer.min_df)+','\n",
    "    if text_vectorizer.stop_words:\n",
    "        pkl_name += '_stopw='+str(text_vectorizer.stop_words)+','\n",
    "    if text_vectorizer.ngram_range:\n",
    "        pkl_name += '_ngrams='+str(text_vectorizer.ngram_range)+','\n",
    "    if lsa_dims:\n",
    "        pkl_name += ',LSA'+str(lsa_dims)+','\n",
    "    pkl_name = pkl_name.replace(',,',',')\n",
    "    \n",
    "    # Debug pkl name\n",
    "    if debug:\n",
    "        print pkl_name\n",
    "        continue\n",
    "    \n",
    "    \n",
    "    print 'Saving as: \\n'+pkl_name.strip(',')+'.pkl'\n",
    "    print time.time() - start_time\n",
    "    print ''\n",
    "    \n",
    "    if os.path.isfile(path_base_learners+'/'+pkl_name+'.pkl'):\n",
    "        \n",
    "        print pkl_name,\"exists, skipping . . .\"\n",
    "        continue\n",
    "    \n",
    "    if shortest_dep_path:\n",
    "        #reload from pickle df_train,val,test etc\n",
    "        try:\n",
    "            with open(path_base_learners+'/sdp/SDP_df_TrainValTestUnlab.pickle' , 'rb') as f:\n",
    "                (df_train, df_val, df_test, df_unlab) = pickle.load(f)\n",
    "        except:\n",
    "            # create it and save it\n",
    "            df_train = candidate_dict_to_df(candidate_dict[0],trim_text=False, window=0, lemmas = True ,shortest_dep_path = shortest_dep_path)\n",
    "            df_val = candidate_dict_to_df(candidate_dict[1],trim_text=False, window=0, lemmas =  True ,shortest_dep_path = shortest_dep_path )\n",
    "            df_test = candidate_dict_to_df(candidate_dict[2],trim_text=False, window=0, lemmas = True ,shortest_dep_path = shortest_dep_path)\n",
    "            df_unlab = candidate_dict_to_df(candidate_dict[3],trim_text=False, window=0, lemmas = True ,shortest_dep_path = shortest_dep_path)\n",
    "            with open(path_base_learners+'/sdp/SDP_df_TrainValTestUnlab.pickle' , 'wb') as f:\n",
    "                pickle.dump((df_train, df_val, df_test, df_unlab),f)\n",
    "    else:\n",
    "        # create train/test set\n",
    "        df_train = candidate_dict_to_df(candidate_dict[0],trim_text=trim_text, window=trim_window, lemmas = use_lemmas ,shortest_dep_path = shortest_dep_path)\n",
    "        df_val = candidate_dict_to_df(candidate_dict[1],trim_text=trim_text, window=trim_window, lemmas =  use_lemmas,shortest_dep_path = shortest_dep_path )\n",
    "        df_test = candidate_dict_to_df(candidate_dict[2],trim_text=trim_text, window=trim_window, lemmas = use_lemmas ,shortest_dep_path = shortest_dep_path)\n",
    "        df_unlab = candidate_dict_to_df(candidate_dict[3],trim_text=trim_text, window=trim_window, lemmas = use_lemmas ,shortest_dep_path = shortest_dep_path)\n",
    "    \n",
    "    \n",
    "    # get indices (only for val, test, unlab) to zip with results in a dict\n",
    "    val_ids = list(df_val.index)\n",
    "    test_ids = list(df_test.index)\n",
    "    unlab_ids = list(df_unlab.index)\n",
    "    \n",
    "    \n",
    "    \n",
    "    #TODO: move random undersampling here (will fasten up algorithm)\n",
    "    \n",
    "    # text 2 matrix (CV/TF-idf)\n",
    "    X_train = text_vectorizer.fit_transform(df_train.text)\n",
    "    y_train = df_train.label\n",
    "    \n",
    "\n",
    "    X_val = text_vectorizer.transform(df_val.text)\n",
    "#     y_val = df_val.label # To delete    \n",
    "    \n",
    "    X_test = text_vectorizer.transform(df_test.text)\n",
    "#     y_test = df_test.label # To delete\n",
    "    \n",
    "    X_unlab = text_vectorizer.transform(df_unlab.text)\n",
    "#     y_unlab = df_unlab.label # To delete\n",
    "    \n",
    "    \n",
    "    #new\n",
    "    y_val_gold = dict(df_val.label)\n",
    "    y_test_gold = dict(df_test.label)\n",
    "    \n",
    "    \n",
    "    # LSA\n",
    "    if lsa_dims: #TODO save in diff. matrix to append later?\n",
    "        svd = TruncatedSVD(n_components=lsa_dims)\n",
    "        X_train_svd = svd.fit_transform(X_train)\n",
    "        X_val_svd = svd.transform(X_val)\n",
    "        X_test_svd = svd.transform(X_test)\n",
    "        X_unlab_svd = svd.transform(X_unlab)\n",
    "        \n",
    "        \n",
    "        if True:#TODO replace with concat keyword\n",
    "            X_train = hstack((X_train,X_train_svd))\n",
    "            X_val = hstack((X_val,X_val_svd))\n",
    "            X_test = hstack((X_test,X_test_svd))\n",
    "            X_unlab = hstack((X_unlab,X_unlab_svd))\n",
    "    \n",
    "    # undersampling\n",
    "    if random_undersample:\n",
    "#         print('Original dataset shape {}'.format(Counter(y_train)))\n",
    "        rus = RandomUnderSampler(random_state=42)\n",
    "        X_train, y_train = rus.fit_sample(X_train, y_train)\n",
    "#         print('Resampled dataset shape {}'.format(Counter(y_train)))\n",
    "\n",
    "    # train/predict, construct results_dict\n",
    "    results_dict = dict()\n",
    "    for model_name,model in models.iteritems():\n",
    "        print 'Training',model_name\n",
    "#         start_time = time.time()\n",
    "\n",
    "        try:\n",
    "            model.probability = True\n",
    "        except:\n",
    "            pass\n",
    "        \n",
    "        #train & predict\n",
    "        model.fit(X_train,y_train)\n",
    "        positive_class_position = list(model.classes_).index(1) #either 0 or 1, depending on model.classes_ (used to get + logits)\n",
    "                \n",
    "        logits = model.predict_proba(X_val)\n",
    "        y_val_pred_pos_logit = dict(zip(val_ids, get_positive_logit(logits, positive_class_position)))\n",
    "        y_val_pred_neg = dict(zip(val_ids, logits_to_neg_labels(logits))) #only used for evaluation\n",
    "        \n",
    "        #save classif report\n",
    "        class_report = report_to_df(\n",
    "            classif_report_from_dicts(y_val_gold, y_val_pred_neg)\n",
    "                                 )\n",
    "        print class_report\n",
    "        \n",
    "        if class_report.loc['1','f1-score']<0.5:\n",
    "            continue\n",
    "        \n",
    "        # perform predictions for the rest of the data\n",
    "        logits = model.predict_proba(X_test)\n",
    "        y_test_pred_pos_logit = dict(zip(test_ids, get_positive_logit(logits, positive_class_position)))\n",
    "        \n",
    "        logits = model.predict_proba(X_unlab)\n",
    "        y_unlab_pred_pos_logit = dict(zip(unlab_ids, get_positive_logit(logits, positive_class_position)))\n",
    "        \n",
    "#         To delete\n",
    "#         logits = model.predict()\n",
    "#         y_test_pred_pos_logit = dict(zip(test_ids, get_positive_logit(logits)))\n",
    "#         y_test_pred_bin = dict(zip(val_ids, logits_to_bin_labels(logits))) #only used for evaluation\n",
    "#         y_test_pred_neg = dict(zip(val_ids, logits_to_neg_labels(logits))) #only used for evaluation\n",
    "        \n",
    "        \n",
    "        # TODO: do smth for later, when true lbls not in place.\n",
    "        \n",
    "        results_dict[model_name] = {\n",
    "                                    \"label_val_prob+\" : y_val_pred_pos_logit,\n",
    "                                   \"label_test_prob+\" : y_test_pred_pos_logit,\n",
    "                                   \"label_unlab_prob+\" : y_unlab_pred_pos_logit,\n",
    "                                    \"classification_report\": class_report,\n",
    "                                    \"f1+\": class_report.loc['1','f1-score']\n",
    "                                   }\n",
    "#         print \"%s done. (%.2f sec)\"%(model_name,time.time()-start_time)\n",
    "    #save predictions in dict\n",
    "    \n",
    "    with open(path_base_learners+'/'+pkl_name+'.pkl', 'wb') as f:\n",
    "        pickle.dump(results_dict,f)\n",
    "        \n",
    "#     diversity_heatmap(results_dict, title = pkl_name)"
   ]
  },
  {
   "cell_type": "markdown",
   "metadata": {},
   "source": [
    "# ----------->\n",
    "# Open CNN-text-classification-keras-CDR and generate results for CNN"
   ]
  },
  {
   "cell_type": "markdown",
   "metadata": {},
   "source": [
    "# -------------------------------\n",
    "# Part 2 (snorkel LF)\n",
    "# -------------------------------"
   ]
  },
  {
   "cell_type": "code",
   "execution_count": 3,
   "metadata": {},
   "outputs": [],
   "source": [
    "import seaborn as sns\n",
    "from snorkel.annotations import save_marginals"
   ]
  },
  {
   "cell_type": "code",
   "execution_count": 4,
   "metadata": {},
   "outputs": [
    {
     "name": "stderr",
     "output_type": "stream",
     "text": [
      "/home/antonis/anaconda2/envs/snorkel27clone/lib/python2.7/site-packages/h5py/__init__.py:36: FutureWarning: Conversion of the second argument of issubdtype from `float` to `np.floating` is deprecated. In future, it will be treated as `np.float64 == np.dtype(float).type`.\n",
      "  from ._conv import register_converters as _register_converters\n"
     ]
    },
    {
     "name": "stdout",
     "output_type": "stream",
     "text": [
      "WARNING:tensorflow:From /home/antonis/anaconda2/envs/snorkel27clone/lib/python2.7/site-packages/tensorflow/contrib/learn/python/learn/datasets/base.py:198: retry (from tensorflow.contrib.learn.python.learn.datasets.base) is deprecated and will be removed in a future version.\n",
      "Instructions for updating:\n",
      "Use the retry module or similar alternatives.\n"
     ]
    }
   ],
   "source": [
    "from snorkel.lf_helpers import *\n",
    "import pickle,glob\n",
    "import pandas as pd\n",
    "from MLutils import cohen_kappa_score, plot_marginals_histogram, neg_to_bin_labels, diversity_heatmap, merge_pickles_pred_dicts\n"
   ]
  },
  {
   "cell_type": "code",
   "execution_count": 5,
   "metadata": {},
   "outputs": [],
   "source": [
    "# load gold labels \n",
    "L_gold_dev = load_gold_labels(session, annotator_name='gold', split=1)\n",
    "L_gold_test = load_gold_labels(session, annotator_name='gold', split=2)"
   ]
  },
  {
   "cell_type": "code",
   "execution_count": null,
   "metadata": {},
   "outputs": [],
   "source": []
  },
  {
   "cell_type": "code",
   "execution_count": 6,
   "metadata": {},
   "outputs": [
    {
     "name": "stdout",
     "output_type": "stream",
     "text": [
      "Adding 0 candidates from split=0 in to_drop list\n",
      "Adding 0 candidates from split=1 in to_drop list\n",
      "Adding 0 candidates from split=2 in to_drop list\n",
      "Adding 0 candidates from split=3 in to_drop list\n"
     ]
    }
   ],
   "source": [
    "# make sure unmapped cands are gone\n",
    "from sqlalchemy import  any_,or_,and_\n",
    "#create list of unmapped cands to drop\n",
    "to_drop = []\n",
    "for k in range(4):\n",
    "    query = session.query(ChemicalDisease).filter(and_(ChemicalDisease.split==k,~ChemicalDisease.gold_labels.any()))\n",
    "    print 'Adding %i candidates from split=%i in to_drop list'%(query.count(), k)\n",
    "    to_drop.extend(map(lambda x: x.id,query.all()))"
   ]
  },
  {
   "cell_type": "markdown",
   "metadata": {},
   "source": [
    "### Load from pickles & DB"
   ]
  },
  {
   "cell_type": "code",
   "execution_count": 7,
   "metadata": {},
   "outputs": [
    {
     "data": {
      "text/plain": [
       "['pickles/CDR/base_learner_predictions/KMeansPeaks/10clusters.pickle',\n",
       " 'pickles/CDR/base_learner_predictions/KMeansPeaks/13clusters.pickle',\n",
       " 'pickles/CDR/base_learner_predictions/KMeansPeaks/15clusters.pickle',\n",
       " 'pickles/CDR/base_learner_predictions/KMeansPeaks/20clusters.pickle',\n",
       " 'pickles/CDR/base_learner_predictions/KMeansPeaks/5clusters.pickle',\n",
       " 'pickles/CDR/base_learner_predictions/KMeansPeaks/6clusters.pickle']"
      ]
     },
     "execution_count": 7,
     "metadata": {},
     "output_type": "execute_result"
    }
   ],
   "source": [
    "l = glob.glob(path_base_learners+\"/KMeansPeaks/*.pickle\")\n",
    "l.sort()\n",
    "l"
   ]
  },
  {
   "cell_type": "code",
   "execution_count": 8,
   "metadata": {},
   "outputs": [
    {
     "name": "stdout",
     "output_type": "stream",
     "text": [
      "Proceeding with:  pickles/CDR/base_learner_predictions/KMeansPeaks/5clusters.pickle\n"
     ]
    }
   ],
   "source": [
    "result_dict_file = l[-2]\n",
    "print \"Proceeding with: \",result_dict_file"
   ]
  },
  {
   "cell_type": "code",
   "execution_count": 9,
   "metadata": {},
   "outputs": [
    {
     "name": "stdout",
     "output_type": "stream",
     "text": [
      "Loaded 5 models:\n",
      "\n"
     ]
    },
    {
     "data": {
      "text/plain": [
       "['results_dict,trim=5,lemmas,RuS,TfIdf_,minFreq=5,_ngrams=(0, 3)_SVC_rbf_C=75',\n",
       " 'results_dict,trim=0,lemmas,RuS,TfIdf_,minFreq=5,_stopw=english,_ngrams=(1, 1)_SVC_linear',\n",
       " 'results_dict,ShortDepPath,lemmas,RuS,TfIdf_,minFreq=5,_ngrams=(0, 3),LSA200_SVC_linear',\n",
       " 'results_dict,ShortDepPath,lemmas,RuS,CV_,bin_,minFreq=5,_stopw=english,_ngrams=(1, 1),LSA200_SVC_rbf_C=75',\n",
       " 'results_dict,trim=5,lemmas,RuS,TfIdf_,minFreq=5,_ngrams=(0, 3)_LogisticRegression']"
      ]
     },
     "execution_count": 9,
     "metadata": {},
     "output_type": "execute_result"
    }
   ],
   "source": [
    "with open(result_dict_file, 'rb') as f:\n",
    "    results_dict = pickle.load(f)\n",
    "print 'Loaded %i models:\\n' %len(results_dict)\n",
    "results_dict.keys()"
   ]
  },
  {
   "cell_type": "code",
   "execution_count": 10,
   "metadata": {},
   "outputs": [],
   "source": [
    "selected_models = results_dict.keys()\n",
    "selected_models.sort()"
   ]
  },
  {
   "cell_type": "code",
   "execution_count": 11,
   "metadata": {},
   "outputs": [],
   "source": [
    "#Convert labels to -1,1....\n",
    "for model in selected_models:\n",
    "    results_dict[model]['label_unlab'] = dict(zip(results_dict[model]['label_unlab_prob+'].keys(),(np.array(results_dict[model]['label_unlab_prob+'].values())>=0.5)*2-1))\n",
    "    results_dict[model]['label_val'] = dict(zip(results_dict[model]['label_val_prob+'].keys(),(np.array(results_dict[model]['label_val_prob+'].values())>=0.5)*2-1))\n",
    "#     results_dict[model]['label_train'] = dict(zip(results_dict[model]['label_train_prob+'].keys(),(np.array(results_dict[model]['label_val_prob+'].values())>=0.5)*2-1))\n",
    "    results_dict[model]['label_test'] = dict(zip(results_dict[model]['label_test_prob+'].keys(),(np.array(results_dict[model]['label_test_prob+'].values())>=0.5)*2-1))"
   ]
  },
  {
   "cell_type": "code",
   "execution_count": 12,
   "metadata": {},
   "outputs": [],
   "source": [
    "bl_scores = []\n",
    "for model in results_dict.keys():\n",
    "    bl_scores.append(results_dict[model]['f1+'])"
   ]
  },
  {
   "cell_type": "code",
   "execution_count": null,
   "metadata": {},
   "outputs": [],
   "source": []
  },
  {
   "cell_type": "code",
   "execution_count": null,
   "metadata": {},
   "outputs": [],
   "source": []
  },
  {
   "cell_type": "code",
   "execution_count": 13,
   "metadata": {},
   "outputs": [],
   "source": [
    "from MLutils import balance_candidates, sample_from_csr, majority_vote, majority_vote_score, average_vote, error_analysis"
   ]
  },
  {
   "cell_type": "code",
   "execution_count": 14,
   "metadata": {},
   "outputs": [],
   "source": [
    "# load unlabeled set labels (for exp3)\n",
    "L_gold_unlab = load_gold_labels(session, annotator_name='gold', split=3)"
   ]
  },
  {
   "cell_type": "code",
   "execution_count": 15,
   "metadata": {},
   "outputs": [],
   "source": [
    "L_gold_train = load_gold_labels(session, annotator_name='gold', split=0)"
   ]
  },
  {
   "cell_type": "code",
   "execution_count": null,
   "metadata": {},
   "outputs": [],
   "source": []
  },
  {
   "cell_type": "markdown",
   "metadata": {},
   "source": [
    "### Port results into snorkel"
   ]
  },
  {
   "cell_type": "code",
   "execution_count": 16,
   "metadata": {},
   "outputs": [],
   "source": [
    "from MLutils import diversity_matrix, reduce_results_dict\n",
    "from sklearn.metrics import accuracy_score, cohen_kappa_score\n",
    "from snorkel.annotations import LabelAnnotator"
   ]
  },
  {
   "cell_type": "code",
   "execution_count": 17,
   "metadata": {},
   "outputs": [],
   "source": [
    "# Include the results for validation data\n",
    "def signal_annotator_unlab_val(c):\n",
    "    \"\"\"A generator over the different (worker_id, label_id) pairs for a Tweet.\"\"\"\n",
    "    for model in results_dict.keys():\n",
    "        try:\n",
    "            yield model, results_dict[model]['label_unlab'][c.id]\n",
    "            \n",
    "        except:\n",
    "            try:\n",
    "                yield model, results_dict[model]['label_val'][c.id]\n",
    "            except:\n",
    "                yield model, results_dict[model]['label_test'][c.id]\n",
    "\n",
    "labeler = LabelAnnotator(label_generator=signal_annotator_unlab_val)"
   ]
  },
  {
   "cell_type": "code",
   "execution_count": 18,
   "metadata": {
    "scrolled": true
   },
   "outputs": [
    {
     "name": "stdout",
     "output_type": "stream",
     "text": [
      "Clearing existing...\n",
      "Running UDF...\n",
      "CPU times: user 27.4 s, sys: 1.45 s, total: 28.9 s\n",
      "Wall time: 1min 44s\n"
     ]
    },
    {
     "data": {
      "text/plain": [
       "<5576x5 sparse matrix of type '<type 'numpy.int64'>'\n",
       "\twith 27880 stored elements in Compressed Sparse Row format>"
      ]
     },
     "execution_count": 18,
     "metadata": {},
     "output_type": "execute_result"
    }
   ],
   "source": [
    "#regenerate L_unlab - Takes about 1h for 12 voters (100% coverage)\n",
    "\n",
    "%time L_unlab = labeler.apply(split=3, parallelism=6)\n",
    "L_unlab"
   ]
  },
  {
   "cell_type": "code",
   "execution_count": 19,
   "metadata": {},
   "outputs": [
    {
     "name": "stdout",
     "output_type": "stream",
     "text": [
      "Clearing existing...\n",
      "Running UDF...\n",
      "Clearing existing...\n",
      "Running UDF...\n"
     ]
    }
   ],
   "source": [
    "# load validation & test set & their labels (to compute majority votes etc)\n",
    "L_dev = labeler.apply_existing(split=1, parallelism=6)\n",
    "L_test = labeler.apply_existing(split=2, parallelism=6)"
   ]
  },
  {
   "cell_type": "code",
   "execution_count": 20,
   "metadata": {},
   "outputs": [],
   "source": [
    "#TODO? : save scr in pickle for analysis"
   ]
  },
  {
   "cell_type": "code",
   "execution_count": 21,
   "metadata": {},
   "outputs": [],
   "source": [
    "from utils import check_class_imbalance"
   ]
  },
  {
   "cell_type": "markdown",
   "metadata": {},
   "source": [
    "** Check maj voting  ** "
   ]
  },
  {
   "cell_type": "code",
   "execution_count": 22,
   "metadata": {},
   "outputs": [
    {
     "name": "stdout",
     "output_type": "stream",
     "text": [
      "\n",
      "Predicted class imbalance by maj voting:\n",
      "0    0.560438\n",
      "1    0.439562\n",
      "dtype: float64\n"
     ]
    },
    {
     "data": {
      "image/png": "[encoded data removed]",
      "text/plain": [
       "<Figure size 432x288 with 1 Axes>"
      ]
     },
     "metadata": {},
     "output_type": "display_data"
    }
   ],
   "source": [
    "maj_vote_labels = majority_vote(L_unlab)\n",
    "pd.Series(maj_vote_labels).hist(bins=41)\n",
    "print \"\\nPredicted class imbalance by maj voting:\"\n",
    "print check_class_imbalance(maj_vote_labels)"
   ]
  },
  {
   "cell_type": "code",
   "execution_count": 23,
   "metadata": {},
   "outputs": [
    {
     "name": "stdout",
     "output_type": "stream",
     "text": [
      "Majority voting (val set):\n",
      "\n",
      "(0.49740932642487046, 0.6274509803921569, 0.5549132947976878)\n",
      "Majority voting (test set):\n",
      "\n",
      "(0.4942643391521197, 0.6541254125412541, 0.5630681818181817)\n"
     ]
    }
   ],
   "source": [
    "print \"Majority voting (val set):\\n\"\n",
    "print majority_vote_score(L_dev, L_gold_dev)\n",
    "print \"Majority voting (test set):\\n\"\n",
    "print majority_vote_score(L_test, L_gold_test)"
   ]
  },
  {
   "cell_type": "code",
   "execution_count": 24,
   "metadata": {},
   "outputs": [
    {
     "data": {
      "image/png": "[encoded data removed]",
      "text/plain": [
       "<Figure size 432x288 with 1 Axes>"
      ]
     },
     "metadata": {},
     "output_type": "display_data"
    }
   ],
   "source": [
    "error_analysis(L_dev, L_gold_dev, majority_voting=True)"
   ]
  },
  {
   "cell_type": "markdown",
   "metadata": {},
   "source": [
    "** Check avg voting **"
   ]
  },
  {
   "cell_type": "code",
   "execution_count": 25,
   "metadata": {},
   "outputs": [
    {
     "data": {
      "text/plain": [
       "<matplotlib.axes._subplots.AxesSubplot at 0x7f3423e86050>"
      ]
     },
     "execution_count": 25,
     "metadata": {},
     "output_type": "execute_result"
    },
    {
     "data": {
      "image/png": "[encoded data removed]",
      "text/plain": [
       "<Figure size 432x288 with 1 Axes>"
      ]
     },
     "metadata": {},
     "output_type": "display_data"
    }
   ],
   "source": [
    "# get average of votes based on the preds of base classifiers\n",
    "avg_vote_labels = average_vote(L_unlab)\n",
    "pd.Series(avg_vote_labels).hist(bins=41)"
   ]
  },
  {
   "cell_type": "code",
   "execution_count": 26,
   "metadata": {},
   "outputs": [
    {
     "data": {
      "image/png": "[encoded data removed]",
      "text/plain": [
       "<Figure size 432x288 with 1 Axes>"
      ]
     },
     "metadata": {},
     "output_type": "display_data"
    }
   ],
   "source": [
    "error_analysis(L_dev, L_gold_dev, average_voting=True)"
   ]
  },
  {
   "cell_type": "code",
   "execution_count": 27,
   "metadata": {},
   "outputs": [],
   "source": [
    "# # save avg vote labels as toy example for the new eval metric\n",
    "# with open(pkl_paths+\"new_eval_metric/13models_avg_voting_labels.pkl\", 'wb') as f:\n",
    "#     pickle.dump(avg_vote_labels, f)"
   ]
  },
  {
   "cell_type": "markdown",
   "metadata": {},
   "source": [
    "### Denoising"
   ]
  },
  {
   "cell_type": "markdown",
   "metadata": {},
   "source": [
    "#### Find dependencies between LFs\n"
   ]
  },
  {
   "cell_type": "code",
   "execution_count": 28,
   "metadata": {},
   "outputs": [],
   "source": [
    "from itertools import combinations"
   ]
  },
  {
   "cell_type": "code",
   "execution_count": 29,
   "metadata": {},
   "outputs": [],
   "source": [
    "from snorkel.learning.structure import DependencySelector\n",
    "ds = DependencySelector()"
   ]
  },
  {
   "cell_type": "code",
   "execution_count": 30,
   "metadata": {},
   "outputs": [
    {
     "name": "stdout",
     "output_type": "stream",
     "text": [
      "[10, 10, 10, 10, 10, 10, 10, 9]\n",
      "[9, 10]\n",
      "Maximum nr of dependencies: 10\n"
     ]
    }
   ],
   "source": [
    "# Generate all possible dependencies with threshold from 0 to 0.15\n",
    "all_deps = [ds.select(L_unlab, threshold=thresh) for thresh in np.array(range(0.1,15.1,2.5))/100.]\n",
    "print list(map(lambda x: len(x) ,all_deps))\n",
    "all_deps = list(np.unique(all_deps)) # delete duplicates for gridsearch\n",
    "print list(map(lambda x: len(x) ,all_deps))\n",
    "\n",
    "print \"Maximum nr of dependencies: %i\" %len(list(combinations(L_dev.col_index.values(),2)))"
   ]
  },
  {
   "cell_type": "markdown",
   "metadata": {},
   "source": [
    "#### GM training"
   ]
  },
  {
   "cell_type": "code",
   "execution_count": 31,
   "metadata": {},
   "outputs": [],
   "source": [
    "from snorkel.learning import RandomSearch, GenerativeModel, GridSearch"
   ]
  },
  {
   "cell_type": "code",
   "execution_count": 32,
   "metadata": {},
   "outputs": [],
   "source": [
    "param_ranges = { # parameters for the train function of the GenerativeModel\n",
    "    'step_size' : [10./L_unlab.shape[0],\n",
    "                  1./L_unlab.shape[0],\n",
    "                   20./L_unlab.shape[0],\n",
    "                   0.1/L_unlab.shape[0],\n",
    "                  ],\n",
    "    'decay' : [0.99,0.95],\n",
    "    'epochs' : [100],\n",
    "    'reg_param': [.5 , 1, 3, 7, 1e2 ,1e5 , 1e10, 1e20 ],\n",
    "    'deps': all_deps\n",
    "}\n",
    "\n",
    "model_class_params = {  # parameters for the GenerativeModel\n",
    "    'lf_propensity': [True]\n",
    "}\n",
    "\n",
    "searcher = RandomSearch(GenerativeModel, param_ranges,  L_unlab, model_class_params = model_class_params , n=24 )\n",
    "# searcher = GridSearch(GenerativeModel, param_ranges,  L_unlab, model_class_params = model_class_params  )\n"
   ]
  },
  {
   "cell_type": "code",
   "execution_count": null,
   "metadata": {},
   "outputs": [],
   "source": []
  },
  {
   "cell_type": "code",
   "execution_count": 33,
   "metadata": {
    "scrolled": true
   },
   "outputs": [
    {
     "name": "stdout",
     "output_type": "stream",
     "text": [
      "Loading data...\n",
      "Launching jobs...\n",
      "Inferred cardinality: 2\n",
      "Inferred cardinality: 2\n",
      "Inferred cardinality: 2\n",
      "Inferred cardinality: 2\n",
      "Inferred cardinality: 2\n",
      "Inferred cardinality: 2\n",
      "[GenerativeModel] Model saved as <GenerativeModel_5>.\n",
      "[GenerativeModel] Model saved as <GenerativeModel_0>.\n",
      "Inferred cardinality: 2\n",
      "Model 5 Done; score: 0.498337429545\n",
      "Inferred cardinality: 2\n",
      "Model 0 Done; score: 0.498337429545\n",
      "[GenerativeModel] Model saved as <GenerativeModel_1>.\n",
      "[GenerativeModel] Model saved as <GenerativeModel_4>.\n",
      "[GenerativeModel] Model saved as <GenerativeModel_3>.\n",
      "Inferred cardinality: 2\n",
      "Model 1 Done; score: 0.498408478152\n",
      "[GenerativeModel] Model saved as <GenerativeModel_2>.\n",
      "Inferred cardinality: 2\n",
      "Model 3 Done; score: 0.498487524072\n",
      "Inferred cardinality: 2\n",
      "Model 4 Done; score: 0.498337429545\n",
      "Inferred cardinality: 2\n",
      "Model 2 Done; score: 0.498408478152\n",
      "[GenerativeModel] Model saved as <GenerativeModel_6>.\n",
      "Inferred cardinality: 2\n",
      "Model 6 Done; score: 0.498487524072\n",
      "[GenerativeModel] Model saved as <GenerativeModel_7>.\n",
      "Inferred cardinality: 2\n",
      "Model 7 Done; score: 0.498337429545\n",
      "[GenerativeModel] Model saved as <GenerativeModel_11>.\n",
      "[GenerativeModel] Model saved as <GenerativeModel_8>.\n",
      "Inferred cardinality: 2\n",
      "Model 11 Done; score: 0.496783490878\n",
      "[GenerativeModel] Model saved as <GenerativeModel_9>.\n",
      "[GenerativeModel] Model saved as <GenerativeModel_10>.\n",
      "Inferred cardinality: 2\n",
      "Model 8 Done; score: 0.497226111439\n",
      "Inferred cardinality: 2\n",
      "Model 9 Done; score: 0.496937549097\n",
      "Inferred cardinality: 2\n",
      "Model 10 Done; score: 0.498337429545\n",
      "[GenerativeModel] Model saved as <GenerativeModel_13>.\n",
      "[GenerativeModel] Model saved as <GenerativeModel_12>.\n",
      "Inferred cardinality: 2\n",
      "Model 13 Done; score: 0.498337429545\n",
      "Inferred cardinality: 2\n",
      "Model 12 Done; score: 0.498184962921\n",
      "[GenerativeModel] Model saved as <GenerativeModel_14>.\n",
      "Inferred cardinality: 2\n",
      "Model 14 Done; score: 0.497294734176\n",
      "[GenerativeModel] Model saved as <GenerativeModel_17>.\n",
      "[GenerativeModel] Model saved as <GenerativeModel_16>.\n",
      "Inferred cardinality: 2\n",
      "[GenerativeModel] Model saved as <GenerativeModel_15>.\n",
      "Model 17 Done; score: 0.498553014899\n",
      "Inferred cardinality: 2\n",
      "Model 16 Done; score: 0.498337429545\n",
      "[GenerativeModel] Model saved as <GenerativeModel_18>.\n",
      "Inferred cardinality: 2\n",
      "Model 15 Done; score: 0.498265498353\n",
      "[GenerativeModel] Model saved as <GenerativeModel_19>.\n",
      "Model 18 Done; score: 0.498337429545\n",
      "Model 19 Done; score: 0.497459998643\n",
      "[GenerativeModel] Model saved as <GenerativeModel_20>.\n",
      "Model 20 Done; score: 0.49856422613\n",
      "[GenerativeModel] Model saved as <GenerativeModel_21>.\n",
      "[GenerativeModel] Model saved as <GenerativeModel_22>.\n",
      "Model 21 Done; score: 0.498132842409\n",
      "Model 22 Done; score: 0.498337429545\n",
      "[GenerativeModel] Model saved as <GenerativeModel_23>.\n",
      "Model 23 Done; score: 0.498337429545\n",
      "[GenerativeModel] Model <GenerativeModel_20> loaded.\n",
      "[GenerativeModel] Model saved as <GenerativeModel_best>.\n",
      "CPU times: user 100 ms, sys: 62.7 ms, total: 163 ms\n",
      "Wall time: 1min 38s\n"
     ]
    }
   ],
   "source": [
    "%%time\n",
    "\n",
    "try:\n",
    "    del run_stats\n",
    "except:\n",
    "    pass\n",
    "\n",
    "gen_model, run_stats = searcher.fit(L_dev, L_gold_dev, n_threads=6 )"
   ]
  },
  {
   "cell_type": "code",
   "execution_count": null,
   "metadata": {},
   "outputs": [],
   "source": []
  },
  {
   "cell_type": "code",
   "execution_count": null,
   "metadata": {},
   "outputs": [],
   "source": []
  },
  {
   "cell_type": "markdown",
   "metadata": {},
   "source": [
    "** Do some analysis on generative model results **"
   ]
  },
  {
   "cell_type": "code",
   "execution_count": 34,
   "metadata": {},
   "outputs": [],
   "source": [
    "run_stats['#deps'] = list(map(lambda x: len(run_stats.deps[x]), run_stats.index)) # save # deps to identify 'deps'"
   ]
  },
  {
   "cell_type": "code",
   "execution_count": 35,
   "metadata": {},
   "outputs": [],
   "source": [
    "new_scores = {\"Prec.\": \"F-1\",\n",
    " \"Rec.\": \"Weighted Log Loss\",\n",
    " \"F-1\": \"Average Precision\"\n",
    "}"
   ]
  },
  {
   "cell_type": "code",
   "execution_count": 36,
   "metadata": {},
   "outputs": [
    {
     "name": "stdout",
     "output_type": "stream",
     "text": [
      "Generative Model params:\n",
      "\n"
     ]
    },
    {
     "data": {
      "text/html": [
       "<div>\n",
       "<style scoped>\n",
       "    .dataframe tbody tr th:only-of-type {\n",
       "        vertical-align: middle;\n",
       "    }\n",
       "\n",
       "    .dataframe tbody tr th {\n",
       "        vertical-align: top;\n",
       "    }\n",
       "\n",
       "    .dataframe thead th {\n",
       "        text-align: right;\n",
       "    }\n",
       "</style>\n",
       "<table border=\"1\" class=\"dataframe\">\n",
       "  <thead>\n",
       "    <tr style=\"text-align: right;\">\n",
       "      <th></th>\n",
       "      <th>Model</th>\n",
       "      <th>epochs</th>\n",
       "      <th>step_size</th>\n",
       "      <th>reg_param</th>\n",
       "      <th>decay</th>\n",
       "      <th>F-1</th>\n",
       "      <th>Weighted Log Loss</th>\n",
       "      <th>Average Precision</th>\n",
       "      <th>#deps</th>\n",
       "    </tr>\n",
       "  </thead>\n",
       "  <tbody>\n",
       "    <tr>\n",
       "      <th>20</th>\n",
       "      <td>20</td>\n",
       "      <td>100</td>\n",
       "      <td>0.003587</td>\n",
       "      <td>1.000000e+00</td>\n",
       "      <td>0.95</td>\n",
       "      <td>0.554913</td>\n",
       "      <td>-2.113246</td>\n",
       "      <td>0.498564</td>\n",
       "      <td>10</td>\n",
       "    </tr>\n",
       "    <tr>\n",
       "      <th>15</th>\n",
       "      <td>17</td>\n",
       "      <td>100</td>\n",
       "      <td>0.000018</td>\n",
       "      <td>1.000000e+05</td>\n",
       "      <td>0.99</td>\n",
       "      <td>0.554913</td>\n",
       "      <td>-2.156581</td>\n",
       "      <td>0.498553</td>\n",
       "      <td>9</td>\n",
       "    </tr>\n",
       "    <tr>\n",
       "      <th>3</th>\n",
       "      <td>3</td>\n",
       "      <td>100</td>\n",
       "      <td>0.003587</td>\n",
       "      <td>1.000000e+02</td>\n",
       "      <td>0.99</td>\n",
       "      <td>0.554913</td>\n",
       "      <td>-2.158915</td>\n",
       "      <td>0.498488</td>\n",
       "      <td>10</td>\n",
       "    </tr>\n",
       "    <tr>\n",
       "      <th>6</th>\n",
       "      <td>6</td>\n",
       "      <td>100</td>\n",
       "      <td>0.003587</td>\n",
       "      <td>1.000000e+02</td>\n",
       "      <td>0.99</td>\n",
       "      <td>0.554913</td>\n",
       "      <td>-2.158915</td>\n",
       "      <td>0.498488</td>\n",
       "      <td>10</td>\n",
       "    </tr>\n",
       "    <tr>\n",
       "      <th>2</th>\n",
       "      <td>1</td>\n",
       "      <td>100</td>\n",
       "      <td>0.000179</td>\n",
       "      <td>1.000000e+10</td>\n",
       "      <td>0.95</td>\n",
       "      <td>0.554913</td>\n",
       "      <td>-2.156576</td>\n",
       "      <td>0.498408</td>\n",
       "      <td>9</td>\n",
       "    </tr>\n",
       "    <tr>\n",
       "      <th>5</th>\n",
       "      <td>2</td>\n",
       "      <td>100</td>\n",
       "      <td>0.003587</td>\n",
       "      <td>1.000000e+05</td>\n",
       "      <td>0.95</td>\n",
       "      <td>0.554913</td>\n",
       "      <td>-2.156589</td>\n",
       "      <td>0.498408</td>\n",
       "      <td>10</td>\n",
       "    </tr>\n",
       "    <tr>\n",
       "      <th>0</th>\n",
       "      <td>5</td>\n",
       "      <td>100</td>\n",
       "      <td>0.003587</td>\n",
       "      <td>5.000000e-01</td>\n",
       "      <td>0.99</td>\n",
       "      <td>0.554913</td>\n",
       "      <td>-2.016720</td>\n",
       "      <td>0.498337</td>\n",
       "      <td>9</td>\n",
       "    </tr>\n",
       "    <tr>\n",
       "      <th>1</th>\n",
       "      <td>0</td>\n",
       "      <td>100</td>\n",
       "      <td>0.003587</td>\n",
       "      <td>7.000000e+00</td>\n",
       "      <td>0.95</td>\n",
       "      <td>0.554913</td>\n",
       "      <td>-2.168867</td>\n",
       "      <td>0.498337</td>\n",
       "      <td>9</td>\n",
       "    </tr>\n",
       "    <tr>\n",
       "      <th>22</th>\n",
       "      <td>22</td>\n",
       "      <td>100</td>\n",
       "      <td>0.000018</td>\n",
       "      <td>1.000000e+02</td>\n",
       "      <td>0.95</td>\n",
       "      <td>0.554913</td>\n",
       "      <td>-2.157878</td>\n",
       "      <td>0.498337</td>\n",
       "      <td>9</td>\n",
       "    </tr>\n",
       "    <tr>\n",
       "      <th>18</th>\n",
       "      <td>18</td>\n",
       "      <td>100</td>\n",
       "      <td>0.000179</td>\n",
       "      <td>5.000000e-01</td>\n",
       "      <td>0.95</td>\n",
       "      <td>0.554913</td>\n",
       "      <td>-1.995831</td>\n",
       "      <td>0.498337</td>\n",
       "      <td>9</td>\n",
       "    </tr>\n",
       "    <tr>\n",
       "      <th>16</th>\n",
       "      <td>16</td>\n",
       "      <td>100</td>\n",
       "      <td>0.003587</td>\n",
       "      <td>5.000000e-01</td>\n",
       "      <td>0.95</td>\n",
       "      <td>0.554913</td>\n",
       "      <td>-1.993433</td>\n",
       "      <td>0.498337</td>\n",
       "      <td>9</td>\n",
       "    </tr>\n",
       "    <tr>\n",
       "      <th>12</th>\n",
       "      <td>13</td>\n",
       "      <td>100</td>\n",
       "      <td>0.000179</td>\n",
       "      <td>3.000000e+00</td>\n",
       "      <td>0.95</td>\n",
       "      <td>0.554913</td>\n",
       "      <td>-2.171124</td>\n",
       "      <td>0.498337</td>\n",
       "      <td>10</td>\n",
       "    </tr>\n",
       "    <tr>\n",
       "      <th>11</th>\n",
       "      <td>10</td>\n",
       "      <td>100</td>\n",
       "      <td>0.000018</td>\n",
       "      <td>3.000000e+00</td>\n",
       "      <td>0.99</td>\n",
       "      <td>0.554913</td>\n",
       "      <td>-2.171993</td>\n",
       "      <td>0.498337</td>\n",
       "      <td>9</td>\n",
       "    </tr>\n",
       "    <tr>\n",
       "      <th>7</th>\n",
       "      <td>7</td>\n",
       "      <td>100</td>\n",
       "      <td>0.000179</td>\n",
       "      <td>1.000000e+00</td>\n",
       "      <td>0.95</td>\n",
       "      <td>0.554913</td>\n",
       "      <td>-2.119835</td>\n",
       "      <td>0.498337</td>\n",
       "      <td>9</td>\n",
       "    </tr>\n",
       "    <tr>\n",
       "      <th>4</th>\n",
       "      <td>4</td>\n",
       "      <td>100</td>\n",
       "      <td>0.001793</td>\n",
       "      <td>5.000000e-01</td>\n",
       "      <td>0.99</td>\n",
       "      <td>0.554913</td>\n",
       "      <td>-2.008114</td>\n",
       "      <td>0.498337</td>\n",
       "      <td>9</td>\n",
       "    </tr>\n",
       "    <tr>\n",
       "      <th>23</th>\n",
       "      <td>23</td>\n",
       "      <td>100</td>\n",
       "      <td>0.000179</td>\n",
       "      <td>1.000000e+02</td>\n",
       "      <td>0.95</td>\n",
       "      <td>0.554913</td>\n",
       "      <td>-2.157854</td>\n",
       "      <td>0.498337</td>\n",
       "      <td>10</td>\n",
       "    </tr>\n",
       "    <tr>\n",
       "      <th>17</th>\n",
       "      <td>15</td>\n",
       "      <td>100</td>\n",
       "      <td>0.000179</td>\n",
       "      <td>1.000000e+20</td>\n",
       "      <td>0.95</td>\n",
       "      <td>0.554913</td>\n",
       "      <td>-2.156576</td>\n",
       "      <td>0.498265</td>\n",
       "      <td>10</td>\n",
       "    </tr>\n",
       "    <tr>\n",
       "      <th>13</th>\n",
       "      <td>12</td>\n",
       "      <td>100</td>\n",
       "      <td>0.003587</td>\n",
       "      <td>1.000000e+20</td>\n",
       "      <td>0.99</td>\n",
       "      <td>0.554913</td>\n",
       "      <td>-2.157122</td>\n",
       "      <td>0.498185</td>\n",
       "      <td>9</td>\n",
       "    </tr>\n",
       "    <tr>\n",
       "      <th>21</th>\n",
       "      <td>21</td>\n",
       "      <td>100</td>\n",
       "      <td>0.001793</td>\n",
       "      <td>7.000000e+00</td>\n",
       "      <td>0.99</td>\n",
       "      <td>0.554913</td>\n",
       "      <td>-2.175167</td>\n",
       "      <td>0.498133</td>\n",
       "      <td>9</td>\n",
       "    </tr>\n",
       "    <tr>\n",
       "      <th>19</th>\n",
       "      <td>19</td>\n",
       "      <td>100</td>\n",
       "      <td>0.001793</td>\n",
       "      <td>1.000000e+20</td>\n",
       "      <td>0.95</td>\n",
       "      <td>0.554913</td>\n",
       "      <td>-2.156580</td>\n",
       "      <td>0.497460</td>\n",
       "      <td>9</td>\n",
       "    </tr>\n",
       "    <tr>\n",
       "      <th>14</th>\n",
       "      <td>14</td>\n",
       "      <td>100</td>\n",
       "      <td>0.001793</td>\n",
       "      <td>1.000000e+02</td>\n",
       "      <td>0.99</td>\n",
       "      <td>0.554913</td>\n",
       "      <td>-2.158556</td>\n",
       "      <td>0.497295</td>\n",
       "      <td>9</td>\n",
       "    </tr>\n",
       "    <tr>\n",
       "      <th>9</th>\n",
       "      <td>8</td>\n",
       "      <td>100</td>\n",
       "      <td>0.000018</td>\n",
       "      <td>1.000000e+20</td>\n",
       "      <td>0.95</td>\n",
       "      <td>0.554913</td>\n",
       "      <td>-2.156576</td>\n",
       "      <td>0.497226</td>\n",
       "      <td>10</td>\n",
       "    </tr>\n",
       "    <tr>\n",
       "      <th>10</th>\n",
       "      <td>9</td>\n",
       "      <td>100</td>\n",
       "      <td>0.003587</td>\n",
       "      <td>7.000000e+00</td>\n",
       "      <td>0.99</td>\n",
       "      <td>0.554913</td>\n",
       "      <td>-2.174595</td>\n",
       "      <td>0.496938</td>\n",
       "      <td>9</td>\n",
       "    </tr>\n",
       "    <tr>\n",
       "      <th>8</th>\n",
       "      <td>11</td>\n",
       "      <td>100</td>\n",
       "      <td>0.000179</td>\n",
       "      <td>1.000000e+02</td>\n",
       "      <td>0.99</td>\n",
       "      <td>0.554913</td>\n",
       "      <td>-2.158559</td>\n",
       "      <td>0.496783</td>\n",
       "      <td>10</td>\n",
       "    </tr>\n",
       "  </tbody>\n",
       "</table>\n",
       "</div>"
      ],
      "text/plain": [
       "    Model  epochs  step_size     reg_param  decay       F-1  \\\n",
       "20     20     100   0.003587  1.000000e+00   0.95  0.554913   \n",
       "15     17     100   0.000018  1.000000e+05   0.99  0.554913   \n",
       "3       3     100   0.003587  1.000000e+02   0.99  0.554913   \n",
       "6       6     100   0.003587  1.000000e+02   0.99  0.554913   \n",
       "2       1     100   0.000179  1.000000e+10   0.95  0.554913   \n",
       "5       2     100   0.003587  1.000000e+05   0.95  0.554913   \n",
       "0       5     100   0.003587  5.000000e-01   0.99  0.554913   \n",
       "1       0     100   0.003587  7.000000e+00   0.95  0.554913   \n",
       "22     22     100   0.000018  1.000000e+02   0.95  0.554913   \n",
       "18     18     100   0.000179  5.000000e-01   0.95  0.554913   \n",
       "16     16     100   0.003587  5.000000e-01   0.95  0.554913   \n",
       "12     13     100   0.000179  3.000000e+00   0.95  0.554913   \n",
       "11     10     100   0.000018  3.000000e+00   0.99  0.554913   \n",
       "7       7     100   0.000179  1.000000e+00   0.95  0.554913   \n",
       "4       4     100   0.001793  5.000000e-01   0.99  0.554913   \n",
       "23     23     100   0.000179  1.000000e+02   0.95  0.554913   \n",
       "17     15     100   0.000179  1.000000e+20   0.95  0.554913   \n",
       "13     12     100   0.003587  1.000000e+20   0.99  0.554913   \n",
       "21     21     100   0.001793  7.000000e+00   0.99  0.554913   \n",
       "19     19     100   0.001793  1.000000e+20   0.95  0.554913   \n",
       "14     14     100   0.001793  1.000000e+02   0.99  0.554913   \n",
       "9       8     100   0.000018  1.000000e+20   0.95  0.554913   \n",
       "10      9     100   0.003587  7.000000e+00   0.99  0.554913   \n",
       "8      11     100   0.000179  1.000000e+02   0.99  0.554913   \n",
       "\n",
       "    Weighted Log Loss  Average Precision  #deps  \n",
       "20          -2.113246           0.498564     10  \n",
       "15          -2.156581           0.498553      9  \n",
       "3           -2.158915           0.498488     10  \n",
       "6           -2.158915           0.498488     10  \n",
       "2           -2.156576           0.498408      9  \n",
       "5           -2.156589           0.498408     10  \n",
       "0           -2.016720           0.498337      9  \n",
       "1           -2.168867           0.498337      9  \n",
       "22          -2.157878           0.498337      9  \n",
       "18          -1.995831           0.498337      9  \n",
       "16          -1.993433           0.498337      9  \n",
       "12          -2.171124           0.498337     10  \n",
       "11          -2.171993           0.498337      9  \n",
       "7           -2.119835           0.498337      9  \n",
       "4           -2.008114           0.498337      9  \n",
       "23          -2.157854           0.498337     10  \n",
       "17          -2.156576           0.498265     10  \n",
       "13          -2.157122           0.498185      9  \n",
       "21          -2.175167           0.498133      9  \n",
       "19          -2.156580           0.497460      9  \n",
       "14          -2.158556           0.497295      9  \n",
       "9           -2.156576           0.497226     10  \n",
       "10          -2.174595           0.496938      9  \n",
       "8           -2.158559           0.496783     10  "
      ]
     },
     "execution_count": 36,
     "metadata": {},
     "output_type": "execute_result"
    }
   ],
   "source": [
    "print \"Generative Model params:\\n\"\n",
    "GM_eval = run_stats.drop('deps', axis=1).rename(new_scores,axis=1)\n",
    "GM_eval"
   ]
  },
  {
   "cell_type": "code",
   "execution_count": 37,
   "metadata": {
    "scrolled": true
   },
   "outputs": [
    {
     "name": "stdout",
     "output_type": "stream",
     "text": [
      "[GenerativeModel] Model <GenerativeModel_20> loaded.\n",
      "F-1                  0.554913\n",
      "Weighted Log Loss   -2.113246\n",
      "Average Precision    0.498564\n",
      "Name: 20, dtype: float64\n"
     ]
    },
    {
     "data": {
      "image/png": "[encoded data removed]",
      "text/plain": [
       "<Figure size 432x288 with 1 Axes>"
      ]
     },
     "metadata": {},
     "output_type": "display_data"
    },
    {
     "name": "stdout",
     "output_type": "stream",
     "text": [
      "\n",
      "************************************\n",
      "\n",
      "[GenerativeModel] Model <GenerativeModel_17> loaded.\n",
      "F-1                  0.554913\n",
      "Weighted Log Loss   -2.156581\n",
      "Average Precision    0.498553\n",
      "Name: 15, dtype: float64\n"
     ]
    },
    {
     "data": {
      "image/png": "[encoded data removed]",
      "text/plain": [
       "<Figure size 432x288 with 1 Axes>"
      ]
     },
     "metadata": {},
     "output_type": "display_data"
    },
    {
     "name": "stdout",
     "output_type": "stream",
     "text": [
      "\n",
      "************************************\n",
      "\n",
      "[GenerativeModel] Model <GenerativeModel_9> loaded.\n",
      "F-1                  0.554913\n",
      "Weighted Log Loss   -2.174595\n",
      "Average Precision    0.496938\n",
      "Name: 10, dtype: float64\n"
     ]
    },
    {
     "data": {
      "image/png": "[encoded data removed]",
      "text/plain": [
       "<Figure size 432x288 with 1 Axes>"
      ]
     },
     "metadata": {},
     "output_type": "display_data"
    },
    {
     "name": "stdout",
     "output_type": "stream",
     "text": [
      "\n",
      "************************************\n",
      "\n",
      "[GenerativeModel] Model <GenerativeModel_8> loaded.\n",
      "F-1                  0.554913\n",
      "Weighted Log Loss   -2.156576\n",
      "Average Precision    0.497226\n",
      "Name: 9, dtype: float64\n"
     ]
    },
    {
     "data": {
      "image/png": "[encoded data removed]",
      "text/plain": [
       "<Figure size 432x288 with 1 Axes>"
      ]
     },
     "metadata": {},
     "output_type": "display_data"
    },
    {
     "name": "stdout",
     "output_type": "stream",
     "text": [
      "\n",
      "************************************\n",
      "\n",
      "[GenerativeModel] Model <GenerativeModel_14> loaded.\n",
      "F-1                  0.554913\n",
      "Weighted Log Loss   -2.158556\n",
      "Average Precision    0.497295\n",
      "Name: 14, dtype: float64\n"
     ]
    },
    {
     "data": {
      "image/png": "[encoded data removed]",
      "text/plain": [
       "<Figure size 432x288 with 1 Axes>"
      ]
     },
     "metadata": {},
     "output_type": "display_data"
    },
    {
     "name": "stdout",
     "output_type": "stream",
     "text": [
      "\n",
      "************************************\n",
      "\n"
     ]
    }
   ],
   "source": [
    "for row in GM_eval.sort_values(\"F-1\",ascending=False)[:5].iterrows():\n",
    "#     print row,'\\n'\n",
    "    i=row[1]['Model']\n",
    "    gm = GenerativeModel()\n",
    "    gm.load(\"GenerativeModel_%i\"%i,save_dir=\"checkpoints/grid_search/\")\n",
    "    print row[1][['F-1','Weighted Log Loss', 'Average Precision']]\n",
    "    error_analysis(L_dev, L_gold_dev, gen_model=gm)\n",
    "    plt.show()\n",
    "    print \"\\n************************************\\n\""
   ]
  },
  {
   "cell_type": "markdown",
   "metadata": {},
   "source": [
    "#### Save marginals and proceed to LSTM training"
   ]
  },
  {
   "cell_type": "code",
   "execution_count": 38,
   "metadata": {},
   "outputs": [],
   "source": [
    "unlab_marginals_gen = gen_model.marginals(L_unlab)\n",
    "unlab_marginals_avg = average_vote(L_unlab)\n",
    "unlab_marginals_maj = majority_vote(L_unlab)"
   ]
  },
  {
   "cell_type": "code",
   "execution_count": 39,
   "metadata": {},
   "outputs": [],
   "source": [
    "# # saving marginals for reproduc\n",
    "\n",
    "# for lbls,name in zip([unlab_marginals_avg,unlab_marginals_gen,unlab_marginals_maj], ['unlab_marginals_avg','unlab_marginals_gen','unlab_marginals_maj'], ):\n",
    "#     with open(pkl_paths+\"6_models/\"+name, 'wb') as f:\n",
    "#         print \"Dumping %s\"%name\n",
    "#         pickle.dump(lbls, f)"
   ]
  },
  {
   "cell_type": "code",
   "execution_count": 40,
   "metadata": {},
   "outputs": [],
   "source": [
    "# # Load marginals \n",
    "\n",
    "# marginals = {}\n",
    "\n",
    "# for i,name in enumerate(['unlab_marginals_avg','unlab_marginals_gen','unlab_marginals_maj'], ):\n",
    "#     with open(pkl_paths+\"6_models/\"+name, 'rb') as f:\n",
    "#         print \"Loading %s\"%name\n",
    "#         marginals[i]= pickle.load( f)"
   ]
  },
  {
   "cell_type": "code",
   "execution_count": null,
   "metadata": {},
   "outputs": [],
   "source": []
  },
  {
   "cell_type": "code",
   "execution_count": null,
   "metadata": {},
   "outputs": [],
   "source": []
  },
  {
   "cell_type": "markdown",
   "metadata": {},
   "source": [
    "\n",
    "# -------------------------------\n",
    "# Meta-Learner training\n",
    "# -------------------------------"
   ]
  },
  {
   "cell_type": "code",
   "execution_count": 41,
   "metadata": {},
   "outputs": [],
   "source": [
    "from MLutils import balance_candidates"
   ]
  },
  {
   "cell_type": "code",
   "execution_count": 42,
   "metadata": {},
   "outputs": [],
   "source": [
    "from snorkel.learning import reRNN"
   ]
  },
  {
   "cell_type": "code",
   "execution_count": 43,
   "metadata": {},
   "outputs": [],
   "source": [
    "# needed to train the LSTM here\n",
    "train = session.query(ChemicalDisease).filter(ChemicalDisease.split == 0).order_by(ChemicalDisease.id).all()\n",
    "dev = session.query(ChemicalDisease).filter(ChemicalDisease.split == 1).order_by(ChemicalDisease.id).all()\n",
    "test = session.query(ChemicalDisease).filter(ChemicalDisease.split == 2).order_by(ChemicalDisease.id).all()\n",
    "unlab = session.query(ChemicalDisease).filter(ChemicalDisease.split == 3).order_by(ChemicalDisease.id).all()"
   ]
  },
  {
   "cell_type": "code",
   "execution_count": 44,
   "metadata": {},
   "outputs": [],
   "source": [
    "# if I get them from pickle\n",
    "# unlab_marginals_avg , unlab_marginals_gen, unlab_marginals_maj= marginals[0],marginals[1], marginals[2]"
   ]
  },
  {
   "cell_type": "code",
   "execution_count": 45,
   "metadata": {},
   "outputs": [
    {
     "data": {
      "image/png": "[encoded data removed]",
      "text/plain": [
       "<Figure size 432x288 with 1 Axes>"
      ]
     },
     "metadata": {},
     "output_type": "display_data"
    }
   ],
   "source": [
    "plot_marginals_histogram(unlab_marginals_gen, \n",
    "                         title = 'Histogram of marginals' ,\n",
    "                        bins = 20)"
   ]
  },
  {
   "cell_type": "code",
   "execution_count": 46,
   "metadata": {},
   "outputs": [],
   "source": [
    "# just to make sure that it keeps consistency\n",
    "train_labels = np.array([0 if train[x].gold_labels[0].value ==-1 else 1 for x in range(len(train))]) # load train labels to mix in LSTM\n",
    "dev_labels = np.array([0 if dev[x].gold_labels[0].value ==-1 else 1 for x in range(len(dev))]) # load train labels to mix in LSTM\n",
    "test_labels = np.array([0 if test[x].gold_labels[0].value ==-1 else 1 for x in range(len(test))]) # load train labels to mix in LSTM"
   ]
  },
  {
   "cell_type": "code",
   "execution_count": null,
   "metadata": {},
   "outputs": [],
   "source": []
  },
  {
   "cell_type": "code",
   "execution_count": 47,
   "metadata": {},
   "outputs": [],
   "source": [
    "# unlab_us,unlab_marginals_us = balance_candidates(unlab,unlab_marginals)\n",
    "\n",
    "# # TODO: balance candidates also in training set (change train_unlab_marginals below + train -> train_us in lstm.train)\n",
    "train_us, train_labels_us = balance_candidates(train,train_labels)\n",
    "\n",
    "train_unlab_marginals = np.append(train_labels_us, unlab_marginals_gen)"
   ]
  },
  {
   "cell_type": "code",
   "execution_count": 48,
   "metadata": {},
   "outputs": [
    {
     "data": {
      "image/png": "[encoded data removed]",
      "text/plain": [
       "<Figure size 432x288 with 1 Axes>"
      ]
     },
     "metadata": {},
     "output_type": "display_data"
    },
    {
     "data": {
      "image/png": "[encoded data removed]",
      "text/plain": [
       "<Figure size 432x288 with 1 Axes>"
      ]
     },
     "metadata": {},
     "output_type": "display_data"
    },
    {
     "data": {
      "image/png": "[encoded data removed]",
      "text/plain": [
       "<Figure size 432x288 with 1 Axes>"
      ]
     },
     "metadata": {},
     "output_type": "display_data"
    }
   ],
   "source": [
    "import matplotlib.pyplot as plt\n",
    "plt.hist(unlab_marginals_gen, bins=20, range=[0,1])\n",
    "plt.title('Histogram of probabilistic labels (outgoing citations)')\n",
    "plt.show()\n",
    "\n",
    "import matplotlib.pyplot as plt\n",
    "plt.hist(train_labels_us, bins=20, range=[0,1])\n",
    "plt.title('Histogram of GS labels')\n",
    "plt.show()\n",
    "\n",
    "# plt.hist(unlab_marginals_us, bins=20, range=[0,1])\n",
    "# plt.title('Histogram of probabilistic labels (unlab set, undersampled)')\n",
    "# plt.show()\n",
    "\n",
    "# plt.hist(train_labels_us, bins=20)\n",
    "# plt.title('Histogram of labels (train set)')\n",
    "# plt.show()\n",
    "\n",
    "plt.hist(train_unlab_marginals, bins=20)\n",
    "plt.title('Histogram of probabilistic labels (train+unlab set)')\n",
    "plt.show()\n"
   ]
  },
  {
   "cell_type": "markdown",
   "metadata": {},
   "source": [
    "### Train on unlab"
   ]
  },
  {
   "cell_type": "code",
   "execution_count": 49,
   "metadata": {},
   "outputs": [],
   "source": [
    "# GM marginals"
   ]
  },
  {
   "cell_type": "code",
   "execution_count": 50,
   "metadata": {},
   "outputs": [
    {
     "name": "stderr",
     "output_type": "stream",
     "text": [
      "/home/antonis/anaconda2/envs/snorkel27clone/lib/python2.7/site-packages/tensorflow/python/ops/gradients_impl.py:100: UserWarning: Converting sparse IndexedSlices to a dense Tensor of unknown shape. This may consume a large amount of memory.\n",
      "  \"Converting sparse IndexedSlices to a dense Tensor of unknown shape. \"\n"
     ]
    },
    {
     "name": "stdout",
     "output_type": "stream",
     "text": [
      "[reRNN] Training model\n",
      "[reRNN] n_train=4902  #epochs=20  batch size=64\n",
      "[reRNN] Epoch 0 (19.25s)\tAverage loss=0.680722\tDev F1=47.34\n",
      "[reRNN] Epoch 1 (39.16s)\tAverage loss=0.515068\tDev F1=39.01\n",
      "[reRNN] Model saved as <reRNN>\n",
      "[reRNN] Epoch 2 (61.46s)\tAverage loss=0.379205\tDev F1=45.60\n",
      "[reRNN] Model saved as <reRNN>\n",
      "[reRNN] Epoch 3 (85.07s)\tAverage loss=0.302107\tDev F1=48.83\n",
      "[reRNN] Model saved as <reRNN>\n",
      "[reRNN] Epoch 4 (107.22s)\tAverage loss=0.255536\tDev F1=51.36\n",
      "[reRNN] Model saved as <reRNN>\n",
      "[reRNN] Epoch 5 (129.61s)\tAverage loss=0.223501\tDev F1=51.09\n",
      "[reRNN] Epoch 6 (150.43s)\tAverage loss=0.198262\tDev F1=47.98\n",
      "[reRNN] Epoch 7 (171.28s)\tAverage loss=0.184252\tDev F1=52.21\n",
      "[reRNN] Model saved as <reRNN>\n",
      "[reRNN] Epoch 8 (192.61s)\tAverage loss=0.175938\tDev F1=50.24\n",
      "[reRNN] Epoch 9 (213.26s)\tAverage loss=0.165814\tDev F1=50.98\n",
      "[reRNN] Epoch 10 (233.78s)\tAverage loss=0.157912\tDev F1=52.26\n",
      "[reRNN] Model saved as <reRNN>\n",
      "[reRNN] Epoch 11 (256.04s)\tAverage loss=0.147931\tDev F1=51.57\n",
      "[reRNN] Epoch 12 (276.98s)\tAverage loss=0.146775\tDev F1=51.78\n",
      "[reRNN] Epoch 13 (297.37s)\tAverage loss=0.141539\tDev F1=50.95\n",
      "[reRNN] Epoch 14 (318.10s)\tAverage loss=0.136384\tDev F1=50.77\n",
      "[reRNN] Epoch 15 (338.89s)\tAverage loss=0.132742\tDev F1=50.58\n",
      "[reRNN] Epoch 16 (359.25s)\tAverage loss=0.131274\tDev F1=52.17\n",
      "[reRNN] Epoch 17 (379.56s)\tAverage loss=0.136163\tDev F1=52.19\n",
      "[reRNN] Epoch 18 (399.90s)\tAverage loss=0.133285\tDev F1=50.96\n",
      "[reRNN] Epoch 19 (420.57s)\tAverage loss=0.139068\tDev F1=51.83\n",
      "[reRNN] Training done (421.55s)\n",
      "INFO:tensorflow:Restoring parameters from checkpoints/reRNN/reRNN-10\n",
      "[reRNN] Loaded model <reRNN>\n"
     ]
    }
   ],
   "source": [
    "train_kwargs = {\n",
    "    'lr':         0.01,\n",
    "    'dim':        100,\n",
    "    'n_epochs':   20,\n",
    "    'dropout':    0.25,\n",
    "    'rebalance':  True,\n",
    "    'print_freq': 1,\n",
    "    'batch_size': 64,\n",
    "    'dev_ckpt_delay': 0\n",
    "}\n",
    "\n",
    "lstm = reRNN(seed=1701, deterministic=False)\n",
    "lstm.train(unlab, unlab_marginals_gen, X_dev=dev, Y_dev=L_gold_dev, **train_kwargs)"
   ]
  },
  {
   "cell_type": "code",
   "execution_count": null,
   "metadata": {},
   "outputs": [],
   "source": []
  },
  {
   "cell_type": "code",
   "execution_count": 51,
   "metadata": {},
   "outputs": [
    {
     "name": "stdout",
     "output_type": "stream",
     "text": [
      "(0.44941176470588234, 0.6241830065359477, 0.5225718194254446)\n",
      "(0.43653250773993807, 0.6514851485148515, 0.5227754237288135)\n",
      "========================================\n",
      "Scores (Un-adjusted)\n",
      "========================================\n",
      "Pos. class accuracy: 0.651\n",
      "Neg. class accuracy: 0.597\n",
      "Precision            0.437\n",
      "Recall               0.651\n",
      "F1                   0.523\n",
      "----------------------------------------\n",
      "TP: 987 | FP: 1274 | TN: 1891 | FN: 528\n",
      "========================================\n",
      "\n"
     ]
    }
   ],
   "source": [
    "print(lstm.score(dev,dev_labels))\n",
    "print(lstm.score(test,L_gold_test,batch_size=1024))\n",
    "tp, fp, tn, fn = lstm.error_analysis(session, test, L_gold_test, batch_size = 1024)"
   ]
  },
  {
   "cell_type": "code",
   "execution_count": null,
   "metadata": {},
   "outputs": [],
   "source": []
  },
  {
   "cell_type": "code",
   "execution_count": 52,
   "metadata": {},
   "outputs": [],
   "source": [
    "# AVG vote marginals"
   ]
  },
  {
   "cell_type": "code",
   "execution_count": 53,
   "metadata": {},
   "outputs": [
    {
     "name": "stderr",
     "output_type": "stream",
     "text": [
      "/home/antonis/anaconda2/envs/snorkel27clone/lib/python2.7/site-packages/tensorflow/python/ops/gradients_impl.py:100: UserWarning: Converting sparse IndexedSlices to a dense Tensor of unknown shape. This may consume a large amount of memory.\n",
      "  \"Converting sparse IndexedSlices to a dense Tensor of unknown shape. \"\n"
     ]
    },
    {
     "name": "stdout",
     "output_type": "stream",
     "text": [
      "[reRNN] Training model\n",
      "[reRNN] n_train=4902  #epochs=20  batch size=64\n",
      "[reRNN] Epoch 0 (20.00s)\tAverage loss=0.633173\tDev F1=46.39\n",
      "[reRNN] Epoch 1 (40.69s)\tAverage loss=0.527354\tDev F1=48.92\n",
      "[reRNN] Model saved as <reRNN>\n",
      "[reRNN] Epoch 2 (63.15s)\tAverage loss=0.463641\tDev F1=52.34\n",
      "[reRNN] Model saved as <reRNN>\n",
      "[reRNN] Epoch 3 (85.15s)\tAverage loss=0.424477\tDev F1=49.85\n",
      "[reRNN] Epoch 4 (105.59s)\tAverage loss=0.398851\tDev F1=51.14\n",
      "[reRNN] Epoch 5 (126.41s)\tAverage loss=0.385079\tDev F1=51.85\n",
      "[reRNN] Epoch 6 (147.21s)\tAverage loss=0.375104\tDev F1=51.95\n",
      "[reRNN] Epoch 7 (168.13s)\tAverage loss=0.368536\tDev F1=51.56\n",
      "[reRNN] Epoch 8 (188.67s)\tAverage loss=0.361204\tDev F1=51.70\n",
      "[reRNN] Epoch 9 (209.43s)\tAverage loss=0.359806\tDev F1=51.70\n",
      "[reRNN] Epoch 10 (230.00s)\tAverage loss=0.355312\tDev F1=51.49\n",
      "[reRNN] Epoch 11 (250.95s)\tAverage loss=0.350639\tDev F1=51.27\n",
      "[reRNN] Epoch 12 (271.85s)\tAverage loss=0.350136\tDev F1=51.94\n",
      "[reRNN] Epoch 13 (292.33s)\tAverage loss=0.347056\tDev F1=52.03\n",
      "[reRNN] Epoch 14 (313.15s)\tAverage loss=0.344990\tDev F1=53.16\n",
      "[reRNN] Model saved as <reRNN>\n",
      "[reRNN] Epoch 15 (335.55s)\tAverage loss=0.345370\tDev F1=50.31\n",
      "[reRNN] Epoch 16 (355.96s)\tAverage loss=0.344360\tDev F1=53.14\n",
      "[reRNN] Epoch 17 (376.35s)\tAverage loss=0.346097\tDev F1=49.59\n",
      "[reRNN] Epoch 18 (396.71s)\tAverage loss=0.351015\tDev F1=52.60\n",
      "[reRNN] Epoch 19 (417.42s)\tAverage loss=0.355359\tDev F1=53.33\n",
      "[reRNN] Model saved as <reRNN>\n",
      "[reRNN] Training done (418.86s)\n",
      "INFO:tensorflow:Restoring parameters from checkpoints/reRNN/reRNN-19\n",
      "[reRNN] Loaded model <reRNN>\n"
     ]
    }
   ],
   "source": [
    "lstm = reRNN(seed=1701, deterministic=False)\n",
    "lstm.train(unlab, unlab_marginals_avg, X_dev=dev, Y_dev=L_gold_dev, **train_kwargs)"
   ]
  },
  {
   "cell_type": "code",
   "execution_count": null,
   "metadata": {},
   "outputs": [],
   "source": []
  },
  {
   "cell_type": "code",
   "execution_count": 54,
   "metadata": {},
   "outputs": [
    {
     "name": "stdout",
     "output_type": "stream",
     "text": [
      "(0.463768115942029, 0.6274509803921569, 0.5333333333333333)\n",
      "(0.4460463084316295, 0.6739273927392739, 0.5368033648790747)\n",
      "========================================\n",
      "Scores (Un-adjusted)\n",
      "========================================\n",
      "Pos. class accuracy: 0.674\n",
      "Neg. class accuracy: 0.599\n",
      "Precision            0.446\n",
      "Recall               0.674\n",
      "F1                   0.537\n",
      "----------------------------------------\n",
      "TP: 1021 | FP: 1268 | TN: 1897 | FN: 494\n",
      "========================================\n",
      "\n"
     ]
    }
   ],
   "source": [
    "print(lstm.score(dev,dev_labels))\n",
    "print(lstm.score(test,L_gold_test,batch_size=1024))\n",
    "tp, fp, tn, fn = lstm.error_analysis(session, test, L_gold_test, batch_size = 1024)"
   ]
  },
  {
   "cell_type": "code",
   "execution_count": null,
   "metadata": {},
   "outputs": [],
   "source": []
  },
  {
   "cell_type": "code",
   "execution_count": 55,
   "metadata": {},
   "outputs": [],
   "source": [
    "# MV labels"
   ]
  },
  {
   "cell_type": "code",
   "execution_count": 56,
   "metadata": {},
   "outputs": [
    {
     "name": "stderr",
     "output_type": "stream",
     "text": [
      "/home/antonis/anaconda2/envs/snorkel27clone/lib/python2.7/site-packages/tensorflow/python/ops/gradients_impl.py:100: UserWarning: Converting sparse IndexedSlices to a dense Tensor of unknown shape. This may consume a large amount of memory.\n",
      "  \"Converting sparse IndexedSlices to a dense Tensor of unknown shape. \"\n"
     ]
    },
    {
     "name": "stdout",
     "output_type": "stream",
     "text": [
      "[reRNN] Training model\n",
      "[reRNN] n_train=4902  #epochs=20  batch size=64\n",
      "[reRNN] Epoch 0 (19.99s)\tAverage loss=0.617187\tDev F1=47.62\n",
      "[reRNN] Epoch 1 (40.57s)\tAverage loss=0.413104\tDev F1=48.93\n",
      "[reRNN] Model saved as <reRNN>\n",
      "[reRNN] Epoch 2 (63.11s)\tAverage loss=0.295960\tDev F1=49.70\n",
      "[reRNN] Model saved as <reRNN>\n",
      "[reRNN] Epoch 3 (85.25s)\tAverage loss=0.210926\tDev F1=50.62\n",
      "[reRNN] Model saved as <reRNN>\n",
      "[reRNN] Epoch 4 (107.24s)\tAverage loss=0.156856\tDev F1=47.62\n",
      "[reRNN] Epoch 5 (128.20s)\tAverage loss=0.127756\tDev F1=52.94\n",
      "[reRNN] Model saved as <reRNN>\n",
      "[reRNN] Epoch 6 (151.62s)\tAverage loss=0.106114\tDev F1=50.93\n",
      "[reRNN] Epoch 7 (173.72s)\tAverage loss=0.091827\tDev F1=48.45\n",
      "[reRNN] Epoch 8 (194.92s)\tAverage loss=0.100016\tDev F1=51.17\n",
      "[reRNN] Epoch 9 (216.22s)\tAverage loss=0.070927\tDev F1=49.66\n",
      "[reRNN] Epoch 10 (237.69s)\tAverage loss=0.066007\tDev F1=50.56\n",
      "[reRNN] Epoch 11 (259.43s)\tAverage loss=0.055206\tDev F1=52.19\n",
      "[reRNN] Epoch 12 (280.78s)\tAverage loss=0.044502\tDev F1=51.41\n",
      "[reRNN] Epoch 13 (301.69s)\tAverage loss=0.042981\tDev F1=51.68\n",
      "[reRNN] Epoch 14 (323.00s)\tAverage loss=0.052741\tDev F1=50.29\n",
      "[reRNN] Epoch 15 (345.36s)\tAverage loss=0.063870\tDev F1=50.29\n",
      "[reRNN] Epoch 16 (366.91s)\tAverage loss=0.056553\tDev F1=50.45\n",
      "[reRNN] Epoch 17 (387.76s)\tAverage loss=0.044696\tDev F1=52.12\n",
      "[reRNN] Epoch 18 (408.50s)\tAverage loss=0.046317\tDev F1=51.87\n",
      "[reRNN] Epoch 19 (430.20s)\tAverage loss=0.039927\tDev F1=51.62\n",
      "[reRNN] Training done (431.17s)\n",
      "INFO:tensorflow:Restoring parameters from checkpoints/reRNN/reRNN-5\n",
      "[reRNN] Loaded model <reRNN>\n"
     ]
    }
   ],
   "source": [
    "lstm = reRNN(seed=1701, deterministic=False)\n",
    "lstm.train(unlab, unlab_marginals_maj, X_dev=dev, Y_dev=L_gold_dev, **train_kwargs)"
   ]
  },
  {
   "cell_type": "code",
   "execution_count": 57,
   "metadata": {},
   "outputs": [
    {
     "name": "stdout",
     "output_type": "stream",
     "text": [
      "('@ Validation', (0.4235294117647059, 0.7058823529411765, 0.5294117647058824))\n",
      "('@ Test', (0.42421991084695393, 0.7537953795379538, 0.5429046826717376))\n",
      "========================================\n",
      "Scores (Un-adjusted)\n",
      "========================================\n",
      "Pos. class accuracy: 0.754\n",
      "Neg. class accuracy: 0.51\n",
      "Precision            0.424\n",
      "Recall               0.754\n",
      "F1                   0.543\n",
      "----------------------------------------\n",
      "TP: 1142 | FP: 1550 | TN: 1615 | FN: 373\n",
      "========================================\n",
      "\n"
     ]
    }
   ],
   "source": [
    "print('@ Validation',lstm.score(dev,dev_labels))\n",
    "print('@ Test',lstm.score(test,L_gold_test,batch_size=1024))\n",
    "tp, fp, tn, fn = lstm.error_analysis(session, test, L_gold_test, batch_size = 1024)"
   ]
  },
  {
   "cell_type": "markdown",
   "metadata": {},
   "source": [
    "## Paper stuff (scores etc)"
   ]
  },
  {
   "cell_type": "code",
   "execution_count": 59,
   "metadata": {},
   "outputs": [
    {
     "name": "stdout",
     "output_type": "stream",
     "text": [
      "Base Learner scores stats:\n",
      "(min,mean,max)\n",
      "(0.5, 0.52, 0.56)\n"
     ]
    }
   ],
   "source": [
    "print(\"Base Learner scores stats:\\n(min,mean,max)\")\n",
    "print(np.min(bl_scores), \n",
    "np.mean(bl_scores),\n",
    "np.max(bl_scores))"
   ]
  },
  {
   "cell_type": "code",
   "execution_count": 60,
   "metadata": {},
   "outputs": [
    {
     "data": {
      "text/plain": [
       "(0.4942643391521197, 0.6541254125412541, 0.5630681818181817)"
      ]
     },
     "execution_count": 60,
     "metadata": {},
     "output_type": "execute_result"
    }
   ],
   "source": [
    "majority_vote_score(L_test, L_gold_test)"
   ]
  },
  {
   "cell_type": "code",
   "execution_count": 61,
   "metadata": {},
   "outputs": [
    {
     "data": {
      "text/plain": [
       "(0.5630681818181817, -1.857731914945704, 0.5355951392882324)"
      ]
     },
     "execution_count": 61,
     "metadata": {},
     "output_type": "execute_result"
    }
   ],
   "source": [
    "gen_model.score(L_test,L_gold_test)"
   ]
  },
  {
   "cell_type": "code",
   "execution_count": null,
   "metadata": {},
   "outputs": [],
   "source": []
  },
  {
   "cell_type": "code",
   "execution_count": 58,
   "metadata": {},
   "outputs": [],
   "source": [
    "############"
   ]
  },
  {
   "cell_type": "markdown",
   "metadata": {},
   "source": [
    "### Train on GS + unlab\n",
    "# NOT NEEDED for paper rev"
   ]
  },
  {
   "cell_type": "code",
   "execution_count": 102,
   "metadata": {},
   "outputs": [],
   "source": [
    "# train_kwargs = {\n",
    "#     'lr':         0.01,\n",
    "#     'dim':        100,\n",
    "#     'n_epochs':   30,\n",
    "#     'dropout':    0.25,\n",
    "#     'rebalance':  True,\n",
    "#     'print_freq': 1,\n",
    "#     'batch_size': 64,\n",
    "#     'dev_ckpt_delay': 0\n",
    "# }\n",
    "\n",
    "# lstm = reRNN(seed=1701, deterministic=True)\n",
    "# lstm.train(train+unlab, \n",
    "#            np.concatenate([train_labels ,unlab_marginals_gen]),\n",
    "#            X_dev=dev, Y_dev=L_gold_dev, **train_kwargs)\n"
   ]
  },
  {
   "cell_type": "code",
   "execution_count": 103,
   "metadata": {},
   "outputs": [],
   "source": [
    "# tp, fp, tn, fn = lstm.error_analysis(session, dev, L_gold_dev)"
   ]
  },
  {
   "cell_type": "code",
   "execution_count": 104,
   "metadata": {},
   "outputs": [],
   "source": [
    "# tp, fp, tn, fn = lstm.error_analysis(session, test, L_gold_test, batch_size = 1024)"
   ]
  },
  {
   "cell_type": "code",
   "execution_count": 105,
   "metadata": {},
   "outputs": [],
   "source": [
    "# lstm.score(test,L_gold_test,batch_size=1024)"
   ]
  },
  {
   "cell_type": "code",
   "execution_count": null,
   "metadata": {},
   "outputs": [],
   "source": []
  },
  {
   "cell_type": "code",
   "execution_count": null,
   "metadata": {},
   "outputs": [],
   "source": []
  },
  {
   "cell_type": "code",
   "execution_count": null,
   "metadata": {},
   "outputs": [],
   "source": []
  },
  {
   "cell_type": "code",
   "execution_count": null,
   "metadata": {},
   "outputs": [],
   "source": []
  },
  {
   "cell_type": "code",
   "execution_count": null,
   "metadata": {},
   "outputs": [],
   "source": []
  },
  {
   "cell_type": "code",
   "execution_count": null,
   "metadata": {},
   "outputs": [],
   "source": []
  }
 ],
 "metadata": {
  "kernelspec": {
   "display_name": "Python [conda env:snorkel27clone]",
   "language": "python",
   "name": "conda-env-snorkel27clone-py"
  },
  "language_info": {
   "codemirror_mode": {
    "name": "ipython",
    "version": 2
   },
   "file_extension": ".py",
   "mimetype": "text/x-python",
   "name": "python",
   "nbconvert_exporter": "python",
   "pygments_lexer": "ipython2",
   "version": "2.7.15"
  }
 },
 "nbformat": 4,
 "nbformat_minor": 2
}
