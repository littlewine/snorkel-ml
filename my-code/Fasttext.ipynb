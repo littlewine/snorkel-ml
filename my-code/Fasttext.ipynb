{
 "cells": [
  {
   "cell_type": "code",
   "execution_count": 1,
   "metadata": {},
   "outputs": [],
   "source": [
    "%load_ext autoreload\n",
    "%autoreload 2\n",
    "%matplotlib inline\n",
    "%run init.py"
   ]
  },
  {
   "cell_type": "code",
   "execution_count": 33,
   "metadata": {},
   "outputs": [],
   "source": [
    "from MLutils import neg_to_bin_labels"
   ]
  },
  {
   "cell_type": "code",
   "execution_count": 2,
   "metadata": {},
   "outputs": [],
   "source": [
    "# from sklearn.ensemble import RandomForestClassifier\n",
    "# from sklearn.neighbors import KNeighborsClassifier\n",
    "# from sklearn.svm import SVC\n",
    "# from sklearn.linear_model import LogisticRegression\n",
    "\n",
    "# from sklearn.feature_extraction.text import CountVectorizer, TfidfVectorizer"
   ]
  },
  {
   "cell_type": "code",
   "execution_count": 3,
   "metadata": {},
   "outputs": [],
   "source": [
    "# Rebuild text\n",
    "from sklearn_bridge import recreate_text_representation\n",
    "# take text + labels from train ds\n",
    "from sklearn_bridge import candidate_dict_to_df"
   ]
  },
  {
   "cell_type": "code",
   "execution_count": 4,
   "metadata": {},
   "outputs": [],
   "source": [
    "from MLutils import report_to_df, train_evaluate"
   ]
  },
  {
   "cell_type": "code",
   "execution_count": 5,
   "metadata": {},
   "outputs": [],
   "source": [
    "import sklearn, pickle, time, seaborn\n",
    "import pandas as pd"
   ]
  },
  {
   "cell_type": "code",
   "execution_count": 6,
   "metadata": {},
   "outputs": [
    {
     "name": "stdout",
     "output_type": "stream",
     "text": [
      "Split = 0 : imported 12987 candidates\n",
      "Split = 1 : imported 3230 candidates\n",
      "Split = 2 : imported 8335 candidates\n",
      "Split = 3 : imported 79400 candidates\n"
     ]
    }
   ],
   "source": [
    "with open(path_candidate_dict_pickle, 'rb') as f:\n",
    "    candidate_dict = pickle.load(f)\n",
    "\n",
    "for splt in candidate_dict.keys():\n",
    "    print \"Split = %i : imported %i candidates\" %(splt, len(candidate_dict[splt].keys()))"
   ]
  },
  {
   "cell_type": "code",
   "execution_count": null,
   "metadata": {},
   "outputs": [],
   "source": []
  },
  {
   "cell_type": "markdown",
   "metadata": {},
   "source": [
    "# Load train, dev, test datasets"
   ]
  },
  {
   "cell_type": "code",
   "execution_count": 7,
   "metadata": {
    "scrolled": true
   },
   "outputs": [],
   "source": [
    "trim_text = True\n",
    "trim_window = 5\n",
    "use_lemmas = True\n",
    "\n",
    "df_train = candidate_dict_to_df(candidate_dict[0],trim_text=trim_text, window=trim_window, lemmas = use_lemmas )\n",
    "df_val = candidate_dict_to_df(candidate_dict[1],trim_text=trim_text, window=trim_window, lemmas = use_lemmas )\n",
    "df_test = candidate_dict_to_df(candidate_dict[2],trim_text=trim_text, window=trim_window, lemmas = use_lemmas )\n",
    "\n",
    "df_unlab = candidate_dict_to_df(candidate_dict[3],trim_text=trim_text, window=trim_window, lemmas = use_lemmas )\n"
   ]
  },
  {
   "cell_type": "code",
   "execution_count": 8,
   "metadata": {},
   "outputs": [],
   "source": [
    "def remove_line_breaks(df):\n",
    "    df['text'] = map(lambda x: x.replace('\\n', ' ' ),df.text)\n",
    "    return df"
   ]
  },
  {
   "cell_type": "code",
   "execution_count": 9,
   "metadata": {},
   "outputs": [],
   "source": [
    "df_train = remove_line_breaks(df_train)\n",
    "train_ids = list(df_train.index)\n",
    "df_val = remove_line_breaks(df_val)\n",
    "val_ids = list(df_val.index)\n",
    "df_test = remove_line_breaks(df_test)\n",
    "test_ids = list(df_test.index)\n",
    "df_unlab = remove_line_breaks(df_unlab)\n",
    "unlab_ids = list(df_unlab.index)"
   ]
  },
  {
   "cell_type": "code",
   "execution_count": null,
   "metadata": {},
   "outputs": [],
   "source": []
  },
  {
   "cell_type": "code",
   "execution_count": 10,
   "metadata": {},
   "outputs": [],
   "source": [
    "# Export to FastText format"
   ]
  },
  {
   "cell_type": "code",
   "execution_count": 11,
   "metadata": {},
   "outputs": [],
   "source": [
    "df_train['label1'] = map(lambda label: '__label__%i'%(label), df_train.label)\n",
    "df_val['label1'] = map(lambda label: '__label__%i'%(label), df_val.label)\n",
    "df_test['label1'] = map(lambda label: '__label__%i'%(label), df_test.label)\n",
    "# df_unlab['label1'] = map(lambda label: '__label__%i'%(label), df_unlab.label)\n"
   ]
  },
  {
   "cell_type": "code",
   "execution_count": null,
   "metadata": {},
   "outputs": [],
   "source": []
  },
  {
   "cell_type": "code",
   "execution_count": 12,
   "metadata": {},
   "outputs": [
    {
     "name": "stderr",
     "output_type": "stream",
     "text": [
      "/home/antonis/anaconda2/envs/snorkel27/lib/python2.7/site-packages/pandas/io/formats/format.py:1586: FutureWarning: \n",
      "Passing list-likes to .loc or [] with any missing label will raise\n",
      "KeyError in the future, you can use .reindex() as an alternative.\n",
      "\n",
      "See the documentation here:\n",
      "http://pandas.pydata.org/pandas-docs/stable/indexing.html#deprecate-loc-reindex-listlike\n",
      "  self.obj = self.obj.loc[:, cols]\n",
      "/home/antonis/anaconda2/envs/snorkel27/lib/python2.7/site-packages/pandas/core/indexing.py:1367: FutureWarning: \n",
      "Passing list-likes to .loc or [] with any missing label will raise\n",
      "KeyError in the future, you can use .reindex() as an alternative.\n",
      "\n",
      "See the documentation here:\n",
      "http://pandas.pydata.org/pandas-docs/stable/indexing.html#deprecate-loc-reindex-listlike\n",
      "  return self._getitem_tuple(key)\n"
     ]
    }
   ],
   "source": [
    "df_train.to_csv('fastText/df_train.txt',header=False,index= False,encoding='utf-8', columns=[ 'label1', 'text'],\n",
    "               sep= ' ')\n",
    "df_val.to_csv('fastText/df_val.txt',header=False,index= False,encoding='utf-8', columns=[ 'label1', 'text'],\n",
    "               sep= ' ')\n",
    "df_test.to_csv('fastText/df_test.txt',header=False,index= False,encoding='utf-8', columns=[ 'label1', 'text'],\n",
    "               sep= ' ')\n",
    "df_unlab.to_csv('fastText/df_unlab.txt',header=False,index= False,encoding='utf-8', columns=[ 'label1', 'text'],\n",
    "               sep= ' ')\n"
   ]
  },
  {
   "cell_type": "markdown",
   "metadata": {},
   "source": [
    "# Run fasttext in cli"
   ]
  },
  {
   "cell_type": "code",
   "execution_count": 17,
   "metadata": {},
   "outputs": [
    {
     "name": "stdout",
     "output_type": "stream",
     "text": [
      "Read 0M words\n",
      "Number of words:  6976\n",
      "Number of labels: 2\n",
      "Progress: 100.0% words/sec/thread: 1264066 lr:  0.000000 loss:  0.368285 ETA:   0h 0m\n"
     ]
    }
   ],
   "source": [
    "# training\n",
    "! cd fastText/ && ./fasttext supervised -input df_train.txt -output model"
   ]
  },
  {
   "cell_type": "code",
   "execution_count": 18,
   "metadata": {},
   "outputs": [],
   "source": [
    "# prediction"
   ]
  },
  {
   "cell_type": "code",
   "execution_count": 19,
   "metadata": {},
   "outputs": [],
   "source": [
    "! cd fastText/ && ./fasttext predict model.bin df_val.txt > df_val_pred.txt"
   ]
  },
  {
   "cell_type": "code",
   "execution_count": 20,
   "metadata": {},
   "outputs": [],
   "source": [
    "! cd fastText/ && ./fasttext predict model.bin df_test.txt > df_test_pred.txt"
   ]
  },
  {
   "cell_type": "code",
   "execution_count": 21,
   "metadata": {},
   "outputs": [],
   "source": [
    "! cd fastText/ && ./fasttext predict model.bin df_unlab.txt > df_unlab_pred.txt"
   ]
  },
  {
   "cell_type": "markdown",
   "metadata": {},
   "source": [
    "# Read back results"
   ]
  },
  {
   "cell_type": "code",
   "execution_count": 22,
   "metadata": {},
   "outputs": [],
   "source": [
    "val_preds = pd.read_table('fastText/df_val_pred.txt',header=None)\n",
    "val_preds.index = df_val.index\n",
    "\n",
    "test_preds = pd.read_table('fastText/df_test_pred.txt',header=None)\n",
    "test_preds.index = df_test.index\n",
    "\n",
    "unlab_preds = pd.read_table('fastText/df_unlab_pred.txt',header=None)\n",
    "unlab_preds.index = df_unlab.index"
   ]
  },
  {
   "cell_type": "code",
   "execution_count": null,
   "metadata": {},
   "outputs": [],
   "source": []
  },
  {
   "cell_type": "code",
   "execution_count": 26,
   "metadata": {},
   "outputs": [],
   "source": [
    "#get gold labels (for classif report)\n",
    "val_gold_labels = map(lambda cid: candidate_dict[1][cid]['label'] , candidate_dict[1].keys())\n",
    "test_gold_labels = map(lambda cid: candidate_dict[2][cid]['label'] , candidate_dict[2].keys())\n",
    "\n",
    "# val_pred_labels = map(lambda cid: val_preds_dict[cid] , candidate_dict[1].keys())\n"
   ]
  },
  {
   "cell_type": "code",
   "execution_count": 27,
   "metadata": {},
   "outputs": [
    {
     "data": {
      "text/plain": [
       "3230"
      ]
     },
     "execution_count": 27,
     "metadata": {},
     "output_type": "execute_result"
    }
   ],
   "source": [
    "len(val_gold_labels)"
   ]
  },
  {
   "cell_type": "code",
   "execution_count": 28,
   "metadata": {},
   "outputs": [],
   "source": [
    "from sklearn.metrics import classification_report\n",
    "from MLutils import report_to_df"
   ]
  },
  {
   "cell_type": "code",
   "execution_count": 29,
   "metadata": {},
   "outputs": [
    {
     "ename": "NameError",
     "evalue": "name 'val_pred_labels' is not defined",
     "output_type": "error",
     "traceback": [
      "\u001b[0;31m---------------------------------------------------------------------------\u001b[0m",
      "\u001b[0;31mNameError\u001b[0m                                 Traceback (most recent call last)",
      "\u001b[0;32m<ipython-input-29-ba99cad883b8>\u001b[0m in \u001b[0;36m<module>\u001b[0;34m()\u001b[0m\n\u001b[0;32m----> 1\u001b[0;31m \u001b[0;32mprint\u001b[0m \u001b[0mclassification_report\u001b[0m\u001b[0;34m(\u001b[0m\u001b[0mval_gold_labels\u001b[0m\u001b[0;34m,\u001b[0m\u001b[0mval_pred_labels\u001b[0m\u001b[0;34m)\u001b[0m\u001b[0;34m\u001b[0m\u001b[0m\n\u001b[0m",
      "\u001b[0;31mNameError\u001b[0m: name 'val_pred_labels' is not defined"
     ]
    }
   ],
   "source": [
    "# print classification_report(val_gold_labels,val_pred_labels)"
   ]
  },
  {
   "cell_type": "code",
   "execution_count": 40,
   "metadata": {},
   "outputs": [
    {
     "name": "stdout",
     "output_type": "stream",
     "text": [
      "           precision  recall  f1-score  support\n",
      "Classes                                        \n",
      "-1              0.86    0.91      0.88     2525\n",
      "1               0.59    0.46      0.52      705\n",
      "avg/total       0.80    0.81      0.80     3230\n"
     ]
    }
   ],
   "source": [
    "results_dict = {}\n",
    "\n",
    "# label_*_binary -> list of -1, 1\n",
    "# label_*_prob_dict -> {40197: 0.96, 40198: 0.03, ... }\n",
    "\n",
    "#get gold labels (for classif report)\n",
    "y_val = map(lambda cid: candidate_dict[1][cid]['label'] , candidate_dict[1].keys())\n",
    "y_test = map(lambda cid: candidate_dict[2][cid]['label'] , candidate_dict[2].keys())\n",
    "\n",
    "# pass predictions as dict & binary list\n",
    "y_val_pred_neg = map(lambda x: -1 if x[-2:]=='-1' else 1,val_preds[0])\n",
    "y_val_pred_dict = dict(zip(df_val.index, neg_to_bin_labels(y_val_pred_bin) ))\n",
    "\n",
    "\n",
    "y_test_pred_neg = map(lambda x: -1 if x[-2:]=='-1' else 1,test_preds[0])\n",
    "y_test_pred_dict = dict(zip(df_test.index, neg_to_bin_labels(y_test_pred_neg) ))\n",
    "\n",
    "\n",
    "y_unlab_pred_neg = map(lambda x: -1 if x[-2:]=='-1' else 1,unlab_preds[0])\n",
    "y_unlab_pred_dict = dict(zip(df_unlab.index, neg_to_bin_labels(y_unlab_pred_bin) ))\n",
    "\n",
    "\n",
    "# # y_val_pred_prob = dict(zip(df_val.index,map(lambda x: 1 if x[-2:]=='-1' else 0,val_preds[0]))) #setting primary class as -1\n",
    "\n",
    "# y_test_pred_neg = map(lambda x: -1 if x[-2:]=='-1' else 1,test_preds[0])\n",
    "# y_test_pred_bin = dict(zip(df_test.index,map(lambda x: 1 if x[-2:]=='-1' else 0,test_preds[0])))\n",
    "\n",
    "# y_unlab_pred_bin = map(lambda x: -1 if x[-2:]=='-1' else 1,unlab_preds[0])\n",
    "# y_unlab_pred_prob = dict(zip(df_unlab.index,map(lambda x: 1 if x[-2:]=='-1' else 0,unlab_preds[0])))\n",
    "\n",
    "\n",
    "class_report = report_to_df(classification_report(y_val, y_val_pred_neg))\n",
    "print class_report\n",
    "\n",
    "\n",
    "# results_dict['fasttext'] = {\"label_val_binary\" : y_val_pred_bin,\n",
    "#                             \"label_val_prob_dict\" : y_val_pred_prob,\n",
    "#                             \"label_test_binary\" : y_test_pred_bin,\n",
    "# #                             \"label_test_prob_dict\" : y_test_pred_prob,\n",
    "#                             \"label_unlab_binary\" : y_unlab_pred_bin,\n",
    "# #                             \"label_unlab_prob_dict\" : y_unlab_pred_prob,\n",
    "#                             #only possible when true labels in place:\n",
    "# #                                     \"confusion_matrix\" : conf_matrix,\n",
    "#                             \"classification_report\": class_report,\n",
    "# #                                 \"precision\": class_report.loc['avg/total','precision'],\n",
    "# #                                 \"recall\": class_report.loc['avg/total','recall'],\n",
    "#                             \"f1+\": class_report.loc['1','f1-score'],\n",
    "#                             \"model_classes\": [-1,1]\n",
    "\n",
    "#                            }\n",
    "\n",
    "\n",
    "results_dict['fasttext'] = {\"label_val_prob+\" : y_val_pred_dict,\n",
    "                       \"label_test_prob+\" : y_test_pred_dict,\n",
    "                       \"label_unlab_prob+\" : y_unlab_pred_dict,\n",
    "                        \"classification_report\": class_report,\n",
    "                        \"f1+\": class_report.loc['1','f1-score']\n",
    "                           }\n"
   ]
  },
  {
   "cell_type": "code",
   "execution_count": null,
   "metadata": {},
   "outputs": [],
   "source": []
  },
  {
   "cell_type": "markdown",
   "metadata": {},
   "source": [
    "# Export results_dict"
   ]
  },
  {
   "cell_type": "code",
   "execution_count": 41,
   "metadata": {},
   "outputs": [],
   "source": [
    "import pickle"
   ]
  },
  {
   "cell_type": "code",
   "execution_count": 42,
   "metadata": {},
   "outputs": [],
   "source": [
    "with open(path_base_learners+'/fasttext.pkl', 'wb') as f:\n",
    "    pickle.dump(results_dict, f)"
   ]
  },
  {
   "cell_type": "code",
   "execution_count": null,
   "metadata": {},
   "outputs": [],
   "source": []
  },
  {
   "cell_type": "code",
   "execution_count": null,
   "metadata": {},
   "outputs": [],
   "source": []
  },
  {
   "cell_type": "code",
   "execution_count": null,
   "metadata": {},
   "outputs": [],
   "source": []
  },
  {
   "cell_type": "code",
   "execution_count": null,
   "metadata": {},
   "outputs": [],
   "source": []
  }
 ],
 "metadata": {
  "kernelspec": {
   "display_name": "Python [conda env:snorkel27]",
   "language": "python",
   "name": "conda-env-snorkel27-py"
  },
  "language_info": {
   "codemirror_mode": {
    "name": "ipython",
    "version": 2
   },
   "file_extension": ".py",
   "mimetype": "text/x-python",
   "name": "python",
   "nbconvert_exporter": "python",
   "pygments_lexer": "ipython2",
   "version": "2.7.15"
  }
 },
 "nbformat": 4,
 "nbformat_minor": 2
}
