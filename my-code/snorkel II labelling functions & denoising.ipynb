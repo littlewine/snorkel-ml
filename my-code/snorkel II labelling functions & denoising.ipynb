{
 "cells": [
  {
   "cell_type": "code",
   "execution_count": 1,
   "metadata": {},
   "outputs": [
    {
     "name": "stdout",
     "output_type": "stream",
     "text": [
      "Setting up variables & DB connection for experiment:\n",
      "\n",
      "*******************\n",
      "_exp3\n",
      "*******************\n",
      "\n",
      "Snorkel session connected to:  postgres:///snorkel_exp3\n"
     ]
    },
    {
     "name": "stderr",
     "output_type": "stream",
     "text": [
      "/home/antonis/anaconda2/envs/snorkel27clone/lib/python2.7/site-packages/psycopg2/__init__.py:144: UserWarning: The psycopg2 wheel package will be renamed from release 2.8; in order to keep installing from binary please use \"pip install psycopg2-binary\" instead. For details see: <http://initd.org/psycopg/docs/install.html#binary-install-from-pypi>.\n",
      "  \"\"\")\n"
     ]
    }
   ],
   "source": [
    "experiment_name = '25similar'\n",
    "%load_ext autoreload\n",
    "%autoreload 2\n",
    "%matplotlib inline\n",
    "%run init.py"
   ]
  },
  {
   "cell_type": "code",
   "execution_count": 2,
   "metadata": {},
   "outputs": [],
   "source": [
    "import seaborn as sns\n",
    "from snorkel.annotations import save_marginals"
   ]
  },
  {
   "cell_type": "code",
   "execution_count": 3,
   "metadata": {},
   "outputs": [
    {
     "name": "stderr",
     "output_type": "stream",
     "text": [
      "/home/antonis/anaconda2/envs/snorkel27clone/lib/python2.7/site-packages/h5py/__init__.py:36: FutureWarning: Conversion of the second argument of issubdtype from `float` to `np.floating` is deprecated. In future, it will be treated as `np.float64 == np.dtype(float).type`.\n",
      "  from ._conv import register_converters as _register_converters\n"
     ]
    },
    {
     "name": "stdout",
     "output_type": "stream",
     "text": [
      "WARNING:tensorflow:From /home/antonis/anaconda2/envs/snorkel27clone/lib/python2.7/site-packages/tensorflow/contrib/learn/python/learn/datasets/base.py:198: retry (from tensorflow.contrib.learn.python.learn.datasets.base) is deprecated and will be removed in a future version.\n",
      "Instructions for updating:\n",
      "Use the retry module or similar alternatives.\n"
     ]
    }
   ],
   "source": [
    "from snorkel.lf_helpers import *\n",
    "import pickle,glob"
   ]
  },
  {
   "cell_type": "code",
   "execution_count": 4,
   "metadata": {},
   "outputs": [],
   "source": [
    "import pandas as pd\n",
    "from MLutils import cohen_kappa_score, plot_marginals_histogram, neg_to_bin_labels"
   ]
  },
  {
   "cell_type": "code",
   "execution_count": 5,
   "metadata": {},
   "outputs": [],
   "source": [
    "from MLutils import diversity_heatmap, merge_pickles_pred_dicts"
   ]
  },
  {
   "cell_type": "code",
   "execution_count": 6,
   "metadata": {},
   "outputs": [],
   "source": [
    "# TODO move in LSTM training section\n",
    "\n",
    "# needed to train the LSTM here\n",
    "train = session.query(REGULATOR).filter(REGULATOR.split == 0).order_by(REGULATOR.id).all()\n",
    "dev = session.query(REGULATOR).filter(REGULATOR.split == 1).order_by(REGULATOR.id).all()\n",
    "test = session.query(REGULATOR).filter(REGULATOR.split == 2).order_by(REGULATOR.id).all()\n",
    "unlab = session.query(REGULATOR).filter(REGULATOR.split == 3).order_by(REGULATOR.id).all()"
   ]
  },
  {
   "cell_type": "code",
   "execution_count": 7,
   "metadata": {},
   "outputs": [],
   "source": [
    "# Determine mean sentence size per set"
   ]
  },
  {
   "cell_type": "code",
   "execution_count": 8,
   "metadata": {},
   "outputs": [],
   "source": [
    "# TODO: drop v big sentences"
   ]
  },
  {
   "cell_type": "code",
   "execution_count": 9,
   "metadata": {},
   "outputs": [],
   "source": [
    "# train_sentence_size =list(map(lambda x: len(x.get_parent().lemmas) ,train))\n",
    "# dev_sentence_size =list(map(lambda x: len(x.get_parent().lemmas) ,dev))\n",
    "# test_sentence_size =list(map(lambda x: len(x.get_parent().lemmas) ,test))\n",
    "# unlab_sentence_size =list(map(lambda x: len(x.get_parent().lemmas) ,unlab))"
   ]
  },
  {
   "cell_type": "code",
   "execution_count": 10,
   "metadata": {},
   "outputs": [],
   "source": [
    "# print np.mean(train_sentence_size)\n",
    "# print np.mean(dev_sentence_size)\n",
    "# print np.mean(test_sentence_size)\n",
    "# print np.mean(unlab_sentence_size)"
   ]
  },
  {
   "cell_type": "code",
   "execution_count": 11,
   "metadata": {},
   "outputs": [
    {
     "data": {
      "text/plain": [
       "9167L"
      ]
     },
     "execution_count": 11,
     "metadata": {},
     "output_type": "execute_result"
    }
   ],
   "source": [
    "session.query(REGULATOR).filter(REGULATOR.split == 3).count()"
   ]
  },
  {
   "cell_type": "code",
   "execution_count": 12,
   "metadata": {
    "scrolled": true
   },
   "outputs": [],
   "source": [
    "# c = train[0]\n",
    "# s = c.get_parent()\n",
    "# s.lemmas\n",
    "# # REGULATOR.get_parent().lemmas"
   ]
  },
  {
   "cell_type": "code",
   "execution_count": null,
   "metadata": {},
   "outputs": [],
   "source": []
  },
  {
   "cell_type": "code",
   "execution_count": 13,
   "metadata": {},
   "outputs": [],
   "source": [
    "# make sure unmapped cands are gone"
   ]
  },
  {
   "cell_type": "code",
   "execution_count": 14,
   "metadata": {},
   "outputs": [],
   "source": [
    "from sqlalchemy import  any_,or_,and_"
   ]
  },
  {
   "cell_type": "code",
   "execution_count": 15,
   "metadata": {},
   "outputs": [
    {
     "name": "stdout",
     "output_type": "stream",
     "text": [
      "Adding 0 candidates from split=0 in to_drop list\n",
      "Adding 0 candidates from split=1 in to_drop list\n",
      "Adding 0 candidates from split=2 in to_drop list\n",
      "Adding 0 candidates from split=3 in to_drop list\n"
     ]
    }
   ],
   "source": [
    "#create list of unmapped cands to drop\n",
    "to_drop = []\n",
    "for k in range(4):\n",
    "    query = session.query(REGULATOR).filter(and_(REGULATOR.split==k,~REGULATOR.gold_labels.any()))\n",
    "    print 'Adding %i candidates from split=%i in to_drop list'%(query.count(), k)\n",
    "    to_drop.extend(map(lambda x: x.id,query.all()))"
   ]
  },
  {
   "cell_type": "code",
   "execution_count": null,
   "metadata": {},
   "outputs": [],
   "source": []
  },
  {
   "cell_type": "code",
   "execution_count": 38,
   "metadata": {},
   "outputs": [],
   "source": [
    "# #drop unmapped cands\n",
    "# query = session.query(Candidate).filter(Candidate.id.in_(to_drop))\n",
    "# print query.count()\n",
    "# query.delete(synchronize_session=False)\n",
    "# session.commit()"
   ]
  },
  {
   "cell_type": "markdown",
   "metadata": {},
   "source": [
    "# Retrieve results and pick models"
   ]
  },
  {
   "cell_type": "code",
   "execution_count": 16,
   "metadata": {},
   "outputs": [],
   "source": [
    "# results_dict = merge_pickles_pred_dicts(glob.glob('ml_predictions/*.pkl'), \n",
    "#                                         f1_threshold=0.49,\n",
    "#                                         list_substr=['results_dict,','minFreq=3','_'],\n",
    "#                                         best_model=True,\n",
    "#                                        )"
   ]
  },
  {
   "cell_type": "code",
   "execution_count": null,
   "metadata": {},
   "outputs": [],
   "source": []
  },
  {
   "cell_type": "code",
   "execution_count": 17,
   "metadata": {},
   "outputs": [
    {
     "name": "stdout",
     "output_type": "stream",
     "text": [
      "Loaded:\n"
     ]
    },
    {
     "data": {
      "text/plain": [
       "['results_dict,ShortDepPath,lemmas,RuS,CV_,bin_,minFreq=5,_ngrams=(0, 3)_SVC_rbf_C=250',\n",
       " 'results_dict,trim=5,lemmas,RuS,CV_,bin_,minFreq=5,_ngrams=(0, 3)_SVC_rbf_C=150',\n",
       " 'results_dict,lemmas,RuS,CV_,bin_,minFreq=5,_ngrams=(0, 3)_SVC_rbf_C=250',\n",
       " 'results_dict,trim=0,lemmas,RuS,CV_,bin_,minFreq=5,_ngrams=(0, 3)_LogisticRegression',\n",
       " 'results_dict,trim=0,lemmas,RuS,TfIdf_,minFreq=5,_ngrams=(0, 3)_RandomForestClassifier',\n",
       " 'results_dict,ShortDepPath,lemmas,RuS,TfIdf_,minFreq=5,_ngrams=(0, 3)_SVC_rbf_C=150',\n",
       " 'CNN_no_trim,RuS_CNN',\n",
       " 'biLSTM_biLSTM_lr=0.001',\n",
       " 'results_dict,trim=5,lemmas,RuS,TfIdf_,minFreq=5,_ngrams=(0, 3)_LogisticRegression',\n",
       " 'results_dict,trim=0,lemmas,RuS,TfIdf_,minFreq=5,_ngrams=(0, 3)_SVC_rbf_C=250']"
      ]
     },
     "execution_count": 17,
     "metadata": {},
     "output_type": "execute_result"
    }
   ],
   "source": [
    "with open(path_base_learners+\"/10models_tSNE_kmeans.pickle\", 'rb') as f:\n",
    "    results_dict = pickle.load(f)\n",
    "print 'Loaded:\\n',\n",
    "results_dict.keys()"
   ]
  },
  {
   "cell_type": "code",
   "execution_count": 18,
   "metadata": {},
   "outputs": [],
   "source": [
    "selected_models = results_dict.keys()\n",
    "selected_models.sort()"
   ]
  },
  {
   "cell_type": "markdown",
   "metadata": {},
   "source": [
    "# Load predicted labels from classifiers"
   ]
  },
  {
   "cell_type": "code",
   "execution_count": 19,
   "metadata": {},
   "outputs": [],
   "source": [
    "from MLutils import diversity_matrix, reduce_results_dict"
   ]
  },
  {
   "cell_type": "code",
   "execution_count": 20,
   "metadata": {},
   "outputs": [],
   "source": [
    "from sklearn.metrics import accuracy_score, cohen_kappa_score"
   ]
  },
  {
   "cell_type": "code",
   "execution_count": 21,
   "metadata": {},
   "outputs": [],
   "source": [
    "from snorkel.annotations import LabelAnnotator"
   ]
  },
  {
   "cell_type": "code",
   "execution_count": 22,
   "metadata": {},
   "outputs": [],
   "source": [
    "# convert labels to -1,1....\n",
    "for model in selected_models:\n",
    "    results_dict[model]['label_unlab'] = dict(zip(results_dict[model]['label_unlab_prob+'].keys(),(np.array(results_dict[model]['label_unlab_prob+'].values())>=0.5)*2-1))\n",
    "    results_dict[model]['label_val'] = dict(zip(results_dict[model]['label_val_prob+'].keys(),(np.array(results_dict[model]['label_val_prob+'].values())>=0.5)*2-1))\n",
    "#     results_dict[model]['label_train'] = dict(zip(results_dict[model]['label_train_prob+'].keys(),(np.array(results_dict[model]['label_val_prob+'].values())>=0.5)*2-1))\n",
    "    results_dict[model]['label_test'] = dict(zip(results_dict[model]['label_test_prob+'].keys(),(np.array(results_dict[model]['label_test_prob+'].values())>=0.5)*2-1))\n"
   ]
  },
  {
   "cell_type": "code",
   "execution_count": 23,
   "metadata": {},
   "outputs": [],
   "source": [
    "# TODO: drop unlabeled examples out of the unlabeled set (keep only those which can be mapped) \n",
    "# and check predicted class imbalance again"
   ]
  },
  {
   "cell_type": "code",
   "execution_count": 24,
   "metadata": {},
   "outputs": [],
   "source": [
    "for model in selected_models:\n",
    "    results_dict[model]['label_unlab'].values()"
   ]
  },
  {
   "cell_type": "code",
   "execution_count": null,
   "metadata": {},
   "outputs": [],
   "source": []
  },
  {
   "cell_type": "markdown",
   "metadata": {},
   "source": [
    "## Dataset statistics check:\n",
    "## mapped vs unmapped cands in unlab set"
   ]
  },
  {
   "cell_type": "markdown",
   "metadata": {},
   "source": [
    "This section indicates that Snorkels' failure to map candidates ruins the generalization on the unlabeled set.<br \\>\n",
    "<br \\>\n",
    "The results for exp3 were the following:<br \\>\n",
    "<br \\>\n",
    "Un-Mapped candidate class imbalance (predicted) :<br \\>\n",
    "-1    0.860072<br \\>\n",
    " 1    0.139928<br \\>\n",
    "<br \\>\n",
    "\n",
    "Mapped candidate class imbalance (predicted)<br \\>\n",
    "-1    0.725946<br \\>\n",
    " 1    0.274054<br \\> \n",
    "Mapped candidate class imbalance (actual) :<br \\>\n",
    "-1    0.708302<br \\>\n",
    " 1    0.291698<br \\>\n",
    " <br \\>"
   ]
  },
  {
   "cell_type": "code",
   "execution_count": null,
   "metadata": {},
   "outputs": [],
   "source": []
  },
  {
   "cell_type": "code",
   "execution_count": 27,
   "metadata": {},
   "outputs": [],
   "source": [
    "# from utils import check_class_imbalance"
   ]
  },
  {
   "cell_type": "code",
   "execution_count": 28,
   "metadata": {},
   "outputs": [],
   "source": [
    "# unlab_unmapped_ids = []\n",
    "# query = session.query(REGULATOR).filter(and_(REGULATOR.split==3,~REGULATOR.gold_labels.any()))\n",
    "# print 'Adding %i candidates from split=%i'%(query.count(), k)\n",
    "# unlab_unmapped_ids.extend(map(lambda x: x.id,query.all()))"
   ]
  },
  {
   "cell_type": "code",
   "execution_count": 29,
   "metadata": {
    "scrolled": true
   },
   "outputs": [],
   "source": [
    "# unlab_mapped_ids = []\n",
    "# query = session.query(REGULATOR).filter(and_(REGULATOR.split==3,REGULATOR.gold_labels.any()))\n",
    "# print 'Adding %i candidates from split=%i'%(query.count(), k)\n",
    "# unlab_mapped_ids.extend(map(lambda x: x.id,query.all()))"
   ]
  },
  {
   "cell_type": "code",
   "execution_count": 30,
   "metadata": {},
   "outputs": [],
   "source": [
    "# model = selected_models[-1]"
   ]
  },
  {
   "cell_type": "code",
   "execution_count": 31,
   "metadata": {},
   "outputs": [],
   "source": [
    "# preds_unmapped = list(map(lambda x: results_dict[model]['label_unlab'][x] , unlab_unmapped_ids))\n",
    "# check_class_imbalance(preds_unmapped)"
   ]
  },
  {
   "cell_type": "code",
   "execution_count": 32,
   "metadata": {},
   "outputs": [],
   "source": [
    "# preds_mapped = list(map(lambda x: results_dict[model]['label_unlab'][x] , unlab_mapped_ids))\n",
    "# check_class_imbalance(preds_mapped)"
   ]
  },
  {
   "cell_type": "markdown",
   "metadata": {},
   "source": [
    "** on test set (predicted) **"
   ]
  },
  {
   "cell_type": "code",
   "execution_count": 33,
   "metadata": {},
   "outputs": [],
   "source": [
    "# test_ids = []\n",
    "# query = session.query(REGULATOR).filter(and_(REGULATOR.split==2,REGULATOR.gold_labels.any()))\n",
    "# print 'Adding %i candidates from split=%i in to_drop list'%(query.count(), k)\n",
    "# test_ids.extend(map(lambda x: x.id,query.all()))"
   ]
  },
  {
   "cell_type": "code",
   "execution_count": 34,
   "metadata": {},
   "outputs": [],
   "source": [
    "# preds_test = list(map(lambda x: results_dict[model]['label_test'][x] , test_ids))\n",
    "# check_class_imbalance(preds_test)"
   ]
  },
  {
   "cell_type": "markdown",
   "metadata": {},
   "source": [
    "## Port results into snorkel"
   ]
  },
  {
   "cell_type": "code",
   "execution_count": 35,
   "metadata": {},
   "outputs": [],
   "source": [
    "# Include the results for validation data\n",
    "def signal_annotator_unlab_val(c):\n",
    "    \"\"\"A generator over the different (worker_id, label_id) pairs for a Tweet.\"\"\"\n",
    "    for model in results_dict.keys():\n",
    "        try:\n",
    "            yield model, results_dict[model]['label_unlab'][c.id]\n",
    "            \n",
    "        except:\n",
    "            yield model, results_dict[model]['label_val'][c.id]\n",
    "\n",
    "\n",
    "labeler = LabelAnnotator(label_generator=signal_annotator_unlab_val)"
   ]
  },
  {
   "cell_type": "markdown",
   "metadata": {},
   "source": [
    "### Apply labeler / load label matrix from pickle"
   ]
  },
  {
   "cell_type": "code",
   "execution_count": 36,
   "metadata": {
    "scrolled": false
   },
   "outputs": [
    {
     "name": "stdout",
     "output_type": "stream",
     "text": [
      "Clearing existing...\n",
      "Running UDF...\n",
      "CPU times: user 1min 43s, sys: 5.22 s, total: 1min 49s\n",
      "Wall time: 6min 6s\n"
     ]
    },
    {
     "data": {
      "text/plain": [
       "<9167x10 sparse matrix of type '<type 'numpy.int64'>'\n",
       "\twith 91670 stored elements in Compressed Sparse Row format>"
      ]
     },
     "execution_count": 36,
     "metadata": {},
     "output_type": "execute_result"
    }
   ],
   "source": [
    "#regenerate L_unlab - Takes about 1h for 12 voters (100% coverage)\n",
    "\n",
    "%time L_unlab = labeler.apply(split=3, parallelism=6)\n",
    "L_unlab"
   ]
  },
  {
   "cell_type": "code",
   "execution_count": null,
   "metadata": {},
   "outputs": [],
   "source": []
  },
  {
   "cell_type": "code",
   "execution_count": 48,
   "metadata": {},
   "outputs": [],
   "source": [
    "from MLutils import balance_candidates, sample_from_csr, majority_vote, majority_vote_score, average_vote, error_analysis"
   ]
  },
  {
   "cell_type": "code",
   "execution_count": 38,
   "metadata": {},
   "outputs": [
    {
     "name": "stdout",
     "output_type": "stream",
     "text": [
      "Clearing existing...\n",
      "Running UDF...\n"
     ]
    }
   ],
   "source": [
    "# load from developer set & labels\n",
    "L_gold_dev = load_gold_labels(session, annotator_name='gold', split=1)\n",
    "L_dev = labeler.apply_existing(split=1, parallelism=6)\n",
    "\n",
    "\n",
    "\n",
    "# # # Not possible -> I don't have the predictions of the classifiers.\n",
    "# L_gold_train = load_gold_labels(session, annotator_name='gold', split=0)\n",
    "# L_train = labeler.apply_existing(split=0, parallelism=6)"
   ]
  },
  {
   "cell_type": "code",
   "execution_count": 39,
   "metadata": {},
   "outputs": [],
   "source": [
    "# load unlabeled set labels (for exp3)\n",
    "L_gold_unlab = load_gold_labels(session, annotator_name='gold', split=3)"
   ]
  },
  {
   "cell_type": "markdown",
   "metadata": {},
   "source": [
    "### Check some label statistics"
   ]
  },
  {
   "cell_type": "code",
   "execution_count": 40,
   "metadata": {},
   "outputs": [],
   "source": [
    "from MLutils import average_vote, majority_vote"
   ]
  },
  {
   "cell_type": "markdown",
   "metadata": {},
   "source": [
    "** Majority voting **"
   ]
  },
  {
   "cell_type": "code",
   "execution_count": 41,
   "metadata": {},
   "outputs": [
    {
     "data": {
      "text/plain": [
       "<matplotlib.axes._subplots.AxesSubplot at 0x7f069d1c8dd0>"
      ]
     },
     "execution_count": 41,
     "metadata": {},
     "output_type": "execute_result"
    },
    {
     "data": {
      "image/png": "[encoded data removed]",
      "text/plain": [
       "<Figure size 432x288 with 1 Axes>"
      ]
     },
     "metadata": {},
     "output_type": "display_data"
    }
   ],
   "source": [
    "maj_vote_labels = majority_vote(L_unlab)\n",
    "pd.Series(maj_vote_labels).hist(bins=41)"
   ]
  },
  {
   "cell_type": "code",
   "execution_count": 42,
   "metadata": {},
   "outputs": [
    {
     "name": "stdout",
     "output_type": "stream",
     "text": [
      "Predicted class imbalance by maj voting:\n"
     ]
    },
    {
     "data": {
      "text/plain": [
       "0.0    0.690848\n",
       "1.0    0.256900\n",
       "0.5    0.052253\n",
       "dtype: float64"
      ]
     },
     "execution_count": 42,
     "metadata": {},
     "output_type": "execute_result"
    }
   ],
   "source": [
    "print \"Predicted class imbalance by maj voting:\"\n",
    "\n",
    "check_class_imbalance(maj_vote_labels)"
   ]
  },
  {
   "cell_type": "code",
   "execution_count": 45,
   "metadata": {},
   "outputs": [
    {
     "name": "stdout",
     "output_type": "stream",
     "text": [
      "Majority voting:\n",
      "\n",
      "pos/neg    2258:6909 24.6%/75.4%\n",
      "precision  61.19\n",
      "recall     63.82\n",
      "f1         62.48\n"
     ]
    },
    {
     "data": {
      "text/plain": [
       "(0.6118895966029724, 0.6381753764393269, 0.6247561239973987)"
      ]
     },
     "execution_count": 45,
     "metadata": {},
     "output_type": "execute_result"
    }
   ],
   "source": [
    "print \"Majority voting:\\n\"\n",
    "majority_vote_score(L_unlab, L_gold_unlab)"
   ]
  },
  {
   "cell_type": "code",
   "execution_count": null,
   "metadata": {},
   "outputs": [],
   "source": []
  },
  {
   "cell_type": "markdown",
   "metadata": {},
   "source": [
    "** Average voting **"
   ]
  },
  {
   "cell_type": "code",
   "execution_count": 46,
   "metadata": {},
   "outputs": [
    {
     "data": {
      "text/plain": [
       "<matplotlib.axes._subplots.AxesSubplot at 0x7f069e4069d0>"
      ]
     },
     "execution_count": 46,
     "metadata": {},
     "output_type": "execute_result"
    },
    {
     "data": {
      "image/png": "[encoded data removed]",
      "text/plain": [
       "<Figure size 432x288 with 1 Axes>"
      ]
     },
     "metadata": {},
     "output_type": "display_data"
    }
   ],
   "source": [
    "# get average of votes based on the preds of base classifiers\n",
    "avg_vote_labels = average_vote(L_unlab)\n",
    "pd.Series(avg_vote_labels).hist(bins=41)\n"
   ]
  },
  {
   "cell_type": "code",
   "execution_count": 49,
   "metadata": {},
   "outputs": [
    {
     "data": {
      "image/png": "[encoded data removed]",
      "text/plain": [
       "<Figure size 432x288 with 1 Axes>"
      ]
     },
     "metadata": {},
     "output_type": "display_data"
    }
   ],
   "source": [
    "error_analysis(L_dev, L_gold_dev, average_voting=True)"
   ]
  },
  {
   "cell_type": "markdown",
   "metadata": {},
   "source": [
    "# Denoising part"
   ]
  },
  {
   "cell_type": "markdown",
   "metadata": {},
   "source": [
    "## Find dependencies between LFs\n"
   ]
  },
  {
   "cell_type": "code",
   "execution_count": 50,
   "metadata": {},
   "outputs": [],
   "source": [
    "from itertools import combinations"
   ]
  },
  {
   "cell_type": "code",
   "execution_count": 51,
   "metadata": {},
   "outputs": [],
   "source": [
    "from snorkel.learning.structure import DependencySelector\n",
    "ds = DependencySelector()"
   ]
  },
  {
   "cell_type": "code",
   "execution_count": 52,
   "metadata": {},
   "outputs": [
    {
     "name": "stdout",
     "output_type": "stream",
     "text": [
      "[45, 43, 42, 36, 31, 24, 22, 18]\n",
      "[18, 22, 24, 31, 36, 42, 43, 45]\n",
      "Maximum nr of dependencies: 45\n"
     ]
    }
   ],
   "source": [
    "# Generate all possible dependencies with threshold from 0 to 0.15\n",
    "all_deps = [ds.select(L_unlab, threshold=thresh) for thresh in np.array(range(0.1,15.1,2.5))/100.]\n",
    "print list(map(lambda x: len(x) ,all_deps))\n",
    "all_deps = list(np.unique(all_deps)) # delete duplicates for gridsearch\n",
    "print list(map(lambda x: len(x) ,all_deps))\n",
    "\n",
    "print \"Maximum nr of dependencies: %i\" %len(list(combinations(L_dev.col_index.values(),2)))"
   ]
  },
  {
   "cell_type": "markdown",
   "metadata": {},
   "source": [
    "# GM training"
   ]
  },
  {
   "cell_type": "code",
   "execution_count": 53,
   "metadata": {},
   "outputs": [],
   "source": [
    "from snorkel.learning import RandomSearch, GenerativeModel, GridSearch"
   ]
  },
  {
   "cell_type": "markdown",
   "metadata": {},
   "source": [
    "** Hyperparameter search **"
   ]
  },
  {
   "cell_type": "code",
   "execution_count": 54,
   "metadata": {},
   "outputs": [],
   "source": [
    "param_ranges = { # parameters for the train function of the GenerativeModel\n",
    "    'step_size' : [10./L_unlab.shape[0],\n",
    "                  5./L_unlab.shape[0],\n",
    "                   15./L_unlab.shape[0]\n",
    "                  ],\n",
    "    'decay' : [0.99],\n",
    "    'epochs' : [50],\n",
    "    'reg_param': [1e-1,1e-2,1e-3],\n",
    "    'deps': all_deps\n",
    "}\n",
    "\n",
    "model_class_params = {  # parameters for the GenerativeModel\n",
    "    'lf_propensity': [True]\n",
    "}\n",
    "\n",
    "searcher = RandomSearch(GenerativeModel, param_ranges,  L_unlab, model_class_params = model_class_params , n=18 )\n"
   ]
  },
  {
   "cell_type": "code",
   "execution_count": 55,
   "metadata": {
    "scrolled": true
   },
   "outputs": [
    {
     "name": "stdout",
     "output_type": "stream",
     "text": [
      "Loading data...\n",
      "Launching jobs...\n",
      "Inferred cardinality: 2\n",
      "Inferred cardinality: 2\n",
      "Inferred cardinality: 2\n",
      "Inferred cardinality: 2\n",
      "Inferred cardinality: 2\n",
      "Inferred cardinality: 2\n",
      "[GenerativeModel] Model saved as <GenerativeModel_3>.\n",
      "[GenerativeModel] Model saved as <GenerativeModel_5>.\n",
      "Inferred cardinality: 2\n",
      "Model 3 Done; score: 0.596324836989\n",
      "Inferred cardinality: 2\n",
      "Model 5 Done; score: 0.622724419335\n",
      "[GenerativeModel] Model saved as <GenerativeModel_0>.\n",
      "[GenerativeModel] Model saved as <GenerativeModel_1>.\n",
      "[GenerativeModel] Model saved as <GenerativeModel_4>.\n",
      "[GenerativeModel] Model saved as <GenerativeModel_2>.\n",
      "Inferred cardinality: 2\n",
      "Model 4 Done; score: 0.621468926554\n",
      "Inferred cardinality: 2\n",
      "Inferred cardinality: 2\n",
      "Model 1 Done; score: 0.593694229625\n",
      "Model 0 Done; score: 0.62555626192\n",
      "[GenerativeModel] Model saved as <GenerativeModel_6>.\n",
      "Inferred cardinality: 2\n",
      "Model 2 Done; score: 0.375221238938\n",
      "[GenerativeModel] Model saved as <GenerativeModel_7>.\n",
      "Inferred cardinality: 2\n",
      "Model 6 Done; score: 0.622724419335\n",
      "Inferred cardinality: 2\n",
      "Model 7 Done; score: 0.611859838275\n",
      "[GenerativeModel] Model saved as <GenerativeModel_8>.\n",
      "[GenerativeModel] Model saved as <GenerativeModel_9>.\n",
      "[GenerativeModel] Model saved as <GenerativeModel_11>.\n",
      "[GenerativeModel] Model saved as <GenerativeModel_10>.\n",
      "Inferred cardinality: 2\n",
      "Model 9 Done; score: 0.16364902507\n",
      "[GenerativeModel] Model saved as <GenerativeModel_13>.\n",
      "Inferred cardinality: 2\n",
      "Model 8 Done; score: 0.589636688505\n",
      "Inferred cardinality: 2\n",
      "Model 11 Done; score: 0.198979591837\n",
      "Inferred cardinality: 2\n",
      "Model 10 Done; score: 0.62555626192\n",
      "[GenerativeModel] Model saved as <GenerativeModel_12>.\n",
      "Model 13 Done; score: 0.62082777036\n",
      "[GenerativeModel] Model saved as <GenerativeModel_15>.\n",
      "Model 12 Done; score: 0.611859838275\n",
      "[GenerativeModel] Model saved as <GenerativeModel_14>.\n",
      "[GenerativeModel] Model saved as <GenerativeModel_16>.\n",
      "Model 15 Done; score: 0.646568313021\n",
      "[GenerativeModel] Model saved as <GenerativeModel_17>.\n",
      "Model 14 Done; score: 0.592899408284\n",
      "Model 16 Done; score: 0.562002275313\n",
      "Model 17 Done; score: 0.645119586296\n",
      "[GenerativeModel] Model <GenerativeModel_15> loaded.\n",
      "[GenerativeModel] Model saved as <GenerativeModel_best>.\n",
      "CPU times: user 91.5 ms, sys: 63.4 ms, total: 155 ms\n",
      "Wall time: 3min 11s\n"
     ]
    }
   ],
   "source": [
    "%%time\n",
    "gen_model, run_stats = searcher.fit(L_dev, L_gold_dev, n_threads=6 )"
   ]
  },
  {
   "cell_type": "code",
   "execution_count": 56,
   "metadata": {},
   "outputs": [],
   "source": [
    "run_stats['#deps'] = list(map(lambda x: len(run_stats.deps[x]), run_stats.index)) # save # deps to identify 'deps'"
   ]
  },
  {
   "cell_type": "code",
   "execution_count": 57,
   "metadata": {
    "scrolled": true
   },
   "outputs": [
    {
     "data": {
      "text/html": [
       "<div>\n",
       "<style scoped>\n",
       "    .dataframe tbody tr th:only-of-type {\n",
       "        vertical-align: middle;\n",
       "    }\n",
       "\n",
       "    .dataframe tbody tr th {\n",
       "        vertical-align: top;\n",
       "    }\n",
       "\n",
       "    .dataframe thead th {\n",
       "        text-align: right;\n",
       "    }\n",
       "</style>\n",
       "<table border=\"1\" class=\"dataframe\">\n",
       "  <thead>\n",
       "    <tr style=\"text-align: right;\">\n",
       "      <th></th>\n",
       "      <th>Model</th>\n",
       "      <th>epochs</th>\n",
       "      <th>step_size</th>\n",
       "      <th>reg_param</th>\n",
       "      <th>deps</th>\n",
       "      <th>decay</th>\n",
       "      <th>Prec.</th>\n",
       "      <th>Rec.</th>\n",
       "      <th>F-1</th>\n",
       "      <th>#deps</th>\n",
       "    </tr>\n",
       "  </thead>\n",
       "  <tbody>\n",
       "    <tr>\n",
       "      <th>14</th>\n",
       "      <td>15</td>\n",
       "      <td>50</td>\n",
       "      <td>0.000545</td>\n",
       "      <td>0.100</td>\n",
       "      <td>{(4, 7, 0), (3, 9, 0), (2, 6, 0), (2, 8, 0), (...</td>\n",
       "      <td>0.99</td>\n",
       "      <td>0.593640</td>\n",
       "      <td>0.709859</td>\n",
       "      <td>0.646568</td>\n",
       "      <td>18</td>\n",
       "    </tr>\n",
       "    <tr>\n",
       "      <th>17</th>\n",
       "      <td>17</td>\n",
       "      <td>50</td>\n",
       "      <td>0.001636</td>\n",
       "      <td>0.100</td>\n",
       "      <td>{(4, 7, 0), (3, 9, 0), (2, 8, 0), (4, 9, 0), (...</td>\n",
       "      <td>0.99</td>\n",
       "      <td>0.596177</td>\n",
       "      <td>0.702817</td>\n",
       "      <td>0.645120</td>\n",
       "      <td>24</td>\n",
       "    </tr>\n",
       "    <tr>\n",
       "      <th>11</th>\n",
       "      <td>10</td>\n",
       "      <td>50</td>\n",
       "      <td>0.001636</td>\n",
       "      <td>0.100</td>\n",
       "      <td>{(4, 7, 0), (6, 9, 0), (3, 9, 0), (0, 5, 0), (...</td>\n",
       "      <td>0.99</td>\n",
       "      <td>0.570104</td>\n",
       "      <td>0.692958</td>\n",
       "      <td>0.625556</td>\n",
       "      <td>36</td>\n",
       "    </tr>\n",
       "    <tr>\n",
       "      <th>4</th>\n",
       "      <td>0</td>\n",
       "      <td>50</td>\n",
       "      <td>0.001636</td>\n",
       "      <td>0.100</td>\n",
       "      <td>{(4, 7, 0), (6, 9, 0), (3, 9, 0), (0, 5, 0), (...</td>\n",
       "      <td>0.99</td>\n",
       "      <td>0.570104</td>\n",
       "      <td>0.692958</td>\n",
       "      <td>0.625556</td>\n",
       "      <td>36</td>\n",
       "    </tr>\n",
       "    <tr>\n",
       "      <th>6</th>\n",
       "      <td>6</td>\n",
       "      <td>50</td>\n",
       "      <td>0.001636</td>\n",
       "      <td>0.100</td>\n",
       "      <td>{(4, 7, 0), (6, 9, 0), (3, 9, 0), (0, 5, 0), (...</td>\n",
       "      <td>0.99</td>\n",
       "      <td>0.561721</td>\n",
       "      <td>0.698592</td>\n",
       "      <td>0.622724</td>\n",
       "      <td>43</td>\n",
       "    </tr>\n",
       "    <tr>\n",
       "      <th>1</th>\n",
       "      <td>5</td>\n",
       "      <td>50</td>\n",
       "      <td>0.001636</td>\n",
       "      <td>0.100</td>\n",
       "      <td>{(4, 7, 0), (6, 9, 0), (3, 9, 0), (0, 5, 0), (...</td>\n",
       "      <td>0.99</td>\n",
       "      <td>0.561721</td>\n",
       "      <td>0.698592</td>\n",
       "      <td>0.622724</td>\n",
       "      <td>43</td>\n",
       "    </tr>\n",
       "    <tr>\n",
       "      <th>2</th>\n",
       "      <td>4</td>\n",
       "      <td>50</td>\n",
       "      <td>0.001091</td>\n",
       "      <td>0.100</td>\n",
       "      <td>{(4, 7, 0), (6, 9, 0), (3, 9, 0), (0, 5, 0), (...</td>\n",
       "      <td>0.99</td>\n",
       "      <td>0.560589</td>\n",
       "      <td>0.697183</td>\n",
       "      <td>0.621469</td>\n",
       "      <td>42</td>\n",
       "    </tr>\n",
       "    <tr>\n",
       "      <th>12</th>\n",
       "      <td>13</td>\n",
       "      <td>50</td>\n",
       "      <td>0.000545</td>\n",
       "      <td>0.100</td>\n",
       "      <td>{(4, 7, 0), (3, 9, 0), (2, 8, 0), (4, 9, 0), (...</td>\n",
       "      <td>0.99</td>\n",
       "      <td>0.590102</td>\n",
       "      <td>0.654930</td>\n",
       "      <td>0.620828</td>\n",
       "      <td>24</td>\n",
       "    </tr>\n",
       "    <tr>\n",
       "      <th>13</th>\n",
       "      <td>12</td>\n",
       "      <td>50</td>\n",
       "      <td>0.001091</td>\n",
       "      <td>0.100</td>\n",
       "      <td>{(4, 7, 0), (6, 9, 0), (3, 9, 0), (2, 3, 0), (...</td>\n",
       "      <td>0.99</td>\n",
       "      <td>0.586563</td>\n",
       "      <td>0.639437</td>\n",
       "      <td>0.611860</td>\n",
       "      <td>31</td>\n",
       "    </tr>\n",
       "    <tr>\n",
       "      <th>7</th>\n",
       "      <td>7</td>\n",
       "      <td>50</td>\n",
       "      <td>0.000545</td>\n",
       "      <td>0.100</td>\n",
       "      <td>{(4, 7, 0), (6, 9, 0), (3, 9, 0), (2, 3, 0), (...</td>\n",
       "      <td>0.99</td>\n",
       "      <td>0.586563</td>\n",
       "      <td>0.639437</td>\n",
       "      <td>0.611860</td>\n",
       "      <td>31</td>\n",
       "    </tr>\n",
       "    <tr>\n",
       "      <th>0</th>\n",
       "      <td>3</td>\n",
       "      <td>50</td>\n",
       "      <td>0.001636</td>\n",
       "      <td>0.010</td>\n",
       "      <td>{(4, 7, 0), (3, 9, 0), (2, 8, 0), (4, 9, 0), (...</td>\n",
       "      <td>0.99</td>\n",
       "      <td>0.514841</td>\n",
       "      <td>0.708451</td>\n",
       "      <td>0.596325</td>\n",
       "      <td>22</td>\n",
       "    </tr>\n",
       "    <tr>\n",
       "      <th>3</th>\n",
       "      <td>1</td>\n",
       "      <td>50</td>\n",
       "      <td>0.000545</td>\n",
       "      <td>0.010</td>\n",
       "      <td>{(4, 7, 0), (6, 9, 0), (3, 9, 0), (0, 5, 0), (...</td>\n",
       "      <td>0.99</td>\n",
       "      <td>0.513903</td>\n",
       "      <td>0.702817</td>\n",
       "      <td>0.593694</td>\n",
       "      <td>36</td>\n",
       "    </tr>\n",
       "    <tr>\n",
       "      <th>15</th>\n",
       "      <td>14</td>\n",
       "      <td>50</td>\n",
       "      <td>0.001636</td>\n",
       "      <td>0.010</td>\n",
       "      <td>{(4, 7, 0), (6, 9, 0), (3, 9, 0), (0, 5, 0), (...</td>\n",
       "      <td>0.99</td>\n",
       "      <td>0.511224</td>\n",
       "      <td>0.705634</td>\n",
       "      <td>0.592899</td>\n",
       "      <td>42</td>\n",
       "    </tr>\n",
       "    <tr>\n",
       "      <th>9</th>\n",
       "      <td>8</td>\n",
       "      <td>50</td>\n",
       "      <td>0.001636</td>\n",
       "      <td>0.010</td>\n",
       "      <td>{(4, 7, 0), (3, 9, 0), (2, 8, 0), (4, 9, 0), (...</td>\n",
       "      <td>0.99</td>\n",
       "      <td>0.510836</td>\n",
       "      <td>0.697183</td>\n",
       "      <td>0.589637</td>\n",
       "      <td>24</td>\n",
       "    </tr>\n",
       "    <tr>\n",
       "      <th>16</th>\n",
       "      <td>16</td>\n",
       "      <td>50</td>\n",
       "      <td>0.001091</td>\n",
       "      <td>0.010</td>\n",
       "      <td>{(4, 7, 0), (6, 9, 0), (3, 9, 0), (2, 3, 0), (...</td>\n",
       "      <td>0.99</td>\n",
       "      <td>0.471374</td>\n",
       "      <td>0.695775</td>\n",
       "      <td>0.562002</td>\n",
       "      <td>31</td>\n",
       "    </tr>\n",
       "    <tr>\n",
       "      <th>5</th>\n",
       "      <td>2</td>\n",
       "      <td>50</td>\n",
       "      <td>0.001636</td>\n",
       "      <td>0.001</td>\n",
       "      <td>{(4, 7, 0), (6, 9, 0), (3, 9, 0), (0, 5, 0), (...</td>\n",
       "      <td>0.99</td>\n",
       "      <td>0.322843</td>\n",
       "      <td>0.447887</td>\n",
       "      <td>0.375221</td>\n",
       "      <td>43</td>\n",
       "    </tr>\n",
       "    <tr>\n",
       "      <th>10</th>\n",
       "      <td>11</td>\n",
       "      <td>50</td>\n",
       "      <td>0.000545</td>\n",
       "      <td>0.001</td>\n",
       "      <td>{(4, 7, 0), (3, 9, 0), (2, 6, 0), (2, 8, 0), (...</td>\n",
       "      <td>0.99</td>\n",
       "      <td>0.134218</td>\n",
       "      <td>0.384507</td>\n",
       "      <td>0.198980</td>\n",
       "      <td>18</td>\n",
       "    </tr>\n",
       "    <tr>\n",
       "      <th>8</th>\n",
       "      <td>9</td>\n",
       "      <td>50</td>\n",
       "      <td>0.000545</td>\n",
       "      <td>0.001</td>\n",
       "      <td>{(4, 7, 0), (3, 9, 0), (2, 8, 0), (4, 9, 0), (...</td>\n",
       "      <td>0.99</td>\n",
       "      <td>0.108696</td>\n",
       "      <td>0.330986</td>\n",
       "      <td>0.163649</td>\n",
       "      <td>22</td>\n",
       "    </tr>\n",
       "  </tbody>\n",
       "</table>\n",
       "</div>"
      ],
      "text/plain": [
       "    Model  epochs  step_size  reg_param  \\\n",
       "14     15      50   0.000545      0.100   \n",
       "17     17      50   0.001636      0.100   \n",
       "11     10      50   0.001636      0.100   \n",
       "4       0      50   0.001636      0.100   \n",
       "6       6      50   0.001636      0.100   \n",
       "1       5      50   0.001636      0.100   \n",
       "2       4      50   0.001091      0.100   \n",
       "12     13      50   0.000545      0.100   \n",
       "13     12      50   0.001091      0.100   \n",
       "7       7      50   0.000545      0.100   \n",
       "0       3      50   0.001636      0.010   \n",
       "3       1      50   0.000545      0.010   \n",
       "15     14      50   0.001636      0.010   \n",
       "9       8      50   0.001636      0.010   \n",
       "16     16      50   0.001091      0.010   \n",
       "5       2      50   0.001636      0.001   \n",
       "10     11      50   0.000545      0.001   \n",
       "8       9      50   0.000545      0.001   \n",
       "\n",
       "                                                 deps  decay     Prec.  \\\n",
       "14  {(4, 7, 0), (3, 9, 0), (2, 6, 0), (2, 8, 0), (...   0.99  0.593640   \n",
       "17  {(4, 7, 0), (3, 9, 0), (2, 8, 0), (4, 9, 0), (...   0.99  0.596177   \n",
       "11  {(4, 7, 0), (6, 9, 0), (3, 9, 0), (0, 5, 0), (...   0.99  0.570104   \n",
       "4   {(4, 7, 0), (6, 9, 0), (3, 9, 0), (0, 5, 0), (...   0.99  0.570104   \n",
       "6   {(4, 7, 0), (6, 9, 0), (3, 9, 0), (0, 5, 0), (...   0.99  0.561721   \n",
       "1   {(4, 7, 0), (6, 9, 0), (3, 9, 0), (0, 5, 0), (...   0.99  0.561721   \n",
       "2   {(4, 7, 0), (6, 9, 0), (3, 9, 0), (0, 5, 0), (...   0.99  0.560589   \n",
       "12  {(4, 7, 0), (3, 9, 0), (2, 8, 0), (4, 9, 0), (...   0.99  0.590102   \n",
       "13  {(4, 7, 0), (6, 9, 0), (3, 9, 0), (2, 3, 0), (...   0.99  0.586563   \n",
       "7   {(4, 7, 0), (6, 9, 0), (3, 9, 0), (2, 3, 0), (...   0.99  0.586563   \n",
       "0   {(4, 7, 0), (3, 9, 0), (2, 8, 0), (4, 9, 0), (...   0.99  0.514841   \n",
       "3   {(4, 7, 0), (6, 9, 0), (3, 9, 0), (0, 5, 0), (...   0.99  0.513903   \n",
       "15  {(4, 7, 0), (6, 9, 0), (3, 9, 0), (0, 5, 0), (...   0.99  0.511224   \n",
       "9   {(4, 7, 0), (3, 9, 0), (2, 8, 0), (4, 9, 0), (...   0.99  0.510836   \n",
       "16  {(4, 7, 0), (6, 9, 0), (3, 9, 0), (2, 3, 0), (...   0.99  0.471374   \n",
       "5   {(4, 7, 0), (6, 9, 0), (3, 9, 0), (0, 5, 0), (...   0.99  0.322843   \n",
       "10  {(4, 7, 0), (3, 9, 0), (2, 6, 0), (2, 8, 0), (...   0.99  0.134218   \n",
       "8   {(4, 7, 0), (3, 9, 0), (2, 8, 0), (4, 9, 0), (...   0.99  0.108696   \n",
       "\n",
       "        Rec.       F-1  #deps  \n",
       "14  0.709859  0.646568     18  \n",
       "17  0.702817  0.645120     24  \n",
       "11  0.692958  0.625556     36  \n",
       "4   0.692958  0.625556     36  \n",
       "6   0.698592  0.622724     43  \n",
       "1   0.698592  0.622724     43  \n",
       "2   0.697183  0.621469     42  \n",
       "12  0.654930  0.620828     24  \n",
       "13  0.639437  0.611860     31  \n",
       "7   0.639437  0.611860     31  \n",
       "0   0.708451  0.596325     22  \n",
       "3   0.702817  0.593694     36  \n",
       "15  0.705634  0.592899     42  \n",
       "9   0.697183  0.589637     24  \n",
       "16  0.695775  0.562002     31  \n",
       "5   0.447887  0.375221     43  \n",
       "10  0.384507  0.198980     18  \n",
       "8   0.330986  0.163649     22  "
      ]
     },
     "execution_count": 57,
     "metadata": {},
     "output_type": "execute_result"
    }
   ],
   "source": [
    "run_stats"
   ]
  },
  {
   "cell_type": "code",
   "execution_count": 58,
   "metadata": {},
   "outputs": [
    {
     "name": "stdout",
     "output_type": "stream",
     "text": [
      "========================================\n",
      "Scores (Un-adjusted)\n",
      "========================================\n",
      "Pos. class accuracy: 0.71\n",
      "Neg. class accuracy: 0.864\n",
      "Precision            0.594\n",
      "Recall               0.71\n",
      "F1                   0.647\n",
      "----------------------------------------\n",
      "TP: 504 | FP: 345 | TN: 2187 | FN: 206\n",
      "========================================\n",
      "\n"
     ]
    }
   ],
   "source": [
    "_ = gen_model.error_analysis(session, L_dev, L_gold_dev)"
   ]
  },
  {
   "cell_type": "code",
   "execution_count": 59,
   "metadata": {},
   "outputs": [
    {
     "name": "stdout",
     "output_type": "stream",
     "text": [
      "pos/neg    710:2532 21.9%/78.1%\n",
      "precision  61.04\n",
      "recall     64.65\n",
      "f1         62.79\n"
     ]
    },
    {
     "data": {
      "text/plain": [
       "(0.6103723404255319, 0.6464788732394366, 0.627906976744186)"
      ]
     },
     "execution_count": 59,
     "metadata": {},
     "output_type": "execute_result"
    }
   ],
   "source": [
    "majority_vote_score(L_dev,L_gold_dev)"
   ]
  },
  {
   "cell_type": "code",
   "execution_count": 60,
   "metadata": {},
   "outputs": [
    {
     "data": {
      "image/png": "[encoded data removed]",
      "text/plain": [
       "<Figure size 432x288 with 1 Axes>"
      ]
     },
     "metadata": {},
     "output_type": "display_data"
    }
   ],
   "source": [
    "error_analysis(L_dev,L_gold_dev, gen_model=gen_model, )"
   ]
  },
  {
   "cell_type": "code",
   "execution_count": 61,
   "metadata": {},
   "outputs": [
    {
     "data": {
      "image/png": "[encoded data removed]",
      "text/plain": [
       "<Figure size 432x288 with 1 Axes>"
      ]
     },
     "metadata": {},
     "output_type": "display_data"
    }
   ],
   "source": [
    "error_analysis(L_dev,L_gold_dev, average_voting=True )"
   ]
  },
  {
   "cell_type": "markdown",
   "metadata": {},
   "source": [
    "**  (with fixed params) **"
   ]
  },
  {
   "cell_type": "code",
   "execution_count": 62,
   "metadata": {},
   "outputs": [],
   "source": [
    "# %%time\n",
    "# # actual training of the gen. model\n",
    "# from snorkel.learning import GenerativeModel\n",
    "\n",
    "# gen_model = GenerativeModel(lf_propensity=True, class_prior=False )\n",
    "\n",
    "# gen_model.train(\n",
    "#     L_unlab, decay=0.99, threads = 6, deps=all_deps[2], #reg_param = 1e-200, step_size = 10./L_unlab.shape[0],\n",
    "#     #epochs=50\n",
    "# )\n"
   ]
  },
  {
   "cell_type": "code",
   "execution_count": 63,
   "metadata": {},
   "outputs": [],
   "source": [
    "# _ = gen_model.error_analysis(session, L_dev, L_gold_dev)"
   ]
  },
  {
   "cell_type": "markdown",
   "metadata": {},
   "source": [
    "** Load a previous model **"
   ]
  },
  {
   "cell_type": "code",
   "execution_count": 64,
   "metadata": {},
   "outputs": [],
   "source": [
    "# # Possibly load previously run model\n",
    "# gen_model.load('GenerativeModel_8', save_dir='checkpoints/grid_search/')\n"
   ]
  },
  {
   "cell_type": "code",
   "execution_count": 65,
   "metadata": {},
   "outputs": [],
   "source": [
    "# _ = gen_model.error_analysis(session, L_dev, L_gold_dev)"
   ]
  },
  {
   "cell_type": "markdown",
   "metadata": {},
   "source": [
    "# Select GM and proceed"
   ]
  },
  {
   "cell_type": "code",
   "execution_count": 66,
   "metadata": {},
   "outputs": [],
   "source": [
    "unlab_marginals_gen = gen_model.marginals(L_unlab)\n",
    "unlab_marginals_avg = average_vote(L_unlab)\n",
    "unlab_marginals_maj = majority_vote(L_unlab)\n"
   ]
  },
  {
   "cell_type": "code",
   "execution_count": null,
   "metadata": {},
   "outputs": [],
   "source": [
    "# save marginals in db for training in a different file\n",
    "# save_marginals(session, L_unlab, unlab_marginals)"
   ]
  },
  {
   "cell_type": "markdown",
   "metadata": {},
   "source": [
    "# Discriminative model learning"
   ]
  },
  {
   "cell_type": "code",
   "execution_count": 71,
   "metadata": {},
   "outputs": [],
   "source": [
    "from MLutils import balance_candidates"
   ]
  },
  {
   "cell_type": "code",
   "execution_count": 72,
   "metadata": {},
   "outputs": [],
   "source": [
    "from snorkel.learning import reRNN"
   ]
  },
  {
   "cell_type": "code",
   "execution_count": 73,
   "metadata": {},
   "outputs": [
    {
     "data": {
      "text/plain": [
       "<8221x1 sparse matrix of type '<type 'numpy.int64'>'\n",
       "\twith 8221 stored elements in Compressed Sparse Row format>"
      ]
     },
     "execution_count": 73,
     "metadata": {},
     "output_type": "execute_result"
    }
   ],
   "source": [
    "L_gold_test = load_gold_labels(session, annotator_name='gold', split=2)\n",
    "L_gold_test"
   ]
  },
  {
   "cell_type": "markdown",
   "metadata": {},
   "source": [
    "## Without GS"
   ]
  },
  {
   "cell_type": "code",
   "execution_count": 74,
   "metadata": {},
   "outputs": [],
   "source": [
    "# plt.hist(unlab_marginals, bins=20)\n",
    "# plt.title('Histogram of marginals with candidates undersampled before GM ')\n",
    "# plt.show()"
   ]
  },
  {
   "cell_type": "code",
   "execution_count": 75,
   "metadata": {},
   "outputs": [],
   "source": [
    "# ### balance cands here to shuffle \n",
    "# unlab_us, unlab_marginals_us = balance_candidates(unlab, unlab_marginals)\n"
   ]
  },
  {
   "cell_type": "markdown",
   "metadata": {},
   "source": [
    "** with Generative model marginals **"
   ]
  },
  {
   "cell_type": "code",
   "execution_count": 76,
   "metadata": {},
   "outputs": [
    {
     "data": {
      "image/png": "[encoded data removed]",
      "text/plain": [
       "<Figure size 432x288 with 1 Axes>"
      ]
     },
     "metadata": {},
     "output_type": "display_data"
    }
   ],
   "source": [
    "plot_marginals_histogram(unlab_marginals_gen, \n",
    "                         title = 'Histogram of marginals' ,\n",
    "                        bins = 20)"
   ]
  },
  {
   "cell_type": "code",
   "execution_count": 77,
   "metadata": {},
   "outputs": [
    {
     "name": "stderr",
     "output_type": "stream",
     "text": [
      "/home/antonis/anaconda2/envs/snorkel27clone/lib/python2.7/site-packages/tensorflow/python/ops/gradients_impl.py:100: UserWarning: Converting sparse IndexedSlices to a dense Tensor of unknown shape. This may consume a large amount of memory.\n",
      "  \"Converting sparse IndexedSlices to a dense Tensor of unknown shape. \"\n"
     ]
    },
    {
     "name": "stdout",
     "output_type": "stream",
     "text": [
      "[reRNN] Training model\n",
      "[reRNN] n_train=5264  #epochs=20  batch size=256\n",
      "[reRNN] Epoch 0 (22.01s)\tAverage loss=0.646344\tDev F1=41.72\n",
      "[reRNN] Epoch 1 (47.44s)\tAverage loss=0.397521\tDev F1=43.33\n",
      "[reRNN] Epoch 2 (73.31s)\tAverage loss=0.311475\tDev F1=37.04\n",
      "[reRNN] Epoch 3 (98.79s)\tAverage loss=0.274011\tDev F1=41.35\n",
      "[reRNN] Epoch 4 (124.99s)\tAverage loss=0.242708\tDev F1=46.42\n",
      "[reRNN] Epoch 5 (151.32s)\tAverage loss=0.226415\tDev F1=40.81\n",
      "[reRNN] Epoch 6 (176.60s)\tAverage loss=0.214447\tDev F1=49.97\n",
      "[reRNN] Epoch 7 (202.17s)\tAverage loss=0.195886\tDev F1=51.17\n",
      "[reRNN] Epoch 8 (227.31s)\tAverage loss=0.181078\tDev F1=51.97\n",
      "[reRNN] Epoch 9 (252.41s)\tAverage loss=0.168464\tDev F1=50.25\n",
      "[reRNN] Epoch 10 (278.26s)\tAverage loss=0.155555\tDev F1=53.24\n",
      "[reRNN] Epoch 11 (305.84s)\tAverage loss=0.150571\tDev F1=52.46\n",
      "[reRNN] Epoch 12 (331.66s)\tAverage loss=0.146984\tDev F1=55.63\n",
      "[reRNN] Epoch 13 (357.28s)\tAverage loss=0.134662\tDev F1=53.79\n",
      "[reRNN] Epoch 14 (383.06s)\tAverage loss=0.131648\tDev F1=54.42\n",
      "[reRNN] Epoch 15 (409.16s)\tAverage loss=0.129741\tDev F1=54.82\n",
      "[reRNN] Epoch 16 (434.64s)\tAverage loss=0.132658\tDev F1=54.68\n",
      "[reRNN] Model saved as <reRNN>\n",
      "[reRNN] Epoch 17 (460.35s)\tAverage loss=0.127050\tDev F1=53.02\n",
      "[reRNN] Epoch 18 (487.03s)\tAverage loss=0.128582\tDev F1=55.13\n",
      "[reRNN] Model saved as <reRNN>\n",
      "[reRNN] Epoch 19 (513.45s)\tAverage loss=0.124748\tDev F1=53.25\n",
      "[reRNN] Training done (517.31s)\n",
      "INFO:tensorflow:Restoring parameters from checkpoints/reRNN/reRNN-18\n",
      "[reRNN] Loaded model <reRNN>\n"
     ]
    }
   ],
   "source": [
    "train_kwargs = {\n",
    "    'lr':         0.01,\n",
    "    'dim':        100,\n",
    "    'n_epochs':   20,\n",
    "    'dropout':    0.25,\n",
    "    'rebalance':  True,\n",
    "    'print_freq': 1,\n",
    "    'batch_size': 256\n",
    "}\n",
    "\n",
    "lstm = reRNN(seed=1701, n_threads=6,)\n",
    "lstm.train(unlab, unlab_marginals_gen , X_dev=dev, Y_dev=L_gold_dev, dev_ckpt_delay=0, **train_kwargs)"
   ]
  },
  {
   "cell_type": "code",
   "execution_count": 78,
   "metadata": {},
   "outputs": [
    {
     "name": "stdout",
     "output_type": "stream",
     "text": [
      "========================================\n",
      "Scores (Un-adjusted)\n",
      "========================================\n",
      "Pos. class accuracy: 0.617\n",
      "Neg. class accuracy: 0.826\n",
      "Precision            0.498\n",
      "Recall               0.617\n",
      "F1                   0.551\n",
      "----------------------------------------\n",
      "TP: 438 | FP: 441 | TN: 2091 | FN: 272\n",
      "========================================\n",
      "\n"
     ]
    }
   ],
   "source": [
    "tp, fp, tn, fn = lstm.error_analysis(session, dev, L_gold_dev, batch_size = 1024)"
   ]
  },
  {
   "cell_type": "code",
   "execution_count": 79,
   "metadata": {},
   "outputs": [
    {
     "name": "stdout",
     "output_type": "stream",
     "text": [
      "========================================\n",
      "Scores (Un-adjusted)\n",
      "========================================\n",
      "Pos. class accuracy: 0.585\n",
      "Neg. class accuracy: 0.799\n",
      "Precision            0.48\n",
      "Recall               0.585\n",
      "F1                   0.527\n",
      "----------------------------------------\n",
      "TP: 1160 | FP: 1256 | TN: 4981 | FN: 824\n",
      "========================================\n",
      "\n"
     ]
    }
   ],
   "source": [
    "tp, fp, tn, fn = lstm.error_analysis(session, test, L_gold_test, batch_size = 1024)"
   ]
  },
  {
   "cell_type": "code",
   "execution_count": null,
   "metadata": {},
   "outputs": [],
   "source": []
  },
  {
   "cell_type": "markdown",
   "metadata": {},
   "source": [
    "** with averaging marginals **"
   ]
  },
  {
   "cell_type": "code",
   "execution_count": null,
   "metadata": {},
   "outputs": [],
   "source": []
  },
  {
   "cell_type": "code",
   "execution_count": 87,
   "metadata": {},
   "outputs": [
    {
     "data": {
      "image/png": "[encoded data removed]",
      "text/plain": [
       "<Figure size 432x288 with 1 Axes>"
      ]
     },
     "metadata": {},
     "output_type": "display_data"
    }
   ],
   "source": [
    "plot_marginals_histogram(unlab_marginals_avg, \n",
    "                         title = 'Histogram of marginals' ,\n",
    "                        bins = 20)"
   ]
  },
  {
   "cell_type": "code",
   "execution_count": 91,
   "metadata": {},
   "outputs": [
    {
     "name": "stderr",
     "output_type": "stream",
     "text": [
      "/home/antonis/anaconda2/envs/snorkel27clone/lib/python2.7/site-packages/tensorflow/python/ops/gradients_impl.py:100: UserWarning: Converting sparse IndexedSlices to a dense Tensor of unknown shape. This may consume a large amount of memory.\n",
      "  \"Converting sparse IndexedSlices to a dense Tensor of unknown shape. \"\n"
     ]
    },
    {
     "name": "stdout",
     "output_type": "stream",
     "text": [
      "[reRNN] Training model\n",
      "[reRNN] n_train=4710  #epochs=50  batch size=256\n",
      "[reRNN] Epoch 0 (19.19s)\tAverage loss=0.632720\tDev F1=39.32\n",
      "[reRNN] Epoch 1 (43.20s)\tAverage loss=0.469784\tDev F1=42.54\n",
      "[reRNN] Model saved as <reRNN>\n",
      "[reRNN] Epoch 2 (67.20s)\tAverage loss=0.434243\tDev F1=41.59\n",
      "[reRNN] Epoch 3 (90.59s)\tAverage loss=0.415756\tDev F1=46.87\n",
      "[reRNN] Model saved as <reRNN>\n",
      "[reRNN] Epoch 4 (114.87s)\tAverage loss=0.407203\tDev F1=43.99\n",
      "[reRNN] Epoch 5 (138.51s)\tAverage loss=0.397426\tDev F1=47.35\n",
      "[reRNN] Model saved as <reRNN>\n",
      "[reRNN] Epoch 6 (162.12s)\tAverage loss=0.390338\tDev F1=49.29\n",
      "[reRNN] Model saved as <reRNN>\n",
      "[reRNN] Epoch 7 (185.14s)\tAverage loss=0.385463\tDev F1=48.91\n",
      "[reRNN] Epoch 8 (208.80s)\tAverage loss=0.378498\tDev F1=48.00\n",
      "[reRNN] Epoch 9 (234.31s)\tAverage loss=0.376280\tDev F1=50.31\n",
      "[reRNN] Model saved as <reRNN>\n",
      "[reRNN] Epoch 10 (257.89s)\tAverage loss=0.375565\tDev F1=48.85\n",
      "[reRNN] Epoch 11 (281.61s)\tAverage loss=0.369028\tDev F1=49.30\n",
      "[reRNN] Epoch 12 (304.49s)\tAverage loss=0.363275\tDev F1=52.31\n",
      "[reRNN] Model saved as <reRNN>\n",
      "[reRNN] Epoch 13 (327.01s)\tAverage loss=0.360586\tDev F1=53.68\n",
      "[reRNN] Model saved as <reRNN>\n",
      "[reRNN] Epoch 14 (350.44s)\tAverage loss=0.357855\tDev F1=51.93\n",
      "[reRNN] Epoch 15 (373.25s)\tAverage loss=0.355450\tDev F1=53.10\n",
      "[reRNN] Epoch 16 (395.73s)\tAverage loss=0.353070\tDev F1=53.42\n",
      "[reRNN] Epoch 17 (419.88s)\tAverage loss=0.353073\tDev F1=52.01\n",
      "[reRNN] Epoch 18 (443.66s)\tAverage loss=0.350651\tDev F1=52.68\n",
      "[reRNN] Epoch 19 (467.33s)\tAverage loss=0.348808\tDev F1=51.74\n",
      "[reRNN] Epoch 20 (491.37s)\tAverage loss=0.349241\tDev F1=52.25\n",
      "[reRNN] Epoch 21 (515.25s)\tAverage loss=0.345694\tDev F1=53.43\n",
      "[reRNN] Epoch 22 (538.94s)\tAverage loss=0.347394\tDev F1=53.20\n",
      "[reRNN] Epoch 23 (562.53s)\tAverage loss=0.345731\tDev F1=52.80\n",
      "[reRNN] Epoch 24 (586.20s)\tAverage loss=0.345843\tDev F1=52.89\n",
      "[reRNN] Epoch 25 (610.57s)\tAverage loss=0.346530\tDev F1=53.76\n",
      "[reRNN] Model saved as <reRNN>\n",
      "[reRNN] Epoch 26 (634.49s)\tAverage loss=0.345627\tDev F1=53.76\n",
      "[reRNN] Epoch 27 (658.83s)\tAverage loss=0.346050\tDev F1=52.34\n",
      "[reRNN] Epoch 28 (681.90s)\tAverage loss=0.342544\tDev F1=52.31\n",
      "[reRNN] Epoch 29 (706.76s)\tAverage loss=0.344564\tDev F1=53.64\n",
      "[reRNN] Epoch 30 (731.77s)\tAverage loss=0.342920\tDev F1=53.57\n",
      "[reRNN] Epoch 31 (755.63s)\tAverage loss=0.342993\tDev F1=53.18\n",
      "[reRNN] Epoch 32 (778.21s)\tAverage loss=0.342561\tDev F1=51.65\n",
      "[reRNN] Epoch 33 (801.52s)\tAverage loss=0.341752\tDev F1=52.92\n",
      "[reRNN] Epoch 34 (825.46s)\tAverage loss=0.340370\tDev F1=52.66\n",
      "[reRNN] Epoch 35 (848.83s)\tAverage loss=0.339682\tDev F1=53.37\n",
      "[reRNN] Epoch 36 (872.74s)\tAverage loss=0.339734\tDev F1=52.66\n",
      "[reRNN] Epoch 37 (896.52s)\tAverage loss=0.341125\tDev F1=52.25\n",
      "[reRNN] Epoch 38 (919.43s)\tAverage loss=0.342555\tDev F1=51.41\n",
      "[reRNN] Epoch 39 (945.37s)\tAverage loss=0.343992\tDev F1=53.21\n",
      "[reRNN] Epoch 40 (970.17s)\tAverage loss=0.343199\tDev F1=52.31\n",
      "[reRNN] Epoch 41 (993.66s)\tAverage loss=0.341673\tDev F1=53.24\n",
      "[reRNN] Epoch 42 (1017.76s)\tAverage loss=0.341277\tDev F1=51.38\n",
      "[reRNN] Epoch 43 (1041.14s)\tAverage loss=0.340441\tDev F1=52.32\n",
      "[reRNN] Epoch 44 (1064.20s)\tAverage loss=0.341392\tDev F1=52.24\n",
      "[reRNN] Epoch 45 (1088.49s)\tAverage loss=0.340161\tDev F1=51.93\n",
      "[reRNN] Epoch 46 (1113.39s)\tAverage loss=0.340018\tDev F1=52.34\n",
      "[reRNN] Epoch 47 (1137.77s)\tAverage loss=0.339064\tDev F1=52.90\n",
      "[reRNN] Epoch 48 (1161.51s)\tAverage loss=0.339082\tDev F1=52.07\n",
      "[reRNN] Epoch 49 (1185.02s)\tAverage loss=0.340296\tDev F1=52.23\n",
      "[reRNN] Training done (1188.78s)\n",
      "INFO:tensorflow:Restoring parameters from checkpoints/reRNN/reRNN-25\n",
      "[reRNN] Loaded model <reRNN>\n"
     ]
    }
   ],
   "source": [
    "train_kwargs = {\n",
    "    'lr':         0.01,\n",
    "    'dim':        100,\n",
    "    'n_epochs':   50,\n",
    "    'dropout':    0.25,\n",
    "    'rebalance':  True,\n",
    "    'print_freq': 1,\n",
    "    'batch_size': 256\n",
    "}\n",
    "\n",
    "lstm = reRNN(seed=1701, n_threads=6,)\n",
    "lstm.train(unlab, unlab_marginals_avg , X_dev=dev, Y_dev=L_gold_dev,  dev_ckpt_delay=0, **train_kwargs)"
   ]
  },
  {
   "cell_type": "code",
   "execution_count": 92,
   "metadata": {},
   "outputs": [
    {
     "name": "stdout",
     "output_type": "stream",
     "text": [
      "========================================\n",
      "Scores (Un-adjusted)\n",
      "========================================\n",
      "Pos. class accuracy: 0.644\n",
      "Neg. class accuracy: 0.789\n",
      "Precision            0.462\n",
      "Recall               0.644\n",
      "F1                   0.538\n",
      "----------------------------------------\n",
      "TP: 457 | FP: 533 | TN: 1999 | FN: 253\n",
      "========================================\n",
      "\n"
     ]
    }
   ],
   "source": [
    "tp, fp, tn, fn = lstm.error_analysis(session, dev, L_gold_dev, batch_size = 1024)"
   ]
  },
  {
   "cell_type": "code",
   "execution_count": 93,
   "metadata": {},
   "outputs": [
    {
     "name": "stdout",
     "output_type": "stream",
     "text": [
      "========================================\n",
      "Scores (Un-adjusted)\n",
      "========================================\n",
      "Pos. class accuracy: 0.614\n",
      "Neg. class accuracy: 0.768\n",
      "Precision            0.458\n",
      "Recall               0.614\n",
      "F1                   0.525\n",
      "----------------------------------------\n",
      "TP: 1219 | FP: 1444 | TN: 4793 | FN: 765\n",
      "========================================\n",
      "\n"
     ]
    }
   ],
   "source": [
    "tp, fp, tn, fn = lstm.error_analysis(session, test, L_gold_test, batch_size = 1024)"
   ]
  },
  {
   "cell_type": "code",
   "execution_count": null,
   "metadata": {},
   "outputs": [],
   "source": []
  },
  {
   "cell_type": "markdown",
   "metadata": {},
   "source": [
    "** with majority vote labels **"
   ]
  },
  {
   "cell_type": "code",
   "execution_count": 80,
   "metadata": {},
   "outputs": [
    {
     "data": {
      "image/png": "[encoded data removed]",
      "text/plain": [
       "<Figure size 432x288 with 1 Axes>"
      ]
     },
     "metadata": {},
     "output_type": "display_data"
    }
   ],
   "source": [
    "plot_marginals_histogram(unlab_marginals_maj, \n",
    "                         title = 'Histogram of marginals' ,\n",
    "                        bins = 20)"
   ]
  },
  {
   "cell_type": "code",
   "execution_count": 81,
   "metadata": {},
   "outputs": [
    {
     "name": "stderr",
     "output_type": "stream",
     "text": [
      "/home/antonis/anaconda2/envs/snorkel27clone/lib/python2.7/site-packages/tensorflow/python/ops/gradients_impl.py:100: UserWarning: Converting sparse IndexedSlices to a dense Tensor of unknown shape. This may consume a large amount of memory.\n",
      "  \"Converting sparse IndexedSlices to a dense Tensor of unknown shape. \"\n"
     ]
    },
    {
     "name": "stdout",
     "output_type": "stream",
     "text": [
      "[reRNN] Training model\n",
      "[reRNN] n_train=4710  #epochs=20  batch size=256\n",
      "[reRNN] Epoch 0 (19.36s)\tAverage loss=0.556222\tDev F1=40.55\n",
      "[reRNN] Epoch 1 (42.64s)\tAverage loss=0.292208\tDev F1=48.40\n",
      "[reRNN] Epoch 2 (66.38s)\tAverage loss=0.215730\tDev F1=49.50\n",
      "[reRNN] Epoch 3 (89.82s)\tAverage loss=0.178682\tDev F1=48.07\n",
      "[reRNN] Epoch 4 (113.74s)\tAverage loss=0.146864\tDev F1=45.96\n",
      "[reRNN] Epoch 5 (137.11s)\tAverage loss=0.127989\tDev F1=50.00\n",
      "[reRNN] Epoch 6 (160.53s)\tAverage loss=0.107927\tDev F1=50.35\n",
      "[reRNN] Epoch 7 (183.37s)\tAverage loss=0.103547\tDev F1=48.19\n",
      "[reRNN] Epoch 8 (207.05s)\tAverage loss=0.099654\tDev F1=51.55\n",
      "[reRNN] Epoch 9 (230.69s)\tAverage loss=0.079262\tDev F1=48.65\n",
      "[reRNN] Epoch 10 (253.99s)\tAverage loss=0.078956\tDev F1=47.20\n",
      "[reRNN] Epoch 11 (277.83s)\tAverage loss=0.064281\tDev F1=50.32\n",
      "[reRNN] Epoch 12 (300.76s)\tAverage loss=0.056387\tDev F1=49.94\n",
      "[reRNN] Epoch 13 (323.63s)\tAverage loss=0.047718\tDev F1=50.07\n",
      "[reRNN] Epoch 14 (346.88s)\tAverage loss=0.031173\tDev F1=51.49\n",
      "[reRNN] Epoch 15 (370.03s)\tAverage loss=0.028262\tDev F1=51.75\n",
      "[reRNN] Epoch 16 (392.71s)\tAverage loss=0.035190\tDev F1=48.51\n",
      "[reRNN] Model saved as <reRNN>\n",
      "[reRNN] Epoch 17 (417.74s)\tAverage loss=0.024520\tDev F1=53.87\n",
      "[reRNN] Model saved as <reRNN>\n",
      "[reRNN] Epoch 18 (442.41s)\tAverage loss=0.025259\tDev F1=53.58\n",
      "[reRNN] Epoch 19 (466.24s)\tAverage loss=0.021175\tDev F1=51.22\n",
      "[reRNN] Training done (470.07s)\n",
      "INFO:tensorflow:Restoring parameters from checkpoints/reRNN/reRNN-17\n",
      "[reRNN] Loaded model <reRNN>\n"
     ]
    }
   ],
   "source": [
    "train_kwargs = {\n",
    "    'lr':         0.01,\n",
    "    'dim':        100,\n",
    "    'n_epochs':   20,\n",
    "    'dropout':    0.25,\n",
    "    'rebalance':  True,\n",
    "    'print_freq': 1,\n",
    "    'batch_size': 256\n",
    "}\n",
    "\n",
    "lstm = reRNN(seed=1701, n_threads=6,)\n",
    "lstm.train(unlab, unlab_marginals_maj , X_dev=dev, Y_dev=L_gold_dev, dev_ckpt_delay=0, **train_kwargs)"
   ]
  },
  {
   "cell_type": "code",
   "execution_count": 82,
   "metadata": {},
   "outputs": [
    {
     "name": "stdout",
     "output_type": "stream",
     "text": [
      "========================================\n",
      "Scores (Un-adjusted)\n",
      "========================================\n",
      "Pos. class accuracy: 0.53\n",
      "Neg. class accuracy: 0.878\n",
      "Precision            0.548\n",
      "Recall               0.53\n",
      "F1                   0.539\n",
      "----------------------------------------\n",
      "TP: 376 | FP: 310 | TN: 2222 | FN: 334\n",
      "========================================\n",
      "\n"
     ]
    }
   ],
   "source": [
    "tp, fp, tn, fn = lstm.error_analysis(session, dev, L_gold_dev, batch_size = 1024)"
   ]
  },
  {
   "cell_type": "code",
   "execution_count": 83,
   "metadata": {},
   "outputs": [
    {
     "name": "stdout",
     "output_type": "stream",
     "text": [
      "========================================\n",
      "Scores (Un-adjusted)\n",
      "========================================\n",
      "Pos. class accuracy: 0.486\n",
      "Neg. class accuracy: 0.845\n",
      "Precision            0.5\n",
      "Recall               0.486\n",
      "F1                   0.493\n",
      "----------------------------------------\n",
      "TP: 964 | FP: 965 | TN: 5272 | FN: 1020\n",
      "========================================\n",
      "\n"
     ]
    }
   ],
   "source": [
    "tp, fp, tn, fn = lstm.error_analysis(session, test, L_gold_test, batch_size = 1024)"
   ]
  },
  {
   "cell_type": "code",
   "execution_count": null,
   "metadata": {},
   "outputs": [],
   "source": []
  },
  {
   "cell_type": "markdown",
   "metadata": {},
   "source": [
    "## With GS"
   ]
  },
  {
   "cell_type": "code",
   "execution_count": 84,
   "metadata": {},
   "outputs": [],
   "source": [
    "from snorkel.annotations import load_marginals\n",
    "train_labels = np.array([0 if train[x].gold_labels[0].value ==-1 else 1 for x in range(len(train))]) # load train labels to mix in LSTM\n",
    "unlab_marginals = load_marginals(session, split=3)\n"
   ]
  },
  {
   "cell_type": "code",
   "execution_count": 85,
   "metadata": {},
   "outputs": [],
   "source": [
    "train_us, train_labels_us = balance_candidates(train,train_labels)"
   ]
  },
  {
   "cell_type": "code",
   "execution_count": 86,
   "metadata": {},
   "outputs": [
    {
     "ename": "NameError",
     "evalue": "name 'unlab_marginals_us' is not defined",
     "output_type": "error",
     "traceback": [
      "\u001b[0;31m---------------------------------------------------------------------------\u001b[0m",
      "\u001b[0;31mNameError\u001b[0m                                 Traceback (most recent call last)",
      "\u001b[0;32m<ipython-input-86-8940d1cce2ce>\u001b[0m in \u001b[0;36m<module>\u001b[0;34m()\u001b[0m\n\u001b[0;32m----> 1\u001b[0;31m \u001b[0mtrain_unlab_marginals\u001b[0m \u001b[0;34m=\u001b[0m \u001b[0mnp\u001b[0m\u001b[0;34m.\u001b[0m\u001b[0mappend\u001b[0m\u001b[0;34m(\u001b[0m\u001b[0mtrain_labels_us\u001b[0m\u001b[0;34m,\u001b[0m \u001b[0munlab_marginals_us\u001b[0m\u001b[0;34m)\u001b[0m\u001b[0;34m\u001b[0m\u001b[0m\n\u001b[0m",
      "\u001b[0;31mNameError\u001b[0m: name 'unlab_marginals_us' is not defined"
     ]
    }
   ],
   "source": [
    "train_unlab_marginals = np.append(train_labels_us, unlab_marginals_us)"
   ]
  },
  {
   "cell_type": "code",
   "execution_count": null,
   "metadata": {},
   "outputs": [],
   "source": [
    "plt.hist(train_unlab_marginals, bins=20)\n",
    "plt.title('Histogram of marginals (candidates undersampled before GM) + GS ')\n",
    "plt.show()"
   ]
  },
  {
   "cell_type": "code",
   "execution_count": null,
   "metadata": {},
   "outputs": [],
   "source": [
    "train_kwargs = {\n",
    "    'lr':         0.01,\n",
    "    'dim':        100,\n",
    "    'n_epochs':   25,\n",
    "    'dropout':    0.5,\n",
    "    'rebalance':  False,\n",
    "    'print_freq': 1,\n",
    "    'batch_size': 64\n",
    "}\n",
    "\n",
    "lstm = reRNN(seed=1701, n_threads=6)\n",
    "lstm.train(train_us+unlab_us, train_unlab_marginals, X_dev=dev, Y_dev=L_gold_dev, dev_ckpt_delay=0, **train_kwargs)\n"
   ]
  },
  {
   "cell_type": "code",
   "execution_count": null,
   "metadata": {},
   "outputs": [],
   "source": [
    "tp, fp, tn, fn = lstm.error_analysis(session, dev, L_gold_dev)"
   ]
  },
  {
   "cell_type": "code",
   "execution_count": null,
   "metadata": {},
   "outputs": [],
   "source": [
    "tp, fp, tn, fn = lstm.error_analysis(session, test, L_gold_test)"
   ]
  },
  {
   "cell_type": "code",
   "execution_count": null,
   "metadata": {},
   "outputs": [],
   "source": []
  },
  {
   "cell_type": "markdown",
   "metadata": {},
   "source": [
    "# ~~~~"
   ]
  },
  {
   "cell_type": "code",
   "execution_count": 60,
   "metadata": {},
   "outputs": [
    {
     "name": "stdout",
     "output_type": "stream",
     "text": [
      "Inferred performance metrics by snorkel:\n"
     ]
    },
    {
     "data": {
      "text/html": [
       "<div>\n",
       "<style scoped>\n",
       "    .dataframe tbody tr th:only-of-type {\n",
       "        vertical-align: middle;\n",
       "    }\n",
       "\n",
       "    .dataframe tbody tr th {\n",
       "        vertical-align: top;\n",
       "    }\n",
       "\n",
       "    .dataframe thead th {\n",
       "        text-align: right;\n",
       "    }\n",
       "</style>\n",
       "<table border=\"1\" class=\"dataframe\">\n",
       "  <thead>\n",
       "    <tr style=\"text-align: right;\">\n",
       "      <th></th>\n",
       "      <th>Accuracy</th>\n",
       "      <th>Coverage</th>\n",
       "      <th>Precision</th>\n",
       "      <th>Recall</th>\n",
       "    </tr>\n",
       "  </thead>\n",
       "  <tbody>\n",
       "    <tr>\n",
       "      <th>0</th>\n",
       "      <td>0.971729</td>\n",
       "      <td>0.8737</td>\n",
       "      <td>0.797044</td>\n",
       "      <td>0.820487</td>\n",
       "    </tr>\n",
       "    <tr>\n",
       "      <th>1</th>\n",
       "      <td>0.937507</td>\n",
       "      <td>0.8369</td>\n",
       "      <td>0.629160</td>\n",
       "      <td>0.805274</td>\n",
       "    </tr>\n",
       "    <tr>\n",
       "      <th>2</th>\n",
       "      <td>0.925276</td>\n",
       "      <td>0.8324</td>\n",
       "      <td>0.575373</td>\n",
       "      <td>0.781947</td>\n",
       "    </tr>\n",
       "    <tr>\n",
       "      <th>3</th>\n",
       "      <td>0.895110</td>\n",
       "      <td>0.8037</td>\n",
       "      <td>0.492881</td>\n",
       "      <td>0.737323</td>\n",
       "    </tr>\n",
       "  </tbody>\n",
       "</table>\n",
       "</div>"
      ],
      "text/plain": [
       "   Accuracy  Coverage  Precision    Recall\n",
       "0  0.971729    0.8737   0.797044  0.820487\n",
       "1  0.937507    0.8369   0.629160  0.805274\n",
       "2  0.925276    0.8324   0.575373  0.781947\n",
       "3  0.895110    0.8037   0.492881  0.737323"
      ]
     },
     "execution_count": 60,
     "metadata": {},
     "output_type": "execute_result"
    }
   ],
   "source": [
    "print 'Inferred performance metrics by snorkel:'\n",
    "gen_model.learned_lf_stats()"
   ]
  },
  {
   "cell_type": "code",
   "execution_count": null,
   "metadata": {},
   "outputs": [],
   "source": []
  },
  {
   "cell_type": "markdown",
   "metadata": {},
   "source": [
    "## Check performance on developer set"
   ]
  },
  {
   "cell_type": "code",
   "execution_count": 63,
   "metadata": {},
   "outputs": [
    {
     "data": {
      "text/html": [
       "<div>\n",
       "<style scoped>\n",
       "    .dataframe tbody tr th:only-of-type {\n",
       "        vertical-align: middle;\n",
       "    }\n",
       "\n",
       "    .dataframe tbody tr th {\n",
       "        vertical-align: top;\n",
       "    }\n",
       "\n",
       "    .dataframe thead th {\n",
       "        text-align: right;\n",
       "    }\n",
       "</style>\n",
       "<table border=\"1\" class=\"dataframe\">\n",
       "  <thead>\n",
       "    <tr style=\"text-align: right;\">\n",
       "      <th></th>\n",
       "      <th>Accuracy</th>\n",
       "      <th>Coverage</th>\n",
       "      <th>Precision</th>\n",
       "      <th>Recall</th>\n",
       "    </tr>\n",
       "  </thead>\n",
       "  <tbody>\n",
       "    <tr>\n",
       "      <th>0</th>\n",
       "      <td>0.968743</td>\n",
       "      <td>0.8734</td>\n",
       "      <td>0.800826</td>\n",
       "      <td>0.850746</td>\n",
       "    </tr>\n",
       "    <tr>\n",
       "      <th>1</th>\n",
       "      <td>0.941741</td>\n",
       "      <td>0.8342</td>\n",
       "      <td>0.671815</td>\n",
       "      <td>0.763828</td>\n",
       "    </tr>\n",
       "    <tr>\n",
       "      <th>2</th>\n",
       "      <td>0.926562</td>\n",
       "      <td>0.8211</td>\n",
       "      <td>0.618130</td>\n",
       "      <td>0.760316</td>\n",
       "    </tr>\n",
       "    <tr>\n",
       "      <th>3</th>\n",
       "      <td>0.897070</td>\n",
       "      <td>0.8054</td>\n",
       "      <td>0.529931</td>\n",
       "      <td>0.738367</td>\n",
       "    </tr>\n",
       "  </tbody>\n",
       "</table>\n",
       "</div>"
      ],
      "text/plain": [
       "   Accuracy  Coverage  Precision    Recall\n",
       "0  0.968743    0.8734   0.800826  0.850746\n",
       "1  0.941741    0.8342   0.671815  0.763828\n",
       "2  0.926562    0.8211   0.618130  0.760316\n",
       "3  0.897070    0.8054   0.529931  0.738367"
      ]
     },
     "execution_count": 63,
     "metadata": {},
     "output_type": "execute_result"
    }
   ],
   "source": [
    "gen_model.learned_lf_stats()"
   ]
  },
  {
   "cell_type": "code",
   "execution_count": 68,
   "metadata": {},
   "outputs": [
    {
     "data": {
      "text/plain": [
       "array([ 1.32927991,  0.96930229,  0.89196357,  0.71774052])"
      ]
     },
     "execution_count": 68,
     "metadata": {},
     "output_type": "execute_result"
    }
   ],
   "source": [
    "gen_model.weights.lf_accuracy"
   ]
  },
  {
   "cell_type": "code",
   "execution_count": 71,
   "metadata": {},
   "outputs": [
    {
     "data": {
      "text/plain": [
       "(0.67838312829525482, 0.54751773049645391, 0.60596546310832033)"
      ]
     },
     "execution_count": 71,
     "metadata": {},
     "output_type": "execute_result"
    }
   ],
   "source": [
    "gen_model.score(L_dev,L_gold_dev)"
   ]
  },
  {
   "cell_type": "code",
   "execution_count": 55,
   "metadata": {},
   "outputs": [
    {
     "data": {
      "text/plain": [
       "0.0087107272118617431"
      ]
     },
     "execution_count": 55,
     "metadata": {},
     "output_type": "execute_result"
    }
   ],
   "source": [
    "np.exp(-8*((.81+.79+.75+.73)/4)**2)"
   ]
  },
  {
   "cell_type": "code",
   "execution_count": 82,
   "metadata": {},
   "outputs": [
    {
     "data": {
      "text/html": [
       "<div>\n",
       "<style scoped>\n",
       "    .dataframe tbody tr th:only-of-type {\n",
       "        vertical-align: middle;\n",
       "    }\n",
       "\n",
       "    .dataframe tbody tr th {\n",
       "        vertical-align: top;\n",
       "    }\n",
       "\n",
       "    .dataframe thead th {\n",
       "        text-align: right;\n",
       "    }\n",
       "</style>\n",
       "<table border=\"1\" class=\"dataframe\">\n",
       "  <thead>\n",
       "    <tr style=\"text-align: right;\">\n",
       "      <th></th>\n",
       "      <th>j</th>\n",
       "      <th>Coverage</th>\n",
       "      <th>Overlaps</th>\n",
       "      <th>Conflicts</th>\n",
       "      <th>TP</th>\n",
       "      <th>FP</th>\n",
       "      <th>FN</th>\n",
       "      <th>TN</th>\n",
       "      <th>Empirical Acc.</th>\n",
       "    </tr>\n",
       "  </thead>\n",
       "  <tbody>\n",
       "    <tr>\n",
       "      <th>fasttext_fasttext</th>\n",
       "      <td>0</td>\n",
       "      <td>1.0</td>\n",
       "      <td>1.0</td>\n",
       "      <td>0.486687</td>\n",
       "      <td>324</td>\n",
       "      <td>225</td>\n",
       "      <td>381</td>\n",
       "      <td>2300</td>\n",
       "      <td>0.812384</td>\n",
       "    </tr>\n",
       "    <tr>\n",
       "      <th>results_dict,ShortDepPath,RuS,CV_,bin_,minFreq=1,_ngrams=(0, 3),LSA100_SVC_linear</th>\n",
       "      <td>1</td>\n",
       "      <td>1.0</td>\n",
       "      <td>1.0</td>\n",
       "      <td>0.486687</td>\n",
       "      <td>508</td>\n",
       "      <td>459</td>\n",
       "      <td>197</td>\n",
       "      <td>2066</td>\n",
       "      <td>0.796904</td>\n",
       "    </tr>\n",
       "    <tr>\n",
       "      <th>RuS,lr=0.001,dropout=0.25,8epochs,rebalance=0,max_sent_length=64_biLSTM</th>\n",
       "      <td>2</td>\n",
       "      <td>1.0</td>\n",
       "      <td>1.0</td>\n",
       "      <td>0.486687</td>\n",
       "      <td>446</td>\n",
       "      <td>519</td>\n",
       "      <td>259</td>\n",
       "      <td>2006</td>\n",
       "      <td>0.759133</td>\n",
       "    </tr>\n",
       "    <tr>\n",
       "      <th>results_dict,lemmas,RuS,TfIdf_,minFreq=1,_ngrams=(1, 1),LSA100_RandomForestClassifier</th>\n",
       "      <td>3</td>\n",
       "      <td>1.0</td>\n",
       "      <td>1.0</td>\n",
       "      <td>0.486687</td>\n",
       "      <td>520</td>\n",
       "      <td>658</td>\n",
       "      <td>185</td>\n",
       "      <td>1867</td>\n",
       "      <td>0.739009</td>\n",
       "    </tr>\n",
       "  </tbody>\n",
       "</table>\n",
       "</div>"
      ],
      "text/plain": [
       "                                                    j  Coverage  Overlaps  \\\n",
       "fasttext_fasttext                                   0       1.0       1.0   \n",
       "results_dict,ShortDepPath,RuS,CV_,bin_,minFreq=...  1       1.0       1.0   \n",
       "RuS,lr=0.001,dropout=0.25,8epochs,rebalance=0,m...  2       1.0       1.0   \n",
       "results_dict,lemmas,RuS,TfIdf_,minFreq=1,_ngram...  3       1.0       1.0   \n",
       "\n",
       "                                                    Conflicts   TP   FP   FN  \\\n",
       "fasttext_fasttext                                    0.486687  324  225  381   \n",
       "results_dict,ShortDepPath,RuS,CV_,bin_,minFreq=...   0.486687  508  459  197   \n",
       "RuS,lr=0.001,dropout=0.25,8epochs,rebalance=0,m...   0.486687  446  519  259   \n",
       "results_dict,lemmas,RuS,TfIdf_,minFreq=1,_ngram...   0.486687  520  658  185   \n",
       "\n",
       "                                                      TN  Empirical Acc.  \n",
       "fasttext_fasttext                                   2300        0.812384  \n",
       "results_dict,ShortDepPath,RuS,CV_,bin_,minFreq=...  2066        0.796904  \n",
       "RuS,lr=0.001,dropout=0.25,8epochs,rebalance=0,m...  2006        0.759133  \n",
       "results_dict,lemmas,RuS,TfIdf_,minFreq=1,_ngram...  1867        0.739009  "
      ]
     },
     "execution_count": 82,
     "metadata": {},
     "output_type": "execute_result"
    }
   ],
   "source": [
    "L_dev.lf_stats(session, L_gold_dev,)"
   ]
  },
  {
   "cell_type": "code",
   "execution_count": 72,
   "metadata": {},
   "outputs": [
    {
     "data": {
      "text/html": [
       "<div>\n",
       "<style scoped>\n",
       "    .dataframe tbody tr th:only-of-type {\n",
       "        vertical-align: middle;\n",
       "    }\n",
       "\n",
       "    .dataframe tbody tr th {\n",
       "        vertical-align: top;\n",
       "    }\n",
       "\n",
       "    .dataframe thead th {\n",
       "        text-align: right;\n",
       "    }\n",
       "</style>\n",
       "<table border=\"1\" class=\"dataframe\">\n",
       "  <thead>\n",
       "    <tr style=\"text-align: right;\">\n",
       "      <th></th>\n",
       "      <th>j</th>\n",
       "      <th>Coverage</th>\n",
       "      <th>Overlaps</th>\n",
       "      <th>Conflicts</th>\n",
       "      <th>TP</th>\n",
       "      <th>FP</th>\n",
       "      <th>FN</th>\n",
       "      <th>TN</th>\n",
       "      <th>Empirical Acc.</th>\n",
       "      <th>Learned Acc.</th>\n",
       "    </tr>\n",
       "  </thead>\n",
       "  <tbody>\n",
       "    <tr>\n",
       "      <th>fasttext_fasttext</th>\n",
       "      <td>0</td>\n",
       "      <td>1.0</td>\n",
       "      <td>1.0</td>\n",
       "      <td>0.486687</td>\n",
       "      <td>324</td>\n",
       "      <td>225</td>\n",
       "      <td>381</td>\n",
       "      <td>2300</td>\n",
       "      <td>0.812384</td>\n",
       "      <td>0.968112</td>\n",
       "    </tr>\n",
       "    <tr>\n",
       "      <th>results_dict,ShortDepPath,RuS,CV_,bin_,minFreq=1,_ngrams=(0, 3),LSA100_SVC_linear</th>\n",
       "      <td>1</td>\n",
       "      <td>1.0</td>\n",
       "      <td>1.0</td>\n",
       "      <td>0.486687</td>\n",
       "      <td>508</td>\n",
       "      <td>459</td>\n",
       "      <td>197</td>\n",
       "      <td>2066</td>\n",
       "      <td>0.796904</td>\n",
       "      <td>0.935136</td>\n",
       "    </tr>\n",
       "    <tr>\n",
       "      <th>RuS,lr=0.001,dropout=0.25,8epochs,rebalance=0,max_sent_length=64_biLSTM</th>\n",
       "      <td>2</td>\n",
       "      <td>1.0</td>\n",
       "      <td>1.0</td>\n",
       "      <td>0.486687</td>\n",
       "      <td>446</td>\n",
       "      <td>519</td>\n",
       "      <td>259</td>\n",
       "      <td>2006</td>\n",
       "      <td>0.759133</td>\n",
       "      <td>0.924378</td>\n",
       "    </tr>\n",
       "    <tr>\n",
       "      <th>results_dict,lemmas,RuS,TfIdf_,minFreq=1,_ngrams=(1, 1),LSA100_RandomForestClassifier</th>\n",
       "      <td>3</td>\n",
       "      <td>1.0</td>\n",
       "      <td>1.0</td>\n",
       "      <td>0.486687</td>\n",
       "      <td>520</td>\n",
       "      <td>658</td>\n",
       "      <td>185</td>\n",
       "      <td>1867</td>\n",
       "      <td>0.739009</td>\n",
       "      <td>0.896389</td>\n",
       "    </tr>\n",
       "  </tbody>\n",
       "</table>\n",
       "</div>"
      ],
      "text/plain": [
       "                                                    j  Coverage  Overlaps  \\\n",
       "fasttext_fasttext                                   0       1.0       1.0   \n",
       "results_dict,ShortDepPath,RuS,CV_,bin_,minFreq=...  1       1.0       1.0   \n",
       "RuS,lr=0.001,dropout=0.25,8epochs,rebalance=0,m...  2       1.0       1.0   \n",
       "results_dict,lemmas,RuS,TfIdf_,minFreq=1,_ngram...  3       1.0       1.0   \n",
       "\n",
       "                                                    Conflicts   TP   FP   FN  \\\n",
       "fasttext_fasttext                                    0.486687  324  225  381   \n",
       "results_dict,ShortDepPath,RuS,CV_,bin_,minFreq=...   0.486687  508  459  197   \n",
       "RuS,lr=0.001,dropout=0.25,8epochs,rebalance=0,m...   0.486687  446  519  259   \n",
       "results_dict,lemmas,RuS,TfIdf_,minFreq=1,_ngram...   0.486687  520  658  185   \n",
       "\n",
       "                                                      TN  Empirical Acc.  \\\n",
       "fasttext_fasttext                                   2300        0.812384   \n",
       "results_dict,ShortDepPath,RuS,CV_,bin_,minFreq=...  2066        0.796904   \n",
       "RuS,lr=0.001,dropout=0.25,8epochs,rebalance=0,m...  2006        0.759133   \n",
       "results_dict,lemmas,RuS,TfIdf_,minFreq=1,_ngram...  1867        0.739009   \n",
       "\n",
       "                                                    Learned Acc.  \n",
       "fasttext_fasttext                                       0.968112  \n",
       "results_dict,ShortDepPath,RuS,CV_,bin_,minFreq=...      0.935136  \n",
       "RuS,lr=0.001,dropout=0.25,8epochs,rebalance=0,m...      0.924378  \n",
       "results_dict,lemmas,RuS,TfIdf_,minFreq=1,_ngram...      0.896389  "
      ]
     },
     "execution_count": 72,
     "metadata": {},
     "output_type": "execute_result"
    }
   ],
   "source": [
    "learned_stats = L_dev.lf_stats(session, L_gold_dev, gen_model.learned_lf_stats()['Accuracy'])\n",
    "learned_stats"
   ]
  },
  {
   "cell_type": "code",
   "execution_count": null,
   "metadata": {},
   "outputs": [],
   "source": []
  },
  {
   "cell_type": "markdown",
   "metadata": {},
   "source": [
    "### Try with priors = F1 score"
   ]
  },
  {
   "cell_type": "code",
   "execution_count": 87,
   "metadata": {},
   "outputs": [],
   "source": [
    "gen_model_prior = GenerativeModel()"
   ]
  },
  {
   "cell_type": "code",
   "execution_count": 88,
   "metadata": {},
   "outputs": [
    {
     "name": "stdout",
     "output_type": "stream",
     "text": [
      "Inferred cardinality: 2\n"
     ]
    }
   ],
   "source": [
    "gen_model_prior.train(L_unlab, LF_acc_prior_weights=[0.5167, 0.60765, 0.5341, 0.5523 ])"
   ]
  },
  {
   "cell_type": "code",
   "execution_count": null,
   "metadata": {},
   "outputs": [],
   "source": []
  },
  {
   "cell_type": "code",
   "execution_count": 83,
   "metadata": {},
   "outputs": [
    {
     "name": "stdout",
     "output_type": "stream",
     "text": [
      "fasttext_fasttext\n",
      "0.516746411483\n",
      "results_dict,ShortDepPath,RuS,CV_,bin_,minFreq=1,_ngrams=(0, 3),LSA100_SVC_linear\n",
      "0.607655502392\n",
      "RuS,lr=0.001,dropout=0.25,8epochs,rebalance=0,max_sent_length=64_biLSTM\n",
      "0.534131736527\n",
      "results_dict,lemmas,RuS,TfIdf_,minFreq=1,_ngrams=(1, 1),LSA100_RandomForestClassifier\n",
      "0.552310143388\n"
     ]
    }
   ],
   "source": [
    "# to pass priors as F1 score\n",
    "from sklearn.metrics import f1_score\n",
    "\n",
    "for row in learned_stats.iterrows():\n",
    "    print row[0]\n",
    "    tp = row[1]['TP']\n",
    "    tn = row[1]['TN']\n",
    "    fp = row[1]['FP']\n",
    "    fn = row[1]['FN']\n",
    "    pr = float(tp)/(tp+fp)\n",
    "    rec = float(tp)/(tp+fn)\n",
    "    f1 = (2*pr*rec)/(pr+rec)\n",
    "    print f1"
   ]
  },
  {
   "cell_type": "code",
   "execution_count": 260,
   "metadata": {},
   "outputs": [],
   "source": [
    "# # export to latex\n",
    "# print learned_stats.drop(labels=['j','Coverage', 'Overlaps', 'Conflicts'], axis=1).reset_index(drop=True).to_latex()"
   ]
  },
  {
   "cell_type": "markdown",
   "metadata": {},
   "source": [
    "### Put it in a log"
   ]
  },
  {
   "cell_type": "code",
   "execution_count": 157,
   "metadata": {},
   "outputs": [],
   "source": [
    "gen_model_prior_log = GenerativeModel()"
   ]
  },
  {
   "cell_type": "code",
   "execution_count": 158,
   "metadata": {},
   "outputs": [],
   "source": [
    "# TODO: try this from  snorkel/test/learning/test_supervised.py\n",
    "\n",
    "\n",
    "LF_acc_priors = [0.5167, 0.60765, 0.5341, 0.5523 ]\n",
    "cardinality = 2\n",
    "LF_acc_prior_weights = [0.5 * np.log((cardinality - 1.0) * x / (1 - x)) for x in LF_acc_priors]\n"
   ]
  },
  {
   "cell_type": "code",
   "execution_count": 159,
   "metadata": {},
   "outputs": [
    {
     "data": {
      "text/plain": [
       "[0.033412428221050325,\n",
       " 0.2187223798716636,\n",
       " 0.068306034261486848,\n",
       " 0.10498400583011107]"
      ]
     },
     "execution_count": 159,
     "metadata": {},
     "output_type": "execute_result"
    }
   ],
   "source": [
    "LF_acc_prior_weights"
   ]
  },
  {
   "cell_type": "code",
   "execution_count": 160,
   "metadata": {},
   "outputs": [
    {
     "name": "stdout",
     "output_type": "stream",
     "text": [
      "Inferred cardinality: 2\n"
     ]
    }
   ],
   "source": [
    "gen_model_prior_log.train(L_unlab, LF_acc_prior_weights=LF_acc_prior_weights)"
   ]
  },
  {
   "cell_type": "markdown",
   "metadata": {},
   "source": [
    "# ~"
   ]
  },
  {
   "cell_type": "code",
   "execution_count": 163,
   "metadata": {},
   "outputs": [
    {
     "data": {
      "text/plain": [
       "array([ 0.5167 ,  0.60765,  0.5341 ,  0.5523 ])"
      ]
     },
     "execution_count": 163,
     "metadata": {},
     "output_type": "execute_result"
    }
   ],
   "source": [
    "gen_model.weights.lf_accuracy"
   ]
  },
  {
   "cell_type": "code",
   "execution_count": 99,
   "metadata": {},
   "outputs": [
    {
     "data": {
      "text/plain": [
       "array([ 0.5167 ,  0.60765,  0.5341 ,  0.5523 ])"
      ]
     },
     "execution_count": 99,
     "metadata": {},
     "output_type": "execute_result"
    }
   ],
   "source": [
    "np.array([0.5167, 0.60765, 0.5341, 0.5523 ])"
   ]
  },
  {
   "cell_type": "code",
   "execution_count": 100,
   "metadata": {},
   "outputs": [],
   "source": [
    "gen_model.weights.lf_accuracy = np.array([0.5167, 0.60765, 0.5341, 0.5523 ])"
   ]
  },
  {
   "cell_type": "code",
   "execution_count": null,
   "metadata": {},
   "outputs": [],
   "source": []
  },
  {
   "cell_type": "code",
   "execution_count": 101,
   "metadata": {},
   "outputs": [],
   "source": [
    "unlab_marginals_F1 = gen_model.marginals(L_unlab)"
   ]
  },
  {
   "cell_type": "code",
   "execution_count": 134,
   "metadata": {},
   "outputs": [
    {
     "data": {
      "image/png": "[encoded data removed]",
      "text/plain": [
       "<Figure size 432x288 with 1 Axes>"
      ]
     },
     "metadata": {},
     "output_type": "display_data"
    }
   ],
   "source": [
    "plt.hist(train_marginals_F1, bins=20)\n",
    "plt.title('Histogram of probabilistic labels (created with %i models & overwritten F1 scores)'%n_models)\n",
    "plt.show()"
   ]
  },
  {
   "cell_type": "code",
   "execution_count": null,
   "metadata": {},
   "outputs": [],
   "source": []
  },
  {
   "cell_type": "code",
   "execution_count": 254,
   "metadata": {},
   "outputs": [
    {
     "data": {
      "text/html": [
       "<div>\n",
       "<style scoped>\n",
       "    .dataframe tbody tr th:only-of-type {\n",
       "        vertical-align: middle;\n",
       "    }\n",
       "\n",
       "    .dataframe tbody tr th {\n",
       "        vertical-align: top;\n",
       "    }\n",
       "\n",
       "    .dataframe thead th {\n",
       "        text-align: right;\n",
       "    }\n",
       "</style>\n",
       "<table border=\"1\" class=\"dataframe\">\n",
       "  <thead>\n",
       "    <tr style=\"text-align: right;\">\n",
       "      <th></th>\n",
       "      <th>j</th>\n",
       "      <th>Coverage</th>\n",
       "      <th>Overlaps</th>\n",
       "      <th>Conflicts</th>\n",
       "      <th>TP</th>\n",
       "      <th>FP</th>\n",
       "      <th>FN</th>\n",
       "      <th>TN</th>\n",
       "      <th>Empirical Acc.</th>\n",
       "      <th>Learned Acc.</th>\n",
       "    </tr>\n",
       "  </thead>\n",
       "  <tbody>\n",
       "    <tr>\n",
       "      <th>fasttext_fasttext</th>\n",
       "      <td>0</td>\n",
       "      <td>1.0</td>\n",
       "      <td>1.0</td>\n",
       "      <td>0.486687</td>\n",
       "      <td>324</td>\n",
       "      <td>225</td>\n",
       "      <td>381</td>\n",
       "      <td>2300</td>\n",
       "      <td>0.812384</td>\n",
       "      <td>0.940637</td>\n",
       "    </tr>\n",
       "    <tr>\n",
       "      <th>results_dict,ShortDepPath,RuS,CV_,bin_,minFreq=1,_ngrams=(0, 3),LSA100_SVC_linear</th>\n",
       "      <td>1</td>\n",
       "      <td>1.0</td>\n",
       "      <td>1.0</td>\n",
       "      <td>0.486687</td>\n",
       "      <td>508</td>\n",
       "      <td>459</td>\n",
       "      <td>197</td>\n",
       "      <td>2066</td>\n",
       "      <td>0.796904</td>\n",
       "      <td>0.910915</td>\n",
       "    </tr>\n",
       "    <tr>\n",
       "      <th>RuS,lr=0.001,dropout=0.25,8epochs,rebalance=0,max_sent_length=64_biLSTM</th>\n",
       "      <td>2</td>\n",
       "      <td>1.0</td>\n",
       "      <td>1.0</td>\n",
       "      <td>0.486687</td>\n",
       "      <td>446</td>\n",
       "      <td>519</td>\n",
       "      <td>259</td>\n",
       "      <td>2006</td>\n",
       "      <td>0.759133</td>\n",
       "      <td>0.922221</td>\n",
       "    </tr>\n",
       "    <tr>\n",
       "      <th>results_dict,lemmas,RuS,TfIdf_,minFreq=1,_ngrams=(1, 1),LSA100_RandomForestClassifier</th>\n",
       "      <td>3</td>\n",
       "      <td>1.0</td>\n",
       "      <td>1.0</td>\n",
       "      <td>0.486687</td>\n",
       "      <td>520</td>\n",
       "      <td>658</td>\n",
       "      <td>185</td>\n",
       "      <td>1867</td>\n",
       "      <td>0.739009</td>\n",
       "      <td>0.918230</td>\n",
       "    </tr>\n",
       "  </tbody>\n",
       "</table>\n",
       "</div>"
      ],
      "text/plain": [
       "                                                    j  Coverage  Overlaps  \\\n",
       "fasttext_fasttext                                   0       1.0       1.0   \n",
       "results_dict,ShortDepPath,RuS,CV_,bin_,minFreq=...  1       1.0       1.0   \n",
       "RuS,lr=0.001,dropout=0.25,8epochs,rebalance=0,m...  2       1.0       1.0   \n",
       "results_dict,lemmas,RuS,TfIdf_,minFreq=1,_ngram...  3       1.0       1.0   \n",
       "\n",
       "                                                    Conflicts   TP   FP   FN  \\\n",
       "fasttext_fasttext                                    0.486687  324  225  381   \n",
       "results_dict,ShortDepPath,RuS,CV_,bin_,minFreq=...   0.486687  508  459  197   \n",
       "RuS,lr=0.001,dropout=0.25,8epochs,rebalance=0,m...   0.486687  446  519  259   \n",
       "results_dict,lemmas,RuS,TfIdf_,minFreq=1,_ngram...   0.486687  520  658  185   \n",
       "\n",
       "                                                      TN  Empirical Acc.  \\\n",
       "fasttext_fasttext                                   2300        0.812384   \n",
       "results_dict,ShortDepPath,RuS,CV_,bin_,minFreq=...  2066        0.796904   \n",
       "RuS,lr=0.001,dropout=0.25,8epochs,rebalance=0,m...  2006        0.759133   \n",
       "results_dict,lemmas,RuS,TfIdf_,minFreq=1,_ngram...  1867        0.739009   \n",
       "\n",
       "                                                    Learned Acc.  \n",
       "fasttext_fasttext                                       0.940637  \n",
       "results_dict,ShortDepPath,RuS,CV_,bin_,minFreq=...      0.910915  \n",
       "RuS,lr=0.001,dropout=0.25,8epochs,rebalance=0,m...      0.922221  \n",
       "results_dict,lemmas,RuS,TfIdf_,minFreq=1,_ngram...      0.918230  "
      ]
     },
     "execution_count": 254,
     "metadata": {},
     "output_type": "execute_result"
    }
   ],
   "source": [
    "L_dev.lf_stats(session, L_gold_dev, gen_model.learned_lf_stats()['Accuracy'])"
   ]
  },
  {
   "cell_type": "code",
   "execution_count": null,
   "metadata": {},
   "outputs": [],
   "source": []
  },
  {
   "cell_type": "code",
   "execution_count": 91,
   "metadata": {
    "scrolled": true
   },
   "outputs": [
    {
     "data": {
      "text/plain": [
       "Text(0.5,1,'Unweighted voting for 12 classifiers')"
      ]
     },
     "execution_count": 91,
     "metadata": {},
     "output_type": "execute_result"
    },
    {
     "data": {
      "image/png": "[encoded data removed]",
      "text/plain": [
       "<Figure size 432x288 with 1 Axes>"
      ]
     },
     "metadata": {},
     "output_type": "display_data"
    }
   ],
   "source": [
    "#this would be with unweighted voting\n",
    "\n",
    "pd.Series(list(map(lambda x:x[0].item(),L_unlab.mean(axis=1)))).hist(bins=20)\n",
    "plt.title('Unweighted voting for 12 classifiers')"
   ]
  },
  {
   "cell_type": "code",
   "execution_count": 132,
   "metadata": {},
   "outputs": [],
   "source": [
    "from MLutils import majority_vote_score, majority_vote"
   ]
  },
  {
   "cell_type": "code",
   "execution_count": null,
   "metadata": {},
   "outputs": [],
   "source": []
  },
  {
   "cell_type": "code",
   "execution_count": 137,
   "metadata": {},
   "outputs": [
    {
     "name": "stdout",
     "output_type": "stream",
     "text": [
      "pos/neg    705:2525 21.8%/78.2%\n",
      "precision  67.84\n",
      "recall     54.75\n",
      "f1         60.60\n"
     ]
    }
   ],
   "source": [
    "majority_vote_score(L_dev, L_gold_dev)"
   ]
  },
  {
   "cell_type": "code",
   "execution_count": null,
   "metadata": {},
   "outputs": [],
   "source": []
  },
  {
   "cell_type": "code",
   "execution_count": null,
   "metadata": {},
   "outputs": [],
   "source": [
    "logp_false = e^10\n",
    "logp_true = e"
   ]
  },
  {
   "cell_type": "code",
   "execution_count": null,
   "metadata": {},
   "outputs": [],
   "source": [
    "1 / (1 + np.exp(logp_false - logp_true))"
   ]
  },
  {
   "cell_type": "code",
   "execution_count": 154,
   "metadata": {},
   "outputs": [
    {
     "data": {
      "text/plain": [
       "<4x4 sparse matrix of type '<type 'numpy.float64'>'\n",
       "\twith 6 stored elements in Compressed Sparse Row format>"
      ]
     },
     "execution_count": 154,
     "metadata": {},
     "output_type": "execute_result"
    }
   ],
   "source": [
    "gen_model.weights.dep_similar"
   ]
  },
  {
   "cell_type": "code",
   "execution_count": null,
   "metadata": {},
   "outputs": [],
   "source": []
  },
  {
   "cell_type": "markdown",
   "metadata": {},
   "source": [
    "## save probabilistic labels for the LSTM  -  this is the # of train. examples our LSTM will train on"
   ]
  },
  {
   "cell_type": "code",
   "execution_count": 68,
   "metadata": {},
   "outputs": [
    {
     "name": "stdout",
     "output_type": "stream",
     "text": [
      "Saved 79400 marginals\n"
     ]
    }
   ],
   "source": [
    "from snorkel.annotations import save_marginals\n",
    "save_marginals(session, L_unlab, unlab_marginals)"
   ]
  },
  {
   "cell_type": "code",
   "execution_count": 93,
   "metadata": {},
   "outputs": [
    {
     "data": {
      "image/png": "[encoded data removed]",
      "text/plain": [
       "<Figure size 432x288 with 1 Axes>"
      ]
     },
     "metadata": {},
     "output_type": "display_data"
    }
   ],
   "source": [
    "plt.hist(train_marginals, bins=20)\n",
    "plt.title('Histogram of probabilistic labels (created with %i models & LF_prior=True, LF_propensity=False)'%n_models)\n",
    "plt.show()"
   ]
  },
  {
   "cell_type": "code",
   "execution_count": 92,
   "metadata": {},
   "outputs": [
    {
     "data": {
      "image/png": "[encoded data removed]",
      "text/plain": [
       "<Figure size 432x288 with 1 Axes>"
      ]
     },
     "metadata": {},
     "output_type": "display_data"
    }
   ],
   "source": [
    "plt.hist(train_marginals_w_prior, bins=20)\n",
    "plt.title('Histogram of probabilistic labels (created with %i models & LF_prior=True, LF_propensity=False)'%n_models)\n",
    "plt.show()"
   ]
  },
  {
   "cell_type": "code",
   "execution_count": null,
   "metadata": {},
   "outputs": [],
   "source": []
  },
  {
   "cell_type": "code",
   "execution_count": null,
   "metadata": {},
   "outputs": [],
   "source": []
  },
  {
   "cell_type": "code",
   "execution_count": null,
   "metadata": {},
   "outputs": [],
   "source": []
  },
  {
   "cell_type": "markdown",
   "metadata": {},
   "source": [
    "# ~~ "
   ]
  },
  {
   "cell_type": "code",
   "execution_count": 47,
   "metadata": {},
   "outputs": [
    {
     "name": "stdout",
     "output_type": "stream",
     "text": [
      "Clearing existing...\n",
      "Running UDF...\n",
      "[========================================] 100%\n",
      "\n"
     ]
    }
   ],
   "source": [
    "L_test = labeler.apply_existing(split=2)"
   ]
  },
  {
   "cell_type": "code",
   "execution_count": 49,
   "metadata": {},
   "outputs": [
    {
     "data": {
      "text/plain": [
       "<13350x1 sparse matrix of type '<type 'numpy.int64'>'\n",
       "\twith 5781 stored elements in Compressed Sparse Row format>"
      ]
     },
     "execution_count": 49,
     "metadata": {},
     "output_type": "execute_result"
    }
   ],
   "source": [
    "# load from db gold labels\n",
    "L_gold_test = load_gold_labels(session, annotator_name='gold', split=2)\n",
    "L_gold_test"
   ]
  },
  {
   "cell_type": "code",
   "execution_count": 50,
   "metadata": {},
   "outputs": [
    {
     "name": "stdout",
     "output_type": "stream",
     "text": [
      "========================================\n",
      "Scores (Un-adjusted)\n",
      "========================================\n",
      "Pos. class accuracy: 0.259\n",
      "Neg. class accuracy: 0.975\n",
      "Precision            0.57\n",
      "Recall               0.259\n",
      "F1                   0.356\n",
      "----------------------------------------\n",
      "TP: 388 | FP: 293 | TN: 11557 | FN: 1112\n",
      "========================================\n",
      "\n"
     ]
    }
   ],
   "source": [
    "_ = gen_model.error_analysis(session, L_test, L_gold_test)"
   ]
  },
  {
   "cell_type": "code",
   "execution_count": 51,
   "metadata": {},
   "outputs": [
    {
     "data": {
      "text/html": [
       "<div>\n",
       "<style scoped>\n",
       "    .dataframe tbody tr th:only-of-type {\n",
       "        vertical-align: middle;\n",
       "    }\n",
       "\n",
       "    .dataframe tbody tr th {\n",
       "        vertical-align: top;\n",
       "    }\n",
       "\n",
       "    .dataframe thead th {\n",
       "        text-align: right;\n",
       "    }\n",
       "</style>\n",
       "<table border=\"1\" class=\"dataframe\">\n",
       "  <thead>\n",
       "    <tr style=\"text-align: right;\">\n",
       "      <th></th>\n",
       "      <th>j</th>\n",
       "      <th>Coverage</th>\n",
       "      <th>Overlaps</th>\n",
       "      <th>Conflicts</th>\n",
       "      <th>TP</th>\n",
       "      <th>FP</th>\n",
       "      <th>FN</th>\n",
       "      <th>TN</th>\n",
       "      <th>Empirical Acc.</th>\n",
       "      <th>Learned Acc.</th>\n",
       "    </tr>\n",
       "  </thead>\n",
       "  <tbody>\n",
       "    <tr>\n",
       "      <th>dummy</th>\n",
       "      <td>0</td>\n",
       "      <td>1.000000</td>\n",
       "      <td>0.433034</td>\n",
       "      <td>0.128764</td>\n",
       "      <td>0</td>\n",
       "      <td>0</td>\n",
       "      <td>1500</td>\n",
       "      <td>4281</td>\n",
       "      <td>0.740529</td>\n",
       "      <td>0.936173</td>\n",
       "    </tr>\n",
       "    <tr>\n",
       "      <th>LogisticRegression</th>\n",
       "      <td>1</td>\n",
       "      <td>0.433034</td>\n",
       "      <td>0.433034</td>\n",
       "      <td>0.128764</td>\n",
       "      <td>683</td>\n",
       "      <td>563</td>\n",
       "      <td>817</td>\n",
       "      <td>3718</td>\n",
       "      <td>0.761287</td>\n",
       "      <td>0.893057</td>\n",
       "    </tr>\n",
       "    <tr>\n",
       "      <th>SVC_linear</th>\n",
       "      <td>2</td>\n",
       "      <td>0.433034</td>\n",
       "      <td>0.433034</td>\n",
       "      <td>0.128764</td>\n",
       "      <td>594</td>\n",
       "      <td>592</td>\n",
       "      <td>906</td>\n",
       "      <td>3689</td>\n",
       "      <td>0.740875</td>\n",
       "      <td>0.888321</td>\n",
       "    </tr>\n",
       "    <tr>\n",
       "      <th>SVC_rbf_C100</th>\n",
       "      <td>3</td>\n",
       "      <td>0.433034</td>\n",
       "      <td>0.433034</td>\n",
       "      <td>0.128764</td>\n",
       "      <td>606</td>\n",
       "      <td>500</td>\n",
       "      <td>894</td>\n",
       "      <td>3781</td>\n",
       "      <td>0.758865</td>\n",
       "      <td>0.893826</td>\n",
       "    </tr>\n",
       "    <tr>\n",
       "      <th>SVC_rbf_C500</th>\n",
       "      <td>4</td>\n",
       "      <td>0.433034</td>\n",
       "      <td>0.433034</td>\n",
       "      <td>0.128764</td>\n",
       "      <td>625</td>\n",
       "      <td>484</td>\n",
       "      <td>875</td>\n",
       "      <td>3797</td>\n",
       "      <td>0.764920</td>\n",
       "      <td>0.897841</td>\n",
       "    </tr>\n",
       "    <tr>\n",
       "      <th>SVC_rbf_C1000</th>\n",
       "      <td>5</td>\n",
       "      <td>0.433034</td>\n",
       "      <td>0.433034</td>\n",
       "      <td>0.128764</td>\n",
       "      <td>577</td>\n",
       "      <td>480</td>\n",
       "      <td>923</td>\n",
       "      <td>3801</td>\n",
       "      <td>0.757308</td>\n",
       "      <td>0.899282</td>\n",
       "    </tr>\n",
       "  </tbody>\n",
       "</table>\n",
       "</div>"
      ],
      "text/plain": [
       "                    j  Coverage  Overlaps  Conflicts   TP   FP    FN    TN  \\\n",
       "dummy               0  1.000000  0.433034   0.128764    0    0  1500  4281   \n",
       "LogisticRegression  1  0.433034  0.433034   0.128764  683  563   817  3718   \n",
       "SVC_linear          2  0.433034  0.433034   0.128764  594  592   906  3689   \n",
       "SVC_rbf_C100        3  0.433034  0.433034   0.128764  606  500   894  3781   \n",
       "SVC_rbf_C500        4  0.433034  0.433034   0.128764  625  484   875  3797   \n",
       "SVC_rbf_C1000       5  0.433034  0.433034   0.128764  577  480   923  3801   \n",
       "\n",
       "                    Empirical Acc.  Learned Acc.  \n",
       "dummy                     0.740529      0.936173  \n",
       "LogisticRegression        0.761287      0.893057  \n",
       "SVC_linear                0.740875      0.888321  \n",
       "SVC_rbf_C100              0.758865      0.893826  \n",
       "SVC_rbf_C500              0.764920      0.897841  \n",
       "SVC_rbf_C1000             0.757308      0.899282  "
      ]
     },
     "execution_count": 51,
     "metadata": {},
     "output_type": "execute_result"
    }
   ],
   "source": [
    "L_test.lf_stats(session, L_gold_test, gen_model.learned_lf_stats()['Accuracy'])"
   ]
  },
  {
   "cell_type": "code",
   "execution_count": null,
   "metadata": {},
   "outputs": [],
   "source": []
  },
  {
   "cell_type": "code",
   "execution_count": null,
   "metadata": {},
   "outputs": [],
   "source": []
  },
  {
   "cell_type": "code",
   "execution_count": null,
   "metadata": {},
   "outputs": [],
   "source": []
  }
 ],
 "metadata": {
  "kernelspec": {
   "display_name": "Python [conda env:snorkel27clone]",
   "language": "python",
   "name": "conda-env-snorkel27clone-py"
  },
  "language_info": {
   "codemirror_mode": {
    "name": "ipython",
    "version": 2
   },
   "file_extension": ".py",
   "mimetype": "text/x-python",
   "name": "python",
   "nbconvert_exporter": "python",
   "pygments_lexer": "ipython2",
   "version": "2.7.15"
  }
 },
 "nbformat": 4,
 "nbformat_minor": 2
}
