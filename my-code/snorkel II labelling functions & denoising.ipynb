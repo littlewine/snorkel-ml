{
 "cells": [
  {
   "cell_type": "code",
   "execution_count": 2,
   "metadata": {},
   "outputs": [
    {
     "name": "stdout",
     "output_type": "stream",
     "text": [
      "Setting up variables & DB connection for experiment:\n",
      "\n",
      "*******************\n",
      "_exp3\n",
      "*******************\n",
      "\n",
      "Snorkel session connected to:  postgres:///snorkel_exp3\n"
     ]
    },
    {
     "name": "stderr",
     "output_type": "stream",
     "text": [
      "/home/antonis/anaconda2/envs/snorkel27clone/lib/python2.7/site-packages/psycopg2/__init__.py:144: UserWarning: The psycopg2 wheel package will be renamed from release 2.8; in order to keep installing from binary please use \"pip install psycopg2-binary\" instead. For details see: <http://initd.org/psycopg/docs/install.html#binary-install-from-pypi>.\n",
      "  \"\"\")\n"
     ]
    }
   ],
   "source": [
    "%load_ext autoreload\n",
    "%autoreload 2\n",
    "%matplotlib inline\n",
    "%run init.py"
   ]
  },
  {
   "cell_type": "code",
   "execution_count": 3,
   "metadata": {},
   "outputs": [],
   "source": [
    "import seaborn as sns\n",
    "from snorkel.annotations import save_marginals"
   ]
  },
  {
   "cell_type": "code",
   "execution_count": 4,
   "metadata": {},
   "outputs": [
    {
     "name": "stderr",
     "output_type": "stream",
     "text": [
      "/home/antonis/anaconda2/envs/snorkel27clone/lib/python2.7/site-packages/h5py/__init__.py:36: FutureWarning: Conversion of the second argument of issubdtype from `float` to `np.floating` is deprecated. In future, it will be treated as `np.float64 == np.dtype(float).type`.\n",
      "  from ._conv import register_converters as _register_converters\n"
     ]
    },
    {
     "name": "stdout",
     "output_type": "stream",
     "text": [
      "WARNING:tensorflow:From /home/antonis/anaconda2/envs/snorkel27clone/lib/python2.7/site-packages/tensorflow/contrib/learn/python/learn/datasets/base.py:198: retry (from tensorflow.contrib.learn.python.learn.datasets.base) is deprecated and will be removed in a future version.\n",
      "Instructions for updating:\n",
      "Use the retry module or similar alternatives.\n"
     ]
    }
   ],
   "source": [
    "from snorkel.lf_helpers import *\n",
    "import pickle,glob"
   ]
  },
  {
   "cell_type": "code",
   "execution_count": 5,
   "metadata": {},
   "outputs": [],
   "source": [
    "import pandas as pd\n",
    "from MLutils import cohen_kappa_score, plot_marginals_histogram, neg_to_bin_labels"
   ]
  },
  {
   "cell_type": "code",
   "execution_count": 6,
   "metadata": {},
   "outputs": [],
   "source": [
    "from MLutils import diversity_heatmap, merge_pickles_pred_dicts"
   ]
  },
  {
   "cell_type": "code",
   "execution_count": 7,
   "metadata": {},
   "outputs": [],
   "source": [
    "# TODO move in LSTM training section\n",
    "\n",
    "# needed to train the LSTM here\n",
    "train = session.query(REGULATOR).filter(REGULATOR.split == 0).order_by(REGULATOR.id).all()\n",
    "dev = session.query(REGULATOR).filter(REGULATOR.split == 1).order_by(REGULATOR.id).all()\n",
    "test = session.query(REGULATOR).filter(REGULATOR.split == 2).order_by(REGULATOR.id).all()\n",
    "unlab = session.query(REGULATOR).filter(REGULATOR.split == 3).order_by(REGULATOR.id).all()"
   ]
  },
  {
   "cell_type": "code",
   "execution_count": 7,
   "metadata": {},
   "outputs": [],
   "source": [
    "# Determine mean sentence size per set"
   ]
  },
  {
   "cell_type": "code",
   "execution_count": 8,
   "metadata": {},
   "outputs": [],
   "source": [
    "# TODO: drop v big sentences"
   ]
  },
  {
   "cell_type": "code",
   "execution_count": 9,
   "metadata": {},
   "outputs": [],
   "source": [
    "# train_sentence_size =list(map(lambda x: len(x.get_parent().lemmas) ,train))\n",
    "# dev_sentence_size =list(map(lambda x: len(x.get_parent().lemmas) ,dev))\n",
    "# test_sentence_size =list(map(lambda x: len(x.get_parent().lemmas) ,test))\n",
    "# unlab_sentence_size =list(map(lambda x: len(x.get_parent().lemmas) ,unlab))"
   ]
  },
  {
   "cell_type": "code",
   "execution_count": 10,
   "metadata": {},
   "outputs": [],
   "source": [
    "# print np.mean(train_sentence_size)\n",
    "# print np.mean(dev_sentence_size)\n",
    "# print np.mean(test_sentence_size)\n",
    "# print np.mean(unlab_sentence_size)"
   ]
  },
  {
   "cell_type": "code",
   "execution_count": 8,
   "metadata": {},
   "outputs": [
    {
     "data": {
      "text/plain": [
       "9167L"
      ]
     },
     "execution_count": 8,
     "metadata": {},
     "output_type": "execute_result"
    }
   ],
   "source": [
    "session.query(REGULATOR).filter(REGULATOR.split == 3).count()"
   ]
  },
  {
   "cell_type": "code",
   "execution_count": 12,
   "metadata": {
    "scrolled": true
   },
   "outputs": [],
   "source": [
    "# c = train[0]\n",
    "# s = c.get_parent()\n",
    "# s.lemmas\n",
    "# # REGULATOR.get_parent().lemmas"
   ]
  },
  {
   "cell_type": "code",
   "execution_count": null,
   "metadata": {},
   "outputs": [],
   "source": []
  },
  {
   "cell_type": "code",
   "execution_count": 13,
   "metadata": {},
   "outputs": [],
   "source": [
    "# make sure unmapped cands are gone"
   ]
  },
  {
   "cell_type": "code",
   "execution_count": 9,
   "metadata": {},
   "outputs": [],
   "source": [
    "from sqlalchemy import  any_,or_,and_"
   ]
  },
  {
   "cell_type": "code",
   "execution_count": 10,
   "metadata": {},
   "outputs": [
    {
     "name": "stdout",
     "output_type": "stream",
     "text": [
      "Adding 0 candidates from split=0 in to_drop list\n",
      "Adding 0 candidates from split=1 in to_drop list\n",
      "Adding 0 candidates from split=2 in to_drop list\n",
      "Adding 0 candidates from split=3 in to_drop list\n"
     ]
    }
   ],
   "source": [
    "#create list of unmapped cands to drop\n",
    "to_drop = []\n",
    "for k in range(4):\n",
    "    query = session.query(REGULATOR).filter(and_(REGULATOR.split==k,~REGULATOR.gold_labels.any()))\n",
    "    print 'Adding %i candidates from split=%i in to_drop list'%(query.count(), k)\n",
    "    to_drop.extend(map(lambda x: x.id,query.all()))"
   ]
  },
  {
   "cell_type": "code",
   "execution_count": null,
   "metadata": {},
   "outputs": [],
   "source": []
  },
  {
   "cell_type": "code",
   "execution_count": 11,
   "metadata": {},
   "outputs": [],
   "source": [
    "# #drop unmapped cands\n",
    "# query = session.query(Candidate).filter(Candidate.id.in_(to_drop))\n",
    "# print query.count()\n",
    "# query.delete(synchronize_session=False)\n",
    "# session.commit()"
   ]
  },
  {
   "cell_type": "markdown",
   "metadata": {},
   "source": [
    "# Retrieve results and pick models"
   ]
  },
  {
   "cell_type": "code",
   "execution_count": 12,
   "metadata": {},
   "outputs": [],
   "source": [
    "import glob"
   ]
  },
  {
   "cell_type": "code",
   "execution_count": 13,
   "metadata": {},
   "outputs": [
    {
     "data": {
      "text/plain": [
       "['pickles/_exp3/base_learner_predictions/KMeansPeaks/10clusters.pickle',\n",
       " 'pickles/_exp3/base_learner_predictions/KMeansPeaks/13clusters.pickle',\n",
       " 'pickles/_exp3/base_learner_predictions/KMeansPeaks/15clusters.pickle',\n",
       " 'pickles/_exp3/base_learner_predictions/KMeansPeaks/20clusters.pickle',\n",
       " 'pickles/_exp3/base_learner_predictions/KMeansPeaks/21clusters.pickle',\n",
       " 'pickles/_exp3/base_learner_predictions/KMeansPeaks/5clusters.pickle']"
      ]
     },
     "execution_count": 13,
     "metadata": {},
     "output_type": "execute_result"
    }
   ],
   "source": [
    "l = glob.glob(path_base_learners+\"/KMeansPeaks/*.pickle\")\n",
    "l.sort()\n",
    "l"
   ]
  },
  {
   "cell_type": "code",
   "execution_count": 14,
   "metadata": {},
   "outputs": [],
   "source": [
    "test_scores = pd.DataFrame(index=l)"
   ]
  },
  {
   "cell_type": "code",
   "execution_count": 15,
   "metadata": {},
   "outputs": [
    {
     "name": "stdout",
     "output_type": "stream",
     "text": [
      "Proceeding with:  pickles/_exp3/base_learner_predictions/KMeansPeaks/13clusters.pickle\n"
     ]
    }
   ],
   "source": [
    "result_dict_file = l[1]\n",
    "print \"Proceeding with: \",result_dict_file"
   ]
  },
  {
   "cell_type": "code",
   "execution_count": null,
   "metadata": {},
   "outputs": [],
   "source": []
  },
  {
   "cell_type": "code",
   "execution_count": 16,
   "metadata": {},
   "outputs": [
    {
     "name": "stdout",
     "output_type": "stream",
     "text": [
      "Loaded 13 models:\n",
      "\n"
     ]
    },
    {
     "data": {
      "text/plain": [
       "['results_dict,trim=5,lemmas,RuS,TfIdf_,minFreq=5,_ngrams=(0, 3)_SVC_linear',\n",
       " 'results_dict,trim=0,lemmas,RuS,TfIdf_,minFreq=5,_ngrams=(0, 3)_SVC_rbf_C=150',\n",
       " 'results_dict,lemmas,RuS,CV_,bin_,minFreq=5,_ngrams=(0, 3)_SVC_rbf_C=75',\n",
       " 'results_dict,trim=0,lemmas,RuS,CV_,bin_,minFreq=5,_ngrams=(0, 3),LSA200_LogisticRegression',\n",
       " 'results_dict,ShortDepPath,lemmas,RuS,TfIdf_,minFreq=5,_ngrams=(0, 3),LSA200_LogisticRegression',\n",
       " 'results_dict,trim=5,lemmas,RuS,TfIdf_,minFreq=5,_stopw=english,_ngrams=(1, 1),LSA200_SVC_linear',\n",
       " 'results_dict,trim=5,lemmas,RuS,TfIdf_,minFreq=5,_ngrams=(0, 3)_RandomForestClassifier',\n",
       " 'biLSTM_biLSTM_lr=0.001',\n",
       " 'results_dict,ShortDepPath,lemmas,RuS,TfIdf_,minFreq=5,_ngrams=(0, 3),LSA200_RandomForestClassifier',\n",
       " 'results_dict,lemmas,RuS,TfIdf_,minFreq=5,_stopw=english,_ngrams=(1, 1),LSA200_SVC_rbf_C=250',\n",
       " 'results_dict,trim=0,lemmas,RuS,TfIdf_,minFreq=5,_stopw=english,_ngrams=(1, 1),LSA200_SVC_rbf_C=250',\n",
       " 'results_dict,trim=5,lemmas,RuS,CV_,bin_,minFreq=5,_stopw=english,_ngrams=(1, 1)_RandomForestClassifier',\n",
       " 'results_dict,ShortDepPath,lemmas,RuS,TfIdf_,minFreq=5,_stopw=english,_ngrams=(1, 1),LSA200_SVC_rbf_C=150']"
      ]
     },
     "execution_count": 16,
     "metadata": {},
     "output_type": "execute_result"
    }
   ],
   "source": [
    "with open(result_dict_file, 'rb') as f:\n",
    "    results_dict = pickle.load(f)\n",
    "print 'Loaded %i models:\\n' %len(results_dict)\n",
    "results_dict.keys()"
   ]
  },
  {
   "cell_type": "code",
   "execution_count": 17,
   "metadata": {},
   "outputs": [],
   "source": [
    "selected_models = results_dict.keys()\n",
    "selected_models.sort()"
   ]
  },
  {
   "cell_type": "markdown",
   "metadata": {},
   "source": [
    "# Load predicted labels from classifiers"
   ]
  },
  {
   "cell_type": "code",
   "execution_count": 18,
   "metadata": {},
   "outputs": [],
   "source": [
    "from MLutils import diversity_matrix, reduce_results_dict"
   ]
  },
  {
   "cell_type": "code",
   "execution_count": 19,
   "metadata": {},
   "outputs": [],
   "source": [
    "from sklearn.metrics import accuracy_score, cohen_kappa_score"
   ]
  },
  {
   "cell_type": "code",
   "execution_count": 20,
   "metadata": {},
   "outputs": [],
   "source": [
    "from snorkel.annotations import LabelAnnotator"
   ]
  },
  {
   "cell_type": "code",
   "execution_count": 21,
   "metadata": {},
   "outputs": [],
   "source": [
    "# convert labels to -1,1....\n",
    "for model in selected_models:\n",
    "    results_dict[model]['label_unlab'] = dict(zip(results_dict[model]['label_unlab_prob+'].keys(),(np.array(results_dict[model]['label_unlab_prob+'].values())>=0.5)*2-1))\n",
    "    results_dict[model]['label_val'] = dict(zip(results_dict[model]['label_val_prob+'].keys(),(np.array(results_dict[model]['label_val_prob+'].values())>=0.5)*2-1))\n",
    "#     results_dict[model]['label_train'] = dict(zip(results_dict[model]['label_train_prob+'].keys(),(np.array(results_dict[model]['label_val_prob+'].values())>=0.5)*2-1))\n",
    "    results_dict[model]['label_test'] = dict(zip(results_dict[model]['label_test_prob+'].keys(),(np.array(results_dict[model]['label_test_prob+'].values())>=0.5)*2-1))\n"
   ]
  },
  {
   "cell_type": "markdown",
   "metadata": {},
   "source": [
    "## Dataset statistics check:\n",
    "## mapped vs unmapped cands in unlab set"
   ]
  },
  {
   "cell_type": "markdown",
   "metadata": {},
   "source": [
    "This section indicates that Snorkels' failure to map candidates ruins the generalization on the unlabeled set.<br \\>\n",
    "<br \\>\n",
    "The results for exp3 were the following:<br \\>\n",
    "<br \\>\n",
    "Un-Mapped candidate class imbalance (predicted) :<br \\>\n",
    "-1    0.860072<br \\>\n",
    " 1    0.139928<br \\>\n",
    "<br \\>\n",
    "\n",
    "Mapped candidate class imbalance (predicted)<br \\>\n",
    "-1    0.725946<br \\>\n",
    " 1    0.274054<br \\> \n",
    "Mapped candidate class imbalance (actual) :<br \\>\n",
    "-1    0.708302<br \\>\n",
    " 1    0.291698<br \\>\n",
    " <br \\>"
   ]
  },
  {
   "cell_type": "code",
   "execution_count": null,
   "metadata": {},
   "outputs": [],
   "source": []
  },
  {
   "cell_type": "code",
   "execution_count": 27,
   "metadata": {},
   "outputs": [],
   "source": [
    "# from utils import check_class_imbalance"
   ]
  },
  {
   "cell_type": "code",
   "execution_count": 28,
   "metadata": {},
   "outputs": [],
   "source": [
    "# unlab_unmapped_ids = []\n",
    "# query = session.query(REGULATOR).filter(and_(REGULATOR.split==3,~REGULATOR.gold_labels.any()))\n",
    "# print 'Adding %i candidates from split=%i'%(query.count(), k)\n",
    "# unlab_unmapped_ids.extend(map(lambda x: x.id,query.all()))"
   ]
  },
  {
   "cell_type": "code",
   "execution_count": 29,
   "metadata": {
    "scrolled": true
   },
   "outputs": [],
   "source": [
    "# unlab_mapped_ids = []\n",
    "# query = session.query(REGULATOR).filter(and_(REGULATOR.split==3,REGULATOR.gold_labels.any()))\n",
    "# print 'Adding %i candidates from split=%i'%(query.count(), k)\n",
    "# unlab_mapped_ids.extend(map(lambda x: x.id,query.all()))"
   ]
  },
  {
   "cell_type": "code",
   "execution_count": 30,
   "metadata": {},
   "outputs": [],
   "source": [
    "# model = selected_models[-1]"
   ]
  },
  {
   "cell_type": "code",
   "execution_count": 31,
   "metadata": {},
   "outputs": [],
   "source": [
    "# preds_unmapped = list(map(lambda x: results_dict[model]['label_unlab'][x] , unlab_unmapped_ids))\n",
    "# check_class_imbalance(preds_unmapped)"
   ]
  },
  {
   "cell_type": "code",
   "execution_count": 32,
   "metadata": {},
   "outputs": [],
   "source": [
    "# preds_mapped = list(map(lambda x: results_dict[model]['label_unlab'][x] , unlab_mapped_ids))\n",
    "# check_class_imbalance(preds_mapped)"
   ]
  },
  {
   "cell_type": "markdown",
   "metadata": {},
   "source": [
    "** on test set (predicted) **"
   ]
  },
  {
   "cell_type": "code",
   "execution_count": 33,
   "metadata": {},
   "outputs": [],
   "source": [
    "# test_ids = []\n",
    "# query = session.query(REGULATOR).filter(and_(REGULATOR.split==2,REGULATOR.gold_labels.any()))\n",
    "# print 'Adding %i candidates from split=%i in to_drop list'%(query.count(), k)\n",
    "# test_ids.extend(map(lambda x: x.id,query.all()))"
   ]
  },
  {
   "cell_type": "code",
   "execution_count": 34,
   "metadata": {},
   "outputs": [],
   "source": [
    "# preds_test = list(map(lambda x: results_dict[model]['label_test'][x] , test_ids))\n",
    "# check_class_imbalance(preds_test)"
   ]
  },
  {
   "cell_type": "markdown",
   "metadata": {},
   "source": [
    "## Port results into snorkel"
   ]
  },
  {
   "cell_type": "code",
   "execution_count": 22,
   "metadata": {},
   "outputs": [],
   "source": [
    "# Include the results for validation data\n",
    "def signal_annotator_unlab_val(c):\n",
    "    \"\"\"A generator over the different (worker_id, label_id) pairs for a Tweet.\"\"\"\n",
    "    for model in results_dict.keys():\n",
    "        try:\n",
    "            yield model, results_dict[model]['label_unlab'][c.id]\n",
    "            \n",
    "        except:\n",
    "            try:\n",
    "                yield model, results_dict[model]['label_val'][c.id]\n",
    "            except:\n",
    "                yield model, results_dict[model]['label_test'][c.id]\n",
    "\n",
    "labeler = LabelAnnotator(label_generator=signal_annotator_unlab_val)"
   ]
  },
  {
   "cell_type": "markdown",
   "metadata": {},
   "source": [
    "### Apply labeler / load label matrix from pickle"
   ]
  },
  {
   "cell_type": "code",
   "execution_count": 23,
   "metadata": {},
   "outputs": [
    {
     "name": "stdout",
     "output_type": "stream",
     "text": [
      "Clearing existing...\n",
      "Running UDF...\n",
      "CPU times: user 2min 2s, sys: 5.64 s, total: 2min 8s\n",
      "Wall time: 7min 33s\n"
     ]
    },
    {
     "data": {
      "text/plain": [
       "<9167x13 sparse matrix of type '<type 'numpy.int64'>'\n",
       "\twith 119171 stored elements in Compressed Sparse Row format>"
      ]
     },
     "execution_count": 23,
     "metadata": {},
     "output_type": "execute_result"
    }
   ],
   "source": [
    "#regenerate L_unlab - Takes about 1h for 12 voters (100% coverage)\n",
    "\n",
    "%time L_unlab = labeler.apply(split=3, parallelism=6)\n",
    "L_unlab"
   ]
  },
  {
   "cell_type": "code",
   "execution_count": 24,
   "metadata": {},
   "outputs": [],
   "source": [
    "from MLutils import balance_candidates, sample_from_csr, majority_vote, majority_vote_score, average_vote, error_analysis"
   ]
  },
  {
   "cell_type": "code",
   "execution_count": 25,
   "metadata": {},
   "outputs": [
    {
     "name": "stdout",
     "output_type": "stream",
     "text": [
      "Clearing existing...\n",
      "Running UDF...\n",
      "Clearing existing...\n",
      "Running UDF...\n"
     ]
    }
   ],
   "source": [
    "# load validation & test set & their labels (to compute majority votes etc)\n",
    "L_gold_dev = load_gold_labels(session, annotator_name='gold', split=1)\n",
    "L_dev = labeler.apply_existing(split=1, parallelism=6)\n",
    "\n",
    "L_gold_test = load_gold_labels(session, annotator_name='gold', split=2)\n",
    "L_test = labeler.apply_existing(split=2, parallelism=6)"
   ]
  },
  {
   "cell_type": "code",
   "execution_count": 26,
   "metadata": {},
   "outputs": [],
   "source": [
    "# load unlabeled set labels (for exp3)\n",
    "L_gold_unlab = load_gold_labels(session, annotator_name='gold', split=3)"
   ]
  },
  {
   "cell_type": "code",
   "execution_count": 27,
   "metadata": {},
   "outputs": [],
   "source": [
    "L_gold_train = load_gold_labels(session, annotator_name='gold', split=0)"
   ]
  },
  {
   "cell_type": "markdown",
   "metadata": {},
   "source": [
    "### Check some label statistics"
   ]
  },
  {
   "cell_type": "code",
   "execution_count": 28,
   "metadata": {},
   "outputs": [],
   "source": [
    "from MLutils import average_vote, majority_vote"
   ]
  },
  {
   "cell_type": "markdown",
   "metadata": {},
   "source": [
    "** Majority voting **"
   ]
  },
  {
   "cell_type": "code",
   "execution_count": 29,
   "metadata": {},
   "outputs": [],
   "source": [
    "from utils import check_class_imbalance"
   ]
  },
  {
   "cell_type": "code",
   "execution_count": 30,
   "metadata": {},
   "outputs": [
    {
     "name": "stdout",
     "output_type": "stream",
     "text": [
      "\n",
      "Predicted class imbalance by maj voting:\n",
      "0    0.687248\n",
      "1    0.312752\n",
      "dtype: float64\n"
     ]
    },
    {
     "data": {
      "image/png": "[encoded data removed]",
      "text/plain": [
       "<Figure size 432x288 with 1 Axes>"
      ]
     },
     "metadata": {},
     "output_type": "display_data"
    }
   ],
   "source": [
    "maj_vote_labels = majority_vote(L_unlab)\n",
    "pd.Series(maj_vote_labels).hist(bins=41)\n",
    "print \"\\nPredicted class imbalance by maj voting:\"\n",
    "print check_class_imbalance(maj_vote_labels)"
   ]
  },
  {
   "cell_type": "code",
   "execution_count": 31,
   "metadata": {},
   "outputs": [
    {
     "name": "stdout",
     "output_type": "stream",
     "text": [
      "Majority voting (val set):\n",
      "\n",
      "(0.5667789001122334, 0.7112676056338029, 0.6308557151780138)\n"
     ]
    }
   ],
   "source": [
    "print \"Majority voting (val set):\\n\"\n",
    "print majority_vote_score(L_dev, L_gold_dev)"
   ]
  },
  {
   "cell_type": "code",
   "execution_count": 32,
   "metadata": {},
   "outputs": [
    {
     "name": "stdout",
     "output_type": "stream",
     "text": [
      "Majority voting (test set):\n",
      "\n",
      "(0.5628691983122363, 0.6723790322580645, 0.6127698667891595)\n"
     ]
    }
   ],
   "source": [
    "print \"Majority voting (test set):\\n\"\n",
    "print majority_vote_score(L_test, L_gold_test)"
   ]
  },
  {
   "cell_type": "code",
   "execution_count": null,
   "metadata": {},
   "outputs": [],
   "source": []
  },
  {
   "cell_type": "code",
   "execution_count": 33,
   "metadata": {},
   "outputs": [
    {
     "data": {
      "image/png": "[encoded data removed]",
      "text/plain": [
       "<Figure size 432x288 with 1 Axes>"
      ]
     },
     "metadata": {},
     "output_type": "display_data"
    }
   ],
   "source": [
    "error_analysis(L_dev, L_gold_dev, majority_voting=True)"
   ]
  },
  {
   "cell_type": "markdown",
   "metadata": {},
   "source": [
    "** Average voting **"
   ]
  },
  {
   "cell_type": "code",
   "execution_count": 34,
   "metadata": {},
   "outputs": [
    {
     "data": {
      "text/plain": [
       "<matplotlib.axes._subplots.AxesSubplot at 0x7fd458c17190>"
      ]
     },
     "execution_count": 34,
     "metadata": {},
     "output_type": "execute_result"
    },
    {
     "data": {
      "image/png": "[encoded data removed]",
      "text/plain": [
       "<Figure size 432x288 with 1 Axes>"
      ]
     },
     "metadata": {},
     "output_type": "display_data"
    }
   ],
   "source": [
    "# get average of votes based on the preds of base classifiers\n",
    "avg_vote_labels = average_vote(L_unlab)\n",
    "pd.Series(avg_vote_labels).hist(bins=41)"
   ]
  },
  {
   "cell_type": "code",
   "execution_count": 35,
   "metadata": {},
   "outputs": [
    {
     "data": {
      "image/png": "[encoded data removed]",
      "text/plain": [
       "<Figure size 432x288 with 1 Axes>"
      ]
     },
     "metadata": {},
     "output_type": "display_data"
    }
   ],
   "source": [
    "error_analysis(L_dev, L_gold_dev, average_voting=True)"
   ]
  },
  {
   "cell_type": "code",
   "execution_count": 37,
   "metadata": {},
   "outputs": [],
   "source": [
    "# save avg vote labels as toy example for the new eval metric\n",
    "with open(pkl_paths+\"new_eval_metric/13models_avg_voting_labels.pkl\", 'wb') as f:\n",
    "    pickle.dump(avg_vote_labels, f)"
   ]
  },
  {
   "cell_type": "markdown",
   "metadata": {},
   "source": [
    "# Denoising part"
   ]
  },
  {
   "cell_type": "markdown",
   "metadata": {},
   "source": [
    "## Find dependencies between LFs\n"
   ]
  },
  {
   "cell_type": "code",
   "execution_count": 38,
   "metadata": {},
   "outputs": [],
   "source": [
    "from itertools import combinations"
   ]
  },
  {
   "cell_type": "code",
   "execution_count": 39,
   "metadata": {},
   "outputs": [],
   "source": [
    "from snorkel.learning.structure import DependencySelector\n",
    "ds = DependencySelector()"
   ]
  },
  {
   "cell_type": "code",
   "execution_count": 40,
   "metadata": {},
   "outputs": [
    {
     "name": "stdout",
     "output_type": "stream",
     "text": [
      "[78, 72, 62, 51, 39, 34, 33, 29]\n",
      "[29, 33, 34, 39, 51, 62, 72, 78]\n",
      "Maximum nr of dependencies: 78\n"
     ]
    }
   ],
   "source": [
    "# Generate all possible dependencies with threshold from 0 to 0.15\n",
    "all_deps = [ds.select(L_unlab, threshold=thresh) for thresh in np.array(range(0.1,15.1,2.5))/100.]\n",
    "print list(map(lambda x: len(x) ,all_deps))\n",
    "all_deps = list(np.unique(all_deps)) # delete duplicates for gridsearch\n",
    "print list(map(lambda x: len(x) ,all_deps))\n",
    "\n",
    "print \"Maximum nr of dependencies: %i\" %len(list(combinations(L_dev.col_index.values(),2)))"
   ]
  },
  {
   "cell_type": "markdown",
   "metadata": {},
   "source": [
    "# GM training"
   ]
  },
  {
   "cell_type": "code",
   "execution_count": 41,
   "metadata": {},
   "outputs": [],
   "source": [
    "from snorkel.learning import RandomSearch, GenerativeModel, GridSearch"
   ]
  },
  {
   "cell_type": "markdown",
   "metadata": {},
   "source": [
    "** Hyperparameter search **"
   ]
  },
  {
   "cell_type": "code",
   "execution_count": 43,
   "metadata": {},
   "outputs": [],
   "source": [
    "param_ranges = { # parameters for the train function of the GenerativeModel\n",
    "#     'step_size' : [10./L_unlab.shape[0],\n",
    "#                   5./L_unlab.shape[0],\n",
    "#                    15./L_unlab.shape[0]\n",
    "#                   ],\n",
    "    'decay' : [0.99],\n",
    "    'epochs' : [50],\n",
    "    'reg_param': [1e-1 ], #,1e-2,1e-3],\n",
    "    'deps': all_deps\n",
    "}\n",
    "\n",
    "model_class_params = {  # parameters for the GenerativeModel\n",
    "    'lf_propensity': [True]\n",
    "}\n",
    "\n",
    "searcher = RandomSearch(GenerativeModel, param_ranges,  L_unlab, model_class_params = model_class_params , n=24 )\n",
    "searcher = GridSearch(GenerativeModel, param_ranges,  L_unlab, model_class_params = model_class_params  )\n"
   ]
  },
  {
   "cell_type": "code",
   "execution_count": 44,
   "metadata": {
    "scrolled": true
   },
   "outputs": [
    {
     "name": "stdout",
     "output_type": "stream",
     "text": [
      "Loading data...\n",
      "Launching jobs...\n",
      "Inferred cardinality: 2\n",
      "Inferred cardinality: 2\n",
      "Inferred cardinality: 2\n",
      "Inferred cardinality: 2\n",
      "Inferred cardinality: 2\n",
      "Inferred cardinality: 2\n",
      "[GenerativeModel] Model saved as <GenerativeModel_3>.\n",
      "[GenerativeModel] Model saved as <GenerativeModel_1>.\n",
      "[GenerativeModel] Model saved as <GenerativeModel_2>.\n",
      "[GenerativeModel] Model saved as <GenerativeModel_0>.\n",
      "Inferred cardinality: 2\n",
      "Model 3 Done; score: 0.600487210719\n",
      "[GenerativeModel] Model saved as <GenerativeModel_4>.\n",
      "Inferred cardinality: 2\n",
      "Model 1 Done; score: 0.60853432282\n",
      "[GenerativeModel] Model saved as <GenerativeModel_5>.\n",
      "Model 2 Done; score: 0.608856088561\n",
      "Model 0 Done; score: 0.614241486068\n",
      "Model 4 Done; score: 0.590339892665\n",
      "Model 5 Done; score: 0.590476190476\n",
      "[GenerativeModel] Model saved as <GenerativeModel_6>.\n",
      "[GenerativeModel] Model saved as <GenerativeModel_7>.\n",
      "Model 6 Done; score: 0.591532498509\n",
      "Model 7 Done; score: 0.591532498509\n",
      "[GenerativeModel] Model <GenerativeModel_0> loaded.\n",
      "[GenerativeModel] Model saved as <GenerativeModel_best>.\n",
      "CPU times: user 65.3 ms, sys: 57.7 ms, total: 123 ms\n",
      "Wall time: 2min 34s\n"
     ]
    }
   ],
   "source": [
    "%%time\n",
    "gen_model, run_stats = searcher.fit(L_dev, L_gold_dev, n_threads=6 )"
   ]
  },
  {
   "cell_type": "code",
   "execution_count": 45,
   "metadata": {},
   "outputs": [],
   "source": [
    "run_stats['#deps'] = list(map(lambda x: len(run_stats.deps[x]), run_stats.index)) # save # deps to identify 'deps'"
   ]
  },
  {
   "cell_type": "code",
   "execution_count": 46,
   "metadata": {
    "scrolled": true
   },
   "outputs": [
    {
     "data": {
      "text/html": [
       "<div>\n",
       "<style scoped>\n",
       "    .dataframe tbody tr th:only-of-type {\n",
       "        vertical-align: middle;\n",
       "    }\n",
       "\n",
       "    .dataframe tbody tr th {\n",
       "        vertical-align: top;\n",
       "    }\n",
       "\n",
       "    .dataframe thead th {\n",
       "        text-align: right;\n",
       "    }\n",
       "</style>\n",
       "<table border=\"1\" class=\"dataframe\">\n",
       "  <thead>\n",
       "    <tr style=\"text-align: right;\">\n",
       "      <th></th>\n",
       "      <th>Model</th>\n",
       "      <th>epochs</th>\n",
       "      <th>reg_param</th>\n",
       "      <th>deps</th>\n",
       "      <th>decay</th>\n",
       "      <th>Prec.</th>\n",
       "      <th>Rec.</th>\n",
       "      <th>F-1</th>\n",
       "      <th>#deps</th>\n",
       "    </tr>\n",
       "  </thead>\n",
       "  <tbody>\n",
       "    <tr>\n",
       "      <th>3</th>\n",
       "      <td>0</td>\n",
       "      <td>50</td>\n",
       "      <td>0.1</td>\n",
       "      <td>{(1, 10, 0), (1, 3, 0), (0, 5, 0), (5, 11, 0),...</td>\n",
       "      <td>0.99</td>\n",
       "      <td>0.548066</td>\n",
       "      <td>0.698592</td>\n",
       "      <td>0.614241</td>\n",
       "      <td>29</td>\n",
       "    </tr>\n",
       "    <tr>\n",
       "      <th>2</th>\n",
       "      <td>2</td>\n",
       "      <td>50</td>\n",
       "      <td>0.1</td>\n",
       "      <td>{(1, 10, 0), (1, 3, 0), (0, 5, 0), (5, 11, 0),...</td>\n",
       "      <td>0.99</td>\n",
       "      <td>0.540393</td>\n",
       "      <td>0.697183</td>\n",
       "      <td>0.608856</td>\n",
       "      <td>34</td>\n",
       "    </tr>\n",
       "    <tr>\n",
       "      <th>1</th>\n",
       "      <td>1</td>\n",
       "      <td>50</td>\n",
       "      <td>0.1</td>\n",
       "      <td>{(1, 10, 0), (1, 3, 0), (0, 5, 0), (5, 11, 0),...</td>\n",
       "      <td>0.99</td>\n",
       "      <td>0.542448</td>\n",
       "      <td>0.692958</td>\n",
       "      <td>0.608534</td>\n",
       "      <td>33</td>\n",
       "    </tr>\n",
       "    <tr>\n",
       "      <th>0</th>\n",
       "      <td>3</td>\n",
       "      <td>50</td>\n",
       "      <td>0.1</td>\n",
       "      <td>{(1, 10, 0), (6, 7, 0), (3, 4, 0), (1, 3, 0), ...</td>\n",
       "      <td>0.99</td>\n",
       "      <td>0.528970</td>\n",
       "      <td>0.694366</td>\n",
       "      <td>0.600487</td>\n",
       "      <td>39</td>\n",
       "    </tr>\n",
       "    <tr>\n",
       "      <th>6</th>\n",
       "      <td>6</td>\n",
       "      <td>50</td>\n",
       "      <td>0.1</td>\n",
       "      <td>{(4, 7, 0), (6, 9, 0), (1, 10, 0), (6, 11, 0),...</td>\n",
       "      <td>0.99</td>\n",
       "      <td>0.512927</td>\n",
       "      <td>0.698592</td>\n",
       "      <td>0.591532</td>\n",
       "      <td>72</td>\n",
       "    </tr>\n",
       "    <tr>\n",
       "      <th>7</th>\n",
       "      <td>7</td>\n",
       "      <td>50</td>\n",
       "      <td>0.1</td>\n",
       "      <td>{(4, 7, 0), (6, 9, 0), (1, 10, 0), (3, 9, 0), ...</td>\n",
       "      <td>0.99</td>\n",
       "      <td>0.512927</td>\n",
       "      <td>0.698592</td>\n",
       "      <td>0.591532</td>\n",
       "      <td>78</td>\n",
       "    </tr>\n",
       "    <tr>\n",
       "      <th>5</th>\n",
       "      <td>5</td>\n",
       "      <td>50</td>\n",
       "      <td>0.1</td>\n",
       "      <td>{(4, 7, 0), (1, 10, 0), (0, 5, 0), (6, 7, 0), ...</td>\n",
       "      <td>0.99</td>\n",
       "      <td>0.511340</td>\n",
       "      <td>0.698592</td>\n",
       "      <td>0.590476</td>\n",
       "      <td>62</td>\n",
       "    </tr>\n",
       "    <tr>\n",
       "      <th>4</th>\n",
       "      <td>4</td>\n",
       "      <td>50</td>\n",
       "      <td>0.1</td>\n",
       "      <td>{(1, 10, 0), (0, 5, 0), (6, 7, 0), (3, 4, 0), ...</td>\n",
       "      <td>0.99</td>\n",
       "      <td>0.511892</td>\n",
       "      <td>0.697183</td>\n",
       "      <td>0.590340</td>\n",
       "      <td>51</td>\n",
       "    </tr>\n",
       "  </tbody>\n",
       "</table>\n",
       "</div>"
      ],
      "text/plain": [
       "   Model  epochs  reg_param  \\\n",
       "3      0      50        0.1   \n",
       "2      2      50        0.1   \n",
       "1      1      50        0.1   \n",
       "0      3      50        0.1   \n",
       "6      6      50        0.1   \n",
       "7      7      50        0.1   \n",
       "5      5      50        0.1   \n",
       "4      4      50        0.1   \n",
       "\n",
       "                                                deps  decay     Prec.  \\\n",
       "3  {(1, 10, 0), (1, 3, 0), (0, 5, 0), (5, 11, 0),...   0.99  0.548066   \n",
       "2  {(1, 10, 0), (1, 3, 0), (0, 5, 0), (5, 11, 0),...   0.99  0.540393   \n",
       "1  {(1, 10, 0), (1, 3, 0), (0, 5, 0), (5, 11, 0),...   0.99  0.542448   \n",
       "0  {(1, 10, 0), (6, 7, 0), (3, 4, 0), (1, 3, 0), ...   0.99  0.528970   \n",
       "6  {(4, 7, 0), (6, 9, 0), (1, 10, 0), (6, 11, 0),...   0.99  0.512927   \n",
       "7  {(4, 7, 0), (6, 9, 0), (1, 10, 0), (3, 9, 0), ...   0.99  0.512927   \n",
       "5  {(4, 7, 0), (1, 10, 0), (0, 5, 0), (6, 7, 0), ...   0.99  0.511340   \n",
       "4  {(1, 10, 0), (0, 5, 0), (6, 7, 0), (3, 4, 0), ...   0.99  0.511892   \n",
       "\n",
       "       Rec.       F-1  #deps  \n",
       "3  0.698592  0.614241     29  \n",
       "2  0.697183  0.608856     34  \n",
       "1  0.692958  0.608534     33  \n",
       "0  0.694366  0.600487     39  \n",
       "6  0.698592  0.591532     72  \n",
       "7  0.698592  0.591532     78  \n",
       "5  0.698592  0.590476     62  \n",
       "4  0.697183  0.590340     51  "
      ]
     },
     "execution_count": 46,
     "metadata": {},
     "output_type": "execute_result"
    }
   ],
   "source": [
    "run_stats"
   ]
  },
  {
   "cell_type": "code",
   "execution_count": 47,
   "metadata": {},
   "outputs": [
    {
     "name": "stdout",
     "output_type": "stream",
     "text": [
      "Generative Model params:\n",
      "\n"
     ]
    },
    {
     "data": {
      "text/html": [
       "<div>\n",
       "<style scoped>\n",
       "    .dataframe tbody tr th:only-of-type {\n",
       "        vertical-align: middle;\n",
       "    }\n",
       "\n",
       "    .dataframe tbody tr th {\n",
       "        vertical-align: top;\n",
       "    }\n",
       "\n",
       "    .dataframe thead th {\n",
       "        text-align: right;\n",
       "    }\n",
       "</style>\n",
       "<table border=\"1\" class=\"dataframe\">\n",
       "  <thead>\n",
       "    <tr style=\"text-align: right;\">\n",
       "      <th></th>\n",
       "      <th>Model</th>\n",
       "      <th>epochs</th>\n",
       "      <th>reg_param</th>\n",
       "      <th>decay</th>\n",
       "      <th>Prec.</th>\n",
       "      <th>Rec.</th>\n",
       "      <th>F-1</th>\n",
       "      <th>#deps</th>\n",
       "    </tr>\n",
       "  </thead>\n",
       "  <tbody>\n",
       "    <tr>\n",
       "      <th>3</th>\n",
       "      <td>0</td>\n",
       "      <td>50</td>\n",
       "      <td>0.1</td>\n",
       "      <td>0.99</td>\n",
       "      <td>0.548066</td>\n",
       "      <td>0.698592</td>\n",
       "      <td>0.614241</td>\n",
       "      <td>29</td>\n",
       "    </tr>\n",
       "    <tr>\n",
       "      <th>2</th>\n",
       "      <td>2</td>\n",
       "      <td>50</td>\n",
       "      <td>0.1</td>\n",
       "      <td>0.99</td>\n",
       "      <td>0.540393</td>\n",
       "      <td>0.697183</td>\n",
       "      <td>0.608856</td>\n",
       "      <td>34</td>\n",
       "    </tr>\n",
       "    <tr>\n",
       "      <th>1</th>\n",
       "      <td>1</td>\n",
       "      <td>50</td>\n",
       "      <td>0.1</td>\n",
       "      <td>0.99</td>\n",
       "      <td>0.542448</td>\n",
       "      <td>0.692958</td>\n",
       "      <td>0.608534</td>\n",
       "      <td>33</td>\n",
       "    </tr>\n",
       "    <tr>\n",
       "      <th>0</th>\n",
       "      <td>3</td>\n",
       "      <td>50</td>\n",
       "      <td>0.1</td>\n",
       "      <td>0.99</td>\n",
       "      <td>0.528970</td>\n",
       "      <td>0.694366</td>\n",
       "      <td>0.600487</td>\n",
       "      <td>39</td>\n",
       "    </tr>\n",
       "    <tr>\n",
       "      <th>6</th>\n",
       "      <td>6</td>\n",
       "      <td>50</td>\n",
       "      <td>0.1</td>\n",
       "      <td>0.99</td>\n",
       "      <td>0.512927</td>\n",
       "      <td>0.698592</td>\n",
       "      <td>0.591532</td>\n",
       "      <td>72</td>\n",
       "    </tr>\n",
       "    <tr>\n",
       "      <th>7</th>\n",
       "      <td>7</td>\n",
       "      <td>50</td>\n",
       "      <td>0.1</td>\n",
       "      <td>0.99</td>\n",
       "      <td>0.512927</td>\n",
       "      <td>0.698592</td>\n",
       "      <td>0.591532</td>\n",
       "      <td>78</td>\n",
       "    </tr>\n",
       "    <tr>\n",
       "      <th>5</th>\n",
       "      <td>5</td>\n",
       "      <td>50</td>\n",
       "      <td>0.1</td>\n",
       "      <td>0.99</td>\n",
       "      <td>0.511340</td>\n",
       "      <td>0.698592</td>\n",
       "      <td>0.590476</td>\n",
       "      <td>62</td>\n",
       "    </tr>\n",
       "    <tr>\n",
       "      <th>4</th>\n",
       "      <td>4</td>\n",
       "      <td>50</td>\n",
       "      <td>0.1</td>\n",
       "      <td>0.99</td>\n",
       "      <td>0.511892</td>\n",
       "      <td>0.697183</td>\n",
       "      <td>0.590340</td>\n",
       "      <td>51</td>\n",
       "    </tr>\n",
       "  </tbody>\n",
       "</table>\n",
       "</div>"
      ],
      "text/plain": [
       "   Model  epochs  reg_param  decay     Prec.      Rec.       F-1  #deps\n",
       "3      0      50        0.1   0.99  0.548066  0.698592  0.614241     29\n",
       "2      2      50        0.1   0.99  0.540393  0.697183  0.608856     34\n",
       "1      1      50        0.1   0.99  0.542448  0.692958  0.608534     33\n",
       "0      3      50        0.1   0.99  0.528970  0.694366  0.600487     39\n",
       "6      6      50        0.1   0.99  0.512927  0.698592  0.591532     72\n",
       "7      7      50        0.1   0.99  0.512927  0.698592  0.591532     78\n",
       "5      5      50        0.1   0.99  0.511340  0.698592  0.590476     62\n",
       "4      4      50        0.1   0.99  0.511892  0.697183  0.590340     51"
      ]
     },
     "execution_count": 47,
     "metadata": {},
     "output_type": "execute_result"
    }
   ],
   "source": [
    "print \"Generative Model params:\\n\"\n",
    "run_stats.drop('deps', axis=1)"
   ]
  },
  {
   "cell_type": "markdown",
   "metadata": {},
   "source": [
    "### GM performance on Validation & Test set"
   ]
  },
  {
   "cell_type": "markdown",
   "metadata": {},
   "source": [
    "** Validation **"
   ]
  },
  {
   "cell_type": "code",
   "execution_count": 48,
   "metadata": {},
   "outputs": [
    {
     "name": "stdout",
     "output_type": "stream",
     "text": [
      "Generative Model perf (val set):\n",
      "\n",
      "========================================\n",
      "Scores (Un-adjusted)\n",
      "========================================\n",
      "Pos. class accuracy: 0.699\n",
      "Neg. class accuracy: 0.838\n",
      "Precision            0.548\n",
      "Recall               0.699\n",
      "F1                   0.614\n",
      "----------------------------------------\n",
      "TP: 496 | FP: 409 | TN: 2123 | FN: 214\n",
      "========================================\n",
      "\n"
     ]
    }
   ],
   "source": [
    "print \"Generative Model perf (val set):\\n\"\n",
    "_ = gen_model.error_analysis(session, L_dev, L_gold_dev)"
   ]
  },
  {
   "cell_type": "code",
   "execution_count": 49,
   "metadata": {},
   "outputs": [
    {
     "data": {
      "text/plain": [
       "<snorkel.learning.gen_learning.GenerativeModelWeights at 0x7fd456d6e6d0>"
      ]
     },
     "execution_count": 49,
     "metadata": {},
     "output_type": "execute_result"
    }
   ],
   "source": [
    "gen_model.weights"
   ]
  },
  {
   "cell_type": "code",
   "execution_count": 50,
   "metadata": {},
   "outputs": [
    {
     "data": {
      "image/png": "[encoded data removed]",
      "text/plain": [
       "<Figure size 432x288 with 1 Axes>"
      ]
     },
     "metadata": {},
     "output_type": "display_data"
    }
   ],
   "source": [
    "error_analysis(L_dev,L_gold_dev, gen_model=gen_model)"
   ]
  },
  {
   "cell_type": "markdown",
   "metadata": {},
   "source": [
    "** Test **"
   ]
  },
  {
   "cell_type": "code",
   "execution_count": 51,
   "metadata": {},
   "outputs": [
    {
     "name": "stdout",
     "output_type": "stream",
     "text": [
      "Generative Model perf (test set):\n",
      "\n",
      "========================================\n",
      "Scores (Un-adjusted)\n",
      "========================================\n",
      "Pos. class accuracy: 0.668\n",
      "Neg. class accuracy: 0.824\n",
      "Precision            0.547\n",
      "Recall               0.668\n",
      "F1                   0.601\n",
      "----------------------------------------\n",
      "TP: 1325 | FP: 1097 | TN: 5140 | FN: 659\n",
      "========================================\n",
      "\n"
     ]
    }
   ],
   "source": [
    "print \"Generative Model perf (test set):\\n\"\n",
    "_ = gen_model.error_analysis(session, L_test, L_gold_test)"
   ]
  },
  {
   "cell_type": "code",
   "execution_count": 52,
   "metadata": {},
   "outputs": [
    {
     "data": {
      "text/plain": [
       "(0.5470685383980182, 0.6678427419354839, 0.6014525646845211)"
      ]
     },
     "execution_count": 52,
     "metadata": {},
     "output_type": "execute_result"
    }
   ],
   "source": [
    "gen_model.score(L_test, L_gold_test)"
   ]
  },
  {
   "cell_type": "markdown",
   "metadata": {},
   "source": [
    "**  (with fixed params) **"
   ]
  },
  {
   "cell_type": "code",
   "execution_count": 62,
   "metadata": {},
   "outputs": [],
   "source": [
    "# %%time\n",
    "# # actual training of the gen. model\n",
    "# from snorkel.learning import GenerativeModel\n",
    "\n",
    "# gen_model = GenerativeModel(lf_propensity=True, class_prior=False )\n",
    "\n",
    "# gen_model.train(\n",
    "#     L_unlab, decay=0.99, threads = 6, deps=all_deps[2], #reg_param = 1e-200, step_size = 10./L_unlab.shape[0],\n",
    "#     #epochs=50\n",
    "# )\n"
   ]
  },
  {
   "cell_type": "code",
   "execution_count": 63,
   "metadata": {},
   "outputs": [],
   "source": [
    "# _ = gen_model.error_analysis(session, L_dev, L_gold_dev)"
   ]
  },
  {
   "cell_type": "markdown",
   "metadata": {},
   "source": [
    "** Load a previous model **"
   ]
  },
  {
   "cell_type": "code",
   "execution_count": 64,
   "metadata": {},
   "outputs": [],
   "source": [
    "# # Possibly load previously run model\n",
    "# gen_model.load('GenerativeModel_8', save_dir='checkpoints/grid_search/')\n"
   ]
  },
  {
   "cell_type": "code",
   "execution_count": 65,
   "metadata": {},
   "outputs": [],
   "source": [
    "# _ = gen_model.error_analysis(session, L_dev, L_gold_dev)"
   ]
  },
  {
   "cell_type": "markdown",
   "metadata": {},
   "source": [
    "# Save marginals and proceed to LSTM training"
   ]
  },
  {
   "cell_type": "code",
   "execution_count": 54,
   "metadata": {},
   "outputs": [],
   "source": [
    "unlab_marginals_gen = gen_model.marginals(L_unlab)\n",
    "unlab_marginals_avg = average_vote(L_unlab)\n",
    "unlab_marginals_maj = majority_vote(L_unlab)"
   ]
  },
  {
   "cell_type": "code",
   "execution_count": null,
   "metadata": {},
   "outputs": [],
   "source": [
    "# save in db (for training in a different nb)\n",
    "# save_marginals(session, L_unlab, unlab_marginals)"
   ]
  },
  {
   "cell_type": "code",
   "execution_count": 55,
   "metadata": {},
   "outputs": [],
   "source": [
    "# save avg vote labels in pickle\n",
    "with open(pkl_paths+\"new_eval_metric/13models_GM_hyperp_labels(61%).pkl\", 'wb') as f:\n",
    "    pickle.dump(unlab_marginals_gen, f)"
   ]
  },
  {
   "cell_type": "markdown",
   "metadata": {},
   "source": [
    "# Discriminative model learning"
   ]
  },
  {
   "cell_type": "code",
   "execution_count": 56,
   "metadata": {},
   "outputs": [],
   "source": [
    "from MLutils import balance_candidates"
   ]
  },
  {
   "cell_type": "code",
   "execution_count": 57,
   "metadata": {},
   "outputs": [],
   "source": [
    "from snorkel.learning import reRNN"
   ]
  },
  {
   "cell_type": "code",
   "execution_count": 58,
   "metadata": {},
   "outputs": [],
   "source": [
    "#load marginals\n",
    "# save avg vote labels in pickle\n",
    "with open(pkl_paths+\"new_eval_metric/13models_GM_hyperp_labels(61%).pkl\", 'rb') as f:\n",
    "    unlab_marginals_gen = pickle.load(f)"
   ]
  },
  {
   "cell_type": "markdown",
   "metadata": {},
   "source": [
    "## Without GS"
   ]
  },
  {
   "cell_type": "code",
   "execution_count": 79,
   "metadata": {},
   "outputs": [],
   "source": [
    "# plt.hist(unlab_marginals, bins=20)\n",
    "# plt.title('Histogram of marginals with candidates undersampled before GM ')\n",
    "# plt.show()"
   ]
  },
  {
   "cell_type": "code",
   "execution_count": 80,
   "metadata": {},
   "outputs": [],
   "source": [
    "# ### balance cands here to shuffle \n",
    "# unlab_us, unlab_marginals_us = balance_candidates(unlab, unlab_marginals)\n"
   ]
  },
  {
   "cell_type": "markdown",
   "metadata": {},
   "source": [
    "## with Generative model marginals "
   ]
  },
  {
   "cell_type": "code",
   "execution_count": 60,
   "metadata": {},
   "outputs": [
    {
     "data": {
      "image/png": "[encoded data removed]",
      "text/plain": [
       "<Figure size 432x288 with 1 Axes>"
      ]
     },
     "metadata": {},
     "output_type": "display_data"
    }
   ],
   "source": [
    "plot_marginals_histogram(unlab_marginals_gen, \n",
    "                         title = 'Histogram of marginals' ,\n",
    "                        bins = 20)"
   ]
  },
  {
   "cell_type": "code",
   "execution_count": 82,
   "metadata": {},
   "outputs": [],
   "source": [
    "train_kwargs = {\n",
    "    'lr':         0.01,\n",
    "    'dim':        100,\n",
    "    'n_epochs':   20,\n",
    "    'dropout':    0.25,\n",
    "    'rebalance':  True,\n",
    "    'print_freq': 1,\n",
    "    'batch_size': 256\n",
    "}\n"
   ]
  },
  {
   "cell_type": "markdown",
   "metadata": {},
   "source": [
    "** normal training **"
   ]
  },
  {
   "cell_type": "code",
   "execution_count": 104,
   "metadata": {},
   "outputs": [
    {
     "name": "stderr",
     "output_type": "stream",
     "text": [
      "/home/antonis/anaconda2/envs/snorkel27clone/lib/python2.7/site-packages/tensorflow/python/ops/gradients_impl.py:100: UserWarning: Converting sparse IndexedSlices to a dense Tensor of unknown shape. This may consume a large amount of memory.\n",
      "  \"Converting sparse IndexedSlices to a dense Tensor of unknown shape. \"\n"
     ]
    },
    {
     "name": "stdout",
     "output_type": "stream",
     "text": [
      "[reRNN] Training model\n",
      "[reRNN] n_train=5606  #epochs=5  batch size=256\n",
      "[reRNN] Epoch 0 (24.08s)\tAverage loss=0.618013\tDev F1=40.73\n",
      "[reRNN] Epoch 1 (51.60s)\tAverage loss=0.433465\tDev F1=38.32\n",
      "[reRNN] Model saved as <reRNN>\n",
      "[reRNN] Epoch 2 (79.76s)\tAverage loss=0.385963\tDev F1=36.75\n",
      "[reRNN] Epoch 3 (107.94s)\tAverage loss=0.363062\tDev F1=38.27\n",
      "[reRNN] Epoch 4 (136.35s)\tAverage loss=0.347250\tDev F1=39.17\n",
      "[reRNN] Model saved as <reRNN>\n",
      "[reRNN] Training done (140.37s)\n",
      "INFO:tensorflow:Restoring parameters from checkpoints/reRNN/reRNN-4\n",
      "[reRNN] Loaded model <reRNN>\n"
     ]
    }
   ],
   "source": [
    "\n",
    "lstm = reRNN(seed=1701, n_threads=6,)\n",
    "lstm.train(unlab, unlab_marginals_gen , X_dev=dev, Y_dev=L_gold_dev, dev_ckpt_delay=0, **train_kwargs)"
   ]
  },
  {
   "cell_type": "markdown",
   "metadata": {},
   "source": [
    "** learning curve (varying number of epochs) **"
   ]
  },
  {
   "cell_type": "code",
   "execution_count": 64,
   "metadata": {},
   "outputs": [],
   "source": [
    "from MLutils import plot_learning_curve, custom_learning_curve"
   ]
  },
  {
   "cell_type": "code",
   "execution_count": 70,
   "metadata": {
    "scrolled": true
   },
   "outputs": [
    {
     "name": "stdout",
     "output_type": "stream",
     "text": [
      "[0.00000000e+00 1.12058181e-04 1.71033339e-04 ... 9.99828967e-01\n",
      " 9.99887942e-01 1.00000000e+00]\n",
      "<type 'numpy.ndarray'> <type 'list'>\n"
     ]
    },
    {
     "name": "stderr",
     "output_type": "stream",
     "text": [
      "/home/antonis/anaconda2/envs/snorkel27clone/lib/python2.7/site-packages/tensorflow/python/ops/gradients_impl.py:100: UserWarning: Converting sparse IndexedSlices to a dense Tensor of unknown shape. This may consume a large amount of memory.\n",
      "  \"Converting sparse IndexedSlices to a dense Tensor of unknown shape. \"\n"
     ]
    },
    {
     "name": "stdout",
     "output_type": "stream",
     "text": [
      "[reRNN] Training model\n",
      "[reRNN] n_train=2060  #epochs=30  batch size=64\n",
      "[reRNN] Epoch 0 (10.48s)\tAverage loss=0.591885\tDev F1=40.14\n",
      "[reRNN] Epoch 1 (25.97s)\tAverage loss=0.317047\tDev F1=34.91\n",
      "[reRNN] Model saved as <reRNN>\n",
      "[reRNN] Epoch 2 (41.73s)\tAverage loss=0.246217\tDev F1=38.44\n",
      "[reRNN] Model saved as <reRNN>\n",
      "[reRNN] Epoch 3 (57.32s)\tAverage loss=0.212061\tDev F1=34.46\n",
      "[reRNN] Epoch 4 (73.94s)\tAverage loss=0.182734\tDev F1=33.88\n",
      "[reRNN] Epoch 5 (92.37s)\tAverage loss=0.165024\tDev F1=31.19\n",
      "[reRNN] Epoch 6 (110.17s)\tAverage loss=0.155930\tDev F1=35.79\n",
      "[reRNN] Epoch 7 (128.27s)\tAverage loss=0.138107\tDev F1=34.40\n",
      "[reRNN] Epoch 8 (145.83s)\tAverage loss=0.137641\tDev F1=36.12\n",
      "[reRNN] Epoch 9 (163.00s)\tAverage loss=0.109257\tDev F1=36.86\n",
      "[reRNN] Epoch 10 (175.36s)\tAverage loss=0.106038\tDev F1=36.39\n",
      "[reRNN] Epoch 11 (191.02s)\tAverage loss=0.098139\tDev F1=31.63\n",
      "[reRNN] Epoch 12 (206.82s)\tAverage loss=0.094633\tDev F1=36.28\n",
      "[reRNN] Epoch 13 (222.63s)\tAverage loss=0.101767\tDev F1=31.64\n",
      "[reRNN] Epoch 14 (237.91s)\tAverage loss=0.091120\tDev F1=36.47\n",
      "[reRNN] Epoch 15 (253.61s)\tAverage loss=0.098994\tDev F1=31.72\n",
      "[reRNN] Epoch 16 (269.14s)\tAverage loss=0.082462\tDev F1=36.27\n",
      "[reRNN] Epoch 17 (284.88s)\tAverage loss=0.064126\tDev F1=35.20\n",
      "[reRNN] Epoch 18 (304.02s)\tAverage loss=0.046346\tDev F1=35.62\n",
      "[reRNN] Epoch 19 (319.97s)\tAverage loss=0.051060\tDev F1=36.71\n",
      "[reRNN] Epoch 20 (335.88s)\tAverage loss=0.048113\tDev F1=37.40\n",
      "[reRNN] Epoch 21 (351.53s)\tAverage loss=0.038384\tDev F1=38.11\n",
      "[reRNN] Epoch 22 (366.55s)\tAverage loss=0.034023\tDev F1=35.68\n",
      "[reRNN] Epoch 23 (382.10s)\tAverage loss=0.035150\tDev F1=33.07\n",
      "[reRNN] Epoch 24 (397.08s)\tAverage loss=0.043493\tDev F1=34.16\n",
      "[reRNN] Epoch 25 (412.46s)\tAverage loss=0.034871\tDev F1=33.58\n",
      "[reRNN] Epoch 26 (427.53s)\tAverage loss=0.037499\tDev F1=34.50\n",
      "[reRNN] Epoch 27 (442.77s)\tAverage loss=0.030660\tDev F1=33.88\n",
      "[reRNN] Epoch 28 (458.18s)\tAverage loss=0.033158\tDev F1=33.52\n",
      "[reRNN] Epoch 29 (473.39s)\tAverage loss=0.030054\tDev F1=36.18\n",
      "[reRNN] Training done (478.57s)\n",
      "INFO:tensorflow:Restoring parameters from checkpoints/reRNN/reRNN-2\n",
      "[reRNN] Loaded model <reRNN>\n"
     ]
    },
    {
     "name": "stderr",
     "output_type": "stream",
     "text": [
      "/home/antonis/ipythonNotebooks/snorkel-ml/snorkel/learning/disc_models/rnn/rnn_base.py:40: UserWarning: Candidate 950 has argument past max length for model:\t[arg ends at index 117; max len 117]\n",
      "  warnings.warn('\\t'.join([w.format(i), info]))\n",
      "/home/antonis/ipythonNotebooks/snorkel-ml/snorkel/learning/disc_models/rnn/rnn_base.py:40: UserWarning: Candidate 749 has argument past max length for model:\t[arg ends at index 164; max len 117]\n",
      "  warnings.warn('\\t'.join([w.format(i), info]))\n",
      "/home/antonis/ipythonNotebooks/snorkel-ml/snorkel/learning/disc_models/rnn/rnn_base.py:40: UserWarning: Candidate 751 has argument past max length for model:\t[arg ends at index 137; max len 117]\n",
      "  warnings.warn('\\t'.join([w.format(i), info]))\n",
      "/home/antonis/ipythonNotebooks/snorkel-ml/snorkel/learning/disc_models/rnn/rnn_base.py:40: UserWarning: Candidate 753 has argument past max length for model:\t[arg ends at index 164; max len 117]\n",
      "  warnings.warn('\\t'.join([w.format(i), info]))\n",
      "/home/antonis/ipythonNotebooks/snorkel-ml/snorkel/learning/disc_models/rnn/rnn_base.py:40: UserWarning: Candidate 755 has argument past max length for model:\t[arg ends at index 131; max len 117]\n",
      "  warnings.warn('\\t'.join([w.format(i), info]))\n",
      "/home/antonis/ipythonNotebooks/snorkel-ml/snorkel/learning/disc_models/rnn/rnn_base.py:40: UserWarning: Candidate 762 has argument past max length for model:\t[arg ends at index 164; max len 117]\n",
      "  warnings.warn('\\t'.join([w.format(i), info]))\n",
      "/home/antonis/ipythonNotebooks/snorkel-ml/snorkel/learning/disc_models/rnn/rnn_base.py:40: UserWarning: Candidate 772 has argument past max length for model:\t[arg ends at index 160; max len 117]\n",
      "  warnings.warn('\\t'.join([w.format(i), info]))\n",
      "/home/antonis/ipythonNotebooks/snorkel-ml/snorkel/learning/disc_models/rnn/rnn_base.py:40: UserWarning: Candidate 777 has argument past max length for model:\t[arg ends at index 137; max len 117]\n",
      "  warnings.warn('\\t'.join([w.format(i), info]))\n",
      "/home/antonis/ipythonNotebooks/snorkel-ml/snorkel/learning/disc_models/rnn/rnn_base.py:40: UserWarning: Candidate 793 has argument past max length for model:\t[arg ends at index 164; max len 117]\n",
      "  warnings.warn('\\t'.join([w.format(i), info]))\n",
      "/home/antonis/ipythonNotebooks/snorkel-ml/snorkel/learning/disc_models/rnn/rnn_base.py:40: UserWarning: Candidate 795 has argument past max length for model:\t[arg ends at index 137; max len 117]\n",
      "  warnings.warn('\\t'.join([w.format(i), info]))\n",
      "/home/antonis/ipythonNotebooks/snorkel-ml/snorkel/learning/disc_models/rnn/rnn_base.py:40: UserWarning: Candidate 802 has argument past max length for model:\t[arg ends at index 164; max len 117]\n",
      "  warnings.warn('\\t'.join([w.format(i), info]))\n",
      "/home/antonis/ipythonNotebooks/snorkel-ml/snorkel/learning/disc_models/rnn/rnn_base.py:40: UserWarning: Candidate 950 has argument past max length for model:\t[arg ends at index 117; max len 117]\n",
      "  warnings.warn('\\t'.join([w.format(i), info]))\n",
      "/home/antonis/ipythonNotebooks/snorkel-ml/snorkel/learning/disc_models/rnn/rnn_base.py:40: UserWarning: Candidate 749 has argument past max length for model:\t[arg ends at index 164; max len 117]\n",
      "  warnings.warn('\\t'.join([w.format(i), info]))\n",
      "/home/antonis/ipythonNotebooks/snorkel-ml/snorkel/learning/disc_models/rnn/rnn_base.py:40: UserWarning: Candidate 751 has argument past max length for model:\t[arg ends at index 137; max len 117]\n",
      "  warnings.warn('\\t'.join([w.format(i), info]))\n",
      "/home/antonis/ipythonNotebooks/snorkel-ml/snorkel/learning/disc_models/rnn/rnn_base.py:40: UserWarning: Candidate 753 has argument past max length for model:\t[arg ends at index 164; max len 117]\n",
      "  warnings.warn('\\t'.join([w.format(i), info]))\n",
      "/home/antonis/ipythonNotebooks/snorkel-ml/snorkel/learning/disc_models/rnn/rnn_base.py:40: UserWarning: Candidate 755 has argument past max length for model:\t[arg ends at index 131; max len 117]\n",
      "  warnings.warn('\\t'.join([w.format(i), info]))\n",
      "/home/antonis/ipythonNotebooks/snorkel-ml/snorkel/learning/disc_models/rnn/rnn_base.py:40: UserWarning: Candidate 762 has argument past max length for model:\t[arg ends at index 164; max len 117]\n",
      "  warnings.warn('\\t'.join([w.format(i), info]))\n",
      "/home/antonis/ipythonNotebooks/snorkel-ml/snorkel/learning/disc_models/rnn/rnn_base.py:40: UserWarning: Candidate 772 has argument past max length for model:\t[arg ends at index 160; max len 117]\n",
      "  warnings.warn('\\t'.join([w.format(i), info]))\n",
      "/home/antonis/ipythonNotebooks/snorkel-ml/snorkel/learning/disc_models/rnn/rnn_base.py:40: UserWarning: Candidate 777 has argument past max length for model:\t[arg ends at index 137; max len 117]\n",
      "  warnings.warn('\\t'.join([w.format(i), info]))\n",
      "/home/antonis/ipythonNotebooks/snorkel-ml/snorkel/learning/disc_models/rnn/rnn_base.py:40: UserWarning: Candidate 793 has argument past max length for model:\t[arg ends at index 164; max len 117]\n",
      "  warnings.warn('\\t'.join([w.format(i), info]))\n",
      "/home/antonis/ipythonNotebooks/snorkel-ml/snorkel/learning/disc_models/rnn/rnn_base.py:40: UserWarning: Candidate 795 has argument past max length for model:\t[arg ends at index 137; max len 117]\n",
      "  warnings.warn('\\t'.join([w.format(i), info]))\n",
      "/home/antonis/ipythonNotebooks/snorkel-ml/snorkel/learning/disc_models/rnn/rnn_base.py:40: UserWarning: Candidate 802 has argument past max length for model:\t[arg ends at index 164; max len 117]\n",
      "  warnings.warn('\\t'.join([w.format(i), info]))\n"
     ]
    },
    {
     "name": "stdout",
     "output_type": "stream",
     "text": [
      "MSE: [-0.346635865669919]\n",
      "F1: [0.4258872651356994]\n"
     ]
    },
    {
     "name": "stderr",
     "output_type": "stream",
     "text": [
      "/home/antonis/ipythonNotebooks/snorkel-ml/snorkel/learning/disc_models/rnn/rnn_base.py:40: UserWarning: Candidate 935 has argument past max length for model:\t[arg ends at index 117; max len 117]\n",
      "  warnings.warn('\\t'.join([w.format(i), info]))\n",
      "/home/antonis/ipythonNotebooks/snorkel-ml/snorkel/learning/disc_models/rnn/rnn_base.py:40: UserWarning: Candidate 700 has argument past max length for model:\t[arg ends at index 137; max len 117]\n",
      "  warnings.warn('\\t'.join([w.format(i), info]))\n",
      "/home/antonis/ipythonNotebooks/snorkel-ml/snorkel/learning/disc_models/rnn/rnn_base.py:40: UserWarning: Candidate 721 has argument past max length for model:\t[arg ends at index 137; max len 117]\n",
      "  warnings.warn('\\t'.join([w.format(i), info]))\n",
      "/home/antonis/ipythonNotebooks/snorkel-ml/snorkel/learning/disc_models/rnn/rnn_base.py:40: UserWarning: Candidate 730 has argument past max length for model:\t[arg ends at index 160; max len 117]\n",
      "  warnings.warn('\\t'.join([w.format(i), info]))\n",
      "/home/antonis/ipythonNotebooks/snorkel-ml/snorkel/learning/disc_models/rnn/rnn_base.py:40: UserWarning: Candidate 737 has argument past max length for model:\t[arg ends at index 160; max len 117]\n",
      "  warnings.warn('\\t'.join([w.format(i), info]))\n",
      "/home/antonis/ipythonNotebooks/snorkel-ml/snorkel/learning/disc_models/rnn/rnn_base.py:40: UserWarning: Candidate 742 has argument past max length for model:\t[arg ends at index 164; max len 117]\n",
      "  warnings.warn('\\t'.join([w.format(i), info]))\n",
      "/home/antonis/ipythonNotebooks/snorkel-ml/snorkel/learning/disc_models/rnn/rnn_base.py:40: UserWarning: Candidate 754 has argument past max length for model:\t[arg ends at index 164; max len 117]\n",
      "  warnings.warn('\\t'.join([w.format(i), info]))\n",
      "/home/antonis/ipythonNotebooks/snorkel-ml/snorkel/learning/disc_models/rnn/rnn_base.py:40: UserWarning: Candidate 935 has argument past max length for model:\t[arg ends at index 117; max len 117]\n",
      "  warnings.warn('\\t'.join([w.format(i), info]))\n",
      "/home/antonis/ipythonNotebooks/snorkel-ml/snorkel/learning/disc_models/rnn/rnn_base.py:40: UserWarning: Candidate 700 has argument past max length for model:\t[arg ends at index 137; max len 117]\n",
      "  warnings.warn('\\t'.join([w.format(i), info]))\n",
      "/home/antonis/ipythonNotebooks/snorkel-ml/snorkel/learning/disc_models/rnn/rnn_base.py:40: UserWarning: Candidate 721 has argument past max length for model:\t[arg ends at index 137; max len 117]\n",
      "  warnings.warn('\\t'.join([w.format(i), info]))\n",
      "/home/antonis/ipythonNotebooks/snorkel-ml/snorkel/learning/disc_models/rnn/rnn_base.py:40: UserWarning: Candidate 730 has argument past max length for model:\t[arg ends at index 160; max len 117]\n",
      "  warnings.warn('\\t'.join([w.format(i), info]))\n",
      "/home/antonis/ipythonNotebooks/snorkel-ml/snorkel/learning/disc_models/rnn/rnn_base.py:40: UserWarning: Candidate 737 has argument past max length for model:\t[arg ends at index 160; max len 117]\n",
      "  warnings.warn('\\t'.join([w.format(i), info]))\n",
      "/home/antonis/ipythonNotebooks/snorkel-ml/snorkel/learning/disc_models/rnn/rnn_base.py:40: UserWarning: Candidate 742 has argument past max length for model:\t[arg ends at index 164; max len 117]\n",
      "  warnings.warn('\\t'.join([w.format(i), info]))\n",
      "/home/antonis/ipythonNotebooks/snorkel-ml/snorkel/learning/disc_models/rnn/rnn_base.py:40: UserWarning: Candidate 754 has argument past max length for model:\t[arg ends at index 164; max len 117]\n",
      "  warnings.warn('\\t'.join([w.format(i), info]))\n"
     ]
    },
    {
     "name": "stdout",
     "output_type": "stream",
     "text": [
      "MSE: [-0.346635865669919, -0.33430687244687834]\n",
      "F1: [0.4258872651356994, 0.4413502109704641]\n"
     ]
    },
    {
     "name": "stderr",
     "output_type": "stream",
     "text": [
      "/home/antonis/ipythonNotebooks/snorkel-ml/snorkel/learning/disc_models/rnn/rnn_base.py:40: UserWarning: Candidate 942 has argument past max length for model:\t[arg ends at index 117; max len 117]\n",
      "  warnings.warn('\\t'.join([w.format(i), info]))\n",
      "/home/antonis/ipythonNotebooks/snorkel-ml/snorkel/learning/disc_models/rnn/rnn_base.py:40: UserWarning: Candidate 744 has argument past max length for model:\t[arg ends at index 131; max len 117]\n",
      "  warnings.warn('\\t'.join([w.format(i), info]))\n",
      "/home/antonis/ipythonNotebooks/snorkel-ml/snorkel/learning/disc_models/rnn/rnn_base.py:40: UserWarning: Candidate 754 has argument past max length for model:\t[arg ends at index 131; max len 117]\n",
      "  warnings.warn('\\t'.join([w.format(i), info]))\n",
      "/home/antonis/ipythonNotebooks/snorkel-ml/snorkel/learning/disc_models/rnn/rnn_base.py:40: UserWarning: Candidate 774 has argument past max length for model:\t[arg ends at index 160; max len 117]\n",
      "  warnings.warn('\\t'.join([w.format(i), info]))\n",
      "/home/antonis/ipythonNotebooks/snorkel-ml/snorkel/learning/disc_models/rnn/rnn_base.py:40: UserWarning: Candidate 775 has argument past max length for model:\t[arg ends at index 160; max len 117]\n",
      "  warnings.warn('\\t'.join([w.format(i), info]))\n",
      "/home/antonis/ipythonNotebooks/snorkel-ml/snorkel/learning/disc_models/rnn/rnn_base.py:40: UserWarning: Candidate 779 has argument past max length for model:\t[arg ends at index 160; max len 117]\n",
      "  warnings.warn('\\t'.join([w.format(i), info]))\n",
      "/home/antonis/ipythonNotebooks/snorkel-ml/snorkel/learning/disc_models/rnn/rnn_base.py:40: UserWarning: Candidate 781 has argument past max length for model:\t[arg ends at index 160; max len 117]\n",
      "  warnings.warn('\\t'.join([w.format(i), info]))\n",
      "/home/antonis/ipythonNotebooks/snorkel-ml/snorkel/learning/disc_models/rnn/rnn_base.py:40: UserWarning: Candidate 785 has argument past max length for model:\t[arg ends at index 131; max len 117]\n",
      "  warnings.warn('\\t'.join([w.format(i), info]))\n",
      "/home/antonis/ipythonNotebooks/snorkel-ml/snorkel/learning/disc_models/rnn/rnn_base.py:40: UserWarning: Candidate 794 has argument past max length for model:\t[arg ends at index 131; max len 117]\n",
      "  warnings.warn('\\t'.join([w.format(i), info]))\n",
      "/home/antonis/ipythonNotebooks/snorkel-ml/snorkel/learning/disc_models/rnn/rnn_base.py:40: UserWarning: Candidate 795 has argument past max length for model:\t[arg ends at index 137; max len 117]\n",
      "  warnings.warn('\\t'.join([w.format(i), info]))\n",
      "/home/antonis/ipythonNotebooks/snorkel-ml/snorkel/learning/disc_models/rnn/rnn_base.py:40: UserWarning: Candidate 805 has argument past max length for model:\t[arg ends at index 131; max len 117]\n",
      "  warnings.warn('\\t'.join([w.format(i), info]))\n",
      "/home/antonis/ipythonNotebooks/snorkel-ml/snorkel/learning/disc_models/rnn/rnn_base.py:40: UserWarning: Candidate 942 has argument past max length for model:\t[arg ends at index 117; max len 117]\n",
      "  warnings.warn('\\t'.join([w.format(i), info]))\n",
      "/home/antonis/ipythonNotebooks/snorkel-ml/snorkel/learning/disc_models/rnn/rnn_base.py:40: UserWarning: Candidate 744 has argument past max length for model:\t[arg ends at index 131; max len 117]\n",
      "  warnings.warn('\\t'.join([w.format(i), info]))\n",
      "/home/antonis/ipythonNotebooks/snorkel-ml/snorkel/learning/disc_models/rnn/rnn_base.py:40: UserWarning: Candidate 754 has argument past max length for model:\t[arg ends at index 131; max len 117]\n",
      "  warnings.warn('\\t'.join([w.format(i), info]))\n",
      "/home/antonis/ipythonNotebooks/snorkel-ml/snorkel/learning/disc_models/rnn/rnn_base.py:40: UserWarning: Candidate 774 has argument past max length for model:\t[arg ends at index 160; max len 117]\n",
      "  warnings.warn('\\t'.join([w.format(i), info]))\n",
      "/home/antonis/ipythonNotebooks/snorkel-ml/snorkel/learning/disc_models/rnn/rnn_base.py:40: UserWarning: Candidate 775 has argument past max length for model:\t[arg ends at index 160; max len 117]\n",
      "  warnings.warn('\\t'.join([w.format(i), info]))\n",
      "/home/antonis/ipythonNotebooks/snorkel-ml/snorkel/learning/disc_models/rnn/rnn_base.py:40: UserWarning: Candidate 779 has argument past max length for model:\t[arg ends at index 160; max len 117]\n",
      "  warnings.warn('\\t'.join([w.format(i), info]))\n",
      "/home/antonis/ipythonNotebooks/snorkel-ml/snorkel/learning/disc_models/rnn/rnn_base.py:40: UserWarning: Candidate 781 has argument past max length for model:\t[arg ends at index 160; max len 117]\n",
      "  warnings.warn('\\t'.join([w.format(i), info]))\n",
      "/home/antonis/ipythonNotebooks/snorkel-ml/snorkel/learning/disc_models/rnn/rnn_base.py:40: UserWarning: Candidate 785 has argument past max length for model:\t[arg ends at index 131; max len 117]\n",
      "  warnings.warn('\\t'.join([w.format(i), info]))\n",
      "/home/antonis/ipythonNotebooks/snorkel-ml/snorkel/learning/disc_models/rnn/rnn_base.py:40: UserWarning: Candidate 794 has argument past max length for model:\t[arg ends at index 131; max len 117]\n",
      "  warnings.warn('\\t'.join([w.format(i), info]))\n",
      "/home/antonis/ipythonNotebooks/snorkel-ml/snorkel/learning/disc_models/rnn/rnn_base.py:40: UserWarning: Candidate 795 has argument past max length for model:\t[arg ends at index 137; max len 117]\n",
      "  warnings.warn('\\t'.join([w.format(i), info]))\n",
      "/home/antonis/ipythonNotebooks/snorkel-ml/snorkel/learning/disc_models/rnn/rnn_base.py:40: UserWarning: Candidate 805 has argument past max length for model:\t[arg ends at index 131; max len 117]\n",
      "  warnings.warn('\\t'.join([w.format(i), info]))\n"
     ]
    },
    {
     "name": "stdout",
     "output_type": "stream",
     "text": [
      "MSE: [-0.346635865669919, -0.33430687244687834, -0.3339453317260045]\n",
      "F1: [0.4258872651356994, 0.4413502109704641, 0.4315387876218737]\n"
     ]
    },
    {
     "name": "stderr",
     "output_type": "stream",
     "text": [
      "/home/antonis/ipythonNotebooks/snorkel-ml/snorkel/learning/disc_models/rnn/rnn_base.py:40: UserWarning: Candidate 777 has argument past max length for model:\t[arg ends at index 117; max len 117]\n",
      "  warnings.warn('\\t'.join([w.format(i), info]))\n",
      "/home/antonis/ipythonNotebooks/snorkel-ml/snorkel/learning/disc_models/rnn/rnn_base.py:40: UserWarning: Candidate 782 has argument past max length for model:\t[arg ends at index 117; max len 117]\n",
      "  warnings.warn('\\t'.join([w.format(i), info]))\n",
      "/home/antonis/ipythonNotebooks/snorkel-ml/snorkel/learning/disc_models/rnn/rnn_base.py:40: UserWarning: Candidate 786 has argument past max length for model:\t[arg ends at index 117; max len 117]\n",
      "  warnings.warn('\\t'.join([w.format(i), info]))\n",
      "/home/antonis/ipythonNotebooks/snorkel-ml/snorkel/learning/disc_models/rnn/rnn_base.py:40: UserWarning: Candidate 136 has argument past max length for model:\t[arg ends at index 131; max len 117]\n",
      "  warnings.warn('\\t'.join([w.format(i), info]))\n",
      "/home/antonis/ipythonNotebooks/snorkel-ml/snorkel/learning/disc_models/rnn/rnn_base.py:40: UserWarning: Candidate 141 has argument past max length for model:\t[arg ends at index 137; max len 117]\n",
      "  warnings.warn('\\t'.join([w.format(i), info]))\n",
      "/home/antonis/ipythonNotebooks/snorkel-ml/snorkel/learning/disc_models/rnn/rnn_base.py:40: UserWarning: Candidate 166 has argument past max length for model:\t[arg ends at index 164; max len 117]\n",
      "  warnings.warn('\\t'.join([w.format(i), info]))\n",
      "/home/antonis/ipythonNotebooks/snorkel-ml/snorkel/learning/disc_models/rnn/rnn_base.py:40: UserWarning: Candidate 169 has argument past max length for model:\t[arg ends at index 131; max len 117]\n",
      "  warnings.warn('\\t'.join([w.format(i), info]))\n",
      "/home/antonis/ipythonNotebooks/snorkel-ml/snorkel/learning/disc_models/rnn/rnn_base.py:40: UserWarning: Candidate 172 has argument past max length for model:\t[arg ends at index 137; max len 117]\n",
      "  warnings.warn('\\t'.join([w.format(i), info]))\n",
      "/home/antonis/ipythonNotebooks/snorkel-ml/snorkel/learning/disc_models/rnn/rnn_base.py:40: UserWarning: Candidate 190 has argument past max length for model:\t[arg ends at index 164; max len 117]\n",
      "  warnings.warn('\\t'.join([w.format(i), info]))\n",
      "/home/antonis/ipythonNotebooks/snorkel-ml/snorkel/learning/disc_models/rnn/rnn_base.py:40: UserWarning: Candidate 194 has argument past max length for model:\t[arg ends at index 131; max len 117]\n",
      "  warnings.warn('\\t'.join([w.format(i), info]))\n",
      "/home/antonis/ipythonNotebooks/snorkel-ml/snorkel/learning/disc_models/rnn/rnn_base.py:40: UserWarning: Candidate 196 has argument past max length for model:\t[arg ends at index 137; max len 117]\n",
      "  warnings.warn('\\t'.join([w.format(i), info]))\n",
      "/home/antonis/ipythonNotebooks/snorkel-ml/snorkel/learning/disc_models/rnn/rnn_base.py:40: UserWarning: Candidate 217 has argument past max length for model:\t[arg ends at index 164; max len 117]\n",
      "  warnings.warn('\\t'.join([w.format(i), info]))\n",
      "/home/antonis/ipythonNotebooks/snorkel-ml/snorkel/learning/disc_models/rnn/rnn_base.py:40: UserWarning: Candidate 220 has argument past max length for model:\t[arg ends at index 160; max len 117]\n",
      "  warnings.warn('\\t'.join([w.format(i), info]))\n",
      "/home/antonis/ipythonNotebooks/snorkel-ml/snorkel/learning/disc_models/rnn/rnn_base.py:40: UserWarning: Candidate 223 has argument past max length for model:\t[arg ends at index 160; max len 117]\n",
      "  warnings.warn('\\t'.join([w.format(i), info]))\n",
      "/home/antonis/ipythonNotebooks/snorkel-ml/snorkel/learning/disc_models/rnn/rnn_base.py:40: UserWarning: Candidate 226 has argument past max length for model:\t[arg ends at index 160; max len 117]\n",
      "  warnings.warn('\\t'.join([w.format(i), info]))\n",
      "/home/antonis/ipythonNotebooks/snorkel-ml/snorkel/learning/disc_models/rnn/rnn_base.py:40: UserWarning: Candidate 233 has argument past max length for model:\t[arg ends at index 160; max len 117]\n",
      "  warnings.warn('\\t'.join([w.format(i), info]))\n",
      "/home/antonis/ipythonNotebooks/snorkel-ml/snorkel/learning/disc_models/rnn/rnn_base.py:40: UserWarning: Candidate 238 has argument past max length for model:\t[arg ends at index 160; max len 117]\n",
      "  warnings.warn('\\t'.join([w.format(i), info]))\n",
      "/home/antonis/ipythonNotebooks/snorkel-ml/snorkel/learning/disc_models/rnn/rnn_base.py:40: UserWarning: Candidate 242 has argument past max length for model:\t[arg ends at index 160; max len 117]\n",
      "  warnings.warn('\\t'.join([w.format(i), info]))\n",
      "/home/antonis/ipythonNotebooks/snorkel-ml/snorkel/learning/disc_models/rnn/rnn_base.py:40: UserWarning: Candidate 248 has argument past max length for model:\t[arg ends at index 160; max len 117]\n",
      "  warnings.warn('\\t'.join([w.format(i), info]))\n",
      "/home/antonis/ipythonNotebooks/snorkel-ml/snorkel/learning/disc_models/rnn/rnn_base.py:40: UserWarning: Candidate 252 has argument past max length for model:\t[arg ends at index 164; max len 117]\n",
      "  warnings.warn('\\t'.join([w.format(i), info]))\n",
      "/home/antonis/ipythonNotebooks/snorkel-ml/snorkel/learning/disc_models/rnn/rnn_base.py:40: UserWarning: Candidate 256 has argument past max length for model:\t[arg ends at index 131; max len 117]\n",
      "  warnings.warn('\\t'.join([w.format(i), info]))\n",
      "/home/antonis/ipythonNotebooks/snorkel-ml/snorkel/learning/disc_models/rnn/rnn_base.py:40: UserWarning: Candidate 261 has argument past max length for model:\t[arg ends at index 137; max len 117]\n",
      "  warnings.warn('\\t'.join([w.format(i), info]))\n",
      "/home/antonis/ipythonNotebooks/snorkel-ml/snorkel/learning/disc_models/rnn/rnn_base.py:40: UserWarning: Candidate 284 has argument past max length for model:\t[arg ends at index 164; max len 117]\n",
      "  warnings.warn('\\t'.join([w.format(i), info]))\n",
      "/home/antonis/ipythonNotebooks/snorkel-ml/snorkel/learning/disc_models/rnn/rnn_base.py:40: UserWarning: Candidate 288 has argument past max length for model:\t[arg ends at index 131; max len 117]\n",
      "  warnings.warn('\\t'.join([w.format(i), info]))\n",
      "/home/antonis/ipythonNotebooks/snorkel-ml/snorkel/learning/disc_models/rnn/rnn_base.py:40: UserWarning: Candidate 293 has argument past max length for model:\t[arg ends at index 137; max len 117]\n",
      "  warnings.warn('\\t'.join([w.format(i), info]))\n",
      "/home/antonis/ipythonNotebooks/snorkel-ml/snorkel/learning/disc_models/rnn/rnn_base.py:40: UserWarning: Candidate 314 has argument past max length for model:\t[arg ends at index 164; max len 117]\n",
      "  warnings.warn('\\t'.join([w.format(i), info]))\n",
      "/home/antonis/ipythonNotebooks/snorkel-ml/snorkel/learning/disc_models/rnn/rnn_base.py:40: UserWarning: Candidate 319 has argument past max length for model:\t[arg ends at index 131; max len 117]\n",
      "  warnings.warn('\\t'.join([w.format(i), info]))\n",
      "/home/antonis/ipythonNotebooks/snorkel-ml/snorkel/learning/disc_models/rnn/rnn_base.py:40: UserWarning: Candidate 321 has argument past max length for model:\t[arg ends at index 137; max len 117]\n",
      "  warnings.warn('\\t'.join([w.format(i), info]))\n",
      "/home/antonis/ipythonNotebooks/snorkel-ml/snorkel/learning/disc_models/rnn/rnn_base.py:40: UserWarning: Candidate 340 has argument past max length for model:\t[arg ends at index 164; max len 117]\n",
      "  warnings.warn('\\t'.join([w.format(i), info]))\n",
      "/home/antonis/ipythonNotebooks/snorkel-ml/snorkel/learning/disc_models/rnn/rnn_base.py:40: UserWarning: Candidate 777 has argument past max length for model:\t[arg ends at index 117; max len 117]\n",
      "  warnings.warn('\\t'.join([w.format(i), info]))\n",
      "/home/antonis/ipythonNotebooks/snorkel-ml/snorkel/learning/disc_models/rnn/rnn_base.py:40: UserWarning: Candidate 782 has argument past max length for model:\t[arg ends at index 117; max len 117]\n",
      "  warnings.warn('\\t'.join([w.format(i), info]))\n",
      "/home/antonis/ipythonNotebooks/snorkel-ml/snorkel/learning/disc_models/rnn/rnn_base.py:40: UserWarning: Candidate 786 has argument past max length for model:\t[arg ends at index 117; max len 117]\n",
      "  warnings.warn('\\t'.join([w.format(i), info]))\n",
      "/home/antonis/ipythonNotebooks/snorkel-ml/snorkel/learning/disc_models/rnn/rnn_base.py:40: UserWarning: Candidate 136 has argument past max length for model:\t[arg ends at index 131; max len 117]\n",
      "  warnings.warn('\\t'.join([w.format(i), info]))\n",
      "/home/antonis/ipythonNotebooks/snorkel-ml/snorkel/learning/disc_models/rnn/rnn_base.py:40: UserWarning: Candidate 141 has argument past max length for model:\t[arg ends at index 137; max len 117]\n",
      "  warnings.warn('\\t'.join([w.format(i), info]))\n",
      "/home/antonis/ipythonNotebooks/snorkel-ml/snorkel/learning/disc_models/rnn/rnn_base.py:40: UserWarning: Candidate 166 has argument past max length for model:\t[arg ends at index 164; max len 117]\n",
      "  warnings.warn('\\t'.join([w.format(i), info]))\n",
      "/home/antonis/ipythonNotebooks/snorkel-ml/snorkel/learning/disc_models/rnn/rnn_base.py:40: UserWarning: Candidate 169 has argument past max length for model:\t[arg ends at index 131; max len 117]\n",
      "  warnings.warn('\\t'.join([w.format(i), info]))\n",
      "/home/antonis/ipythonNotebooks/snorkel-ml/snorkel/learning/disc_models/rnn/rnn_base.py:40: UserWarning: Candidate 172 has argument past max length for model:\t[arg ends at index 137; max len 117]\n",
      "  warnings.warn('\\t'.join([w.format(i), info]))\n",
      "/home/antonis/ipythonNotebooks/snorkel-ml/snorkel/learning/disc_models/rnn/rnn_base.py:40: UserWarning: Candidate 190 has argument past max length for model:\t[arg ends at index 164; max len 117]\n",
      "  warnings.warn('\\t'.join([w.format(i), info]))\n",
      "/home/antonis/ipythonNotebooks/snorkel-ml/snorkel/learning/disc_models/rnn/rnn_base.py:40: UserWarning: Candidate 194 has argument past max length for model:\t[arg ends at index 131; max len 117]\n",
      "  warnings.warn('\\t'.join([w.format(i), info]))\n",
      "/home/antonis/ipythonNotebooks/snorkel-ml/snorkel/learning/disc_models/rnn/rnn_base.py:40: UserWarning: Candidate 196 has argument past max length for model:\t[arg ends at index 137; max len 117]\n",
      "  warnings.warn('\\t'.join([w.format(i), info]))\n",
      "/home/antonis/ipythonNotebooks/snorkel-ml/snorkel/learning/disc_models/rnn/rnn_base.py:40: UserWarning: Candidate 217 has argument past max length for model:\t[arg ends at index 164; max len 117]\n",
      "  warnings.warn('\\t'.join([w.format(i), info]))\n",
      "/home/antonis/ipythonNotebooks/snorkel-ml/snorkel/learning/disc_models/rnn/rnn_base.py:40: UserWarning: Candidate 220 has argument past max length for model:\t[arg ends at index 160; max len 117]\n",
      "  warnings.warn('\\t'.join([w.format(i), info]))\n",
      "/home/antonis/ipythonNotebooks/snorkel-ml/snorkel/learning/disc_models/rnn/rnn_base.py:40: UserWarning: Candidate 223 has argument past max length for model:\t[arg ends at index 160; max len 117]\n",
      "  warnings.warn('\\t'.join([w.format(i), info]))\n",
      "/home/antonis/ipythonNotebooks/snorkel-ml/snorkel/learning/disc_models/rnn/rnn_base.py:40: UserWarning: Candidate 226 has argument past max length for model:\t[arg ends at index 160; max len 117]\n",
      "  warnings.warn('\\t'.join([w.format(i), info]))\n",
      "/home/antonis/ipythonNotebooks/snorkel-ml/snorkel/learning/disc_models/rnn/rnn_base.py:40: UserWarning: Candidate 233 has argument past max length for model:\t[arg ends at index 160; max len 117]\n",
      "  warnings.warn('\\t'.join([w.format(i), info]))\n",
      "/home/antonis/ipythonNotebooks/snorkel-ml/snorkel/learning/disc_models/rnn/rnn_base.py:40: UserWarning: Candidate 238 has argument past max length for model:\t[arg ends at index 160; max len 117]\n",
      "  warnings.warn('\\t'.join([w.format(i), info]))\n",
      "/home/antonis/ipythonNotebooks/snorkel-ml/snorkel/learning/disc_models/rnn/rnn_base.py:40: UserWarning: Candidate 242 has argument past max length for model:\t[arg ends at index 160; max len 117]\n",
      "  warnings.warn('\\t'.join([w.format(i), info]))\n",
      "/home/antonis/ipythonNotebooks/snorkel-ml/snorkel/learning/disc_models/rnn/rnn_base.py:40: UserWarning: Candidate 248 has argument past max length for model:\t[arg ends at index 160; max len 117]\n",
      "  warnings.warn('\\t'.join([w.format(i), info]))\n",
      "/home/antonis/ipythonNotebooks/snorkel-ml/snorkel/learning/disc_models/rnn/rnn_base.py:40: UserWarning: Candidate 252 has argument past max length for model:\t[arg ends at index 164; max len 117]\n",
      "  warnings.warn('\\t'.join([w.format(i), info]))\n",
      "/home/antonis/ipythonNotebooks/snorkel-ml/snorkel/learning/disc_models/rnn/rnn_base.py:40: UserWarning: Candidate 256 has argument past max length for model:\t[arg ends at index 131; max len 117]\n",
      "  warnings.warn('\\t'.join([w.format(i), info]))\n",
      "/home/antonis/ipythonNotebooks/snorkel-ml/snorkel/learning/disc_models/rnn/rnn_base.py:40: UserWarning: Candidate 261 has argument past max length for model:\t[arg ends at index 137; max len 117]\n",
      "  warnings.warn('\\t'.join([w.format(i), info]))\n",
      "/home/antonis/ipythonNotebooks/snorkel-ml/snorkel/learning/disc_models/rnn/rnn_base.py:40: UserWarning: Candidate 284 has argument past max length for model:\t[arg ends at index 164; max len 117]\n",
      "  warnings.warn('\\t'.join([w.format(i), info]))\n",
      "/home/antonis/ipythonNotebooks/snorkel-ml/snorkel/learning/disc_models/rnn/rnn_base.py:40: UserWarning: Candidate 288 has argument past max length for model:\t[arg ends at index 131; max len 117]\n",
      "  warnings.warn('\\t'.join([w.format(i), info]))\n",
      "/home/antonis/ipythonNotebooks/snorkel-ml/snorkel/learning/disc_models/rnn/rnn_base.py:40: UserWarning: Candidate 293 has argument past max length for model:\t[arg ends at index 137; max len 117]\n",
      "  warnings.warn('\\t'.join([w.format(i), info]))\n",
      "/home/antonis/ipythonNotebooks/snorkel-ml/snorkel/learning/disc_models/rnn/rnn_base.py:40: UserWarning: Candidate 314 has argument past max length for model:\t[arg ends at index 164; max len 117]\n",
      "  warnings.warn('\\t'.join([w.format(i), info]))\n",
      "/home/antonis/ipythonNotebooks/snorkel-ml/snorkel/learning/disc_models/rnn/rnn_base.py:40: UserWarning: Candidate 319 has argument past max length for model:\t[arg ends at index 131; max len 117]\n",
      "  warnings.warn('\\t'.join([w.format(i), info]))\n",
      "/home/antonis/ipythonNotebooks/snorkel-ml/snorkel/learning/disc_models/rnn/rnn_base.py:40: UserWarning: Candidate 321 has argument past max length for model:\t[arg ends at index 137; max len 117]\n",
      "  warnings.warn('\\t'.join([w.format(i), info]))\n",
      "/home/antonis/ipythonNotebooks/snorkel-ml/snorkel/learning/disc_models/rnn/rnn_base.py:40: UserWarning: Candidate 340 has argument past max length for model:\t[arg ends at index 164; max len 117]\n",
      "  warnings.warn('\\t'.join([w.format(i), info]))\n"
     ]
    },
    {
     "name": "stdout",
     "output_type": "stream",
     "text": [
      "<type 'numpy.ndarray'> <type 'list'>\n"
     ]
    },
    {
     "name": "stderr",
     "output_type": "stream",
     "text": [
      "/home/antonis/anaconda2/envs/snorkel27clone/lib/python2.7/site-packages/tensorflow/python/ops/gradients_impl.py:100: UserWarning: Converting sparse IndexedSlices to a dense Tensor of unknown shape. This may consume a large amount of memory.\n",
      "  \"Converting sparse IndexedSlices to a dense Tensor of unknown shape. \"\n"
     ]
    },
    {
     "name": "stdout",
     "output_type": "stream",
     "text": [
      "[reRNN] Training model\n",
      "[reRNN] n_train=4012  #epochs=30  batch size=64\n",
      "[reRNN] Epoch 0 (25.78s)\tAverage loss=0.566213\tDev F1=37.61\n",
      "[reRNN] Epoch 1 (59.57s)\tAverage loss=0.343842\tDev F1=44.07\n",
      "[reRNN] Model saved as <reRNN>\n",
      "[reRNN] Epoch 2 (94.21s)\tAverage loss=0.263547\tDev F1=42.54\n",
      "[reRNN] Epoch 3 (127.42s)\tAverage loss=0.216713\tDev F1=46.15\n",
      "[reRNN] Model saved as <reRNN>\n",
      "[reRNN] Epoch 4 (160.70s)\tAverage loss=0.190158\tDev F1=46.37\n",
      "[reRNN] Model saved as <reRNN>\n",
      "[reRNN] Epoch 5 (193.29s)\tAverage loss=0.157222\tDev F1=48.12\n",
      "[reRNN] Model saved as <reRNN>\n",
      "[reRNN] Epoch 6 (225.87s)\tAverage loss=0.136360\tDev F1=49.81\n",
      "[reRNN] Model saved as <reRNN>\n",
      "[reRNN] Epoch 7 (258.80s)\tAverage loss=0.130836\tDev F1=49.66\n",
      "[reRNN] Epoch 8 (290.86s)\tAverage loss=0.137185\tDev F1=47.94\n",
      "[reRNN] Epoch 9 (323.32s)\tAverage loss=0.103293\tDev F1=51.64\n",
      "[reRNN] Model saved as <reRNN>\n",
      "[reRNN] Epoch 10 (355.55s)\tAverage loss=0.087872\tDev F1=53.25\n",
      "[reRNN] Model saved as <reRNN>\n",
      "[reRNN] Epoch 11 (388.52s)\tAverage loss=0.077384\tDev F1=50.96\n",
      "[reRNN] Epoch 12 (421.30s)\tAverage loss=0.101756\tDev F1=46.10\n",
      "[reRNN] Epoch 13 (454.32s)\tAverage loss=0.112568\tDev F1=49.68\n",
      "[reRNN] Epoch 14 (491.03s)\tAverage loss=0.088593\tDev F1=50.69\n",
      "[reRNN] Epoch 15 (528.14s)\tAverage loss=0.078108\tDev F1=49.65\n",
      "[reRNN] Epoch 16 (565.27s)\tAverage loss=0.070376\tDev F1=51.11\n",
      "[reRNN] Epoch 17 (595.15s)\tAverage loss=0.064834\tDev F1=50.22\n",
      "[reRNN] Epoch 18 (627.72s)\tAverage loss=0.066123\tDev F1=49.83\n",
      "[reRNN] Epoch 19 (660.00s)\tAverage loss=0.065623\tDev F1=52.04\n",
      "[reRNN] Epoch 20 (692.10s)\tAverage loss=0.067747\tDev F1=50.65\n",
      "[reRNN] Epoch 21 (724.13s)\tAverage loss=0.071383\tDev F1=48.14\n",
      "[reRNN] Epoch 22 (756.63s)\tAverage loss=0.071236\tDev F1=50.73\n",
      "[reRNN] Epoch 23 (789.19s)\tAverage loss=0.067124\tDev F1=50.91\n",
      "[reRNN] Epoch 24 (821.26s)\tAverage loss=0.061807\tDev F1=49.29\n",
      "[reRNN] Epoch 25 (853.55s)\tAverage loss=0.057039\tDev F1=49.78\n",
      "[reRNN] Epoch 26 (885.76s)\tAverage loss=0.055881\tDev F1=50.44\n",
      "[reRNN] Epoch 27 (917.94s)\tAverage loss=0.053651\tDev F1=50.51\n",
      "[reRNN] Epoch 28 (950.49s)\tAverage loss=0.052409\tDev F1=50.52\n",
      "[reRNN] Epoch 29 (982.60s)\tAverage loss=0.051432\tDev F1=50.37\n",
      "[reRNN] Training done (989.53s)\n",
      "INFO:tensorflow:Restoring parameters from checkpoints/reRNN/reRNN-10\n",
      "[reRNN] Loaded model <reRNN>\n",
      "MSE: [-0.20401044152581657]\n",
      "F1: [0.5192442267319803]\n",
      "MSE: [-0.20401044152581657, -0.2095498493488553]\n",
      "F1: [0.5192442267319803, 0.524390243902439]\n",
      "MSE: [-0.20401044152581657, -0.2095498493488553, -0.1989149645502237]\n",
      "F1: [0.5192442267319803, 0.524390243902439, 0.5229226361031519]\n",
      "<type 'numpy.ndarray'> <type 'list'>\n"
     ]
    },
    {
     "name": "stderr",
     "output_type": "stream",
     "text": [
      "/home/antonis/anaconda2/envs/snorkel27clone/lib/python2.7/site-packages/tensorflow/python/ops/gradients_impl.py:100: UserWarning: Converting sparse IndexedSlices to a dense Tensor of unknown shape. This may consume a large amount of memory.\n",
      "  \"Converting sparse IndexedSlices to a dense Tensor of unknown shape. \"\n"
     ]
    },
    {
     "name": "stdout",
     "output_type": "stream",
     "text": [
      "[reRNN] Training model\n",
      "[reRNN] n_train=5270  #epochs=30  batch size=64\n",
      "[reRNN] Epoch 0 (34.78s)\tAverage loss=0.583663\tDev F1=34.62\n",
      "[reRNN] Epoch 1 (75.97s)\tAverage loss=0.361865\tDev F1=47.27\n",
      "[reRNN] Model saved as <reRNN>\n",
      "[reRNN] Epoch 2 (117.56s)\tAverage loss=0.276539\tDev F1=46.82\n",
      "[reRNN] Epoch 3 (158.79s)\tAverage loss=0.240521\tDev F1=49.32\n",
      "[reRNN] Model saved as <reRNN>\n",
      "[reRNN] Epoch 4 (200.33s)\tAverage loss=0.209078\tDev F1=49.74\n",
      "[reRNN] Model saved as <reRNN>\n",
      "[reRNN] Epoch 5 (242.08s)\tAverage loss=0.186748\tDev F1=48.19\n",
      "[reRNN] Epoch 6 (283.45s)\tAverage loss=0.159081\tDev F1=47.94\n",
      "[reRNN] Epoch 7 (324.54s)\tAverage loss=0.150079\tDev F1=51.10\n",
      "[reRNN] Model saved as <reRNN>\n",
      "[reRNN] Epoch 8 (365.97s)\tAverage loss=0.127376\tDev F1=47.92\n",
      "[reRNN] Epoch 9 (407.29s)\tAverage loss=0.116476\tDev F1=50.68\n",
      "[reRNN] Epoch 10 (448.80s)\tAverage loss=0.106219\tDev F1=49.00\n",
      "[reRNN] Epoch 11 (490.08s)\tAverage loss=0.105624\tDev F1=49.97\n",
      "[reRNN] Epoch 12 (533.44s)\tAverage loss=0.095744\tDev F1=49.91\n",
      "[reRNN] Epoch 13 (582.06s)\tAverage loss=0.098110\tDev F1=47.22\n",
      "[reRNN] Epoch 14 (630.28s)\tAverage loss=0.094270\tDev F1=48.72\n",
      "[reRNN] Epoch 15 (668.78s)\tAverage loss=0.092233\tDev F1=48.40\n",
      "[reRNN] Epoch 16 (710.26s)\tAverage loss=0.083810\tDev F1=49.51\n",
      "[reRNN] Epoch 17 (751.08s)\tAverage loss=0.079880\tDev F1=49.10\n",
      "[reRNN] Epoch 18 (792.27s)\tAverage loss=0.076384\tDev F1=49.56\n",
      "[reRNN] Epoch 19 (833.70s)\tAverage loss=0.077043\tDev F1=49.70\n",
      "[reRNN] Epoch 20 (874.93s)\tAverage loss=0.082644\tDev F1=48.51\n",
      "[reRNN] Epoch 21 (916.59s)\tAverage loss=0.076511\tDev F1=48.16\n",
      "[reRNN] Epoch 22 (957.38s)\tAverage loss=0.077415\tDev F1=48.61\n",
      "[reRNN] Epoch 23 (997.99s)\tAverage loss=0.076481\tDev F1=47.96\n",
      "[reRNN] Epoch 24 (1039.01s)\tAverage loss=0.078521\tDev F1=49.04\n",
      "[reRNN] Epoch 25 (1079.89s)\tAverage loss=0.078932\tDev F1=45.91\n",
      "[reRNN] Epoch 26 (1120.79s)\tAverage loss=0.085289\tDev F1=46.82\n",
      "[reRNN] Epoch 27 (1161.89s)\tAverage loss=0.087996\tDev F1=48.11\n",
      "[reRNN] Epoch 28 (1203.25s)\tAverage loss=0.085163\tDev F1=47.83\n",
      "[reRNN] Epoch 29 (1244.61s)\tAverage loss=0.092349\tDev F1=48.62\n",
      "[reRNN] Training done (1251.24s)\n",
      "INFO:tensorflow:Restoring parameters from checkpoints/reRNN/reRNN-7\n",
      "[reRNN] Loaded model <reRNN>\n",
      "MSE: [-0.1997269502422117]\n",
      "F1: [0.5182130584192439]\n",
      "MSE: [-0.1997269502422117, -0.19808900791849887]\n",
      "F1: [0.5182130584192439, 0.5425950196592397]\n",
      "MSE: [-0.1997269502422117, -0.19808900791849887, -0.20127951494955654]\n",
      "F1: [0.5182130584192439, 0.5425950196592397, 0.5034867503486751]\n",
      "<type 'numpy.ndarray'> <type 'list'>\n"
     ]
    },
    {
     "name": "stderr",
     "output_type": "stream",
     "text": [
      "/home/antonis/anaconda2/envs/snorkel27clone/lib/python2.7/site-packages/tensorflow/python/ops/gradients_impl.py:100: UserWarning: Converting sparse IndexedSlices to a dense Tensor of unknown shape. This may consume a large amount of memory.\n",
      "  \"Converting sparse IndexedSlices to a dense Tensor of unknown shape. \"\n"
     ]
    },
    {
     "name": "stdout",
     "output_type": "stream",
     "text": [
      "[reRNN] Training model\n",
      "[reRNN] n_train=6558  #epochs=30  batch size=64\n",
      "[reRNN] Epoch 0 (44.05s)\tAverage loss=0.543100\tDev F1=39.50\n",
      "[reRNN] Epoch 1 (95.29s)\tAverage loss=0.353974\tDev F1=50.00\n",
      "[reRNN] Model saved as <reRNN>\n",
      "[reRNN] Epoch 2 (146.33s)\tAverage loss=0.277699\tDev F1=49.71\n",
      "[reRNN] Epoch 3 (197.28s)\tAverage loss=0.236618\tDev F1=48.47\n",
      "[reRNN] Epoch 4 (248.68s)\tAverage loss=0.212906\tDev F1=49.82\n",
      "[reRNN] Epoch 5 (299.88s)\tAverage loss=0.197207\tDev F1=52.63\n",
      "[reRNN] Model saved as <reRNN>\n",
      "[reRNN] Epoch 6 (350.28s)\tAverage loss=0.172880\tDev F1=49.24\n",
      "[reRNN] Epoch 7 (400.88s)\tAverage loss=0.150978\tDev F1=52.76\n",
      "[reRNN] Model saved as <reRNN>\n",
      "[reRNN] Epoch 8 (452.08s)\tAverage loss=0.136324\tDev F1=51.23\n",
      "[reRNN] Epoch 9 (502.71s)\tAverage loss=0.128394\tDev F1=52.53\n",
      "[reRNN] Epoch 10 (553.09s)\tAverage loss=0.128544\tDev F1=52.82\n",
      "[reRNN] Model saved as <reRNN>\n",
      "[reRNN] Epoch 11 (606.06s)\tAverage loss=0.117461\tDev F1=54.08\n",
      "[reRNN] Model saved as <reRNN>\n",
      "[reRNN] Epoch 12 (666.66s)\tAverage loss=0.110698\tDev F1=52.74\n",
      "[reRNN] Epoch 13 (724.57s)\tAverage loss=0.108668\tDev F1=52.32\n",
      "[reRNN] Epoch 14 (753.56s)\tAverage loss=0.099676\tDev F1=51.50\n",
      "[reRNN] Epoch 15 (782.24s)\tAverage loss=0.103971\tDev F1=52.70\n",
      "[reRNN] Epoch 16 (811.45s)\tAverage loss=0.109174\tDev F1=50.55\n",
      "[reRNN] Epoch 17 (840.43s)\tAverage loss=0.123422\tDev F1=52.97\n",
      "[reRNN] Epoch 18 (869.15s)\tAverage loss=0.115659\tDev F1=50.03\n",
      "[reRNN] Epoch 19 (898.02s)\tAverage loss=0.120772\tDev F1=53.61\n",
      "[reRNN] Epoch 20 (926.77s)\tAverage loss=0.120841\tDev F1=50.03\n",
      "[reRNN] Epoch 21 (955.83s)\tAverage loss=0.112464\tDev F1=52.82\n",
      "[reRNN] Epoch 22 (984.35s)\tAverage loss=0.101130\tDev F1=50.17\n",
      "[reRNN] Epoch 23 (1013.23s)\tAverage loss=0.098570\tDev F1=51.05\n",
      "[reRNN] Epoch 24 (1042.16s)\tAverage loss=0.096763\tDev F1=52.96\n",
      "[reRNN] Epoch 25 (1070.66s)\tAverage loss=0.097369\tDev F1=51.33\n",
      "[reRNN] Epoch 26 (1099.64s)\tAverage loss=0.093592\tDev F1=50.82\n",
      "[reRNN] Epoch 27 (1128.62s)\tAverage loss=0.092573\tDev F1=51.59\n",
      "[reRNN] Epoch 28 (1157.38s)\tAverage loss=0.091873\tDev F1=52.11\n",
      "[reRNN] Epoch 29 (1186.43s)\tAverage loss=0.092070\tDev F1=53.24\n",
      "[reRNN] Training done (1190.26s)\n",
      "INFO:tensorflow:Restoring parameters from checkpoints/reRNN/reRNN-11\n",
      "[reRNN] Loaded model <reRNN>\n",
      "MSE: [-0.2021412941596018]\n",
      "F1: [0.5007342143906021]\n",
      "MSE: [-0.2021412941596018, -0.19398768681539927]\n",
      "F1: [0.5007342143906021, 0.5377558221594918]\n",
      "MSE: [-0.2021412941596018, -0.19398768681539927, -0.20036400600335408]\n",
      "F1: [0.5007342143906021, 0.5377558221594918, 0.494415487714073]\n",
      "<type 'numpy.ndarray'> <type 'list'>\n"
     ]
    },
    {
     "name": "stderr",
     "output_type": "stream",
     "text": [
      "/home/antonis/anaconda2/envs/snorkel27clone/lib/python2.7/site-packages/tensorflow/python/ops/gradients_impl.py:100: UserWarning: Converting sparse IndexedSlices to a dense Tensor of unknown shape. This may consume a large amount of memory.\n",
      "  \"Converting sparse IndexedSlices to a dense Tensor of unknown shape. \"\n"
     ]
    },
    {
     "name": "stdout",
     "output_type": "stream",
     "text": [
      "[reRNN] Training model\n",
      "[reRNN] n_train=7804  #epochs=30  batch size=64\n",
      "[reRNN] Epoch 0 (30.68s)\tAverage loss=0.511386\tDev F1=48.08\n",
      "[reRNN] Epoch 1 (63.79s)\tAverage loss=0.325779\tDev F1=51.83\n",
      "[reRNN] Model saved as <reRNN>\n",
      "[reRNN] Epoch 2 (97.00s)\tAverage loss=0.256043\tDev F1=50.96\n",
      "[reRNN] Epoch 3 (130.48s)\tAverage loss=0.215907\tDev F1=53.47\n",
      "[reRNN] Model saved as <reRNN>\n",
      "[reRNN] Epoch 4 (163.77s)\tAverage loss=0.189708\tDev F1=50.76\n",
      "[reRNN] Epoch 5 (197.08s)\tAverage loss=0.166473\tDev F1=54.23\n",
      "[reRNN] Model saved as <reRNN>\n",
      "[reRNN] Epoch 6 (230.78s)\tAverage loss=0.147587\tDev F1=52.12\n",
      "[reRNN] Epoch 7 (263.29s)\tAverage loss=0.136269\tDev F1=51.70\n",
      "[reRNN] Epoch 8 (296.66s)\tAverage loss=0.130192\tDev F1=53.22\n",
      "[reRNN] Epoch 9 (329.49s)\tAverage loss=0.119652\tDev F1=55.24\n",
      "[reRNN] Model saved as <reRNN>\n",
      "[reRNN] Epoch 10 (362.79s)\tAverage loss=0.112082\tDev F1=53.48\n",
      "[reRNN] Epoch 11 (395.30s)\tAverage loss=0.109659\tDev F1=51.50\n",
      "[reRNN] Epoch 12 (428.04s)\tAverage loss=0.105358\tDev F1=53.01\n",
      "[reRNN] Epoch 13 (461.10s)\tAverage loss=0.104043\tDev F1=51.97\n",
      "[reRNN] Epoch 14 (494.40s)\tAverage loss=0.098959\tDev F1=51.47\n",
      "[reRNN] Epoch 15 (527.96s)\tAverage loss=0.104371\tDev F1=51.47\n",
      "[reRNN] Epoch 16 (561.40s)\tAverage loss=0.108082\tDev F1=51.97\n",
      "[reRNN] Epoch 17 (594.06s)\tAverage loss=0.100038\tDev F1=54.86\n",
      "[reRNN] Epoch 18 (627.37s)\tAverage loss=0.103780\tDev F1=52.14\n",
      "[reRNN] Epoch 19 (660.30s)\tAverage loss=0.099882\tDev F1=54.04\n",
      "[reRNN] Epoch 20 (693.08s)\tAverage loss=0.097864\tDev F1=52.18\n",
      "[reRNN] Epoch 21 (725.99s)\tAverage loss=0.100503\tDev F1=50.63\n",
      "[reRNN] Epoch 22 (759.17s)\tAverage loss=0.094869\tDev F1=52.28\n",
      "[reRNN] Epoch 23 (792.36s)\tAverage loss=0.093155\tDev F1=52.93\n",
      "[reRNN] Epoch 24 (825.50s)\tAverage loss=0.089627\tDev F1=53.04\n",
      "[reRNN] Epoch 25 (858.78s)\tAverage loss=0.087069\tDev F1=52.01\n",
      "[reRNN] Epoch 26 (892.15s)\tAverage loss=0.097621\tDev F1=53.33\n",
      "[reRNN] Epoch 27 (925.16s)\tAverage loss=0.107362\tDev F1=52.30\n",
      "[reRNN] Epoch 28 (958.07s)\tAverage loss=0.117550\tDev F1=52.15\n",
      "[reRNN] Epoch 29 (991.18s)\tAverage loss=0.117640\tDev F1=51.67\n",
      "[reRNN] Training done (995.04s)\n",
      "INFO:tensorflow:Restoring parameters from checkpoints/reRNN/reRNN-9\n",
      "[reRNN] Loaded model <reRNN>\n",
      "MSE: [-0.19888055066730648]\n",
      "F1: [0.5503267973856208]\n",
      "MSE: [-0.19888055066730648, -0.18830939571355065]\n",
      "F1: [0.5503267973856208, 0.5831727681438664]\n",
      "MSE: [-0.19888055066730648, -0.18830939571355065, -0.20151543492916818]\n",
      "F1: [0.5503267973856208, 0.5831727681438664, 0.5337748344370861]\n"
     ]
    }
   ],
   "source": [
    "## with LSTM (Gold ---> unlab )\n",
    "## with varying number of epochs (per training examples)\n",
    "\n",
    "train_kwargs = {\n",
    "    'lr':         0.01,\n",
    "    'dim':        100,\n",
    "    'n_epochs':   30,\n",
    "    'dropout':    0.25,\n",
    "    'rebalance':  True,\n",
    "    'print_freq': 1,\n",
    "    'batch_size': 64,\n",
    "    'dev_ckpt_delay': 0,\n",
    "    'X_dev': dev, \n",
    "    'Y_dev': L_gold_dev,\n",
    "    'verbose': False,\n",
    "}\n",
    "\n",
    "train_sizes, train_mse, train_f1, valid_mse , valid_f1 , test_prf1 = custom_learning_curve(\n",
    "    reRNN(seed=1701 ), \n",
    "    X_increm = unlab, y_increm = unlab_marginals_gen, \n",
    "    X_val = test, y_val = L_gold_test, \n",
    "    X_init= train, y_init= L_gold_train,\n",
    "    X_test = test, y_test = L_gold_test, \n",
    "    fit_params = train_kwargs,\n",
    "#                       splt_sizes=np.array([0.1, 0.5, 1.  ])\n",
    "                     )\n"
   ]
  },
  {
   "cell_type": "code",
   "execution_count": null,
   "metadata": {},
   "outputs": [],
   "source": []
  },
  {
   "cell_type": "code",
   "execution_count": 71,
   "metadata": {},
   "outputs": [],
   "source": [
    "with open(pkl_paths+\"learning_curves/lstm_GM_var_epochs.pickle\",'wb') as f:\n",
    "    pickle.dump((train_sizes, train_mse, train_f1, valid_mse , valid_f1 , test_prf1), f)"
   ]
  },
  {
   "cell_type": "code",
   "execution_count": 72,
   "metadata": {},
   "outputs": [
    {
     "data": {
      "text/plain": [
       "<module 'matplotlib.pyplot' from '/home/antonis/anaconda2/envs/snorkel27clone/lib/python2.7/site-packages/matplotlib/pyplot.pyc'>"
      ]
     },
     "execution_count": 72,
     "metadata": {},
     "output_type": "execute_result"
    },
    {
     "data": {
      "image/png": "[encoded data removed]",
      "text/plain": [
       "<Figure size 432x288 with 1 Axes>"
      ]
     },
     "metadata": {},
     "output_type": "display_data"
    },
    {
     "data": {
      "image/png": "[encoded data removed]",
      "text/plain": [
       "<Figure size 432x288 with 1 Axes>"
      ]
     },
     "metadata": {},
     "output_type": "display_data"
    }
   ],
   "source": [
    "\n",
    "plot_learning_curve(train_mse,valid_mse,train_sizes, 'Noisy-labeled LSTM (GM,var_epochs) MSE (P=%.2f,R=%.2f,F1=%.2f)'%(test_prf1))\n",
    "\n",
    "plot_learning_curve(train_f1,valid_f1,train_sizes, title='Noisy-labeled LSTM (GM,var_epochs) (P=%.2f,R=%.2f,F1=%.2f)'%(test_prf1))\n"
   ]
  },
  {
   "cell_type": "code",
   "execution_count": null,
   "metadata": {},
   "outputs": [],
   "source": []
  },
  {
   "cell_type": "markdown",
   "metadata": {},
   "source": [
    "** learning curve (stable number of epochs) **"
   ]
  },
  {
   "cell_type": "code",
   "execution_count": 73,
   "metadata": {},
   "outputs": [
    {
     "name": "stdout",
     "output_type": "stream",
     "text": [
      "[0.00000000e+00 1.12058181e-04 1.71033339e-04 ... 9.99828967e-01\n",
      " 9.99887942e-01 1.00000000e+00]\n",
      "<type 'numpy.ndarray'> <type 'list'>\n"
     ]
    },
    {
     "name": "stderr",
     "output_type": "stream",
     "text": [
      "/home/antonis/anaconda2/envs/snorkel27clone/lib/python2.7/site-packages/tensorflow/python/ops/gradients_impl.py:100: UserWarning: Converting sparse IndexedSlices to a dense Tensor of unknown shape. This may consume a large amount of memory.\n",
      "  \"Converting sparse IndexedSlices to a dense Tensor of unknown shape. \"\n"
     ]
    },
    {
     "name": "stdout",
     "output_type": "stream",
     "text": [
      "[reRNN] Training model\n",
      "[reRNN] n_train=2060  #epochs=30  batch size=64\n",
      "[reRNN] Epoch 0 (5.66s)\tAverage loss=0.603640\n",
      "[reRNN] Epoch 1 (11.24s)\tAverage loss=0.335662\n",
      "[reRNN] Epoch 2 (16.75s)\tAverage loss=0.262586\n",
      "[reRNN] Epoch 3 (22.19s)\tAverage loss=0.222927\n",
      "[reRNN] Epoch 4 (27.44s)\tAverage loss=0.198891\n",
      "[reRNN] Epoch 5 (32.85s)\tAverage loss=0.180786\n",
      "[reRNN] Epoch 6 (38.18s)\tAverage loss=0.152718\n",
      "[reRNN] Epoch 7 (43.50s)\tAverage loss=0.156792\n",
      "[reRNN] Epoch 8 (48.80s)\tAverage loss=0.139922\n",
      "[reRNN] Epoch 9 (54.09s)\tAverage loss=0.105774\n",
      "[reRNN] Epoch 10 (59.52s)\tAverage loss=0.087976\n",
      "[reRNN] Epoch 11 (64.99s)\tAverage loss=0.063935\n",
      "[reRNN] Epoch 12 (70.23s)\tAverage loss=0.056500\n",
      "[reRNN] Epoch 13 (75.52s)\tAverage loss=0.077897\n",
      "[reRNN] Epoch 14 (80.83s)\tAverage loss=0.076000\n",
      "[reRNN] Epoch 15 (86.28s)\tAverage loss=0.056532\n",
      "[reRNN] Epoch 16 (91.67s)\tAverage loss=0.039775\n",
      "[reRNN] Epoch 17 (96.96s)\tAverage loss=0.060575\n",
      "[reRNN] Epoch 18 (102.42s)\tAverage loss=0.058844\n",
      "[reRNN] Epoch 19 (107.86s)\tAverage loss=0.046298\n",
      "[reRNN] Epoch 20 (113.39s)\tAverage loss=0.043593\n",
      "[reRNN] Epoch 21 (118.82s)\tAverage loss=0.035456\n",
      "[reRNN] Epoch 22 (124.26s)\tAverage loss=0.028546\n",
      "[reRNN] Epoch 23 (129.66s)\tAverage loss=0.020661\n",
      "[reRNN] Epoch 24 (135.05s)\tAverage loss=0.022602\n",
      "[reRNN] Epoch 25 (140.37s)\tAverage loss=0.023809\n",
      "[reRNN] Epoch 26 (145.72s)\tAverage loss=0.024597\n",
      "[reRNN] Epoch 27 (151.15s)\tAverage loss=0.024848\n",
      "[reRNN] Epoch 28 (156.58s)\tAverage loss=0.026949\n",
      "[reRNN] Epoch 29 (161.99s)\tAverage loss=0.013811\n",
      "[reRNN] Training done (161.99s)\n"
     ]
    },
    {
     "name": "stderr",
     "output_type": "stream",
     "text": [
      "/home/antonis/ipythonNotebooks/snorkel-ml/snorkel/learning/disc_models/rnn/rnn_base.py:40: UserWarning: Candidate 950 has argument past max length for model:\t[arg ends at index 117; max len 117]\n",
      "  warnings.warn('\\t'.join([w.format(i), info]))\n",
      "/home/antonis/ipythonNotebooks/snorkel-ml/snorkel/learning/disc_models/rnn/rnn_base.py:40: UserWarning: Candidate 749 has argument past max length for model:\t[arg ends at index 164; max len 117]\n",
      "  warnings.warn('\\t'.join([w.format(i), info]))\n",
      "/home/antonis/ipythonNotebooks/snorkel-ml/snorkel/learning/disc_models/rnn/rnn_base.py:40: UserWarning: Candidate 751 has argument past max length for model:\t[arg ends at index 137; max len 117]\n",
      "  warnings.warn('\\t'.join([w.format(i), info]))\n",
      "/home/antonis/ipythonNotebooks/snorkel-ml/snorkel/learning/disc_models/rnn/rnn_base.py:40: UserWarning: Candidate 753 has argument past max length for model:\t[arg ends at index 164; max len 117]\n",
      "  warnings.warn('\\t'.join([w.format(i), info]))\n",
      "/home/antonis/ipythonNotebooks/snorkel-ml/snorkel/learning/disc_models/rnn/rnn_base.py:40: UserWarning: Candidate 755 has argument past max length for model:\t[arg ends at index 131; max len 117]\n",
      "  warnings.warn('\\t'.join([w.format(i), info]))\n",
      "/home/antonis/ipythonNotebooks/snorkel-ml/snorkel/learning/disc_models/rnn/rnn_base.py:40: UserWarning: Candidate 762 has argument past max length for model:\t[arg ends at index 164; max len 117]\n",
      "  warnings.warn('\\t'.join([w.format(i), info]))\n",
      "/home/antonis/ipythonNotebooks/snorkel-ml/snorkel/learning/disc_models/rnn/rnn_base.py:40: UserWarning: Candidate 772 has argument past max length for model:\t[arg ends at index 160; max len 117]\n",
      "  warnings.warn('\\t'.join([w.format(i), info]))\n",
      "/home/antonis/ipythonNotebooks/snorkel-ml/snorkel/learning/disc_models/rnn/rnn_base.py:40: UserWarning: Candidate 777 has argument past max length for model:\t[arg ends at index 137; max len 117]\n",
      "  warnings.warn('\\t'.join([w.format(i), info]))\n",
      "/home/antonis/ipythonNotebooks/snorkel-ml/snorkel/learning/disc_models/rnn/rnn_base.py:40: UserWarning: Candidate 793 has argument past max length for model:\t[arg ends at index 164; max len 117]\n",
      "  warnings.warn('\\t'.join([w.format(i), info]))\n",
      "/home/antonis/ipythonNotebooks/snorkel-ml/snorkel/learning/disc_models/rnn/rnn_base.py:40: UserWarning: Candidate 795 has argument past max length for model:\t[arg ends at index 137; max len 117]\n",
      "  warnings.warn('\\t'.join([w.format(i), info]))\n",
      "/home/antonis/ipythonNotebooks/snorkel-ml/snorkel/learning/disc_models/rnn/rnn_base.py:40: UserWarning: Candidate 802 has argument past max length for model:\t[arg ends at index 164; max len 117]\n",
      "  warnings.warn('\\t'.join([w.format(i), info]))\n",
      "/home/antonis/ipythonNotebooks/snorkel-ml/snorkel/learning/disc_models/rnn/rnn_base.py:40: UserWarning: Candidate 950 has argument past max length for model:\t[arg ends at index 117; max len 117]\n",
      "  warnings.warn('\\t'.join([w.format(i), info]))\n",
      "/home/antonis/ipythonNotebooks/snorkel-ml/snorkel/learning/disc_models/rnn/rnn_base.py:40: UserWarning: Candidate 749 has argument past max length for model:\t[arg ends at index 164; max len 117]\n",
      "  warnings.warn('\\t'.join([w.format(i), info]))\n",
      "/home/antonis/ipythonNotebooks/snorkel-ml/snorkel/learning/disc_models/rnn/rnn_base.py:40: UserWarning: Candidate 751 has argument past max length for model:\t[arg ends at index 137; max len 117]\n",
      "  warnings.warn('\\t'.join([w.format(i), info]))\n",
      "/home/antonis/ipythonNotebooks/snorkel-ml/snorkel/learning/disc_models/rnn/rnn_base.py:40: UserWarning: Candidate 753 has argument past max length for model:\t[arg ends at index 164; max len 117]\n",
      "  warnings.warn('\\t'.join([w.format(i), info]))\n",
      "/home/antonis/ipythonNotebooks/snorkel-ml/snorkel/learning/disc_models/rnn/rnn_base.py:40: UserWarning: Candidate 755 has argument past max length for model:\t[arg ends at index 131; max len 117]\n",
      "  warnings.warn('\\t'.join([w.format(i), info]))\n",
      "/home/antonis/ipythonNotebooks/snorkel-ml/snorkel/learning/disc_models/rnn/rnn_base.py:40: UserWarning: Candidate 762 has argument past max length for model:\t[arg ends at index 164; max len 117]\n",
      "  warnings.warn('\\t'.join([w.format(i), info]))\n",
      "/home/antonis/ipythonNotebooks/snorkel-ml/snorkel/learning/disc_models/rnn/rnn_base.py:40: UserWarning: Candidate 772 has argument past max length for model:\t[arg ends at index 160; max len 117]\n",
      "  warnings.warn('\\t'.join([w.format(i), info]))\n",
      "/home/antonis/ipythonNotebooks/snorkel-ml/snorkel/learning/disc_models/rnn/rnn_base.py:40: UserWarning: Candidate 777 has argument past max length for model:\t[arg ends at index 137; max len 117]\n",
      "  warnings.warn('\\t'.join([w.format(i), info]))\n",
      "/home/antonis/ipythonNotebooks/snorkel-ml/snorkel/learning/disc_models/rnn/rnn_base.py:40: UserWarning: Candidate 793 has argument past max length for model:\t[arg ends at index 164; max len 117]\n",
      "  warnings.warn('\\t'.join([w.format(i), info]))\n",
      "/home/antonis/ipythonNotebooks/snorkel-ml/snorkel/learning/disc_models/rnn/rnn_base.py:40: UserWarning: Candidate 795 has argument past max length for model:\t[arg ends at index 137; max len 117]\n",
      "  warnings.warn('\\t'.join([w.format(i), info]))\n",
      "/home/antonis/ipythonNotebooks/snorkel-ml/snorkel/learning/disc_models/rnn/rnn_base.py:40: UserWarning: Candidate 802 has argument past max length for model:\t[arg ends at index 164; max len 117]\n",
      "  warnings.warn('\\t'.join([w.format(i), info]))\n"
     ]
    },
    {
     "name": "stdout",
     "output_type": "stream",
     "text": [
      "MSE: [-0.31373159121916755]\n",
      "F1: [0.4288266825491364]\n"
     ]
    },
    {
     "name": "stderr",
     "output_type": "stream",
     "text": [
      "/home/antonis/ipythonNotebooks/snorkel-ml/snorkel/learning/disc_models/rnn/rnn_base.py:40: UserWarning: Candidate 935 has argument past max length for model:\t[arg ends at index 117; max len 117]\n",
      "  warnings.warn('\\t'.join([w.format(i), info]))\n",
      "/home/antonis/ipythonNotebooks/snorkel-ml/snorkel/learning/disc_models/rnn/rnn_base.py:40: UserWarning: Candidate 700 has argument past max length for model:\t[arg ends at index 137; max len 117]\n",
      "  warnings.warn('\\t'.join([w.format(i), info]))\n",
      "/home/antonis/ipythonNotebooks/snorkel-ml/snorkel/learning/disc_models/rnn/rnn_base.py:40: UserWarning: Candidate 721 has argument past max length for model:\t[arg ends at index 137; max len 117]\n",
      "  warnings.warn('\\t'.join([w.format(i), info]))\n",
      "/home/antonis/ipythonNotebooks/snorkel-ml/snorkel/learning/disc_models/rnn/rnn_base.py:40: UserWarning: Candidate 730 has argument past max length for model:\t[arg ends at index 160; max len 117]\n",
      "  warnings.warn('\\t'.join([w.format(i), info]))\n",
      "/home/antonis/ipythonNotebooks/snorkel-ml/snorkel/learning/disc_models/rnn/rnn_base.py:40: UserWarning: Candidate 737 has argument past max length for model:\t[arg ends at index 160; max len 117]\n",
      "  warnings.warn('\\t'.join([w.format(i), info]))\n",
      "/home/antonis/ipythonNotebooks/snorkel-ml/snorkel/learning/disc_models/rnn/rnn_base.py:40: UserWarning: Candidate 742 has argument past max length for model:\t[arg ends at index 164; max len 117]\n",
      "  warnings.warn('\\t'.join([w.format(i), info]))\n",
      "/home/antonis/ipythonNotebooks/snorkel-ml/snorkel/learning/disc_models/rnn/rnn_base.py:40: UserWarning: Candidate 754 has argument past max length for model:\t[arg ends at index 164; max len 117]\n",
      "  warnings.warn('\\t'.join([w.format(i), info]))\n",
      "/home/antonis/ipythonNotebooks/snorkel-ml/snorkel/learning/disc_models/rnn/rnn_base.py:40: UserWarning: Candidate 935 has argument past max length for model:\t[arg ends at index 117; max len 117]\n",
      "  warnings.warn('\\t'.join([w.format(i), info]))\n",
      "/home/antonis/ipythonNotebooks/snorkel-ml/snorkel/learning/disc_models/rnn/rnn_base.py:40: UserWarning: Candidate 700 has argument past max length for model:\t[arg ends at index 137; max len 117]\n",
      "  warnings.warn('\\t'.join([w.format(i), info]))\n",
      "/home/antonis/ipythonNotebooks/snorkel-ml/snorkel/learning/disc_models/rnn/rnn_base.py:40: UserWarning: Candidate 721 has argument past max length for model:\t[arg ends at index 137; max len 117]\n",
      "  warnings.warn('\\t'.join([w.format(i), info]))\n",
      "/home/antonis/ipythonNotebooks/snorkel-ml/snorkel/learning/disc_models/rnn/rnn_base.py:40: UserWarning: Candidate 730 has argument past max length for model:\t[arg ends at index 160; max len 117]\n",
      "  warnings.warn('\\t'.join([w.format(i), info]))\n",
      "/home/antonis/ipythonNotebooks/snorkel-ml/snorkel/learning/disc_models/rnn/rnn_base.py:40: UserWarning: Candidate 737 has argument past max length for model:\t[arg ends at index 160; max len 117]\n",
      "  warnings.warn('\\t'.join([w.format(i), info]))\n",
      "/home/antonis/ipythonNotebooks/snorkel-ml/snorkel/learning/disc_models/rnn/rnn_base.py:40: UserWarning: Candidate 742 has argument past max length for model:\t[arg ends at index 164; max len 117]\n",
      "  warnings.warn('\\t'.join([w.format(i), info]))\n",
      "/home/antonis/ipythonNotebooks/snorkel-ml/snorkel/learning/disc_models/rnn/rnn_base.py:40: UserWarning: Candidate 754 has argument past max length for model:\t[arg ends at index 164; max len 117]\n",
      "  warnings.warn('\\t'.join([w.format(i), info]))\n"
     ]
    },
    {
     "name": "stdout",
     "output_type": "stream",
     "text": [
      "MSE: [-0.31373159121916755, -0.3155464967391754]\n",
      "F1: [0.4288266825491364, 0.4336645236703682]\n"
     ]
    },
    {
     "name": "stderr",
     "output_type": "stream",
     "text": [
      "/home/antonis/ipythonNotebooks/snorkel-ml/snorkel/learning/disc_models/rnn/rnn_base.py:40: UserWarning: Candidate 942 has argument past max length for model:\t[arg ends at index 117; max len 117]\n",
      "  warnings.warn('\\t'.join([w.format(i), info]))\n",
      "/home/antonis/ipythonNotebooks/snorkel-ml/snorkel/learning/disc_models/rnn/rnn_base.py:40: UserWarning: Candidate 744 has argument past max length for model:\t[arg ends at index 131; max len 117]\n",
      "  warnings.warn('\\t'.join([w.format(i), info]))\n",
      "/home/antonis/ipythonNotebooks/snorkel-ml/snorkel/learning/disc_models/rnn/rnn_base.py:40: UserWarning: Candidate 754 has argument past max length for model:\t[arg ends at index 131; max len 117]\n",
      "  warnings.warn('\\t'.join([w.format(i), info]))\n",
      "/home/antonis/ipythonNotebooks/snorkel-ml/snorkel/learning/disc_models/rnn/rnn_base.py:40: UserWarning: Candidate 774 has argument past max length for model:\t[arg ends at index 160; max len 117]\n",
      "  warnings.warn('\\t'.join([w.format(i), info]))\n",
      "/home/antonis/ipythonNotebooks/snorkel-ml/snorkel/learning/disc_models/rnn/rnn_base.py:40: UserWarning: Candidate 775 has argument past max length for model:\t[arg ends at index 160; max len 117]\n",
      "  warnings.warn('\\t'.join([w.format(i), info]))\n",
      "/home/antonis/ipythonNotebooks/snorkel-ml/snorkel/learning/disc_models/rnn/rnn_base.py:40: UserWarning: Candidate 779 has argument past max length for model:\t[arg ends at index 160; max len 117]\n",
      "  warnings.warn('\\t'.join([w.format(i), info]))\n",
      "/home/antonis/ipythonNotebooks/snorkel-ml/snorkel/learning/disc_models/rnn/rnn_base.py:40: UserWarning: Candidate 781 has argument past max length for model:\t[arg ends at index 160; max len 117]\n",
      "  warnings.warn('\\t'.join([w.format(i), info]))\n",
      "/home/antonis/ipythonNotebooks/snorkel-ml/snorkel/learning/disc_models/rnn/rnn_base.py:40: UserWarning: Candidate 785 has argument past max length for model:\t[arg ends at index 131; max len 117]\n",
      "  warnings.warn('\\t'.join([w.format(i), info]))\n",
      "/home/antonis/ipythonNotebooks/snorkel-ml/snorkel/learning/disc_models/rnn/rnn_base.py:40: UserWarning: Candidate 794 has argument past max length for model:\t[arg ends at index 131; max len 117]\n",
      "  warnings.warn('\\t'.join([w.format(i), info]))\n",
      "/home/antonis/ipythonNotebooks/snorkel-ml/snorkel/learning/disc_models/rnn/rnn_base.py:40: UserWarning: Candidate 795 has argument past max length for model:\t[arg ends at index 137; max len 117]\n",
      "  warnings.warn('\\t'.join([w.format(i), info]))\n",
      "/home/antonis/ipythonNotebooks/snorkel-ml/snorkel/learning/disc_models/rnn/rnn_base.py:40: UserWarning: Candidate 805 has argument past max length for model:\t[arg ends at index 131; max len 117]\n",
      "  warnings.warn('\\t'.join([w.format(i), info]))\n",
      "/home/antonis/ipythonNotebooks/snorkel-ml/snorkel/learning/disc_models/rnn/rnn_base.py:40: UserWarning: Candidate 942 has argument past max length for model:\t[arg ends at index 117; max len 117]\n",
      "  warnings.warn('\\t'.join([w.format(i), info]))\n",
      "/home/antonis/ipythonNotebooks/snorkel-ml/snorkel/learning/disc_models/rnn/rnn_base.py:40: UserWarning: Candidate 744 has argument past max length for model:\t[arg ends at index 131; max len 117]\n",
      "  warnings.warn('\\t'.join([w.format(i), info]))\n",
      "/home/antonis/ipythonNotebooks/snorkel-ml/snorkel/learning/disc_models/rnn/rnn_base.py:40: UserWarning: Candidate 754 has argument past max length for model:\t[arg ends at index 131; max len 117]\n",
      "  warnings.warn('\\t'.join([w.format(i), info]))\n",
      "/home/antonis/ipythonNotebooks/snorkel-ml/snorkel/learning/disc_models/rnn/rnn_base.py:40: UserWarning: Candidate 774 has argument past max length for model:\t[arg ends at index 160; max len 117]\n",
      "  warnings.warn('\\t'.join([w.format(i), info]))\n",
      "/home/antonis/ipythonNotebooks/snorkel-ml/snorkel/learning/disc_models/rnn/rnn_base.py:40: UserWarning: Candidate 775 has argument past max length for model:\t[arg ends at index 160; max len 117]\n",
      "  warnings.warn('\\t'.join([w.format(i), info]))\n",
      "/home/antonis/ipythonNotebooks/snorkel-ml/snorkel/learning/disc_models/rnn/rnn_base.py:40: UserWarning: Candidate 779 has argument past max length for model:\t[arg ends at index 160; max len 117]\n",
      "  warnings.warn('\\t'.join([w.format(i), info]))\n",
      "/home/antonis/ipythonNotebooks/snorkel-ml/snorkel/learning/disc_models/rnn/rnn_base.py:40: UserWarning: Candidate 781 has argument past max length for model:\t[arg ends at index 160; max len 117]\n",
      "  warnings.warn('\\t'.join([w.format(i), info]))\n",
      "/home/antonis/ipythonNotebooks/snorkel-ml/snorkel/learning/disc_models/rnn/rnn_base.py:40: UserWarning: Candidate 785 has argument past max length for model:\t[arg ends at index 131; max len 117]\n",
      "  warnings.warn('\\t'.join([w.format(i), info]))\n",
      "/home/antonis/ipythonNotebooks/snorkel-ml/snorkel/learning/disc_models/rnn/rnn_base.py:40: UserWarning: Candidate 794 has argument past max length for model:\t[arg ends at index 131; max len 117]\n",
      "  warnings.warn('\\t'.join([w.format(i), info]))\n",
      "/home/antonis/ipythonNotebooks/snorkel-ml/snorkel/learning/disc_models/rnn/rnn_base.py:40: UserWarning: Candidate 795 has argument past max length for model:\t[arg ends at index 137; max len 117]\n",
      "  warnings.warn('\\t'.join([w.format(i), info]))\n",
      "/home/antonis/ipythonNotebooks/snorkel-ml/snorkel/learning/disc_models/rnn/rnn_base.py:40: UserWarning: Candidate 805 has argument past max length for model:\t[arg ends at index 131; max len 117]\n",
      "  warnings.warn('\\t'.join([w.format(i), info]))\n"
     ]
    },
    {
     "name": "stdout",
     "output_type": "stream",
     "text": [
      "MSE: [-0.31373159121916755, -0.3155464967391754, -0.31229785315869146]\n",
      "F1: [0.4288266825491364, 0.4336645236703682, 0.4296828246558947]\n"
     ]
    },
    {
     "name": "stderr",
     "output_type": "stream",
     "text": [
      "/home/antonis/ipythonNotebooks/snorkel-ml/snorkel/learning/disc_models/rnn/rnn_base.py:40: UserWarning: Candidate 777 has argument past max length for model:\t[arg ends at index 117; max len 117]\n",
      "  warnings.warn('\\t'.join([w.format(i), info]))\n",
      "/home/antonis/ipythonNotebooks/snorkel-ml/snorkel/learning/disc_models/rnn/rnn_base.py:40: UserWarning: Candidate 782 has argument past max length for model:\t[arg ends at index 117; max len 117]\n",
      "  warnings.warn('\\t'.join([w.format(i), info]))\n",
      "/home/antonis/ipythonNotebooks/snorkel-ml/snorkel/learning/disc_models/rnn/rnn_base.py:40: UserWarning: Candidate 786 has argument past max length for model:\t[arg ends at index 117; max len 117]\n",
      "  warnings.warn('\\t'.join([w.format(i), info]))\n",
      "/home/antonis/ipythonNotebooks/snorkel-ml/snorkel/learning/disc_models/rnn/rnn_base.py:40: UserWarning: Candidate 136 has argument past max length for model:\t[arg ends at index 131; max len 117]\n",
      "  warnings.warn('\\t'.join([w.format(i), info]))\n",
      "/home/antonis/ipythonNotebooks/snorkel-ml/snorkel/learning/disc_models/rnn/rnn_base.py:40: UserWarning: Candidate 141 has argument past max length for model:\t[arg ends at index 137; max len 117]\n",
      "  warnings.warn('\\t'.join([w.format(i), info]))\n",
      "/home/antonis/ipythonNotebooks/snorkel-ml/snorkel/learning/disc_models/rnn/rnn_base.py:40: UserWarning: Candidate 166 has argument past max length for model:\t[arg ends at index 164; max len 117]\n",
      "  warnings.warn('\\t'.join([w.format(i), info]))\n",
      "/home/antonis/ipythonNotebooks/snorkel-ml/snorkel/learning/disc_models/rnn/rnn_base.py:40: UserWarning: Candidate 169 has argument past max length for model:\t[arg ends at index 131; max len 117]\n",
      "  warnings.warn('\\t'.join([w.format(i), info]))\n",
      "/home/antonis/ipythonNotebooks/snorkel-ml/snorkel/learning/disc_models/rnn/rnn_base.py:40: UserWarning: Candidate 172 has argument past max length for model:\t[arg ends at index 137; max len 117]\n",
      "  warnings.warn('\\t'.join([w.format(i), info]))\n",
      "/home/antonis/ipythonNotebooks/snorkel-ml/snorkel/learning/disc_models/rnn/rnn_base.py:40: UserWarning: Candidate 190 has argument past max length for model:\t[arg ends at index 164; max len 117]\n",
      "  warnings.warn('\\t'.join([w.format(i), info]))\n",
      "/home/antonis/ipythonNotebooks/snorkel-ml/snorkel/learning/disc_models/rnn/rnn_base.py:40: UserWarning: Candidate 194 has argument past max length for model:\t[arg ends at index 131; max len 117]\n",
      "  warnings.warn('\\t'.join([w.format(i), info]))\n",
      "/home/antonis/ipythonNotebooks/snorkel-ml/snorkel/learning/disc_models/rnn/rnn_base.py:40: UserWarning: Candidate 196 has argument past max length for model:\t[arg ends at index 137; max len 117]\n",
      "  warnings.warn('\\t'.join([w.format(i), info]))\n",
      "/home/antonis/ipythonNotebooks/snorkel-ml/snorkel/learning/disc_models/rnn/rnn_base.py:40: UserWarning: Candidate 217 has argument past max length for model:\t[arg ends at index 164; max len 117]\n",
      "  warnings.warn('\\t'.join([w.format(i), info]))\n",
      "/home/antonis/ipythonNotebooks/snorkel-ml/snorkel/learning/disc_models/rnn/rnn_base.py:40: UserWarning: Candidate 220 has argument past max length for model:\t[arg ends at index 160; max len 117]\n",
      "  warnings.warn('\\t'.join([w.format(i), info]))\n",
      "/home/antonis/ipythonNotebooks/snorkel-ml/snorkel/learning/disc_models/rnn/rnn_base.py:40: UserWarning: Candidate 223 has argument past max length for model:\t[arg ends at index 160; max len 117]\n",
      "  warnings.warn('\\t'.join([w.format(i), info]))\n",
      "/home/antonis/ipythonNotebooks/snorkel-ml/snorkel/learning/disc_models/rnn/rnn_base.py:40: UserWarning: Candidate 226 has argument past max length for model:\t[arg ends at index 160; max len 117]\n",
      "  warnings.warn('\\t'.join([w.format(i), info]))\n",
      "/home/antonis/ipythonNotebooks/snorkel-ml/snorkel/learning/disc_models/rnn/rnn_base.py:40: UserWarning: Candidate 233 has argument past max length for model:\t[arg ends at index 160; max len 117]\n",
      "  warnings.warn('\\t'.join([w.format(i), info]))\n",
      "/home/antonis/ipythonNotebooks/snorkel-ml/snorkel/learning/disc_models/rnn/rnn_base.py:40: UserWarning: Candidate 238 has argument past max length for model:\t[arg ends at index 160; max len 117]\n",
      "  warnings.warn('\\t'.join([w.format(i), info]))\n",
      "/home/antonis/ipythonNotebooks/snorkel-ml/snorkel/learning/disc_models/rnn/rnn_base.py:40: UserWarning: Candidate 242 has argument past max length for model:\t[arg ends at index 160; max len 117]\n",
      "  warnings.warn('\\t'.join([w.format(i), info]))\n",
      "/home/antonis/ipythonNotebooks/snorkel-ml/snorkel/learning/disc_models/rnn/rnn_base.py:40: UserWarning: Candidate 248 has argument past max length for model:\t[arg ends at index 160; max len 117]\n",
      "  warnings.warn('\\t'.join([w.format(i), info]))\n",
      "/home/antonis/ipythonNotebooks/snorkel-ml/snorkel/learning/disc_models/rnn/rnn_base.py:40: UserWarning: Candidate 252 has argument past max length for model:\t[arg ends at index 164; max len 117]\n",
      "  warnings.warn('\\t'.join([w.format(i), info]))\n",
      "/home/antonis/ipythonNotebooks/snorkel-ml/snorkel/learning/disc_models/rnn/rnn_base.py:40: UserWarning: Candidate 256 has argument past max length for model:\t[arg ends at index 131; max len 117]\n",
      "  warnings.warn('\\t'.join([w.format(i), info]))\n",
      "/home/antonis/ipythonNotebooks/snorkel-ml/snorkel/learning/disc_models/rnn/rnn_base.py:40: UserWarning: Candidate 261 has argument past max length for model:\t[arg ends at index 137; max len 117]\n",
      "  warnings.warn('\\t'.join([w.format(i), info]))\n",
      "/home/antonis/ipythonNotebooks/snorkel-ml/snorkel/learning/disc_models/rnn/rnn_base.py:40: UserWarning: Candidate 284 has argument past max length for model:\t[arg ends at index 164; max len 117]\n",
      "  warnings.warn('\\t'.join([w.format(i), info]))\n",
      "/home/antonis/ipythonNotebooks/snorkel-ml/snorkel/learning/disc_models/rnn/rnn_base.py:40: UserWarning: Candidate 288 has argument past max length for model:\t[arg ends at index 131; max len 117]\n",
      "  warnings.warn('\\t'.join([w.format(i), info]))\n",
      "/home/antonis/ipythonNotebooks/snorkel-ml/snorkel/learning/disc_models/rnn/rnn_base.py:40: UserWarning: Candidate 293 has argument past max length for model:\t[arg ends at index 137; max len 117]\n",
      "  warnings.warn('\\t'.join([w.format(i), info]))\n",
      "/home/antonis/ipythonNotebooks/snorkel-ml/snorkel/learning/disc_models/rnn/rnn_base.py:40: UserWarning: Candidate 314 has argument past max length for model:\t[arg ends at index 164; max len 117]\n",
      "  warnings.warn('\\t'.join([w.format(i), info]))\n",
      "/home/antonis/ipythonNotebooks/snorkel-ml/snorkel/learning/disc_models/rnn/rnn_base.py:40: UserWarning: Candidate 319 has argument past max length for model:\t[arg ends at index 131; max len 117]\n",
      "  warnings.warn('\\t'.join([w.format(i), info]))\n",
      "/home/antonis/ipythonNotebooks/snorkel-ml/snorkel/learning/disc_models/rnn/rnn_base.py:40: UserWarning: Candidate 321 has argument past max length for model:\t[arg ends at index 137; max len 117]\n",
      "  warnings.warn('\\t'.join([w.format(i), info]))\n",
      "/home/antonis/ipythonNotebooks/snorkel-ml/snorkel/learning/disc_models/rnn/rnn_base.py:40: UserWarning: Candidate 340 has argument past max length for model:\t[arg ends at index 164; max len 117]\n",
      "  warnings.warn('\\t'.join([w.format(i), info]))\n",
      "/home/antonis/ipythonNotebooks/snorkel-ml/snorkel/learning/disc_models/rnn/rnn_base.py:40: UserWarning: Candidate 777 has argument past max length for model:\t[arg ends at index 117; max len 117]\n",
      "  warnings.warn('\\t'.join([w.format(i), info]))\n",
      "/home/antonis/ipythonNotebooks/snorkel-ml/snorkel/learning/disc_models/rnn/rnn_base.py:40: UserWarning: Candidate 782 has argument past max length for model:\t[arg ends at index 117; max len 117]\n",
      "  warnings.warn('\\t'.join([w.format(i), info]))\n",
      "/home/antonis/ipythonNotebooks/snorkel-ml/snorkel/learning/disc_models/rnn/rnn_base.py:40: UserWarning: Candidate 786 has argument past max length for model:\t[arg ends at index 117; max len 117]\n",
      "  warnings.warn('\\t'.join([w.format(i), info]))\n",
      "/home/antonis/ipythonNotebooks/snorkel-ml/snorkel/learning/disc_models/rnn/rnn_base.py:40: UserWarning: Candidate 136 has argument past max length for model:\t[arg ends at index 131; max len 117]\n",
      "  warnings.warn('\\t'.join([w.format(i), info]))\n",
      "/home/antonis/ipythonNotebooks/snorkel-ml/snorkel/learning/disc_models/rnn/rnn_base.py:40: UserWarning: Candidate 141 has argument past max length for model:\t[arg ends at index 137; max len 117]\n",
      "  warnings.warn('\\t'.join([w.format(i), info]))\n",
      "/home/antonis/ipythonNotebooks/snorkel-ml/snorkel/learning/disc_models/rnn/rnn_base.py:40: UserWarning: Candidate 166 has argument past max length for model:\t[arg ends at index 164; max len 117]\n",
      "  warnings.warn('\\t'.join([w.format(i), info]))\n",
      "/home/antonis/ipythonNotebooks/snorkel-ml/snorkel/learning/disc_models/rnn/rnn_base.py:40: UserWarning: Candidate 169 has argument past max length for model:\t[arg ends at index 131; max len 117]\n",
      "  warnings.warn('\\t'.join([w.format(i), info]))\n",
      "/home/antonis/ipythonNotebooks/snorkel-ml/snorkel/learning/disc_models/rnn/rnn_base.py:40: UserWarning: Candidate 172 has argument past max length for model:\t[arg ends at index 137; max len 117]\n",
      "  warnings.warn('\\t'.join([w.format(i), info]))\n",
      "/home/antonis/ipythonNotebooks/snorkel-ml/snorkel/learning/disc_models/rnn/rnn_base.py:40: UserWarning: Candidate 190 has argument past max length for model:\t[arg ends at index 164; max len 117]\n",
      "  warnings.warn('\\t'.join([w.format(i), info]))\n",
      "/home/antonis/ipythonNotebooks/snorkel-ml/snorkel/learning/disc_models/rnn/rnn_base.py:40: UserWarning: Candidate 194 has argument past max length for model:\t[arg ends at index 131; max len 117]\n",
      "  warnings.warn('\\t'.join([w.format(i), info]))\n",
      "/home/antonis/ipythonNotebooks/snorkel-ml/snorkel/learning/disc_models/rnn/rnn_base.py:40: UserWarning: Candidate 196 has argument past max length for model:\t[arg ends at index 137; max len 117]\n",
      "  warnings.warn('\\t'.join([w.format(i), info]))\n",
      "/home/antonis/ipythonNotebooks/snorkel-ml/snorkel/learning/disc_models/rnn/rnn_base.py:40: UserWarning: Candidate 217 has argument past max length for model:\t[arg ends at index 164; max len 117]\n",
      "  warnings.warn('\\t'.join([w.format(i), info]))\n",
      "/home/antonis/ipythonNotebooks/snorkel-ml/snorkel/learning/disc_models/rnn/rnn_base.py:40: UserWarning: Candidate 220 has argument past max length for model:\t[arg ends at index 160; max len 117]\n",
      "  warnings.warn('\\t'.join([w.format(i), info]))\n",
      "/home/antonis/ipythonNotebooks/snorkel-ml/snorkel/learning/disc_models/rnn/rnn_base.py:40: UserWarning: Candidate 223 has argument past max length for model:\t[arg ends at index 160; max len 117]\n",
      "  warnings.warn('\\t'.join([w.format(i), info]))\n",
      "/home/antonis/ipythonNotebooks/snorkel-ml/snorkel/learning/disc_models/rnn/rnn_base.py:40: UserWarning: Candidate 226 has argument past max length for model:\t[arg ends at index 160; max len 117]\n",
      "  warnings.warn('\\t'.join([w.format(i), info]))\n",
      "/home/antonis/ipythonNotebooks/snorkel-ml/snorkel/learning/disc_models/rnn/rnn_base.py:40: UserWarning: Candidate 233 has argument past max length for model:\t[arg ends at index 160; max len 117]\n",
      "  warnings.warn('\\t'.join([w.format(i), info]))\n",
      "/home/antonis/ipythonNotebooks/snorkel-ml/snorkel/learning/disc_models/rnn/rnn_base.py:40: UserWarning: Candidate 238 has argument past max length for model:\t[arg ends at index 160; max len 117]\n",
      "  warnings.warn('\\t'.join([w.format(i), info]))\n",
      "/home/antonis/ipythonNotebooks/snorkel-ml/snorkel/learning/disc_models/rnn/rnn_base.py:40: UserWarning: Candidate 242 has argument past max length for model:\t[arg ends at index 160; max len 117]\n",
      "  warnings.warn('\\t'.join([w.format(i), info]))\n",
      "/home/antonis/ipythonNotebooks/snorkel-ml/snorkel/learning/disc_models/rnn/rnn_base.py:40: UserWarning: Candidate 248 has argument past max length for model:\t[arg ends at index 160; max len 117]\n",
      "  warnings.warn('\\t'.join([w.format(i), info]))\n",
      "/home/antonis/ipythonNotebooks/snorkel-ml/snorkel/learning/disc_models/rnn/rnn_base.py:40: UserWarning: Candidate 252 has argument past max length for model:\t[arg ends at index 164; max len 117]\n",
      "  warnings.warn('\\t'.join([w.format(i), info]))\n",
      "/home/antonis/ipythonNotebooks/snorkel-ml/snorkel/learning/disc_models/rnn/rnn_base.py:40: UserWarning: Candidate 256 has argument past max length for model:\t[arg ends at index 131; max len 117]\n",
      "  warnings.warn('\\t'.join([w.format(i), info]))\n",
      "/home/antonis/ipythonNotebooks/snorkel-ml/snorkel/learning/disc_models/rnn/rnn_base.py:40: UserWarning: Candidate 261 has argument past max length for model:\t[arg ends at index 137; max len 117]\n",
      "  warnings.warn('\\t'.join([w.format(i), info]))\n",
      "/home/antonis/ipythonNotebooks/snorkel-ml/snorkel/learning/disc_models/rnn/rnn_base.py:40: UserWarning: Candidate 284 has argument past max length for model:\t[arg ends at index 164; max len 117]\n",
      "  warnings.warn('\\t'.join([w.format(i), info]))\n",
      "/home/antonis/ipythonNotebooks/snorkel-ml/snorkel/learning/disc_models/rnn/rnn_base.py:40: UserWarning: Candidate 288 has argument past max length for model:\t[arg ends at index 131; max len 117]\n",
      "  warnings.warn('\\t'.join([w.format(i), info]))\n",
      "/home/antonis/ipythonNotebooks/snorkel-ml/snorkel/learning/disc_models/rnn/rnn_base.py:40: UserWarning: Candidate 293 has argument past max length for model:\t[arg ends at index 137; max len 117]\n",
      "  warnings.warn('\\t'.join([w.format(i), info]))\n",
      "/home/antonis/ipythonNotebooks/snorkel-ml/snorkel/learning/disc_models/rnn/rnn_base.py:40: UserWarning: Candidate 314 has argument past max length for model:\t[arg ends at index 164; max len 117]\n",
      "  warnings.warn('\\t'.join([w.format(i), info]))\n",
      "/home/antonis/ipythonNotebooks/snorkel-ml/snorkel/learning/disc_models/rnn/rnn_base.py:40: UserWarning: Candidate 319 has argument past max length for model:\t[arg ends at index 131; max len 117]\n",
      "  warnings.warn('\\t'.join([w.format(i), info]))\n",
      "/home/antonis/ipythonNotebooks/snorkel-ml/snorkel/learning/disc_models/rnn/rnn_base.py:40: UserWarning: Candidate 321 has argument past max length for model:\t[arg ends at index 137; max len 117]\n",
      "  warnings.warn('\\t'.join([w.format(i), info]))\n",
      "/home/antonis/ipythonNotebooks/snorkel-ml/snorkel/learning/disc_models/rnn/rnn_base.py:40: UserWarning: Candidate 340 has argument past max length for model:\t[arg ends at index 164; max len 117]\n",
      "  warnings.warn('\\t'.join([w.format(i), info]))\n"
     ]
    },
    {
     "name": "stdout",
     "output_type": "stream",
     "text": [
      "<type 'numpy.ndarray'> <type 'list'>\n"
     ]
    },
    {
     "name": "stderr",
     "output_type": "stream",
     "text": [
      "/home/antonis/anaconda2/envs/snorkel27clone/lib/python2.7/site-packages/tensorflow/python/ops/gradients_impl.py:100: UserWarning: Converting sparse IndexedSlices to a dense Tensor of unknown shape. This may consume a large amount of memory.\n",
      "  \"Converting sparse IndexedSlices to a dense Tensor of unknown shape. \"\n"
     ]
    },
    {
     "name": "stdout",
     "output_type": "stream",
     "text": [
      "[reRNN] Training model\n",
      "[reRNN] n_train=3964  #epochs=30  batch size=64\n",
      "[reRNN] Epoch 0 (15.35s)\tAverage loss=0.566158\n",
      "[reRNN] Epoch 1 (30.19s)\tAverage loss=0.342451\n",
      "[reRNN] Epoch 2 (44.41s)\tAverage loss=0.265685\n",
      "[reRNN] Epoch 3 (58.08s)\tAverage loss=0.224406\n",
      "[reRNN] Epoch 4 (71.96s)\tAverage loss=0.198847\n",
      "[reRNN] Epoch 5 (85.98s)\tAverage loss=0.169253\n",
      "[reRNN] Epoch 6 (99.92s)\tAverage loss=0.170281\n",
      "[reRNN] Epoch 7 (113.98s)\tAverage loss=0.151047\n",
      "[reRNN] Epoch 8 (127.70s)\tAverage loss=0.140918\n",
      "[reRNN] Epoch 9 (141.65s)\tAverage loss=0.113129\n",
      "[reRNN] Epoch 10 (155.86s)\tAverage loss=0.099683\n",
      "[reRNN] Epoch 11 (169.89s)\tAverage loss=0.089688\n",
      "[reRNN] Epoch 12 (183.69s)\tAverage loss=0.079788\n",
      "[reRNN] Epoch 13 (197.64s)\tAverage loss=0.078643\n",
      "[reRNN] Epoch 14 (211.58s)\tAverage loss=0.076452\n",
      "[reRNN] Epoch 15 (225.61s)\tAverage loss=0.083256\n",
      "[reRNN] Epoch 16 (239.44s)\tAverage loss=0.084189\n",
      "[reRNN] Epoch 17 (253.41s)\tAverage loss=0.089772\n",
      "[reRNN] Epoch 18 (267.45s)\tAverage loss=0.118755\n",
      "[reRNN] Epoch 19 (281.34s)\tAverage loss=0.119509\n",
      "[reRNN] Epoch 20 (295.31s)\tAverage loss=0.085533\n",
      "[reRNN] Epoch 21 (309.44s)\tAverage loss=0.073202\n",
      "[reRNN] Epoch 22 (323.26s)\tAverage loss=0.065116\n",
      "[reRNN] Epoch 23 (337.34s)\tAverage loss=0.061842\n",
      "[reRNN] Epoch 24 (351.38s)\tAverage loss=0.059221\n",
      "[reRNN] Epoch 25 (365.30s)\tAverage loss=0.057040\n",
      "[reRNN] Epoch 26 (379.32s)\tAverage loss=0.055856\n",
      "[reRNN] Epoch 27 (393.11s)\tAverage loss=0.057719\n",
      "[reRNN] Epoch 28 (407.08s)\tAverage loss=0.057349\n",
      "[reRNN] Epoch 29 (421.06s)\tAverage loss=0.056368\n",
      "[reRNN] Training done (421.06s)\n",
      "MSE: [-0.2603592544935169]\n",
      "F1: [0.4829268292682927]\n",
      "MSE: [-0.2603592544935169, -0.24159042645856751]\n",
      "F1: [0.4829268292682927, 0.5200741198270538]\n",
      "MSE: [-0.2603592544935169, -0.24159042645856751, -0.2521591186443214]\n",
      "F1: [0.4829268292682927, 0.5200741198270538, 0.4790874524714829]\n",
      "<type 'numpy.ndarray'> <type 'list'>\n"
     ]
    },
    {
     "name": "stderr",
     "output_type": "stream",
     "text": [
      "/home/antonis/anaconda2/envs/snorkel27clone/lib/python2.7/site-packages/tensorflow/python/ops/gradients_impl.py:100: UserWarning: Converting sparse IndexedSlices to a dense Tensor of unknown shape. This may consume a large amount of memory.\n",
      "  \"Converting sparse IndexedSlices to a dense Tensor of unknown shape. \"\n"
     ]
    },
    {
     "name": "stdout",
     "output_type": "stream",
     "text": [
      "[reRNN] Training model\n",
      "[reRNN] n_train=5250  #epochs=30  batch size=64\n",
      "[reRNN] Epoch 0 (19.09s)\tAverage loss=0.574463\n",
      "[reRNN] Epoch 1 (37.63s)\tAverage loss=0.361483\n",
      "[reRNN] Epoch 2 (56.29s)\tAverage loss=0.280589\n",
      "[reRNN] Epoch 3 (74.84s)\tAverage loss=0.249322\n",
      "[reRNN] Epoch 4 (93.49s)\tAverage loss=0.219070\n",
      "[reRNN] Epoch 5 (112.15s)\tAverage loss=0.194139\n",
      "[reRNN] Epoch 6 (130.72s)\tAverage loss=0.175095\n",
      "[reRNN] Epoch 7 (149.42s)\tAverage loss=0.158780\n",
      "[reRNN] Epoch 8 (168.16s)\tAverage loss=0.141685\n",
      "[reRNN] Epoch 9 (186.92s)\tAverage loss=0.135303\n",
      "[reRNN] Epoch 10 (205.64s)\tAverage loss=0.118658\n",
      "[reRNN] Epoch 11 (224.32s)\tAverage loss=0.112609\n",
      "[reRNN] Epoch 12 (242.54s)\tAverage loss=0.107311\n",
      "[reRNN] Epoch 13 (261.03s)\tAverage loss=0.099031\n",
      "[reRNN] Epoch 14 (279.92s)\tAverage loss=0.101064\n",
      "[reRNN] Epoch 15 (298.56s)\tAverage loss=0.095891\n",
      "[reRNN] Epoch 16 (317.38s)\tAverage loss=0.088514\n",
      "[reRNN] Epoch 17 (335.83s)\tAverage loss=0.087448\n",
      "[reRNN] Epoch 18 (354.49s)\tAverage loss=0.086521\n",
      "[reRNN] Epoch 19 (373.14s)\tAverage loss=0.083925\n",
      "[reRNN] Epoch 20 (391.96s)\tAverage loss=0.085276\n",
      "[reRNN] Epoch 21 (410.66s)\tAverage loss=0.102818\n",
      "[reRNN] Epoch 22 (429.31s)\tAverage loss=0.112497\n",
      "[reRNN] Epoch 23 (447.96s)\tAverage loss=0.107052\n",
      "[reRNN] Epoch 24 (466.35s)\tAverage loss=0.119058\n",
      "[reRNN] Epoch 25 (485.00s)\tAverage loss=0.119015\n",
      "[reRNN] Epoch 26 (503.74s)\tAverage loss=0.103090\n",
      "[reRNN] Epoch 27 (522.67s)\tAverage loss=0.098481\n",
      "[reRNN] Epoch 28 (541.21s)\tAverage loss=0.090155\n",
      "[reRNN] Epoch 29 (560.18s)\tAverage loss=0.084668\n",
      "[reRNN] Training done (560.18s)\n",
      "MSE: [-0.243135020816441]\n",
      "F1: [0.4763779527559055]\n",
      "MSE: [-0.243135020816441, -0.2377390873978144]\n",
      "F1: [0.4763779527559055, 0.48655737704918034]\n",
      "MSE: [-0.243135020816441, -0.2377390873978144, -0.23588528115707974]\n",
      "F1: [0.4763779527559055, 0.48655737704918034, 0.49081364829396323]\n",
      "<type 'numpy.ndarray'> <type 'list'>\n"
     ]
    },
    {
     "name": "stderr",
     "output_type": "stream",
     "text": [
      "/home/antonis/anaconda2/envs/snorkel27clone/lib/python2.7/site-packages/tensorflow/python/ops/gradients_impl.py:100: UserWarning: Converting sparse IndexedSlices to a dense Tensor of unknown shape. This may consume a large amount of memory.\n",
      "  \"Converting sparse IndexedSlices to a dense Tensor of unknown shape. \"\n"
     ]
    },
    {
     "name": "stdout",
     "output_type": "stream",
     "text": [
      "[reRNN] Training model\n",
      "[reRNN] n_train=6552  #epochs=30  batch size=64\n",
      "[reRNN] Epoch 0 (25.52s)\tAverage loss=0.536845\n",
      "[reRNN] Epoch 1 (49.45s)\tAverage loss=0.351474\n",
      "[reRNN] Epoch 2 (73.44s)\tAverage loss=0.276233\n",
      "[reRNN] Epoch 3 (97.50s)\tAverage loss=0.218687\n",
      "[reRNN] Epoch 4 (122.07s)\tAverage loss=0.191092\n",
      "[reRNN] Epoch 5 (146.21s)\tAverage loss=0.161706\n",
      "[reRNN] Epoch 6 (170.59s)\tAverage loss=0.146495\n",
      "[reRNN] Epoch 7 (194.71s)\tAverage loss=0.133415\n",
      "[reRNN] Epoch 8 (218.83s)\tAverage loss=0.128966\n",
      "[reRNN] Epoch 9 (243.31s)\tAverage loss=0.126163\n",
      "[reRNN] Epoch 10 (267.76s)\tAverage loss=0.123330\n",
      "[reRNN] Epoch 11 (292.23s)\tAverage loss=0.116054\n",
      "[reRNN] Epoch 12 (316.21s)\tAverage loss=0.106920\n",
      "[reRNN] Epoch 13 (340.79s)\tAverage loss=0.111462\n",
      "[reRNN] Epoch 14 (365.44s)\tAverage loss=0.105140\n",
      "[reRNN] Epoch 15 (389.58s)\tAverage loss=0.097431\n",
      "[reRNN] Epoch 16 (413.79s)\tAverage loss=0.093631\n",
      "[reRNN] Epoch 17 (437.99s)\tAverage loss=0.106439\n",
      "[reRNN] Epoch 18 (461.91s)\tAverage loss=0.112498\n",
      "[reRNN] Epoch 19 (486.07s)\tAverage loss=0.101679\n",
      "[reRNN] Epoch 20 (510.05s)\tAverage loss=0.102293\n",
      "[reRNN] Epoch 21 (534.45s)\tAverage loss=0.094552\n",
      "[reRNN] Epoch 22 (558.58s)\tAverage loss=0.100821\n",
      "[reRNN] Epoch 23 (583.24s)\tAverage loss=0.115691\n",
      "[reRNN] Epoch 24 (607.58s)\tAverage loss=0.118198\n",
      "[reRNN] Epoch 25 (632.04s)\tAverage loss=0.095452\n",
      "[reRNN] Epoch 26 (656.19s)\tAverage loss=0.087583\n",
      "[reRNN] Epoch 27 (680.55s)\tAverage loss=0.082204\n",
      "[reRNN] Epoch 28 (705.03s)\tAverage loss=0.080816\n",
      "[reRNN] Epoch 29 (729.61s)\tAverage loss=0.079203\n",
      "[reRNN] Training done (729.61s)\n",
      "MSE: [-0.24640157419002295]\n",
      "F1: [0.49555273189326565]\n",
      "MSE: [-0.24640157419002295, -0.22385917653268905]\n",
      "F1: [0.49555273189326565, 0.5482625482625483]\n",
      "MSE: [-0.24640157419002295, -0.22385917653268905, -0.24198868697552647]\n",
      "F1: [0.49555273189326565, 0.5482625482625483, 0.49277266754270693]\n",
      "<type 'numpy.ndarray'> <type 'list'>\n"
     ]
    },
    {
     "name": "stderr",
     "output_type": "stream",
     "text": [
      "/home/antonis/anaconda2/envs/snorkel27clone/lib/python2.7/site-packages/tensorflow/python/ops/gradients_impl.py:100: UserWarning: Converting sparse IndexedSlices to a dense Tensor of unknown shape. This may consume a large amount of memory.\n",
      "  \"Converting sparse IndexedSlices to a dense Tensor of unknown shape. \"\n"
     ]
    },
    {
     "name": "stdout",
     "output_type": "stream",
     "text": [
      "[reRNN] Training model\n",
      "[reRNN] n_train=7804  #epochs=30  batch size=64\n",
      "[reRNN] Epoch 0 (28.85s)\tAverage loss=0.506143\n",
      "[reRNN] Epoch 1 (57.37s)\tAverage loss=0.329114\n",
      "[reRNN] Epoch 2 (85.86s)\tAverage loss=0.266213\n",
      "[reRNN] Epoch 3 (114.04s)\tAverage loss=0.222939\n",
      "[reRNN] Epoch 4 (142.49s)\tAverage loss=0.191242\n",
      "[reRNN] Epoch 5 (170.57s)\tAverage loss=0.166105\n",
      "[reRNN] Epoch 6 (199.00s)\tAverage loss=0.151992\n",
      "[reRNN] Epoch 7 (227.87s)\tAverage loss=0.140212\n",
      "[reRNN] Epoch 8 (256.09s)\tAverage loss=0.131138\n",
      "[reRNN] Epoch 9 (284.84s)\tAverage loss=0.118516\n",
      "[reRNN] Epoch 10 (312.82s)\tAverage loss=0.112820\n",
      "[reRNN] Epoch 11 (341.34s)\tAverage loss=0.112662\n",
      "[reRNN] Epoch 12 (369.67s)\tAverage loss=0.106848\n",
      "[reRNN] Epoch 13 (398.69s)\tAverage loss=0.105537\n",
      "[reRNN] Epoch 14 (427.11s)\tAverage loss=0.103331\n",
      "[reRNN] Epoch 15 (455.63s)\tAverage loss=0.095760\n",
      "[reRNN] Epoch 16 (484.29s)\tAverage loss=0.092934\n",
      "[reRNN] Epoch 17 (513.06s)\tAverage loss=0.087514\n",
      "[reRNN] Epoch 18 (541.81s)\tAverage loss=0.085272\n",
      "[reRNN] Epoch 19 (569.89s)\tAverage loss=0.083638\n",
      "[reRNN] Epoch 20 (598.32s)\tAverage loss=0.083055\n",
      "[reRNN] Epoch 21 (626.55s)\tAverage loss=0.085496\n",
      "[reRNN] Epoch 22 (655.10s)\tAverage loss=0.090008\n",
      "[reRNN] Epoch 23 (683.32s)\tAverage loss=0.116731\n",
      "[reRNN] Epoch 24 (711.51s)\tAverage loss=0.149986\n",
      "[reRNN] Epoch 25 (739.96s)\tAverage loss=0.152320\n",
      "[reRNN] Epoch 26 (768.73s)\tAverage loss=0.139653\n",
      "[reRNN] Epoch 27 (797.04s)\tAverage loss=0.118618\n",
      "[reRNN] Epoch 28 (825.40s)\tAverage loss=0.118136\n",
      "[reRNN] Epoch 29 (853.84s)\tAverage loss=0.108742\n",
      "[reRNN] Training done (853.84s)\n",
      "MSE: [-0.20980763724828688]\n",
      "F1: [0.539746158984636]\n",
      "MSE: [-0.20980763724828688, -0.1958640371982581]\n",
      "F1: [0.539746158984636, 0.5637221847606203]\n",
      "MSE: [-0.20980763724828688, -0.1958640371982581, -0.1973748216003534]\n",
      "F1: [0.539746158984636, 0.5637221847606203, 0.5411436541143654]\n"
     ]
    }
   ],
   "source": [
    "## with LSTM (Gold ---> unlab )\n",
    "## with varying number of epochs (per training examples)\n",
    "\n",
    "from MLutils import custom_learning_curve\n",
    "\n",
    "train_kwargs = {\n",
    "    'lr':         0.01,\n",
    "    'dim':        100,\n",
    "    'n_epochs':   30,\n",
    "    'dropout':    0.25,\n",
    "    'rebalance':  True,\n",
    "    'print_freq': 1,\n",
    "    'batch_size': 64,\n",
    "    'dev_ckpt_delay': 0,\n",
    "#     'X_dev': dev, \n",
    "#     'Y_dev': L_gold_dev,\n",
    "    'verbose': False,\n",
    "}\n",
    "\n",
    "train_sizes, train_mse, train_f1, valid_mse , valid_f1 , test_prf1 = custom_learning_curve(\n",
    "    reRNN(seed=1701 ), \n",
    "    X_increm = unlab, y_increm = unlab_marginals_gen, \n",
    "    X_val = test, y_val = L_gold_test, \n",
    "    X_init= train, y_init= L_gold_train,\n",
    "    X_test = test, y_test = L_gold_test, \n",
    "    fit_params = train_kwargs,\n",
    "#                       splt_sizes=np.array([0.1, 0.5, 1.  ])\n",
    "                     )\n"
   ]
  },
  {
   "cell_type": "code",
   "execution_count": 74,
   "metadata": {},
   "outputs": [],
   "source": [
    "with open(pkl_paths+\"learning_curves/lstm_GM_30_epochs.pickle\",'wb') as f:\n",
    "    pickle.dump((train_sizes, train_mse, train_f1, valid_mse , valid_f1 , test_prf1), f)"
   ]
  },
  {
   "cell_type": "code",
   "execution_count": 75,
   "metadata": {},
   "outputs": [
    {
     "data": {
      "text/plain": [
       "<module 'matplotlib.pyplot' from '/home/antonis/anaconda2/envs/snorkel27clone/lib/python2.7/site-packages/matplotlib/pyplot.pyc'>"
      ]
     },
     "execution_count": 75,
     "metadata": {},
     "output_type": "execute_result"
    },
    {
     "data": {
      "image/png": "[encoded data removed]",
      "text/plain": [
       "<Figure size 432x288 with 1 Axes>"
      ]
     },
     "metadata": {},
     "output_type": "display_data"
    },
    {
     "data": {
      "image/png": "[encoded data removed]",
      "text/plain": [
       "<Figure size 432x288 with 1 Axes>"
      ]
     },
     "metadata": {},
     "output_type": "display_data"
    }
   ],
   "source": [
    "\n",
    "plot_learning_curve(train_mse,valid_mse,train_sizes, 'Noisy-labeled LSTM (GM,30_epochs) MSE (P=%.2f,R=%.2f,F1=%.2f)'%(test_prf1))\n",
    "\n",
    "plot_learning_curve(train_f1,valid_f1,train_sizes, title='Noisy-labeled LSTM (GM,30_epochs) (P=%.2f,R=%.2f,F1=%.2f)'%(test_prf1))\n"
   ]
  },
  {
   "cell_type": "code",
   "execution_count": null,
   "metadata": {},
   "outputs": [],
   "source": []
  },
  {
   "cell_type": "code",
   "execution_count": null,
   "metadata": {},
   "outputs": [],
   "source": []
  },
  {
   "cell_type": "code",
   "execution_count": null,
   "metadata": {},
   "outputs": [],
   "source": []
  },
  {
   "cell_type": "markdown",
   "metadata": {},
   "source": [
    "** with averaging marginals **"
   ]
  },
  {
   "cell_type": "code",
   "execution_count": null,
   "metadata": {},
   "outputs": [],
   "source": [
    "plot_marginals_histogram(unlab_marginals_avg, \n",
    "                         title = 'Histogram of marginals' ,\n",
    "                        bins = 20)"
   ]
  },
  {
   "cell_type": "code",
   "execution_count": 91,
   "metadata": {
    "scrolled": true
   },
   "outputs": [
    {
     "name": "stderr",
     "output_type": "stream",
     "text": [
      "/home/antonis/anaconda2/envs/snorkel27clone/lib/python2.7/site-packages/tensorflow/python/ops/gradients_impl.py:100: UserWarning: Converting sparse IndexedSlices to a dense Tensor of unknown shape. This may consume a large amount of memory.\n",
      "  \"Converting sparse IndexedSlices to a dense Tensor of unknown shape. \"\n"
     ]
    },
    {
     "name": "stdout",
     "output_type": "stream",
     "text": [
      "[reRNN] Training model\n",
      "[reRNN] n_train=4710  #epochs=50  batch size=256\n",
      "[reRNN] Epoch 0 (19.19s)\tAverage loss=0.632720\tDev F1=39.32\n",
      "[reRNN] Epoch 1 (43.20s)\tAverage loss=0.469784\tDev F1=42.54\n",
      "[reRNN] Model saved as <reRNN>\n",
      "[reRNN] Epoch 2 (67.20s)\tAverage loss=0.434243\tDev F1=41.59\n",
      "[reRNN] Epoch 3 (90.59s)\tAverage loss=0.415756\tDev F1=46.87\n",
      "[reRNN] Model saved as <reRNN>\n",
      "[reRNN] Epoch 4 (114.87s)\tAverage loss=0.407203\tDev F1=43.99\n",
      "[reRNN] Epoch 5 (138.51s)\tAverage loss=0.397426\tDev F1=47.35\n",
      "[reRNN] Model saved as <reRNN>\n",
      "[reRNN] Epoch 6 (162.12s)\tAverage loss=0.390338\tDev F1=49.29\n",
      "[reRNN] Model saved as <reRNN>\n",
      "[reRNN] Epoch 7 (185.14s)\tAverage loss=0.385463\tDev F1=48.91\n",
      "[reRNN] Epoch 8 (208.80s)\tAverage loss=0.378498\tDev F1=48.00\n",
      "[reRNN] Epoch 9 (234.31s)\tAverage loss=0.376280\tDev F1=50.31\n",
      "[reRNN] Model saved as <reRNN>\n",
      "[reRNN] Epoch 10 (257.89s)\tAverage loss=0.375565\tDev F1=48.85\n",
      "[reRNN] Epoch 11 (281.61s)\tAverage loss=0.369028\tDev F1=49.30\n",
      "[reRNN] Epoch 12 (304.49s)\tAverage loss=0.363275\tDev F1=52.31\n",
      "[reRNN] Model saved as <reRNN>\n",
      "[reRNN] Epoch 13 (327.01s)\tAverage loss=0.360586\tDev F1=53.68\n",
      "[reRNN] Model saved as <reRNN>\n",
      "[reRNN] Epoch 14 (350.44s)\tAverage loss=0.357855\tDev F1=51.93\n",
      "[reRNN] Epoch 15 (373.25s)\tAverage loss=0.355450\tDev F1=53.10\n",
      "[reRNN] Epoch 16 (395.73s)\tAverage loss=0.353070\tDev F1=53.42\n",
      "[reRNN] Epoch 17 (419.88s)\tAverage loss=0.353073\tDev F1=52.01\n",
      "[reRNN] Epoch 18 (443.66s)\tAverage loss=0.350651\tDev F1=52.68\n",
      "[reRNN] Epoch 19 (467.33s)\tAverage loss=0.348808\tDev F1=51.74\n",
      "[reRNN] Epoch 20 (491.37s)\tAverage loss=0.349241\tDev F1=52.25\n",
      "[reRNN] Epoch 21 (515.25s)\tAverage loss=0.345694\tDev F1=53.43\n",
      "[reRNN] Epoch 22 (538.94s)\tAverage loss=0.347394\tDev F1=53.20\n",
      "[reRNN] Epoch 23 (562.53s)\tAverage loss=0.345731\tDev F1=52.80\n",
      "[reRNN] Epoch 24 (586.20s)\tAverage loss=0.345843\tDev F1=52.89\n",
      "[reRNN] Epoch 25 (610.57s)\tAverage loss=0.346530\tDev F1=53.76\n",
      "[reRNN] Model saved as <reRNN>\n",
      "[reRNN] Epoch 26 (634.49s)\tAverage loss=0.345627\tDev F1=53.76\n",
      "[reRNN] Epoch 27 (658.83s)\tAverage loss=0.346050\tDev F1=52.34\n",
      "[reRNN] Epoch 28 (681.90s)\tAverage loss=0.342544\tDev F1=52.31\n",
      "[reRNN] Epoch 29 (706.76s)\tAverage loss=0.344564\tDev F1=53.64\n",
      "[reRNN] Epoch 30 (731.77s)\tAverage loss=0.342920\tDev F1=53.57\n",
      "[reRNN] Epoch 31 (755.63s)\tAverage loss=0.342993\tDev F1=53.18\n",
      "[reRNN] Epoch 32 (778.21s)\tAverage loss=0.342561\tDev F1=51.65\n",
      "[reRNN] Epoch 33 (801.52s)\tAverage loss=0.341752\tDev F1=52.92\n",
      "[reRNN] Epoch 34 (825.46s)\tAverage loss=0.340370\tDev F1=52.66\n",
      "[reRNN] Epoch 35 (848.83s)\tAverage loss=0.339682\tDev F1=53.37\n",
      "[reRNN] Epoch 36 (872.74s)\tAverage loss=0.339734\tDev F1=52.66\n",
      "[reRNN] Epoch 37 (896.52s)\tAverage loss=0.341125\tDev F1=52.25\n",
      "[reRNN] Epoch 38 (919.43s)\tAverage loss=0.342555\tDev F1=51.41\n",
      "[reRNN] Epoch 39 (945.37s)\tAverage loss=0.343992\tDev F1=53.21\n",
      "[reRNN] Epoch 40 (970.17s)\tAverage loss=0.343199\tDev F1=52.31\n",
      "[reRNN] Epoch 41 (993.66s)\tAverage loss=0.341673\tDev F1=53.24\n",
      "[reRNN] Epoch 42 (1017.76s)\tAverage loss=0.341277\tDev F1=51.38\n",
      "[reRNN] Epoch 43 (1041.14s)\tAverage loss=0.340441\tDev F1=52.32\n",
      "[reRNN] Epoch 44 (1064.20s)\tAverage loss=0.341392\tDev F1=52.24\n",
      "[reRNN] Epoch 45 (1088.49s)\tAverage loss=0.340161\tDev F1=51.93\n",
      "[reRNN] Epoch 46 (1113.39s)\tAverage loss=0.340018\tDev F1=52.34\n",
      "[reRNN] Epoch 47 (1137.77s)\tAverage loss=0.339064\tDev F1=52.90\n",
      "[reRNN] Epoch 48 (1161.51s)\tAverage loss=0.339082\tDev F1=52.07\n",
      "[reRNN] Epoch 49 (1185.02s)\tAverage loss=0.340296\tDev F1=52.23\n",
      "[reRNN] Training done (1188.78s)\n",
      "INFO:tensorflow:Restoring parameters from checkpoints/reRNN/reRNN-25\n",
      "[reRNN] Loaded model <reRNN>\n"
     ]
    }
   ],
   "source": [
    "train_kwargs = {\n",
    "    'lr':         0.01,\n",
    "    'dim':        100,\n",
    "    'n_epochs':   50,\n",
    "    'dropout':    0.25,\n",
    "    'rebalance':  True,\n",
    "    'print_freq': 1,\n",
    "    'batch_size': 256\n",
    "}\n",
    "\n",
    "lstm = reRNN(seed=1701, n_threads=6,)\n",
    "lstm.train(unlab, unlab_marginals_avg , X_dev=dev, Y_dev=L_gold_dev,  dev_ckpt_delay=0, **train_kwargs)"
   ]
  },
  {
   "cell_type": "code",
   "execution_count": null,
   "metadata": {},
   "outputs": [],
   "source": []
  },
  {
   "cell_type": "code",
   "execution_count": 114,
   "metadata": {},
   "outputs": [],
   "source": [
    "tp, fp, tn, fn = lstm.error_analysis(session, dev, L_gold_dev, batch_size = 1024)"
   ]
  },
  {
   "cell_type": "code",
   "execution_count": 116,
   "metadata": {},
   "outputs": [],
   "source": [
    "tp, fp, tn, fn = lstm.error_analysis(session, test, L_gold_test, batch_size = 1024)"
   ]
  },
  {
   "cell_type": "markdown",
   "metadata": {},
   "source": [
    "** Learning curves **"
   ]
  },
  {
   "cell_type": "code",
   "execution_count": null,
   "metadata": {},
   "outputs": [],
   "source": []
  },
  {
   "cell_type": "markdown",
   "metadata": {},
   "source": [
    "** learning curve (varying number of epochs) **"
   ]
  },
  {
   "cell_type": "code",
   "execution_count": 64,
   "metadata": {},
   "outputs": [],
   "source": [
    "from MLutils import plot_learning_curve, custom_learning_curve"
   ]
  },
  {
   "cell_type": "code",
   "execution_count": 76,
   "metadata": {
    "scrolled": true
   },
   "outputs": [
    {
     "name": "stdout",
     "output_type": "stream",
     "text": [
      "[0.00000000e+00 1.11022302e-16 7.69230769e-02 1.53846154e-01\n",
      " 2.30769231e-01 3.07692308e-01 3.07692308e-01 3.84615385e-01\n",
      " 4.61538462e-01 5.38461538e-01 6.15384615e-01 6.92307692e-01\n",
      " 7.69230769e-01 8.46153846e-01 9.23076923e-01 1.00000000e+00\n",
      " 1.00000000e+00]\n",
      "<type 'numpy.ndarray'> <type 'list'>\n"
     ]
    },
    {
     "name": "stderr",
     "output_type": "stream",
     "text": [
      "/home/antonis/anaconda2/envs/snorkel27clone/lib/python2.7/site-packages/tensorflow/python/ops/gradients_impl.py:100: UserWarning: Converting sparse IndexedSlices to a dense Tensor of unknown shape. This may consume a large amount of memory.\n",
      "  \"Converting sparse IndexedSlices to a dense Tensor of unknown shape. \"\n"
     ]
    },
    {
     "name": "stdout",
     "output_type": "stream",
     "text": [
      "[reRNN] Training model\n",
      "[reRNN] n_train=2064  #epochs=30  batch size=64\n",
      "[reRNN] Epoch 0 (5.36s)\tAverage loss=0.587696\tDev F1=48.52\n",
      "[reRNN] Epoch 1 (13.34s)\tAverage loss=0.357933\tDev F1=39.75\n",
      "[reRNN] Model saved as <reRNN>\n",
      "[reRNN] Epoch 2 (21.43s)\tAverage loss=0.266283\tDev F1=38.39\n",
      "[reRNN] Epoch 3 (29.50s)\tAverage loss=0.217498\tDev F1=36.65\n",
      "[reRNN] Epoch 4 (37.49s)\tAverage loss=0.201504\tDev F1=38.78\n",
      "[reRNN] Epoch 5 (45.63s)\tAverage loss=0.175957\tDev F1=36.16\n",
      "[reRNN] Epoch 6 (53.60s)\tAverage loss=0.148912\tDev F1=37.86\n",
      "[reRNN] Epoch 7 (61.60s)\tAverage loss=0.127303\tDev F1=42.07\n",
      "[reRNN] Model saved as <reRNN>\n",
      "[reRNN] Epoch 8 (69.76s)\tAverage loss=0.113288\tDev F1=35.90\n",
      "[reRNN] Epoch 9 (77.77s)\tAverage loss=0.100284\tDev F1=38.11\n",
      "[reRNN] Epoch 10 (85.67s)\tAverage loss=0.102485\tDev F1=31.97\n",
      "[reRNN] Epoch 11 (93.53s)\tAverage loss=0.093497\tDev F1=39.15\n",
      "[reRNN] Epoch 12 (101.57s)\tAverage loss=0.073585\tDev F1=39.41\n",
      "[reRNN] Epoch 13 (109.74s)\tAverage loss=0.068495\tDev F1=39.19\n",
      "[reRNN] Epoch 14 (117.81s)\tAverage loss=0.070612\tDev F1=39.58\n",
      "[reRNN] Epoch 15 (125.83s)\tAverage loss=0.058617\tDev F1=40.07\n",
      "[reRNN] Epoch 16 (133.80s)\tAverage loss=0.043493\tDev F1=41.53\n",
      "[reRNN] Epoch 17 (141.84s)\tAverage loss=0.069547\tDev F1=38.40\n",
      "[reRNN] Epoch 18 (149.91s)\tAverage loss=0.045573\tDev F1=42.27\n",
      "[reRNN] Model saved as <reRNN>\n",
      "[reRNN] Epoch 19 (158.12s)\tAverage loss=0.034035\tDev F1=41.09\n",
      "[reRNN] Epoch 20 (166.11s)\tAverage loss=0.026429\tDev F1=41.52\n",
      "[reRNN] Epoch 21 (174.18s)\tAverage loss=0.019333\tDev F1=40.91\n",
      "[reRNN] Epoch 22 (182.46s)\tAverage loss=0.017344\tDev F1=41.09\n",
      "[reRNN] Epoch 23 (190.65s)\tAverage loss=0.022266\tDev F1=41.16\n",
      "[reRNN] Epoch 24 (198.70s)\tAverage loss=0.019253\tDev F1=41.68\n",
      "[reRNN] Epoch 25 (206.78s)\tAverage loss=0.015094\tDev F1=38.60\n",
      "[reRNN] Epoch 26 (214.79s)\tAverage loss=0.019209\tDev F1=39.15\n",
      "[reRNN] Epoch 27 (222.82s)\tAverage loss=0.059458\tDev F1=36.32\n",
      "[reRNN] Epoch 28 (230.84s)\tAverage loss=0.097858\tDev F1=33.74\n",
      "[reRNN] Epoch 29 (238.89s)\tAverage loss=0.054084\tDev F1=33.31\n",
      "[reRNN] Training done (241.62s)\n",
      "INFO:tensorflow:Restoring parameters from checkpoints/reRNN/reRNN-18\n",
      "[reRNN] Loaded model <reRNN>\n"
     ]
    },
    {
     "name": "stderr",
     "output_type": "stream",
     "text": [
      "/home/antonis/ipythonNotebooks/snorkel-ml/snorkel/learning/disc_models/rnn/rnn_base.py:40: UserWarning: Candidate 950 has argument past max length for model:\t[arg ends at index 117; max len 117]\n",
      "  warnings.warn('\\t'.join([w.format(i), info]))\n",
      "/home/antonis/ipythonNotebooks/snorkel-ml/snorkel/learning/disc_models/rnn/rnn_base.py:40: UserWarning: Candidate 749 has argument past max length for model:\t[arg ends at index 164; max len 117]\n",
      "  warnings.warn('\\t'.join([w.format(i), info]))\n",
      "/home/antonis/ipythonNotebooks/snorkel-ml/snorkel/learning/disc_models/rnn/rnn_base.py:40: UserWarning: Candidate 751 has argument past max length for model:\t[arg ends at index 137; max len 117]\n",
      "  warnings.warn('\\t'.join([w.format(i), info]))\n",
      "/home/antonis/ipythonNotebooks/snorkel-ml/snorkel/learning/disc_models/rnn/rnn_base.py:40: UserWarning: Candidate 753 has argument past max length for model:\t[arg ends at index 164; max len 117]\n",
      "  warnings.warn('\\t'.join([w.format(i), info]))\n",
      "/home/antonis/ipythonNotebooks/snorkel-ml/snorkel/learning/disc_models/rnn/rnn_base.py:40: UserWarning: Candidate 755 has argument past max length for model:\t[arg ends at index 131; max len 117]\n",
      "  warnings.warn('\\t'.join([w.format(i), info]))\n",
      "/home/antonis/ipythonNotebooks/snorkel-ml/snorkel/learning/disc_models/rnn/rnn_base.py:40: UserWarning: Candidate 762 has argument past max length for model:\t[arg ends at index 164; max len 117]\n",
      "  warnings.warn('\\t'.join([w.format(i), info]))\n",
      "/home/antonis/ipythonNotebooks/snorkel-ml/snorkel/learning/disc_models/rnn/rnn_base.py:40: UserWarning: Candidate 772 has argument past max length for model:\t[arg ends at index 160; max len 117]\n",
      "  warnings.warn('\\t'.join([w.format(i), info]))\n",
      "/home/antonis/ipythonNotebooks/snorkel-ml/snorkel/learning/disc_models/rnn/rnn_base.py:40: UserWarning: Candidate 777 has argument past max length for model:\t[arg ends at index 137; max len 117]\n",
      "  warnings.warn('\\t'.join([w.format(i), info]))\n",
      "/home/antonis/ipythonNotebooks/snorkel-ml/snorkel/learning/disc_models/rnn/rnn_base.py:40: UserWarning: Candidate 793 has argument past max length for model:\t[arg ends at index 164; max len 117]\n",
      "  warnings.warn('\\t'.join([w.format(i), info]))\n",
      "/home/antonis/ipythonNotebooks/snorkel-ml/snorkel/learning/disc_models/rnn/rnn_base.py:40: UserWarning: Candidate 795 has argument past max length for model:\t[arg ends at index 137; max len 117]\n",
      "  warnings.warn('\\t'.join([w.format(i), info]))\n",
      "/home/antonis/ipythonNotebooks/snorkel-ml/snorkel/learning/disc_models/rnn/rnn_base.py:40: UserWarning: Candidate 802 has argument past max length for model:\t[arg ends at index 164; max len 117]\n",
      "  warnings.warn('\\t'.join([w.format(i), info]))\n",
      "/home/antonis/ipythonNotebooks/snorkel-ml/snorkel/learning/disc_models/rnn/rnn_base.py:40: UserWarning: Candidate 950 has argument past max length for model:\t[arg ends at index 117; max len 117]\n",
      "  warnings.warn('\\t'.join([w.format(i), info]))\n",
      "/home/antonis/ipythonNotebooks/snorkel-ml/snorkel/learning/disc_models/rnn/rnn_base.py:40: UserWarning: Candidate 749 has argument past max length for model:\t[arg ends at index 164; max len 117]\n",
      "  warnings.warn('\\t'.join([w.format(i), info]))\n",
      "/home/antonis/ipythonNotebooks/snorkel-ml/snorkel/learning/disc_models/rnn/rnn_base.py:40: UserWarning: Candidate 751 has argument past max length for model:\t[arg ends at index 137; max len 117]\n",
      "  warnings.warn('\\t'.join([w.format(i), info]))\n",
      "/home/antonis/ipythonNotebooks/snorkel-ml/snorkel/learning/disc_models/rnn/rnn_base.py:40: UserWarning: Candidate 753 has argument past max length for model:\t[arg ends at index 164; max len 117]\n",
      "  warnings.warn('\\t'.join([w.format(i), info]))\n",
      "/home/antonis/ipythonNotebooks/snorkel-ml/snorkel/learning/disc_models/rnn/rnn_base.py:40: UserWarning: Candidate 755 has argument past max length for model:\t[arg ends at index 131; max len 117]\n",
      "  warnings.warn('\\t'.join([w.format(i), info]))\n",
      "/home/antonis/ipythonNotebooks/snorkel-ml/snorkel/learning/disc_models/rnn/rnn_base.py:40: UserWarning: Candidate 762 has argument past max length for model:\t[arg ends at index 164; max len 117]\n",
      "  warnings.warn('\\t'.join([w.format(i), info]))\n",
      "/home/antonis/ipythonNotebooks/snorkel-ml/snorkel/learning/disc_models/rnn/rnn_base.py:40: UserWarning: Candidate 772 has argument past max length for model:\t[arg ends at index 160; max len 117]\n",
      "  warnings.warn('\\t'.join([w.format(i), info]))\n",
      "/home/antonis/ipythonNotebooks/snorkel-ml/snorkel/learning/disc_models/rnn/rnn_base.py:40: UserWarning: Candidate 777 has argument past max length for model:\t[arg ends at index 137; max len 117]\n",
      "  warnings.warn('\\t'.join([w.format(i), info]))\n",
      "/home/antonis/ipythonNotebooks/snorkel-ml/snorkel/learning/disc_models/rnn/rnn_base.py:40: UserWarning: Candidate 793 has argument past max length for model:\t[arg ends at index 164; max len 117]\n",
      "  warnings.warn('\\t'.join([w.format(i), info]))\n",
      "/home/antonis/ipythonNotebooks/snorkel-ml/snorkel/learning/disc_models/rnn/rnn_base.py:40: UserWarning: Candidate 795 has argument past max length for model:\t[arg ends at index 137; max len 117]\n",
      "  warnings.warn('\\t'.join([w.format(i), info]))\n",
      "/home/antonis/ipythonNotebooks/snorkel-ml/snorkel/learning/disc_models/rnn/rnn_base.py:40: UserWarning: Candidate 802 has argument past max length for model:\t[arg ends at index 164; max len 117]\n",
      "  warnings.warn('\\t'.join([w.format(i), info]))\n"
     ]
    },
    {
     "name": "stdout",
     "output_type": "stream",
     "text": [
      "MSE: [-0.2763937943046963]\n",
      "F1: [0.37081161578555466]\n"
     ]
    },
    {
     "name": "stderr",
     "output_type": "stream",
     "text": [
      "/home/antonis/ipythonNotebooks/snorkel-ml/snorkel/learning/disc_models/rnn/rnn_base.py:40: UserWarning: Candidate 935 has argument past max length for model:\t[arg ends at index 117; max len 117]\n",
      "  warnings.warn('\\t'.join([w.format(i), info]))\n",
      "/home/antonis/ipythonNotebooks/snorkel-ml/snorkel/learning/disc_models/rnn/rnn_base.py:40: UserWarning: Candidate 700 has argument past max length for model:\t[arg ends at index 137; max len 117]\n",
      "  warnings.warn('\\t'.join([w.format(i), info]))\n",
      "/home/antonis/ipythonNotebooks/snorkel-ml/snorkel/learning/disc_models/rnn/rnn_base.py:40: UserWarning: Candidate 721 has argument past max length for model:\t[arg ends at index 137; max len 117]\n",
      "  warnings.warn('\\t'.join([w.format(i), info]))\n",
      "/home/antonis/ipythonNotebooks/snorkel-ml/snorkel/learning/disc_models/rnn/rnn_base.py:40: UserWarning: Candidate 730 has argument past max length for model:\t[arg ends at index 160; max len 117]\n",
      "  warnings.warn('\\t'.join([w.format(i), info]))\n",
      "/home/antonis/ipythonNotebooks/snorkel-ml/snorkel/learning/disc_models/rnn/rnn_base.py:40: UserWarning: Candidate 737 has argument past max length for model:\t[arg ends at index 160; max len 117]\n",
      "  warnings.warn('\\t'.join([w.format(i), info]))\n",
      "/home/antonis/ipythonNotebooks/snorkel-ml/snorkel/learning/disc_models/rnn/rnn_base.py:40: UserWarning: Candidate 742 has argument past max length for model:\t[arg ends at index 164; max len 117]\n",
      "  warnings.warn('\\t'.join([w.format(i), info]))\n",
      "/home/antonis/ipythonNotebooks/snorkel-ml/snorkel/learning/disc_models/rnn/rnn_base.py:40: UserWarning: Candidate 754 has argument past max length for model:\t[arg ends at index 164; max len 117]\n",
      "  warnings.warn('\\t'.join([w.format(i), info]))\n",
      "/home/antonis/ipythonNotebooks/snorkel-ml/snorkel/learning/disc_models/rnn/rnn_base.py:40: UserWarning: Candidate 935 has argument past max length for model:\t[arg ends at index 117; max len 117]\n",
      "  warnings.warn('\\t'.join([w.format(i), info]))\n",
      "/home/antonis/ipythonNotebooks/snorkel-ml/snorkel/learning/disc_models/rnn/rnn_base.py:40: UserWarning: Candidate 700 has argument past max length for model:\t[arg ends at index 137; max len 117]\n",
      "  warnings.warn('\\t'.join([w.format(i), info]))\n",
      "/home/antonis/ipythonNotebooks/snorkel-ml/snorkel/learning/disc_models/rnn/rnn_base.py:40: UserWarning: Candidate 721 has argument past max length for model:\t[arg ends at index 137; max len 117]\n",
      "  warnings.warn('\\t'.join([w.format(i), info]))\n",
      "/home/antonis/ipythonNotebooks/snorkel-ml/snorkel/learning/disc_models/rnn/rnn_base.py:40: UserWarning: Candidate 730 has argument past max length for model:\t[arg ends at index 160; max len 117]\n",
      "  warnings.warn('\\t'.join([w.format(i), info]))\n",
      "/home/antonis/ipythonNotebooks/snorkel-ml/snorkel/learning/disc_models/rnn/rnn_base.py:40: UserWarning: Candidate 737 has argument past max length for model:\t[arg ends at index 160; max len 117]\n",
      "  warnings.warn('\\t'.join([w.format(i), info]))\n",
      "/home/antonis/ipythonNotebooks/snorkel-ml/snorkel/learning/disc_models/rnn/rnn_base.py:40: UserWarning: Candidate 742 has argument past max length for model:\t[arg ends at index 164; max len 117]\n",
      "  warnings.warn('\\t'.join([w.format(i), info]))\n",
      "/home/antonis/ipythonNotebooks/snorkel-ml/snorkel/learning/disc_models/rnn/rnn_base.py:40: UserWarning: Candidate 754 has argument past max length for model:\t[arg ends at index 164; max len 117]\n",
      "  warnings.warn('\\t'.join([w.format(i), info]))\n"
     ]
    },
    {
     "name": "stdout",
     "output_type": "stream",
     "text": [
      "MSE: [-0.2763937943046963, -0.2664217187404996]\n",
      "F1: [0.37081161578555466, 0.4038039502560351]\n"
     ]
    },
    {
     "name": "stderr",
     "output_type": "stream",
     "text": [
      "/home/antonis/ipythonNotebooks/snorkel-ml/snorkel/learning/disc_models/rnn/rnn_base.py:40: UserWarning: Candidate 942 has argument past max length for model:\t[arg ends at index 117; max len 117]\n",
      "  warnings.warn('\\t'.join([w.format(i), info]))\n",
      "/home/antonis/ipythonNotebooks/snorkel-ml/snorkel/learning/disc_models/rnn/rnn_base.py:40: UserWarning: Candidate 744 has argument past max length for model:\t[arg ends at index 131; max len 117]\n",
      "  warnings.warn('\\t'.join([w.format(i), info]))\n",
      "/home/antonis/ipythonNotebooks/snorkel-ml/snorkel/learning/disc_models/rnn/rnn_base.py:40: UserWarning: Candidate 754 has argument past max length for model:\t[arg ends at index 131; max len 117]\n",
      "  warnings.warn('\\t'.join([w.format(i), info]))\n",
      "/home/antonis/ipythonNotebooks/snorkel-ml/snorkel/learning/disc_models/rnn/rnn_base.py:40: UserWarning: Candidate 774 has argument past max length for model:\t[arg ends at index 160; max len 117]\n",
      "  warnings.warn('\\t'.join([w.format(i), info]))\n",
      "/home/antonis/ipythonNotebooks/snorkel-ml/snorkel/learning/disc_models/rnn/rnn_base.py:40: UserWarning: Candidate 775 has argument past max length for model:\t[arg ends at index 160; max len 117]\n",
      "  warnings.warn('\\t'.join([w.format(i), info]))\n",
      "/home/antonis/ipythonNotebooks/snorkel-ml/snorkel/learning/disc_models/rnn/rnn_base.py:40: UserWarning: Candidate 779 has argument past max length for model:\t[arg ends at index 160; max len 117]\n",
      "  warnings.warn('\\t'.join([w.format(i), info]))\n",
      "/home/antonis/ipythonNotebooks/snorkel-ml/snorkel/learning/disc_models/rnn/rnn_base.py:40: UserWarning: Candidate 781 has argument past max length for model:\t[arg ends at index 160; max len 117]\n",
      "  warnings.warn('\\t'.join([w.format(i), info]))\n",
      "/home/antonis/ipythonNotebooks/snorkel-ml/snorkel/learning/disc_models/rnn/rnn_base.py:40: UserWarning: Candidate 785 has argument past max length for model:\t[arg ends at index 131; max len 117]\n",
      "  warnings.warn('\\t'.join([w.format(i), info]))\n",
      "/home/antonis/ipythonNotebooks/snorkel-ml/snorkel/learning/disc_models/rnn/rnn_base.py:40: UserWarning: Candidate 794 has argument past max length for model:\t[arg ends at index 131; max len 117]\n",
      "  warnings.warn('\\t'.join([w.format(i), info]))\n",
      "/home/antonis/ipythonNotebooks/snorkel-ml/snorkel/learning/disc_models/rnn/rnn_base.py:40: UserWarning: Candidate 795 has argument past max length for model:\t[arg ends at index 137; max len 117]\n",
      "  warnings.warn('\\t'.join([w.format(i), info]))\n",
      "/home/antonis/ipythonNotebooks/snorkel-ml/snorkel/learning/disc_models/rnn/rnn_base.py:40: UserWarning: Candidate 805 has argument past max length for model:\t[arg ends at index 131; max len 117]\n",
      "  warnings.warn('\\t'.join([w.format(i), info]))\n",
      "/home/antonis/ipythonNotebooks/snorkel-ml/snorkel/learning/disc_models/rnn/rnn_base.py:40: UserWarning: Candidate 942 has argument past max length for model:\t[arg ends at index 117; max len 117]\n",
      "  warnings.warn('\\t'.join([w.format(i), info]))\n",
      "/home/antonis/ipythonNotebooks/snorkel-ml/snorkel/learning/disc_models/rnn/rnn_base.py:40: UserWarning: Candidate 744 has argument past max length for model:\t[arg ends at index 131; max len 117]\n",
      "  warnings.warn('\\t'.join([w.format(i), info]))\n",
      "/home/antonis/ipythonNotebooks/snorkel-ml/snorkel/learning/disc_models/rnn/rnn_base.py:40: UserWarning: Candidate 754 has argument past max length for model:\t[arg ends at index 131; max len 117]\n",
      "  warnings.warn('\\t'.join([w.format(i), info]))\n",
      "/home/antonis/ipythonNotebooks/snorkel-ml/snorkel/learning/disc_models/rnn/rnn_base.py:40: UserWarning: Candidate 774 has argument past max length for model:\t[arg ends at index 160; max len 117]\n",
      "  warnings.warn('\\t'.join([w.format(i), info]))\n",
      "/home/antonis/ipythonNotebooks/snorkel-ml/snorkel/learning/disc_models/rnn/rnn_base.py:40: UserWarning: Candidate 775 has argument past max length for model:\t[arg ends at index 160; max len 117]\n",
      "  warnings.warn('\\t'.join([w.format(i), info]))\n",
      "/home/antonis/ipythonNotebooks/snorkel-ml/snorkel/learning/disc_models/rnn/rnn_base.py:40: UserWarning: Candidate 779 has argument past max length for model:\t[arg ends at index 160; max len 117]\n",
      "  warnings.warn('\\t'.join([w.format(i), info]))\n",
      "/home/antonis/ipythonNotebooks/snorkel-ml/snorkel/learning/disc_models/rnn/rnn_base.py:40: UserWarning: Candidate 781 has argument past max length for model:\t[arg ends at index 160; max len 117]\n",
      "  warnings.warn('\\t'.join([w.format(i), info]))\n",
      "/home/antonis/ipythonNotebooks/snorkel-ml/snorkel/learning/disc_models/rnn/rnn_base.py:40: UserWarning: Candidate 785 has argument past max length for model:\t[arg ends at index 131; max len 117]\n",
      "  warnings.warn('\\t'.join([w.format(i), info]))\n",
      "/home/antonis/ipythonNotebooks/snorkel-ml/snorkel/learning/disc_models/rnn/rnn_base.py:40: UserWarning: Candidate 794 has argument past max length for model:\t[arg ends at index 131; max len 117]\n",
      "  warnings.warn('\\t'.join([w.format(i), info]))\n",
      "/home/antonis/ipythonNotebooks/snorkel-ml/snorkel/learning/disc_models/rnn/rnn_base.py:40: UserWarning: Candidate 795 has argument past max length for model:\t[arg ends at index 137; max len 117]\n",
      "  warnings.warn('\\t'.join([w.format(i), info]))\n",
      "/home/antonis/ipythonNotebooks/snorkel-ml/snorkel/learning/disc_models/rnn/rnn_base.py:40: UserWarning: Candidate 805 has argument past max length for model:\t[arg ends at index 131; max len 117]\n",
      "  warnings.warn('\\t'.join([w.format(i), info]))\n"
     ]
    },
    {
     "name": "stdout",
     "output_type": "stream",
     "text": [
      "MSE: [-0.2763937943046963, -0.2664217187404996, -0.26763203674144237]\n",
      "F1: [0.37081161578555466, 0.4038039502560351, 0.3910112359550562]\n"
     ]
    },
    {
     "name": "stderr",
     "output_type": "stream",
     "text": [
      "/home/antonis/ipythonNotebooks/snorkel-ml/snorkel/learning/disc_models/rnn/rnn_base.py:40: UserWarning: Candidate 777 has argument past max length for model:\t[arg ends at index 117; max len 117]\n",
      "  warnings.warn('\\t'.join([w.format(i), info]))\n",
      "/home/antonis/ipythonNotebooks/snorkel-ml/snorkel/learning/disc_models/rnn/rnn_base.py:40: UserWarning: Candidate 782 has argument past max length for model:\t[arg ends at index 117; max len 117]\n",
      "  warnings.warn('\\t'.join([w.format(i), info]))\n",
      "/home/antonis/ipythonNotebooks/snorkel-ml/snorkel/learning/disc_models/rnn/rnn_base.py:40: UserWarning: Candidate 786 has argument past max length for model:\t[arg ends at index 117; max len 117]\n",
      "  warnings.warn('\\t'.join([w.format(i), info]))\n",
      "/home/antonis/ipythonNotebooks/snorkel-ml/snorkel/learning/disc_models/rnn/rnn_base.py:40: UserWarning: Candidate 136 has argument past max length for model:\t[arg ends at index 131; max len 117]\n",
      "  warnings.warn('\\t'.join([w.format(i), info]))\n",
      "/home/antonis/ipythonNotebooks/snorkel-ml/snorkel/learning/disc_models/rnn/rnn_base.py:40: UserWarning: Candidate 141 has argument past max length for model:\t[arg ends at index 137; max len 117]\n",
      "  warnings.warn('\\t'.join([w.format(i), info]))\n",
      "/home/antonis/ipythonNotebooks/snorkel-ml/snorkel/learning/disc_models/rnn/rnn_base.py:40: UserWarning: Candidate 166 has argument past max length for model:\t[arg ends at index 164; max len 117]\n",
      "  warnings.warn('\\t'.join([w.format(i), info]))\n",
      "/home/antonis/ipythonNotebooks/snorkel-ml/snorkel/learning/disc_models/rnn/rnn_base.py:40: UserWarning: Candidate 169 has argument past max length for model:\t[arg ends at index 131; max len 117]\n",
      "  warnings.warn('\\t'.join([w.format(i), info]))\n",
      "/home/antonis/ipythonNotebooks/snorkel-ml/snorkel/learning/disc_models/rnn/rnn_base.py:40: UserWarning: Candidate 172 has argument past max length for model:\t[arg ends at index 137; max len 117]\n",
      "  warnings.warn('\\t'.join([w.format(i), info]))\n",
      "/home/antonis/ipythonNotebooks/snorkel-ml/snorkel/learning/disc_models/rnn/rnn_base.py:40: UserWarning: Candidate 190 has argument past max length for model:\t[arg ends at index 164; max len 117]\n",
      "  warnings.warn('\\t'.join([w.format(i), info]))\n",
      "/home/antonis/ipythonNotebooks/snorkel-ml/snorkel/learning/disc_models/rnn/rnn_base.py:40: UserWarning: Candidate 194 has argument past max length for model:\t[arg ends at index 131; max len 117]\n",
      "  warnings.warn('\\t'.join([w.format(i), info]))\n",
      "/home/antonis/ipythonNotebooks/snorkel-ml/snorkel/learning/disc_models/rnn/rnn_base.py:40: UserWarning: Candidate 196 has argument past max length for model:\t[arg ends at index 137; max len 117]\n",
      "  warnings.warn('\\t'.join([w.format(i), info]))\n",
      "/home/antonis/ipythonNotebooks/snorkel-ml/snorkel/learning/disc_models/rnn/rnn_base.py:40: UserWarning: Candidate 217 has argument past max length for model:\t[arg ends at index 164; max len 117]\n",
      "  warnings.warn('\\t'.join([w.format(i), info]))\n",
      "/home/antonis/ipythonNotebooks/snorkel-ml/snorkel/learning/disc_models/rnn/rnn_base.py:40: UserWarning: Candidate 220 has argument past max length for model:\t[arg ends at index 160; max len 117]\n",
      "  warnings.warn('\\t'.join([w.format(i), info]))\n",
      "/home/antonis/ipythonNotebooks/snorkel-ml/snorkel/learning/disc_models/rnn/rnn_base.py:40: UserWarning: Candidate 223 has argument past max length for model:\t[arg ends at index 160; max len 117]\n",
      "  warnings.warn('\\t'.join([w.format(i), info]))\n",
      "/home/antonis/ipythonNotebooks/snorkel-ml/snorkel/learning/disc_models/rnn/rnn_base.py:40: UserWarning: Candidate 226 has argument past max length for model:\t[arg ends at index 160; max len 117]\n",
      "  warnings.warn('\\t'.join([w.format(i), info]))\n",
      "/home/antonis/ipythonNotebooks/snorkel-ml/snorkel/learning/disc_models/rnn/rnn_base.py:40: UserWarning: Candidate 233 has argument past max length for model:\t[arg ends at index 160; max len 117]\n",
      "  warnings.warn('\\t'.join([w.format(i), info]))\n",
      "/home/antonis/ipythonNotebooks/snorkel-ml/snorkel/learning/disc_models/rnn/rnn_base.py:40: UserWarning: Candidate 238 has argument past max length for model:\t[arg ends at index 160; max len 117]\n",
      "  warnings.warn('\\t'.join([w.format(i), info]))\n",
      "/home/antonis/ipythonNotebooks/snorkel-ml/snorkel/learning/disc_models/rnn/rnn_base.py:40: UserWarning: Candidate 242 has argument past max length for model:\t[arg ends at index 160; max len 117]\n",
      "  warnings.warn('\\t'.join([w.format(i), info]))\n",
      "/home/antonis/ipythonNotebooks/snorkel-ml/snorkel/learning/disc_models/rnn/rnn_base.py:40: UserWarning: Candidate 248 has argument past max length for model:\t[arg ends at index 160; max len 117]\n",
      "  warnings.warn('\\t'.join([w.format(i), info]))\n",
      "/home/antonis/ipythonNotebooks/snorkel-ml/snorkel/learning/disc_models/rnn/rnn_base.py:40: UserWarning: Candidate 252 has argument past max length for model:\t[arg ends at index 164; max len 117]\n",
      "  warnings.warn('\\t'.join([w.format(i), info]))\n",
      "/home/antonis/ipythonNotebooks/snorkel-ml/snorkel/learning/disc_models/rnn/rnn_base.py:40: UserWarning: Candidate 256 has argument past max length for model:\t[arg ends at index 131; max len 117]\n",
      "  warnings.warn('\\t'.join([w.format(i), info]))\n",
      "/home/antonis/ipythonNotebooks/snorkel-ml/snorkel/learning/disc_models/rnn/rnn_base.py:40: UserWarning: Candidate 261 has argument past max length for model:\t[arg ends at index 137; max len 117]\n",
      "  warnings.warn('\\t'.join([w.format(i), info]))\n",
      "/home/antonis/ipythonNotebooks/snorkel-ml/snorkel/learning/disc_models/rnn/rnn_base.py:40: UserWarning: Candidate 284 has argument past max length for model:\t[arg ends at index 164; max len 117]\n",
      "  warnings.warn('\\t'.join([w.format(i), info]))\n",
      "/home/antonis/ipythonNotebooks/snorkel-ml/snorkel/learning/disc_models/rnn/rnn_base.py:40: UserWarning: Candidate 288 has argument past max length for model:\t[arg ends at index 131; max len 117]\n",
      "  warnings.warn('\\t'.join([w.format(i), info]))\n",
      "/home/antonis/ipythonNotebooks/snorkel-ml/snorkel/learning/disc_models/rnn/rnn_base.py:40: UserWarning: Candidate 293 has argument past max length for model:\t[arg ends at index 137; max len 117]\n",
      "  warnings.warn('\\t'.join([w.format(i), info]))\n",
      "/home/antonis/ipythonNotebooks/snorkel-ml/snorkel/learning/disc_models/rnn/rnn_base.py:40: UserWarning: Candidate 314 has argument past max length for model:\t[arg ends at index 164; max len 117]\n",
      "  warnings.warn('\\t'.join([w.format(i), info]))\n",
      "/home/antonis/ipythonNotebooks/snorkel-ml/snorkel/learning/disc_models/rnn/rnn_base.py:40: UserWarning: Candidate 319 has argument past max length for model:\t[arg ends at index 131; max len 117]\n",
      "  warnings.warn('\\t'.join([w.format(i), info]))\n",
      "/home/antonis/ipythonNotebooks/snorkel-ml/snorkel/learning/disc_models/rnn/rnn_base.py:40: UserWarning: Candidate 321 has argument past max length for model:\t[arg ends at index 137; max len 117]\n",
      "  warnings.warn('\\t'.join([w.format(i), info]))\n",
      "/home/antonis/ipythonNotebooks/snorkel-ml/snorkel/learning/disc_models/rnn/rnn_base.py:40: UserWarning: Candidate 340 has argument past max length for model:\t[arg ends at index 164; max len 117]\n",
      "  warnings.warn('\\t'.join([w.format(i), info]))\n",
      "/home/antonis/ipythonNotebooks/snorkel-ml/snorkel/learning/disc_models/rnn/rnn_base.py:40: UserWarning: Candidate 777 has argument past max length for model:\t[arg ends at index 117; max len 117]\n",
      "  warnings.warn('\\t'.join([w.format(i), info]))\n",
      "/home/antonis/ipythonNotebooks/snorkel-ml/snorkel/learning/disc_models/rnn/rnn_base.py:40: UserWarning: Candidate 782 has argument past max length for model:\t[arg ends at index 117; max len 117]\n",
      "  warnings.warn('\\t'.join([w.format(i), info]))\n",
      "/home/antonis/ipythonNotebooks/snorkel-ml/snorkel/learning/disc_models/rnn/rnn_base.py:40: UserWarning: Candidate 786 has argument past max length for model:\t[arg ends at index 117; max len 117]\n",
      "  warnings.warn('\\t'.join([w.format(i), info]))\n",
      "/home/antonis/ipythonNotebooks/snorkel-ml/snorkel/learning/disc_models/rnn/rnn_base.py:40: UserWarning: Candidate 136 has argument past max length for model:\t[arg ends at index 131; max len 117]\n",
      "  warnings.warn('\\t'.join([w.format(i), info]))\n",
      "/home/antonis/ipythonNotebooks/snorkel-ml/snorkel/learning/disc_models/rnn/rnn_base.py:40: UserWarning: Candidate 141 has argument past max length for model:\t[arg ends at index 137; max len 117]\n",
      "  warnings.warn('\\t'.join([w.format(i), info]))\n",
      "/home/antonis/ipythonNotebooks/snorkel-ml/snorkel/learning/disc_models/rnn/rnn_base.py:40: UserWarning: Candidate 166 has argument past max length for model:\t[arg ends at index 164; max len 117]\n",
      "  warnings.warn('\\t'.join([w.format(i), info]))\n",
      "/home/antonis/ipythonNotebooks/snorkel-ml/snorkel/learning/disc_models/rnn/rnn_base.py:40: UserWarning: Candidate 169 has argument past max length for model:\t[arg ends at index 131; max len 117]\n",
      "  warnings.warn('\\t'.join([w.format(i), info]))\n",
      "/home/antonis/ipythonNotebooks/snorkel-ml/snorkel/learning/disc_models/rnn/rnn_base.py:40: UserWarning: Candidate 172 has argument past max length for model:\t[arg ends at index 137; max len 117]\n",
      "  warnings.warn('\\t'.join([w.format(i), info]))\n",
      "/home/antonis/ipythonNotebooks/snorkel-ml/snorkel/learning/disc_models/rnn/rnn_base.py:40: UserWarning: Candidate 190 has argument past max length for model:\t[arg ends at index 164; max len 117]\n",
      "  warnings.warn('\\t'.join([w.format(i), info]))\n",
      "/home/antonis/ipythonNotebooks/snorkel-ml/snorkel/learning/disc_models/rnn/rnn_base.py:40: UserWarning: Candidate 194 has argument past max length for model:\t[arg ends at index 131; max len 117]\n",
      "  warnings.warn('\\t'.join([w.format(i), info]))\n",
      "/home/antonis/ipythonNotebooks/snorkel-ml/snorkel/learning/disc_models/rnn/rnn_base.py:40: UserWarning: Candidate 196 has argument past max length for model:\t[arg ends at index 137; max len 117]\n",
      "  warnings.warn('\\t'.join([w.format(i), info]))\n",
      "/home/antonis/ipythonNotebooks/snorkel-ml/snorkel/learning/disc_models/rnn/rnn_base.py:40: UserWarning: Candidate 217 has argument past max length for model:\t[arg ends at index 164; max len 117]\n",
      "  warnings.warn('\\t'.join([w.format(i), info]))\n",
      "/home/antonis/ipythonNotebooks/snorkel-ml/snorkel/learning/disc_models/rnn/rnn_base.py:40: UserWarning: Candidate 220 has argument past max length for model:\t[arg ends at index 160; max len 117]\n",
      "  warnings.warn('\\t'.join([w.format(i), info]))\n",
      "/home/antonis/ipythonNotebooks/snorkel-ml/snorkel/learning/disc_models/rnn/rnn_base.py:40: UserWarning: Candidate 223 has argument past max length for model:\t[arg ends at index 160; max len 117]\n",
      "  warnings.warn('\\t'.join([w.format(i), info]))\n",
      "/home/antonis/ipythonNotebooks/snorkel-ml/snorkel/learning/disc_models/rnn/rnn_base.py:40: UserWarning: Candidate 226 has argument past max length for model:\t[arg ends at index 160; max len 117]\n",
      "  warnings.warn('\\t'.join([w.format(i), info]))\n",
      "/home/antonis/ipythonNotebooks/snorkel-ml/snorkel/learning/disc_models/rnn/rnn_base.py:40: UserWarning: Candidate 233 has argument past max length for model:\t[arg ends at index 160; max len 117]\n",
      "  warnings.warn('\\t'.join([w.format(i), info]))\n",
      "/home/antonis/ipythonNotebooks/snorkel-ml/snorkel/learning/disc_models/rnn/rnn_base.py:40: UserWarning: Candidate 238 has argument past max length for model:\t[arg ends at index 160; max len 117]\n",
      "  warnings.warn('\\t'.join([w.format(i), info]))\n",
      "/home/antonis/ipythonNotebooks/snorkel-ml/snorkel/learning/disc_models/rnn/rnn_base.py:40: UserWarning: Candidate 242 has argument past max length for model:\t[arg ends at index 160; max len 117]\n",
      "  warnings.warn('\\t'.join([w.format(i), info]))\n",
      "/home/antonis/ipythonNotebooks/snorkel-ml/snorkel/learning/disc_models/rnn/rnn_base.py:40: UserWarning: Candidate 248 has argument past max length for model:\t[arg ends at index 160; max len 117]\n",
      "  warnings.warn('\\t'.join([w.format(i), info]))\n",
      "/home/antonis/ipythonNotebooks/snorkel-ml/snorkel/learning/disc_models/rnn/rnn_base.py:40: UserWarning: Candidate 252 has argument past max length for model:\t[arg ends at index 164; max len 117]\n",
      "  warnings.warn('\\t'.join([w.format(i), info]))\n",
      "/home/antonis/ipythonNotebooks/snorkel-ml/snorkel/learning/disc_models/rnn/rnn_base.py:40: UserWarning: Candidate 256 has argument past max length for model:\t[arg ends at index 131; max len 117]\n",
      "  warnings.warn('\\t'.join([w.format(i), info]))\n",
      "/home/antonis/ipythonNotebooks/snorkel-ml/snorkel/learning/disc_models/rnn/rnn_base.py:40: UserWarning: Candidate 261 has argument past max length for model:\t[arg ends at index 137; max len 117]\n",
      "  warnings.warn('\\t'.join([w.format(i), info]))\n",
      "/home/antonis/ipythonNotebooks/snorkel-ml/snorkel/learning/disc_models/rnn/rnn_base.py:40: UserWarning: Candidate 284 has argument past max length for model:\t[arg ends at index 164; max len 117]\n",
      "  warnings.warn('\\t'.join([w.format(i), info]))\n",
      "/home/antonis/ipythonNotebooks/snorkel-ml/snorkel/learning/disc_models/rnn/rnn_base.py:40: UserWarning: Candidate 288 has argument past max length for model:\t[arg ends at index 131; max len 117]\n",
      "  warnings.warn('\\t'.join([w.format(i), info]))\n",
      "/home/antonis/ipythonNotebooks/snorkel-ml/snorkel/learning/disc_models/rnn/rnn_base.py:40: UserWarning: Candidate 293 has argument past max length for model:\t[arg ends at index 137; max len 117]\n",
      "  warnings.warn('\\t'.join([w.format(i), info]))\n",
      "/home/antonis/ipythonNotebooks/snorkel-ml/snorkel/learning/disc_models/rnn/rnn_base.py:40: UserWarning: Candidate 314 has argument past max length for model:\t[arg ends at index 164; max len 117]\n",
      "  warnings.warn('\\t'.join([w.format(i), info]))\n",
      "/home/antonis/ipythonNotebooks/snorkel-ml/snorkel/learning/disc_models/rnn/rnn_base.py:40: UserWarning: Candidate 319 has argument past max length for model:\t[arg ends at index 131; max len 117]\n",
      "  warnings.warn('\\t'.join([w.format(i), info]))\n",
      "/home/antonis/ipythonNotebooks/snorkel-ml/snorkel/learning/disc_models/rnn/rnn_base.py:40: UserWarning: Candidate 321 has argument past max length for model:\t[arg ends at index 137; max len 117]\n",
      "  warnings.warn('\\t'.join([w.format(i), info]))\n",
      "/home/antonis/ipythonNotebooks/snorkel-ml/snorkel/learning/disc_models/rnn/rnn_base.py:40: UserWarning: Candidate 340 has argument past max length for model:\t[arg ends at index 164; max len 117]\n",
      "  warnings.warn('\\t'.join([w.format(i), info]))\n"
     ]
    },
    {
     "name": "stdout",
     "output_type": "stream",
     "text": [
      "<type 'numpy.ndarray'> <type 'list'>\n"
     ]
    },
    {
     "name": "stderr",
     "output_type": "stream",
     "text": [
      "/home/antonis/anaconda2/envs/snorkel27clone/lib/python2.7/site-packages/tensorflow/python/ops/gradients_impl.py:100: UserWarning: Converting sparse IndexedSlices to a dense Tensor of unknown shape. This may consume a large amount of memory.\n",
      "  \"Converting sparse IndexedSlices to a dense Tensor of unknown shape. \"\n"
     ]
    },
    {
     "name": "stdout",
     "output_type": "stream",
     "text": [
      "[reRNN] Training model\n",
      "[reRNN] n_train=3922  #epochs=30  batch size=64\n",
      "[reRNN] Epoch 0 (14.35s)\tAverage loss=0.569468\tDev F1=51.13\n",
      "[reRNN] Epoch 1 (31.94s)\tAverage loss=0.409951\tDev F1=47.92\n",
      "[reRNN] Model saved as <reRNN>\n",
      "[reRNN] Epoch 2 (49.71s)\tAverage loss=0.351254\tDev F1=42.06\n",
      "[reRNN] Epoch 3 (67.03s)\tAverage loss=0.317681\tDev F1=49.12\n",
      "[reRNN] Model saved as <reRNN>\n",
      "[reRNN] Epoch 4 (84.86s)\tAverage loss=0.299680\tDev F1=52.24\n",
      "[reRNN] Model saved as <reRNN>\n",
      "[reRNN] Epoch 5 (102.57s)\tAverage loss=0.284019\tDev F1=49.94\n",
      "[reRNN] Epoch 6 (120.11s)\tAverage loss=0.264809\tDev F1=51.51\n",
      "[reRNN] Epoch 7 (137.47s)\tAverage loss=0.253584\tDev F1=47.22\n",
      "[reRNN] Epoch 8 (154.89s)\tAverage loss=0.248263\tDev F1=50.66\n",
      "[reRNN] Epoch 9 (172.62s)\tAverage loss=0.237752\tDev F1=48.86\n",
      "[reRNN] Epoch 10 (190.34s)\tAverage loss=0.231630\tDev F1=49.00\n",
      "[reRNN] Epoch 11 (207.83s)\tAverage loss=0.236046\tDev F1=46.69\n",
      "[reRNN] Epoch 12 (225.53s)\tAverage loss=0.230839\tDev F1=49.90\n",
      "[reRNN] Epoch 13 (243.07s)\tAverage loss=0.229620\tDev F1=48.20\n",
      "[reRNN] Epoch 14 (260.54s)\tAverage loss=0.214399\tDev F1=49.20\n",
      "[reRNN] Epoch 15 (278.16s)\tAverage loss=0.205275\tDev F1=46.37\n",
      "[reRNN] Epoch 16 (295.99s)\tAverage loss=0.210127\tDev F1=49.57\n",
      "[reRNN] Epoch 17 (313.38s)\tAverage loss=0.212196\tDev F1=47.67\n",
      "[reRNN] Epoch 18 (330.84s)\tAverage loss=0.209301\tDev F1=47.44\n",
      "[reRNN] Epoch 19 (348.57s)\tAverage loss=0.206471\tDev F1=49.75\n",
      "[reRNN] Epoch 20 (366.34s)\tAverage loss=0.199301\tDev F1=49.80\n",
      "[reRNN] Epoch 21 (383.95s)\tAverage loss=0.195226\tDev F1=49.81\n",
      "[reRNN] Epoch 22 (401.63s)\tAverage loss=0.192075\tDev F1=49.48\n",
      "[reRNN] Epoch 23 (419.33s)\tAverage loss=0.190609\tDev F1=49.82\n",
      "[reRNN] Epoch 24 (437.09s)\tAverage loss=0.193174\tDev F1=49.77\n",
      "[reRNN] Epoch 25 (454.81s)\tAverage loss=0.190712\tDev F1=50.83\n",
      "[reRNN] Epoch 26 (472.48s)\tAverage loss=0.190117\tDev F1=49.86\n",
      "[reRNN] Epoch 27 (490.10s)\tAverage loss=0.194247\tDev F1=48.15\n",
      "[reRNN] Epoch 28 (507.81s)\tAverage loss=0.191495\tDev F1=50.37\n",
      "[reRNN] Epoch 29 (525.90s)\tAverage loss=0.188744\tDev F1=50.31\n",
      "[reRNN] Training done (529.68s)\n",
      "INFO:tensorflow:Restoring parameters from checkpoints/reRNN/reRNN-4\n",
      "[reRNN] Loaded model <reRNN>\n",
      "MSE: [-0.20054876220992005]\n",
      "F1: [0.5191489361702127]\n",
      "MSE: [-0.20054876220992005, -0.19536725967447013]\n",
      "F1: [0.5191489361702127, 0.5496091401082381]\n",
      "MSE: [-0.20054876220992005, -0.19536725967447013, -0.19914003956121576]\n",
      "F1: [0.5191489361702127, 0.5496091401082381, 0.5252774352651048]\n",
      "<type 'numpy.ndarray'> <type 'list'>\n"
     ]
    },
    {
     "name": "stderr",
     "output_type": "stream",
     "text": [
      "/home/antonis/anaconda2/envs/snorkel27clone/lib/python2.7/site-packages/tensorflow/python/ops/gradients_impl.py:100: UserWarning: Converting sparse IndexedSlices to a dense Tensor of unknown shape. This may consume a large amount of memory.\n",
      "  \"Converting sparse IndexedSlices to a dense Tensor of unknown shape. \"\n"
     ]
    },
    {
     "name": "stdout",
     "output_type": "stream",
     "text": [
      "[reRNN] Training model\n",
      "[reRNN] n_train=5150  #epochs=30  batch size=64\n",
      "[reRNN] Epoch 0 (18.96s)\tAverage loss=0.574138\tDev F1=54.15\n",
      "[reRNN] Epoch 1 (40.90s)\tAverage loss=0.425758\tDev F1=49.59\n",
      "[reRNN] Model saved as <reRNN>\n",
      "[reRNN] Epoch 2 (63.27s)\tAverage loss=0.383022\tDev F1=52.53\n",
      "[reRNN] Model saved as <reRNN>\n",
      "[reRNN] Epoch 3 (85.59s)\tAverage loss=0.362290\tDev F1=48.70\n",
      "[reRNN] Epoch 4 (107.35s)\tAverage loss=0.336402\tDev F1=53.89\n",
      "[reRNN] Model saved as <reRNN>\n",
      "[reRNN] Epoch 5 (129.85s)\tAverage loss=0.323702\tDev F1=52.46\n",
      "[reRNN] Epoch 6 (151.92s)\tAverage loss=0.305240\tDev F1=55.00\n",
      "[reRNN] Model saved as <reRNN>\n",
      "[reRNN] Epoch 7 (174.09s)\tAverage loss=0.290731\tDev F1=53.94\n",
      "[reRNN] Epoch 8 (196.33s)\tAverage loss=0.287749\tDev F1=53.51\n",
      "[reRNN] Epoch 9 (219.97s)\tAverage loss=0.283965\tDev F1=54.42\n",
      "[reRNN] Epoch 10 (242.26s)\tAverage loss=0.274715\tDev F1=52.53\n",
      "[reRNN] Epoch 11 (265.52s)\tAverage loss=0.263704\tDev F1=55.96\n",
      "[reRNN] Model saved as <reRNN>\n",
      "[reRNN] Epoch 12 (288.35s)\tAverage loss=0.262024\tDev F1=54.09\n",
      "[reRNN] Epoch 13 (310.69s)\tAverage loss=0.269259\tDev F1=52.20\n",
      "[reRNN] Epoch 14 (332.99s)\tAverage loss=0.272945\tDev F1=51.64\n",
      "[reRNN] Epoch 15 (355.33s)\tAverage loss=0.290225\tDev F1=55.94\n",
      "[reRNN] Epoch 16 (377.74s)\tAverage loss=0.267491\tDev F1=55.19\n",
      "[reRNN] Epoch 17 (400.17s)\tAverage loss=0.255134\tDev F1=57.00\n",
      "[reRNN] Model saved as <reRNN>\n",
      "[reRNN] Epoch 18 (422.51s)\tAverage loss=0.248832\tDev F1=55.95\n",
      "[reRNN] Epoch 19 (444.77s)\tAverage loss=0.243663\tDev F1=55.51\n",
      "[reRNN] Epoch 20 (466.98s)\tAverage loss=0.240976\tDev F1=55.38\n",
      "[reRNN] Epoch 21 (489.55s)\tAverage loss=0.240026\tDev F1=55.00\n",
      "[reRNN] Epoch 22 (511.78s)\tAverage loss=0.239639\tDev F1=55.02\n",
      "[reRNN] Epoch 23 (534.21s)\tAverage loss=0.237505\tDev F1=55.07\n",
      "[reRNN] Epoch 24 (556.14s)\tAverage loss=0.239252\tDev F1=55.23\n",
      "[reRNN] Epoch 25 (578.45s)\tAverage loss=0.237787\tDev F1=54.62\n",
      "[reRNN] Epoch 26 (600.68s)\tAverage loss=0.238362\tDev F1=55.14\n",
      "[reRNN] Epoch 27 (623.07s)\tAverage loss=0.238502\tDev F1=54.94\n",
      "[reRNN] Epoch 28 (645.27s)\tAverage loss=0.238160\tDev F1=54.88\n",
      "[reRNN] Epoch 29 (667.41s)\tAverage loss=0.239860\tDev F1=55.79\n",
      "[reRNN] Training done (671.22s)\n",
      "INFO:tensorflow:Restoring parameters from checkpoints/reRNN/reRNN-17\n",
      "[reRNN] Loaded model <reRNN>\n",
      "MSE: [-0.19465911099723465]\n",
      "F1: [0.5211081794195251]\n",
      "MSE: [-0.19465911099723465, -0.1882580130633045]\n",
      "F1: [0.5211081794195251, 0.5586519766688269]\n",
      "MSE: [-0.19465911099723465, -0.1882580130633045, -0.20520243573770872]\n",
      "F1: [0.5211081794195251, 0.5586519766688269, 0.4941022280471821]\n",
      "<type 'numpy.ndarray'> <type 'list'>\n"
     ]
    },
    {
     "name": "stderr",
     "output_type": "stream",
     "text": [
      "/home/antonis/anaconda2/envs/snorkel27clone/lib/python2.7/site-packages/tensorflow/python/ops/gradients_impl.py:100: UserWarning: Converting sparse IndexedSlices to a dense Tensor of unknown shape. This may consume a large amount of memory.\n",
      "  \"Converting sparse IndexedSlices to a dense Tensor of unknown shape. \"\n"
     ]
    },
    {
     "name": "stdout",
     "output_type": "stream",
     "text": [
      "[reRNN] Training model\n",
      "[reRNN] n_train=6512  #epochs=30  batch size=64\n",
      "[reRNN] Epoch 0 (24.22s)\tAverage loss=0.553147\tDev F1=47.08\n",
      "[reRNN] Epoch 1 (52.27s)\tAverage loss=0.428777\tDev F1=50.91\n",
      "[reRNN] Model saved as <reRNN>\n",
      "[reRNN] Epoch 2 (80.41s)\tAverage loss=0.385219\tDev F1=54.10\n",
      "[reRNN] Model saved as <reRNN>\n",
      "[reRNN] Epoch 3 (109.06s)\tAverage loss=0.357841\tDev F1=55.15\n",
      "[reRNN] Model saved as <reRNN>\n",
      "[reRNN] Epoch 4 (137.78s)\tAverage loss=0.338895\tDev F1=54.21\n",
      "[reRNN] Epoch 5 (166.45s)\tAverage loss=0.327103\tDev F1=53.62\n",
      "[reRNN] Epoch 6 (194.49s)\tAverage loss=0.315873\tDev F1=52.96\n",
      "[reRNN] Epoch 7 (223.14s)\tAverage loss=0.304909\tDev F1=54.99\n",
      "[reRNN] Epoch 8 (251.03s)\tAverage loss=0.297183\tDev F1=54.13\n",
      "[reRNN] Epoch 9 (279.81s)\tAverage loss=0.292275\tDev F1=55.22\n",
      "[reRNN] Model saved as <reRNN>\n",
      "[reRNN] Epoch 10 (307.71s)\tAverage loss=0.284912\tDev F1=55.28\n",
      "[reRNN] Model saved as <reRNN>\n",
      "[reRNN] Epoch 11 (335.98s)\tAverage loss=0.282557\tDev F1=54.30\n",
      "[reRNN] Epoch 12 (364.06s)\tAverage loss=0.277117\tDev F1=55.09\n",
      "[reRNN] Epoch 13 (392.28s)\tAverage loss=0.273797\tDev F1=56.00\n",
      "[reRNN] Model saved as <reRNN>\n",
      "[reRNN] Epoch 14 (420.22s)\tAverage loss=0.272119\tDev F1=56.04\n",
      "[reRNN] Model saved as <reRNN>\n",
      "[reRNN] Epoch 15 (448.41s)\tAverage loss=0.269638\tDev F1=55.58\n",
      "[reRNN] Epoch 16 (476.21s)\tAverage loss=0.268375\tDev F1=55.42\n",
      "[reRNN] Epoch 17 (504.87s)\tAverage loss=0.267816\tDev F1=54.69\n",
      "[reRNN] Epoch 18 (532.84s)\tAverage loss=0.276990\tDev F1=55.67\n",
      "[reRNN] Epoch 19 (561.18s)\tAverage loss=0.316880\tDev F1=51.70\n",
      "[reRNN] Epoch 20 (589.36s)\tAverage loss=0.309087\tDev F1=53.04\n",
      "[reRNN] Epoch 21 (617.38s)\tAverage loss=0.303814\tDev F1=53.08\n",
      "[reRNN] Epoch 22 (645.47s)\tAverage loss=0.290587\tDev F1=53.25\n",
      "[reRNN] Epoch 23 (673.57s)\tAverage loss=0.292938\tDev F1=51.52\n",
      "[reRNN] Epoch 24 (701.93s)\tAverage loss=0.294848\tDev F1=52.79\n",
      "[reRNN] Epoch 25 (730.05s)\tAverage loss=0.285764\tDev F1=51.80\n",
      "[reRNN] Epoch 26 (758.55s)\tAverage loss=0.281725\tDev F1=51.44\n",
      "[reRNN] Epoch 27 (786.80s)\tAverage loss=0.276596\tDev F1=52.82\n",
      "[reRNN] Epoch 28 (814.76s)\tAverage loss=0.273591\tDev F1=51.82\n",
      "[reRNN] Epoch 29 (843.17s)\tAverage loss=0.270503\tDev F1=52.51\n",
      "[reRNN] Training done (846.99s)\n",
      "INFO:tensorflow:Restoring parameters from checkpoints/reRNN/reRNN-14\n",
      "[reRNN] Loaded model <reRNN>\n",
      "MSE: [-0.1720396054656078]\n",
      "F1: [0.5659340659340659]\n",
      "MSE: [-0.1720396054656078, -0.1620880365567612]\n",
      "F1: [0.5659340659340659, 0.5944482058226134]\n",
      "MSE: [-0.1720396054656078, -0.1620880365567612, -0.16605259430003658]\n",
      "F1: [0.5659340659340659, 0.5944482058226134, 0.5718290119131044]\n",
      "<type 'numpy.ndarray'> <type 'list'>\n"
     ]
    },
    {
     "name": "stderr",
     "output_type": "stream",
     "text": [
      "/home/antonis/anaconda2/envs/snorkel27clone/lib/python2.7/site-packages/tensorflow/python/ops/gradients_impl.py:100: UserWarning: Converting sparse IndexedSlices to a dense Tensor of unknown shape. This may consume a large amount of memory.\n",
      "  \"Converting sparse IndexedSlices to a dense Tensor of unknown shape. \"\n"
     ]
    },
    {
     "name": "stdout",
     "output_type": "stream",
     "text": [
      "[reRNN] Training model\n",
      "[reRNN] n_train=7792  #epochs=30  batch size=64\n",
      "[reRNN] Epoch 0 (29.88s)\tAverage loss=0.547273\tDev F1=46.95\n",
      "[reRNN] Epoch 1 (63.27s)\tAverage loss=0.435034\tDev F1=54.61\n",
      "[reRNN] Model saved as <reRNN>\n",
      "[reRNN] Epoch 2 (96.67s)\tAverage loss=0.391940\tDev F1=56.27\n",
      "[reRNN] Model saved as <reRNN>\n",
      "[reRNN] Epoch 3 (129.96s)\tAverage loss=0.363192\tDev F1=56.51\n",
      "[reRNN] Model saved as <reRNN>\n",
      "[reRNN] Epoch 4 (163.55s)\tAverage loss=0.343990\tDev F1=56.59\n",
      "[reRNN] Model saved as <reRNN>\n",
      "[reRNN] Epoch 5 (196.99s)\tAverage loss=0.331430\tDev F1=56.06\n",
      "[reRNN] Epoch 6 (230.50s)\tAverage loss=0.320905\tDev F1=56.76\n",
      "[reRNN] Model saved as <reRNN>\n",
      "[reRNN] Epoch 7 (264.38s)\tAverage loss=0.327177\tDev F1=57.24\n",
      "[reRNN] Model saved as <reRNN>\n",
      "[reRNN] Epoch 8 (297.95s)\tAverage loss=0.333118\tDev F1=55.01\n",
      "[reRNN] Epoch 9 (331.24s)\tAverage loss=0.326953\tDev F1=55.19\n",
      "[reRNN] Epoch 10 (364.60s)\tAverage loss=0.319593\tDev F1=53.66\n",
      "[reRNN] Epoch 11 (397.87s)\tAverage loss=0.311678\tDev F1=55.91\n",
      "[reRNN] Epoch 12 (431.26s)\tAverage loss=0.303219\tDev F1=56.21\n",
      "[reRNN] Epoch 13 (464.50s)\tAverage loss=0.298883\tDev F1=56.02\n",
      "[reRNN] Epoch 14 (497.93s)\tAverage loss=0.296665\tDev F1=57.30\n",
      "[reRNN] Model saved as <reRNN>\n",
      "[reRNN] Epoch 15 (530.89s)\tAverage loss=0.294924\tDev F1=56.33\n",
      "[reRNN] Epoch 16 (564.10s)\tAverage loss=0.293741\tDev F1=57.18\n",
      "[reRNN] Epoch 17 (597.06s)\tAverage loss=0.293717\tDev F1=56.95\n",
      "[reRNN] Epoch 18 (630.64s)\tAverage loss=0.292599\tDev F1=57.03\n",
      "[reRNN] Epoch 19 (664.33s)\tAverage loss=0.292221\tDev F1=57.46\n",
      "[reRNN] Model saved as <reRNN>\n",
      "[reRNN] Epoch 20 (698.18s)\tAverage loss=0.295600\tDev F1=55.99\n",
      "[reRNN] Epoch 21 (731.61s)\tAverage loss=0.295040\tDev F1=57.14\n",
      "[reRNN] Epoch 22 (765.65s)\tAverage loss=0.296137\tDev F1=56.58\n",
      "[reRNN] Epoch 23 (799.09s)\tAverage loss=0.320352\tDev F1=54.41\n",
      "[reRNN] Epoch 24 (832.00s)\tAverage loss=0.339217\tDev F1=51.86\n",
      "[reRNN] Epoch 25 (865.84s)\tAverage loss=0.336788\tDev F1=53.76\n",
      "[reRNN] Epoch 26 (898.87s)\tAverage loss=0.325220\tDev F1=53.97\n",
      "[reRNN] Epoch 27 (932.07s)\tAverage loss=0.311853\tDev F1=54.43\n",
      "[reRNN] Epoch 28 (965.01s)\tAverage loss=0.309688\tDev F1=54.02\n",
      "[reRNN] Epoch 29 (998.66s)\tAverage loss=0.307861\tDev F1=54.27\n",
      "[reRNN] Training done (1002.55s)\n",
      "INFO:tensorflow:Restoring parameters from checkpoints/reRNN/reRNN-19\n",
      "[reRNN] Loaded model <reRNN>\n",
      "MSE: [-0.1664136273796484]\n",
      "F1: [0.5738161559888579]\n",
      "MSE: [-0.1664136273796484, -0.1570771395883392]\n",
      "F1: [0.5738161559888579, 0.6085790884718499]\n",
      "MSE: [-0.1664136273796484, -0.1570771395883392, -0.16785484245742982]\n",
      "F1: [0.5738161559888579, 0.6085790884718499, 0.5516749821810406]\n"
     ]
    }
   ],
   "source": [
    "## with LSTM (Gold ---> unlab )\n",
    "## with varying number of epochs (per training examples)\n",
    "\n",
    "train_kwargs = {\n",
    "    'lr':         0.01,\n",
    "    'dim':        100,\n",
    "    'n_epochs':   30,\n",
    "    'dropout':    0.25,\n",
    "    'rebalance':  True,\n",
    "    'print_freq': 1,\n",
    "    'batch_size': 64,\n",
    "    'dev_ckpt_delay': 0,\n",
    "    'X_dev': dev, \n",
    "    'Y_dev': L_gold_dev,\n",
    "    'verbose': False,\n",
    "}\n",
    "\n",
    "train_sizes, train_mse, train_f1, valid_mse , valid_f1 , test_prf1 = custom_learning_curve(\n",
    "    reRNN(seed=1701 ), \n",
    "    X_increm = unlab, y_increm = unlab_marginals_avg, \n",
    "    X_val = test, y_val = L_gold_test, \n",
    "    X_init= train, y_init= L_gold_train,\n",
    "    X_test = test, y_test = L_gold_test, \n",
    "    fit_params = train_kwargs,\n",
    "#                       splt_sizes=np.array([0.1, 0.5, 1.  ])\n",
    "                     )\n"
   ]
  },
  {
   "cell_type": "code",
   "execution_count": null,
   "metadata": {},
   "outputs": [],
   "source": []
  },
  {
   "cell_type": "code",
   "execution_count": 77,
   "metadata": {},
   "outputs": [],
   "source": [
    "with open(pkl_paths+\"learning_curves/lstm_AvgLbls_var_epochs.pickle\",'wb') as f:\n",
    "    pickle.dump((train_sizes, train_mse, train_f1, valid_mse , valid_f1 , test_prf1), f)"
   ]
  },
  {
   "cell_type": "code",
   "execution_count": 78,
   "metadata": {},
   "outputs": [
    {
     "data": {
      "text/plain": [
       "<module 'matplotlib.pyplot' from '/home/antonis/anaconda2/envs/snorkel27clone/lib/python2.7/site-packages/matplotlib/pyplot.pyc'>"
      ]
     },
     "execution_count": 78,
     "metadata": {},
     "output_type": "execute_result"
    },
    {
     "data": {
      "image/png": "[encoded data removed]",
      "text/plain": [
       "<Figure size 432x288 with 1 Axes>"
      ]
     },
     "metadata": {},
     "output_type": "display_data"
    },
    {
     "data": {
      "image/png": "[encoded data removed]",
      "text/plain": [
       "<Figure size 432x288 with 1 Axes>"
      ]
     },
     "metadata": {},
     "output_type": "display_data"
    }
   ],
   "source": [
    "\n",
    "plot_learning_curve(train_mse,valid_mse,train_sizes, 'Noisy-labeled LSTM MSE (Avg,var_epochs) (P=%.2f,R=%.2f,F1=%.2f)'%(test_prf1))\n",
    "\n",
    "plot_learning_curve(train_f1,valid_f1,train_sizes, title='Noisy-labeled LSTM (Avg,var_epochs) (P=%.2f,R=%.2f,F1=%.2f)'%(test_prf1))\n"
   ]
  },
  {
   "cell_type": "code",
   "execution_count": null,
   "metadata": {},
   "outputs": [],
   "source": []
  },
  {
   "cell_type": "markdown",
   "metadata": {},
   "source": [
    "** learning curve (stable number of epochs) **"
   ]
  },
  {
   "cell_type": "code",
   "execution_count": 79,
   "metadata": {},
   "outputs": [
    {
     "name": "stdout",
     "output_type": "stream",
     "text": [
      "[0.00000000e+00 1.11022302e-16 7.69230769e-02 1.53846154e-01\n",
      " 2.30769231e-01 3.07692308e-01 3.07692308e-01 3.84615385e-01\n",
      " 4.61538462e-01 5.38461538e-01 6.15384615e-01 6.92307692e-01\n",
      " 7.69230769e-01 8.46153846e-01 9.23076923e-01 1.00000000e+00\n",
      " 1.00000000e+00]\n",
      "<type 'numpy.ndarray'> <type 'list'>\n"
     ]
    },
    {
     "name": "stderr",
     "output_type": "stream",
     "text": [
      "/home/antonis/anaconda2/envs/snorkel27clone/lib/python2.7/site-packages/tensorflow/python/ops/gradients_impl.py:100: UserWarning: Converting sparse IndexedSlices to a dense Tensor of unknown shape. This may consume a large amount of memory.\n",
      "  \"Converting sparse IndexedSlices to a dense Tensor of unknown shape. \"\n"
     ]
    },
    {
     "name": "stdout",
     "output_type": "stream",
     "text": [
      "[reRNN] Training model\n",
      "[reRNN] n_train=2062  #epochs=30  batch size=64\n",
      "[reRNN] Epoch 0 (5.50s)\tAverage loss=0.585944\n",
      "[reRNN] Epoch 1 (10.67s)\tAverage loss=0.358400\n",
      "[reRNN] Epoch 2 (16.12s)\tAverage loss=0.268730\n",
      "[reRNN] Epoch 3 (21.67s)\tAverage loss=0.229886\n",
      "[reRNN] Epoch 4 (27.13s)\tAverage loss=0.200192\n",
      "[reRNN] Epoch 5 (32.49s)\tAverage loss=0.182312\n",
      "[reRNN] Epoch 6 (37.91s)\tAverage loss=0.173812\n",
      "[reRNN] Epoch 7 (43.36s)\tAverage loss=0.167843\n",
      "[reRNN] Epoch 8 (48.75s)\tAverage loss=0.155214\n",
      "[reRNN] Epoch 9 (54.04s)\tAverage loss=0.142196\n",
      "[reRNN] Epoch 10 (59.43s)\tAverage loss=0.128848\n",
      "[reRNN] Epoch 11 (64.89s)\tAverage loss=0.113051\n",
      "[reRNN] Epoch 12 (70.31s)\tAverage loss=0.110163\n",
      "[reRNN] Epoch 13 (75.80s)\tAverage loss=0.094763\n",
      "[reRNN] Epoch 14 (81.13s)\tAverage loss=0.080687\n",
      "[reRNN] Epoch 15 (86.53s)\tAverage loss=0.072832\n",
      "[reRNN] Epoch 16 (91.88s)\tAverage loss=0.057703\n",
      "[reRNN] Epoch 17 (97.20s)\tAverage loss=0.071479\n",
      "[reRNN] Epoch 18 (102.55s)\tAverage loss=0.056668\n",
      "[reRNN] Epoch 19 (107.95s)\tAverage loss=0.041068\n",
      "[reRNN] Epoch 20 (113.30s)\tAverage loss=0.034971\n",
      "[reRNN] Epoch 21 (118.67s)\tAverage loss=0.037591\n",
      "[reRNN] Epoch 22 (124.15s)\tAverage loss=0.034010\n",
      "[reRNN] Epoch 23 (129.42s)\tAverage loss=0.031006\n",
      "[reRNN] Epoch 24 (134.65s)\tAverage loss=0.030046\n",
      "[reRNN] Epoch 25 (139.93s)\tAverage loss=0.024782\n",
      "[reRNN] Epoch 26 (145.36s)\tAverage loss=0.026407\n",
      "[reRNN] Epoch 27 (150.75s)\tAverage loss=0.025034\n",
      "[reRNN] Epoch 28 (156.13s)\tAverage loss=0.018431\n",
      "[reRNN] Epoch 29 (161.50s)\tAverage loss=0.016510\n",
      "[reRNN] Training done (161.50s)\n"
     ]
    },
    {
     "name": "stderr",
     "output_type": "stream",
     "text": [
      "/home/antonis/ipythonNotebooks/snorkel-ml/snorkel/learning/disc_models/rnn/rnn_base.py:40: UserWarning: Candidate 950 has argument past max length for model:\t[arg ends at index 117; max len 117]\n",
      "  warnings.warn('\\t'.join([w.format(i), info]))\n",
      "/home/antonis/ipythonNotebooks/snorkel-ml/snorkel/learning/disc_models/rnn/rnn_base.py:40: UserWarning: Candidate 749 has argument past max length for model:\t[arg ends at index 164; max len 117]\n",
      "  warnings.warn('\\t'.join([w.format(i), info]))\n",
      "/home/antonis/ipythonNotebooks/snorkel-ml/snorkel/learning/disc_models/rnn/rnn_base.py:40: UserWarning: Candidate 751 has argument past max length for model:\t[arg ends at index 137; max len 117]\n",
      "  warnings.warn('\\t'.join([w.format(i), info]))\n",
      "/home/antonis/ipythonNotebooks/snorkel-ml/snorkel/learning/disc_models/rnn/rnn_base.py:40: UserWarning: Candidate 753 has argument past max length for model:\t[arg ends at index 164; max len 117]\n",
      "  warnings.warn('\\t'.join([w.format(i), info]))\n",
      "/home/antonis/ipythonNotebooks/snorkel-ml/snorkel/learning/disc_models/rnn/rnn_base.py:40: UserWarning: Candidate 755 has argument past max length for model:\t[arg ends at index 131; max len 117]\n",
      "  warnings.warn('\\t'.join([w.format(i), info]))\n",
      "/home/antonis/ipythonNotebooks/snorkel-ml/snorkel/learning/disc_models/rnn/rnn_base.py:40: UserWarning: Candidate 762 has argument past max length for model:\t[arg ends at index 164; max len 117]\n",
      "  warnings.warn('\\t'.join([w.format(i), info]))\n",
      "/home/antonis/ipythonNotebooks/snorkel-ml/snorkel/learning/disc_models/rnn/rnn_base.py:40: UserWarning: Candidate 772 has argument past max length for model:\t[arg ends at index 160; max len 117]\n",
      "  warnings.warn('\\t'.join([w.format(i), info]))\n",
      "/home/antonis/ipythonNotebooks/snorkel-ml/snorkel/learning/disc_models/rnn/rnn_base.py:40: UserWarning: Candidate 777 has argument past max length for model:\t[arg ends at index 137; max len 117]\n",
      "  warnings.warn('\\t'.join([w.format(i), info]))\n",
      "/home/antonis/ipythonNotebooks/snorkel-ml/snorkel/learning/disc_models/rnn/rnn_base.py:40: UserWarning: Candidate 793 has argument past max length for model:\t[arg ends at index 164; max len 117]\n",
      "  warnings.warn('\\t'.join([w.format(i), info]))\n",
      "/home/antonis/ipythonNotebooks/snorkel-ml/snorkel/learning/disc_models/rnn/rnn_base.py:40: UserWarning: Candidate 795 has argument past max length for model:\t[arg ends at index 137; max len 117]\n",
      "  warnings.warn('\\t'.join([w.format(i), info]))\n",
      "/home/antonis/ipythonNotebooks/snorkel-ml/snorkel/learning/disc_models/rnn/rnn_base.py:40: UserWarning: Candidate 802 has argument past max length for model:\t[arg ends at index 164; max len 117]\n",
      "  warnings.warn('\\t'.join([w.format(i), info]))\n",
      "/home/antonis/ipythonNotebooks/snorkel-ml/snorkel/learning/disc_models/rnn/rnn_base.py:40: UserWarning: Candidate 950 has argument past max length for model:\t[arg ends at index 117; max len 117]\n",
      "  warnings.warn('\\t'.join([w.format(i), info]))\n",
      "/home/antonis/ipythonNotebooks/snorkel-ml/snorkel/learning/disc_models/rnn/rnn_base.py:40: UserWarning: Candidate 749 has argument past max length for model:\t[arg ends at index 164; max len 117]\n",
      "  warnings.warn('\\t'.join([w.format(i), info]))\n",
      "/home/antonis/ipythonNotebooks/snorkel-ml/snorkel/learning/disc_models/rnn/rnn_base.py:40: UserWarning: Candidate 751 has argument past max length for model:\t[arg ends at index 137; max len 117]\n",
      "  warnings.warn('\\t'.join([w.format(i), info]))\n",
      "/home/antonis/ipythonNotebooks/snorkel-ml/snorkel/learning/disc_models/rnn/rnn_base.py:40: UserWarning: Candidate 753 has argument past max length for model:\t[arg ends at index 164; max len 117]\n",
      "  warnings.warn('\\t'.join([w.format(i), info]))\n",
      "/home/antonis/ipythonNotebooks/snorkel-ml/snorkel/learning/disc_models/rnn/rnn_base.py:40: UserWarning: Candidate 755 has argument past max length for model:\t[arg ends at index 131; max len 117]\n",
      "  warnings.warn('\\t'.join([w.format(i), info]))\n",
      "/home/antonis/ipythonNotebooks/snorkel-ml/snorkel/learning/disc_models/rnn/rnn_base.py:40: UserWarning: Candidate 762 has argument past max length for model:\t[arg ends at index 164; max len 117]\n",
      "  warnings.warn('\\t'.join([w.format(i), info]))\n",
      "/home/antonis/ipythonNotebooks/snorkel-ml/snorkel/learning/disc_models/rnn/rnn_base.py:40: UserWarning: Candidate 772 has argument past max length for model:\t[arg ends at index 160; max len 117]\n",
      "  warnings.warn('\\t'.join([w.format(i), info]))\n",
      "/home/antonis/ipythonNotebooks/snorkel-ml/snorkel/learning/disc_models/rnn/rnn_base.py:40: UserWarning: Candidate 777 has argument past max length for model:\t[arg ends at index 137; max len 117]\n",
      "  warnings.warn('\\t'.join([w.format(i), info]))\n",
      "/home/antonis/ipythonNotebooks/snorkel-ml/snorkel/learning/disc_models/rnn/rnn_base.py:40: UserWarning: Candidate 793 has argument past max length for model:\t[arg ends at index 164; max len 117]\n",
      "  warnings.warn('\\t'.join([w.format(i), info]))\n",
      "/home/antonis/ipythonNotebooks/snorkel-ml/snorkel/learning/disc_models/rnn/rnn_base.py:40: UserWarning: Candidate 795 has argument past max length for model:\t[arg ends at index 137; max len 117]\n",
      "  warnings.warn('\\t'.join([w.format(i), info]))\n",
      "/home/antonis/ipythonNotebooks/snorkel-ml/snorkel/learning/disc_models/rnn/rnn_base.py:40: UserWarning: Candidate 802 has argument past max length for model:\t[arg ends at index 164; max len 117]\n",
      "  warnings.warn('\\t'.join([w.format(i), info]))\n"
     ]
    },
    {
     "name": "stdout",
     "output_type": "stream",
     "text": [
      "MSE: [-0.3211804166831542]\n",
      "F1: [0.4105716041794714]\n"
     ]
    },
    {
     "name": "stderr",
     "output_type": "stream",
     "text": [
      "/home/antonis/ipythonNotebooks/snorkel-ml/snorkel/learning/disc_models/rnn/rnn_base.py:40: UserWarning: Candidate 935 has argument past max length for model:\t[arg ends at index 117; max len 117]\n",
      "  warnings.warn('\\t'.join([w.format(i), info]))\n",
      "/home/antonis/ipythonNotebooks/snorkel-ml/snorkel/learning/disc_models/rnn/rnn_base.py:40: UserWarning: Candidate 700 has argument past max length for model:\t[arg ends at index 137; max len 117]\n",
      "  warnings.warn('\\t'.join([w.format(i), info]))\n",
      "/home/antonis/ipythonNotebooks/snorkel-ml/snorkel/learning/disc_models/rnn/rnn_base.py:40: UserWarning: Candidate 721 has argument past max length for model:\t[arg ends at index 137; max len 117]\n",
      "  warnings.warn('\\t'.join([w.format(i), info]))\n",
      "/home/antonis/ipythonNotebooks/snorkel-ml/snorkel/learning/disc_models/rnn/rnn_base.py:40: UserWarning: Candidate 730 has argument past max length for model:\t[arg ends at index 160; max len 117]\n",
      "  warnings.warn('\\t'.join([w.format(i), info]))\n",
      "/home/antonis/ipythonNotebooks/snorkel-ml/snorkel/learning/disc_models/rnn/rnn_base.py:40: UserWarning: Candidate 737 has argument past max length for model:\t[arg ends at index 160; max len 117]\n",
      "  warnings.warn('\\t'.join([w.format(i), info]))\n",
      "/home/antonis/ipythonNotebooks/snorkel-ml/snorkel/learning/disc_models/rnn/rnn_base.py:40: UserWarning: Candidate 742 has argument past max length for model:\t[arg ends at index 164; max len 117]\n",
      "  warnings.warn('\\t'.join([w.format(i), info]))\n",
      "/home/antonis/ipythonNotebooks/snorkel-ml/snorkel/learning/disc_models/rnn/rnn_base.py:40: UserWarning: Candidate 754 has argument past max length for model:\t[arg ends at index 164; max len 117]\n",
      "  warnings.warn('\\t'.join([w.format(i), info]))\n",
      "/home/antonis/ipythonNotebooks/snorkel-ml/snorkel/learning/disc_models/rnn/rnn_base.py:40: UserWarning: Candidate 935 has argument past max length for model:\t[arg ends at index 117; max len 117]\n",
      "  warnings.warn('\\t'.join([w.format(i), info]))\n",
      "/home/antonis/ipythonNotebooks/snorkel-ml/snorkel/learning/disc_models/rnn/rnn_base.py:40: UserWarning: Candidate 700 has argument past max length for model:\t[arg ends at index 137; max len 117]\n",
      "  warnings.warn('\\t'.join([w.format(i), info]))\n",
      "/home/antonis/ipythonNotebooks/snorkel-ml/snorkel/learning/disc_models/rnn/rnn_base.py:40: UserWarning: Candidate 721 has argument past max length for model:\t[arg ends at index 137; max len 117]\n",
      "  warnings.warn('\\t'.join([w.format(i), info]))\n",
      "/home/antonis/ipythonNotebooks/snorkel-ml/snorkel/learning/disc_models/rnn/rnn_base.py:40: UserWarning: Candidate 730 has argument past max length for model:\t[arg ends at index 160; max len 117]\n",
      "  warnings.warn('\\t'.join([w.format(i), info]))\n",
      "/home/antonis/ipythonNotebooks/snorkel-ml/snorkel/learning/disc_models/rnn/rnn_base.py:40: UserWarning: Candidate 737 has argument past max length for model:\t[arg ends at index 160; max len 117]\n",
      "  warnings.warn('\\t'.join([w.format(i), info]))\n",
      "/home/antonis/ipythonNotebooks/snorkel-ml/snorkel/learning/disc_models/rnn/rnn_base.py:40: UserWarning: Candidate 742 has argument past max length for model:\t[arg ends at index 164; max len 117]\n",
      "  warnings.warn('\\t'.join([w.format(i), info]))\n",
      "/home/antonis/ipythonNotebooks/snorkel-ml/snorkel/learning/disc_models/rnn/rnn_base.py:40: UserWarning: Candidate 754 has argument past max length for model:\t[arg ends at index 164; max len 117]\n",
      "  warnings.warn('\\t'.join([w.format(i), info]))\n"
     ]
    },
    {
     "name": "stdout",
     "output_type": "stream",
     "text": [
      "MSE: [-0.3211804166831542, -0.33219247651405254]\n",
      "F1: [0.4105716041794714, 0.3956043956043956]\n"
     ]
    },
    {
     "name": "stderr",
     "output_type": "stream",
     "text": [
      "/home/antonis/ipythonNotebooks/snorkel-ml/snorkel/learning/disc_models/rnn/rnn_base.py:40: UserWarning: Candidate 942 has argument past max length for model:\t[arg ends at index 117; max len 117]\n",
      "  warnings.warn('\\t'.join([w.format(i), info]))\n",
      "/home/antonis/ipythonNotebooks/snorkel-ml/snorkel/learning/disc_models/rnn/rnn_base.py:40: UserWarning: Candidate 744 has argument past max length for model:\t[arg ends at index 131; max len 117]\n",
      "  warnings.warn('\\t'.join([w.format(i), info]))\n",
      "/home/antonis/ipythonNotebooks/snorkel-ml/snorkel/learning/disc_models/rnn/rnn_base.py:40: UserWarning: Candidate 754 has argument past max length for model:\t[arg ends at index 131; max len 117]\n",
      "  warnings.warn('\\t'.join([w.format(i), info]))\n",
      "/home/antonis/ipythonNotebooks/snorkel-ml/snorkel/learning/disc_models/rnn/rnn_base.py:40: UserWarning: Candidate 774 has argument past max length for model:\t[arg ends at index 160; max len 117]\n",
      "  warnings.warn('\\t'.join([w.format(i), info]))\n",
      "/home/antonis/ipythonNotebooks/snorkel-ml/snorkel/learning/disc_models/rnn/rnn_base.py:40: UserWarning: Candidate 775 has argument past max length for model:\t[arg ends at index 160; max len 117]\n",
      "  warnings.warn('\\t'.join([w.format(i), info]))\n",
      "/home/antonis/ipythonNotebooks/snorkel-ml/snorkel/learning/disc_models/rnn/rnn_base.py:40: UserWarning: Candidate 779 has argument past max length for model:\t[arg ends at index 160; max len 117]\n",
      "  warnings.warn('\\t'.join([w.format(i), info]))\n",
      "/home/antonis/ipythonNotebooks/snorkel-ml/snorkel/learning/disc_models/rnn/rnn_base.py:40: UserWarning: Candidate 781 has argument past max length for model:\t[arg ends at index 160; max len 117]\n",
      "  warnings.warn('\\t'.join([w.format(i), info]))\n",
      "/home/antonis/ipythonNotebooks/snorkel-ml/snorkel/learning/disc_models/rnn/rnn_base.py:40: UserWarning: Candidate 785 has argument past max length for model:\t[arg ends at index 131; max len 117]\n",
      "  warnings.warn('\\t'.join([w.format(i), info]))\n",
      "/home/antonis/ipythonNotebooks/snorkel-ml/snorkel/learning/disc_models/rnn/rnn_base.py:40: UserWarning: Candidate 794 has argument past max length for model:\t[arg ends at index 131; max len 117]\n",
      "  warnings.warn('\\t'.join([w.format(i), info]))\n",
      "/home/antonis/ipythonNotebooks/snorkel-ml/snorkel/learning/disc_models/rnn/rnn_base.py:40: UserWarning: Candidate 795 has argument past max length for model:\t[arg ends at index 137; max len 117]\n",
      "  warnings.warn('\\t'.join([w.format(i), info]))\n",
      "/home/antonis/ipythonNotebooks/snorkel-ml/snorkel/learning/disc_models/rnn/rnn_base.py:40: UserWarning: Candidate 805 has argument past max length for model:\t[arg ends at index 131; max len 117]\n",
      "  warnings.warn('\\t'.join([w.format(i), info]))\n",
      "/home/antonis/ipythonNotebooks/snorkel-ml/snorkel/learning/disc_models/rnn/rnn_base.py:40: UserWarning: Candidate 942 has argument past max length for model:\t[arg ends at index 117; max len 117]\n",
      "  warnings.warn('\\t'.join([w.format(i), info]))\n",
      "/home/antonis/ipythonNotebooks/snorkel-ml/snorkel/learning/disc_models/rnn/rnn_base.py:40: UserWarning: Candidate 744 has argument past max length for model:\t[arg ends at index 131; max len 117]\n",
      "  warnings.warn('\\t'.join([w.format(i), info]))\n",
      "/home/antonis/ipythonNotebooks/snorkel-ml/snorkel/learning/disc_models/rnn/rnn_base.py:40: UserWarning: Candidate 754 has argument past max length for model:\t[arg ends at index 131; max len 117]\n",
      "  warnings.warn('\\t'.join([w.format(i), info]))\n",
      "/home/antonis/ipythonNotebooks/snorkel-ml/snorkel/learning/disc_models/rnn/rnn_base.py:40: UserWarning: Candidate 774 has argument past max length for model:\t[arg ends at index 160; max len 117]\n",
      "  warnings.warn('\\t'.join([w.format(i), info]))\n",
      "/home/antonis/ipythonNotebooks/snorkel-ml/snorkel/learning/disc_models/rnn/rnn_base.py:40: UserWarning: Candidate 775 has argument past max length for model:\t[arg ends at index 160; max len 117]\n",
      "  warnings.warn('\\t'.join([w.format(i), info]))\n",
      "/home/antonis/ipythonNotebooks/snorkel-ml/snorkel/learning/disc_models/rnn/rnn_base.py:40: UserWarning: Candidate 779 has argument past max length for model:\t[arg ends at index 160; max len 117]\n",
      "  warnings.warn('\\t'.join([w.format(i), info]))\n",
      "/home/antonis/ipythonNotebooks/snorkel-ml/snorkel/learning/disc_models/rnn/rnn_base.py:40: UserWarning: Candidate 781 has argument past max length for model:\t[arg ends at index 160; max len 117]\n",
      "  warnings.warn('\\t'.join([w.format(i), info]))\n",
      "/home/antonis/ipythonNotebooks/snorkel-ml/snorkel/learning/disc_models/rnn/rnn_base.py:40: UserWarning: Candidate 785 has argument past max length for model:\t[arg ends at index 131; max len 117]\n",
      "  warnings.warn('\\t'.join([w.format(i), info]))\n",
      "/home/antonis/ipythonNotebooks/snorkel-ml/snorkel/learning/disc_models/rnn/rnn_base.py:40: UserWarning: Candidate 794 has argument past max length for model:\t[arg ends at index 131; max len 117]\n",
      "  warnings.warn('\\t'.join([w.format(i), info]))\n",
      "/home/antonis/ipythonNotebooks/snorkel-ml/snorkel/learning/disc_models/rnn/rnn_base.py:40: UserWarning: Candidate 795 has argument past max length for model:\t[arg ends at index 137; max len 117]\n",
      "  warnings.warn('\\t'.join([w.format(i), info]))\n",
      "/home/antonis/ipythonNotebooks/snorkel-ml/snorkel/learning/disc_models/rnn/rnn_base.py:40: UserWarning: Candidate 805 has argument past max length for model:\t[arg ends at index 131; max len 117]\n",
      "  warnings.warn('\\t'.join([w.format(i), info]))\n"
     ]
    },
    {
     "name": "stdout",
     "output_type": "stream",
     "text": [
      "MSE: [-0.3211804166831542, -0.33219247651405254, -0.32638051709230154]\n",
      "F1: [0.4105716041794714, 0.3956043956043956, 0.3957685127566895]\n"
     ]
    },
    {
     "name": "stderr",
     "output_type": "stream",
     "text": [
      "/home/antonis/ipythonNotebooks/snorkel-ml/snorkel/learning/disc_models/rnn/rnn_base.py:40: UserWarning: Candidate 777 has argument past max length for model:\t[arg ends at index 117; max len 117]\n",
      "  warnings.warn('\\t'.join([w.format(i), info]))\n",
      "/home/antonis/ipythonNotebooks/snorkel-ml/snorkel/learning/disc_models/rnn/rnn_base.py:40: UserWarning: Candidate 782 has argument past max length for model:\t[arg ends at index 117; max len 117]\n",
      "  warnings.warn('\\t'.join([w.format(i), info]))\n",
      "/home/antonis/ipythonNotebooks/snorkel-ml/snorkel/learning/disc_models/rnn/rnn_base.py:40: UserWarning: Candidate 786 has argument past max length for model:\t[arg ends at index 117; max len 117]\n",
      "  warnings.warn('\\t'.join([w.format(i), info]))\n",
      "/home/antonis/ipythonNotebooks/snorkel-ml/snorkel/learning/disc_models/rnn/rnn_base.py:40: UserWarning: Candidate 136 has argument past max length for model:\t[arg ends at index 131; max len 117]\n",
      "  warnings.warn('\\t'.join([w.format(i), info]))\n",
      "/home/antonis/ipythonNotebooks/snorkel-ml/snorkel/learning/disc_models/rnn/rnn_base.py:40: UserWarning: Candidate 141 has argument past max length for model:\t[arg ends at index 137; max len 117]\n",
      "  warnings.warn('\\t'.join([w.format(i), info]))\n",
      "/home/antonis/ipythonNotebooks/snorkel-ml/snorkel/learning/disc_models/rnn/rnn_base.py:40: UserWarning: Candidate 166 has argument past max length for model:\t[arg ends at index 164; max len 117]\n",
      "  warnings.warn('\\t'.join([w.format(i), info]))\n",
      "/home/antonis/ipythonNotebooks/snorkel-ml/snorkel/learning/disc_models/rnn/rnn_base.py:40: UserWarning: Candidate 169 has argument past max length for model:\t[arg ends at index 131; max len 117]\n",
      "  warnings.warn('\\t'.join([w.format(i), info]))\n",
      "/home/antonis/ipythonNotebooks/snorkel-ml/snorkel/learning/disc_models/rnn/rnn_base.py:40: UserWarning: Candidate 172 has argument past max length for model:\t[arg ends at index 137; max len 117]\n",
      "  warnings.warn('\\t'.join([w.format(i), info]))\n",
      "/home/antonis/ipythonNotebooks/snorkel-ml/snorkel/learning/disc_models/rnn/rnn_base.py:40: UserWarning: Candidate 190 has argument past max length for model:\t[arg ends at index 164; max len 117]\n",
      "  warnings.warn('\\t'.join([w.format(i), info]))\n",
      "/home/antonis/ipythonNotebooks/snorkel-ml/snorkel/learning/disc_models/rnn/rnn_base.py:40: UserWarning: Candidate 194 has argument past max length for model:\t[arg ends at index 131; max len 117]\n",
      "  warnings.warn('\\t'.join([w.format(i), info]))\n",
      "/home/antonis/ipythonNotebooks/snorkel-ml/snorkel/learning/disc_models/rnn/rnn_base.py:40: UserWarning: Candidate 196 has argument past max length for model:\t[arg ends at index 137; max len 117]\n",
      "  warnings.warn('\\t'.join([w.format(i), info]))\n",
      "/home/antonis/ipythonNotebooks/snorkel-ml/snorkel/learning/disc_models/rnn/rnn_base.py:40: UserWarning: Candidate 217 has argument past max length for model:\t[arg ends at index 164; max len 117]\n",
      "  warnings.warn('\\t'.join([w.format(i), info]))\n",
      "/home/antonis/ipythonNotebooks/snorkel-ml/snorkel/learning/disc_models/rnn/rnn_base.py:40: UserWarning: Candidate 220 has argument past max length for model:\t[arg ends at index 160; max len 117]\n",
      "  warnings.warn('\\t'.join([w.format(i), info]))\n",
      "/home/antonis/ipythonNotebooks/snorkel-ml/snorkel/learning/disc_models/rnn/rnn_base.py:40: UserWarning: Candidate 223 has argument past max length for model:\t[arg ends at index 160; max len 117]\n",
      "  warnings.warn('\\t'.join([w.format(i), info]))\n",
      "/home/antonis/ipythonNotebooks/snorkel-ml/snorkel/learning/disc_models/rnn/rnn_base.py:40: UserWarning: Candidate 226 has argument past max length for model:\t[arg ends at index 160; max len 117]\n",
      "  warnings.warn('\\t'.join([w.format(i), info]))\n",
      "/home/antonis/ipythonNotebooks/snorkel-ml/snorkel/learning/disc_models/rnn/rnn_base.py:40: UserWarning: Candidate 233 has argument past max length for model:\t[arg ends at index 160; max len 117]\n",
      "  warnings.warn('\\t'.join([w.format(i), info]))\n",
      "/home/antonis/ipythonNotebooks/snorkel-ml/snorkel/learning/disc_models/rnn/rnn_base.py:40: UserWarning: Candidate 238 has argument past max length for model:\t[arg ends at index 160; max len 117]\n",
      "  warnings.warn('\\t'.join([w.format(i), info]))\n",
      "/home/antonis/ipythonNotebooks/snorkel-ml/snorkel/learning/disc_models/rnn/rnn_base.py:40: UserWarning: Candidate 242 has argument past max length for model:\t[arg ends at index 160; max len 117]\n",
      "  warnings.warn('\\t'.join([w.format(i), info]))\n",
      "/home/antonis/ipythonNotebooks/snorkel-ml/snorkel/learning/disc_models/rnn/rnn_base.py:40: UserWarning: Candidate 248 has argument past max length for model:\t[arg ends at index 160; max len 117]\n",
      "  warnings.warn('\\t'.join([w.format(i), info]))\n",
      "/home/antonis/ipythonNotebooks/snorkel-ml/snorkel/learning/disc_models/rnn/rnn_base.py:40: UserWarning: Candidate 252 has argument past max length for model:\t[arg ends at index 164; max len 117]\n",
      "  warnings.warn('\\t'.join([w.format(i), info]))\n",
      "/home/antonis/ipythonNotebooks/snorkel-ml/snorkel/learning/disc_models/rnn/rnn_base.py:40: UserWarning: Candidate 256 has argument past max length for model:\t[arg ends at index 131; max len 117]\n",
      "  warnings.warn('\\t'.join([w.format(i), info]))\n",
      "/home/antonis/ipythonNotebooks/snorkel-ml/snorkel/learning/disc_models/rnn/rnn_base.py:40: UserWarning: Candidate 261 has argument past max length for model:\t[arg ends at index 137; max len 117]\n",
      "  warnings.warn('\\t'.join([w.format(i), info]))\n",
      "/home/antonis/ipythonNotebooks/snorkel-ml/snorkel/learning/disc_models/rnn/rnn_base.py:40: UserWarning: Candidate 284 has argument past max length for model:\t[arg ends at index 164; max len 117]\n",
      "  warnings.warn('\\t'.join([w.format(i), info]))\n",
      "/home/antonis/ipythonNotebooks/snorkel-ml/snorkel/learning/disc_models/rnn/rnn_base.py:40: UserWarning: Candidate 288 has argument past max length for model:\t[arg ends at index 131; max len 117]\n",
      "  warnings.warn('\\t'.join([w.format(i), info]))\n",
      "/home/antonis/ipythonNotebooks/snorkel-ml/snorkel/learning/disc_models/rnn/rnn_base.py:40: UserWarning: Candidate 293 has argument past max length for model:\t[arg ends at index 137; max len 117]\n",
      "  warnings.warn('\\t'.join([w.format(i), info]))\n",
      "/home/antonis/ipythonNotebooks/snorkel-ml/snorkel/learning/disc_models/rnn/rnn_base.py:40: UserWarning: Candidate 314 has argument past max length for model:\t[arg ends at index 164; max len 117]\n",
      "  warnings.warn('\\t'.join([w.format(i), info]))\n",
      "/home/antonis/ipythonNotebooks/snorkel-ml/snorkel/learning/disc_models/rnn/rnn_base.py:40: UserWarning: Candidate 319 has argument past max length for model:\t[arg ends at index 131; max len 117]\n",
      "  warnings.warn('\\t'.join([w.format(i), info]))\n",
      "/home/antonis/ipythonNotebooks/snorkel-ml/snorkel/learning/disc_models/rnn/rnn_base.py:40: UserWarning: Candidate 321 has argument past max length for model:\t[arg ends at index 137; max len 117]\n",
      "  warnings.warn('\\t'.join([w.format(i), info]))\n",
      "/home/antonis/ipythonNotebooks/snorkel-ml/snorkel/learning/disc_models/rnn/rnn_base.py:40: UserWarning: Candidate 340 has argument past max length for model:\t[arg ends at index 164; max len 117]\n",
      "  warnings.warn('\\t'.join([w.format(i), info]))\n",
      "/home/antonis/ipythonNotebooks/snorkel-ml/snorkel/learning/disc_models/rnn/rnn_base.py:40: UserWarning: Candidate 777 has argument past max length for model:\t[arg ends at index 117; max len 117]\n",
      "  warnings.warn('\\t'.join([w.format(i), info]))\n",
      "/home/antonis/ipythonNotebooks/snorkel-ml/snorkel/learning/disc_models/rnn/rnn_base.py:40: UserWarning: Candidate 782 has argument past max length for model:\t[arg ends at index 117; max len 117]\n",
      "  warnings.warn('\\t'.join([w.format(i), info]))\n",
      "/home/antonis/ipythonNotebooks/snorkel-ml/snorkel/learning/disc_models/rnn/rnn_base.py:40: UserWarning: Candidate 786 has argument past max length for model:\t[arg ends at index 117; max len 117]\n",
      "  warnings.warn('\\t'.join([w.format(i), info]))\n",
      "/home/antonis/ipythonNotebooks/snorkel-ml/snorkel/learning/disc_models/rnn/rnn_base.py:40: UserWarning: Candidate 136 has argument past max length for model:\t[arg ends at index 131; max len 117]\n",
      "  warnings.warn('\\t'.join([w.format(i), info]))\n",
      "/home/antonis/ipythonNotebooks/snorkel-ml/snorkel/learning/disc_models/rnn/rnn_base.py:40: UserWarning: Candidate 141 has argument past max length for model:\t[arg ends at index 137; max len 117]\n",
      "  warnings.warn('\\t'.join([w.format(i), info]))\n",
      "/home/antonis/ipythonNotebooks/snorkel-ml/snorkel/learning/disc_models/rnn/rnn_base.py:40: UserWarning: Candidate 166 has argument past max length for model:\t[arg ends at index 164; max len 117]\n",
      "  warnings.warn('\\t'.join([w.format(i), info]))\n",
      "/home/antonis/ipythonNotebooks/snorkel-ml/snorkel/learning/disc_models/rnn/rnn_base.py:40: UserWarning: Candidate 169 has argument past max length for model:\t[arg ends at index 131; max len 117]\n",
      "  warnings.warn('\\t'.join([w.format(i), info]))\n",
      "/home/antonis/ipythonNotebooks/snorkel-ml/snorkel/learning/disc_models/rnn/rnn_base.py:40: UserWarning: Candidate 172 has argument past max length for model:\t[arg ends at index 137; max len 117]\n",
      "  warnings.warn('\\t'.join([w.format(i), info]))\n",
      "/home/antonis/ipythonNotebooks/snorkel-ml/snorkel/learning/disc_models/rnn/rnn_base.py:40: UserWarning: Candidate 190 has argument past max length for model:\t[arg ends at index 164; max len 117]\n",
      "  warnings.warn('\\t'.join([w.format(i), info]))\n",
      "/home/antonis/ipythonNotebooks/snorkel-ml/snorkel/learning/disc_models/rnn/rnn_base.py:40: UserWarning: Candidate 194 has argument past max length for model:\t[arg ends at index 131; max len 117]\n",
      "  warnings.warn('\\t'.join([w.format(i), info]))\n",
      "/home/antonis/ipythonNotebooks/snorkel-ml/snorkel/learning/disc_models/rnn/rnn_base.py:40: UserWarning: Candidate 196 has argument past max length for model:\t[arg ends at index 137; max len 117]\n",
      "  warnings.warn('\\t'.join([w.format(i), info]))\n",
      "/home/antonis/ipythonNotebooks/snorkel-ml/snorkel/learning/disc_models/rnn/rnn_base.py:40: UserWarning: Candidate 217 has argument past max length for model:\t[arg ends at index 164; max len 117]\n",
      "  warnings.warn('\\t'.join([w.format(i), info]))\n",
      "/home/antonis/ipythonNotebooks/snorkel-ml/snorkel/learning/disc_models/rnn/rnn_base.py:40: UserWarning: Candidate 220 has argument past max length for model:\t[arg ends at index 160; max len 117]\n",
      "  warnings.warn('\\t'.join([w.format(i), info]))\n",
      "/home/antonis/ipythonNotebooks/snorkel-ml/snorkel/learning/disc_models/rnn/rnn_base.py:40: UserWarning: Candidate 223 has argument past max length for model:\t[arg ends at index 160; max len 117]\n",
      "  warnings.warn('\\t'.join([w.format(i), info]))\n",
      "/home/antonis/ipythonNotebooks/snorkel-ml/snorkel/learning/disc_models/rnn/rnn_base.py:40: UserWarning: Candidate 226 has argument past max length for model:\t[arg ends at index 160; max len 117]\n",
      "  warnings.warn('\\t'.join([w.format(i), info]))\n",
      "/home/antonis/ipythonNotebooks/snorkel-ml/snorkel/learning/disc_models/rnn/rnn_base.py:40: UserWarning: Candidate 233 has argument past max length for model:\t[arg ends at index 160; max len 117]\n",
      "  warnings.warn('\\t'.join([w.format(i), info]))\n",
      "/home/antonis/ipythonNotebooks/snorkel-ml/snorkel/learning/disc_models/rnn/rnn_base.py:40: UserWarning: Candidate 238 has argument past max length for model:\t[arg ends at index 160; max len 117]\n",
      "  warnings.warn('\\t'.join([w.format(i), info]))\n",
      "/home/antonis/ipythonNotebooks/snorkel-ml/snorkel/learning/disc_models/rnn/rnn_base.py:40: UserWarning: Candidate 242 has argument past max length for model:\t[arg ends at index 160; max len 117]\n",
      "  warnings.warn('\\t'.join([w.format(i), info]))\n",
      "/home/antonis/ipythonNotebooks/snorkel-ml/snorkel/learning/disc_models/rnn/rnn_base.py:40: UserWarning: Candidate 248 has argument past max length for model:\t[arg ends at index 160; max len 117]\n",
      "  warnings.warn('\\t'.join([w.format(i), info]))\n",
      "/home/antonis/ipythonNotebooks/snorkel-ml/snorkel/learning/disc_models/rnn/rnn_base.py:40: UserWarning: Candidate 252 has argument past max length for model:\t[arg ends at index 164; max len 117]\n",
      "  warnings.warn('\\t'.join([w.format(i), info]))\n",
      "/home/antonis/ipythonNotebooks/snorkel-ml/snorkel/learning/disc_models/rnn/rnn_base.py:40: UserWarning: Candidate 256 has argument past max length for model:\t[arg ends at index 131; max len 117]\n",
      "  warnings.warn('\\t'.join([w.format(i), info]))\n",
      "/home/antonis/ipythonNotebooks/snorkel-ml/snorkel/learning/disc_models/rnn/rnn_base.py:40: UserWarning: Candidate 261 has argument past max length for model:\t[arg ends at index 137; max len 117]\n",
      "  warnings.warn('\\t'.join([w.format(i), info]))\n",
      "/home/antonis/ipythonNotebooks/snorkel-ml/snorkel/learning/disc_models/rnn/rnn_base.py:40: UserWarning: Candidate 284 has argument past max length for model:\t[arg ends at index 164; max len 117]\n",
      "  warnings.warn('\\t'.join([w.format(i), info]))\n",
      "/home/antonis/ipythonNotebooks/snorkel-ml/snorkel/learning/disc_models/rnn/rnn_base.py:40: UserWarning: Candidate 288 has argument past max length for model:\t[arg ends at index 131; max len 117]\n",
      "  warnings.warn('\\t'.join([w.format(i), info]))\n",
      "/home/antonis/ipythonNotebooks/snorkel-ml/snorkel/learning/disc_models/rnn/rnn_base.py:40: UserWarning: Candidate 293 has argument past max length for model:\t[arg ends at index 137; max len 117]\n",
      "  warnings.warn('\\t'.join([w.format(i), info]))\n",
      "/home/antonis/ipythonNotebooks/snorkel-ml/snorkel/learning/disc_models/rnn/rnn_base.py:40: UserWarning: Candidate 314 has argument past max length for model:\t[arg ends at index 164; max len 117]\n",
      "  warnings.warn('\\t'.join([w.format(i), info]))\n",
      "/home/antonis/ipythonNotebooks/snorkel-ml/snorkel/learning/disc_models/rnn/rnn_base.py:40: UserWarning: Candidate 319 has argument past max length for model:\t[arg ends at index 131; max len 117]\n",
      "  warnings.warn('\\t'.join([w.format(i), info]))\n",
      "/home/antonis/ipythonNotebooks/snorkel-ml/snorkel/learning/disc_models/rnn/rnn_base.py:40: UserWarning: Candidate 321 has argument past max length for model:\t[arg ends at index 137; max len 117]\n",
      "  warnings.warn('\\t'.join([w.format(i), info]))\n",
      "/home/antonis/ipythonNotebooks/snorkel-ml/snorkel/learning/disc_models/rnn/rnn_base.py:40: UserWarning: Candidate 340 has argument past max length for model:\t[arg ends at index 164; max len 117]\n",
      "  warnings.warn('\\t'.join([w.format(i), info]))\n"
     ]
    },
    {
     "name": "stdout",
     "output_type": "stream",
     "text": [
      "<type 'numpy.ndarray'> <type 'list'>\n"
     ]
    },
    {
     "name": "stderr",
     "output_type": "stream",
     "text": [
      "/home/antonis/anaconda2/envs/snorkel27clone/lib/python2.7/site-packages/tensorflow/python/ops/gradients_impl.py:100: UserWarning: Converting sparse IndexedSlices to a dense Tensor of unknown shape. This may consume a large amount of memory.\n",
      "  \"Converting sparse IndexedSlices to a dense Tensor of unknown shape. \"\n"
     ]
    },
    {
     "name": "stdout",
     "output_type": "stream",
     "text": [
      "[reRNN] Training model\n",
      "[reRNN] n_train=3954  #epochs=30  batch size=64\n",
      "[reRNN] Epoch 0 (14.42s)\tAverage loss=0.575706\n",
      "[reRNN] Epoch 1 (28.38s)\tAverage loss=0.414051\n",
      "[reRNN] Epoch 2 (42.13s)\tAverage loss=0.353411\n",
      "[reRNN] Epoch 3 (55.97s)\tAverage loss=0.319313\n",
      "[reRNN] Epoch 4 (69.69s)\tAverage loss=0.297754\n",
      "[reRNN] Epoch 5 (83.48s)\tAverage loss=0.281743\n",
      "[reRNN] Epoch 6 (97.33s)\tAverage loss=0.264826\n",
      "[reRNN] Epoch 7 (111.30s)\tAverage loss=0.257879\n",
      "[reRNN] Epoch 8 (125.14s)\tAverage loss=0.248280\n",
      "[reRNN] Epoch 9 (139.01s)\tAverage loss=0.240197\n",
      "[reRNN] Epoch 10 (152.91s)\tAverage loss=0.235557\n",
      "[reRNN] Epoch 11 (166.75s)\tAverage loss=0.230565\n",
      "[reRNN] Epoch 12 (180.57s)\tAverage loss=0.221101\n",
      "[reRNN] Epoch 13 (194.13s)\tAverage loss=0.213032\n",
      "[reRNN] Epoch 14 (208.35s)\tAverage loss=0.206619\n",
      "[reRNN] Epoch 15 (222.16s)\tAverage loss=0.203738\n",
      "[reRNN] Epoch 16 (235.84s)\tAverage loss=0.200279\n",
      "[reRNN] Epoch 17 (249.98s)\tAverage loss=0.196798\n",
      "[reRNN] Epoch 18 (263.91s)\tAverage loss=0.194162\n",
      "[reRNN] Epoch 19 (277.85s)\tAverage loss=0.194972\n",
      "[reRNN] Epoch 20 (291.94s)\tAverage loss=0.200151\n",
      "[reRNN] Epoch 21 (306.03s)\tAverage loss=0.231358\n",
      "[reRNN] Epoch 22 (319.74s)\tAverage loss=0.220060\n",
      "[reRNN] Epoch 23 (333.80s)\tAverage loss=0.225120\n",
      "[reRNN] Epoch 24 (347.77s)\tAverage loss=0.215043\n",
      "[reRNN] Epoch 25 (361.62s)\tAverage loss=0.202593\n",
      "[reRNN] Epoch 26 (375.51s)\tAverage loss=0.195327\n",
      "[reRNN] Epoch 27 (389.58s)\tAverage loss=0.191917\n",
      "[reRNN] Epoch 28 (403.24s)\tAverage loss=0.190052\n",
      "[reRNN] Epoch 29 (416.93s)\tAverage loss=0.187881\n",
      "[reRNN] Training done (416.93s)\n",
      "MSE: [-0.217069663662404]\n",
      "F1: [0.4979919678714859]\n",
      "MSE: [-0.217069663662404, -0.21290826883673825]\n",
      "F1: [0.4979919678714859, 0.5006675567423232]\n",
      "MSE: [-0.217069663662404, -0.21290826883673825, -0.21764325926424716]\n",
      "F1: [0.4979919678714859, 0.5006675567423232, 0.46814218645204553]\n",
      "<type 'numpy.ndarray'> <type 'list'>\n"
     ]
    },
    {
     "name": "stderr",
     "output_type": "stream",
     "text": [
      "/home/antonis/anaconda2/envs/snorkel27clone/lib/python2.7/site-packages/tensorflow/python/ops/gradients_impl.py:100: UserWarning: Converting sparse IndexedSlices to a dense Tensor of unknown shape. This may consume a large amount of memory.\n",
      "  \"Converting sparse IndexedSlices to a dense Tensor of unknown shape. \"\n"
     ]
    },
    {
     "name": "stdout",
     "output_type": "stream",
     "text": [
      "[reRNN] Training model\n",
      "[reRNN] n_train=5218  #epochs=30  batch size=64\n",
      "[reRNN] Epoch 0 (19.66s)\tAverage loss=0.561561\n",
      "[reRNN] Epoch 1 (39.63s)\tAverage loss=0.420435\n",
      "[reRNN] Epoch 2 (58.47s)\tAverage loss=0.375947\n",
      "[reRNN] Epoch 3 (77.73s)\tAverage loss=0.349158\n",
      "[reRNN] Epoch 4 (97.14s)\tAverage loss=0.329014\n",
      "[reRNN] Epoch 5 (116.12s)\tAverage loss=0.311516\n",
      "[reRNN] Epoch 6 (135.46s)\tAverage loss=0.297554\n",
      "[reRNN] Epoch 7 (154.74s)\tAverage loss=0.291595\n",
      "[reRNN] Epoch 8 (174.10s)\tAverage loss=0.283532\n",
      "[reRNN] Epoch 9 (193.56s)\tAverage loss=0.284094\n",
      "[reRNN] Epoch 10 (213.70s)\tAverage loss=0.275069\n",
      "[reRNN] Epoch 11 (232.92s)\tAverage loss=0.282451\n",
      "[reRNN] Epoch 12 (252.35s)\tAverage loss=0.270069\n",
      "[reRNN] Epoch 13 (272.11s)\tAverage loss=0.254986\n",
      "[reRNN] Epoch 14 (291.85s)\tAverage loss=0.247349\n",
      "[reRNN] Epoch 15 (311.39s)\tAverage loss=0.244660\n",
      "[reRNN] Epoch 16 (330.96s)\tAverage loss=0.241533\n",
      "[reRNN] Epoch 17 (350.77s)\tAverage loss=0.240667\n",
      "[reRNN] Epoch 18 (370.56s)\tAverage loss=0.239686\n",
      "[reRNN] Epoch 19 (390.37s)\tAverage loss=0.238238\n",
      "[reRNN] Epoch 20 (410.46s)\tAverage loss=0.237551\n",
      "[reRNN] Epoch 21 (429.68s)\tAverage loss=0.236730\n",
      "[reRNN] Epoch 22 (449.06s)\tAverage loss=0.236354\n",
      "[reRNN] Epoch 23 (468.73s)\tAverage loss=0.235869\n",
      "[reRNN] Epoch 24 (488.19s)\tAverage loss=0.235417\n",
      "[reRNN] Epoch 25 (507.74s)\tAverage loss=0.235817\n",
      "[reRNN] Epoch 26 (527.51s)\tAverage loss=0.235753\n",
      "[reRNN] Epoch 27 (547.05s)\tAverage loss=0.236666\n",
      "[reRNN] Epoch 28 (566.32s)\tAverage loss=0.236544\n",
      "[reRNN] Epoch 29 (585.94s)\tAverage loss=0.237688\n",
      "[reRNN] Training done (585.94s)\n",
      "MSE: [-0.17101121450738327]\n",
      "F1: [0.561181434599156]\n",
      "MSE: [-0.17101121450738327, -0.17592107120719597]\n",
      "F1: [0.561181434599156, 0.5518672199170125]\n",
      "MSE: [-0.17101121450738327, -0.17592107120719597, -0.18247013929727965]\n",
      "F1: [0.561181434599156, 0.5518672199170125, 0.5164520743919886]\n",
      "<type 'numpy.ndarray'> <type 'list'>\n"
     ]
    },
    {
     "name": "stderr",
     "output_type": "stream",
     "text": [
      "/home/antonis/anaconda2/envs/snorkel27clone/lib/python2.7/site-packages/tensorflow/python/ops/gradients_impl.py:100: UserWarning: Converting sparse IndexedSlices to a dense Tensor of unknown shape. This may consume a large amount of memory.\n",
      "  \"Converting sparse IndexedSlices to a dense Tensor of unknown shape. \"\n"
     ]
    },
    {
     "name": "stdout",
     "output_type": "stream",
     "text": [
      "[reRNN] Training model\n",
      "[reRNN] n_train=6540  #epochs=30  batch size=64\n",
      "[reRNN] Epoch 0 (24.94s)\tAverage loss=0.555967\n",
      "[reRNN] Epoch 1 (48.93s)\tAverage loss=0.428890\n",
      "[reRNN] Epoch 2 (72.83s)\tAverage loss=0.387800\n",
      "[reRNN] Epoch 3 (96.93s)\tAverage loss=0.357142\n",
      "[reRNN] Epoch 4 (121.32s)\tAverage loss=0.337352\n",
      "[reRNN] Epoch 5 (145.33s)\tAverage loss=0.325680\n",
      "[reRNN] Epoch 6 (169.69s)\tAverage loss=0.313127\n",
      "[reRNN] Epoch 7 (193.95s)\tAverage loss=0.302983\n",
      "[reRNN] Epoch 8 (218.25s)\tAverage loss=0.303482\n",
      "[reRNN] Epoch 9 (242.44s)\tAverage loss=0.305220\n",
      "[reRNN] Epoch 10 (266.73s)\tAverage loss=0.291225\n",
      "[reRNN] Epoch 11 (290.84s)\tAverage loss=0.289302\n",
      "[reRNN] Epoch 12 (315.22s)\tAverage loss=0.286719\n",
      "[reRNN] Epoch 13 (339.54s)\tAverage loss=0.282788\n",
      "[reRNN] Epoch 14 (363.67s)\tAverage loss=0.303059\n",
      "[reRNN] Epoch 15 (387.63s)\tAverage loss=0.298048\n",
      "[reRNN] Epoch 16 (411.78s)\tAverage loss=0.290485\n",
      "[reRNN] Epoch 17 (436.12s)\tAverage loss=0.282513\n",
      "[reRNN] Epoch 18 (460.50s)\tAverage loss=0.276079\n",
      "[reRNN] Epoch 19 (485.01s)\tAverage loss=0.273011\n",
      "[reRNN] Epoch 20 (509.22s)\tAverage loss=0.278092\n",
      "[reRNN] Epoch 21 (533.39s)\tAverage loss=0.276992\n",
      "[reRNN] Epoch 22 (557.71s)\tAverage loss=0.273890\n",
      "[reRNN] Epoch 23 (582.38s)\tAverage loss=0.273588\n",
      "[reRNN] Epoch 24 (606.53s)\tAverage loss=0.285165\n",
      "[reRNN] Epoch 25 (630.74s)\tAverage loss=0.289677\n",
      "[reRNN] Epoch 26 (654.99s)\tAverage loss=0.282423\n",
      "[reRNN] Epoch 27 (679.25s)\tAverage loss=0.278426\n",
      "[reRNN] Epoch 28 (703.58s)\tAverage loss=0.275225\n",
      "[reRNN] Epoch 29 (727.60s)\tAverage loss=0.275991\n",
      "[reRNN] Training done (727.60s)\n",
      "MSE: [-0.1871306427357198]\n",
      "F1: [0.5503184713375797]\n",
      "MSE: [-0.1871306427357198, -0.17588957439902425]\n",
      "F1: [0.5503184713375797, 0.5768229166666666]\n",
      "MSE: [-0.1871306427357198, -0.17588957439902425, -0.17968356851650796]\n",
      "F1: [0.5503184713375797, 0.5768229166666666, 0.5456989247311828]\n",
      "<type 'numpy.ndarray'> <type 'list'>\n"
     ]
    },
    {
     "name": "stderr",
     "output_type": "stream",
     "text": [
      "/home/antonis/anaconda2/envs/snorkel27clone/lib/python2.7/site-packages/tensorflow/python/ops/gradients_impl.py:100: UserWarning: Converting sparse IndexedSlices to a dense Tensor of unknown shape. This may consume a large amount of memory.\n",
      "  \"Converting sparse IndexedSlices to a dense Tensor of unknown shape. \"\n"
     ]
    },
    {
     "name": "stdout",
     "output_type": "stream",
     "text": [
      "[reRNN] Training model\n",
      "[reRNN] n_train=7794  #epochs=30  batch size=64\n",
      "[reRNN] Epoch 0 (28.68s)\tAverage loss=0.557057\n",
      "[reRNN] Epoch 1 (56.27s)\tAverage loss=0.441352\n",
      "[reRNN] Epoch 2 (84.40s)\tAverage loss=0.397319\n",
      "[reRNN] Epoch 3 (112.58s)\tAverage loss=0.371151\n",
      "[reRNN] Epoch 4 (140.68s)\tAverage loss=0.350525\n",
      "[reRNN] Epoch 5 (168.85s)\tAverage loss=0.351705\n",
      "[reRNN] Epoch 6 (196.91s)\tAverage loss=0.343760\n",
      "[reRNN] Epoch 7 (225.17s)\tAverage loss=0.323278\n",
      "[reRNN] Epoch 8 (253.39s)\tAverage loss=0.315596\n",
      "[reRNN] Epoch 9 (281.69s)\tAverage loss=0.314194\n",
      "[reRNN] Epoch 10 (310.05s)\tAverage loss=0.314457\n",
      "[reRNN] Epoch 11 (338.13s)\tAverage loss=0.314406\n",
      "[reRNN] Epoch 12 (366.33s)\tAverage loss=0.312327\n",
      "[reRNN] Epoch 13 (394.69s)\tAverage loss=0.310237\n",
      "[reRNN] Epoch 14 (422.72s)\tAverage loss=0.310328\n",
      "[reRNN] Epoch 15 (450.57s)\tAverage loss=0.316729\n",
      "[reRNN] Epoch 16 (478.26s)\tAverage loss=0.307699\n",
      "[reRNN] Epoch 17 (506.18s)\tAverage loss=0.300650\n",
      "[reRNN] Epoch 18 (534.48s)\tAverage loss=0.301646\n",
      "[reRNN] Epoch 19 (562.30s)\tAverage loss=0.299563\n",
      "[reRNN] Epoch 20 (590.39s)\tAverage loss=0.295967\n",
      "[reRNN] Epoch 21 (618.77s)\tAverage loss=0.293934\n",
      "[reRNN] Epoch 22 (646.82s)\tAverage loss=0.292664\n",
      "[reRNN] Epoch 23 (674.80s)\tAverage loss=0.292144\n",
      "[reRNN] Epoch 24 (702.91s)\tAverage loss=0.291333\n",
      "[reRNN] Epoch 25 (731.18s)\tAverage loss=0.291308\n",
      "[reRNN] Epoch 26 (759.14s)\tAverage loss=0.290888\n",
      "[reRNN] Epoch 27 (787.31s)\tAverage loss=0.291323\n",
      "[reRNN] Epoch 28 (815.38s)\tAverage loss=0.291699\n",
      "[reRNN] Epoch 29 (843.79s)\tAverage loss=0.304784\n",
      "[reRNN] Training done (843.79s)\n",
      "MSE: [-0.1661201321638525]\n",
      "F1: [0.5372918175235336]\n",
      "MSE: [-0.1661201321638525, -0.15846774606192907]\n",
      "F1: [0.5372918175235336, 0.5706214689265537]\n",
      "MSE: [-0.1661201321638525, -0.15846774606192907, -0.1643065867603716]\n",
      "F1: [0.5372918175235336, 0.5706214689265537, 0.5234200743494424]\n"
     ]
    }
   ],
   "source": [
    "## with LSTM (Gold ---> unlab )\n",
    "## with varying number of epochs (per training examples)\n",
    "\n",
    "from MLutils import custom_learning_curve\n",
    "\n",
    "train_kwargs = {\n",
    "    'lr':         0.01,\n",
    "    'dim':        100,\n",
    "    'n_epochs':   30,\n",
    "    'dropout':    0.25,\n",
    "    'rebalance':  True,\n",
    "    'print_freq': 1,\n",
    "    'batch_size': 64,\n",
    "    'dev_ckpt_delay': 0,\n",
    "#     'X_dev': dev, \n",
    "#     'Y_dev': L_gold_dev,\n",
    "    'verbose': False,\n",
    "}\n",
    "\n",
    "train_sizes, train_mse, train_f1, valid_mse , valid_f1 , test_prf1 = custom_learning_curve(\n",
    "    reRNN(seed=1701 ), \n",
    "    X_increm = unlab, y_increm = unlab_marginals_avg, \n",
    "    X_val = test, y_val = L_gold_test, \n",
    "    X_init= train, y_init= L_gold_train,\n",
    "    X_test = test, y_test = L_gold_test, \n",
    "    fit_params = train_kwargs,\n",
    "#                       splt_sizes=np.array([0.1, 0.5, 1.  ])\n",
    "                     )\n"
   ]
  },
  {
   "cell_type": "code",
   "execution_count": 89,
   "metadata": {},
   "outputs": [],
   "source": [
    "train_sizes_us = [2062,3954,5218,6540,7794]"
   ]
  },
  {
   "cell_type": "code",
   "execution_count": 80,
   "metadata": {},
   "outputs": [],
   "source": [
    "with open(pkl_paths+\"learning_curves/lstm_AvgLbls_30epochs.pickle\",'wb') as f:\n",
    "    pickle.dump((train_sizes, train_mse, train_f1, valid_mse , valid_f1 , test_prf1), f)"
   ]
  },
  {
   "cell_type": "code",
   "execution_count": 81,
   "metadata": {},
   "outputs": [
    {
     "data": {
      "text/plain": [
       "<module 'matplotlib.pyplot' from '/home/antonis/anaconda2/envs/snorkel27clone/lib/python2.7/site-packages/matplotlib/pyplot.pyc'>"
      ]
     },
     "execution_count": 81,
     "metadata": {},
     "output_type": "execute_result"
    },
    {
     "data": {
      "image/png": "[encoded data removed]",
      "text/plain": [
       "<Figure size 432x288 with 1 Axes>"
      ]
     },
     "metadata": {},
     "output_type": "display_data"
    },
    {
     "data": {
      "image/png": "[encoded data removed]",
      "text/plain": [
       "<Figure size 432x288 with 1 Axes>"
      ]
     },
     "metadata": {},
     "output_type": "display_data"
    }
   ],
   "source": [
    "\n",
    "plot_learning_curve(train_mse,valid_mse,train_sizes, 'Noisy-labeled LSTM MSE (Avg,30_epochs) (P=%.2f,R=%.2f,F1=%.2f)'%(test_prf1))\n",
    "\n",
    "plot_learning_curve(train_f1,valid_f1,train_sizes, title='Noisy-labeled LSTM (Avg,30_epochs) (P=%.2f,R=%.2f,F1=%.2f)'%(test_prf1))\n"
   ]
  },
  {
   "cell_type": "markdown",
   "metadata": {},
   "source": [
    "** with majority vote labels **"
   ]
  },
  {
   "cell_type": "code",
   "execution_count": 80,
   "metadata": {},
   "outputs": [
    {
     "data": {
      "image/png": "[encoded data removed]",
      "text/plain": [
       "<Figure size 432x288 with 1 Axes>"
      ]
     },
     "metadata": {},
     "output_type": "display_data"
    }
   ],
   "source": [
    "plot_marginals_histogram(unlab_marginals_maj, \n",
    "                         title = 'Histogram of marginals' ,\n",
    "                        bins = 20)"
   ]
  },
  {
   "cell_type": "code",
   "execution_count": 81,
   "metadata": {},
   "outputs": [
    {
     "name": "stderr",
     "output_type": "stream",
     "text": [
      "/home/antonis/anaconda2/envs/snorkel27clone/lib/python2.7/site-packages/tensorflow/python/ops/gradients_impl.py:100: UserWarning: Converting sparse IndexedSlices to a dense Tensor of unknown shape. This may consume a large amount of memory.\n",
      "  \"Converting sparse IndexedSlices to a dense Tensor of unknown shape. \"\n"
     ]
    },
    {
     "name": "stdout",
     "output_type": "stream",
     "text": [
      "[reRNN] Training model\n",
      "[reRNN] n_train=4710  #epochs=20  batch size=256\n",
      "[reRNN] Epoch 0 (19.36s)\tAverage loss=0.556222\tDev F1=40.55\n",
      "[reRNN] Epoch 1 (42.64s)\tAverage loss=0.292208\tDev F1=48.40\n",
      "[reRNN] Epoch 2 (66.38s)\tAverage loss=0.215730\tDev F1=49.50\n",
      "[reRNN] Epoch 3 (89.82s)\tAverage loss=0.178682\tDev F1=48.07\n",
      "[reRNN] Epoch 4 (113.74s)\tAverage loss=0.146864\tDev F1=45.96\n",
      "[reRNN] Epoch 5 (137.11s)\tAverage loss=0.127989\tDev F1=50.00\n",
      "[reRNN] Epoch 6 (160.53s)\tAverage loss=0.107927\tDev F1=50.35\n",
      "[reRNN] Epoch 7 (183.37s)\tAverage loss=0.103547\tDev F1=48.19\n",
      "[reRNN] Epoch 8 (207.05s)\tAverage loss=0.099654\tDev F1=51.55\n",
      "[reRNN] Epoch 9 (230.69s)\tAverage loss=0.079262\tDev F1=48.65\n",
      "[reRNN] Epoch 10 (253.99s)\tAverage loss=0.078956\tDev F1=47.20\n",
      "[reRNN] Epoch 11 (277.83s)\tAverage loss=0.064281\tDev F1=50.32\n",
      "[reRNN] Epoch 12 (300.76s)\tAverage loss=0.056387\tDev F1=49.94\n",
      "[reRNN] Epoch 13 (323.63s)\tAverage loss=0.047718\tDev F1=50.07\n",
      "[reRNN] Epoch 14 (346.88s)\tAverage loss=0.031173\tDev F1=51.49\n",
      "[reRNN] Epoch 15 (370.03s)\tAverage loss=0.028262\tDev F1=51.75\n",
      "[reRNN] Epoch 16 (392.71s)\tAverage loss=0.035190\tDev F1=48.51\n",
      "[reRNN] Model saved as <reRNN>\n",
      "[reRNN] Epoch 17 (417.74s)\tAverage loss=0.024520\tDev F1=53.87\n",
      "[reRNN] Model saved as <reRNN>\n",
      "[reRNN] Epoch 18 (442.41s)\tAverage loss=0.025259\tDev F1=53.58\n",
      "[reRNN] Epoch 19 (466.24s)\tAverage loss=0.021175\tDev F1=51.22\n",
      "[reRNN] Training done (470.07s)\n",
      "INFO:tensorflow:Restoring parameters from checkpoints/reRNN/reRNN-17\n",
      "[reRNN] Loaded model <reRNN>\n"
     ]
    }
   ],
   "source": [
    "train_kwargs = {\n",
    "    'lr':         0.01,\n",
    "    'dim':        100,\n",
    "    'n_epochs':   20,\n",
    "    'dropout':    0.25,\n",
    "    'rebalance':  True,\n",
    "    'print_freq': 1,\n",
    "    'batch_size': 256\n",
    "}\n",
    "\n",
    "lstm = reRNN(seed=1701, n_threads=6,)\n",
    "lstm.train(unlab, unlab_marginals_maj , X_dev=dev, Y_dev=L_gold_dev, dev_ckpt_delay=0, **train_kwargs)"
   ]
  },
  {
   "cell_type": "code",
   "execution_count": null,
   "metadata": {},
   "outputs": [],
   "source": []
  },
  {
   "cell_type": "code",
   "execution_count": 105,
   "metadata": {},
   "outputs": [],
   "source": [
    "tp, fp, tn, fn = lstm.error_analysis(session, dev, L_gold_dev, batch_size = 1024)"
   ]
  },
  {
   "cell_type": "code",
   "execution_count": 112,
   "metadata": {},
   "outputs": [],
   "source": [
    "tp, fp, tn, fn = lstm.error_analysis(session, test, L_gold_test, batch_size = 1024)"
   ]
  },
  {
   "cell_type": "code",
   "execution_count": null,
   "metadata": {},
   "outputs": [],
   "source": []
  },
  {
   "cell_type": "markdown",
   "metadata": {},
   "source": [
    "## Learning curves"
   ]
  },
  {
   "cell_type": "code",
   "execution_count": 82,
   "metadata": {
    "scrolled": true
   },
   "outputs": [
    {
     "name": "stdout",
     "output_type": "stream",
     "text": [
      "[0.00000000e+00 1.11022302e-16 7.69230769e-02 1.53846154e-01\n",
      " 2.30769231e-01 3.07692308e-01 3.07692308e-01 3.84615385e-01\n",
      " 4.61538462e-01 5.38461538e-01 6.15384615e-01 6.92307692e-01\n",
      " 7.69230769e-01 8.46153846e-01 9.23076923e-01 1.00000000e+00\n",
      " 1.00000000e+00]\n",
      "<type 'numpy.ndarray'> <type 'list'>\n"
     ]
    },
    {
     "name": "stderr",
     "output_type": "stream",
     "text": [
      "/home/antonis/anaconda2/envs/snorkel27clone/lib/python2.7/site-packages/tensorflow/python/ops/gradients_impl.py:100: UserWarning: Converting sparse IndexedSlices to a dense Tensor of unknown shape. This may consume a large amount of memory.\n",
      "  \"Converting sparse IndexedSlices to a dense Tensor of unknown shape. \"\n"
     ]
    },
    {
     "name": "stdout",
     "output_type": "stream",
     "text": [
      "[reRNN] Training model\n",
      "[reRNN] n_train=2062  #epochs=30  batch size=64\n",
      "[reRNN] Epoch 0 (5.60s)\tAverage loss=0.619817\tDev F1=44.81\n",
      "[reRNN] Epoch 1 (13.88s)\tAverage loss=0.347155\tDev F1=40.59\n",
      "[reRNN] Model saved as <reRNN>\n",
      "[reRNN] Epoch 2 (22.23s)\tAverage loss=0.266770\tDev F1=42.07\n",
      "[reRNN] Model saved as <reRNN>\n",
      "[reRNN] Epoch 3 (30.52s)\tAverage loss=0.205883\tDev F1=39.79\n",
      "[reRNN] Epoch 4 (38.55s)\tAverage loss=0.185266\tDev F1=36.30\n",
      "[reRNN] Epoch 5 (46.80s)\tAverage loss=0.166497\tDev F1=40.08\n",
      "[reRNN] Epoch 6 (54.85s)\tAverage loss=0.149756\tDev F1=39.30\n",
      "[reRNN] Epoch 7 (63.06s)\tAverage loss=0.148213\tDev F1=35.34\n",
      "[reRNN] Epoch 8 (71.24s)\tAverage loss=0.143471\tDev F1=33.96\n",
      "[reRNN] Epoch 9 (79.29s)\tAverage loss=0.139298\tDev F1=37.28\n",
      "[reRNN] Epoch 10 (87.41s)\tAverage loss=0.120029\tDev F1=36.91\n",
      "[reRNN] Epoch 11 (95.64s)\tAverage loss=0.112693\tDev F1=42.76\n",
      "[reRNN] Model saved as <reRNN>\n",
      "[reRNN] Epoch 12 (104.01s)\tAverage loss=0.098019\tDev F1=38.89\n",
      "[reRNN] Epoch 13 (112.08s)\tAverage loss=0.100936\tDev F1=37.13\n",
      "[reRNN] Epoch 14 (120.10s)\tAverage loss=0.105990\tDev F1=37.57\n",
      "[reRNN] Epoch 15 (128.15s)\tAverage loss=0.075943\tDev F1=39.58\n",
      "[reRNN] Epoch 16 (136.30s)\tAverage loss=0.076904\tDev F1=36.75\n",
      "[reRNN] Epoch 17 (144.50s)\tAverage loss=0.070214\tDev F1=39.62\n",
      "[reRNN] Epoch 18 (152.66s)\tAverage loss=0.051692\tDev F1=39.78\n",
      "[reRNN] Epoch 19 (160.80s)\tAverage loss=0.045296\tDev F1=38.23\n",
      "[reRNN] Epoch 20 (168.93s)\tAverage loss=0.041199\tDev F1=39.05\n",
      "[reRNN] Epoch 21 (177.18s)\tAverage loss=0.035039\tDev F1=40.00\n",
      "[reRNN] Epoch 22 (185.73s)\tAverage loss=0.027135\tDev F1=40.16\n",
      "[reRNN] Epoch 23 (194.23s)\tAverage loss=0.030532\tDev F1=38.82\n",
      "[reRNN] Epoch 24 (202.46s)\tAverage loss=0.037677\tDev F1=38.74\n",
      "[reRNN] Epoch 25 (210.70s)\tAverage loss=0.031713\tDev F1=38.79\n",
      "[reRNN] Epoch 26 (218.93s)\tAverage loss=0.035381\tDev F1=39.25\n",
      "[reRNN] Epoch 27 (227.10s)\tAverage loss=0.028328\tDev F1=39.65\n",
      "[reRNN] Epoch 28 (235.22s)\tAverage loss=0.039715\tDev F1=39.44\n",
      "[reRNN] Epoch 29 (243.37s)\tAverage loss=0.043668\tDev F1=38.33\n",
      "[reRNN] Training done (246.15s)\n",
      "INFO:tensorflow:Restoring parameters from checkpoints/reRNN/reRNN-11\n",
      "[reRNN] Loaded model <reRNN>\n"
     ]
    },
    {
     "name": "stderr",
     "output_type": "stream",
     "text": [
      "/home/antonis/ipythonNotebooks/snorkel-ml/snorkel/learning/disc_models/rnn/rnn_base.py:40: UserWarning: Candidate 950 has argument past max length for model:\t[arg ends at index 117; max len 117]\n",
      "  warnings.warn('\\t'.join([w.format(i), info]))\n",
      "/home/antonis/ipythonNotebooks/snorkel-ml/snorkel/learning/disc_models/rnn/rnn_base.py:40: UserWarning: Candidate 749 has argument past max length for model:\t[arg ends at index 164; max len 117]\n",
      "  warnings.warn('\\t'.join([w.format(i), info]))\n",
      "/home/antonis/ipythonNotebooks/snorkel-ml/snorkel/learning/disc_models/rnn/rnn_base.py:40: UserWarning: Candidate 751 has argument past max length for model:\t[arg ends at index 137; max len 117]\n",
      "  warnings.warn('\\t'.join([w.format(i), info]))\n",
      "/home/antonis/ipythonNotebooks/snorkel-ml/snorkel/learning/disc_models/rnn/rnn_base.py:40: UserWarning: Candidate 753 has argument past max length for model:\t[arg ends at index 164; max len 117]\n",
      "  warnings.warn('\\t'.join([w.format(i), info]))\n",
      "/home/antonis/ipythonNotebooks/snorkel-ml/snorkel/learning/disc_models/rnn/rnn_base.py:40: UserWarning: Candidate 755 has argument past max length for model:\t[arg ends at index 131; max len 117]\n",
      "  warnings.warn('\\t'.join([w.format(i), info]))\n",
      "/home/antonis/ipythonNotebooks/snorkel-ml/snorkel/learning/disc_models/rnn/rnn_base.py:40: UserWarning: Candidate 762 has argument past max length for model:\t[arg ends at index 164; max len 117]\n",
      "  warnings.warn('\\t'.join([w.format(i), info]))\n",
      "/home/antonis/ipythonNotebooks/snorkel-ml/snorkel/learning/disc_models/rnn/rnn_base.py:40: UserWarning: Candidate 772 has argument past max length for model:\t[arg ends at index 160; max len 117]\n",
      "  warnings.warn('\\t'.join([w.format(i), info]))\n",
      "/home/antonis/ipythonNotebooks/snorkel-ml/snorkel/learning/disc_models/rnn/rnn_base.py:40: UserWarning: Candidate 777 has argument past max length for model:\t[arg ends at index 137; max len 117]\n",
      "  warnings.warn('\\t'.join([w.format(i), info]))\n",
      "/home/antonis/ipythonNotebooks/snorkel-ml/snorkel/learning/disc_models/rnn/rnn_base.py:40: UserWarning: Candidate 793 has argument past max length for model:\t[arg ends at index 164; max len 117]\n",
      "  warnings.warn('\\t'.join([w.format(i), info]))\n",
      "/home/antonis/ipythonNotebooks/snorkel-ml/snorkel/learning/disc_models/rnn/rnn_base.py:40: UserWarning: Candidate 795 has argument past max length for model:\t[arg ends at index 137; max len 117]\n",
      "  warnings.warn('\\t'.join([w.format(i), info]))\n",
      "/home/antonis/ipythonNotebooks/snorkel-ml/snorkel/learning/disc_models/rnn/rnn_base.py:40: UserWarning: Candidate 802 has argument past max length for model:\t[arg ends at index 164; max len 117]\n",
      "  warnings.warn('\\t'.join([w.format(i), info]))\n",
      "/home/antonis/ipythonNotebooks/snorkel-ml/snorkel/learning/disc_models/rnn/rnn_base.py:40: UserWarning: Candidate 950 has argument past max length for model:\t[arg ends at index 117; max len 117]\n",
      "  warnings.warn('\\t'.join([w.format(i), info]))\n",
      "/home/antonis/ipythonNotebooks/snorkel-ml/snorkel/learning/disc_models/rnn/rnn_base.py:40: UserWarning: Candidate 749 has argument past max length for model:\t[arg ends at index 164; max len 117]\n",
      "  warnings.warn('\\t'.join([w.format(i), info]))\n",
      "/home/antonis/ipythonNotebooks/snorkel-ml/snorkel/learning/disc_models/rnn/rnn_base.py:40: UserWarning: Candidate 751 has argument past max length for model:\t[arg ends at index 137; max len 117]\n",
      "  warnings.warn('\\t'.join([w.format(i), info]))\n",
      "/home/antonis/ipythonNotebooks/snorkel-ml/snorkel/learning/disc_models/rnn/rnn_base.py:40: UserWarning: Candidate 753 has argument past max length for model:\t[arg ends at index 164; max len 117]\n",
      "  warnings.warn('\\t'.join([w.format(i), info]))\n",
      "/home/antonis/ipythonNotebooks/snorkel-ml/snorkel/learning/disc_models/rnn/rnn_base.py:40: UserWarning: Candidate 755 has argument past max length for model:\t[arg ends at index 131; max len 117]\n",
      "  warnings.warn('\\t'.join([w.format(i), info]))\n",
      "/home/antonis/ipythonNotebooks/snorkel-ml/snorkel/learning/disc_models/rnn/rnn_base.py:40: UserWarning: Candidate 762 has argument past max length for model:\t[arg ends at index 164; max len 117]\n",
      "  warnings.warn('\\t'.join([w.format(i), info]))\n",
      "/home/antonis/ipythonNotebooks/snorkel-ml/snorkel/learning/disc_models/rnn/rnn_base.py:40: UserWarning: Candidate 772 has argument past max length for model:\t[arg ends at index 160; max len 117]\n",
      "  warnings.warn('\\t'.join([w.format(i), info]))\n",
      "/home/antonis/ipythonNotebooks/snorkel-ml/snorkel/learning/disc_models/rnn/rnn_base.py:40: UserWarning: Candidate 777 has argument past max length for model:\t[arg ends at index 137; max len 117]\n",
      "  warnings.warn('\\t'.join([w.format(i), info]))\n",
      "/home/antonis/ipythonNotebooks/snorkel-ml/snorkel/learning/disc_models/rnn/rnn_base.py:40: UserWarning: Candidate 793 has argument past max length for model:\t[arg ends at index 164; max len 117]\n",
      "  warnings.warn('\\t'.join([w.format(i), info]))\n",
      "/home/antonis/ipythonNotebooks/snorkel-ml/snorkel/learning/disc_models/rnn/rnn_base.py:40: UserWarning: Candidate 795 has argument past max length for model:\t[arg ends at index 137; max len 117]\n",
      "  warnings.warn('\\t'.join([w.format(i), info]))\n",
      "/home/antonis/ipythonNotebooks/snorkel-ml/snorkel/learning/disc_models/rnn/rnn_base.py:40: UserWarning: Candidate 802 has argument past max length for model:\t[arg ends at index 164; max len 117]\n",
      "  warnings.warn('\\t'.join([w.format(i), info]))\n"
     ]
    },
    {
     "name": "stdout",
     "output_type": "stream",
     "text": [
      "MSE: [-0.3328202664840597]\n",
      "F1: [0.42249080399369415]\n"
     ]
    },
    {
     "name": "stderr",
     "output_type": "stream",
     "text": [
      "/home/antonis/ipythonNotebooks/snorkel-ml/snorkel/learning/disc_models/rnn/rnn_base.py:40: UserWarning: Candidate 935 has argument past max length for model:\t[arg ends at index 117; max len 117]\n",
      "  warnings.warn('\\t'.join([w.format(i), info]))\n",
      "/home/antonis/ipythonNotebooks/snorkel-ml/snorkel/learning/disc_models/rnn/rnn_base.py:40: UserWarning: Candidate 700 has argument past max length for model:\t[arg ends at index 137; max len 117]\n",
      "  warnings.warn('\\t'.join([w.format(i), info]))\n",
      "/home/antonis/ipythonNotebooks/snorkel-ml/snorkel/learning/disc_models/rnn/rnn_base.py:40: UserWarning: Candidate 721 has argument past max length for model:\t[arg ends at index 137; max len 117]\n",
      "  warnings.warn('\\t'.join([w.format(i), info]))\n",
      "/home/antonis/ipythonNotebooks/snorkel-ml/snorkel/learning/disc_models/rnn/rnn_base.py:40: UserWarning: Candidate 730 has argument past max length for model:\t[arg ends at index 160; max len 117]\n",
      "  warnings.warn('\\t'.join([w.format(i), info]))\n",
      "/home/antonis/ipythonNotebooks/snorkel-ml/snorkel/learning/disc_models/rnn/rnn_base.py:40: UserWarning: Candidate 737 has argument past max length for model:\t[arg ends at index 160; max len 117]\n",
      "  warnings.warn('\\t'.join([w.format(i), info]))\n",
      "/home/antonis/ipythonNotebooks/snorkel-ml/snorkel/learning/disc_models/rnn/rnn_base.py:40: UserWarning: Candidate 742 has argument past max length for model:\t[arg ends at index 164; max len 117]\n",
      "  warnings.warn('\\t'.join([w.format(i), info]))\n",
      "/home/antonis/ipythonNotebooks/snorkel-ml/snorkel/learning/disc_models/rnn/rnn_base.py:40: UserWarning: Candidate 754 has argument past max length for model:\t[arg ends at index 164; max len 117]\n",
      "  warnings.warn('\\t'.join([w.format(i), info]))\n",
      "/home/antonis/ipythonNotebooks/snorkel-ml/snorkel/learning/disc_models/rnn/rnn_base.py:40: UserWarning: Candidate 935 has argument past max length for model:\t[arg ends at index 117; max len 117]\n",
      "  warnings.warn('\\t'.join([w.format(i), info]))\n",
      "/home/antonis/ipythonNotebooks/snorkel-ml/snorkel/learning/disc_models/rnn/rnn_base.py:40: UserWarning: Candidate 700 has argument past max length for model:\t[arg ends at index 137; max len 117]\n",
      "  warnings.warn('\\t'.join([w.format(i), info]))\n",
      "/home/antonis/ipythonNotebooks/snorkel-ml/snorkel/learning/disc_models/rnn/rnn_base.py:40: UserWarning: Candidate 721 has argument past max length for model:\t[arg ends at index 137; max len 117]\n",
      "  warnings.warn('\\t'.join([w.format(i), info]))\n",
      "/home/antonis/ipythonNotebooks/snorkel-ml/snorkel/learning/disc_models/rnn/rnn_base.py:40: UserWarning: Candidate 730 has argument past max length for model:\t[arg ends at index 160; max len 117]\n",
      "  warnings.warn('\\t'.join([w.format(i), info]))\n",
      "/home/antonis/ipythonNotebooks/snorkel-ml/snorkel/learning/disc_models/rnn/rnn_base.py:40: UserWarning: Candidate 737 has argument past max length for model:\t[arg ends at index 160; max len 117]\n",
      "  warnings.warn('\\t'.join([w.format(i), info]))\n",
      "/home/antonis/ipythonNotebooks/snorkel-ml/snorkel/learning/disc_models/rnn/rnn_base.py:40: UserWarning: Candidate 742 has argument past max length for model:\t[arg ends at index 164; max len 117]\n",
      "  warnings.warn('\\t'.join([w.format(i), info]))\n",
      "/home/antonis/ipythonNotebooks/snorkel-ml/snorkel/learning/disc_models/rnn/rnn_base.py:40: UserWarning: Candidate 754 has argument past max length for model:\t[arg ends at index 164; max len 117]\n",
      "  warnings.warn('\\t'.join([w.format(i), info]))\n"
     ]
    },
    {
     "name": "stdout",
     "output_type": "stream",
     "text": [
      "MSE: [-0.3328202664840597, -0.32984675510822226]\n",
      "F1: [0.42249080399369415, 0.43282051282051276]\n"
     ]
    },
    {
     "name": "stderr",
     "output_type": "stream",
     "text": [
      "/home/antonis/ipythonNotebooks/snorkel-ml/snorkel/learning/disc_models/rnn/rnn_base.py:40: UserWarning: Candidate 942 has argument past max length for model:\t[arg ends at index 117; max len 117]\n",
      "  warnings.warn('\\t'.join([w.format(i), info]))\n",
      "/home/antonis/ipythonNotebooks/snorkel-ml/snorkel/learning/disc_models/rnn/rnn_base.py:40: UserWarning: Candidate 744 has argument past max length for model:\t[arg ends at index 131; max len 117]\n",
      "  warnings.warn('\\t'.join([w.format(i), info]))\n",
      "/home/antonis/ipythonNotebooks/snorkel-ml/snorkel/learning/disc_models/rnn/rnn_base.py:40: UserWarning: Candidate 754 has argument past max length for model:\t[arg ends at index 131; max len 117]\n",
      "  warnings.warn('\\t'.join([w.format(i), info]))\n",
      "/home/antonis/ipythonNotebooks/snorkel-ml/snorkel/learning/disc_models/rnn/rnn_base.py:40: UserWarning: Candidate 774 has argument past max length for model:\t[arg ends at index 160; max len 117]\n",
      "  warnings.warn('\\t'.join([w.format(i), info]))\n",
      "/home/antonis/ipythonNotebooks/snorkel-ml/snorkel/learning/disc_models/rnn/rnn_base.py:40: UserWarning: Candidate 775 has argument past max length for model:\t[arg ends at index 160; max len 117]\n",
      "  warnings.warn('\\t'.join([w.format(i), info]))\n",
      "/home/antonis/ipythonNotebooks/snorkel-ml/snorkel/learning/disc_models/rnn/rnn_base.py:40: UserWarning: Candidate 779 has argument past max length for model:\t[arg ends at index 160; max len 117]\n",
      "  warnings.warn('\\t'.join([w.format(i), info]))\n",
      "/home/antonis/ipythonNotebooks/snorkel-ml/snorkel/learning/disc_models/rnn/rnn_base.py:40: UserWarning: Candidate 781 has argument past max length for model:\t[arg ends at index 160; max len 117]\n",
      "  warnings.warn('\\t'.join([w.format(i), info]))\n",
      "/home/antonis/ipythonNotebooks/snorkel-ml/snorkel/learning/disc_models/rnn/rnn_base.py:40: UserWarning: Candidate 785 has argument past max length for model:\t[arg ends at index 131; max len 117]\n",
      "  warnings.warn('\\t'.join([w.format(i), info]))\n",
      "/home/antonis/ipythonNotebooks/snorkel-ml/snorkel/learning/disc_models/rnn/rnn_base.py:40: UserWarning: Candidate 794 has argument past max length for model:\t[arg ends at index 131; max len 117]\n",
      "  warnings.warn('\\t'.join([w.format(i), info]))\n",
      "/home/antonis/ipythonNotebooks/snorkel-ml/snorkel/learning/disc_models/rnn/rnn_base.py:40: UserWarning: Candidate 795 has argument past max length for model:\t[arg ends at index 137; max len 117]\n",
      "  warnings.warn('\\t'.join([w.format(i), info]))\n",
      "/home/antonis/ipythonNotebooks/snorkel-ml/snorkel/learning/disc_models/rnn/rnn_base.py:40: UserWarning: Candidate 805 has argument past max length for model:\t[arg ends at index 131; max len 117]\n",
      "  warnings.warn('\\t'.join([w.format(i), info]))\n",
      "/home/antonis/ipythonNotebooks/snorkel-ml/snorkel/learning/disc_models/rnn/rnn_base.py:40: UserWarning: Candidate 942 has argument past max length for model:\t[arg ends at index 117; max len 117]\n",
      "  warnings.warn('\\t'.join([w.format(i), info]))\n",
      "/home/antonis/ipythonNotebooks/snorkel-ml/snorkel/learning/disc_models/rnn/rnn_base.py:40: UserWarning: Candidate 744 has argument past max length for model:\t[arg ends at index 131; max len 117]\n",
      "  warnings.warn('\\t'.join([w.format(i), info]))\n",
      "/home/antonis/ipythonNotebooks/snorkel-ml/snorkel/learning/disc_models/rnn/rnn_base.py:40: UserWarning: Candidate 754 has argument past max length for model:\t[arg ends at index 131; max len 117]\n",
      "  warnings.warn('\\t'.join([w.format(i), info]))\n",
      "/home/antonis/ipythonNotebooks/snorkel-ml/snorkel/learning/disc_models/rnn/rnn_base.py:40: UserWarning: Candidate 774 has argument past max length for model:\t[arg ends at index 160; max len 117]\n",
      "  warnings.warn('\\t'.join([w.format(i), info]))\n",
      "/home/antonis/ipythonNotebooks/snorkel-ml/snorkel/learning/disc_models/rnn/rnn_base.py:40: UserWarning: Candidate 775 has argument past max length for model:\t[arg ends at index 160; max len 117]\n",
      "  warnings.warn('\\t'.join([w.format(i), info]))\n",
      "/home/antonis/ipythonNotebooks/snorkel-ml/snorkel/learning/disc_models/rnn/rnn_base.py:40: UserWarning: Candidate 779 has argument past max length for model:\t[arg ends at index 160; max len 117]\n",
      "  warnings.warn('\\t'.join([w.format(i), info]))\n",
      "/home/antonis/ipythonNotebooks/snorkel-ml/snorkel/learning/disc_models/rnn/rnn_base.py:40: UserWarning: Candidate 781 has argument past max length for model:\t[arg ends at index 160; max len 117]\n",
      "  warnings.warn('\\t'.join([w.format(i), info]))\n",
      "/home/antonis/ipythonNotebooks/snorkel-ml/snorkel/learning/disc_models/rnn/rnn_base.py:40: UserWarning: Candidate 785 has argument past max length for model:\t[arg ends at index 131; max len 117]\n",
      "  warnings.warn('\\t'.join([w.format(i), info]))\n",
      "/home/antonis/ipythonNotebooks/snorkel-ml/snorkel/learning/disc_models/rnn/rnn_base.py:40: UserWarning: Candidate 794 has argument past max length for model:\t[arg ends at index 131; max len 117]\n",
      "  warnings.warn('\\t'.join([w.format(i), info]))\n",
      "/home/antonis/ipythonNotebooks/snorkel-ml/snorkel/learning/disc_models/rnn/rnn_base.py:40: UserWarning: Candidate 795 has argument past max length for model:\t[arg ends at index 137; max len 117]\n",
      "  warnings.warn('\\t'.join([w.format(i), info]))\n",
      "/home/antonis/ipythonNotebooks/snorkel-ml/snorkel/learning/disc_models/rnn/rnn_base.py:40: UserWarning: Candidate 805 has argument past max length for model:\t[arg ends at index 131; max len 117]\n",
      "  warnings.warn('\\t'.join([w.format(i), info]))\n"
     ]
    },
    {
     "name": "stdout",
     "output_type": "stream",
     "text": [
      "MSE: [-0.3328202664840597, -0.32984675510822226, -0.3253285207774192]\n",
      "F1: [0.42249080399369415, 0.43282051282051276, 0.42283298097251587]\n"
     ]
    },
    {
     "name": "stderr",
     "output_type": "stream",
     "text": [
      "/home/antonis/ipythonNotebooks/snorkel-ml/snorkel/learning/disc_models/rnn/rnn_base.py:40: UserWarning: Candidate 777 has argument past max length for model:\t[arg ends at index 117; max len 117]\n",
      "  warnings.warn('\\t'.join([w.format(i), info]))\n",
      "/home/antonis/ipythonNotebooks/snorkel-ml/snorkel/learning/disc_models/rnn/rnn_base.py:40: UserWarning: Candidate 782 has argument past max length for model:\t[arg ends at index 117; max len 117]\n",
      "  warnings.warn('\\t'.join([w.format(i), info]))\n",
      "/home/antonis/ipythonNotebooks/snorkel-ml/snorkel/learning/disc_models/rnn/rnn_base.py:40: UserWarning: Candidate 786 has argument past max length for model:\t[arg ends at index 117; max len 117]\n",
      "  warnings.warn('\\t'.join([w.format(i), info]))\n",
      "/home/antonis/ipythonNotebooks/snorkel-ml/snorkel/learning/disc_models/rnn/rnn_base.py:40: UserWarning: Candidate 136 has argument past max length for model:\t[arg ends at index 131; max len 117]\n",
      "  warnings.warn('\\t'.join([w.format(i), info]))\n",
      "/home/antonis/ipythonNotebooks/snorkel-ml/snorkel/learning/disc_models/rnn/rnn_base.py:40: UserWarning: Candidate 141 has argument past max length for model:\t[arg ends at index 137; max len 117]\n",
      "  warnings.warn('\\t'.join([w.format(i), info]))\n",
      "/home/antonis/ipythonNotebooks/snorkel-ml/snorkel/learning/disc_models/rnn/rnn_base.py:40: UserWarning: Candidate 166 has argument past max length for model:\t[arg ends at index 164; max len 117]\n",
      "  warnings.warn('\\t'.join([w.format(i), info]))\n",
      "/home/antonis/ipythonNotebooks/snorkel-ml/snorkel/learning/disc_models/rnn/rnn_base.py:40: UserWarning: Candidate 169 has argument past max length for model:\t[arg ends at index 131; max len 117]\n",
      "  warnings.warn('\\t'.join([w.format(i), info]))\n",
      "/home/antonis/ipythonNotebooks/snorkel-ml/snorkel/learning/disc_models/rnn/rnn_base.py:40: UserWarning: Candidate 172 has argument past max length for model:\t[arg ends at index 137; max len 117]\n",
      "  warnings.warn('\\t'.join([w.format(i), info]))\n",
      "/home/antonis/ipythonNotebooks/snorkel-ml/snorkel/learning/disc_models/rnn/rnn_base.py:40: UserWarning: Candidate 190 has argument past max length for model:\t[arg ends at index 164; max len 117]\n",
      "  warnings.warn('\\t'.join([w.format(i), info]))\n",
      "/home/antonis/ipythonNotebooks/snorkel-ml/snorkel/learning/disc_models/rnn/rnn_base.py:40: UserWarning: Candidate 194 has argument past max length for model:\t[arg ends at index 131; max len 117]\n",
      "  warnings.warn('\\t'.join([w.format(i), info]))\n",
      "/home/antonis/ipythonNotebooks/snorkel-ml/snorkel/learning/disc_models/rnn/rnn_base.py:40: UserWarning: Candidate 196 has argument past max length for model:\t[arg ends at index 137; max len 117]\n",
      "  warnings.warn('\\t'.join([w.format(i), info]))\n",
      "/home/antonis/ipythonNotebooks/snorkel-ml/snorkel/learning/disc_models/rnn/rnn_base.py:40: UserWarning: Candidate 217 has argument past max length for model:\t[arg ends at index 164; max len 117]\n",
      "  warnings.warn('\\t'.join([w.format(i), info]))\n",
      "/home/antonis/ipythonNotebooks/snorkel-ml/snorkel/learning/disc_models/rnn/rnn_base.py:40: UserWarning: Candidate 220 has argument past max length for model:\t[arg ends at index 160; max len 117]\n",
      "  warnings.warn('\\t'.join([w.format(i), info]))\n",
      "/home/antonis/ipythonNotebooks/snorkel-ml/snorkel/learning/disc_models/rnn/rnn_base.py:40: UserWarning: Candidate 223 has argument past max length for model:\t[arg ends at index 160; max len 117]\n",
      "  warnings.warn('\\t'.join([w.format(i), info]))\n",
      "/home/antonis/ipythonNotebooks/snorkel-ml/snorkel/learning/disc_models/rnn/rnn_base.py:40: UserWarning: Candidate 226 has argument past max length for model:\t[arg ends at index 160; max len 117]\n",
      "  warnings.warn('\\t'.join([w.format(i), info]))\n",
      "/home/antonis/ipythonNotebooks/snorkel-ml/snorkel/learning/disc_models/rnn/rnn_base.py:40: UserWarning: Candidate 233 has argument past max length for model:\t[arg ends at index 160; max len 117]\n",
      "  warnings.warn('\\t'.join([w.format(i), info]))\n",
      "/home/antonis/ipythonNotebooks/snorkel-ml/snorkel/learning/disc_models/rnn/rnn_base.py:40: UserWarning: Candidate 238 has argument past max length for model:\t[arg ends at index 160; max len 117]\n",
      "  warnings.warn('\\t'.join([w.format(i), info]))\n",
      "/home/antonis/ipythonNotebooks/snorkel-ml/snorkel/learning/disc_models/rnn/rnn_base.py:40: UserWarning: Candidate 242 has argument past max length for model:\t[arg ends at index 160; max len 117]\n",
      "  warnings.warn('\\t'.join([w.format(i), info]))\n",
      "/home/antonis/ipythonNotebooks/snorkel-ml/snorkel/learning/disc_models/rnn/rnn_base.py:40: UserWarning: Candidate 248 has argument past max length for model:\t[arg ends at index 160; max len 117]\n",
      "  warnings.warn('\\t'.join([w.format(i), info]))\n",
      "/home/antonis/ipythonNotebooks/snorkel-ml/snorkel/learning/disc_models/rnn/rnn_base.py:40: UserWarning: Candidate 252 has argument past max length for model:\t[arg ends at index 164; max len 117]\n",
      "  warnings.warn('\\t'.join([w.format(i), info]))\n",
      "/home/antonis/ipythonNotebooks/snorkel-ml/snorkel/learning/disc_models/rnn/rnn_base.py:40: UserWarning: Candidate 256 has argument past max length for model:\t[arg ends at index 131; max len 117]\n",
      "  warnings.warn('\\t'.join([w.format(i), info]))\n",
      "/home/antonis/ipythonNotebooks/snorkel-ml/snorkel/learning/disc_models/rnn/rnn_base.py:40: UserWarning: Candidate 261 has argument past max length for model:\t[arg ends at index 137; max len 117]\n",
      "  warnings.warn('\\t'.join([w.format(i), info]))\n",
      "/home/antonis/ipythonNotebooks/snorkel-ml/snorkel/learning/disc_models/rnn/rnn_base.py:40: UserWarning: Candidate 284 has argument past max length for model:\t[arg ends at index 164; max len 117]\n",
      "  warnings.warn('\\t'.join([w.format(i), info]))\n",
      "/home/antonis/ipythonNotebooks/snorkel-ml/snorkel/learning/disc_models/rnn/rnn_base.py:40: UserWarning: Candidate 288 has argument past max length for model:\t[arg ends at index 131; max len 117]\n",
      "  warnings.warn('\\t'.join([w.format(i), info]))\n",
      "/home/antonis/ipythonNotebooks/snorkel-ml/snorkel/learning/disc_models/rnn/rnn_base.py:40: UserWarning: Candidate 293 has argument past max length for model:\t[arg ends at index 137; max len 117]\n",
      "  warnings.warn('\\t'.join([w.format(i), info]))\n",
      "/home/antonis/ipythonNotebooks/snorkel-ml/snorkel/learning/disc_models/rnn/rnn_base.py:40: UserWarning: Candidate 314 has argument past max length for model:\t[arg ends at index 164; max len 117]\n",
      "  warnings.warn('\\t'.join([w.format(i), info]))\n",
      "/home/antonis/ipythonNotebooks/snorkel-ml/snorkel/learning/disc_models/rnn/rnn_base.py:40: UserWarning: Candidate 319 has argument past max length for model:\t[arg ends at index 131; max len 117]\n",
      "  warnings.warn('\\t'.join([w.format(i), info]))\n",
      "/home/antonis/ipythonNotebooks/snorkel-ml/snorkel/learning/disc_models/rnn/rnn_base.py:40: UserWarning: Candidate 321 has argument past max length for model:\t[arg ends at index 137; max len 117]\n",
      "  warnings.warn('\\t'.join([w.format(i), info]))\n",
      "/home/antonis/ipythonNotebooks/snorkel-ml/snorkel/learning/disc_models/rnn/rnn_base.py:40: UserWarning: Candidate 340 has argument past max length for model:\t[arg ends at index 164; max len 117]\n",
      "  warnings.warn('\\t'.join([w.format(i), info]))\n",
      "/home/antonis/ipythonNotebooks/snorkel-ml/snorkel/learning/disc_models/rnn/rnn_base.py:40: UserWarning: Candidate 777 has argument past max length for model:\t[arg ends at index 117; max len 117]\n",
      "  warnings.warn('\\t'.join([w.format(i), info]))\n",
      "/home/antonis/ipythonNotebooks/snorkel-ml/snorkel/learning/disc_models/rnn/rnn_base.py:40: UserWarning: Candidate 782 has argument past max length for model:\t[arg ends at index 117; max len 117]\n",
      "  warnings.warn('\\t'.join([w.format(i), info]))\n",
      "/home/antonis/ipythonNotebooks/snorkel-ml/snorkel/learning/disc_models/rnn/rnn_base.py:40: UserWarning: Candidate 786 has argument past max length for model:\t[arg ends at index 117; max len 117]\n",
      "  warnings.warn('\\t'.join([w.format(i), info]))\n",
      "/home/antonis/ipythonNotebooks/snorkel-ml/snorkel/learning/disc_models/rnn/rnn_base.py:40: UserWarning: Candidate 136 has argument past max length for model:\t[arg ends at index 131; max len 117]\n",
      "  warnings.warn('\\t'.join([w.format(i), info]))\n",
      "/home/antonis/ipythonNotebooks/snorkel-ml/snorkel/learning/disc_models/rnn/rnn_base.py:40: UserWarning: Candidate 141 has argument past max length for model:\t[arg ends at index 137; max len 117]\n",
      "  warnings.warn('\\t'.join([w.format(i), info]))\n",
      "/home/antonis/ipythonNotebooks/snorkel-ml/snorkel/learning/disc_models/rnn/rnn_base.py:40: UserWarning: Candidate 166 has argument past max length for model:\t[arg ends at index 164; max len 117]\n",
      "  warnings.warn('\\t'.join([w.format(i), info]))\n",
      "/home/antonis/ipythonNotebooks/snorkel-ml/snorkel/learning/disc_models/rnn/rnn_base.py:40: UserWarning: Candidate 169 has argument past max length for model:\t[arg ends at index 131; max len 117]\n",
      "  warnings.warn('\\t'.join([w.format(i), info]))\n",
      "/home/antonis/ipythonNotebooks/snorkel-ml/snorkel/learning/disc_models/rnn/rnn_base.py:40: UserWarning: Candidate 172 has argument past max length for model:\t[arg ends at index 137; max len 117]\n",
      "  warnings.warn('\\t'.join([w.format(i), info]))\n",
      "/home/antonis/ipythonNotebooks/snorkel-ml/snorkel/learning/disc_models/rnn/rnn_base.py:40: UserWarning: Candidate 190 has argument past max length for model:\t[arg ends at index 164; max len 117]\n",
      "  warnings.warn('\\t'.join([w.format(i), info]))\n",
      "/home/antonis/ipythonNotebooks/snorkel-ml/snorkel/learning/disc_models/rnn/rnn_base.py:40: UserWarning: Candidate 194 has argument past max length for model:\t[arg ends at index 131; max len 117]\n",
      "  warnings.warn('\\t'.join([w.format(i), info]))\n",
      "/home/antonis/ipythonNotebooks/snorkel-ml/snorkel/learning/disc_models/rnn/rnn_base.py:40: UserWarning: Candidate 196 has argument past max length for model:\t[arg ends at index 137; max len 117]\n",
      "  warnings.warn('\\t'.join([w.format(i), info]))\n",
      "/home/antonis/ipythonNotebooks/snorkel-ml/snorkel/learning/disc_models/rnn/rnn_base.py:40: UserWarning: Candidate 217 has argument past max length for model:\t[arg ends at index 164; max len 117]\n",
      "  warnings.warn('\\t'.join([w.format(i), info]))\n",
      "/home/antonis/ipythonNotebooks/snorkel-ml/snorkel/learning/disc_models/rnn/rnn_base.py:40: UserWarning: Candidate 220 has argument past max length for model:\t[arg ends at index 160; max len 117]\n",
      "  warnings.warn('\\t'.join([w.format(i), info]))\n",
      "/home/antonis/ipythonNotebooks/snorkel-ml/snorkel/learning/disc_models/rnn/rnn_base.py:40: UserWarning: Candidate 223 has argument past max length for model:\t[arg ends at index 160; max len 117]\n",
      "  warnings.warn('\\t'.join([w.format(i), info]))\n",
      "/home/antonis/ipythonNotebooks/snorkel-ml/snorkel/learning/disc_models/rnn/rnn_base.py:40: UserWarning: Candidate 226 has argument past max length for model:\t[arg ends at index 160; max len 117]\n",
      "  warnings.warn('\\t'.join([w.format(i), info]))\n",
      "/home/antonis/ipythonNotebooks/snorkel-ml/snorkel/learning/disc_models/rnn/rnn_base.py:40: UserWarning: Candidate 233 has argument past max length for model:\t[arg ends at index 160; max len 117]\n",
      "  warnings.warn('\\t'.join([w.format(i), info]))\n",
      "/home/antonis/ipythonNotebooks/snorkel-ml/snorkel/learning/disc_models/rnn/rnn_base.py:40: UserWarning: Candidate 238 has argument past max length for model:\t[arg ends at index 160; max len 117]\n",
      "  warnings.warn('\\t'.join([w.format(i), info]))\n",
      "/home/antonis/ipythonNotebooks/snorkel-ml/snorkel/learning/disc_models/rnn/rnn_base.py:40: UserWarning: Candidate 242 has argument past max length for model:\t[arg ends at index 160; max len 117]\n",
      "  warnings.warn('\\t'.join([w.format(i), info]))\n",
      "/home/antonis/ipythonNotebooks/snorkel-ml/snorkel/learning/disc_models/rnn/rnn_base.py:40: UserWarning: Candidate 248 has argument past max length for model:\t[arg ends at index 160; max len 117]\n",
      "  warnings.warn('\\t'.join([w.format(i), info]))\n",
      "/home/antonis/ipythonNotebooks/snorkel-ml/snorkel/learning/disc_models/rnn/rnn_base.py:40: UserWarning: Candidate 252 has argument past max length for model:\t[arg ends at index 164; max len 117]\n",
      "  warnings.warn('\\t'.join([w.format(i), info]))\n",
      "/home/antonis/ipythonNotebooks/snorkel-ml/snorkel/learning/disc_models/rnn/rnn_base.py:40: UserWarning: Candidate 256 has argument past max length for model:\t[arg ends at index 131; max len 117]\n",
      "  warnings.warn('\\t'.join([w.format(i), info]))\n",
      "/home/antonis/ipythonNotebooks/snorkel-ml/snorkel/learning/disc_models/rnn/rnn_base.py:40: UserWarning: Candidate 261 has argument past max length for model:\t[arg ends at index 137; max len 117]\n",
      "  warnings.warn('\\t'.join([w.format(i), info]))\n",
      "/home/antonis/ipythonNotebooks/snorkel-ml/snorkel/learning/disc_models/rnn/rnn_base.py:40: UserWarning: Candidate 284 has argument past max length for model:\t[arg ends at index 164; max len 117]\n",
      "  warnings.warn('\\t'.join([w.format(i), info]))\n",
      "/home/antonis/ipythonNotebooks/snorkel-ml/snorkel/learning/disc_models/rnn/rnn_base.py:40: UserWarning: Candidate 288 has argument past max length for model:\t[arg ends at index 131; max len 117]\n",
      "  warnings.warn('\\t'.join([w.format(i), info]))\n",
      "/home/antonis/ipythonNotebooks/snorkel-ml/snorkel/learning/disc_models/rnn/rnn_base.py:40: UserWarning: Candidate 293 has argument past max length for model:\t[arg ends at index 137; max len 117]\n",
      "  warnings.warn('\\t'.join([w.format(i), info]))\n",
      "/home/antonis/ipythonNotebooks/snorkel-ml/snorkel/learning/disc_models/rnn/rnn_base.py:40: UserWarning: Candidate 314 has argument past max length for model:\t[arg ends at index 164; max len 117]\n",
      "  warnings.warn('\\t'.join([w.format(i), info]))\n",
      "/home/antonis/ipythonNotebooks/snorkel-ml/snorkel/learning/disc_models/rnn/rnn_base.py:40: UserWarning: Candidate 319 has argument past max length for model:\t[arg ends at index 131; max len 117]\n",
      "  warnings.warn('\\t'.join([w.format(i), info]))\n",
      "/home/antonis/ipythonNotebooks/snorkel-ml/snorkel/learning/disc_models/rnn/rnn_base.py:40: UserWarning: Candidate 321 has argument past max length for model:\t[arg ends at index 137; max len 117]\n",
      "  warnings.warn('\\t'.join([w.format(i), info]))\n",
      "/home/antonis/ipythonNotebooks/snorkel-ml/snorkel/learning/disc_models/rnn/rnn_base.py:40: UserWarning: Candidate 340 has argument past max length for model:\t[arg ends at index 164; max len 117]\n",
      "  warnings.warn('\\t'.join([w.format(i), info]))\n"
     ]
    },
    {
     "name": "stdout",
     "output_type": "stream",
     "text": [
      "<type 'numpy.ndarray'> <type 'list'>\n"
     ]
    },
    {
     "name": "stderr",
     "output_type": "stream",
     "text": [
      "/home/antonis/anaconda2/envs/snorkel27clone/lib/python2.7/site-packages/tensorflow/python/ops/gradients_impl.py:100: UserWarning: Converting sparse IndexedSlices to a dense Tensor of unknown shape. This may consume a large amount of memory.\n",
      "  \"Converting sparse IndexedSlices to a dense Tensor of unknown shape. \"\n"
     ]
    },
    {
     "name": "stdout",
     "output_type": "stream",
     "text": [
      "[reRNN] Training model\n",
      "[reRNN] n_train=3888  #epochs=30  batch size=64\n",
      "[reRNN] Epoch 0 (13.37s)\tAverage loss=0.600135\tDev F1=46.51\n",
      "[reRNN] Epoch 1 (30.81s)\tAverage loss=0.419046\tDev F1=48.10\n",
      "[reRNN] Model saved as <reRNN>\n",
      "[reRNN] Epoch 2 (48.33s)\tAverage loss=0.362991\tDev F1=44.47\n",
      "[reRNN] Epoch 3 (65.58s)\tAverage loss=0.339106\tDev F1=45.70\n",
      "[reRNN] Epoch 4 (82.95s)\tAverage loss=0.320008\tDev F1=45.95\n",
      "[reRNN] Epoch 5 (100.04s)\tAverage loss=0.295430\tDev F1=47.18\n",
      "[reRNN] Epoch 6 (117.58s)\tAverage loss=0.285426\tDev F1=46.69\n",
      "[reRNN] Epoch 7 (134.99s)\tAverage loss=0.274149\tDev F1=48.75\n",
      "[reRNN] Model saved as <reRNN>\n",
      "[reRNN] Epoch 8 (152.52s)\tAverage loss=0.260249\tDev F1=49.77\n",
      "[reRNN] Model saved as <reRNN>\n",
      "[reRNN] Epoch 9 (169.88s)\tAverage loss=0.249260\tDev F1=48.50\n",
      "[reRNN] Epoch 10 (187.22s)\tAverage loss=0.244879\tDev F1=50.48\n",
      "[reRNN] Model saved as <reRNN>\n",
      "[reRNN] Epoch 11 (204.72s)\tAverage loss=0.233913\tDev F1=49.70\n",
      "[reRNN] Epoch 12 (221.96s)\tAverage loss=0.234492\tDev F1=48.23\n",
      "[reRNN] Epoch 13 (239.19s)\tAverage loss=0.219638\tDev F1=49.33\n",
      "[reRNN] Epoch 14 (256.21s)\tAverage loss=0.213892\tDev F1=50.25\n",
      "[reRNN] Epoch 15 (273.50s)\tAverage loss=0.215963\tDev F1=45.72\n",
      "[reRNN] Epoch 16 (290.67s)\tAverage loss=0.214493\tDev F1=48.17\n",
      "[reRNN] Epoch 17 (307.83s)\tAverage loss=0.219837\tDev F1=46.05\n",
      "[reRNN] Epoch 18 (325.14s)\tAverage loss=0.213967\tDev F1=46.73\n",
      "[reRNN] Epoch 19 (342.47s)\tAverage loss=0.205689\tDev F1=45.39\n",
      "[reRNN] Epoch 20 (359.73s)\tAverage loss=0.201095\tDev F1=45.48\n",
      "[reRNN] Epoch 21 (377.18s)\tAverage loss=0.197604\tDev F1=46.69\n",
      "[reRNN] Epoch 22 (394.32s)\tAverage loss=0.195705\tDev F1=45.71\n",
      "[reRNN] Epoch 23 (411.43s)\tAverage loss=0.194168\tDev F1=46.74\n",
      "[reRNN] Epoch 24 (428.55s)\tAverage loss=0.193497\tDev F1=47.24\n",
      "[reRNN] Epoch 25 (445.92s)\tAverage loss=0.192792\tDev F1=45.59\n",
      "[reRNN] Epoch 26 (463.29s)\tAverage loss=0.192503\tDev F1=46.56\n",
      "[reRNN] Epoch 27 (480.53s)\tAverage loss=0.192155\tDev F1=45.76\n",
      "[reRNN] Epoch 28 (497.71s)\tAverage loss=0.191515\tDev F1=46.37\n",
      "[reRNN] Epoch 29 (515.11s)\tAverage loss=0.191520\tDev F1=45.35\n",
      "[reRNN] Training done (518.94s)\n",
      "INFO:tensorflow:Restoring parameters from checkpoints/reRNN/reRNN-10\n",
      "[reRNN] Loaded model <reRNN>\n",
      "MSE: [-0.20952360389244892]\n",
      "F1: [0.5081221572449642]\n",
      "MSE: [-0.20952360389244892, -0.20938451178257825]\n",
      "F1: [0.5081221572449642, 0.5019556714471968]\n",
      "MSE: [-0.20952360389244892, -0.20938451178257825, -0.20713678185840517]\n",
      "F1: [0.5081221572449642, 0.5019556714471968, 0.5081645983017635]\n",
      "<type 'numpy.ndarray'> <type 'list'>\n"
     ]
    },
    {
     "name": "stderr",
     "output_type": "stream",
     "text": [
      "/home/antonis/anaconda2/envs/snorkel27clone/lib/python2.7/site-packages/tensorflow/python/ops/gradients_impl.py:100: UserWarning: Converting sparse IndexedSlices to a dense Tensor of unknown shape. This may consume a large amount of memory.\n",
      "  \"Converting sparse IndexedSlices to a dense Tensor of unknown shape. \"\n"
     ]
    },
    {
     "name": "stdout",
     "output_type": "stream",
     "text": [
      "[reRNN] Training model\n",
      "[reRNN] n_train=5148  #epochs=30  batch size=64\n",
      "[reRNN] Epoch 0 (20.05s)\tAverage loss=0.586880\tDev F1=46.00\n",
      "[reRNN] Epoch 1 (42.71s)\tAverage loss=0.432748\tDev F1=49.84\n",
      "[reRNN] Model saved as <reRNN>\n",
      "[reRNN] Epoch 2 (65.74s)\tAverage loss=0.384198\tDev F1=48.26\n",
      "[reRNN] Epoch 3 (88.43s)\tAverage loss=0.352087\tDev F1=50.81\n",
      "[reRNN] Model saved as <reRNN>\n",
      "[reRNN] Epoch 4 (111.72s)\tAverage loss=0.333984\tDev F1=48.75\n",
      "[reRNN] Epoch 5 (134.46s)\tAverage loss=0.315189\tDev F1=50.28\n",
      "[reRNN] Epoch 6 (157.20s)\tAverage loss=0.306373\tDev F1=52.30\n",
      "[reRNN] Model saved as <reRNN>\n",
      "[reRNN] Epoch 7 (180.02s)\tAverage loss=0.289254\tDev F1=52.90\n",
      "[reRNN] Model saved as <reRNN>\n",
      "[reRNN] Epoch 8 (203.26s)\tAverage loss=0.280399\tDev F1=51.95\n",
      "[reRNN] Epoch 9 (226.11s)\tAverage loss=0.289825\tDev F1=52.07\n",
      "[reRNN] Epoch 10 (248.86s)\tAverage loss=0.278399\tDev F1=50.51\n",
      "[reRNN] Epoch 11 (272.12s)\tAverage loss=0.262474\tDev F1=52.69\n",
      "[reRNN] Epoch 12 (295.15s)\tAverage loss=0.257310\tDev F1=54.91\n",
      "[reRNN] Model saved as <reRNN>\n",
      "[reRNN] Epoch 13 (318.12s)\tAverage loss=0.255828\tDev F1=51.49\n",
      "[reRNN] Epoch 14 (340.94s)\tAverage loss=0.252677\tDev F1=53.90\n",
      "[reRNN] Epoch 15 (363.68s)\tAverage loss=0.248147\tDev F1=53.69\n",
      "[reRNN] Epoch 16 (386.41s)\tAverage loss=0.248712\tDev F1=51.68\n",
      "[reRNN] Epoch 17 (409.72s)\tAverage loss=0.263220\tDev F1=51.73\n",
      "[reRNN] Epoch 18 (432.56s)\tAverage loss=0.257660\tDev F1=53.03\n",
      "[reRNN] Epoch 19 (455.32s)\tAverage loss=0.253304\tDev F1=53.33\n",
      "[reRNN] Epoch 20 (478.67s)\tAverage loss=0.251038\tDev F1=56.46\n",
      "[reRNN] Model saved as <reRNN>\n",
      "[reRNN] Epoch 21 (501.76s)\tAverage loss=0.245342\tDev F1=56.23\n",
      "[reRNN] Epoch 22 (524.69s)\tAverage loss=0.240421\tDev F1=56.08\n",
      "[reRNN] Epoch 23 (547.90s)\tAverage loss=0.236606\tDev F1=55.85\n",
      "[reRNN] Epoch 24 (570.54s)\tAverage loss=0.235288\tDev F1=56.27\n",
      "[reRNN] Epoch 25 (593.76s)\tAverage loss=0.234410\tDev F1=56.60\n",
      "[reRNN] Model saved as <reRNN>\n",
      "[reRNN] Epoch 26 (617.03s)\tAverage loss=0.234110\tDev F1=56.82\n",
      "[reRNN] Model saved as <reRNN>\n",
      "[reRNN] Epoch 27 (640.28s)\tAverage loss=0.235259\tDev F1=55.75\n",
      "[reRNN] Epoch 28 (663.35s)\tAverage loss=0.239596\tDev F1=55.76\n",
      "[reRNN] Epoch 29 (686.58s)\tAverage loss=0.242099\tDev F1=54.86\n",
      "[reRNN] Training done (690.36s)\n",
      "INFO:tensorflow:Restoring parameters from checkpoints/reRNN/reRNN-26\n",
      "[reRNN] Loaded model <reRNN>\n",
      "MSE: [-0.19956815936437172]\n",
      "F1: [0.5167652859960552]\n",
      "MSE: [-0.19956815936437172, -0.1953272146685803]\n",
      "F1: [0.5167652859960552, 0.5576208178438662]\n",
      "MSE: [-0.19956815936437172, -0.1953272146685803, -0.19883767394955784]\n",
      "F1: [0.5167652859960552, 0.5576208178438662, 0.5259016393442624]\n",
      "<type 'numpy.ndarray'> <type 'list'>\n"
     ]
    },
    {
     "name": "stderr",
     "output_type": "stream",
     "text": [
      "/home/antonis/anaconda2/envs/snorkel27clone/lib/python2.7/site-packages/tensorflow/python/ops/gradients_impl.py:100: UserWarning: Converting sparse IndexedSlices to a dense Tensor of unknown shape. This may consume a large amount of memory.\n",
      "  \"Converting sparse IndexedSlices to a dense Tensor of unknown shape. \"\n"
     ]
    },
    {
     "name": "stdout",
     "output_type": "stream",
     "text": [
      "[reRNN] Training model\n",
      "[reRNN] n_train=6512  #epochs=30  batch size=64\n",
      "[reRNN] Epoch 0 (24.76s)\tAverage loss=0.558222\tDev F1=39.55\n",
      "[reRNN] Epoch 1 (52.98s)\tAverage loss=0.444965\tDev F1=50.73\n",
      "[reRNN] Model saved as <reRNN>\n",
      "[reRNN] Epoch 2 (81.20s)\tAverage loss=0.394633\tDev F1=54.93\n",
      "[reRNN] Model saved as <reRNN>\n",
      "[reRNN] Epoch 3 (109.79s)\tAverage loss=0.362223\tDev F1=55.15\n",
      "[reRNN] Model saved as <reRNN>\n",
      "[reRNN] Epoch 4 (138.07s)\tAverage loss=0.341827\tDev F1=53.28\n",
      "[reRNN] Epoch 5 (165.89s)\tAverage loss=0.325753\tDev F1=56.02\n",
      "[reRNN] Model saved as <reRNN>\n",
      "[reRNN] Epoch 6 (194.75s)\tAverage loss=0.313701\tDev F1=54.29\n",
      "[reRNN] Epoch 7 (223.24s)\tAverage loss=0.311051\tDev F1=56.57\n",
      "[reRNN] Model saved as <reRNN>\n",
      "[reRNN] Epoch 8 (251.55s)\tAverage loss=0.309414\tDev F1=57.53\n",
      "[reRNN] Model saved as <reRNN>\n",
      "[reRNN] Epoch 9 (279.77s)\tAverage loss=0.298661\tDev F1=57.11\n",
      "[reRNN] Epoch 10 (307.90s)\tAverage loss=0.292147\tDev F1=54.29\n",
      "[reRNN] Epoch 11 (335.94s)\tAverage loss=0.289346\tDev F1=56.39\n",
      "[reRNN] Epoch 12 (364.20s)\tAverage loss=0.305188\tDev F1=54.68\n",
      "[reRNN] Epoch 13 (392.42s)\tAverage loss=0.292645\tDev F1=55.70\n",
      "[reRNN] Epoch 14 (420.08s)\tAverage loss=0.286090\tDev F1=55.71\n",
      "[reRNN] Epoch 15 (448.21s)\tAverage loss=0.283921\tDev F1=56.24\n",
      "[reRNN] Epoch 16 (476.28s)\tAverage loss=0.279007\tDev F1=56.78\n",
      "[reRNN] Epoch 17 (504.38s)\tAverage loss=0.276271\tDev F1=56.40\n",
      "[reRNN] Epoch 18 (532.21s)\tAverage loss=0.274645\tDev F1=57.59\n",
      "[reRNN] Model saved as <reRNN>\n",
      "[reRNN] Epoch 19 (560.26s)\tAverage loss=0.273094\tDev F1=56.45\n",
      "[reRNN] Epoch 20 (588.46s)\tAverage loss=0.271833\tDev F1=56.83\n",
      "[reRNN] Epoch 21 (616.24s)\tAverage loss=0.270999\tDev F1=56.58\n",
      "[reRNN] Epoch 22 (644.45s)\tAverage loss=0.270587\tDev F1=56.79\n",
      "[reRNN] Epoch 23 (672.73s)\tAverage loss=0.270385\tDev F1=57.01\n",
      "[reRNN] Epoch 24 (700.86s)\tAverage loss=0.270148\tDev F1=56.93\n",
      "[reRNN] Epoch 25 (729.24s)\tAverage loss=0.272622\tDev F1=57.38\n",
      "[reRNN] Epoch 26 (757.40s)\tAverage loss=0.275188\tDev F1=55.74\n",
      "[reRNN] Epoch 27 (785.16s)\tAverage loss=0.297207\tDev F1=50.81\n",
      "[reRNN] Epoch 28 (813.51s)\tAverage loss=0.321981\tDev F1=52.43\n",
      "[reRNN] Epoch 29 (841.72s)\tAverage loss=0.314281\tDev F1=53.85\n",
      "[reRNN] Training done (845.52s)\n",
      "INFO:tensorflow:Restoring parameters from checkpoints/reRNN/reRNN-18\n",
      "[reRNN] Loaded model <reRNN>\n",
      "MSE: [-0.16794647882252928]\n",
      "F1: [0.5734265734265734]\n",
      "MSE: [-0.16794647882252928, -0.16130436942304655]\n",
      "F1: [0.5734265734265734, 0.5752840909090909]\n",
      "MSE: [-0.16794647882252928, -0.16130436942304655, -0.1646953117821308]\n",
      "F1: [0.5734265734265734, 0.5752840909090909, 0.5541125541125541]\n",
      "<type 'numpy.ndarray'> <type 'list'>\n"
     ]
    },
    {
     "name": "stderr",
     "output_type": "stream",
     "text": [
      "/home/antonis/anaconda2/envs/snorkel27clone/lib/python2.7/site-packages/tensorflow/python/ops/gradients_impl.py:100: UserWarning: Converting sparse IndexedSlices to a dense Tensor of unknown shape. This may consume a large amount of memory.\n",
      "  \"Converting sparse IndexedSlices to a dense Tensor of unknown shape. \"\n"
     ]
    },
    {
     "name": "stdout",
     "output_type": "stream",
     "text": [
      "[reRNN] Training model\n",
      "[reRNN] n_train=7794  #epochs=30  batch size=64\n",
      "[reRNN] Epoch 0 (29.45s)\tAverage loss=0.555052\tDev F1=51.36\n",
      "[reRNN] Epoch 1 (61.55s)\tAverage loss=0.440687\tDev F1=56.68\n",
      "[reRNN] Model saved as <reRNN>\n",
      "[reRNN] Epoch 2 (94.26s)\tAverage loss=0.396593\tDev F1=53.09\n",
      "[reRNN] Epoch 3 (127.01s)\tAverage loss=0.369241\tDev F1=55.92\n",
      "[reRNN] Epoch 4 (159.42s)\tAverage loss=0.355906\tDev F1=56.31\n",
      "[reRNN] Epoch 5 (192.00s)\tAverage loss=0.336787\tDev F1=55.32\n",
      "[reRNN] Epoch 6 (224.82s)\tAverage loss=0.330172\tDev F1=56.05\n",
      "[reRNN] Epoch 7 (257.48s)\tAverage loss=0.334643\tDev F1=55.95\n",
      "[reRNN] Epoch 8 (290.23s)\tAverage loss=0.320735\tDev F1=55.95\n",
      "[reRNN] Epoch 9 (323.01s)\tAverage loss=0.310961\tDev F1=56.38\n",
      "[reRNN] Epoch 10 (356.06s)\tAverage loss=0.305807\tDev F1=56.87\n",
      "[reRNN] Model saved as <reRNN>\n",
      "[reRNN] Epoch 11 (388.56s)\tAverage loss=0.301361\tDev F1=57.75\n",
      "[reRNN] Model saved as <reRNN>\n",
      "[reRNN] Epoch 12 (421.09s)\tAverage loss=0.299827\tDev F1=57.63\n",
      "[reRNN] Epoch 13 (453.70s)\tAverage loss=0.298696\tDev F1=55.90\n",
      "[reRNN] Epoch 14 (486.60s)\tAverage loss=0.297653\tDev F1=56.56\n",
      "[reRNN] Epoch 15 (519.04s)\tAverage loss=0.300285\tDev F1=57.00\n",
      "[reRNN] Epoch 16 (551.73s)\tAverage loss=0.317082\tDev F1=53.21\n",
      "[reRNN] Epoch 17 (584.42s)\tAverage loss=0.328307\tDev F1=53.88\n",
      "[reRNN] Epoch 18 (617.44s)\tAverage loss=0.323869\tDev F1=57.64\n",
      "[reRNN] Epoch 19 (650.26s)\tAverage loss=0.329312\tDev F1=54.97\n",
      "[reRNN] Epoch 20 (682.52s)\tAverage loss=0.329269\tDev F1=55.75\n",
      "[reRNN] Epoch 21 (715.30s)\tAverage loss=0.314576\tDev F1=56.19\n",
      "[reRNN] Epoch 22 (747.90s)\tAverage loss=0.306907\tDev F1=56.67\n",
      "[reRNN] Epoch 23 (781.09s)\tAverage loss=0.301141\tDev F1=55.94\n",
      "[reRNN] Epoch 24 (813.18s)\tAverage loss=0.297488\tDev F1=56.50\n",
      "[reRNN] Epoch 25 (845.97s)\tAverage loss=0.295394\tDev F1=55.89\n",
      "[reRNN] Epoch 26 (878.70s)\tAverage loss=0.294335\tDev F1=56.30\n",
      "[reRNN] Epoch 27 (911.31s)\tAverage loss=0.293347\tDev F1=55.77\n",
      "[reRNN] Epoch 28 (944.17s)\tAverage loss=0.293063\tDev F1=56.44\n",
      "[reRNN] Epoch 29 (976.65s)\tAverage loss=0.292308\tDev F1=56.43\n",
      "[reRNN] Training done (980.48s)\n",
      "INFO:tensorflow:Restoring parameters from checkpoints/reRNN/reRNN-11\n",
      "[reRNN] Loaded model <reRNN>\n",
      "MSE: [-0.16713807791637475]\n",
      "F1: [0.5560165975103735]\n",
      "MSE: [-0.16713807791637475, -0.15860259037428143]\n",
      "F1: [0.5560165975103735, 0.5910652920962199]\n",
      "MSE: [-0.16713807791637475, -0.15860259037428143, -0.16347079339177284]\n",
      "F1: [0.5560165975103735, 0.5910652920962199, 0.5454545454545454]\n"
     ]
    }
   ],
   "source": [
    "## with LSTM (Gold ---> unlab )\n",
    "## with varying number of epochs (per training examples)\n",
    "\n",
    "train_kwargs = {\n",
    "    'lr':         0.01,\n",
    "    'dim':        100,\n",
    "    'n_epochs':   30,\n",
    "    'dropout':    0.25,\n",
    "    'rebalance':  True,\n",
    "    'print_freq': 1,\n",
    "    'batch_size': 64,\n",
    "    'dev_ckpt_delay': 0,\n",
    "    'X_dev': dev, \n",
    "    'Y_dev': L_gold_dev,\n",
    "    'verbose': False,\n",
    "}\n",
    "\n",
    "train_sizes, train_mse, train_f1, valid_mse , valid_f1 , test_prf1 = custom_learning_curve(\n",
    "    reRNN(seed=1701 ), \n",
    "    X_increm = unlab, y_increm = unlab_marginals_avg, \n",
    "    X_val = test, y_val = L_gold_test, \n",
    "    X_init= train, y_init= L_gold_train,\n",
    "    X_test = test, y_test = L_gold_test, \n",
    "    fit_params = train_kwargs,\n",
    "#                       splt_sizes=np.array([0.1, 0.5, 1.  ])\n",
    "                     )\n"
   ]
  },
  {
   "cell_type": "code",
   "execution_count": null,
   "metadata": {},
   "outputs": [],
   "source": []
  },
  {
   "cell_type": "code",
   "execution_count": 83,
   "metadata": {},
   "outputs": [],
   "source": [
    "with open(pkl_paths+\"learning_curves/lstm_MVLbls_var_epochs.pickle\",'wb') as f:\n",
    "    pickle.dump((train_sizes, train_mse, train_f1, valid_mse , valid_f1 , test_prf1), f)"
   ]
  },
  {
   "cell_type": "code",
   "execution_count": 84,
   "metadata": {},
   "outputs": [
    {
     "data": {
      "text/plain": [
       "<module 'matplotlib.pyplot' from '/home/antonis/anaconda2/envs/snorkel27clone/lib/python2.7/site-packages/matplotlib/pyplot.pyc'>"
      ]
     },
     "execution_count": 84,
     "metadata": {},
     "output_type": "execute_result"
    },
    {
     "data": {
      "image/png": "[encoded data removed]",
      "text/plain": [
       "<Figure size 432x288 with 1 Axes>"
      ]
     },
     "metadata": {},
     "output_type": "display_data"
    },
    {
     "data": {
      "image/png": "[encoded data removed]",
      "text/plain": [
       "<Figure size 432x288 with 1 Axes>"
      ]
     },
     "metadata": {},
     "output_type": "display_data"
    }
   ],
   "source": [
    "\n",
    "plot_learning_curve(train_mse,valid_mse,train_sizes, 'Noisy-labeled LSTM MSE (MV,var_epochs) (P=%.2f,R=%.2f,F1=%.2f)'%(test_prf1))\n",
    "\n",
    "plot_learning_curve(train_f1,valid_f1,train_sizes, title='Noisy-labeled LSTM (MV,var_epochs) (P=%.2f,R=%.2f,F1=%.2f)'%(test_prf1))\n"
   ]
  },
  {
   "cell_type": "code",
   "execution_count": null,
   "metadata": {},
   "outputs": [],
   "source": []
  },
  {
   "cell_type": "markdown",
   "metadata": {},
   "source": [
    "** learning curve (stable number of epochs) **"
   ]
  },
  {
   "cell_type": "code",
   "execution_count": 85,
   "metadata": {},
   "outputs": [
    {
     "name": "stdout",
     "output_type": "stream",
     "text": [
      "[0.00000000e+00 1.11022302e-16 7.69230769e-02 1.53846154e-01\n",
      " 2.30769231e-01 3.07692308e-01 3.07692308e-01 3.84615385e-01\n",
      " 4.61538462e-01 5.38461538e-01 6.15384615e-01 6.92307692e-01\n",
      " 7.69230769e-01 8.46153846e-01 9.23076923e-01 1.00000000e+00\n",
      " 1.00000000e+00]\n",
      "<type 'numpy.ndarray'> <type 'list'>\n"
     ]
    },
    {
     "name": "stderr",
     "output_type": "stream",
     "text": [
      "/home/antonis/anaconda2/envs/snorkel27clone/lib/python2.7/site-packages/tensorflow/python/ops/gradients_impl.py:100: UserWarning: Converting sparse IndexedSlices to a dense Tensor of unknown shape. This may consume a large amount of memory.\n",
      "  \"Converting sparse IndexedSlices to a dense Tensor of unknown shape. \"\n"
     ]
    },
    {
     "name": "stdout",
     "output_type": "stream",
     "text": [
      "[reRNN] Training model\n",
      "[reRNN] n_train=2060  #epochs=30  batch size=64\n",
      "[reRNN] Epoch 0 (5.70s)\tAverage loss=0.575926\n",
      "[reRNN] Epoch 1 (11.46s)\tAverage loss=0.337433\n",
      "[reRNN] Epoch 2 (16.97s)\tAverage loss=0.283633\n",
      "[reRNN] Epoch 3 (22.46s)\tAverage loss=0.238711\n",
      "[reRNN] Epoch 4 (27.86s)\tAverage loss=0.216586\n",
      "[reRNN] Epoch 5 (33.20s)\tAverage loss=0.182126\n",
      "[reRNN] Epoch 6 (38.52s)\tAverage loss=0.176186\n",
      "[reRNN] Epoch 7 (43.95s)\tAverage loss=0.171803\n",
      "[reRNN] Epoch 8 (49.35s)\tAverage loss=0.152291\n",
      "[reRNN] Epoch 9 (54.77s)\tAverage loss=0.129418\n",
      "[reRNN] Epoch 10 (60.20s)\tAverage loss=0.122542\n",
      "[reRNN] Epoch 11 (65.57s)\tAverage loss=0.104992\n",
      "[reRNN] Epoch 12 (70.93s)\tAverage loss=0.092574\n",
      "[reRNN] Epoch 13 (76.22s)\tAverage loss=0.090327\n",
      "[reRNN] Epoch 14 (81.51s)\tAverage loss=0.097239\n",
      "[reRNN] Epoch 15 (86.80s)\tAverage loss=0.085093\n",
      "[reRNN] Epoch 16 (92.13s)\tAverage loss=0.064006\n",
      "[reRNN] Epoch 17 (97.58s)\tAverage loss=0.041620\n",
      "[reRNN] Epoch 18 (103.00s)\tAverage loss=0.050754\n",
      "[reRNN] Epoch 19 (108.45s)\tAverage loss=0.053275\n",
      "[reRNN] Epoch 20 (113.84s)\tAverage loss=0.042930\n",
      "[reRNN] Epoch 21 (119.23s)\tAverage loss=0.027716\n",
      "[reRNN] Epoch 22 (124.73s)\tAverage loss=0.041303\n",
      "[reRNN] Epoch 23 (130.30s)\tAverage loss=0.036148\n",
      "[reRNN] Epoch 24 (135.76s)\tAverage loss=0.035012\n",
      "[reRNN] Epoch 25 (141.27s)\tAverage loss=0.032024\n",
      "[reRNN] Epoch 26 (146.56s)\tAverage loss=0.027673\n",
      "[reRNN] Epoch 27 (151.87s)\tAverage loss=0.049095\n",
      "[reRNN] Epoch 28 (157.21s)\tAverage loss=0.046821\n",
      "[reRNN] Epoch 29 (162.50s)\tAverage loss=0.026419\n",
      "[reRNN] Training done (162.50s)\n"
     ]
    },
    {
     "name": "stderr",
     "output_type": "stream",
     "text": [
      "/home/antonis/ipythonNotebooks/snorkel-ml/snorkel/learning/disc_models/rnn/rnn_base.py:40: UserWarning: Candidate 950 has argument past max length for model:\t[arg ends at index 117; max len 117]\n",
      "  warnings.warn('\\t'.join([w.format(i), info]))\n",
      "/home/antonis/ipythonNotebooks/snorkel-ml/snorkel/learning/disc_models/rnn/rnn_base.py:40: UserWarning: Candidate 749 has argument past max length for model:\t[arg ends at index 164; max len 117]\n",
      "  warnings.warn('\\t'.join([w.format(i), info]))\n",
      "/home/antonis/ipythonNotebooks/snorkel-ml/snorkel/learning/disc_models/rnn/rnn_base.py:40: UserWarning: Candidate 751 has argument past max length for model:\t[arg ends at index 137; max len 117]\n",
      "  warnings.warn('\\t'.join([w.format(i), info]))\n",
      "/home/antonis/ipythonNotebooks/snorkel-ml/snorkel/learning/disc_models/rnn/rnn_base.py:40: UserWarning: Candidate 753 has argument past max length for model:\t[arg ends at index 164; max len 117]\n",
      "  warnings.warn('\\t'.join([w.format(i), info]))\n",
      "/home/antonis/ipythonNotebooks/snorkel-ml/snorkel/learning/disc_models/rnn/rnn_base.py:40: UserWarning: Candidate 755 has argument past max length for model:\t[arg ends at index 131; max len 117]\n",
      "  warnings.warn('\\t'.join([w.format(i), info]))\n",
      "/home/antonis/ipythonNotebooks/snorkel-ml/snorkel/learning/disc_models/rnn/rnn_base.py:40: UserWarning: Candidate 762 has argument past max length for model:\t[arg ends at index 164; max len 117]\n",
      "  warnings.warn('\\t'.join([w.format(i), info]))\n",
      "/home/antonis/ipythonNotebooks/snorkel-ml/snorkel/learning/disc_models/rnn/rnn_base.py:40: UserWarning: Candidate 772 has argument past max length for model:\t[arg ends at index 160; max len 117]\n",
      "  warnings.warn('\\t'.join([w.format(i), info]))\n",
      "/home/antonis/ipythonNotebooks/snorkel-ml/snorkel/learning/disc_models/rnn/rnn_base.py:40: UserWarning: Candidate 777 has argument past max length for model:\t[arg ends at index 137; max len 117]\n",
      "  warnings.warn('\\t'.join([w.format(i), info]))\n",
      "/home/antonis/ipythonNotebooks/snorkel-ml/snorkel/learning/disc_models/rnn/rnn_base.py:40: UserWarning: Candidate 793 has argument past max length for model:\t[arg ends at index 164; max len 117]\n",
      "  warnings.warn('\\t'.join([w.format(i), info]))\n",
      "/home/antonis/ipythonNotebooks/snorkel-ml/snorkel/learning/disc_models/rnn/rnn_base.py:40: UserWarning: Candidate 795 has argument past max length for model:\t[arg ends at index 137; max len 117]\n",
      "  warnings.warn('\\t'.join([w.format(i), info]))\n",
      "/home/antonis/ipythonNotebooks/snorkel-ml/snorkel/learning/disc_models/rnn/rnn_base.py:40: UserWarning: Candidate 802 has argument past max length for model:\t[arg ends at index 164; max len 117]\n",
      "  warnings.warn('\\t'.join([w.format(i), info]))\n",
      "/home/antonis/ipythonNotebooks/snorkel-ml/snorkel/learning/disc_models/rnn/rnn_base.py:40: UserWarning: Candidate 950 has argument past max length for model:\t[arg ends at index 117; max len 117]\n",
      "  warnings.warn('\\t'.join([w.format(i), info]))\n",
      "/home/antonis/ipythonNotebooks/snorkel-ml/snorkel/learning/disc_models/rnn/rnn_base.py:40: UserWarning: Candidate 749 has argument past max length for model:\t[arg ends at index 164; max len 117]\n",
      "  warnings.warn('\\t'.join([w.format(i), info]))\n",
      "/home/antonis/ipythonNotebooks/snorkel-ml/snorkel/learning/disc_models/rnn/rnn_base.py:40: UserWarning: Candidate 751 has argument past max length for model:\t[arg ends at index 137; max len 117]\n",
      "  warnings.warn('\\t'.join([w.format(i), info]))\n",
      "/home/antonis/ipythonNotebooks/snorkel-ml/snorkel/learning/disc_models/rnn/rnn_base.py:40: UserWarning: Candidate 753 has argument past max length for model:\t[arg ends at index 164; max len 117]\n",
      "  warnings.warn('\\t'.join([w.format(i), info]))\n",
      "/home/antonis/ipythonNotebooks/snorkel-ml/snorkel/learning/disc_models/rnn/rnn_base.py:40: UserWarning: Candidate 755 has argument past max length for model:\t[arg ends at index 131; max len 117]\n",
      "  warnings.warn('\\t'.join([w.format(i), info]))\n",
      "/home/antonis/ipythonNotebooks/snorkel-ml/snorkel/learning/disc_models/rnn/rnn_base.py:40: UserWarning: Candidate 762 has argument past max length for model:\t[arg ends at index 164; max len 117]\n",
      "  warnings.warn('\\t'.join([w.format(i), info]))\n",
      "/home/antonis/ipythonNotebooks/snorkel-ml/snorkel/learning/disc_models/rnn/rnn_base.py:40: UserWarning: Candidate 772 has argument past max length for model:\t[arg ends at index 160; max len 117]\n",
      "  warnings.warn('\\t'.join([w.format(i), info]))\n",
      "/home/antonis/ipythonNotebooks/snorkel-ml/snorkel/learning/disc_models/rnn/rnn_base.py:40: UserWarning: Candidate 777 has argument past max length for model:\t[arg ends at index 137; max len 117]\n",
      "  warnings.warn('\\t'.join([w.format(i), info]))\n",
      "/home/antonis/ipythonNotebooks/snorkel-ml/snorkel/learning/disc_models/rnn/rnn_base.py:40: UserWarning: Candidate 793 has argument past max length for model:\t[arg ends at index 164; max len 117]\n",
      "  warnings.warn('\\t'.join([w.format(i), info]))\n",
      "/home/antonis/ipythonNotebooks/snorkel-ml/snorkel/learning/disc_models/rnn/rnn_base.py:40: UserWarning: Candidate 795 has argument past max length for model:\t[arg ends at index 137; max len 117]\n",
      "  warnings.warn('\\t'.join([w.format(i), info]))\n",
      "/home/antonis/ipythonNotebooks/snorkel-ml/snorkel/learning/disc_models/rnn/rnn_base.py:40: UserWarning: Candidate 802 has argument past max length for model:\t[arg ends at index 164; max len 117]\n",
      "  warnings.warn('\\t'.join([w.format(i), info]))\n"
     ]
    },
    {
     "name": "stdout",
     "output_type": "stream",
     "text": [
      "MSE: [-0.3638191294399674]\n",
      "F1: [0.405616224648986]\n"
     ]
    },
    {
     "name": "stderr",
     "output_type": "stream",
     "text": [
      "/home/antonis/ipythonNotebooks/snorkel-ml/snorkel/learning/disc_models/rnn/rnn_base.py:40: UserWarning: Candidate 935 has argument past max length for model:\t[arg ends at index 117; max len 117]\n",
      "  warnings.warn('\\t'.join([w.format(i), info]))\n",
      "/home/antonis/ipythonNotebooks/snorkel-ml/snorkel/learning/disc_models/rnn/rnn_base.py:40: UserWarning: Candidate 700 has argument past max length for model:\t[arg ends at index 137; max len 117]\n",
      "  warnings.warn('\\t'.join([w.format(i), info]))\n",
      "/home/antonis/ipythonNotebooks/snorkel-ml/snorkel/learning/disc_models/rnn/rnn_base.py:40: UserWarning: Candidate 721 has argument past max length for model:\t[arg ends at index 137; max len 117]\n",
      "  warnings.warn('\\t'.join([w.format(i), info]))\n",
      "/home/antonis/ipythonNotebooks/snorkel-ml/snorkel/learning/disc_models/rnn/rnn_base.py:40: UserWarning: Candidate 730 has argument past max length for model:\t[arg ends at index 160; max len 117]\n",
      "  warnings.warn('\\t'.join([w.format(i), info]))\n",
      "/home/antonis/ipythonNotebooks/snorkel-ml/snorkel/learning/disc_models/rnn/rnn_base.py:40: UserWarning: Candidate 737 has argument past max length for model:\t[arg ends at index 160; max len 117]\n",
      "  warnings.warn('\\t'.join([w.format(i), info]))\n",
      "/home/antonis/ipythonNotebooks/snorkel-ml/snorkel/learning/disc_models/rnn/rnn_base.py:40: UserWarning: Candidate 742 has argument past max length for model:\t[arg ends at index 164; max len 117]\n",
      "  warnings.warn('\\t'.join([w.format(i), info]))\n",
      "/home/antonis/ipythonNotebooks/snorkel-ml/snorkel/learning/disc_models/rnn/rnn_base.py:40: UserWarning: Candidate 754 has argument past max length for model:\t[arg ends at index 164; max len 117]\n",
      "  warnings.warn('\\t'.join([w.format(i), info]))\n",
      "/home/antonis/ipythonNotebooks/snorkel-ml/snorkel/learning/disc_models/rnn/rnn_base.py:40: UserWarning: Candidate 935 has argument past max length for model:\t[arg ends at index 117; max len 117]\n",
      "  warnings.warn('\\t'.join([w.format(i), info]))\n",
      "/home/antonis/ipythonNotebooks/snorkel-ml/snorkel/learning/disc_models/rnn/rnn_base.py:40: UserWarning: Candidate 700 has argument past max length for model:\t[arg ends at index 137; max len 117]\n",
      "  warnings.warn('\\t'.join([w.format(i), info]))\n",
      "/home/antonis/ipythonNotebooks/snorkel-ml/snorkel/learning/disc_models/rnn/rnn_base.py:40: UserWarning: Candidate 721 has argument past max length for model:\t[arg ends at index 137; max len 117]\n",
      "  warnings.warn('\\t'.join([w.format(i), info]))\n",
      "/home/antonis/ipythonNotebooks/snorkel-ml/snorkel/learning/disc_models/rnn/rnn_base.py:40: UserWarning: Candidate 730 has argument past max length for model:\t[arg ends at index 160; max len 117]\n",
      "  warnings.warn('\\t'.join([w.format(i), info]))\n",
      "/home/antonis/ipythonNotebooks/snorkel-ml/snorkel/learning/disc_models/rnn/rnn_base.py:40: UserWarning: Candidate 737 has argument past max length for model:\t[arg ends at index 160; max len 117]\n",
      "  warnings.warn('\\t'.join([w.format(i), info]))\n",
      "/home/antonis/ipythonNotebooks/snorkel-ml/snorkel/learning/disc_models/rnn/rnn_base.py:40: UserWarning: Candidate 742 has argument past max length for model:\t[arg ends at index 164; max len 117]\n",
      "  warnings.warn('\\t'.join([w.format(i), info]))\n",
      "/home/antonis/ipythonNotebooks/snorkel-ml/snorkel/learning/disc_models/rnn/rnn_base.py:40: UserWarning: Candidate 754 has argument past max length for model:\t[arg ends at index 164; max len 117]\n",
      "  warnings.warn('\\t'.join([w.format(i), info]))\n"
     ]
    },
    {
     "name": "stdout",
     "output_type": "stream",
     "text": [
      "MSE: [-0.3638191294399674, -0.35934968315227317]\n",
      "F1: [0.405616224648986, 0.42923314462171896]\n"
     ]
    },
    {
     "name": "stderr",
     "output_type": "stream",
     "text": [
      "/home/antonis/ipythonNotebooks/snorkel-ml/snorkel/learning/disc_models/rnn/rnn_base.py:40: UserWarning: Candidate 942 has argument past max length for model:\t[arg ends at index 117; max len 117]\n",
      "  warnings.warn('\\t'.join([w.format(i), info]))\n",
      "/home/antonis/ipythonNotebooks/snorkel-ml/snorkel/learning/disc_models/rnn/rnn_base.py:40: UserWarning: Candidate 744 has argument past max length for model:\t[arg ends at index 131; max len 117]\n",
      "  warnings.warn('\\t'.join([w.format(i), info]))\n",
      "/home/antonis/ipythonNotebooks/snorkel-ml/snorkel/learning/disc_models/rnn/rnn_base.py:40: UserWarning: Candidate 754 has argument past max length for model:\t[arg ends at index 131; max len 117]\n",
      "  warnings.warn('\\t'.join([w.format(i), info]))\n",
      "/home/antonis/ipythonNotebooks/snorkel-ml/snorkel/learning/disc_models/rnn/rnn_base.py:40: UserWarning: Candidate 774 has argument past max length for model:\t[arg ends at index 160; max len 117]\n",
      "  warnings.warn('\\t'.join([w.format(i), info]))\n",
      "/home/antonis/ipythonNotebooks/snorkel-ml/snorkel/learning/disc_models/rnn/rnn_base.py:40: UserWarning: Candidate 775 has argument past max length for model:\t[arg ends at index 160; max len 117]\n",
      "  warnings.warn('\\t'.join([w.format(i), info]))\n",
      "/home/antonis/ipythonNotebooks/snorkel-ml/snorkel/learning/disc_models/rnn/rnn_base.py:40: UserWarning: Candidate 779 has argument past max length for model:\t[arg ends at index 160; max len 117]\n",
      "  warnings.warn('\\t'.join([w.format(i), info]))\n",
      "/home/antonis/ipythonNotebooks/snorkel-ml/snorkel/learning/disc_models/rnn/rnn_base.py:40: UserWarning: Candidate 781 has argument past max length for model:\t[arg ends at index 160; max len 117]\n",
      "  warnings.warn('\\t'.join([w.format(i), info]))\n",
      "/home/antonis/ipythonNotebooks/snorkel-ml/snorkel/learning/disc_models/rnn/rnn_base.py:40: UserWarning: Candidate 785 has argument past max length for model:\t[arg ends at index 131; max len 117]\n",
      "  warnings.warn('\\t'.join([w.format(i), info]))\n",
      "/home/antonis/ipythonNotebooks/snorkel-ml/snorkel/learning/disc_models/rnn/rnn_base.py:40: UserWarning: Candidate 794 has argument past max length for model:\t[arg ends at index 131; max len 117]\n",
      "  warnings.warn('\\t'.join([w.format(i), info]))\n",
      "/home/antonis/ipythonNotebooks/snorkel-ml/snorkel/learning/disc_models/rnn/rnn_base.py:40: UserWarning: Candidate 795 has argument past max length for model:\t[arg ends at index 137; max len 117]\n",
      "  warnings.warn('\\t'.join([w.format(i), info]))\n",
      "/home/antonis/ipythonNotebooks/snorkel-ml/snorkel/learning/disc_models/rnn/rnn_base.py:40: UserWarning: Candidate 805 has argument past max length for model:\t[arg ends at index 131; max len 117]\n",
      "  warnings.warn('\\t'.join([w.format(i), info]))\n",
      "/home/antonis/ipythonNotebooks/snorkel-ml/snorkel/learning/disc_models/rnn/rnn_base.py:40: UserWarning: Candidate 942 has argument past max length for model:\t[arg ends at index 117; max len 117]\n",
      "  warnings.warn('\\t'.join([w.format(i), info]))\n",
      "/home/antonis/ipythonNotebooks/snorkel-ml/snorkel/learning/disc_models/rnn/rnn_base.py:40: UserWarning: Candidate 744 has argument past max length for model:\t[arg ends at index 131; max len 117]\n",
      "  warnings.warn('\\t'.join([w.format(i), info]))\n",
      "/home/antonis/ipythonNotebooks/snorkel-ml/snorkel/learning/disc_models/rnn/rnn_base.py:40: UserWarning: Candidate 754 has argument past max length for model:\t[arg ends at index 131; max len 117]\n",
      "  warnings.warn('\\t'.join([w.format(i), info]))\n",
      "/home/antonis/ipythonNotebooks/snorkel-ml/snorkel/learning/disc_models/rnn/rnn_base.py:40: UserWarning: Candidate 774 has argument past max length for model:\t[arg ends at index 160; max len 117]\n",
      "  warnings.warn('\\t'.join([w.format(i), info]))\n",
      "/home/antonis/ipythonNotebooks/snorkel-ml/snorkel/learning/disc_models/rnn/rnn_base.py:40: UserWarning: Candidate 775 has argument past max length for model:\t[arg ends at index 160; max len 117]\n",
      "  warnings.warn('\\t'.join([w.format(i), info]))\n",
      "/home/antonis/ipythonNotebooks/snorkel-ml/snorkel/learning/disc_models/rnn/rnn_base.py:40: UserWarning: Candidate 779 has argument past max length for model:\t[arg ends at index 160; max len 117]\n",
      "  warnings.warn('\\t'.join([w.format(i), info]))\n",
      "/home/antonis/ipythonNotebooks/snorkel-ml/snorkel/learning/disc_models/rnn/rnn_base.py:40: UserWarning: Candidate 781 has argument past max length for model:\t[arg ends at index 160; max len 117]\n",
      "  warnings.warn('\\t'.join([w.format(i), info]))\n",
      "/home/antonis/ipythonNotebooks/snorkel-ml/snorkel/learning/disc_models/rnn/rnn_base.py:40: UserWarning: Candidate 785 has argument past max length for model:\t[arg ends at index 131; max len 117]\n",
      "  warnings.warn('\\t'.join([w.format(i), info]))\n",
      "/home/antonis/ipythonNotebooks/snorkel-ml/snorkel/learning/disc_models/rnn/rnn_base.py:40: UserWarning: Candidate 794 has argument past max length for model:\t[arg ends at index 131; max len 117]\n",
      "  warnings.warn('\\t'.join([w.format(i), info]))\n",
      "/home/antonis/ipythonNotebooks/snorkel-ml/snorkel/learning/disc_models/rnn/rnn_base.py:40: UserWarning: Candidate 795 has argument past max length for model:\t[arg ends at index 137; max len 117]\n",
      "  warnings.warn('\\t'.join([w.format(i), info]))\n",
      "/home/antonis/ipythonNotebooks/snorkel-ml/snorkel/learning/disc_models/rnn/rnn_base.py:40: UserWarning: Candidate 805 has argument past max length for model:\t[arg ends at index 131; max len 117]\n",
      "  warnings.warn('\\t'.join([w.format(i), info]))\n"
     ]
    },
    {
     "name": "stdout",
     "output_type": "stream",
     "text": [
      "MSE: [-0.3638191294399674, -0.35934968315227317, -0.37444258591384333]\n",
      "F1: [0.405616224648986, 0.42923314462171896, 0.39979231568016615]\n"
     ]
    },
    {
     "name": "stderr",
     "output_type": "stream",
     "text": [
      "/home/antonis/ipythonNotebooks/snorkel-ml/snorkel/learning/disc_models/rnn/rnn_base.py:40: UserWarning: Candidate 777 has argument past max length for model:\t[arg ends at index 117; max len 117]\n",
      "  warnings.warn('\\t'.join([w.format(i), info]))\n",
      "/home/antonis/ipythonNotebooks/snorkel-ml/snorkel/learning/disc_models/rnn/rnn_base.py:40: UserWarning: Candidate 782 has argument past max length for model:\t[arg ends at index 117; max len 117]\n",
      "  warnings.warn('\\t'.join([w.format(i), info]))\n",
      "/home/antonis/ipythonNotebooks/snorkel-ml/snorkel/learning/disc_models/rnn/rnn_base.py:40: UserWarning: Candidate 786 has argument past max length for model:\t[arg ends at index 117; max len 117]\n",
      "  warnings.warn('\\t'.join([w.format(i), info]))\n",
      "/home/antonis/ipythonNotebooks/snorkel-ml/snorkel/learning/disc_models/rnn/rnn_base.py:40: UserWarning: Candidate 136 has argument past max length for model:\t[arg ends at index 131; max len 117]\n",
      "  warnings.warn('\\t'.join([w.format(i), info]))\n",
      "/home/antonis/ipythonNotebooks/snorkel-ml/snorkel/learning/disc_models/rnn/rnn_base.py:40: UserWarning: Candidate 141 has argument past max length for model:\t[arg ends at index 137; max len 117]\n",
      "  warnings.warn('\\t'.join([w.format(i), info]))\n",
      "/home/antonis/ipythonNotebooks/snorkel-ml/snorkel/learning/disc_models/rnn/rnn_base.py:40: UserWarning: Candidate 166 has argument past max length for model:\t[arg ends at index 164; max len 117]\n",
      "  warnings.warn('\\t'.join([w.format(i), info]))\n",
      "/home/antonis/ipythonNotebooks/snorkel-ml/snorkel/learning/disc_models/rnn/rnn_base.py:40: UserWarning: Candidate 169 has argument past max length for model:\t[arg ends at index 131; max len 117]\n",
      "  warnings.warn('\\t'.join([w.format(i), info]))\n",
      "/home/antonis/ipythonNotebooks/snorkel-ml/snorkel/learning/disc_models/rnn/rnn_base.py:40: UserWarning: Candidate 172 has argument past max length for model:\t[arg ends at index 137; max len 117]\n",
      "  warnings.warn('\\t'.join([w.format(i), info]))\n",
      "/home/antonis/ipythonNotebooks/snorkel-ml/snorkel/learning/disc_models/rnn/rnn_base.py:40: UserWarning: Candidate 190 has argument past max length for model:\t[arg ends at index 164; max len 117]\n",
      "  warnings.warn('\\t'.join([w.format(i), info]))\n",
      "/home/antonis/ipythonNotebooks/snorkel-ml/snorkel/learning/disc_models/rnn/rnn_base.py:40: UserWarning: Candidate 194 has argument past max length for model:\t[arg ends at index 131; max len 117]\n",
      "  warnings.warn('\\t'.join([w.format(i), info]))\n",
      "/home/antonis/ipythonNotebooks/snorkel-ml/snorkel/learning/disc_models/rnn/rnn_base.py:40: UserWarning: Candidate 196 has argument past max length for model:\t[arg ends at index 137; max len 117]\n",
      "  warnings.warn('\\t'.join([w.format(i), info]))\n",
      "/home/antonis/ipythonNotebooks/snorkel-ml/snorkel/learning/disc_models/rnn/rnn_base.py:40: UserWarning: Candidate 217 has argument past max length for model:\t[arg ends at index 164; max len 117]\n",
      "  warnings.warn('\\t'.join([w.format(i), info]))\n",
      "/home/antonis/ipythonNotebooks/snorkel-ml/snorkel/learning/disc_models/rnn/rnn_base.py:40: UserWarning: Candidate 220 has argument past max length for model:\t[arg ends at index 160; max len 117]\n",
      "  warnings.warn('\\t'.join([w.format(i), info]))\n",
      "/home/antonis/ipythonNotebooks/snorkel-ml/snorkel/learning/disc_models/rnn/rnn_base.py:40: UserWarning: Candidate 223 has argument past max length for model:\t[arg ends at index 160; max len 117]\n",
      "  warnings.warn('\\t'.join([w.format(i), info]))\n",
      "/home/antonis/ipythonNotebooks/snorkel-ml/snorkel/learning/disc_models/rnn/rnn_base.py:40: UserWarning: Candidate 226 has argument past max length for model:\t[arg ends at index 160; max len 117]\n",
      "  warnings.warn('\\t'.join([w.format(i), info]))\n",
      "/home/antonis/ipythonNotebooks/snorkel-ml/snorkel/learning/disc_models/rnn/rnn_base.py:40: UserWarning: Candidate 233 has argument past max length for model:\t[arg ends at index 160; max len 117]\n",
      "  warnings.warn('\\t'.join([w.format(i), info]))\n",
      "/home/antonis/ipythonNotebooks/snorkel-ml/snorkel/learning/disc_models/rnn/rnn_base.py:40: UserWarning: Candidate 238 has argument past max length for model:\t[arg ends at index 160; max len 117]\n",
      "  warnings.warn('\\t'.join([w.format(i), info]))\n",
      "/home/antonis/ipythonNotebooks/snorkel-ml/snorkel/learning/disc_models/rnn/rnn_base.py:40: UserWarning: Candidate 242 has argument past max length for model:\t[arg ends at index 160; max len 117]\n",
      "  warnings.warn('\\t'.join([w.format(i), info]))\n",
      "/home/antonis/ipythonNotebooks/snorkel-ml/snorkel/learning/disc_models/rnn/rnn_base.py:40: UserWarning: Candidate 248 has argument past max length for model:\t[arg ends at index 160; max len 117]\n",
      "  warnings.warn('\\t'.join([w.format(i), info]))\n",
      "/home/antonis/ipythonNotebooks/snorkel-ml/snorkel/learning/disc_models/rnn/rnn_base.py:40: UserWarning: Candidate 252 has argument past max length for model:\t[arg ends at index 164; max len 117]\n",
      "  warnings.warn('\\t'.join([w.format(i), info]))\n",
      "/home/antonis/ipythonNotebooks/snorkel-ml/snorkel/learning/disc_models/rnn/rnn_base.py:40: UserWarning: Candidate 256 has argument past max length for model:\t[arg ends at index 131; max len 117]\n",
      "  warnings.warn('\\t'.join([w.format(i), info]))\n",
      "/home/antonis/ipythonNotebooks/snorkel-ml/snorkel/learning/disc_models/rnn/rnn_base.py:40: UserWarning: Candidate 261 has argument past max length for model:\t[arg ends at index 137; max len 117]\n",
      "  warnings.warn('\\t'.join([w.format(i), info]))\n",
      "/home/antonis/ipythonNotebooks/snorkel-ml/snorkel/learning/disc_models/rnn/rnn_base.py:40: UserWarning: Candidate 284 has argument past max length for model:\t[arg ends at index 164; max len 117]\n",
      "  warnings.warn('\\t'.join([w.format(i), info]))\n",
      "/home/antonis/ipythonNotebooks/snorkel-ml/snorkel/learning/disc_models/rnn/rnn_base.py:40: UserWarning: Candidate 288 has argument past max length for model:\t[arg ends at index 131; max len 117]\n",
      "  warnings.warn('\\t'.join([w.format(i), info]))\n",
      "/home/antonis/ipythonNotebooks/snorkel-ml/snorkel/learning/disc_models/rnn/rnn_base.py:40: UserWarning: Candidate 293 has argument past max length for model:\t[arg ends at index 137; max len 117]\n",
      "  warnings.warn('\\t'.join([w.format(i), info]))\n",
      "/home/antonis/ipythonNotebooks/snorkel-ml/snorkel/learning/disc_models/rnn/rnn_base.py:40: UserWarning: Candidate 314 has argument past max length for model:\t[arg ends at index 164; max len 117]\n",
      "  warnings.warn('\\t'.join([w.format(i), info]))\n",
      "/home/antonis/ipythonNotebooks/snorkel-ml/snorkel/learning/disc_models/rnn/rnn_base.py:40: UserWarning: Candidate 319 has argument past max length for model:\t[arg ends at index 131; max len 117]\n",
      "  warnings.warn('\\t'.join([w.format(i), info]))\n",
      "/home/antonis/ipythonNotebooks/snorkel-ml/snorkel/learning/disc_models/rnn/rnn_base.py:40: UserWarning: Candidate 321 has argument past max length for model:\t[arg ends at index 137; max len 117]\n",
      "  warnings.warn('\\t'.join([w.format(i), info]))\n",
      "/home/antonis/ipythonNotebooks/snorkel-ml/snorkel/learning/disc_models/rnn/rnn_base.py:40: UserWarning: Candidate 340 has argument past max length for model:\t[arg ends at index 164; max len 117]\n",
      "  warnings.warn('\\t'.join([w.format(i), info]))\n",
      "/home/antonis/ipythonNotebooks/snorkel-ml/snorkel/learning/disc_models/rnn/rnn_base.py:40: UserWarning: Candidate 777 has argument past max length for model:\t[arg ends at index 117; max len 117]\n",
      "  warnings.warn('\\t'.join([w.format(i), info]))\n",
      "/home/antonis/ipythonNotebooks/snorkel-ml/snorkel/learning/disc_models/rnn/rnn_base.py:40: UserWarning: Candidate 782 has argument past max length for model:\t[arg ends at index 117; max len 117]\n",
      "  warnings.warn('\\t'.join([w.format(i), info]))\n",
      "/home/antonis/ipythonNotebooks/snorkel-ml/snorkel/learning/disc_models/rnn/rnn_base.py:40: UserWarning: Candidate 786 has argument past max length for model:\t[arg ends at index 117; max len 117]\n",
      "  warnings.warn('\\t'.join([w.format(i), info]))\n",
      "/home/antonis/ipythonNotebooks/snorkel-ml/snorkel/learning/disc_models/rnn/rnn_base.py:40: UserWarning: Candidate 136 has argument past max length for model:\t[arg ends at index 131; max len 117]\n",
      "  warnings.warn('\\t'.join([w.format(i), info]))\n",
      "/home/antonis/ipythonNotebooks/snorkel-ml/snorkel/learning/disc_models/rnn/rnn_base.py:40: UserWarning: Candidate 141 has argument past max length for model:\t[arg ends at index 137; max len 117]\n",
      "  warnings.warn('\\t'.join([w.format(i), info]))\n",
      "/home/antonis/ipythonNotebooks/snorkel-ml/snorkel/learning/disc_models/rnn/rnn_base.py:40: UserWarning: Candidate 166 has argument past max length for model:\t[arg ends at index 164; max len 117]\n",
      "  warnings.warn('\\t'.join([w.format(i), info]))\n",
      "/home/antonis/ipythonNotebooks/snorkel-ml/snorkel/learning/disc_models/rnn/rnn_base.py:40: UserWarning: Candidate 169 has argument past max length for model:\t[arg ends at index 131; max len 117]\n",
      "  warnings.warn('\\t'.join([w.format(i), info]))\n",
      "/home/antonis/ipythonNotebooks/snorkel-ml/snorkel/learning/disc_models/rnn/rnn_base.py:40: UserWarning: Candidate 172 has argument past max length for model:\t[arg ends at index 137; max len 117]\n",
      "  warnings.warn('\\t'.join([w.format(i), info]))\n",
      "/home/antonis/ipythonNotebooks/snorkel-ml/snorkel/learning/disc_models/rnn/rnn_base.py:40: UserWarning: Candidate 190 has argument past max length for model:\t[arg ends at index 164; max len 117]\n",
      "  warnings.warn('\\t'.join([w.format(i), info]))\n",
      "/home/antonis/ipythonNotebooks/snorkel-ml/snorkel/learning/disc_models/rnn/rnn_base.py:40: UserWarning: Candidate 194 has argument past max length for model:\t[arg ends at index 131; max len 117]\n",
      "  warnings.warn('\\t'.join([w.format(i), info]))\n",
      "/home/antonis/ipythonNotebooks/snorkel-ml/snorkel/learning/disc_models/rnn/rnn_base.py:40: UserWarning: Candidate 196 has argument past max length for model:\t[arg ends at index 137; max len 117]\n",
      "  warnings.warn('\\t'.join([w.format(i), info]))\n",
      "/home/antonis/ipythonNotebooks/snorkel-ml/snorkel/learning/disc_models/rnn/rnn_base.py:40: UserWarning: Candidate 217 has argument past max length for model:\t[arg ends at index 164; max len 117]\n",
      "  warnings.warn('\\t'.join([w.format(i), info]))\n",
      "/home/antonis/ipythonNotebooks/snorkel-ml/snorkel/learning/disc_models/rnn/rnn_base.py:40: UserWarning: Candidate 220 has argument past max length for model:\t[arg ends at index 160; max len 117]\n",
      "  warnings.warn('\\t'.join([w.format(i), info]))\n",
      "/home/antonis/ipythonNotebooks/snorkel-ml/snorkel/learning/disc_models/rnn/rnn_base.py:40: UserWarning: Candidate 223 has argument past max length for model:\t[arg ends at index 160; max len 117]\n",
      "  warnings.warn('\\t'.join([w.format(i), info]))\n",
      "/home/antonis/ipythonNotebooks/snorkel-ml/snorkel/learning/disc_models/rnn/rnn_base.py:40: UserWarning: Candidate 226 has argument past max length for model:\t[arg ends at index 160; max len 117]\n",
      "  warnings.warn('\\t'.join([w.format(i), info]))\n",
      "/home/antonis/ipythonNotebooks/snorkel-ml/snorkel/learning/disc_models/rnn/rnn_base.py:40: UserWarning: Candidate 233 has argument past max length for model:\t[arg ends at index 160; max len 117]\n",
      "  warnings.warn('\\t'.join([w.format(i), info]))\n",
      "/home/antonis/ipythonNotebooks/snorkel-ml/snorkel/learning/disc_models/rnn/rnn_base.py:40: UserWarning: Candidate 238 has argument past max length for model:\t[arg ends at index 160; max len 117]\n",
      "  warnings.warn('\\t'.join([w.format(i), info]))\n",
      "/home/antonis/ipythonNotebooks/snorkel-ml/snorkel/learning/disc_models/rnn/rnn_base.py:40: UserWarning: Candidate 242 has argument past max length for model:\t[arg ends at index 160; max len 117]\n",
      "  warnings.warn('\\t'.join([w.format(i), info]))\n",
      "/home/antonis/ipythonNotebooks/snorkel-ml/snorkel/learning/disc_models/rnn/rnn_base.py:40: UserWarning: Candidate 248 has argument past max length for model:\t[arg ends at index 160; max len 117]\n",
      "  warnings.warn('\\t'.join([w.format(i), info]))\n",
      "/home/antonis/ipythonNotebooks/snorkel-ml/snorkel/learning/disc_models/rnn/rnn_base.py:40: UserWarning: Candidate 252 has argument past max length for model:\t[arg ends at index 164; max len 117]\n",
      "  warnings.warn('\\t'.join([w.format(i), info]))\n",
      "/home/antonis/ipythonNotebooks/snorkel-ml/snorkel/learning/disc_models/rnn/rnn_base.py:40: UserWarning: Candidate 256 has argument past max length for model:\t[arg ends at index 131; max len 117]\n",
      "  warnings.warn('\\t'.join([w.format(i), info]))\n",
      "/home/antonis/ipythonNotebooks/snorkel-ml/snorkel/learning/disc_models/rnn/rnn_base.py:40: UserWarning: Candidate 261 has argument past max length for model:\t[arg ends at index 137; max len 117]\n",
      "  warnings.warn('\\t'.join([w.format(i), info]))\n",
      "/home/antonis/ipythonNotebooks/snorkel-ml/snorkel/learning/disc_models/rnn/rnn_base.py:40: UserWarning: Candidate 284 has argument past max length for model:\t[arg ends at index 164; max len 117]\n",
      "  warnings.warn('\\t'.join([w.format(i), info]))\n",
      "/home/antonis/ipythonNotebooks/snorkel-ml/snorkel/learning/disc_models/rnn/rnn_base.py:40: UserWarning: Candidate 288 has argument past max length for model:\t[arg ends at index 131; max len 117]\n",
      "  warnings.warn('\\t'.join([w.format(i), info]))\n",
      "/home/antonis/ipythonNotebooks/snorkel-ml/snorkel/learning/disc_models/rnn/rnn_base.py:40: UserWarning: Candidate 293 has argument past max length for model:\t[arg ends at index 137; max len 117]\n",
      "  warnings.warn('\\t'.join([w.format(i), info]))\n",
      "/home/antonis/ipythonNotebooks/snorkel-ml/snorkel/learning/disc_models/rnn/rnn_base.py:40: UserWarning: Candidate 314 has argument past max length for model:\t[arg ends at index 164; max len 117]\n",
      "  warnings.warn('\\t'.join([w.format(i), info]))\n",
      "/home/antonis/ipythonNotebooks/snorkel-ml/snorkel/learning/disc_models/rnn/rnn_base.py:40: UserWarning: Candidate 319 has argument past max length for model:\t[arg ends at index 131; max len 117]\n",
      "  warnings.warn('\\t'.join([w.format(i), info]))\n",
      "/home/antonis/ipythonNotebooks/snorkel-ml/snorkel/learning/disc_models/rnn/rnn_base.py:40: UserWarning: Candidate 321 has argument past max length for model:\t[arg ends at index 137; max len 117]\n",
      "  warnings.warn('\\t'.join([w.format(i), info]))\n",
      "/home/antonis/ipythonNotebooks/snorkel-ml/snorkel/learning/disc_models/rnn/rnn_base.py:40: UserWarning: Candidate 340 has argument past max length for model:\t[arg ends at index 164; max len 117]\n",
      "  warnings.warn('\\t'.join([w.format(i), info]))\n"
     ]
    },
    {
     "name": "stdout",
     "output_type": "stream",
     "text": [
      "<type 'numpy.ndarray'> <type 'list'>\n"
     ]
    },
    {
     "name": "stderr",
     "output_type": "stream",
     "text": [
      "/home/antonis/anaconda2/envs/snorkel27clone/lib/python2.7/site-packages/tensorflow/python/ops/gradients_impl.py:100: UserWarning: Converting sparse IndexedSlices to a dense Tensor of unknown shape. This may consume a large amount of memory.\n",
      "  \"Converting sparse IndexedSlices to a dense Tensor of unknown shape. \"\n"
     ]
    },
    {
     "name": "stdout",
     "output_type": "stream",
     "text": [
      "[reRNN] Training model\n",
      "[reRNN] n_train=3940  #epochs=30  batch size=64\n",
      "[reRNN] Epoch 0 (15.17s)\tAverage loss=0.578487\n",
      "[reRNN] Epoch 1 (29.63s)\tAverage loss=0.417654\n",
      "[reRNN] Epoch 2 (43.85s)\tAverage loss=0.362624\n",
      "[reRNN] Epoch 3 (58.32s)\tAverage loss=0.326443\n",
      "[reRNN] Epoch 4 (72.67s)\tAverage loss=0.297471\n",
      "[reRNN] Epoch 5 (87.27s)\tAverage loss=0.282306\n",
      "[reRNN] Epoch 6 (101.53s)\tAverage loss=0.278187\n",
      "[reRNN] Epoch 7 (115.51s)\tAverage loss=0.267731\n",
      "[reRNN] Epoch 8 (130.08s)\tAverage loss=0.249061\n",
      "[reRNN] Epoch 9 (144.27s)\tAverage loss=0.242465\n",
      "[reRNN] Epoch 10 (158.69s)\tAverage loss=0.239138\n",
      "[reRNN] Epoch 11 (173.01s)\tAverage loss=0.237726\n",
      "[reRNN] Epoch 12 (187.30s)\tAverage loss=0.226652\n",
      "[reRNN] Epoch 13 (201.63s)\tAverage loss=0.214459\n",
      "[reRNN] Epoch 14 (215.76s)\tAverage loss=0.205053\n",
      "[reRNN] Epoch 15 (229.97s)\tAverage loss=0.211698\n",
      "[reRNN] Epoch 16 (244.16s)\tAverage loss=0.207042\n",
      "[reRNN] Epoch 17 (258.31s)\tAverage loss=0.199206\n",
      "[reRNN] Epoch 18 (272.95s)\tAverage loss=0.194774\n",
      "[reRNN] Epoch 19 (287.70s)\tAverage loss=0.203717\n",
      "[reRNN] Epoch 20 (302.02s)\tAverage loss=0.206276\n",
      "[reRNN] Epoch 21 (316.54s)\tAverage loss=0.208008\n",
      "[reRNN] Epoch 22 (331.13s)\tAverage loss=0.218302\n",
      "[reRNN] Epoch 23 (345.52s)\tAverage loss=0.213244\n",
      "[reRNN] Epoch 24 (359.95s)\tAverage loss=0.216920\n",
      "[reRNN] Epoch 25 (374.30s)\tAverage loss=0.228495\n",
      "[reRNN] Epoch 26 (388.62s)\tAverage loss=0.219248\n",
      "[reRNN] Epoch 27 (402.85s)\tAverage loss=0.204188\n",
      "[reRNN] Epoch 28 (417.51s)\tAverage loss=0.197989\n",
      "[reRNN] Epoch 29 (432.05s)\tAverage loss=0.192695\n",
      "[reRNN] Training done (432.05s)\n",
      "MSE: [-0.19660045927793282]\n",
      "F1: [0.5392670157068064]\n",
      "MSE: [-0.19660045927793282, -0.19925813737684245]\n",
      "F1: [0.5392670157068064, 0.5267275097783573]\n",
      "MSE: [-0.19660045927793282, -0.19925813737684245, -0.20050615558130094]\n",
      "F1: [0.5392670157068064, 0.5267275097783573, 0.49430676490288017]\n",
      "<type 'numpy.ndarray'> <type 'list'>\n"
     ]
    },
    {
     "name": "stderr",
     "output_type": "stream",
     "text": [
      "/home/antonis/anaconda2/envs/snorkel27clone/lib/python2.7/site-packages/tensorflow/python/ops/gradients_impl.py:100: UserWarning: Converting sparse IndexedSlices to a dense Tensor of unknown shape. This may consume a large amount of memory.\n",
      "  \"Converting sparse IndexedSlices to a dense Tensor of unknown shape. \"\n"
     ]
    },
    {
     "name": "stdout",
     "output_type": "stream",
     "text": [
      "[reRNN] Training model\n",
      "[reRNN] n_train=5214  #epochs=30  batch size=64\n",
      "[reRNN] Epoch 0 (20.40s)\tAverage loss=0.572976\n",
      "[reRNN] Epoch 1 (40.29s)\tAverage loss=0.434147\n",
      "[reRNN] Epoch 2 (59.72s)\tAverage loss=0.382995\n",
      "[reRNN] Epoch 3 (78.91s)\tAverage loss=0.352652\n",
      "[reRNN] Epoch 4 (98.66s)\tAverage loss=0.335337\n",
      "[reRNN] Epoch 5 (118.58s)\tAverage loss=0.321709\n",
      "[reRNN] Epoch 6 (138.39s)\tAverage loss=0.303524\n",
      "[reRNN] Epoch 7 (158.40s)\tAverage loss=0.293477\n",
      "[reRNN] Epoch 8 (178.19s)\tAverage loss=0.284555\n",
      "[reRNN] Epoch 9 (198.00s)\tAverage loss=0.283672\n",
      "[reRNN] Epoch 10 (217.89s)\tAverage loss=0.275696\n",
      "[reRNN] Epoch 11 (238.06s)\tAverage loss=0.267368\n",
      "[reRNN] Epoch 12 (257.65s)\tAverage loss=0.265046\n",
      "[reRNN] Epoch 13 (277.43s)\tAverage loss=0.257013\n",
      "[reRNN] Epoch 14 (297.10s)\tAverage loss=0.252947\n",
      "[reRNN] Epoch 15 (316.73s)\tAverage loss=0.247915\n",
      "[reRNN] Epoch 16 (336.51s)\tAverage loss=0.244538\n",
      "[reRNN] Epoch 17 (356.49s)\tAverage loss=0.241177\n",
      "[reRNN] Epoch 18 (375.92s)\tAverage loss=0.239232\n",
      "[reRNN] Epoch 19 (395.50s)\tAverage loss=0.238741\n",
      "[reRNN] Epoch 20 (414.84s)\tAverage loss=0.237336\n",
      "[reRNN] Epoch 21 (434.67s)\tAverage loss=0.237258\n",
      "[reRNN] Epoch 22 (454.58s)\tAverage loss=0.251572\n",
      "[reRNN] Epoch 23 (474.44s)\tAverage loss=0.293411\n",
      "[reRNN] Epoch 24 (493.80s)\tAverage loss=0.296460\n",
      "[reRNN] Epoch 25 (513.95s)\tAverage loss=0.274137\n",
      "[reRNN] Epoch 26 (533.78s)\tAverage loss=0.263991\n",
      "[reRNN] Epoch 27 (553.77s)\tAverage loss=0.255962\n",
      "[reRNN] Epoch 28 (573.63s)\tAverage loss=0.249253\n",
      "[reRNN] Epoch 29 (593.41s)\tAverage loss=0.251765\n",
      "[reRNN] Training done (593.41s)\n",
      "MSE: [-0.19177835875170776]\n",
      "F1: [0.5418227215980026]\n",
      "MSE: [-0.19177835875170776, -0.18069141330668054]\n",
      "F1: [0.5418227215980026, 0.5567398119122258]\n",
      "MSE: [-0.19177835875170776, -0.18069141330668054, -0.18401888487910018]\n",
      "F1: [0.5418227215980026, 0.5567398119122258, 0.5526657997399219]\n",
      "<type 'numpy.ndarray'> <type 'list'>\n"
     ]
    },
    {
     "name": "stderr",
     "output_type": "stream",
     "text": [
      "/home/antonis/anaconda2/envs/snorkel27clone/lib/python2.7/site-packages/tensorflow/python/ops/gradients_impl.py:100: UserWarning: Converting sparse IndexedSlices to a dense Tensor of unknown shape. This may consume a large amount of memory.\n",
      "  \"Converting sparse IndexedSlices to a dense Tensor of unknown shape. \"\n"
     ]
    },
    {
     "name": "stdout",
     "output_type": "stream",
     "text": [
      "[reRNN] Training model\n",
      "[reRNN] n_train=6570  #epochs=30  batch size=64\n",
      "[reRNN] Epoch 0 (24.21s)\tAverage loss=0.558586\n",
      "[reRNN] Epoch 1 (48.43s)\tAverage loss=0.438967\n",
      "[reRNN] Epoch 2 (72.55s)\tAverage loss=0.393352\n",
      "[reRNN] Epoch 3 (96.38s)\tAverage loss=0.365948\n",
      "[reRNN] Epoch 4 (120.34s)\tAverage loss=0.349099\n",
      "[reRNN] Epoch 5 (144.42s)\tAverage loss=0.331533\n",
      "[reRNN] Epoch 6 (168.73s)\tAverage loss=0.316909\n",
      "[reRNN] Epoch 7 (192.94s)\tAverage loss=0.308702\n",
      "[reRNN] Epoch 8 (217.10s)\tAverage loss=0.329709\n",
      "[reRNN] Epoch 9 (240.97s)\tAverage loss=0.305320\n",
      "[reRNN] Epoch 10 (264.84s)\tAverage loss=0.293032\n",
      "[reRNN] Epoch 11 (289.11s)\tAverage loss=0.286534\n",
      "[reRNN] Epoch 12 (312.84s)\tAverage loss=0.284828\n",
      "[reRNN] Epoch 13 (336.78s)\tAverage loss=0.287633\n",
      "[reRNN] Epoch 14 (360.62s)\tAverage loss=0.301664\n",
      "[reRNN] Epoch 15 (384.60s)\tAverage loss=0.323040\n",
      "[reRNN] Epoch 16 (408.81s)\tAverage loss=0.317964\n",
      "[reRNN] Epoch 17 (432.51s)\tAverage loss=0.300934\n",
      "[reRNN] Epoch 18 (456.86s)\tAverage loss=0.291203\n",
      "[reRNN] Epoch 19 (480.90s)\tAverage loss=0.283329\n",
      "[reRNN] Epoch 20 (504.64s)\tAverage loss=0.279645\n",
      "[reRNN] Epoch 21 (528.53s)\tAverage loss=0.283708\n",
      "[reRNN] Epoch 22 (552.26s)\tAverage loss=0.283953\n",
      "[reRNN] Epoch 23 (576.65s)\tAverage loss=0.285159\n",
      "[reRNN] Epoch 24 (600.48s)\tAverage loss=0.286453\n",
      "[reRNN] Epoch 25 (623.96s)\tAverage loss=0.294678\n",
      "[reRNN] Epoch 26 (647.75s)\tAverage loss=0.293688\n",
      "[reRNN] Epoch 27 (671.70s)\tAverage loss=0.287882\n",
      "[reRNN] Epoch 28 (695.41s)\tAverage loss=0.282400\n",
      "[reRNN] Epoch 29 (719.34s)\tAverage loss=0.279799\n",
      "[reRNN] Training done (719.34s)\n",
      "MSE: [-0.18237665214446963]\n",
      "F1: [0.5388813096862209]\n",
      "MSE: [-0.18237665214446963, -0.16990967828896758]\n",
      "F1: [0.5388813096862209, 0.585953177257525]\n",
      "MSE: [-0.18237665214446963, -0.16990967828896758, -0.17756403685323627]\n",
      "F1: [0.5388813096862209, 0.585953177257525, 0.5356643356643356]\n",
      "<type 'numpy.ndarray'> <type 'list'>\n"
     ]
    },
    {
     "name": "stderr",
     "output_type": "stream",
     "text": [
      "/home/antonis/anaconda2/envs/snorkel27clone/lib/python2.7/site-packages/tensorflow/python/ops/gradients_impl.py:100: UserWarning: Converting sparse IndexedSlices to a dense Tensor of unknown shape. This may consume a large amount of memory.\n",
      "  \"Converting sparse IndexedSlices to a dense Tensor of unknown shape. \"\n"
     ]
    },
    {
     "name": "stdout",
     "output_type": "stream",
     "text": [
      "[reRNN] Training model\n",
      "[reRNN] n_train=7794  #epochs=30  batch size=64\n",
      "[reRNN] Epoch 0 (29.37s)\tAverage loss=0.556495\n",
      "[reRNN] Epoch 1 (58.41s)\tAverage loss=0.435931\n",
      "[reRNN] Epoch 2 (87.99s)\tAverage loss=0.392470\n",
      "[reRNN] Epoch 3 (116.52s)\tAverage loss=0.369542\n",
      "[reRNN] Epoch 4 (145.74s)\tAverage loss=0.352011\n",
      "[reRNN] Epoch 5 (174.27s)\tAverage loss=0.336328\n",
      "[reRNN] Epoch 6 (203.34s)\tAverage loss=0.325915\n",
      "[reRNN] Epoch 7 (232.57s)\tAverage loss=0.323803\n",
      "[reRNN] Epoch 8 (261.60s)\tAverage loss=0.317327\n",
      "[reRNN] Epoch 9 (290.71s)\tAverage loss=0.310268\n",
      "[reRNN] Epoch 10 (319.68s)\tAverage loss=0.339150\n",
      "[reRNN] Epoch 11 (349.01s)\tAverage loss=0.326999\n",
      "[reRNN] Epoch 12 (378.05s)\tAverage loss=0.315788\n",
      "[reRNN] Epoch 13 (407.55s)\tAverage loss=0.307396\n",
      "[reRNN] Epoch 14 (436.76s)\tAverage loss=0.300478\n",
      "[reRNN] Epoch 15 (465.89s)\tAverage loss=0.296879\n",
      "[reRNN] Epoch 16 (495.46s)\tAverage loss=0.294791\n",
      "[reRNN] Epoch 17 (524.62s)\tAverage loss=0.293284\n",
      "[reRNN] Epoch 18 (553.76s)\tAverage loss=0.292026\n",
      "[reRNN] Epoch 19 (582.87s)\tAverage loss=0.291580\n",
      "[reRNN] Epoch 20 (611.81s)\tAverage loss=0.291220\n",
      "[reRNN] Epoch 21 (641.53s)\tAverage loss=0.290550\n",
      "[reRNN] Epoch 22 (671.08s)\tAverage loss=0.290063\n",
      "[reRNN] Epoch 23 (700.52s)\tAverage loss=0.290118\n",
      "[reRNN] Epoch 24 (729.83s)\tAverage loss=0.289562\n",
      "[reRNN] Epoch 25 (759.03s)\tAverage loss=0.289444\n",
      "[reRNN] Epoch 26 (788.53s)\tAverage loss=0.289314\n",
      "[reRNN] Epoch 27 (817.75s)\tAverage loss=0.289262\n",
      "[reRNN] Epoch 28 (847.46s)\tAverage loss=0.289023\n",
      "[reRNN] Epoch 29 (876.99s)\tAverage loss=0.288924\n",
      "[reRNN] Training done (876.99s)\n",
      "MSE: [-0.17139363494047707]\n",
      "F1: [0.5596816976127321]\n",
      "MSE: [-0.17139363494047707, -0.15961710344316854]\n",
      "F1: [0.5596816976127321, 0.5901417960837273]\n",
      "MSE: [-0.17139363494047707, -0.15961710344316854, -0.1665378450711693]\n",
      "F1: [0.5596816976127321, 0.5901417960837273, 0.5718157181571816]\n"
     ]
    }
   ],
   "source": [
    "## with LSTM (Gold ---> unlab )\n",
    "## with varying number of epochs (per training examples)\n",
    "\n",
    "from MLutils import custom_learning_curve\n",
    "\n",
    "train_kwargs = {\n",
    "    'lr':         0.01,\n",
    "    'dim':        100,\n",
    "    'n_epochs':   30,\n",
    "    'dropout':    0.25,\n",
    "    'rebalance':  True,\n",
    "    'print_freq': 1,\n",
    "    'batch_size': 64,\n",
    "    'dev_ckpt_delay': 0,\n",
    "#     'X_dev': dev, \n",
    "#     'Y_dev': L_gold_dev,\n",
    "    'verbose': False,\n",
    "}\n",
    "\n",
    "train_sizes, train_mse, train_f1, valid_mse , valid_f1 , test_prf1 = custom_learning_curve(\n",
    "    reRNN(seed=1701 ), \n",
    "    X_increm = unlab, y_increm = unlab_marginals_avg, \n",
    "    X_val = test, y_val = L_gold_test, \n",
    "    X_init= train, y_init= L_gold_train,\n",
    "    X_test = test, y_test = L_gold_test, \n",
    "    fit_params = train_kwargs,\n",
    "#                       splt_sizes=np.array([0.1, 0.5, 1.  ])\n",
    "                     )\n"
   ]
  },
  {
   "cell_type": "code",
   "execution_count": 86,
   "metadata": {},
   "outputs": [],
   "source": [
    "with open(pkl_paths+\"learning_curves/lstm_MVLbls_30epochs.pickle\",'wb') as f:\n",
    "    pickle.dump((train_sizes, train_mse, train_f1, valid_mse , valid_f1 , test_prf1), f)"
   ]
  },
  {
   "cell_type": "code",
   "execution_count": 87,
   "metadata": {},
   "outputs": [
    {
     "data": {
      "text/plain": [
       "<module 'matplotlib.pyplot' from '/home/antonis/anaconda2/envs/snorkel27clone/lib/python2.7/site-packages/matplotlib/pyplot.pyc'>"
      ]
     },
     "execution_count": 87,
     "metadata": {},
     "output_type": "execute_result"
    },
    {
     "data": {
      "image/png": "[encoded data removed]",
      "text/plain": [
       "<Figure size 432x288 with 1 Axes>"
      ]
     },
     "metadata": {},
     "output_type": "display_data"
    },
    {
     "data": {
      "image/png": "[encoded data removed]",
      "text/plain": [
       "<Figure size 432x288 with 1 Axes>"
      ]
     },
     "metadata": {},
     "output_type": "display_data"
    }
   ],
   "source": [
    "\n",
    "plot_learning_curve(train_mse,valid_mse,train_sizes, 'Noisy-labeled LSTM MSE (MV,30_epochs) (P=%.2f,R=%.2f,F1=%.2f)'%(test_prf1))\n",
    "\n",
    "plot_learning_curve(train_f1,valid_f1,train_sizes, title='Noisy-labeled LSTM (MV,30_epochs) (P=%.2f,R=%.2f,F1=%.2f)'%(test_prf1))\n"
   ]
  },
  {
   "cell_type": "code",
   "execution_count": null,
   "metadata": {},
   "outputs": [],
   "source": []
  },
  {
   "cell_type": "markdown",
   "metadata": {},
   "source": [
    "# ~~  ~ ~  ~  ~ "
   ]
  },
  {
   "cell_type": "code",
   "execution_count": null,
   "metadata": {},
   "outputs": [],
   "source": []
  },
  {
   "cell_type": "markdown",
   "metadata": {},
   "source": [
    "## With GS"
   ]
  },
  {
   "cell_type": "code",
   "execution_count": 84,
   "metadata": {},
   "outputs": [],
   "source": [
    "from snorkel.annotations import load_marginals\n",
    "train_labels = np.array([0 if train[x].gold_labels[0].value ==-1 else 1 for x in range(len(train))]) # load train labels to mix in LSTM\n",
    "unlab_marginals = load_marginals(session, split=3)\n"
   ]
  },
  {
   "cell_type": "code",
   "execution_count": 85,
   "metadata": {},
   "outputs": [],
   "source": [
    "train_us, train_labels_us = balance_candidates(train,train_labels)"
   ]
  },
  {
   "cell_type": "code",
   "execution_count": 86,
   "metadata": {},
   "outputs": [
    {
     "ename": "NameError",
     "evalue": "name 'unlab_marginals_us' is not defined",
     "output_type": "error",
     "traceback": [
      "\u001b[0;31m---------------------------------------------------------------------------\u001b[0m",
      "\u001b[0;31mNameError\u001b[0m                                 Traceback (most recent call last)",
      "\u001b[0;32m<ipython-input-86-8940d1cce2ce>\u001b[0m in \u001b[0;36m<module>\u001b[0;34m()\u001b[0m\n\u001b[0;32m----> 1\u001b[0;31m \u001b[0mtrain_unlab_marginals\u001b[0m \u001b[0;34m=\u001b[0m \u001b[0mnp\u001b[0m\u001b[0;34m.\u001b[0m\u001b[0mappend\u001b[0m\u001b[0;34m(\u001b[0m\u001b[0mtrain_labels_us\u001b[0m\u001b[0;34m,\u001b[0m \u001b[0munlab_marginals_us\u001b[0m\u001b[0;34m)\u001b[0m\u001b[0;34m\u001b[0m\u001b[0m\n\u001b[0m",
      "\u001b[0;31mNameError\u001b[0m: name 'unlab_marginals_us' is not defined"
     ]
    }
   ],
   "source": [
    "train_unlab_marginals = np.append(train_labels_us, unlab_marginals_us)"
   ]
  },
  {
   "cell_type": "code",
   "execution_count": null,
   "metadata": {},
   "outputs": [],
   "source": [
    "plt.hist(train_unlab_marginals, bins=20)\n",
    "plt.title('Histogram of marginals (candidates undersampled before GM) + GS ')\n",
    "plt.show()"
   ]
  },
  {
   "cell_type": "code",
   "execution_count": null,
   "metadata": {},
   "outputs": [],
   "source": [
    "train_kwargs = {\n",
    "    'lr':         0.01,\n",
    "    'dim':        100,\n",
    "    'n_epochs':   25,\n",
    "    'dropout':    0.5,\n",
    "    'rebalance':  True,\n",
    "    'print_freq': 1,\n",
    "    'batch_size': 64\n",
    "}\n",
    "\n",
    "lstm = reRNN(seed=1701, n_threads=6)\n",
    "lstm.train(train_us+unlab_us, train_unlab_marginals, X_dev=dev, Y_dev=L_gold_dev, dev_ckpt_delay=0, **train_kwargs)\n"
   ]
  },
  {
   "cell_type": "code",
   "execution_count": null,
   "metadata": {},
   "outputs": [],
   "source": [
    "tp, fp, tn, fn = lstm.error_analysis(session, dev, L_gold_dev)"
   ]
  },
  {
   "cell_type": "code",
   "execution_count": null,
   "metadata": {},
   "outputs": [],
   "source": [
    "tp, fp, tn, fn = lstm.error_analysis(session, test, L_gold_test)"
   ]
  },
  {
   "cell_type": "code",
   "execution_count": null,
   "metadata": {},
   "outputs": [],
   "source": []
  },
  {
   "cell_type": "markdown",
   "metadata": {},
   "source": [
    "# ~~~~"
   ]
  },
  {
   "cell_type": "code",
   "execution_count": 60,
   "metadata": {},
   "outputs": [
    {
     "name": "stdout",
     "output_type": "stream",
     "text": [
      "Inferred performance metrics by snorkel:\n"
     ]
    },
    {
     "data": {
      "text/html": [
       "<div>\n",
       "<style scoped>\n",
       "    .dataframe tbody tr th:only-of-type {\n",
       "        vertical-align: middle;\n",
       "    }\n",
       "\n",
       "    .dataframe tbody tr th {\n",
       "        vertical-align: top;\n",
       "    }\n",
       "\n",
       "    .dataframe thead th {\n",
       "        text-align: right;\n",
       "    }\n",
       "</style>\n",
       "<table border=\"1\" class=\"dataframe\">\n",
       "  <thead>\n",
       "    <tr style=\"text-align: right;\">\n",
       "      <th></th>\n",
       "      <th>Accuracy</th>\n",
       "      <th>Coverage</th>\n",
       "      <th>Precision</th>\n",
       "      <th>Recall</th>\n",
       "    </tr>\n",
       "  </thead>\n",
       "  <tbody>\n",
       "    <tr>\n",
       "      <th>0</th>\n",
       "      <td>0.971729</td>\n",
       "      <td>0.8737</td>\n",
       "      <td>0.797044</td>\n",
       "      <td>0.820487</td>\n",
       "    </tr>\n",
       "    <tr>\n",
       "      <th>1</th>\n",
       "      <td>0.937507</td>\n",
       "      <td>0.8369</td>\n",
       "      <td>0.629160</td>\n",
       "      <td>0.805274</td>\n",
       "    </tr>\n",
       "    <tr>\n",
       "      <th>2</th>\n",
       "      <td>0.925276</td>\n",
       "      <td>0.8324</td>\n",
       "      <td>0.575373</td>\n",
       "      <td>0.781947</td>\n",
       "    </tr>\n",
       "    <tr>\n",
       "      <th>3</th>\n",
       "      <td>0.895110</td>\n",
       "      <td>0.8037</td>\n",
       "      <td>0.492881</td>\n",
       "      <td>0.737323</td>\n",
       "    </tr>\n",
       "  </tbody>\n",
       "</table>\n",
       "</div>"
      ],
      "text/plain": [
       "   Accuracy  Coverage  Precision    Recall\n",
       "0  0.971729    0.8737   0.797044  0.820487\n",
       "1  0.937507    0.8369   0.629160  0.805274\n",
       "2  0.925276    0.8324   0.575373  0.781947\n",
       "3  0.895110    0.8037   0.492881  0.737323"
      ]
     },
     "execution_count": 60,
     "metadata": {},
     "output_type": "execute_result"
    }
   ],
   "source": [
    "print 'Inferred performance metrics by snorkel:'\n",
    "gen_model.learned_lf_stats()"
   ]
  },
  {
   "cell_type": "code",
   "execution_count": null,
   "metadata": {},
   "outputs": [],
   "source": []
  },
  {
   "cell_type": "markdown",
   "metadata": {},
   "source": [
    "## Check performance on developer set"
   ]
  },
  {
   "cell_type": "code",
   "execution_count": 63,
   "metadata": {},
   "outputs": [
    {
     "data": {
      "text/html": [
       "<div>\n",
       "<style scoped>\n",
       "    .dataframe tbody tr th:only-of-type {\n",
       "        vertical-align: middle;\n",
       "    }\n",
       "\n",
       "    .dataframe tbody tr th {\n",
       "        vertical-align: top;\n",
       "    }\n",
       "\n",
       "    .dataframe thead th {\n",
       "        text-align: right;\n",
       "    }\n",
       "</style>\n",
       "<table border=\"1\" class=\"dataframe\">\n",
       "  <thead>\n",
       "    <tr style=\"text-align: right;\">\n",
       "      <th></th>\n",
       "      <th>Accuracy</th>\n",
       "      <th>Coverage</th>\n",
       "      <th>Precision</th>\n",
       "      <th>Recall</th>\n",
       "    </tr>\n",
       "  </thead>\n",
       "  <tbody>\n",
       "    <tr>\n",
       "      <th>0</th>\n",
       "      <td>0.968743</td>\n",
       "      <td>0.8734</td>\n",
       "      <td>0.800826</td>\n",
       "      <td>0.850746</td>\n",
       "    </tr>\n",
       "    <tr>\n",
       "      <th>1</th>\n",
       "      <td>0.941741</td>\n",
       "      <td>0.8342</td>\n",
       "      <td>0.671815</td>\n",
       "      <td>0.763828</td>\n",
       "    </tr>\n",
       "    <tr>\n",
       "      <th>2</th>\n",
       "      <td>0.926562</td>\n",
       "      <td>0.8211</td>\n",
       "      <td>0.618130</td>\n",
       "      <td>0.760316</td>\n",
       "    </tr>\n",
       "    <tr>\n",
       "      <th>3</th>\n",
       "      <td>0.897070</td>\n",
       "      <td>0.8054</td>\n",
       "      <td>0.529931</td>\n",
       "      <td>0.738367</td>\n",
       "    </tr>\n",
       "  </tbody>\n",
       "</table>\n",
       "</div>"
      ],
      "text/plain": [
       "   Accuracy  Coverage  Precision    Recall\n",
       "0  0.968743    0.8734   0.800826  0.850746\n",
       "1  0.941741    0.8342   0.671815  0.763828\n",
       "2  0.926562    0.8211   0.618130  0.760316\n",
       "3  0.897070    0.8054   0.529931  0.738367"
      ]
     },
     "execution_count": 63,
     "metadata": {},
     "output_type": "execute_result"
    }
   ],
   "source": [
    "gen_model.learned_lf_stats()"
   ]
  },
  {
   "cell_type": "code",
   "execution_count": 68,
   "metadata": {},
   "outputs": [
    {
     "data": {
      "text/plain": [
       "array([ 1.32927991,  0.96930229,  0.89196357,  0.71774052])"
      ]
     },
     "execution_count": 68,
     "metadata": {},
     "output_type": "execute_result"
    }
   ],
   "source": [
    "gen_model.weights.lf_accuracy"
   ]
  },
  {
   "cell_type": "code",
   "execution_count": 71,
   "metadata": {},
   "outputs": [
    {
     "data": {
      "text/plain": [
       "(0.67838312829525482, 0.54751773049645391, 0.60596546310832033)"
      ]
     },
     "execution_count": 71,
     "metadata": {},
     "output_type": "execute_result"
    }
   ],
   "source": [
    "gen_model.score(L_dev,L_gold_dev)"
   ]
  },
  {
   "cell_type": "code",
   "execution_count": 55,
   "metadata": {},
   "outputs": [
    {
     "data": {
      "text/plain": [
       "0.0087107272118617431"
      ]
     },
     "execution_count": 55,
     "metadata": {},
     "output_type": "execute_result"
    }
   ],
   "source": [
    "np.exp(-8*((.81+.79+.75+.73)/4)**2)"
   ]
  },
  {
   "cell_type": "code",
   "execution_count": 82,
   "metadata": {},
   "outputs": [
    {
     "data": {
      "text/html": [
       "<div>\n",
       "<style scoped>\n",
       "    .dataframe tbody tr th:only-of-type {\n",
       "        vertical-align: middle;\n",
       "    }\n",
       "\n",
       "    .dataframe tbody tr th {\n",
       "        vertical-align: top;\n",
       "    }\n",
       "\n",
       "    .dataframe thead th {\n",
       "        text-align: right;\n",
       "    }\n",
       "</style>\n",
       "<table border=\"1\" class=\"dataframe\">\n",
       "  <thead>\n",
       "    <tr style=\"text-align: right;\">\n",
       "      <th></th>\n",
       "      <th>j</th>\n",
       "      <th>Coverage</th>\n",
       "      <th>Overlaps</th>\n",
       "      <th>Conflicts</th>\n",
       "      <th>TP</th>\n",
       "      <th>FP</th>\n",
       "      <th>FN</th>\n",
       "      <th>TN</th>\n",
       "      <th>Empirical Acc.</th>\n",
       "    </tr>\n",
       "  </thead>\n",
       "  <tbody>\n",
       "    <tr>\n",
       "      <th>fasttext_fasttext</th>\n",
       "      <td>0</td>\n",
       "      <td>1.0</td>\n",
       "      <td>1.0</td>\n",
       "      <td>0.486687</td>\n",
       "      <td>324</td>\n",
       "      <td>225</td>\n",
       "      <td>381</td>\n",
       "      <td>2300</td>\n",
       "      <td>0.812384</td>\n",
       "    </tr>\n",
       "    <tr>\n",
       "      <th>results_dict,ShortDepPath,RuS,CV_,bin_,minFreq=1,_ngrams=(0, 3),LSA100_SVC_linear</th>\n",
       "      <td>1</td>\n",
       "      <td>1.0</td>\n",
       "      <td>1.0</td>\n",
       "      <td>0.486687</td>\n",
       "      <td>508</td>\n",
       "      <td>459</td>\n",
       "      <td>197</td>\n",
       "      <td>2066</td>\n",
       "      <td>0.796904</td>\n",
       "    </tr>\n",
       "    <tr>\n",
       "      <th>RuS,lr=0.001,dropout=0.25,8epochs,rebalance=0,max_sent_length=64_biLSTM</th>\n",
       "      <td>2</td>\n",
       "      <td>1.0</td>\n",
       "      <td>1.0</td>\n",
       "      <td>0.486687</td>\n",
       "      <td>446</td>\n",
       "      <td>519</td>\n",
       "      <td>259</td>\n",
       "      <td>2006</td>\n",
       "      <td>0.759133</td>\n",
       "    </tr>\n",
       "    <tr>\n",
       "      <th>results_dict,lemmas,RuS,TfIdf_,minFreq=1,_ngrams=(1, 1),LSA100_RandomForestClassifier</th>\n",
       "      <td>3</td>\n",
       "      <td>1.0</td>\n",
       "      <td>1.0</td>\n",
       "      <td>0.486687</td>\n",
       "      <td>520</td>\n",
       "      <td>658</td>\n",
       "      <td>185</td>\n",
       "      <td>1867</td>\n",
       "      <td>0.739009</td>\n",
       "    </tr>\n",
       "  </tbody>\n",
       "</table>\n",
       "</div>"
      ],
      "text/plain": [
       "                                                    j  Coverage  Overlaps  \\\n",
       "fasttext_fasttext                                   0       1.0       1.0   \n",
       "results_dict,ShortDepPath,RuS,CV_,bin_,minFreq=...  1       1.0       1.0   \n",
       "RuS,lr=0.001,dropout=0.25,8epochs,rebalance=0,m...  2       1.0       1.0   \n",
       "results_dict,lemmas,RuS,TfIdf_,minFreq=1,_ngram...  3       1.0       1.0   \n",
       "\n",
       "                                                    Conflicts   TP   FP   FN  \\\n",
       "fasttext_fasttext                                    0.486687  324  225  381   \n",
       "results_dict,ShortDepPath,RuS,CV_,bin_,minFreq=...   0.486687  508  459  197   \n",
       "RuS,lr=0.001,dropout=0.25,8epochs,rebalance=0,m...   0.486687  446  519  259   \n",
       "results_dict,lemmas,RuS,TfIdf_,minFreq=1,_ngram...   0.486687  520  658  185   \n",
       "\n",
       "                                                      TN  Empirical Acc.  \n",
       "fasttext_fasttext                                   2300        0.812384  \n",
       "results_dict,ShortDepPath,RuS,CV_,bin_,minFreq=...  2066        0.796904  \n",
       "RuS,lr=0.001,dropout=0.25,8epochs,rebalance=0,m...  2006        0.759133  \n",
       "results_dict,lemmas,RuS,TfIdf_,minFreq=1,_ngram...  1867        0.739009  "
      ]
     },
     "execution_count": 82,
     "metadata": {},
     "output_type": "execute_result"
    }
   ],
   "source": [
    "L_dev.lf_stats(session, L_gold_dev,)"
   ]
  },
  {
   "cell_type": "code",
   "execution_count": 72,
   "metadata": {},
   "outputs": [
    {
     "data": {
      "text/html": [
       "<div>\n",
       "<style scoped>\n",
       "    .dataframe tbody tr th:only-of-type {\n",
       "        vertical-align: middle;\n",
       "    }\n",
       "\n",
       "    .dataframe tbody tr th {\n",
       "        vertical-align: top;\n",
       "    }\n",
       "\n",
       "    .dataframe thead th {\n",
       "        text-align: right;\n",
       "    }\n",
       "</style>\n",
       "<table border=\"1\" class=\"dataframe\">\n",
       "  <thead>\n",
       "    <tr style=\"text-align: right;\">\n",
       "      <th></th>\n",
       "      <th>j</th>\n",
       "      <th>Coverage</th>\n",
       "      <th>Overlaps</th>\n",
       "      <th>Conflicts</th>\n",
       "      <th>TP</th>\n",
       "      <th>FP</th>\n",
       "      <th>FN</th>\n",
       "      <th>TN</th>\n",
       "      <th>Empirical Acc.</th>\n",
       "      <th>Learned Acc.</th>\n",
       "    </tr>\n",
       "  </thead>\n",
       "  <tbody>\n",
       "    <tr>\n",
       "      <th>fasttext_fasttext</th>\n",
       "      <td>0</td>\n",
       "      <td>1.0</td>\n",
       "      <td>1.0</td>\n",
       "      <td>0.486687</td>\n",
       "      <td>324</td>\n",
       "      <td>225</td>\n",
       "      <td>381</td>\n",
       "      <td>2300</td>\n",
       "      <td>0.812384</td>\n",
       "      <td>0.968112</td>\n",
       "    </tr>\n",
       "    <tr>\n",
       "      <th>results_dict,ShortDepPath,RuS,CV_,bin_,minFreq=1,_ngrams=(0, 3),LSA100_SVC_linear</th>\n",
       "      <td>1</td>\n",
       "      <td>1.0</td>\n",
       "      <td>1.0</td>\n",
       "      <td>0.486687</td>\n",
       "      <td>508</td>\n",
       "      <td>459</td>\n",
       "      <td>197</td>\n",
       "      <td>2066</td>\n",
       "      <td>0.796904</td>\n",
       "      <td>0.935136</td>\n",
       "    </tr>\n",
       "    <tr>\n",
       "      <th>RuS,lr=0.001,dropout=0.25,8epochs,rebalance=0,max_sent_length=64_biLSTM</th>\n",
       "      <td>2</td>\n",
       "      <td>1.0</td>\n",
       "      <td>1.0</td>\n",
       "      <td>0.486687</td>\n",
       "      <td>446</td>\n",
       "      <td>519</td>\n",
       "      <td>259</td>\n",
       "      <td>2006</td>\n",
       "      <td>0.759133</td>\n",
       "      <td>0.924378</td>\n",
       "    </tr>\n",
       "    <tr>\n",
       "      <th>results_dict,lemmas,RuS,TfIdf_,minFreq=1,_ngrams=(1, 1),LSA100_RandomForestClassifier</th>\n",
       "      <td>3</td>\n",
       "      <td>1.0</td>\n",
       "      <td>1.0</td>\n",
       "      <td>0.486687</td>\n",
       "      <td>520</td>\n",
       "      <td>658</td>\n",
       "      <td>185</td>\n",
       "      <td>1867</td>\n",
       "      <td>0.739009</td>\n",
       "      <td>0.896389</td>\n",
       "    </tr>\n",
       "  </tbody>\n",
       "</table>\n",
       "</div>"
      ],
      "text/plain": [
       "                                                    j  Coverage  Overlaps  \\\n",
       "fasttext_fasttext                                   0       1.0       1.0   \n",
       "results_dict,ShortDepPath,RuS,CV_,bin_,minFreq=...  1       1.0       1.0   \n",
       "RuS,lr=0.001,dropout=0.25,8epochs,rebalance=0,m...  2       1.0       1.0   \n",
       "results_dict,lemmas,RuS,TfIdf_,minFreq=1,_ngram...  3       1.0       1.0   \n",
       "\n",
       "                                                    Conflicts   TP   FP   FN  \\\n",
       "fasttext_fasttext                                    0.486687  324  225  381   \n",
       "results_dict,ShortDepPath,RuS,CV_,bin_,minFreq=...   0.486687  508  459  197   \n",
       "RuS,lr=0.001,dropout=0.25,8epochs,rebalance=0,m...   0.486687  446  519  259   \n",
       "results_dict,lemmas,RuS,TfIdf_,minFreq=1,_ngram...   0.486687  520  658  185   \n",
       "\n",
       "                                                      TN  Empirical Acc.  \\\n",
       "fasttext_fasttext                                   2300        0.812384   \n",
       "results_dict,ShortDepPath,RuS,CV_,bin_,minFreq=...  2066        0.796904   \n",
       "RuS,lr=0.001,dropout=0.25,8epochs,rebalance=0,m...  2006        0.759133   \n",
       "results_dict,lemmas,RuS,TfIdf_,minFreq=1,_ngram...  1867        0.739009   \n",
       "\n",
       "                                                    Learned Acc.  \n",
       "fasttext_fasttext                                       0.968112  \n",
       "results_dict,ShortDepPath,RuS,CV_,bin_,minFreq=...      0.935136  \n",
       "RuS,lr=0.001,dropout=0.25,8epochs,rebalance=0,m...      0.924378  \n",
       "results_dict,lemmas,RuS,TfIdf_,minFreq=1,_ngram...      0.896389  "
      ]
     },
     "execution_count": 72,
     "metadata": {},
     "output_type": "execute_result"
    }
   ],
   "source": [
    "learned_stats = L_dev.lf_stats(session, L_gold_dev, gen_model.learned_lf_stats()['Accuracy'])\n",
    "learned_stats"
   ]
  },
  {
   "cell_type": "code",
   "execution_count": null,
   "metadata": {},
   "outputs": [],
   "source": []
  },
  {
   "cell_type": "markdown",
   "metadata": {},
   "source": [
    "### Try with priors = F1 score"
   ]
  },
  {
   "cell_type": "code",
   "execution_count": 87,
   "metadata": {},
   "outputs": [],
   "source": [
    "gen_model_prior = GenerativeModel()"
   ]
  },
  {
   "cell_type": "code",
   "execution_count": 88,
   "metadata": {},
   "outputs": [
    {
     "name": "stdout",
     "output_type": "stream",
     "text": [
      "Inferred cardinality: 2\n"
     ]
    }
   ],
   "source": [
    "gen_model_prior.train(L_unlab, LF_acc_prior_weights=[0.5167, 0.60765, 0.5341, 0.5523 ])"
   ]
  },
  {
   "cell_type": "code",
   "execution_count": null,
   "metadata": {},
   "outputs": [],
   "source": []
  },
  {
   "cell_type": "code",
   "execution_count": 83,
   "metadata": {},
   "outputs": [
    {
     "name": "stdout",
     "output_type": "stream",
     "text": [
      "fasttext_fasttext\n",
      "0.516746411483\n",
      "results_dict,ShortDepPath,RuS,CV_,bin_,minFreq=1,_ngrams=(0, 3),LSA100_SVC_linear\n",
      "0.607655502392\n",
      "RuS,lr=0.001,dropout=0.25,8epochs,rebalance=0,max_sent_length=64_biLSTM\n",
      "0.534131736527\n",
      "results_dict,lemmas,RuS,TfIdf_,minFreq=1,_ngrams=(1, 1),LSA100_RandomForestClassifier\n",
      "0.552310143388\n"
     ]
    }
   ],
   "source": [
    "# to pass priors as F1 score\n",
    "from sklearn.metrics import f1_score\n",
    "\n",
    "for row in learned_stats.iterrows():\n",
    "    print row[0]\n",
    "    tp = row[1]['TP']\n",
    "    tn = row[1]['TN']\n",
    "    fp = row[1]['FP']\n",
    "    fn = row[1]['FN']\n",
    "    pr = float(tp)/(tp+fp)\n",
    "    rec = float(tp)/(tp+fn)\n",
    "    f1 = (2*pr*rec)/(pr+rec)\n",
    "    print f1"
   ]
  },
  {
   "cell_type": "code",
   "execution_count": 260,
   "metadata": {},
   "outputs": [],
   "source": [
    "# # export to latex\n",
    "# print learned_stats.drop(labels=['j','Coverage', 'Overlaps', 'Conflicts'], axis=1).reset_index(drop=True).to_latex()"
   ]
  },
  {
   "cell_type": "markdown",
   "metadata": {},
   "source": [
    "### Put it in a log"
   ]
  },
  {
   "cell_type": "code",
   "execution_count": 157,
   "metadata": {},
   "outputs": [],
   "source": [
    "gen_model_prior_log = GenerativeModel()"
   ]
  },
  {
   "cell_type": "code",
   "execution_count": 158,
   "metadata": {},
   "outputs": [],
   "source": [
    "# TODO: try this from  snorkel/test/learning/test_supervised.py\n",
    "\n",
    "\n",
    "LF_acc_priors = [0.5167, 0.60765, 0.5341, 0.5523 ]\n",
    "cardinality = 2\n",
    "LF_acc_prior_weights = [0.5 * np.log((cardinality - 1.0) * x / (1 - x)) for x in LF_acc_priors]\n"
   ]
  },
  {
   "cell_type": "code",
   "execution_count": 159,
   "metadata": {},
   "outputs": [
    {
     "data": {
      "text/plain": [
       "[0.033412428221050325,\n",
       " 0.2187223798716636,\n",
       " 0.068306034261486848,\n",
       " 0.10498400583011107]"
      ]
     },
     "execution_count": 159,
     "metadata": {},
     "output_type": "execute_result"
    }
   ],
   "source": [
    "LF_acc_prior_weights"
   ]
  },
  {
   "cell_type": "code",
   "execution_count": 160,
   "metadata": {},
   "outputs": [
    {
     "name": "stdout",
     "output_type": "stream",
     "text": [
      "Inferred cardinality: 2\n"
     ]
    }
   ],
   "source": [
    "gen_model_prior_log.train(L_unlab, LF_acc_prior_weights=LF_acc_prior_weights)"
   ]
  },
  {
   "cell_type": "markdown",
   "metadata": {},
   "source": [
    "# ~"
   ]
  },
  {
   "cell_type": "code",
   "execution_count": 163,
   "metadata": {},
   "outputs": [
    {
     "data": {
      "text/plain": [
       "array([ 0.5167 ,  0.60765,  0.5341 ,  0.5523 ])"
      ]
     },
     "execution_count": 163,
     "metadata": {},
     "output_type": "execute_result"
    }
   ],
   "source": [
    "gen_model.weights.lf_accuracy"
   ]
  },
  {
   "cell_type": "code",
   "execution_count": 99,
   "metadata": {},
   "outputs": [
    {
     "data": {
      "text/plain": [
       "array([ 0.5167 ,  0.60765,  0.5341 ,  0.5523 ])"
      ]
     },
     "execution_count": 99,
     "metadata": {},
     "output_type": "execute_result"
    }
   ],
   "source": [
    "np.array([0.5167, 0.60765, 0.5341, 0.5523 ])"
   ]
  },
  {
   "cell_type": "code",
   "execution_count": 100,
   "metadata": {},
   "outputs": [],
   "source": [
    "gen_model.weights.lf_accuracy = np.array([0.5167, 0.60765, 0.5341, 0.5523 ])"
   ]
  },
  {
   "cell_type": "code",
   "execution_count": null,
   "metadata": {},
   "outputs": [],
   "source": []
  },
  {
   "cell_type": "code",
   "execution_count": 101,
   "metadata": {},
   "outputs": [],
   "source": [
    "unlab_marginals_F1 = gen_model.marginals(L_unlab)"
   ]
  },
  {
   "cell_type": "code",
   "execution_count": 134,
   "metadata": {},
   "outputs": [
    {
     "data": {
      "image/png": "[encoded data removed]",
      "text/plain": [
       "<Figure size 432x288 with 1 Axes>"
      ]
     },
     "metadata": {},
     "output_type": "display_data"
    }
   ],
   "source": [
    "plt.hist(train_marginals_F1, bins=20)\n",
    "plt.title('Histogram of probabilistic labels (created with %i models & overwritten F1 scores)'%n_models)\n",
    "plt.show()"
   ]
  },
  {
   "cell_type": "code",
   "execution_count": null,
   "metadata": {},
   "outputs": [],
   "source": []
  },
  {
   "cell_type": "code",
   "execution_count": 254,
   "metadata": {},
   "outputs": [
    {
     "data": {
      "text/html": [
       "<div>\n",
       "<style scoped>\n",
       "    .dataframe tbody tr th:only-of-type {\n",
       "        vertical-align: middle;\n",
       "    }\n",
       "\n",
       "    .dataframe tbody tr th {\n",
       "        vertical-align: top;\n",
       "    }\n",
       "\n",
       "    .dataframe thead th {\n",
       "        text-align: right;\n",
       "    }\n",
       "</style>\n",
       "<table border=\"1\" class=\"dataframe\">\n",
       "  <thead>\n",
       "    <tr style=\"text-align: right;\">\n",
       "      <th></th>\n",
       "      <th>j</th>\n",
       "      <th>Coverage</th>\n",
       "      <th>Overlaps</th>\n",
       "      <th>Conflicts</th>\n",
       "      <th>TP</th>\n",
       "      <th>FP</th>\n",
       "      <th>FN</th>\n",
       "      <th>TN</th>\n",
       "      <th>Empirical Acc.</th>\n",
       "      <th>Learned Acc.</th>\n",
       "    </tr>\n",
       "  </thead>\n",
       "  <tbody>\n",
       "    <tr>\n",
       "      <th>fasttext_fasttext</th>\n",
       "      <td>0</td>\n",
       "      <td>1.0</td>\n",
       "      <td>1.0</td>\n",
       "      <td>0.486687</td>\n",
       "      <td>324</td>\n",
       "      <td>225</td>\n",
       "      <td>381</td>\n",
       "      <td>2300</td>\n",
       "      <td>0.812384</td>\n",
       "      <td>0.940637</td>\n",
       "    </tr>\n",
       "    <tr>\n",
       "      <th>results_dict,ShortDepPath,RuS,CV_,bin_,minFreq=1,_ngrams=(0, 3),LSA100_SVC_linear</th>\n",
       "      <td>1</td>\n",
       "      <td>1.0</td>\n",
       "      <td>1.0</td>\n",
       "      <td>0.486687</td>\n",
       "      <td>508</td>\n",
       "      <td>459</td>\n",
       "      <td>197</td>\n",
       "      <td>2066</td>\n",
       "      <td>0.796904</td>\n",
       "      <td>0.910915</td>\n",
       "    </tr>\n",
       "    <tr>\n",
       "      <th>RuS,lr=0.001,dropout=0.25,8epochs,rebalance=0,max_sent_length=64_biLSTM</th>\n",
       "      <td>2</td>\n",
       "      <td>1.0</td>\n",
       "      <td>1.0</td>\n",
       "      <td>0.486687</td>\n",
       "      <td>446</td>\n",
       "      <td>519</td>\n",
       "      <td>259</td>\n",
       "      <td>2006</td>\n",
       "      <td>0.759133</td>\n",
       "      <td>0.922221</td>\n",
       "    </tr>\n",
       "    <tr>\n",
       "      <th>results_dict,lemmas,RuS,TfIdf_,minFreq=1,_ngrams=(1, 1),LSA100_RandomForestClassifier</th>\n",
       "      <td>3</td>\n",
       "      <td>1.0</td>\n",
       "      <td>1.0</td>\n",
       "      <td>0.486687</td>\n",
       "      <td>520</td>\n",
       "      <td>658</td>\n",
       "      <td>185</td>\n",
       "      <td>1867</td>\n",
       "      <td>0.739009</td>\n",
       "      <td>0.918230</td>\n",
       "    </tr>\n",
       "  </tbody>\n",
       "</table>\n",
       "</div>"
      ],
      "text/plain": [
       "                                                    j  Coverage  Overlaps  \\\n",
       "fasttext_fasttext                                   0       1.0       1.0   \n",
       "results_dict,ShortDepPath,RuS,CV_,bin_,minFreq=...  1       1.0       1.0   \n",
       "RuS,lr=0.001,dropout=0.25,8epochs,rebalance=0,m...  2       1.0       1.0   \n",
       "results_dict,lemmas,RuS,TfIdf_,minFreq=1,_ngram...  3       1.0       1.0   \n",
       "\n",
       "                                                    Conflicts   TP   FP   FN  \\\n",
       "fasttext_fasttext                                    0.486687  324  225  381   \n",
       "results_dict,ShortDepPath,RuS,CV_,bin_,minFreq=...   0.486687  508  459  197   \n",
       "RuS,lr=0.001,dropout=0.25,8epochs,rebalance=0,m...   0.486687  446  519  259   \n",
       "results_dict,lemmas,RuS,TfIdf_,minFreq=1,_ngram...   0.486687  520  658  185   \n",
       "\n",
       "                                                      TN  Empirical Acc.  \\\n",
       "fasttext_fasttext                                   2300        0.812384   \n",
       "results_dict,ShortDepPath,RuS,CV_,bin_,minFreq=...  2066        0.796904   \n",
       "RuS,lr=0.001,dropout=0.25,8epochs,rebalance=0,m...  2006        0.759133   \n",
       "results_dict,lemmas,RuS,TfIdf_,minFreq=1,_ngram...  1867        0.739009   \n",
       "\n",
       "                                                    Learned Acc.  \n",
       "fasttext_fasttext                                       0.940637  \n",
       "results_dict,ShortDepPath,RuS,CV_,bin_,minFreq=...      0.910915  \n",
       "RuS,lr=0.001,dropout=0.25,8epochs,rebalance=0,m...      0.922221  \n",
       "results_dict,lemmas,RuS,TfIdf_,minFreq=1,_ngram...      0.918230  "
      ]
     },
     "execution_count": 254,
     "metadata": {},
     "output_type": "execute_result"
    }
   ],
   "source": [
    "L_dev.lf_stats(session, L_gold_dev, gen_model.learned_lf_stats()['Accuracy'])"
   ]
  },
  {
   "cell_type": "code",
   "execution_count": null,
   "metadata": {},
   "outputs": [],
   "source": []
  },
  {
   "cell_type": "code",
   "execution_count": 91,
   "metadata": {
    "scrolled": true
   },
   "outputs": [
    {
     "data": {
      "text/plain": [
       "Text(0.5,1,'Unweighted voting for 12 classifiers')"
      ]
     },
     "execution_count": 91,
     "metadata": {},
     "output_type": "execute_result"
    },
    {
     "data": {
      "image/png": "[encoded data removed]",
      "text/plain": [
       "<Figure size 432x288 with 1 Axes>"
      ]
     },
     "metadata": {},
     "output_type": "display_data"
    }
   ],
   "source": [
    "#this would be with unweighted voting\n",
    "\n",
    "pd.Series(list(map(lambda x:x[0].item(),L_unlab.mean(axis=1)))).hist(bins=20)\n",
    "plt.title('Unweighted voting for 12 classifiers')"
   ]
  },
  {
   "cell_type": "code",
   "execution_count": 132,
   "metadata": {},
   "outputs": [],
   "source": [
    "from MLutils import majority_vote_score, majority_vote"
   ]
  },
  {
   "cell_type": "code",
   "execution_count": null,
   "metadata": {},
   "outputs": [],
   "source": []
  },
  {
   "cell_type": "code",
   "execution_count": 137,
   "metadata": {},
   "outputs": [
    {
     "name": "stdout",
     "output_type": "stream",
     "text": [
      "pos/neg    705:2525 21.8%/78.2%\n",
      "precision  67.84\n",
      "recall     54.75\n",
      "f1         60.60\n"
     ]
    }
   ],
   "source": [
    "majority_vote_score(L_dev, L_gold_dev)"
   ]
  },
  {
   "cell_type": "code",
   "execution_count": null,
   "metadata": {},
   "outputs": [],
   "source": []
  },
  {
   "cell_type": "code",
   "execution_count": null,
   "metadata": {},
   "outputs": [],
   "source": [
    "logp_false = e^10\n",
    "logp_true = e"
   ]
  },
  {
   "cell_type": "code",
   "execution_count": null,
   "metadata": {},
   "outputs": [],
   "source": [
    "1 / (1 + np.exp(logp_false - logp_true))"
   ]
  },
  {
   "cell_type": "code",
   "execution_count": 154,
   "metadata": {},
   "outputs": [
    {
     "data": {
      "text/plain": [
       "<4x4 sparse matrix of type '<type 'numpy.float64'>'\n",
       "\twith 6 stored elements in Compressed Sparse Row format>"
      ]
     },
     "execution_count": 154,
     "metadata": {},
     "output_type": "execute_result"
    }
   ],
   "source": [
    "gen_model.weights.dep_similar"
   ]
  },
  {
   "cell_type": "code",
   "execution_count": null,
   "metadata": {},
   "outputs": [],
   "source": []
  },
  {
   "cell_type": "markdown",
   "metadata": {},
   "source": [
    "## save probabilistic labels for the LSTM  -  this is the # of train. examples our LSTM will train on"
   ]
  },
  {
   "cell_type": "code",
   "execution_count": 68,
   "metadata": {},
   "outputs": [
    {
     "name": "stdout",
     "output_type": "stream",
     "text": [
      "Saved 79400 marginals\n"
     ]
    }
   ],
   "source": [
    "from snorkel.annotations import save_marginals\n",
    "save_marginals(session, L_unlab, unlab_marginals)"
   ]
  },
  {
   "cell_type": "code",
   "execution_count": 93,
   "metadata": {},
   "outputs": [
    {
     "data": {
      "image/png": "[encoded data removed]",
      "text/plain": [
       "<Figure size 432x288 with 1 Axes>"
      ]
     },
     "metadata": {},
     "output_type": "display_data"
    }
   ],
   "source": [
    "plt.hist(train_marginals, bins=20)\n",
    "plt.title('Histogram of probabilistic labels (created with %i models & LF_prior=True, LF_propensity=False)'%n_models)\n",
    "plt.show()"
   ]
  },
  {
   "cell_type": "code",
   "execution_count": 92,
   "metadata": {},
   "outputs": [
    {
     "data": {
      "image/png": "[encoded data removed]",
      "text/plain": [
       "<Figure size 432x288 with 1 Axes>"
      ]
     },
     "metadata": {},
     "output_type": "display_data"
    }
   ],
   "source": [
    "plt.hist(train_marginals_w_prior, bins=20)\n",
    "plt.title('Histogram of probabilistic labels (created with %i models & LF_prior=True, LF_propensity=False)'%n_models)\n",
    "plt.show()"
   ]
  },
  {
   "cell_type": "code",
   "execution_count": null,
   "metadata": {},
   "outputs": [],
   "source": []
  },
  {
   "cell_type": "code",
   "execution_count": null,
   "metadata": {},
   "outputs": [],
   "source": []
  },
  {
   "cell_type": "code",
   "execution_count": null,
   "metadata": {},
   "outputs": [],
   "source": []
  },
  {
   "cell_type": "markdown",
   "metadata": {},
   "source": [
    "# ~~ "
   ]
  },
  {
   "cell_type": "code",
   "execution_count": 47,
   "metadata": {},
   "outputs": [
    {
     "name": "stdout",
     "output_type": "stream",
     "text": [
      "Clearing existing...\n",
      "Running UDF...\n",
      "[========================================] 100%\n",
      "\n"
     ]
    }
   ],
   "source": [
    "L_test = labeler.apply_existing(split=2)"
   ]
  },
  {
   "cell_type": "code",
   "execution_count": 49,
   "metadata": {},
   "outputs": [
    {
     "data": {
      "text/plain": [
       "<13350x1 sparse matrix of type '<type 'numpy.int64'>'\n",
       "\twith 5781 stored elements in Compressed Sparse Row format>"
      ]
     },
     "execution_count": 49,
     "metadata": {},
     "output_type": "execute_result"
    }
   ],
   "source": [
    "# load from db gold labels\n",
    "L_gold_test = load_gold_labels(session, annotator_name='gold', split=2)\n",
    "L_gold_test"
   ]
  },
  {
   "cell_type": "code",
   "execution_count": 50,
   "metadata": {},
   "outputs": [
    {
     "name": "stdout",
     "output_type": "stream",
     "text": [
      "========================================\n",
      "Scores (Un-adjusted)\n",
      "========================================\n",
      "Pos. class accuracy: 0.259\n",
      "Neg. class accuracy: 0.975\n",
      "Precision            0.57\n",
      "Recall               0.259\n",
      "F1                   0.356\n",
      "----------------------------------------\n",
      "TP: 388 | FP: 293 | TN: 11557 | FN: 1112\n",
      "========================================\n",
      "\n"
     ]
    }
   ],
   "source": [
    "_ = gen_model.error_analysis(session, L_test, L_gold_test)"
   ]
  },
  {
   "cell_type": "code",
   "execution_count": 51,
   "metadata": {},
   "outputs": [
    {
     "data": {
      "text/html": [
       "<div>\n",
       "<style scoped>\n",
       "    .dataframe tbody tr th:only-of-type {\n",
       "        vertical-align: middle;\n",
       "    }\n",
       "\n",
       "    .dataframe tbody tr th {\n",
       "        vertical-align: top;\n",
       "    }\n",
       "\n",
       "    .dataframe thead th {\n",
       "        text-align: right;\n",
       "    }\n",
       "</style>\n",
       "<table border=\"1\" class=\"dataframe\">\n",
       "  <thead>\n",
       "    <tr style=\"text-align: right;\">\n",
       "      <th></th>\n",
       "      <th>j</th>\n",
       "      <th>Coverage</th>\n",
       "      <th>Overlaps</th>\n",
       "      <th>Conflicts</th>\n",
       "      <th>TP</th>\n",
       "      <th>FP</th>\n",
       "      <th>FN</th>\n",
       "      <th>TN</th>\n",
       "      <th>Empirical Acc.</th>\n",
       "      <th>Learned Acc.</th>\n",
       "    </tr>\n",
       "  </thead>\n",
       "  <tbody>\n",
       "    <tr>\n",
       "      <th>dummy</th>\n",
       "      <td>0</td>\n",
       "      <td>1.000000</td>\n",
       "      <td>0.433034</td>\n",
       "      <td>0.128764</td>\n",
       "      <td>0</td>\n",
       "      <td>0</td>\n",
       "      <td>1500</td>\n",
       "      <td>4281</td>\n",
       "      <td>0.740529</td>\n",
       "      <td>0.936173</td>\n",
       "    </tr>\n",
       "    <tr>\n",
       "      <th>LogisticRegression</th>\n",
       "      <td>1</td>\n",
       "      <td>0.433034</td>\n",
       "      <td>0.433034</td>\n",
       "      <td>0.128764</td>\n",
       "      <td>683</td>\n",
       "      <td>563</td>\n",
       "      <td>817</td>\n",
       "      <td>3718</td>\n",
       "      <td>0.761287</td>\n",
       "      <td>0.893057</td>\n",
       "    </tr>\n",
       "    <tr>\n",
       "      <th>SVC_linear</th>\n",
       "      <td>2</td>\n",
       "      <td>0.433034</td>\n",
       "      <td>0.433034</td>\n",
       "      <td>0.128764</td>\n",
       "      <td>594</td>\n",
       "      <td>592</td>\n",
       "      <td>906</td>\n",
       "      <td>3689</td>\n",
       "      <td>0.740875</td>\n",
       "      <td>0.888321</td>\n",
       "    </tr>\n",
       "    <tr>\n",
       "      <th>SVC_rbf_C100</th>\n",
       "      <td>3</td>\n",
       "      <td>0.433034</td>\n",
       "      <td>0.433034</td>\n",
       "      <td>0.128764</td>\n",
       "      <td>606</td>\n",
       "      <td>500</td>\n",
       "      <td>894</td>\n",
       "      <td>3781</td>\n",
       "      <td>0.758865</td>\n",
       "      <td>0.893826</td>\n",
       "    </tr>\n",
       "    <tr>\n",
       "      <th>SVC_rbf_C500</th>\n",
       "      <td>4</td>\n",
       "      <td>0.433034</td>\n",
       "      <td>0.433034</td>\n",
       "      <td>0.128764</td>\n",
       "      <td>625</td>\n",
       "      <td>484</td>\n",
       "      <td>875</td>\n",
       "      <td>3797</td>\n",
       "      <td>0.764920</td>\n",
       "      <td>0.897841</td>\n",
       "    </tr>\n",
       "    <tr>\n",
       "      <th>SVC_rbf_C1000</th>\n",
       "      <td>5</td>\n",
       "      <td>0.433034</td>\n",
       "      <td>0.433034</td>\n",
       "      <td>0.128764</td>\n",
       "      <td>577</td>\n",
       "      <td>480</td>\n",
       "      <td>923</td>\n",
       "      <td>3801</td>\n",
       "      <td>0.757308</td>\n",
       "      <td>0.899282</td>\n",
       "    </tr>\n",
       "  </tbody>\n",
       "</table>\n",
       "</div>"
      ],
      "text/plain": [
       "                    j  Coverage  Overlaps  Conflicts   TP   FP    FN    TN  \\\n",
       "dummy               0  1.000000  0.433034   0.128764    0    0  1500  4281   \n",
       "LogisticRegression  1  0.433034  0.433034   0.128764  683  563   817  3718   \n",
       "SVC_linear          2  0.433034  0.433034   0.128764  594  592   906  3689   \n",
       "SVC_rbf_C100        3  0.433034  0.433034   0.128764  606  500   894  3781   \n",
       "SVC_rbf_C500        4  0.433034  0.433034   0.128764  625  484   875  3797   \n",
       "SVC_rbf_C1000       5  0.433034  0.433034   0.128764  577  480   923  3801   \n",
       "\n",
       "                    Empirical Acc.  Learned Acc.  \n",
       "dummy                     0.740529      0.936173  \n",
       "LogisticRegression        0.761287      0.893057  \n",
       "SVC_linear                0.740875      0.888321  \n",
       "SVC_rbf_C100              0.758865      0.893826  \n",
       "SVC_rbf_C500              0.764920      0.897841  \n",
       "SVC_rbf_C1000             0.757308      0.899282  "
      ]
     },
     "execution_count": 51,
     "metadata": {},
     "output_type": "execute_result"
    }
   ],
   "source": [
    "L_test.lf_stats(session, L_gold_test, gen_model.learned_lf_stats()['Accuracy'])"
   ]
  },
  {
   "cell_type": "code",
   "execution_count": null,
   "metadata": {},
   "outputs": [],
   "source": []
  },
  {
   "cell_type": "code",
   "execution_count": null,
   "metadata": {},
   "outputs": [],
   "source": []
  },
  {
   "cell_type": "code",
   "execution_count": null,
   "metadata": {},
   "outputs": [],
   "source": []
  }
 ],
 "metadata": {
  "kernelspec": {
   "display_name": "Python [conda env:snorkel27clone]",
   "language": "python",
   "name": "conda-env-snorkel27clone-py"
  },
  "language_info": {
   "codemirror_mode": {
    "name": "ipython",
    "version": 2
   },
   "file_extension": ".py",
   "mimetype": "text/x-python",
   "name": "python",
   "nbconvert_exporter": "python",
   "pygments_lexer": "ipython2",
   "version": "2.7.15"
  }
 },
 "nbformat": 4,
 "nbformat_minor": 2
}
