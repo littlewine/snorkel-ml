{
 "cells": [
  {
   "cell_type": "markdown",
   "metadata": {},
   "source": [
    "# Snorkel corpus preprocess\n",
    "This notebook takes as input some snorkel-compatible files (corpus, entities, gold relation labels) and creates snorkel.db, where all of the above are persisted.\n",
    "re-run to drop and re-create db"
   ]
  },
  {
   "cell_type": "code",
   "execution_count": 1,
   "metadata": {},
   "outputs": [],
   "source": [
    "%load_ext autoreload\n",
    "%autoreload 2\n",
    "%matplotlib inline"
   ]
  },
  {
   "cell_type": "code",
   "execution_count": 2,
   "metadata": {},
   "outputs": [],
   "source": [
    "import pickle"
   ]
  },
  {
   "cell_type": "code",
   "execution_count": 3,
   "metadata": {},
   "outputs": [],
   "source": [
    "from snorkel import SnorkelSession\n",
    "session = SnorkelSession()\n",
    "from snorkel.models import  Document, Sentence"
   ]
  },
  {
   "cell_type": "code",
   "execution_count": 4,
   "metadata": {},
   "outputs": [],
   "source": [
    "import glob\n",
    "import pandas as pd"
   ]
  },
  {
   "cell_type": "code",
   "execution_count": 5,
   "metadata": {},
   "outputs": [],
   "source": [
    "# helpers for debugging\n",
    "from utils import get_raw_document_txt"
   ]
  },
  {
   "cell_type": "markdown",
   "metadata": {},
   "source": [
    "## Load the corpus"
   ]
  },
  {
   "cell_type": "code",
   "execution_count": 6,
   "metadata": {},
   "outputs": [],
   "source": [
    "# Get train,dev,test from goldset, and chemdner_silver from NCBI_parsed (ensure consistency of named entities)\n",
    "txt_corpus = glob.glob(\"/home/antonis/data/biocreative6/NCBI_parsed/chemdner_silver/*.txt\") + \\\n",
    "                glob.glob(\"/home/antonis/data/biocreative6/goldset/*/*.txt\")\n",
    "\n",
    "# test cand extr+ goldlabel generator\n",
    "txt_corpus = glob.glob(\"/home/antonis/data/biocreative6/goldset/*/*.txt\")\n",
    "\n",
    "txt_corpus = pd.Series(txt_corpus,name='paths')"
   ]
  },
  {
   "cell_type": "code",
   "execution_count": 7,
   "metadata": {},
   "outputs": [],
   "source": [
    "# full_corpus_paths.to_csv('full_corpus_paths.csv',header=True)\n",
    "txt_corpus.to_csv('full_corpus_paths.csv',index=False)"
   ]
  },
  {
   "cell_type": "code",
   "execution_count": 8,
   "metadata": {
    "scrolled": true
   },
   "outputs": [],
   "source": [
    "from snorkel.parser import TextDocPreprocessor, CSVPathsPreprocessor\n",
    "path = \"/home/antonis/data/biocreative6/corpus/training/\"\n",
    "\n",
    "# doc_preprocessor = TextDocPreprocessor(path)\n",
    "csv_preprocessor = CSVPathsPreprocessor('full_corpus_paths.csv')"
   ]
  },
  {
   "cell_type": "code",
   "execution_count": 9,
   "metadata": {
    "scrolled": true
   },
   "outputs": [
    {
     "name": "stdout",
     "output_type": "stream",
     "text": [
      "Clearing existing...\n",
      "Running UDF...\n",
      "[========================================] 100%\n",
      "\n",
      "('Documents:', 2432)\n",
      "('Sentences:', 24740)\n"
     ]
    }
   ],
   "source": [
    "from snorkel.parser import CorpusParser\n",
    "from snorkel.utils_cdr import TaggerOneTagger, CDRTagger\n",
    "from snorkel.parser.spacy_parser import Spacy\n",
    "\n",
    "\n",
    "tagger_one = TaggerOneTagger(fname_tags=\n",
    "                             '/home/antonis/data/biocreative6/entities/unary_tags.pkl.bz2',\n",
    "                            fname_mesh=\n",
    "                             '/home/antonis/data/biocreative6/entities/mesh_dict.pkl.bz2')\n",
    "\n",
    "corpus_parser = CorpusParser(parser = Spacy() , fn = tagger_one.tag)\n",
    "corpus_parser = CorpusParser(fn = tagger_one.tag)\n",
    "corpus_parser.apply(list(csv_preprocessor))\n",
    "\n",
    "# Inspect DB contents\n",
    "print(\"Documents:\", session.query(Document).count())\n",
    "print(\"Sentences:\", session.query(Sentence).count())"
   ]
  },
  {
   "cell_type": "markdown",
   "metadata": {},
   "source": [
    "** DebuG ** \n"
   ]
  },
  {
   "cell_type": "code",
   "execution_count": 11,
   "metadata": {},
   "outputs": [],
   "source": [
    "# # DebuG\n",
    "# print(\"sample docs inserted: \")\n",
    "# map(lambda x: x[1],csv_preprocessor)[0:10]"
   ]
  },
  {
   "cell_type": "code",
   "execution_count": 11,
   "metadata": {
    "scrolled": true
   },
   "outputs": [],
   "source": [
    "# # use Spacy as an alternative for now\n",
    "# corpus_parser = CorpusParser( parser = Spacy() )\n",
    "# corpus_parser.apply(doc_preprocessor)"
   ]
  },
  {
   "cell_type": "code",
   "execution_count": 12,
   "metadata": {
    "scrolled": true
   },
   "outputs": [],
   "source": [
    "# # Inspect given entities in sentence\n",
    "# for i in range(10):\n",
    "#     print ','.join(session.query(Sentence).all()[i].entity_types)\n",
    "#     print '\\n'"
   ]
  },
  {
   "cell_type": "markdown",
   "metadata": {},
   "source": [
    "### Split dataset into dev, train, test"
   ]
  },
  {
   "cell_type": "code",
   "execution_count": 10,
   "metadata": {},
   "outputs": [],
   "source": [
    "with open('/home/antonis/data/biocreative6/pubmed_ids_extended.pickle', 'rb') as f:\n",
    "    pubmed_ids = pickle.load(f)"
   ]
  },
  {
   "cell_type": "code",
   "execution_count": 11,
   "metadata": {},
   "outputs": [
    {
     "data": {
      "text/plain": [
       "['development', 'training', 'chemdner_silver', 'test_gs']"
      ]
     },
     "execution_count": 11,
     "metadata": {},
     "output_type": "execute_result"
    }
   ],
   "source": [
    "pubmed_ids.keys()"
   ]
  },
  {
   "cell_type": "code",
   "execution_count": 12,
   "metadata": {},
   "outputs": [],
   "source": [
    "train_ids  =  set(pubmed_ids['training'])\n",
    "dev_ids = set(pubmed_ids['development'])\n",
    "test_ids = set(pubmed_ids['test_gs'])\n",
    "chemdner_silver_ids =  set(pubmed_ids['chemdner_silver'])"
   ]
  },
  {
   "cell_type": "code",
   "execution_count": 13,
   "metadata": {},
   "outputs": [],
   "source": [
    "# split sentences"
   ]
  },
  {
   "cell_type": "code",
   "execution_count": 14,
   "metadata": {},
   "outputs": [],
   "source": [
    "train_sents, dev_sents, test_sents, unlab_sents = set(), set(), set(), set()\n",
    "docs = session.query(Document).order_by(Document.name).all()"
   ]
  },
  {
   "cell_type": "code",
   "execution_count": 15,
   "metadata": {
    "scrolled": true
   },
   "outputs": [],
   "source": [
    "for i, doc in enumerate(docs):\n",
    "    for s in doc.sentences:\n",
    "        if doc.name in train_ids:\n",
    "            train_sents.add(s)\n",
    "        elif doc.name in dev_ids:\n",
    "            dev_sents.add(s)\n",
    "        elif doc.name in test_ids:\n",
    "            test_sents.add(s)\n",
    "        elif doc.name in chemdner_silver_ids:\n",
    "            unlab_sents.add(s)\n",
    "        else:\n",
    "            raise Exception('ID <{0}> not found in any id set'.format(doc.name))"
   ]
  },
  {
   "cell_type": "markdown",
   "metadata": {},
   "source": [
    "## Candidate extraction"
   ]
  },
  {
   "cell_type": "code",
   "execution_count": 16,
   "metadata": {},
   "outputs": [],
   "source": [
    "from snorkel.models import Candidate, candidate_subclass\n",
    "\n",
    "REGULATOR = candidate_subclass('REGULATOR', ['Chemical', 'Gene'])"
   ]
  },
  {
   "cell_type": "code",
   "execution_count": 17,
   "metadata": {},
   "outputs": [],
   "source": [
    "from snorkel.candidates import PretaggedCandidateExtractor\n",
    "\n",
    "candidate_extractor = PretaggedCandidateExtractor(REGULATOR, ['Chemical', 'Gene'])"
   ]
  },
  {
   "cell_type": "code",
   "execution_count": null,
   "metadata": {},
   "outputs": [],
   "source": []
  },
  {
   "cell_type": "code",
   "execution_count": 18,
   "metadata": {},
   "outputs": [
    {
     "name": "stdout",
     "output_type": "stream",
     "text": [
      "10361\n",
      "6227\n",
      "8152\n",
      "0\n"
     ]
    }
   ],
   "source": [
    "for k, sents in enumerate([train_sents, dev_sents, test_sents, unlab_sents]):\n",
    "    print len(sents)"
   ]
  },
  {
   "cell_type": "code",
   "execution_count": 19,
   "metadata": {},
   "outputs": [
    {
     "name": "stdout",
     "output_type": "stream",
     "text": [
      "Clearing existing...\n",
      "Running UDF...\n",
      "[========================================] 100%\n",
      "\n",
      "('Number of candidates:', 15215)\n",
      "Clearing existing...\n",
      "Running UDF...\n",
      "[========================================] 100%\n",
      "\n",
      "('Number of candidates:', 9587)\n",
      "Clearing existing...\n",
      "Running UDF...\n",
      "[========================================] 100%\n",
      "\n",
      "('Number of candidates:', 13350)\n",
      "Clearing existing...\n",
      "Running UDF...\n",
      "[========================================] 100%\n",
      "\n",
      "('Number of candidates:', 0)\n"
     ]
    }
   ],
   "source": [
    "for k, sents in enumerate([train_sents, dev_sents, test_sents, unlab_sents]):\n",
    "    candidate_extractor.apply(sents, split=k)\n",
    "    print(\"Number of candidates:\", session.query(REGULATOR).filter(REGULATOR.split == k).count())"
   ]
  },
  {
   "cell_type": "code",
   "execution_count": null,
   "metadata": {},
   "outputs": [],
   "source": []
  },
  {
   "cell_type": "markdown",
   "metadata": {},
   "source": [
    "# Import gold labels"
   ]
  },
  {
   "cell_type": "code",
   "execution_count": 20,
   "metadata": {},
   "outputs": [],
   "source": [
    "from utils import load_external_labels"
   ]
  },
  {
   "cell_type": "code",
   "execution_count": 21,
   "metadata": {},
   "outputs": [
    {
     "name": "stdout",
     "output_type": "stream",
     "text": [
      "AnnotatorLabels created: 7285\n",
      "AnnotatorLabels not matched to candidates (split=0): 314258\n",
      "AnnotatorLabels created: 4621\n",
      "AnnotatorLabels not matched to candidates (split=1): 316922\n",
      "AnnotatorLabels created: 5781\n",
      "AnnotatorLabels not matched to candidates (split=2): 315762\n"
     ]
    }
   ],
   "source": [
    "from snorkel.db_helpers import reload_annotator_labels\n",
    "filter_label_split= False\n",
    "# load_external_labels(session,\n",
    "#                      REGULATOR,\n",
    "#                      FPATH='../../data/biocreative6/gold_rels_snorkel_format.tsv'\n",
    "# #                      id_fname='../../data/biocreative6/pubmed_ids_extended.pickle'\n",
    "#                     )\n",
    "\n",
    "#load external labels into db\n",
    "load_external_labels(session, REGULATOR, tsv_path='../../data/biocreative6/entities/gold_rels_complete.tsv', reload=False)\n",
    "\n",
    "# manually reload annotations from db into the table (moved out of load_external_labels)\n",
    "reload_annotator_labels(session, REGULATOR, 'gold', split=0, filter_label_split= filter_label_split, debug=True)\n",
    "reload_annotator_labels(session, REGULATOR, 'gold', split=1, filter_label_split= filter_label_split, debug=True)\n",
    "reload_annotator_labels(session, REGULATOR, 'gold', split=2, filter_label_split= filter_label_split, debug=True)\n"
   ]
  },
  {
   "cell_type": "markdown",
   "metadata": {},
   "source": [
    "# Debug gold labels mapping failure"
   ]
  },
  {
   "cell_type": "code",
   "execution_count": 28,
   "metadata": {},
   "outputs": [
    {
     "data": {
      "text/plain": [
       "24429"
      ]
     },
     "execution_count": 28,
     "metadata": {},
     "output_type": "execute_result"
    }
   ],
   "source": [
    "#Spacy:\n",
    "print 9917 + 6227 + 8285\n",
    "#CoreNLP:\n",
    "print 7285 + 4621 + 5781"
   ]
  },
  {
   "cell_type": "code",
   "execution_count": 37,
   "metadata": {},
   "outputs": [],
   "source": [
    "from snorkel.models import StableLabel, GoldLabel, Context, GoldLabelKey\n"
   ]
  },
  {
   "cell_type": "code",
   "execution_count": 47,
   "metadata": {},
   "outputs": [],
   "source": [
    "ak = session.query(GoldLabelKey).filter(GoldLabelKey.name == 'gold').first()"
   ]
  },
  {
   "cell_type": "code",
   "execution_count": 50,
   "metadata": {},
   "outputs": [
    {
     "data": {
      "text/plain": [
       "8362"
      ]
     },
     "execution_count": 50,
     "metadata": {},
     "output_type": "execute_result"
    }
   ],
   "source": [
    "len(ak.gold_labels)"
   ]
  },
  {
   "cell_type": "code",
   "execution_count": 54,
   "metadata": {},
   "outputs": [],
   "source": [
    "ak1 = session.query(GoldLabelKey).filter(GoldLabelKey.name == 'gold').all()[0]"
   ]
  },
  {
   "cell_type": "code",
   "execution_count": 56,
   "metadata": {},
   "outputs": [
    {
     "data": {
      "text/plain": [
       "[GoldLabelKey (gold)]"
      ]
     },
     "execution_count": 56,
     "metadata": {},
     "output_type": "execute_result"
    }
   ],
   "source": [
    "session.query(GoldLabelKey).filter(GoldLabelKey.name == 'gold').all()"
   ]
  },
  {
   "cell_type": "code",
   "execution_count": 61,
   "metadata": {},
   "outputs": [
    {
     "data": {
      "text/plain": [
       " 1    6004\n",
       "-1    2358\n",
       "dtype: int64"
      ]
     },
     "execution_count": 61,
     "metadata": {},
     "output_type": "execute_result"
    }
   ],
   "source": [
    "pd.Series(map(lambda x: x.value, ak1.gold_labels)).value_counts()"
   ]
  },
  {
   "cell_type": "code",
   "execution_count": null,
   "metadata": {},
   "outputs": [],
   "source": []
  },
  {
   "cell_type": "code",
   "execution_count": 32,
   "metadata": {},
   "outputs": [
    {
     "data": {
      "text/plain": [
       "10008"
      ]
     },
     "execution_count": 32,
     "metadata": {},
     "output_type": "execute_result"
    }
   ],
   "source": [
    "2849+7159"
   ]
  },
  {
   "cell_type": "code",
   "execution_count": 30,
   "metadata": {},
   "outputs": [
    {
     "data": {
      "text/plain": [
       "8362"
      ]
     },
     "execution_count": 30,
     "metadata": {},
     "output_type": "execute_result"
    }
   ],
   "source": [
    "10008-6544+2049+2849"
   ]
  },
  {
   "cell_type": "code",
   "execution_count": 24,
   "metadata": {},
   "outputs": [
    {
     "data": {
      "text/plain": [
       "6524"
      ]
     },
     "execution_count": 24,
     "metadata": {},
     "output_type": "execute_result"
    }
   ],
   "source": [
    "#gold labels found (out of 10K):\n",
    "#CoreNLP: 2711+1648+2165 = 6524\n",
    "\n",
    "#Spacy: 3464+2049+2849 = 8362"
   ]
  },
  {
   "cell_type": "code",
   "execution_count": 25,
   "metadata": {},
   "outputs": [
    {
     "data": {
      "text/plain": [
       "8362"
      ]
     },
     "execution_count": 25,
     "metadata": {},
     "output_type": "execute_result"
    }
   ],
   "source": [
    "3464+2049+2849"
   ]
  },
  {
   "cell_type": "code",
   "execution_count": null,
   "metadata": {},
   "outputs": [],
   "source": []
  },
  {
   "cell_type": "markdown",
   "metadata": {},
   "source": [
    "#### check missing StableLabels"
   ]
  },
  {
   "cell_type": "code",
   "execution_count": 40,
   "metadata": {},
   "outputs": [],
   "source": [
    "from snorkel.models import StableLabel"
   ]
  },
  {
   "cell_type": "code",
   "execution_count": 41,
   "metadata": {},
   "outputs": [],
   "source": [
    "query = session.query(StableLabel)"
   ]
  },
  {
   "cell_type": "code",
   "execution_count": 45,
   "metadata": {},
   "outputs": [
    {
     "data": {
      "text/plain": [
       "10008"
      ]
     },
     "execution_count": 45,
     "metadata": {},
     "output_type": "execute_result"
    }
   ],
   "source": [
    "len(query.all())"
   ]
  },
  {
   "cell_type": "code",
   "execution_count": 46,
   "metadata": {},
   "outputs": [],
   "source": [
    "st_l=query.all()[0]"
   ]
  },
  {
   "cell_type": "code",
   "execution_count": 48,
   "metadata": {},
   "outputs": [
    {
     "data": {
      "text/plain": [
       "u'10082498::span:1047:1056~~10082498::span:998:1004'"
      ]
     },
     "execution_count": 48,
     "metadata": {},
     "output_type": "execute_result"
    }
   ],
   "source": [
    "st_l.context_stable_ids"
   ]
  },
  {
   "cell_type": "code",
   "execution_count": 57,
   "metadata": {},
   "outputs": [
    {
     "data": {
      "text/plain": [
       "{}"
      ]
     },
     "execution_count": 57,
     "metadata": {},
     "output_type": "execute_result"
    }
   ],
   "source": [
    "st_l.metadata."
   ]
  },
  {
   "cell_type": "code",
   "execution_count": 55,
   "metadata": {},
   "outputs": [
    {
     "data": {
      "text/plain": [
       "u'gold'"
      ]
     },
     "execution_count": 55,
     "metadata": {},
     "output_type": "execute_result"
    }
   ],
   "source": [
    "st_l.annotator_name"
   ]
  },
  {
   "cell_type": "code",
   "execution_count": 58,
   "metadata": {},
   "outputs": [
    {
     "data": {
      "text/plain": [
       "sqlalchemy.sql.schema.MetaData"
      ]
     },
     "execution_count": 58,
     "metadata": {},
     "output_type": "execute_result"
    }
   ],
   "source": [
    "type(st_l.metadata)"
   ]
  },
  {
   "cell_type": "markdown",
   "metadata": {},
   "source": [
    "# ~~~~"
   ]
  },
  {
   "cell_type": "code",
   "execution_count": 26,
   "metadata": {
    "scrolled": true
   },
   "outputs": [
    {
     "data": {
      "text/plain": [
       "16027"
      ]
     },
     "execution_count": 26,
     "metadata": {},
     "output_type": "execute_result"
    }
   ],
   "source": [
    "session.query(REGULATOR).filter(REGULATOR.split == 0).count()"
   ]
  },
  {
   "cell_type": "code",
   "execution_count": 27,
   "metadata": {},
   "outputs": [],
   "source": [
    "cands = session.query(REGULATOR).filter(REGULATOR.split == 1)"
   ]
  },
  {
   "cell_type": "code",
   "execution_count": 28,
   "metadata": {},
   "outputs": [
    {
     "data": {
      "text/plain": [
       "REGULATOR(Span(\"apo-lycopenoic acids\", sentence=4500, chars=[5,24], words=[1,4]), Span(\"COX-2\", sentence=4500, chars=[124,128], words=[22,22]))"
      ]
     },
     "execution_count": 28,
     "metadata": {},
     "output_type": "execute_result"
    }
   ],
   "source": [
    "cands[0]"
   ]
  },
  {
   "cell_type": "code",
   "execution_count": 29,
   "metadata": {},
   "outputs": [
    {
     "data": {
      "text/plain": [
       "Sentence(Document 22989703,6,Both apo-lycopenoic acids also decreased CSE-induced ROS production, 8-OHdG formation and reduced the increase in NOX-4 and COX-2 expressions caused by CSE.)"
      ]
     },
     "execution_count": 29,
     "metadata": {},
     "output_type": "execute_result"
    }
   ],
   "source": [
    "cands[0].get_parent()"
   ]
  },
  {
   "cell_type": "code",
   "execution_count": 30,
   "metadata": {},
   "outputs": [
    {
     "name": "stdout",
     "output_type": "stream",
     "text": [
      "16029\n",
      "[GoldLabel (gold = 1)]\n",
      "Sentence(Document 22989703,6,Both apo-lycopenoic acids also decreased CSE-induced ROS production, 8-OHdG formation and reduced the increase in NOX-4 and COX-2 expressions caused by CSE.)\n",
      "\n",
      "28\n",
      "28\n"
     ]
    }
   ],
   "source": [
    "for c in cands[1:2]:\n",
    "    print c.id\n",
    "    print c.gold_labels\n",
    "    print c.get_parent()\n",
    "    \n",
    "    print \n",
    "    print len(c.get_parent().entity_types)\n",
    "    print len(c.get_parent().lemmas)\n",
    "#     for (t, l) in zip(c.get_parent().entity_types, c.get_parent().lemmas):\n",
    "#         print t,l\n",
    "#     c.\n",
    "    "
   ]
  },
  {
   "cell_type": "markdown",
   "metadata": {},
   "source": [
    "## Print all spans of correctly tagged entities"
   ]
  },
  {
   "cell_type": "code",
   "execution_count": 29,
   "metadata": {},
   "outputs": [],
   "source": [
    "cands = session.query(REGULATOR).filter(REGULATOR.split == 1)"
   ]
  },
  {
   "cell_type": "code",
   "execution_count": 30,
   "metadata": {
    "scrolled": false
   },
   "outputs": [
    {
     "name": "stdout",
     "output_type": "stream",
     "text": [
      "Documents with mapped doc labels:\n",
      "Candidate 16028 / sentence 6601 / document name 18803986 \n",
      "Span(\"tyrosine\", sentence=6601, chars=[143,150], words=[26,26]) \n",
      "Span(\"HER2\", sentence=6601, chars=[137,140], words=[24,24]) \n",
      "\n",
      "\n",
      "Candidate 16029 / sentence 6601 / document name 18803986 \n",
      "Span(\"tyrosine\", sentence=6601, chars=[143,150], words=[26,26]) \n",
      "Span(\"epidermal growth factor receptor\", sentence=6601, chars=[51,82], words=[9,12]) \n",
      "\n",
      "\n",
      "Candidate 16030 / sentence 6601 / document name 18803986 \n",
      "Span(\"tyrosine\", sentence=6601, chars=[143,150], words=[26,26]) \n",
      "Span(\"EGFR\", sentence=6601, chars=[85,88], words=[14,14]) \n",
      "\n",
      "\n"
     ]
    }
   ],
   "source": [
    "cands = session.query(REGULATOR).filter(REGULATOR.split == 1)\n",
    "print 'Documents with mapped doc labels:'\n",
    "for c in cands[:3]:\n",
    "    if len(c.gold_labels):\n",
    "        print \"Candidate %s / sentence %s / document name %s \" %(c.id, c.get_parent().id , c.get_parent().get_parent().name)\n",
    "#         print c.get_parent()\n",
    "        print c.Chemical,'\\n', c.Gene,'\\n\\n'\n",
    "#         print 'Label:',c.gold_labels[0].value\n",
    "#         print '\\n'"
   ]
  },
  {
   "cell_type": "markdown",
   "metadata": {},
   "source": [
    "## Print all spans of IN-correctly tagged entities"
   ]
  },
  {
   "cell_type": "code",
   "execution_count": 31,
   "metadata": {},
   "outputs": [
    {
     "data": {
      "text/plain": [
       "u'FR'"
      ]
     },
     "execution_count": 31,
     "metadata": {},
     "output_type": "execute_result"
    }
   ],
   "source": [
    "c.Gene.get_parent().text[c.Gene.char_end-1:c.Gene.char_end+1]"
   ]
  },
  {
   "cell_type": "code",
   "execution_count": 39,
   "metadata": {},
   "outputs": [
    {
     "name": "stdout",
     "output_type": "stream",
     "text": [
      "24429\n",
      "15357\n",
      "39786\n"
     ]
    }
   ],
   "source": [
    "print map(lambda c: len(c.gold_labels), session.query(REGULATOR)).count(1)\n",
    "print map(lambda c: len(c.gold_labels), session.query(REGULATOR)).count(0)\n",
    "print len(session.query(REGULATOR).all())"
   ]
  },
  {
   "cell_type": "markdown",
   "metadata": {},
   "source": [
    "### specific doc debug\n"
   ]
  },
  {
   "cell_type": "code",
   "execution_count": 61,
   "metadata": {},
   "outputs": [
    {
     "data": {
      "text/plain": [
       "u'23290724'"
      ]
     },
     "execution_count": 61,
     "metadata": {},
     "output_type": "execute_result"
    }
   ],
   "source": [
    "c.get_parent().get_parent().name"
   ]
  },
  {
   "cell_type": "code",
   "execution_count": 65,
   "metadata": {},
   "outputs": [],
   "source": [
    "from utils import  get_raw_document_txt"
   ]
  },
  {
   "cell_type": "code",
   "execution_count": 75,
   "metadata": {},
   "outputs": [
    {
     "data": {
      "text/plain": [
       "' (INS) or portal vein glucose infusion (PoG) was measured. Increased hepatic glycogen reduced the percent of glucose taken up by the liver that was deposited in glycogen (74 \\xc2\\xb1 3 vs. 53 \\xc2\\xb1 5% in Gly+INS and SCGly+INS, respectively, and 72 \\xc2\\xb1 3 vs. 50 \\xc2\\xb1 6% in Gly+PoG and SCGly+PoG, respectively). The reduction in liver glycogen synthesis in SCGly+INS was accompanied by a decrease in both insulin signaling and an increase in AMPK activation, whereas only the latter was observed in SCGly+PoG. These data indicate that liver glycogen loading impairs glycogen synthesis regardless of the signal used to stimulate it.\\n'"
      ]
     },
     "execution_count": 75,
     "metadata": {},
     "output_type": "execute_result"
    }
   ],
   "source": [
    "get_raw_document_txt(22923473)[485+179:]"
   ]
  },
  {
   "cell_type": "code",
   "execution_count": 91,
   "metadata": {},
   "outputs": [
    {
     "name": "stdout",
     "output_type": "stream",
     "text": [
      "Candidate 19373 / sentence uid = 6968 (14 in doc) / document name 14757700 \n",
      "In contrast, menthol- and icilin-activated TRPM8 currents were suppressed by low pH. 6.\n",
      "Span(\"menthol-\", sentence=6968, chars=[13,20], words=[3,3]) \n",
      "Span(\"TRPM8\", sentence=6968, chars=[43,47], words=[8,8]) Label: 0\n",
      "\n",
      "\n",
      "\n",
      "Candidate 19374 / sentence uid = 6968 (14 in doc) / document name 14757700 \n",
      "In contrast, menthol- and icilin-activated TRPM8 currents were suppressed by low pH. 6.\n",
      "Span(\"icilin\", sentence=6968, chars=[26,31], words=[5,5]) \n",
      "Span(\"TRPM8\", sentence=6968, chars=[43,47], words=[8,8]) Label: 1\n",
      "\n",
      "\n",
      "\n",
      "Candidate 19375 / sentence uid = 6960 (6 in doc) / document name 14757700 \n",
      "The effects of 70 odorants and menthol-related substances on recombinant mouse TRPM8 (mTRPM8), expressed in HEK293 cells, were examined using a FLIPR assay.\n",
      "Span(\"menthol\", sentence=6960, chars=[31,37], words=[6,6]) \n",
      "Span(\"mTRPM8\", sentence=6960, chars=[86,91], words=[15,15]) Label: 1\n",
      "\n",
      "\n",
      "\n",
      "Candidate 19376 / sentence uid = 6960 (6 in doc) / document name 14757700 \n",
      "The effects of 70 odorants and menthol-related substances on recombinant mouse TRPM8 (mTRPM8), expressed in HEK293 cells, were examined using a FLIPR assay.\n",
      "Span(\"menthol\", sentence=6960, chars=[31,37], words=[6,6]) \n",
      "Span(\"mouse TRPM8\", sentence=6960, chars=[73,83], words=[12,13]) Label: 1\n",
      "\n",
      "\n",
      "\n",
      "Candidate 19377 / sentence uid = 6967 (13 in doc) / document name 14757700 \n",
      "The Ca(2+) response of hVR1-transfected HEK293 cells to the endogenous VR1 agonist N-arachidonoyl-dopamine was potentiated by low pH.\n",
      "Span(\"N-arachidonoyl-dopamine\", sentence=6967, chars=[83,105], words=[14,18]) \n",
      "Span(\"hVR1-transfected\", sentence=6967, chars=[23,38], words=[6,6]) Label: 0\n",
      "\n",
      "\n",
      "\n",
      "Candidate 19378 / sentence uid = 6967 (13 in doc) / document name 14757700 \n",
      "The Ca(2+) response of hVR1-transfected HEK293 cells to the endogenous VR1 agonist N-arachidonoyl-dopamine was potentiated by low pH.\n",
      "Span(\"N-arachidonoyl-dopamine\", sentence=6967, chars=[83,105], words=[14,18]) \n",
      "Span(\"VR1\", sentence=6967, chars=[71,73], words=[12,12]) Label: 1\n",
      "\n",
      "\n",
      "\n",
      "Candidate 19379 / sentence uid = 6967 (13 in doc) / document name 14757700 \n",
      "The Ca(2+) response of hVR1-transfected HEK293 cells to the endogenous VR1 agonist N-arachidonoyl-dopamine was potentiated by low pH.\n",
      "Span(\"Ca(2+\", sentence=6967, chars=[4,8], words=[1,2]) \n",
      "Span(\"hVR1-transfected\", sentence=6967, chars=[23,38], words=[6,6]) Label: 0\n",
      "\n",
      "\n",
      "\n",
      "Candidate 19380 / sentence uid = 6967 (13 in doc) / document name 14757700 \n",
      "The Ca(2+) response of hVR1-transfected HEK293 cells to the endogenous VR1 agonist N-arachidonoyl-dopamine was potentiated by low pH.\n",
      "Span(\"Ca(2+\", sentence=6967, chars=[4,8], words=[1,2]) \n",
      "Span(\"VR1\", sentence=6967, chars=[71,73], words=[12,12]) Label: 0\n",
      "\n",
      "\n",
      "\n",
      "Candidate 19410 / sentence uid = 6958 (4 in doc) / document name 14757700 \n",
      "We tested whether substances which are structurally related to menthol, or which produce a cooling sensation, could activate TRPM8, and compared the responses of TRPM8 and VR1 to these ligands.\n",
      "Span(\"menthol\", sentence=6958, chars=[63,69], words=[9,9]) \n",
      "Span(\"TRPM8\", sentence=6958, chars=[125,129], words=[20,20]) Label: 1\n",
      "\n",
      "\n",
      "\n",
      "Candidate 19411 / sentence uid = 6958 (4 in doc) / document name 14757700 \n",
      "We tested whether substances which are structurally related to menthol, or which produce a cooling sensation, could activate TRPM8, and compared the responses of TRPM8 and VR1 to these ligands.\n",
      "Span(\"menthol\", sentence=6958, chars=[63,69], words=[9,9]) \n",
      "Span(\"TRPM8\", sentence=6958, chars=[162,166], words=[27,27]) Label: 1\n",
      "\n",
      "\n",
      "\n",
      "Candidate 19412 / sentence uid = 6958 (4 in doc) / document name 14757700 \n",
      "We tested whether substances which are structurally related to menthol, or which produce a cooling sensation, could activate TRPM8, and compared the responses of TRPM8 and VR1 to these ligands.\n",
      "Span(\"menthol\", sentence=6958, chars=[63,69], words=[9,9]) \n",
      "Span(\"VR1\", sentence=6958, chars=[172,174], words=[29,29]) Label: 1\n",
      "\n",
      "\n",
      "\n",
      "Candidate 19419 / sentence uid = 6956 (2 in doc) / document name 14757700 \n",
      "TRPM8 (CMR1) is a Ca(2+)-permeable channel, which can be activated by low temperatures, menthol, eucalyptol and icilin.\n",
      "Span(\"menthol\", sentence=6956, chars=[88,94], words=[17,17]) \n",
      "Span(\"TRPM8\", sentence=6956, chars=[0,4], words=[0,0]) Label: 1\n",
      "\n",
      "\n",
      "\n",
      "Candidate 19420 / sentence uid = 6956 (2 in doc) / document name 14757700 \n",
      "TRPM8 (CMR1) is a Ca(2+)-permeable channel, which can be activated by low temperatures, menthol, eucalyptol and icilin.\n",
      "Span(\"menthol\", sentence=6956, chars=[88,94], words=[17,17]) \n",
      "Span(\"Ca(2+)-permeable channel\", sentence=6956, chars=[18,41], words=[6,7]) Label: 1\n",
      "\n",
      "\n",
      "\n",
      "Candidate 19421 / sentence uid = 6956 (2 in doc) / document name 14757700 \n",
      "TRPM8 (CMR1) is a Ca(2+)-permeable channel, which can be activated by low temperatures, menthol, eucalyptol and icilin.\n",
      "Span(\"menthol\", sentence=6956, chars=[88,94], words=[17,17]) \n",
      "Span(\"CMR1\", sentence=6956, chars=[7,10], words=[2,2]) Label: 1\n",
      "\n",
      "\n",
      "\n",
      "Candidate 19422 / sentence uid = 6956 (2 in doc) / document name 14757700 \n",
      "TRPM8 (CMR1) is a Ca(2+)-permeable channel, which can be activated by low temperatures, menthol, eucalyptol and icilin.\n",
      "Span(\"eucalyptol\", sentence=6956, chars=[97,106], words=[19,19]) \n",
      "Span(\"TRPM8\", sentence=6956, chars=[0,4], words=[0,0]) Label: 1\n",
      "\n",
      "\n",
      "\n",
      "Candidate 19423 / sentence uid = 6956 (2 in doc) / document name 14757700 \n",
      "TRPM8 (CMR1) is a Ca(2+)-permeable channel, which can be activated by low temperatures, menthol, eucalyptol and icilin.\n",
      "Span(\"eucalyptol\", sentence=6956, chars=[97,106], words=[19,19]) \n",
      "Span(\"Ca(2+)-permeable channel\", sentence=6956, chars=[18,41], words=[6,7]) Label: 1\n",
      "\n",
      "\n",
      "\n",
      "Candidate 19424 / sentence uid = 6956 (2 in doc) / document name 14757700 \n",
      "TRPM8 (CMR1) is a Ca(2+)-permeable channel, which can be activated by low temperatures, menthol, eucalyptol and icilin.\n",
      "Span(\"eucalyptol\", sentence=6956, chars=[97,106], words=[19,19]) \n",
      "Span(\"CMR1\", sentence=6956, chars=[7,10], words=[2,2]) Label: 1\n",
      "\n",
      "\n",
      "\n",
      "Candidate 19425 / sentence uid = 6956 (2 in doc) / document name 14757700 \n",
      "TRPM8 (CMR1) is a Ca(2+)-permeable channel, which can be activated by low temperatures, menthol, eucalyptol and icilin.\n",
      "Span(\"icilin\", sentence=6956, chars=[112,117], words=[21,21]) \n",
      "Span(\"TRPM8\", sentence=6956, chars=[0,4], words=[0,0]) Label: 1\n",
      "\n",
      "\n",
      "\n",
      "Candidate 19426 / sentence uid = 6956 (2 in doc) / document name 14757700 \n",
      "TRPM8 (CMR1) is a Ca(2+)-permeable channel, which can be activated by low temperatures, menthol, eucalyptol and icilin.\n",
      "Span(\"icilin\", sentence=6956, chars=[112,117], words=[21,21]) \n",
      "Span(\"Ca(2+)-permeable channel\", sentence=6956, chars=[18,41], words=[6,7]) Label: 1\n",
      "\n",
      "\n",
      "\n",
      "Candidate 19427 / sentence uid = 6956 (2 in doc) / document name 14757700 \n",
      "TRPM8 (CMR1) is a Ca(2+)-permeable channel, which can be activated by low temperatures, menthol, eucalyptol and icilin.\n",
      "Span(\"icilin\", sentence=6956, chars=[112,117], words=[21,21]) \n",
      "Span(\"CMR1\", sentence=6956, chars=[7,10], words=[2,2]) Label: 1\n",
      "\n",
      "\n",
      "\n",
      "Candidate 19432 / sentence uid = 6965 (11 in doc) / document name 14757700 \n",
      "Known VR1 antagonists (BCTC, thio-BCTC and capsazepine) were also able to block the response of TRPM8 to menthol (IC(50): 0.8+/-1.0, 3.5+/-1.1 and 18+/-1.1 microM, respectively).\n",
      "Span(\"menthol\", sentence=6965, chars=[105,111], words=[22,22]) \n",
      "Span(\"TRPM8\", sentence=6965, chars=[96,100], words=[20,20]) Label: 1\n",
      "\n",
      "\n",
      "\n",
      "Candidate 19433 / sentence uid = 6965 (11 in doc) / document name 14757700 \n",
      "Known VR1 antagonists (BCTC, thio-BCTC and capsazepine) were also able to block the response of TRPM8 to menthol (IC(50): 0.8+/-1.0, 3.5+/-1.1 and 18+/-1.1 microM, respectively).\n",
      "Span(\"menthol\", sentence=6965, chars=[105,111], words=[22,22]) \n",
      "Span(\"VR1\", sentence=6965, chars=[6,8], words=[1,1]) Label: 1\n",
      "\n",
      "\n",
      "\n",
      "Candidate 19434 / sentence uid = 6965 (11 in doc) / document name 14757700 \n",
      "Known VR1 antagonists (BCTC, thio-BCTC and capsazepine) were also able to block the response of TRPM8 to menthol (IC(50): 0.8+/-1.0, 3.5+/-1.1 and 18+/-1.1 microM, respectively).\n",
      "Span(\"capsazepine\", sentence=6965, chars=[43,53], words=[10,10]) \n",
      "Span(\"TRPM8\", sentence=6965, chars=[96,100], words=[20,20]) Label: 1\n",
      "\n",
      "\n",
      "\n",
      "Candidate 19435 / sentence uid = 6965 (11 in doc) / document name 14757700 \n",
      "Known VR1 antagonists (BCTC, thio-BCTC and capsazepine) were also able to block the response of TRPM8 to menthol (IC(50): 0.8+/-1.0, 3.5+/-1.1 and 18+/-1.1 microM, respectively).\n",
      "Span(\"capsazepine\", sentence=6965, chars=[43,53], words=[10,10]) \n",
      "Span(\"VR1\", sentence=6965, chars=[6,8], words=[1,1]) Label: 1\n",
      "\n",
      "\n",
      "\n",
      "Candidate 19436 / sentence uid = 6965 (11 in doc) / document name 14757700 \n",
      "Known VR1 antagonists (BCTC, thio-BCTC and capsazepine) were also able to block the response of TRPM8 to menthol (IC(50): 0.8+/-1.0, 3.5+/-1.1 and 18+/-1.1 microM, respectively).\n",
      "Span(\"thio-BCTC\", sentence=6965, chars=[29,37], words=[6,8]) \n",
      "Span(\"TRPM8\", sentence=6965, chars=[96,100], words=[20,20]) Label: 1\n",
      "\n",
      "\n",
      "\n",
      "Candidate 19437 / sentence uid = 6965 (11 in doc) / document name 14757700 \n",
      "Known VR1 antagonists (BCTC, thio-BCTC and capsazepine) were also able to block the response of TRPM8 to menthol (IC(50): 0.8+/-1.0, 3.5+/-1.1 and 18+/-1.1 microM, respectively).\n",
      "Span(\"thio-BCTC\", sentence=6965, chars=[29,37], words=[6,8]) \n",
      "Span(\"VR1\", sentence=6965, chars=[6,8], words=[1,1]) Label: 1\n",
      "\n",
      "\n",
      "\n",
      "Candidate 19438 / sentence uid = 6965 (11 in doc) / document name 14757700 \n",
      "Known VR1 antagonists (BCTC, thio-BCTC and capsazepine) were also able to block the response of TRPM8 to menthol (IC(50): 0.8+/-1.0, 3.5+/-1.1 and 18+/-1.1 microM, respectively).\n",
      "Span(\"BCTC\", sentence=6965, chars=[23,26], words=[4,4]) \n",
      "Span(\"TRPM8\", sentence=6965, chars=[96,100], words=[20,20]) Label: 1\n",
      "\n",
      "\n",
      "\n",
      "Candidate 19439 / sentence uid = 6965 (11 in doc) / document name 14757700 \n",
      "Known VR1 antagonists (BCTC, thio-BCTC and capsazepine) were also able to block the response of TRPM8 to menthol (IC(50): 0.8+/-1.0, 3.5+/-1.1 and 18+/-1.1 microM, respectively).\n",
      "Span(\"BCTC\", sentence=6965, chars=[23,26], words=[4,4]) \n",
      "Span(\"VR1\", sentence=6965, chars=[6,8], words=[1,1]) Label: 1\n",
      "\n",
      "\n",
      "\n"
     ]
    }
   ],
   "source": [
    "for c in session.query(REGULATOR):\n",
    "    if c.get_parent().get_parent().name == u'14757700': \n",
    "        if (len(c.gold_labels)==0) or (len(c.gold_labels)==1) :\n",
    "            print \"Candidate %s / sentence uid = %s (%s in doc) / document name %s \" %(c.id, c.get_parent().id, c.get_parent().position +1 , c.get_parent().get_parent().name)\n",
    "    #         print c.get_parent()\n",
    "            print c.get_parent().text\n",
    "            print c.Chemical,'\\n', c.Gene,\n",
    "            print 'Label:',len(c.gold_labels)\n",
    "            print '\\n\\n'"
   ]
  },
  {
   "cell_type": "code",
   "execution_count": null,
   "metadata": {},
   "outputs": [],
   "source": []
  },
  {
   "cell_type": "code",
   "execution_count": null,
   "metadata": {},
   "outputs": [],
   "source": []
  },
  {
   "cell_type": "markdown",
   "metadata": {},
   "source": [
    "### random doc debug:\n"
   ]
  },
  {
   "cell_type": "code",
   "execution_count": 93,
   "metadata": {
    "scrolled": true
   },
   "outputs": [
    {
     "name": "stdout",
     "output_type": "stream",
     "text": [
      "Documents with UNmapped doc labels:\n",
      "Candidate 19373 / sentence uid = 6968 (13 in doc) / document name 14757700 \n",
      "In contrast, menthol- and icilin-activated TRPM8 currents were suppressed by low pH. 6.\n",
      "M8 \n",
      "l- \n",
      "Span(\"menthol-\", sentence=6968, chars=[13,20], words=[3,3]) \n",
      "Span(\"TRPM8\", sentence=6968, chars=[43,47], words=[8,8]) \n",
      "\n",
      "\n",
      "Candidate 19377 / sentence uid = 6967 (12 in doc) / document name 14757700 \n",
      "The Ca(2+) response of hVR1-transfected HEK293 cells to the endogenous VR1 agonist N-arachidonoyl-dopamine was potentiated by low pH.\n",
      "ed \n",
      "ne \n",
      "Span(\"N-arachidonoyl-dopamine\", sentence=6967, chars=[83,105], words=[14,18]) \n",
      "Span(\"hVR1-transfected\", sentence=6967, chars=[23,38], words=[6,6]) \n",
      "\n",
      "\n"
     ]
    }
   ],
   "source": [
    "cands = session.query(REGULATOR).filter(REGULATOR.split == 1)\n",
    "print 'Documents with UNmapped doc labels:'\n",
    "for c in cands[3333:3350]:\n",
    "    if len(c.gold_labels)==0:\n",
    "        print \"Candidate %s / sentence uid = %s (%s in doc) / document name %s \" %(c.id, c.get_parent().id, c.get_parent().position , c.get_parent().get_parent().name)\n",
    "#         print c.get_parent()\n",
    "        print c.get_parent().text\n",
    "        print c.Gene.get_parent().text[c.Gene.char_end-1:c.Gene.char_end+2]\n",
    "        print c.Chemical.get_parent().text[c.Chemical.char_end-1:c.Chemical.char_end+2]\n",
    "        print c.Chemical,'\\n', c.Gene,'\\n\\n'\n",
    "#         print 'Label:',c.gold_labels[0].value\n",
    "#         print '\\n'"
   ]
  },
  {
   "cell_type": "code",
   "execution_count": null,
   "metadata": {},
   "outputs": [],
   "source": []
  },
  {
   "cell_type": "markdown",
   "metadata": {},
   "source": [
    "### SpaCy tokenizer alter"
   ]
  },
  {
   "cell_type": "code",
   "execution_count": 86,
   "metadata": {},
   "outputs": [
    {
     "data": {
      "text/plain": [
       "[<regex.Match object; span=(466, 467), match=u'-'>]"
      ]
     },
     "execution_count": 86,
     "metadata": {},
     "output_type": "execute_result"
    }
   ],
   "source": [
    "corpus_parser.parser.model.tokenizer.find_infix(u'Liver glycogen loading dampens glycogen synthesis seen in response to either hyperinsulinemia or intraportal glucose infusion.\\tThe purpose of this study was to determine the effect of liver glycogen loading on net hepatic glycogen synthesis during hyperinsulinemia or hepatic portal vein glucose infusion in vivo. Liver glycogen levels were supercompensated (SCGly) in two groups (using intraportal fructose infusion) but not in two others (Gly) during hyperglycemic-normoinsulinemia. Following a 2-h control period during which fructose infusion was stopped, there was a 2-h experimental period in which the response to hyperglycemia plus either 4\\xc3\\x97 basal insulin (INS) or portal vein glucose infusion (PoG) was measured. Increased hepatic glycogen reduced the percent of glucose taken up by the liver that was deposited in glycogen (74 \\xc2\\xb1 3 vs. 53 \\xc2\\xb1 5% in Gly+INS and SCGly+INS, respectively, and 72 \\xc2\\xb1 3 vs. 50 \\xc2\\xb1 6% in Gly+PoG and SCGly+PoG, respectively). The reduction in liver glycogen synthesis in SCGly+INS was accompanied by a decrease in both insulin signaling and an increase in AMPK activation, whereas only the latter was observed in SCGly+PoG. These data indicate that liver glycogen loading impairs glycogen synthesis regardless of the signal used to stimulate it.\\n')"
   ]
  },
  {
   "cell_type": "code",
   "execution_count": 90,
   "metadata": {},
   "outputs": [
    {
     "data": {
      "text/plain": [
       "742525"
      ]
     },
     "execution_count": 90,
     "metadata": {},
     "output_type": "execute_result"
    }
   ],
   "source": [
    "corpus_parser.parser.model.tokenizer."
   ]
  },
  {
   "cell_type": "code",
   "execution_count": 88,
   "metadata": {},
   "outputs": [
    {
     "data": {
      "text/plain": [
       "'c-normoinsulinemia. Following a 2-h control period during which fructose infusion was stopped, there was a 2-h experimental period in which the response to hyperglycemia plus either 4\\xc3\\x97 basal insulin (INS) or portal vein glucose infusion (PoG) was measured. Increased hepatic glycogen reduced the percent of glucose taken up by the liver that was deposited in glycogen (74 \\xc2\\xb1 3 vs. 53 \\xc2\\xb1 5% in Gly+INS and SCGly+INS, respectively, and 72 \\xc2\\xb1 3 vs. 50 \\xc2\\xb1 6% in Gly+PoG and SCGly+PoG, respectively). The reduction in liver glycogen synthesis in SCGly+INS was accompanied by a decrease in both insulin signaling and an increase in AMPK activation, whereas only the latter was observed in SCGly+PoG. These data indicate that liver glycogen loading impairs glycogen synthesis regardless of the signal used to stimulate it.\\n'"
      ]
     },
     "execution_count": 88,
     "metadata": {},
     "output_type": "execute_result"
    }
   ],
   "source": [
    "get_raw_document_txt(22923473)[465:]"
   ]
  },
  {
   "cell_type": "markdown",
   "metadata": {},
   "source": [
    "#  ~~~~"
   ]
  },
  {
   "cell_type": "code",
   "execution_count": 24,
   "metadata": {},
   "outputs": [
    {
     "name": "stdout",
     "output_type": "stream",
     "text": [
      " Candidate 16315 / sentence 7974 / document name 23143891 \n",
      "Sentence(Document 23143891,9,In contrast, flunisolide was only metabolized via CYP3A4, with no significant turnover by CYP3A5 or CYP3A7.)\n",
      "Span(\"flunisolide\", sentence=7974, chars=[13,23], words=[3,3]) \n",
      "Span(\"CYP3A7\", sentence=7974, chars=[100,105], words=[17,17])\n",
      "\n",
      "\n"
     ]
    }
   ],
   "source": [
    "rand = 100\n",
    "if cands[rand].gold_labels==[]:\n",
    "    print \"Candidate %s / sentence %s / document name %s \" %(c.id, c.get_parent().id , c.get_parent().get_parent().name)\n",
    "    print c.get_parent()\n",
    "    print c.Chemical,'\\n', c.Gene\n",
    "    print '\\n'"
   ]
  },
  {
   "cell_type": "markdown",
   "metadata": {},
   "source": [
    "#### Check mapped vs unmapped candidates"
   ]
  },
  {
   "cell_type": "code",
   "execution_count": 27,
   "metadata": {},
   "outputs": [
    {
     "data": {
      "text/plain": [
       "[3, 3]"
      ]
     },
     "execution_count": 27,
     "metadata": {},
     "output_type": "execute_result"
    }
   ],
   "source": [
    "lbls = []\n",
    "lbls.append(3)\n",
    "lbls.append(3)\n",
    "lbls"
   ]
  },
  {
   "cell_type": "code",
   "execution_count": 44,
   "metadata": {
    "scrolled": true
   },
   "outputs": [],
   "source": [
    "cands = session.query(REGULATOR).filter(REGULATOR.split == 1)\n",
    "\n",
    "analysis = pd.DataFrame(columns=['label', 'sentence_num'])\n",
    "\n",
    "for c in cands:\n",
    "    if len(c.gold_labels):\n",
    "        lbl = c.gold_labels[0].value\n",
    "    else:\n",
    "        lbl = 0\n",
    "        \n",
    "    analysis.loc[len(analysis)] = [lbl, c.get_parent().position]\n",
    "    "
   ]
  },
  {
   "cell_type": "code",
   "execution_count": 51,
   "metadata": {},
   "outputs": [
    {
     "data": {
      "text/plain": [
       "4"
      ]
     },
     "execution_count": 51,
     "metadata": {},
     "output_type": "execute_result"
    }
   ],
   "source": [
    "analysis.sentence_num.unique()"
   ]
  },
  {
   "cell_type": "code",
   "execution_count": 53,
   "metadata": {},
   "outputs": [],
   "source": [
    "# # see if sentence number plays a role - NO\n",
    "# for sent_num in sorted(analysis.sentence_num.unique()):\n",
    "#     print sent_num\n",
    "#     print analysis[analysis.sentence_num==sent_num].label.value_counts()"
   ]
  },
  {
   "cell_type": "code",
   "execution_count": null,
   "metadata": {},
   "outputs": [],
   "source": []
  },
  {
   "cell_type": "code",
   "execution_count": null,
   "metadata": {},
   "outputs": [],
   "source": []
  },
  {
   "cell_type": "code",
   "execution_count": null,
   "metadata": {},
   "outputs": [],
   "source": []
  },
  {
   "cell_type": "code",
   "execution_count": null,
   "metadata": {},
   "outputs": [],
   "source": [
    "### Aparently, annotations are mapped in StableLabels, but are not mapped into candidates."
   ]
  },
  {
   "cell_type": "code",
   "execution_count": null,
   "metadata": {},
   "outputs": [],
   "source": [
    "# look into reload_annotator_labels"
   ]
  },
  {
   "cell_type": "code",
   "execution_count": null,
   "metadata": {},
   "outputs": [],
   "source": []
  },
  {
   "cell_type": "code",
   "execution_count": null,
   "metadata": {},
   "outputs": [],
   "source": []
  },
  {
   "cell_type": "code",
   "execution_count": 56,
   "metadata": {},
   "outputs": [
    {
     "data": {
      "text/plain": [
       "10003"
      ]
     },
     "execution_count": 56,
     "metadata": {},
     "output_type": "execute_result"
    }
   ],
   "source": [
    "from snorkel.models import StableLabel\n",
    "len(session.query(StableLabel).all())"
   ]
  },
  {
   "cell_type": "code",
   "execution_count": 201,
   "metadata": {},
   "outputs": [],
   "source": [
    "stbllbl = session.query(StableLabel).all()[2929]"
   ]
  },
  {
   "cell_type": "code",
   "execution_count": 202,
   "metadata": {},
   "outputs": [
    {
     "data": {
      "text/plain": [
       "u'12487427::span:1291:1302~~12487427::span:1186:1193'"
      ]
     },
     "execution_count": 202,
     "metadata": {},
     "output_type": "execute_result"
    }
   ],
   "source": [
    "stbllbl.context_stable_ids"
   ]
  },
  {
   "cell_type": "code",
   "execution_count": 204,
   "metadata": {},
   "outputs": [
    {
     "data": {
      "text/plain": [
       "1"
      ]
     },
     "execution_count": 204,
     "metadata": {},
     "output_type": "execute_result"
    }
   ],
   "source": [
    "stbllbl.value"
   ]
  },
  {
   "cell_type": "code",
   "execution_count": 69,
   "metadata": {},
   "outputs": [],
   "source": [
    "mtd = stbllbl.metadata"
   ]
  },
  {
   "cell_type": "code",
   "execution_count": null,
   "metadata": {},
   "outputs": [],
   "source": [
    "# all cands, not only train set"
   ]
  },
  {
   "cell_type": "code",
   "execution_count": 211,
   "metadata": {},
   "outputs": [],
   "source": [
    "cands_all = session.query(REGULATOR)"
   ]
  },
  {
   "cell_type": "code",
   "execution_count": 237,
   "metadata": {},
   "outputs": [
    {
     "data": {
      "text/plain": [
       "[]"
      ]
     },
     "execution_count": 237,
     "metadata": {},
     "output_type": "execute_result"
    }
   ],
   "source": [
    "cands_all.all()[0].gold_labels"
   ]
  },
  {
   "cell_type": "code",
   "execution_count": 213,
   "metadata": {},
   "outputs": [
    {
     "data": {
      "text/plain": [
       "38152"
      ]
     },
     "execution_count": 213,
     "metadata": {},
     "output_type": "execute_result"
    }
   ],
   "source": [
    "len(cands_all.all())"
   ]
  },
  {
   "cell_type": "code",
   "execution_count": 210,
   "metadata": {},
   "outputs": [
    {
     "data": {
      "text/plain": [
       "9587"
      ]
     },
     "execution_count": 210,
     "metadata": {},
     "output_type": "execute_result"
    }
   ],
   "source": [
    "len(cands.all())"
   ]
  },
  {
   "cell_type": "code",
   "execution_count": 234,
   "metadata": {},
   "outputs": [
    {
     "data": {
      "text/plain": [
       "[]"
      ]
     },
     "execution_count": 234,
     "metadata": {},
     "output_type": "execute_result"
    }
   ],
   "source": [
    "c.gold_labels"
   ]
  },
  {
   "cell_type": "code",
   "execution_count": 244,
   "metadata": {},
   "outputs": [
    {
     "name": "stdout",
     "output_type": "stream",
     "text": [
      "AnnotatorLabels created: 0\n"
     ]
    }
   ],
   "source": [
    "reload_annotator_labels(session,REGULATOR, 'gold', 0 )"
   ]
  },
  {
   "cell_type": "code",
   "execution_count": null,
   "metadata": {},
   "outputs": [],
   "source": []
  },
  {
   "cell_type": "code",
   "execution_count": null,
   "metadata": {},
   "outputs": [],
   "source": []
  },
  {
   "cell_type": "code",
   "execution_count": 243,
   "metadata": {},
   "outputs": [
    {
     "name": "stdout",
     "output_type": "stream",
     "text": [
      "0\n",
      " 0    15173\n",
      "-1       21\n",
      " 1       21\n",
      "dtype: int64\n",
      "\n",
      "1\n",
      " 0    9564\n",
      " 1      13\n",
      "-1      10\n",
      "dtype: int64\n",
      "\n",
      "2\n",
      " 0    13307\n",
      " 1       25\n",
      "-1       18\n",
      "dtype: int64\n",
      "\n"
     ]
    }
   ],
   "source": [
    "for k in range(3):\n",
    "    print k\n",
    "    print pd.Series(map(lambda x: 0 if len(x.gold_labels)==0 else x.gold_labels[0].value , session.query(REGULATOR).filter(REGULATOR.split == k).all())).value_counts()\n",
    "    print ''"
   ]
  },
  {
   "cell_type": "code",
   "execution_count": null,
   "metadata": {},
   "outputs": [],
   "source": []
  },
  {
   "cell_type": "code",
   "execution_count": 223,
   "metadata": {},
   "outputs": [
    {
     "name": "stdout",
     "output_type": "stream",
     "text": [
      "('Number of candidates:', 15215)\n",
      "15215\n",
      "\n",
      "('Number of candidates:', 9587)\n",
      "9587\n",
      "\n",
      "('Number of candidates:', 13350)\n",
      "13350\n",
      "\n",
      "('Number of candidates:', 0)\n",
      "0\n",
      "\n"
     ]
    }
   ],
   "source": [
    "for k, sents in enumerate([train_sents, dev_sents, test_sents, unlab_sents]):\n",
    "    print(\"Number of candidates:\", session.query(REGULATOR).filter(REGULATOR.split == k).count())\n",
    "    \n",
    "    print len(session.query(REGULATOR).filter(REGULATOR.split == k).all())\n",
    "    \n",
    "    print ''"
   ]
  },
  {
   "cell_type": "code",
   "execution_count": null,
   "metadata": {},
   "outputs": [],
   "source": []
  },
  {
   "cell_type": "code",
   "execution_count": null,
   "metadata": {},
   "outputs": [],
   "source": []
  },
  {
   "cell_type": "code",
   "execution_count": null,
   "metadata": {},
   "outputs": [],
   "source": [
    "# from Stable Label"
   ]
  },
  {
   "cell_type": "code",
   "execution_count": 218,
   "metadata": {},
   "outputs": [],
   "source": [
    "# too slow\n",
    "# pd.Series(map( lambda x: x.value , session.query(StableLabel).filter(REGULATOR.split==1).all())).value_counts()"
   ]
  },
  {
   "cell_type": "code",
   "execution_count": 208,
   "metadata": {},
   "outputs": [
    {
     "data": {
      "text/plain": [
       "10003"
      ]
     },
     "execution_count": 208,
     "metadata": {},
     "output_type": "execute_result"
    }
   ],
   "source": [
    "6987+3016"
   ]
  },
  {
   "cell_type": "code",
   "execution_count": null,
   "metadata": {},
   "outputs": [],
   "source": []
  },
  {
   "cell_type": "code",
   "execution_count": 51,
   "metadata": {},
   "outputs": [
    {
     "data": {
      "text/plain": [
       "19775"
      ]
     },
     "execution_count": 51,
     "metadata": {},
     "output_type": "execute_result"
    }
   ],
   "source": [
    "c.get_parent().id"
   ]
  },
  {
   "cell_type": "code",
   "execution_count": null,
   "metadata": {},
   "outputs": [],
   "source": [
    "sent.id"
   ]
  },
  {
   "cell_type": "code",
   "execution_count": 71,
   "metadata": {},
   "outputs": [],
   "source": [
    "lbls= []\n"
   ]
  },
  {
   "cell_type": "code",
   "execution_count": null,
   "metadata": {},
   "outputs": [],
   "source": [
    "lbls.append()"
   ]
  },
  {
   "cell_type": "code",
   "execution_count": 72,
   "metadata": {},
   "outputs": [
    {
     "data": {
      "text/plain": [
       "[]"
      ]
     },
     "execution_count": 72,
     "metadata": {},
     "output_type": "execute_result"
    }
   ],
   "source": []
  },
  {
   "cell_type": "code",
   "execution_count": 75,
   "metadata": {},
   "outputs": [],
   "source": [
    "lbls= []\n",
    "for c in cands:\n",
    "    if len(c.gold_labels):\n",
    "#         print c.get_parent()\n",
    "#         print c.gold_labels\n",
    "#         print c.split\n",
    "        lbls.append(c.gold_labels[0])"
   ]
  },
  {
   "cell_type": "code",
   "execution_count": 76,
   "metadata": {},
   "outputs": [
    {
     "data": {
      "text/plain": [
       "42"
      ]
     },
     "execution_count": 76,
     "metadata": {},
     "output_type": "execute_result"
    }
   ],
   "source": [
    "len(lbls)"
   ]
  },
  {
   "cell_type": "code",
   "execution_count": 79,
   "metadata": {},
   "outputs": [
    {
     "name": "stdout",
     "output_type": "stream",
     "text": [
      "AnnotatorLabels created: 0\n"
     ]
    }
   ],
   "source": [
    "reload_annotator_labels(session, REGULATOR, 'gold', split=0, filter_label_split=False)"
   ]
  },
  {
   "cell_type": "code",
   "execution_count": null,
   "metadata": {},
   "outputs": [],
   "source": []
  },
  {
   "cell_type": "code",
   "execution_count": null,
   "metadata": {},
   "outputs": [],
   "source": []
  },
  {
   "cell_type": "markdown",
   "metadata": {},
   "source": [
    "# Once this is done, all is stored into snorkel.db and this step is no longer required, unless more documents are added."
   ]
  },
  {
   "cell_type": "code",
   "execution_count": null,
   "metadata": {},
   "outputs": [],
   "source": []
  },
  {
   "cell_type": "markdown",
   "metadata": {},
   "source": [
    "** Dummy LFs **"
   ]
  },
  {
   "cell_type": "code",
   "execution_count": 88,
   "metadata": {},
   "outputs": [],
   "source": [
    "from snorkel.lf_helpers import *"
   ]
  },
  {
   "cell_type": "code",
   "execution_count": 79,
   "metadata": {},
   "outputs": [
    {
     "data": {
      "text/plain": [
       "<function snorkel.lf_helpers.get_tagged_text>"
      ]
     },
     "execution_count": 79,
     "metadata": {},
     "output_type": "execute_result"
    }
   ],
   "source": [
    "lf_helpers.get_tagged_text()"
   ]
  },
  {
   "cell_type": "code",
   "execution_count": 86,
   "metadata": {},
   "outputs": [],
   "source": [
    "import re"
   ]
  },
  {
   "cell_type": "code",
   "execution_count": 81,
   "metadata": {},
   "outputs": [],
   "source": [
    "def LF_induce(c):\n",
    "    return 1 if re.search(r'{{A}}.{0,20}induc.{0,20}{{B}}', get_tagged_text(c), flags=re.I) else 0\n",
    "def LF_regulat(c):\n",
    "    return 1 if re.search(r'{{A}}.{0,20}regulat.{0,20}{{B}}', get_tagged_text(c), flags=re.I) else 0\n",
    "def LF_upregulat(c):\n",
    "    return 1 if re.search(r'{{A}}.{0,20}upregulat.{0,20}{{B}}', get_tagged_text(c), flags=re.I) else 0\n",
    "def LF_increas(c):\n",
    "    return 1 if re.search(r'{{A}}.{0,20}increas.{0,20}{{B}}', get_tagged_text(c), flags=re.I) else 0\n",
    "def LF_decreas(c):\n",
    "    return 1 if re.search(r'{{A}}.{0,20}decreas.{0,20}{{B}}', get_tagged_text(c), flags=re.I) else 0\n"
   ]
  },
  {
   "cell_type": "code",
   "execution_count": 82,
   "metadata": {},
   "outputs": [],
   "source": [
    "LFs = [LF_induce,\n",
    "       LF_regulat,\n",
    "       LF_upregulat,\n",
    "       LF_increas,\n",
    "       LF_decreas\n",
    "      ]"
   ]
  },
  {
   "cell_type": "code",
   "execution_count": 83,
   "metadata": {},
   "outputs": [],
   "source": [
    "from snorkel.annotations import LabelAnnotator\n",
    "labeler = LabelAnnotator(lfs=LFs)"
   ]
  },
  {
   "cell_type": "code",
   "execution_count": 89,
   "metadata": {},
   "outputs": [
    {
     "name": "stdout",
     "output_type": "stream",
     "text": [
      "Clearing existing...\n",
      "Running UDF...\n",
      "[========================================] 100%\n",
      "\n",
      "CPU times: user 15.7 s, sys: 48 ms, total: 15.7 s\n",
      "Wall time: 15.7 s\n"
     ]
    },
    {
     "data": {
      "text/plain": [
       "<3861x5 sparse matrix of type '<type 'numpy.int64'>'\n",
       "\twith 50 stored elements in Compressed Sparse Row format>"
      ]
     },
     "execution_count": 89,
     "metadata": {},
     "output_type": "execute_result"
    }
   ],
   "source": [
    "%time L_train = labeler.apply(split=1)\n",
    "L_train"
   ]
  },
  {
   "cell_type": "code",
   "execution_count": 90,
   "metadata": {},
   "outputs": [
    {
     "data": {
      "text/html": [
       "<div>\n",
       "<style scoped>\n",
       "    .dataframe tbody tr th:only-of-type {\n",
       "        vertical-align: middle;\n",
       "    }\n",
       "\n",
       "    .dataframe tbody tr th {\n",
       "        vertical-align: top;\n",
       "    }\n",
       "\n",
       "    .dataframe thead th {\n",
       "        text-align: right;\n",
       "    }\n",
       "</style>\n",
       "<table border=\"1\" class=\"dataframe\">\n",
       "  <thead>\n",
       "    <tr style=\"text-align: right;\">\n",
       "      <th></th>\n",
       "      <th>j</th>\n",
       "      <th>Coverage</th>\n",
       "      <th>Overlaps</th>\n",
       "      <th>Conflicts</th>\n",
       "    </tr>\n",
       "  </thead>\n",
       "  <tbody>\n",
       "    <tr>\n",
       "      <th>LF_induce</th>\n",
       "      <td>0</td>\n",
       "      <td>0.003367</td>\n",
       "      <td>0.000000</td>\n",
       "      <td>0.0</td>\n",
       "    </tr>\n",
       "    <tr>\n",
       "      <th>LF_regulat</th>\n",
       "      <td>1</td>\n",
       "      <td>0.001813</td>\n",
       "      <td>0.000259</td>\n",
       "      <td>0.0</td>\n",
       "    </tr>\n",
       "    <tr>\n",
       "      <th>LF_upregulat</th>\n",
       "      <td>2</td>\n",
       "      <td>0.000259</td>\n",
       "      <td>0.000259</td>\n",
       "      <td>0.0</td>\n",
       "    </tr>\n",
       "    <tr>\n",
       "      <th>LF_increas</th>\n",
       "      <td>3</td>\n",
       "      <td>0.004921</td>\n",
       "      <td>0.000000</td>\n",
       "      <td>0.0</td>\n",
       "    </tr>\n",
       "    <tr>\n",
       "      <th>LF_decreas</th>\n",
       "      <td>4</td>\n",
       "      <td>0.002590</td>\n",
       "      <td>0.000000</td>\n",
       "      <td>0.0</td>\n",
       "    </tr>\n",
       "  </tbody>\n",
       "</table>\n",
       "</div>"
      ],
      "text/plain": [
       "              j  Coverage  Overlaps  Conflicts\n",
       "LF_induce     0  0.003367  0.000000        0.0\n",
       "LF_regulat    1  0.001813  0.000259        0.0\n",
       "LF_upregulat  2  0.000259  0.000259        0.0\n",
       "LF_increas    3  0.004921  0.000000        0.0\n",
       "LF_decreas    4  0.002590  0.000000        0.0"
      ]
     },
     "execution_count": 90,
     "metadata": {},
     "output_type": "execute_result"
    }
   ],
   "source": [
    "L_train.lf_stats(session)"
   ]
  },
  {
   "cell_type": "code",
   "execution_count": null,
   "metadata": {},
   "outputs": [],
   "source": []
  },
  {
   "cell_type": "markdown",
   "metadata": {},
   "source": [
    "## Train the Generative model"
   ]
  },
  {
   "cell_type": "code",
   "execution_count": 91,
   "metadata": {},
   "outputs": [
    {
     "data": {
      "text/plain": [
       "10"
      ]
     },
     "execution_count": 91,
     "metadata": {},
     "output_type": "execute_result"
    }
   ],
   "source": [
    "from snorkel.learning.structure import DependencySelector\n",
    "ds = DependencySelector()\n",
    "deps = ds.select(L_train, threshold=0.1)\n",
    "len(deps)"
   ]
  },
  {
   "cell_type": "code",
   "execution_count": null,
   "metadata": {},
   "outputs": [],
   "source": []
  },
  {
   "cell_type": "code",
   "execution_count": 92,
   "metadata": {},
   "outputs": [
    {
     "name": "stdout",
     "output_type": "stream",
     "text": [
      "Inferred cardinality: 2\n"
     ]
    }
   ],
   "source": [
    "from snorkel.learning import GenerativeModel\n",
    "\n",
    "gen_model = GenerativeModel(lf_propensity=True)\n",
    "gen_model.train(\n",
    "    L_train, deps=deps, decay=0.95, step_size=0.1/L_train.shape[0], reg_param=0.0\n",
    ")"
   ]
  },
  {
   "cell_type": "code",
   "execution_count": 93,
   "metadata": {},
   "outputs": [],
   "source": [
    "train_marginals = gen_model.marginals(L_train)"
   ]
  },
  {
   "cell_type": "code",
   "execution_count": 94,
   "metadata": {},
   "outputs": [
    {
     "data": {
      "image/png": "[encoded data removed]",
      "text/plain": [
       "<Figure size 432x288 with 1 Axes>"
      ]
     },
     "metadata": {},
     "output_type": "display_data"
    }
   ],
   "source": [
    "import matplotlib.pyplot as plt\n",
    "plt.hist(train_marginals, bins=20)\n",
    "plt.show()"
   ]
  },
  {
   "cell_type": "code",
   "execution_count": 95,
   "metadata": {},
   "outputs": [
    {
     "data": {
      "text/html": [
       "<div>\n",
       "<style scoped>\n",
       "    .dataframe tbody tr th:only-of-type {\n",
       "        vertical-align: middle;\n",
       "    }\n",
       "\n",
       "    .dataframe tbody tr th {\n",
       "        vertical-align: top;\n",
       "    }\n",
       "\n",
       "    .dataframe thead th {\n",
       "        text-align: right;\n",
       "    }\n",
       "</style>\n",
       "<table border=\"1\" class=\"dataframe\">\n",
       "  <thead>\n",
       "    <tr style=\"text-align: right;\">\n",
       "      <th></th>\n",
       "      <th>Accuracy</th>\n",
       "      <th>Coverage</th>\n",
       "      <th>Precision</th>\n",
       "      <th>Recall</th>\n",
       "    </tr>\n",
       "  </thead>\n",
       "  <tbody>\n",
       "    <tr>\n",
       "      <th>0</th>\n",
       "      <td>0.621675</td>\n",
       "      <td>0.1015</td>\n",
       "      <td>0.634241</td>\n",
       "      <td>0.064452</td>\n",
       "    </tr>\n",
       "    <tr>\n",
       "      <th>1</th>\n",
       "      <td>0.610951</td>\n",
       "      <td>0.1041</td>\n",
       "      <td>0.616279</td>\n",
       "      <td>0.062871</td>\n",
       "    </tr>\n",
       "    <tr>\n",
       "      <th>2</th>\n",
       "      <td>0.623131</td>\n",
       "      <td>0.1003</td>\n",
       "      <td>0.630522</td>\n",
       "      <td>0.062080</td>\n",
       "    </tr>\n",
       "    <tr>\n",
       "      <th>3</th>\n",
       "      <td>0.635922</td>\n",
       "      <td>0.1030</td>\n",
       "      <td>0.654297</td>\n",
       "      <td>0.066232</td>\n",
       "    </tr>\n",
       "    <tr>\n",
       "      <th>4</th>\n",
       "      <td>0.621094</td>\n",
       "      <td>0.1024</td>\n",
       "      <td>0.633397</td>\n",
       "      <td>0.065243</td>\n",
       "    </tr>\n",
       "  </tbody>\n",
       "</table>\n",
       "</div>"
      ],
      "text/plain": [
       "   Accuracy  Coverage  Precision    Recall\n",
       "0  0.621675    0.1015   0.634241  0.064452\n",
       "1  0.610951    0.1041   0.616279  0.062871\n",
       "2  0.623131    0.1003   0.630522  0.062080\n",
       "3  0.635922    0.1030   0.654297  0.066232\n",
       "4  0.621094    0.1024   0.633397  0.065243"
      ]
     },
     "execution_count": 95,
     "metadata": {},
     "output_type": "execute_result"
    }
   ],
   "source": [
    "gen_model.learned_lf_stats()"
   ]
  },
  {
   "cell_type": "code",
   "execution_count": null,
   "metadata": {},
   "outputs": [],
   "source": []
  }
 ],
 "metadata": {
  "kernelspec": {
   "display_name": "Python [conda env:python27]",
   "language": "python",
   "name": "conda-env-python27-py"
  },
  "language_info": {
   "codemirror_mode": {
    "name": "ipython",
    "version": 2
   },
   "file_extension": ".py",
   "mimetype": "text/x-python",
   "name": "python",
   "nbconvert_exporter": "python",
   "pygments_lexer": "ipython2",
   "version": "2.7.14"
  }
 },
 "nbformat": 4,
 "nbformat_minor": 2
}
