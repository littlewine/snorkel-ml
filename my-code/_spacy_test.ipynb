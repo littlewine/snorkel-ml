{
 "cells": [
  {
   "cell_type": "code",
   "execution_count": 1,
   "metadata": {},
   "outputs": [],
   "source": [
    "import spacy\n",
    "import networkx as nx"
   ]
  },
  {
   "cell_type": "code",
   "execution_count": 2,
   "metadata": {},
   "outputs": [],
   "source": [
    "nlp = spacy.load(\"en\")"
   ]
  },
  {
   "cell_type": "code",
   "execution_count": 55,
   "metadata": {},
   "outputs": [],
   "source": [
    "doc = nlp(u\"Indomethacin activates ENTITY2 and antagonizes the effect of the specific ENTITY1 anhydrase inhibitor acetazolamide , by a direct mechanism of action .\")\n",
    "\n",
    "doc1 = nlp(u'CHEMICAL activates ENTITY2 and antagonizes the effect of the specific ENTITY1 GENE inhibitor CHEMICAL , by a direct mechanism of action .')"
   ]
  },
  {
   "cell_type": "code",
   "execution_count": 40,
   "metadata": {},
   "outputs": [],
   "source": [
    "g = nx.Graph()"
   ]
  },
  {
   "cell_type": "code",
   "execution_count": 41,
   "metadata": {},
   "outputs": [],
   "source": [
    "for token in doc:\n",
    "    if token.dep_ == \"ROOT\":\n",
    "        root = token\n"
   ]
  },
  {
   "cell_type": "code",
   "execution_count": 57,
   "metadata": {},
   "outputs": [
    {
     "data": {
      "text/plain": [
       "u'ENTITY2'"
      ]
     },
     "execution_count": 57,
     "metadata": {},
     "output_type": "execute_result"
    }
   ],
   "source": [
    "doc1[2].norm_"
   ]
  },
  {
   "cell_type": "code",
   "execution_count": 58,
   "metadata": {},
   "outputs": [],
   "source": [
    "import pickle"
   ]
  },
  {
   "cell_type": "code",
   "execution_count": null,
   "metadata": {},
   "outputs": [],
   "source": [
    "pickle.dump()"
   ]
  },
  {
   "cell_type": "code",
   "execution_count": 42,
   "metadata": {},
   "outputs": [
    {
     "data": {
      "text/plain": [
       "1"
      ]
     },
     "execution_count": 42,
     "metadata": {},
     "output_type": "execute_result"
    }
   ],
   "source": [
    "root.i"
   ]
  },
  {
   "cell_type": "code",
   "execution_count": 43,
   "metadata": {},
   "outputs": [
    {
     "data": {
      "text/plain": [
       "u'activates'"
      ]
     },
     "execution_count": 43,
     "metadata": {},
     "output_type": "execute_result"
    }
   ],
   "source": [
    "root.norm_"
   ]
  },
  {
   "cell_type": "code",
   "execution_count": 27,
   "metadata": {},
   "outputs": [],
   "source": [
    "#original code \n",
    "\n",
    "c = 0\n",
    "def childIterator(root, level = 0, parent = \"\"):\n",
    "    global c\n",
    "    print \" \" * level, root, \"-\", parent\n",
    "    c+= 1\n",
    "    if parent:\n",
    "        g.add_edge(parent.norm_, root.norm_)\n",
    "    for child in root.children:\n",
    "        childIterator(child, level + 1, root)\n",
    "\n",
    "    return root"
   ]
  },
  {
   "cell_type": "code",
   "execution_count": 50,
   "metadata": {},
   "outputs": [
    {
     "data": {
      "text/plain": [
       "u'activates'"
      ]
     },
     "execution_count": 50,
     "metadata": {},
     "output_type": "execute_result"
    }
   ],
   "source": [
    "root.norm_"
   ]
  },
  {
   "cell_type": "code",
   "execution_count": 44,
   "metadata": {},
   "outputs": [],
   "source": [
    "#TODO: replace tokens with indices\n",
    "\n",
    "c = 0\n",
    "def childIterator(root, level = 0, parent = None):\n",
    "    \n",
    "    global c\n",
    "    print \"\\t\" * level, root, \"-\", parent\n",
    "    if parent:\n",
    "        print \"\\t\" * level, root.i, \"-\", parent.i\n",
    "    c+= 1\n",
    "    \n",
    "    \n",
    "    if parent:\n",
    "        g.add_edge(parent.i, root.i)\n",
    "    for child in root.children:\n",
    "        childIterator(child, level + 1, root)\n",
    "\n",
    "    return root"
   ]
  },
  {
   "cell_type": "code",
   "execution_count": null,
   "metadata": {},
   "outputs": [],
   "source": []
  },
  {
   "cell_type": "code",
   "execution_count": 45,
   "metadata": {},
   "outputs": [
    {
     "name": "stdout",
     "output_type": "stream",
     "text": [
      " activates - None\n",
      "\tCHEMICAL - activates\n",
      "\t0 - 1\n",
      "\tENTITY2 - activates\n",
      "\t2 - 1\n",
      "\tand - activates\n",
      "\t3 - 1\n",
      "\tantagonizes - activates\n",
      "\t4 - 1\n",
      "\t\teffect - antagonizes\n",
      "\t\t6 - 4\n",
      "\t\t\tthe - effect\n",
      "\t\t\t5 - 6\n",
      "\t\t\tof - effect\n",
      "\t\t\t7 - 6\n",
      "\t\t\t\tCHEMICAL - of\n",
      "\t\t\t\t13 - 7\n",
      "\t\t\t\t\tthe - CHEMICAL\n",
      "\t\t\t\t\t8 - 13\n",
      "\t\t\t\t\tspecific - CHEMICAL\n",
      "\t\t\t\t\t9 - 13\n",
      "\t\t\t\t\tENTITY1 - CHEMICAL\n",
      "\t\t\t\t\t10 - 13\n",
      "\t\t\t\t\tGENE - CHEMICAL\n",
      "\t\t\t\t\t11 - 13\n",
      "\t\t\t\t\tinhibitor - CHEMICAL\n",
      "\t\t\t\t\t12 - 13\n",
      "\t\t\t\t\t, - CHEMICAL\n",
      "\t\t\t\t\t14 - 13\n",
      "\t\t\t\t\tby - CHEMICAL\n",
      "\t\t\t\t\t15 - 13\n",
      "\t\t\t\t\t\tmechanism - by\n",
      "\t\t\t\t\t\t18 - 15\n",
      "\t\t\t\t\t\t\ta - mechanism\n",
      "\t\t\t\t\t\t\t16 - 18\n",
      "\t\t\t\t\t\t\tdirect - mechanism\n",
      "\t\t\t\t\t\t\t17 - 18\n",
      "\t\t\t\t\t\t\tof - mechanism\n",
      "\t\t\t\t\t\t\t19 - 18\n",
      "\t\t\t\t\t\t\t\taction - of\n",
      "\t\t\t\t\t\t\t\t20 - 19\n",
      "\t. - activates\n",
      "\t21 - 1\n"
     ]
    },
    {
     "data": {
      "text/plain": [
       "activates"
      ]
     },
     "execution_count": 45,
     "metadata": {},
     "output_type": "execute_result"
    }
   ],
   "source": [
    "childIterator(root)"
   ]
  },
  {
   "cell_type": "code",
   "execution_count": 14,
   "metadata": {},
   "outputs": [
    {
     "name": "stdout",
     "output_type": "stream",
     "text": [
      " activates - \n",
      "\tIndomethacin - activates\n",
      "\tENTITY2 - activates\n",
      "\tand - activates\n",
      "\tantagonizes - activates\n",
      "\t\teffect - antagonizes\n",
      "\t\t\tthe - effect\n",
      "\t\t\tof - effect\n",
      "\t\t\t\tacetazolamide - of\n",
      "\t\t\t\t\tthe - acetazolamide\n",
      "\t\t\t\t\tspecific - acetazolamide\n",
      "\t\t\t\t\tENTITY1 - acetazolamide\n",
      "\t\t\t\t\tanhydrase - acetazolamide\n",
      "\t\t\t\t\tinhibitor - acetazolamide\n",
      "\t\t\t\t\t, - acetazolamide\n",
      "\t\t\t\t\tby - acetazolamide\n",
      "\t\t\t\t\t\tmechanism - by\n",
      "\t\t\t\t\t\t\ta - mechanism\n",
      "\t\t\t\t\t\t\tdirect - mechanism\n",
      "\t\t\t\t\t\t\tof - mechanism\n",
      "\t\t\t\t\t\t\t\taction - of\n",
      "\t. - activates\n"
     ]
    },
    {
     "data": {
      "text/plain": [
       "activates"
      ]
     },
     "execution_count": 14,
     "metadata": {},
     "output_type": "execute_result"
    }
   ],
   "source": [
    "# w OLD code - comparison:\n",
    "# childIterator(root)"
   ]
  },
  {
   "cell_type": "code",
   "execution_count": 46,
   "metadata": {},
   "outputs": [
    {
     "data": {
      "image/png": "[encoded data removed]",
      "text/plain": [
       "<Figure size 432x288 with 1 Axes>"
      ]
     },
     "metadata": {},
     "output_type": "display_data"
    }
   ],
   "source": [
    "nx.draw_networkx(g)"
   ]
  },
  {
   "cell_type": "code",
   "execution_count": null,
   "metadata": {},
   "outputs": [],
   "source": []
  },
  {
   "cell_type": "code",
   "execution_count": 47,
   "metadata": {},
   "outputs": [
    {
     "data": {
      "text/plain": [
       "6"
      ]
     },
     "execution_count": 47,
     "metadata": {},
     "output_type": "execute_result"
    }
   ],
   "source": [
    "nx.shortest_path_length(g, 2, 10)"
   ]
  },
  {
   "cell_type": "code",
   "execution_count": 18,
   "metadata": {},
   "outputs": [
    {
     "data": {
      "text/plain": [
       "6"
      ]
     },
     "execution_count": 18,
     "metadata": {},
     "output_type": "execute_result"
    }
   ],
   "source": [
    "nx.shortest_path_length(g, \"ENTITY1\", \"ENTITY2\")"
   ]
  },
  {
   "cell_type": "code",
   "execution_count": 49,
   "metadata": {},
   "outputs": [
    {
     "name": "stdout",
     "output_type": "stream",
     "text": [
      "ENTITY2\n",
      "activates\n",
      "antagonizes\n",
      "effect\n",
      "of\n",
      "CHEMICAL\n",
      "ENTITY1\n"
     ]
    }
   ],
   "source": [
    "for i in nx.shortest_path(g)[2][10]:\n",
    "    print doc[i]"
   ]
  },
  {
   "cell_type": "code",
   "execution_count": null,
   "metadata": {},
   "outputs": [],
   "source": []
  },
  {
   "cell_type": "code",
   "execution_count": 23,
   "metadata": {},
   "outputs": [
    {
     "data": {
      "text/plain": [
       "[u'ENTITY1',\n",
       " u'acetazolamide',\n",
       " u'of',\n",
       " u'effect',\n",
       " u'antagonizes',\n",
       " u'activates',\n",
       " u'ENTITY2']"
      ]
     },
     "execution_count": 23,
     "metadata": {},
     "output_type": "execute_result"
    }
   ],
   "source": [
    "nx.shortest_path(g)['ENTITY1']['ENTITY2']"
   ]
  },
  {
   "cell_type": "code",
   "execution_count": 21,
   "metadata": {},
   "outputs": [
    {
     "data": {
      "text/plain": [
       "NodeView((u'and', u'a', u'antagonizes', u'inhibitor', u'direct', u'by', u'mechanism', u'of', u'effect', u'ENTITY2', u'ENTITY1', u'specific', u'.', u',', u'acetazolamide', u'anhydrase', u'action', u'the', u'activates', u'Indomethacin'))"
      ]
     },
     "execution_count": 21,
     "metadata": {},
     "output_type": "execute_result"
    }
   ],
   "source": [
    "g.nodes"
   ]
  },
  {
   "cell_type": "code",
   "execution_count": null,
   "metadata": {},
   "outputs": [],
   "source": []
  }
 ],
 "metadata": {
  "kernelspec": {
   "display_name": "Python [default]",
   "language": "python",
   "name": "python2"
  },
  "language_info": {
   "codemirror_mode": {
    "name": "ipython",
    "version": 2
   },
   "file_extension": ".py",
   "mimetype": "text/x-python",
   "name": "python",
   "nbconvert_exporter": "python",
   "pygments_lexer": "ipython2",
   "version": "2.7.14"
  }
 },
 "nbformat": 4,
 "nbformat_minor": 2
}
