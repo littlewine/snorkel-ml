{
 "cells": [
  {
   "cell_type": "code",
   "execution_count": 2,
   "metadata": {},
   "outputs": [
    {
     "name": "stdout",
     "output_type": "stream",
     "text": [
      "Setting up variables & DB connection for experiment:\n",
      "\n",
      "*******************\n",
      "25similar\n",
      "*******************\n",
      "\n",
      "Snorkel session connected to:  postgres:///snorkel25similar\n"
     ]
    },
    {
     "name": "stderr",
     "output_type": "stream",
     "text": [
      "/home/antonis/anaconda2/envs/snorkel27clone/lib/python2.7/site-packages/psycopg2/__init__.py:144: UserWarning: The psycopg2 wheel package will be renamed from release 2.8; in order to keep installing from binary please use \"pip install psycopg2-binary\" instead. For details see: <http://initd.org/psycopg/docs/install.html#binary-install-from-pypi>.\n",
      "  \"\"\")\n"
     ]
    }
   ],
   "source": [
    "%load_ext autoreload\n",
    "%autoreload 2\n",
    "%matplotlib inline\n",
    "%run init.py"
   ]
  },
  {
   "cell_type": "code",
   "execution_count": null,
   "metadata": {},
   "outputs": [],
   "source": []
  },
  {
   "cell_type": "code",
   "execution_count": 3,
   "metadata": {},
   "outputs": [],
   "source": [
    "# Rebuild text\n",
    "from sklearn_bridge import recreate_text_representation, candidate_dict_to_df\n",
    "import sklearn, pickle, time, seaborn\n",
    "import pandas as pd\n",
    "from itertools import product"
   ]
  },
  {
   "cell_type": "code",
   "execution_count": 4,
   "metadata": {},
   "outputs": [],
   "source": [
    "from MLutils import report_to_df, train_evaluate, diversity_heatmap"
   ]
  },
  {
   "cell_type": "code",
   "execution_count": 7,
   "metadata": {},
   "outputs": [
    {
     "name": "stdout",
     "output_type": "stream",
     "text": [
      "Split = 0 : imported 13007 candidates\n",
      "Split = 1 : imported 3242 candidates\n",
      "Split = 2 : imported 8221 candidates\n",
      "Split = 3 : imported 130424 candidates\n"
     ]
    }
   ],
   "source": [
    "import pickle\n",
    "with open(path_candidate_dict_pkl, 'rb') as f:\n",
    "    candidate_dict = pickle.load(f)\n",
    "\n",
    "for splt in candidate_dict.keys():\n",
    "    print \"Split = %i : imported %i candidates\" %(splt, len(candidate_dict[splt].keys()))"
   ]
  },
  {
   "cell_type": "code",
   "execution_count": 8,
   "metadata": {},
   "outputs": [],
   "source": [
    "# Decide on text representation\n",
    "trim_text = True\n",
    "trim_window = 5\n",
    "use_lemmas = True\n",
    "\n",
    "df_train = candidate_dict_to_df(candidate_dict[0],trim_text=trim_text, window=trim_window, lemmas = use_lemmas )\n",
    "df_val = candidate_dict_to_df(candidate_dict[1],trim_text=trim_text, window=trim_window, lemmas = use_lemmas )\n",
    "df_test = candidate_dict_to_df(candidate_dict[2],trim_text=trim_text, window=trim_window, lemmas = use_lemmas )\n",
    "\n",
    "df_unlab = candidate_dict_to_df(candidate_dict[3],trim_text=trim_text, window=trim_window, lemmas = use_lemmas )\n"
   ]
  },
  {
   "cell_type": "code",
   "execution_count": 9,
   "metadata": {},
   "outputs": [],
   "source": [
    "from sklearn.feature_extraction.text import TfidfVectorizer\n",
    "from sklearn.decomposition import TruncatedSVD\n"
   ]
  },
  {
   "cell_type": "code",
   "execution_count": 10,
   "metadata": {},
   "outputs": [],
   "source": [
    "text_vectorizer = TfidfVectorizer(ngram_range=[0,3])"
   ]
  },
  {
   "cell_type": "code",
   "execution_count": 11,
   "metadata": {},
   "outputs": [],
   "source": [
    "X_train = text_vectorizer.fit_transform(df_train.text)\n",
    "y_train = df_train.label\n",
    "\n",
    "X_val = text_vectorizer.transform(df_val.text)\n",
    "y_val = df_val.label\n",
    "\n",
    "X_test = text_vectorizer.transform(df_test.text)\n",
    "y_test = df_test.label\n",
    "\n",
    "# X_unlab = text_vectorizer.transform(df_unlab_sim.text)\n",
    "# # X_unlab = svd.transform(X_unlab)\n",
    "\n"
   ]
  },
  {
   "cell_type": "code",
   "execution_count": 13,
   "metadata": {},
   "outputs": [],
   "source": [
    "from sklearn.model_selection import validation_curve\n",
    "from sklearn.ensemble import AdaBoostClassifier\n",
    "from sklearn.utils import shuffle"
   ]
  },
  {
   "cell_type": "code",
   "execution_count": 14,
   "metadata": {},
   "outputs": [],
   "source": [
    "X_train,y_train = shuffle(X_train,y_train, random_state=0)"
   ]
  },
  {
   "cell_type": "code",
   "execution_count": 15,
   "metadata": {},
   "outputs": [],
   "source": [
    "from sklearn.linear_model import LogisticRegression\n",
    "from sklearn.metrics import f1_score, mean_squared_error\n"
   ]
  },
  {
   "cell_type": "markdown",
   "metadata": {},
   "source": [
    "# Boosting"
   ]
  },
  {
   "cell_type": "markdown",
   "metadata": {},
   "source": [
    "## AdaBoost -- to delete"
   ]
  },
  {
   "cell_type": "markdown",
   "metadata": {},
   "source": [
    "** Decision Trees **"
   ]
  },
  {
   "cell_type": "code",
   "execution_count": 18,
   "metadata": {},
   "outputs": [],
   "source": [
    "# # estimators = range(50,351,150)\n",
    "# estimators = [1,5,25]+range(50,701,50)\n",
    "\n",
    "# f1_scores_df = pd.DataFrame(index=estimators)\n",
    "# mse_scores_df = pd.DataFrame(index=estimators)\n",
    "\n",
    "\n",
    "# for n in estimators:\n",
    "#     clf = AdaBoostClassifier(n_estimators=n )\n",
    "#     clf.fit(X_train,y_train)\n",
    "    \n",
    "#     pred = clf.predict(X_train)\n",
    "#     f1_scores_df.loc[n,'f1_train'] = f1_score(y_train,pred)\n",
    "#     mse_scores_df.loc[n,'MSE_train'] = mean_squared_error(y_train,pred)\n",
    "    \n",
    "    \n",
    "#     pred = clf.predict(X_val)\n",
    "#     f1_scores_df.loc[n,'f1_val'] = f1_score(y_val,pred)\n",
    "#     mse_scores_df.loc[n,'MSE_val'] = mean_squared_error(y_val,pred)\n",
    "    \n",
    "# #     scores_df['train_score'] = clf.score(X_train,y_train)\n",
    "\n",
    "\n",
    "\n",
    "# # scores = validation_curve(clf, X_train, y_train,\n",
    "# #                          'n_estimators', estimators)\n"
   ]
  },
  {
   "cell_type": "code",
   "execution_count": 19,
   "metadata": {},
   "outputs": [],
   "source": [
    "# # that was without probabilities\n",
    "# mse_scores_df.plot(title='AdaBoost MSE error (base estimator = DecisionTrees)')"
   ]
  },
  {
   "cell_type": "code",
   "execution_count": 20,
   "metadata": {},
   "outputs": [],
   "source": [
    "# # that was without probabilities\n",
    "# f1_scores_df.plot(title='AdaBoost F1 score (base estimator = DecisionTrees)')"
   ]
  },
  {
   "cell_type": "code",
   "execution_count": 21,
   "metadata": {},
   "outputs": [],
   "source": [
    "# f1_scores_df"
   ]
  },
  {
   "cell_type": "markdown",
   "metadata": {},
   "source": [
    "## My learning curve function"
   ]
  },
  {
   "cell_type": "code",
   "execution_count": 26,
   "metadata": {},
   "outputs": [],
   "source": [
    "# X_train"
   ]
  },
  {
   "cell_type": "code",
   "execution_count": 27,
   "metadata": {},
   "outputs": [],
   "source": [
    "# X_val"
   ]
  },
  {
   "cell_type": "code",
   "execution_count": null,
   "metadata": {},
   "outputs": [],
   "source": []
  },
  {
   "cell_type": "code",
   "execution_count": null,
   "metadata": {},
   "outputs": [],
   "source": []
  },
  {
   "cell_type": "code",
   "execution_count": 28,
   "metadata": {},
   "outputs": [],
   "source": [
    "# Perform training "
   ]
  },
  {
   "cell_type": "code",
   "execution_count": 36,
   "metadata": {},
   "outputs": [],
   "source": [
    "# X_train"
   ]
  },
  {
   "cell_type": "code",
   "execution_count": null,
   "metadata": {},
   "outputs": [],
   "source": []
  },
  {
   "cell_type": "code",
   "execution_count": 30,
   "metadata": {},
   "outputs": [],
   "source": [
    "### Try with my own loop"
   ]
  },
  {
   "cell_type": "code",
   "execution_count": 37,
   "metadata": {
    "scrolled": true
   },
   "outputs": [],
   "source": [
    "# shuffle(X_train,y_train)"
   ]
  },
  {
   "cell_type": "code",
   "execution_count": null,
   "metadata": {},
   "outputs": [],
   "source": []
  },
  {
   "cell_type": "code",
   "execution_count": 32,
   "metadata": {},
   "outputs": [],
   "source": [
    "# train_sizes = np.array([ 0.1, 0.33, 0.55, 0.78, 1. ])"
   ]
  },
  {
   "cell_type": "code",
   "execution_count": 33,
   "metadata": {},
   "outputs": [],
   "source": [
    "# train_sizes[0]=0"
   ]
  },
  {
   "cell_type": "code",
   "execution_count": 34,
   "metadata": {},
   "outputs": [],
   "source": [
    "# train_sizes"
   ]
  },
  {
   "cell_type": "code",
   "execution_count": null,
   "metadata": {},
   "outputs": [],
   "source": []
  },
  {
   "cell_type": "code",
   "execution_count": 35,
   "metadata": {},
   "outputs": [],
   "source": [
    "# train_sizes"
   ]
  },
  {
   "cell_type": "markdown",
   "metadata": {},
   "source": [
    "## Write learning_curve function"
   ]
  },
  {
   "cell_type": "code",
   "execution_count": 14,
   "metadata": {},
   "outputs": [],
   "source": [
    "##     TODO:  first undersample"
   ]
  },
  {
   "cell_type": "code",
   "execution_count": 38,
   "metadata": {},
   "outputs": [],
   "source": [
    "from MLutils import balance_candidates"
   ]
  },
  {
   "cell_type": "code",
   "execution_count": 41,
   "metadata": {},
   "outputs": [],
   "source": [
    "from imblearn.under_sampling import  RandomUnderSampler\n",
    "rus = RandomUnderSampler(random_state=42)\n",
    "X_train,y_train = rus.fit_sample(X_train,y_train)"
   ]
  },
  {
   "cell_type": "code",
   "execution_count": 48,
   "metadata": {},
   "outputs": [],
   "source": [
    "from scipy.sparse import csr_matrix,vstack\n",
    "import numpy as np\n",
    "from sklearn.model_selection import cross_val_score,train_test_split\n",
    "from sklearn.utils import shuffle\n",
    "from copy import deepcopy"
   ]
  },
  {
   "cell_type": "markdown",
   "metadata": {},
   "source": [
    "** Given X_train, y_train (full training set to perform incremental splits)\n",
    "and optionally X_init, y_init (to start the initial validation curve from that point onwards) **"
   ]
  },
  {
   "cell_type": "code",
   "execution_count": 49,
   "metadata": {},
   "outputs": [],
   "source": [
    "from sklearn.metrics import mean_squared_error, make_scorer,f1_score, precision_recall_fscore_support\n",
    "mse_scorer = make_scorer(mean_squared_error, greater_is_better=False)\n",
    "f1_scorer = make_scorer(f1_score, greater_is_better=True)"
   ]
  },
  {
   "cell_type": "code",
   "execution_count": 50,
   "metadata": {},
   "outputs": [],
   "source": [
    "from sklearn.linear_model import LogisticRegression"
   ]
  },
  {
   "cell_type": "code",
   "execution_count": 51,
   "metadata": {},
   "outputs": [
    {
     "name": "stdout",
     "output_type": "stream",
     "text": [
      "X_init (6576, 77657) 6576\n",
      "X_increm (3968, 77657) 3968\n"
     ]
    }
   ],
   "source": [
    "### define function inputs  ###\n",
    "\n",
    "clf = LogisticRegression()\n",
    "cv_splits = 3 # for cross-validating and finding variance in VALIDATION set\n",
    "# X_init: the training dataset on beginning of the learning curve (spot 0)\n",
    "# X_increm: the additional examples for plotting incremental learning curves\n",
    "\n",
    "## construct dummy dataset\n",
    "splt_sizes = np.array([ 0.1, 0.33, 0.55, 0.78, 1.])\n",
    "\n",
    "X_init, y_init = rus.fit_sample(X_train, y_train)\n",
    "X_increm, y_increm = rus.fit_sample(X_test, y_test)\n",
    "\n",
    "print 'X_init', X_init.shape, len(y_init)\n",
    "print 'X_increm', X_increm.shape, len(y_increm)\n"
   ]
  },
  {
   "cell_type": "code",
   "execution_count": 58,
   "metadata": {},
   "outputs": [],
   "source": [
    "from MLutils import neg_to_bin_labels"
   ]
  },
  {
   "cell_type": "code",
   "execution_count": null,
   "metadata": {},
   "outputs": [],
   "source": []
  },
  {
   "cell_type": "code",
   "execution_count": 232,
   "metadata": {
    "scrolled": true
   },
   "outputs": [],
   "source": [
    "from sklearn.model_selection import KFold\n",
    "# function\n",
    "\n",
    "# definitions:\n",
    "# X_splt: subset of the training dataset\n",
    "# X_merged: X_init + X_splt | full training dataset to perform training on that iteration\n",
    "\n",
    "def custom_learning_curve(clf, X_increm, y_increm, X_val, y_val, \n",
    "                          X_init = None, y_init=None,\n",
    "                          X_test=None, y_test=None, cv_splits=3, ):\n",
    "    \"\"\"Custom function for returning learning curve scores of different classifiers. \n",
    "    Learning curve starts from initial training set (X_init) making sure it is always\n",
    "    included in the training process and then samples incrementally over X_increm.\n",
    "    Evaluates loss & F1 on X_val, y_val and (optionally) returns P,R,F1 on test set (X_test)\n",
    "    \n",
    "    clf: estimator,implementing 'fit/train' and 'predict/predictions' methods\n",
    "    X_init: the training dataset on beginning of the learning curve (spot 0)\n",
    "    X_increm: the additional examples for plotting incremental learning curves\n",
    "    \n",
    "    returns: train_sizes, train_mse, train_f1, valid_mse , valid_f1 , (P, R, F1) @ test set\n",
    "    \"\"\"\n",
    "    \n",
    "    #init\n",
    "    train_mse = np.empty((0,1), float)\n",
    "    train_f1 = np.empty((0,1), float)\n",
    "    valid_mse = np.empty((0,cv_splits), float)\n",
    "    valid_f1 = np.empty((0,cv_splits), float)\n",
    "    #shuffle \n",
    "    X_increm, y_increm = shuffle(X_increm, y_increm)\n",
    "    \n",
    "    \n",
    "    y_init,y_increm = np.array(neg_to_bin_labels(y_init)), np.array(neg_to_bin_labels(y_increm)) #ensure labels are {0,1}\n",
    "    y_val, y_test = np.array(neg_to_bin_labels(y_val)) , np.array(neg_to_bin_labels(y_test))\n",
    "    \n",
    "    kf = KFold(n_splits=3, random_state=42, shuffle=True) # KFold splitter for CV in valid set\n",
    "    \n",
    "    if X_init is not None:\n",
    "        X_init, y_init = shuffle(X_init, y_init)\n",
    "        if y_init is None:\n",
    "            raise ValueError(\"Must also pass labels for the initial training set\")\n",
    "        splt_sizes[0] = 0  # force training to start from ONLY gold set\n",
    "        train_sizes = len(y_init)+(splt_sizes)*len(y_increm)\n",
    "\n",
    "    for splt_size in splt_sizes:\n",
    "        if splt_size == 1: #hack because sklearn complains if test size == 0\n",
    "            leave_out_size = 2\n",
    "        elif splt_size ==0:\n",
    "            leave_out_size = len(y_increm) - 2\n",
    "        else:\n",
    "            leave_out_size = 1.-splt_size\n",
    "\n",
    "        # Get a sample out of the 'increm' training set\n",
    "        X_splt, _, y_splt, _ = train_test_split(X_increm, y_increm, test_size = leave_out_size, \n",
    "                                                      shuffle = True, \n",
    "                                                      stratify = y_increm, \n",
    "                                                      random_state=42)\n",
    "        if X_init!=None: #augment X_init with X_splt\n",
    "            X_merged = vstack((X_init, X_splt))\n",
    "            y_merged = np.concatenate((y_init,y_splt))\n",
    "        else: #perform training only with X_merged \n",
    "            X_merged = deepcopy(X_splt), deepcopy(y_splt) \n",
    "\n",
    "        # and shuffle\n",
    "        X_merged,y_merged = shuffle(X_merged,y_merged, random_state=42)\n",
    "\n",
    "        # training\n",
    "        try:\n",
    "            clf.fit(X_merged,y_merged)\n",
    "            print \"Training X_merged with shape\",X_merged.shape\n",
    "        except:\n",
    "            clf.train(X_merged,y_merged) # TODO: add fit_params?\n",
    "        \n",
    "        # calc training errors\n",
    "        try:\n",
    "            pred = clf.predict(X_merged)\n",
    "        except:\n",
    "            pred = clf.predictions(X_merged)\n",
    "        print 'F1 of train set',f1_score(y_merged,pred)\n",
    "        \n",
    "        train_mse = np.vstack([train_mse, -mean_squared_error(y_merged,pred)])\n",
    "        train_f1 = np.vstack([train_f1, f1_score(y_merged,pred)])\n",
    "#         train_mse.append(-mean_squared_error(y_merged,pred))\n",
    "#         f1_train.append(f1_score(y_merged,pred))\n",
    "        \n",
    "        \n",
    "        #compute CV sets on validation to plot variance too\n",
    "        \n",
    "        mse,f1 = [],[]\n",
    "        for train_index, test_index in kf.split(X_val):\n",
    "            X, y = X_val[test_index], y_val[test_index]\n",
    "            pred = clf.predict(X)\n",
    "            print X.shape\n",
    "            mse.append(-mean_squared_error(y,pred))\n",
    "            f1.append(f1_score(y,pred))\n",
    "        mse = np.array(mse)\n",
    "        f1 = np.array(f1) \n",
    "        print mse\n",
    "        valid_mse = np.vstack([valid_mse, mse])\n",
    "        valid_f1 = np.vstack([valid_f1, f1])\n",
    "\n",
    "\n",
    "        #compute PRF on test set\n",
    "        if X_test!=None:\n",
    "            try:\n",
    "                pred = clf.predict(X_test)\n",
    "            except:\n",
    "                pred = clf.predictions(X_test)\n",
    "            print np.unique(pred), np.unique(y_test)\n",
    "            p,r,f1,_ = precision_recall_fscore_support(y_test, pred, average = 'binary')\n",
    "            test_prf1 = (p,r,f1)\n",
    "        else:\n",
    "            test_prf1 = (None,None,None)\n",
    "        \n",
    "        #ensure that runs ok\n",
    "        print 'Curve @ %s : \\n%s\\n\\n'%(X_merged.shape, valid_f1)\n",
    "\n",
    "\n",
    "    # return train_sizes, train_scores, valid_scores, test_prf1 = \n",
    "    train_sizes = [int(i) for i in train_sizes]\n",
    "#     train_mse = np.array(train_mse).reshape((-1,1))\n",
    "#     train_f1 = np.array(train_f1).reshape((-1,1))\n",
    "    \n",
    "    try:\n",
    "        print \"Completed %s training in %.2f sec\"%( clf.__class__ , time.time() - st_time)\n",
    "    except:\n",
    "        pass\n",
    "    return train_sizes, train_mse, train_f1, valid_mse , valid_f1 , test_prf1"
   ]
  },
  {
   "cell_type": "code",
   "execution_count": 239,
   "metadata": {},
   "outputs": [
    {
     "data": {
      "text/plain": [
       "(0.66504854368932043,\n",
       " 0.55241935483870963,\n",
       " 0.6035242290748899,\n",
       " 0.66504854368932043,\n",
       " 0.55241935483870963,\n",
       " 0.6035242290748899,\n",
       " 0.66504854368932043,\n",
       " 0.55241935483870963,\n",
       " 0.6035242290748899,\n",
       " 0.66504854368932043,\n",
       " 0.55241935483870963,\n",
       " 0.6035242290748899,\n",
       " 0.66504854368932043,\n",
       " 0.55241935483870963,\n",
       " 0.6035242290748899,\n",
       " 0.66504854368932043,\n",
       " 0.55241935483870963,\n",
       " 0.6035242290748899,\n",
       " 0.66504854368932043,\n",
       " 0.55241935483870963,\n",
       " 0.6035242290748899,\n",
       " 0.66504854368932043,\n",
       " 0.55241935483870963,\n",
       " 0.6035242290748899,\n",
       " 0.66504854368932043,\n",
       " 0.55241935483870963,\n",
       " 0.6035242290748899,\n",
       " 0.66504854368932043,\n",
       " 0.55241935483870963,\n",
       " 0.6035242290748899,\n",
       " 0.66504854368932043,\n",
       " 0.55241935483870963,\n",
       " 0.6035242290748899,\n",
       " 0.66504854368932043,\n",
       " 0.55241935483870963,\n",
       " 0.6035242290748899,\n",
       " 0.66504854368932043,\n",
       " 0.55241935483870963,\n",
       " 0.6035242290748899,\n",
       " 0.66504854368932043,\n",
       " 0.55241935483870963,\n",
       " 0.6035242290748899,\n",
       " 0.66504854368932043,\n",
       " 0.55241935483870963,\n",
       " 0.6035242290748899,\n",
       " 0.66504854368932043,\n",
       " 0.55241935483870963,\n",
       " 0.6035242290748899,\n",
       " 0.66504854368932043,\n",
       " 0.55241935483870963,\n",
       " 0.6035242290748899,\n",
       " 0.66504854368932043,\n",
       " 0.55241935483870963,\n",
       " 0.6035242290748899,\n",
       " 0.66504854368932043,\n",
       " 0.55241935483870963,\n",
       " 0.6035242290748899,\n",
       " 0.66504854368932043,\n",
       " 0.55241935483870963,\n",
       " 0.6035242290748899,\n",
       " 0.66504854368932043,\n",
       " 0.55241935483870963,\n",
       " 0.6035242290748899,\n",
       " 0.66504854368932043,\n",
       " 0.55241935483870963,\n",
       " 0.6035242290748899,\n",
       " 0.66504854368932043,\n",
       " 0.55241935483870963,\n",
       " 0.6035242290748899,\n",
       " 0.66504854368932043,\n",
       " 0.55241935483870963,\n",
       " 0.6035242290748899,\n",
       " 0.66504854368932043,\n",
       " 0.55241935483870963,\n",
       " 0.6035242290748899,\n",
       " 0.66504854368932043,\n",
       " 0.55241935483870963,\n",
       " 0.6035242290748899,\n",
       " 0.66504854368932043,\n",
       " 0.55241935483870963,\n",
       " 0.6035242290748899,\n",
       " 0.66504854368932043,\n",
       " 0.55241935483870963,\n",
       " 0.6035242290748899,\n",
       " 0.66504854368932043,\n",
       " 0.55241935483870963,\n",
       " 0.6035242290748899,\n",
       " 0.66504854368932043,\n",
       " 0.55241935483870963,\n",
       " 0.6035242290748899,\n",
       " 0.66504854368932043,\n",
       " 0.55241935483870963,\n",
       " 0.6035242290748899,\n",
       " 0.66504854368932043,\n",
       " 0.55241935483870963,\n",
       " 0.6035242290748899,\n",
       " 0.66504854368932043,\n",
       " 0.55241935483870963,\n",
       " 0.6035242290748899,\n",
       " 0.66504854368932043,\n",
       " 0.55241935483870963,\n",
       " 0.6035242290748899,\n",
       " 0.66504854368932043,\n",
       " 0.55241935483870963,\n",
       " 0.6035242290748899,\n",
       " 0.66504854368932043,\n",
       " 0.55241935483870963,\n",
       " 0.6035242290748899,\n",
       " 0.66504854368932043,\n",
       " 0.55241935483870963,\n",
       " 0.6035242290748899,\n",
       " 0.66504854368932043,\n",
       " 0.55241935483870963,\n",
       " 0.6035242290748899,\n",
       " 0.66504854368932043,\n",
       " 0.55241935483870963,\n",
       " 0.6035242290748899,\n",
       " 0.66504854368932043,\n",
       " 0.55241935483870963,\n",
       " 0.6035242290748899,\n",
       " 0.66504854368932043,\n",
       " 0.55241935483870963,\n",
       " 0.6035242290748899,\n",
       " 0.66504854368932043,\n",
       " 0.55241935483870963,\n",
       " 0.6035242290748899,\n",
       " 0.66504854368932043,\n",
       " 0.55241935483870963,\n",
       " 0.6035242290748899,\n",
       " 0.66504854368932043,\n",
       " 0.55241935483870963,\n",
       " 0.6035242290748899,\n",
       " 0.66504854368932043,\n",
       " 0.55241935483870963,\n",
       " 0.6035242290748899,\n",
       " 0.66504854368932043,\n",
       " 0.55241935483870963,\n",
       " 0.6035242290748899,\n",
       " 0.66504854368932043,\n",
       " 0.55241935483870963,\n",
       " 0.6035242290748899,\n",
       " 0.66504854368932043,\n",
       " 0.55241935483870963,\n",
       " 0.6035242290748899,\n",
       " 0.66504854368932043,\n",
       " 0.55241935483870963,\n",
       " 0.6035242290748899,\n",
       " 0.66504854368932043,\n",
       " 0.55241935483870963,\n",
       " 0.6035242290748899,\n",
       " 0.66504854368932043,\n",
       " 0.55241935483870963,\n",
       " 0.6035242290748899,\n",
       " 0.66504854368932043,\n",
       " 0.55241935483870963,\n",
       " 0.6035242290748899,\n",
       " 0.66504854368932043,\n",
       " 0.55241935483870963,\n",
       " 0.6035242290748899,\n",
       " 0.66504854368932043,\n",
       " 0.55241935483870963,\n",
       " 0.6035242290748899,\n",
       " 0.66504854368932043,\n",
       " 0.55241935483870963,\n",
       " 0.6035242290748899,\n",
       " 0.66504854368932043,\n",
       " 0.55241935483870963,\n",
       " 0.6035242290748899,\n",
       " 0.66504854368932043,\n",
       " 0.55241935483870963,\n",
       " 0.6035242290748899,\n",
       " 0.66504854368932043,\n",
       " 0.55241935483870963,\n",
       " 0.6035242290748899,\n",
       " 0.66504854368932043,\n",
       " 0.55241935483870963,\n",
       " 0.6035242290748899,\n",
       " 0.66504854368932043,\n",
       " 0.55241935483870963,\n",
       " 0.6035242290748899,\n",
       " 0.66504854368932043,\n",
       " 0.55241935483870963,\n",
       " 0.6035242290748899,\n",
       " 0.66504854368932043,\n",
       " 0.55241935483870963,\n",
       " 0.6035242290748899,\n",
       " 0.66504854368932043,\n",
       " 0.55241935483870963,\n",
       " 0.6035242290748899,\n",
       " 0.66504854368932043,\n",
       " 0.55241935483870963,\n",
       " 0.6035242290748899,\n",
       " 0.66504854368932043,\n",
       " 0.55241935483870963,\n",
       " 0.6035242290748899,\n",
       " 0.66504854368932043,\n",
       " 0.55241935483870963,\n",
       " 0.6035242290748899,\n",
       " 0.66504854368932043,\n",
       " 0.55241935483870963,\n",
       " 0.6035242290748899,\n",
       " 0.66504854368932043,\n",
       " 0.55241935483870963,\n",
       " 0.6035242290748899,\n",
       " 0.66504854368932043,\n",
       " 0.55241935483870963,\n",
       " 0.6035242290748899,\n",
       " 0.66504854368932043,\n",
       " 0.55241935483870963,\n",
       " 0.6035242290748899,\n",
       " 0.66504854368932043,\n",
       " 0.55241935483870963,\n",
       " 0.6035242290748899,\n",
       " 0.66504854368932043,\n",
       " 0.55241935483870963,\n",
       " 0.6035242290748899,\n",
       " 0.66504854368932043,\n",
       " 0.55241935483870963,\n",
       " 0.6035242290748899,\n",
       " 0.66504854368932043,\n",
       " 0.55241935483870963,\n",
       " 0.6035242290748899,\n",
       " 0.66504854368932043,\n",
       " 0.55241935483870963,\n",
       " 0.6035242290748899,\n",
       " 0.66504854368932043,\n",
       " 0.55241935483870963,\n",
       " 0.6035242290748899,\n",
       " 0.66504854368932043,\n",
       " 0.55241935483870963,\n",
       " 0.6035242290748899,\n",
       " 0.66504854368932043,\n",
       " 0.55241935483870963,\n",
       " 0.6035242290748899,\n",
       " 0.66504854368932043,\n",
       " 0.55241935483870963,\n",
       " 0.6035242290748899,\n",
       " 0.66504854368932043,\n",
       " 0.55241935483870963,\n",
       " 0.6035242290748899,\n",
       " 0.66504854368932043,\n",
       " 0.55241935483870963,\n",
       " 0.6035242290748899,\n",
       " 0.66504854368932043,\n",
       " 0.55241935483870963,\n",
       " 0.6035242290748899,\n",
       " 0.66504854368932043,\n",
       " 0.55241935483870963,\n",
       " 0.6035242290748899,\n",
       " 0.66504854368932043,\n",
       " 0.55241935483870963,\n",
       " 0.6035242290748899,\n",
       " 0.66504854368932043,\n",
       " 0.55241935483870963,\n",
       " 0.6035242290748899,\n",
       " 0.66504854368932043,\n",
       " 0.55241935483870963,\n",
       " 0.6035242290748899,\n",
       " 0.66504854368932043,\n",
       " 0.55241935483870963,\n",
       " 0.6035242290748899,\n",
       " 0.66504854368932043,\n",
       " 0.55241935483870963,\n",
       " 0.6035242290748899,\n",
       " 0.66504854368932043,\n",
       " 0.55241935483870963,\n",
       " 0.6035242290748899,\n",
       " 0.66504854368932043,\n",
       " 0.55241935483870963,\n",
       " 0.6035242290748899,\n",
       " 0.66504854368932043,\n",
       " 0.55241935483870963,\n",
       " 0.6035242290748899,\n",
       " 0.66504854368932043,\n",
       " 0.55241935483870963,\n",
       " 0.6035242290748899,\n",
       " 0.66504854368932043,\n",
       " 0.55241935483870963,\n",
       " 0.6035242290748899,\n",
       " 0.66504854368932043,\n",
       " 0.55241935483870963,\n",
       " 0.6035242290748899,\n",
       " 0.66504854368932043,\n",
       " 0.55241935483870963,\n",
       " 0.6035242290748899,\n",
       " 0.66504854368932043,\n",
       " 0.55241935483870963,\n",
       " 0.6035242290748899,\n",
       " 0.66504854368932043,\n",
       " 0.55241935483870963,\n",
       " 0.6035242290748899,\n",
       " 0.66504854368932043,\n",
       " 0.55241935483870963,\n",
       " 0.6035242290748899,\n",
       " 0.66504854368932043,\n",
       " 0.55241935483870963,\n",
       " 0.6035242290748899,\n",
       " 0.66504854368932043,\n",
       " 0.55241935483870963,\n",
       " 0.6035242290748899)"
      ]
     },
     "execution_count": 239,
     "metadata": {},
     "output_type": "execute_result"
    }
   ],
   "source": [
    "test_prf1"
   ]
  },
  {
   "cell_type": "code",
   "execution_count": 240,
   "metadata": {
    "scrolled": true
   },
   "outputs": [
    {
     "name": "stdout",
     "output_type": "stream",
     "text": [
      "Training X_merged with shape (502, 77657)\n",
      "F1 of train set 0.965811965812\n",
      "(1081, 77657)\n",
      "(1081, 77657)\n",
      "(1080, 77657)\n",
      "[-0.22386679 -0.22294172 -0.20833333]\n",
      "[0 1] [0 1]\n",
      "Curve @ (502, 77657) : \n",
      "[[ 0.42654028  0.42755344  0.43037975]]\n",
      "\n",
      "\n",
      "Training X_merged with shape (2505, 77657)\n",
      "F1 of train set 0.957949539447\n",
      "(1081, 77657)\n",
      "(1081, 77657)\n",
      "(1080, 77657)\n",
      "[-0.19241443 -0.18501388 -0.18425926]\n",
      "[0 1] [0 1]\n",
      "Curve @ (2505, 77657) : \n",
      "[[ 0.42654028  0.42755344  0.43037975]\n",
      " [ 0.56485356  0.57627119  0.55679287]]\n",
      "\n",
      "\n",
      "Training X_merged with shape (3841, 77657)\n",
      "F1 of train set 0.948784273151\n",
      "(1081, 77657)\n",
      "(1081, 77657)\n",
      "(1080, 77657)\n",
      "[-0.17576318 -0.1720629  -0.16851852]\n",
      "[0 1] [0 1]\n",
      "Curve @ (3841, 77657) : \n",
      "[[ 0.42654028  0.42755344  0.43037975]\n",
      " [ 0.56485356  0.57627119  0.55679287]\n",
      " [ 0.5814978   0.59210526  0.57075472]]\n",
      "\n",
      "\n",
      "Training X_merged with shape (5239, 77657)\n",
      "F1 of train set 0.944938505203\n",
      "(1081, 77657)\n",
      "(1081, 77657)\n",
      "(1080, 77657)\n",
      "[-0.17576318 -0.16743756 -0.16574074]\n",
      "[0 1] [0 1]\n",
      "Curve @ (5239, 77657) : \n",
      "[[ 0.42654028  0.42755344  0.43037975]\n",
      " [ 0.56485356  0.57627119  0.55679287]\n",
      " [ 0.5814978   0.59210526  0.57075472]\n",
      " [ 0.58333333  0.61075269  0.58275058]]\n",
      "\n",
      "\n",
      "Training X_merged with shape (6574, 77657)\n",
      "F1 of train set 0.942942942943\n",
      "(1081, 77657)\n",
      "(1081, 77657)\n",
      "(1080, 77657)\n",
      "[-0.17021277 -0.16096207 -0.15925926]\n",
      "[0 1] [0 1]\n",
      "Curve @ (6574, 77657) : \n",
      "[[ 0.42654028  0.42755344  0.43037975]\n",
      " [ 0.56485356  0.57627119  0.55679287]\n",
      " [ 0.5814978   0.59210526  0.57075472]\n",
      " [ 0.58333333  0.61075269  0.58275058]\n",
      " [ 0.59649123  0.61842105  0.59813084]]\n",
      "\n",
      "\n"
     ]
    },
    {
     "data": {
      "text/plain": [
       "<module 'matplotlib.pyplot' from '/home/antonis/anaconda2/envs/snorkel27clone/lib/python2.7/site-packages/matplotlib/pyplot.pyc'>"
      ]
     },
     "execution_count": 240,
     "metadata": {},
     "output_type": "execute_result"
    },
    {
     "data": {
      "image/png": "[encoded data removed]",
      "text/plain": [
       "<Figure size 432x288 with 1 Axes>"
      ]
     },
     "metadata": {},
     "output_type": "display_data"
    },
    {
     "data": {
      "image/png": "[encoded data removed]",
      "text/plain": [
       "<Figure size 432x288 with 1 Axes>"
      ]
     },
     "metadata": {},
     "output_type": "display_data"
    }
   ],
   "source": [
    "train_sizes, train_mse, train_f1, valid_mse , valid_f1 , test_prf1 = custom_learning_curve(\n",
    "    LogisticRegression(), X_train[500:],y_train[500:], X_val, y_val, X_init= X_train[:500], y_init=y_train[:500],\n",
    "                      X_test = X_test, y_test = y_test\n",
    "                     )\n",
    "\n",
    "plot_learning_curve(train_mse,valid_mse,train_sizes, 'MSE (P=%.2f%%,R=%.2f%%,F1=%.2f%%)'%(test_prf1))\n",
    "\n",
    "plot_learning_curve(train_f1,valid_f1,train_sizes, title='F1 (P=%.2f%%,R=%.2f%%,F1=%.2f%%)'%(test_prf1))\n"
   ]
  },
  {
   "cell_type": "code",
   "execution_count": 234,
   "metadata": {},
   "outputs": [
    {
     "data": {
      "text/plain": [
       "(0.66444174757281549, 0.55191532258064513, 0.60297356828193827)"
      ]
     },
     "execution_count": 234,
     "metadata": {},
     "output_type": "execute_result"
    }
   ],
   "source": [
    "test_prf1"
   ]
  },
  {
   "cell_type": "code",
   "execution_count": null,
   "metadata": {},
   "outputs": [],
   "source": []
  },
  {
   "cell_type": "code",
   "execution_count": 203,
   "metadata": {},
   "outputs": [],
   "source": [
    "from sklearn.model_selection import learning_curve"
   ]
  },
  {
   "cell_type": "code",
   "execution_count": 209,
   "metadata": {},
   "outputs": [],
   "source": [
    "X_train, y_train = shuffle(X_train,y_train)"
   ]
  },
  {
   "cell_type": "code",
   "execution_count": 220,
   "metadata": {},
   "outputs": [],
   "source": [
    "train_sizes_abs, train_scores, test_scores = learning_curve(\n",
    "    LogisticRegression(),\n",
    "    X_train, y_train, \n",
    "    scoring = mse_scorer\n",
    ")\n"
   ]
  },
  {
   "cell_type": "code",
   "execution_count": 221,
   "metadata": {},
   "outputs": [
    {
     "data": {
      "text/plain": [
       "array([ 438, 1424, 2411, 3397, 4384])"
      ]
     },
     "execution_count": 221,
     "metadata": {},
     "output_type": "execute_result"
    }
   ],
   "source": [
    "train_sizes_abs"
   ]
  },
  {
   "cell_type": "code",
   "execution_count": 222,
   "metadata": {},
   "outputs": [
    {
     "data": {
      "text/plain": [
       "array([[-0.02739726, -0.0913242 , -0.0913242 ],\n",
       "       [-0.11516854, -0.11235955, -0.11235955],\n",
       "       [-0.17917876, -0.13936126, -0.15429282],\n",
       "       [-0.22019429, -0.19546659, -0.184869  ],\n",
       "       [-0.23722628, -0.21441606, -0.19616788]])"
      ]
     },
     "execution_count": 222,
     "metadata": {},
     "output_type": "execute_result"
    }
   ],
   "source": [
    "train_scores"
   ]
  },
  {
   "cell_type": "code",
   "execution_count": 226,
   "metadata": {},
   "outputs": [
    {
     "data": {
      "text/plain": [
       "array([-0.07001522, -0.11329588, -0.15761095, -0.20017663, -0.21593674])"
      ]
     },
     "execution_count": 226,
     "metadata": {},
     "output_type": "execute_result"
    }
   ],
   "source": [
    "np.mean(train_scores, axis=1)"
   ]
  },
  {
   "cell_type": "code",
   "execution_count": 227,
   "metadata": {},
   "outputs": [
    {
     "data": {
      "text/plain": [
       "<module 'matplotlib.pyplot' from '/home/antonis/anaconda2/envs/snorkel27clone/lib/python2.7/site-packages/matplotlib/pyplot.pyc'>"
      ]
     },
     "execution_count": 227,
     "metadata": {},
     "output_type": "execute_result"
    },
    {
     "data": {
      "image/png": "[encoded data removed]",
      "text/plain": [
       "<Figure size 432x288 with 1 Axes>"
      ]
     },
     "metadata": {},
     "output_type": "display_data"
    }
   ],
   "source": [
    "plot_learning_curve(test_scores, train_scores, train_sizes_abs)"
   ]
  },
  {
   "cell_type": "code",
   "execution_count": null,
   "metadata": {},
   "outputs": [],
   "source": []
  },
  {
   "cell_type": "code",
   "execution_count": 190,
   "metadata": {},
   "outputs": [
    {
     "data": {
      "text/plain": [
       "[1000, 2840, 4066, 5349, 6576]"
      ]
     },
     "execution_count": 190,
     "metadata": {},
     "output_type": "execute_result"
    }
   ],
   "source": [
    "train_sizes"
   ]
  },
  {
   "cell_type": "code",
   "execution_count": 185,
   "metadata": {},
   "outputs": [
    {
     "data": {
      "text/plain": [
       "array([[-0.1093275 ],\n",
       "       [-0.09710326],\n",
       "       [-0.09047901],\n",
       "       [-0.08456929],\n",
       "       [-0.08273065]])"
      ]
     },
     "execution_count": 185,
     "metadata": {},
     "output_type": "execute_result"
    }
   ],
   "source": [
    "train_mse"
   ]
  },
  {
   "cell_type": "code",
   "execution_count": 162,
   "metadata": {},
   "outputs": [
    {
     "data": {
      "text/plain": [
       "array([[ 0.71879887],\n",
       "       [ 0.81435143],\n",
       "       [ 0.8458771 ],\n",
       "       [ 0.86775214],\n",
       "       [ 0.87786869]])"
      ]
     },
     "execution_count": 162,
     "metadata": {},
     "output_type": "execute_result"
    }
   ],
   "source": [
    "train_f1"
   ]
  },
  {
   "cell_type": "code",
   "execution_count": 163,
   "metadata": {},
   "outputs": [
    {
     "data": {
      "text/plain": [
       "array([[-0.16188714, -0.17113784, -0.17592593],\n",
       "       [-0.15726179, -0.160037  , -0.15833333],\n",
       "       [-0.15448659, -0.15633673, -0.15462963],\n",
       "       [-0.15078631, -0.15911193, -0.14537037],\n",
       "       [-0.14616096, -0.15356152, -0.15092593]])"
      ]
     },
     "execution_count": 163,
     "metadata": {},
     "output_type": "execute_result"
    }
   ],
   "source": [
    "valid_mse"
   ]
  },
  {
   "cell_type": "code",
   "execution_count": 164,
   "metadata": {},
   "outputs": [
    {
     "data": {
      "text/plain": [
       "array([[ 0.48377581,  0.43425076,  0.39102564],\n",
       "       [ 0.55026455,  0.53116531,  0.51558074],\n",
       "       [ 0.56847545,  0.56777494,  0.54495913],\n",
       "       [ 0.5914787 ,  0.5678392 ,  0.57908847],\n",
       "       [ 0.6127451 ,  0.58706468,  0.56992084]])"
      ]
     },
     "execution_count": 164,
     "metadata": {},
     "output_type": "execute_result"
    }
   ],
   "source": [
    "valid_f1"
   ]
  },
  {
   "cell_type": "code",
   "execution_count": null,
   "metadata": {},
   "outputs": [],
   "source": []
  },
  {
   "cell_type": "code",
   "execution_count": 165,
   "metadata": {},
   "outputs": [
    {
     "data": {
      "text/plain": [
       "(array([ 0.91092512,  0.90718954]),\n",
       " array([ 0.97723264,  0.69959677]),\n",
       " array([ 0.9429146 ,  0.78998293]))"
      ]
     },
     "execution_count": 165,
     "metadata": {},
     "output_type": "execute_result"
    }
   ],
   "source": [
    "test_prf1"
   ]
  },
  {
   "cell_type": "code",
   "execution_count": null,
   "metadata": {},
   "outputs": [],
   "source": []
  },
  {
   "cell_type": "code",
   "execution_count": null,
   "metadata": {},
   "outputs": [],
   "source": []
  },
  {
   "cell_type": "code",
   "execution_count": 166,
   "metadata": {},
   "outputs": [],
   "source": [
    "from MLutils import plot_learning_curve"
   ]
  },
  {
   "cell_type": "code",
   "execution_count": 169,
   "metadata": {},
   "outputs": [
    {
     "data": {
      "text/plain": [
       "(array([ 0.91092512,  0.90718954]),\n",
       " array([ 0.97723264,  0.69959677]),\n",
       " array([ 0.9429146 ,  0.78998293]))"
      ]
     },
     "execution_count": 169,
     "metadata": {},
     "output_type": "execute_result"
    }
   ],
   "source": [
    "test_prf1"
   ]
  },
  {
   "cell_type": "code",
   "execution_count": null,
   "metadata": {},
   "outputs": [],
   "source": []
  },
  {
   "cell_type": "code",
   "execution_count": 63,
   "metadata": {},
   "outputs": [
    {
     "data": {
      "text/plain": [
       "sklearn.linear_model.logistic.LogisticRegression"
      ]
     },
     "execution_count": 63,
     "metadata": {},
     "output_type": "execute_result"
    }
   ],
   "source": [
    "clf.__class__"
   ]
  },
  {
   "cell_type": "code",
   "execution_count": 110,
   "metadata": {},
   "outputs": [],
   "source": [
    "a = np.array(mse_train).reshape((-1,1))"
   ]
  },
  {
   "cell_type": "code",
   "execution_count": 104,
   "metadata": {},
   "outputs": [
    {
     "data": {
      "text/plain": [
       "array([[-0.74745606, -0.71415356, -0.75925926],\n",
       "       [-0.74745606, -0.71415356, -0.75925926],\n",
       "       [-0.74745606, -0.71415356, -0.75925926],\n",
       "       [-0.74745606, -0.71415356, -0.75925926],\n",
       "       [-0.74745606, -0.71415356, -0.75925926]])"
      ]
     },
     "execution_count": 104,
     "metadata": {},
     "output_type": "execute_result"
    }
   ],
   "source": [
    "valid_mse"
   ]
  },
  {
   "cell_type": "code",
   "execution_count": 107,
   "metadata": {},
   "outputs": [],
   "source": [
    "clf_name = str(clf.__class__).split('.')[-1].split(\"'\")[0]"
   ]
  },
  {
   "cell_type": "code",
   "execution_count": 118,
   "metadata": {},
   "outputs": [
    {
     "name": "stdout",
     "output_type": "stream",
     "text": [
      "[ 0.80242567  0.84810127] [ 0.98653199  0.23639113] [ 0.88500539  0.36972803]\n"
     ]
    }
   ],
   "source": [
    "print p,r,f1"
   ]
  },
  {
   "cell_type": "code",
   "execution_count": null,
   "metadata": {},
   "outputs": [],
   "source": []
  },
  {
   "cell_type": "markdown",
   "metadata": {},
   "source": [
    "## Plot learning curves"
   ]
  },
  {
   "cell_type": "code",
   "execution_count": 66,
   "metadata": {},
   "outputs": [],
   "source": [
    "from learning_curves import learning_curve"
   ]
  },
  {
   "cell_type": "code",
   "execution_count": 33,
   "metadata": {},
   "outputs": [],
   "source": [
    "from scipy.sparse import vstack\n",
    "import numpy as np"
   ]
  },
  {
   "cell_type": "code",
   "execution_count": 34,
   "metadata": {},
   "outputs": [],
   "source": [
    "X_all = vstack((X_train,X_val) )\n",
    "y_all = (y_train.append(y_val)).values\n",
    "X_all_split = np.array([0 for i in enumerate(X_train)] + [1 for i in enumerate(X_val)])"
   ]
  },
  {
   "cell_type": "code",
   "execution_count": 43,
   "metadata": {},
   "outputs": [
    {
     "data": {
      "text/plain": [
       "<13007x77657 sparse matrix of type '<type 'numpy.float64'>'\n",
       "\twith 646601 stored elements in Compressed Sparse Row format>"
      ]
     },
     "execution_count": 43,
     "metadata": {},
     "output_type": "execute_result"
    }
   ],
   "source": [
    "X_train"
   ]
  },
  {
   "cell_type": "code",
   "execution_count": 36,
   "metadata": {},
   "outputs": [
    {
     "data": {
      "text/plain": [
       "(16249,)"
      ]
     },
     "execution_count": 36,
     "metadata": {},
     "output_type": "execute_result"
    }
   ],
   "source": [
    "X_all_split.shape"
   ]
  },
  {
   "cell_type": "code",
   "execution_count": 64,
   "metadata": {},
   "outputs": [],
   "source": [
    "from sklearn.metrics import mean_squared_error, make_scorer,f1_score\n"
   ]
  },
  {
   "cell_type": "code",
   "execution_count": 65,
   "metadata": {},
   "outputs": [],
   "source": [
    "mse_scorer = make_scorer(mean_squared_error, greater_is_better=False)\n",
    "f1_scorer = make_scorer(f1_score, greater_is_better=True)\n"
   ]
  },
  {
   "cell_type": "code",
   "execution_count": 66,
   "metadata": {},
   "outputs": [],
   "source": [
    "train_sizes, train_scores, valid_scores = learning_curve(\n",
    "    AdaBoostClassifier(n_estimators=75),\n",
    "    X_all, y_all, \n",
    "    #train_sizes=range(1000, X_train.shape[0], 1000), \n",
    "    groups = X_all_split,\n",
    "    scoring = mse_scorer\n",
    ")\n"
   ]
  },
  {
   "cell_type": "code",
   "execution_count": 67,
   "metadata": {},
   "outputs": [
    {
     "data": {
      "text/plain": [
       "array([[-0.41366574, -0.33979686, -0.33979686],\n",
       "       [-0.59772727, -0.56931818, -0.56931818],\n",
       "       [-0.63521907, -0.62581836, -0.63857646],\n",
       "       [-0.64665237, -0.6285442 , -0.63092685],\n",
       "       [-0.63995569, -0.64069424, -0.64401773]])"
      ]
     },
     "execution_count": 67,
     "metadata": {},
     "output_type": "execute_result"
    }
   ],
   "source": [
    "train_scores"
   ]
  },
  {
   "cell_type": "code",
   "execution_count": 68,
   "metadata": {},
   "outputs": [
    {
     "data": {
      "text/plain": [
       "array([[-0.8669005 , -0.86616208, -0.90858726],\n",
       "       [-0.76056858, -0.79527414, -0.80590951],\n",
       "       [-0.6741739 , -0.76352224, -0.76306556],\n",
       "       [-0.73620085, -0.73103194, -0.74607572],\n",
       "       [-0.71847886, -0.73472402, -0.69953832]])"
      ]
     },
     "execution_count": 68,
     "metadata": {},
     "output_type": "execute_result"
    }
   ],
   "source": [
    "valid_scores"
   ]
  },
  {
   "cell_type": "code",
   "execution_count": 69,
   "metadata": {},
   "outputs": [
    {
     "data": {
      "text/plain": [
       "array([ 1083,  3520,  5957,  8394, 10832])"
      ]
     },
     "execution_count": 69,
     "metadata": {},
     "output_type": "execute_result"
    }
   ],
   "source": [
    "train_sizes"
   ]
  },
  {
   "cell_type": "code",
   "execution_count": null,
   "metadata": {},
   "outputs": [],
   "source": []
  },
  {
   "cell_type": "code",
   "execution_count": 95,
   "metadata": {},
   "outputs": [],
   "source": [
    "from MLutils import plot_learning_curve"
   ]
  },
  {
   "cell_type": "code",
   "execution_count": 61,
   "metadata": {},
   "outputs": [
    {
     "data": {
      "image/png": "[encoded data removed]",
      "text/plain": [
       "<Figure size 432x288 with 1 Axes>"
      ]
     },
     "metadata": {},
     "output_type": "display_data"
    }
   ],
   "source": [
    "plot_learning_curve(train_scores, \n",
    "                        valid_scores,\n",
    "                        train_sizes=train_sizes,\n",
    "                   title = 'Adaboost learning curve (Dec. Trees, 75 estimators)')\n",
    "\n",
    "plt.show()"
   ]
  },
  {
   "cell_type": "code",
   "execution_count": 70,
   "metadata": {},
   "outputs": [
    {
     "data": {
      "image/png": "[encoded data removed]",
      "text/plain": [
       "<Figure size 432x288 with 1 Axes>"
      ]
     },
     "metadata": {},
     "output_type": "display_data"
    }
   ],
   "source": [
    "plot_learning_curve(train_scores, \n",
    "                        valid_scores,\n",
    "                        train_sizes=train_sizes,\n",
    "                   title = 'Adaboost learning curve (Dec. Trees, 75 estimators)')\n",
    "\n",
    "plt.show()"
   ]
  },
  {
   "cell_type": "code",
   "execution_count": 71,
   "metadata": {},
   "outputs": [],
   "source": [
    "## F1 score"
   ]
  },
  {
   "cell_type": "code",
   "execution_count": 72,
   "metadata": {},
   "outputs": [],
   "source": [
    "train_sizes, train_scores, valid_scores = learning_curve(\n",
    "    AdaBoostClassifier(n_estimators=75 ),\n",
    "    X_all, y_all, \n",
    "    #train_sizes=range(1000, X_train.shape[0], 1000), \n",
    "    groups = X_all_split,\n",
    "    scoring = f1_scorer\n",
    ")\n"
   ]
  },
  {
   "cell_type": "code",
   "execution_count": 74,
   "metadata": {},
   "outputs": [
    {
     "data": {
      "image/png": "[encoded data removed]",
      "text/plain": [
       "<Figure size 432x288 with 1 Axes>"
      ]
     },
     "metadata": {},
     "output_type": "display_data"
    }
   ],
   "source": [
    "plot_learning_curve(train_scores, \n",
    "                        valid_scores,\n",
    "                        train_sizes=train_sizes,\n",
    "                   title = 'Adaboost learning curve (F1 score, Dec. Trees, 75 estimators)')\n",
    "\n",
    "plt.show()"
   ]
  },
  {
   "cell_type": "code",
   "execution_count": null,
   "metadata": {},
   "outputs": [],
   "source": []
  },
  {
   "cell_type": "code",
   "execution_count": null,
   "metadata": {},
   "outputs": [],
   "source": []
  },
  {
   "cell_type": "markdown",
   "metadata": {},
   "source": [
    "** With Linear SVC **"
   ]
  },
  {
   "cell_type": "code",
   "execution_count": 88,
   "metadata": {},
   "outputs": [],
   "source": [
    "from sklearn.svm import SVC"
   ]
  },
  {
   "cell_type": "code",
   "execution_count": 75,
   "metadata": {
    "scrolled": true
   },
   "outputs": [],
   "source": [
    "# estimators = range(50,351,150)\n",
    "estimators = [1,5,25] #+range(50,351,25)\n",
    "\n",
    "scores_df = pd.DataFrame(index=estimators)\n",
    "\n",
    "\n",
    "\n",
    "for n in estimators:\n",
    "    clf = AdaBoostClassifier(n_estimators=n, \n",
    "                             base_estimator = LinearSVC,\n",
    "                             algorithm='SAMME'\n",
    "                            )\n",
    "    clf.fit(X_train,y_train)\n",
    "    \n",
    "    pred = clf.predict(X_train)\n",
    "    scores_df.loc[n,'f1_train'] = f1_score(y_train,pred)\n",
    "    pred = clf.predict(X_val)\n",
    "    scores_df.loc[n,'f1_val'] = f1_score(y_val,pred)\n",
    "#     scores_df['train_score'] = clf.score(X_train,y_train)\n",
    "\n",
    "\n",
    "\n",
    "# scores = validation_curve(clf, X_train, y_train,\n",
    "#                          'n_estimators', estimators)\n"
   ]
  },
  {
   "cell_type": "code",
   "execution_count": 83,
   "metadata": {},
   "outputs": [
    {
     "data": {
      "text/plain": [
       "<matplotlib.axes._subplots.AxesSubplot at 0x7f3212b86310>"
      ]
     },
     "execution_count": 83,
     "metadata": {},
     "output_type": "execute_result"
    },
    {
     "data": {
      "image/png": "[encoded data removed]",
      "text/plain": [
       "<Figure size 432x288 with 1 Axes>"
      ]
     },
     "metadata": {},
     "output_type": "display_data"
    }
   ],
   "source": [
    "scores_df.plot(title='AdaBoost (base estimator = LR)')"
   ]
  },
  {
   "cell_type": "code",
   "execution_count": null,
   "metadata": {},
   "outputs": [],
   "source": []
  },
  {
   "cell_type": "markdown",
   "metadata": {},
   "source": [
    "## BrownBoost"
   ]
  },
  {
   "cell_type": "code",
   "execution_count": 79,
   "metadata": {},
   "outputs": [],
   "source": [
    "from MLutils import BrownBoost"
   ]
  },
  {
   "cell_type": "code",
   "execution_count": 80,
   "metadata": {},
   "outputs": [],
   "source": [
    "from sklearn.tree import DecisionTreeClassifier"
   ]
  },
  {
   "cell_type": "code",
   "execution_count": null,
   "metadata": {},
   "outputs": [],
   "source": []
  },
  {
   "cell_type": "code",
   "execution_count": 81,
   "metadata": {},
   "outputs": [],
   "source": [
    "# prediction = brownboost.predict(X_test)\n",
    "# accuracy = accuracy_score(y_test, prediction)\n",
    "# precision = precision_score(y_test, prediction, pos_label=1, labels=[-1, 1])\n",
    "# recall = recall_score(y_test, prediction, pos_label=1, labels=[-1, 1])\n",
    "# clf_f1_score = f1_score(y_test, prediction, pos_label=1, labels=[-1, 1])\n",
    "# print(\"mean accuracy : %.4f \\n\" % accuracy)\n",
    "# precision, recall, clf_f1_score"
   ]
  },
  {
   "cell_type": "code",
   "execution_count": 110,
   "metadata": {},
   "outputs": [
    {
     "name": "stdout",
     "output_type": "stream",
     "text": [
      "0.724848915748 0.573268921095\n",
      "808.138631821\n"
     ]
    }
   ],
   "source": [
    "base_estimator = DecisionTreeClassifier(max_depth=1)\n",
    "brownboost = BrownBoost(base_estimator, c=1)\n",
    "st_time = time.time()\n",
    "\n",
    "brownboost.fit(X_train, np.array(y_train))\n",
    "pred = brownboost.predict(X_train)\n",
    "f1_train = f1_score(y_train,pred)\n",
    "pred = brownboost.predict(X_val)\n",
    "f1_val = f1_score(y_val,pred)\n",
    "print f1_train,f1_val\n",
    "print time.time()-st_time"
   ]
  },
  {
   "cell_type": "code",
   "execution_count": null,
   "metadata": {},
   "outputs": [],
   "source": []
  },
  {
   "cell_type": "code",
   "execution_count": 76,
   "metadata": {},
   "outputs": [],
   "source": [
    "## BrownBoost learning curves"
   ]
  },
  {
   "cell_type": "code",
   "execution_count": 77,
   "metadata": {},
   "outputs": [],
   "source": [
    "import time"
   ]
  },
  {
   "cell_type": "code",
   "execution_count": 93,
   "metadata": {},
   "outputs": [],
   "source": [
    "from MLutils import BrownBoost"
   ]
  },
  {
   "cell_type": "code",
   "execution_count": 113,
   "metadata": {},
   "outputs": [
    {
     "data": {
      "image/png": "[encoded data removed]",
      "text/plain": [
       "<Figure size 432x288 with 1 Axes>"
      ]
     },
     "metadata": {},
     "output_type": "display_data"
    },
    {
     "name": "stdout",
     "output_type": "stream",
     "text": [
      "5793.73460007\n"
     ]
    },
    {
     "data": {
      "image/png": "[encoded data removed]",
      "text/plain": [
       "<Figure size 432x288 with 1 Axes>"
      ]
     },
     "metadata": {},
     "output_type": "display_data"
    },
    {
     "name": "stdout",
     "output_type": "stream",
     "text": [
      "8870.76387811\n"
     ]
    },
    {
     "data": {
      "image/png": "[encoded data removed]",
      "text/plain": [
       "<Figure size 432x288 with 1 Axes>"
      ]
     },
     "metadata": {},
     "output_type": "display_data"
    },
    {
     "name": "stdout",
     "output_type": "stream",
     "text": [
      "8856.51826715\n"
     ]
    }
   ],
   "source": [
    "#define BrownBoost hyperparams\n",
    "\n",
    "for c in [.5,1,1.5]:\n",
    "\n",
    "    base_estimator = DecisionTreeClassifier(max_depth=1)\n",
    "\n",
    "    st_time = time.time()\n",
    "    train_sizes, train_scores, valid_scores = learning_curve(\n",
    "        BrownBoost(base_estimator, c=c) ,\n",
    "        X_all, y_all, \n",
    "        #train_sizes=range(1000, X_train.shape[0], 1000), \n",
    "        groups = X_all_split,\n",
    "        scoring = mse_scorer,\n",
    "        n_jobs = -1\n",
    "\n",
    "    )\n",
    "\n",
    "    plot_learning_curve(train_scores, \n",
    "                            valid_scores,\n",
    "                            train_sizes=train_sizes,\n",
    "                       title = 'BrownBoost learning curve (c=%.2f)'%c)\n",
    "\n",
    "    plt.show()\n",
    "    print time.time()-st_time"
   ]
  },
  {
   "cell_type": "code",
   "execution_count": null,
   "metadata": {},
   "outputs": [],
   "source": []
  },
  {
   "cell_type": "code",
   "execution_count": null,
   "metadata": {},
   "outputs": [],
   "source": []
  },
  {
   "cell_type": "markdown",
   "metadata": {},
   "source": [
    "## RobustBoost"
   ]
  },
  {
   "cell_type": "code",
   "execution_count": 113,
   "metadata": {},
   "outputs": [],
   "source": [
    "from MLutils import RobustBoost"
   ]
  },
  {
   "cell_type": "code",
   "execution_count": 114,
   "metadata": {},
   "outputs": [],
   "source": [
    "from sklearn.tree import DecisionTreeClassifier"
   ]
  },
  {
   "cell_type": "code",
   "execution_count": 117,
   "metadata": {},
   "outputs": [],
   "source": [
    "base_estimator = DecisionTreeClassifier(max_depth=1)\n",
    "robustboost = RobustBoost(base_estimator)"
   ]
  },
  {
   "cell_type": "code",
   "execution_count": 118,
   "metadata": {},
   "outputs": [],
   "source": [
    "# prediction = brownboost.predict(X_test)\n",
    "# accuracy = accuracy_score(y_test, prediction)\n",
    "# precision = precision_score(y_test, prediction, pos_label=1, labels=[-1, 1])\n",
    "# recall = recall_score(y_test, prediction, pos_label=1, labels=[-1, 1])\n",
    "# clf_f1_score = f1_score(y_test, prediction, pos_label=1, labels=[-1, 1])\n",
    "# print(\"mean accuracy : %.4f \\n\" % accuracy)\n",
    "# precision, recall, clf_f1_score"
   ]
  },
  {
   "cell_type": "code",
   "execution_count": 119,
   "metadata": {},
   "outputs": [
    {
     "ename": "NameError",
     "evalue": "global name 't' is not defined",
     "output_type": "error",
     "traceback": [
      "\u001b[0;31m---------------------------------------------------------------------------\u001b[0m",
      "\u001b[0;31mNameError\u001b[0m                                 Traceback (most recent call last)",
      "\u001b[0;32m<ipython-input-119-a40744499d2a>\u001b[0m in \u001b[0;36m<module>\u001b[0;34m()\u001b[0m\n\u001b[0;32m----> 1\u001b[0;31m \u001b[0mrobustboost\u001b[0m\u001b[0;34m.\u001b[0m\u001b[0mfit\u001b[0m\u001b[0;34m(\u001b[0m\u001b[0mX_train\u001b[0m\u001b[0;34m,\u001b[0m \u001b[0mnp\u001b[0m\u001b[0;34m.\u001b[0m\u001b[0marray\u001b[0m\u001b[0;34m(\u001b[0m\u001b[0my_train\u001b[0m\u001b[0;34m)\u001b[0m\u001b[0;34m)\u001b[0m\u001b[0;34m\u001b[0m\u001b[0m\n\u001b[0m\u001b[1;32m      2\u001b[0m \u001b[0mpred\u001b[0m \u001b[0;34m=\u001b[0m \u001b[0mrobustboost\u001b[0m\u001b[0;34m.\u001b[0m\u001b[0mpredict\u001b[0m\u001b[0;34m(\u001b[0m\u001b[0mX_train\u001b[0m\u001b[0;34m)\u001b[0m\u001b[0;34m\u001b[0m\u001b[0m\n\u001b[1;32m      3\u001b[0m \u001b[0mf1_train\u001b[0m \u001b[0;34m=\u001b[0m \u001b[0mf1_score\u001b[0m\u001b[0;34m(\u001b[0m\u001b[0my_train\u001b[0m\u001b[0;34m,\u001b[0m\u001b[0mpred\u001b[0m\u001b[0;34m)\u001b[0m\u001b[0;34m\u001b[0m\u001b[0m\n\u001b[1;32m      4\u001b[0m \u001b[0mpred\u001b[0m \u001b[0;34m=\u001b[0m \u001b[0mrobustboost\u001b[0m\u001b[0;34m.\u001b[0m\u001b[0mpredict\u001b[0m\u001b[0;34m(\u001b[0m\u001b[0mX_val\u001b[0m\u001b[0;34m)\u001b[0m\u001b[0;34m\u001b[0m\u001b[0m\n\u001b[1;32m      5\u001b[0m \u001b[0mf1_val\u001b[0m \u001b[0;34m=\u001b[0m \u001b[0mf1_score\u001b[0m\u001b[0;34m(\u001b[0m\u001b[0my_val\u001b[0m\u001b[0;34m,\u001b[0m\u001b[0mpred\u001b[0m\u001b[0;34m)\u001b[0m\u001b[0;34m\u001b[0m\u001b[0m\n",
      "\u001b[0;32m/home/antonis/ipythonNotebooks/snorkel-ml/my-code/MLutils.py\u001b[0m in \u001b[0;36mfit\u001b[0;34m(self, X, y)\u001b[0m\n\u001b[1;32m    566\u001b[0m         \u001b[0mself\u001b[0m\u001b[0;34m.\u001b[0m\u001b[0mrho\u001b[0m \u001b[0;34m=\u001b[0m \u001b[0mself\u001b[0m\u001b[0;34m.\u001b[0m\u001b[0m_calculate_rho\u001b[0m\u001b[0;34m(\u001b[0m\u001b[0;34m)\u001b[0m\u001b[0;34m\u001b[0m\u001b[0m\n\u001b[1;32m    567\u001b[0m \u001b[0;34m\u001b[0m\u001b[0m\n\u001b[0;32m--> 568\u001b[0;31m         \u001b[0;32mwhile\u001b[0m \u001b[0mt\u001b[0m \u001b[0;34m<\u001b[0m \u001b[0;36m1\u001b[0m\u001b[0;34m:\u001b[0m\u001b[0;34m\u001b[0m\u001b[0m\n\u001b[0m\u001b[1;32m    569\u001b[0m             \u001b[0mm_weights_old\u001b[0m \u001b[0;34m=\u001b[0m \u001b[0mcp\u001b[0m\u001b[0;34m.\u001b[0m\u001b[0mdeepcopy\u001b[0m\u001b[0;34m(\u001b[0m\u001b[0mm_weights\u001b[0m\u001b[0;34m)\u001b[0m\u001b[0;34m\u001b[0m\u001b[0m\n\u001b[1;32m    570\u001b[0m             \u001b[0mm_t_old\u001b[0m \u001b[0;34m=\u001b[0m \u001b[0mm_t\u001b[0m\u001b[0;34m\u001b[0m\u001b[0m\n",
      "\u001b[0;31mNameError\u001b[0m: global name 't' is not defined"
     ]
    }
   ],
   "source": [
    "# robustboost.fit(X_train, np.array(y_train))\n",
    "# pred = robustboost.predict(X_train)\n",
    "# f1_train = f1_score(y_train,pred)\n",
    "# pred = robustboost.predict(X_val)\n",
    "# f1_val = f1_score(y_val,pred)\n",
    "# print f1_train,f1_val"
   ]
  },
  {
   "cell_type": "code",
   "execution_count": null,
   "metadata": {},
   "outputs": [],
   "source": []
  },
  {
   "cell_type": "code",
   "execution_count": null,
   "metadata": {},
   "outputs": [],
   "source": []
  },
  {
   "cell_type": "code",
   "execution_count": null,
   "metadata": {},
   "outputs": [],
   "source": []
  },
  {
   "cell_type": "code",
   "execution_count": null,
   "metadata": {},
   "outputs": [],
   "source": []
  }
 ],
 "metadata": {
  "kernelspec": {
   "display_name": "Python [conda env:snorkel27clone]",
   "language": "python",
   "name": "conda-env-snorkel27clone-py"
  },
  "language_info": {
   "codemirror_mode": {
    "name": "ipython",
    "version": 2
   },
   "file_extension": ".py",
   "mimetype": "text/x-python",
   "name": "python",
   "nbconvert_exporter": "python",
   "pygments_lexer": "ipython2",
   "version": "2.7.15"
  }
 },
 "nbformat": 4,
 "nbformat_minor": 2
}
