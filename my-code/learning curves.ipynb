{
 "cells": [
  {
   "cell_type": "code",
   "execution_count": 1,
   "metadata": {},
   "outputs": [
    {
     "name": "stdout",
     "output_type": "stream",
     "text": [
      "Setting up variables & DB connection for experiment:\n",
      "\n",
      "*******************\n",
      "_exp3\n",
      "*******************\n",
      "\n",
      "Snorkel session connected to:  postgres:///snorkel_exp3\n"
     ]
    },
    {
     "name": "stderr",
     "output_type": "stream",
     "text": [
      "/home/antonis/anaconda2/envs/snorkel27clone/lib/python2.7/site-packages/psycopg2/__init__.py:144: UserWarning: The psycopg2 wheel package will be renamed from release 2.8; in order to keep installing from binary please use \"pip install psycopg2-binary\" instead. For details see: <http://initd.org/psycopg/docs/install.html#binary-install-from-pypi>.\n",
      "  \"\"\")\n"
     ]
    }
   ],
   "source": [
    "%load_ext autoreload\n",
    "%autoreload 2\n",
    "%matplotlib inline\n",
    "%run init.py"
   ]
  },
  {
   "cell_type": "code",
   "execution_count": 2,
   "metadata": {},
   "outputs": [],
   "source": [
    "# Rebuild text\n",
    "from sklearn_bridge import recreate_text_representation, candidate_dict_to_df\n",
    "import sklearn, pickle, time, seaborn\n",
    "import pandas as pd\n",
    "import numpy as np\n",
    "from itertools import product"
   ]
  },
  {
   "cell_type": "code",
   "execution_count": 3,
   "metadata": {},
   "outputs": [],
   "source": [
    "from MLutils import report_to_df, train_evaluate, diversity_heatmap"
   ]
  },
  {
   "cell_type": "code",
   "execution_count": 4,
   "metadata": {},
   "outputs": [
    {
     "name": "stdout",
     "output_type": "stream",
     "text": [
      "Split = 0 : imported 3840 candidates\n",
      "Split = 1 : imported 3242 candidates\n",
      "Split = 2 : imported 8221 candidates\n",
      "Split = 3 : imported 14727 candidates\n"
     ]
    }
   ],
   "source": [
    "import pickle\n",
    "with open(path_candidate_dict_pkl, 'rb') as f:\n",
    "    candidate_dict = pickle.load(f)\n",
    "\n",
    "ids = dict()\n",
    "for splt in candidate_dict.keys():\n",
    "    print \"Split = %i : imported %i candidates\" %(splt, len(candidate_dict[splt].keys()))\n",
    "    ids[splt] = set(candidate_dict[splt].keys()) # import candidate ids too"
   ]
  },
  {
   "cell_type": "code",
   "execution_count": null,
   "metadata": {},
   "outputs": [],
   "source": []
  },
  {
   "cell_type": "markdown",
   "metadata": {},
   "source": [
    "** Load cands (as cand objects for LSTM) ** "
   ]
  },
  {
   "cell_type": "code",
   "execution_count": 5,
   "metadata": {},
   "outputs": [],
   "source": [
    "from snorkel.annotations import load_marginals"
   ]
  },
  {
   "cell_type": "code",
   "execution_count": 6,
   "metadata": {},
   "outputs": [
    {
     "name": "stdout",
     "output_type": "stream",
     "text": [
      "Training set:\t3840 candidates\n",
      "Val set:\t3242 candidates\n",
      "Test set:\t8221 candidates\n",
      "Unlab set:\t14727 candidates\n"
     ]
    }
   ],
   "source": [
    "train_cands = session.query(REGULATOR).filter(REGULATOR.split == 0).order_by(REGULATOR.id).all()\n",
    "val_cands = session.query(REGULATOR).filter(REGULATOR.split == 1).order_by(REGULATOR.id).all()\n",
    "test_cands = session.query(REGULATOR).filter(REGULATOR.split == 2).order_by(REGULATOR.id).all()\n",
    "unlab_cands = session.query(REGULATOR).filter(REGULATOR.split == 3).order_by(REGULATOR.id).all()\n",
    "\n",
    "print('Training set:\\t{0} candidates'.format(len(train_cands)))\n",
    "print('Val set:\\t{0} candidates'.format(len(val_cands)))\n",
    "print('Test set:\\t{0} candidates'.format(len(test_cands)))\n",
    "print('Unlab set:\\t{0} candidates'.format(len(unlab_cands)))"
   ]
  },
  {
   "cell_type": "markdown",
   "metadata": {},
   "source": [
    "** Load cands (as ML feature matrix) ** "
   ]
  },
  {
   "cell_type": "code",
   "execution_count": 7,
   "metadata": {},
   "outputs": [],
   "source": [
    "from utils import keep_cands"
   ]
  },
  {
   "cell_type": "code",
   "execution_count": 8,
   "metadata": {},
   "outputs": [
    {
     "name": "stdout",
     "output_type": "stream",
     "text": [
      "Training set:\t3840 candidates\n",
      "Val set:\t3242 candidates\n",
      "Test set:\t8221 candidates\n",
      "Unlab set:\t14727 candidates\n"
     ]
    }
   ],
   "source": [
    "# Decide on text representation\n",
    "trim_text = True\n",
    "trim_window = 5\n",
    "use_lemmas = True\n",
    "\n",
    "df_train = candidate_dict_to_df(candidate_dict[0],trim_text=trim_text, window=trim_window, lemmas = use_lemmas ).sort_index()\n",
    "df_val = candidate_dict_to_df(candidate_dict[1],trim_text=trim_text, window=trim_window, lemmas = use_lemmas ).sort_index()\n",
    "df_test = candidate_dict_to_df(candidate_dict[2],trim_text=trim_text, window=trim_window, lemmas = use_lemmas ).sort_index()\n",
    "df_unlab = candidate_dict_to_df(candidate_dict[3],trim_text=trim_text, window=trim_window, lemmas = use_lemmas ).sort_index()\n",
    "\n",
    "# Drop cands not in database already\n",
    "df_train = keep_cands(df_train,ids[0])\n",
    "df_val = keep_cands(df_val,ids[1])\n",
    "df_test = keep_cands(df_test,ids[2])\n",
    "df_unlab = keep_cands(df_unlab,ids[3])\n",
    "\n",
    "print('Training set:\\t{0} candidates'.format(len(df_train)))\n",
    "print('Val set:\\t{0} candidates'.format(len(df_val)))\n",
    "print('Test set:\\t{0} candidates'.format(len(df_test)))\n",
    "print('Unlab set:\\t{0} candidates'.format(len(df_unlab)))"
   ]
  },
  {
   "cell_type": "code",
   "execution_count": 9,
   "metadata": {},
   "outputs": [],
   "source": [
    "from sklearn.feature_extraction.text import TfidfVectorizer\n",
    "from sklearn.decomposition import TruncatedSVD"
   ]
  },
  {
   "cell_type": "code",
   "execution_count": 10,
   "metadata": {},
   "outputs": [],
   "source": [
    "text_vectorizer = TfidfVectorizer(ngram_range=[0,3])"
   ]
  },
  {
   "cell_type": "code",
   "execution_count": 11,
   "metadata": {},
   "outputs": [],
   "source": [
    "X_train = text_vectorizer.fit_transform(df_train.text)\n",
    "X_val = text_vectorizer.transform(df_val.text)\n",
    "X_test = text_vectorizer.transform(df_test.text)\n",
    "\n",
    "X_unlab = text_vectorizer.transform(df_unlab.text)"
   ]
  },
  {
   "cell_type": "markdown",
   "metadata": {},
   "source": [
    "** Load labels **"
   ]
  },
  {
   "cell_type": "code",
   "execution_count": 12,
   "metadata": {},
   "outputs": [],
   "source": [
    "y_train = np.array(df_train.label)\n",
    "y_val = np.array(df_val.label)\n",
    "y_test = np.array(df_test.label)\n",
    "\n",
    "y_unlab = np.array(df_unlab.label) # WARNING: contains nan (or is nan fully)\n",
    "unlab_marginals = load_marginals(session, split=3) # safe - loads them after ordering by candidate id"
   ]
  },
  {
   "cell_type": "markdown",
   "metadata": {},
   "source": [
    "# Learning curves"
   ]
  },
  {
   "cell_type": "code",
   "execution_count": 13,
   "metadata": {},
   "outputs": [],
   "source": [
    "# from sklearn.model_selection import validation_curve\n",
    "# from sklearn.ensemble import AdaBoostClassifier\n",
    "# from sklearn.utils import shuffle"
   ]
  },
  {
   "cell_type": "markdown",
   "metadata": {},
   "source": [
    "## Write learning_curve function"
   ]
  },
  {
   "cell_type": "code",
   "execution_count": 14,
   "metadata": {},
   "outputs": [],
   "source": [
    "from MLutils import *"
   ]
  },
  {
   "cell_type": "code",
   "execution_count": 15,
   "metadata": {},
   "outputs": [
    {
     "name": "stderr",
     "output_type": "stream",
     "text": [
      "/home/antonis/anaconda2/envs/snorkel27clone/lib/python2.7/site-packages/h5py/__init__.py:36: FutureWarning: Conversion of the second argument of issubdtype from `float` to `np.floating` is deprecated. In future, it will be treated as `np.float64 == np.dtype(float).type`.\n",
      "  from ._conv import register_converters as _register_converters\n"
     ]
    },
    {
     "name": "stdout",
     "output_type": "stream",
     "text": [
      "WARNING:tensorflow:From /home/antonis/anaconda2/envs/snorkel27clone/lib/python2.7/site-packages/tensorflow/contrib/learn/python/learn/datasets/base.py:198: retry (from tensorflow.contrib.learn.python.learn.datasets.base) is deprecated and will be removed in a future version.\n",
      "Instructions for updating:\n",
      "Use the retry module or similar alternatives.\n"
     ]
    }
   ],
   "source": [
    "from sklearn.svm import SVC\n",
    "from sklearn.linear_model import LogisticRegression\n",
    "from snorkel.learning import reRNN"
   ]
  },
  {
   "cell_type": "code",
   "execution_count": 16,
   "metadata": {},
   "outputs": [],
   "source": [
    "# TODO: undersample consistently train candidates"
   ]
  },
  {
   "cell_type": "code",
   "execution_count": 17,
   "metadata": {},
   "outputs": [
    {
     "data": {
      "text/plain": [
       "REGULATOR(Span(\"juglone\", sentence=11193, chars=[45,51], words=[7,7]), Span(\"AR\", sentence=11193, chars=[117,118], words=[20,20]))"
      ]
     },
     "execution_count": 17,
     "metadata": {},
     "output_type": "execute_result"
    }
   ],
   "source": [
    "train_cands[0]"
   ]
  },
  {
   "cell_type": "code",
   "execution_count": 18,
   "metadata": {},
   "outputs": [],
   "source": [
    "from sklearn.utils import shuffle"
   ]
  },
  {
   "cell_type": "code",
   "execution_count": null,
   "metadata": {},
   "outputs": [],
   "source": []
  },
  {
   "cell_type": "code",
   "execution_count": 19,
   "metadata": {},
   "outputs": [],
   "source": [
    "# Balance & shuffle indices\n",
    "from imblearn.under_sampling import RandomUnderSampler\n",
    "rus = RandomUnderSampler(random_state=42,return_indices=True)\n",
    "X_train,y_train, ind = rus.fit_sample(X_train,y_train)\n",
    "train_cands = [train_cands[i] for i in ind] \n",
    "\n",
    "# X_train,y_train, ind = shuffle(X_train,y_train, ind )\n",
    "\n",
    "ind = range(len(y_train))\n",
    "X_train,y_train, train_cands = shuffle(X_train,y_train, train_cands )\n"
   ]
  },
  {
   "cell_type": "code",
   "execution_count": null,
   "metadata": {},
   "outputs": [],
   "source": []
  },
  {
   "cell_type": "code",
   "execution_count": 20,
   "metadata": {},
   "outputs": [],
   "source": [
    "# label integrity check\n",
    "for i in range(len(train_cands)):\n",
    "    if not train_cands[i].gold_labels[0].value == y_train[i]:\n",
    "        print 'Label missmatch',i\n",
    "        raise ValueError('Label missmatch (index %i)'%i)"
   ]
  },
  {
   "cell_type": "code",
   "execution_count": 21,
   "metadata": {},
   "outputs": [],
   "source": [
    "from scipy.sparse import csr_matrix,vstack\n",
    "import numpy as np\n",
    "from sklearn.model_selection import cross_val_score,train_test_split\n",
    "from sklearn.utils import shuffle\n",
    "from copy import deepcopy"
   ]
  },
  {
   "cell_type": "markdown",
   "metadata": {},
   "source": [
    "** Given X_train, y_train (full training set to perform incremental splits)\n",
    "and optionally X_init, y_init (to start the initial validation curve from that point onwards) **"
   ]
  },
  {
   "cell_type": "code",
   "execution_count": 22,
   "metadata": {},
   "outputs": [
    {
     "name": "stdout",
     "output_type": "stream",
     "text": [
      "X_init (2060, 29546) 2060\n",
      "X_increm (8221, 29546) 8221\n"
     ]
    }
   ],
   "source": [
    "### define function inputs  ###\n",
    "\n",
    "clf = LogisticRegression()\n",
    "cv_splits = 3 # for cross-validating and finding variance in VALIDATION set\n",
    "# X_init: the training dataset on beginning of the learning curve (spot 0)\n",
    "# X_increm: the additional examples for plotting incremental learning curves\n",
    "\n",
    "## construct dummy dataset\n",
    "splt_sizes = np.array([ 0.1, 0.33, 0.55, 0.78, 1.])\n",
    "\n",
    "X_init, y_init = X_train, y_train\n",
    "X_increm, y_increm = X_test, y_test\n",
    "\n",
    "print 'X_init', X_init.shape, len(y_init)\n",
    "print 'X_increm', X_increm.shape, len(y_increm)\n"
   ]
  },
  {
   "cell_type": "code",
   "execution_count": null,
   "metadata": {},
   "outputs": [],
   "source": []
  },
  {
   "cell_type": "code",
   "execution_count": 23,
   "metadata": {},
   "outputs": [
    {
     "data": {
      "text/plain": [
       "<14727x29546 sparse matrix of type '<type 'numpy.float64'>'\n",
       "\twith 455730 stored elements in Compressed Sparse Row format>"
      ]
     },
     "execution_count": 23,
     "metadata": {},
     "output_type": "execute_result"
    }
   ],
   "source": [
    "X_unlab"
   ]
  },
  {
   "cell_type": "code",
   "execution_count": 28,
   "metadata": {
    "scrolled": false
   },
   "outputs": [
    {
     "name": "stdout",
     "output_type": "stream",
     "text": [
      "[0.00000000e+00 2.99626534e-04 8.08581025e-04 9.34727710e-04\n",
      " 2.51976470e-03 2.06688936e-02 3.23881431e-02 4.79251720e-02\n",
      " 5.39117891e-02 6.18100766e-02 8.28845022e-02 9.46029700e-02\n",
      " 1.19649926e-01 1.35796738e-01 1.51018803e-01 2.20040329e-01\n",
      " 2.97883789e-01 7.02116211e-01 7.79959671e-01 8.48981197e-01\n",
      " 8.64203262e-01 8.80350074e-01 9.05397030e-01 9.17115498e-01\n",
      " 9.38189923e-01 9.46088211e-01 9.52074828e-01 9.67611857e-01\n",
      " 9.79331106e-01 9.97480235e-01 9.99065272e-01 9.99191419e-01\n",
      " 9.99700373e-01 1.00000000e+00]\n",
      "<type 'numpy.ndarray'> <class 'scipy.sparse.csr.csr_matrix'>\n",
      "[0 0 1 ... 1 0 1]\n",
      "pred values [0 1]\n",
      "y merged eval [0 1]\n",
      "<type 'numpy.ndarray'> <class 'scipy.sparse.csr.csr_matrix'>\n",
      "[0 0 0 ... 0 1 0]\n",
      "pred values [0 1]\n",
      "y merged eval [0 1]\n",
      "<type 'numpy.ndarray'> <class 'scipy.sparse.csr.csr_matrix'>\n",
      "[0 0 0 ... 0 1 0]\n",
      "pred values [0 1]\n",
      "y merged eval [0 1]\n"
     ]
    },
    {
     "data": {
      "text/plain": [
       "<module 'matplotlib.pyplot' from '/home/antonis/anaconda2/envs/snorkel27clone/lib/python2.7/site-packages/matplotlib/pyplot.pyc'>"
      ]
     },
     "execution_count": 28,
     "metadata": {},
     "output_type": "execute_result"
    },
    {
     "data": {
      "image/png": "[encoded data removed]",
      "text/plain": [
       "<Figure size 432x288 with 1 Axes>"
      ]
     },
     "metadata": {},
     "output_type": "display_data"
    },
    {
     "data": {
      "image/png": "[encoded data removed]",
      "text/plain": [
       "<Figure size 432x288 with 1 Axes>"
      ]
     },
     "metadata": {},
     "output_type": "display_data"
    }
   ],
   "source": [
    "# with ML model\n",
    "clf = LogisticRegression()\n",
    "from MLutils import custom_learning_curve\n",
    "\n",
    "\n",
    "train_sizes, train_mse, train_f1, valid_mse , valid_f1 , test_prf1 = custom_learning_curve(\n",
    "    clf, X_unlab, unlab_marginals, X_val, y_val, X_init= X_train, y_init=y_train,\n",
    "                      X_test = X_test, y_test = y_test, \n",
    "                      splt_sizes=np.array([0.1, 0.5, 1.  ])\n",
    "                     )\n",
    "\n",
    "plot_learning_curve(train_mse,valid_mse,train_sizes, 'MSE (P=%.2f,R=%.2f,F1=%.2f)'%(test_prf1))\n",
    "\n",
    "plot_learning_curve(train_f1,valid_f1,train_sizes, title='F1 (P=%.2f,R=%.2f,F1=%.2f)'%(test_prf1))\n"
   ]
  },
  {
   "cell_type": "code",
   "execution_count": null,
   "metadata": {},
   "outputs": [],
   "source": []
  },
  {
   "cell_type": "code",
   "execution_count": 154,
   "metadata": {},
   "outputs": [
    {
     "data": {
      "text/plain": [
       "array([2.99626534e-04, 2.99626534e-04, 2.99626534e-04, ...,\n",
       "       9.99191419e-01, 9.99191419e-01, 2.99626534e-04])"
      ]
     },
     "execution_count": 154,
     "metadata": {},
     "output_type": "execute_result"
    }
   ],
   "source": [
    "unlab_marginals"
   ]
  },
  {
   "cell_type": "code",
   "execution_count": null,
   "metadata": {},
   "outputs": [],
   "source": []
  },
  {
   "cell_type": "code",
   "execution_count": 29,
   "metadata": {
    "scrolled": false
   },
   "outputs": [
    {
     "data": {
      "text/plain": [
       "(0.6450304259634888, 0.4808467741935484, 0.5509673693329483)"
      ]
     },
     "execution_count": 29,
     "metadata": {},
     "output_type": "execute_result"
    }
   ],
   "source": [
    "test_prf1"
   ]
  },
  {
   "cell_type": "code",
   "execution_count": null,
   "metadata": {},
   "outputs": [],
   "source": []
  },
  {
   "cell_type": "markdown",
   "metadata": {},
   "source": [
    "** Learning curves with snorkel RNN **"
   ]
  },
  {
   "cell_type": "code",
   "execution_count": 30,
   "metadata": {},
   "outputs": [],
   "source": [
    "from sklearn.model_selection import learning_curve"
   ]
  },
  {
   "cell_type": "code",
   "execution_count": 62,
   "metadata": {},
   "outputs": [],
   "source": [
    "clf = reRNN(seed=1701, deterministic=True)"
   ]
  },
  {
   "cell_type": "code",
   "execution_count": 32,
   "metadata": {},
   "outputs": [],
   "source": [
    "# get train, val, test, ids\n",
    "# query db for candidates (ordered by etc....)\n",
    "# feed also labels.\n"
   ]
  },
  {
   "cell_type": "code",
   "execution_count": null,
   "metadata": {},
   "outputs": [],
   "source": [
    "unlab_cands"
   ]
  },
  {
   "cell_type": "code",
   "execution_count": 132,
   "metadata": {},
   "outputs": [],
   "source": [
    "a = np.array([1,2.,3,])"
   ]
  },
  {
   "cell_type": "code",
   "execution_count": 133,
   "metadata": {},
   "outputs": [
    {
     "data": {
      "text/plain": [
       "array([1, 2, 3])"
      ]
     },
     "execution_count": 133,
     "metadata": {},
     "output_type": "execute_result"
    }
   ],
   "source": [
    "a.astype(int)"
   ]
  },
  {
   "cell_type": "code",
   "execution_count": 148,
   "metadata": {},
   "outputs": [
    {
     "name": "stdout",
     "output_type": "stream",
     "text": [
      "[0.00000000e+00 2.99626534e-04 8.08581025e-04 9.34727710e-04\n",
      " 2.51976470e-03 2.06688936e-02 3.23881431e-02 4.79251720e-02\n",
      " 5.39117891e-02 6.18100766e-02 8.28845022e-02 9.46029700e-02\n",
      " 1.19649926e-01 1.35796738e-01 1.51018803e-01 2.20040329e-01\n",
      " 2.97883789e-01 7.02116211e-01 7.79959671e-01 8.48981197e-01\n",
      " 8.64203262e-01 8.80350074e-01 9.05397030e-01 9.17115498e-01\n",
      " 9.38189923e-01 9.46088211e-01 9.52074828e-01 9.67611857e-01\n",
      " 9.79331106e-01 9.97480235e-01 9.99065272e-01 9.99191419e-01\n",
      " 9.99700373e-01 1.00000000e+00]\n",
      "<type 'numpy.ndarray'> <type 'list'>\n"
     ]
    },
    {
     "name": "stderr",
     "output_type": "stream",
     "text": [
      "/home/antonis/anaconda2/envs/snorkel27clone/lib/python2.7/site-packages/tensorflow/python/ops/gradients_impl.py:100: UserWarning: Converting sparse IndexedSlices to a dense Tensor of unknown shape. This may consume a large amount of memory.\n",
      "  \"Converting sparse IndexedSlices to a dense Tensor of unknown shape. \"\n"
     ]
    },
    {
     "name": "stdout",
     "output_type": "stream",
     "text": [
      "[reRNN] Training model\n",
      "[reRNN] n_train=2060  #epochs=5  batch size=64\n",
      "[reRNN] Epoch 0 (5.63s)\tAverage loss=0.695932\tDev F1=20.38\n",
      "[reRNN] Epoch 1 (13.85s)\tAverage loss=0.668709\tDev F1=30.00\n",
      "[reRNN] Model saved as <reRNN>\n",
      "[reRNN] Epoch 2 (22.11s)\tAverage loss=0.596815\tDev F1=29.22\n",
      "[reRNN] Epoch 3 (30.35s)\tAverage loss=0.553697\tDev F1=29.29\n",
      "[reRNN] Epoch 4 (38.56s)\tAverage loss=0.498617\tDev F1=29.42\n",
      "[reRNN] Training done (41.31s)\n",
      "INFO:tensorflow:Restoring parameters from checkpoints/reRNN/reRNN-1\n",
      "[reRNN] Loaded model <reRNN>\n",
      "[0. 1.]\n",
      "[0. 1.]\n"
     ]
    },
    {
     "name": "stderr",
     "output_type": "stream",
     "text": [
      "/home/antonis/ipythonNotebooks/snorkel-ml/snorkel/learning/disc_models/rnn/rnn_base.py:40: UserWarning: Candidate 632 has argument past max length for model:\t[arg ends at index 148; max len 117]\n",
      "  warnings.warn('\\t'.join([w.format(i), info]))\n",
      "/home/antonis/ipythonNotebooks/snorkel-ml/snorkel/learning/disc_models/rnn/rnn_base.py:40: UserWarning: Candidate 635 has argument past max length for model:\t[arg ends at index 120; max len 117]\n",
      "  warnings.warn('\\t'.join([w.format(i), info]))\n",
      "/home/antonis/ipythonNotebooks/snorkel-ml/snorkel/learning/disc_models/rnn/rnn_base.py:40: UserWarning: Candidate 643 has argument past max length for model:\t[arg ends at index 133; max len 117]\n",
      "  warnings.warn('\\t'.join([w.format(i), info]))\n",
      "/home/antonis/ipythonNotebooks/snorkel-ml/snorkel/learning/disc_models/rnn/rnn_base.py:40: UserWarning: Candidate 646 has argument past max length for model:\t[arg ends at index 125; max len 117]\n",
      "  warnings.warn('\\t'.join([w.format(i), info]))\n",
      "/home/antonis/ipythonNotebooks/snorkel-ml/snorkel/learning/disc_models/rnn/rnn_base.py:40: UserWarning: Candidate 657 has argument past max length for model:\t[arg ends at index 120; max len 117]\n",
      "  warnings.warn('\\t'.join([w.format(i), info]))\n",
      "/home/antonis/ipythonNotebooks/snorkel-ml/snorkel/learning/disc_models/rnn/rnn_base.py:40: UserWarning: Candidate 666 has argument past max length for model:\t[arg ends at index 133; max len 117]\n",
      "  warnings.warn('\\t'.join([w.format(i), info]))\n",
      "/home/antonis/ipythonNotebooks/snorkel-ml/snorkel/learning/disc_models/rnn/rnn_base.py:40: UserWarning: Candidate 669 has argument past max length for model:\t[arg ends at index 145; max len 117]\n",
      "  warnings.warn('\\t'.join([w.format(i), info]))\n",
      "/home/antonis/ipythonNotebooks/snorkel-ml/snorkel/learning/disc_models/rnn/rnn_base.py:40: UserWarning: Candidate 605 has argument past max length for model:\t[arg ends at index 148; max len 117]\n",
      "  warnings.warn('\\t'.join([w.format(i), info]))\n",
      "/home/antonis/ipythonNotebooks/snorkel-ml/snorkel/learning/disc_models/rnn/rnn_base.py:40: UserWarning: Candidate 608 has argument past max length for model:\t[arg ends at index 148; max len 117]\n",
      "  warnings.warn('\\t'.join([w.format(i), info]))\n",
      "/home/antonis/ipythonNotebooks/snorkel-ml/snorkel/learning/disc_models/rnn/rnn_base.py:40: UserWarning: Candidate 614 has argument past max length for model:\t[arg ends at index 122; max len 117]\n",
      "  warnings.warn('\\t'.join([w.format(i), info]))\n",
      "/home/antonis/ipythonNotebooks/snorkel-ml/snorkel/learning/disc_models/rnn/rnn_base.py:40: UserWarning: Candidate 616 has argument past max length for model:\t[arg ends at index 133; max len 117]\n",
      "  warnings.warn('\\t'.join([w.format(i), info]))\n",
      "/home/antonis/ipythonNotebooks/snorkel-ml/snorkel/learning/disc_models/rnn/rnn_base.py:40: UserWarning: Candidate 621 has argument past max length for model:\t[arg ends at index 172; max len 117]\n",
      "  warnings.warn('\\t'.join([w.format(i), info]))\n",
      "/home/antonis/ipythonNotebooks/snorkel-ml/snorkel/learning/disc_models/rnn/rnn_base.py:40: UserWarning: Candidate 625 has argument past max length for model:\t[arg ends at index 172; max len 117]\n",
      "  warnings.warn('\\t'.join([w.format(i), info]))\n",
      "/home/antonis/ipythonNotebooks/snorkel-ml/snorkel/learning/disc_models/rnn/rnn_base.py:40: UserWarning: Candidate 629 has argument past max length for model:\t[arg ends at index 145; max len 117]\n",
      "  warnings.warn('\\t'.join([w.format(i), info]))\n",
      "/home/antonis/ipythonNotebooks/snorkel-ml/snorkel/learning/disc_models/rnn/rnn_base.py:40: UserWarning: Candidate 637 has argument past max length for model:\t[arg ends at index 122; max len 117]\n",
      "  warnings.warn('\\t'.join([w.format(i), info]))\n",
      "/home/antonis/ipythonNotebooks/snorkel-ml/snorkel/learning/disc_models/rnn/rnn_base.py:40: UserWarning: Candidate 640 has argument past max length for model:\t[arg ends at index 133; max len 117]\n",
      "  warnings.warn('\\t'.join([w.format(i), info]))\n",
      "/home/antonis/ipythonNotebooks/snorkel-ml/snorkel/learning/disc_models/rnn/rnn_base.py:40: UserWarning: Candidate 643 has argument past max length for model:\t[arg ends at index 172; max len 117]\n",
      "  warnings.warn('\\t'.join([w.format(i), info]))\n",
      "/home/antonis/ipythonNotebooks/snorkel-ml/snorkel/learning/disc_models/rnn/rnn_base.py:40: UserWarning: Candidate 650 has argument past max length for model:\t[arg ends at index 120; max len 117]\n",
      "  warnings.warn('\\t'.join([w.format(i), info]))\n",
      "/home/antonis/ipythonNotebooks/snorkel-ml/snorkel/learning/disc_models/rnn/rnn_base.py:40: UserWarning: Candidate 653 has argument past max length for model:\t[arg ends at index 122; max len 117]\n",
      "  warnings.warn('\\t'.join([w.format(i), info]))\n",
      "/home/antonis/ipythonNotebooks/snorkel-ml/snorkel/learning/disc_models/rnn/rnn_base.py:40: UserWarning: Candidate 597 has argument past max length for model:\t[arg ends at index 172; max len 117]\n",
      "  warnings.warn('\\t'.join([w.format(i), info]))\n",
      "/home/antonis/ipythonNotebooks/snorkel-ml/snorkel/learning/disc_models/rnn/rnn_base.py:40: UserWarning: Candidate 599 has argument past max length for model:\t[arg ends at index 148; max len 117]\n",
      "  warnings.warn('\\t'.join([w.format(i), info]))\n",
      "/home/antonis/ipythonNotebooks/snorkel-ml/snorkel/learning/disc_models/rnn/rnn_base.py:40: UserWarning: Candidate 602 has argument past max length for model:\t[arg ends at index 148; max len 117]\n",
      "  warnings.warn('\\t'.join([w.format(i), info]))\n",
      "/home/antonis/ipythonNotebooks/snorkel-ml/snorkel/learning/disc_models/rnn/rnn_base.py:40: UserWarning: Candidate 605 has argument past max length for model:\t[arg ends at index 148; max len 117]\n",
      "  warnings.warn('\\t'.join([w.format(i), info]))\n",
      "/home/antonis/ipythonNotebooks/snorkel-ml/snorkel/learning/disc_models/rnn/rnn_base.py:40: UserWarning: Candidate 608 has argument past max length for model:\t[arg ends at index 172; max len 117]\n",
      "  warnings.warn('\\t'.join([w.format(i), info]))\n",
      "/home/antonis/ipythonNotebooks/snorkel-ml/snorkel/learning/disc_models/rnn/rnn_base.py:40: UserWarning: Candidate 614 has argument past max length for model:\t[arg ends at index 145; max len 117]\n",
      "  warnings.warn('\\t'.join([w.format(i), info]))\n",
      "/home/antonis/ipythonNotebooks/snorkel-ml/snorkel/learning/disc_models/rnn/rnn_base.py:40: UserWarning: Candidate 618 has argument past max length for model:\t[arg ends at index 120; max len 117]\n",
      "  warnings.warn('\\t'.join([w.format(i), info]))\n",
      "/home/antonis/ipythonNotebooks/snorkel-ml/snorkel/learning/disc_models/rnn/rnn_base.py:40: UserWarning: Candidate 619 has argument past max length for model:\t[arg ends at index 122; max len 117]\n",
      "  warnings.warn('\\t'.join([w.format(i), info]))\n",
      "/home/antonis/ipythonNotebooks/snorkel-ml/snorkel/learning/disc_models/rnn/rnn_base.py:40: UserWarning: Candidate 621 has argument past max length for model:\t[arg ends at index 145; max len 117]\n",
      "  warnings.warn('\\t'.join([w.format(i), info]))\n",
      "/home/antonis/ipythonNotebooks/snorkel-ml/snorkel/learning/disc_models/rnn/rnn_base.py:40: UserWarning: Candidate 623 has argument past max length for model:\t[arg ends at index 125; max len 117]\n",
      "  warnings.warn('\\t'.join([w.format(i), info]))\n",
      "/home/antonis/ipythonNotebooks/snorkel-ml/snorkel/learning/disc_models/rnn/rnn_base.py:40: UserWarning: Candidate 624 has argument past max length for model:\t[arg ends at index 125; max len 117]\n",
      "  warnings.warn('\\t'.join([w.format(i), info]))\n",
      "/home/antonis/ipythonNotebooks/snorkel-ml/snorkel/learning/disc_models/rnn/rnn_base.py:40: UserWarning: Candidate 628 has argument past max length for model:\t[arg ends at index 125; max len 117]\n",
      "  warnings.warn('\\t'.join([w.format(i), info]))\n",
      "/home/antonis/ipythonNotebooks/snorkel-ml/snorkel/learning/disc_models/rnn/rnn_base.py:40: UserWarning: Candidate 630 has argument past max length for model:\t[arg ends at index 133; max len 117]\n",
      "  warnings.warn('\\t'.join([w.format(i), info]))\n",
      "/home/antonis/ipythonNotebooks/snorkel-ml/snorkel/learning/disc_models/rnn/rnn_base.py:40: UserWarning: Candidate 631 has argument past max length for model:\t[arg ends at index 172; max len 117]\n",
      "  warnings.warn('\\t'.join([w.format(i), info]))\n",
      "/home/antonis/ipythonNotebooks/snorkel-ml/snorkel/learning/disc_models/rnn/rnn_base.py:40: UserWarning: Candidate 641 has argument past max length for model:\t[arg ends at index 145; max len 117]\n",
      "  warnings.warn('\\t'.join([w.format(i), info]))\n"
     ]
    },
    {
     "name": "stderr",
     "output_type": "stream",
     "text": [
      "/home/antonis/ipythonNotebooks/snorkel-ml/snorkel/learning/disc_models/rnn/rnn_base.py:40: UserWarning: Candidate 2825 has argument past max length for model:\t[arg ends at index 117; max len 117]\n",
      "  warnings.warn('\\t'.join([w.format(i), info]))\n",
      "/home/antonis/ipythonNotebooks/snorkel-ml/snorkel/learning/disc_models/rnn/rnn_base.py:40: UserWarning: Candidate 2830 has argument past max length for model:\t[arg ends at index 117; max len 117]\n",
      "  warnings.warn('\\t'.join([w.format(i), info]))\n",
      "/home/antonis/ipythonNotebooks/snorkel-ml/snorkel/learning/disc_models/rnn/rnn_base.py:40: UserWarning: Candidate 2834 has argument past max length for model:\t[arg ends at index 117; max len 117]\n",
      "  warnings.warn('\\t'.join([w.format(i), info]))\n",
      "/home/antonis/ipythonNotebooks/snorkel-ml/snorkel/learning/disc_models/rnn/rnn_base.py:40: UserWarning: Candidate 5256 has argument past max length for model:\t[arg ends at index 131; max len 117]\n",
      "  warnings.warn('\\t'.join([w.format(i), info]))\n",
      "/home/antonis/ipythonNotebooks/snorkel-ml/snorkel/learning/disc_models/rnn/rnn_base.py:40: UserWarning: Candidate 5261 has argument past max length for model:\t[arg ends at index 137; max len 117]\n",
      "  warnings.warn('\\t'.join([w.format(i), info]))\n",
      "/home/antonis/ipythonNotebooks/snorkel-ml/snorkel/learning/disc_models/rnn/rnn_base.py:40: UserWarning: Candidate 5286 has argument past max length for model:\t[arg ends at index 164; max len 117]\n",
      "  warnings.warn('\\t'.join([w.format(i), info]))\n",
      "/home/antonis/ipythonNotebooks/snorkel-ml/snorkel/learning/disc_models/rnn/rnn_base.py:40: UserWarning: Candidate 5289 has argument past max length for model:\t[arg ends at index 131; max len 117]\n",
      "  warnings.warn('\\t'.join([w.format(i), info]))\n",
      "/home/antonis/ipythonNotebooks/snorkel-ml/snorkel/learning/disc_models/rnn/rnn_base.py:40: UserWarning: Candidate 5292 has argument past max length for model:\t[arg ends at index 137; max len 117]\n",
      "  warnings.warn('\\t'.join([w.format(i), info]))\n",
      "/home/antonis/ipythonNotebooks/snorkel-ml/snorkel/learning/disc_models/rnn/rnn_base.py:40: UserWarning: Candidate 5310 has argument past max length for model:\t[arg ends at index 164; max len 117]\n",
      "  warnings.warn('\\t'.join([w.format(i), info]))\n",
      "/home/antonis/ipythonNotebooks/snorkel-ml/snorkel/learning/disc_models/rnn/rnn_base.py:40: UserWarning: Candidate 5314 has argument past max length for model:\t[arg ends at index 131; max len 117]\n",
      "  warnings.warn('\\t'.join([w.format(i), info]))\n",
      "/home/antonis/ipythonNotebooks/snorkel-ml/snorkel/learning/disc_models/rnn/rnn_base.py:40: UserWarning: Candidate 5316 has argument past max length for model:\t[arg ends at index 137; max len 117]\n",
      "  warnings.warn('\\t'.join([w.format(i), info]))\n",
      "/home/antonis/ipythonNotebooks/snorkel-ml/snorkel/learning/disc_models/rnn/rnn_base.py:40: UserWarning: Candidate 5337 has argument past max length for model:\t[arg ends at index 164; max len 117]\n",
      "  warnings.warn('\\t'.join([w.format(i), info]))\n",
      "/home/antonis/ipythonNotebooks/snorkel-ml/snorkel/learning/disc_models/rnn/rnn_base.py:40: UserWarning: Candidate 5340 has argument past max length for model:\t[arg ends at index 160; max len 117]\n",
      "  warnings.warn('\\t'.join([w.format(i), info]))\n",
      "/home/antonis/ipythonNotebooks/snorkel-ml/snorkel/learning/disc_models/rnn/rnn_base.py:40: UserWarning: Candidate 5343 has argument past max length for model:\t[arg ends at index 160; max len 117]\n",
      "  warnings.warn('\\t'.join([w.format(i), info]))\n",
      "/home/antonis/ipythonNotebooks/snorkel-ml/snorkel/learning/disc_models/rnn/rnn_base.py:40: UserWarning: Candidate 5346 has argument past max length for model:\t[arg ends at index 160; max len 117]\n",
      "  warnings.warn('\\t'.join([w.format(i), info]))\n",
      "/home/antonis/ipythonNotebooks/snorkel-ml/snorkel/learning/disc_models/rnn/rnn_base.py:40: UserWarning: Candidate 5353 has argument past max length for model:\t[arg ends at index 160; max len 117]\n",
      "  warnings.warn('\\t'.join([w.format(i), info]))\n",
      "/home/antonis/ipythonNotebooks/snorkel-ml/snorkel/learning/disc_models/rnn/rnn_base.py:40: UserWarning: Candidate 5358 has argument past max length for model:\t[arg ends at index 160; max len 117]\n",
      "  warnings.warn('\\t'.join([w.format(i), info]))\n",
      "/home/antonis/ipythonNotebooks/snorkel-ml/snorkel/learning/disc_models/rnn/rnn_base.py:40: UserWarning: Candidate 5362 has argument past max length for model:\t[arg ends at index 160; max len 117]\n",
      "  warnings.warn('\\t'.join([w.format(i), info]))\n",
      "/home/antonis/ipythonNotebooks/snorkel-ml/snorkel/learning/disc_models/rnn/rnn_base.py:40: UserWarning: Candidate 5368 has argument past max length for model:\t[arg ends at index 160; max len 117]\n",
      "  warnings.warn('\\t'.join([w.format(i), info]))\n",
      "/home/antonis/ipythonNotebooks/snorkel-ml/snorkel/learning/disc_models/rnn/rnn_base.py:40: UserWarning: Candidate 5372 has argument past max length for model:\t[arg ends at index 164; max len 117]\n",
      "  warnings.warn('\\t'.join([w.format(i), info]))\n",
      "/home/antonis/ipythonNotebooks/snorkel-ml/snorkel/learning/disc_models/rnn/rnn_base.py:40: UserWarning: Candidate 5376 has argument past max length for model:\t[arg ends at index 131; max len 117]\n",
      "  warnings.warn('\\t'.join([w.format(i), info]))\n",
      "/home/antonis/ipythonNotebooks/snorkel-ml/snorkel/learning/disc_models/rnn/rnn_base.py:40: UserWarning: Candidate 5381 has argument past max length for model:\t[arg ends at index 137; max len 117]\n",
      "  warnings.warn('\\t'.join([w.format(i), info]))\n",
      "/home/antonis/ipythonNotebooks/snorkel-ml/snorkel/learning/disc_models/rnn/rnn_base.py:40: UserWarning: Candidate 5404 has argument past max length for model:\t[arg ends at index 164; max len 117]\n",
      "  warnings.warn('\\t'.join([w.format(i), info]))\n",
      "/home/antonis/ipythonNotebooks/snorkel-ml/snorkel/learning/disc_models/rnn/rnn_base.py:40: UserWarning: Candidate 5408 has argument past max length for model:\t[arg ends at index 131; max len 117]\n",
      "  warnings.warn('\\t'.join([w.format(i), info]))\n",
      "/home/antonis/ipythonNotebooks/snorkel-ml/snorkel/learning/disc_models/rnn/rnn_base.py:40: UserWarning: Candidate 5413 has argument past max length for model:\t[arg ends at index 137; max len 117]\n",
      "  warnings.warn('\\t'.join([w.format(i), info]))\n",
      "/home/antonis/ipythonNotebooks/snorkel-ml/snorkel/learning/disc_models/rnn/rnn_base.py:40: UserWarning: Candidate 5434 has argument past max length for model:\t[arg ends at index 164; max len 117]\n",
      "  warnings.warn('\\t'.join([w.format(i), info]))\n",
      "/home/antonis/ipythonNotebooks/snorkel-ml/snorkel/learning/disc_models/rnn/rnn_base.py:40: UserWarning: Candidate 5439 has argument past max length for model:\t[arg ends at index 131; max len 117]\n",
      "  warnings.warn('\\t'.join([w.format(i), info]))\n",
      "/home/antonis/ipythonNotebooks/snorkel-ml/snorkel/learning/disc_models/rnn/rnn_base.py:40: UserWarning: Candidate 5441 has argument past max length for model:\t[arg ends at index 137; max len 117]\n",
      "  warnings.warn('\\t'.join([w.format(i), info]))\n",
      "/home/antonis/ipythonNotebooks/snorkel-ml/snorkel/learning/disc_models/rnn/rnn_base.py:40: UserWarning: Candidate 5460 has argument past max length for model:\t[arg ends at index 164; max len 117]\n",
      "  warnings.warn('\\t'.join([w.format(i), info]))\n"
     ]
    },
    {
     "name": "stdout",
     "output_type": "stream",
     "text": [
      "<type 'numpy.ndarray'> <type 'list'>\n"
     ]
    },
    {
     "name": "stderr",
     "output_type": "stream",
     "text": [
      "/home/antonis/anaconda2/envs/snorkel27clone/lib/python2.7/site-packages/tensorflow/python/ops/gradients_impl.py:100: UserWarning: Converting sparse IndexedSlices to a dense Tensor of unknown shape. This may consume a large amount of memory.\n",
      "  \"Converting sparse IndexedSlices to a dense Tensor of unknown shape. \"\n"
     ]
    },
    {
     "name": "stdout",
     "output_type": "stream",
     "text": [
      "[reRNN] Training model\n",
      "[reRNN] n_train=6008  #epochs=5  batch size=64\n",
      "[reRNN] Epoch 0 (22.60s)\tAverage loss=0.623157\tDev F1=43.59\n",
      "[reRNN] Epoch 1 (48.80s)\tAverage loss=0.429453\tDev F1=42.84\n",
      "[reRNN] Model saved as <reRNN>\n",
      "[reRNN] Epoch 2 (76.53s)\tAverage loss=0.342279\tDev F1=42.63\n",
      "[reRNN] Epoch 3 (102.57s)\tAverage loss=0.292739\tDev F1=46.51\n",
      "[reRNN] Model saved as <reRNN>\n",
      "[reRNN] Epoch 4 (128.40s)\tAverage loss=0.260915\tDev F1=43.85\n",
      "[reRNN] Training done (132.19s)\n",
      "INFO:tensorflow:Restoring parameters from checkpoints/reRNN/reRNN-3\n",
      "[reRNN] Loaded model <reRNN>\n",
      "[0. 1.]\n",
      "[0. 1.]\n",
      "<type 'numpy.ndarray'> <type 'list'>\n"
     ]
    },
    {
     "name": "stderr",
     "output_type": "stream",
     "text": [
      "/home/antonis/anaconda2/envs/snorkel27clone/lib/python2.7/site-packages/tensorflow/python/ops/gradients_impl.py:100: UserWarning: Converting sparse IndexedSlices to a dense Tensor of unknown shape. This may consume a large amount of memory.\n",
      "  \"Converting sparse IndexedSlices to a dense Tensor of unknown shape. \"\n"
     ]
    },
    {
     "name": "stdout",
     "output_type": "stream",
     "text": [
      "[reRNN] Training model\n",
      "[reRNN] n_train=9818  #epochs=5  batch size=64\n",
      "[reRNN] Epoch 0 (35.97s)\tAverage loss=0.572950\tDev F1=50.69\n",
      "[reRNN] Epoch 1 (76.01s)\tAverage loss=0.405342\tDev F1=43.88\n",
      "[reRNN] Model saved as <reRNN>\n",
      "[reRNN] Epoch 2 (116.93s)\tAverage loss=0.333071\tDev F1=52.12\n",
      "[reRNN] Model saved as <reRNN>\n",
      "[reRNN] Epoch 3 (157.54s)\tAverage loss=0.285178\tDev F1=45.69\n",
      "[reRNN] Epoch 4 (197.73s)\tAverage loss=0.256897\tDev F1=50.08\n",
      "[reRNN] Training done (201.57s)\n",
      "INFO:tensorflow:Restoring parameters from checkpoints/reRNN/reRNN-2\n",
      "[reRNN] Loaded model <reRNN>\n",
      "[0. 1.]\n",
      "[0. 1.]\n"
     ]
    },
    {
     "data": {
      "text/plain": [
       "<module 'matplotlib.pyplot' from '/home/antonis/anaconda2/envs/snorkel27clone/lib/python2.7/site-packages/matplotlib/pyplot.pyc'>"
      ]
     },
     "execution_count": 148,
     "metadata": {},
     "output_type": "execute_result"
    },
    {
     "data": {
      "image/png": "[encoded data removed]",
      "text/plain": [
       "<Figure size 432x288 with 1 Axes>"
      ]
     },
     "metadata": {},
     "output_type": "display_data"
    },
    {
     "data": {
      "image/png": "[encoded data removed]",
      "text/plain": [
       "<Figure size 432x288 with 1 Axes>"
      ]
     },
     "metadata": {},
     "output_type": "display_data"
    }
   ],
   "source": [
    "## with LSTM (Gold ---> unlab )\n",
    "\n",
    "from MLutils import custom_learning_curve\n",
    "\n",
    "train_kwargs = {\n",
    "    'lr':         0.01,\n",
    "    'dim':        100,\n",
    "    'n_epochs':   5,\n",
    "    'dropout':    0.25,\n",
    "    'rebalance':  True,\n",
    "    'print_freq': 1,\n",
    "    'batch_size': 64,\n",
    "    'dev_ckpt_delay': 0,\n",
    "    'X_dev': val_cands, \n",
    "    'Y_dev': y_val,\n",
    "    'verbose': False,\n",
    "}\n",
    "\n",
    "train_sizes, train_mse, train_f1, valid_mse , valid_f1 , test_prf1 = custom_learning_curve(\n",
    "    clf, unlab_cands, unlab_marginals, val_cands, y_val, X_init= train_cands, y_init=y_train,\n",
    "                      X_test = test_cands, y_test = y_test, fit_params = train_kwargs,\n",
    "                      splt_sizes=np.array([0.1, 0.5, 1.  ])\n",
    "                     )\n",
    "\n",
    "\n",
    "plot_learning_curve(train_mse,valid_mse,train_sizes, 'MSE (P=%.2f%%,R=%.2f%%,F1=%.2f%%)'%(test_prf1))\n",
    "\n",
    "plot_learning_curve(train_f1,valid_f1,train_sizes, title='F1 (P=%.2f%%,R=%.2f%%,F1=%.2f%%)'%(test_prf1))\n"
   ]
  },
  {
   "cell_type": "code",
   "execution_count": 145,
   "metadata": {},
   "outputs": [
    {
     "data": {
      "text/plain": [
       "array([ 1, -1, -1, ...,  1, -1, -1])"
      ]
     },
     "execution_count": 145,
     "metadata": {},
     "output_type": "execute_result"
    }
   ],
   "source": [
    "y_train"
   ]
  },
  {
   "cell_type": "code",
   "execution_count": 146,
   "metadata": {},
   "outputs": [
    {
     "data": {
      "text/plain": [
       "array([ 1, -1, -1, ...,  1, -1, -1])"
      ]
     },
     "execution_count": 146,
     "metadata": {},
     "output_type": "execute_result"
    }
   ],
   "source": [
    "np.round(y_train)"
   ]
  },
  {
   "cell_type": "code",
   "execution_count": null,
   "metadata": {},
   "outputs": [],
   "source": []
  },
  {
   "cell_type": "markdown",
   "metadata": {},
   "source": [
    "### KKKK"
   ]
  },
  {
   "cell_type": "code",
   "execution_count": 65,
   "metadata": {},
   "outputs": [],
   "source": [
    "from sklearn.model_selection import ShuffleSplit"
   ]
  },
  {
   "cell_type": "code",
   "execution_count": 97,
   "metadata": {},
   "outputs": [],
   "source": [
    "splitter = ShuffleSplit(n_splits=1, test_size=None, train_size=X_train.shape[0]-1, random_state=0)"
   ]
  },
  {
   "cell_type": "code",
   "execution_count": 117,
   "metadata": {},
   "outputs": [],
   "source": [
    "splitter = ShuffleSplit(n_splits=1, test_size=None, train_size=len(y_train)-2, random_state=42)"
   ]
  },
  {
   "cell_type": "code",
   "execution_count": 118,
   "metadata": {},
   "outputs": [],
   "source": [
    "ind = list(splitter.split(X_train))[0][0]"
   ]
  },
  {
   "cell_type": "code",
   "execution_count": 119,
   "metadata": {},
   "outputs": [
    {
     "data": {
      "text/plain": [
       "array([1319, 1067,   29, ..., 1130, 1294,  860])"
      ]
     },
     "execution_count": 119,
     "metadata": {},
     "output_type": "execute_result"
    }
   ],
   "source": [
    "ind"
   ]
  },
  {
   "cell_type": "code",
   "execution_count": 108,
   "metadata": {},
   "outputs": [
    {
     "data": {
      "text/plain": [
       "<2x29546 sparse matrix of type '<type 'numpy.float64'>'\n",
       "\twith 76 stored elements in Compressed Sparse Row format>"
      ]
     },
     "execution_count": 108,
     "metadata": {},
     "output_type": "execute_result"
    }
   ],
   "source": [
    "X_train[ind]"
   ]
  },
  {
   "cell_type": "code",
   "execution_count": 103,
   "metadata": {},
   "outputs": [
    {
     "data": {
      "text/plain": [
       "array([-1, -1, -1, ...,  1, -1, -1])"
      ]
     },
     "execution_count": 103,
     "metadata": {},
     "output_type": "execute_result"
    }
   ],
   "source": [
    "y_train[ind]"
   ]
  },
  {
   "cell_type": "code",
   "execution_count": 104,
   "metadata": {},
   "outputs": [
    {
     "data": {
      "text/plain": [
       "2060"
      ]
     },
     "execution_count": 104,
     "metadata": {},
     "output_type": "execute_result"
    }
   ],
   "source": [
    "len(y_train)"
   ]
  },
  {
   "cell_type": "code",
   "execution_count": null,
   "metadata": {},
   "outputs": [],
   "source": []
  },
  {
   "cell_type": "code",
   "execution_count": 127,
   "metadata": {
    "scrolled": true
   },
   "outputs": [
    {
     "name": "stdout",
     "output_type": "stream",
     "text": [
      "[0 1]\n",
      "<type 'numpy.ndarray'> <type 'list'>\n"
     ]
    },
    {
     "name": "stderr",
     "output_type": "stream",
     "text": [
      "/home/antonis/anaconda2/envs/snorkel27clone/lib/python2.7/site-packages/tensorflow/python/ops/gradients_impl.py:100: UserWarning: Converting sparse IndexedSlices to a dense Tensor of unknown shape. This may consume a large amount of memory.\n",
      "  \"Converting sparse IndexedSlices to a dense Tensor of unknown shape. \"\n"
     ]
    },
    {
     "name": "stdout",
     "output_type": "stream",
     "text": [
      "[reRNN] Training model\n",
      "[reRNN] n_train=486  #epochs=5  batch size=64\n",
      "[reRNN] Epoch 0 (1.60s)\tAverage loss=0.700717\tDev F1=16.92\n",
      "[reRNN] Epoch 1 (5.65s)\tAverage loss=0.658249\tDev F1=11.91\n",
      "[reRNN] Model saved as <reRNN>\n",
      "[reRNN] Epoch 2 (9.82s)\tAverage loss=0.551306\tDev F1=28.97\n",
      "[reRNN] Model saved as <reRNN>\n",
      "[reRNN] Epoch 3 (14.04s)\tAverage loss=0.408895\tDev F1=27.91\n",
      "[reRNN] Epoch 4 (17.98s)\tAverage loss=0.379240\tDev F1=23.67\n",
      "[reRNN] Training done (20.69s)\n",
      "INFO:tensorflow:Restoring parameters from checkpoints/reRNN/reRNN-2\n",
      "[reRNN] Loaded model <reRNN>\n"
     ]
    },
    {
     "name": "stderr",
     "output_type": "stream",
     "text": [
      "/home/antonis/ipythonNotebooks/snorkel-ml/snorkel/learning/disc_models/rnn/rnn_base.py:40: UserWarning: Candidate 632 has argument past max length for model:\t[arg ends at index 148; max len 117]\n",
      "  warnings.warn('\\t'.join([w.format(i), info]))\n",
      "/home/antonis/ipythonNotebooks/snorkel-ml/snorkel/learning/disc_models/rnn/rnn_base.py:40: UserWarning: Candidate 635 has argument past max length for model:\t[arg ends at index 120; max len 117]\n",
      "  warnings.warn('\\t'.join([w.format(i), info]))\n",
      "/home/antonis/ipythonNotebooks/snorkel-ml/snorkel/learning/disc_models/rnn/rnn_base.py:40: UserWarning: Candidate 643 has argument past max length for model:\t[arg ends at index 133; max len 117]\n",
      "  warnings.warn('\\t'.join([w.format(i), info]))\n",
      "/home/antonis/ipythonNotebooks/snorkel-ml/snorkel/learning/disc_models/rnn/rnn_base.py:40: UserWarning: Candidate 646 has argument past max length for model:\t[arg ends at index 125; max len 117]\n",
      "  warnings.warn('\\t'.join([w.format(i), info]))\n",
      "/home/antonis/ipythonNotebooks/snorkel-ml/snorkel/learning/disc_models/rnn/rnn_base.py:40: UserWarning: Candidate 657 has argument past max length for model:\t[arg ends at index 120; max len 117]\n",
      "  warnings.warn('\\t'.join([w.format(i), info]))\n",
      "/home/antonis/ipythonNotebooks/snorkel-ml/snorkel/learning/disc_models/rnn/rnn_base.py:40: UserWarning: Candidate 666 has argument past max length for model:\t[arg ends at index 133; max len 117]\n",
      "  warnings.warn('\\t'.join([w.format(i), info]))\n",
      "/home/antonis/ipythonNotebooks/snorkel-ml/snorkel/learning/disc_models/rnn/rnn_base.py:40: UserWarning: Candidate 669 has argument past max length for model:\t[arg ends at index 145; max len 117]\n",
      "  warnings.warn('\\t'.join([w.format(i), info]))\n",
      "/home/antonis/ipythonNotebooks/snorkel-ml/snorkel/learning/disc_models/rnn/rnn_base.py:40: UserWarning: Candidate 605 has argument past max length for model:\t[arg ends at index 148; max len 117]\n",
      "  warnings.warn('\\t'.join([w.format(i), info]))\n",
      "/home/antonis/ipythonNotebooks/snorkel-ml/snorkel/learning/disc_models/rnn/rnn_base.py:40: UserWarning: Candidate 608 has argument past max length for model:\t[arg ends at index 148; max len 117]\n",
      "  warnings.warn('\\t'.join([w.format(i), info]))\n",
      "/home/antonis/ipythonNotebooks/snorkel-ml/snorkel/learning/disc_models/rnn/rnn_base.py:40: UserWarning: Candidate 614 has argument past max length for model:\t[arg ends at index 122; max len 117]\n",
      "  warnings.warn('\\t'.join([w.format(i), info]))\n",
      "/home/antonis/ipythonNotebooks/snorkel-ml/snorkel/learning/disc_models/rnn/rnn_base.py:40: UserWarning: Candidate 616 has argument past max length for model:\t[arg ends at index 133; max len 117]\n",
      "  warnings.warn('\\t'.join([w.format(i), info]))\n",
      "/home/antonis/ipythonNotebooks/snorkel-ml/snorkel/learning/disc_models/rnn/rnn_base.py:40: UserWarning: Candidate 621 has argument past max length for model:\t[arg ends at index 172; max len 117]\n",
      "  warnings.warn('\\t'.join([w.format(i), info]))\n",
      "/home/antonis/ipythonNotebooks/snorkel-ml/snorkel/learning/disc_models/rnn/rnn_base.py:40: UserWarning: Candidate 625 has argument past max length for model:\t[arg ends at index 172; max len 117]\n",
      "  warnings.warn('\\t'.join([w.format(i), info]))\n",
      "/home/antonis/ipythonNotebooks/snorkel-ml/snorkel/learning/disc_models/rnn/rnn_base.py:40: UserWarning: Candidate 629 has argument past max length for model:\t[arg ends at index 145; max len 117]\n",
      "  warnings.warn('\\t'.join([w.format(i), info]))\n",
      "/home/antonis/ipythonNotebooks/snorkel-ml/snorkel/learning/disc_models/rnn/rnn_base.py:40: UserWarning: Candidate 637 has argument past max length for model:\t[arg ends at index 122; max len 117]\n",
      "  warnings.warn('\\t'.join([w.format(i), info]))\n",
      "/home/antonis/ipythonNotebooks/snorkel-ml/snorkel/learning/disc_models/rnn/rnn_base.py:40: UserWarning: Candidate 640 has argument past max length for model:\t[arg ends at index 133; max len 117]\n",
      "  warnings.warn('\\t'.join([w.format(i), info]))\n",
      "/home/antonis/ipythonNotebooks/snorkel-ml/snorkel/learning/disc_models/rnn/rnn_base.py:40: UserWarning: Candidate 643 has argument past max length for model:\t[arg ends at index 172; max len 117]\n",
      "  warnings.warn('\\t'.join([w.format(i), info]))\n",
      "/home/antonis/ipythonNotebooks/snorkel-ml/snorkel/learning/disc_models/rnn/rnn_base.py:40: UserWarning: Candidate 650 has argument past max length for model:\t[arg ends at index 120; max len 117]\n",
      "  warnings.warn('\\t'.join([w.format(i), info]))\n",
      "/home/antonis/ipythonNotebooks/snorkel-ml/snorkel/learning/disc_models/rnn/rnn_base.py:40: UserWarning: Candidate 653 has argument past max length for model:\t[arg ends at index 122; max len 117]\n",
      "  warnings.warn('\\t'.join([w.format(i), info]))\n",
      "/home/antonis/ipythonNotebooks/snorkel-ml/snorkel/learning/disc_models/rnn/rnn_base.py:40: UserWarning: Candidate 597 has argument past max length for model:\t[arg ends at index 172; max len 117]\n",
      "  warnings.warn('\\t'.join([w.format(i), info]))\n",
      "/home/antonis/ipythonNotebooks/snorkel-ml/snorkel/learning/disc_models/rnn/rnn_base.py:40: UserWarning: Candidate 599 has argument past max length for model:\t[arg ends at index 148; max len 117]\n",
      "  warnings.warn('\\t'.join([w.format(i), info]))\n",
      "/home/antonis/ipythonNotebooks/snorkel-ml/snorkel/learning/disc_models/rnn/rnn_base.py:40: UserWarning: Candidate 602 has argument past max length for model:\t[arg ends at index 148; max len 117]\n",
      "  warnings.warn('\\t'.join([w.format(i), info]))\n",
      "/home/antonis/ipythonNotebooks/snorkel-ml/snorkel/learning/disc_models/rnn/rnn_base.py:40: UserWarning: Candidate 605 has argument past max length for model:\t[arg ends at index 148; max len 117]\n",
      "  warnings.warn('\\t'.join([w.format(i), info]))\n",
      "/home/antonis/ipythonNotebooks/snorkel-ml/snorkel/learning/disc_models/rnn/rnn_base.py:40: UserWarning: Candidate 608 has argument past max length for model:\t[arg ends at index 172; max len 117]\n",
      "  warnings.warn('\\t'.join([w.format(i), info]))\n",
      "/home/antonis/ipythonNotebooks/snorkel-ml/snorkel/learning/disc_models/rnn/rnn_base.py:40: UserWarning: Candidate 614 has argument past max length for model:\t[arg ends at index 145; max len 117]\n",
      "  warnings.warn('\\t'.join([w.format(i), info]))\n",
      "/home/antonis/ipythonNotebooks/snorkel-ml/snorkel/learning/disc_models/rnn/rnn_base.py:40: UserWarning: Candidate 618 has argument past max length for model:\t[arg ends at index 120; max len 117]\n",
      "  warnings.warn('\\t'.join([w.format(i), info]))\n",
      "/home/antonis/ipythonNotebooks/snorkel-ml/snorkel/learning/disc_models/rnn/rnn_base.py:40: UserWarning: Candidate 619 has argument past max length for model:\t[arg ends at index 122; max len 117]\n",
      "  warnings.warn('\\t'.join([w.format(i), info]))\n",
      "/home/antonis/ipythonNotebooks/snorkel-ml/snorkel/learning/disc_models/rnn/rnn_base.py:40: UserWarning: Candidate 621 has argument past max length for model:\t[arg ends at index 145; max len 117]\n",
      "  warnings.warn('\\t'.join([w.format(i), info]))\n",
      "/home/antonis/ipythonNotebooks/snorkel-ml/snorkel/learning/disc_models/rnn/rnn_base.py:40: UserWarning: Candidate 623 has argument past max length for model:\t[arg ends at index 125; max len 117]\n",
      "  warnings.warn('\\t'.join([w.format(i), info]))\n",
      "/home/antonis/ipythonNotebooks/snorkel-ml/snorkel/learning/disc_models/rnn/rnn_base.py:40: UserWarning: Candidate 624 has argument past max length for model:\t[arg ends at index 125; max len 117]\n",
      "  warnings.warn('\\t'.join([w.format(i), info]))\n",
      "/home/antonis/ipythonNotebooks/snorkel-ml/snorkel/learning/disc_models/rnn/rnn_base.py:40: UserWarning: Candidate 628 has argument past max length for model:\t[arg ends at index 125; max len 117]\n",
      "  warnings.warn('\\t'.join([w.format(i), info]))\n",
      "/home/antonis/ipythonNotebooks/snorkel-ml/snorkel/learning/disc_models/rnn/rnn_base.py:40: UserWarning: Candidate 630 has argument past max length for model:\t[arg ends at index 133; max len 117]\n",
      "  warnings.warn('\\t'.join([w.format(i), info]))\n",
      "/home/antonis/ipythonNotebooks/snorkel-ml/snorkel/learning/disc_models/rnn/rnn_base.py:40: UserWarning: Candidate 631 has argument past max length for model:\t[arg ends at index 172; max len 117]\n",
      "  warnings.warn('\\t'.join([w.format(i), info]))\n",
      "/home/antonis/ipythonNotebooks/snorkel-ml/snorkel/learning/disc_models/rnn/rnn_base.py:40: UserWarning: Candidate 641 has argument past max length for model:\t[arg ends at index 145; max len 117]\n",
      "  warnings.warn('\\t'.join([w.format(i), info]))\n"
     ]
    },
    {
     "name": "stderr",
     "output_type": "stream",
     "text": [
      "/home/antonis/ipythonNotebooks/snorkel-ml/snorkel/learning/disc_models/rnn/rnn_base.py:40: UserWarning: Candidate 2825 has argument past max length for model:\t[arg ends at index 117; max len 117]\n",
      "  warnings.warn('\\t'.join([w.format(i), info]))\n",
      "/home/antonis/ipythonNotebooks/snorkel-ml/snorkel/learning/disc_models/rnn/rnn_base.py:40: UserWarning: Candidate 2830 has argument past max length for model:\t[arg ends at index 117; max len 117]\n",
      "  warnings.warn('\\t'.join([w.format(i), info]))\n",
      "/home/antonis/ipythonNotebooks/snorkel-ml/snorkel/learning/disc_models/rnn/rnn_base.py:40: UserWarning: Candidate 2834 has argument past max length for model:\t[arg ends at index 117; max len 117]\n",
      "  warnings.warn('\\t'.join([w.format(i), info]))\n",
      "/home/antonis/ipythonNotebooks/snorkel-ml/snorkel/learning/disc_models/rnn/rnn_base.py:40: UserWarning: Candidate 5256 has argument past max length for model:\t[arg ends at index 131; max len 117]\n",
      "  warnings.warn('\\t'.join([w.format(i), info]))\n",
      "/home/antonis/ipythonNotebooks/snorkel-ml/snorkel/learning/disc_models/rnn/rnn_base.py:40: UserWarning: Candidate 5261 has argument past max length for model:\t[arg ends at index 137; max len 117]\n",
      "  warnings.warn('\\t'.join([w.format(i), info]))\n",
      "/home/antonis/ipythonNotebooks/snorkel-ml/snorkel/learning/disc_models/rnn/rnn_base.py:40: UserWarning: Candidate 5286 has argument past max length for model:\t[arg ends at index 164; max len 117]\n",
      "  warnings.warn('\\t'.join([w.format(i), info]))\n",
      "/home/antonis/ipythonNotebooks/snorkel-ml/snorkel/learning/disc_models/rnn/rnn_base.py:40: UserWarning: Candidate 5289 has argument past max length for model:\t[arg ends at index 131; max len 117]\n",
      "  warnings.warn('\\t'.join([w.format(i), info]))\n",
      "/home/antonis/ipythonNotebooks/snorkel-ml/snorkel/learning/disc_models/rnn/rnn_base.py:40: UserWarning: Candidate 5292 has argument past max length for model:\t[arg ends at index 137; max len 117]\n",
      "  warnings.warn('\\t'.join([w.format(i), info]))\n",
      "/home/antonis/ipythonNotebooks/snorkel-ml/snorkel/learning/disc_models/rnn/rnn_base.py:40: UserWarning: Candidate 5310 has argument past max length for model:\t[arg ends at index 164; max len 117]\n",
      "  warnings.warn('\\t'.join([w.format(i), info]))\n",
      "/home/antonis/ipythonNotebooks/snorkel-ml/snorkel/learning/disc_models/rnn/rnn_base.py:40: UserWarning: Candidate 5314 has argument past max length for model:\t[arg ends at index 131; max len 117]\n",
      "  warnings.warn('\\t'.join([w.format(i), info]))\n",
      "/home/antonis/ipythonNotebooks/snorkel-ml/snorkel/learning/disc_models/rnn/rnn_base.py:40: UserWarning: Candidate 5316 has argument past max length for model:\t[arg ends at index 137; max len 117]\n",
      "  warnings.warn('\\t'.join([w.format(i), info]))\n",
      "/home/antonis/ipythonNotebooks/snorkel-ml/snorkel/learning/disc_models/rnn/rnn_base.py:40: UserWarning: Candidate 5337 has argument past max length for model:\t[arg ends at index 164; max len 117]\n",
      "  warnings.warn('\\t'.join([w.format(i), info]))\n",
      "/home/antonis/ipythonNotebooks/snorkel-ml/snorkel/learning/disc_models/rnn/rnn_base.py:40: UserWarning: Candidate 5340 has argument past max length for model:\t[arg ends at index 160; max len 117]\n",
      "  warnings.warn('\\t'.join([w.format(i), info]))\n",
      "/home/antonis/ipythonNotebooks/snorkel-ml/snorkel/learning/disc_models/rnn/rnn_base.py:40: UserWarning: Candidate 5343 has argument past max length for model:\t[arg ends at index 160; max len 117]\n",
      "  warnings.warn('\\t'.join([w.format(i), info]))\n",
      "/home/antonis/ipythonNotebooks/snorkel-ml/snorkel/learning/disc_models/rnn/rnn_base.py:40: UserWarning: Candidate 5346 has argument past max length for model:\t[arg ends at index 160; max len 117]\n",
      "  warnings.warn('\\t'.join([w.format(i), info]))\n",
      "/home/antonis/ipythonNotebooks/snorkel-ml/snorkel/learning/disc_models/rnn/rnn_base.py:40: UserWarning: Candidate 5353 has argument past max length for model:\t[arg ends at index 160; max len 117]\n",
      "  warnings.warn('\\t'.join([w.format(i), info]))\n",
      "/home/antonis/ipythonNotebooks/snorkel-ml/snorkel/learning/disc_models/rnn/rnn_base.py:40: UserWarning: Candidate 5358 has argument past max length for model:\t[arg ends at index 160; max len 117]\n",
      "  warnings.warn('\\t'.join([w.format(i), info]))\n",
      "/home/antonis/ipythonNotebooks/snorkel-ml/snorkel/learning/disc_models/rnn/rnn_base.py:40: UserWarning: Candidate 5362 has argument past max length for model:\t[arg ends at index 160; max len 117]\n",
      "  warnings.warn('\\t'.join([w.format(i), info]))\n",
      "/home/antonis/ipythonNotebooks/snorkel-ml/snorkel/learning/disc_models/rnn/rnn_base.py:40: UserWarning: Candidate 5368 has argument past max length for model:\t[arg ends at index 160; max len 117]\n",
      "  warnings.warn('\\t'.join([w.format(i), info]))\n",
      "/home/antonis/ipythonNotebooks/snorkel-ml/snorkel/learning/disc_models/rnn/rnn_base.py:40: UserWarning: Candidate 5372 has argument past max length for model:\t[arg ends at index 164; max len 117]\n",
      "  warnings.warn('\\t'.join([w.format(i), info]))\n",
      "/home/antonis/ipythonNotebooks/snorkel-ml/snorkel/learning/disc_models/rnn/rnn_base.py:40: UserWarning: Candidate 5376 has argument past max length for model:\t[arg ends at index 131; max len 117]\n",
      "  warnings.warn('\\t'.join([w.format(i), info]))\n",
      "/home/antonis/ipythonNotebooks/snorkel-ml/snorkel/learning/disc_models/rnn/rnn_base.py:40: UserWarning: Candidate 5381 has argument past max length for model:\t[arg ends at index 137; max len 117]\n",
      "  warnings.warn('\\t'.join([w.format(i), info]))\n",
      "/home/antonis/ipythonNotebooks/snorkel-ml/snorkel/learning/disc_models/rnn/rnn_base.py:40: UserWarning: Candidate 5404 has argument past max length for model:\t[arg ends at index 164; max len 117]\n",
      "  warnings.warn('\\t'.join([w.format(i), info]))\n",
      "/home/antonis/ipythonNotebooks/snorkel-ml/snorkel/learning/disc_models/rnn/rnn_base.py:40: UserWarning: Candidate 5408 has argument past max length for model:\t[arg ends at index 131; max len 117]\n",
      "  warnings.warn('\\t'.join([w.format(i), info]))\n",
      "/home/antonis/ipythonNotebooks/snorkel-ml/snorkel/learning/disc_models/rnn/rnn_base.py:40: UserWarning: Candidate 5413 has argument past max length for model:\t[arg ends at index 137; max len 117]\n",
      "  warnings.warn('\\t'.join([w.format(i), info]))\n",
      "/home/antonis/ipythonNotebooks/snorkel-ml/snorkel/learning/disc_models/rnn/rnn_base.py:40: UserWarning: Candidate 5434 has argument past max length for model:\t[arg ends at index 164; max len 117]\n",
      "  warnings.warn('\\t'.join([w.format(i), info]))\n",
      "/home/antonis/ipythonNotebooks/snorkel-ml/snorkel/learning/disc_models/rnn/rnn_base.py:40: UserWarning: Candidate 5439 has argument past max length for model:\t[arg ends at index 131; max len 117]\n",
      "  warnings.warn('\\t'.join([w.format(i), info]))\n",
      "/home/antonis/ipythonNotebooks/snorkel-ml/snorkel/learning/disc_models/rnn/rnn_base.py:40: UserWarning: Candidate 5441 has argument past max length for model:\t[arg ends at index 137; max len 117]\n",
      "  warnings.warn('\\t'.join([w.format(i), info]))\n",
      "/home/antonis/ipythonNotebooks/snorkel-ml/snorkel/learning/disc_models/rnn/rnn_base.py:40: UserWarning: Candidate 5460 has argument past max length for model:\t[arg ends at index 164; max len 117]\n",
      "  warnings.warn('\\t'.join([w.format(i), info]))\n"
     ]
    },
    {
     "name": "stdout",
     "output_type": "stream",
     "text": [
      "<type 'numpy.ndarray'> <type 'list'>\n"
     ]
    },
    {
     "name": "stderr",
     "output_type": "stream",
     "text": [
      "/home/antonis/anaconda2/envs/snorkel27clone/lib/python2.7/site-packages/tensorflow/python/ops/gradients_impl.py:100: UserWarning: Converting sparse IndexedSlices to a dense Tensor of unknown shape. This may consume a large amount of memory.\n",
      "  \"Converting sparse IndexedSlices to a dense Tensor of unknown shape. \"\n"
     ]
    },
    {
     "name": "stdout",
     "output_type": "stream",
     "text": [
      "[reRNN] Training model\n",
      "[reRNN] n_train=990  #epochs=5  batch size=64\n",
      "[reRNN] Epoch 0 (2.83s)\tAverage loss=0.697337\tDev F1=35.85\n",
      "[reRNN] Epoch 1 (8.21s)\tAverage loss=0.710252\tDev F1=11.31\n",
      "[reRNN] Model saved as <reRNN>\n",
      "[reRNN] Epoch 2 (13.68s)\tAverage loss=0.565544\tDev F1=30.39\n",
      "[reRNN] Model saved as <reRNN>\n",
      "[reRNN] Epoch 3 (19.10s)\tAverage loss=0.485584\tDev F1=29.11\n",
      "[reRNN] Epoch 4 (24.39s)\tAverage loss=0.420718\tDev F1=30.50\n",
      "[reRNN] Model saved as <reRNN>\n",
      "[reRNN] Training done (27.26s)\n",
      "INFO:tensorflow:Restoring parameters from checkpoints/reRNN/reRNN-4\n",
      "[reRNN] Loaded model <reRNN>\n"
     ]
    },
    {
     "name": "stderr",
     "output_type": "stream",
     "text": [
      "/home/antonis/ipythonNotebooks/snorkel-ml/snorkel/learning/disc_models/rnn/rnn_base.py:40: UserWarning: Candidate 632 has argument past max length for model:\t[arg ends at index 148; max len 117]\n",
      "  warnings.warn('\\t'.join([w.format(i), info]))\n",
      "/home/antonis/ipythonNotebooks/snorkel-ml/snorkel/learning/disc_models/rnn/rnn_base.py:40: UserWarning: Candidate 635 has argument past max length for model:\t[arg ends at index 120; max len 117]\n",
      "  warnings.warn('\\t'.join([w.format(i), info]))\n",
      "/home/antonis/ipythonNotebooks/snorkel-ml/snorkel/learning/disc_models/rnn/rnn_base.py:40: UserWarning: Candidate 643 has argument past max length for model:\t[arg ends at index 133; max len 117]\n",
      "  warnings.warn('\\t'.join([w.format(i), info]))\n",
      "/home/antonis/ipythonNotebooks/snorkel-ml/snorkel/learning/disc_models/rnn/rnn_base.py:40: UserWarning: Candidate 646 has argument past max length for model:\t[arg ends at index 125; max len 117]\n",
      "  warnings.warn('\\t'.join([w.format(i), info]))\n",
      "/home/antonis/ipythonNotebooks/snorkel-ml/snorkel/learning/disc_models/rnn/rnn_base.py:40: UserWarning: Candidate 657 has argument past max length for model:\t[arg ends at index 120; max len 117]\n",
      "  warnings.warn('\\t'.join([w.format(i), info]))\n",
      "/home/antonis/ipythonNotebooks/snorkel-ml/snorkel/learning/disc_models/rnn/rnn_base.py:40: UserWarning: Candidate 666 has argument past max length for model:\t[arg ends at index 133; max len 117]\n",
      "  warnings.warn('\\t'.join([w.format(i), info]))\n",
      "/home/antonis/ipythonNotebooks/snorkel-ml/snorkel/learning/disc_models/rnn/rnn_base.py:40: UserWarning: Candidate 669 has argument past max length for model:\t[arg ends at index 145; max len 117]\n",
      "  warnings.warn('\\t'.join([w.format(i), info]))\n",
      "/home/antonis/ipythonNotebooks/snorkel-ml/snorkel/learning/disc_models/rnn/rnn_base.py:40: UserWarning: Candidate 605 has argument past max length for model:\t[arg ends at index 148; max len 117]\n",
      "  warnings.warn('\\t'.join([w.format(i), info]))\n",
      "/home/antonis/ipythonNotebooks/snorkel-ml/snorkel/learning/disc_models/rnn/rnn_base.py:40: UserWarning: Candidate 608 has argument past max length for model:\t[arg ends at index 148; max len 117]\n",
      "  warnings.warn('\\t'.join([w.format(i), info]))\n",
      "/home/antonis/ipythonNotebooks/snorkel-ml/snorkel/learning/disc_models/rnn/rnn_base.py:40: UserWarning: Candidate 614 has argument past max length for model:\t[arg ends at index 122; max len 117]\n",
      "  warnings.warn('\\t'.join([w.format(i), info]))\n",
      "/home/antonis/ipythonNotebooks/snorkel-ml/snorkel/learning/disc_models/rnn/rnn_base.py:40: UserWarning: Candidate 616 has argument past max length for model:\t[arg ends at index 133; max len 117]\n",
      "  warnings.warn('\\t'.join([w.format(i), info]))\n",
      "/home/antonis/ipythonNotebooks/snorkel-ml/snorkel/learning/disc_models/rnn/rnn_base.py:40: UserWarning: Candidate 621 has argument past max length for model:\t[arg ends at index 172; max len 117]\n",
      "  warnings.warn('\\t'.join([w.format(i), info]))\n",
      "/home/antonis/ipythonNotebooks/snorkel-ml/snorkel/learning/disc_models/rnn/rnn_base.py:40: UserWarning: Candidate 625 has argument past max length for model:\t[arg ends at index 172; max len 117]\n",
      "  warnings.warn('\\t'.join([w.format(i), info]))\n",
      "/home/antonis/ipythonNotebooks/snorkel-ml/snorkel/learning/disc_models/rnn/rnn_base.py:40: UserWarning: Candidate 629 has argument past max length for model:\t[arg ends at index 145; max len 117]\n",
      "  warnings.warn('\\t'.join([w.format(i), info]))\n",
      "/home/antonis/ipythonNotebooks/snorkel-ml/snorkel/learning/disc_models/rnn/rnn_base.py:40: UserWarning: Candidate 637 has argument past max length for model:\t[arg ends at index 122; max len 117]\n",
      "  warnings.warn('\\t'.join([w.format(i), info]))\n",
      "/home/antonis/ipythonNotebooks/snorkel-ml/snorkel/learning/disc_models/rnn/rnn_base.py:40: UserWarning: Candidate 640 has argument past max length for model:\t[arg ends at index 133; max len 117]\n",
      "  warnings.warn('\\t'.join([w.format(i), info]))\n",
      "/home/antonis/ipythonNotebooks/snorkel-ml/snorkel/learning/disc_models/rnn/rnn_base.py:40: UserWarning: Candidate 643 has argument past max length for model:\t[arg ends at index 172; max len 117]\n",
      "  warnings.warn('\\t'.join([w.format(i), info]))\n",
      "/home/antonis/ipythonNotebooks/snorkel-ml/snorkel/learning/disc_models/rnn/rnn_base.py:40: UserWarning: Candidate 650 has argument past max length for model:\t[arg ends at index 120; max len 117]\n",
      "  warnings.warn('\\t'.join([w.format(i), info]))\n",
      "/home/antonis/ipythonNotebooks/snorkel-ml/snorkel/learning/disc_models/rnn/rnn_base.py:40: UserWarning: Candidate 653 has argument past max length for model:\t[arg ends at index 122; max len 117]\n",
      "  warnings.warn('\\t'.join([w.format(i), info]))\n",
      "/home/antonis/ipythonNotebooks/snorkel-ml/snorkel/learning/disc_models/rnn/rnn_base.py:40: UserWarning: Candidate 597 has argument past max length for model:\t[arg ends at index 172; max len 117]\n",
      "  warnings.warn('\\t'.join([w.format(i), info]))\n",
      "/home/antonis/ipythonNotebooks/snorkel-ml/snorkel/learning/disc_models/rnn/rnn_base.py:40: UserWarning: Candidate 599 has argument past max length for model:\t[arg ends at index 148; max len 117]\n",
      "  warnings.warn('\\t'.join([w.format(i), info]))\n",
      "/home/antonis/ipythonNotebooks/snorkel-ml/snorkel/learning/disc_models/rnn/rnn_base.py:40: UserWarning: Candidate 602 has argument past max length for model:\t[arg ends at index 148; max len 117]\n",
      "  warnings.warn('\\t'.join([w.format(i), info]))\n",
      "/home/antonis/ipythonNotebooks/snorkel-ml/snorkel/learning/disc_models/rnn/rnn_base.py:40: UserWarning: Candidate 605 has argument past max length for model:\t[arg ends at index 148; max len 117]\n",
      "  warnings.warn('\\t'.join([w.format(i), info]))\n",
      "/home/antonis/ipythonNotebooks/snorkel-ml/snorkel/learning/disc_models/rnn/rnn_base.py:40: UserWarning: Candidate 608 has argument past max length for model:\t[arg ends at index 172; max len 117]\n",
      "  warnings.warn('\\t'.join([w.format(i), info]))\n",
      "/home/antonis/ipythonNotebooks/snorkel-ml/snorkel/learning/disc_models/rnn/rnn_base.py:40: UserWarning: Candidate 614 has argument past max length for model:\t[arg ends at index 145; max len 117]\n",
      "  warnings.warn('\\t'.join([w.format(i), info]))\n",
      "/home/antonis/ipythonNotebooks/snorkel-ml/snorkel/learning/disc_models/rnn/rnn_base.py:40: UserWarning: Candidate 618 has argument past max length for model:\t[arg ends at index 120; max len 117]\n",
      "  warnings.warn('\\t'.join([w.format(i), info]))\n",
      "/home/antonis/ipythonNotebooks/snorkel-ml/snorkel/learning/disc_models/rnn/rnn_base.py:40: UserWarning: Candidate 619 has argument past max length for model:\t[arg ends at index 122; max len 117]\n",
      "  warnings.warn('\\t'.join([w.format(i), info]))\n",
      "/home/antonis/ipythonNotebooks/snorkel-ml/snorkel/learning/disc_models/rnn/rnn_base.py:40: UserWarning: Candidate 621 has argument past max length for model:\t[arg ends at index 145; max len 117]\n",
      "  warnings.warn('\\t'.join([w.format(i), info]))\n",
      "/home/antonis/ipythonNotebooks/snorkel-ml/snorkel/learning/disc_models/rnn/rnn_base.py:40: UserWarning: Candidate 623 has argument past max length for model:\t[arg ends at index 125; max len 117]\n",
      "  warnings.warn('\\t'.join([w.format(i), info]))\n",
      "/home/antonis/ipythonNotebooks/snorkel-ml/snorkel/learning/disc_models/rnn/rnn_base.py:40: UserWarning: Candidate 624 has argument past max length for model:\t[arg ends at index 125; max len 117]\n",
      "  warnings.warn('\\t'.join([w.format(i), info]))\n",
      "/home/antonis/ipythonNotebooks/snorkel-ml/snorkel/learning/disc_models/rnn/rnn_base.py:40: UserWarning: Candidate 628 has argument past max length for model:\t[arg ends at index 125; max len 117]\n",
      "  warnings.warn('\\t'.join([w.format(i), info]))\n",
      "/home/antonis/ipythonNotebooks/snorkel-ml/snorkel/learning/disc_models/rnn/rnn_base.py:40: UserWarning: Candidate 630 has argument past max length for model:\t[arg ends at index 133; max len 117]\n",
      "  warnings.warn('\\t'.join([w.format(i), info]))\n",
      "/home/antonis/ipythonNotebooks/snorkel-ml/snorkel/learning/disc_models/rnn/rnn_base.py:40: UserWarning: Candidate 631 has argument past max length for model:\t[arg ends at index 172; max len 117]\n",
      "  warnings.warn('\\t'.join([w.format(i), info]))\n",
      "/home/antonis/ipythonNotebooks/snorkel-ml/snorkel/learning/disc_models/rnn/rnn_base.py:40: UserWarning: Candidate 641 has argument past max length for model:\t[arg ends at index 145; max len 117]\n",
      "  warnings.warn('\\t'.join([w.format(i), info]))\n"
     ]
    },
    {
     "name": "stderr",
     "output_type": "stream",
     "text": [
      "/home/antonis/ipythonNotebooks/snorkel-ml/snorkel/learning/disc_models/rnn/rnn_base.py:40: UserWarning: Candidate 2825 has argument past max length for model:\t[arg ends at index 117; max len 117]\n",
      "  warnings.warn('\\t'.join([w.format(i), info]))\n",
      "/home/antonis/ipythonNotebooks/snorkel-ml/snorkel/learning/disc_models/rnn/rnn_base.py:40: UserWarning: Candidate 2830 has argument past max length for model:\t[arg ends at index 117; max len 117]\n",
      "  warnings.warn('\\t'.join([w.format(i), info]))\n",
      "/home/antonis/ipythonNotebooks/snorkel-ml/snorkel/learning/disc_models/rnn/rnn_base.py:40: UserWarning: Candidate 2834 has argument past max length for model:\t[arg ends at index 117; max len 117]\n",
      "  warnings.warn('\\t'.join([w.format(i), info]))\n",
      "/home/antonis/ipythonNotebooks/snorkel-ml/snorkel/learning/disc_models/rnn/rnn_base.py:40: UserWarning: Candidate 5256 has argument past max length for model:\t[arg ends at index 131; max len 117]\n",
      "  warnings.warn('\\t'.join([w.format(i), info]))\n",
      "/home/antonis/ipythonNotebooks/snorkel-ml/snorkel/learning/disc_models/rnn/rnn_base.py:40: UserWarning: Candidate 5261 has argument past max length for model:\t[arg ends at index 137; max len 117]\n",
      "  warnings.warn('\\t'.join([w.format(i), info]))\n",
      "/home/antonis/ipythonNotebooks/snorkel-ml/snorkel/learning/disc_models/rnn/rnn_base.py:40: UserWarning: Candidate 5286 has argument past max length for model:\t[arg ends at index 164; max len 117]\n",
      "  warnings.warn('\\t'.join([w.format(i), info]))\n",
      "/home/antonis/ipythonNotebooks/snorkel-ml/snorkel/learning/disc_models/rnn/rnn_base.py:40: UserWarning: Candidate 5289 has argument past max length for model:\t[arg ends at index 131; max len 117]\n",
      "  warnings.warn('\\t'.join([w.format(i), info]))\n",
      "/home/antonis/ipythonNotebooks/snorkel-ml/snorkel/learning/disc_models/rnn/rnn_base.py:40: UserWarning: Candidate 5292 has argument past max length for model:\t[arg ends at index 137; max len 117]\n",
      "  warnings.warn('\\t'.join([w.format(i), info]))\n",
      "/home/antonis/ipythonNotebooks/snorkel-ml/snorkel/learning/disc_models/rnn/rnn_base.py:40: UserWarning: Candidate 5310 has argument past max length for model:\t[arg ends at index 164; max len 117]\n",
      "  warnings.warn('\\t'.join([w.format(i), info]))\n",
      "/home/antonis/ipythonNotebooks/snorkel-ml/snorkel/learning/disc_models/rnn/rnn_base.py:40: UserWarning: Candidate 5314 has argument past max length for model:\t[arg ends at index 131; max len 117]\n",
      "  warnings.warn('\\t'.join([w.format(i), info]))\n",
      "/home/antonis/ipythonNotebooks/snorkel-ml/snorkel/learning/disc_models/rnn/rnn_base.py:40: UserWarning: Candidate 5316 has argument past max length for model:\t[arg ends at index 137; max len 117]\n",
      "  warnings.warn('\\t'.join([w.format(i), info]))\n",
      "/home/antonis/ipythonNotebooks/snorkel-ml/snorkel/learning/disc_models/rnn/rnn_base.py:40: UserWarning: Candidate 5337 has argument past max length for model:\t[arg ends at index 164; max len 117]\n",
      "  warnings.warn('\\t'.join([w.format(i), info]))\n",
      "/home/antonis/ipythonNotebooks/snorkel-ml/snorkel/learning/disc_models/rnn/rnn_base.py:40: UserWarning: Candidate 5340 has argument past max length for model:\t[arg ends at index 160; max len 117]\n",
      "  warnings.warn('\\t'.join([w.format(i), info]))\n",
      "/home/antonis/ipythonNotebooks/snorkel-ml/snorkel/learning/disc_models/rnn/rnn_base.py:40: UserWarning: Candidate 5343 has argument past max length for model:\t[arg ends at index 160; max len 117]\n",
      "  warnings.warn('\\t'.join([w.format(i), info]))\n",
      "/home/antonis/ipythonNotebooks/snorkel-ml/snorkel/learning/disc_models/rnn/rnn_base.py:40: UserWarning: Candidate 5346 has argument past max length for model:\t[arg ends at index 160; max len 117]\n",
      "  warnings.warn('\\t'.join([w.format(i), info]))\n",
      "/home/antonis/ipythonNotebooks/snorkel-ml/snorkel/learning/disc_models/rnn/rnn_base.py:40: UserWarning: Candidate 5353 has argument past max length for model:\t[arg ends at index 160; max len 117]\n",
      "  warnings.warn('\\t'.join([w.format(i), info]))\n",
      "/home/antonis/ipythonNotebooks/snorkel-ml/snorkel/learning/disc_models/rnn/rnn_base.py:40: UserWarning: Candidate 5358 has argument past max length for model:\t[arg ends at index 160; max len 117]\n",
      "  warnings.warn('\\t'.join([w.format(i), info]))\n",
      "/home/antonis/ipythonNotebooks/snorkel-ml/snorkel/learning/disc_models/rnn/rnn_base.py:40: UserWarning: Candidate 5362 has argument past max length for model:\t[arg ends at index 160; max len 117]\n",
      "  warnings.warn('\\t'.join([w.format(i), info]))\n",
      "/home/antonis/ipythonNotebooks/snorkel-ml/snorkel/learning/disc_models/rnn/rnn_base.py:40: UserWarning: Candidate 5368 has argument past max length for model:\t[arg ends at index 160; max len 117]\n",
      "  warnings.warn('\\t'.join([w.format(i), info]))\n",
      "/home/antonis/ipythonNotebooks/snorkel-ml/snorkel/learning/disc_models/rnn/rnn_base.py:40: UserWarning: Candidate 5372 has argument past max length for model:\t[arg ends at index 164; max len 117]\n",
      "  warnings.warn('\\t'.join([w.format(i), info]))\n",
      "/home/antonis/ipythonNotebooks/snorkel-ml/snorkel/learning/disc_models/rnn/rnn_base.py:40: UserWarning: Candidate 5376 has argument past max length for model:\t[arg ends at index 131; max len 117]\n",
      "  warnings.warn('\\t'.join([w.format(i), info]))\n",
      "/home/antonis/ipythonNotebooks/snorkel-ml/snorkel/learning/disc_models/rnn/rnn_base.py:40: UserWarning: Candidate 5381 has argument past max length for model:\t[arg ends at index 137; max len 117]\n",
      "  warnings.warn('\\t'.join([w.format(i), info]))\n",
      "/home/antonis/ipythonNotebooks/snorkel-ml/snorkel/learning/disc_models/rnn/rnn_base.py:40: UserWarning: Candidate 5404 has argument past max length for model:\t[arg ends at index 164; max len 117]\n",
      "  warnings.warn('\\t'.join([w.format(i), info]))\n",
      "/home/antonis/ipythonNotebooks/snorkel-ml/snorkel/learning/disc_models/rnn/rnn_base.py:40: UserWarning: Candidate 5408 has argument past max length for model:\t[arg ends at index 131; max len 117]\n",
      "  warnings.warn('\\t'.join([w.format(i), info]))\n",
      "/home/antonis/ipythonNotebooks/snorkel-ml/snorkel/learning/disc_models/rnn/rnn_base.py:40: UserWarning: Candidate 5413 has argument past max length for model:\t[arg ends at index 137; max len 117]\n",
      "  warnings.warn('\\t'.join([w.format(i), info]))\n",
      "/home/antonis/ipythonNotebooks/snorkel-ml/snorkel/learning/disc_models/rnn/rnn_base.py:40: UserWarning: Candidate 5434 has argument past max length for model:\t[arg ends at index 164; max len 117]\n",
      "  warnings.warn('\\t'.join([w.format(i), info]))\n",
      "/home/antonis/ipythonNotebooks/snorkel-ml/snorkel/learning/disc_models/rnn/rnn_base.py:40: UserWarning: Candidate 5439 has argument past max length for model:\t[arg ends at index 131; max len 117]\n",
      "  warnings.warn('\\t'.join([w.format(i), info]))\n",
      "/home/antonis/ipythonNotebooks/snorkel-ml/snorkel/learning/disc_models/rnn/rnn_base.py:40: UserWarning: Candidate 5441 has argument past max length for model:\t[arg ends at index 137; max len 117]\n",
      "  warnings.warn('\\t'.join([w.format(i), info]))\n",
      "/home/antonis/ipythonNotebooks/snorkel-ml/snorkel/learning/disc_models/rnn/rnn_base.py:40: UserWarning: Candidate 5460 has argument past max length for model:\t[arg ends at index 164; max len 117]\n",
      "  warnings.warn('\\t'.join([w.format(i), info]))\n"
     ]
    },
    {
     "name": "stdout",
     "output_type": "stream",
     "text": [
      "<type 'numpy.ndarray'> <type 'list'>\n"
     ]
    },
    {
     "name": "stderr",
     "output_type": "stream",
     "text": [
      "/home/antonis/anaconda2/envs/snorkel27clone/lib/python2.7/site-packages/tensorflow/python/ops/gradients_impl.py:100: UserWarning: Converting sparse IndexedSlices to a dense Tensor of unknown shape. This may consume a large amount of memory.\n",
      "  \"Converting sparse IndexedSlices to a dense Tensor of unknown shape. \"\n"
     ]
    },
    {
     "name": "stdout",
     "output_type": "stream",
     "text": [
      "[reRNN] Training model\n",
      "[reRNN] n_train=1344  #epochs=5  batch size=64\n",
      "[reRNN] Epoch 0 (3.85s)\tAverage loss=0.699327\tDev F1=17.40\n",
      "[reRNN] Epoch 1 (10.11s)\tAverage loss=0.678355\tDev F1=33.66\n",
      "[reRNN] Model saved as <reRNN>\n",
      "[reRNN] Epoch 2 (16.36s)\tAverage loss=0.593992\tDev F1=31.28\n",
      "[reRNN] Epoch 3 (22.38s)\tAverage loss=0.526297\tDev F1=30.34\n",
      "[reRNN] Epoch 4 (28.62s)\tAverage loss=0.473128\tDev F1=29.83\n",
      "[reRNN] Training done (31.43s)\n",
      "INFO:tensorflow:Restoring parameters from checkpoints/reRNN/reRNN-1\n",
      "[reRNN] Loaded model <reRNN>\n"
     ]
    },
    {
     "name": "stderr",
     "output_type": "stream",
     "text": [
      "/home/antonis/ipythonNotebooks/snorkel-ml/snorkel/learning/disc_models/rnn/rnn_base.py:40: UserWarning: Candidate 632 has argument past max length for model:\t[arg ends at index 148; max len 117]\n",
      "  warnings.warn('\\t'.join([w.format(i), info]))\n",
      "/home/antonis/ipythonNotebooks/snorkel-ml/snorkel/learning/disc_models/rnn/rnn_base.py:40: UserWarning: Candidate 635 has argument past max length for model:\t[arg ends at index 120; max len 117]\n",
      "  warnings.warn('\\t'.join([w.format(i), info]))\n",
      "/home/antonis/ipythonNotebooks/snorkel-ml/snorkel/learning/disc_models/rnn/rnn_base.py:40: UserWarning: Candidate 643 has argument past max length for model:\t[arg ends at index 133; max len 117]\n",
      "  warnings.warn('\\t'.join([w.format(i), info]))\n",
      "/home/antonis/ipythonNotebooks/snorkel-ml/snorkel/learning/disc_models/rnn/rnn_base.py:40: UserWarning: Candidate 646 has argument past max length for model:\t[arg ends at index 125; max len 117]\n",
      "  warnings.warn('\\t'.join([w.format(i), info]))\n",
      "/home/antonis/ipythonNotebooks/snorkel-ml/snorkel/learning/disc_models/rnn/rnn_base.py:40: UserWarning: Candidate 657 has argument past max length for model:\t[arg ends at index 120; max len 117]\n",
      "  warnings.warn('\\t'.join([w.format(i), info]))\n",
      "/home/antonis/ipythonNotebooks/snorkel-ml/snorkel/learning/disc_models/rnn/rnn_base.py:40: UserWarning: Candidate 666 has argument past max length for model:\t[arg ends at index 133; max len 117]\n",
      "  warnings.warn('\\t'.join([w.format(i), info]))\n",
      "/home/antonis/ipythonNotebooks/snorkel-ml/snorkel/learning/disc_models/rnn/rnn_base.py:40: UserWarning: Candidate 669 has argument past max length for model:\t[arg ends at index 145; max len 117]\n",
      "  warnings.warn('\\t'.join([w.format(i), info]))\n",
      "/home/antonis/ipythonNotebooks/snorkel-ml/snorkel/learning/disc_models/rnn/rnn_base.py:40: UserWarning: Candidate 605 has argument past max length for model:\t[arg ends at index 148; max len 117]\n",
      "  warnings.warn('\\t'.join([w.format(i), info]))\n",
      "/home/antonis/ipythonNotebooks/snorkel-ml/snorkel/learning/disc_models/rnn/rnn_base.py:40: UserWarning: Candidate 608 has argument past max length for model:\t[arg ends at index 148; max len 117]\n",
      "  warnings.warn('\\t'.join([w.format(i), info]))\n",
      "/home/antonis/ipythonNotebooks/snorkel-ml/snorkel/learning/disc_models/rnn/rnn_base.py:40: UserWarning: Candidate 614 has argument past max length for model:\t[arg ends at index 122; max len 117]\n",
      "  warnings.warn('\\t'.join([w.format(i), info]))\n",
      "/home/antonis/ipythonNotebooks/snorkel-ml/snorkel/learning/disc_models/rnn/rnn_base.py:40: UserWarning: Candidate 616 has argument past max length for model:\t[arg ends at index 133; max len 117]\n",
      "  warnings.warn('\\t'.join([w.format(i), info]))\n",
      "/home/antonis/ipythonNotebooks/snorkel-ml/snorkel/learning/disc_models/rnn/rnn_base.py:40: UserWarning: Candidate 621 has argument past max length for model:\t[arg ends at index 172; max len 117]\n",
      "  warnings.warn('\\t'.join([w.format(i), info]))\n",
      "/home/antonis/ipythonNotebooks/snorkel-ml/snorkel/learning/disc_models/rnn/rnn_base.py:40: UserWarning: Candidate 625 has argument past max length for model:\t[arg ends at index 172; max len 117]\n",
      "  warnings.warn('\\t'.join([w.format(i), info]))\n",
      "/home/antonis/ipythonNotebooks/snorkel-ml/snorkel/learning/disc_models/rnn/rnn_base.py:40: UserWarning: Candidate 629 has argument past max length for model:\t[arg ends at index 145; max len 117]\n",
      "  warnings.warn('\\t'.join([w.format(i), info]))\n",
      "/home/antonis/ipythonNotebooks/snorkel-ml/snorkel/learning/disc_models/rnn/rnn_base.py:40: UserWarning: Candidate 637 has argument past max length for model:\t[arg ends at index 122; max len 117]\n",
      "  warnings.warn('\\t'.join([w.format(i), info]))\n",
      "/home/antonis/ipythonNotebooks/snorkel-ml/snorkel/learning/disc_models/rnn/rnn_base.py:40: UserWarning: Candidate 640 has argument past max length for model:\t[arg ends at index 133; max len 117]\n",
      "  warnings.warn('\\t'.join([w.format(i), info]))\n",
      "/home/antonis/ipythonNotebooks/snorkel-ml/snorkel/learning/disc_models/rnn/rnn_base.py:40: UserWarning: Candidate 643 has argument past max length for model:\t[arg ends at index 172; max len 117]\n",
      "  warnings.warn('\\t'.join([w.format(i), info]))\n",
      "/home/antonis/ipythonNotebooks/snorkel-ml/snorkel/learning/disc_models/rnn/rnn_base.py:40: UserWarning: Candidate 650 has argument past max length for model:\t[arg ends at index 120; max len 117]\n",
      "  warnings.warn('\\t'.join([w.format(i), info]))\n",
      "/home/antonis/ipythonNotebooks/snorkel-ml/snorkel/learning/disc_models/rnn/rnn_base.py:40: UserWarning: Candidate 653 has argument past max length for model:\t[arg ends at index 122; max len 117]\n",
      "  warnings.warn('\\t'.join([w.format(i), info]))\n",
      "/home/antonis/ipythonNotebooks/snorkel-ml/snorkel/learning/disc_models/rnn/rnn_base.py:40: UserWarning: Candidate 597 has argument past max length for model:\t[arg ends at index 172; max len 117]\n",
      "  warnings.warn('\\t'.join([w.format(i), info]))\n",
      "/home/antonis/ipythonNotebooks/snorkel-ml/snorkel/learning/disc_models/rnn/rnn_base.py:40: UserWarning: Candidate 599 has argument past max length for model:\t[arg ends at index 148; max len 117]\n",
      "  warnings.warn('\\t'.join([w.format(i), info]))\n",
      "/home/antonis/ipythonNotebooks/snorkel-ml/snorkel/learning/disc_models/rnn/rnn_base.py:40: UserWarning: Candidate 602 has argument past max length for model:\t[arg ends at index 148; max len 117]\n",
      "  warnings.warn('\\t'.join([w.format(i), info]))\n",
      "/home/antonis/ipythonNotebooks/snorkel-ml/snorkel/learning/disc_models/rnn/rnn_base.py:40: UserWarning: Candidate 605 has argument past max length for model:\t[arg ends at index 148; max len 117]\n",
      "  warnings.warn('\\t'.join([w.format(i), info]))\n",
      "/home/antonis/ipythonNotebooks/snorkel-ml/snorkel/learning/disc_models/rnn/rnn_base.py:40: UserWarning: Candidate 608 has argument past max length for model:\t[arg ends at index 172; max len 117]\n",
      "  warnings.warn('\\t'.join([w.format(i), info]))\n",
      "/home/antonis/ipythonNotebooks/snorkel-ml/snorkel/learning/disc_models/rnn/rnn_base.py:40: UserWarning: Candidate 614 has argument past max length for model:\t[arg ends at index 145; max len 117]\n",
      "  warnings.warn('\\t'.join([w.format(i), info]))\n",
      "/home/antonis/ipythonNotebooks/snorkel-ml/snorkel/learning/disc_models/rnn/rnn_base.py:40: UserWarning: Candidate 618 has argument past max length for model:\t[arg ends at index 120; max len 117]\n",
      "  warnings.warn('\\t'.join([w.format(i), info]))\n",
      "/home/antonis/ipythonNotebooks/snorkel-ml/snorkel/learning/disc_models/rnn/rnn_base.py:40: UserWarning: Candidate 619 has argument past max length for model:\t[arg ends at index 122; max len 117]\n",
      "  warnings.warn('\\t'.join([w.format(i), info]))\n",
      "/home/antonis/ipythonNotebooks/snorkel-ml/snorkel/learning/disc_models/rnn/rnn_base.py:40: UserWarning: Candidate 621 has argument past max length for model:\t[arg ends at index 145; max len 117]\n",
      "  warnings.warn('\\t'.join([w.format(i), info]))\n",
      "/home/antonis/ipythonNotebooks/snorkel-ml/snorkel/learning/disc_models/rnn/rnn_base.py:40: UserWarning: Candidate 623 has argument past max length for model:\t[arg ends at index 125; max len 117]\n",
      "  warnings.warn('\\t'.join([w.format(i), info]))\n",
      "/home/antonis/ipythonNotebooks/snorkel-ml/snorkel/learning/disc_models/rnn/rnn_base.py:40: UserWarning: Candidate 624 has argument past max length for model:\t[arg ends at index 125; max len 117]\n",
      "  warnings.warn('\\t'.join([w.format(i), info]))\n",
      "/home/antonis/ipythonNotebooks/snorkel-ml/snorkel/learning/disc_models/rnn/rnn_base.py:40: UserWarning: Candidate 628 has argument past max length for model:\t[arg ends at index 125; max len 117]\n",
      "  warnings.warn('\\t'.join([w.format(i), info]))\n",
      "/home/antonis/ipythonNotebooks/snorkel-ml/snorkel/learning/disc_models/rnn/rnn_base.py:40: UserWarning: Candidate 630 has argument past max length for model:\t[arg ends at index 133; max len 117]\n",
      "  warnings.warn('\\t'.join([w.format(i), info]))\n",
      "/home/antonis/ipythonNotebooks/snorkel-ml/snorkel/learning/disc_models/rnn/rnn_base.py:40: UserWarning: Candidate 631 has argument past max length for model:\t[arg ends at index 172; max len 117]\n",
      "  warnings.warn('\\t'.join([w.format(i), info]))\n",
      "/home/antonis/ipythonNotebooks/snorkel-ml/snorkel/learning/disc_models/rnn/rnn_base.py:40: UserWarning: Candidate 641 has argument past max length for model:\t[arg ends at index 145; max len 117]\n",
      "  warnings.warn('\\t'.join([w.format(i), info]))\n"
     ]
    },
    {
     "name": "stderr",
     "output_type": "stream",
     "text": [
      "/home/antonis/ipythonNotebooks/snorkel-ml/snorkel/learning/disc_models/rnn/rnn_base.py:40: UserWarning: Candidate 2825 has argument past max length for model:\t[arg ends at index 117; max len 117]\n",
      "  warnings.warn('\\t'.join([w.format(i), info]))\n",
      "/home/antonis/ipythonNotebooks/snorkel-ml/snorkel/learning/disc_models/rnn/rnn_base.py:40: UserWarning: Candidate 2830 has argument past max length for model:\t[arg ends at index 117; max len 117]\n",
      "  warnings.warn('\\t'.join([w.format(i), info]))\n",
      "/home/antonis/ipythonNotebooks/snorkel-ml/snorkel/learning/disc_models/rnn/rnn_base.py:40: UserWarning: Candidate 2834 has argument past max length for model:\t[arg ends at index 117; max len 117]\n",
      "  warnings.warn('\\t'.join([w.format(i), info]))\n",
      "/home/antonis/ipythonNotebooks/snorkel-ml/snorkel/learning/disc_models/rnn/rnn_base.py:40: UserWarning: Candidate 5256 has argument past max length for model:\t[arg ends at index 131; max len 117]\n",
      "  warnings.warn('\\t'.join([w.format(i), info]))\n",
      "/home/antonis/ipythonNotebooks/snorkel-ml/snorkel/learning/disc_models/rnn/rnn_base.py:40: UserWarning: Candidate 5261 has argument past max length for model:\t[arg ends at index 137; max len 117]\n",
      "  warnings.warn('\\t'.join([w.format(i), info]))\n",
      "/home/antonis/ipythonNotebooks/snorkel-ml/snorkel/learning/disc_models/rnn/rnn_base.py:40: UserWarning: Candidate 5286 has argument past max length for model:\t[arg ends at index 164; max len 117]\n",
      "  warnings.warn('\\t'.join([w.format(i), info]))\n",
      "/home/antonis/ipythonNotebooks/snorkel-ml/snorkel/learning/disc_models/rnn/rnn_base.py:40: UserWarning: Candidate 5289 has argument past max length for model:\t[arg ends at index 131; max len 117]\n",
      "  warnings.warn('\\t'.join([w.format(i), info]))\n",
      "/home/antonis/ipythonNotebooks/snorkel-ml/snorkel/learning/disc_models/rnn/rnn_base.py:40: UserWarning: Candidate 5292 has argument past max length for model:\t[arg ends at index 137; max len 117]\n",
      "  warnings.warn('\\t'.join([w.format(i), info]))\n",
      "/home/antonis/ipythonNotebooks/snorkel-ml/snorkel/learning/disc_models/rnn/rnn_base.py:40: UserWarning: Candidate 5310 has argument past max length for model:\t[arg ends at index 164; max len 117]\n",
      "  warnings.warn('\\t'.join([w.format(i), info]))\n",
      "/home/antonis/ipythonNotebooks/snorkel-ml/snorkel/learning/disc_models/rnn/rnn_base.py:40: UserWarning: Candidate 5314 has argument past max length for model:\t[arg ends at index 131; max len 117]\n",
      "  warnings.warn('\\t'.join([w.format(i), info]))\n",
      "/home/antonis/ipythonNotebooks/snorkel-ml/snorkel/learning/disc_models/rnn/rnn_base.py:40: UserWarning: Candidate 5316 has argument past max length for model:\t[arg ends at index 137; max len 117]\n",
      "  warnings.warn('\\t'.join([w.format(i), info]))\n",
      "/home/antonis/ipythonNotebooks/snorkel-ml/snorkel/learning/disc_models/rnn/rnn_base.py:40: UserWarning: Candidate 5337 has argument past max length for model:\t[arg ends at index 164; max len 117]\n",
      "  warnings.warn('\\t'.join([w.format(i), info]))\n",
      "/home/antonis/ipythonNotebooks/snorkel-ml/snorkel/learning/disc_models/rnn/rnn_base.py:40: UserWarning: Candidate 5340 has argument past max length for model:\t[arg ends at index 160; max len 117]\n",
      "  warnings.warn('\\t'.join([w.format(i), info]))\n",
      "/home/antonis/ipythonNotebooks/snorkel-ml/snorkel/learning/disc_models/rnn/rnn_base.py:40: UserWarning: Candidate 5343 has argument past max length for model:\t[arg ends at index 160; max len 117]\n",
      "  warnings.warn('\\t'.join([w.format(i), info]))\n",
      "/home/antonis/ipythonNotebooks/snorkel-ml/snorkel/learning/disc_models/rnn/rnn_base.py:40: UserWarning: Candidate 5346 has argument past max length for model:\t[arg ends at index 160; max len 117]\n",
      "  warnings.warn('\\t'.join([w.format(i), info]))\n",
      "/home/antonis/ipythonNotebooks/snorkel-ml/snorkel/learning/disc_models/rnn/rnn_base.py:40: UserWarning: Candidate 5353 has argument past max length for model:\t[arg ends at index 160; max len 117]\n",
      "  warnings.warn('\\t'.join([w.format(i), info]))\n",
      "/home/antonis/ipythonNotebooks/snorkel-ml/snorkel/learning/disc_models/rnn/rnn_base.py:40: UserWarning: Candidate 5358 has argument past max length for model:\t[arg ends at index 160; max len 117]\n",
      "  warnings.warn('\\t'.join([w.format(i), info]))\n",
      "/home/antonis/ipythonNotebooks/snorkel-ml/snorkel/learning/disc_models/rnn/rnn_base.py:40: UserWarning: Candidate 5362 has argument past max length for model:\t[arg ends at index 160; max len 117]\n",
      "  warnings.warn('\\t'.join([w.format(i), info]))\n",
      "/home/antonis/ipythonNotebooks/snorkel-ml/snorkel/learning/disc_models/rnn/rnn_base.py:40: UserWarning: Candidate 5368 has argument past max length for model:\t[arg ends at index 160; max len 117]\n",
      "  warnings.warn('\\t'.join([w.format(i), info]))\n",
      "/home/antonis/ipythonNotebooks/snorkel-ml/snorkel/learning/disc_models/rnn/rnn_base.py:40: UserWarning: Candidate 5372 has argument past max length for model:\t[arg ends at index 164; max len 117]\n",
      "  warnings.warn('\\t'.join([w.format(i), info]))\n",
      "/home/antonis/ipythonNotebooks/snorkel-ml/snorkel/learning/disc_models/rnn/rnn_base.py:40: UserWarning: Candidate 5376 has argument past max length for model:\t[arg ends at index 131; max len 117]\n",
      "  warnings.warn('\\t'.join([w.format(i), info]))\n",
      "/home/antonis/ipythonNotebooks/snorkel-ml/snorkel/learning/disc_models/rnn/rnn_base.py:40: UserWarning: Candidate 5381 has argument past max length for model:\t[arg ends at index 137; max len 117]\n",
      "  warnings.warn('\\t'.join([w.format(i), info]))\n",
      "/home/antonis/ipythonNotebooks/snorkel-ml/snorkel/learning/disc_models/rnn/rnn_base.py:40: UserWarning: Candidate 5404 has argument past max length for model:\t[arg ends at index 164; max len 117]\n",
      "  warnings.warn('\\t'.join([w.format(i), info]))\n",
      "/home/antonis/ipythonNotebooks/snorkel-ml/snorkel/learning/disc_models/rnn/rnn_base.py:40: UserWarning: Candidate 5408 has argument past max length for model:\t[arg ends at index 131; max len 117]\n",
      "  warnings.warn('\\t'.join([w.format(i), info]))\n",
      "/home/antonis/ipythonNotebooks/snorkel-ml/snorkel/learning/disc_models/rnn/rnn_base.py:40: UserWarning: Candidate 5413 has argument past max length for model:\t[arg ends at index 137; max len 117]\n",
      "  warnings.warn('\\t'.join([w.format(i), info]))\n",
      "/home/antonis/ipythonNotebooks/snorkel-ml/snorkel/learning/disc_models/rnn/rnn_base.py:40: UserWarning: Candidate 5434 has argument past max length for model:\t[arg ends at index 164; max len 117]\n",
      "  warnings.warn('\\t'.join([w.format(i), info]))\n",
      "/home/antonis/ipythonNotebooks/snorkel-ml/snorkel/learning/disc_models/rnn/rnn_base.py:40: UserWarning: Candidate 5439 has argument past max length for model:\t[arg ends at index 131; max len 117]\n",
      "  warnings.warn('\\t'.join([w.format(i), info]))\n",
      "/home/antonis/ipythonNotebooks/snorkel-ml/snorkel/learning/disc_models/rnn/rnn_base.py:40: UserWarning: Candidate 5441 has argument past max length for model:\t[arg ends at index 137; max len 117]\n",
      "  warnings.warn('\\t'.join([w.format(i), info]))\n",
      "/home/antonis/ipythonNotebooks/snorkel-ml/snorkel/learning/disc_models/rnn/rnn_base.py:40: UserWarning: Candidate 5460 has argument past max length for model:\t[arg ends at index 164; max len 117]\n",
      "  warnings.warn('\\t'.join([w.format(i), info]))\n"
     ]
    },
    {
     "name": "stdout",
     "output_type": "stream",
     "text": [
      "<type 'numpy.ndarray'> <type 'list'>\n"
     ]
    },
    {
     "name": "stderr",
     "output_type": "stream",
     "text": [
      "/home/antonis/anaconda2/envs/snorkel27clone/lib/python2.7/site-packages/tensorflow/python/ops/gradients_impl.py:100: UserWarning: Converting sparse IndexedSlices to a dense Tensor of unknown shape. This may consume a large amount of memory.\n",
      "  \"Converting sparse IndexedSlices to a dense Tensor of unknown shape. \"\n"
     ]
    },
    {
     "name": "stdout",
     "output_type": "stream",
     "text": [
      "[reRNN] Training model\n",
      "[reRNN] n_train=1708  #epochs=5  batch size=64\n",
      "[reRNN] Epoch 0 (4.59s)\tAverage loss=0.702398\tDev F1=25.77\n",
      "[reRNN] Epoch 1 (11.94s)\tAverage loss=0.674935\tDev F1=30.95\n",
      "[reRNN] Model saved as <reRNN>\n",
      "[reRNN] Epoch 2 (19.13s)\tAverage loss=0.599928\tDev F1=29.95\n",
      "[reRNN] Epoch 3 (26.16s)\tAverage loss=0.521863\tDev F1=34.00\n",
      "[reRNN] Model saved as <reRNN>\n",
      "[reRNN] Epoch 4 (33.34s)\tAverage loss=0.465254\tDev F1=33.47\n",
      "[reRNN] Training done (36.05s)\n",
      "INFO:tensorflow:Restoring parameters from checkpoints/reRNN/reRNN-3\n",
      "[reRNN] Loaded model <reRNN>\n"
     ]
    },
    {
     "name": "stderr",
     "output_type": "stream",
     "text": [
      "/home/antonis/ipythonNotebooks/snorkel-ml/snorkel/learning/disc_models/rnn/rnn_base.py:40: UserWarning: Candidate 632 has argument past max length for model:\t[arg ends at index 148; max len 117]\n",
      "  warnings.warn('\\t'.join([w.format(i), info]))\n",
      "/home/antonis/ipythonNotebooks/snorkel-ml/snorkel/learning/disc_models/rnn/rnn_base.py:40: UserWarning: Candidate 635 has argument past max length for model:\t[arg ends at index 120; max len 117]\n",
      "  warnings.warn('\\t'.join([w.format(i), info]))\n",
      "/home/antonis/ipythonNotebooks/snorkel-ml/snorkel/learning/disc_models/rnn/rnn_base.py:40: UserWarning: Candidate 643 has argument past max length for model:\t[arg ends at index 133; max len 117]\n",
      "  warnings.warn('\\t'.join([w.format(i), info]))\n",
      "/home/antonis/ipythonNotebooks/snorkel-ml/snorkel/learning/disc_models/rnn/rnn_base.py:40: UserWarning: Candidate 646 has argument past max length for model:\t[arg ends at index 125; max len 117]\n",
      "  warnings.warn('\\t'.join([w.format(i), info]))\n",
      "/home/antonis/ipythonNotebooks/snorkel-ml/snorkel/learning/disc_models/rnn/rnn_base.py:40: UserWarning: Candidate 657 has argument past max length for model:\t[arg ends at index 120; max len 117]\n",
      "  warnings.warn('\\t'.join([w.format(i), info]))\n",
      "/home/antonis/ipythonNotebooks/snorkel-ml/snorkel/learning/disc_models/rnn/rnn_base.py:40: UserWarning: Candidate 666 has argument past max length for model:\t[arg ends at index 133; max len 117]\n",
      "  warnings.warn('\\t'.join([w.format(i), info]))\n",
      "/home/antonis/ipythonNotebooks/snorkel-ml/snorkel/learning/disc_models/rnn/rnn_base.py:40: UserWarning: Candidate 669 has argument past max length for model:\t[arg ends at index 145; max len 117]\n",
      "  warnings.warn('\\t'.join([w.format(i), info]))\n",
      "/home/antonis/ipythonNotebooks/snorkel-ml/snorkel/learning/disc_models/rnn/rnn_base.py:40: UserWarning: Candidate 605 has argument past max length for model:\t[arg ends at index 148; max len 117]\n",
      "  warnings.warn('\\t'.join([w.format(i), info]))\n",
      "/home/antonis/ipythonNotebooks/snorkel-ml/snorkel/learning/disc_models/rnn/rnn_base.py:40: UserWarning: Candidate 608 has argument past max length for model:\t[arg ends at index 148; max len 117]\n",
      "  warnings.warn('\\t'.join([w.format(i), info]))\n",
      "/home/antonis/ipythonNotebooks/snorkel-ml/snorkel/learning/disc_models/rnn/rnn_base.py:40: UserWarning: Candidate 614 has argument past max length for model:\t[arg ends at index 122; max len 117]\n",
      "  warnings.warn('\\t'.join([w.format(i), info]))\n",
      "/home/antonis/ipythonNotebooks/snorkel-ml/snorkel/learning/disc_models/rnn/rnn_base.py:40: UserWarning: Candidate 616 has argument past max length for model:\t[arg ends at index 133; max len 117]\n",
      "  warnings.warn('\\t'.join([w.format(i), info]))\n",
      "/home/antonis/ipythonNotebooks/snorkel-ml/snorkel/learning/disc_models/rnn/rnn_base.py:40: UserWarning: Candidate 621 has argument past max length for model:\t[arg ends at index 172; max len 117]\n",
      "  warnings.warn('\\t'.join([w.format(i), info]))\n",
      "/home/antonis/ipythonNotebooks/snorkel-ml/snorkel/learning/disc_models/rnn/rnn_base.py:40: UserWarning: Candidate 625 has argument past max length for model:\t[arg ends at index 172; max len 117]\n",
      "  warnings.warn('\\t'.join([w.format(i), info]))\n",
      "/home/antonis/ipythonNotebooks/snorkel-ml/snorkel/learning/disc_models/rnn/rnn_base.py:40: UserWarning: Candidate 629 has argument past max length for model:\t[arg ends at index 145; max len 117]\n",
      "  warnings.warn('\\t'.join([w.format(i), info]))\n",
      "/home/antonis/ipythonNotebooks/snorkel-ml/snorkel/learning/disc_models/rnn/rnn_base.py:40: UserWarning: Candidate 637 has argument past max length for model:\t[arg ends at index 122; max len 117]\n",
      "  warnings.warn('\\t'.join([w.format(i), info]))\n",
      "/home/antonis/ipythonNotebooks/snorkel-ml/snorkel/learning/disc_models/rnn/rnn_base.py:40: UserWarning: Candidate 640 has argument past max length for model:\t[arg ends at index 133; max len 117]\n",
      "  warnings.warn('\\t'.join([w.format(i), info]))\n",
      "/home/antonis/ipythonNotebooks/snorkel-ml/snorkel/learning/disc_models/rnn/rnn_base.py:40: UserWarning: Candidate 643 has argument past max length for model:\t[arg ends at index 172; max len 117]\n",
      "  warnings.warn('\\t'.join([w.format(i), info]))\n",
      "/home/antonis/ipythonNotebooks/snorkel-ml/snorkel/learning/disc_models/rnn/rnn_base.py:40: UserWarning: Candidate 650 has argument past max length for model:\t[arg ends at index 120; max len 117]\n",
      "  warnings.warn('\\t'.join([w.format(i), info]))\n",
      "/home/antonis/ipythonNotebooks/snorkel-ml/snorkel/learning/disc_models/rnn/rnn_base.py:40: UserWarning: Candidate 653 has argument past max length for model:\t[arg ends at index 122; max len 117]\n",
      "  warnings.warn('\\t'.join([w.format(i), info]))\n",
      "/home/antonis/ipythonNotebooks/snorkel-ml/snorkel/learning/disc_models/rnn/rnn_base.py:40: UserWarning: Candidate 597 has argument past max length for model:\t[arg ends at index 172; max len 117]\n",
      "  warnings.warn('\\t'.join([w.format(i), info]))\n",
      "/home/antonis/ipythonNotebooks/snorkel-ml/snorkel/learning/disc_models/rnn/rnn_base.py:40: UserWarning: Candidate 599 has argument past max length for model:\t[arg ends at index 148; max len 117]\n",
      "  warnings.warn('\\t'.join([w.format(i), info]))\n",
      "/home/antonis/ipythonNotebooks/snorkel-ml/snorkel/learning/disc_models/rnn/rnn_base.py:40: UserWarning: Candidate 602 has argument past max length for model:\t[arg ends at index 148; max len 117]\n",
      "  warnings.warn('\\t'.join([w.format(i), info]))\n",
      "/home/antonis/ipythonNotebooks/snorkel-ml/snorkel/learning/disc_models/rnn/rnn_base.py:40: UserWarning: Candidate 605 has argument past max length for model:\t[arg ends at index 148; max len 117]\n",
      "  warnings.warn('\\t'.join([w.format(i), info]))\n",
      "/home/antonis/ipythonNotebooks/snorkel-ml/snorkel/learning/disc_models/rnn/rnn_base.py:40: UserWarning: Candidate 608 has argument past max length for model:\t[arg ends at index 172; max len 117]\n",
      "  warnings.warn('\\t'.join([w.format(i), info]))\n",
      "/home/antonis/ipythonNotebooks/snorkel-ml/snorkel/learning/disc_models/rnn/rnn_base.py:40: UserWarning: Candidate 614 has argument past max length for model:\t[arg ends at index 145; max len 117]\n",
      "  warnings.warn('\\t'.join([w.format(i), info]))\n",
      "/home/antonis/ipythonNotebooks/snorkel-ml/snorkel/learning/disc_models/rnn/rnn_base.py:40: UserWarning: Candidate 618 has argument past max length for model:\t[arg ends at index 120; max len 117]\n",
      "  warnings.warn('\\t'.join([w.format(i), info]))\n",
      "/home/antonis/ipythonNotebooks/snorkel-ml/snorkel/learning/disc_models/rnn/rnn_base.py:40: UserWarning: Candidate 619 has argument past max length for model:\t[arg ends at index 122; max len 117]\n",
      "  warnings.warn('\\t'.join([w.format(i), info]))\n",
      "/home/antonis/ipythonNotebooks/snorkel-ml/snorkel/learning/disc_models/rnn/rnn_base.py:40: UserWarning: Candidate 621 has argument past max length for model:\t[arg ends at index 145; max len 117]\n",
      "  warnings.warn('\\t'.join([w.format(i), info]))\n",
      "/home/antonis/ipythonNotebooks/snorkel-ml/snorkel/learning/disc_models/rnn/rnn_base.py:40: UserWarning: Candidate 623 has argument past max length for model:\t[arg ends at index 125; max len 117]\n",
      "  warnings.warn('\\t'.join([w.format(i), info]))\n",
      "/home/antonis/ipythonNotebooks/snorkel-ml/snorkel/learning/disc_models/rnn/rnn_base.py:40: UserWarning: Candidate 624 has argument past max length for model:\t[arg ends at index 125; max len 117]\n",
      "  warnings.warn('\\t'.join([w.format(i), info]))\n",
      "/home/antonis/ipythonNotebooks/snorkel-ml/snorkel/learning/disc_models/rnn/rnn_base.py:40: UserWarning: Candidate 628 has argument past max length for model:\t[arg ends at index 125; max len 117]\n",
      "  warnings.warn('\\t'.join([w.format(i), info]))\n",
      "/home/antonis/ipythonNotebooks/snorkel-ml/snorkel/learning/disc_models/rnn/rnn_base.py:40: UserWarning: Candidate 630 has argument past max length for model:\t[arg ends at index 133; max len 117]\n",
      "  warnings.warn('\\t'.join([w.format(i), info]))\n",
      "/home/antonis/ipythonNotebooks/snorkel-ml/snorkel/learning/disc_models/rnn/rnn_base.py:40: UserWarning: Candidate 631 has argument past max length for model:\t[arg ends at index 172; max len 117]\n",
      "  warnings.warn('\\t'.join([w.format(i), info]))\n",
      "/home/antonis/ipythonNotebooks/snorkel-ml/snorkel/learning/disc_models/rnn/rnn_base.py:40: UserWarning: Candidate 641 has argument past max length for model:\t[arg ends at index 145; max len 117]\n",
      "  warnings.warn('\\t'.join([w.format(i), info]))\n"
     ]
    },
    {
     "name": "stderr",
     "output_type": "stream",
     "text": [
      "/home/antonis/ipythonNotebooks/snorkel-ml/snorkel/learning/disc_models/rnn/rnn_base.py:40: UserWarning: Candidate 2825 has argument past max length for model:\t[arg ends at index 117; max len 117]\n",
      "  warnings.warn('\\t'.join([w.format(i), info]))\n",
      "/home/antonis/ipythonNotebooks/snorkel-ml/snorkel/learning/disc_models/rnn/rnn_base.py:40: UserWarning: Candidate 2830 has argument past max length for model:\t[arg ends at index 117; max len 117]\n",
      "  warnings.warn('\\t'.join([w.format(i), info]))\n",
      "/home/antonis/ipythonNotebooks/snorkel-ml/snorkel/learning/disc_models/rnn/rnn_base.py:40: UserWarning: Candidate 2834 has argument past max length for model:\t[arg ends at index 117; max len 117]\n",
      "  warnings.warn('\\t'.join([w.format(i), info]))\n",
      "/home/antonis/ipythonNotebooks/snorkel-ml/snorkel/learning/disc_models/rnn/rnn_base.py:40: UserWarning: Candidate 5256 has argument past max length for model:\t[arg ends at index 131; max len 117]\n",
      "  warnings.warn('\\t'.join([w.format(i), info]))\n",
      "/home/antonis/ipythonNotebooks/snorkel-ml/snorkel/learning/disc_models/rnn/rnn_base.py:40: UserWarning: Candidate 5261 has argument past max length for model:\t[arg ends at index 137; max len 117]\n",
      "  warnings.warn('\\t'.join([w.format(i), info]))\n",
      "/home/antonis/ipythonNotebooks/snorkel-ml/snorkel/learning/disc_models/rnn/rnn_base.py:40: UserWarning: Candidate 5286 has argument past max length for model:\t[arg ends at index 164; max len 117]\n",
      "  warnings.warn('\\t'.join([w.format(i), info]))\n",
      "/home/antonis/ipythonNotebooks/snorkel-ml/snorkel/learning/disc_models/rnn/rnn_base.py:40: UserWarning: Candidate 5289 has argument past max length for model:\t[arg ends at index 131; max len 117]\n",
      "  warnings.warn('\\t'.join([w.format(i), info]))\n",
      "/home/antonis/ipythonNotebooks/snorkel-ml/snorkel/learning/disc_models/rnn/rnn_base.py:40: UserWarning: Candidate 5292 has argument past max length for model:\t[arg ends at index 137; max len 117]\n",
      "  warnings.warn('\\t'.join([w.format(i), info]))\n",
      "/home/antonis/ipythonNotebooks/snorkel-ml/snorkel/learning/disc_models/rnn/rnn_base.py:40: UserWarning: Candidate 5310 has argument past max length for model:\t[arg ends at index 164; max len 117]\n",
      "  warnings.warn('\\t'.join([w.format(i), info]))\n",
      "/home/antonis/ipythonNotebooks/snorkel-ml/snorkel/learning/disc_models/rnn/rnn_base.py:40: UserWarning: Candidate 5314 has argument past max length for model:\t[arg ends at index 131; max len 117]\n",
      "  warnings.warn('\\t'.join([w.format(i), info]))\n",
      "/home/antonis/ipythonNotebooks/snorkel-ml/snorkel/learning/disc_models/rnn/rnn_base.py:40: UserWarning: Candidate 5316 has argument past max length for model:\t[arg ends at index 137; max len 117]\n",
      "  warnings.warn('\\t'.join([w.format(i), info]))\n",
      "/home/antonis/ipythonNotebooks/snorkel-ml/snorkel/learning/disc_models/rnn/rnn_base.py:40: UserWarning: Candidate 5337 has argument past max length for model:\t[arg ends at index 164; max len 117]\n",
      "  warnings.warn('\\t'.join([w.format(i), info]))\n",
      "/home/antonis/ipythonNotebooks/snorkel-ml/snorkel/learning/disc_models/rnn/rnn_base.py:40: UserWarning: Candidate 5340 has argument past max length for model:\t[arg ends at index 160; max len 117]\n",
      "  warnings.warn('\\t'.join([w.format(i), info]))\n",
      "/home/antonis/ipythonNotebooks/snorkel-ml/snorkel/learning/disc_models/rnn/rnn_base.py:40: UserWarning: Candidate 5343 has argument past max length for model:\t[arg ends at index 160; max len 117]\n",
      "  warnings.warn('\\t'.join([w.format(i), info]))\n",
      "/home/antonis/ipythonNotebooks/snorkel-ml/snorkel/learning/disc_models/rnn/rnn_base.py:40: UserWarning: Candidate 5346 has argument past max length for model:\t[arg ends at index 160; max len 117]\n",
      "  warnings.warn('\\t'.join([w.format(i), info]))\n",
      "/home/antonis/ipythonNotebooks/snorkel-ml/snorkel/learning/disc_models/rnn/rnn_base.py:40: UserWarning: Candidate 5353 has argument past max length for model:\t[arg ends at index 160; max len 117]\n",
      "  warnings.warn('\\t'.join([w.format(i), info]))\n",
      "/home/antonis/ipythonNotebooks/snorkel-ml/snorkel/learning/disc_models/rnn/rnn_base.py:40: UserWarning: Candidate 5358 has argument past max length for model:\t[arg ends at index 160; max len 117]\n",
      "  warnings.warn('\\t'.join([w.format(i), info]))\n",
      "/home/antonis/ipythonNotebooks/snorkel-ml/snorkel/learning/disc_models/rnn/rnn_base.py:40: UserWarning: Candidate 5362 has argument past max length for model:\t[arg ends at index 160; max len 117]\n",
      "  warnings.warn('\\t'.join([w.format(i), info]))\n",
      "/home/antonis/ipythonNotebooks/snorkel-ml/snorkel/learning/disc_models/rnn/rnn_base.py:40: UserWarning: Candidate 5368 has argument past max length for model:\t[arg ends at index 160; max len 117]\n",
      "  warnings.warn('\\t'.join([w.format(i), info]))\n",
      "/home/antonis/ipythonNotebooks/snorkel-ml/snorkel/learning/disc_models/rnn/rnn_base.py:40: UserWarning: Candidate 5372 has argument past max length for model:\t[arg ends at index 164; max len 117]\n",
      "  warnings.warn('\\t'.join([w.format(i), info]))\n",
      "/home/antonis/ipythonNotebooks/snorkel-ml/snorkel/learning/disc_models/rnn/rnn_base.py:40: UserWarning: Candidate 5376 has argument past max length for model:\t[arg ends at index 131; max len 117]\n",
      "  warnings.warn('\\t'.join([w.format(i), info]))\n",
      "/home/antonis/ipythonNotebooks/snorkel-ml/snorkel/learning/disc_models/rnn/rnn_base.py:40: UserWarning: Candidate 5381 has argument past max length for model:\t[arg ends at index 137; max len 117]\n",
      "  warnings.warn('\\t'.join([w.format(i), info]))\n",
      "/home/antonis/ipythonNotebooks/snorkel-ml/snorkel/learning/disc_models/rnn/rnn_base.py:40: UserWarning: Candidate 5404 has argument past max length for model:\t[arg ends at index 164; max len 117]\n",
      "  warnings.warn('\\t'.join([w.format(i), info]))\n",
      "/home/antonis/ipythonNotebooks/snorkel-ml/snorkel/learning/disc_models/rnn/rnn_base.py:40: UserWarning: Candidate 5408 has argument past max length for model:\t[arg ends at index 131; max len 117]\n",
      "  warnings.warn('\\t'.join([w.format(i), info]))\n",
      "/home/antonis/ipythonNotebooks/snorkel-ml/snorkel/learning/disc_models/rnn/rnn_base.py:40: UserWarning: Candidate 5413 has argument past max length for model:\t[arg ends at index 137; max len 117]\n",
      "  warnings.warn('\\t'.join([w.format(i), info]))\n",
      "/home/antonis/ipythonNotebooks/snorkel-ml/snorkel/learning/disc_models/rnn/rnn_base.py:40: UserWarning: Candidate 5434 has argument past max length for model:\t[arg ends at index 164; max len 117]\n",
      "  warnings.warn('\\t'.join([w.format(i), info]))\n",
      "/home/antonis/ipythonNotebooks/snorkel-ml/snorkel/learning/disc_models/rnn/rnn_base.py:40: UserWarning: Candidate 5439 has argument past max length for model:\t[arg ends at index 131; max len 117]\n",
      "  warnings.warn('\\t'.join([w.format(i), info]))\n",
      "/home/antonis/ipythonNotebooks/snorkel-ml/snorkel/learning/disc_models/rnn/rnn_base.py:40: UserWarning: Candidate 5441 has argument past max length for model:\t[arg ends at index 137; max len 117]\n",
      "  warnings.warn('\\t'.join([w.format(i), info]))\n",
      "/home/antonis/ipythonNotebooks/snorkel-ml/snorkel/learning/disc_models/rnn/rnn_base.py:40: UserWarning: Candidate 5460 has argument past max length for model:\t[arg ends at index 164; max len 117]\n",
      "  warnings.warn('\\t'.join([w.format(i), info]))\n"
     ]
    },
    {
     "name": "stdout",
     "output_type": "stream",
     "text": [
      "<type 'numpy.ndarray'> <type 'list'>\n"
     ]
    },
    {
     "name": "stderr",
     "output_type": "stream",
     "text": [
      "/home/antonis/anaconda2/envs/snorkel27clone/lib/python2.7/site-packages/tensorflow/python/ops/gradients_impl.py:100: UserWarning: Converting sparse IndexedSlices to a dense Tensor of unknown shape. This may consume a large amount of memory.\n",
      "  \"Converting sparse IndexedSlices to a dense Tensor of unknown shape. \"\n"
     ]
    },
    {
     "name": "stdout",
     "output_type": "stream",
     "text": [
      "[reRNN] Training model\n",
      "[reRNN] n_train=2058  #epochs=5  batch size=64\n",
      "[reRNN] Epoch 0 (5.66s)\tAverage loss=0.702834\tDev F1=4.78\n",
      "[reRNN] Epoch 1 (13.89s)\tAverage loss=0.665730\tDev F1=32.01\n",
      "[reRNN] Model saved as <reRNN>\n",
      "[reRNN] Epoch 2 (22.31s)\tAverage loss=0.619388\tDev F1=31.17\n",
      "[reRNN] Epoch 3 (30.79s)\tAverage loss=0.577623\tDev F1=22.65\n",
      "[reRNN] Epoch 4 (38.91s)\tAverage loss=0.527851\tDev F1=30.97\n",
      "[reRNN] Training done (41.76s)\n",
      "INFO:tensorflow:Restoring parameters from checkpoints/reRNN/reRNN-1\n",
      "[reRNN] Loaded model <reRNN>\n"
     ]
    },
    {
     "name": "stderr",
     "output_type": "stream",
     "text": [
      "/home/antonis/ipythonNotebooks/snorkel-ml/snorkel/learning/disc_models/rnn/rnn_base.py:40: UserWarning: Candidate 632 has argument past max length for model:\t[arg ends at index 148; max len 117]\n",
      "  warnings.warn('\\t'.join([w.format(i), info]))\n",
      "/home/antonis/ipythonNotebooks/snorkel-ml/snorkel/learning/disc_models/rnn/rnn_base.py:40: UserWarning: Candidate 635 has argument past max length for model:\t[arg ends at index 120; max len 117]\n",
      "  warnings.warn('\\t'.join([w.format(i), info]))\n",
      "/home/antonis/ipythonNotebooks/snorkel-ml/snorkel/learning/disc_models/rnn/rnn_base.py:40: UserWarning: Candidate 643 has argument past max length for model:\t[arg ends at index 133; max len 117]\n",
      "  warnings.warn('\\t'.join([w.format(i), info]))\n",
      "/home/antonis/ipythonNotebooks/snorkel-ml/snorkel/learning/disc_models/rnn/rnn_base.py:40: UserWarning: Candidate 646 has argument past max length for model:\t[arg ends at index 125; max len 117]\n",
      "  warnings.warn('\\t'.join([w.format(i), info]))\n",
      "/home/antonis/ipythonNotebooks/snorkel-ml/snorkel/learning/disc_models/rnn/rnn_base.py:40: UserWarning: Candidate 657 has argument past max length for model:\t[arg ends at index 120; max len 117]\n",
      "  warnings.warn('\\t'.join([w.format(i), info]))\n",
      "/home/antonis/ipythonNotebooks/snorkel-ml/snorkel/learning/disc_models/rnn/rnn_base.py:40: UserWarning: Candidate 666 has argument past max length for model:\t[arg ends at index 133; max len 117]\n",
      "  warnings.warn('\\t'.join([w.format(i), info]))\n",
      "/home/antonis/ipythonNotebooks/snorkel-ml/snorkel/learning/disc_models/rnn/rnn_base.py:40: UserWarning: Candidate 669 has argument past max length for model:\t[arg ends at index 145; max len 117]\n",
      "  warnings.warn('\\t'.join([w.format(i), info]))\n",
      "/home/antonis/ipythonNotebooks/snorkel-ml/snorkel/learning/disc_models/rnn/rnn_base.py:40: UserWarning: Candidate 605 has argument past max length for model:\t[arg ends at index 148; max len 117]\n",
      "  warnings.warn('\\t'.join([w.format(i), info]))\n",
      "/home/antonis/ipythonNotebooks/snorkel-ml/snorkel/learning/disc_models/rnn/rnn_base.py:40: UserWarning: Candidate 608 has argument past max length for model:\t[arg ends at index 148; max len 117]\n",
      "  warnings.warn('\\t'.join([w.format(i), info]))\n",
      "/home/antonis/ipythonNotebooks/snorkel-ml/snorkel/learning/disc_models/rnn/rnn_base.py:40: UserWarning: Candidate 614 has argument past max length for model:\t[arg ends at index 122; max len 117]\n",
      "  warnings.warn('\\t'.join([w.format(i), info]))\n",
      "/home/antonis/ipythonNotebooks/snorkel-ml/snorkel/learning/disc_models/rnn/rnn_base.py:40: UserWarning: Candidate 616 has argument past max length for model:\t[arg ends at index 133; max len 117]\n",
      "  warnings.warn('\\t'.join([w.format(i), info]))\n",
      "/home/antonis/ipythonNotebooks/snorkel-ml/snorkel/learning/disc_models/rnn/rnn_base.py:40: UserWarning: Candidate 621 has argument past max length for model:\t[arg ends at index 172; max len 117]\n",
      "  warnings.warn('\\t'.join([w.format(i), info]))\n",
      "/home/antonis/ipythonNotebooks/snorkel-ml/snorkel/learning/disc_models/rnn/rnn_base.py:40: UserWarning: Candidate 625 has argument past max length for model:\t[arg ends at index 172; max len 117]\n",
      "  warnings.warn('\\t'.join([w.format(i), info]))\n",
      "/home/antonis/ipythonNotebooks/snorkel-ml/snorkel/learning/disc_models/rnn/rnn_base.py:40: UserWarning: Candidate 629 has argument past max length for model:\t[arg ends at index 145; max len 117]\n",
      "  warnings.warn('\\t'.join([w.format(i), info]))\n",
      "/home/antonis/ipythonNotebooks/snorkel-ml/snorkel/learning/disc_models/rnn/rnn_base.py:40: UserWarning: Candidate 637 has argument past max length for model:\t[arg ends at index 122; max len 117]\n",
      "  warnings.warn('\\t'.join([w.format(i), info]))\n",
      "/home/antonis/ipythonNotebooks/snorkel-ml/snorkel/learning/disc_models/rnn/rnn_base.py:40: UserWarning: Candidate 640 has argument past max length for model:\t[arg ends at index 133; max len 117]\n",
      "  warnings.warn('\\t'.join([w.format(i), info]))\n",
      "/home/antonis/ipythonNotebooks/snorkel-ml/snorkel/learning/disc_models/rnn/rnn_base.py:40: UserWarning: Candidate 643 has argument past max length for model:\t[arg ends at index 172; max len 117]\n",
      "  warnings.warn('\\t'.join([w.format(i), info]))\n",
      "/home/antonis/ipythonNotebooks/snorkel-ml/snorkel/learning/disc_models/rnn/rnn_base.py:40: UserWarning: Candidate 650 has argument past max length for model:\t[arg ends at index 120; max len 117]\n",
      "  warnings.warn('\\t'.join([w.format(i), info]))\n",
      "/home/antonis/ipythonNotebooks/snorkel-ml/snorkel/learning/disc_models/rnn/rnn_base.py:40: UserWarning: Candidate 653 has argument past max length for model:\t[arg ends at index 122; max len 117]\n",
      "  warnings.warn('\\t'.join([w.format(i), info]))\n",
      "/home/antonis/ipythonNotebooks/snorkel-ml/snorkel/learning/disc_models/rnn/rnn_base.py:40: UserWarning: Candidate 597 has argument past max length for model:\t[arg ends at index 172; max len 117]\n",
      "  warnings.warn('\\t'.join([w.format(i), info]))\n",
      "/home/antonis/ipythonNotebooks/snorkel-ml/snorkel/learning/disc_models/rnn/rnn_base.py:40: UserWarning: Candidate 599 has argument past max length for model:\t[arg ends at index 148; max len 117]\n",
      "  warnings.warn('\\t'.join([w.format(i), info]))\n",
      "/home/antonis/ipythonNotebooks/snorkel-ml/snorkel/learning/disc_models/rnn/rnn_base.py:40: UserWarning: Candidate 602 has argument past max length for model:\t[arg ends at index 148; max len 117]\n",
      "  warnings.warn('\\t'.join([w.format(i), info]))\n",
      "/home/antonis/ipythonNotebooks/snorkel-ml/snorkel/learning/disc_models/rnn/rnn_base.py:40: UserWarning: Candidate 605 has argument past max length for model:\t[arg ends at index 148; max len 117]\n",
      "  warnings.warn('\\t'.join([w.format(i), info]))\n",
      "/home/antonis/ipythonNotebooks/snorkel-ml/snorkel/learning/disc_models/rnn/rnn_base.py:40: UserWarning: Candidate 608 has argument past max length for model:\t[arg ends at index 172; max len 117]\n",
      "  warnings.warn('\\t'.join([w.format(i), info]))\n",
      "/home/antonis/ipythonNotebooks/snorkel-ml/snorkel/learning/disc_models/rnn/rnn_base.py:40: UserWarning: Candidate 614 has argument past max length for model:\t[arg ends at index 145; max len 117]\n",
      "  warnings.warn('\\t'.join([w.format(i), info]))\n",
      "/home/antonis/ipythonNotebooks/snorkel-ml/snorkel/learning/disc_models/rnn/rnn_base.py:40: UserWarning: Candidate 618 has argument past max length for model:\t[arg ends at index 120; max len 117]\n",
      "  warnings.warn('\\t'.join([w.format(i), info]))\n",
      "/home/antonis/ipythonNotebooks/snorkel-ml/snorkel/learning/disc_models/rnn/rnn_base.py:40: UserWarning: Candidate 619 has argument past max length for model:\t[arg ends at index 122; max len 117]\n",
      "  warnings.warn('\\t'.join([w.format(i), info]))\n",
      "/home/antonis/ipythonNotebooks/snorkel-ml/snorkel/learning/disc_models/rnn/rnn_base.py:40: UserWarning: Candidate 621 has argument past max length for model:\t[arg ends at index 145; max len 117]\n",
      "  warnings.warn('\\t'.join([w.format(i), info]))\n",
      "/home/antonis/ipythonNotebooks/snorkel-ml/snorkel/learning/disc_models/rnn/rnn_base.py:40: UserWarning: Candidate 623 has argument past max length for model:\t[arg ends at index 125; max len 117]\n",
      "  warnings.warn('\\t'.join([w.format(i), info]))\n",
      "/home/antonis/ipythonNotebooks/snorkel-ml/snorkel/learning/disc_models/rnn/rnn_base.py:40: UserWarning: Candidate 624 has argument past max length for model:\t[arg ends at index 125; max len 117]\n",
      "  warnings.warn('\\t'.join([w.format(i), info]))\n",
      "/home/antonis/ipythonNotebooks/snorkel-ml/snorkel/learning/disc_models/rnn/rnn_base.py:40: UserWarning: Candidate 628 has argument past max length for model:\t[arg ends at index 125; max len 117]\n",
      "  warnings.warn('\\t'.join([w.format(i), info]))\n",
      "/home/antonis/ipythonNotebooks/snorkel-ml/snorkel/learning/disc_models/rnn/rnn_base.py:40: UserWarning: Candidate 630 has argument past max length for model:\t[arg ends at index 133; max len 117]\n",
      "  warnings.warn('\\t'.join([w.format(i), info]))\n",
      "/home/antonis/ipythonNotebooks/snorkel-ml/snorkel/learning/disc_models/rnn/rnn_base.py:40: UserWarning: Candidate 631 has argument past max length for model:\t[arg ends at index 172; max len 117]\n",
      "  warnings.warn('\\t'.join([w.format(i), info]))\n",
      "/home/antonis/ipythonNotebooks/snorkel-ml/snorkel/learning/disc_models/rnn/rnn_base.py:40: UserWarning: Candidate 641 has argument past max length for model:\t[arg ends at index 145; max len 117]\n",
      "  warnings.warn('\\t'.join([w.format(i), info]))\n"
     ]
    },
    {
     "name": "stderr",
     "output_type": "stream",
     "text": [
      "/home/antonis/ipythonNotebooks/snorkel-ml/snorkel/learning/disc_models/rnn/rnn_base.py:40: UserWarning: Candidate 2825 has argument past max length for model:\t[arg ends at index 117; max len 117]\n",
      "  warnings.warn('\\t'.join([w.format(i), info]))\n",
      "/home/antonis/ipythonNotebooks/snorkel-ml/snorkel/learning/disc_models/rnn/rnn_base.py:40: UserWarning: Candidate 2830 has argument past max length for model:\t[arg ends at index 117; max len 117]\n",
      "  warnings.warn('\\t'.join([w.format(i), info]))\n",
      "/home/antonis/ipythonNotebooks/snorkel-ml/snorkel/learning/disc_models/rnn/rnn_base.py:40: UserWarning: Candidate 2834 has argument past max length for model:\t[arg ends at index 117; max len 117]\n",
      "  warnings.warn('\\t'.join([w.format(i), info]))\n",
      "/home/antonis/ipythonNotebooks/snorkel-ml/snorkel/learning/disc_models/rnn/rnn_base.py:40: UserWarning: Candidate 5256 has argument past max length for model:\t[arg ends at index 131; max len 117]\n",
      "  warnings.warn('\\t'.join([w.format(i), info]))\n",
      "/home/antonis/ipythonNotebooks/snorkel-ml/snorkel/learning/disc_models/rnn/rnn_base.py:40: UserWarning: Candidate 5261 has argument past max length for model:\t[arg ends at index 137; max len 117]\n",
      "  warnings.warn('\\t'.join([w.format(i), info]))\n",
      "/home/antonis/ipythonNotebooks/snorkel-ml/snorkel/learning/disc_models/rnn/rnn_base.py:40: UserWarning: Candidate 5286 has argument past max length for model:\t[arg ends at index 164; max len 117]\n",
      "  warnings.warn('\\t'.join([w.format(i), info]))\n",
      "/home/antonis/ipythonNotebooks/snorkel-ml/snorkel/learning/disc_models/rnn/rnn_base.py:40: UserWarning: Candidate 5289 has argument past max length for model:\t[arg ends at index 131; max len 117]\n",
      "  warnings.warn('\\t'.join([w.format(i), info]))\n",
      "/home/antonis/ipythonNotebooks/snorkel-ml/snorkel/learning/disc_models/rnn/rnn_base.py:40: UserWarning: Candidate 5292 has argument past max length for model:\t[arg ends at index 137; max len 117]\n",
      "  warnings.warn('\\t'.join([w.format(i), info]))\n",
      "/home/antonis/ipythonNotebooks/snorkel-ml/snorkel/learning/disc_models/rnn/rnn_base.py:40: UserWarning: Candidate 5310 has argument past max length for model:\t[arg ends at index 164; max len 117]\n",
      "  warnings.warn('\\t'.join([w.format(i), info]))\n",
      "/home/antonis/ipythonNotebooks/snorkel-ml/snorkel/learning/disc_models/rnn/rnn_base.py:40: UserWarning: Candidate 5314 has argument past max length for model:\t[arg ends at index 131; max len 117]\n",
      "  warnings.warn('\\t'.join([w.format(i), info]))\n",
      "/home/antonis/ipythonNotebooks/snorkel-ml/snorkel/learning/disc_models/rnn/rnn_base.py:40: UserWarning: Candidate 5316 has argument past max length for model:\t[arg ends at index 137; max len 117]\n",
      "  warnings.warn('\\t'.join([w.format(i), info]))\n",
      "/home/antonis/ipythonNotebooks/snorkel-ml/snorkel/learning/disc_models/rnn/rnn_base.py:40: UserWarning: Candidate 5337 has argument past max length for model:\t[arg ends at index 164; max len 117]\n",
      "  warnings.warn('\\t'.join([w.format(i), info]))\n",
      "/home/antonis/ipythonNotebooks/snorkel-ml/snorkel/learning/disc_models/rnn/rnn_base.py:40: UserWarning: Candidate 5340 has argument past max length for model:\t[arg ends at index 160; max len 117]\n",
      "  warnings.warn('\\t'.join([w.format(i), info]))\n",
      "/home/antonis/ipythonNotebooks/snorkel-ml/snorkel/learning/disc_models/rnn/rnn_base.py:40: UserWarning: Candidate 5343 has argument past max length for model:\t[arg ends at index 160; max len 117]\n",
      "  warnings.warn('\\t'.join([w.format(i), info]))\n",
      "/home/antonis/ipythonNotebooks/snorkel-ml/snorkel/learning/disc_models/rnn/rnn_base.py:40: UserWarning: Candidate 5346 has argument past max length for model:\t[arg ends at index 160; max len 117]\n",
      "  warnings.warn('\\t'.join([w.format(i), info]))\n",
      "/home/antonis/ipythonNotebooks/snorkel-ml/snorkel/learning/disc_models/rnn/rnn_base.py:40: UserWarning: Candidate 5353 has argument past max length for model:\t[arg ends at index 160; max len 117]\n",
      "  warnings.warn('\\t'.join([w.format(i), info]))\n",
      "/home/antonis/ipythonNotebooks/snorkel-ml/snorkel/learning/disc_models/rnn/rnn_base.py:40: UserWarning: Candidate 5358 has argument past max length for model:\t[arg ends at index 160; max len 117]\n",
      "  warnings.warn('\\t'.join([w.format(i), info]))\n",
      "/home/antonis/ipythonNotebooks/snorkel-ml/snorkel/learning/disc_models/rnn/rnn_base.py:40: UserWarning: Candidate 5362 has argument past max length for model:\t[arg ends at index 160; max len 117]\n",
      "  warnings.warn('\\t'.join([w.format(i), info]))\n",
      "/home/antonis/ipythonNotebooks/snorkel-ml/snorkel/learning/disc_models/rnn/rnn_base.py:40: UserWarning: Candidate 5368 has argument past max length for model:\t[arg ends at index 160; max len 117]\n",
      "  warnings.warn('\\t'.join([w.format(i), info]))\n",
      "/home/antonis/ipythonNotebooks/snorkel-ml/snorkel/learning/disc_models/rnn/rnn_base.py:40: UserWarning: Candidate 5372 has argument past max length for model:\t[arg ends at index 164; max len 117]\n",
      "  warnings.warn('\\t'.join([w.format(i), info]))\n",
      "/home/antonis/ipythonNotebooks/snorkel-ml/snorkel/learning/disc_models/rnn/rnn_base.py:40: UserWarning: Candidate 5376 has argument past max length for model:\t[arg ends at index 131; max len 117]\n",
      "  warnings.warn('\\t'.join([w.format(i), info]))\n",
      "/home/antonis/ipythonNotebooks/snorkel-ml/snorkel/learning/disc_models/rnn/rnn_base.py:40: UserWarning: Candidate 5381 has argument past max length for model:\t[arg ends at index 137; max len 117]\n",
      "  warnings.warn('\\t'.join([w.format(i), info]))\n",
      "/home/antonis/ipythonNotebooks/snorkel-ml/snorkel/learning/disc_models/rnn/rnn_base.py:40: UserWarning: Candidate 5404 has argument past max length for model:\t[arg ends at index 164; max len 117]\n",
      "  warnings.warn('\\t'.join([w.format(i), info]))\n",
      "/home/antonis/ipythonNotebooks/snorkel-ml/snorkel/learning/disc_models/rnn/rnn_base.py:40: UserWarning: Candidate 5408 has argument past max length for model:\t[arg ends at index 131; max len 117]\n",
      "  warnings.warn('\\t'.join([w.format(i), info]))\n",
      "/home/antonis/ipythonNotebooks/snorkel-ml/snorkel/learning/disc_models/rnn/rnn_base.py:40: UserWarning: Candidate 5413 has argument past max length for model:\t[arg ends at index 137; max len 117]\n",
      "  warnings.warn('\\t'.join([w.format(i), info]))\n",
      "/home/antonis/ipythonNotebooks/snorkel-ml/snorkel/learning/disc_models/rnn/rnn_base.py:40: UserWarning: Candidate 5434 has argument past max length for model:\t[arg ends at index 164; max len 117]\n",
      "  warnings.warn('\\t'.join([w.format(i), info]))\n",
      "/home/antonis/ipythonNotebooks/snorkel-ml/snorkel/learning/disc_models/rnn/rnn_base.py:40: UserWarning: Candidate 5439 has argument past max length for model:\t[arg ends at index 131; max len 117]\n",
      "  warnings.warn('\\t'.join([w.format(i), info]))\n",
      "/home/antonis/ipythonNotebooks/snorkel-ml/snorkel/learning/disc_models/rnn/rnn_base.py:40: UserWarning: Candidate 5441 has argument past max length for model:\t[arg ends at index 137; max len 117]\n",
      "  warnings.warn('\\t'.join([w.format(i), info]))\n",
      "/home/antonis/ipythonNotebooks/snorkel-ml/snorkel/learning/disc_models/rnn/rnn_base.py:40: UserWarning: Candidate 5460 has argument past max length for model:\t[arg ends at index 164; max len 117]\n",
      "  warnings.warn('\\t'.join([w.format(i), info]))\n"
     ]
    },
    {
     "data": {
      "text/plain": [
       "<module 'matplotlib.pyplot' from '/home/antonis/anaconda2/envs/snorkel27clone/lib/python2.7/site-packages/matplotlib/pyplot.pyc'>"
      ]
     },
     "execution_count": 127,
     "metadata": {},
     "output_type": "execute_result"
    },
    {
     "data": {
      "image/png": "[encoded data removed]",
      "text/plain": [
       "<Figure size 432x288 with 1 Axes>"
      ]
     },
     "metadata": {},
     "output_type": "display_data"
    },
    {
     "data": {
      "image/png": "[encoded data removed]",
      "text/plain": [
       "<Figure size 432x288 with 1 Axes>"
      ]
     },
     "metadata": {},
     "output_type": "display_data"
    }
   ],
   "source": [
    "# with LSTM\n",
    "\n",
    "from MLutils import custom_learning_curve\n",
    "\n",
    "train_kwargs = {\n",
    "    'lr':         0.01,\n",
    "    'dim':        100,\n",
    "    'n_epochs':   5,\n",
    "    'dropout':    0.25,\n",
    "    'rebalance':  True,\n",
    "    'print_freq': 1,\n",
    "    'batch_size': 64,\n",
    "    'dev_ckpt_delay': 0,\n",
    "    'X_dev': val_cands, \n",
    "    'Y_dev': y_val,\n",
    "    'verbose': False,\n",
    "}\n",
    "\n",
    "train_sizes, train_mse, train_f1, valid_mse , valid_f1 , test_prf1 = custom_learning_curve(\n",
    "    clf, train_cands[500:],y_train[500:], val_cands, y_val, X_init= train_cands[:500], y_init=y_train[:500],\n",
    "                      X_test = test_cands, y_test = y_test, fit_params = train_kwargs\n",
    "                     )\n",
    "\n",
    "plot_learning_curve(train_mse,valid_mse,train_sizes, 'MSE (P=%.2f%%,R=%.2f%%,F1=%.2f%%)'%(test_prf1))\n",
    "\n",
    "plot_learning_curve(train_f1,valid_f1,train_sizes, title='F1 (P=%.2f%%,R=%.2f%%,F1=%.2f%%)'%(test_prf1))\n"
   ]
  },
  {
   "cell_type": "code",
   "execution_count": 51,
   "metadata": {},
   "outputs": [
    {
     "data": {
      "text/plain": [
       "array([-1, -1, -1, ..., -1, -1, -1])"
      ]
     },
     "execution_count": 51,
     "metadata": {},
     "output_type": "execute_result"
    }
   ],
   "source": [
    "X_train"
   ]
  },
  {
   "cell_type": "code",
   "execution_count": null,
   "metadata": {},
   "outputs": [],
   "source": []
  },
  {
   "cell_type": "code",
   "execution_count": 220,
   "metadata": {},
   "outputs": [],
   "source": [
    "train_sizes_abs, train_scores, test_scores = learning_curve(\n",
    "    LogisticRegression(),\n",
    "    X_train, y_train, \n",
    "    scoring = mse_scorer\n",
    ")\n"
   ]
  },
  {
   "cell_type": "code",
   "execution_count": 221,
   "metadata": {},
   "outputs": [
    {
     "data": {
      "text/plain": [
       "array([ 438, 1424, 2411, 3397, 4384])"
      ]
     },
     "execution_count": 221,
     "metadata": {},
     "output_type": "execute_result"
    }
   ],
   "source": [
    "train_sizes_abs"
   ]
  },
  {
   "cell_type": "code",
   "execution_count": 222,
   "metadata": {},
   "outputs": [
    {
     "data": {
      "text/plain": [
       "array([[-0.02739726, -0.0913242 , -0.0913242 ],\n",
       "       [-0.11516854, -0.11235955, -0.11235955],\n",
       "       [-0.17917876, -0.13936126, -0.15429282],\n",
       "       [-0.22019429, -0.19546659, -0.184869  ],\n",
       "       [-0.23722628, -0.21441606, -0.19616788]])"
      ]
     },
     "execution_count": 222,
     "metadata": {},
     "output_type": "execute_result"
    }
   ],
   "source": [
    "train_scores"
   ]
  },
  {
   "cell_type": "code",
   "execution_count": 226,
   "metadata": {},
   "outputs": [
    {
     "data": {
      "text/plain": [
       "array([-0.07001522, -0.11329588, -0.15761095, -0.20017663, -0.21593674])"
      ]
     },
     "execution_count": 226,
     "metadata": {},
     "output_type": "execute_result"
    }
   ],
   "source": [
    "np.mean(train_scores, axis=1)"
   ]
  },
  {
   "cell_type": "code",
   "execution_count": 227,
   "metadata": {},
   "outputs": [
    {
     "data": {
      "text/plain": [
       "<module 'matplotlib.pyplot' from '/home/antonis/anaconda2/envs/snorkel27clone/lib/python2.7/site-packages/matplotlib/pyplot.pyc'>"
      ]
     },
     "execution_count": 227,
     "metadata": {},
     "output_type": "execute_result"
    },
    {
     "data": {
      "image/png": "[encoded data removed]",
      "text/plain": [
       "<Figure size 432x288 with 1 Axes>"
      ]
     },
     "metadata": {},
     "output_type": "display_data"
    }
   ],
   "source": [
    "plot_learning_curve(test_scores, train_scores, train_sizes_abs)"
   ]
  },
  {
   "cell_type": "code",
   "execution_count": null,
   "metadata": {},
   "outputs": [],
   "source": []
  },
  {
   "cell_type": "code",
   "execution_count": 190,
   "metadata": {},
   "outputs": [
    {
     "data": {
      "text/plain": [
       "[1000, 2840, 4066, 5349, 6576]"
      ]
     },
     "execution_count": 190,
     "metadata": {},
     "output_type": "execute_result"
    }
   ],
   "source": [
    "train_sizes"
   ]
  },
  {
   "cell_type": "code",
   "execution_count": 185,
   "metadata": {},
   "outputs": [
    {
     "data": {
      "text/plain": [
       "array([[-0.1093275 ],\n",
       "       [-0.09710326],\n",
       "       [-0.09047901],\n",
       "       [-0.08456929],\n",
       "       [-0.08273065]])"
      ]
     },
     "execution_count": 185,
     "metadata": {},
     "output_type": "execute_result"
    }
   ],
   "source": [
    "train_mse"
   ]
  },
  {
   "cell_type": "code",
   "execution_count": 162,
   "metadata": {},
   "outputs": [
    {
     "data": {
      "text/plain": [
       "array([[ 0.71879887],\n",
       "       [ 0.81435143],\n",
       "       [ 0.8458771 ],\n",
       "       [ 0.86775214],\n",
       "       [ 0.87786869]])"
      ]
     },
     "execution_count": 162,
     "metadata": {},
     "output_type": "execute_result"
    }
   ],
   "source": [
    "train_f1"
   ]
  },
  {
   "cell_type": "code",
   "execution_count": 163,
   "metadata": {},
   "outputs": [
    {
     "data": {
      "text/plain": [
       "array([[-0.16188714, -0.17113784, -0.17592593],\n",
       "       [-0.15726179, -0.160037  , -0.15833333],\n",
       "       [-0.15448659, -0.15633673, -0.15462963],\n",
       "       [-0.15078631, -0.15911193, -0.14537037],\n",
       "       [-0.14616096, -0.15356152, -0.15092593]])"
      ]
     },
     "execution_count": 163,
     "metadata": {},
     "output_type": "execute_result"
    }
   ],
   "source": [
    "valid_mse"
   ]
  },
  {
   "cell_type": "code",
   "execution_count": 164,
   "metadata": {},
   "outputs": [
    {
     "data": {
      "text/plain": [
       "array([[ 0.48377581,  0.43425076,  0.39102564],\n",
       "       [ 0.55026455,  0.53116531,  0.51558074],\n",
       "       [ 0.56847545,  0.56777494,  0.54495913],\n",
       "       [ 0.5914787 ,  0.5678392 ,  0.57908847],\n",
       "       [ 0.6127451 ,  0.58706468,  0.56992084]])"
      ]
     },
     "execution_count": 164,
     "metadata": {},
     "output_type": "execute_result"
    }
   ],
   "source": [
    "valid_f1"
   ]
  },
  {
   "cell_type": "code",
   "execution_count": null,
   "metadata": {},
   "outputs": [],
   "source": []
  },
  {
   "cell_type": "code",
   "execution_count": 165,
   "metadata": {},
   "outputs": [
    {
     "data": {
      "text/plain": [
       "(array([ 0.91092512,  0.90718954]),\n",
       " array([ 0.97723264,  0.69959677]),\n",
       " array([ 0.9429146 ,  0.78998293]))"
      ]
     },
     "execution_count": 165,
     "metadata": {},
     "output_type": "execute_result"
    }
   ],
   "source": [
    "test_prf1"
   ]
  },
  {
   "cell_type": "code",
   "execution_count": null,
   "metadata": {},
   "outputs": [],
   "source": []
  },
  {
   "cell_type": "code",
   "execution_count": null,
   "metadata": {},
   "outputs": [],
   "source": []
  },
  {
   "cell_type": "code",
   "execution_count": 166,
   "metadata": {},
   "outputs": [],
   "source": [
    "from MLutils import plot_learning_curve"
   ]
  },
  {
   "cell_type": "code",
   "execution_count": 169,
   "metadata": {},
   "outputs": [
    {
     "data": {
      "text/plain": [
       "(array([ 0.91092512,  0.90718954]),\n",
       " array([ 0.97723264,  0.69959677]),\n",
       " array([ 0.9429146 ,  0.78998293]))"
      ]
     },
     "execution_count": 169,
     "metadata": {},
     "output_type": "execute_result"
    }
   ],
   "source": [
    "test_prf1"
   ]
  },
  {
   "cell_type": "code",
   "execution_count": null,
   "metadata": {},
   "outputs": [],
   "source": []
  },
  {
   "cell_type": "code",
   "execution_count": 63,
   "metadata": {},
   "outputs": [
    {
     "data": {
      "text/plain": [
       "sklearn.linear_model.logistic.LogisticRegression"
      ]
     },
     "execution_count": 63,
     "metadata": {},
     "output_type": "execute_result"
    }
   ],
   "source": [
    "clf.__class__"
   ]
  },
  {
   "cell_type": "code",
   "execution_count": 110,
   "metadata": {},
   "outputs": [],
   "source": [
    "a = np.array(mse_train).reshape((-1,1))"
   ]
  },
  {
   "cell_type": "code",
   "execution_count": 104,
   "metadata": {},
   "outputs": [
    {
     "data": {
      "text/plain": [
       "array([[-0.74745606, -0.71415356, -0.75925926],\n",
       "       [-0.74745606, -0.71415356, -0.75925926],\n",
       "       [-0.74745606, -0.71415356, -0.75925926],\n",
       "       [-0.74745606, -0.71415356, -0.75925926],\n",
       "       [-0.74745606, -0.71415356, -0.75925926]])"
      ]
     },
     "execution_count": 104,
     "metadata": {},
     "output_type": "execute_result"
    }
   ],
   "source": [
    "valid_mse"
   ]
  },
  {
   "cell_type": "code",
   "execution_count": 107,
   "metadata": {},
   "outputs": [],
   "source": [
    "clf_name = str(clf.__class__).split('.')[-1].split(\"'\")[0]"
   ]
  },
  {
   "cell_type": "code",
   "execution_count": 118,
   "metadata": {},
   "outputs": [
    {
     "name": "stdout",
     "output_type": "stream",
     "text": [
      "[ 0.80242567  0.84810127] [ 0.98653199  0.23639113] [ 0.88500539  0.36972803]\n"
     ]
    }
   ],
   "source": [
    "print p,r,f1"
   ]
  },
  {
   "cell_type": "code",
   "execution_count": null,
   "metadata": {},
   "outputs": [],
   "source": []
  },
  {
   "cell_type": "markdown",
   "metadata": {},
   "source": [
    "## Plot learning curves"
   ]
  },
  {
   "cell_type": "code",
   "execution_count": 66,
   "metadata": {},
   "outputs": [],
   "source": [
    "from learning_curves import learning_curve"
   ]
  },
  {
   "cell_type": "code",
   "execution_count": 33,
   "metadata": {},
   "outputs": [],
   "source": [
    "from scipy.sparse import vstack\n",
    "import numpy as np"
   ]
  },
  {
   "cell_type": "code",
   "execution_count": 34,
   "metadata": {},
   "outputs": [],
   "source": [
    "X_all = vstack((X_train,X_val))\n",
    "y_all = (y_train.append(y_val)).values\n",
    "X_all_split = np.array([0 for i in enumerate(X_train)] + [1 for i in enumerate(X_val)])"
   ]
  },
  {
   "cell_type": "code",
   "execution_count": 256,
   "metadata": {},
   "outputs": [
    {
     "data": {
      "text/plain": [
       "<6576x77657 sparse matrix of type '<type 'numpy.float64'>'\n",
       "\twith 317640 stored elements in Compressed Sparse Row format>"
      ]
     },
     "execution_count": 256,
     "metadata": {},
     "output_type": "execute_result"
    }
   ],
   "source": [
    "X_train"
   ]
  },
  {
   "cell_type": "code",
   "execution_count": 36,
   "metadata": {},
   "outputs": [
    {
     "data": {
      "text/plain": [
       "(16249,)"
      ]
     },
     "execution_count": 36,
     "metadata": {},
     "output_type": "execute_result"
    }
   ],
   "source": [
    "X_all_split.shape"
   ]
  },
  {
   "cell_type": "code",
   "execution_count": 65,
   "metadata": {},
   "outputs": [],
   "source": [
    "mse_scorer = make_scorer(mean_squared_error, greater_is_better=False)\n",
    "f1_scorer = make_scorer(f1_score, greater_is_better=True)\n"
   ]
  },
  {
   "cell_type": "code",
   "execution_count": 66,
   "metadata": {},
   "outputs": [],
   "source": [
    "train_sizes, train_scores, valid_scores = learning_curve(\n",
    "    AdaBoostClassifier(n_estimators=75),\n",
    "    X_all, y_all, \n",
    "    #train_sizes=range(1000, X_train.shape[0], 1000), \n",
    "    groups = X_all_split,\n",
    "    scoring = mse_scorer\n",
    ")\n"
   ]
  },
  {
   "cell_type": "code",
   "execution_count": 67,
   "metadata": {},
   "outputs": [
    {
     "data": {
      "text/plain": [
       "array([[-0.41366574, -0.33979686, -0.33979686],\n",
       "       [-0.59772727, -0.56931818, -0.56931818],\n",
       "       [-0.63521907, -0.62581836, -0.63857646],\n",
       "       [-0.64665237, -0.6285442 , -0.63092685],\n",
       "       [-0.63995569, -0.64069424, -0.64401773]])"
      ]
     },
     "execution_count": 67,
     "metadata": {},
     "output_type": "execute_result"
    }
   ],
   "source": [
    "train_scores"
   ]
  },
  {
   "cell_type": "code",
   "execution_count": 68,
   "metadata": {},
   "outputs": [
    {
     "data": {
      "text/plain": [
       "array([[-0.8669005 , -0.86616208, -0.90858726],\n",
       "       [-0.76056858, -0.79527414, -0.80590951],\n",
       "       [-0.6741739 , -0.76352224, -0.76306556],\n",
       "       [-0.73620085, -0.73103194, -0.74607572],\n",
       "       [-0.71847886, -0.73472402, -0.69953832]])"
      ]
     },
     "execution_count": 68,
     "metadata": {},
     "output_type": "execute_result"
    }
   ],
   "source": [
    "valid_scores"
   ]
  },
  {
   "cell_type": "code",
   "execution_count": 69,
   "metadata": {},
   "outputs": [
    {
     "data": {
      "text/plain": [
       "array([ 1083,  3520,  5957,  8394, 10832])"
      ]
     },
     "execution_count": 69,
     "metadata": {},
     "output_type": "execute_result"
    }
   ],
   "source": [
    "train_sizes"
   ]
  },
  {
   "cell_type": "code",
   "execution_count": null,
   "metadata": {},
   "outputs": [],
   "source": []
  },
  {
   "cell_type": "code",
   "execution_count": 95,
   "metadata": {},
   "outputs": [],
   "source": [
    "from MLutils import plot_learning_curve"
   ]
  },
  {
   "cell_type": "code",
   "execution_count": 61,
   "metadata": {},
   "outputs": [
    {
     "data": {
      "image/png": "[encoded data removed]",
      "text/plain": [
       "<Figure size 432x288 with 1 Axes>"
      ]
     },
     "metadata": {},
     "output_type": "display_data"
    }
   ],
   "source": [
    "plot_learning_curve(train_scores, \n",
    "                        valid_scores,\n",
    "                        train_sizes=train_sizes,\n",
    "                   title = 'Adaboost learning curve (Dec. Trees, 75 estimators)')\n",
    "\n",
    "plt.show()"
   ]
  },
  {
   "cell_type": "code",
   "execution_count": 70,
   "metadata": {},
   "outputs": [
    {
     "data": {
      "image/png": "[encoded data removed]",
      "text/plain": [
       "<Figure size 432x288 with 1 Axes>"
      ]
     },
     "metadata": {},
     "output_type": "display_data"
    }
   ],
   "source": [
    "plot_learning_curve(train_scores, \n",
    "                        valid_scores,\n",
    "                        train_sizes=train_sizes,\n",
    "                   title = 'Adaboost learning curve (Dec. Trees, 75 estimators)')\n",
    "\n",
    "plt.show()"
   ]
  },
  {
   "cell_type": "code",
   "execution_count": 71,
   "metadata": {},
   "outputs": [],
   "source": [
    "## F1 score"
   ]
  },
  {
   "cell_type": "code",
   "execution_count": 72,
   "metadata": {},
   "outputs": [],
   "source": [
    "train_sizes, train_scores, valid_scores = learning_curve(\n",
    "    AdaBoostClassifier(n_estimators=75 ),\n",
    "    X_all, y_all, \n",
    "    #train_sizes=range(1000, X_train.shape[0], 1000), \n",
    "    groups = X_all_split,\n",
    "    scoring = f1_scorer\n",
    ")\n"
   ]
  },
  {
   "cell_type": "code",
   "execution_count": 74,
   "metadata": {},
   "outputs": [
    {
     "data": {
      "image/png": "[encoded data removed]",
      "text/plain": [
       "<Figure size 432x288 with 1 Axes>"
      ]
     },
     "metadata": {},
     "output_type": "display_data"
    }
   ],
   "source": [
    "plot_learning_curve(train_scores, \n",
    "                        valid_scores,\n",
    "                        train_sizes=train_sizes,\n",
    "                   title = 'Adaboost learning curve (F1 score, Dec. Trees, 75 estimators)')\n",
    "\n",
    "plt.show()"
   ]
  },
  {
   "cell_type": "code",
   "execution_count": null,
   "metadata": {},
   "outputs": [],
   "source": []
  },
  {
   "cell_type": "code",
   "execution_count": null,
   "metadata": {},
   "outputs": [],
   "source": []
  },
  {
   "cell_type": "markdown",
   "metadata": {},
   "source": [
    "** With Linear SVC **"
   ]
  },
  {
   "cell_type": "code",
   "execution_count": 88,
   "metadata": {},
   "outputs": [],
   "source": [
    "from sklearn.svm import SVC"
   ]
  },
  {
   "cell_type": "code",
   "execution_count": 75,
   "metadata": {
    "scrolled": true
   },
   "outputs": [],
   "source": [
    "# estimators = range(50,351,150)\n",
    "estimators = [1,5,25] #+range(50,351,25)\n",
    "\n",
    "scores_df = pd.DataFrame(index=estimators)\n",
    "\n",
    "\n",
    "\n",
    "for n in estimators:\n",
    "    clf = AdaBoostClassifier(n_estimators=n, \n",
    "                             base_estimator = LinearSVC,\n",
    "                             algorithm='SAMME'\n",
    "                            )\n",
    "    clf.fit(X_train,y_train)\n",
    "    \n",
    "    pred = clf.predict(X_train)\n",
    "    scores_df.loc[n,'f1_train'] = f1_score(y_train,pred)\n",
    "    pred = clf.predict(X_val)\n",
    "    scores_df.loc[n,'f1_val'] = f1_score(y_val,pred)\n",
    "#     scores_df['train_score'] = clf.score(X_train,y_train)\n",
    "\n",
    "\n",
    "\n",
    "# scores = validation_curve(clf, X_train, y_train,\n",
    "#                          'n_estimators', estimators)\n"
   ]
  },
  {
   "cell_type": "code",
   "execution_count": 83,
   "metadata": {},
   "outputs": [
    {
     "data": {
      "text/plain": [
       "<matplotlib.axes._subplots.AxesSubplot at 0x7f3212b86310>"
      ]
     },
     "execution_count": 83,
     "metadata": {},
     "output_type": "execute_result"
    },
    {
     "data": {
      "image/png": "[encoded data removed]",
      "text/plain": [
       "<Figure size 432x288 with 1 Axes>"
      ]
     },
     "metadata": {},
     "output_type": "display_data"
    }
   ],
   "source": [
    "scores_df.plot(title='AdaBoost (base estimator = LR)')"
   ]
  },
  {
   "cell_type": "code",
   "execution_count": null,
   "metadata": {},
   "outputs": [],
   "source": []
  },
  {
   "cell_type": "markdown",
   "metadata": {},
   "source": [
    "## BrownBoost"
   ]
  },
  {
   "cell_type": "code",
   "execution_count": 79,
   "metadata": {},
   "outputs": [],
   "source": [
    "from MLutils import BrownBoost"
   ]
  },
  {
   "cell_type": "code",
   "execution_count": 80,
   "metadata": {},
   "outputs": [],
   "source": [
    "from sklearn.tree import DecisionTreeClassifier"
   ]
  },
  {
   "cell_type": "code",
   "execution_count": null,
   "metadata": {},
   "outputs": [],
   "source": []
  },
  {
   "cell_type": "code",
   "execution_count": 81,
   "metadata": {},
   "outputs": [],
   "source": [
    "# prediction = brownboost.predict(X_test)\n",
    "# accuracy = accuracy_score(y_test, prediction)\n",
    "# precision = precision_score(y_test, prediction, pos_label=1, labels=[-1, 1])\n",
    "# recall = recall_score(y_test, prediction, pos_label=1, labels=[-1, 1])\n",
    "# clf_f1_score = f1_score(y_test, prediction, pos_label=1, labels=[-1, 1])\n",
    "# print(\"mean accuracy : %.4f \\n\" % accuracy)\n",
    "# precision, recall, clf_f1_score"
   ]
  },
  {
   "cell_type": "code",
   "execution_count": 110,
   "metadata": {},
   "outputs": [
    {
     "name": "stdout",
     "output_type": "stream",
     "text": [
      "0.724848915748 0.573268921095\n",
      "808.138631821\n"
     ]
    }
   ],
   "source": [
    "base_estimator = DecisionTreeClassifier(max_depth=1)\n",
    "brownboost = BrownBoost(base_estimator, c=1)\n",
    "st_time = time.time()\n",
    "\n",
    "brownboost.fit(X_train, np.array(y_train))\n",
    "pred = brownboost.predict(X_train)\n",
    "f1_train = f1_score(y_train,pred)\n",
    "pred = brownboost.predict(X_val)\n",
    "f1_val = f1_score(y_val,pred)\n",
    "print f1_train,f1_val\n",
    "print time.time()-st_time"
   ]
  },
  {
   "cell_type": "code",
   "execution_count": null,
   "metadata": {},
   "outputs": [],
   "source": []
  },
  {
   "cell_type": "code",
   "execution_count": 76,
   "metadata": {},
   "outputs": [],
   "source": [
    "## BrownBoost learning curves"
   ]
  },
  {
   "cell_type": "code",
   "execution_count": 77,
   "metadata": {},
   "outputs": [],
   "source": [
    "import time"
   ]
  },
  {
   "cell_type": "code",
   "execution_count": 93,
   "metadata": {},
   "outputs": [],
   "source": [
    "from MLutils import BrownBoost"
   ]
  },
  {
   "cell_type": "code",
   "execution_count": 113,
   "metadata": {},
   "outputs": [
    {
     "data": {
      "image/png": "[encoded data removed]",
      "text/plain": [
       "<Figure size 432x288 with 1 Axes>"
      ]
     },
     "metadata": {},
     "output_type": "display_data"
    },
    {
     "name": "stdout",
     "output_type": "stream",
     "text": [
      "5793.73460007\n"
     ]
    },
    {
     "data": {
      "image/png": "[encoded data removed]",
      "text/plain": [
       "<Figure size 432x288 with 1 Axes>"
      ]
     },
     "metadata": {},
     "output_type": "display_data"
    },
    {
     "name": "stdout",
     "output_type": "stream",
     "text": [
      "8870.76387811\n"
     ]
    },
    {
     "data": {
      "image/png": "[encoded data removed]",
      "text/plain": [
       "<Figure size 432x288 with 1 Axes>"
      ]
     },
     "metadata": {},
     "output_type": "display_data"
    },
    {
     "name": "stdout",
     "output_type": "stream",
     "text": [
      "8856.51826715\n"
     ]
    }
   ],
   "source": [
    "#define BrownBoost hyperparams\n",
    "\n",
    "for c in [.5,1,1.5]:\n",
    "\n",
    "    base_estimator = DecisionTreeClassifier(max_depth=1)\n",
    "\n",
    "    st_time = time.time()\n",
    "    train_sizes, train_scores, valid_scores = learning_curve(\n",
    "        BrownBoost(base_estimator, c=c) ,\n",
    "        X_all, y_all, \n",
    "        #train_sizes=range(1000, X_train.shape[0], 1000), \n",
    "        groups = X_all_split,\n",
    "        scoring = mse_scorer,\n",
    "        n_jobs = -1\n",
    "\n",
    "    )\n",
    "\n",
    "    plot_learning_curve(train_scores, \n",
    "                            valid_scores,\n",
    "                            train_sizes=train_sizes,\n",
    "                       title = 'BrownBoost learning curve (c=%.2f)'%c)\n",
    "\n",
    "    plt.show()\n",
    "    print time.time()-st_time"
   ]
  },
  {
   "cell_type": "code",
   "execution_count": null,
   "metadata": {},
   "outputs": [],
   "source": []
  },
  {
   "cell_type": "code",
   "execution_count": null,
   "metadata": {},
   "outputs": [],
   "source": []
  },
  {
   "cell_type": "markdown",
   "metadata": {},
   "source": [
    "## RobustBoost"
   ]
  },
  {
   "cell_type": "code",
   "execution_count": 113,
   "metadata": {},
   "outputs": [],
   "source": [
    "from MLutils import RobustBoost"
   ]
  },
  {
   "cell_type": "code",
   "execution_count": 114,
   "metadata": {},
   "outputs": [],
   "source": [
    "from sklearn.tree import DecisionTreeClassifier"
   ]
  },
  {
   "cell_type": "code",
   "execution_count": 117,
   "metadata": {},
   "outputs": [],
   "source": [
    "base_estimator = DecisionTreeClassifier(max_depth=1)\n",
    "robustboost = RobustBoost(base_estimator)"
   ]
  },
  {
   "cell_type": "code",
   "execution_count": 118,
   "metadata": {},
   "outputs": [],
   "source": [
    "# prediction = brownboost.predict(X_test)\n",
    "# accuracy = accuracy_score(y_test, prediction)\n",
    "# precision = precision_score(y_test, prediction, pos_label=1, labels=[-1, 1])\n",
    "# recall = recall_score(y_test, prediction, pos_label=1, labels=[-1, 1])\n",
    "# clf_f1_score = f1_score(y_test, prediction, pos_label=1, labels=[-1, 1])\n",
    "# print(\"mean accuracy : %.4f \\n\" % accuracy)\n",
    "# precision, recall, clf_f1_score"
   ]
  },
  {
   "cell_type": "code",
   "execution_count": 119,
   "metadata": {},
   "outputs": [
    {
     "ename": "NameError",
     "evalue": "global name 't' is not defined",
     "output_type": "error",
     "traceback": [
      "\u001b[0;31m---------------------------------------------------------------------------\u001b[0m",
      "\u001b[0;31mNameError\u001b[0m                                 Traceback (most recent call last)",
      "\u001b[0;32m<ipython-input-119-a40744499d2a>\u001b[0m in \u001b[0;36m<module>\u001b[0;34m()\u001b[0m\n\u001b[0;32m----> 1\u001b[0;31m \u001b[0mrobustboost\u001b[0m\u001b[0;34m.\u001b[0m\u001b[0mfit\u001b[0m\u001b[0;34m(\u001b[0m\u001b[0mX_train\u001b[0m\u001b[0;34m,\u001b[0m \u001b[0mnp\u001b[0m\u001b[0;34m.\u001b[0m\u001b[0marray\u001b[0m\u001b[0;34m(\u001b[0m\u001b[0my_train\u001b[0m\u001b[0;34m)\u001b[0m\u001b[0;34m)\u001b[0m\u001b[0;34m\u001b[0m\u001b[0m\n\u001b[0m\u001b[1;32m      2\u001b[0m \u001b[0mpred\u001b[0m \u001b[0;34m=\u001b[0m \u001b[0mrobustboost\u001b[0m\u001b[0;34m.\u001b[0m\u001b[0mpredict\u001b[0m\u001b[0;34m(\u001b[0m\u001b[0mX_train\u001b[0m\u001b[0;34m)\u001b[0m\u001b[0;34m\u001b[0m\u001b[0m\n\u001b[1;32m      3\u001b[0m \u001b[0mf1_train\u001b[0m \u001b[0;34m=\u001b[0m \u001b[0mf1_score\u001b[0m\u001b[0;34m(\u001b[0m\u001b[0my_train\u001b[0m\u001b[0;34m,\u001b[0m\u001b[0mpred\u001b[0m\u001b[0;34m)\u001b[0m\u001b[0;34m\u001b[0m\u001b[0m\n\u001b[1;32m      4\u001b[0m \u001b[0mpred\u001b[0m \u001b[0;34m=\u001b[0m \u001b[0mrobustboost\u001b[0m\u001b[0;34m.\u001b[0m\u001b[0mpredict\u001b[0m\u001b[0;34m(\u001b[0m\u001b[0mX_val\u001b[0m\u001b[0;34m)\u001b[0m\u001b[0;34m\u001b[0m\u001b[0m\n\u001b[1;32m      5\u001b[0m \u001b[0mf1_val\u001b[0m \u001b[0;34m=\u001b[0m \u001b[0mf1_score\u001b[0m\u001b[0;34m(\u001b[0m\u001b[0my_val\u001b[0m\u001b[0;34m,\u001b[0m\u001b[0mpred\u001b[0m\u001b[0;34m)\u001b[0m\u001b[0;34m\u001b[0m\u001b[0m\n",
      "\u001b[0;32m/home/antonis/ipythonNotebooks/snorkel-ml/my-code/MLutils.py\u001b[0m in \u001b[0;36mfit\u001b[0;34m(self, X, y)\u001b[0m\n\u001b[1;32m    566\u001b[0m         \u001b[0mself\u001b[0m\u001b[0;34m.\u001b[0m\u001b[0mrho\u001b[0m \u001b[0;34m=\u001b[0m \u001b[0mself\u001b[0m\u001b[0;34m.\u001b[0m\u001b[0m_calculate_rho\u001b[0m\u001b[0;34m(\u001b[0m\u001b[0;34m)\u001b[0m\u001b[0;34m\u001b[0m\u001b[0m\n\u001b[1;32m    567\u001b[0m \u001b[0;34m\u001b[0m\u001b[0m\n\u001b[0;32m--> 568\u001b[0;31m         \u001b[0;32mwhile\u001b[0m \u001b[0mt\u001b[0m \u001b[0;34m<\u001b[0m \u001b[0;36m1\u001b[0m\u001b[0;34m:\u001b[0m\u001b[0;34m\u001b[0m\u001b[0m\n\u001b[0m\u001b[1;32m    569\u001b[0m             \u001b[0mm_weights_old\u001b[0m \u001b[0;34m=\u001b[0m \u001b[0mcp\u001b[0m\u001b[0;34m.\u001b[0m\u001b[0mdeepcopy\u001b[0m\u001b[0;34m(\u001b[0m\u001b[0mm_weights\u001b[0m\u001b[0;34m)\u001b[0m\u001b[0;34m\u001b[0m\u001b[0m\n\u001b[1;32m    570\u001b[0m             \u001b[0mm_t_old\u001b[0m \u001b[0;34m=\u001b[0m \u001b[0mm_t\u001b[0m\u001b[0;34m\u001b[0m\u001b[0m\n",
      "\u001b[0;31mNameError\u001b[0m: global name 't' is not defined"
     ]
    }
   ],
   "source": [
    "# robustboost.fit(X_train, np.array(y_train))\n",
    "# pred = robustboost.predict(X_train)\n",
    "# f1_train = f1_score(y_train,pred)\n",
    "# pred = robustboost.predict(X_val)\n",
    "# f1_val = f1_score(y_val,pred)\n",
    "# print f1_train,f1_val"
   ]
  },
  {
   "cell_type": "code",
   "execution_count": null,
   "metadata": {},
   "outputs": [],
   "source": []
  },
  {
   "cell_type": "code",
   "execution_count": null,
   "metadata": {},
   "outputs": [],
   "source": []
  },
  {
   "cell_type": "code",
   "execution_count": null,
   "metadata": {},
   "outputs": [],
   "source": []
  },
  {
   "cell_type": "code",
   "execution_count": null,
   "metadata": {},
   "outputs": [],
   "source": []
  }
 ],
 "metadata": {
  "kernelspec": {
   "display_name": "Python [conda env:snorkel27clone]",
   "language": "python",
   "name": "conda-env-snorkel27clone-py"
  },
  "language_info": {
   "codemirror_mode": {
    "name": "ipython",
    "version": 2
   },
   "file_extension": ".py",
   "mimetype": "text/x-python",
   "name": "python",
   "nbconvert_exporter": "python",
   "pygments_lexer": "ipython2",
   "version": "2.7.15"
  }
 },
 "nbformat": 4,
 "nbformat_minor": 2
}
