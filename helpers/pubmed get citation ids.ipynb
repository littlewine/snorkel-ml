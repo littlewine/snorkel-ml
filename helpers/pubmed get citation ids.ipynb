{
 "cells": [
  {
   "cell_type": "code",
   "execution_count": null,
   "metadata": {},
   "outputs": [],
   "source": [
    "#TODO: merge file with NCBI parsed?"
   ]
  },
  {
   "cell_type": "code",
   "execution_count": 1,
   "metadata": {},
   "outputs": [],
   "source": [
    "import sys , os \n",
    "import urllib, pickle\n"
   ]
  },
  {
   "cell_type": "code",
   "execution_count": 53,
   "metadata": {},
   "outputs": [],
   "source": [
    "# LOAD from pickle\n",
    "with open('/home/antonis/data/biocreative6/pubmed_ids_extended.pickle', 'rb') as f:\n",
    "    pubmed_ids = pickle.load(f)"
   ]
  },
  {
   "cell_type": "code",
   "execution_count": 3,
   "metadata": {},
   "outputs": [
    {
     "data": {
      "text/plain": [
       "2432"
      ]
     },
     "execution_count": 3,
     "metadata": {},
     "output_type": "execute_result"
    }
   ],
   "source": [
    "len(pubmed_ids['development']+pubmed_ids['training']+pubmed_ids['test_gs'])"
   ]
  },
  {
   "cell_type": "code",
   "execution_count": 4,
   "metadata": {},
   "outputs": [
    {
     "name": "stdout",
     "output_type": "stream",
     "text": [
      "Will search for citations from 2432 PubMed articles\n"
     ]
    }
   ],
   "source": [
    "#define from which ids to take citations from\n",
    "ids = pubmed_ids['development']+pubmed_ids['training']+pubmed_ids['test_gs']\n",
    "print 'Will search for citations from %i PubMed articles'%len(ids)"
   ]
  },
  {
   "cell_type": "code",
   "execution_count": 5,
   "metadata": {},
   "outputs": [],
   "source": [
    "bioconcept = 'Bioconcept' # includes all formats (genes, chemicals, diseases...)\n",
    "api_output_loc = 'temp/citations_list.txt'"
   ]
  },
  {
   "cell_type": "code",
   "execution_count": 59,
   "metadata": {
    "scrolled": true
   },
   "outputs": [],
   "source": [
    "from pubmed_utils import get_pubmed_citations\n"
   ]
  },
  {
   "cell_type": "code",
   "execution_count": 60,
   "metadata": {},
   "outputs": [
    {
     "name": "stdout",
     "output_type": "stream",
     "text": [
      "Download citations from articles 1 to 200  . . . .\n",
      "Download citations from articles 200 to 399  . . . .\n",
      "Download citations from articles 399 to 598  . . . .\n",
      "Download citations from articles 598 to 797  . . . .\n",
      "Download citations from articles 797 to 996  . . . .\n",
      "Download citations from articles 996 to 1195  . . . .\n",
      "Download citations from articles 1195 to 1394  . . . .\n",
      "Download citations from articles 1394 to 1593  . . . .\n",
      "Download citations from articles 1593 to 1792  . . . .\n",
      "Download citations from articles 1792 to 1991  . . . .\n",
      "Download citations from articles 1991 to 2190  . . . .\n",
      "Download citations from articles 2190 to 2389  . . . .\n",
      "Download citations from articles 2389 to 2588  . . . .\n",
      "Found 22973 citations (22291 unique) from 2432 articles\n",
      "Download citations from articles 1 to 200  . . . .\n",
      "Download citations from articles 200 to 399  . . . .\n",
      "Download citations from articles 399 to 598  . . . .\n",
      "Download citations from articles 598 to 797  . . . .\n",
      "Download citations from articles 797 to 996  . . . .\n",
      "Download citations from articles 996 to 1195  . . . .\n",
      "Download citations from articles 1195 to 1394  . . . .\n",
      "Download citations from articles 1394 to 1593  . . . .\n",
      "Download citations from articles 1593 to 1792  . . . .\n",
      "Download citations from articles 1792 to 1991  . . . .\n",
      "Download citations from articles 1991 to 2190  . . . .\n",
      "Download citations from articles 2190 to 2389  . . . .\n",
      "Download citations from articles 2389 to 2588  . . . .\n",
      "Found 29059 citations (27585 unique) from 2432 articles\n"
     ]
    }
   ],
   "source": [
    "pubmed_ids['outgoing_citations'] = get_pubmed_citations(ids,outgoing = True)\n",
    "pubmed_ids['incoming_citations'] = get_pubmed_citations(ids,outgoing = False)\n"
   ]
  },
  {
   "cell_type": "code",
   "execution_count": 62,
   "metadata": {},
   "outputs": [
    {
     "data": {
      "text/plain": [
       "['development',\n",
       " 'incoming_citations',\n",
       " 'training',\n",
       " 'test_gs',\n",
       " 'outgoing_citations',\n",
       " 'chemdner_silver']"
      ]
     },
     "execution_count": 62,
     "metadata": {},
     "output_type": "execute_result"
    }
   ],
   "source": [
    "pubmed_ids.keys()"
   ]
  },
  {
   "cell_type": "markdown",
   "metadata": {},
   "source": [
    "### delete from citations documents contained on train,dev, test set"
   ]
  },
  {
   "cell_type": "code",
   "execution_count": 15,
   "metadata": {},
   "outputs": [
    {
     "name": "stdout",
     "output_type": "stream",
     "text": [
      "# outgoing_citations: 22973\n",
      "# outgoing_citations without overlap with traintestdev: 22251\n",
      "# incoming_citations: 29059\n",
      "# incoming_citations without overlap with traintestdev: 27546\n"
     ]
    }
   ],
   "source": [
    "print '# outgoing_citations:',len(pubmed_ids['outgoing_citations'])\n",
    "pubmed_ids['outgoing_citations'] = list(set(pubmed_ids['outgoing_citations']) - set(pubmed_ids['development'] + pubmed_ids['training'] + pubmed_ids['test_gs']))\n",
    "print '# outgoing_citations without overlap with traintestdev:',len(pubmed_ids['outgoing_citations'])\n",
    "\n",
    "print '# incoming_citations:',len(pubmed_ids['incoming_citations'])\n",
    "pubmed_ids['incoming_citations'] = list(set(pubmed_ids['incoming_citations']) - set(pubmed_ids['development'] + pubmed_ids['training'] + pubmed_ids['test_gs']))\n",
    "print '# incoming_citations without overlap with traintestdev:',len(pubmed_ids['incoming_citations'])\n"
   ]
  },
  {
   "cell_type": "code",
   "execution_count": null,
   "metadata": {},
   "outputs": [],
   "source": []
  },
  {
   "cell_type": "code",
   "execution_count": 16,
   "metadata": {},
   "outputs": [],
   "source": [
    "with open('/home/antonis/data/biocreative6/pubmed_ids_citations.pickle', 'wb') as f:\n",
    "    pickle.dump(pubmed_ids, f)"
   ]
  },
  {
   "cell_type": "code",
   "execution_count": null,
   "metadata": {},
   "outputs": [],
   "source": []
  },
  {
   "cell_type": "code",
   "execution_count": 64,
   "metadata": {},
   "outputs": [],
   "source": [
    "# Check some of the articles"
   ]
  },
  {
   "cell_type": "code",
   "execution_count": 65,
   "metadata": {},
   "outputs": [],
   "source": [
    "# import random\n",
    "# # get article link\n",
    "# print 'https://www.ncbi.nlm.nih.gov/pubmed/?term='+citations[random.randint(0,len(citations))]\n",
    "# # get article entities\n",
    "# print \"https://www.ncbi.nlm.nih.gov/CBBresearch/Lu/Demo/RESTful/tmTool.cgi/Bioconcept/%s/PubTator/\"%citations[random.randint(0,len(citations))]\n"
   ]
  },
  {
   "cell_type": "code",
   "execution_count": null,
   "metadata": {},
   "outputs": [],
   "source": []
  }
 ],
 "metadata": {
  "kernelspec": {
   "display_name": "Python [conda env:snorkel27clone]",
   "language": "python",
   "name": "conda-env-snorkel27clone-py"
  },
  "language_info": {
   "codemirror_mode": {
    "name": "ipython",
    "version": 2
   },
   "file_extension": ".py",
   "mimetype": "text/x-python",
   "name": "python",
   "nbconvert_exporter": "python",
   "pygments_lexer": "ipython2",
   "version": "2.7.15"
  }
 },
 "nbformat": 4,
 "nbformat_minor": 2
}
