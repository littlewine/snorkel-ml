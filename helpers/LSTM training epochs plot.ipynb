{
 "cells": [
  {
   "cell_type": "markdown",
   "metadata": {},
   "source": [
    "## A helper file to parse LSTM epoch/loss/dev F1 scores with regex"
   ]
  },
  {
   "cell_type": "code",
   "execution_count": 1,
   "metadata": {},
   "outputs": [],
   "source": [
    "import re\n",
    "import pandas as pd"
   ]
  },
  {
   "cell_type": "code",
   "execution_count": null,
   "metadata": {},
   "outputs": [],
   "source": [
    "import matplotlib.pyplot as plt\n",
    "import seaborn as sns\n",
    "import numpy as np\n",
    "\n",
    "sns.set_style(\"white\")"
   ]
  },
  {
   "cell_type": "code",
   "execution_count": 2,
   "metadata": {},
   "outputs": [],
   "source": [
    "LSTM_RE = re.compile(r'^\\[reRNN\\] Epoch (\\d+).*Average loss=(\\d+\\.?\\d*).*Dev F1=(\\d+\\.?\\d*).*$')\n",
    "LSTM_RE = re.compile(r'.*Epoch (\\d+).*$')\n",
    "\n",
    "LSTM_regex = ur'^\\[reRNN\\] Epoch (\\d+).*Average loss=(\\d+\\.?\\d*).*Dev F1=(\\d+\\.?\\d*).*$'\n"
   ]
  },
  {
   "cell_type": "code",
   "execution_count": 5,
   "metadata": {},
   "outputs": [],
   "source": [
    "# with open(\"/home/antonis/results/exp3/LSTM training.txt\") as f:\n",
    "#     w1 = f.read()\n",
    "    \n",
    "# with open(\"/home/antonis/results/exp3/LSTM training avg.txt\") as f:\n",
    "#     w2 = f.read()"
   ]
  },
  {
   "cell_type": "code",
   "execution_count": 8,
   "metadata": {},
   "outputs": [],
   "source": [
    "# df = pd.DataFrame(re.findall(LSTM_regex, w1, re.MULTILINE), columns=['epoch','training_loss', 'Validation F1'])"
   ]
  },
  {
   "cell_type": "code",
   "execution_count": 10,
   "metadata": {},
   "outputs": [],
   "source": [
    "# df = df.applymap(lambda x: float(x))"
   ]
  },
  {
   "cell_type": "code",
   "execution_count": 4,
   "metadata": {},
   "outputs": [],
   "source": [
    "# train_epochs.head()"
   ]
  },
  {
   "cell_type": "code",
   "execution_count": null,
   "metadata": {},
   "outputs": [],
   "source": []
  },
  {
   "cell_type": "code",
   "execution_count": 67,
   "metadata": {},
   "outputs": [
    {
     "name": "stdout",
     "output_type": "stream",
     "text": [
      "   epoch  training_loss  Validation F1\n",
      "0    0.0       0.632720          39.32\n",
      "1    1.0       0.469784          42.54\n",
      "2    2.0       0.434243          41.59\n",
      "3    3.0       0.415756          46.87\n",
      "4    4.0       0.407203          43.99\n",
      "   epoch  training_loss  Validation F1\n",
      "0    0.0       0.539089          47.95\n",
      "1    1.0       0.362377          47.94\n",
      "2    2.0       0.285674          53.03\n",
      "3    3.0       0.234345          51.10\n",
      "4    4.0       0.196327          56.54\n"
     ]
    }
   ],
   "source": [
    "# Load df with training stats from txt logs\n",
    "\n",
    "model_log_paths = [\n",
    "    \"/home/antonis/results/exp3/LSTM training avg.txt\",\n",
    "    \"/home/antonis/results/exp3/LSTM_training_random.txt\",\n",
    "]\n",
    "\n",
    "train_logs = dict()\n",
    "for model_log in model_log_paths:\n",
    "    with open(model_log) as f:\n",
    "#         log = f.read()\n",
    "\n",
    "        # load df\n",
    "        train_logs[model_log] = pd.DataFrame(re.findall(LSTM_regex, f.read(), re.MULTILINE), columns=['epoch','training_loss', 'Validation F1'])\n",
    "        train_logs[model_log] = train_logs[model_log].applymap(lambda x: float(x)) #typecast str to float\n",
    "    #     train_logs[model_log]['epoch'] +=1 # start epoch nr from 1\n",
    "    \n",
    "    print train_logs[model_log].head()"
   ]
  },
  {
   "cell_type": "code",
   "execution_count": 68,
   "metadata": {},
   "outputs": [
    {
     "name": "stdout",
     "output_type": "stream",
     "text": [
      "40\n",
      "25\n"
     ]
    }
   ],
   "source": [
    "for model_log in model_log_paths:\n",
    "    print len(train_logs[model_log])\n",
    "    "
   ]
  },
  {
   "cell_type": "markdown",
   "metadata": {},
   "source": [
    "### Visualize"
   ]
  },
  {
   "cell_type": "code",
   "execution_count": 69,
   "metadata": {},
   "outputs": [],
   "source": [
    "# TODO: do it in function\n",
    "# args:\n",
    "\n",
    "# train_epochs = pd.DataFrame with epoch, training_loss, Validation F1\n",
    "# test_scores = PRF1 @ test - optional, for title"
   ]
  },
  {
   "cell_type": "code",
   "execution_count": null,
   "metadata": {},
   "outputs": [],
   "source": []
  },
  {
   "cell_type": "code",
   "execution_count": null,
   "metadata": {},
   "outputs": [],
   "source": [
    "\n",
    "\n",
    "\n",
    "\n",
    "blue_line = mlines.Line2D([], [], marker='*',\n",
    "                          markersize=15, label='Blue stars')\n",
    "plt.legend(handles=[blue_line])\n",
    "\n",
    "plt.show()"
   ]
  },
  {
   "cell_type": "code",
   "execution_count": 77,
   "metadata": {},
   "outputs": [
    {
     "data": {
      "image/png": "[encoded data removed]",
      "text/plain": [
       "<Figure size 432x288 with 2 Axes>"
      ]
     },
     "metadata": {},
     "output_type": "display_data"
    }
   ],
   "source": [
    "import matplotlib.lines as mlines\n",
    "loss_color = 'b'\n",
    "f1_color = 'g'\n",
    "line_styles = ['-','-.',':','--', ]\n",
    "line_handles = []\n",
    "\n",
    "fig, ax1 = plt.subplots()\n",
    "ax2 = ax1.twinx()\n",
    "\n",
    "for i,model_log in enumerate(model_log_paths):\n",
    "     # choose linestyle depending on marginal weighting\n",
    "    linestyle = line_styles[i]\n",
    "    line_handles.append(mlines.Line2D([], [], linestyle=linestyle, label=model_log.split(\"/\")[-1], color='k'))\n",
    "    \n",
    "    # plot train log loss\n",
    "    ax1.plot(train_logs[model_log]['epoch'], train_logs[model_log]['training_loss'], color=loss_color, linestyle = linestyle)\n",
    "    \n",
    "    ax1.plot(train_logs[model_log]['epoch'], train_logs[model_log]['training_loss'], color=loss_color, linestyle = linestyle)\n",
    "    \n",
    "    # plot validation F1\n",
    "    ax2.plot(train_logs[model_log]['epoch'], train_logs[model_log]['Validation F1'], color=f1_color, linestyle = linestyle)\n",
    "    \n",
    "#     break\n",
    "ax1.set_ylabel('Training (logistic) loss', color=loss_color)\n",
    "ax1.tick_params('y', colors=loss_color)\n",
    "ax1.set_ylim([0,1])\n",
    "ax2.set_ylabel('F1 (validation)', color=f1_color)\n",
    "ax2.tick_params('y', colors=f1_color)\n",
    "ax2.set_ylim([0,100])\n",
    "ax1.set_xlabel('LSTM epoch')\n",
    "\n",
    "plt.legend(handles=line_handles)\n",
    "fig.tight_layout()\n",
    "plt.show()"
   ]
  },
  {
   "cell_type": "code",
   "execution_count": 52,
   "metadata": {},
   "outputs": [
    {
     "data": {
      "text/plain": [
       "['/home/antonis/results/exp3/LSTM training.txt',\n",
       " '/home/antonis/results/exp3/LSTM training avg.txt']"
      ]
     },
     "execution_count": 52,
     "metadata": {},
     "output_type": "execute_result"
    }
   ],
   "source": [
    "train_logs.keys()"
   ]
  },
  {
   "cell_type": "code",
   "execution_count": 58,
   "metadata": {},
   "outputs": [
    {
     "data": {
      "text/plain": [
       "70"
      ]
     },
     "execution_count": 58,
     "metadata": {},
     "output_type": "execute_result"
    }
   ],
   "source": [
    "len(train_logs[train_logs.keys()[0]])"
   ]
  },
  {
   "cell_type": "code",
   "execution_count": 60,
   "metadata": {},
   "outputs": [
    {
     "data": {
      "text/plain": [
       "40"
      ]
     },
     "execution_count": 60,
     "metadata": {},
     "output_type": "execute_result"
    }
   ],
   "source": [
    "len(train_logs[model_log])"
   ]
  },
  {
   "cell_type": "code",
   "execution_count": null,
   "metadata": {},
   "outputs": [],
   "source": []
  }
 ],
 "metadata": {
  "kernelspec": {
   "display_name": "Python [conda env:snorkel27]",
   "language": "python",
   "name": "conda-env-snorkel27-py"
  },
  "language_info": {
   "codemirror_mode": {
    "name": "ipython",
    "version": 2
   },
   "file_extension": ".py",
   "mimetype": "text/x-python",
   "name": "python",
   "nbconvert_exporter": "python",
   "pygments_lexer": "ipython2",
   "version": "2.7.15"
  }
 },
 "nbformat": 4,
 "nbformat_minor": 2
}
