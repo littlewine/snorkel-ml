{
 "cells": [
  {
   "cell_type": "markdown",
   "metadata": {},
   "source": [
    "# Creates all necessary dictionaries for creating the (entity) annotations and mapping the gold labels to the snorkel candidates\n",
    "\n",
    "** Files needed: **\n",
    "\n",
    "** - Corpus (with entity annotations) should be in BRAT format **\n",
    "\n",
    "** - Gold (relationship) labels should be in tsv format **"
   ]
  },
  {
   "cell_type": "code",
   "execution_count": 1,
   "metadata": {},
   "outputs": [],
   "source": [
    "import glob\n",
    "import codecs\n",
    "import pandas as pd"
   ]
  },
  {
   "cell_type": "code",
   "execution_count": 2,
   "metadata": {},
   "outputs": [],
   "source": [
    "import bz2\n",
    "import cPickle as pickle\n",
    "import time"
   ]
  },
  {
   "cell_type": "code",
   "execution_count": 3,
   "metadata": {},
   "outputs": [],
   "source": [
    "from preprocessing import standoff_to_entitydf, entitydf_to_meshdict, entitydf_to_tagdict"
   ]
  },
  {
   "cell_type": "markdown",
   "metadata": {},
   "source": [
    "# Standoff format to entity DF"
   ]
  },
  {
   "cell_type": "code",
   "execution_count": 4,
   "metadata": {},
   "outputs": [],
   "source": [
    "from preprocessing import standoff_to_entitydf"
   ]
  },
  {
   "cell_type": "code",
   "execution_count": 8,
   "metadata": {},
   "outputs": [],
   "source": [
    "ann_files = []\n",
    "ann_files.extend(glob.glob(\"/home/antonis/data/biocreative6/goldset/*/*.ann\"))\n",
    "ann_files.extend(glob.glob(\"/home/antonis/data/biocreative6/NCBI_parsed/similar50/*.ann\"))"
   ]
  },
  {
   "cell_type": "code",
   "execution_count": 9,
   "metadata": {},
   "outputs": [
    {
     "data": {
      "text/plain": [
       "['/home/antonis/data/biocreative6/goldset/test_gs/15866500.ann',\n",
       " '/home/antonis/data/biocreative6/goldset/test_gs/20407761.ann',\n",
       " '/home/antonis/data/biocreative6/goldset/test_gs/23177789.ann',\n",
       " '/home/antonis/data/biocreative6/NCBI_parsed/similar50/22513289.ann',\n",
       " '/home/antonis/data/biocreative6/NCBI_parsed/similar50/3177812.ann',\n",
       " '/home/antonis/data/biocreative6/NCBI_parsed/similar50/26784681.ann',\n",
       " '/home/antonis/data/biocreative6/NCBI_parsed/similar50/9138706.ann',\n",
       " '/home/antonis/data/biocreative6/NCBI_parsed/similar50/15121849.ann']"
      ]
     },
     "execution_count": 9,
     "metadata": {},
     "output_type": "execute_result"
    }
   ],
   "source": [
    "ann_files[0:3]+ann_files[-5:]"
   ]
  },
  {
   "cell_type": "code",
   "execution_count": 10,
   "metadata": {},
   "outputs": [
    {
     "name": "stdout",
     "output_type": "stream",
     "text": [
      "Found 12979 standoff files\n",
      "Processing file 0 of 12979 (0.0 min)\n",
      "Processing file 500 of 12979 (0.0 min)\n",
      "Processing file 1000 of 12979 (0.0 min)\n",
      "Processing file 1500 of 12979 (0.1 min)\n",
      "Processing file 2000 of 12979 (0.1 min)\n",
      "Processing file 2500 of 12979 (0.2 min)\n",
      "Processing file 3000 of 12979 (0.3 min)\n",
      "Processing file 3500 of 12979 (0.4 min)\n",
      "Processing file 4000 of 12979 (0.5 min)\n",
      "Processing file 4500 of 12979 (0.7 min)\n",
      "Processing file 5000 of 12979 (0.8 min)\n",
      "Processing file 5500 of 12979 (1.0 min)\n",
      "Processing file 6000 of 12979 (1.2 min)\n",
      "Processing file 6500 of 12979 (1.4 min)\n",
      "Processing file 7000 of 12979 (1.7 min)\n",
      "Processing file 7500 of 12979 (2.0 min)\n",
      "Processing file 8000 of 12979 (2.3 min)\n",
      "Processing file 8500 of 12979 (2.6 min)\n",
      "Processing file 9000 of 12979 (2.9 min)\n",
      "Processing file 9500 of 12979 (3.3 min)\n",
      "Processing file 10000 of 12979 (3.7 min)\n",
      "Processing file 10500 of 12979 (4.1 min)\n",
      "Processing file 11000 of 12979 (4.5 min)\n",
      "Processing file 11500 of 12979 (5.0 min)\n",
      "Processing file 12000 of 12979 (5.4 min)\n",
      "Processing file 12500 of 12979 (6.0 min)\n",
      "Parsing took 386.50 sec\n",
      "Extracted 339622 [u'Chemical' u'Gene' u'Species' u'Disease' u'Mutation'] entities\n",
      "392.702051163\n"
     ]
    }
   ],
   "source": [
    "start_time = time.time()\n",
    "\n",
    "# parse standoff annotations again !! Time consuming \n",
    "entities = standoff_to_entitydf(ann_files, )\n",
    "# Write to bz2 pickle \n",
    "with bz2.BZ2File('/home/antonis/data/biocreative6/entities/entitiesdf_GS+similar50.pkl.bz2', 'wb') as f:\n",
    "    pickle.dump(entities, f)\n",
    "\n",
    "print time.time()-start_time"
   ]
  },
  {
   "cell_type": "markdown",
   "metadata": {},
   "source": [
    "# ~~~~\n",
    "\n",
    "# Load entities df"
   ]
  },
  {
   "cell_type": "code",
   "execution_count": 11,
   "metadata": {},
   "outputs": [],
   "source": [
    "with bz2.BZ2File('/home/antonis/data/biocreative6/entities/entitiesdf_GS+similar50.pkl.bz2', 'rb') as f:\n",
    "    entities = pickle.load(f)"
   ]
  },
  {
   "cell_type": "code",
   "execution_count": 12,
   "metadata": {},
   "outputs": [
    {
     "data": {
      "text/html": [
       "<div>\n",
       "<style scoped>\n",
       "    .dataframe tbody tr th:only-of-type {\n",
       "        vertical-align: middle;\n",
       "    }\n",
       "\n",
       "    .dataframe tbody tr th {\n",
       "        vertical-align: top;\n",
       "    }\n",
       "\n",
       "    .dataframe thead th {\n",
       "        text-align: right;\n",
       "    }\n",
       "</style>\n",
       "<table border=\"1\" class=\"dataframe\">\n",
       "  <thead>\n",
       "    <tr style=\"text-align: right;\">\n",
       "      <th></th>\n",
       "      <th>T</th>\n",
       "      <th>EntityType</th>\n",
       "      <th>start</th>\n",
       "      <th>stop</th>\n",
       "      <th>EntityText</th>\n",
       "      <th>_</th>\n",
       "      <th>identifier</th>\n",
       "      <th>doc_id</th>\n",
       "    </tr>\n",
       "  </thead>\n",
       "  <tbody>\n",
       "    <tr>\n",
       "      <th>0</th>\n",
       "      <td>T10</td>\n",
       "      <td>Chemical</td>\n",
       "      <td>1899</td>\n",
       "      <td>1904</td>\n",
       "      <td>FdUMP</td>\n",
       "      <td></td>\n",
       "      <td>MESH:D005468</td>\n",
       "      <td>15866500</td>\n",
       "    </tr>\n",
       "    <tr>\n",
       "      <th>1</th>\n",
       "      <td>T11</td>\n",
       "      <td>Chemical</td>\n",
       "      <td>383</td>\n",
       "      <td>386</td>\n",
       "      <td>UdR</td>\n",
       "      <td></td>\n",
       "      <td>Chemical:1</td>\n",
       "      <td>15866500</td>\n",
       "    </tr>\n",
       "    <tr>\n",
       "      <th>2</th>\n",
       "      <td>T12</td>\n",
       "      <td>Chemical</td>\n",
       "      <td>1928</td>\n",
       "      <td>1931</td>\n",
       "      <td>UdR</td>\n",
       "      <td></td>\n",
       "      <td>Chemical:1</td>\n",
       "      <td>15866500</td>\n",
       "    </tr>\n",
       "    <tr>\n",
       "      <th>3</th>\n",
       "      <td>T13</td>\n",
       "      <td>Chemical</td>\n",
       "      <td>2008</td>\n",
       "      <td>2020</td>\n",
       "      <td>capecitabine</td>\n",
       "      <td></td>\n",
       "      <td>MESH:C110904</td>\n",
       "      <td>15866500</td>\n",
       "    </tr>\n",
       "    <tr>\n",
       "      <th>4</th>\n",
       "      <td>T14</td>\n",
       "      <td>Chemical</td>\n",
       "      <td>2093</td>\n",
       "      <td>2108</td>\n",
       "      <td>2'-deoxyuridine</td>\n",
       "      <td></td>\n",
       "      <td>Chemical:4</td>\n",
       "      <td>15866500</td>\n",
       "    </tr>\n",
       "  </tbody>\n",
       "</table>\n",
       "</div>"
      ],
      "text/plain": [
       "     T EntityType start  stop       EntityText _    identifier    doc_id\n",
       "0  T10   Chemical  1899  1904            FdUMP    MESH:D005468  15866500\n",
       "1  T11   Chemical   383   386              UdR      Chemical:1  15866500\n",
       "2  T12   Chemical  1928  1931              UdR      Chemical:1  15866500\n",
       "3  T13   Chemical  2008  2020     capecitabine    MESH:C110904  15866500\n",
       "4  T14   Chemical  2093  2108  2'-deoxyuridine      Chemical:4  15866500"
      ]
     },
     "execution_count": 12,
     "metadata": {},
     "output_type": "execute_result"
    }
   ],
   "source": [
    "entities.head()"
   ]
  },
  {
   "cell_type": "markdown",
   "metadata": {},
   "source": [
    "### Check mapped vs un-mapped entities in our dataset"
   ]
  },
  {
   "cell_type": "code",
   "execution_count": 14,
   "metadata": {},
   "outputs": [
    {
     "data": {
      "text/plain": [
       "290119"
      ]
     },
     "execution_count": 14,
     "metadata": {},
     "output_type": "execute_result"
    }
   ],
   "source": [
    "154228+ 26964+136649+13478-41200\n"
   ]
  },
  {
   "cell_type": "code",
   "execution_count": 13,
   "metadata": {},
   "outputs": [
    {
     "name": "stdout",
     "output_type": "stream",
     "text": [
      "Chemical\n",
      "Mapped       121003\n",
      "Un-mapped     27075\n",
      "dtype: int64 \n",
      "\n",
      "Gene\n",
      "Mapped       95413\n",
      "Un-mapped    13588\n",
      "dtype: int64 \n",
      "\n",
      "Species\n",
      "Mapped    34827\n",
      "dtype: int64 \n",
      "\n",
      "Disease\n",
      "Mapped       45379\n",
      "Un-mapped        1\n",
      "dtype: int64 \n",
      "\n",
      "Mutation\n",
      "Mapped    2336\n",
      "dtype: int64 \n",
      "\n"
     ]
    }
   ],
   "source": [
    "# un-mapped Chemicals (excluding tmTool unknown: identifier)\n",
    "def check_unmapped(ent_type, entities):\n",
    "    ser = pd.Series(map(lambda x: x.startswith(ent_type+\":\"),entities[entities.EntityType==ent_type]['identifier'] )).value_counts().rename({False: \"Mapped\", True: \"Un-mapped\"},)\n",
    "    return ser\n",
    "\n",
    "for ent_type in entities.EntityType.unique():\n",
    "    print ent_type\n",
    "    print check_unmapped(ent_type, entities),'\\n'\n",
    "    \n",
    "# Previous results (GS + chemdner_silver)\n",
    "# Chemical\n",
    "# Mapped       67113\n",
    "# Un-mapped    30656\n",
    "# dtype: int64 \n",
    "\n",
    "# Gene\n",
    "# Mapped       51594\n",
    "# Un-mapped    17974\n",
    "# dtype: int64 \n",
    "\n",
    "# Disease\n",
    "# Mapped       83511\n",
    "# Un-mapped        3\n",
    "# dtype: int64 \n",
    "\n",
    "# Species\n",
    "# Mapped    55273\n",
    "# dtype: int64 \n",
    "\n",
    "# Mutation\n",
    "# Mapped    1690\n",
    "# dtype: int64 "
   ]
  },
  {
   "cell_type": "markdown",
   "metadata": {},
   "source": [
    "# Create entities import files for snorkel (candidate extraction)"
   ]
  },
  {
   "cell_type": "markdown",
   "metadata": {},
   "source": [
    "### Create tag dict"
   ]
  },
  {
   "cell_type": "code",
   "execution_count": 14,
   "metadata": {},
   "outputs": [],
   "source": [
    "unary_tags = entitydf_to_tagdict(entities)\n",
    "# unary_tags"
   ]
  },
  {
   "cell_type": "code",
   "execution_count": 15,
   "metadata": {
    "scrolled": true
   },
   "outputs": [
    {
     "data": {
      "text/plain": [
       "12935"
      ]
     },
     "execution_count": 15,
     "metadata": {},
     "output_type": "execute_result"
    }
   ],
   "source": [
    "len(unary_tags)"
   ]
  },
  {
   "cell_type": "code",
   "execution_count": 16,
   "metadata": {},
   "outputs": [
    {
     "data": {
      "text/plain": [
       "{(u'Chemical|Chemical:95131', 871, 887),\n",
       " (u'Chemical|Chemical:95132', 889, 896),\n",
       " (u'Chemical|MESH:C045645', 1756, 1766),\n",
       " (u'Chemical|MESH:C055162', 82, 93),\n",
       " (u'Chemical|MESH:C055162', 117, 128),\n",
       " (u'Chemical|MESH:C055162', 565, 576),\n",
       " (u'Chemical|MESH:D000244', 784, 787),\n",
       " (u'Chemical|MESH:D000244', 791, 794),\n",
       " (u'Chemical|MESH:D000244', 815, 818),\n",
       " (u'Chemical|MESH:D000244', 1274, 1277),\n",
       " (u'Chemical|MESH:D000244', 1289, 1292),\n",
       " (u'Chemical|MESH:D000244', 1343, 1346),\n",
       " (u'Chemical|MESH:D000527', 797, 813),\n",
       " (u'Chemical|MESH:D000527', 821, 825),\n",
       " (u'Chemical|MESH:D000527', 1295, 1299),\n",
       " (u'Chemical|MESH:D000527', 1349, 1353),\n",
       " (u'Chemical|MESH:D002784', 693, 704),\n",
       " (u'Chemical|MESH:D002784', 1612, 1623),\n",
       " (u'Chemical|MESH:D014280', 706, 719),\n",
       " (u'Chemical|MESH:D014280', 1628, 1641),\n",
       " (u'Disease|unknown:D001791', 752, 772),\n",
       " (u'Disease|unknown:D003324', 1149, 1172),\n",
       " (u'Disease|unknown:D006470', 374, 382),\n",
       " (u'Disease|unknown:D014652', 146, 162),\n",
       " (u'Gene|NCBIGENE:64805', 26, 31),\n",
       " (u'Gene|NCBIGENE:64805', 496, 501),\n",
       " (u'Gene|NCBIGENE:64805', 537, 542),\n",
       " (u'Gene|NCBIGENE:64805', 855, 860),\n",
       " (u'Gene|NCBIGENE:64805', 1020, 1025),\n",
       " (u'Gene|NCBIGENE:64805', 1381, 1386),\n",
       " (u'Gene|NCBIGENE:64805', 1529, 1534),\n",
       " (u'Gene|NCBIGENE:64805', 1697, 1702),\n",
       " (u'Gene|NCBIGENE:64805', 1835, 1840),\n",
       " (u'Gene|NCBIGENE:64805', 1912, 1917),\n",
       " (u'Species|NCBITaxon:9606', 132, 140),\n",
       " (u'Species|NCBITaxon:9606', 302, 310),\n",
       " (u'Species|NCBITaxon:9606', 1135, 1143)}"
      ]
     },
     "execution_count": 16,
     "metadata": {},
     "output_type": "execute_result"
    }
   ],
   "source": [
    "unary_tags[unary_tags.keys()[1]]"
   ]
  },
  {
   "cell_type": "markdown",
   "metadata": {},
   "source": [
    "#### Write to bz2 pickle"
   ]
  },
  {
   "cell_type": "code",
   "execution_count": 17,
   "metadata": {},
   "outputs": [],
   "source": [
    "# Write to bz2 pickle \n",
    "with bz2.BZ2File('/home/antonis/data/biocreative6/entities/unary_tags.pkl.bz2', 'w') as f:\n",
    "    pickle.dump(unary_tags, f)"
   ]
  },
  {
   "cell_type": "markdown",
   "metadata": {},
   "source": [
    "### Create mesh dict"
   ]
  },
  {
   "cell_type": "code",
   "execution_count": 18,
   "metadata": {},
   "outputs": [],
   "source": [
    "mesh_dict = entitydf_to_meshdict(entities)"
   ]
  },
  {
   "cell_type": "code",
   "execution_count": 19,
   "metadata": {},
   "outputs": [],
   "source": [
    "# Write to bz2 pickle \n",
    "with bz2.BZ2File('/home/antonis/data/biocreative6/entities/mesh_dict.pkl.bz2', 'w') as f:\n",
    "    pickle.dump(tuple([mesh_dict['Chemical'], mesh_dict['Gene']]), f)"
   ]
  },
  {
   "cell_type": "code",
   "execution_count": null,
   "metadata": {},
   "outputs": [],
   "source": []
  },
  {
   "cell_type": "markdown",
   "metadata": {},
   "source": [
    "# Create relationship import files for snorkel (candidate extraction)"
   ]
  },
  {
   "cell_type": "markdown",
   "metadata": {},
   "source": [
    "### Create goldset relationships dict\n",
    "** Skipped - assumes document-level annotations **"
   ]
  },
  {
   "cell_type": "code",
   "execution_count": 18,
   "metadata": {},
   "outputs": [],
   "source": [
    "# from preprocessing import gold_relations_to_dict\n",
    "T_mapping = entities.groupby('doc_id')[['T','identifier']].apply(lambda g: dict(g.values.tolist())).to_dict()"
   ]
  },
  {
   "cell_type": "code",
   "execution_count": null,
   "metadata": {},
   "outputs": [],
   "source": []
  },
  {
   "cell_type": "markdown",
   "metadata": {},
   "source": [
    "** To tsv ** "
   ]
  },
  {
   "cell_type": "code",
   "execution_count": 19,
   "metadata": {},
   "outputs": [],
   "source": [
    "# from preprocessing import gold_relations_to_tsv"
   ]
  },
  {
   "cell_type": "code",
   "execution_count": 20,
   "metadata": {
    "scrolled": true
   },
   "outputs": [
    {
     "data": {
      "text/html": [
       "<div>\n",
       "<style scoped>\n",
       "    .dataframe tbody tr th:only-of-type {\n",
       "        vertical-align: middle;\n",
       "    }\n",
       "\n",
       "    .dataframe tbody tr th {\n",
       "        vertical-align: top;\n",
       "    }\n",
       "\n",
       "    .dataframe thead th {\n",
       "        text-align: right;\n",
       "    }\n",
       "</style>\n",
       "<table border=\"1\" class=\"dataframe\">\n",
       "  <thead>\n",
       "    <tr style=\"text-align: right;\">\n",
       "      <th></th>\n",
       "      <th>T</th>\n",
       "      <th>EntityType</th>\n",
       "      <th>start</th>\n",
       "      <th>stop</th>\n",
       "      <th>EntityText</th>\n",
       "      <th>_</th>\n",
       "      <th>identifier</th>\n",
       "      <th>doc_id</th>\n",
       "      <th>tup</th>\n",
       "    </tr>\n",
       "  </thead>\n",
       "  <tbody>\n",
       "    <tr>\n",
       "      <th>0</th>\n",
       "      <td>T10</td>\n",
       "      <td>Chemical</td>\n",
       "      <td>1899</td>\n",
       "      <td>1904</td>\n",
       "      <td>FdUMP</td>\n",
       "      <td></td>\n",
       "      <td>MESH:D005468</td>\n",
       "      <td>15866500</td>\n",
       "      <td>(Chemical|MESH:D005468, 1899, 1904)</td>\n",
       "    </tr>\n",
       "    <tr>\n",
       "      <th>1</th>\n",
       "      <td>T11</td>\n",
       "      <td>Chemical</td>\n",
       "      <td>383</td>\n",
       "      <td>386</td>\n",
       "      <td>UdR</td>\n",
       "      <td></td>\n",
       "      <td>Chemical:1</td>\n",
       "      <td>15866500</td>\n",
       "      <td>(Chemical|Chemical:1, 383, 386)</td>\n",
       "    </tr>\n",
       "    <tr>\n",
       "      <th>2</th>\n",
       "      <td>T12</td>\n",
       "      <td>Chemical</td>\n",
       "      <td>1928</td>\n",
       "      <td>1931</td>\n",
       "      <td>UdR</td>\n",
       "      <td></td>\n",
       "      <td>Chemical:1</td>\n",
       "      <td>15866500</td>\n",
       "      <td>(Chemical|Chemical:1, 1928, 1931)</td>\n",
       "    </tr>\n",
       "    <tr>\n",
       "      <th>3</th>\n",
       "      <td>T13</td>\n",
       "      <td>Chemical</td>\n",
       "      <td>2008</td>\n",
       "      <td>2020</td>\n",
       "      <td>capecitabine</td>\n",
       "      <td></td>\n",
       "      <td>MESH:C110904</td>\n",
       "      <td>15866500</td>\n",
       "      <td>(Chemical|MESH:C110904, 2008, 2020)</td>\n",
       "    </tr>\n",
       "    <tr>\n",
       "      <th>4</th>\n",
       "      <td>T14</td>\n",
       "      <td>Chemical</td>\n",
       "      <td>2093</td>\n",
       "      <td>2108</td>\n",
       "      <td>2'-deoxyuridine</td>\n",
       "      <td></td>\n",
       "      <td>Chemical:4</td>\n",
       "      <td>15866500</td>\n",
       "      <td>(Chemical|Chemical:4, 2093, 2108)</td>\n",
       "    </tr>\n",
       "  </tbody>\n",
       "</table>\n",
       "</div>"
      ],
      "text/plain": [
       "     T EntityType start  stop       EntityText _    identifier    doc_id  \\\n",
       "0  T10   Chemical  1899  1904            FdUMP    MESH:D005468  15866500   \n",
       "1  T11   Chemical   383   386              UdR      Chemical:1  15866500   \n",
       "2  T12   Chemical  1928  1931              UdR      Chemical:1  15866500   \n",
       "3  T13   Chemical  2008  2020     capecitabine    MESH:C110904  15866500   \n",
       "4  T14   Chemical  2093  2108  2'-deoxyuridine      Chemical:4  15866500   \n",
       "\n",
       "                                   tup  \n",
       "0  (Chemical|MESH:D005468, 1899, 1904)  \n",
       "1      (Chemical|Chemical:1, 383, 386)  \n",
       "2    (Chemical|Chemical:1, 1928, 1931)  \n",
       "3  (Chemical|MESH:C110904, 2008, 2020)  \n",
       "4    (Chemical|Chemical:4, 2093, 2108)  "
      ]
     },
     "execution_count": 20,
     "metadata": {},
     "output_type": "execute_result"
    }
   ],
   "source": [
    "entities.head()"
   ]
  },
  {
   "cell_type": "code",
   "execution_count": 21,
   "metadata": {},
   "outputs": [
    {
     "data": {
      "text/html": [
       "<div>\n",
       "<style scoped>\n",
       "    .dataframe tbody tr th:only-of-type {\n",
       "        vertical-align: middle;\n",
       "    }\n",
       "\n",
       "    .dataframe tbody tr th {\n",
       "        vertical-align: top;\n",
       "    }\n",
       "\n",
       "    .dataframe thead th {\n",
       "        text-align: right;\n",
       "    }\n",
       "</style>\n",
       "<table border=\"1\" class=\"dataframe\">\n",
       "  <thead>\n",
       "    <tr style=\"text-align: right;\">\n",
       "      <th></th>\n",
       "      <th>T</th>\n",
       "      <th>EntityType</th>\n",
       "      <th>start</th>\n",
       "      <th>stop</th>\n",
       "      <th>EntityText</th>\n",
       "      <th>_</th>\n",
       "      <th>identifier</th>\n",
       "      <th>doc_id</th>\n",
       "      <th>tup</th>\n",
       "    </tr>\n",
       "  </thead>\n",
       "  <tbody>\n",
       "    <tr>\n",
       "      <th>454549</th>\n",
       "      <td>T23</td>\n",
       "      <td>Species</td>\n",
       "      <td>1569</td>\n",
       "      <td>1577</td>\n",
       "      <td>patients</td>\n",
       "      <td>N23\\tReference T23 NCBITaxon:9606\\tpatients</td>\n",
       "      <td>NCBITaxon:9606</td>\n",
       "      <td>22323410</td>\n",
       "      <td>(Species|NCBITaxon:9606, 1569, 1577)</td>\n",
       "    </tr>\n",
       "    <tr>\n",
       "      <th>454550</th>\n",
       "      <td>T24</td>\n",
       "      <td>Disease</td>\n",
       "      <td>1674</td>\n",
       "      <td>1685</td>\n",
       "      <td>weight loss</td>\n",
       "      <td>N24\\tReference T24 unknown:D015431\\tweight loss</td>\n",
       "      <td>unknown:D015431</td>\n",
       "      <td>22323410</td>\n",
       "      <td>(Disease|unknown:D015431, 1674, 1685)</td>\n",
       "    </tr>\n",
       "    <tr>\n",
       "      <th>454551</th>\n",
       "      <td>T25</td>\n",
       "      <td>Disease</td>\n",
       "      <td>1705</td>\n",
       "      <td>1713</td>\n",
       "      <td>diabetes</td>\n",
       "      <td>N25\\tReference T25 unknown:D003920\\tdiabetes</td>\n",
       "      <td>unknown:D003920</td>\n",
       "      <td>22323410</td>\n",
       "      <td>(Disease|unknown:D003920, 1705, 1713)</td>\n",
       "    </tr>\n",
       "    <tr>\n",
       "      <th>454552</th>\n",
       "      <td>T26</td>\n",
       "      <td>Chemical</td>\n",
       "      <td>1804</td>\n",
       "      <td>1813</td>\n",
       "      <td>vitamin D</td>\n",
       "      <td>N26\\tReference T26 MESH:D014807\\tvitamin D</td>\n",
       "      <td>MESH:D014807</td>\n",
       "      <td>22323410</td>\n",
       "      <td>(Chemical|MESH:D014807, 1804, 1813)</td>\n",
       "    </tr>\n",
       "    <tr>\n",
       "      <th>454553</th>\n",
       "      <td>T27</td>\n",
       "      <td>Disease</td>\n",
       "      <td>1818</td>\n",
       "      <td>1826</td>\n",
       "      <td>diabetes</td>\n",
       "      <td>N27\\tReference T27 unknown:D003920\\tdiabetes</td>\n",
       "      <td>unknown:D003920</td>\n",
       "      <td>22323410</td>\n",
       "      <td>(Disease|unknown:D003920, 1818, 1826)</td>\n",
       "    </tr>\n",
       "  </tbody>\n",
       "</table>\n",
       "</div>"
      ],
      "text/plain": [
       "          T EntityType start  stop   EntityText  \\\n",
       "454549  T23    Species  1569  1577     patients   \n",
       "454550  T24    Disease  1674  1685  weight loss   \n",
       "454551  T25    Disease  1705  1713     diabetes   \n",
       "454552  T26   Chemical  1804  1813    vitamin D   \n",
       "454553  T27    Disease  1818  1826     diabetes   \n",
       "\n",
       "                                                      _       identifier  \\\n",
       "454549      N23\\tReference T23 NCBITaxon:9606\\tpatients   NCBITaxon:9606   \n",
       "454550  N24\\tReference T24 unknown:D015431\\tweight loss  unknown:D015431   \n",
       "454551     N25\\tReference T25 unknown:D003920\\tdiabetes  unknown:D003920   \n",
       "454552       N26\\tReference T26 MESH:D014807\\tvitamin D     MESH:D014807   \n",
       "454553     N27\\tReference T27 unknown:D003920\\tdiabetes  unknown:D003920   \n",
       "\n",
       "          doc_id                                    tup  \n",
       "454549  22323410   (Species|NCBITaxon:9606, 1569, 1577)  \n",
       "454550  22323410  (Disease|unknown:D015431, 1674, 1685)  \n",
       "454551  22323410  (Disease|unknown:D003920, 1705, 1713)  \n",
       "454552  22323410    (Chemical|MESH:D014807, 1804, 1813)  \n",
       "454553  22323410  (Disease|unknown:D003920, 1818, 1826)  "
      ]
     },
     "execution_count": 21,
     "metadata": {},
     "output_type": "execute_result"
    }
   ],
   "source": [
    "entities.tail()"
   ]
  },
  {
   "cell_type": "code",
   "execution_count": 22,
   "metadata": {},
   "outputs": [],
   "source": [
    "from collections import defaultdict"
   ]
  },
  {
   "cell_type": "code",
   "execution_count": 23,
   "metadata": {},
   "outputs": [],
   "source": [
    "# prepare for extracting to tsv\n",
    "\n",
    "entities['startstop'] = map(lambda start,stop: [int(start), int(stop)], entities.start,entities.stop)\n",
    "entities = entities[map(lambda x: x in ['Chemical', 'Gene'],entities.EntityType)] #keep only Chemicals & Genes (combinations get too big)\n",
    "# dict of offsets per T\n",
    "T_offsets = entities.groupby('doc_id')[['T','startstop']].apply(lambda g: dict(g.values.tolist())).to_dict()\n",
    "# dict of T types (to avoid pointless combinations)\n",
    "T_types = defaultdict(lambda: defaultdict(list))\n",
    "for row in entities.iterrows():\n",
    "    T_types[row[1].doc_id][row[1]['EntityType']].append(row[1]['T'])"
   ]
  },
  {
   "cell_type": "code",
   "execution_count": 24,
   "metadata": {},
   "outputs": [],
   "source": [
    "from preprocessing import gold_relations_to_tsv"
   ]
  },
  {
   "cell_type": "code",
   "execution_count": null,
   "metadata": {},
   "outputs": [],
   "source": []
  },
  {
   "cell_type": "code",
   "execution_count": 26,
   "metadata": {},
   "outputs": [
    {
     "name": "stdout",
     "output_type": "stream",
     "text": [
      "Relationship labels in total (train,dev,test set)\n",
      " 1    6992\n",
      "-1    3039\n",
      "Name: label, dtype: int64\n"
     ]
    }
   ],
   "source": [
    "# Analytics relationships \n",
    "\n",
    "input_path = glob.glob(\"/home/antonis/data/biocreative6/tsv/*/*gold_standard.tsv\")\n",
    "#, output_path, T_offsets, T_types, \n",
    "true_rels=['CPR:3', 'CPR:4']\n",
    "# correct_last_offset = True\n",
    "\n",
    "relationships = pd.DataFrame()\n",
    "if isinstance(input_path,str):\n",
    "    input_path = [input_path]\n",
    "for path in input_path:\n",
    "    relationships = relationships.append(pd.read_table(path, names = ['doc_id', 'CPR', 'arg1', 'arg2']) , ignore_index=True)\n",
    "\n",
    "# convert doc_id to string\n",
    "relationships['doc_id'] = map(lambda x: str(x) , relationships['doc_id'])\n",
    "relationships['label'] = map(lambda x: 1 if x in true_rels else -1, relationships.CPR)\n",
    "\n",
    "print 'Relationship labels in total (train,dev,test set)'\n",
    "print relationships.label.value_counts()\n",
    "\n",
    "# Total (+) relationships in gold set:\n",
    "# Train: 3022\n",
    "# Dev: 1644\n",
    "# Test 2326\n",
    "# Total: 6992\n"
   ]
  },
  {
   "cell_type": "code",
   "execution_count": null,
   "metadata": {},
   "outputs": [],
   "source": []
  },
  {
   "cell_type": "code",
   "execution_count": 27,
   "metadata": {
    "scrolled": true
   },
   "outputs": [],
   "source": [
    "# neg_rels1 = pd.DataFrame(map(lambda (T1,T2): (doc_id,-1,T1,T2) , product(T_types[doc_id]['Chemical'],T_types[doc_id]['Gene'])) , columns = [u'doc_id', u'CPR', u'arg1', u'arg2'])\n",
    "\n",
    "# neg_rels1['arg1'] = map( lambda arg: \"Arg1:\"+arg , neg_rels1['arg1'])\n",
    "# neg_rels1['arg2'] = map( lambda arg: \"Arg2:\"+arg , neg_rels1['arg2'])\n",
    "\n",
    "# neg_rels"
   ]
  },
  {
   "cell_type": "code",
   "execution_count": null,
   "metadata": {},
   "outputs": [],
   "source": []
  },
  {
   "cell_type": "code",
   "execution_count": 28,
   "metadata": {},
   "outputs": [],
   "source": [
    "# Extract rels and save to disk"
   ]
  },
  {
   "cell_type": "code",
   "execution_count": 29,
   "metadata": {
    "scrolled": true
   },
   "outputs": [
    {
     "name": "stdout",
     "output_type": "stream",
     "text": [
      "Converting labels from:\n",
      "/home/antonis/data/biocreative6/tsv/test_gs/chemprot_test_gold_standard.tsv,\n",
      "/home/antonis/data/biocreative6/tsv/training/chemprot_training_gold_standard.tsv,\n",
      "/home/antonis/data/biocreative6/tsv/development/chemprot_development_gold_standard.tsv\n",
      "Labels statistics:\n",
      "-1    314556\n",
      " 1      6987\n",
      "Name: label, dtype: int64\n"
     ]
    }
   ],
   "source": [
    "path = glob.glob(\"/home/antonis/data/biocreative6/tsv/*/*gold_standard.tsv\")\n",
    "print 'Converting labels from:\\n'+ \",\\n\".join(path)\n",
    "\n",
    "print 'Labels statistics:'\n",
    "gold_relations_to_tsv(path,'/home/antonis/data/biocreative6/entities/gold_rels_complete.tsv',T_offsets, T_types)"
   ]
  },
  {
   "cell_type": "code",
   "execution_count": null,
   "metadata": {},
   "outputs": [],
   "source": []
  },
  {
   "cell_type": "code",
   "execution_count": null,
   "metadata": {},
   "outputs": [],
   "source": []
  }
 ],
 "metadata": {
  "kernelspec": {
   "display_name": "Python [default]",
   "language": "python",
   "name": "python2"
  },
  "language_info": {
   "codemirror_mode": {
    "name": "ipython",
    "version": 2
   },
   "file_extension": ".py",
   "mimetype": "text/x-python",
   "name": "python",
   "nbconvert_exporter": "python",
   "pygments_lexer": "ipython2",
   "version": "2.7.15"
  }
 },
 "nbformat": 4,
 "nbformat_minor": 2
}
