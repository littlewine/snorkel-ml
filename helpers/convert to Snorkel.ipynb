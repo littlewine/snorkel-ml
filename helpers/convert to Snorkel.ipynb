{
 "cells": [
  {
   "cell_type": "markdown",
   "metadata": {},
   "source": [
    "# Creates all necessary dictionaries for creating the (entity) annotations and mapping the gold labels to the snorkel candidates\n",
    "\n",
    "** Files needed: **\n",
    "\n",
    "** - Corpus (with entity annotations) should be in BRAT format **\n",
    "\n",
    "** - Gold (relationship) labels should be in tsv format **"
   ]
  },
  {
   "cell_type": "code",
   "execution_count": 1,
   "metadata": {},
   "outputs": [],
   "source": [
    "import glob\n",
    "import codecs\n",
    "import pandas as pd"
   ]
  },
  {
   "cell_type": "code",
   "execution_count": 2,
   "metadata": {},
   "outputs": [],
   "source": [
    "import bz2\n",
    "import cPickle as pickle\n",
    "import time"
   ]
  },
  {
   "cell_type": "code",
   "execution_count": 3,
   "metadata": {},
   "outputs": [],
   "source": [
    "from preprocessing import standoff_to_entitydf, entitydf_to_meshdict, entitydf_to_tagdict"
   ]
  },
  {
   "cell_type": "markdown",
   "metadata": {},
   "source": [
    "# Standoff format to entity DF"
   ]
  },
  {
   "cell_type": "code",
   "execution_count": 4,
   "metadata": {},
   "outputs": [],
   "source": [
    "from preprocessing import standoff_to_entitydf"
   ]
  },
  {
   "cell_type": "code",
   "execution_count": 5,
   "metadata": {},
   "outputs": [],
   "source": [
    "ann_files = []\n",
    "ann_files.extend(glob.glob(\"/home/antonis/data/biocreative6/goldset/*/*.ann\"))\n",
    "ann_files.extend(glob.glob(\"/home/antonis/data/biocreative6/NCBI_parsed/outgoing_citations/*.ann\"))"
   ]
  },
  {
   "cell_type": "code",
   "execution_count": 6,
   "metadata": {},
   "outputs": [
    {
     "data": {
      "text/plain": [
       "['/home/antonis/data/biocreative6/goldset/test_gs/15866500.ann',\n",
       " '/home/antonis/data/biocreative6/goldset/test_gs/20407761.ann',\n",
       " '/home/antonis/data/biocreative6/goldset/test_gs/23177789.ann',\n",
       " '/home/antonis/data/biocreative6/NCBI_parsed/outgoing_citations/11983705.ann',\n",
       " '/home/antonis/data/biocreative6/NCBI_parsed/outgoing_citations/11849367.ann',\n",
       " '/home/antonis/data/biocreative6/NCBI_parsed/outgoing_citations/18519758.ann',\n",
       " '/home/antonis/data/biocreative6/NCBI_parsed/outgoing_citations/19248803.ann',\n",
       " '/home/antonis/data/biocreative6/NCBI_parsed/outgoing_citations/22323410.ann']"
      ]
     },
     "execution_count": 6,
     "metadata": {},
     "output_type": "execute_result"
    }
   ],
   "source": [
    "ann_files[0:3]+ann_files[-5:]"
   ]
  },
  {
   "cell_type": "code",
   "execution_count": 7,
   "metadata": {},
   "outputs": [
    {
     "name": "stdout",
     "output_type": "stream",
     "text": [
      "Found 22693 standoff files\n",
      "Processing file 0 of 22693 (0.0 min)\n",
      "Processing file 500 of 22693 (0.0 min)\n",
      "Processing file 1000 of 22693 (0.0 min)\n",
      "Processing file 1500 of 22693 (0.1 min)\n",
      "Processing file 2000 of 22693 (0.1 min)\n",
      "Processing file 2500 of 22693 (0.2 min)\n",
      "Processing file 3000 of 22693 (0.3 min)\n",
      "Processing file 3500 of 22693 (0.4 min)\n",
      "Processing file 4000 of 22693 (0.5 min)\n",
      "Processing file 4500 of 22693 (0.7 min)\n",
      "Processing file 5000 of 22693 (0.9 min)\n",
      "Processing file 5500 of 22693 (1.1 min)\n",
      "Processing file 6000 of 22693 (1.3 min)\n",
      "Processing file 6500 of 22693 (1.5 min)\n",
      "Processing file 7000 of 22693 (1.7 min)\n",
      "Processing file 7500 of 22693 (2.0 min)\n",
      "Processing file 8000 of 22693 (2.3 min)\n",
      "Processing file 8500 of 22693 (2.5 min)\n",
      "Processing file 9000 of 22693 (2.8 min)\n",
      "Processing file 9500 of 22693 (3.2 min)\n",
      "Processing file 10000 of 22693 (3.5 min)\n",
      "Processing file 10500 of 22693 (3.8 min)\n",
      "Processing file 11000 of 22693 (4.2 min)\n",
      "Processing file 11500 of 22693 (4.6 min)\n",
      "Processing file 12000 of 22693 (5.0 min)\n",
      "Processing file 12500 of 22693 (5.4 min)\n",
      "Processing file 13000 of 22693 (5.8 min)\n",
      "Processing file 13500 of 22693 (6.2 min)\n",
      "Processing file 14000 of 22693 (6.7 min)\n",
      "Processing file 14500 of 22693 (7.1 min)\n",
      "Processing file 15000 of 22693 (7.6 min)\n",
      "Processing file 15500 of 22693 (8.0 min)\n",
      "Processing file 16000 of 22693 (8.5 min)\n",
      "Processing file 16500 of 22693 (9.0 min)\n",
      "Processing file 17000 of 22693 (9.6 min)\n",
      "Processing file 17500 of 22693 (10.1 min)\n",
      "Processing file 18000 of 22693 (10.7 min)\n",
      "Processing file 18500 of 22693 (11.3 min)\n",
      "Processing file 19000 of 22693 (11.9 min)\n",
      "Processing file 19500 of 22693 (12.5 min)\n",
      "Processing file 20000 of 22693 (13.2 min)\n",
      "Processing file 20500 of 22693 (13.9 min)\n",
      "Processing file 21000 of 22693 (14.5 min)\n",
      "Processing file 21500 of 22693 (15.2 min)\n",
      "Processing file 22000 of 22693 (15.9 min)\n",
      "Processing file 22500 of 22693 (16.7 min)\n",
      "Parsing took 1017.03 sec\n",
      "Extracted 454554 [u'Chemical' u'Gene' u'Disease' u'Species' u'Mutation'] entities\n",
      "1025.06346297\n"
     ]
    }
   ],
   "source": [
    "start_time = time.time()\n",
    "\n",
    "# parse standoff annotations again !! Time consuming \n",
    "entities = standoff_to_entitydf(ann_files, )\n",
    "# Write to bz2 pickle \n",
    "with bz2.BZ2File('/home/antonis/data/biocreative6/entities/entitiesdf_GS+NCBI_outg_citations.pkl.bz2', 'wb') as f:\n",
    "    pickle.dump(entities, f)\n",
    "\n",
    "print time.time()-start_time"
   ]
  },
  {
   "cell_type": "markdown",
   "metadata": {},
   "source": [
    "# ~~~~\n",
    "\n",
    "# Load entities df"
   ]
  },
  {
   "cell_type": "code",
   "execution_count": 9,
   "metadata": {},
   "outputs": [],
   "source": [
    "with bz2.BZ2File('/home/antonis/data/biocreative6/entities/entitiesdf_GS+NCBI_outg_citations.pkl.bz2', 'rb') as f:\n",
    "    entities = pickle.load(f)"
   ]
  },
  {
   "cell_type": "code",
   "execution_count": 10,
   "metadata": {},
   "outputs": [
    {
     "data": {
      "text/html": [
       "<div>\n",
       "<style scoped>\n",
       "    .dataframe tbody tr th:only-of-type {\n",
       "        vertical-align: middle;\n",
       "    }\n",
       "\n",
       "    .dataframe tbody tr th {\n",
       "        vertical-align: top;\n",
       "    }\n",
       "\n",
       "    .dataframe thead th {\n",
       "        text-align: right;\n",
       "    }\n",
       "</style>\n",
       "<table border=\"1\" class=\"dataframe\">\n",
       "  <thead>\n",
       "    <tr style=\"text-align: right;\">\n",
       "      <th></th>\n",
       "      <th>T</th>\n",
       "      <th>EntityType</th>\n",
       "      <th>start</th>\n",
       "      <th>stop</th>\n",
       "      <th>EntityText</th>\n",
       "      <th>_</th>\n",
       "      <th>identifier</th>\n",
       "      <th>doc_id</th>\n",
       "    </tr>\n",
       "  </thead>\n",
       "  <tbody>\n",
       "    <tr>\n",
       "      <th>0</th>\n",
       "      <td>T10</td>\n",
       "      <td>Chemical</td>\n",
       "      <td>1899</td>\n",
       "      <td>1904</td>\n",
       "      <td>FdUMP</td>\n",
       "      <td></td>\n",
       "      <td>MESH:D005468</td>\n",
       "      <td>15866500</td>\n",
       "    </tr>\n",
       "    <tr>\n",
       "      <th>1</th>\n",
       "      <td>T11</td>\n",
       "      <td>Chemical</td>\n",
       "      <td>383</td>\n",
       "      <td>386</td>\n",
       "      <td>UdR</td>\n",
       "      <td></td>\n",
       "      <td>Chemical:1</td>\n",
       "      <td>15866500</td>\n",
       "    </tr>\n",
       "    <tr>\n",
       "      <th>2</th>\n",
       "      <td>T12</td>\n",
       "      <td>Chemical</td>\n",
       "      <td>1928</td>\n",
       "      <td>1931</td>\n",
       "      <td>UdR</td>\n",
       "      <td></td>\n",
       "      <td>Chemical:1</td>\n",
       "      <td>15866500</td>\n",
       "    </tr>\n",
       "    <tr>\n",
       "      <th>3</th>\n",
       "      <td>T13</td>\n",
       "      <td>Chemical</td>\n",
       "      <td>2008</td>\n",
       "      <td>2020</td>\n",
       "      <td>capecitabine</td>\n",
       "      <td></td>\n",
       "      <td>MESH:C110904</td>\n",
       "      <td>15866500</td>\n",
       "    </tr>\n",
       "    <tr>\n",
       "      <th>4</th>\n",
       "      <td>T14</td>\n",
       "      <td>Chemical</td>\n",
       "      <td>2093</td>\n",
       "      <td>2108</td>\n",
       "      <td>2'-deoxyuridine</td>\n",
       "      <td></td>\n",
       "      <td>Chemical:4</td>\n",
       "      <td>15866500</td>\n",
       "    </tr>\n",
       "  </tbody>\n",
       "</table>\n",
       "</div>"
      ],
      "text/plain": [
       "     T EntityType start  stop       EntityText _    identifier    doc_id\n",
       "0  T10   Chemical  1899  1904            FdUMP    MESH:D005468  15866500\n",
       "1  T11   Chemical   383   386              UdR      Chemical:1  15866500\n",
       "2  T12   Chemical  1928  1931              UdR      Chemical:1  15866500\n",
       "3  T13   Chemical  2008  2020     capecitabine    MESH:C110904  15866500\n",
       "4  T14   Chemical  2093  2108  2'-deoxyuridine      Chemical:4  15866500"
      ]
     },
     "execution_count": 10,
     "metadata": {},
     "output_type": "execute_result"
    }
   ],
   "source": [
    "entities.head()"
   ]
  },
  {
   "cell_type": "markdown",
   "metadata": {},
   "source": [
    "### Check mapped vs un-mapped entities in our dataset"
   ]
  },
  {
   "cell_type": "code",
   "execution_count": 14,
   "metadata": {},
   "outputs": [
    {
     "data": {
      "text/plain": [
       "290119"
      ]
     },
     "execution_count": 14,
     "metadata": {},
     "output_type": "execute_result"
    }
   ],
   "source": [
    "154228+ 26964+136649+13478-41200\n"
   ]
  },
  {
   "cell_type": "code",
   "execution_count": 11,
   "metadata": {},
   "outputs": [
    {
     "name": "stdout",
     "output_type": "stream",
     "text": [
      "Chemical\n",
      "Mapped       154220\n",
      "Un-mapped     26972\n",
      "dtype: int64 \n",
      "\n",
      "Gene\n",
      "Mapped       136664\n",
      "Un-mapped     13463\n",
      "dtype: int64 \n",
      "\n",
      "Disease\n",
      "Mapped       69080\n",
      "Un-mapped        5\n",
      "dtype: int64 \n",
      "\n",
      "Species\n",
      "Mapped    50508\n",
      "dtype: int64 \n",
      "\n",
      "Mutation\n",
      "Mapped    3642\n",
      "dtype: int64 \n",
      "\n"
     ]
    }
   ],
   "source": [
    "# un-mapped Chemicals (excluding tmTool unknown: identifier)\n",
    "def check_unmapped(ent_type, entities):\n",
    "    ser = pd.Series(map(lambda x: x.startswith(ent_type+\":\"),entities[entities.EntityType==ent_type]['identifier'] )).value_counts().rename({False: \"Mapped\", True: \"Un-mapped\"},)\n",
    "    return ser\n",
    "\n",
    "for ent_type in entities.EntityType.unique():\n",
    "    print ent_type\n",
    "    print check_unmapped(ent_type, entities),'\\n'\n",
    "    \n",
    "# Previous results (GS + chemdner_silver)\n",
    "# Chemical\n",
    "# Mapped       67113\n",
    "# Un-mapped    30656\n",
    "# dtype: int64 \n",
    "\n",
    "# Gene\n",
    "# Mapped       51594\n",
    "# Un-mapped    17974\n",
    "# dtype: int64 \n",
    "\n",
    "# Disease\n",
    "# Mapped       83511\n",
    "# Un-mapped        3\n",
    "# dtype: int64 \n",
    "\n",
    "# Species\n",
    "# Mapped    55273\n",
    "# dtype: int64 \n",
    "\n",
    "# Mutation\n",
    "# Mapped    1690\n",
    "# dtype: int64 "
   ]
  },
  {
   "cell_type": "markdown",
   "metadata": {},
   "source": [
    "# Create entities import files for snorkel (candidate extraction)"
   ]
  },
  {
   "cell_type": "markdown",
   "metadata": {},
   "source": [
    "### Create tag dict"
   ]
  },
  {
   "cell_type": "code",
   "execution_count": 12,
   "metadata": {},
   "outputs": [],
   "source": [
    "unary_tags = entitydf_to_tagdict(entities)\n",
    "# unary_tags"
   ]
  },
  {
   "cell_type": "code",
   "execution_count": 13,
   "metadata": {
    "scrolled": true
   },
   "outputs": [
    {
     "data": {
      "text/plain": [
       "22040"
      ]
     },
     "execution_count": 13,
     "metadata": {},
     "output_type": "execute_result"
    }
   ],
   "source": [
    "len(unary_tags)"
   ]
  },
  {
   "cell_type": "code",
   "execution_count": 14,
   "metadata": {},
   "outputs": [
    {
     "data": {
      "text/plain": [
       "{(u'Chemical|MESH:D010755', 299, 315),\n",
       " (u'Chemical|MESH:D012524', 144, 149),\n",
       " (u'Chemical|MESH:D012524', 449, 454),\n",
       " (u'Disease|unknown:D006331', 67, 88),\n",
       " (u'Disease|unknown:D006331', 1030, 1051),\n",
       " (u'Disease|unknown:D006331', 1767, 1788),\n",
       " (u'Disease|unknown:D012131', 1103, 1122),\n",
       " (u'Disease|unknown:D012640', 90, 98),\n",
       " (u'Disease|unknown:D012640', 1068, 1076),\n",
       " (u'Disease|unknown:D064420', 1372, 1377),\n",
       " (u'Disease|unknown:D064420', 1793, 1808),\n",
       " (u'Disease|unknown:D066126', 1232, 1256),\n",
       " (u'Gene|NCBIGENE:100033901', 195, 199),\n",
       " (u'Gene|NCBIGENE:100033901', 385, 389),\n",
       " (u'Gene|NCBIGENE:100033901', 568, 572),\n",
       " (u'Gene|NCBIGENE:100033901', 607, 611),\n",
       " (u'Gene|NCBIGENE:100033901', 939, 943),\n",
       " (u'Gene|NCBIGENE:100033901', 1165, 1169),\n",
       " (u'Gene|NCBIGENE:100033901', 1336, 1340),\n",
       " (u'Gene|NCBIGENE:100033901', 1579, 1583),\n",
       " (u'Gene|NCBIGENE:100033901', 1604, 1608),\n",
       " (u'Gene|NCBIGENE:100033901', 1703, 1707),\n",
       " (u'Gene|NCBIGENE:590', 30, 51),\n",
       " (u'Gene|NCBIGENE:590', 169, 190),\n",
       " (u'Gene|NCBIGENE:83817', 914, 934),\n",
       " (u'Species|NCBITaxon:9823', 1550, 1554)}"
      ]
     },
     "execution_count": 14,
     "metadata": {},
     "output_type": "execute_result"
    }
   ],
   "source": [
    "unary_tags[unary_tags.keys()[1]]"
   ]
  },
  {
   "cell_type": "markdown",
   "metadata": {},
   "source": [
    "#### Write to bz2 pickle"
   ]
  },
  {
   "cell_type": "code",
   "execution_count": 15,
   "metadata": {},
   "outputs": [],
   "source": [
    "# Write to bz2 pickle \n",
    "with bz2.BZ2File('/home/antonis/data/biocreative6/entities/unary_tags.pkl.bz2', 'w') as f:\n",
    "    pickle.dump(unary_tags, f)"
   ]
  },
  {
   "cell_type": "markdown",
   "metadata": {},
   "source": [
    "### Create mesh dict"
   ]
  },
  {
   "cell_type": "code",
   "execution_count": 16,
   "metadata": {},
   "outputs": [],
   "source": [
    "mesh_dict = entitydf_to_meshdict(entities)"
   ]
  },
  {
   "cell_type": "code",
   "execution_count": 17,
   "metadata": {},
   "outputs": [],
   "source": [
    "# Write to bz2 pickle \n",
    "with bz2.BZ2File('/home/antonis/data/biocreative6/entities/mesh_dict.pkl.bz2', 'w') as f:\n",
    "    pickle.dump(tuple([mesh_dict['Chemical'], mesh_dict['Gene']]), f)"
   ]
  },
  {
   "cell_type": "code",
   "execution_count": null,
   "metadata": {},
   "outputs": [],
   "source": []
  },
  {
   "cell_type": "markdown",
   "metadata": {},
   "source": [
    "# Create relationship import files for snorkel (candidate extraction)"
   ]
  },
  {
   "cell_type": "markdown",
   "metadata": {},
   "source": [
    "### Create goldset relationships dict\n",
    "** Skipped - assumes document-level annotations **"
   ]
  },
  {
   "cell_type": "code",
   "execution_count": 18,
   "metadata": {},
   "outputs": [],
   "source": [
    "# from preprocessing import gold_relations_to_dict\n",
    "T_mapping = entities.groupby('doc_id')[['T','identifier']].apply(lambda g: dict(g.values.tolist())).to_dict()"
   ]
  },
  {
   "cell_type": "code",
   "execution_count": null,
   "metadata": {},
   "outputs": [],
   "source": []
  },
  {
   "cell_type": "markdown",
   "metadata": {},
   "source": [
    "** To tsv ** "
   ]
  },
  {
   "cell_type": "code",
   "execution_count": 19,
   "metadata": {},
   "outputs": [],
   "source": [
    "# from preprocessing import gold_relations_to_tsv"
   ]
  },
  {
   "cell_type": "code",
   "execution_count": 20,
   "metadata": {
    "scrolled": true
   },
   "outputs": [
    {
     "data": {
      "text/html": [
       "<div>\n",
       "<style scoped>\n",
       "    .dataframe tbody tr th:only-of-type {\n",
       "        vertical-align: middle;\n",
       "    }\n",
       "\n",
       "    .dataframe tbody tr th {\n",
       "        vertical-align: top;\n",
       "    }\n",
       "\n",
       "    .dataframe thead th {\n",
       "        text-align: right;\n",
       "    }\n",
       "</style>\n",
       "<table border=\"1\" class=\"dataframe\">\n",
       "  <thead>\n",
       "    <tr style=\"text-align: right;\">\n",
       "      <th></th>\n",
       "      <th>T</th>\n",
       "      <th>EntityType</th>\n",
       "      <th>start</th>\n",
       "      <th>stop</th>\n",
       "      <th>EntityText</th>\n",
       "      <th>_</th>\n",
       "      <th>identifier</th>\n",
       "      <th>doc_id</th>\n",
       "      <th>tup</th>\n",
       "    </tr>\n",
       "  </thead>\n",
       "  <tbody>\n",
       "    <tr>\n",
       "      <th>0</th>\n",
       "      <td>T10</td>\n",
       "      <td>Chemical</td>\n",
       "      <td>1899</td>\n",
       "      <td>1904</td>\n",
       "      <td>FdUMP</td>\n",
       "      <td></td>\n",
       "      <td>MESH:D005468</td>\n",
       "      <td>15866500</td>\n",
       "      <td>(Chemical|MESH:D005468, 1899, 1904)</td>\n",
       "    </tr>\n",
       "    <tr>\n",
       "      <th>1</th>\n",
       "      <td>T11</td>\n",
       "      <td>Chemical</td>\n",
       "      <td>383</td>\n",
       "      <td>386</td>\n",
       "      <td>UdR</td>\n",
       "      <td></td>\n",
       "      <td>Chemical:1</td>\n",
       "      <td>15866500</td>\n",
       "      <td>(Chemical|Chemical:1, 383, 386)</td>\n",
       "    </tr>\n",
       "    <tr>\n",
       "      <th>2</th>\n",
       "      <td>T12</td>\n",
       "      <td>Chemical</td>\n",
       "      <td>1928</td>\n",
       "      <td>1931</td>\n",
       "      <td>UdR</td>\n",
       "      <td></td>\n",
       "      <td>Chemical:1</td>\n",
       "      <td>15866500</td>\n",
       "      <td>(Chemical|Chemical:1, 1928, 1931)</td>\n",
       "    </tr>\n",
       "    <tr>\n",
       "      <th>3</th>\n",
       "      <td>T13</td>\n",
       "      <td>Chemical</td>\n",
       "      <td>2008</td>\n",
       "      <td>2020</td>\n",
       "      <td>capecitabine</td>\n",
       "      <td></td>\n",
       "      <td>MESH:C110904</td>\n",
       "      <td>15866500</td>\n",
       "      <td>(Chemical|MESH:C110904, 2008, 2020)</td>\n",
       "    </tr>\n",
       "    <tr>\n",
       "      <th>4</th>\n",
       "      <td>T14</td>\n",
       "      <td>Chemical</td>\n",
       "      <td>2093</td>\n",
       "      <td>2108</td>\n",
       "      <td>2'-deoxyuridine</td>\n",
       "      <td></td>\n",
       "      <td>Chemical:4</td>\n",
       "      <td>15866500</td>\n",
       "      <td>(Chemical|Chemical:4, 2093, 2108)</td>\n",
       "    </tr>\n",
       "  </tbody>\n",
       "</table>\n",
       "</div>"
      ],
      "text/plain": [
       "     T EntityType start  stop       EntityText _    identifier    doc_id  \\\n",
       "0  T10   Chemical  1899  1904            FdUMP    MESH:D005468  15866500   \n",
       "1  T11   Chemical   383   386              UdR      Chemical:1  15866500   \n",
       "2  T12   Chemical  1928  1931              UdR      Chemical:1  15866500   \n",
       "3  T13   Chemical  2008  2020     capecitabine    MESH:C110904  15866500   \n",
       "4  T14   Chemical  2093  2108  2'-deoxyuridine      Chemical:4  15866500   \n",
       "\n",
       "                                   tup  \n",
       "0  (Chemical|MESH:D005468, 1899, 1904)  \n",
       "1      (Chemical|Chemical:1, 383, 386)  \n",
       "2    (Chemical|Chemical:1, 1928, 1931)  \n",
       "3  (Chemical|MESH:C110904, 2008, 2020)  \n",
       "4    (Chemical|Chemical:4, 2093, 2108)  "
      ]
     },
     "execution_count": 20,
     "metadata": {},
     "output_type": "execute_result"
    }
   ],
   "source": [
    "entities.head()"
   ]
  },
  {
   "cell_type": "code",
   "execution_count": 21,
   "metadata": {},
   "outputs": [
    {
     "data": {
      "text/html": [
       "<div>\n",
       "<style scoped>\n",
       "    .dataframe tbody tr th:only-of-type {\n",
       "        vertical-align: middle;\n",
       "    }\n",
       "\n",
       "    .dataframe tbody tr th {\n",
       "        vertical-align: top;\n",
       "    }\n",
       "\n",
       "    .dataframe thead th {\n",
       "        text-align: right;\n",
       "    }\n",
       "</style>\n",
       "<table border=\"1\" class=\"dataframe\">\n",
       "  <thead>\n",
       "    <tr style=\"text-align: right;\">\n",
       "      <th></th>\n",
       "      <th>T</th>\n",
       "      <th>EntityType</th>\n",
       "      <th>start</th>\n",
       "      <th>stop</th>\n",
       "      <th>EntityText</th>\n",
       "      <th>_</th>\n",
       "      <th>identifier</th>\n",
       "      <th>doc_id</th>\n",
       "      <th>tup</th>\n",
       "    </tr>\n",
       "  </thead>\n",
       "  <tbody>\n",
       "    <tr>\n",
       "      <th>454549</th>\n",
       "      <td>T23</td>\n",
       "      <td>Species</td>\n",
       "      <td>1569</td>\n",
       "      <td>1577</td>\n",
       "      <td>patients</td>\n",
       "      <td>N23\\tReference T23 NCBITaxon:9606\\tpatients</td>\n",
       "      <td>NCBITaxon:9606</td>\n",
       "      <td>22323410</td>\n",
       "      <td>(Species|NCBITaxon:9606, 1569, 1577)</td>\n",
       "    </tr>\n",
       "    <tr>\n",
       "      <th>454550</th>\n",
       "      <td>T24</td>\n",
       "      <td>Disease</td>\n",
       "      <td>1674</td>\n",
       "      <td>1685</td>\n",
       "      <td>weight loss</td>\n",
       "      <td>N24\\tReference T24 unknown:D015431\\tweight loss</td>\n",
       "      <td>unknown:D015431</td>\n",
       "      <td>22323410</td>\n",
       "      <td>(Disease|unknown:D015431, 1674, 1685)</td>\n",
       "    </tr>\n",
       "    <tr>\n",
       "      <th>454551</th>\n",
       "      <td>T25</td>\n",
       "      <td>Disease</td>\n",
       "      <td>1705</td>\n",
       "      <td>1713</td>\n",
       "      <td>diabetes</td>\n",
       "      <td>N25\\tReference T25 unknown:D003920\\tdiabetes</td>\n",
       "      <td>unknown:D003920</td>\n",
       "      <td>22323410</td>\n",
       "      <td>(Disease|unknown:D003920, 1705, 1713)</td>\n",
       "    </tr>\n",
       "    <tr>\n",
       "      <th>454552</th>\n",
       "      <td>T26</td>\n",
       "      <td>Chemical</td>\n",
       "      <td>1804</td>\n",
       "      <td>1813</td>\n",
       "      <td>vitamin D</td>\n",
       "      <td>N26\\tReference T26 MESH:D014807\\tvitamin D</td>\n",
       "      <td>MESH:D014807</td>\n",
       "      <td>22323410</td>\n",
       "      <td>(Chemical|MESH:D014807, 1804, 1813)</td>\n",
       "    </tr>\n",
       "    <tr>\n",
       "      <th>454553</th>\n",
       "      <td>T27</td>\n",
       "      <td>Disease</td>\n",
       "      <td>1818</td>\n",
       "      <td>1826</td>\n",
       "      <td>diabetes</td>\n",
       "      <td>N27\\tReference T27 unknown:D003920\\tdiabetes</td>\n",
       "      <td>unknown:D003920</td>\n",
       "      <td>22323410</td>\n",
       "      <td>(Disease|unknown:D003920, 1818, 1826)</td>\n",
       "    </tr>\n",
       "  </tbody>\n",
       "</table>\n",
       "</div>"
      ],
      "text/plain": [
       "          T EntityType start  stop   EntityText  \\\n",
       "454549  T23    Species  1569  1577     patients   \n",
       "454550  T24    Disease  1674  1685  weight loss   \n",
       "454551  T25    Disease  1705  1713     diabetes   \n",
       "454552  T26   Chemical  1804  1813    vitamin D   \n",
       "454553  T27    Disease  1818  1826     diabetes   \n",
       "\n",
       "                                                      _       identifier  \\\n",
       "454549      N23\\tReference T23 NCBITaxon:9606\\tpatients   NCBITaxon:9606   \n",
       "454550  N24\\tReference T24 unknown:D015431\\tweight loss  unknown:D015431   \n",
       "454551     N25\\tReference T25 unknown:D003920\\tdiabetes  unknown:D003920   \n",
       "454552       N26\\tReference T26 MESH:D014807\\tvitamin D     MESH:D014807   \n",
       "454553     N27\\tReference T27 unknown:D003920\\tdiabetes  unknown:D003920   \n",
       "\n",
       "          doc_id                                    tup  \n",
       "454549  22323410   (Species|NCBITaxon:9606, 1569, 1577)  \n",
       "454550  22323410  (Disease|unknown:D015431, 1674, 1685)  \n",
       "454551  22323410  (Disease|unknown:D003920, 1705, 1713)  \n",
       "454552  22323410    (Chemical|MESH:D014807, 1804, 1813)  \n",
       "454553  22323410  (Disease|unknown:D003920, 1818, 1826)  "
      ]
     },
     "execution_count": 21,
     "metadata": {},
     "output_type": "execute_result"
    }
   ],
   "source": [
    "entities.tail()"
   ]
  },
  {
   "cell_type": "code",
   "execution_count": 22,
   "metadata": {},
   "outputs": [],
   "source": [
    "from collections import defaultdict"
   ]
  },
  {
   "cell_type": "code",
   "execution_count": 23,
   "metadata": {},
   "outputs": [],
   "source": [
    "# prepare for extracting to tsv\n",
    "\n",
    "entities['startstop'] = map(lambda start,stop: [int(start), int(stop)], entities.start,entities.stop)\n",
    "entities = entities[map(lambda x: x in ['Chemical', 'Gene'],entities.EntityType)] #keep only Chemicals & Genes (combinations get too big)\n",
    "# dict of offsets per T\n",
    "T_offsets = entities.groupby('doc_id')[['T','startstop']].apply(lambda g: dict(g.values.tolist())).to_dict()\n",
    "# dict of T types (to avoid pointless combinations)\n",
    "T_types = defaultdict(lambda: defaultdict(list))\n",
    "for row in entities.iterrows():\n",
    "    T_types[row[1].doc_id][row[1]['EntityType']].append(row[1]['T'])"
   ]
  },
  {
   "cell_type": "code",
   "execution_count": 24,
   "metadata": {},
   "outputs": [],
   "source": [
    "from preprocessing import gold_relations_to_tsv"
   ]
  },
  {
   "cell_type": "code",
   "execution_count": null,
   "metadata": {},
   "outputs": [],
   "source": []
  },
  {
   "cell_type": "code",
   "execution_count": 26,
   "metadata": {},
   "outputs": [
    {
     "name": "stdout",
     "output_type": "stream",
     "text": [
      "Relationship labels in total (train,dev,test set)\n",
      " 1    6992\n",
      "-1    3039\n",
      "Name: label, dtype: int64\n"
     ]
    }
   ],
   "source": [
    "# Analytics relationships \n",
    "\n",
    "input_path = glob.glob(\"/home/antonis/data/biocreative6/tsv/*/*gold_standard.tsv\")\n",
    "#, output_path, T_offsets, T_types, \n",
    "true_rels=['CPR:3', 'CPR:4']\n",
    "# correct_last_offset = True\n",
    "\n",
    "relationships = pd.DataFrame()\n",
    "if isinstance(input_path,str):\n",
    "    input_path = [input_path]\n",
    "for path in input_path:\n",
    "    relationships = relationships.append(pd.read_table(path, names = ['doc_id', 'CPR', 'arg1', 'arg2']) , ignore_index=True)\n",
    "\n",
    "# convert doc_id to string\n",
    "relationships['doc_id'] = map(lambda x: str(x) , relationships['doc_id'])\n",
    "relationships['label'] = map(lambda x: 1 if x in true_rels else -1, relationships.CPR)\n",
    "\n",
    "print 'Relationship labels in total (train,dev,test set)'\n",
    "print relationships.label.value_counts()\n",
    "\n",
    "# Total (+) relationships in gold set:\n",
    "# Train: 3022\n",
    "# Dev: 1644\n",
    "# Test 2326\n",
    "# Total: 6992\n"
   ]
  },
  {
   "cell_type": "code",
   "execution_count": null,
   "metadata": {},
   "outputs": [],
   "source": []
  },
  {
   "cell_type": "code",
   "execution_count": 27,
   "metadata": {
    "scrolled": true
   },
   "outputs": [],
   "source": [
    "# neg_rels1 = pd.DataFrame(map(lambda (T1,T2): (doc_id,-1,T1,T2) , product(T_types[doc_id]['Chemical'],T_types[doc_id]['Gene'])) , columns = [u'doc_id', u'CPR', u'arg1', u'arg2'])\n",
    "\n",
    "# neg_rels1['arg1'] = map( lambda arg: \"Arg1:\"+arg , neg_rels1['arg1'])\n",
    "# neg_rels1['arg2'] = map( lambda arg: \"Arg2:\"+arg , neg_rels1['arg2'])\n",
    "\n",
    "# neg_rels"
   ]
  },
  {
   "cell_type": "code",
   "execution_count": null,
   "metadata": {},
   "outputs": [],
   "source": []
  },
  {
   "cell_type": "code",
   "execution_count": 28,
   "metadata": {},
   "outputs": [],
   "source": [
    "# Extract rels and save to disk"
   ]
  },
  {
   "cell_type": "code",
   "execution_count": 29,
   "metadata": {
    "scrolled": true
   },
   "outputs": [
    {
     "name": "stdout",
     "output_type": "stream",
     "text": [
      "Converting labels from:\n",
      "/home/antonis/data/biocreative6/tsv/test_gs/chemprot_test_gold_standard.tsv,\n",
      "/home/antonis/data/biocreative6/tsv/training/chemprot_training_gold_standard.tsv,\n",
      "/home/antonis/data/biocreative6/tsv/development/chemprot_development_gold_standard.tsv\n",
      "Labels statistics:\n",
      "-1    314556\n",
      " 1      6987\n",
      "Name: label, dtype: int64\n"
     ]
    }
   ],
   "source": [
    "path = glob.glob(\"/home/antonis/data/biocreative6/tsv/*/*gold_standard.tsv\")\n",
    "print 'Converting labels from:\\n'+ \",\\n\".join(path)\n",
    "\n",
    "print 'Labels statistics:'\n",
    "gold_relations_to_tsv(path,'/home/antonis/data/biocreative6/entities/gold_rels_complete.tsv',T_offsets, T_types)"
   ]
  },
  {
   "cell_type": "code",
   "execution_count": null,
   "metadata": {},
   "outputs": [],
   "source": []
  },
  {
   "cell_type": "code",
   "execution_count": null,
   "metadata": {},
   "outputs": [],
   "source": []
  }
 ],
 "metadata": {
  "kernelspec": {
   "display_name": "Python 2",
   "language": "python",
   "name": "python2"
  },
  "language_info": {
   "codemirror_mode": {
    "name": "ipython",
    "version": 2
   },
   "file_extension": ".py",
   "mimetype": "text/x-python",
   "name": "python",
   "nbconvert_exporter": "python",
   "pygments_lexer": "ipython2",
   "version": "2.7.15"
  }
 },
 "nbformat": 4,
 "nbformat_minor": 2
}
