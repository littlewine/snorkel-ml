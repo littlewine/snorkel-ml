{
 "cells": [
  {
   "cell_type": "code",
   "execution_count": 1,
   "metadata": {},
   "outputs": [],
   "source": [
    "import glob\n",
    "import codecs\n",
    "import pandas as pd"
   ]
  },
  {
   "cell_type": "code",
   "execution_count": 2,
   "metadata": {},
   "outputs": [],
   "source": [
    "import bz2\n",
    "import cPickle as pickle\n",
    "import time"
   ]
  },
  {
   "cell_type": "code",
   "execution_count": 3,
   "metadata": {},
   "outputs": [],
   "source": [
    "from preprocessing import standoff_to_entitydf, entitydf_to_meshdict, entitydf_to_tagdict"
   ]
  },
  {
   "cell_type": "markdown",
   "metadata": {},
   "source": [
    "# Standoff format to entity DF"
   ]
  },
  {
   "cell_type": "code",
   "execution_count": 4,
   "metadata": {},
   "outputs": [],
   "source": [
    "from preprocessing import standoff_to_entitydf"
   ]
  },
  {
   "cell_type": "code",
   "execution_count": 5,
   "metadata": {},
   "outputs": [],
   "source": [
    "ann_files = []\n",
    "ann_files.extend(glob.glob(\"/home/antonis/data/biocreative6/goldset/*/*.ann\"))\n",
    "ann_files.extend(glob.glob(\"/home/antonis/data/biocreative6/NCBI_parsed/outgoing_citations/*.ann\"))"
   ]
  },
  {
   "cell_type": "code",
   "execution_count": 6,
   "metadata": {},
   "outputs": [
    {
     "data": {
      "text/plain": [
       "['/home/antonis/data/biocreative6/goldset/development/18480678.ann',\n",
       " '/home/antonis/data/biocreative6/goldset/development/7703721.ann',\n",
       " '/home/antonis/data/biocreative6/goldset/development/23066089.ann',\n",
       " '/home/antonis/data/biocreative6/NCBI_parsed/outgoing_citations/18155073.ann',\n",
       " '/home/antonis/data/biocreative6/NCBI_parsed/outgoing_citations/4087830.ann',\n",
       " '/home/antonis/data/biocreative6/NCBI_parsed/outgoing_citations/19246362.ann',\n",
       " '/home/antonis/data/biocreative6/NCBI_parsed/outgoing_citations/14561769.ann',\n",
       " '/home/antonis/data/biocreative6/NCBI_parsed/outgoing_citations/9895047.ann']"
      ]
     },
     "execution_count": 6,
     "metadata": {},
     "output_type": "execute_result"
    }
   ],
   "source": [
    "ann_files[0:3]+ann_files[-5:]"
   ]
  },
  {
   "cell_type": "code",
   "execution_count": 8,
   "metadata": {},
   "outputs": [
    {
     "name": "stdout",
     "output_type": "stream",
     "text": [
      "Found 22693 standoff files\n",
      "Processing file 0 of 22693 (0.0 min)\n",
      "Processing file 500 of 22693 (0.0 min)\n",
      "Processing file 1000 of 22693 (0.1 min)\n",
      "Processing file 1500 of 22693 (0.2 min)\n",
      "Processing file 2000 of 22693 (0.3 min)\n",
      "Processing file 2500 of 22693 (0.4 min)\n",
      "Processing file 3000 of 22693 (0.6 min)\n",
      "Processing file 3500 of 22693 (0.9 min)\n",
      "Processing file 4000 of 22693 (1.2 min)\n",
      "Processing file 4500 of 22693 (1.5 min)\n",
      "Processing file 5000 of 22693 (1.9 min)\n",
      "Processing file 5500 of 22693 (2.4 min)\n",
      "Processing file 6000 of 22693 (2.9 min)\n",
      "Processing file 6500 of 22693 (3.4 min)\n",
      "Processing file 7000 of 22693 (4.0 min)\n",
      "Processing file 7500 of 22693 (4.7 min)\n",
      "Processing file 8000 of 22693 (5.4 min)\n",
      "Processing file 8500 of 22693 (6.1 min)\n",
      "Processing file 9000 of 22693 (6.9 min)\n",
      "Processing file 9500 of 22693 (7.8 min)\n",
      "Processing file 10000 of 22693 (8.7 min)\n",
      "Processing file 10500 of 22693 (9.6 min)\n",
      "Processing file 11000 of 22693 (10.6 min)\n",
      "Processing file 11500 of 22693 (11.7 min)\n",
      "Processing file 12000 of 22693 (12.8 min)\n",
      "Processing file 12500 of 22693 (13.9 min)\n",
      "Processing file 13000 of 22693 (15.1 min)\n",
      "Processing file 13500 of 22693 (16.4 min)\n",
      "Processing file 14000 of 22693 (17.6 min)\n",
      "Processing file 14500 of 22693 (18.9 min)\n",
      "Processing file 15000 of 22693 (20.3 min)\n",
      "Processing file 15500 of 22693 (21.8 min)\n",
      "Processing file 16000 of 22693 (23.2 min)\n",
      "Processing file 16500 of 22693 (24.7 min)\n",
      "Processing file 17000 of 22693 (26.3 min)\n",
      "Processing file 17500 of 22693 (27.9 min)\n",
      "Processing file 18000 of 22693 (29.5 min)\n",
      "Processing file 18500 of 22693 (31.2 min)\n",
      "Processing file 19000 of 22693 (33.0 min)\n",
      "Processing file 19500 of 22693 (34.7 min)\n",
      "Processing file 20000 of 22693 (36.9 min)\n",
      "Processing file 20500 of 22693 (38.8 min)\n",
      "Processing file 21000 of 22693 (40.9 min)\n",
      "Processing file 21500 of 22693 (43.3 min)\n",
      "Processing file 22000 of 22693 (45.9 min)\n",
      "Processing file 22500 of 22693 (48.5 min)\n",
      "Parsing took 2973.66 sec\n",
      "Extracted 454554 [u'Chemical' u'Gene' u'Species' u'Disease' u'Mutation'] entities\n",
      "2989.50775218\n"
     ]
    }
   ],
   "source": [
    "start_time = time.time()\n",
    "\n",
    "# parse standoff annotations again !! Time consuming \n",
    "entities = standoff_to_entitydf(ann_files, )\n",
    "# Write to bz2 pickle \n",
    "with bz2.BZ2File('/home/antonis/data/biocreative6/entities/entitiesdf_GS+NCBI_outg_citations.pkl.bz2', 'wb') as f:\n",
    "    pickle.dump(entities, f)\n",
    "\n",
    "print time.time()-start_time"
   ]
  },
  {
   "cell_type": "markdown",
   "metadata": {},
   "source": [
    "# ~~~~\n",
    "\n",
    "# Load entities df"
   ]
  },
  {
   "cell_type": "code",
   "execution_count": 9,
   "metadata": {},
   "outputs": [],
   "source": [
    "with bz2.BZ2File('/home/antonis/data/biocreative6/entities/entitiesdf_GS+NCBI_outg_citations.pkl.bz2', 'rb') as f:\n",
    "    entities = pickle.load(f)"
   ]
  },
  {
   "cell_type": "code",
   "execution_count": 10,
   "metadata": {},
   "outputs": [
    {
     "data": {
      "text/html": [
       "<div>\n",
       "<style scoped>\n",
       "    .dataframe tbody tr th:only-of-type {\n",
       "        vertical-align: middle;\n",
       "    }\n",
       "\n",
       "    .dataframe tbody tr th {\n",
       "        vertical-align: top;\n",
       "    }\n",
       "\n",
       "    .dataframe thead th {\n",
       "        text-align: right;\n",
       "    }\n",
       "</style>\n",
       "<table border=\"1\" class=\"dataframe\">\n",
       "  <thead>\n",
       "    <tr style=\"text-align: right;\">\n",
       "      <th></th>\n",
       "      <th>T</th>\n",
       "      <th>EntityType</th>\n",
       "      <th>start</th>\n",
       "      <th>stop</th>\n",
       "      <th>EntityText</th>\n",
       "      <th>_</th>\n",
       "      <th>identifier</th>\n",
       "      <th>doc_id</th>\n",
       "    </tr>\n",
       "  </thead>\n",
       "  <tbody>\n",
       "    <tr>\n",
       "      <th>0</th>\n",
       "      <td>T10</td>\n",
       "      <td>Chemical</td>\n",
       "      <td>1629</td>\n",
       "      <td>1632</td>\n",
       "      <td>MPH</td>\n",
       "      <td></td>\n",
       "      <td>MESH:C041626</td>\n",
       "      <td>18480678</td>\n",
       "    </tr>\n",
       "    <tr>\n",
       "      <th>1</th>\n",
       "      <td>T11</td>\n",
       "      <td>Chemical</td>\n",
       "      <td>1707</td>\n",
       "      <td>1712</td>\n",
       "      <td>d-MPH</td>\n",
       "      <td></td>\n",
       "      <td>Chemical:1</td>\n",
       "      <td>18480678</td>\n",
       "    </tr>\n",
       "    <tr>\n",
       "      <th>2</th>\n",
       "      <td>T12</td>\n",
       "      <td>Chemical</td>\n",
       "      <td>1764</td>\n",
       "      <td>1769</td>\n",
       "      <td>l-MPH</td>\n",
       "      <td></td>\n",
       "      <td>Chemical:2</td>\n",
       "      <td>18480678</td>\n",
       "    </tr>\n",
       "    <tr>\n",
       "      <th>3</th>\n",
       "      <td>T13</td>\n",
       "      <td>Chemical</td>\n",
       "      <td>1885</td>\n",
       "      <td>1904</td>\n",
       "      <td>d-enantiomer of MPH</td>\n",
       "      <td></td>\n",
       "      <td>Chemical:3</td>\n",
       "      <td>18480678</td>\n",
       "    </tr>\n",
       "    <tr>\n",
       "      <th>4</th>\n",
       "      <td>T14</td>\n",
       "      <td>Chemical</td>\n",
       "      <td>285</td>\n",
       "      <td>293</td>\n",
       "      <td>dopamine</td>\n",
       "      <td></td>\n",
       "      <td>MESH:D004298</td>\n",
       "      <td>18480678</td>\n",
       "    </tr>\n",
       "  </tbody>\n",
       "</table>\n",
       "</div>"
      ],
      "text/plain": [
       "     T EntityType start  stop           EntityText _    identifier    doc_id\n",
       "0  T10   Chemical  1629  1632                  MPH    MESH:C041626  18480678\n",
       "1  T11   Chemical  1707  1712                d-MPH      Chemical:1  18480678\n",
       "2  T12   Chemical  1764  1769                l-MPH      Chemical:2  18480678\n",
       "3  T13   Chemical  1885  1904  d-enantiomer of MPH      Chemical:3  18480678\n",
       "4  T14   Chemical   285   293             dopamine    MESH:D004298  18480678"
      ]
     },
     "execution_count": 10,
     "metadata": {},
     "output_type": "execute_result"
    }
   ],
   "source": [
    "entities.head()"
   ]
  },
  {
   "cell_type": "markdown",
   "metadata": {},
   "source": [
    "### Check mapped vs un-mapped entities in our dataset"
   ]
  },
  {
   "cell_type": "code",
   "execution_count": 14,
   "metadata": {},
   "outputs": [
    {
     "data": {
      "text/plain": [
       "290119"
      ]
     },
     "execution_count": 14,
     "metadata": {},
     "output_type": "execute_result"
    }
   ],
   "source": [
    "154228+ 26964+136649+13478-41200\n"
   ]
  },
  {
   "cell_type": "code",
   "execution_count": 11,
   "metadata": {},
   "outputs": [
    {
     "name": "stdout",
     "output_type": "stream",
     "text": [
      "Chemical\n",
      "Mapped       154228\n",
      "Un-mapped     26964\n",
      "dtype: int64 \n",
      "\n",
      "Gene\n",
      "Mapped       136649\n",
      "Un-mapped     13478\n",
      "dtype: int64 \n",
      "\n",
      "Species\n",
      "Mapped    50508\n",
      "dtype: int64 \n",
      "\n",
      "Disease\n",
      "Mapped       69080\n",
      "Un-mapped        5\n",
      "dtype: int64 \n",
      "\n",
      "Mutation\n",
      "Mapped    3642\n",
      "dtype: int64 \n",
      "\n"
     ]
    }
   ],
   "source": [
    "# un-mapped Chemicals (excluding tmTool unknown: identifier)\n",
    "def check_unmapped(ent_type, entities):\n",
    "    ser = pd.Series(map(lambda x: x.startswith(ent_type+\":\"),entities[entities.EntityType==ent_type]['identifier'] )).value_counts().rename({False: \"Mapped\", True: \"Un-mapped\"},)\n",
    "    return ser\n",
    "\n",
    "for ent_type in entities.EntityType.unique():\n",
    "    print ent_type\n",
    "    print check_unmapped(ent_type, entities),'\\n'\n",
    "    \n",
    "# Previous results (GS + chemdner_silver)\n",
    "# Chemical\n",
    "# Mapped       67113\n",
    "# Un-mapped    30656\n",
    "# dtype: int64 \n",
    "\n",
    "# Gene\n",
    "# Mapped       51594\n",
    "# Un-mapped    17974\n",
    "# dtype: int64 \n",
    "\n",
    "# Disease\n",
    "# Mapped       83511\n",
    "# Un-mapped        3\n",
    "# dtype: int64 \n",
    "\n",
    "# Species\n",
    "# Mapped    55273\n",
    "# dtype: int64 \n",
    "\n",
    "# Mutation\n",
    "# Mapped    1690\n",
    "# dtype: int64 "
   ]
  },
  {
   "cell_type": "markdown",
   "metadata": {},
   "source": [
    "# Create entities import files for snorkel (candidate extraction)"
   ]
  },
  {
   "cell_type": "markdown",
   "metadata": {},
   "source": [
    "### Create tag dict"
   ]
  },
  {
   "cell_type": "code",
   "execution_count": 15,
   "metadata": {},
   "outputs": [],
   "source": [
    "unary_tags = entitydf_to_tagdict(entities)\n",
    "# unary_tags"
   ]
  },
  {
   "cell_type": "code",
   "execution_count": 16,
   "metadata": {
    "scrolled": true
   },
   "outputs": [
    {
     "data": {
      "text/plain": [
       "22040"
      ]
     },
     "execution_count": 16,
     "metadata": {},
     "output_type": "execute_result"
    }
   ],
   "source": [
    "len(unary_tags)"
   ]
  },
  {
   "cell_type": "code",
   "execution_count": 17,
   "metadata": {},
   "outputs": [
    {
     "data": {
      "text/plain": [
       "{(u'Chemical|MESH:D010755', 299, 315),\n",
       " (u'Chemical|MESH:D012524', 144, 149),\n",
       " (u'Chemical|MESH:D012524', 449, 454),\n",
       " (u'Disease|unknown:D006331', 67, 88),\n",
       " (u'Disease|unknown:D006331', 1030, 1051),\n",
       " (u'Disease|unknown:D006331', 1767, 1788),\n",
       " (u'Disease|unknown:D012131', 1103, 1122),\n",
       " (u'Disease|unknown:D012640', 90, 98),\n",
       " (u'Disease|unknown:D012640', 1068, 1076),\n",
       " (u'Disease|unknown:D064420', 1372, 1377),\n",
       " (u'Disease|unknown:D064420', 1793, 1808),\n",
       " (u'Disease|unknown:D066126', 1232, 1256),\n",
       " (u'Gene|NCBIGENE:43', 914, 934),\n",
       " (u'Gene|NCBIGENE:590', 30, 51),\n",
       " (u'Gene|NCBIGENE:590', 169, 190),\n",
       " (u'Gene|NCBIGENE:590', 195, 199),\n",
       " (u'Gene|NCBIGENE:590', 385, 389),\n",
       " (u'Gene|NCBIGENE:590', 568, 572),\n",
       " (u'Gene|NCBIGENE:590', 607, 611),\n",
       " (u'Gene|NCBIGENE:590', 939, 943),\n",
       " (u'Gene|NCBIGENE:590', 1165, 1169),\n",
       " (u'Gene|NCBIGENE:590', 1336, 1340),\n",
       " (u'Gene|NCBIGENE:590', 1579, 1583),\n",
       " (u'Gene|NCBIGENE:590', 1604, 1608),\n",
       " (u'Gene|NCBIGENE:590', 1703, 1707),\n",
       " (u'Species|NCBITaxon:9823', 1550, 1554)}"
      ]
     },
     "execution_count": 17,
     "metadata": {},
     "output_type": "execute_result"
    }
   ],
   "source": [
    "unary_tags[unary_tags.keys()[1]]"
   ]
  },
  {
   "cell_type": "markdown",
   "metadata": {},
   "source": [
    "#### Write to bz2 pickle"
   ]
  },
  {
   "cell_type": "code",
   "execution_count": 18,
   "metadata": {},
   "outputs": [],
   "source": [
    "# Write to bz2 pickle \n",
    "with bz2.BZ2File('/home/antonis/data/biocreative6/entities/unary_tags.pkl.bz2', 'w') as f:\n",
    "    pickle.dump(unary_tags, f)"
   ]
  },
  {
   "cell_type": "markdown",
   "metadata": {},
   "source": [
    "### Create mesh dict"
   ]
  },
  {
   "cell_type": "code",
   "execution_count": 19,
   "metadata": {},
   "outputs": [],
   "source": [
    "mesh_dict = entitydf_to_meshdict(entities)"
   ]
  },
  {
   "cell_type": "code",
   "execution_count": 20,
   "metadata": {},
   "outputs": [],
   "source": [
    "# Write to bz2 pickle \n",
    "with bz2.BZ2File('/home/antonis/data/biocreative6/entities/mesh_dict.pkl.bz2', 'w') as f:\n",
    "    pickle.dump(tuple([mesh_dict['Chemical'], mesh_dict['Gene']]), f)"
   ]
  },
  {
   "cell_type": "code",
   "execution_count": null,
   "metadata": {},
   "outputs": [],
   "source": []
  },
  {
   "cell_type": "markdown",
   "metadata": {},
   "source": [
    "# Create relationship import files for snorkel (candidate extraction)"
   ]
  },
  {
   "cell_type": "markdown",
   "metadata": {},
   "source": [
    "### Create goldset relationships dict\n",
    "** Skipped - assumes document-level annotations **"
   ]
  },
  {
   "cell_type": "code",
   "execution_count": 21,
   "metadata": {},
   "outputs": [],
   "source": [
    "# from preprocessing import gold_relations_to_dict\n",
    "T_mapping = entities.groupby('doc_id')[['T','identifier']].apply(lambda g: dict(g.values.tolist())).to_dict()"
   ]
  },
  {
   "cell_type": "code",
   "execution_count": null,
   "metadata": {},
   "outputs": [],
   "source": []
  },
  {
   "cell_type": "markdown",
   "metadata": {},
   "source": [
    "** To tsv ** "
   ]
  },
  {
   "cell_type": "code",
   "execution_count": 22,
   "metadata": {},
   "outputs": [],
   "source": [
    "# from preprocessing import gold_relations_to_tsv"
   ]
  },
  {
   "cell_type": "code",
   "execution_count": 23,
   "metadata": {
    "scrolled": true
   },
   "outputs": [
    {
     "data": {
      "text/html": [
       "<div>\n",
       "<style scoped>\n",
       "    .dataframe tbody tr th:only-of-type {\n",
       "        vertical-align: middle;\n",
       "    }\n",
       "\n",
       "    .dataframe tbody tr th {\n",
       "        vertical-align: top;\n",
       "    }\n",
       "\n",
       "    .dataframe thead th {\n",
       "        text-align: right;\n",
       "    }\n",
       "</style>\n",
       "<table border=\"1\" class=\"dataframe\">\n",
       "  <thead>\n",
       "    <tr style=\"text-align: right;\">\n",
       "      <th></th>\n",
       "      <th>T</th>\n",
       "      <th>EntityType</th>\n",
       "      <th>start</th>\n",
       "      <th>stop</th>\n",
       "      <th>EntityText</th>\n",
       "      <th>_</th>\n",
       "      <th>identifier</th>\n",
       "      <th>doc_id</th>\n",
       "      <th>tup</th>\n",
       "    </tr>\n",
       "  </thead>\n",
       "  <tbody>\n",
       "    <tr>\n",
       "      <th>0</th>\n",
       "      <td>T10</td>\n",
       "      <td>Chemical</td>\n",
       "      <td>1629</td>\n",
       "      <td>1632</td>\n",
       "      <td>MPH</td>\n",
       "      <td></td>\n",
       "      <td>MESH:C041626</td>\n",
       "      <td>18480678</td>\n",
       "      <td>(Chemical|MESH:C041626, 1629, 1632)</td>\n",
       "    </tr>\n",
       "    <tr>\n",
       "      <th>1</th>\n",
       "      <td>T11</td>\n",
       "      <td>Chemical</td>\n",
       "      <td>1707</td>\n",
       "      <td>1712</td>\n",
       "      <td>d-MPH</td>\n",
       "      <td></td>\n",
       "      <td>Chemical:1</td>\n",
       "      <td>18480678</td>\n",
       "      <td>(Chemical|Chemical:1, 1707, 1712)</td>\n",
       "    </tr>\n",
       "    <tr>\n",
       "      <th>2</th>\n",
       "      <td>T12</td>\n",
       "      <td>Chemical</td>\n",
       "      <td>1764</td>\n",
       "      <td>1769</td>\n",
       "      <td>l-MPH</td>\n",
       "      <td></td>\n",
       "      <td>Chemical:2</td>\n",
       "      <td>18480678</td>\n",
       "      <td>(Chemical|Chemical:2, 1764, 1769)</td>\n",
       "    </tr>\n",
       "    <tr>\n",
       "      <th>3</th>\n",
       "      <td>T13</td>\n",
       "      <td>Chemical</td>\n",
       "      <td>1885</td>\n",
       "      <td>1904</td>\n",
       "      <td>d-enantiomer of MPH</td>\n",
       "      <td></td>\n",
       "      <td>Chemical:3</td>\n",
       "      <td>18480678</td>\n",
       "      <td>(Chemical|Chemical:3, 1885, 1904)</td>\n",
       "    </tr>\n",
       "    <tr>\n",
       "      <th>4</th>\n",
       "      <td>T14</td>\n",
       "      <td>Chemical</td>\n",
       "      <td>285</td>\n",
       "      <td>293</td>\n",
       "      <td>dopamine</td>\n",
       "      <td></td>\n",
       "      <td>MESH:D004298</td>\n",
       "      <td>18480678</td>\n",
       "      <td>(Chemical|MESH:D004298, 285, 293)</td>\n",
       "    </tr>\n",
       "  </tbody>\n",
       "</table>\n",
       "</div>"
      ],
      "text/plain": [
       "     T EntityType start  stop           EntityText _    identifier    doc_id  \\\n",
       "0  T10   Chemical  1629  1632                  MPH    MESH:C041626  18480678   \n",
       "1  T11   Chemical  1707  1712                d-MPH      Chemical:1  18480678   \n",
       "2  T12   Chemical  1764  1769                l-MPH      Chemical:2  18480678   \n",
       "3  T13   Chemical  1885  1904  d-enantiomer of MPH      Chemical:3  18480678   \n",
       "4  T14   Chemical   285   293             dopamine    MESH:D004298  18480678   \n",
       "\n",
       "                                   tup  \n",
       "0  (Chemical|MESH:C041626, 1629, 1632)  \n",
       "1    (Chemical|Chemical:1, 1707, 1712)  \n",
       "2    (Chemical|Chemical:2, 1764, 1769)  \n",
       "3    (Chemical|Chemical:3, 1885, 1904)  \n",
       "4    (Chemical|MESH:D004298, 285, 293)  "
      ]
     },
     "execution_count": 23,
     "metadata": {},
     "output_type": "execute_result"
    }
   ],
   "source": [
    "entities.head()"
   ]
  },
  {
   "cell_type": "code",
   "execution_count": 24,
   "metadata": {},
   "outputs": [
    {
     "data": {
      "text/html": [
       "<div>\n",
       "<style scoped>\n",
       "    .dataframe tbody tr th:only-of-type {\n",
       "        vertical-align: middle;\n",
       "    }\n",
       "\n",
       "    .dataframe tbody tr th {\n",
       "        vertical-align: top;\n",
       "    }\n",
       "\n",
       "    .dataframe thead th {\n",
       "        text-align: right;\n",
       "    }\n",
       "</style>\n",
       "<table border=\"1\" class=\"dataframe\">\n",
       "  <thead>\n",
       "    <tr style=\"text-align: right;\">\n",
       "      <th></th>\n",
       "      <th>T</th>\n",
       "      <th>EntityType</th>\n",
       "      <th>start</th>\n",
       "      <th>stop</th>\n",
       "      <th>EntityText</th>\n",
       "      <th>_</th>\n",
       "      <th>identifier</th>\n",
       "      <th>doc_id</th>\n",
       "      <th>tup</th>\n",
       "    </tr>\n",
       "  </thead>\n",
       "  <tbody>\n",
       "    <tr>\n",
       "      <th>454549</th>\n",
       "      <td>T42</td>\n",
       "      <td>Chemical</td>\n",
       "      <td>1823</td>\n",
       "      <td>1827</td>\n",
       "      <td>PGE2</td>\n",
       "      <td>N40\\tReference T42 MESH:D015232\\tPGE2</td>\n",
       "      <td>MESH:D015232</td>\n",
       "      <td>9895047</td>\n",
       "      <td>(Chemical|MESH:D015232, 1823, 1827)</td>\n",
       "    </tr>\n",
       "    <tr>\n",
       "      <th>454550</th>\n",
       "      <td>T43</td>\n",
       "      <td>Chemical</td>\n",
       "      <td>1906</td>\n",
       "      <td>1914</td>\n",
       "      <td>Nicotine</td>\n",
       "      <td>N41\\tReference T43 MESH:D009538\\tNicotine</td>\n",
       "      <td>MESH:D009538</td>\n",
       "      <td>9895047</td>\n",
       "      <td>(Chemical|MESH:D009538, 1906, 1914)</td>\n",
       "    </tr>\n",
       "    <tr>\n",
       "      <th>454551</th>\n",
       "      <td>T44</td>\n",
       "      <td>Disease</td>\n",
       "      <td>1955</td>\n",
       "      <td>1959</td>\n",
       "      <td>TNBS</td>\n",
       "      <td>N42\\tReference T44 unknown:D000592\\tTNBS</td>\n",
       "      <td>CHEBI:53063</td>\n",
       "      <td>9895047</td>\n",
       "      <td>(Disease|CHEBI:53063, 1955, 1959)</td>\n",
       "    </tr>\n",
       "    <tr>\n",
       "      <th>454552</th>\n",
       "      <td>T45</td>\n",
       "      <td>Disease</td>\n",
       "      <td>1968</td>\n",
       "      <td>1975</td>\n",
       "      <td>colitis</td>\n",
       "      <td>N43\\tReference T45 unknown:D003092\\tcolitis</td>\n",
       "      <td>unknown:D003092</td>\n",
       "      <td>9895047</td>\n",
       "      <td>(Disease|unknown:D003092, 1968, 1975)</td>\n",
       "    </tr>\n",
       "    <tr>\n",
       "      <th>454553</th>\n",
       "      <td>T46</td>\n",
       "      <td>Chemical</td>\n",
       "      <td>2030</td>\n",
       "      <td>2034</td>\n",
       "      <td>PGE2</td>\n",
       "      <td>N44\\tReference T46 MESH:D015232\\tPGE2</td>\n",
       "      <td>MESH:D015232</td>\n",
       "      <td>9895047</td>\n",
       "      <td>(Chemical|MESH:D015232, 2030, 2034)</td>\n",
       "    </tr>\n",
       "  </tbody>\n",
       "</table>\n",
       "</div>"
      ],
      "text/plain": [
       "          T EntityType start  stop EntityText  \\\n",
       "454549  T42   Chemical  1823  1827       PGE2   \n",
       "454550  T43   Chemical  1906  1914   Nicotine   \n",
       "454551  T44    Disease  1955  1959       TNBS   \n",
       "454552  T45    Disease  1968  1975    colitis   \n",
       "454553  T46   Chemical  2030  2034       PGE2   \n",
       "\n",
       "                                                  _       identifier   doc_id  \\\n",
       "454549        N40\\tReference T42 MESH:D015232\\tPGE2     MESH:D015232  9895047   \n",
       "454550    N41\\tReference T43 MESH:D009538\\tNicotine     MESH:D009538  9895047   \n",
       "454551     N42\\tReference T44 unknown:D000592\\tTNBS      CHEBI:53063  9895047   \n",
       "454552  N43\\tReference T45 unknown:D003092\\tcolitis  unknown:D003092  9895047   \n",
       "454553        N44\\tReference T46 MESH:D015232\\tPGE2     MESH:D015232  9895047   \n",
       "\n",
       "                                          tup  \n",
       "454549    (Chemical|MESH:D015232, 1823, 1827)  \n",
       "454550    (Chemical|MESH:D009538, 1906, 1914)  \n",
       "454551      (Disease|CHEBI:53063, 1955, 1959)  \n",
       "454552  (Disease|unknown:D003092, 1968, 1975)  \n",
       "454553    (Chemical|MESH:D015232, 2030, 2034)  "
      ]
     },
     "execution_count": 24,
     "metadata": {},
     "output_type": "execute_result"
    }
   ],
   "source": [
    "entities.tail()"
   ]
  },
  {
   "cell_type": "code",
   "execution_count": 25,
   "metadata": {},
   "outputs": [],
   "source": [
    "from collections import defaultdict"
   ]
  },
  {
   "cell_type": "code",
   "execution_count": 26,
   "metadata": {},
   "outputs": [],
   "source": [
    "# prepare for extracting to tsv\n",
    "\n",
    "entities['startstop'] = map(lambda start,stop: [int(start), int(stop)], entities.start,entities.stop)\n",
    "entities = entities[map(lambda x: x in ['Chemical', 'Gene'],entities.EntityType)] #keep only Chemicals & Genes (combinations get too big)\n",
    "# dict of offsets per T\n",
    "T_offsets = entities.groupby('doc_id')[['T','startstop']].apply(lambda g: dict(g.values.tolist())).to_dict()\n",
    "# dict of T types (to avoid pointless combinations)\n",
    "T_types = defaultdict(lambda: defaultdict(list))\n",
    "for row in entities.iterrows():\n",
    "    T_types[row[1].doc_id][row[1]['EntityType']].append(row[1]['T'])"
   ]
  },
  {
   "cell_type": "code",
   "execution_count": 7,
   "metadata": {},
   "outputs": [],
   "source": [
    "from preprocessing import gold_relations_to_tsv"
   ]
  },
  {
   "cell_type": "code",
   "execution_count": null,
   "metadata": {},
   "outputs": [],
   "source": []
  },
  {
   "cell_type": "code",
   "execution_count": 28,
   "metadata": {},
   "outputs": [
    {
     "name": "stdout",
     "output_type": "stream",
     "text": [
      " 1    6992\n",
      "-1    3039\n",
      "Name: label, dtype: int64\n"
     ]
    }
   ],
   "source": [
    "# Analytics relationships \n",
    "\n",
    "input_path = glob.glob(\"/home/antonis/data/biocreative6/tsv/*/*gold_standard.tsv\")\n",
    "#, output_path, T_offsets, T_types, \n",
    "true_rels=['CPR:3', 'CPR:4']\n",
    "# correct_last_offset = True\n",
    "\n",
    "relationships = pd.DataFrame()\n",
    "if isinstance(input_path,str):\n",
    "    input_path = [input_path]\n",
    "for path in input_path:\n",
    "    relationships = relationships.append(pd.read_table(path, names = ['doc_id', 'CPR', 'arg1', 'arg2']) , ignore_index=True)\n",
    "\n",
    "# convert doc_id to string\n",
    "relationships['doc_id'] = map(lambda x: str(x) , relationships['doc_id'])\n",
    "relationships['label'] = map(lambda x: 1 if x in true_rels else -1, relationships.CPR)\n",
    "print relationships.label.value_counts()\n",
    "\n",
    "# Total (+) relationships in gold set:\n",
    "# Train: 3022\n",
    "# Dev: 1644\n",
    "# Test 2326\n",
    "# Total: 6992\n"
   ]
  },
  {
   "cell_type": "code",
   "execution_count": null,
   "metadata": {},
   "outputs": [],
   "source": []
  },
  {
   "cell_type": "code",
   "execution_count": 29,
   "metadata": {
    "scrolled": true
   },
   "outputs": [],
   "source": [
    "# neg_rels1 = pd.DataFrame(map(lambda (T1,T2): (doc_id,-1,T1,T2) , product(T_types[doc_id]['Chemical'],T_types[doc_id]['Gene'])) , columns = [u'doc_id', u'CPR', u'arg1', u'arg2'])\n",
    "\n",
    "# neg_rels1['arg1'] = map( lambda arg: \"Arg1:\"+arg , neg_rels1['arg1'])\n",
    "# neg_rels1['arg2'] = map( lambda arg: \"Arg2:\"+arg , neg_rels1['arg2'])\n",
    "\n",
    "# neg_rels"
   ]
  },
  {
   "cell_type": "code",
   "execution_count": null,
   "metadata": {},
   "outputs": [],
   "source": []
  },
  {
   "cell_type": "code",
   "execution_count": 30,
   "metadata": {},
   "outputs": [],
   "source": [
    "# Extract rels and save to disk"
   ]
  },
  {
   "cell_type": "code",
   "execution_count": 31,
   "metadata": {
    "scrolled": true
   },
   "outputs": [
    {
     "name": "stdout",
     "output_type": "stream",
     "text": [
      "Converting labels from:\n",
      "/home/antonis/data/biocreative6/tsv/development/chemprot_development_gold_standard.tsv,\n",
      "/home/antonis/data/biocreative6/tsv/test_gs/chemprot_test_gold_standard.tsv,\n",
      "/home/antonis/data/biocreative6/tsv/training/chemprot_training_gold_standard.tsv\n",
      "Labels statistics:\n",
      "-1    314556\n",
      " 1      6987\n",
      "Name: label, dtype: int64\n"
     ]
    }
   ],
   "source": [
    "path = glob.glob(\"/home/antonis/data/biocreative6/tsv/*/*gold_standard.tsv\")\n",
    "print 'Converting labels from:\\n'+ \",\\n\".join(path)\n",
    "\n",
    "print 'Labels statistics:'\n",
    "gold_relations_to_tsv(path,'/home/antonis/data/biocreative6/entities/gold_rels_complete.tsv',T_offsets, T_types)"
   ]
  },
  {
   "cell_type": "code",
   "execution_count": null,
   "metadata": {},
   "outputs": [],
   "source": []
  },
  {
   "cell_type": "code",
   "execution_count": null,
   "metadata": {},
   "outputs": [],
   "source": []
  },
  {
   "cell_type": "code",
   "execution_count": null,
   "metadata": {},
   "outputs": [],
   "source": []
  }
 ],
 "metadata": {
  "kernelspec": {
   "display_name": "Python [conda env:python27]",
   "language": "python",
   "name": "conda-env-python27-py"
  },
  "language_info": {
   "codemirror_mode": {
    "name": "ipython",
    "version": 2
   },
   "file_extension": ".py",
   "mimetype": "text/x-python",
   "name": "python",
   "nbconvert_exporter": "python",
   "pygments_lexer": "ipython2",
   "version": "2.7.14"
  }
 },
 "nbformat": 4,
 "nbformat_minor": 2
}
