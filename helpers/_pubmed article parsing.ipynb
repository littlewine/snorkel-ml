{
 "cells": [
  {
   "cell_type": "markdown",
   "metadata": {},
   "source": [
    "** Moved to pubmed enrich dataset **"
   ]
  },
  {
   "cell_type": "code",
   "execution_count": 1,
   "metadata": {},
   "outputs": [],
   "source": [
    "import sys , os \n",
    "import urllib, pickle"
   ]
  },
  {
   "cell_type": "code",
   "execution_count": 2,
   "metadata": {},
   "outputs": [],
   "source": [
    "# # get a sample of my ids\n",
    "# pubmed_ids = {\n",
    "#     'development': ['10082498','10362188'],\n",
    "#     'test_gs': ['20135071', '23597506', '10516958'],\n",
    "#     'training': ['15357957', '17049513', '12183670']\n",
    "# }\n",
    "\n",
    "# LOAD from pickle\n",
    "with open('/home/antonis/data/biocreative6/pubmed_ids_citations.pickle', 'rb') as f:\n",
    "    pubmed_ids = pickle.load(f)"
   ]
  },
  {
   "cell_type": "code",
   "execution_count": 3,
   "metadata": {},
   "outputs": [
    {
     "data": {
      "text/plain": [
       "['development',\n",
       " 'incoming_citations',\n",
       " 'training',\n",
       " 'test_gs',\n",
       " 'outgoing_citations',\n",
       " 'chemdner_silver']"
      ]
     },
     "execution_count": 3,
     "metadata": {},
     "output_type": "execute_result"
    }
   ],
   "source": [
    "pubmed_ids.keys()"
   ]
  },
  {
   "cell_type": "code",
   "execution_count": 4,
   "metadata": {},
   "outputs": [],
   "source": [
    "split_type = 'outgoing_citations'\n",
    "bioconcept = 'Bioconcept' # includes all formats (genes, chemicals, diseases...)\n",
    "api_output_loc = 'temp/NCBI_downloaded.txt'"
   ]
  },
  {
   "cell_type": "code",
   "execution_count": 5,
   "metadata": {},
   "outputs": [
    {
     "name": "stdout",
     "output_type": "stream",
     "text": [
      "Will parse 22251 docs from outgoing_citations set\n"
     ]
    }
   ],
   "source": [
    "print 'Will parse %i docs from %s set'%(len(pubmed_ids[split_type]),split_type)\n",
    "all_pmids = ','.join(pubmed_ids[split_type])\n",
    "\n",
    "# pmids = '10082498,10362188'\n",
    "# pmids = '10082498'\n",
    "\n",
    "format = 'PubTator'\n"
   ]
  },
  {
   "cell_type": "code",
   "execution_count": 6,
   "metadata": {},
   "outputs": [],
   "source": [
    "# set converter options\n",
    "out_format = 'standoff'\n",
    "data_path = '/home/antonis/data/biocreative6/NCBI_parsed/'\n",
    "out_dir = os.path.join(data_path, split_type)"
   ]
  },
  {
   "cell_type": "code",
   "execution_count": 8,
   "metadata": {},
   "outputs": [
    {
     "name": "stdout",
     "output_type": "stream",
     "text": [
      "/home/antonis/data/biocreative6/NCBI_parsed/outgoing_citations\n"
     ]
    }
   ],
   "source": [
    "print out_dir"
   ]
  },
  {
   "cell_type": "code",
   "execution_count": 9,
   "metadata": {},
   "outputs": [],
   "source": [
    "# import pubtator conversion script\n",
    "sys.path.append('/home/antonis/helpers/pubtator/')\n",
    "import convertpubtator\n",
    "\n",
    "class arg_options:\n",
    "    '''\n",
    "    Class to overwrite pubtators tool main argument parser.\n",
    "    '''\n",
    "    def __init__(self, files, out_dir = out_dir , out_format='standoff', ids = None, ):\n",
    "        self.ids = ids\n",
    "        self.output = out_dir\n",
    "        self.random = None\n",
    "        self.segment = False\n",
    "        self.files = files\n",
    "        self.format = out_format\n",
    "        self.no_text = False\n",
    "        self.subdirs = False\n",
    "\n",
    "# set conversion options\n",
    "options = arg_options(files = api_output_loc, ids = None, out_format= 'standoff')"
   ]
  },
  {
   "cell_type": "code",
   "execution_count": 10,
   "metadata": {
    "scrolled": true
   },
   "outputs": [
    {
     "name": "stdout",
     "output_type": "stream",
     "text": [
      "Parsing docs 1 to 200  . . . .\n",
      "Converting from PubTator to BRAT\n",
      "Parsing docs 200 to 399  . . . .\n"
     ]
    },
    {
     "name": "stderr",
     "output_type": "stream",
     "text": [
      "Processed 100 documents ...\n",
      "Done, processed 199 documents.\n"
     ]
    },
    {
     "name": "stdout",
     "output_type": "stream",
     "text": [
      "Converting from PubTator to BRAT\n"
     ]
    },
    {
     "name": "stderr",
     "output_type": "stream",
     "text": [
      "Processed 100 documents ...\n",
      "Done, processed 199 documents.\n"
     ]
    },
    {
     "name": "stdout",
     "output_type": "stream",
     "text": [
      "Parsing docs 399 to 598  . . . .\n",
      "Converting from PubTator to BRAT\n"
     ]
    },
    {
     "name": "stderr",
     "output_type": "stream",
     "text": [
      "Processed 100 documents ...\n",
      "Done, processed 199 documents.\n"
     ]
    },
    {
     "name": "stdout",
     "output_type": "stream",
     "text": [
      "Parsing docs 598 to 797  . . . .\n",
      "Converting from PubTator to BRAT\n"
     ]
    },
    {
     "name": "stderr",
     "output_type": "stream",
     "text": [
      "Processed 100 documents ...\n",
      "Done, processed 199 documents.\n"
     ]
    },
    {
     "name": "stdout",
     "output_type": "stream",
     "text": [
      "Parsing docs 797 to 996  . . . .\n",
      "Converting from PubTator to BRAT\n",
      "Parsing docs 996 to 1195  . . . .\n"
     ]
    },
    {
     "name": "stderr",
     "output_type": "stream",
     "text": [
      "Processed 100 documents ...\n",
      "Done, processed 199 documents.\n"
     ]
    },
    {
     "name": "stdout",
     "output_type": "stream",
     "text": [
      "Converting from PubTator to BRAT\n"
     ]
    },
    {
     "name": "stderr",
     "output_type": "stream",
     "text": [
      "Processed 100 documents ...\n",
      "Done, processed 199 documents.\n"
     ]
    },
    {
     "name": "stdout",
     "output_type": "stream",
     "text": [
      "Parsing docs 1195 to 1394  . . . .\n",
      "Converting from PubTator to BRAT\n",
      "Parsing docs 1394 to 1593  . . . .\n"
     ]
    },
    {
     "name": "stderr",
     "output_type": "stream",
     "text": [
      "Processed 100 documents ...\n",
      "Done, processed 199 documents.\n"
     ]
    },
    {
     "name": "stdout",
     "output_type": "stream",
     "text": [
      "Converting from PubTator to BRAT\n",
      "Parsing docs 1593 to 1792  . . . .\n"
     ]
    },
    {
     "name": "stderr",
     "output_type": "stream",
     "text": [
      "Processed 100 documents ...\n",
      "Done, processed 199 documents.\n"
     ]
    },
    {
     "name": "stdout",
     "output_type": "stream",
     "text": [
      "Converting from PubTator to BRAT\n",
      "Parsing docs 1792 to 1991  . . . .\n"
     ]
    },
    {
     "name": "stderr",
     "output_type": "stream",
     "text": [
      "Processed 100 documents ...\n",
      "Done, processed 199 documents.\n"
     ]
    },
    {
     "name": "stdout",
     "output_type": "stream",
     "text": [
      "Converting from PubTator to BRAT\n"
     ]
    },
    {
     "name": "stderr",
     "output_type": "stream",
     "text": [
      "Processed 100 documents ...\n",
      "Done, processed 199 documents.\n"
     ]
    },
    {
     "name": "stdout",
     "output_type": "stream",
     "text": [
      "Parsing docs 1991 to 2190  . . . .\n",
      "Converting from PubTator to BRAT\n",
      "Parsing docs 2190 to 2389  . . . .\n"
     ]
    },
    {
     "name": "stderr",
     "output_type": "stream",
     "text": [
      "Processed 100 documents ...\n",
      "Done, processed 199 documents.\n"
     ]
    },
    {
     "name": "stdout",
     "output_type": "stream",
     "text": [
      "Converting from PubTator to BRAT\n",
      "Parsing docs 2389 to 2588  . . . .\n"
     ]
    },
    {
     "name": "stderr",
     "output_type": "stream",
     "text": [
      "Processed 100 documents ...\n",
      "Done, processed 199 documents.\n"
     ]
    },
    {
     "name": "stdout",
     "output_type": "stream",
     "text": [
      "Converting from PubTator to BRAT\n"
     ]
    },
    {
     "name": "stderr",
     "output_type": "stream",
     "text": [
      "Processed 100 documents ...\n",
      "Done, processed 199 documents.\n"
     ]
    },
    {
     "name": "stdout",
     "output_type": "stream",
     "text": [
      "Parsing docs 2588 to 2787  . . . .\n",
      "Converting from PubTator to BRAT\n"
     ]
    },
    {
     "name": "stderr",
     "output_type": "stream",
     "text": [
      "Processed 100 documents ...\n",
      "Done, processed 199 documents.\n"
     ]
    },
    {
     "name": "stdout",
     "output_type": "stream",
     "text": [
      "Parsing docs 2787 to 2986  . . . .\n",
      "Converting from PubTator to BRAT\n",
      "Parsing docs 2986 to 3185  . . . .\n"
     ]
    },
    {
     "name": "stderr",
     "output_type": "stream",
     "text": [
      "Processed 100 documents ...\n",
      "Done, processed 199 documents.\n"
     ]
    },
    {
     "name": "stdout",
     "output_type": "stream",
     "text": [
      "Converting from PubTator to BRAT\n",
      "Parsing docs 3185 to 3384  . . . .\n"
     ]
    },
    {
     "name": "stderr",
     "output_type": "stream",
     "text": [
      "Processed 100 documents ...\n",
      "Done, processed 199 documents.\n"
     ]
    },
    {
     "name": "stdout",
     "output_type": "stream",
     "text": [
      "Converting from PubTator to BRAT\n",
      "Parsing docs 3384 to 3583  . . . .\n"
     ]
    },
    {
     "name": "stderr",
     "output_type": "stream",
     "text": [
      "Processed 100 documents ...\n",
      "Done, processed 199 documents.\n"
     ]
    },
    {
     "name": "stdout",
     "output_type": "stream",
     "text": [
      "Converting from PubTator to BRAT\n"
     ]
    },
    {
     "name": "stderr",
     "output_type": "stream",
     "text": [
      "Processed 100 documents ...\n",
      "Done, processed 199 documents.\n"
     ]
    },
    {
     "name": "stdout",
     "output_type": "stream",
     "text": [
      "Parsing docs 3583 to 3782  . . . .\n",
      "Converting from PubTator to BRAT\n",
      "Parsing docs 3782 to 3981  . . . .\n"
     ]
    },
    {
     "name": "stderr",
     "output_type": "stream",
     "text": [
      "Processed 100 documents ...\n",
      "Done, processed 199 documents.\n"
     ]
    },
    {
     "name": "stdout",
     "output_type": "stream",
     "text": [
      "Converting from PubTator to BRAT\n"
     ]
    },
    {
     "name": "stderr",
     "output_type": "stream",
     "text": [
      "Processed 100 documents ...\n",
      "Done, processed 199 documents.\n"
     ]
    },
    {
     "name": "stdout",
     "output_type": "stream",
     "text": [
      "Parsing docs 3981 to 4180  . . . .\n",
      "Converting from PubTator to BRAT\n",
      "Parsing docs 4180 to 4379  . . . .\n"
     ]
    },
    {
     "name": "stderr",
     "output_type": "stream",
     "text": [
      "Processed 100 documents ...\n",
      "Done, processed 199 documents.\n"
     ]
    },
    {
     "name": "stdout",
     "output_type": "stream",
     "text": [
      "Converting from PubTator to BRAT\n"
     ]
    },
    {
     "name": "stderr",
     "output_type": "stream",
     "text": [
      "Processed 100 documents ...\n",
      "Done, processed 199 documents.\n"
     ]
    },
    {
     "name": "stdout",
     "output_type": "stream",
     "text": [
      "Parsing docs 4379 to 4578  . . . .\n",
      "Converting from PubTator to BRAT\n",
      "Parsing docs 4578 to 4777  . . . .\n"
     ]
    },
    {
     "name": "stderr",
     "output_type": "stream",
     "text": [
      "Processed 100 documents ...\n",
      "Done, processed 199 documents.\n"
     ]
    },
    {
     "name": "stdout",
     "output_type": "stream",
     "text": [
      "Converting from PubTator to BRAT\n",
      "Parsing docs 4777 to 4976  . . . .\n"
     ]
    },
    {
     "name": "stderr",
     "output_type": "stream",
     "text": [
      "Processed 100 documents ...\n",
      "Done, processed 199 documents.\n"
     ]
    },
    {
     "name": "stdout",
     "output_type": "stream",
     "text": [
      "Converting from PubTator to BRAT\n"
     ]
    },
    {
     "name": "stderr",
     "output_type": "stream",
     "text": [
      "Processed 100 documents ...\n",
      "Done, processed 199 documents.\n"
     ]
    },
    {
     "name": "stdout",
     "output_type": "stream",
     "text": [
      "Parsing docs 4976 to 5175  . . . .\n",
      "Converting from PubTator to BRAT\n",
      "Parsing docs 5175 to 5374  . . . .\n"
     ]
    },
    {
     "name": "stderr",
     "output_type": "stream",
     "text": [
      "Processed 100 documents ...\n",
      "Done, processed 199 documents.\n"
     ]
    },
    {
     "name": "stdout",
     "output_type": "stream",
     "text": [
      "Converting from PubTator to BRAT\n",
      "Parsing docs 5374 to 5573  . . . .\n"
     ]
    },
    {
     "name": "stderr",
     "output_type": "stream",
     "text": [
      "Processed 100 documents ...\n",
      "Done, processed 199 documents.\n"
     ]
    },
    {
     "name": "stdout",
     "output_type": "stream",
     "text": [
      "Converting from PubTator to BRAT\n",
      "Parsing docs 5573 to 5772  . . . .\n"
     ]
    },
    {
     "name": "stderr",
     "output_type": "stream",
     "text": [
      "Processed 100 documents ...\n",
      "Done, processed 199 documents.\n"
     ]
    },
    {
     "name": "stdout",
     "output_type": "stream",
     "text": [
      "Converting from PubTator to BRAT\n"
     ]
    },
    {
     "name": "stderr",
     "output_type": "stream",
     "text": [
      "Processed 100 documents ...\n",
      "Done, processed 199 documents.\n"
     ]
    },
    {
     "name": "stdout",
     "output_type": "stream",
     "text": [
      "Parsing docs 5772 to 5971  . . . .\n",
      "Converting from PubTator to BRAT\n"
     ]
    },
    {
     "name": "stderr",
     "output_type": "stream",
     "text": [
      "Processed 100 documents ...\n",
      "Done, processed 199 documents.\n"
     ]
    },
    {
     "name": "stdout",
     "output_type": "stream",
     "text": [
      "Parsing docs 5971 to 6170  . . . .\n",
      "Converting from PubTator to BRAT\n"
     ]
    },
    {
     "name": "stderr",
     "output_type": "stream",
     "text": [
      "Processed 100 documents ...\n",
      "Done, processed 199 documents.\n"
     ]
    },
    {
     "name": "stdout",
     "output_type": "stream",
     "text": [
      "Parsing docs 6170 to 6369  . . . .\n",
      "Converting from PubTator to BRAT\n",
      "Parsing docs 6369 to 6568  . . . .\n"
     ]
    },
    {
     "name": "stderr",
     "output_type": "stream",
     "text": [
      "Processed 100 documents ...\n",
      "Done, processed 199 documents.\n"
     ]
    },
    {
     "name": "stdout",
     "output_type": "stream",
     "text": [
      "Converting from PubTator to BRAT\n"
     ]
    },
    {
     "name": "stderr",
     "output_type": "stream",
     "text": [
      "Processed 100 documents ...\n",
      "Done, processed 199 documents.\n"
     ]
    },
    {
     "name": "stdout",
     "output_type": "stream",
     "text": [
      "Parsing docs 6568 to 6767  . . . .\n",
      "Converting from PubTator to BRAT\n",
      "Parsing docs 6767 to 6966  . . . .\n"
     ]
    },
    {
     "name": "stderr",
     "output_type": "stream",
     "text": [
      "Processed 100 documents ...\n",
      "Done, processed 199 documents.\n"
     ]
    },
    {
     "name": "stdout",
     "output_type": "stream",
     "text": [
      "Converting from PubTator to BRAT\n"
     ]
    },
    {
     "name": "stderr",
     "output_type": "stream",
     "text": [
      "Processed 100 documents ...\n",
      "Done, processed 199 documents.\n"
     ]
    },
    {
     "name": "stdout",
     "output_type": "stream",
     "text": [
      "Parsing docs 6966 to 7165  . . . .\n",
      "Converting from PubTator to BRAT\n",
      "Parsing docs 7165 to 7364  . . . .\n"
     ]
    },
    {
     "name": "stderr",
     "output_type": "stream",
     "text": [
      "Processed 100 documents ...\n",
      "Done, processed 199 documents.\n"
     ]
    },
    {
     "name": "stdout",
     "output_type": "stream",
     "text": [
      "Converting from PubTator to BRAT\n",
      "Parsing docs 7364 to 7563  . . . .\n"
     ]
    },
    {
     "name": "stderr",
     "output_type": "stream",
     "text": [
      "Processed 100 documents ...\n",
      "Done, processed 199 documents.\n"
     ]
    },
    {
     "name": "stdout",
     "output_type": "stream",
     "text": [
      "Converting from PubTator to BRAT\n",
      "Parsing docs 7563 to 7762  . . . .\n"
     ]
    },
    {
     "name": "stderr",
     "output_type": "stream",
     "text": [
      "Processed 100 documents ...\n",
      "Done, processed 199 documents.\n"
     ]
    },
    {
     "name": "stdout",
     "output_type": "stream",
     "text": [
      "Converting from PubTator to BRAT\n"
     ]
    },
    {
     "name": "stderr",
     "output_type": "stream",
     "text": [
      "Processed 100 documents ...\n",
      "Done, processed 199 documents.\n"
     ]
    },
    {
     "name": "stdout",
     "output_type": "stream",
     "text": [
      "Parsing docs 7762 to 7961  . . . .\n",
      "Converting from PubTator to BRAT\n",
      "Parsing docs 7961 to 8160  . . . .\n"
     ]
    },
    {
     "name": "stderr",
     "output_type": "stream",
     "text": [
      "Processed 100 documents ...\n",
      "Done, processed 199 documents.\n"
     ]
    },
    {
     "name": "stdout",
     "output_type": "stream",
     "text": [
      "Converting from PubTator to BRAT\n",
      "Parsing docs 8160 to 8359  . . . .\n"
     ]
    },
    {
     "name": "stderr",
     "output_type": "stream",
     "text": [
      "Processed 100 documents ...\n",
      "Done, processed 199 documents.\n"
     ]
    },
    {
     "name": "stdout",
     "output_type": "stream",
     "text": [
      "Converting from PubTator to BRAT\n"
     ]
    },
    {
     "name": "stderr",
     "output_type": "stream",
     "text": [
      "Processed 100 documents ...\n",
      "Done, processed 199 documents.\n"
     ]
    },
    {
     "name": "stdout",
     "output_type": "stream",
     "text": [
      "Parsing docs 8359 to 8558  . . . .\n",
      "Converting from PubTator to BRAT\n"
     ]
    },
    {
     "name": "stderr",
     "output_type": "stream",
     "text": [
      "Processed 100 documents ...\n",
      "Done, processed 199 documents.\n"
     ]
    },
    {
     "name": "stdout",
     "output_type": "stream",
     "text": [
      "Parsing docs 8558 to 8757  . . . .\n",
      "Converting from PubTator to BRAT\n"
     ]
    },
    {
     "name": "stderr",
     "output_type": "stream",
     "text": [
      "Processed 100 documents ...\n",
      "Done, processed 199 documents.\n"
     ]
    },
    {
     "name": "stdout",
     "output_type": "stream",
     "text": [
      "Parsing docs 8757 to 8956  . . . .\n",
      "Converting from PubTator to BRAT\n",
      "Parsing docs 8956 to 9155  . . . .\n"
     ]
    },
    {
     "name": "stderr",
     "output_type": "stream",
     "text": [
      "Processed 100 documents ...\n",
      "Done, processed 199 documents.\n"
     ]
    },
    {
     "name": "stdout",
     "output_type": "stream",
     "text": [
      "Converting from PubTator to BRAT\n"
     ]
    },
    {
     "name": "stderr",
     "output_type": "stream",
     "text": [
      "Processed 100 documents ...\n",
      "Done, processed 199 documents.\n"
     ]
    },
    {
     "name": "stdout",
     "output_type": "stream",
     "text": [
      "Parsing docs 9155 to 9354  . . . .\n",
      "Converting from PubTator to BRAT\n"
     ]
    },
    {
     "name": "stderr",
     "output_type": "stream",
     "text": [
      "Processed 100 documents ...\n",
      "Done, processed 199 documents.\n"
     ]
    },
    {
     "name": "stdout",
     "output_type": "stream",
     "text": [
      "Parsing docs 9354 to 9553  . . . .\n",
      "Converting from PubTator to BRAT\n",
      "Parsing docs 9553 to 9752  . . . .\n"
     ]
    },
    {
     "name": "stderr",
     "output_type": "stream",
     "text": [
      "Processed 100 documents ...\n",
      "Done, processed 199 documents.\n"
     ]
    },
    {
     "name": "stdout",
     "output_type": "stream",
     "text": [
      "Converting from PubTator to BRAT\n",
      "Parsing docs 9752 to 9951  . . . .\n"
     ]
    },
    {
     "name": "stderr",
     "output_type": "stream",
     "text": [
      "Processed 100 documents ...\n",
      "Done, processed 199 documents.\n"
     ]
    },
    {
     "name": "stdout",
     "output_type": "stream",
     "text": [
      "Converting from PubTator to BRAT\n",
      "Parsing docs 9951 to 10150  . . . .\n"
     ]
    },
    {
     "name": "stderr",
     "output_type": "stream",
     "text": [
      "Processed 100 documents ...\n",
      "Done, processed 199 documents.\n"
     ]
    },
    {
     "name": "stdout",
     "output_type": "stream",
     "text": [
      "Converting from PubTator to BRAT\n",
      "Parsing docs 10150 to 10349  . . . .\n"
     ]
    },
    {
     "name": "stderr",
     "output_type": "stream",
     "text": [
      "Processed 100 documents ...\n",
      "Done, processed 199 documents.\n"
     ]
    },
    {
     "name": "stdout",
     "output_type": "stream",
     "text": [
      "Converting from PubTator to BRAT\n",
      "Parsing docs 10349 to 10548  . . . .\n"
     ]
    },
    {
     "name": "stderr",
     "output_type": "stream",
     "text": [
      "Processed 100 documents ...\n",
      "Done, processed 199 documents.\n"
     ]
    },
    {
     "name": "stdout",
     "output_type": "stream",
     "text": [
      "Converting from PubTator to BRAT\n"
     ]
    },
    {
     "name": "stderr",
     "output_type": "stream",
     "text": [
      "Processed 100 documents ...\n",
      "Done, processed 199 documents.\n"
     ]
    },
    {
     "name": "stdout",
     "output_type": "stream",
     "text": [
      "Parsing docs 10548 to 10747  . . . .\n",
      "Converting from PubTator to BRAT\n",
      "Parsing docs 10747 to 10946  . . . .\n"
     ]
    },
    {
     "name": "stderr",
     "output_type": "stream",
     "text": [
      "Processed 100 documents ...\n",
      "Done, processed 199 documents.\n"
     ]
    },
    {
     "name": "stdout",
     "output_type": "stream",
     "text": [
      "Converting from PubTator to BRAT\n",
      "Parsing docs 10946 to 11145  . . . .\n"
     ]
    },
    {
     "name": "stderr",
     "output_type": "stream",
     "text": [
      "Processed 100 documents ...\n",
      "Done, processed 199 documents.\n"
     ]
    },
    {
     "name": "stdout",
     "output_type": "stream",
     "text": [
      "Converting from PubTator to BRAT\n",
      "Parsing docs 11145 to 11344  . . . .\n"
     ]
    },
    {
     "name": "stderr",
     "output_type": "stream",
     "text": [
      "Processed 100 documents ...\n",
      "Done, processed 199 documents.\n",
      "WARNING:root:Error reading temp/NCBI_downloaded.txt: 1: expected text, got: <?xml version=\"1.0\" encoding=\"UTF-8\"?>\n",
      " (skipping...)\n",
      "WARNING:root:Error reading temp/NCBI_downloaded.txt: 16: expected text, got: <body>\n",
      " (skipping...)\n",
      "WARNING:root:Error reading temp/NCBI_downloaded.txt: 21: expected text, got:     The proxy server received an invalid\n",
      " (skipping...)\n",
      "WARNING:root:Error reading temp/NCBI_downloaded.txt: 25: expected text, got:     </p>\n",
      " (skipping...)\n",
      "WARNING:root:Error reading temp/NCBI_downloaded.txt: 28: expected text, got:     The proxy server could not handle the request <em><a href=\"/CBBresearch/Lu/Demo/PubTator/abstract_ann.cgi\">GET&nbsp;/CBBresearch/Lu/Demo/PubTator/abstract_ann.cgi</a></em>.<p>\n",
      " (skipping...)\n",
      "WARNING:root:Error reading temp/NCBI_downloaded.txt: 32: expected text, got: </p>\n",
      " (skipping...)\n",
      "WARNING:root:Error reading temp/NCBI_downloaded.txt: 37: expected text, got: </p>\n",
      " (skipping...)\n",
      "WARNING:root:Error reading temp/NCBI_downloaded.txt: 39: expected text, got: <h2>Error 502</h2>\n",
      " (skipping...)\n"
     ]
    },
    {
     "name": "stdout",
     "output_type": "stream",
     "text": [
      "Converting from PubTator to BRAT\n",
      "Parsing docs 11344 to 11543  . . . .\n"
     ]
    },
    {
     "name": "stderr",
     "output_type": "stream",
     "text": [
      "Done, processed 0 documents.\n",
      "WARNING:root:Error reading temp/NCBI_downloaded.txt: 1: expected text, got: <?xml version=\"1.0\" encoding=\"UTF-8\"?>\n",
      " (skipping...)\n",
      "WARNING:root:Error reading temp/NCBI_downloaded.txt: 16: expected text, got: <body>\n",
      " (skipping...)\n",
      "WARNING:root:Error reading temp/NCBI_downloaded.txt: 21: expected text, got:     The proxy server received an invalid\n",
      " (skipping...)\n",
      "WARNING:root:Error reading temp/NCBI_downloaded.txt: 25: expected text, got:     </p>\n",
      " (skipping...)\n",
      "WARNING:root:Error reading temp/NCBI_downloaded.txt: 28: expected text, got:     The proxy server could not handle the request <em><a href=\"/CBBresearch/Lu/Demo/PubTator/abstract_ann.cgi\">GET&nbsp;/CBBresearch/Lu/Demo/PubTator/abstract_ann.cgi</a></em>.<p>\n",
      " (skipping...)\n",
      "WARNING:root:Error reading temp/NCBI_downloaded.txt: 32: expected text, got: </p>\n",
      " (skipping...)\n",
      "WARNING:root:Error reading temp/NCBI_downloaded.txt: 37: expected text, got: </p>\n",
      " (skipping...)\n",
      "WARNING:root:Error reading temp/NCBI_downloaded.txt: 39: expected text, got: <h2>Error 502</h2>\n",
      " (skipping...)\n"
     ]
    },
    {
     "name": "stdout",
     "output_type": "stream",
     "text": [
      "Converting from PubTator to BRAT\n",
      "Parsing docs 11543 to 11742  . . . .\n"
     ]
    },
    {
     "name": "stderr",
     "output_type": "stream",
     "text": [
      "Done, processed 0 documents.\n",
      "WARNING:root:Error reading temp/NCBI_downloaded.txt: 1: expected text, got: <?xml version=\"1.0\" encoding=\"UTF-8\"?>\n",
      " (skipping...)\n",
      "WARNING:root:Error reading temp/NCBI_downloaded.txt: 16: expected text, got: <body>\n",
      " (skipping...)\n",
      "WARNING:root:Error reading temp/NCBI_downloaded.txt: 21: expected text, got:     The proxy server received an invalid\n",
      " (skipping...)\n",
      "WARNING:root:Error reading temp/NCBI_downloaded.txt: 25: expected text, got:     </p>\n",
      " (skipping...)\n",
      "WARNING:root:Error reading temp/NCBI_downloaded.txt: 28: expected text, got:     The proxy server could not handle the request <em><a href=\"/CBBresearch/Lu/Demo/PubTator/abstract_ann.cgi\">GET&nbsp;/CBBresearch/Lu/Demo/PubTator/abstract_ann.cgi</a></em>.<p>\n",
      " (skipping...)\n",
      "WARNING:root:Error reading temp/NCBI_downloaded.txt: 32: expected text, got: </p>\n",
      " (skipping...)\n",
      "WARNING:root:Error reading temp/NCBI_downloaded.txt: 37: expected text, got: </p>\n",
      " (skipping...)\n",
      "WARNING:root:Error reading temp/NCBI_downloaded.txt: 39: expected text, got: <h2>Error 502</h2>\n",
      " (skipping...)\n"
     ]
    },
    {
     "name": "stdout",
     "output_type": "stream",
     "text": [
      "Converting from PubTator to BRAT\n",
      "Parsing docs 11742 to 11941  . . . .\n"
     ]
    },
    {
     "name": "stderr",
     "output_type": "stream",
     "text": [
      "Done, processed 0 documents.\n",
      "WARNING:root:Error reading temp/NCBI_downloaded.txt: 1: expected text, got: <?xml version=\"1.0\" encoding=\"UTF-8\"?>\n",
      " (skipping...)\n",
      "WARNING:root:Error reading temp/NCBI_downloaded.txt: 16: expected text, got: <body>\n",
      " (skipping...)\n",
      "WARNING:root:Error reading temp/NCBI_downloaded.txt: 21: expected text, got:     The proxy server received an invalid\n",
      " (skipping...)\n",
      "WARNING:root:Error reading temp/NCBI_downloaded.txt: 25: expected text, got:     </p>\n",
      " (skipping...)\n",
      "WARNING:root:Error reading temp/NCBI_downloaded.txt: 28: expected text, got:     The proxy server could not handle the request <em><a href=\"/CBBresearch/Lu/Demo/PubTator/abstract_ann.cgi\">GET&nbsp;/CBBresearch/Lu/Demo/PubTator/abstract_ann.cgi</a></em>.<p>\n",
      " (skipping...)\n",
      "WARNING:root:Error reading temp/NCBI_downloaded.txt: 32: expected text, got: </p>\n",
      " (skipping...)\n",
      "WARNING:root:Error reading temp/NCBI_downloaded.txt: 37: expected text, got: </p>\n",
      " (skipping...)\n",
      "WARNING:root:Error reading temp/NCBI_downloaded.txt: 39: expected text, got: <h2>Error 502</h2>\n",
      " (skipping...)\n"
     ]
    },
    {
     "name": "stdout",
     "output_type": "stream",
     "text": [
      "Converting from PubTator to BRAT\n",
      "Parsing docs 11941 to 12140  . . . .\n"
     ]
    },
    {
     "name": "stderr",
     "output_type": "stream",
     "text": [
      "Done, processed 0 documents.\n",
      "WARNING:root:Error reading temp/NCBI_downloaded.txt: 1: expected text, got: <?xml version=\"1.0\" encoding=\"UTF-8\"?>\n",
      " (skipping...)\n",
      "WARNING:root:Error reading temp/NCBI_downloaded.txt: 16: expected text, got: <body>\n",
      " (skipping...)\n",
      "WARNING:root:Error reading temp/NCBI_downloaded.txt: 21: expected text, got:     The proxy server received an invalid\n",
      " (skipping...)\n",
      "WARNING:root:Error reading temp/NCBI_downloaded.txt: 25: expected text, got:     </p>\n",
      " (skipping...)\n",
      "WARNING:root:Error reading temp/NCBI_downloaded.txt: 28: expected text, got:     The proxy server could not handle the request <em><a href=\"/CBBresearch/Lu/Demo/PubTator/abstract_ann.cgi\">GET&nbsp;/CBBresearch/Lu/Demo/PubTator/abstract_ann.cgi</a></em>.<p>\n",
      " (skipping...)\n",
      "WARNING:root:Error reading temp/NCBI_downloaded.txt: 32: expected text, got: </p>\n",
      " (skipping...)\n",
      "WARNING:root:Error reading temp/NCBI_downloaded.txt: 37: expected text, got: </p>\n",
      " (skipping...)\n",
      "WARNING:root:Error reading temp/NCBI_downloaded.txt: 39: expected text, got: <h2>Error 502</h2>\n",
      " (skipping...)\n"
     ]
    },
    {
     "name": "stdout",
     "output_type": "stream",
     "text": [
      "Converting from PubTator to BRAT\n",
      "Parsing docs 12140 to 12339  . . . .\n"
     ]
    },
    {
     "name": "stderr",
     "output_type": "stream",
     "text": [
      "Done, processed 0 documents.\n",
      "WARNING:root:Error reading temp/NCBI_downloaded.txt: 1: expected text, got: <?xml version=\"1.0\" encoding=\"UTF-8\"?>\n",
      " (skipping...)\n",
      "WARNING:root:Error reading temp/NCBI_downloaded.txt: 16: expected text, got: <body>\n",
      " (skipping...)\n",
      "WARNING:root:Error reading temp/NCBI_downloaded.txt: 21: expected text, got:     The proxy server received an invalid\n",
      " (skipping...)\n",
      "WARNING:root:Error reading temp/NCBI_downloaded.txt: 25: expected text, got:     </p>\n",
      " (skipping...)\n",
      "WARNING:root:Error reading temp/NCBI_downloaded.txt: 28: expected text, got:     The proxy server could not handle the request <em><a href=\"/CBBresearch/Lu/Demo/PubTator/abstract_ann.cgi\">GET&nbsp;/CBBresearch/Lu/Demo/PubTator/abstract_ann.cgi</a></em>.<p>\n",
      " (skipping...)\n",
      "WARNING:root:Error reading temp/NCBI_downloaded.txt: 32: expected text, got: </p>\n",
      " (skipping...)\n",
      "WARNING:root:Error reading temp/NCBI_downloaded.txt: 37: expected text, got: </p>\n",
      " (skipping...)\n",
      "WARNING:root:Error reading temp/NCBI_downloaded.txt: 39: expected text, got: <h2>Error 502</h2>\n",
      " (skipping...)\n"
     ]
    },
    {
     "name": "stdout",
     "output_type": "stream",
     "text": [
      "Converting from PubTator to BRAT\n",
      "Parsing docs 12339 to 12538  . . . .\n"
     ]
    },
    {
     "name": "stderr",
     "output_type": "stream",
     "text": [
      "Done, processed 0 documents.\n",
      "WARNING:root:Error reading temp/NCBI_downloaded.txt: 1: expected text, got: <?xml version=\"1.0\" encoding=\"UTF-8\"?>\n",
      " (skipping...)\n",
      "WARNING:root:Error reading temp/NCBI_downloaded.txt: 16: expected text, got: <body>\n",
      " (skipping...)\n",
      "WARNING:root:Error reading temp/NCBI_downloaded.txt: 21: expected text, got:     The proxy server received an invalid\n",
      " (skipping...)\n",
      "WARNING:root:Error reading temp/NCBI_downloaded.txt: 25: expected text, got:     </p>\n",
      " (skipping...)\n",
      "WARNING:root:Error reading temp/NCBI_downloaded.txt: 28: expected text, got:     The proxy server could not handle the request <em><a href=\"/CBBresearch/Lu/Demo/PubTator/abstract_ann.cgi\">GET&nbsp;/CBBresearch/Lu/Demo/PubTator/abstract_ann.cgi</a></em>.<p>\n",
      " (skipping...)\n",
      "WARNING:root:Error reading temp/NCBI_downloaded.txt: 32: expected text, got: </p>\n",
      " (skipping...)\n",
      "WARNING:root:Error reading temp/NCBI_downloaded.txt: 37: expected text, got: </p>\n",
      " (skipping...)\n",
      "WARNING:root:Error reading temp/NCBI_downloaded.txt: 39: expected text, got: <h2>Error 502</h2>\n",
      " (skipping...)\n"
     ]
    },
    {
     "name": "stdout",
     "output_type": "stream",
     "text": [
      "Converting from PubTator to BRAT\n",
      "Parsing docs 12538 to 12737  . . . .\n"
     ]
    },
    {
     "name": "stderr",
     "output_type": "stream",
     "text": [
      "Done, processed 0 documents.\n",
      "WARNING:root:Error reading temp/NCBI_downloaded.txt: 1: expected text, got: <?xml version=\"1.0\" encoding=\"UTF-8\"?>\n",
      " (skipping...)\n",
      "WARNING:root:Error reading temp/NCBI_downloaded.txt: 16: expected text, got: <body>\n",
      " (skipping...)\n",
      "WARNING:root:Error reading temp/NCBI_downloaded.txt: 21: expected text, got:     The proxy server received an invalid\n",
      " (skipping...)\n",
      "WARNING:root:Error reading temp/NCBI_downloaded.txt: 25: expected text, got:     </p>\n",
      " (skipping...)\n",
      "WARNING:root:Error reading temp/NCBI_downloaded.txt: 28: expected text, got:     The proxy server could not handle the request <em><a href=\"/CBBresearch/Lu/Demo/PubTator/abstract_ann.cgi\">GET&nbsp;/CBBresearch/Lu/Demo/PubTator/abstract_ann.cgi</a></em>.<p>\n",
      " (skipping...)\n",
      "WARNING:root:Error reading temp/NCBI_downloaded.txt: 32: expected text, got: </p>\n",
      " (skipping...)\n",
      "WARNING:root:Error reading temp/NCBI_downloaded.txt: 37: expected text, got: </p>\n",
      " (skipping...)\n",
      "WARNING:root:Error reading temp/NCBI_downloaded.txt: 39: expected text, got: <h2>Error 502</h2>\n",
      " (skipping...)\n"
     ]
    },
    {
     "name": "stdout",
     "output_type": "stream",
     "text": [
      "Converting from PubTator to BRAT\n",
      "Parsing docs 12737 to 12936  . . . .\n"
     ]
    },
    {
     "name": "stderr",
     "output_type": "stream",
     "text": [
      "Done, processed 0 documents.\n",
      "WARNING:root:Error reading temp/NCBI_downloaded.txt: 1: expected text, got: <?xml version=\"1.0\" encoding=\"UTF-8\"?>\n",
      " (skipping...)\n",
      "WARNING:root:Error reading temp/NCBI_downloaded.txt: 16: expected text, got: <body>\n",
      " (skipping...)\n",
      "WARNING:root:Error reading temp/NCBI_downloaded.txt: 21: expected text, got:     The proxy server received an invalid\n",
      " (skipping...)\n",
      "WARNING:root:Error reading temp/NCBI_downloaded.txt: 25: expected text, got:     </p>\n",
      " (skipping...)\n",
      "WARNING:root:Error reading temp/NCBI_downloaded.txt: 28: expected text, got:     The proxy server could not handle the request <em><a href=\"/CBBresearch/Lu/Demo/PubTator/abstract_ann.cgi\">GET&nbsp;/CBBresearch/Lu/Demo/PubTator/abstract_ann.cgi</a></em>.<p>\n",
      " (skipping...)\n",
      "WARNING:root:Error reading temp/NCBI_downloaded.txt: 32: expected text, got: </p>\n",
      " (skipping...)\n",
      "WARNING:root:Error reading temp/NCBI_downloaded.txt: 37: expected text, got: </p>\n",
      " (skipping...)\n",
      "WARNING:root:Error reading temp/NCBI_downloaded.txt: 39: expected text, got: <h2>Error 502</h2>\n",
      " (skipping...)\n"
     ]
    },
    {
     "name": "stdout",
     "output_type": "stream",
     "text": [
      "Converting from PubTator to BRAT\n",
      "Parsing docs 12936 to 13135  . . . .\n"
     ]
    },
    {
     "name": "stderr",
     "output_type": "stream",
     "text": [
      "Done, processed 0 documents.\n",
      "WARNING:root:Error reading temp/NCBI_downloaded.txt: 1: expected text, got: <?xml version=\"1.0\" encoding=\"UTF-8\"?>\n",
      " (skipping...)\n",
      "WARNING:root:Error reading temp/NCBI_downloaded.txt: 16: expected text, got: <body>\n",
      " (skipping...)\n",
      "WARNING:root:Error reading temp/NCBI_downloaded.txt: 21: expected text, got:     The proxy server received an invalid\n",
      " (skipping...)\n",
      "WARNING:root:Error reading temp/NCBI_downloaded.txt: 25: expected text, got:     </p>\n",
      " (skipping...)\n",
      "WARNING:root:Error reading temp/NCBI_downloaded.txt: 28: expected text, got:     The proxy server could not handle the request <em><a href=\"/CBBresearch/Lu/Demo/PubTator/abstract_ann.cgi\">GET&nbsp;/CBBresearch/Lu/Demo/PubTator/abstract_ann.cgi</a></em>.<p>\n",
      " (skipping...)\n",
      "WARNING:root:Error reading temp/NCBI_downloaded.txt: 32: expected text, got: </p>\n",
      " (skipping...)\n",
      "WARNING:root:Error reading temp/NCBI_downloaded.txt: 37: expected text, got: </p>\n",
      " (skipping...)\n",
      "WARNING:root:Error reading temp/NCBI_downloaded.txt: 39: expected text, got: <h2>Error 502</h2>\n",
      " (skipping...)\n"
     ]
    },
    {
     "name": "stdout",
     "output_type": "stream",
     "text": [
      "Converting from PubTator to BRAT\n",
      "Parsing docs 13135 to 13334  . . . .\n"
     ]
    },
    {
     "name": "stderr",
     "output_type": "stream",
     "text": [
      "Done, processed 0 documents.\n"
     ]
    },
    {
     "name": "stdout",
     "output_type": "stream",
     "text": [
      "Converting from PubTator to BRAT\n"
     ]
    },
    {
     "name": "stderr",
     "output_type": "stream",
     "text": [
      "Processed 100 documents ...\n",
      "Done, processed 199 documents.\n"
     ]
    },
    {
     "name": "stdout",
     "output_type": "stream",
     "text": [
      "Parsing docs 13334 to 13533  . . . .\n",
      "Converting from PubTator to BRAT\n",
      "Parsing docs 13533 to 13732  . . . .\n"
     ]
    },
    {
     "name": "stderr",
     "output_type": "stream",
     "text": [
      "Processed 100 documents ...\n",
      "Done, processed 199 documents.\n"
     ]
    },
    {
     "name": "stdout",
     "output_type": "stream",
     "text": [
      "Converting from PubTator to BRAT\n",
      "Parsing docs 13732 to 13931  . . . .\n"
     ]
    },
    {
     "name": "stderr",
     "output_type": "stream",
     "text": [
      "Processed 100 documents ...\n",
      "Done, processed 199 documents.\n"
     ]
    },
    {
     "name": "stdout",
     "output_type": "stream",
     "text": [
      "Converting from PubTator to BRAT\n"
     ]
    },
    {
     "name": "stderr",
     "output_type": "stream",
     "text": [
      "Processed 100 documents ...\n",
      "Done, processed 199 documents.\n"
     ]
    },
    {
     "name": "stdout",
     "output_type": "stream",
     "text": [
      "Parsing docs 13931 to 14130  . . . .\n",
      "Converting from PubTator to BRAT\n",
      "Parsing docs 14130 to 14329  . . . .\n"
     ]
    },
    {
     "name": "stderr",
     "output_type": "stream",
     "text": [
      "Processed 100 documents ...\n",
      "Done, processed 199 documents.\n"
     ]
    },
    {
     "name": "stdout",
     "output_type": "stream",
     "text": [
      "Converting from PubTator to BRAT\n"
     ]
    },
    {
     "name": "stderr",
     "output_type": "stream",
     "text": [
      "Processed 100 documents ...\n",
      "Done, processed 199 documents.\n"
     ]
    },
    {
     "name": "stdout",
     "output_type": "stream",
     "text": [
      "Parsing docs 14329 to 14528  . . . .\n",
      "Converting from PubTator to BRAT\n",
      "Parsing docs 14528 to 14727  . . . .\n"
     ]
    },
    {
     "name": "stderr",
     "output_type": "stream",
     "text": [
      "Processed 100 documents ...\n",
      "Done, processed 199 documents.\n"
     ]
    },
    {
     "name": "stdout",
     "output_type": "stream",
     "text": [
      "Converting from PubTator to BRAT\n",
      "Parsing docs 14727 to 14926  . . . .\n"
     ]
    },
    {
     "name": "stderr",
     "output_type": "stream",
     "text": [
      "Processed 100 documents ...\n",
      "Done, processed 199 documents.\n"
     ]
    },
    {
     "name": "stdout",
     "output_type": "stream",
     "text": [
      "Converting from PubTator to BRAT\n"
     ]
    },
    {
     "name": "stderr",
     "output_type": "stream",
     "text": [
      "Processed 100 documents ...\n",
      "Done, processed 199 documents.\n"
     ]
    },
    {
     "name": "stdout",
     "output_type": "stream",
     "text": [
      "Parsing docs 14926 to 15125  . . . .\n",
      "Converting from PubTator to BRAT\n"
     ]
    },
    {
     "name": "stderr",
     "output_type": "stream",
     "text": [
      "Processed 100 documents ...\n",
      "Done, processed 199 documents.\n"
     ]
    },
    {
     "name": "stdout",
     "output_type": "stream",
     "text": [
      "Parsing docs 15125 to 15324  . . . .\n",
      "Converting from PubTator to BRAT\n"
     ]
    },
    {
     "name": "stderr",
     "output_type": "stream",
     "text": [
      "Processed 100 documents ...\n",
      "Done, processed 199 documents.\n"
     ]
    },
    {
     "name": "stdout",
     "output_type": "stream",
     "text": [
      "Parsing docs 15324 to 15523  . . . .\n",
      "Converting from PubTator to BRAT\n"
     ]
    },
    {
     "name": "stderr",
     "output_type": "stream",
     "text": [
      "Processed 100 documents ...\n",
      "Done, processed 199 documents.\n"
     ]
    },
    {
     "name": "stdout",
     "output_type": "stream",
     "text": [
      "Parsing docs 15523 to 15722  . . . .\n",
      "Converting from PubTator to BRAT\n",
      "Parsing docs 15722 to 15921  . . . .\n"
     ]
    },
    {
     "name": "stderr",
     "output_type": "stream",
     "text": [
      "Processed 100 documents ...\n",
      "Done, processed 199 documents.\n"
     ]
    },
    {
     "name": "stdout",
     "output_type": "stream",
     "text": [
      "Converting from PubTator to BRAT\n",
      "Parsing docs 15921 to 16120  . . . .\n"
     ]
    },
    {
     "name": "stderr",
     "output_type": "stream",
     "text": [
      "Processed 100 documents ...\n",
      "Done, processed 199 documents.\n"
     ]
    },
    {
     "name": "stdout",
     "output_type": "stream",
     "text": [
      "Converting from PubTator to BRAT\n",
      "Parsing docs 16120 to 16319  . . . .\n"
     ]
    },
    {
     "name": "stderr",
     "output_type": "stream",
     "text": [
      "Processed 100 documents ...\n",
      "Done, processed 199 documents.\n"
     ]
    },
    {
     "name": "stdout",
     "output_type": "stream",
     "text": [
      "Converting from PubTator to BRAT\n",
      "Parsing docs 16319 to 16518  . . . .\n"
     ]
    },
    {
     "name": "stderr",
     "output_type": "stream",
     "text": [
      "Processed 100 documents ...\n",
      "Done, processed 199 documents.\n"
     ]
    },
    {
     "name": "stdout",
     "output_type": "stream",
     "text": [
      "Converting from PubTator to BRAT\n",
      "Parsing docs 16518 to 16717  . . . .\n"
     ]
    },
    {
     "name": "stderr",
     "output_type": "stream",
     "text": [
      "Processed 100 documents ...\n",
      "Done, processed 199 documents.\n"
     ]
    },
    {
     "name": "stdout",
     "output_type": "stream",
     "text": [
      "Converting from PubTator to BRAT\n"
     ]
    },
    {
     "name": "stderr",
     "output_type": "stream",
     "text": [
      "Processed 100 documents ...\n",
      "Done, processed 199 documents.\n"
     ]
    },
    {
     "name": "stdout",
     "output_type": "stream",
     "text": [
      "Parsing docs 16717 to 16916  . . . .\n",
      "Converting from PubTator to BRAT\n",
      "Parsing docs 16916 to 17115  . . . .\n"
     ]
    },
    {
     "name": "stderr",
     "output_type": "stream",
     "text": [
      "Processed 100 documents ...\n",
      "Done, processed 199 documents.\n"
     ]
    },
    {
     "name": "stdout",
     "output_type": "stream",
     "text": [
      "Converting from PubTator to BRAT\n",
      "Parsing docs 17115 to 17314  . . . .\n"
     ]
    },
    {
     "name": "stderr",
     "output_type": "stream",
     "text": [
      "Processed 100 documents ...\n",
      "Done, processed 199 documents.\n"
     ]
    },
    {
     "name": "stdout",
     "output_type": "stream",
     "text": [
      "Converting from PubTator to BRAT\n",
      "Parsing docs 17314 to 17513  . . . .\n"
     ]
    },
    {
     "name": "stderr",
     "output_type": "stream",
     "text": [
      "Processed 100 documents ...\n",
      "Done, processed 199 documents.\n"
     ]
    },
    {
     "name": "stdout",
     "output_type": "stream",
     "text": [
      "Converting from PubTator to BRAT\n"
     ]
    },
    {
     "name": "stderr",
     "output_type": "stream",
     "text": [
      "Processed 100 documents ...\n",
      "Done, processed 199 documents.\n"
     ]
    },
    {
     "name": "stdout",
     "output_type": "stream",
     "text": [
      "Parsing docs 17513 to 17712  . . . .\n",
      "Converting from PubTator to BRAT\n"
     ]
    },
    {
     "name": "stderr",
     "output_type": "stream",
     "text": [
      "Processed 100 documents ...\n",
      "Done, processed 199 documents.\n"
     ]
    },
    {
     "name": "stdout",
     "output_type": "stream",
     "text": [
      "Parsing docs 17712 to 17911  . . . .\n",
      "Converting from PubTator to BRAT\n",
      "Parsing docs 17911 to 18110  . . . .\n"
     ]
    },
    {
     "name": "stderr",
     "output_type": "stream",
     "text": [
      "Processed 100 documents ...\n",
      "Done, processed 199 documents.\n"
     ]
    },
    {
     "name": "stdout",
     "output_type": "stream",
     "text": [
      "Converting from PubTator to BRAT\n",
      "Parsing docs 18110 to 18309  . . . .\n"
     ]
    },
    {
     "name": "stderr",
     "output_type": "stream",
     "text": [
      "Processed 100 documents ...\n",
      "Done, processed 199 documents.\n"
     ]
    },
    {
     "name": "stdout",
     "output_type": "stream",
     "text": [
      "Converting from PubTator to BRAT\n"
     ]
    },
    {
     "name": "stderr",
     "output_type": "stream",
     "text": [
      "Processed 100 documents ...\n",
      "Done, processed 199 documents.\n"
     ]
    },
    {
     "name": "stdout",
     "output_type": "stream",
     "text": [
      "Parsing docs 18309 to 18508  . . . .\n",
      "Converting from PubTator to BRAT\n",
      "Parsing docs 18508 to 18707  . . . .\n"
     ]
    },
    {
     "name": "stderr",
     "output_type": "stream",
     "text": [
      "Processed 100 documents ...\n",
      "Done, processed 199 documents.\n"
     ]
    },
    {
     "name": "stdout",
     "output_type": "stream",
     "text": [
      "Converting from PubTator to BRAT\n"
     ]
    },
    {
     "name": "stderr",
     "output_type": "stream",
     "text": [
      "Processed 100 documents ...\n",
      "Done, processed 199 documents.\n"
     ]
    },
    {
     "name": "stdout",
     "output_type": "stream",
     "text": [
      "Parsing docs 18707 to 18906  . . . .\n",
      "Converting from PubTator to BRAT\n",
      "Parsing docs 18906 to 19105  . . . .\n"
     ]
    },
    {
     "name": "stderr",
     "output_type": "stream",
     "text": [
      "Processed 100 documents ...\n",
      "Done, processed 199 documents.\n"
     ]
    },
    {
     "name": "stdout",
     "output_type": "stream",
     "text": [
      "Converting from PubTator to BRAT\n"
     ]
    },
    {
     "name": "stderr",
     "output_type": "stream",
     "text": [
      "Processed 100 documents ...\n",
      "Done, processed 199 documents.\n"
     ]
    },
    {
     "name": "stdout",
     "output_type": "stream",
     "text": [
      "Parsing docs 19105 to 19304  . . . .\n",
      "Converting from PubTator to BRAT\n"
     ]
    },
    {
     "name": "stderr",
     "output_type": "stream",
     "text": [
      "Processed 100 documents ...\n",
      "Done, processed 199 documents.\n"
     ]
    },
    {
     "name": "stdout",
     "output_type": "stream",
     "text": [
      "Parsing docs 19304 to 19503  . . . .\n",
      "Converting from PubTator to BRAT\n"
     ]
    },
    {
     "name": "stderr",
     "output_type": "stream",
     "text": [
      "Processed 100 documents ...\n",
      "Done, processed 199 documents.\n"
     ]
    },
    {
     "name": "stdout",
     "output_type": "stream",
     "text": [
      "Parsing docs 19503 to 19702  . . . .\n",
      "Converting from PubTator to BRAT\n",
      "Parsing docs 19702 to 19901  . . . .\n"
     ]
    },
    {
     "name": "stderr",
     "output_type": "stream",
     "text": [
      "Processed 100 documents ...\n",
      "Done, processed 199 documents.\n"
     ]
    },
    {
     "name": "stdout",
     "output_type": "stream",
     "text": [
      "Converting from PubTator to BRAT\n"
     ]
    },
    {
     "name": "stderr",
     "output_type": "stream",
     "text": [
      "Processed 100 documents ...\n",
      "Done, processed 199 documents.\n"
     ]
    },
    {
     "name": "stdout",
     "output_type": "stream",
     "text": [
      "Parsing docs 19901 to 20100  . . . .\n",
      "Converting from PubTator to BRAT\n",
      "Parsing docs 20100 to 20299  . . . .\n"
     ]
    },
    {
     "name": "stderr",
     "output_type": "stream",
     "text": [
      "Processed 100 documents ...\n",
      "Done, processed 199 documents.\n"
     ]
    },
    {
     "name": "stdout",
     "output_type": "stream",
     "text": [
      "Converting from PubTator to BRAT\n",
      "Parsing docs 20299 to 20498  . . . .\n"
     ]
    },
    {
     "name": "stderr",
     "output_type": "stream",
     "text": [
      "Processed 100 documents ...\n",
      "Done, processed 199 documents.\n"
     ]
    },
    {
     "name": "stdout",
     "output_type": "stream",
     "text": [
      "Converting from PubTator to BRAT\n"
     ]
    },
    {
     "name": "stderr",
     "output_type": "stream",
     "text": [
      "Processed 100 documents ...\n",
      "Done, processed 199 documents.\n"
     ]
    },
    {
     "name": "stdout",
     "output_type": "stream",
     "text": [
      "Parsing docs 20498 to 20697  . . . .\n",
      "Converting from PubTator to BRAT\n",
      "Parsing docs 20697 to 20896  . . . .\n"
     ]
    },
    {
     "name": "stderr",
     "output_type": "stream",
     "text": [
      "Processed 100 documents ...\n",
      "Done, processed 199 documents.\n"
     ]
    },
    {
     "name": "stdout",
     "output_type": "stream",
     "text": [
      "Converting from PubTator to BRAT\n"
     ]
    },
    {
     "name": "stderr",
     "output_type": "stream",
     "text": [
      "Processed 100 documents ...\n",
      "Done, processed 199 documents.\n"
     ]
    },
    {
     "name": "stdout",
     "output_type": "stream",
     "text": [
      "Parsing docs 20896 to 21095  . . . .\n",
      "Converting from PubTator to BRAT\n",
      "Parsing docs 21095 to 21294  . . . .\n"
     ]
    },
    {
     "name": "stderr",
     "output_type": "stream",
     "text": [
      "Processed 100 documents ...\n",
      "Done, processed 199 documents.\n"
     ]
    },
    {
     "name": "stdout",
     "output_type": "stream",
     "text": [
      "Converting from PubTator to BRAT\n"
     ]
    },
    {
     "name": "stderr",
     "output_type": "stream",
     "text": [
      "Processed 100 documents ...\n",
      "Done, processed 199 documents.\n"
     ]
    },
    {
     "name": "stdout",
     "output_type": "stream",
     "text": [
      "Parsing docs 21294 to 21493  . . . .\n",
      "Converting from PubTator to BRAT\n",
      "Parsing docs 21493 to 21692  . . . .\n"
     ]
    },
    {
     "name": "stderr",
     "output_type": "stream",
     "text": [
      "Processed 100 documents ...\n",
      "Done, processed 199 documents.\n"
     ]
    },
    {
     "name": "stdout",
     "output_type": "stream",
     "text": [
      "Converting from PubTator to BRAT\n",
      "Parsing docs 21692 to 21891  . . . .\n"
     ]
    },
    {
     "name": "stderr",
     "output_type": "stream",
     "text": [
      "Processed 100 documents ...\n",
      "Done, processed 199 documents.\n"
     ]
    },
    {
     "name": "stdout",
     "output_type": "stream",
     "text": [
      "Converting from PubTator to BRAT\n",
      "Parsing docs 21891 to 22090  . . . .\n"
     ]
    },
    {
     "name": "stderr",
     "output_type": "stream",
     "text": [
      "Processed 100 documents ...\n",
      "Done, processed 199 documents.\n"
     ]
    },
    {
     "name": "stdout",
     "output_type": "stream",
     "text": [
      "Converting from PubTator to BRAT\n",
      "Parsing docs 22090 to 22289  . . . .\n"
     ]
    },
    {
     "name": "stderr",
     "output_type": "stream",
     "text": [
      "Processed 100 documents ...\n",
      "Done, processed 199 documents.\n"
     ]
    },
    {
     "name": "stdout",
     "output_type": "stream",
     "text": [
      "Converting from PubTator to BRAT\n"
     ]
    },
    {
     "name": "stderr",
     "output_type": "stream",
     "text": [
      "Processed 100 documents ...\n",
      "Done, processed 162 documents.\n"
     ]
    }
   ],
   "source": [
    "n=199 #split to chunks\n",
    "for i in xrange(0,len(pubmed_ids[split_type]), n):\n",
    "    print 'Parsing docs %i to %i  . . . .'%(i+1,i+n+1)\n",
    "    \n",
    "    pmids = ','.join(pubmed_ids[split_type][i:i+n])\n",
    "#     print pmids\n",
    "    url_Submit = \"https://www.ncbi.nlm.nih.gov/CBBresearch/Lu/Demo/RESTful/tmTool.cgi/%s/%s/%s/\"%(bioconcept,pmids,format)\n",
    "    urllib.urlretrieve(url_Submit, api_output_loc)\n",
    "#     print url_Submit\n",
    "\n",
    "    # with open(api_output_loc) as f:\n",
    "    print 'Converting from PubTator to BRAT'\n",
    "    convertpubtator.convert(api_output_loc, convertpubtator.write_standoff, options = options)"
   ]
  },
  {
   "cell_type": "code",
   "execution_count": 11,
   "metadata": {},
   "outputs": [],
   "source": [
    "import glob"
   ]
  },
  {
   "cell_type": "code",
   "execution_count": 13,
   "metadata": {},
   "outputs": [
    {
     "data": {
      "text/plain": [
       "20261"
      ]
     },
     "execution_count": 13,
     "metadata": {},
     "output_type": "execute_result"
    }
   ],
   "source": [
    "len(glob.glob(\"../data/biocreative6/NCBI_parsed/outgoing_citations/*.txt\"))"
   ]
  },
  {
   "cell_type": "markdown",
   "metadata": {},
   "source": [
    "### Redownload missing from API"
   ]
  },
  {
   "cell_type": "code",
   "execution_count": 51,
   "metadata": {},
   "outputs": [],
   "source": [
    "with open('/home/antonis/data/biocreative6/redownload3.pickle', 'rb') as f:\n",
    "    redownload = pickle.load(f)"
   ]
  },
  {
   "cell_type": "code",
   "execution_count": 54,
   "metadata": {},
   "outputs": [
    {
     "name": "stdout",
     "output_type": "stream",
     "text": [
      "Parsing docs 1 to 11  . . . .\n",
      "Converting from PubTator to BRAT\n",
      "Parsing docs 11 to 21  . . . .\n"
     ]
    },
    {
     "name": "stderr",
     "output_type": "stream",
     "text": [
      "Done, processed 10 documents.\n"
     ]
    },
    {
     "name": "stdout",
     "output_type": "stream",
     "text": [
      "Converting from PubTator to BRAT\n",
      "Parsing docs 21 to 31  . . . .\n"
     ]
    },
    {
     "name": "stderr",
     "output_type": "stream",
     "text": [
      "Done, processed 10 documents.\n"
     ]
    },
    {
     "name": "stdout",
     "output_type": "stream",
     "text": [
      "Converting from PubTator to BRAT\n",
      "Parsing docs 31 to 41  . . . .\n"
     ]
    },
    {
     "name": "stderr",
     "output_type": "stream",
     "text": [
      "Done, processed 10 documents.\n",
      "WARNING:root:Error reading NCBI_downloaded.txt: 1: expected text, got: [Error] : PMID:23944776 does not exist\n",
      " (skipping...)\n"
     ]
    },
    {
     "name": "stdout",
     "output_type": "stream",
     "text": [
      "Converting from PubTator to BRAT\n",
      "Parsing docs 41 to 51  . . . .\n"
     ]
    },
    {
     "name": "stderr",
     "output_type": "stream",
     "text": [
      "Done, processed 5 documents.\n"
     ]
    },
    {
     "name": "stdout",
     "output_type": "stream",
     "text": [
      "Converting from PubTator to BRAT\n",
      "Parsing docs 51 to 61  . . . .\n"
     ]
    },
    {
     "name": "stderr",
     "output_type": "stream",
     "text": [
      "Done, processed 10 documents.\n"
     ]
    },
    {
     "name": "stdout",
     "output_type": "stream",
     "text": [
      "Converting from PubTator to BRAT\n",
      "Parsing docs 61 to 71  . . . .\n"
     ]
    },
    {
     "name": "stderr",
     "output_type": "stream",
     "text": [
      "Done, processed 10 documents.\n"
     ]
    },
    {
     "name": "stdout",
     "output_type": "stream",
     "text": [
      "Converting from PubTator to BRAT\n",
      "Parsing docs 71 to 81  . . . .\n"
     ]
    },
    {
     "name": "stderr",
     "output_type": "stream",
     "text": [
      "Done, processed 10 documents.\n"
     ]
    },
    {
     "name": "stdout",
     "output_type": "stream",
     "text": [
      "Converting from PubTator to BRAT\n",
      "Parsing docs 81 to 91  . . . .\n"
     ]
    },
    {
     "name": "stderr",
     "output_type": "stream",
     "text": [
      "Done, processed 10 documents.\n"
     ]
    },
    {
     "name": "stdout",
     "output_type": "stream",
     "text": [
      "Converting from PubTator to BRAT\n",
      "Parsing docs 91 to 101  . . . .\n"
     ]
    },
    {
     "name": "stderr",
     "output_type": "stream",
     "text": [
      "Done, processed 10 documents.\n"
     ]
    },
    {
     "name": "stdout",
     "output_type": "stream",
     "text": [
      "Converting from PubTator to BRAT\n",
      "Parsing docs 101 to 111  . . . .\n"
     ]
    },
    {
     "name": "stderr",
     "output_type": "stream",
     "text": [
      "Done, processed 10 documents.\n"
     ]
    },
    {
     "name": "stdout",
     "output_type": "stream",
     "text": [
      "Converting from PubTator to BRAT\n",
      "Parsing docs 111 to 121  . . . .\n"
     ]
    },
    {
     "name": "stderr",
     "output_type": "stream",
     "text": [
      "Done, processed 10 documents.\n"
     ]
    },
    {
     "name": "stdout",
     "output_type": "stream",
     "text": [
      "Converting from PubTator to BRAT\n",
      "Parsing docs 121 to 131  . . . .\n"
     ]
    },
    {
     "name": "stderr",
     "output_type": "stream",
     "text": [
      "Done, processed 10 documents.\n"
     ]
    },
    {
     "name": "stdout",
     "output_type": "stream",
     "text": [
      "Converting from PubTator to BRAT\n",
      "Parsing docs 131 to 141  . . . .\n"
     ]
    },
    {
     "name": "stderr",
     "output_type": "stream",
     "text": [
      "Done, processed 10 documents.\n"
     ]
    },
    {
     "name": "stdout",
     "output_type": "stream",
     "text": [
      "Converting from PubTator to BRAT\n",
      "Parsing docs 141 to 151  . . . .\n"
     ]
    },
    {
     "name": "stderr",
     "output_type": "stream",
     "text": [
      "Done, processed 10 documents.\n"
     ]
    },
    {
     "name": "stdout",
     "output_type": "stream",
     "text": [
      "Converting from PubTator to BRAT\n",
      "Parsing docs 151 to 161  . . . .\n"
     ]
    },
    {
     "name": "stderr",
     "output_type": "stream",
     "text": [
      "Done, processed 10 documents.\n",
      "WARNING:root:Error reading NCBI_downloaded.txt: 1: expected text, got: [Error] : PMID:23950811 does not exist\n",
      " (skipping...)\n"
     ]
    },
    {
     "name": "stdout",
     "output_type": "stream",
     "text": [
      "Converting from PubTator to BRAT\n",
      "Parsing docs 161 to 171  . . . .\n"
     ]
    },
    {
     "name": "stderr",
     "output_type": "stream",
     "text": [
      "Done, processed 8 documents.\n"
     ]
    },
    {
     "name": "stdout",
     "output_type": "stream",
     "text": [
      "Converting from PubTator to BRAT\n",
      "Parsing docs 171 to 181  . . . .\n"
     ]
    },
    {
     "name": "stderr",
     "output_type": "stream",
     "text": [
      "Done, processed 10 documents.\n"
     ]
    },
    {
     "name": "stdout",
     "output_type": "stream",
     "text": [
      "Converting from PubTator to BRAT\n",
      "Parsing docs 181 to 191  . . . .\n"
     ]
    },
    {
     "name": "stderr",
     "output_type": "stream",
     "text": [
      "Done, processed 10 documents.\n"
     ]
    },
    {
     "name": "stdout",
     "output_type": "stream",
     "text": [
      "Converting from PubTator to BRAT\n",
      "Parsing docs 191 to 201  . . . .\n"
     ]
    },
    {
     "name": "stderr",
     "output_type": "stream",
     "text": [
      "Done, processed 10 documents.\n"
     ]
    },
    {
     "name": "stdout",
     "output_type": "stream",
     "text": [
      "Converting from PubTator to BRAT\n",
      "Parsing docs 201 to 211  . . . .\n"
     ]
    },
    {
     "name": "stderr",
     "output_type": "stream",
     "text": [
      "Done, processed 10 documents.\n"
     ]
    },
    {
     "name": "stdout",
     "output_type": "stream",
     "text": [
      "Converting from PubTator to BRAT\n",
      "Parsing docs 211 to 221  . . . .\n"
     ]
    },
    {
     "name": "stderr",
     "output_type": "stream",
     "text": [
      "Done, processed 10 documents.\n"
     ]
    },
    {
     "name": "stdout",
     "output_type": "stream",
     "text": [
      "Converting from PubTator to BRAT\n",
      "Parsing docs 221 to 231  . . . .\n"
     ]
    },
    {
     "name": "stderr",
     "output_type": "stream",
     "text": [
      "Done, processed 10 documents.\n",
      "WARNING:root:Error reading NCBI_downloaded.txt: 1: expected text, got: [Error] : PMID:23928893 does not exist\n",
      " (skipping...)\n"
     ]
    },
    {
     "name": "stdout",
     "output_type": "stream",
     "text": [
      "Converting from PubTator to BRAT\n",
      "Parsing docs 231 to 241  . . . .\n"
     ]
    },
    {
     "name": "stderr",
     "output_type": "stream",
     "text": [
      "Done, processed 8 documents.\n"
     ]
    },
    {
     "name": "stdout",
     "output_type": "stream",
     "text": [
      "Converting from PubTator to BRAT\n",
      "Parsing docs 241 to 251  . . . .\n"
     ]
    },
    {
     "name": "stderr",
     "output_type": "stream",
     "text": [
      "Done, processed 10 documents.\n"
     ]
    },
    {
     "name": "stdout",
     "output_type": "stream",
     "text": [
      "Converting from PubTator to BRAT\n",
      "Parsing docs 251 to 261  . . . .\n"
     ]
    },
    {
     "name": "stderr",
     "output_type": "stream",
     "text": [
      "Done, processed 10 documents.\n"
     ]
    },
    {
     "name": "stdout",
     "output_type": "stream",
     "text": [
      "Converting from PubTator to BRAT\n",
      "Parsing docs 261 to 271  . . . .\n"
     ]
    },
    {
     "name": "stderr",
     "output_type": "stream",
     "text": [
      "Done, processed 10 documents.\n"
     ]
    },
    {
     "name": "stdout",
     "output_type": "stream",
     "text": [
      "Converting from PubTator to BRAT\n",
      "Parsing docs 271 to 281  . . . .\n"
     ]
    },
    {
     "name": "stderr",
     "output_type": "stream",
     "text": [
      "Done, processed 10 documents.\n"
     ]
    },
    {
     "name": "stdout",
     "output_type": "stream",
     "text": [
      "Converting from PubTator to BRAT\n",
      "Parsing docs 281 to 291  . . . .\n"
     ]
    },
    {
     "name": "stderr",
     "output_type": "stream",
     "text": [
      "Done, processed 10 documents.\n"
     ]
    },
    {
     "name": "stdout",
     "output_type": "stream",
     "text": [
      "Converting from PubTator to BRAT\n",
      "Parsing docs 291 to 301  . . . .\n"
     ]
    },
    {
     "name": "stderr",
     "output_type": "stream",
     "text": [
      "Done, processed 10 documents.\n"
     ]
    },
    {
     "name": "stdout",
     "output_type": "stream",
     "text": [
      "Converting from PubTator to BRAT\n",
      "Parsing docs 301 to 311  . . . .\n"
     ]
    },
    {
     "name": "stderr",
     "output_type": "stream",
     "text": [
      "Done, processed 10 documents.\n"
     ]
    },
    {
     "name": "stdout",
     "output_type": "stream",
     "text": [
      "Converting from PubTator to BRAT\n",
      "Parsing docs 311 to 321  . . . .\n"
     ]
    },
    {
     "name": "stderr",
     "output_type": "stream",
     "text": [
      "Done, processed 10 documents.\n"
     ]
    },
    {
     "name": "stdout",
     "output_type": "stream",
     "text": [
      "Converting from PubTator to BRAT\n",
      "Parsing docs 321 to 331  . . . .\n"
     ]
    },
    {
     "name": "stderr",
     "output_type": "stream",
     "text": [
      "Done, processed 10 documents.\n"
     ]
    },
    {
     "name": "stdout",
     "output_type": "stream",
     "text": [
      "Converting from PubTator to BRAT\n",
      "Parsing docs 331 to 341  . . . .\n"
     ]
    },
    {
     "name": "stderr",
     "output_type": "stream",
     "text": [
      "Done, processed 10 documents.\n"
     ]
    },
    {
     "name": "stdout",
     "output_type": "stream",
     "text": [
      "Converting from PubTator to BRAT\n",
      "Parsing docs 341 to 351  . . . .\n"
     ]
    },
    {
     "name": "stderr",
     "output_type": "stream",
     "text": [
      "Done, processed 10 documents.\n",
      "WARNING:root:Error reading NCBI_downloaded.txt: 1: expected text, got: [Error] : PMID:23711363 does not exist\n",
      " (skipping...)\n"
     ]
    },
    {
     "name": "stdout",
     "output_type": "stream",
     "text": [
      "Converting from PubTator to BRAT\n",
      "Parsing docs 351 to 361  . . . .\n"
     ]
    },
    {
     "name": "stderr",
     "output_type": "stream",
     "text": [
      "Done, processed 4 documents.\n"
     ]
    },
    {
     "name": "stdout",
     "output_type": "stream",
     "text": [
      "Converting from PubTator to BRAT\n",
      "Parsing docs 361 to 371  . . . .\n"
     ]
    },
    {
     "name": "stderr",
     "output_type": "stream",
     "text": [
      "Done, processed 10 documents.\n"
     ]
    },
    {
     "name": "stdout",
     "output_type": "stream",
     "text": [
      "Converting from PubTator to BRAT\n",
      "Parsing docs 371 to 381  . . . .\n"
     ]
    },
    {
     "name": "stderr",
     "output_type": "stream",
     "text": [
      "Done, processed 10 documents.\n"
     ]
    },
    {
     "name": "stdout",
     "output_type": "stream",
     "text": [
      "Converting from PubTator to BRAT\n",
      "Parsing docs 381 to 391  . . . .\n"
     ]
    },
    {
     "name": "stderr",
     "output_type": "stream",
     "text": [
      "Done, processed 10 documents.\n"
     ]
    },
    {
     "name": "stdout",
     "output_type": "stream",
     "text": [
      "Converting from PubTator to BRAT\n",
      "Parsing docs 391 to 401  . . . .\n"
     ]
    },
    {
     "name": "stderr",
     "output_type": "stream",
     "text": [
      "Done, processed 10 documents.\n"
     ]
    },
    {
     "name": "stdout",
     "output_type": "stream",
     "text": [
      "Converting from PubTator to BRAT\n",
      "Parsing docs 401 to 411  . . . .\n"
     ]
    },
    {
     "name": "stderr",
     "output_type": "stream",
     "text": [
      "Done, processed 10 documents.\n"
     ]
    },
    {
     "name": "stdout",
     "output_type": "stream",
     "text": [
      "Converting from PubTator to BRAT\n",
      "Parsing docs 411 to 421  . . . .\n"
     ]
    },
    {
     "name": "stderr",
     "output_type": "stream",
     "text": [
      "Done, processed 10 documents.\n"
     ]
    },
    {
     "name": "stdout",
     "output_type": "stream",
     "text": [
      "Converting from PubTator to BRAT\n",
      "Parsing docs 421 to 431  . . . .\n"
     ]
    },
    {
     "name": "stderr",
     "output_type": "stream",
     "text": [
      "Done, processed 10 documents.\n"
     ]
    },
    {
     "name": "stdout",
     "output_type": "stream",
     "text": [
      "Converting from PubTator to BRAT\n",
      "Parsing docs 431 to 441  . . . .\n"
     ]
    },
    {
     "name": "stderr",
     "output_type": "stream",
     "text": [
      "Done, processed 10 documents.\n"
     ]
    },
    {
     "name": "stdout",
     "output_type": "stream",
     "text": [
      "Converting from PubTator to BRAT\n",
      "Parsing docs 441 to 451  . . . .\n"
     ]
    },
    {
     "name": "stderr",
     "output_type": "stream",
     "text": [
      "Done, processed 10 documents.\n"
     ]
    },
    {
     "name": "stdout",
     "output_type": "stream",
     "text": [
      "Converting from PubTator to BRAT\n",
      "Parsing docs 451 to 461  . . . .\n"
     ]
    },
    {
     "name": "stderr",
     "output_type": "stream",
     "text": [
      "Done, processed 10 documents.\n",
      "WARNING:root:Error reading NCBI_downloaded.txt: 1: expected text, got: [Error] : PMID:23965079 does not exist\n",
      " (skipping...)\n"
     ]
    },
    {
     "name": "stdout",
     "output_type": "stream",
     "text": [
      "Converting from PubTator to BRAT\n",
      "Parsing docs 461 to 471  . . . .\n"
     ]
    },
    {
     "name": "stderr",
     "output_type": "stream",
     "text": [
      "Done, processed 0 documents.\n"
     ]
    },
    {
     "name": "stdout",
     "output_type": "stream",
     "text": [
      "Converting from PubTator to BRAT\n",
      "Parsing docs 471 to 481  . . . .\n"
     ]
    },
    {
     "name": "stderr",
     "output_type": "stream",
     "text": [
      "Done, processed 10 documents.\n"
     ]
    },
    {
     "name": "stdout",
     "output_type": "stream",
     "text": [
      "Converting from PubTator to BRAT\n",
      "Parsing docs 481 to 491  . . . .\n"
     ]
    },
    {
     "name": "stderr",
     "output_type": "stream",
     "text": [
      "Done, processed 10 documents.\n"
     ]
    },
    {
     "name": "stdout",
     "output_type": "stream",
     "text": [
      "Converting from PubTator to BRAT\n",
      "Parsing docs 491 to 501  . . . .\n"
     ]
    },
    {
     "name": "stderr",
     "output_type": "stream",
     "text": [
      "Done, processed 10 documents.\n"
     ]
    },
    {
     "name": "stdout",
     "output_type": "stream",
     "text": [
      "Converting from PubTator to BRAT\n",
      "Parsing docs 501 to 511  . . . .\n"
     ]
    },
    {
     "name": "stderr",
     "output_type": "stream",
     "text": [
      "Done, processed 10 documents.\n"
     ]
    },
    {
     "name": "stdout",
     "output_type": "stream",
     "text": [
      "Converting from PubTator to BRAT\n",
      "Parsing docs 511 to 521  . . . .\n"
     ]
    },
    {
     "name": "stderr",
     "output_type": "stream",
     "text": [
      "Done, processed 10 documents.\n"
     ]
    },
    {
     "name": "stdout",
     "output_type": "stream",
     "text": [
      "Converting from PubTator to BRAT\n",
      "Parsing docs 521 to 531  . . . .\n"
     ]
    },
    {
     "name": "stderr",
     "output_type": "stream",
     "text": [
      "Done, processed 10 documents.\n"
     ]
    },
    {
     "name": "stdout",
     "output_type": "stream",
     "text": [
      "Converting from PubTator to BRAT\n",
      "Parsing docs 531 to 541  . . . .\n"
     ]
    },
    {
     "name": "stderr",
     "output_type": "stream",
     "text": [
      "Done, processed 10 documents.\n"
     ]
    },
    {
     "name": "stdout",
     "output_type": "stream",
     "text": [
      "Converting from PubTator to BRAT\n",
      "Parsing docs 541 to 551  . . . .\n"
     ]
    },
    {
     "name": "stderr",
     "output_type": "stream",
     "text": [
      "Done, processed 10 documents.\n",
      "WARNING:root:Error reading NCBI_downloaded.txt: 1: expected text, got: [Error] : PMID:23965052 does not exist\n",
      " (skipping...)\n"
     ]
    },
    {
     "name": "stdout",
     "output_type": "stream",
     "text": [
      "Converting from PubTator to BRAT\n",
      "Parsing docs 551 to 561  . . . .\n"
     ]
    },
    {
     "name": "stderr",
     "output_type": "stream",
     "text": [
      "Done, processed 1 documents.\n"
     ]
    },
    {
     "name": "stdout",
     "output_type": "stream",
     "text": [
      "Converting from PubTator to BRAT\n",
      "Parsing docs 561 to 571  . . . .\n"
     ]
    },
    {
     "name": "stderr",
     "output_type": "stream",
     "text": [
      "Done, processed 10 documents.\n"
     ]
    },
    {
     "name": "stdout",
     "output_type": "stream",
     "text": [
      "Converting from PubTator to BRAT\n",
      "Parsing docs 571 to 581  . . . .\n"
     ]
    },
    {
     "name": "stderr",
     "output_type": "stream",
     "text": [
      "Done, processed 10 documents.\n"
     ]
    },
    {
     "name": "stdout",
     "output_type": "stream",
     "text": [
      "Converting from PubTator to BRAT\n",
      "Parsing docs 581 to 591  . . . .\n"
     ]
    },
    {
     "name": "stderr",
     "output_type": "stream",
     "text": [
      "Done, processed 10 documents.\n"
     ]
    },
    {
     "name": "stdout",
     "output_type": "stream",
     "text": [
      "Converting from PubTator to BRAT\n",
      "Parsing docs 591 to 601  . . . .\n"
     ]
    },
    {
     "name": "stderr",
     "output_type": "stream",
     "text": [
      "Done, processed 10 documents.\n"
     ]
    },
    {
     "name": "stdout",
     "output_type": "stream",
     "text": [
      "Converting from PubTator to BRAT\n",
      "Parsing docs 601 to 611  . . . .\n"
     ]
    },
    {
     "name": "stderr",
     "output_type": "stream",
     "text": [
      "Done, processed 10 documents.\n"
     ]
    },
    {
     "name": "stdout",
     "output_type": "stream",
     "text": [
      "Converting from PubTator to BRAT\n",
      "Parsing docs 611 to 621  . . . .\n"
     ]
    },
    {
     "name": "stderr",
     "output_type": "stream",
     "text": [
      "Done, processed 10 documents.\n"
     ]
    },
    {
     "name": "stdout",
     "output_type": "stream",
     "text": [
      "Converting from PubTator to BRAT\n",
      "Parsing docs 621 to 631  . . . .\n"
     ]
    },
    {
     "name": "stderr",
     "output_type": "stream",
     "text": [
      "Done, processed 10 documents.\n"
     ]
    },
    {
     "name": "stdout",
     "output_type": "stream",
     "text": [
      "Converting from PubTator to BRAT\n",
      "Parsing docs 631 to 641  . . . .\n"
     ]
    },
    {
     "name": "stderr",
     "output_type": "stream",
     "text": [
      "Done, processed 10 documents.\n"
     ]
    },
    {
     "name": "stdout",
     "output_type": "stream",
     "text": [
      "Converting from PubTator to BRAT\n",
      "Parsing docs 641 to 651  . . . .\n"
     ]
    },
    {
     "name": "stderr",
     "output_type": "stream",
     "text": [
      "Done, processed 10 documents.\n"
     ]
    },
    {
     "name": "stdout",
     "output_type": "stream",
     "text": [
      "Converting from PubTator to BRAT\n",
      "Parsing docs 651 to 661  . . . .\n"
     ]
    },
    {
     "name": "stderr",
     "output_type": "stream",
     "text": [
      "Done, processed 10 documents.\n"
     ]
    },
    {
     "name": "stdout",
     "output_type": "stream",
     "text": [
      "Converting from PubTator to BRAT\n",
      "Parsing docs 661 to 671  . . . .\n"
     ]
    },
    {
     "name": "stderr",
     "output_type": "stream",
     "text": [
      "Done, processed 10 documents.\n"
     ]
    },
    {
     "name": "stdout",
     "output_type": "stream",
     "text": [
      "Converting from PubTator to BRAT\n",
      "Parsing docs 671 to 681  . . . .\n"
     ]
    },
    {
     "name": "stderr",
     "output_type": "stream",
     "text": [
      "Done, processed 10 documents.\n"
     ]
    },
    {
     "name": "stdout",
     "output_type": "stream",
     "text": [
      "Converting from PubTator to BRAT\n",
      "Parsing docs 681 to 691  . . . .\n"
     ]
    },
    {
     "name": "stderr",
     "output_type": "stream",
     "text": [
      "Done, processed 10 documents.\n"
     ]
    },
    {
     "name": "stdout",
     "output_type": "stream",
     "text": [
      "Converting from PubTator to BRAT\n",
      "Parsing docs 691 to 701  . . . .\n"
     ]
    },
    {
     "name": "stderr",
     "output_type": "stream",
     "text": [
      "Done, processed 10 documents.\n"
     ]
    },
    {
     "name": "stdout",
     "output_type": "stream",
     "text": [
      "Converting from PubTator to BRAT\n",
      "Parsing docs 701 to 711  . . . .\n"
     ]
    },
    {
     "name": "stderr",
     "output_type": "stream",
     "text": [
      "Done, processed 10 documents.\n"
     ]
    },
    {
     "name": "stdout",
     "output_type": "stream",
     "text": [
      "Converting from PubTator to BRAT\n",
      "Parsing docs 711 to 721  . . . .\n"
     ]
    },
    {
     "name": "stderr",
     "output_type": "stream",
     "text": [
      "Done, processed 10 documents.\n"
     ]
    },
    {
     "name": "stdout",
     "output_type": "stream",
     "text": [
      "Converting from PubTator to BRAT\n",
      "Parsing docs 721 to 731  . . . .\n"
     ]
    },
    {
     "name": "stderr",
     "output_type": "stream",
     "text": [
      "Done, processed 10 documents.\n"
     ]
    },
    {
     "name": "stdout",
     "output_type": "stream",
     "text": [
      "Converting from PubTator to BRAT\n",
      "Parsing docs 731 to 741  . . . .\n"
     ]
    },
    {
     "name": "stderr",
     "output_type": "stream",
     "text": [
      "Done, processed 10 documents.\n"
     ]
    },
    {
     "name": "stdout",
     "output_type": "stream",
     "text": [
      "Converting from PubTator to BRAT\n",
      "Parsing docs 741 to 751  . . . .\n"
     ]
    },
    {
     "name": "stderr",
     "output_type": "stream",
     "text": [
      "Done, processed 10 documents.\n"
     ]
    },
    {
     "name": "stdout",
     "output_type": "stream",
     "text": [
      "Converting from PubTator to BRAT\n",
      "Parsing docs 751 to 761  . . . .\n"
     ]
    },
    {
     "name": "stderr",
     "output_type": "stream",
     "text": [
      "Done, processed 10 documents.\n"
     ]
    },
    {
     "name": "stdout",
     "output_type": "stream",
     "text": [
      "Converting from PubTator to BRAT\n",
      "Parsing docs 761 to 771  . . . .\n"
     ]
    },
    {
     "name": "stderr",
     "output_type": "stream",
     "text": [
      "Done, processed 10 documents.\n"
     ]
    },
    {
     "name": "stdout",
     "output_type": "stream",
     "text": [
      "Converting from PubTator to BRAT\n",
      "Parsing docs 771 to 781  . . . .\n"
     ]
    },
    {
     "name": "stderr",
     "output_type": "stream",
     "text": [
      "Done, processed 10 documents.\n"
     ]
    },
    {
     "name": "stdout",
     "output_type": "stream",
     "text": [
      "Converting from PubTator to BRAT\n"
     ]
    },
    {
     "name": "stderr",
     "output_type": "stream",
     "text": [
      "Done, processed 4 documents.\n"
     ]
    }
   ],
   "source": [
    "n=10 #split to chunks\n",
    "for i in xrange(0,len(redownload), n):\n",
    "    print 'Parsing docs %i to %i  . . . .'%(i+1,i+n+1)\n",
    "    \n",
    "    pmids = ','.join(redownload[i:i+n])\n",
    "#     print pmids\n",
    "    url_Submit = \"https://www.ncbi.nlm.nih.gov/CBBresearch/Lu/Demo/RESTful/tmTool.cgi/%s/%s/%s/\"%(bioconcept,pmids,format)\n",
    "    urllib.urlretrieve(url_Submit, api_output_loc)\n",
    "#     print url_Submit\n",
    "\n",
    "\n",
    "    # with open(api_output_loc) as f:\n",
    "    print 'Converting from PubTator to BRAT'\n",
    "    convertpubtator.convert(api_output_loc, convertpubtator.write_standoff, options = options)"
   ]
  },
  {
   "cell_type": "code",
   "execution_count": null,
   "metadata": {},
   "outputs": [],
   "source": []
  },
  {
   "cell_type": "markdown",
   "metadata": {},
   "source": [
    "### debug -  why am I missing documents?\n"
   ]
  },
  {
   "cell_type": "code",
   "execution_count": 42,
   "metadata": {},
   "outputs": [],
   "source": [
    "# # debug -  why am I missing documents?\n",
    "# i=1393\n",
    "# print 'Parsing docs %i to %i  . . . .'%(i+1,i+n+1)\n",
    "\n",
    "# pmids = ','.join(pubmed_ids[split_type][i:i+n])\n",
    "# #     print pmids\n",
    "# url_Submit = \"https://www.ncbi.nlm.nih.gov/CBBresearch/Lu/Demo/RESTful/tmTool.cgi/%s/%s/%s/\"%(bioconcept,pmids,format)\n",
    "# urllib.urlretrieve(url_Submit, api_output_loc)\n",
    "# #     print url_Submit\n",
    "\n",
    "\n",
    "# # with open(api_output_loc) as f:\n",
    "# print 'Converting from PubTator to BRAT'\n",
    "# convertpubtator.convert(api_output_loc, convertpubtator.write_standoff, options = options)\n"
   ]
  },
  {
   "cell_type": "code",
   "execution_count": 43,
   "metadata": {},
   "outputs": [],
   "source": [
    "# url_Submit"
   ]
  }
 ],
 "metadata": {
  "kernelspec": {
   "display_name": "Python [conda env:snorkel27clone]",
   "language": "python",
   "name": "conda-env-snorkel27clone-py"
  },
  "language_info": {
   "codemirror_mode": {
    "name": "ipython",
    "version": 2
   },
   "file_extension": ".py",
   "mimetype": "text/x-python",
   "name": "python",
   "nbconvert_exporter": "python",
   "pygments_lexer": "ipython2",
   "version": "2.7.15"
  }
 },
 "nbformat": 4,
 "nbformat_minor": 2
}
