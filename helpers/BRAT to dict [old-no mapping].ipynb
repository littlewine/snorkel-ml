{
 "cells": [
  {
   "cell_type": "code",
   "execution_count": 69,
   "metadata": {},
   "outputs": [],
   "source": [
    "import glob\n",
    "import codecs\n",
    "import pandas as pd"
   ]
  },
  {
   "cell_type": "code",
   "execution_count": null,
   "metadata": {},
   "outputs": [],
   "source": [
    "from preprocessing import entities_to_dict, standoff_to_df"
   ]
  },
  {
   "cell_type": "markdown",
   "metadata": {},
   "source": [
    "** Select which NER tags to use **"
   ]
  },
  {
   "cell_type": "code",
   "execution_count": 42,
   "metadata": {},
   "outputs": [],
   "source": [
    "extractor_name = 'leadmine'"
   ]
  },
  {
   "cell_type": "markdown",
   "metadata": {},
   "source": [
    "** Find annotations and insert to df **"
   ]
  },
  {
   "cell_type": "markdown",
   "metadata": {},
   "source": [
    "## Combine NER inputs (eg. LeadMine -> Chemicals  &  MEDSCAN -> Genes )"
   ]
  },
  {
   "cell_type": "markdown",
   "metadata": {},
   "source": [
    "### extract chemicals from LeadMine"
   ]
  },
  {
   "cell_type": "code",
   "execution_count": null,
   "metadata": {},
   "outputs": [],
   "source": [
    "extractor_name = 'leadmine'\n",
    "ann_files = glob.glob(\"/home/antonis/data/biocreative6/%s/*/*.ann\"%extractor_name)\n",
    "\n",
    "entities = standoff_to_df(ann_files, entity_type_mapping = {'CHEMICAL': 'Chemical'})"
   ]
  },
  {
   "cell_type": "markdown",
   "metadata": {},
   "source": [
    "### extract genes (Neji) and append to chemicals"
   ]
  },
  {
   "cell_type": "code",
   "execution_count": 3,
   "metadata": {},
   "outputs": [
    {
     "name": "stdout",
     "output_type": "stream",
     "text": [
      "Found 2418 standoff files\n",
      "initializing df\n",
      "163.425029993\n",
      "Extracted 29420 entities\n",
      "Found 2432 standoff files\n",
      "initializing df\n",
      "93.1872041225\n",
      "Extracted 20165 entities\n"
     ]
    }
   ],
   "source": [
    "extractor_name = 'neji'\n",
    "ann_files = glob.glob(\"/home/antonis/data/biocreative6/%s/*/*.ann\"%extractor_name)\n",
    "\n",
    "entities = entities.append(standoff_to_df(ann_files,filter_types=['Gene'],), ignore_index=True)"
   ]
  },
  {
   "cell_type": "code",
   "execution_count": 10,
   "metadata": {
    "scrolled": true
   },
   "outputs": [
    {
     "data": {
      "text/html": [
       "<div>\n",
       "<style scoped>\n",
       "    .dataframe tbody tr th:only-of-type {\n",
       "        vertical-align: middle;\n",
       "    }\n",
       "\n",
       "    .dataframe tbody tr th {\n",
       "        vertical-align: top;\n",
       "    }\n",
       "\n",
       "    .dataframe thead th {\n",
       "        text-align: right;\n",
       "    }\n",
       "</style>\n",
       "<table border=\"1\" class=\"dataframe\">\n",
       "  <thead>\n",
       "    <tr style=\"text-align: right;\">\n",
       "      <th></th>\n",
       "      <th>doc_id</th>\n",
       "      <th>EntityType</th>\n",
       "      <th>start</th>\n",
       "      <th>stop</th>\n",
       "      <th>EntityText</th>\n",
       "      <th>tup</th>\n",
       "    </tr>\n",
       "  </thead>\n",
       "  <tbody>\n",
       "    <tr>\n",
       "      <th>0</th>\n",
       "      <td>18480678</td>\n",
       "      <td>Chemical</td>\n",
       "      <td>54</td>\n",
       "      <td>69</td>\n",
       "      <td>methylphenidate</td>\n",
       "      <td>(Chemical|methylphenidate, 54, 69)</td>\n",
       "    </tr>\n",
       "    <tr>\n",
       "      <th>1</th>\n",
       "      <td>18480678</td>\n",
       "      <td>Chemical</td>\n",
       "      <td>116</td>\n",
       "      <td>131</td>\n",
       "      <td>methylphenidate</td>\n",
       "      <td>(Chemical|methylphenidate, 116, 131)</td>\n",
       "    </tr>\n",
       "    <tr>\n",
       "      <th>2</th>\n",
       "      <td>18480678</td>\n",
       "      <td>Chemical</td>\n",
       "      <td>256</td>\n",
       "      <td>271</td>\n",
       "      <td>methylphenidate</td>\n",
       "      <td>(Chemical|methylphenidate, 256, 271)</td>\n",
       "    </tr>\n",
       "    <tr>\n",
       "      <th>3</th>\n",
       "      <td>18480678</td>\n",
       "      <td>Chemical</td>\n",
       "      <td>285</td>\n",
       "      <td>293</td>\n",
       "      <td>dopamine</td>\n",
       "      <td>(Chemical|dopamine, 285, 293)</td>\n",
       "    </tr>\n",
       "    <tr>\n",
       "      <th>4</th>\n",
       "      <td>18480678</td>\n",
       "      <td>Chemical</td>\n",
       "      <td>314</td>\n",
       "      <td>328</td>\n",
       "      <td>norepinephrine</td>\n",
       "      <td>(Chemical|norepinephrine, 314, 328)</td>\n",
       "    </tr>\n",
       "  </tbody>\n",
       "</table>\n",
       "</div>"
      ],
      "text/plain": [
       "     doc_id EntityType start stop       EntityText  \\\n",
       "0  18480678   Chemical    54   69  methylphenidate   \n",
       "1  18480678   Chemical   116  131  methylphenidate   \n",
       "2  18480678   Chemical   256  271  methylphenidate   \n",
       "3  18480678   Chemical   285  293         dopamine   \n",
       "4  18480678   Chemical   314  328   norepinephrine   \n",
       "\n",
       "                                    tup  \n",
       "0    (Chemical|methylphenidate, 54, 69)  \n",
       "1  (Chemical|methylphenidate, 116, 131)  \n",
       "2  (Chemical|methylphenidate, 256, 271)  \n",
       "3         (Chemical|dopamine, 285, 293)  \n",
       "4   (Chemical|norepinephrine, 314, 328)  "
      ]
     },
     "execution_count": 10,
     "metadata": {},
     "output_type": "execute_result"
    }
   ],
   "source": [
    "entities.head()"
   ]
  },
  {
   "cell_type": "code",
   "execution_count": 11,
   "metadata": {},
   "outputs": [
    {
     "data": {
      "text/html": [
       "<div>\n",
       "<style scoped>\n",
       "    .dataframe tbody tr th:only-of-type {\n",
       "        vertical-align: middle;\n",
       "    }\n",
       "\n",
       "    .dataframe tbody tr th {\n",
       "        vertical-align: top;\n",
       "    }\n",
       "\n",
       "    .dataframe thead th {\n",
       "        text-align: right;\n",
       "    }\n",
       "</style>\n",
       "<table border=\"1\" class=\"dataframe\">\n",
       "  <thead>\n",
       "    <tr style=\"text-align: right;\">\n",
       "      <th></th>\n",
       "      <th>doc_id</th>\n",
       "      <th>EntityType</th>\n",
       "      <th>start</th>\n",
       "      <th>stop</th>\n",
       "      <th>EntityText</th>\n",
       "      <th>tup</th>\n",
       "    </tr>\n",
       "  </thead>\n",
       "  <tbody>\n",
       "    <tr>\n",
       "      <th>49580</th>\n",
       "      <td>23293962</td>\n",
       "      <td>Gene</td>\n",
       "      <td>1097</td>\n",
       "      <td>1109</td>\n",
       "      <td>matriptase-2</td>\n",
       "      <td>(Gene|matriptase-2, 1097, 1109)</td>\n",
       "    </tr>\n",
       "    <tr>\n",
       "      <th>49581</th>\n",
       "      <td>23293962</td>\n",
       "      <td>Gene</td>\n",
       "      <td>1135</td>\n",
       "      <td>1138</td>\n",
       "      <td>HJV</td>\n",
       "      <td>(Gene|HJV, 1135, 1138)</td>\n",
       "    </tr>\n",
       "    <tr>\n",
       "      <th>49582</th>\n",
       "      <td>23293962</td>\n",
       "      <td>Gene</td>\n",
       "      <td>1140</td>\n",
       "      <td>1152</td>\n",
       "      <td>haemojuvelin</td>\n",
       "      <td>(Gene|haemojuvelin, 1140, 1152)</td>\n",
       "    </tr>\n",
       "    <tr>\n",
       "      <th>49583</th>\n",
       "      <td>23293962</td>\n",
       "      <td>Gene</td>\n",
       "      <td>1223</td>\n",
       "      <td>1228</td>\n",
       "      <td>HAI-2</td>\n",
       "      <td>(Gene|HAI-2, 1223, 1228)</td>\n",
       "    </tr>\n",
       "    <tr>\n",
       "      <th>49584</th>\n",
       "      <td>23293962</td>\n",
       "      <td>Gene</td>\n",
       "      <td>1248</td>\n",
       "      <td>1260</td>\n",
       "      <td>matriptase-2</td>\n",
       "      <td>(Gene|matriptase-2, 1248, 1260)</td>\n",
       "    </tr>\n",
       "  </tbody>\n",
       "</table>\n",
       "</div>"
      ],
      "text/plain": [
       "         doc_id EntityType start  stop    EntityText  \\\n",
       "49580  23293962       Gene  1097  1109  matriptase-2   \n",
       "49581  23293962       Gene  1135  1138           HJV   \n",
       "49582  23293962       Gene  1140  1152  haemojuvelin   \n",
       "49583  23293962       Gene  1223  1228         HAI-2   \n",
       "49584  23293962       Gene  1248  1260  matriptase-2   \n",
       "\n",
       "                                   tup  \n",
       "49580  (Gene|matriptase-2, 1097, 1109)  \n",
       "49581           (Gene|HJV, 1135, 1138)  \n",
       "49582  (Gene|haemojuvelin, 1140, 1152)  \n",
       "49583         (Gene|HAI-2, 1223, 1228)  \n",
       "49584  (Gene|matriptase-2, 1248, 1260)  "
      ]
     },
     "execution_count": 11,
     "metadata": {},
     "output_type": "execute_result"
    }
   ],
   "source": [
    "entities.tail()"
   ]
  },
  {
   "cell_type": "code",
   "execution_count": null,
   "metadata": {},
   "outputs": [],
   "source": []
  },
  {
   "cell_type": "markdown",
   "metadata": {},
   "source": [
    "### Write df to dict"
   ]
  },
  {
   "cell_type": "code",
   "execution_count": 9,
   "metadata": {},
   "outputs": [
    {
     "data": {
      "text/plain": [
       "{(u'Chemical|Hydroxy', u'0', u'7'),\n",
       " (u'Chemical|carbonyl di-imidazole', u'1180', u'1201'),\n",
       " (u'Chemical|cholesterol', u'1624', u'1635'),\n",
       " (u'Chemical|cholesterol', u'95', u'106'),\n",
       " (u'Chemical|hydroxy', u'1032', u'1039'),\n",
       " (u'Chemical|hydroxy', u'1206', u'1213'),\n",
       " (u'Chemical|hydroxy', u'1495', u'1502'),\n",
       " (u'Chemical|hydroxy', u'1791', u'1798'),\n",
       " (u'Chemical|polyethylene glycol', u'1051', u'1070'),\n",
       " (u'Gene|I insulin-like growth factor receptor', u'1352', u'1389'),\n",
       " (u'Gene|IGF1R', u'1391', u'1396'),\n",
       " (u'Gene|IGF1R', u'1534', u'1539'),\n",
       " (u'Gene|IGF1R nanodomains', u'121', u'138')}"
      ]
     },
     "execution_count": 9,
     "metadata": {},
     "output_type": "execute_result"
    }
   ],
   "source": [
    "unary_tags[unary_tags.keys()[0]]"
   ]
  },
  {
   "cell_type": "code",
   "execution_count": 5,
   "metadata": {},
   "outputs": [],
   "source": [
    "unary_tags = entities_to_dict(entities)"
   ]
  },
  {
   "cell_type": "markdown",
   "metadata": {},
   "source": [
    "### Write to bz2 pickle"
   ]
  },
  {
   "cell_type": "code",
   "execution_count": 6,
   "metadata": {},
   "outputs": [],
   "source": [
    "import bz2\n",
    "import cPickle as pickle\n",
    "with bz2.BZ2File('/home/antonis/data/biocreative6/entities/unary_tags_leadmine_neji.pkl.bz2', 'w') as f:\n",
    "    pickle.dump(unary_tags, f)"
   ]
  },
  {
   "cell_type": "code",
   "execution_count": null,
   "metadata": {},
   "outputs": [],
   "source": []
  }
 ],
 "metadata": {
  "kernelspec": {
   "display_name": "Python [conda env:python27]",
   "language": "python",
   "name": "conda-env-python27-py"
  },
  "language_info": {
   "codemirror_mode": {
    "name": "ipython",
    "version": 2
   },
   "file_extension": ".py",
   "mimetype": "text/x-python",
   "name": "python",
   "nbconvert_exporter": "python",
   "pygments_lexer": "ipython2",
   "version": "2.7.14"
  }
 },
 "nbformat": 4,
 "nbformat_minor": 2
}
