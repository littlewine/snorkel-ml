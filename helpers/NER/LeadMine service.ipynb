{
 "cells": [
  {
   "cell_type": "code",
   "execution_count": 6,
   "metadata": {},
   "outputs": [],
   "source": [
    "import glob\n",
    "import pandas as pd"
   ]
  },
  {
   "cell_type": "code",
   "execution_count": 8,
   "metadata": {},
   "outputs": [
    {
     "data": {
      "text/html": [
       "<div>\n",
       "<style scoped>\n",
       "    .dataframe tbody tr th:only-of-type {\n",
       "        vertical-align: middle;\n",
       "    }\n",
       "\n",
       "    .dataframe tbody tr th {\n",
       "        vertical-align: top;\n",
       "    }\n",
       "\n",
       "    .dataframe thead th {\n",
       "        text-align: right;\n",
       "    }\n",
       "</style>\n",
       "<table border=\"1\" class=\"dataframe\">\n",
       "  <thead>\n",
       "    <tr style=\"text-align: right;\">\n",
       "      <th></th>\n",
       "      <th>PUI</th>\n",
       "      <th>title</th>\n",
       "      <th>text</th>\n",
       "      <th>titletext</th>\n",
       "    </tr>\n",
       "  </thead>\n",
       "  <tbody>\n",
       "    <tr>\n",
       "      <th>0</th>\n",
       "      <td>10471277</td>\n",
       "      <td>Probing the salmeterol binding site on the bet...</td>\n",
       "      <td>Salmeterol is a long-acting beta2-adrenergic r...</td>\n",
       "      <td>Probing the salmeterol binding site on the bet...</td>\n",
       "    </tr>\n",
       "    <tr>\n",
       "      <th>1</th>\n",
       "      <td>23150485</td>\n",
       "      <td>Induction of multidrug resistance transporter ...</td>\n",
       "      <td>The multidrug transporter, breast cancer resis...</td>\n",
       "      <td>Induction of multidrug resistance transporter ...</td>\n",
       "    </tr>\n",
       "    <tr>\n",
       "      <th>2</th>\n",
       "      <td>23155202</td>\n",
       "      <td>Influence of coadministration of artemether an...</td>\n",
       "      <td>Among the artemisinin-based combination therap...</td>\n",
       "      <td>Influence of coadministration of artemether an...</td>\n",
       "    </tr>\n",
       "    <tr>\n",
       "      <th>3</th>\n",
       "      <td>23477624</td>\n",
       "      <td>Safety and efficacy of polycalcium for improvi...</td>\n",
       "      <td>Polycalcium is a mixture of Polycan and calciu...</td>\n",
       "      <td>Safety and efficacy of polycalcium for improvi...</td>\n",
       "    </tr>\n",
       "    <tr>\n",
       "      <th>4</th>\n",
       "      <td>23044094</td>\n",
       "      <td>Establishment of an in vitro photoallergy test...</td>\n",
       "      <td>Differentiation between photoallergenic and ph...</td>\n",
       "      <td>Establishment of an in vitro photoallergy test...</td>\n",
       "    </tr>\n",
       "  </tbody>\n",
       "</table>\n",
       "</div>"
      ],
      "text/plain": [
       "        PUI                                              title  \\\n",
       "0  10471277  Probing the salmeterol binding site on the bet...   \n",
       "1  23150485  Induction of multidrug resistance transporter ...   \n",
       "2  23155202  Influence of coadministration of artemether an...   \n",
       "3  23477624  Safety and efficacy of polycalcium for improvi...   \n",
       "4  23044094  Establishment of an in vitro photoallergy test...   \n",
       "\n",
       "                                                text  \\\n",
       "0  Salmeterol is a long-acting beta2-adrenergic r...   \n",
       "1  The multidrug transporter, breast cancer resis...   \n",
       "2  Among the artemisinin-based combination therap...   \n",
       "3  Polycalcium is a mixture of Polycan and calciu...   \n",
       "4  Differentiation between photoallergenic and ph...   \n",
       "\n",
       "                                           titletext  \n",
       "0  Probing the salmeterol binding site on the bet...  \n",
       "1  Induction of multidrug resistance transporter ...  \n",
       "2  Influence of coadministration of artemether an...  \n",
       "3  Safety and efficacy of polycalcium for improvi...  \n",
       "4  Establishment of an in vitro photoallergy test...  "
      ]
     },
     "execution_count": 8,
     "metadata": {},
     "output_type": "execute_result"
    }
   ],
   "source": [
    "## This is the tab file that can be replace with your data file\n",
    "f=\"medscan/chemprot_sample_abstracts.tsv\"\n",
    "\n",
    "#logging.info(\"parsing {0} \".format(f))\n",
    "df = pd.read_csv(f, sep='\\t',)\n",
    "#print(df.keys())\n",
    "row, col = df.shape\n",
    "# print(df.iloc[1662]['PUI'])\n",
    "df['titletext'] = df[\"title\"].map(str) + df[\"text\"]\n",
    "df.head()\n"
   ]
  },
  {
   "cell_type": "code",
   "execution_count": 11,
   "metadata": {},
   "outputs": [],
   "source": [
    "api_output_loc = 'temp.txt'"
   ]
  },
  {
   "cell_type": "code",
   "execution_count": 9,
   "metadata": {},
   "outputs": [],
   "source": [
    "base_url = 'https://leadmine.cef-nonprod.elsevier.com/elssie/67a3be8e090f72bf5a07fc15c07f1f322b13c309/'"
   ]
  },
  {
   "cell_type": "code",
   "execution_count": 21,
   "metadata": {},
   "outputs": [
    {
     "name": "stdout",
     "output_type": "stream",
     "text": [
      "https://leadmine.cef-nonprod.elsevier.com/elssie/67a3be8e090f72bf5a07fc15c07f1f322b13c309/Induction of multidrug resistance transporter ABCG2 by prolactin in human breast cancer cells.The multidrug transporter, breast cancer resistance protein, ABCG2, is up-regulated in certain chemoresist\n"
     ]
    }
   ],
   "source": [
    "for txt in df.titletext[1:2]:\n",
    "#     print txt\n",
    "    url_submit = base_url+txt[0:200]\n",
    "    urllib.urlretrieve(url_submit, api_output_loc)\n",
    "    print url_submit"
   ]
  },
  {
   "cell_type": "code",
   "execution_count": 26,
   "metadata": {},
   "outputs": [],
   "source": [
    "import pprint, json"
   ]
  },
  {
   "cell_type": "code",
   "execution_count": null,
   "metadata": {},
   "outputs": [],
   "source": []
  },
  {
   "cell_type": "code",
   "execution_count": null,
   "metadata": {},
   "outputs": [],
   "source": [
    "json.loads()"
   ]
  },
  {
   "cell_type": "code",
   "execution_count": 28,
   "metadata": {},
   "outputs": [],
   "source": [
    "with open(api_output_loc, 'rb') as f:\n",
    "    a = json.loads(f.read())"
   ]
  },
  {
   "cell_type": "code",
   "execution_count": 29,
   "metadata": {},
   "outputs": [
    {
     "data": {
      "text/plain": [
       "{u'String': u'Induction of multidrug resistance transporter ABCG2 by prolactin in human breast cancer cells.The multidrug transporter, breast cancer resistance protein, ABCG2, is up-regulated in certain chemoresist',\n",
       " u'entities': [{u'CorrectedText': u'Infection',\n",
       "   u'CorrectionDistance': 2,\n",
       "   u'ID': u'86431896',\n",
       "   u'Offset': 0,\n",
       "   u'Text': u'Induction',\n",
       "   u'Type': u'Disease'},\n",
       "  {u'CorrectedText': u'transportin',\n",
       "   u'CorrectionDistance': 2,\n",
       "   u'ID': u'820037560',\n",
       "   u'Offset': 34,\n",
       "   u'Text': u'transporter',\n",
       "   u'Type': u'Target'},\n",
       "  {u'CorrectedText': u'transportin',\n",
       "   u'CorrectionDistance': 2,\n",
       "   u'ID': u'820086612',\n",
       "   u'Offset': 34,\n",
       "   u'Text': u'transporter',\n",
       "   u'Type': u'Target_unspecified'},\n",
       "  {u'CorrectedText': u'ABCG2',\n",
       "   u'CorrectionDistance': 0,\n",
       "   u'ID': u'821134691',\n",
       "   u'Offset': 46,\n",
       "   u'Text': u'ABCG2',\n",
       "   u'Type': u'Target_unspecified'},\n",
       "  {u'CorrectedText': u'A2BCG2',\n",
       "   u'CorrectionDistance': 1,\n",
       "   u'ID': u'821204997',\n",
       "   u'Offset': 46,\n",
       "   u'Text': u'ABCG2',\n",
       "   u'Type': u'Target_Uniprot'},\n",
       "  {u'CorrectedText': u'ABC2',\n",
       "   u'CorrectionDistance': 1,\n",
       "   u'ID': u'C1=CC(=CC=C1C(=O)N[C@@H](CSSC[C@@H](C(=O)O)NC(=O)C2=CC=C(C=C2)N=[N+]=[N-])C(=O)O)N=[N+]=[N-]',\n",
       "   u'Offset': 46,\n",
       "   u'Text': u'ABCG2',\n",
       "   u'Type': u'Compound_Dictionary'},\n",
       "  {u'CorrectedText': u'prolactin',\n",
       "   u'CorrectionDistance': 0,\n",
       "   u'ID': u'820100270',\n",
       "   u'Offset': 55,\n",
       "   u'Text': u'prolactin',\n",
       "   u'Type': u'Target'},\n",
       "  {u'CorrectedText': u'prolactin',\n",
       "   u'CorrectionDistance': 0,\n",
       "   u'ID': u'821120831',\n",
       "   u'Offset': 55,\n",
       "   u'Text': u'prolactin',\n",
       "   u'Type': u'Target_unspecified'},\n",
       "  {u'CorrectedText': u'promacetin',\n",
       "   u'CorrectionDistance': 1,\n",
       "   u'ID': u'CC(=O)[N-]S(=O)(=O)C=1C=C(C=CC1S(=O)(=O)C=2C=CC(=CC2)N)N.[Na+]',\n",
       "   u'Offset': 55,\n",
       "   u'Text': u'prolactin',\n",
       "   u'Type': u'Compound_Dictionary'},\n",
       "  {u'CorrectedText': u'protactin',\n",
       "   u'CorrectionDistance': 1,\n",
       "   u'ID': u'CC1CC[C@H](N1C(=O)[C@@H](C(=C)C)NC(=O)[C@H]([C@@H](C)O)NC(=O)C2=C(C(=C(C=C2)C)O)N)C(=O)N(C)CC(=O)N(C)[C@H](C=O)C(C)C',\n",
       "   u'Offset': 55,\n",
       "   u'Text': u'prolactin',\n",
       "   u'Type': u'Compound_Dictionary'},\n",
       "  {u'CorrectedText': u'humanin',\n",
       "   u'CorrectionDistance': 2,\n",
       "   u'ID': u'820018408',\n",
       "   u'Offset': 68,\n",
       "   u'Text': u'human',\n",
       "   u'Type': u'Target'},\n",
       "  {u'CorrectedText': u'humanin',\n",
       "   u'CorrectionDistance': 2,\n",
       "   u'ID': u'820018408',\n",
       "   u'Offset': 68,\n",
       "   u'Text': u'human',\n",
       "   u'Type': u'Target_unspecified'},\n",
       "  {u'CorrectedText': u'breast cancer',\n",
       "   u'CorrectionDistance': 0,\n",
       "   u'ID': u'86362843',\n",
       "   u'Offset': 74,\n",
       "   u'Text': u'breast cancer',\n",
       "   u'Type': u'Disease'},\n",
       "  {u'CorrectedText': u'transportin',\n",
       "   u'CorrectionDistance': 2,\n",
       "   u'ID': u'820037560',\n",
       "   u'Offset': 108,\n",
       "   u'Text': u'transporter',\n",
       "   u'Type': u'Target'},\n",
       "  {u'CorrectedText': u'transportin',\n",
       "   u'CorrectionDistance': 2,\n",
       "   u'ID': u'820086612',\n",
       "   u'Offset': 108,\n",
       "   u'Text': u'transporter',\n",
       "   u'Type': u'Target_unspecified'},\n",
       "  {u'CorrectedText': u'breast cancer resistance protein',\n",
       "   u'CorrectionDistance': 0,\n",
       "   u'ID': u'820155640',\n",
       "   u'Offset': 121,\n",
       "   u'Text': u'breast cancer resistance protein',\n",
       "   u'Type': u'Target'},\n",
       "  {u'CorrectedText': u'breast cancer resistance protein',\n",
       "   u'CorrectionDistance': 0,\n",
       "   u'ID': u'820155640',\n",
       "   u'Offset': 121,\n",
       "   u'Text': u'breast cancer resistance protein',\n",
       "   u'Type': u'Target_unspecified'},\n",
       "  {u'CorrectedText': u'breast cancer',\n",
       "   u'CorrectionDistance': 0,\n",
       "   u'ID': u'86362843',\n",
       "   u'Offset': 121,\n",
       "   u'Text': u'breast cancer',\n",
       "   u'Type': u'Disease'},\n",
       "  {u'CorrectedText': u'ABCG2',\n",
       "   u'CorrectionDistance': 0,\n",
       "   u'ID': u'821134691',\n",
       "   u'Offset': 155,\n",
       "   u'Text': u'ABCG2',\n",
       "   u'Type': u'Target_unspecified'},\n",
       "  {u'CorrectedText': u'A2BCG2',\n",
       "   u'CorrectionDistance': 1,\n",
       "   u'ID': u'821204997',\n",
       "   u'Offset': 155,\n",
       "   u'Text': u'ABCG2',\n",
       "   u'Type': u'Target_Uniprot'},\n",
       "  {u'CorrectedText': u'ABC2',\n",
       "   u'CorrectionDistance': 1,\n",
       "   u'ID': u'C1=CC(=CC=C1C(=O)N[C@@H](CSSC[C@@H](C(=O)O)NC(=O)C2=CC=C(C=C2)N=[N+]=[N-])C(=O)O)N=[N+]=[N-]',\n",
       "   u'Offset': 155,\n",
       "   u'Text': u'ABCG2',\n",
       "   u'Type': u'Compound_Dictionary'},\n",
       "  {u'CorrectedText': u'regulaten',\n",
       "   u'CorrectionDistance': 1,\n",
       "   u'ID': u'CCCCC1=NC=C(N1CC2=CC=C(C=C2)C(=O)O)/C=C(\\\\CC3=CC=CS3)/C(=O)O.CS(=O)(=O)O',\n",
       "   u'Offset': 168,\n",
       "   u'Text': u'regulated',\n",
       "   u'Type': u'Compound_Dictionary'},\n",
       "  {u'CorrectedText': u'regumate',\n",
       "   u'CorrectionDistance': 2,\n",
       "   u'ID': u'CC(=O)[C@H]1CC[C@@H]2[C@@]1(CC[C@H]3[C@H]2CCC4=CC(=O)CC[C@]34C)C',\n",
       "   u'Offset': 168,\n",
       "   u'Text': u'regulated',\n",
       "   u'Type': u'Compound_Dictionary'}]}"
      ]
     },
     "execution_count": 29,
     "metadata": {},
     "output_type": "execute_result"
    }
   ],
   "source": [
    "a"
   ]
  },
  {
   "cell_type": "code",
   "execution_count": null,
   "metadata": {},
   "outputs": [],
   "source": [
    "urllib.urlretrieve(url_Submit, api_output_loc)"
   ]
  },
  {
   "cell_type": "code",
   "execution_count": null,
   "metadata": {},
   "outputs": [],
   "source": []
  }
 ],
 "metadata": {
  "kernelspec": {
   "display_name": "Python [conda env:python27]",
   "language": "python",
   "name": "conda-env-python27-py"
  },
  "language_info": {
   "codemirror_mode": {
    "name": "ipython",
    "version": 2
   },
   "file_extension": ".py",
   "mimetype": "text/x-python",
   "name": "python",
   "nbconvert_exporter": "python",
   "pygments_lexer": "ipython2",
   "version": "2.7.14"
  }
 },
 "nbformat": 4,
 "nbformat_minor": 2
}
