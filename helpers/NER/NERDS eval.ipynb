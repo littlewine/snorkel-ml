{
 "cells": [
  {
   "cell_type": "code",
   "execution_count": 1,
   "metadata": {},
   "outputs": [],
   "source": [
    "from nerds.core.model.input.brat import BratInput\n",
    "from nerds.core.model.eval.score import calculate_precision_recall_f1score\n"
   ]
  },
  {
   "cell_type": "code",
   "execution_count": null,
   "metadata": {},
   "outputs": [],
   "source": []
  },
  {
   "cell_type": "code",
   "execution_count": 9,
   "metadata": {},
   "outputs": [],
   "source": [
    "\n",
    "split_types = [\n",
    "               'test_gs',\n",
    "                'development', \n",
    "               'training'\n",
    "              ]\n"
   ]
  },
  {
   "cell_type": "code",
   "execution_count": 10,
   "metadata": {},
   "outputs": [
    {
     "name": "stdout",
     "output_type": "stream",
     "text": [
      "Scores on test_gs set (P, R, F1)  [800 vs 800 docs]\n",
      "(0.7277703802337624, 0.49121230277611344, 0.5865378882728194)\n",
      "Scores on development set (P, R, F1)  [612 vs 612 docs]\n",
      "(0.7236764416453454, 0.48618273172021687, 0.5816197405884215)\n",
      "Scores on training set (P, R, F1)  [1020 vs 1020 docs]\n",
      "(0.7145945945945946, 0.46743144495953487, 0.5651719551586548)\n"
     ]
    }
   ],
   "source": [
    "for split_type in split_types:\n",
    "#     # LEADMINE vs GOLDSET (CHEMICAL):\n",
    "#     gs_path = '/home/antonis/data/biocreative6/goldset_copy/%s/'%split_type\n",
    "#     eval_path = '/home/antonis/data/biocreative6/leadmine/%s/'%split_type\n",
    "    \n",
    "    #tmTools vs GOLDSET (Chemical / Gene):\n",
    "    gs_path = '/home/antonis/data/biocreative6/goldset/%s/'%split_type\n",
    "    eval_path = '/home/antonis/data/biocreative6/neji/%s/'%split_type\n",
    "    goldset = BratInput(gs_path).transform()\n",
    "    ner = BratInput(eval_path).transform()\n",
    "    print(\"Scores on %s set (P, R, F1)  [%i vs %i docs]\"%(split_type, len(ner), len(goldset)))\n",
    "    print(calculate_precision_recall_f1score(ner,goldset,entity_label='Gene'))"
   ]
  },
  {
   "cell_type": "code",
   "execution_count": null,
   "metadata": {},
   "outputs": [],
   "source": []
  },
  {
   "cell_type": "code",
   "execution_count": null,
   "metadata": {},
   "outputs": [],
   "source": []
  }
 ],
 "metadata": {
  "kernelspec": {
   "display_name": "Python [conda env:python36]",
   "language": "python",
   "name": "conda-env-python36-py"
  },
  "language_info": {
   "codemirror_mode": {
    "name": "ipython",
    "version": 3
   },
   "file_extension": ".py",
   "mimetype": "text/x-python",
   "name": "python",
   "nbconvert_exporter": "python",
   "pygments_lexer": "ipython3",
   "version": "3.6.5"
  }
 },
 "nbformat": 4,
 "nbformat_minor": 2
}
