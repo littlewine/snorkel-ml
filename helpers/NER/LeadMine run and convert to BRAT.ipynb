{
 "cells": [
  {
   "cell_type": "code",
   "execution_count": 1,
   "metadata": {},
   "outputs": [],
   "source": [
    "import os\n",
    "import subprocess\n",
    "import pandas as pd"
   ]
  },
  {
   "cell_type": "code",
   "execution_count": 13,
   "metadata": {},
   "outputs": [],
   "source": [
    "leadmine_jar_path = '/home/antonis/LeadMine/leadmine-3.11.jar'\n",
    "docs_path = '/home/antonis/data/biocreative6/ChemProt_Corpus/chemprot_development/'\n",
    "leadmine_output_path = '/home/antonis/data/biocreative6/ChemProt_Corpus/NER/LeadMine/chemprot_training_corpus.tsv'"
   ]
  },
  {
   "cell_type": "markdown",
   "metadata": {},
   "source": [
    "## Run Leadmine"
   ]
  },
  {
   "cell_type": "code",
   "execution_count": 14,
   "metadata": {},
   "outputs": [],
   "source": [
    "with open(leadmine_output_path, 'wb') as f:\n",
    "    subprocess.call(['java', '-jar', leadmine_jar_path, '-tsv', docs_path, ' > ', leadmine_output_path], stdout=f)"
   ]
  },
  {
   "cell_type": "code",
   "execution_count": null,
   "metadata": {},
   "outputs": [],
   "source": []
  },
  {
   "cell_type": "markdown",
   "metadata": {},
   "source": [
    "### Converting to appropriate format for ann_writer:\n",
    "####     df('nr','type_start_stop','name')"
   ]
  },
  {
   "cell_type": "code",
   "execution_count": 15,
   "metadata": {},
   "outputs": [],
   "source": [
    "entities = pd.read_table(leadmine_output_path)"
   ]
  },
  {
   "cell_type": "code",
   "execution_count": 16,
   "metadata": {},
   "outputs": [],
   "source": [
    "entities = entities.rename(columns={\n",
    "    'DocName': 'doc_id',\n",
    "    'BegIndex': 'start',\n",
    "    'EndIndex': 'stop',\n",
    "    'EntityText': 'name'\n",
    "})"
   ]
  },
  {
   "cell_type": "code",
   "execution_count": 17,
   "metadata": {},
   "outputs": [],
   "source": [
    "entities['type_start_stop'] = map(lambda y,z: \"CHEMICAL %s %s\"%(y,z), entities.start, entities.stop)"
   ]
  },
  {
   "cell_type": "code",
   "execution_count": 24,
   "metadata": {},
   "outputs": [],
   "source": [
    "entities['nr'] = map(lambda x: \"T%i\"%x,entities.index)"
   ]
  },
  {
   "cell_type": "code",
   "execution_count": 25,
   "metadata": {},
   "outputs": [
    {
     "data": {
      "text/html": [
       "<div>\n",
       "<style scoped>\n",
       "    .dataframe tbody tr th:only-of-type {\n",
       "        vertical-align: middle;\n",
       "    }\n",
       "\n",
       "    .dataframe tbody tr th {\n",
       "        vertical-align: top;\n",
       "    }\n",
       "\n",
       "    .dataframe thead th {\n",
       "        text-align: right;\n",
       "    }\n",
       "</style>\n",
       "<table border=\"1\" class=\"dataframe\">\n",
       "  <thead>\n",
       "    <tr style=\"text-align: right;\">\n",
       "      <th></th>\n",
       "      <th>doc_id</th>\n",
       "      <th>start</th>\n",
       "      <th>stop</th>\n",
       "      <th>SectionType</th>\n",
       "      <th>EntityType</th>\n",
       "      <th>PossiblyCorrectedText</th>\n",
       "      <th>name</th>\n",
       "      <th>CorrectionDistance</th>\n",
       "      <th>ResolvedForm</th>\n",
       "      <th>type_start_stop</th>\n",
       "      <th>nr</th>\n",
       "    </tr>\n",
       "  </thead>\n",
       "  <tbody>\n",
       "    <tr>\n",
       "      <th>0</th>\n",
       "      <td>15357957</td>\n",
       "      <td>54</td>\n",
       "      <td>66</td>\n",
       "      <td>E</td>\n",
       "      <td>D</td>\n",
       "      <td>mesoridazine</td>\n",
       "      <td>mesoridazine</td>\n",
       "      <td>0</td>\n",
       "      <td>CN1CCCCC1CCN2C=3C=CC=CC3SC4=C2C=C(C=C4)[S+](C)...</td>\n",
       "      <td>CHEMICAL 54 66</td>\n",
       "      <td>T0</td>\n",
       "    </tr>\n",
       "    <tr>\n",
       "      <th>1</th>\n",
       "      <td>15357957</td>\n",
       "      <td>108</td>\n",
       "      <td>120</td>\n",
       "      <td>E</td>\n",
       "      <td>D</td>\n",
       "      <td>mesoridazine</td>\n",
       "      <td>mesoridazine</td>\n",
       "      <td>0</td>\n",
       "      <td>CN1CCCCC1CCN2C=3C=CC=CC3SC4=C2C=C(C=C4)[S+](C)...</td>\n",
       "      <td>CHEMICAL 108 120</td>\n",
       "      <td>T1</td>\n",
       "    </tr>\n",
       "    <tr>\n",
       "      <th>2</th>\n",
       "      <td>15357957</td>\n",
       "      <td>685</td>\n",
       "      <td>694</td>\n",
       "      <td>E</td>\n",
       "      <td>G</td>\n",
       "      <td>sulfoxide</td>\n",
       "      <td>sulfoxide</td>\n",
       "      <td>0</td>\n",
       "      <td>NaN</td>\n",
       "      <td>CHEMICAL 685 694</td>\n",
       "      <td>T2</td>\n",
       "    </tr>\n",
       "    <tr>\n",
       "      <th>3</th>\n",
       "      <td>17049513</td>\n",
       "      <td>0</td>\n",
       "      <td>17</td>\n",
       "      <td>E</td>\n",
       "      <td>D</td>\n",
       "      <td>Imatinib mesylate</td>\n",
       "      <td>Imatinib mesylate</td>\n",
       "      <td>0</td>\n",
       "      <td>CC=1C=CC(=CC1NC=2N=CC=C(N2)C=3C=CC=NC3)NC(=O)C...</td>\n",
       "      <td>CHEMICAL 0 17</td>\n",
       "      <td>T3</td>\n",
       "    </tr>\n",
       "    <tr>\n",
       "      <th>4</th>\n",
       "      <td>17049513</td>\n",
       "      <td>19</td>\n",
       "      <td>26</td>\n",
       "      <td>E</td>\n",
       "      <td>D</td>\n",
       "      <td>Gleevec</td>\n",
       "      <td>Gleevec</td>\n",
       "      <td>0</td>\n",
       "      <td>CC=1C=CC(=CC1NC=2N=CC=C(N2)C=3C=CC=NC3)NC(=O)C...</td>\n",
       "      <td>CHEMICAL 19 26</td>\n",
       "      <td>T4</td>\n",
       "    </tr>\n",
       "  </tbody>\n",
       "</table>\n",
       "</div>"
      ],
      "text/plain": [
       "     doc_id  start  stop SectionType EntityType PossiblyCorrectedText  \\\n",
       "0  15357957     54    66           E          D          mesoridazine   \n",
       "1  15357957    108   120           E          D          mesoridazine   \n",
       "2  15357957    685   694           E          G             sulfoxide   \n",
       "3  17049513      0    17           E          D     Imatinib mesylate   \n",
       "4  17049513     19    26           E          D               Gleevec   \n",
       "\n",
       "                name  CorrectionDistance  \\\n",
       "0       mesoridazine                   0   \n",
       "1       mesoridazine                   0   \n",
       "2          sulfoxide                   0   \n",
       "3  Imatinib mesylate                   0   \n",
       "4            Gleevec                   0   \n",
       "\n",
       "                                        ResolvedForm   type_start_stop  nr  \n",
       "0  CN1CCCCC1CCN2C=3C=CC=CC3SC4=C2C=C(C=C4)[S+](C)...    CHEMICAL 54 66  T0  \n",
       "1  CN1CCCCC1CCN2C=3C=CC=CC3SC4=C2C=C(C=C4)[S+](C)...  CHEMICAL 108 120  T1  \n",
       "2                                                NaN  CHEMICAL 685 694  T2  \n",
       "3  CC=1C=CC(=CC1NC=2N=CC=C(N2)C=3C=CC=NC3)NC(=O)C...     CHEMICAL 0 17  T3  \n",
       "4  CC=1C=CC(=CC1NC=2N=CC=C(N2)C=3C=CC=NC3)NC(=O)C...    CHEMICAL 19 26  T4  "
      ]
     },
     "execution_count": 25,
     "metadata": {},
     "output_type": "execute_result"
    }
   ],
   "source": [
    "entities.head()"
   ]
  },
  {
   "cell_type": "code",
   "execution_count": 20,
   "metadata": {},
   "outputs": [],
   "source": [
    "from preprocessing import write_ann_file, BioC_corpus_parse"
   ]
  },
  {
   "cell_type": "code",
   "execution_count": 26,
   "metadata": {},
   "outputs": [
    {
     "name": "stdout",
     "output_type": "stream",
     "text": [
      "Successfully wrote 1017 ann files in: /home/antonis/data/biocreative6/ChemProt_Corpus/NER/LeadMine/chemprot_training\n"
     ]
    }
   ],
   "source": [
    "write_ann_file(entities,\n",
    "               save_path = '/home/antonis/data/biocreative6/ChemProt_Corpus/NER/LeadMine/chemprot_training'\n",
    "              )"
   ]
  },
  {
   "cell_type": "code",
   "execution_count": null,
   "metadata": {},
   "outputs": [],
   "source": [
    "path_abstracts = '/home/antonis/data/biocreative6/ChemProt_Corpus/NER/LeadMine/'\n",
    "BioC_corpus_parse(path_abstracts,save_path )"
   ]
  },
  {
   "cell_type": "markdown",
   "metadata": {},
   "source": [
    "## Evaluate with NERDS"
   ]
  },
  {
   "cell_type": "markdown",
   "metadata": {},
   "source": [
    "** see NERDS eval.ipynb ** "
   ]
  }
 ],
 "metadata": {
  "kernelspec": {
   "display_name": "Python [conda env:python27]",
   "language": "python",
   "name": "conda-env-python27-py"
  },
  "language_info": {
   "codemirror_mode": {
    "name": "ipython",
    "version": 2
   },
   "file_extension": ".py",
   "mimetype": "text/x-python",
   "name": "python",
   "nbconvert_exporter": "python",
   "pygments_lexer": "ipython2",
   "version": "2.7.14"
  }
 },
 "nbformat": 4,
 "nbformat_minor": 2
}
