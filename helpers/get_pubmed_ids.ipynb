{
 "cells": [
  {
   "cell_type": "code",
   "execution_count": 1,
   "metadata": {},
   "outputs": [
    {
     "data": {
      "text/plain": [
       "' \\nGet a dict from pubmed doc ids \\n(extracted from my biocr directories)\\n'"
      ]
     },
     "execution_count": 1,
     "metadata": {},
     "output_type": "execute_result"
    }
   ],
   "source": [
    "    ''' \n",
    "    Get a dict from pubmed doc ids \n",
    "    (extracted from my biocr directories)\n",
    "    '''"
   ]
  },
  {
   "cell_type": "code",
   "execution_count": 1,
   "metadata": {},
   "outputs": [],
   "source": [
    "import glob,pickle"
   ]
  },
  {
   "cell_type": "markdown",
   "metadata": {},
   "source": [
    "# Extract from directory: /biocreative6/corpus"
   ]
  },
  {
   "cell_type": "code",
   "execution_count": 10,
   "metadata": {},
   "outputs": [],
   "source": [
    "pubmed_ids = dict()\n",
    "split_types = ['development', 'test_gs', 'training' ]\n",
    "for split_type in split_types:\n",
    "\n",
    "    pubmed_ids[split_type] = map(lambda x: x.split('/')[-1].rstrip('.txt'), glob.glob('/home/antonis/data/biocreative6/corpus/%s/*.txt'%split_type))\n"
   ]
  },
  {
   "cell_type": "code",
   "execution_count": 6,
   "metadata": {},
   "outputs": [],
   "source": []
  },
  {
   "cell_type": "code",
   "execution_count": 17,
   "metadata": {},
   "outputs": [],
   "source": [
    "#save in pickle\n",
    "with open('/home/antonis/data/biocreative6/pubmed_ids.pickle', 'wb') as f:\n",
    "    pickle.dump(pubmed_ids, f)"
   ]
  },
  {
   "cell_type": "code",
   "execution_count": null,
   "metadata": {},
   "outputs": [],
   "source": []
  },
  {
   "cell_type": "markdown",
   "metadata": {},
   "source": [
    "# LOAD pubmed_ids from pickle (train, dev, test)"
   ]
  },
  {
   "cell_type": "code",
   "execution_count": 2,
   "metadata": {},
   "outputs": [],
   "source": [
    "with open('/home/antonis/data/biocreative6/pubmed_ids.pickle', 'rb') as f:\n",
    "    pubmed_ids = pickle.load(f)"
   ]
  },
  {
   "cell_type": "code",
   "execution_count": 4,
   "metadata": {},
   "outputs": [
    {
     "name": "stdout",
     "output_type": "stream",
     "text": [
      "development 612\n",
      "training 1020\n",
      "test_gs 800\n"
     ]
    }
   ],
   "source": [
    "# get a subset\n",
    "for split_type in pubmed_ids.keys():\n",
    "    print split_type,len(pubmed_ids[split_type])"
   ]
  },
  {
   "cell_type": "code",
   "execution_count": null,
   "metadata": {},
   "outputs": [],
   "source": []
  },
  {
   "cell_type": "markdown",
   "metadata": {},
   "source": [
    "### Get CHEMDNER corpus pubmed ids"
   ]
  },
  {
   "cell_type": "code",
   "execution_count": 4,
   "metadata": {},
   "outputs": [],
   "source": [
    "import pandas as pd"
   ]
  },
  {
   "cell_type": "code",
   "execution_count": 5,
   "metadata": {},
   "outputs": [],
   "source": [
    "chemdner_silver = pd.read_table('/home/antonis/data/chemdner/silver.abstracts.txt',names = ['pubmed_id', 'title', 'abstract'])\n",
    "#typecast to str\n",
    "chemdner_silver['pubmed_id'] = map(lambda x: str(x) , chemdner_silver['pubmed_id'])"
   ]
  },
  {
   "cell_type": "code",
   "execution_count": 11,
   "metadata": {},
   "outputs": [],
   "source": [
    "# add them into previous dict\n",
    "pubmed_ids['chemdner_silver'] = list(chemdner_silver.pubmed_id)"
   ]
  },
  {
   "cell_type": "code",
   "execution_count": 12,
   "metadata": {},
   "outputs": [],
   "source": [
    "with open('/home/antonis/data/biocreative6/pubmed_ids_extended.pickle', 'wb') as f:\n",
    "    pickle.dump(pubmed_ids, f)"
   ]
  },
  {
   "cell_type": "code",
   "execution_count": null,
   "metadata": {},
   "outputs": [],
   "source": []
  },
  {
   "cell_type": "markdown",
   "metadata": {},
   "source": [
    "# Split dev set to validation and add the rest on the training set\n",
    "From pubmed_ids with chemdner, outgoing, incoming citations"
   ]
  },
  {
   "cell_type": "code",
   "execution_count": 5,
   "metadata": {},
   "outputs": [],
   "source": [
    "with open('/home/antonis/data/biocreative6/pubmed_ids_citations.pickle', 'rb') as f:\n",
    "    pubmed_ids = pickle.load(f)"
   ]
  },
  {
   "cell_type": "code",
   "execution_count": 6,
   "metadata": {},
   "outputs": [],
   "source": [
    "import random"
   ]
  },
  {
   "cell_type": "code",
   "execution_count": 11,
   "metadata": {},
   "outputs": [
    {
     "name": "stdout",
     "output_type": "stream",
     "text": [
      "306 306\n"
     ]
    }
   ],
   "source": [
    "dev_ids= set(pubmed_ids['development'])\n",
    "dev_ids1 = set(random.sample(dev_ids, len(dev_ids)/2))\n",
    "dev_ids2 = dev_ids.difference(dev_ids1)\n",
    "print len(dev_ids1), len(dev_ids2)"
   ]
  },
  {
   "cell_type": "code",
   "execution_count": 12,
   "metadata": {},
   "outputs": [],
   "source": [
    "pubmed_ids1 = dict()\n",
    "pubmed_ids1['train'] = pubmed_ids['training'] + list(dev_ids1)\n",
    "pubmed_ids1['validation'] = list(dev_ids2)\n",
    "pubmed_ids1['test_gs'] = pubmed_ids['test_gs']\n",
    "pubmed_ids1['incoming_citations'] = pubmed_ids['incoming_citations']\n",
    "pubmed_ids1['outgoing_citations'] = pubmed_ids['outgoing_citations']"
   ]
  },
  {
   "cell_type": "code",
   "execution_count": 13,
   "metadata": {},
   "outputs": [
    {
     "name": "stdout",
     "output_type": "stream",
     "text": [
      "incoming_citations 27546\n",
      "outgoing_citations 22251\n",
      "train 1326\n",
      "test_gs 800\n",
      "validation 306\n"
     ]
    }
   ],
   "source": [
    "for key in pubmed_ids1.keys():\n",
    "    print key, len(pubmed_ids1[key])"
   ]
  },
  {
   "cell_type": "code",
   "execution_count": 14,
   "metadata": {},
   "outputs": [],
   "source": [
    "#### # CAUTION: Do not rerun this block\n",
    "\n",
    "#### with open('/home/antonis/data/biocreative6/pubmed_ids_citations_validation.pickle', 'wb') as f:\n",
    "####     pickle.dump(pubmed_ids1, f)\n",
    "    "
   ]
  },
  {
   "cell_type": "code",
   "execution_count": null,
   "metadata": {},
   "outputs": [],
   "source": []
  }
 ],
 "metadata": {
  "kernelspec": {
   "display_name": "Python [conda env:python27]",
   "language": "python",
   "name": "conda-env-python27-py"
  },
  "language_info": {
   "codemirror_mode": {
    "name": "ipython",
    "version": 2
   },
   "file_extension": ".py",
   "mimetype": "text/x-python",
   "name": "python",
   "nbconvert_exporter": "python",
   "pygments_lexer": "ipython2",
   "version": "2.7.14"
  }
 },
 "nbformat": 4,
 "nbformat_minor": 2
}
