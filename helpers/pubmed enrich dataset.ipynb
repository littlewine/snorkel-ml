{
 "cells": [
  {
   "cell_type": "markdown",
   "metadata": {},
   "source": [
    "# Part I: Get a list of pubmed ids to add in the unlabeled set"
   ]
  },
  {
   "cell_type": "code",
   "execution_count": 1,
   "metadata": {},
   "outputs": [],
   "source": [
    "%load_ext autoreload\n",
    "%autoreload 2\n",
    "%matplotlib inline"
   ]
  },
  {
   "cell_type": "code",
   "execution_count": 2,
   "metadata": {},
   "outputs": [],
   "source": [
    "import pandas as pd"
   ]
  },
  {
   "cell_type": "code",
   "execution_count": 3,
   "metadata": {},
   "outputs": [],
   "source": [
    "import sys , os \n",
    "import urllib, pickle"
   ]
  },
  {
   "cell_type": "code",
   "execution_count": 4,
   "metadata": {
    "scrolled": true
   },
   "outputs": [],
   "source": [
    "from pubmed_utils import get_pubmed_citations,get_pubmed_similar_docs"
   ]
  },
  {
   "cell_type": "code",
   "execution_count": 5,
   "metadata": {},
   "outputs": [],
   "source": [
    "# LOAD from pickle\n",
    "with open('../my-code/pickles/pubmed_ids_validation.pickle', 'rb') as f:\n",
    "    pubmed_ids = pickle.load(f)"
   ]
  },
  {
   "cell_type": "code",
   "execution_count": null,
   "metadata": {},
   "outputs": [],
   "source": []
  },
  {
   "cell_type": "code",
   "execution_count": 6,
   "metadata": {},
   "outputs": [
    {
     "name": "stdout",
     "output_type": "stream",
     "text": [
      "Will search for similar documents/citations from 1632 PubMed articles\n"
     ]
    }
   ],
   "source": [
    "#define from which ids to take citations/similar articles from\n",
    "ids = pubmed_ids['validation']+pubmed_ids['train']\n",
    "print 'Will search for similar documents/citations from %i PubMed articles'%len(ids)"
   ]
  },
  {
   "cell_type": "code",
   "execution_count": null,
   "metadata": {},
   "outputs": [],
   "source": []
  },
  {
   "cell_type": "code",
   "execution_count": null,
   "metadata": {},
   "outputs": [],
   "source": [
    "# Explore MESH terms, MESH"
   ]
  },
  {
   "cell_type": "code",
   "execution_count": null,
   "metadata": {},
   "outputs": [],
   "source": []
  },
  {
   "cell_type": "code",
   "execution_count": null,
   "metadata": {},
   "outputs": [],
   "source": [
    "\n",
    "Entrez.email = \"amkrasakis@gmail.com\"\n",
    "\n",
    "similar_ids = {}\n",
    "\n",
    "for i,primary_id in enumerate(ids):\n",
    "    handle = Entrez.elink(db=\"pubmed\", id=primary_id, cmd=\"neighbor_score\", rettype=\"xml\")\n",
    "    records = Entrez.read(handle)\n",
    "\n",
    "    scores = sorted(records[0]['LinkSetDb'][0]['Link'], key=lambda k: int(k['Score']), reverse=True)\n",
    "    ids = list(map(lambda x: x['Id'],scores[:top_n]))\n",
    "    scores = list(map(lambda x: int(x['Score']),scores[:top_n]))\n",
    "    similar_ids.update(dict(zip(ids,scores)))\n",
    "\n",
    "#     similar_ids.extend(map(lambda x: x['Id'],scores[:top_n]))\n",
    "\n",
    "    time.sleep(.34) # do not send more than 3 requests/sec\n",
    "    if i%100==0:\n",
    "        print 'Getting %i most similar docs to doc %i...'%(top_n, i)\n",
    "\n",
    "#     return similar_ids"
   ]
  },
  {
   "cell_type": "code",
   "execution_count": null,
   "metadata": {},
   "outputs": [],
   "source": []
  },
  {
   "cell_type": "markdown",
   "metadata": {},
   "source": [
    "## Get also score"
   ]
  },
  {
   "cell_type": "code",
   "execution_count": 6,
   "metadata": {},
   "outputs": [
    {
     "name": "stdout",
     "output_type": "stream",
     "text": [
      "Getting 25 most similar docs to doc 0...\n",
      "Getting 25 most similar docs to doc 100...\n",
      "Getting 25 most similar docs to doc 200...\n",
      "Getting 25 most similar docs to doc 300...\n",
      "Getting 25 most similar docs to doc 400...\n",
      "Getting 25 most similar docs to doc 500...\n",
      "Getting 25 most similar docs to doc 600...\n",
      "Getting 25 most similar docs to doc 700...\n",
      "Getting 25 most similar docs to doc 800...\n",
      "Getting 25 most similar docs to doc 900...\n",
      "Getting 25 most similar docs to doc 1000...\n",
      "Getting 25 most similar docs to doc 1100...\n",
      "Getting 25 most similar docs to doc 1200...\n",
      "Getting 25 most similar docs to doc 1300...\n",
      "Getting 25 most similar docs to doc 1400...\n",
      "Getting 25 most similar docs to doc 1500...\n",
      "Getting 25 most similar docs to doc 1600...\n"
     ]
    }
   ],
   "source": [
    "similar_dict = get_pubmed_similar_docs(ids,top_n=25)"
   ]
  },
  {
   "cell_type": "code",
   "execution_count": 31,
   "metadata": {},
   "outputs": [],
   "source": [
    "# # write in pickle\n",
    "# with open('/home/antonis/data/biocreative6/pubmed_ids_25similar_scores.pickle', 'wb') as f:\n",
    "#     pickle.dump(similar_dict,f)"
   ]
  },
  {
   "cell_type": "code",
   "execution_count": 10,
   "metadata": {},
   "outputs": [
    {
     "data": {
      "text/plain": [
       "<matplotlib.axes._subplots.AxesSubplot at 0x7f0ffd3be1d0>"
      ]
     },
     "execution_count": 10,
     "metadata": {},
     "output_type": "execute_result"
    },
    {
     "data": {
      "image/png": "[encoded data removed]",
      "text/plain": [
       "<Figure size 432x288 with 1 Axes>"
      ]
     },
     "metadata": {},
     "output_type": "display_data"
    }
   ],
   "source": [
    "pd.Series(similar_dict.values()).hist(bins=20)"
   ]
  },
  {
   "cell_type": "code",
   "execution_count": 11,
   "metadata": {},
   "outputs": [],
   "source": [
    "scores_ser = pd.Series(similar_dict.values())"
   ]
  },
  {
   "cell_type": "code",
   "execution_count": 23,
   "metadata": {},
   "outputs": [
    {
     "data": {
      "text/plain": [
       "<matplotlib.axes._subplots.AxesSubplot at 0x7f1002aa65d0>"
      ]
     },
     "execution_count": 23,
     "metadata": {},
     "output_type": "execute_result"
    },
    {
     "data": {
      "image/png": "[encoded data removed]",
      "text/plain": [
       "<Figure size 432x288 with 1 Axes>"
      ]
     },
     "metadata": {},
     "output_type": "display_data"
    }
   ],
   "source": [
    "scores_ser[scores_ser<8e7].hist()"
   ]
  },
  {
   "cell_type": "code",
   "execution_count": 29,
   "metadata": {},
   "outputs": [
    {
     "data": {
      "text/plain": [
       "True     32891\n",
       "False     5650\n",
       "dtype: int64"
      ]
     },
     "execution_count": 29,
     "metadata": {},
     "output_type": "execute_result"
    }
   ],
   "source": [
    "(scores_ser<5e7).value_counts()"
   ]
  },
  {
   "cell_type": "code",
   "execution_count": 30,
   "metadata": {},
   "outputs": [
    {
     "data": {
      "text/plain": [
       "'22989703'"
      ]
     },
     "execution_count": 30,
     "metadata": {},
     "output_type": "execute_result"
    }
   ],
   "source": [
    "ids[0]"
   ]
  },
  {
   "cell_type": "code",
   "execution_count": null,
   "metadata": {},
   "outputs": [],
   "source": []
  },
  {
   "cell_type": "code",
   "execution_count": 33,
   "metadata": {},
   "outputs": [],
   "source": [
    "# get the ids of these "
   ]
  },
  {
   "cell_type": "code",
   "execution_count": 39,
   "metadata": {},
   "outputs": [],
   "source": [
    "ids5 = list(int(k) for k, v in similar_dict.items() if v >= 5e7)"
   ]
  },
  {
   "cell_type": "code",
   "execution_count": 41,
   "metadata": {},
   "outputs": [
    {
     "data": {
      "text/plain": [
       "5650"
      ]
     },
     "execution_count": 41,
     "metadata": {},
     "output_type": "execute_result"
    }
   ],
   "source": [
    "len(ids5)"
   ]
  },
  {
   "cell_type": "code",
   "execution_count": 42,
   "metadata": {},
   "outputs": [],
   "source": [
    "# write in pickle\n",
    "with open('/home/antonis/data/biocreative6/pubmed_ids_5e7similarity.pickle', 'wb') as f:\n",
    "    pickle.dump(ids5,f)"
   ]
  },
  {
   "cell_type": "code",
   "execution_count": null,
   "metadata": {},
   "outputs": [],
   "source": []
  },
  {
   "cell_type": "markdown",
   "metadata": {},
   "source": [
    "## Get ids of *similar abstracts*"
   ]
  },
  {
   "cell_type": "code",
   "execution_count": 5,
   "metadata": {},
   "outputs": [
    {
     "name": "stdout",
     "output_type": "stream",
     "text": [
      "Getting 25 most similar docs to doc 0...\n",
      "Getting 25 most similar docs to doc 100...\n",
      "Getting 25 most similar docs to doc 200...\n",
      "Getting 25 most similar docs to doc 300...\n",
      "Getting 25 most similar docs to doc 400...\n",
      "Getting 25 most similar docs to doc 500...\n",
      "Getting 25 most similar docs to doc 600...\n",
      "Getting 25 most similar docs to doc 700...\n",
      "Getting 25 most similar docs to doc 800...\n",
      "Getting 25 most similar docs to doc 900...\n",
      "Getting 25 most similar docs to doc 1000...\n",
      "Getting 25 most similar docs to doc 1100...\n",
      "Getting 25 most similar docs to doc 1200...\n",
      "Getting 25 most similar docs to doc 1300...\n",
      "Getting 25 most similar docs to doc 1400...\n",
      "Getting 25 most similar docs to doc 1500...\n",
      "Getting 25 most similar docs to doc 1600...\n"
     ]
    }
   ],
   "source": [
    "# pubmed_ids['similar25'] = get_pubmed_similar_docs(ids,top_n=25) # old code"
   ]
  },
  {
   "cell_type": "code",
   "execution_count": null,
   "metadata": {},
   "outputs": [],
   "source": []
  },
  {
   "cell_type": "code",
   "execution_count": 6,
   "metadata": {},
   "outputs": [
    {
     "name": "stdout",
     "output_type": "stream",
     "text": [
      "# similar docs retrieved: 38541\n",
      "# similar docs without overlap with train/val: 38311\n"
     ]
    }
   ],
   "source": [
    "# delete from citations documents contained on train,dev, test set\n",
    "\n",
    "print '# similar docs retrieved:',len(pubmed_ids['similar25'])\n",
    "pubmed_ids['similar25'] = list(set(pubmed_ids['similar25']) - set(pubmed_ids['validation'] + pubmed_ids['train'] + pubmed_ids['test_gs']))\n",
    "print '# similar docs without overlap with train/val:',len(pubmed_ids['similar25'])\n"
   ]
  },
  {
   "cell_type": "code",
   "execution_count": 7,
   "metadata": {},
   "outputs": [
    {
     "data": {
      "text/plain": [
       "['incoming_citations',\n",
       " 'test_gs',\n",
       " 'outgoing_citations',\n",
       " 'train',\n",
       " 'similar25',\n",
       " 'validation']"
      ]
     },
     "execution_count": 7,
     "metadata": {},
     "output_type": "execute_result"
    }
   ],
   "source": [
    "pubmed_ids.keys()"
   ]
  },
  {
   "cell_type": "code",
   "execution_count": 8,
   "metadata": {},
   "outputs": [],
   "source": [
    "# save to pickle\n",
    "with open('/home/antonis/data/biocreative6/pubmed_ids_similar25.pickle', 'wb') as f:\n",
    "    pickle.dump(pubmed_ids, f)"
   ]
  },
  {
   "cell_type": "code",
   "execution_count": null,
   "metadata": {},
   "outputs": [],
   "source": []
  },
  {
   "cell_type": "markdown",
   "metadata": {},
   "source": [
    "## Get ids of *citations*"
   ]
  },
  {
   "cell_type": "code",
   "execution_count": null,
   "metadata": {},
   "outputs": [],
   "source": [
    "pubmed_ids['outgoing_citations'] = get_pubmed_citations(ids,outgoing = True)\n",
    "pubmed_ids['incoming_citations'] = get_pubmed_citations(ids,outgoing = False)\n"
   ]
  },
  {
   "cell_type": "code",
   "execution_count": 62,
   "metadata": {},
   "outputs": [
    {
     "data": {
      "text/plain": [
       "['development',\n",
       " 'incoming_citations',\n",
       " 'training',\n",
       " 'test_gs',\n",
       " 'outgoing_citations',\n",
       " 'chemdner_silver']"
      ]
     },
     "execution_count": 62,
     "metadata": {},
     "output_type": "execute_result"
    }
   ],
   "source": [
    "pubmed_ids.keys()"
   ]
  },
  {
   "cell_type": "markdown",
   "metadata": {},
   "source": [
    "### delete from citations documents contained on train,dev, test set"
   ]
  },
  {
   "cell_type": "code",
   "execution_count": 15,
   "metadata": {},
   "outputs": [
    {
     "name": "stdout",
     "output_type": "stream",
     "text": [
      "# outgoing_citations: 22973\n",
      "# outgoing_citations without overlap with traintestdev: 22251\n",
      "# incoming_citations: 29059\n",
      "# incoming_citations without overlap with traintestdev: 27546\n"
     ]
    }
   ],
   "source": [
    "print '# outgoing_citations:',len(pubmed_ids['outgoing_citations'])\n",
    "pubmed_ids['outgoing_citations'] = list(set(pubmed_ids['outgoing_citations']) - set(pubmed_ids['development'] + pubmed_ids['training'] + pubmed_ids['test_gs']))\n",
    "print '# outgoing_citations without overlap with train/test/dev:',len(pubmed_ids['outgoing_citations'])\n",
    "\n",
    "print '# incoming_citations:',len(pubmed_ids['incoming_citations'])\n",
    "pubmed_ids['incoming_citations'] = list(set(pubmed_ids['incoming_citations']) - set(pubmed_ids['development'] + pubmed_ids['training'] + pubmed_ids['test_gs']))\n",
    "print '# incoming_citations without overlap with train/test/dev:',len(pubmed_ids['incoming_citations'])\n"
   ]
  },
  {
   "cell_type": "code",
   "execution_count": null,
   "metadata": {},
   "outputs": [],
   "source": []
  },
  {
   "cell_type": "code",
   "execution_count": 16,
   "metadata": {},
   "outputs": [],
   "source": [
    "with open('/home/antonis/data/biocreative6/pubmed_ids_citations.pickle', 'wb') as f:\n",
    "    pickle.dump(pubmed_ids, f)"
   ]
  },
  {
   "cell_type": "code",
   "execution_count": null,
   "metadata": {},
   "outputs": [],
   "source": []
  },
  {
   "cell_type": "code",
   "execution_count": 64,
   "metadata": {},
   "outputs": [],
   "source": [
    "# Check some of the articles"
   ]
  },
  {
   "cell_type": "code",
   "execution_count": 65,
   "metadata": {},
   "outputs": [],
   "source": [
    "# import random\n",
    "# # get article link\n",
    "# print 'https://www.ncbi.nlm.nih.gov/pubmed/?term='+citations[random.randint(0,len(citations))]\n",
    "# # get article entities\n",
    "# print \"https://www.ncbi.nlm.nih.gov/CBBresearch/Lu/Demo/RESTful/tmTool.cgi/Bioconcept/%s/PubTator/\"%citations[random.randint(0,len(citations))]\n"
   ]
  },
  {
   "cell_type": "code",
   "execution_count": null,
   "metadata": {},
   "outputs": [],
   "source": []
  },
  {
   "cell_type": "markdown",
   "metadata": {},
   "source": [
    "# Part II: Parse selected abstract + their NER tags"
   ]
  },
  {
   "cell_type": "code",
   "execution_count": 9,
   "metadata": {},
   "outputs": [],
   "source": [
    "import sys , os, urllib, random, time"
   ]
  },
  {
   "cell_type": "code",
   "execution_count": 10,
   "metadata": {},
   "outputs": [],
   "source": [
    "# load from pickle\n",
    "with open('/home/antonis/data/biocreative6/pubmed_ids_similar25.pickle', 'rb') as f:\n",
    "    pubmed_ids = pickle.load(f)"
   ]
  },
  {
   "cell_type": "code",
   "execution_count": 11,
   "metadata": {},
   "outputs": [
    {
     "data": {
      "text/plain": [
       "['incoming_citations',\n",
       " 'test_gs',\n",
       " 'outgoing_citations',\n",
       " 'train',\n",
       " 'similar25',\n",
       " 'validation']"
      ]
     },
     "execution_count": 11,
     "metadata": {},
     "output_type": "execute_result"
    }
   ],
   "source": [
    "pubmed_ids.keys()"
   ]
  },
  {
   "cell_type": "code",
   "execution_count": 12,
   "metadata": {},
   "outputs": [],
   "source": [
    "split_type = 'similar25'\n",
    "bioconcept = 'Bioconcept' # includes all formats (genes, chemicals, diseases...)\n",
    "api_output_loc = 'temp/NCBI_downloaded.txt'"
   ]
  },
  {
   "cell_type": "code",
   "execution_count": 14,
   "metadata": {},
   "outputs": [],
   "source": [
    "# Get only a subset for starters\n",
    "docs2retrieve = pubmed_ids[split_type] # or get a sample of it\n",
    "# docs2retrieve = [ pubmed_ids[split_type][i] for i in sorted(random.sample(xrange(len(pubmed_ids[split_type])), 10000)) ]\n"
   ]
  },
  {
   "cell_type": "code",
   "execution_count": 31,
   "metadata": {},
   "outputs": [
    {
     "name": "stdout",
     "output_type": "stream",
     "text": [
      "Will parse 38311 docs from similar25 set\n"
     ]
    }
   ],
   "source": [
    "print 'Will parse %i docs from %s set'%(len(docs2retrieve),split_type)\n",
    "format = 'PubTator'"
   ]
  },
  {
   "cell_type": "code",
   "execution_count": 25,
   "metadata": {},
   "outputs": [
    {
     "name": "stdout",
     "output_type": "stream",
     "text": [
      "Will save in  /home/antonis/data/biocreative6/NCBI_parsed/similar25\n"
     ]
    }
   ],
   "source": [
    "# set Pubtator converter options\n",
    "out_format = 'standoff'\n",
    "data_path = '/home/antonis/data/biocreative6/NCBI_parsed/'\n",
    "out_dir = os.path.join(data_path, split_type)\n",
    "print \"Will save in \", out_dir"
   ]
  },
  {
   "cell_type": "code",
   "execution_count": 17,
   "metadata": {},
   "outputs": [],
   "source": [
    "# import pubtator conversion script\n",
    "sys.path.append('/home/antonis/ipythonNotebooks/snorkel-ml/helpers/pubtator/')\n",
    "import convertpubtator\n",
    "\n",
    "class arg_options:\n",
    "    '''\n",
    "    Class to overwrite pubtators tool main argument parser.\n",
    "    '''\n",
    "    def __init__(self, files, out_dir = out_dir , out_format='standoff', ids = None, ):\n",
    "        self.ids = ids\n",
    "        self.output = out_dir\n",
    "        self.random = None\n",
    "        self.segment = False\n",
    "        self.files = files\n",
    "        self.format = out_format\n",
    "        self.no_text = False\n",
    "        self.subdirs = False\n",
    "\n",
    "# set conversion options\n",
    "options = arg_options(files = api_output_loc, ids = None, out_format= 'standoff')"
   ]
  },
  {
   "cell_type": "code",
   "execution_count": 18,
   "metadata": {},
   "outputs": [],
   "source": [
    "# Start downloading"
   ]
  },
  {
   "cell_type": "code",
   "execution_count": 33,
   "metadata": {
    "scrolled": true
   },
   "outputs": [
    {
     "name": "stdout",
     "output_type": "stream",
     "text": [
      "Parsing docs 1 to 200  . . . .\n",
      "Converting from PubTator to BRAT\n"
     ]
    },
    {
     "name": "stderr",
     "output_type": "stream",
     "text": [
      "Processed 100 documents ...\n",
      "Done, processed 199 documents.\n"
     ]
    },
    {
     "name": "stdout",
     "output_type": "stream",
     "text": [
      "Parsing docs 200 to 399  . . . .\n",
      "Converting from PubTator to BRAT\n"
     ]
    },
    {
     "name": "stderr",
     "output_type": "stream",
     "text": [
      "Processed 100 documents ...\n",
      "Done, processed 199 documents.\n"
     ]
    },
    {
     "name": "stdout",
     "output_type": "stream",
     "text": [
      "Parsing docs 399 to 598  . . . .\n",
      "Converting from PubTator to BRAT\n"
     ]
    },
    {
     "name": "stderr",
     "output_type": "stream",
     "text": [
      "Processed 100 documents ...\n",
      "Done, processed 199 documents.\n"
     ]
    },
    {
     "name": "stdout",
     "output_type": "stream",
     "text": [
      "Parsing docs 598 to 797  . . . .\n",
      "Converting from PubTator to BRAT\n"
     ]
    },
    {
     "name": "stderr",
     "output_type": "stream",
     "text": [
      "Processed 100 documents ...\n",
      "Done, processed 199 documents.\n"
     ]
    },
    {
     "name": "stdout",
     "output_type": "stream",
     "text": [
      "Parsing docs 797 to 996  . . . .\n",
      "Converting from PubTator to BRAT\n"
     ]
    },
    {
     "name": "stderr",
     "output_type": "stream",
     "text": [
      "Processed 100 documents ...\n",
      "Done, processed 199 documents.\n"
     ]
    },
    {
     "name": "stdout",
     "output_type": "stream",
     "text": [
      "Parsing docs 996 to 1195  . . . .\n",
      "Converting from PubTator to BRAT\n"
     ]
    },
    {
     "name": "stderr",
     "output_type": "stream",
     "text": [
      "Processed 100 documents ...\n",
      "Done, processed 199 documents.\n"
     ]
    },
    {
     "name": "stdout",
     "output_type": "stream",
     "text": [
      "Parsing docs 1195 to 1394  . . . .\n",
      "Converting from PubTator to BRAT\n"
     ]
    },
    {
     "name": "stderr",
     "output_type": "stream",
     "text": [
      "Processed 100 documents ...\n",
      "Done, processed 199 documents.\n"
     ]
    },
    {
     "name": "stdout",
     "output_type": "stream",
     "text": [
      "Parsing docs 1394 to 1593  . . . .\n",
      "Converting from PubTator to BRAT\n"
     ]
    },
    {
     "name": "stderr",
     "output_type": "stream",
     "text": [
      "Processed 100 documents ...\n",
      "Done, processed 199 documents.\n"
     ]
    },
    {
     "name": "stdout",
     "output_type": "stream",
     "text": [
      "Parsing docs 1593 to 1792  . . . .\n",
      "Converting from PubTator to BRAT\n"
     ]
    },
    {
     "name": "stderr",
     "output_type": "stream",
     "text": [
      "Processed 100 documents ...\n",
      "Done, processed 199 documents.\n"
     ]
    },
    {
     "name": "stdout",
     "output_type": "stream",
     "text": [
      "Parsing docs 1792 to 1991  . . . .\n",
      "Converting from PubTator to BRAT\n",
      "Parsing docs 1991 to 2190  . . . .\n"
     ]
    },
    {
     "name": "stderr",
     "output_type": "stream",
     "text": [
      "Processed 100 documents ...\n",
      "Done, processed 199 documents.\n"
     ]
    },
    {
     "name": "stdout",
     "output_type": "stream",
     "text": [
      "Converting from PubTator to BRAT\n"
     ]
    },
    {
     "name": "stderr",
     "output_type": "stream",
     "text": [
      "Processed 100 documents ...\n",
      "Done, processed 199 documents.\n"
     ]
    },
    {
     "name": "stdout",
     "output_type": "stream",
     "text": [
      "Parsing docs 2190 to 2389  . . . .\n",
      "Converting from PubTator to BRAT\n"
     ]
    },
    {
     "name": "stderr",
     "output_type": "stream",
     "text": [
      "Processed 100 documents ...\n",
      "Done, processed 199 documents.\n"
     ]
    },
    {
     "name": "stdout",
     "output_type": "stream",
     "text": [
      "Parsing docs 2389 to 2588  . . . .\n",
      "Converting from PubTator to BRAT\n"
     ]
    },
    {
     "name": "stderr",
     "output_type": "stream",
     "text": [
      "Processed 100 documents ...\n",
      "Done, processed 199 documents.\n"
     ]
    },
    {
     "name": "stdout",
     "output_type": "stream",
     "text": [
      "Parsing docs 2588 to 2787  . . . .\n",
      "Converting from PubTator to BRAT\n"
     ]
    },
    {
     "name": "stderr",
     "output_type": "stream",
     "text": [
      "Processed 100 documents ...\n",
      "Done, processed 199 documents.\n"
     ]
    },
    {
     "name": "stdout",
     "output_type": "stream",
     "text": [
      "Parsing docs 2787 to 2986  . . . .\n",
      "Converting from PubTator to BRAT\n"
     ]
    },
    {
     "name": "stderr",
     "output_type": "stream",
     "text": [
      "Processed 100 documents ...\n",
      "Done, processed 199 documents.\n"
     ]
    },
    {
     "name": "stdout",
     "output_type": "stream",
     "text": [
      "Parsing docs 2986 to 3185  . . . .\n",
      "Converting from PubTator to BRAT\n"
     ]
    },
    {
     "name": "stderr",
     "output_type": "stream",
     "text": [
      "Processed 100 documents ...\n",
      "Done, processed 199 documents.\n"
     ]
    },
    {
     "name": "stdout",
     "output_type": "stream",
     "text": [
      "Parsing docs 3185 to 3384  . . . .\n",
      "Converting from PubTator to BRAT\n"
     ]
    },
    {
     "name": "stderr",
     "output_type": "stream",
     "text": [
      "Processed 100 documents ...\n",
      "Done, processed 199 documents.\n"
     ]
    },
    {
     "name": "stdout",
     "output_type": "stream",
     "text": [
      "Parsing docs 3384 to 3583  . . . .\n",
      "Converting from PubTator to BRAT\n"
     ]
    },
    {
     "name": "stderr",
     "output_type": "stream",
     "text": [
      "Processed 100 documents ...\n",
      "Done, processed 199 documents.\n"
     ]
    },
    {
     "name": "stdout",
     "output_type": "stream",
     "text": [
      "Parsing docs 3583 to 3782  . . . .\n",
      "Converting from PubTator to BRAT\n"
     ]
    },
    {
     "name": "stderr",
     "output_type": "stream",
     "text": [
      "Processed 100 documents ...\n",
      "Done, processed 199 documents.\n"
     ]
    },
    {
     "name": "stdout",
     "output_type": "stream",
     "text": [
      "Parsing docs 3782 to 3981  . . . .\n",
      "Converting from PubTator to BRAT\n",
      "Parsing docs 3981 to 4180  . . . .\n"
     ]
    },
    {
     "name": "stderr",
     "output_type": "stream",
     "text": [
      "Processed 100 documents ...\n",
      "Done, processed 199 documents.\n"
     ]
    },
    {
     "name": "stdout",
     "output_type": "stream",
     "text": [
      "Converting from PubTator to BRAT\n",
      "Parsing docs 4180 to 4379  . . . .\n"
     ]
    },
    {
     "name": "stderr",
     "output_type": "stream",
     "text": [
      "Processed 100 documents ...\n",
      "Done, processed 199 documents.\n"
     ]
    },
    {
     "name": "stdout",
     "output_type": "stream",
     "text": [
      "Converting from PubTator to BRAT\n"
     ]
    },
    {
     "name": "stderr",
     "output_type": "stream",
     "text": [
      "Processed 100 documents ...\n",
      "Done, processed 199 documents.\n"
     ]
    },
    {
     "name": "stdout",
     "output_type": "stream",
     "text": [
      "Parsing docs 4379 to 4578  . . . .\n",
      "Converting from PubTator to BRAT\n"
     ]
    },
    {
     "name": "stderr",
     "output_type": "stream",
     "text": [
      "Processed 100 documents ...\n",
      "Done, processed 199 documents.\n"
     ]
    },
    {
     "name": "stdout",
     "output_type": "stream",
     "text": [
      "Parsing docs 4578 to 4777  . . . .\n",
      "Converting from PubTator to BRAT\n"
     ]
    },
    {
     "name": "stderr",
     "output_type": "stream",
     "text": [
      "Processed 100 documents ...\n",
      "Done, processed 199 documents.\n"
     ]
    },
    {
     "name": "stdout",
     "output_type": "stream",
     "text": [
      "Parsing docs 4777 to 4976  . . . .\n",
      "Converting from PubTator to BRAT\n"
     ]
    },
    {
     "name": "stderr",
     "output_type": "stream",
     "text": [
      "Processed 100 documents ...\n",
      "Done, processed 199 documents.\n"
     ]
    },
    {
     "name": "stdout",
     "output_type": "stream",
     "text": [
      "Parsing docs 4976 to 5175  . . . .\n",
      "Converting from PubTator to BRAT\n"
     ]
    },
    {
     "name": "stderr",
     "output_type": "stream",
     "text": [
      "Processed 100 documents ...\n",
      "Done, processed 199 documents.\n"
     ]
    },
    {
     "name": "stdout",
     "output_type": "stream",
     "text": [
      "Parsing docs 5175 to 5374  . . . .\n",
      "Converting from PubTator to BRAT\n"
     ]
    },
    {
     "name": "stderr",
     "output_type": "stream",
     "text": [
      "Processed 100 documents ...\n",
      "Done, processed 199 documents.\n"
     ]
    },
    {
     "name": "stdout",
     "output_type": "stream",
     "text": [
      "Parsing docs 5374 to 5573  . . . .\n",
      "Converting from PubTator to BRAT\n"
     ]
    },
    {
     "name": "stderr",
     "output_type": "stream",
     "text": [
      "Processed 100 documents ...\n",
      "Done, processed 199 documents.\n"
     ]
    },
    {
     "name": "stdout",
     "output_type": "stream",
     "text": [
      "Parsing docs 5573 to 5772  . . . .\n",
      "Converting from PubTator to BRAT\n"
     ]
    },
    {
     "name": "stderr",
     "output_type": "stream",
     "text": [
      "Processed 100 documents ...\n",
      "Done, processed 199 documents.\n"
     ]
    },
    {
     "name": "stdout",
     "output_type": "stream",
     "text": [
      "Parsing docs 5772 to 5971  . . . .\n",
      "Converting from PubTator to BRAT\n"
     ]
    },
    {
     "name": "stderr",
     "output_type": "stream",
     "text": [
      "Processed 100 documents ...\n",
      "Done, processed 199 documents.\n"
     ]
    },
    {
     "name": "stdout",
     "output_type": "stream",
     "text": [
      "Parsing docs 5971 to 6170  . . . .\n",
      "Converting from PubTator to BRAT\n"
     ]
    },
    {
     "name": "stderr",
     "output_type": "stream",
     "text": [
      "Processed 100 documents ...\n",
      "Done, processed 199 documents.\n"
     ]
    },
    {
     "name": "stdout",
     "output_type": "stream",
     "text": [
      "Parsing docs 6170 to 6369  . . . .\n",
      "Converting from PubTator to BRAT\n"
     ]
    },
    {
     "name": "stderr",
     "output_type": "stream",
     "text": [
      "Processed 100 documents ...\n",
      "Done, processed 199 documents.\n"
     ]
    },
    {
     "name": "stdout",
     "output_type": "stream",
     "text": [
      "Parsing docs 6369 to 6568  . . . .\n",
      "Converting from PubTator to BRAT\n"
     ]
    },
    {
     "name": "stderr",
     "output_type": "stream",
     "text": [
      "Processed 100 documents ...\n",
      "Done, processed 199 documents.\n"
     ]
    },
    {
     "name": "stdout",
     "output_type": "stream",
     "text": [
      "Parsing docs 6568 to 6767  . . . .\n",
      "Converting from PubTator to BRAT\n"
     ]
    },
    {
     "name": "stderr",
     "output_type": "stream",
     "text": [
      "Processed 100 documents ...\n",
      "Done, processed 199 documents.\n"
     ]
    },
    {
     "name": "stdout",
     "output_type": "stream",
     "text": [
      "Parsing docs 6767 to 6966  . . . .\n",
      "Converting from PubTator to BRAT\n"
     ]
    },
    {
     "name": "stderr",
     "output_type": "stream",
     "text": [
      "Processed 100 documents ...\n",
      "Done, processed 199 documents.\n"
     ]
    },
    {
     "name": "stdout",
     "output_type": "stream",
     "text": [
      "Parsing docs 6966 to 7165  . . . .\n",
      "Converting from PubTator to BRAT\n"
     ]
    },
    {
     "name": "stderr",
     "output_type": "stream",
     "text": [
      "Processed 100 documents ...\n",
      "Done, processed 199 documents.\n"
     ]
    },
    {
     "name": "stdout",
     "output_type": "stream",
     "text": [
      "Parsing docs 7165 to 7364  . . . .\n",
      "Converting from PubTator to BRAT\n"
     ]
    },
    {
     "name": "stderr",
     "output_type": "stream",
     "text": [
      "Processed 100 documents ...\n",
      "Done, processed 199 documents.\n"
     ]
    },
    {
     "name": "stdout",
     "output_type": "stream",
     "text": [
      "Parsing docs 7364 to 7563  . . . .\n",
      "Converting from PubTator to BRAT\n"
     ]
    },
    {
     "name": "stderr",
     "output_type": "stream",
     "text": [
      "Processed 100 documents ...\n",
      "Done, processed 199 documents.\n"
     ]
    },
    {
     "name": "stdout",
     "output_type": "stream",
     "text": [
      "Parsing docs 7563 to 7762  . . . .\n",
      "Converting from PubTator to BRAT\n"
     ]
    },
    {
     "name": "stderr",
     "output_type": "stream",
     "text": [
      "Processed 100 documents ...\n",
      "Done, processed 199 documents.\n"
     ]
    },
    {
     "name": "stdout",
     "output_type": "stream",
     "text": [
      "Parsing docs 7762 to 7961  . . . .\n",
      "Converting from PubTator to BRAT\n"
     ]
    },
    {
     "name": "stderr",
     "output_type": "stream",
     "text": [
      "Processed 100 documents ...\n",
      "Done, processed 199 documents.\n"
     ]
    },
    {
     "name": "stdout",
     "output_type": "stream",
     "text": [
      "Parsing docs 7961 to 8160  . . . .\n",
      "Converting from PubTator to BRAT\n"
     ]
    },
    {
     "name": "stderr",
     "output_type": "stream",
     "text": [
      "Processed 100 documents ...\n",
      "Done, processed 199 documents.\n"
     ]
    },
    {
     "name": "stdout",
     "output_type": "stream",
     "text": [
      "Parsing docs 8160 to 8359  . . . .\n",
      "Converting from PubTator to BRAT\n"
     ]
    },
    {
     "name": "stderr",
     "output_type": "stream",
     "text": [
      "Processed 100 documents ...\n",
      "Done, processed 199 documents.\n"
     ]
    },
    {
     "name": "stdout",
     "output_type": "stream",
     "text": [
      "Parsing docs 8359 to 8558  . . . .\n",
      "Converting from PubTator to BRAT\n"
     ]
    },
    {
     "name": "stderr",
     "output_type": "stream",
     "text": [
      "Processed 100 documents ...\n",
      "Done, processed 199 documents.\n"
     ]
    },
    {
     "name": "stdout",
     "output_type": "stream",
     "text": [
      "Parsing docs 8558 to 8757  . . . .\n",
      "Converting from PubTator to BRAT\n"
     ]
    },
    {
     "name": "stderr",
     "output_type": "stream",
     "text": [
      "Processed 100 documents ...\n",
      "Done, processed 199 documents.\n"
     ]
    },
    {
     "name": "stdout",
     "output_type": "stream",
     "text": [
      "Parsing docs 8757 to 8956  . . . .\n",
      "Converting from PubTator to BRAT\n"
     ]
    },
    {
     "name": "stderr",
     "output_type": "stream",
     "text": [
      "Processed 100 documents ...\n",
      "Done, processed 199 documents.\n"
     ]
    },
    {
     "name": "stdout",
     "output_type": "stream",
     "text": [
      "Parsing docs 8956 to 9155  . . . .\n",
      "Converting from PubTator to BRAT\n"
     ]
    },
    {
     "name": "stderr",
     "output_type": "stream",
     "text": [
      "Processed 100 documents ...\n",
      "Done, processed 199 documents.\n"
     ]
    },
    {
     "name": "stdout",
     "output_type": "stream",
     "text": [
      "Parsing docs 9155 to 9354  . . . .\n",
      "Converting from PubTator to BRAT\n"
     ]
    },
    {
     "name": "stderr",
     "output_type": "stream",
     "text": [
      "Processed 100 documents ...\n",
      "Done, processed 199 documents.\n"
     ]
    },
    {
     "name": "stdout",
     "output_type": "stream",
     "text": [
      "Parsing docs 9354 to 9553  . . . .\n",
      "Converting from PubTator to BRAT\n"
     ]
    },
    {
     "name": "stderr",
     "output_type": "stream",
     "text": [
      "Processed 100 documents ...\n",
      "Done, processed 199 documents.\n"
     ]
    },
    {
     "name": "stdout",
     "output_type": "stream",
     "text": [
      "Parsing docs 9553 to 9752  . . . .\n",
      "Converting from PubTator to BRAT\n"
     ]
    },
    {
     "name": "stderr",
     "output_type": "stream",
     "text": [
      "Processed 100 documents ...\n",
      "Done, processed 199 documents.\n"
     ]
    },
    {
     "name": "stdout",
     "output_type": "stream",
     "text": [
      "Parsing docs 9752 to 9951  . . . .\n",
      "Converting from PubTator to BRAT\n",
      "Parsing docs 9951 to 10150  . . . .\n"
     ]
    },
    {
     "name": "stderr",
     "output_type": "stream",
     "text": [
      "Processed 100 documents ...\n",
      "Done, processed 199 documents.\n"
     ]
    },
    {
     "name": "stdout",
     "output_type": "stream",
     "text": [
      "Converting from PubTator to BRAT\n"
     ]
    },
    {
     "name": "stderr",
     "output_type": "stream",
     "text": [
      "Processed 100 documents ...\n",
      "Done, processed 199 documents.\n"
     ]
    },
    {
     "name": "stdout",
     "output_type": "stream",
     "text": [
      "Parsing docs 10150 to 10349  . . . .\n",
      "Converting from PubTator to BRAT\n"
     ]
    },
    {
     "name": "stderr",
     "output_type": "stream",
     "text": [
      "Processed 100 documents ...\n",
      "Done, processed 199 documents.\n"
     ]
    },
    {
     "name": "stdout",
     "output_type": "stream",
     "text": [
      "Parsing docs 10349 to 10548  . . . .\n",
      "Converting from PubTator to BRAT\n"
     ]
    },
    {
     "name": "stderr",
     "output_type": "stream",
     "text": [
      "Processed 100 documents ...\n",
      "Done, processed 199 documents.\n"
     ]
    },
    {
     "name": "stdout",
     "output_type": "stream",
     "text": [
      "Parsing docs 10548 to 10747  . . . .\n",
      "Converting from PubTator to BRAT\n"
     ]
    },
    {
     "name": "stderr",
     "output_type": "stream",
     "text": [
      "Processed 100 documents ...\n",
      "Done, processed 199 documents.\n"
     ]
    },
    {
     "name": "stdout",
     "output_type": "stream",
     "text": [
      "Parsing docs 10747 to 10946  . . . .\n",
      "Converting from PubTator to BRAT\n"
     ]
    },
    {
     "name": "stderr",
     "output_type": "stream",
     "text": [
      "Processed 100 documents ...\n",
      "Done, processed 199 documents.\n"
     ]
    },
    {
     "name": "stdout",
     "output_type": "stream",
     "text": [
      "Parsing docs 10946 to 11145  . . . .\n",
      "Converting from PubTator to BRAT\n"
     ]
    },
    {
     "name": "stderr",
     "output_type": "stream",
     "text": [
      "Processed 100 documents ...\n",
      "Done, processed 199 documents.\n"
     ]
    },
    {
     "name": "stdout",
     "output_type": "stream",
     "text": [
      "Parsing docs 11145 to 11344  . . . .\n",
      "Converting from PubTator to BRAT\n"
     ]
    },
    {
     "name": "stderr",
     "output_type": "stream",
     "text": [
      "Processed 100 documents ...\n",
      "Done, processed 199 documents.\n"
     ]
    },
    {
     "name": "stdout",
     "output_type": "stream",
     "text": [
      "Parsing docs 11344 to 11543  . . . .\n",
      "Converting from PubTator to BRAT\n"
     ]
    },
    {
     "name": "stderr",
     "output_type": "stream",
     "text": [
      "Processed 100 documents ...\n",
      "Done, processed 199 documents.\n"
     ]
    },
    {
     "name": "stdout",
     "output_type": "stream",
     "text": [
      "Parsing docs 11543 to 11742  . . . .\n",
      "Converting from PubTator to BRAT\n"
     ]
    },
    {
     "name": "stderr",
     "output_type": "stream",
     "text": [
      "Processed 100 documents ...\n",
      "Done, processed 199 documents.\n"
     ]
    },
    {
     "name": "stdout",
     "output_type": "stream",
     "text": [
      "Parsing docs 11742 to 11941  . . . .\n",
      "Converting from PubTator to BRAT\n"
     ]
    },
    {
     "name": "stderr",
     "output_type": "stream",
     "text": [
      "Processed 100 documents ...\n",
      "Done, processed 199 documents.\n"
     ]
    },
    {
     "name": "stdout",
     "output_type": "stream",
     "text": [
      "Parsing docs 11941 to 12140  . . . .\n",
      "Converting from PubTator to BRAT\n"
     ]
    },
    {
     "name": "stderr",
     "output_type": "stream",
     "text": [
      "Processed 100 documents ...\n",
      "Done, processed 199 documents.\n"
     ]
    },
    {
     "name": "stdout",
     "output_type": "stream",
     "text": [
      "Parsing docs 12140 to 12339  . . . .\n",
      "Converting from PubTator to BRAT\n"
     ]
    },
    {
     "name": "stderr",
     "output_type": "stream",
     "text": [
      "Processed 100 documents ...\n",
      "Done, processed 199 documents.\n"
     ]
    },
    {
     "name": "stdout",
     "output_type": "stream",
     "text": [
      "Parsing docs 12339 to 12538  . . . .\n",
      "Converting from PubTator to BRAT\n"
     ]
    },
    {
     "name": "stderr",
     "output_type": "stream",
     "text": [
      "Processed 100 documents ...\n",
      "Done, processed 199 documents.\n"
     ]
    },
    {
     "name": "stdout",
     "output_type": "stream",
     "text": [
      "Parsing docs 12538 to 12737  . . . .\n",
      "Converting from PubTator to BRAT\n"
     ]
    },
    {
     "name": "stderr",
     "output_type": "stream",
     "text": [
      "Processed 100 documents ...\n",
      "Done, processed 199 documents.\n"
     ]
    },
    {
     "name": "stdout",
     "output_type": "stream",
     "text": [
      "Parsing docs 12737 to 12936  . . . .\n",
      "Converting from PubTator to BRAT\n"
     ]
    },
    {
     "name": "stderr",
     "output_type": "stream",
     "text": [
      "Processed 100 documents ...\n",
      "Done, processed 199 documents.\n"
     ]
    },
    {
     "name": "stdout",
     "output_type": "stream",
     "text": [
      "Parsing docs 12936 to 13135  . . . .\n",
      "Converting from PubTator to BRAT\n"
     ]
    },
    {
     "name": "stderr",
     "output_type": "stream",
     "text": [
      "Processed 100 documents ...\n",
      "Done, processed 199 documents.\n"
     ]
    },
    {
     "name": "stdout",
     "output_type": "stream",
     "text": [
      "Parsing docs 13135 to 13334  . . . .\n",
      "Converting from PubTator to BRAT\n"
     ]
    },
    {
     "name": "stderr",
     "output_type": "stream",
     "text": [
      "Processed 100 documents ...\n",
      "Done, processed 199 documents.\n"
     ]
    },
    {
     "name": "stdout",
     "output_type": "stream",
     "text": [
      "Parsing docs 13334 to 13533  . . . .\n",
      "Converting from PubTator to BRAT\n"
     ]
    },
    {
     "name": "stderr",
     "output_type": "stream",
     "text": [
      "Processed 100 documents ...\n",
      "Done, processed 199 documents.\n"
     ]
    },
    {
     "name": "stdout",
     "output_type": "stream",
     "text": [
      "Parsing docs 13533 to 13732  . . . .\n",
      "Converting from PubTator to BRAT\n"
     ]
    },
    {
     "name": "stderr",
     "output_type": "stream",
     "text": [
      "Processed 100 documents ...\n",
      "Done, processed 199 documents.\n"
     ]
    },
    {
     "name": "stdout",
     "output_type": "stream",
     "text": [
      "Parsing docs 13732 to 13931  . . . .\n",
      "Converting from PubTator to BRAT\n"
     ]
    },
    {
     "name": "stderr",
     "output_type": "stream",
     "text": [
      "Processed 100 documents ...\n",
      "Done, processed 199 documents.\n"
     ]
    },
    {
     "name": "stdout",
     "output_type": "stream",
     "text": [
      "Parsing docs 13931 to 14130  . . . .\n",
      "Converting from PubTator to BRAT\n"
     ]
    },
    {
     "name": "stderr",
     "output_type": "stream",
     "text": [
      "Processed 100 documents ...\n",
      "Done, processed 199 documents.\n"
     ]
    },
    {
     "name": "stdout",
     "output_type": "stream",
     "text": [
      "Parsing docs 14130 to 14329  . . . .\n",
      "Converting from PubTator to BRAT\n"
     ]
    },
    {
     "name": "stderr",
     "output_type": "stream",
     "text": [
      "Processed 100 documents ...\n",
      "Done, processed 199 documents.\n"
     ]
    },
    {
     "name": "stdout",
     "output_type": "stream",
     "text": [
      "Parsing docs 14329 to 14528  . . . .\n",
      "Converting from PubTator to BRAT\n",
      "Parsing docs 14528 to 14727  . . . .\n"
     ]
    },
    {
     "name": "stderr",
     "output_type": "stream",
     "text": [
      "Processed 100 documents ...\n",
      "Done, processed 199 documents.\n"
     ]
    },
    {
     "name": "stdout",
     "output_type": "stream",
     "text": [
      "Converting from PubTator to BRAT\n"
     ]
    },
    {
     "name": "stderr",
     "output_type": "stream",
     "text": [
      "Processed 100 documents ...\n",
      "Done, processed 199 documents.\n"
     ]
    },
    {
     "name": "stdout",
     "output_type": "stream",
     "text": [
      "Parsing docs 14727 to 14926  . . . .\n",
      "Converting from PubTator to BRAT\n"
     ]
    },
    {
     "name": "stderr",
     "output_type": "stream",
     "text": [
      "Processed 100 documents ...\n",
      "Done, processed 199 documents.\n"
     ]
    },
    {
     "name": "stdout",
     "output_type": "stream",
     "text": [
      "Parsing docs 14926 to 15125  . . . .\n",
      "Converting from PubTator to BRAT\n"
     ]
    },
    {
     "name": "stderr",
     "output_type": "stream",
     "text": [
      "Processed 100 documents ...\n",
      "Done, processed 199 documents.\n"
     ]
    },
    {
     "name": "stdout",
     "output_type": "stream",
     "text": [
      "Parsing docs 15125 to 15324  . . . .\n",
      "Converting from PubTator to BRAT\n"
     ]
    },
    {
     "name": "stderr",
     "output_type": "stream",
     "text": [
      "Processed 100 documents ...\n",
      "Done, processed 199 documents.\n"
     ]
    },
    {
     "name": "stdout",
     "output_type": "stream",
     "text": [
      "Parsing docs 15324 to 15523  . . . .\n",
      "Converting from PubTator to BRAT\n"
     ]
    },
    {
     "name": "stderr",
     "output_type": "stream",
     "text": [
      "Processed 100 documents ...\n",
      "Done, processed 199 documents.\n"
     ]
    },
    {
     "name": "stdout",
     "output_type": "stream",
     "text": [
      "Parsing docs 15523 to 15722  . . . .\n",
      "Converting from PubTator to BRAT\n"
     ]
    },
    {
     "name": "stderr",
     "output_type": "stream",
     "text": [
      "Processed 100 documents ...\n",
      "Done, processed 199 documents.\n"
     ]
    },
    {
     "name": "stdout",
     "output_type": "stream",
     "text": [
      "Parsing docs 15722 to 15921  . . . .\n",
      "Converting from PubTator to BRAT\n"
     ]
    },
    {
     "name": "stderr",
     "output_type": "stream",
     "text": [
      "Processed 100 documents ...\n",
      "Done, processed 199 documents.\n"
     ]
    },
    {
     "name": "stdout",
     "output_type": "stream",
     "text": [
      "Parsing docs 15921 to 16120  . . . .\n",
      "Converting from PubTator to BRAT\n"
     ]
    },
    {
     "name": "stderr",
     "output_type": "stream",
     "text": [
      "Processed 100 documents ...\n",
      "Done, processed 199 documents.\n"
     ]
    },
    {
     "name": "stdout",
     "output_type": "stream",
     "text": [
      "Parsing docs 16120 to 16319  . . . .\n",
      "Converting from PubTator to BRAT\n"
     ]
    },
    {
     "name": "stderr",
     "output_type": "stream",
     "text": [
      "Processed 100 documents ...\n",
      "Done, processed 199 documents.\n"
     ]
    },
    {
     "name": "stdout",
     "output_type": "stream",
     "text": [
      "Parsing docs 16319 to 16518  . . . .\n",
      "Converting from PubTator to BRAT\n"
     ]
    },
    {
     "name": "stderr",
     "output_type": "stream",
     "text": [
      "Processed 100 documents ...\n",
      "Done, processed 199 documents.\n"
     ]
    },
    {
     "name": "stdout",
     "output_type": "stream",
     "text": [
      "Parsing docs 16518 to 16717  . . . .\n",
      "Converting from PubTator to BRAT\n"
     ]
    },
    {
     "name": "stderr",
     "output_type": "stream",
     "text": [
      "Processed 100 documents ...\n",
      "Done, processed 199 documents.\n"
     ]
    },
    {
     "name": "stdout",
     "output_type": "stream",
     "text": [
      "Parsing docs 16717 to 16916  . . . .\n",
      "Converting from PubTator to BRAT\n"
     ]
    },
    {
     "name": "stderr",
     "output_type": "stream",
     "text": [
      "Processed 100 documents ...\n",
      "Done, processed 199 documents.\n"
     ]
    },
    {
     "name": "stdout",
     "output_type": "stream",
     "text": [
      "Parsing docs 16916 to 17115  . . . .\n",
      "Converting from PubTator to BRAT\n"
     ]
    },
    {
     "name": "stderr",
     "output_type": "stream",
     "text": [
      "Processed 100 documents ...\n",
      "Done, processed 199 documents.\n"
     ]
    },
    {
     "name": "stdout",
     "output_type": "stream",
     "text": [
      "Parsing docs 17115 to 17314  . . . .\n",
      "Converting from PubTator to BRAT\n"
     ]
    },
    {
     "name": "stderr",
     "output_type": "stream",
     "text": [
      "Processed 100 documents ...\n",
      "Done, processed 199 documents.\n"
     ]
    },
    {
     "name": "stdout",
     "output_type": "stream",
     "text": [
      "Parsing docs 17314 to 17513  . . . .\n",
      "Converting from PubTator to BRAT\n"
     ]
    },
    {
     "name": "stderr",
     "output_type": "stream",
     "text": [
      "Processed 100 documents ...\n",
      "Done, processed 199 documents.\n"
     ]
    },
    {
     "name": "stdout",
     "output_type": "stream",
     "text": [
      "Parsing docs 17513 to 17712  . . . .\n",
      "Converting from PubTator to BRAT\n"
     ]
    },
    {
     "name": "stderr",
     "output_type": "stream",
     "text": [
      "Processed 100 documents ...\n",
      "Done, processed 199 documents.\n"
     ]
    },
    {
     "name": "stdout",
     "output_type": "stream",
     "text": [
      "Parsing docs 17712 to 17911  . . . .\n",
      "Converting from PubTator to BRAT\n"
     ]
    },
    {
     "name": "stderr",
     "output_type": "stream",
     "text": [
      "Processed 100 documents ...\n",
      "Done, processed 199 documents.\n"
     ]
    },
    {
     "name": "stdout",
     "output_type": "stream",
     "text": [
      "Parsing docs 17911 to 18110  . . . .\n",
      "Converting from PubTator to BRAT\n"
     ]
    },
    {
     "name": "stderr",
     "output_type": "stream",
     "text": [
      "Processed 100 documents ...\n",
      "Done, processed 199 documents.\n"
     ]
    },
    {
     "name": "stdout",
     "output_type": "stream",
     "text": [
      "Parsing docs 18110 to 18309  . . . .\n",
      "Converting from PubTator to BRAT\n"
     ]
    },
    {
     "name": "stderr",
     "output_type": "stream",
     "text": [
      "Processed 100 documents ...\n",
      "Done, processed 199 documents.\n"
     ]
    },
    {
     "name": "stdout",
     "output_type": "stream",
     "text": [
      "Parsing docs 18309 to 18508  . . . .\n",
      "Converting from PubTator to BRAT\n"
     ]
    },
    {
     "name": "stderr",
     "output_type": "stream",
     "text": [
      "Processed 100 documents ...\n",
      "Done, processed 199 documents.\n"
     ]
    },
    {
     "name": "stdout",
     "output_type": "stream",
     "text": [
      "Parsing docs 18508 to 18707  . . . .\n",
      "Converting from PubTator to BRAT\n"
     ]
    },
    {
     "name": "stderr",
     "output_type": "stream",
     "text": [
      "Processed 100 documents ...\n",
      "Done, processed 199 documents.\n"
     ]
    },
    {
     "name": "stdout",
     "output_type": "stream",
     "text": [
      "Parsing docs 18707 to 18906  . . . .\n",
      "Converting from PubTator to BRAT\n"
     ]
    },
    {
     "name": "stderr",
     "output_type": "stream",
     "text": [
      "Processed 100 documents ...\n",
      "Done, processed 199 documents.\n"
     ]
    },
    {
     "name": "stdout",
     "output_type": "stream",
     "text": [
      "Parsing docs 18906 to 19105  . . . .\n",
      "Converting from PubTator to BRAT\n"
     ]
    },
    {
     "name": "stderr",
     "output_type": "stream",
     "text": [
      "Processed 100 documents ...\n",
      "Done, processed 199 documents.\n"
     ]
    },
    {
     "name": "stdout",
     "output_type": "stream",
     "text": [
      "Parsing docs 19105 to 19304  . . . .\n",
      "Converting from PubTator to BRAT\n"
     ]
    },
    {
     "name": "stderr",
     "output_type": "stream",
     "text": [
      "Processed 100 documents ...\n",
      "Done, processed 199 documents.\n"
     ]
    },
    {
     "name": "stdout",
     "output_type": "stream",
     "text": [
      "Parsing docs 19304 to 19503  . . . .\n",
      "Converting from PubTator to BRAT\n"
     ]
    },
    {
     "name": "stderr",
     "output_type": "stream",
     "text": [
      "Processed 100 documents ...\n",
      "Done, processed 199 documents.\n"
     ]
    },
    {
     "name": "stdout",
     "output_type": "stream",
     "text": [
      "Parsing docs 19503 to 19702  . . . .\n",
      "Converting from PubTator to BRAT\n"
     ]
    },
    {
     "name": "stderr",
     "output_type": "stream",
     "text": [
      "Processed 100 documents ...\n",
      "Done, processed 199 documents.\n"
     ]
    },
    {
     "name": "stdout",
     "output_type": "stream",
     "text": [
      "Parsing docs 19702 to 19901  . . . .\n",
      "Converting from PubTator to BRAT\n"
     ]
    },
    {
     "name": "stderr",
     "output_type": "stream",
     "text": [
      "Processed 100 documents ...\n",
      "Done, processed 199 documents.\n"
     ]
    },
    {
     "name": "stdout",
     "output_type": "stream",
     "text": [
      "Parsing docs 19901 to 20100  . . . .\n",
      "Converting from PubTator to BRAT\n"
     ]
    },
    {
     "name": "stderr",
     "output_type": "stream",
     "text": [
      "Processed 100 documents ...\n",
      "Done, processed 199 documents.\n"
     ]
    },
    {
     "name": "stdout",
     "output_type": "stream",
     "text": [
      "Parsing docs 20100 to 20299  . . . .\n",
      "Converting from PubTator to BRAT\n"
     ]
    },
    {
     "name": "stderr",
     "output_type": "stream",
     "text": [
      "Processed 100 documents ...\n",
      "Done, processed 199 documents.\n"
     ]
    },
    {
     "name": "stdout",
     "output_type": "stream",
     "text": [
      "Parsing docs 20299 to 20498  . . . .\n",
      "Converting from PubTator to BRAT\n"
     ]
    },
    {
     "name": "stderr",
     "output_type": "stream",
     "text": [
      "Processed 100 documents ...\n",
      "Done, processed 199 documents.\n"
     ]
    },
    {
     "name": "stdout",
     "output_type": "stream",
     "text": [
      "Parsing docs 20498 to 20697  . . . .\n",
      "Converting from PubTator to BRAT\n"
     ]
    },
    {
     "name": "stderr",
     "output_type": "stream",
     "text": [
      "Processed 100 documents ...\n",
      "Done, processed 199 documents.\n"
     ]
    },
    {
     "name": "stdout",
     "output_type": "stream",
     "text": [
      "Parsing docs 20697 to 20896  . . . .\n",
      "Converting from PubTator to BRAT\n"
     ]
    },
    {
     "name": "stderr",
     "output_type": "stream",
     "text": [
      "Processed 100 documents ...\n",
      "Done, processed 199 documents.\n"
     ]
    },
    {
     "name": "stdout",
     "output_type": "stream",
     "text": [
      "Parsing docs 20896 to 21095  . . . .\n",
      "Converting from PubTator to BRAT\n"
     ]
    },
    {
     "name": "stderr",
     "output_type": "stream",
     "text": [
      "Processed 100 documents ...\n",
      "Done, processed 199 documents.\n"
     ]
    },
    {
     "name": "stdout",
     "output_type": "stream",
     "text": [
      "Parsing docs 21095 to 21294  . . . .\n",
      "Converting from PubTator to BRAT\n"
     ]
    },
    {
     "name": "stderr",
     "output_type": "stream",
     "text": [
      "Processed 100 documents ...\n",
      "Done, processed 199 documents.\n"
     ]
    },
    {
     "name": "stdout",
     "output_type": "stream",
     "text": [
      "Parsing docs 21294 to 21493  . . . .\n",
      "Converting from PubTator to BRAT\n"
     ]
    },
    {
     "name": "stderr",
     "output_type": "stream",
     "text": [
      "Processed 100 documents ...\n",
      "Done, processed 199 documents.\n"
     ]
    },
    {
     "name": "stdout",
     "output_type": "stream",
     "text": [
      "Parsing docs 21493 to 21692  . . . .\n",
      "Converting from PubTator to BRAT\n"
     ]
    },
    {
     "name": "stderr",
     "output_type": "stream",
     "text": [
      "Processed 100 documents ...\n",
      "Done, processed 199 documents.\n"
     ]
    },
    {
     "name": "stdout",
     "output_type": "stream",
     "text": [
      "Parsing docs 21692 to 21891  . . . .\n",
      "Converting from PubTator to BRAT\n"
     ]
    },
    {
     "name": "stderr",
     "output_type": "stream",
     "text": [
      "Processed 100 documents ...\n",
      "Done, processed 199 documents.\n"
     ]
    },
    {
     "name": "stdout",
     "output_type": "stream",
     "text": [
      "Parsing docs 21891 to 22090  . . . .\n",
      "Converting from PubTator to BRAT\n"
     ]
    },
    {
     "name": "stderr",
     "output_type": "stream",
     "text": [
      "Processed 100 documents ...\n",
      "Done, processed 199 documents.\n"
     ]
    },
    {
     "name": "stdout",
     "output_type": "stream",
     "text": [
      "Parsing docs 22090 to 22289  . . . .\n",
      "Converting from PubTator to BRAT\n"
     ]
    },
    {
     "name": "stderr",
     "output_type": "stream",
     "text": [
      "Processed 100 documents ...\n",
      "Done, processed 199 documents.\n"
     ]
    },
    {
     "name": "stdout",
     "output_type": "stream",
     "text": [
      "Parsing docs 22289 to 22488  . . . .\n",
      "Converting from PubTator to BRAT\n"
     ]
    },
    {
     "name": "stderr",
     "output_type": "stream",
     "text": [
      "Processed 100 documents ...\n",
      "Done, processed 199 documents.\n"
     ]
    },
    {
     "name": "stdout",
     "output_type": "stream",
     "text": [
      "Parsing docs 22488 to 22687  . . . .\n",
      "Converting from PubTator to BRAT\n"
     ]
    },
    {
     "name": "stderr",
     "output_type": "stream",
     "text": [
      "Processed 100 documents ...\n",
      "Done, processed 199 documents.\n"
     ]
    },
    {
     "name": "stdout",
     "output_type": "stream",
     "text": [
      "Parsing docs 22687 to 22886  . . . .\n",
      "Converting from PubTator to BRAT\n"
     ]
    },
    {
     "name": "stderr",
     "output_type": "stream",
     "text": [
      "Processed 100 documents ...\n",
      "Done, processed 199 documents.\n"
     ]
    },
    {
     "name": "stdout",
     "output_type": "stream",
     "text": [
      "Parsing docs 22886 to 23085  . . . .\n",
      "Converting from PubTator to BRAT\n"
     ]
    },
    {
     "name": "stderr",
     "output_type": "stream",
     "text": [
      "Processed 100 documents ...\n",
      "Done, processed 199 documents.\n"
     ]
    },
    {
     "name": "stdout",
     "output_type": "stream",
     "text": [
      "Parsing docs 23085 to 23284  . . . .\n",
      "Converting from PubTator to BRAT\n",
      "Parsing docs 23284 to 23483  . . . .\n"
     ]
    },
    {
     "name": "stderr",
     "output_type": "stream",
     "text": [
      "Processed 100 documents ...\n",
      "Done, processed 199 documents.\n"
     ]
    },
    {
     "name": "stdout",
     "output_type": "stream",
     "text": [
      "Converting from PubTator to BRAT\n"
     ]
    },
    {
     "name": "stderr",
     "output_type": "stream",
     "text": [
      "Processed 100 documents ...\n",
      "Done, processed 199 documents.\n"
     ]
    },
    {
     "name": "stdout",
     "output_type": "stream",
     "text": [
      "Parsing docs 23483 to 23682  . . . .\n",
      "Converting from PubTator to BRAT\n"
     ]
    },
    {
     "name": "stderr",
     "output_type": "stream",
     "text": [
      "Processed 100 documents ...\n",
      "Done, processed 199 documents.\n"
     ]
    },
    {
     "name": "stdout",
     "output_type": "stream",
     "text": [
      "Parsing docs 23682 to 23881  . . . .\n",
      "Converting from PubTator to BRAT\n",
      "Parsing docs 23881 to 24080  . . . .\n"
     ]
    },
    {
     "name": "stderr",
     "output_type": "stream",
     "text": [
      "Processed 100 documents ...\n",
      "Done, processed 199 documents.\n"
     ]
    },
    {
     "name": "stdout",
     "output_type": "stream",
     "text": [
      "Converting from PubTator to BRAT\n"
     ]
    },
    {
     "name": "stderr",
     "output_type": "stream",
     "text": [
      "Processed 100 documents ...\n",
      "Done, processed 199 documents.\n"
     ]
    },
    {
     "name": "stdout",
     "output_type": "stream",
     "text": [
      "Parsing docs 24080 to 24279  . . . .\n",
      "Converting from PubTator to BRAT\n"
     ]
    },
    {
     "name": "stderr",
     "output_type": "stream",
     "text": [
      "Processed 100 documents ...\n",
      "Done, processed 199 documents.\n"
     ]
    },
    {
     "name": "stdout",
     "output_type": "stream",
     "text": [
      "Parsing docs 24279 to 24478  . . . .\n",
      "Converting from PubTator to BRAT\n"
     ]
    },
    {
     "name": "stderr",
     "output_type": "stream",
     "text": [
      "Processed 100 documents ...\n",
      "Done, processed 199 documents.\n"
     ]
    },
    {
     "name": "stdout",
     "output_type": "stream",
     "text": [
      "Parsing docs 24478 to 24677  . . . .\n",
      "Converting from PubTator to BRAT\n"
     ]
    },
    {
     "name": "stderr",
     "output_type": "stream",
     "text": [
      "Processed 100 documents ...\n",
      "Done, processed 199 documents.\n"
     ]
    },
    {
     "name": "stdout",
     "output_type": "stream",
     "text": [
      "Parsing docs 24677 to 24876  . . . .\n",
      "Converting from PubTator to BRAT\n"
     ]
    },
    {
     "name": "stderr",
     "output_type": "stream",
     "text": [
      "Processed 100 documents ...\n",
      "Done, processed 199 documents.\n"
     ]
    },
    {
     "name": "stdout",
     "output_type": "stream",
     "text": [
      "Parsing docs 24876 to 25075  . . . .\n",
      "Converting from PubTator to BRAT\n"
     ]
    },
    {
     "name": "stderr",
     "output_type": "stream",
     "text": [
      "Processed 100 documents ...\n",
      "Done, processed 199 documents.\n"
     ]
    },
    {
     "name": "stdout",
     "output_type": "stream",
     "text": [
      "Parsing docs 25075 to 25274  . . . .\n",
      "Converting from PubTator to BRAT\n"
     ]
    },
    {
     "name": "stderr",
     "output_type": "stream",
     "text": [
      "Processed 100 documents ...\n",
      "Done, processed 199 documents.\n"
     ]
    },
    {
     "name": "stdout",
     "output_type": "stream",
     "text": [
      "Parsing docs 25274 to 25473  . . . .\n",
      "Converting from PubTator to BRAT\n"
     ]
    },
    {
     "name": "stderr",
     "output_type": "stream",
     "text": [
      "Processed 100 documents ...\n",
      "Done, processed 199 documents.\n"
     ]
    },
    {
     "name": "stdout",
     "output_type": "stream",
     "text": [
      "Parsing docs 25473 to 25672  . . . .\n",
      "Converting from PubTator to BRAT\n",
      "Parsing docs 25672 to 25871  . . . .\n"
     ]
    },
    {
     "name": "stderr",
     "output_type": "stream",
     "text": [
      "Processed 100 documents ...\n",
      "Done, processed 199 documents.\n"
     ]
    },
    {
     "name": "stdout",
     "output_type": "stream",
     "text": [
      "Converting from PubTator to BRAT\n"
     ]
    },
    {
     "name": "stderr",
     "output_type": "stream",
     "text": [
      "Processed 100 documents ...\n",
      "Done, processed 199 documents.\n"
     ]
    },
    {
     "name": "stdout",
     "output_type": "stream",
     "text": [
      "Parsing docs 25871 to 26070  . . . .\n",
      "Converting from PubTator to BRAT\n"
     ]
    },
    {
     "name": "stderr",
     "output_type": "stream",
     "text": [
      "Processed 100 documents ...\n",
      "Done, processed 199 documents.\n"
     ]
    },
    {
     "name": "stdout",
     "output_type": "stream",
     "text": [
      "Parsing docs 26070 to 26269  . . . .\n",
      "Converting from PubTator to BRAT\n",
      "Parsing docs 26269 to 26468  . . . .\n"
     ]
    },
    {
     "name": "stderr",
     "output_type": "stream",
     "text": [
      "Processed 100 documents ...\n",
      "Done, processed 199 documents.\n"
     ]
    },
    {
     "name": "stdout",
     "output_type": "stream",
     "text": [
      "Converting from PubTator to BRAT\n",
      "Parsing docs 26468 to 26667  . . . .\n"
     ]
    },
    {
     "name": "stderr",
     "output_type": "stream",
     "text": [
      "Processed 100 documents ...\n",
      "Done, processed 199 documents.\n"
     ]
    },
    {
     "name": "stdout",
     "output_type": "stream",
     "text": [
      "Converting from PubTator to BRAT\n"
     ]
    },
    {
     "name": "stderr",
     "output_type": "stream",
     "text": [
      "Processed 100 documents ...\n",
      "Done, processed 199 documents.\n"
     ]
    },
    {
     "name": "stdout",
     "output_type": "stream",
     "text": [
      "Parsing docs 26667 to 26866  . . . .\n",
      "Converting from PubTator to BRAT\n",
      "Parsing docs 26866 to 27065  . . . .\n"
     ]
    },
    {
     "name": "stderr",
     "output_type": "stream",
     "text": [
      "Processed 100 documents ...\n",
      "Done, processed 199 documents.\n"
     ]
    },
    {
     "name": "stdout",
     "output_type": "stream",
     "text": [
      "Converting from PubTator to BRAT\n"
     ]
    },
    {
     "name": "stderr",
     "output_type": "stream",
     "text": [
      "Processed 100 documents ...\n",
      "Done, processed 199 documents.\n"
     ]
    },
    {
     "name": "stdout",
     "output_type": "stream",
     "text": [
      "Parsing docs 27065 to 27264  . . . .\n",
      "Converting from PubTator to BRAT\n"
     ]
    },
    {
     "name": "stderr",
     "output_type": "stream",
     "text": [
      "Processed 100 documents ...\n",
      "Done, processed 199 documents.\n"
     ]
    },
    {
     "name": "stdout",
     "output_type": "stream",
     "text": [
      "Parsing docs 27264 to 27463  . . . .\n",
      "Converting from PubTator to BRAT\n",
      "Parsing docs 27463 to 27662  . . . .\n"
     ]
    },
    {
     "name": "stderr",
     "output_type": "stream",
     "text": [
      "Processed 100 documents ...\n",
      "Done, processed 199 documents.\n"
     ]
    },
    {
     "name": "stdout",
     "output_type": "stream",
     "text": [
      "Converting from PubTator to BRAT\n"
     ]
    },
    {
     "name": "stderr",
     "output_type": "stream",
     "text": [
      "Processed 100 documents ...\n",
      "Done, processed 199 documents.\n"
     ]
    },
    {
     "name": "stdout",
     "output_type": "stream",
     "text": [
      "Parsing docs 27662 to 27861  . . . .\n",
      "Converting from PubTator to BRAT\n"
     ]
    },
    {
     "name": "stderr",
     "output_type": "stream",
     "text": [
      "Processed 100 documents ...\n",
      "Done, processed 199 documents.\n"
     ]
    },
    {
     "name": "stdout",
     "output_type": "stream",
     "text": [
      "Parsing docs 27861 to 28060  . . . .\n",
      "Converting from PubTator to BRAT\n",
      "Parsing docs 28060 to 28259  . . . .\n"
     ]
    },
    {
     "name": "stderr",
     "output_type": "stream",
     "text": [
      "Processed 100 documents ...\n",
      "Done, processed 199 documents.\n"
     ]
    },
    {
     "name": "stdout",
     "output_type": "stream",
     "text": [
      "Converting from PubTator to BRAT\n"
     ]
    },
    {
     "name": "stderr",
     "output_type": "stream",
     "text": [
      "Processed 100 documents ...\n",
      "Done, processed 199 documents.\n"
     ]
    },
    {
     "name": "stdout",
     "output_type": "stream",
     "text": [
      "Parsing docs 28259 to 28458  . . . .\n",
      "Converting from PubTator to BRAT\n"
     ]
    },
    {
     "name": "stderr",
     "output_type": "stream",
     "text": [
      "Processed 100 documents ...\n",
      "Done, processed 199 documents.\n"
     ]
    },
    {
     "name": "stdout",
     "output_type": "stream",
     "text": [
      "Parsing docs 28458 to 28657  . . . .\n",
      "Converting from PubTator to BRAT\n"
     ]
    },
    {
     "name": "stderr",
     "output_type": "stream",
     "text": [
      "Processed 100 documents ...\n",
      "Done, processed 199 documents.\n"
     ]
    },
    {
     "name": "stdout",
     "output_type": "stream",
     "text": [
      "Parsing docs 28657 to 28856  . . . .\n",
      "Converting from PubTator to BRAT\n"
     ]
    },
    {
     "name": "stderr",
     "output_type": "stream",
     "text": [
      "Processed 100 documents ...\n",
      "Done, processed 199 documents.\n"
     ]
    },
    {
     "name": "stdout",
     "output_type": "stream",
     "text": [
      "Parsing docs 28856 to 29055  . . . .\n",
      "Converting from PubTator to BRAT\n"
     ]
    },
    {
     "name": "stderr",
     "output_type": "stream",
     "text": [
      "Processed 100 documents ...\n",
      "Done, processed 199 documents.\n"
     ]
    },
    {
     "name": "stdout",
     "output_type": "stream",
     "text": [
      "Parsing docs 29055 to 29254  . . . .\n",
      "Converting from PubTator to BRAT\n"
     ]
    },
    {
     "name": "stderr",
     "output_type": "stream",
     "text": [
      "Processed 100 documents ...\n",
      "Done, processed 199 documents.\n"
     ]
    },
    {
     "name": "stdout",
     "output_type": "stream",
     "text": [
      "Parsing docs 29254 to 29453  . . . .\n",
      "Converting from PubTator to BRAT\n"
     ]
    },
    {
     "name": "stderr",
     "output_type": "stream",
     "text": [
      "Processed 100 documents ...\n",
      "Done, processed 199 documents.\n"
     ]
    },
    {
     "name": "stdout",
     "output_type": "stream",
     "text": [
      "Parsing docs 29453 to 29652  . . . .\n",
      "Converting from PubTator to BRAT\n"
     ]
    },
    {
     "name": "stderr",
     "output_type": "stream",
     "text": [
      "Processed 100 documents ...\n",
      "Done, processed 199 documents.\n"
     ]
    },
    {
     "name": "stdout",
     "output_type": "stream",
     "text": [
      "Parsing docs 29652 to 29851  . . . .\n",
      "Converting from PubTator to BRAT\n"
     ]
    },
    {
     "name": "stderr",
     "output_type": "stream",
     "text": [
      "Processed 100 documents ...\n",
      "Done, processed 199 documents.\n"
     ]
    },
    {
     "name": "stdout",
     "output_type": "stream",
     "text": [
      "Parsing docs 29851 to 30050  . . . .\n",
      "Converting from PubTator to BRAT\n"
     ]
    },
    {
     "name": "stderr",
     "output_type": "stream",
     "text": [
      "Processed 100 documents ...\n",
      "Done, processed 199 documents.\n"
     ]
    },
    {
     "name": "stdout",
     "output_type": "stream",
     "text": [
      "Parsing docs 30050 to 30249  . . . .\n",
      "Converting from PubTator to BRAT\n",
      "Parsing docs 30249 to 30448  . . . .\n"
     ]
    },
    {
     "name": "stderr",
     "output_type": "stream",
     "text": [
      "Processed 100 documents ...\n",
      "Done, processed 199 documents.\n"
     ]
    },
    {
     "name": "stdout",
     "output_type": "stream",
     "text": [
      "Converting from PubTator to BRAT\n"
     ]
    },
    {
     "name": "stderr",
     "output_type": "stream",
     "text": [
      "Processed 100 documents ...\n",
      "Done, processed 199 documents.\n"
     ]
    },
    {
     "name": "stdout",
     "output_type": "stream",
     "text": [
      "Parsing docs 30448 to 30647  . . . .\n",
      "Converting from PubTator to BRAT\n"
     ]
    },
    {
     "name": "stderr",
     "output_type": "stream",
     "text": [
      "Processed 100 documents ...\n",
      "Done, processed 199 documents.\n"
     ]
    },
    {
     "name": "stdout",
     "output_type": "stream",
     "text": [
      "Parsing docs 30647 to 30846  . . . .\n",
      "Converting from PubTator to BRAT\n"
     ]
    },
    {
     "name": "stderr",
     "output_type": "stream",
     "text": [
      "Processed 100 documents ...\n",
      "Done, processed 199 documents.\n"
     ]
    },
    {
     "name": "stdout",
     "output_type": "stream",
     "text": [
      "Parsing docs 30846 to 31045  . . . .\n",
      "Converting from PubTator to BRAT\n"
     ]
    },
    {
     "name": "stderr",
     "output_type": "stream",
     "text": [
      "Processed 100 documents ...\n",
      "Done, processed 199 documents.\n"
     ]
    },
    {
     "name": "stdout",
     "output_type": "stream",
     "text": [
      "Parsing docs 31045 to 31244  . . . .\n",
      "Converting from PubTator to BRAT\n",
      "Parsing docs 31244 to 31443  . . . .\n"
     ]
    },
    {
     "name": "stderr",
     "output_type": "stream",
     "text": [
      "Processed 100 documents ...\n",
      "Done, processed 199 documents.\n"
     ]
    },
    {
     "name": "stdout",
     "output_type": "stream",
     "text": [
      "Converting from PubTator to BRAT\n"
     ]
    },
    {
     "name": "stderr",
     "output_type": "stream",
     "text": [
      "Processed 100 documents ...\n",
      "Done, processed 199 documents.\n"
     ]
    },
    {
     "name": "stdout",
     "output_type": "stream",
     "text": [
      "Parsing docs 31443 to 31642  . . . .\n",
      "Converting from PubTator to BRAT\n",
      "Parsing docs 31642 to 31841  . . . .\n"
     ]
    },
    {
     "name": "stderr",
     "output_type": "stream",
     "text": [
      "Processed 100 documents ...\n",
      "Done, processed 199 documents.\n"
     ]
    },
    {
     "name": "stdout",
     "output_type": "stream",
     "text": [
      "Converting from PubTator to BRAT\n",
      "Parsing docs 31841 to 32040  . . . .\n"
     ]
    },
    {
     "name": "stderr",
     "output_type": "stream",
     "text": [
      "Processed 100 documents ...\n",
      "Done, processed 199 documents.\n"
     ]
    },
    {
     "name": "stdout",
     "output_type": "stream",
     "text": [
      "Converting from PubTator to BRAT\n",
      "Parsing docs 32040 to 32239  . . . .\n"
     ]
    },
    {
     "name": "stderr",
     "output_type": "stream",
     "text": [
      "Processed 100 documents ...\n",
      "Done, processed 199 documents.\n"
     ]
    },
    {
     "name": "stdout",
     "output_type": "stream",
     "text": [
      "Converting from PubTator to BRAT\n"
     ]
    },
    {
     "name": "stderr",
     "output_type": "stream",
     "text": [
      "Processed 100 documents ...\n",
      "Done, processed 199 documents.\n"
     ]
    },
    {
     "name": "stdout",
     "output_type": "stream",
     "text": [
      "Parsing docs 32239 to 32438  . . . .\n",
      "Converting from PubTator to BRAT\n",
      "Parsing docs 32438 to 32637  . . . .\n"
     ]
    },
    {
     "name": "stderr",
     "output_type": "stream",
     "text": [
      "Processed 100 documents ...\n",
      "Done, processed 199 documents.\n"
     ]
    },
    {
     "name": "stdout",
     "output_type": "stream",
     "text": [
      "Converting from PubTator to BRAT\n"
     ]
    },
    {
     "name": "stderr",
     "output_type": "stream",
     "text": [
      "Processed 100 documents ...\n",
      "Done, processed 199 documents.\n"
     ]
    },
    {
     "name": "stdout",
     "output_type": "stream",
     "text": [
      "Parsing docs 32637 to 32836  . . . .\n",
      "Converting from PubTator to BRAT\n"
     ]
    },
    {
     "name": "stderr",
     "output_type": "stream",
     "text": [
      "Processed 100 documents ...\n",
      "Done, processed 199 documents.\n"
     ]
    },
    {
     "name": "stdout",
     "output_type": "stream",
     "text": [
      "Parsing docs 32836 to 33035  . . . .\n",
      "Converting from PubTator to BRAT\n"
     ]
    },
    {
     "name": "stderr",
     "output_type": "stream",
     "text": [
      "Processed 100 documents ...\n",
      "Done, processed 199 documents.\n"
     ]
    },
    {
     "name": "stdout",
     "output_type": "stream",
     "text": [
      "Parsing docs 33035 to 33234  . . . .\n",
      "Converting from PubTator to BRAT\n",
      "Parsing docs 33234 to 33433  . . . .\n"
     ]
    },
    {
     "name": "stderr",
     "output_type": "stream",
     "text": [
      "Processed 100 documents ...\n",
      "Done, processed 199 documents.\n"
     ]
    },
    {
     "name": "stdout",
     "output_type": "stream",
     "text": [
      "Converting from PubTator to BRAT\n",
      "Parsing docs 33433 to 33632  . . . .\n"
     ]
    },
    {
     "name": "stderr",
     "output_type": "stream",
     "text": [
      "Processed 100 documents ...\n",
      "Done, processed 199 documents.\n"
     ]
    },
    {
     "name": "stdout",
     "output_type": "stream",
     "text": [
      "Converting from PubTator to BRAT\n"
     ]
    },
    {
     "name": "stderr",
     "output_type": "stream",
     "text": [
      "Processed 100 documents ...\n",
      "Done, processed 199 documents.\n"
     ]
    },
    {
     "name": "stdout",
     "output_type": "stream",
     "text": [
      "Parsing docs 33632 to 33831  . . . .\n",
      "Converting from PubTator to BRAT\n"
     ]
    },
    {
     "name": "stderr",
     "output_type": "stream",
     "text": [
      "Processed 100 documents ...\n",
      "Done, processed 199 documents.\n"
     ]
    },
    {
     "name": "stdout",
     "output_type": "stream",
     "text": [
      "Parsing docs 33831 to 34030  . . . .\n",
      "Converting from PubTator to BRAT\n"
     ]
    },
    {
     "name": "stderr",
     "output_type": "stream",
     "text": [
      "Processed 100 documents ...\n",
      "Done, processed 199 documents.\n"
     ]
    },
    {
     "name": "stdout",
     "output_type": "stream",
     "text": [
      "Parsing docs 34030 to 34229  . . . .\n",
      "Converting from PubTator to BRAT\n"
     ]
    },
    {
     "name": "stderr",
     "output_type": "stream",
     "text": [
      "Processed 100 documents ...\n",
      "Done, processed 199 documents.\n"
     ]
    },
    {
     "name": "stdout",
     "output_type": "stream",
     "text": [
      "Parsing docs 34229 to 34428  . . . .\n",
      "Converting from PubTator to BRAT\n",
      "Parsing docs 34428 to 34627  . . . .\n"
     ]
    },
    {
     "name": "stderr",
     "output_type": "stream",
     "text": [
      "Processed 100 documents ...\n",
      "Done, processed 199 documents.\n"
     ]
    },
    {
     "name": "stdout",
     "output_type": "stream",
     "text": [
      "Converting from PubTator to BRAT\n",
      "Parsing docs 34627 to 34826  . . . .\n"
     ]
    },
    {
     "name": "stderr",
     "output_type": "stream",
     "text": [
      "Processed 100 documents ...\n",
      "Done, processed 199 documents.\n"
     ]
    },
    {
     "name": "stdout",
     "output_type": "stream",
     "text": [
      "Converting from PubTator to BRAT\n"
     ]
    },
    {
     "name": "stderr",
     "output_type": "stream",
     "text": [
      "Processed 100 documents ...\n",
      "Done, processed 199 documents.\n"
     ]
    },
    {
     "name": "stdout",
     "output_type": "stream",
     "text": [
      "Parsing docs 34826 to 35025  . . . .\n",
      "Converting from PubTator to BRAT\n"
     ]
    },
    {
     "name": "stderr",
     "output_type": "stream",
     "text": [
      "Processed 100 documents ...\n",
      "Done, processed 199 documents.\n"
     ]
    },
    {
     "name": "stdout",
     "output_type": "stream",
     "text": [
      "Parsing docs 35025 to 35224  . . . .\n",
      "Converting from PubTator to BRAT\n",
      "Parsing docs 35224 to 35423  . . . .\n"
     ]
    },
    {
     "name": "stderr",
     "output_type": "stream",
     "text": [
      "Processed 100 documents ...\n",
      "Done, processed 199 documents.\n"
     ]
    },
    {
     "name": "stdout",
     "output_type": "stream",
     "text": [
      "Converting from PubTator to BRAT\n"
     ]
    },
    {
     "name": "stderr",
     "output_type": "stream",
     "text": [
      "Processed 100 documents ...\n",
      "Done, processed 199 documents.\n"
     ]
    },
    {
     "name": "stdout",
     "output_type": "stream",
     "text": [
      "Parsing docs 35423 to 35622  . . . .\n",
      "Converting from PubTator to BRAT\n"
     ]
    },
    {
     "name": "stderr",
     "output_type": "stream",
     "text": [
      "Processed 100 documents ...\n",
      "Done, processed 199 documents.\n"
     ]
    },
    {
     "name": "stdout",
     "output_type": "stream",
     "text": [
      "Parsing docs 35622 to 35821  . . . .\n",
      "Converting from PubTator to BRAT\n"
     ]
    },
    {
     "name": "stderr",
     "output_type": "stream",
     "text": [
      "Processed 100 documents ...\n",
      "Done, processed 199 documents.\n"
     ]
    },
    {
     "name": "stdout",
     "output_type": "stream",
     "text": [
      "Parsing docs 35821 to 36020  . . . .\n",
      "Converting from PubTator to BRAT\n",
      "Parsing docs 36020 to 36219  . . . .\n"
     ]
    },
    {
     "name": "stderr",
     "output_type": "stream",
     "text": [
      "Processed 100 documents ...\n",
      "Done, processed 199 documents.\n"
     ]
    },
    {
     "name": "stdout",
     "output_type": "stream",
     "text": [
      "Converting from PubTator to BRAT\n"
     ]
    },
    {
     "name": "stderr",
     "output_type": "stream",
     "text": [
      "Processed 100 documents ...\n",
      "Done, processed 199 documents.\n"
     ]
    },
    {
     "name": "stdout",
     "output_type": "stream",
     "text": [
      "Parsing docs 36219 to 36418  . . . .\n",
      "Converting from PubTator to BRAT\n",
      "Parsing docs 36418 to 36617  . . . .\n"
     ]
    },
    {
     "name": "stderr",
     "output_type": "stream",
     "text": [
      "Processed 100 documents ...\n",
      "Done, processed 199 documents.\n"
     ]
    },
    {
     "name": "stdout",
     "output_type": "stream",
     "text": [
      "Converting from PubTator to BRAT\n"
     ]
    },
    {
     "name": "stderr",
     "output_type": "stream",
     "text": [
      "Processed 100 documents ...\n",
      "Done, processed 199 documents.\n"
     ]
    },
    {
     "name": "stdout",
     "output_type": "stream",
     "text": [
      "Parsing docs 36617 to 36816  . . . .\n",
      "Converting from PubTator to BRAT\n",
      "Parsing docs 36816 to 37015  . . . .\n"
     ]
    },
    {
     "name": "stderr",
     "output_type": "stream",
     "text": [
      "Processed 100 documents ...\n",
      "Done, processed 199 documents.\n"
     ]
    },
    {
     "name": "stdout",
     "output_type": "stream",
     "text": [
      "Converting from PubTator to BRAT\n",
      "Parsing docs 37015 to 37214  . . . .\n"
     ]
    },
    {
     "name": "stderr",
     "output_type": "stream",
     "text": [
      "Processed 100 documents ...\n",
      "Done, processed 199 documents.\n"
     ]
    },
    {
     "name": "stdout",
     "output_type": "stream",
     "text": [
      "Converting from PubTator to BRAT\n"
     ]
    },
    {
     "name": "stderr",
     "output_type": "stream",
     "text": [
      "Processed 100 documents ...\n",
      "Done, processed 199 documents.\n"
     ]
    },
    {
     "name": "stdout",
     "output_type": "stream",
     "text": [
      "Parsing docs 37214 to 37413  . . . .\n",
      "Converting from PubTator to BRAT\n"
     ]
    },
    {
     "name": "stderr",
     "output_type": "stream",
     "text": [
      "Processed 100 documents ...\n",
      "Done, processed 199 documents.\n"
     ]
    },
    {
     "name": "stdout",
     "output_type": "stream",
     "text": [
      "Parsing docs 37413 to 37612  . . . .\n",
      "Converting from PubTator to BRAT\n"
     ]
    },
    {
     "name": "stderr",
     "output_type": "stream",
     "text": [
      "Processed 100 documents ...\n",
      "Done, processed 199 documents.\n"
     ]
    },
    {
     "name": "stdout",
     "output_type": "stream",
     "text": [
      "Parsing docs 37612 to 37811  . . . .\n",
      "Converting from PubTator to BRAT\n"
     ]
    },
    {
     "name": "stderr",
     "output_type": "stream",
     "text": [
      "Processed 100 documents ...\n",
      "Done, processed 199 documents.\n"
     ]
    },
    {
     "name": "stdout",
     "output_type": "stream",
     "text": [
      "Parsing docs 37811 to 38010  . . . .\n",
      "Converting from PubTator to BRAT\n"
     ]
    },
    {
     "name": "stderr",
     "output_type": "stream",
     "text": [
      "Processed 100 documents ...\n",
      "Done, processed 199 documents.\n"
     ]
    },
    {
     "name": "stdout",
     "output_type": "stream",
     "text": [
      "Parsing docs 38010 to 38209  . . . .\n",
      "Converting from PubTator to BRAT\n"
     ]
    },
    {
     "name": "stderr",
     "output_type": "stream",
     "text": [
      "Processed 100 documents ...\n",
      "Done, processed 199 documents.\n"
     ]
    },
    {
     "name": "stdout",
     "output_type": "stream",
     "text": [
      "Parsing docs 38209 to 38408  . . . .\n",
      "Converting from PubTator to BRAT\n"
     ]
    },
    {
     "name": "stderr",
     "output_type": "stream",
     "text": [
      "Processed 100 documents ...\n",
      "Done, processed 103 documents.\n"
     ]
    }
   ],
   "source": [
    "n=199 #split to chunks\n",
    "st_time = time.time()\n",
    "\n",
    "for i in xrange(0,len(docs2retrieve), n):\n",
    "    \n",
    "    print 'Parsing docs %i to %i  . . . .'%(i+1,i+n+1)\n",
    "    \n",
    "    pmids = ','.join(docs2retrieve[i:i+n])\n",
    "    \n",
    "    all_pmids\n",
    "#     print pmids\n",
    "    \n",
    "    # Calculate how much time to wait (avoid reaching pubmed API limits ~ 3 requests/sec )\n",
    "    time_elapsed = time.time() - st_time\n",
    "    if time_elapsed<0.34:\n",
    "        time.sleep(0.34 - time_elapsed)\n",
    "    \n",
    "    url_Submit = \"https://www.ncbi.nlm.nih.gov/CBBresearch/Lu/Demo/RESTful/tmTool.cgi/%s/%s/%s/\"%(bioconcept,pmids,format)\n",
    "    urllib.urlretrieve(url_Submit, api_output_loc)\n",
    "    \n",
    "    st_time = time.time() #refresh time\n",
    "\n",
    "    print 'Converting from PubTator to BRAT'\n",
    "    convertpubtator.convert(api_output_loc, convertpubtator.write_standoff, options = options)"
   ]
  },
  {
   "cell_type": "code",
   "execution_count": null,
   "metadata": {},
   "outputs": [],
   "source": []
  },
  {
   "cell_type": "code",
   "execution_count": null,
   "metadata": {},
   "outputs": [],
   "source": []
  }
 ],
 "metadata": {
  "kernelspec": {
   "display_name": "Python [conda env:snorkel27clone]",
   "language": "python",
   "name": "conda-env-snorkel27clone-py"
  },
  "language_info": {
   "codemirror_mode": {
    "name": "ipython",
    "version": 2
   },
   "file_extension": ".py",
   "mimetype": "text/x-python",
   "name": "python",
   "nbconvert_exporter": "python",
   "pygments_lexer": "ipython2",
   "version": "2.7.15"
  }
 },
 "nbformat": 4,
 "nbformat_minor": 2
}
