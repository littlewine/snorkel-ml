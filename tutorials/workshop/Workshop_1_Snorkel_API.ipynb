{
 "cells": [
  {
   "cell_type": "markdown",
   "metadata": {
    "collapsed": true,
    "deletable": true,
    "editable": true
   },
   "source": [
    "<img align=\"left\" src=\"imgs/logo.jpg\" width=\"50px\" style=\"margin-right:10px\">\n",
    "# Snorkel Workshop \n",
    "## Part 1: Snorkel API\n",
    "\n",
    "Complete Snorkel API documentation is available via [Read the Docs](http://snorkel.readthedocs.io/en/master/)\n",
    "\n",
    "However, we provide several detailed examples below that are useful when you are using Snorkel for the first time. "
   ]
  },
  {
   "cell_type": "code",
   "execution_count": 1,
   "metadata": {
    "collapsed": false,
    "deletable": true,
    "editable": true
   },
   "outputs": [],
   "source": [
    "%load_ext autoreload\n",
    "%autoreload 2\n",
    "%matplotlib inline\n",
    "from lib.init import *\n",
    "from lib.util import check_exercise_1, check_exercise_2"
   ]
  },
  {
   "cell_type": "markdown",
   "metadata": {
    "deletable": true,
    "editable": true
   },
   "source": [
    "# I. Candidates and Contexts\n",
    "----\n",
    "<img src=\"imgs/candidate.jpg\" width=\"300px\">\n",
    "`Candidate` objects represent potential mentions found in text and are a core abstraction used in Snorkel. `Candidate(s)` are defined over 1 or more `Context` objects, which are typically some unit of text like words in a sentence. All Snorkel applications require a custom Candidate class definition. \n",
    "\n",
    "## A. Example Definitions\n",
    "\n",
    "<img src=\"imgs/spouse.jpg\" width=\"300px\">\n",
    "\n",
    "In our tutorial, we define a `Spouse` relation as consisting of 2 `Span(s)` (i.e., sequences of words or characters) representing the mentions of 2 people that married. Defining a new `Candidate` class requires providing a name for the class (`Spouse`) and its `Span` arguments (`person1` and `person2`). The syntax for defining this relation is below:"
   ]
  },
  {
   "cell_type": "code",
   "execution_count": 2,
   "metadata": {
    "collapsed": false,
    "deletable": true,
    "editable": true
   },
   "outputs": [],
   "source": [
    "Spouse = candidate_subclass('Spouse', ['person1', 'person2'])"
   ]
  },
  {
   "cell_type": "markdown",
   "metadata": {
    "deletable": true,
    "editable": true
   },
   "source": [
    "<img src=\"imgs/person.jpg\" width=\"175px;\">\n",
    "\n",
    "Alternatively, if we just want `Person` entities, we can define a `Candidate` that contains only 1 `Span` representing a person’s name. Note how we only provide a list containing 1 argument now. \n",
    "\n",
    "### Exercise 1\n",
    "---\n",
    "In the cell below, define a new `Person` class containing on 1 `Span` argument with name `person`. Check your answer using the `check_exercise_1` function."
   ]
  },
  {
   "cell_type": "code",
   "execution_count": 3,
   "metadata": {
    "collapsed": false,
    "deletable": true,
    "editable": true
   },
   "outputs": [
    {
     "name": "stdout",
     "output_type": "stream",
     "text": [
      "Sorry, try again!\n"
     ]
    }
   ],
   "source": [
    "# Define your Snorkel Person candidate type here\n",
    "\n",
    "\n",
    "# check your type def (we use Spouse to show a wrong answer!)\n",
    "check_exercise_1(Spouse)"
   ]
  },
  {
   "cell_type": "markdown",
   "metadata": {
    "deletable": true,
    "editable": true
   },
   "source": [
    "### B. Candidates in Context\n",
    "<img src=\"imgs/sentence.jpg\" width=\"700px;\">\n",
    "\n",
    "By default, Snorkel candidates are defined over `Span` objects within a `Sentence` context.  `Span(s)` correspond to conceptual categories in text like people or disease names. In the above example, our candidate represents the possible `Spouse` mention `(Barrack Obama, Michelle Obama)`. As readers, we know this mention is true due to external knowledge and the keyword of `wedding` occuring later in the sentence.\n",
    "\n",
    "### C. Context Hierarchy \n",
    "<img src=\"imgs/context-hierarchy.jpg\" width=\"300px;\">\n",
    "\n",
    "All `Context(s)` are hierarchical in Snorkel. The default objects provided by Snorkel are show above. "
   ]
  },
  {
   "cell_type": "markdown",
   "metadata": {
    "collapsed": true,
    "deletable": true,
    "editable": true
   },
   "source": [
    "## II. Loading  `Candidate(s)` \n",
    "\n",
    "### A. `Candidate` Member Functions and Variables\n",
    "\n",
    "You will interact with candidates while writing labeling functions in Snorkel. The definition of the `Spouse` and `Span` classes is outlined below;\n",
    "\n",
    "```\n",
    "class Spouse(Candidate)\n",
    " Attributes:\n",
    "    person1 (Span): relation argument\n",
    "    person2 (Span): relation argument\n",
    "\n",
    "class Span(Context)\n",
    " Methods:\n",
    "    get_attrib_tokens(a=\"words\"): return all tokens of the provided type a\n",
    "    get_parent(): return parent Context\n",
    "\n",
    "```\n",
    "\n",
    "For the following examples, we'll look at the first candidate in our `cands` list. First we'll show the candidate in its parent sentence.\n",
    "\n",
    "### B. Querying Candiates from the  Database\n",
    "Once you've defined candidates as shown above, you need to do some preprocessing to load \n",
    "your documents, extract candidates, and then load everything into a database. This is a time consuming process, so we've pre-generated a database snapshot for you. Refer to our preprocessing tutorial <a href=\"Workshop_5_Advanced_Preprocessing.ipynb\">Workshop 5 Advanced Preprocessing</a> for specific information on how this is done.\n",
    "\n",
    "We assume that our Candidates have already been extracted and partitioned into `train`, `dev`, and `test` sets. For now, we will just load our `train` set candidates.\n",
    "\n",
    "This query returns a list of candidate objects."
   ]
  },
  {
   "cell_type": "code",
   "execution_count": 4,
   "metadata": {
    "collapsed": false,
    "deletable": true,
    "editable": true
   },
   "outputs": [],
   "source": [
    "cands = session.query(Candidate).filter(Candidate.split == 0).all()"
   ]
  },
  {
   "cell_type": "markdown",
   "metadata": {
    "collapsed": true,
    "deletable": true,
    "editable": true
   },
   "source": [
    "### Exercise 2\n",
    "---\n",
    "Find the candidate at index 222 in the `candidates` list initalized above. Check your answer using the `check_exercise_2` function."
   ]
  },
  {
   "cell_type": "code",
   "execution_count": 29,
   "metadata": {
    "collapsed": false,
    "deletable": true,
    "editable": true
   },
   "outputs": [],
   "source": [
    "# check_exercise_2( YOUR CANDIDATE HERE )"
   ]
  },
  {
   "cell_type": "markdown",
   "metadata": {
    "deletable": true,
    "editable": true
   },
   "source": [
    "# III. Advanced Reference Materials\n",
    "\n",
    "### A. Accessing Parent `Context(s)`\n",
    "\n",
    "Candidates live within Context objects. If we want to access the Context hierarchy, we can do so as follows:"
   ]
  },
  {
   "cell_type": "code",
   "execution_count": null,
   "metadata": {
    "collapsed": false,
    "deletable": true,
    "editable": true
   },
   "outputs": [],
   "source": [
    "# we can access Span(s) as named member variables\n",
    "print cands[0].person1\n",
    "print cands[0].person2\n",
    "\n",
    "# the raw word tokens for the person1 Span\n",
    "print cands[0].person1.get_attrib_tokens(\"words\")\n",
    "\n",
    "# part of speech tags\n",
    "print cands[0].person1.get_attrib_tokens(\"pos_tags\")\n",
    "\n",
    "# named entity recognition tags\n",
    "print cands[0].person1.get_attrib_tokens(\"ner_tags\")"
   ]
  },
  {
   "cell_type": "code",
   "execution_count": null,
   "metadata": {
    "collapsed": false,
    "deletable": true,
    "editable": true
   },
   "outputs": [],
   "source": [
    "sentence = cands[0].get_parent()\n",
    "document = sentence.get_parent()"
   ]
  },
  {
   "cell_type": "markdown",
   "metadata": {
    "deletable": true,
    "editable": true
   },
   "source": [
    "### B. Labeling Function Helpers\n",
    "\n",
    "When writing labeling functions, there are several operators you will use over and over again; fetching text between span arguments, examing word windows around spans, etc. \n",
    "\n",
    "Snorkel provides several core helper functions \n",
    "These are python helper functions that you can apply to candidates to return objects that are helpful during LF development.\n",
    "\n",
    "You can (and should!) write your own helper functions to help write LFs."
   ]
  },
  {
   "cell_type": "code",
   "execution_count": null,
   "metadata": {
    "collapsed": true,
    "deletable": true,
    "editable": true
   },
   "outputs": [],
   "source": [
    "import re\n",
    "from snorkel.lf_helpers import (\n",
    "    get_left_tokens, get_right_tokens, get_between_tokens,\n",
    "    get_text_between, get_tagged_text,\n",
    ")"
   ]
  },
  {
   "cell_type": "code",
   "execution_count": null,
   "metadata": {
    "collapsed": false,
    "deletable": true,
    "editable": true
   },
   "outputs": [],
   "source": [
    "print \"Candidate LEFT tokens:   \\t\", list(get_left_tokens(cands[0],window=2))\n",
    "print \"Candidate RIGHT tokens:  \\t\", list(get_right_tokens(cands[0],window=2))\n",
    "print \"Candidate BETWEEN tokens:\\t\", get_text_between(cands[0])"
   ]
  },
  {
   "cell_type": "markdown",
   "metadata": {
    "collapsed": true,
    "deletable": true,
    "editable": true
   },
   "source": [
    "## VI. Cheat Sheet\n",
    "----\n",
    "Jupyter notebooks provide a build in docstring display operator for functions. Just prepend `?` to any function name as shown below.\n",
    "\n",
    "    ?get_left_tokens\n",
    "\n",
    "For class member functions, don't forget to include the class name\n",
    "\n",
    "    ?Span.get_attrib_tokens"
   ]
  },
  {
   "cell_type": "markdown",
   "metadata": {
    "deletable": true,
    "editable": true
   },
   "source": [
    "<img src=\"https://media.readthedocs.com/corporate/img/header-logo.png\" width=\"200px;\">\n",
    "\n",
    "Complete Snorkel API documentation on [Read the Docs](http://snorkel.readthedocs.io/en/master/)\n",
    "\n",
    "###  `Candidate` Helper Functions\n",
    "\n",
    "Helper functions operate on a `Candidate` class instance, `c`.\n",
    "  \n",
    "`get_left_tokens(c, window=3, attrib='words', n_max=1, case_sensitive=False)\n",
    "get_right_tokens(c, window=3, attrib='words', n_max=1, case_sensitive=False)\n",
    "get_between_tokens(c, attrib='words', n_max=1, case_sensitive=False)\n",
    "get_text_between(c)\n",
    "get_tagged_text(c)`\n",
    "\n",
    "A full list of helper functions is available at\n",
    "http://snorkel.readthedocs.io/en/master/etc.html#module-snorkel.lf_helpers\n",
    "\n",
    "### `Candidate` Member Functions\n",
    "\n",
    "Give a `Candidate` class instance\n",
    "\n",
    "`.get_attrib_tokens(a='words')\n",
    ".get_word_start()\n",
    ".get_word_end()`\n",
    "\n",
    "\n",
    "### `Sentence` Attributes\n",
    "\n",
    "| Variable Name   | Description                          |\n",
    "|-------------|------------------------------------------|\n",
    "| `words`   | Text Tokens                              |\n",
    "| `lemmas`  | Lemma, \"a base word and its inflections\" |\n",
    "| `pos_tags` | Part-of-speech Tags                     |\n",
    "| `ner_tags` | Named Entity Tags                     |\n",
    "| `dep_parents` |  Dependency Tree Heads            |\n",
    "| `dep_labels` |  Dependency Tree Tags            |  \n",
    "| `char_offsets` |  Character Offsets          |\n",
    "| `abs_char_offsets` |  Absolute (document) Character Offsets |\n",
    "\n",
    "\n",
    "### Computing Labeling Function Metrics\n",
    "\n",
    "`snorkel.lf_helpers.test_LF`"
   ]
  },
  {
   "cell_type": "code",
   "execution_count": null,
   "metadata": {
    "collapsed": true,
    "deletable": true,
    "editable": true
   },
   "outputs": [],
   "source": [
    "–"
   ]
  }
 ],
 "metadata": {
  "kernelspec": {
   "display_name": "Python 2",
   "language": "python",
   "name": "python2"
  },
  "language_info": {
   "codemirror_mode": {
    "name": "ipython",
    "version": 2
   },
   "file_extension": ".py",
   "mimetype": "text/x-python",
   "name": "python",
   "nbconvert_exporter": "python",
   "pygments_lexer": "ipython2",
   "version": "2.7.13"
  }
 },
 "nbformat": 4,
 "nbformat_minor": 2
}
